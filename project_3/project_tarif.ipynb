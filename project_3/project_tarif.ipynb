{
 "cells": [
  {
   "cell_type": "markdown",
   "metadata": {},
   "source": [
    "# Изучение данных из файла"
   ]
  },
  {
   "cell_type": "code",
   "execution_count": 1,
   "metadata": {},
   "outputs": [],
   "source": [
    "import pandas as pd\n",
    "import numpy as np\n",
    "import matplotlib.pyplot as plt\n",
    "from scipy import stats as st"
   ]
  },
  {
   "cell_type": "code",
   "execution_count": 2,
   "metadata": {},
   "outputs": [
    {
     "name": "stdout",
     "output_type": "stream",
     "text": [
      "<class 'pandas.core.frame.DataFrame'>\n",
      "RangeIndex: 202607 entries, 0 to 202606\n",
      "Data columns (total 4 columns):\n",
      "id           202607 non-null object\n",
      "call_date    202607 non-null object\n",
      "duration     202607 non-null float64\n",
      "user_id      202607 non-null int64\n",
      "dtypes: float64(1), int64(1), object(2)\n",
      "memory usage: 6.2+ MB\n"
     ]
    }
   ],
   "source": [
    "data_calls = pd.read_csv('/datasets/calls.csv')\n",
    "data_calls.info()"
   ]
  },
  {
   "cell_type": "code",
   "execution_count": 3,
   "metadata": {},
   "outputs": [
    {
     "data": {
      "text/plain": [
       "id           0\n",
       "call_date    0\n",
       "duration     0\n",
       "user_id      0\n",
       "dtype: int64"
      ]
     },
     "execution_count": 3,
     "metadata": {},
     "output_type": "execute_result"
    }
   ],
   "source": [
    "data_calls.isna().sum()"
   ]
  },
  {
   "cell_type": "code",
   "execution_count": 4,
   "metadata": {},
   "outputs": [
    {
     "data": {
      "text/html": [
       "<div>\n",
       "<style scoped>\n",
       "    .dataframe tbody tr th:only-of-type {\n",
       "        vertical-align: middle;\n",
       "    }\n",
       "\n",
       "    .dataframe tbody tr th {\n",
       "        vertical-align: top;\n",
       "    }\n",
       "\n",
       "    .dataframe thead th {\n",
       "        text-align: right;\n",
       "    }\n",
       "</style>\n",
       "<table border=\"1\" class=\"dataframe\">\n",
       "  <thead>\n",
       "    <tr style=\"text-align: right;\">\n",
       "      <th></th>\n",
       "      <th>duration</th>\n",
       "      <th>user_id</th>\n",
       "    </tr>\n",
       "  </thead>\n",
       "  <tbody>\n",
       "    <tr>\n",
       "      <td>count</td>\n",
       "      <td>202607.000000</td>\n",
       "      <td>202607.000000</td>\n",
       "    </tr>\n",
       "    <tr>\n",
       "      <td>mean</td>\n",
       "      <td>6.755887</td>\n",
       "      <td>1253.940619</td>\n",
       "    </tr>\n",
       "    <tr>\n",
       "      <td>std</td>\n",
       "      <td>5.843365</td>\n",
       "      <td>144.722751</td>\n",
       "    </tr>\n",
       "    <tr>\n",
       "      <td>min</td>\n",
       "      <td>0.000000</td>\n",
       "      <td>1000.000000</td>\n",
       "    </tr>\n",
       "    <tr>\n",
       "      <td>25%</td>\n",
       "      <td>1.300000</td>\n",
       "      <td>1126.000000</td>\n",
       "    </tr>\n",
       "    <tr>\n",
       "      <td>50%</td>\n",
       "      <td>6.000000</td>\n",
       "      <td>1260.000000</td>\n",
       "    </tr>\n",
       "    <tr>\n",
       "      <td>75%</td>\n",
       "      <td>10.700000</td>\n",
       "      <td>1379.000000</td>\n",
       "    </tr>\n",
       "    <tr>\n",
       "      <td>max</td>\n",
       "      <td>38.000000</td>\n",
       "      <td>1499.000000</td>\n",
       "    </tr>\n",
       "  </tbody>\n",
       "</table>\n",
       "</div>"
      ],
      "text/plain": [
       "            duration        user_id\n",
       "count  202607.000000  202607.000000\n",
       "mean        6.755887    1253.940619\n",
       "std         5.843365     144.722751\n",
       "min         0.000000    1000.000000\n",
       "25%         1.300000    1126.000000\n",
       "50%         6.000000    1260.000000\n",
       "75%        10.700000    1379.000000\n",
       "max        38.000000    1499.000000"
      ]
     },
     "execution_count": 4,
     "metadata": {},
     "output_type": "execute_result"
    }
   ],
   "source": [
    "data_calls.describe()"
   ]
  },
  {
   "cell_type": "code",
   "execution_count": 5,
   "metadata": {},
   "outputs": [
    {
     "name": "stdout",
     "output_type": "stream",
     "text": [
      "<class 'pandas.core.frame.DataFrame'>\n",
      "RangeIndex: 149396 entries, 0 to 149395\n",
      "Data columns (total 5 columns):\n",
      "Unnamed: 0      149396 non-null int64\n",
      "id              149396 non-null object\n",
      "mb_used         149396 non-null float64\n",
      "session_date    149396 non-null object\n",
      "user_id         149396 non-null int64\n",
      "dtypes: float64(1), int64(2), object(2)\n",
      "memory usage: 5.7+ MB\n"
     ]
    }
   ],
   "source": [
    "data_internet = pd.read_csv('/datasets/internet.csv')\n",
    "data_internet.info()"
   ]
  },
  {
   "cell_type": "code",
   "execution_count": 6,
   "metadata": {},
   "outputs": [
    {
     "data": {
      "text/plain": [
       "Unnamed: 0      0\n",
       "id              0\n",
       "mb_used         0\n",
       "session_date    0\n",
       "user_id         0\n",
       "dtype: int64"
      ]
     },
     "execution_count": 6,
     "metadata": {},
     "output_type": "execute_result"
    }
   ],
   "source": [
    "data_internet.isna().sum()"
   ]
  },
  {
   "cell_type": "code",
   "execution_count": 7,
   "metadata": {},
   "outputs": [
    {
     "data": {
      "text/html": [
       "<div>\n",
       "<style scoped>\n",
       "    .dataframe tbody tr th:only-of-type {\n",
       "        vertical-align: middle;\n",
       "    }\n",
       "\n",
       "    .dataframe tbody tr th {\n",
       "        vertical-align: top;\n",
       "    }\n",
       "\n",
       "    .dataframe thead th {\n",
       "        text-align: right;\n",
       "    }\n",
       "</style>\n",
       "<table border=\"1\" class=\"dataframe\">\n",
       "  <thead>\n",
       "    <tr style=\"text-align: right;\">\n",
       "      <th></th>\n",
       "      <th>Unnamed: 0</th>\n",
       "      <th>mb_used</th>\n",
       "      <th>user_id</th>\n",
       "    </tr>\n",
       "  </thead>\n",
       "  <tbody>\n",
       "    <tr>\n",
       "      <td>count</td>\n",
       "      <td>149396.000000</td>\n",
       "      <td>149396.000000</td>\n",
       "      <td>149396.000000</td>\n",
       "    </tr>\n",
       "    <tr>\n",
       "      <td>mean</td>\n",
       "      <td>74697.500000</td>\n",
       "      <td>370.192426</td>\n",
       "      <td>1252.099842</td>\n",
       "    </tr>\n",
       "    <tr>\n",
       "      <td>std</td>\n",
       "      <td>43127.054745</td>\n",
       "      <td>278.300951</td>\n",
       "      <td>144.050823</td>\n",
       "    </tr>\n",
       "    <tr>\n",
       "      <td>min</td>\n",
       "      <td>0.000000</td>\n",
       "      <td>0.000000</td>\n",
       "      <td>1000.000000</td>\n",
       "    </tr>\n",
       "    <tr>\n",
       "      <td>25%</td>\n",
       "      <td>37348.750000</td>\n",
       "      <td>138.187500</td>\n",
       "      <td>1130.000000</td>\n",
       "    </tr>\n",
       "    <tr>\n",
       "      <td>50%</td>\n",
       "      <td>74697.500000</td>\n",
       "      <td>348.015000</td>\n",
       "      <td>1251.000000</td>\n",
       "    </tr>\n",
       "    <tr>\n",
       "      <td>75%</td>\n",
       "      <td>112046.250000</td>\n",
       "      <td>559.552500</td>\n",
       "      <td>1380.000000</td>\n",
       "    </tr>\n",
       "    <tr>\n",
       "      <td>max</td>\n",
       "      <td>149395.000000</td>\n",
       "      <td>1724.830000</td>\n",
       "      <td>1499.000000</td>\n",
       "    </tr>\n",
       "  </tbody>\n",
       "</table>\n",
       "</div>"
      ],
      "text/plain": [
       "          Unnamed: 0        mb_used        user_id\n",
       "count  149396.000000  149396.000000  149396.000000\n",
       "mean    74697.500000     370.192426    1252.099842\n",
       "std     43127.054745     278.300951     144.050823\n",
       "min         0.000000       0.000000    1000.000000\n",
       "25%     37348.750000     138.187500    1130.000000\n",
       "50%     74697.500000     348.015000    1251.000000\n",
       "75%    112046.250000     559.552500    1380.000000\n",
       "max    149395.000000    1724.830000    1499.000000"
      ]
     },
     "execution_count": 7,
     "metadata": {},
     "output_type": "execute_result"
    }
   ],
   "source": [
    "data_internet.describe()"
   ]
  },
  {
   "cell_type": "code",
   "execution_count": 8,
   "metadata": {},
   "outputs": [
    {
     "name": "stdout",
     "output_type": "stream",
     "text": [
      "<class 'pandas.core.frame.DataFrame'>\n",
      "RangeIndex: 123036 entries, 0 to 123035\n",
      "Data columns (total 3 columns):\n",
      "id              123036 non-null object\n",
      "message_date    123036 non-null object\n",
      "user_id         123036 non-null int64\n",
      "dtypes: int64(1), object(2)\n",
      "memory usage: 2.8+ MB\n"
     ]
    }
   ],
   "source": [
    "data_messages = pd.read_csv('/datasets/messages.csv')\n",
    "data_messages.info()"
   ]
  },
  {
   "cell_type": "code",
   "execution_count": 9,
   "metadata": {},
   "outputs": [
    {
     "data": {
      "text/plain": [
       "id              0\n",
       "message_date    0\n",
       "user_id         0\n",
       "dtype: int64"
      ]
     },
     "execution_count": 9,
     "metadata": {},
     "output_type": "execute_result"
    }
   ],
   "source": [
    "data_messages.isna().sum()"
   ]
  },
  {
   "cell_type": "code",
   "execution_count": 10,
   "metadata": {},
   "outputs": [
    {
     "data": {
      "text/html": [
       "<div>\n",
       "<style scoped>\n",
       "    .dataframe tbody tr th:only-of-type {\n",
       "        vertical-align: middle;\n",
       "    }\n",
       "\n",
       "    .dataframe tbody tr th {\n",
       "        vertical-align: top;\n",
       "    }\n",
       "\n",
       "    .dataframe thead th {\n",
       "        text-align: right;\n",
       "    }\n",
       "</style>\n",
       "<table border=\"1\" class=\"dataframe\">\n",
       "  <thead>\n",
       "    <tr style=\"text-align: right;\">\n",
       "      <th></th>\n",
       "      <th>user_id</th>\n",
       "    </tr>\n",
       "  </thead>\n",
       "  <tbody>\n",
       "    <tr>\n",
       "      <td>count</td>\n",
       "      <td>123036.000000</td>\n",
       "    </tr>\n",
       "    <tr>\n",
       "      <td>mean</td>\n",
       "      <td>1256.989410</td>\n",
       "    </tr>\n",
       "    <tr>\n",
       "      <td>std</td>\n",
       "      <td>143.523967</td>\n",
       "    </tr>\n",
       "    <tr>\n",
       "      <td>min</td>\n",
       "      <td>1000.000000</td>\n",
       "    </tr>\n",
       "    <tr>\n",
       "      <td>25%</td>\n",
       "      <td>1134.000000</td>\n",
       "    </tr>\n",
       "    <tr>\n",
       "      <td>50%</td>\n",
       "      <td>1271.000000</td>\n",
       "    </tr>\n",
       "    <tr>\n",
       "      <td>75%</td>\n",
       "      <td>1381.000000</td>\n",
       "    </tr>\n",
       "    <tr>\n",
       "      <td>max</td>\n",
       "      <td>1499.000000</td>\n",
       "    </tr>\n",
       "  </tbody>\n",
       "</table>\n",
       "</div>"
      ],
      "text/plain": [
       "             user_id\n",
       "count  123036.000000\n",
       "mean     1256.989410\n",
       "std       143.523967\n",
       "min      1000.000000\n",
       "25%      1134.000000\n",
       "50%      1271.000000\n",
       "75%      1381.000000\n",
       "max      1499.000000"
      ]
     },
     "execution_count": 10,
     "metadata": {},
     "output_type": "execute_result"
    }
   ],
   "source": [
    "data_messages.describe()"
   ]
  },
  {
   "cell_type": "code",
   "execution_count": 11,
   "metadata": {},
   "outputs": [
    {
     "name": "stdout",
     "output_type": "stream",
     "text": [
      "<class 'pandas.core.frame.DataFrame'>\n",
      "RangeIndex: 2 entries, 0 to 1\n",
      "Data columns (total 8 columns):\n",
      "messages_included        2 non-null int64\n",
      "mb_per_month_included    2 non-null int64\n",
      "minutes_included         2 non-null int64\n",
      "rub_monthly_fee          2 non-null int64\n",
      "rub_per_gb               2 non-null int64\n",
      "rub_per_message          2 non-null int64\n",
      "rub_per_minute           2 non-null int64\n",
      "tariff_name              2 non-null object\n",
      "dtypes: int64(7), object(1)\n",
      "memory usage: 256.0+ bytes\n"
     ]
    }
   ],
   "source": [
    "data_tariffs = pd.read_csv('/datasets/tariffs.csv')\n",
    "data_tariffs.info()"
   ]
  },
  {
   "cell_type": "code",
   "execution_count": 12,
   "metadata": {},
   "outputs": [
    {
     "data": {
      "text/plain": [
       "messages_included        0\n",
       "mb_per_month_included    0\n",
       "minutes_included         0\n",
       "rub_monthly_fee          0\n",
       "rub_per_gb               0\n",
       "rub_per_message          0\n",
       "rub_per_minute           0\n",
       "tariff_name              0\n",
       "dtype: int64"
      ]
     },
     "execution_count": 12,
     "metadata": {},
     "output_type": "execute_result"
    }
   ],
   "source": [
    "data_tariffs.isna().sum()"
   ]
  },
  {
   "cell_type": "code",
   "execution_count": 13,
   "metadata": {},
   "outputs": [
    {
     "data": {
      "text/html": [
       "<div>\n",
       "<style scoped>\n",
       "    .dataframe tbody tr th:only-of-type {\n",
       "        vertical-align: middle;\n",
       "    }\n",
       "\n",
       "    .dataframe tbody tr th {\n",
       "        vertical-align: top;\n",
       "    }\n",
       "\n",
       "    .dataframe thead th {\n",
       "        text-align: right;\n",
       "    }\n",
       "</style>\n",
       "<table border=\"1\" class=\"dataframe\">\n",
       "  <thead>\n",
       "    <tr style=\"text-align: right;\">\n",
       "      <th></th>\n",
       "      <th>messages_included</th>\n",
       "      <th>mb_per_month_included</th>\n",
       "      <th>minutes_included</th>\n",
       "      <th>rub_monthly_fee</th>\n",
       "      <th>rub_per_gb</th>\n",
       "      <th>rub_per_message</th>\n",
       "      <th>rub_per_minute</th>\n",
       "    </tr>\n",
       "  </thead>\n",
       "  <tbody>\n",
       "    <tr>\n",
       "      <td>count</td>\n",
       "      <td>2.000000</td>\n",
       "      <td>2.000000</td>\n",
       "      <td>2.000000</td>\n",
       "      <td>2.000000</td>\n",
       "      <td>2.000000</td>\n",
       "      <td>2.000000</td>\n",
       "      <td>2.000000</td>\n",
       "    </tr>\n",
       "    <tr>\n",
       "      <td>mean</td>\n",
       "      <td>525.000000</td>\n",
       "      <td>23040.000000</td>\n",
       "      <td>1750.000000</td>\n",
       "      <td>1250.000000</td>\n",
       "      <td>175.000000</td>\n",
       "      <td>2.000000</td>\n",
       "      <td>2.000000</td>\n",
       "    </tr>\n",
       "    <tr>\n",
       "      <td>std</td>\n",
       "      <td>671.751442</td>\n",
       "      <td>10861.160159</td>\n",
       "      <td>1767.766953</td>\n",
       "      <td>989.949494</td>\n",
       "      <td>35.355339</td>\n",
       "      <td>1.414214</td>\n",
       "      <td>1.414214</td>\n",
       "    </tr>\n",
       "    <tr>\n",
       "      <td>min</td>\n",
       "      <td>50.000000</td>\n",
       "      <td>15360.000000</td>\n",
       "      <td>500.000000</td>\n",
       "      <td>550.000000</td>\n",
       "      <td>150.000000</td>\n",
       "      <td>1.000000</td>\n",
       "      <td>1.000000</td>\n",
       "    </tr>\n",
       "    <tr>\n",
       "      <td>25%</td>\n",
       "      <td>287.500000</td>\n",
       "      <td>19200.000000</td>\n",
       "      <td>1125.000000</td>\n",
       "      <td>900.000000</td>\n",
       "      <td>162.500000</td>\n",
       "      <td>1.500000</td>\n",
       "      <td>1.500000</td>\n",
       "    </tr>\n",
       "    <tr>\n",
       "      <td>50%</td>\n",
       "      <td>525.000000</td>\n",
       "      <td>23040.000000</td>\n",
       "      <td>1750.000000</td>\n",
       "      <td>1250.000000</td>\n",
       "      <td>175.000000</td>\n",
       "      <td>2.000000</td>\n",
       "      <td>2.000000</td>\n",
       "    </tr>\n",
       "    <tr>\n",
       "      <td>75%</td>\n",
       "      <td>762.500000</td>\n",
       "      <td>26880.000000</td>\n",
       "      <td>2375.000000</td>\n",
       "      <td>1600.000000</td>\n",
       "      <td>187.500000</td>\n",
       "      <td>2.500000</td>\n",
       "      <td>2.500000</td>\n",
       "    </tr>\n",
       "    <tr>\n",
       "      <td>max</td>\n",
       "      <td>1000.000000</td>\n",
       "      <td>30720.000000</td>\n",
       "      <td>3000.000000</td>\n",
       "      <td>1950.000000</td>\n",
       "      <td>200.000000</td>\n",
       "      <td>3.000000</td>\n",
       "      <td>3.000000</td>\n",
       "    </tr>\n",
       "  </tbody>\n",
       "</table>\n",
       "</div>"
      ],
      "text/plain": [
       "       messages_included  mb_per_month_included  minutes_included  \\\n",
       "count           2.000000               2.000000          2.000000   \n",
       "mean          525.000000           23040.000000       1750.000000   \n",
       "std           671.751442           10861.160159       1767.766953   \n",
       "min            50.000000           15360.000000        500.000000   \n",
       "25%           287.500000           19200.000000       1125.000000   \n",
       "50%           525.000000           23040.000000       1750.000000   \n",
       "75%           762.500000           26880.000000       2375.000000   \n",
       "max          1000.000000           30720.000000       3000.000000   \n",
       "\n",
       "       rub_monthly_fee  rub_per_gb  rub_per_message  rub_per_minute  \n",
       "count         2.000000    2.000000         2.000000        2.000000  \n",
       "mean       1250.000000  175.000000         2.000000        2.000000  \n",
       "std         989.949494   35.355339         1.414214        1.414214  \n",
       "min         550.000000  150.000000         1.000000        1.000000  \n",
       "25%         900.000000  162.500000         1.500000        1.500000  \n",
       "50%        1250.000000  175.000000         2.000000        2.000000  \n",
       "75%        1600.000000  187.500000         2.500000        2.500000  \n",
       "max        1950.000000  200.000000         3.000000        3.000000  "
      ]
     },
     "execution_count": 13,
     "metadata": {},
     "output_type": "execute_result"
    }
   ],
   "source": [
    "data_tariffs.describe()"
   ]
  },
  {
   "cell_type": "code",
   "execution_count": 14,
   "metadata": {},
   "outputs": [
    {
     "name": "stdout",
     "output_type": "stream",
     "text": [
      "<class 'pandas.core.frame.DataFrame'>\n",
      "RangeIndex: 500 entries, 0 to 499\n",
      "Data columns (total 8 columns):\n",
      "user_id       500 non-null int64\n",
      "age           500 non-null int64\n",
      "churn_date    38 non-null object\n",
      "city          500 non-null object\n",
      "first_name    500 non-null object\n",
      "last_name     500 non-null object\n",
      "reg_date      500 non-null object\n",
      "tariff        500 non-null object\n",
      "dtypes: int64(2), object(6)\n",
      "memory usage: 31.4+ KB\n"
     ]
    }
   ],
   "source": [
    "data_users = pd.read_csv('/datasets/users.csv')\n",
    "data_users.info()"
   ]
  },
  {
   "cell_type": "code",
   "execution_count": 15,
   "metadata": {},
   "outputs": [
    {
     "data": {
      "text/plain": [
       "user_id         0\n",
       "age             0\n",
       "churn_date    462\n",
       "city            0\n",
       "first_name      0\n",
       "last_name       0\n",
       "reg_date        0\n",
       "tariff          0\n",
       "dtype: int64"
      ]
     },
     "execution_count": 15,
     "metadata": {},
     "output_type": "execute_result"
    }
   ],
   "source": [
    "data_users.isna().sum()"
   ]
  },
  {
   "cell_type": "code",
   "execution_count": 16,
   "metadata": {},
   "outputs": [
    {
     "data": {
      "text/html": [
       "<div>\n",
       "<style scoped>\n",
       "    .dataframe tbody tr th:only-of-type {\n",
       "        vertical-align: middle;\n",
       "    }\n",
       "\n",
       "    .dataframe tbody tr th {\n",
       "        vertical-align: top;\n",
       "    }\n",
       "\n",
       "    .dataframe thead th {\n",
       "        text-align: right;\n",
       "    }\n",
       "</style>\n",
       "<table border=\"1\" class=\"dataframe\">\n",
       "  <thead>\n",
       "    <tr style=\"text-align: right;\">\n",
       "      <th></th>\n",
       "      <th>user_id</th>\n",
       "      <th>age</th>\n",
       "    </tr>\n",
       "  </thead>\n",
       "  <tbody>\n",
       "    <tr>\n",
       "      <td>count</td>\n",
       "      <td>500.000000</td>\n",
       "      <td>500.00000</td>\n",
       "    </tr>\n",
       "    <tr>\n",
       "      <td>mean</td>\n",
       "      <td>1249.500000</td>\n",
       "      <td>46.58800</td>\n",
       "    </tr>\n",
       "    <tr>\n",
       "      <td>std</td>\n",
       "      <td>144.481833</td>\n",
       "      <td>16.66763</td>\n",
       "    </tr>\n",
       "    <tr>\n",
       "      <td>min</td>\n",
       "      <td>1000.000000</td>\n",
       "      <td>18.00000</td>\n",
       "    </tr>\n",
       "    <tr>\n",
       "      <td>25%</td>\n",
       "      <td>1124.750000</td>\n",
       "      <td>32.00000</td>\n",
       "    </tr>\n",
       "    <tr>\n",
       "      <td>50%</td>\n",
       "      <td>1249.500000</td>\n",
       "      <td>46.00000</td>\n",
       "    </tr>\n",
       "    <tr>\n",
       "      <td>75%</td>\n",
       "      <td>1374.250000</td>\n",
       "      <td>62.00000</td>\n",
       "    </tr>\n",
       "    <tr>\n",
       "      <td>max</td>\n",
       "      <td>1499.000000</td>\n",
       "      <td>75.00000</td>\n",
       "    </tr>\n",
       "  </tbody>\n",
       "</table>\n",
       "</div>"
      ],
      "text/plain": [
       "           user_id        age\n",
       "count   500.000000  500.00000\n",
       "mean   1249.500000   46.58800\n",
       "std     144.481833   16.66763\n",
       "min    1000.000000   18.00000\n",
       "25%    1124.750000   32.00000\n",
       "50%    1249.500000   46.00000\n",
       "75%    1374.250000   62.00000\n",
       "max    1499.000000   75.00000"
      ]
     },
     "execution_count": 16,
     "metadata": {},
     "output_type": "execute_result"
    }
   ],
   "source": [
    "data_users.describe()"
   ]
  },
  {
   "cell_type": "markdown",
   "metadata": {},
   "source": [
    "# Предобработка данных"
   ]
  },
  {
   "cell_type": "markdown",
   "metadata": {},
   "source": [
    "Начнем с таблицы \"calls\":"
   ]
  },
  {
   "cell_type": "code",
   "execution_count": 17,
   "metadata": {},
   "outputs": [
    {
     "data": {
      "text/html": [
       "<div>\n",
       "<style scoped>\n",
       "    .dataframe tbody tr th:only-of-type {\n",
       "        vertical-align: middle;\n",
       "    }\n",
       "\n",
       "    .dataframe tbody tr th {\n",
       "        vertical-align: top;\n",
       "    }\n",
       "\n",
       "    .dataframe thead th {\n",
       "        text-align: right;\n",
       "    }\n",
       "</style>\n",
       "<table border=\"1\" class=\"dataframe\">\n",
       "  <thead>\n",
       "    <tr style=\"text-align: right;\">\n",
       "      <th></th>\n",
       "      <th>user_id</th>\n",
       "      <th>month</th>\n",
       "      <th>tariff</th>\n",
       "      <th>duration</th>\n",
       "      <th>minutes_included</th>\n",
       "      <th>rub_per_minute</th>\n",
       "      <th>revenue_calls</th>\n",
       "    </tr>\n",
       "  </thead>\n",
       "  <tbody>\n",
       "    <tr>\n",
       "      <td>0</td>\n",
       "      <td>1000</td>\n",
       "      <td>5</td>\n",
       "      <td>ultra</td>\n",
       "      <td>159</td>\n",
       "      <td>3000</td>\n",
       "      <td>1</td>\n",
       "      <td>0</td>\n",
       "    </tr>\n",
       "    <tr>\n",
       "      <td>1</td>\n",
       "      <td>1000</td>\n",
       "      <td>6</td>\n",
       "      <td>ultra</td>\n",
       "      <td>172</td>\n",
       "      <td>3000</td>\n",
       "      <td>1</td>\n",
       "      <td>0</td>\n",
       "    </tr>\n",
       "    <tr>\n",
       "      <td>2</td>\n",
       "      <td>1000</td>\n",
       "      <td>7</td>\n",
       "      <td>ultra</td>\n",
       "      <td>340</td>\n",
       "      <td>3000</td>\n",
       "      <td>1</td>\n",
       "      <td>0</td>\n",
       "    </tr>\n",
       "    <tr>\n",
       "      <td>3</td>\n",
       "      <td>1000</td>\n",
       "      <td>8</td>\n",
       "      <td>ultra</td>\n",
       "      <td>408</td>\n",
       "      <td>3000</td>\n",
       "      <td>1</td>\n",
       "      <td>0</td>\n",
       "    </tr>\n",
       "    <tr>\n",
       "      <td>4</td>\n",
       "      <td>1000</td>\n",
       "      <td>9</td>\n",
       "      <td>ultra</td>\n",
       "      <td>466</td>\n",
       "      <td>3000</td>\n",
       "      <td>1</td>\n",
       "      <td>0</td>\n",
       "    </tr>\n",
       "    <tr>\n",
       "      <td>...</td>\n",
       "      <td>...</td>\n",
       "      <td>...</td>\n",
       "      <td>...</td>\n",
       "      <td>...</td>\n",
       "      <td>...</td>\n",
       "      <td>...</td>\n",
       "      <td>...</td>\n",
       "    </tr>\n",
       "    <tr>\n",
       "      <td>3169</td>\n",
       "      <td>1498</td>\n",
       "      <td>10</td>\n",
       "      <td>smart</td>\n",
       "      <td>247</td>\n",
       "      <td>500</td>\n",
       "      <td>3</td>\n",
       "      <td>0</td>\n",
       "    </tr>\n",
       "    <tr>\n",
       "      <td>3170</td>\n",
       "      <td>1499</td>\n",
       "      <td>9</td>\n",
       "      <td>smart</td>\n",
       "      <td>70</td>\n",
       "      <td>500</td>\n",
       "      <td>3</td>\n",
       "      <td>0</td>\n",
       "    </tr>\n",
       "    <tr>\n",
       "      <td>3171</td>\n",
       "      <td>1499</td>\n",
       "      <td>10</td>\n",
       "      <td>smart</td>\n",
       "      <td>449</td>\n",
       "      <td>500</td>\n",
       "      <td>3</td>\n",
       "      <td>0</td>\n",
       "    </tr>\n",
       "    <tr>\n",
       "      <td>3172</td>\n",
       "      <td>1499</td>\n",
       "      <td>11</td>\n",
       "      <td>smart</td>\n",
       "      <td>612</td>\n",
       "      <td>500</td>\n",
       "      <td>3</td>\n",
       "      <td>336</td>\n",
       "    </tr>\n",
       "    <tr>\n",
       "      <td>3173</td>\n",
       "      <td>1499</td>\n",
       "      <td>12</td>\n",
       "      <td>smart</td>\n",
       "      <td>492</td>\n",
       "      <td>500</td>\n",
       "      <td>3</td>\n",
       "      <td>0</td>\n",
       "    </tr>\n",
       "  </tbody>\n",
       "</table>\n",
       "<p>3174 rows × 7 columns</p>\n",
       "</div>"
      ],
      "text/plain": [
       "      user_id  month tariff  duration  minutes_included  rub_per_minute  \\\n",
       "0        1000      5  ultra       159              3000               1   \n",
       "1        1000      6  ultra       172              3000               1   \n",
       "2        1000      7  ultra       340              3000               1   \n",
       "3        1000      8  ultra       408              3000               1   \n",
       "4        1000      9  ultra       466              3000               1   \n",
       "...       ...    ...    ...       ...               ...             ...   \n",
       "3169     1498     10  smart       247               500               3   \n",
       "3170     1499      9  smart        70               500               3   \n",
       "3171     1499     10  smart       449               500               3   \n",
       "3172     1499     11  smart       612               500               3   \n",
       "3173     1499     12  smart       492               500               3   \n",
       "\n",
       "      revenue_calls  \n",
       "0                 0  \n",
       "1                 0  \n",
       "2                 0  \n",
       "3                 0  \n",
       "4                 0  \n",
       "...             ...  \n",
       "3169              0  \n",
       "3170              0  \n",
       "3171              0  \n",
       "3172            336  \n",
       "3173              0  \n",
       "\n",
       "[3174 rows x 7 columns]"
      ]
     },
     "execution_count": 17,
     "metadata": {},
     "output_type": "execute_result"
    }
   ],
   "source": [
    "data_calls['call_date'] = pd.to_datetime(data_calls['call_date'], format='%Y-%m-%d')\n",
    "data_calls['month'] = pd.DatetimeIndex(data_calls['call_date']).month\n",
    "\n",
    "data_calls['duration'] = np.ceil(data_calls['duration']).astype('int')\n",
    "data_calls['user_id'] = data_calls['user_id'].astype('object')\n",
    "\n",
    "data_tariffs_calls = data_tariffs[['tariff_name', 'minutes_included', 'rub_per_minute']]\n",
    "data_tariffs_calls = data_tariffs_calls.rename(columns={'tariff_name': 'tariff'})\n",
    "\n",
    "data_calls_users_merge = data_calls.merge(data_users, on='user_id')\n",
    "data_calls_users_merge = data_calls_users_merge[['user_id', 'month', 'tariff', 'duration']]\n",
    "data_calls_group = data_calls_users_merge.groupby(['user_id', 'month', 'tariff'], as_index=False).sum()\n",
    "\n",
    "data_calls_group = data_calls_group.merge(data_tariffs_calls, on='tariff')\n",
    "\n",
    "def revenue(include, rub_per, duration):\n",
    "    remainder = duration - include\n",
    "    if remainder <= 0:\n",
    "        return 0\n",
    "    return remainder * rub_per\n",
    "\n",
    "data_calls_group['revenue_calls'] = data_calls_group.apply(lambda x: revenue(x['minutes_included'], x['rub_per_minute'], x['duration']), axis=1)\n",
    "data_calls_group"
   ]
  },
  {
   "cell_type": "markdown",
   "metadata": {},
   "source": [
    "В данной таблице изменили типы данных столбцов 'call_date' на \"datetime\", 'duration' на \"int\" плюс окргулили в большую сторону и 'user_id' на \"object\".\n",
    "Взяли датафрейм data_tariffs и нужные из него нам столбцы, затем в данном датафрейме переименовали столбец с названиями тарифов в tariff для дальнейшего удобства.\n",
    "Далее совместили два датафрейма data_calls и data_users по столбцу 'user_id', затем составили датафрейм из нужных нам столбцов далее сгруппировали и посчитали сумму длительности звонков в минутах. Затем совместили два датафрейма data_calls_group и data_tariffs_calls по столбцу 'tariff'.\n",
    "Для того, чтобы посчитать выручку от количества звонков помесячно в минутах объявили функцию, в ней вычли бесплатный лимит из суммарного количества звонков, а остаток умножили на значение из тарифного плана. К новому датафрейму добавили новый столбец 'revenue_calls' и затем методом apply() передали в функцию наши столбцы 'minutes_included', 'rub_per_minute','duration'. Функцию написали общую для дальнейших действий с другими датасетами."
   ]
  },
  {
   "cell_type": "markdown",
   "metadata": {},
   "source": [
    "Далее работаем с таблицей \"internet\":"
   ]
  },
  {
   "cell_type": "code",
   "execution_count": 18,
   "metadata": {
    "scrolled": false
   },
   "outputs": [
    {
     "name": "stderr",
     "output_type": "stream",
     "text": [
      "/opt/conda/lib/python3.7/site-packages/ipykernel_launcher.py:9: SettingWithCopyWarning: \n",
      "A value is trying to be set on a copy of a slice from a DataFrame.\n",
      "Try using .loc[row_indexer,col_indexer] = value instead\n",
      "\n",
      "See the caveats in the documentation: http://pandas.pydata.org/pandas-docs/stable/user_guide/indexing.html#returning-a-view-versus-a-copy\n",
      "  if __name__ == '__main__':\n"
     ]
    },
    {
     "data": {
      "text/html": [
       "<div>\n",
       "<style scoped>\n",
       "    .dataframe tbody tr th:only-of-type {\n",
       "        vertical-align: middle;\n",
       "    }\n",
       "\n",
       "    .dataframe tbody tr th {\n",
       "        vertical-align: top;\n",
       "    }\n",
       "\n",
       "    .dataframe thead th {\n",
       "        text-align: right;\n",
       "    }\n",
       "</style>\n",
       "<table border=\"1\" class=\"dataframe\">\n",
       "  <thead>\n",
       "    <tr style=\"text-align: right;\">\n",
       "      <th></th>\n",
       "      <th>user_id</th>\n",
       "      <th>month</th>\n",
       "      <th>tariff</th>\n",
       "      <th>mb_used</th>\n",
       "      <th>mb_per_month_included</th>\n",
       "      <th>difference</th>\n",
       "      <th>rub_per_gb</th>\n",
       "      <th>revenue_internet</th>\n",
       "    </tr>\n",
       "  </thead>\n",
       "  <tbody>\n",
       "    <tr>\n",
       "      <td>0</td>\n",
       "      <td>1000</td>\n",
       "      <td>5</td>\n",
       "      <td>ultra</td>\n",
       "      <td>2256</td>\n",
       "      <td>30720</td>\n",
       "      <td>-27</td>\n",
       "      <td>150</td>\n",
       "      <td>0</td>\n",
       "    </tr>\n",
       "    <tr>\n",
       "      <td>1</td>\n",
       "      <td>1000</td>\n",
       "      <td>6</td>\n",
       "      <td>ultra</td>\n",
       "      <td>23257</td>\n",
       "      <td>30720</td>\n",
       "      <td>-7</td>\n",
       "      <td>150</td>\n",
       "      <td>0</td>\n",
       "    </tr>\n",
       "    <tr>\n",
       "      <td>2</td>\n",
       "      <td>1000</td>\n",
       "      <td>7</td>\n",
       "      <td>ultra</td>\n",
       "      <td>14016</td>\n",
       "      <td>30720</td>\n",
       "      <td>-16</td>\n",
       "      <td>150</td>\n",
       "      <td>0</td>\n",
       "    </tr>\n",
       "    <tr>\n",
       "      <td>3</td>\n",
       "      <td>1000</td>\n",
       "      <td>8</td>\n",
       "      <td>ultra</td>\n",
       "      <td>14070</td>\n",
       "      <td>30720</td>\n",
       "      <td>-16</td>\n",
       "      <td>150</td>\n",
       "      <td>0</td>\n",
       "    </tr>\n",
       "    <tr>\n",
       "      <td>4</td>\n",
       "      <td>1000</td>\n",
       "      <td>9</td>\n",
       "      <td>ultra</td>\n",
       "      <td>14581</td>\n",
       "      <td>30720</td>\n",
       "      <td>-15</td>\n",
       "      <td>150</td>\n",
       "      <td>0</td>\n",
       "    </tr>\n",
       "    <tr>\n",
       "      <td>...</td>\n",
       "      <td>...</td>\n",
       "      <td>...</td>\n",
       "      <td>...</td>\n",
       "      <td>...</td>\n",
       "      <td>...</td>\n",
       "      <td>...</td>\n",
       "      <td>...</td>\n",
       "      <td>...</td>\n",
       "    </tr>\n",
       "    <tr>\n",
       "      <td>3198</td>\n",
       "      <td>1498</td>\n",
       "      <td>10</td>\n",
       "      <td>smart</td>\n",
       "      <td>20604</td>\n",
       "      <td>15360</td>\n",
       "      <td>6</td>\n",
       "      <td>200</td>\n",
       "      <td>1200</td>\n",
       "    </tr>\n",
       "    <tr>\n",
       "      <td>3199</td>\n",
       "      <td>1499</td>\n",
       "      <td>9</td>\n",
       "      <td>smart</td>\n",
       "      <td>1848</td>\n",
       "      <td>15360</td>\n",
       "      <td>-13</td>\n",
       "      <td>200</td>\n",
       "      <td>0</td>\n",
       "    </tr>\n",
       "    <tr>\n",
       "      <td>3200</td>\n",
       "      <td>1499</td>\n",
       "      <td>10</td>\n",
       "      <td>smart</td>\n",
       "      <td>17809</td>\n",
       "      <td>15360</td>\n",
       "      <td>3</td>\n",
       "      <td>200</td>\n",
       "      <td>600</td>\n",
       "    </tr>\n",
       "    <tr>\n",
       "      <td>3201</td>\n",
       "      <td>1499</td>\n",
       "      <td>11</td>\n",
       "      <td>smart</td>\n",
       "      <td>17984</td>\n",
       "      <td>15360</td>\n",
       "      <td>3</td>\n",
       "      <td>200</td>\n",
       "      <td>600</td>\n",
       "    </tr>\n",
       "    <tr>\n",
       "      <td>3202</td>\n",
       "      <td>1499</td>\n",
       "      <td>12</td>\n",
       "      <td>smart</td>\n",
       "      <td>13077</td>\n",
       "      <td>15360</td>\n",
       "      <td>-2</td>\n",
       "      <td>200</td>\n",
       "      <td>0</td>\n",
       "    </tr>\n",
       "  </tbody>\n",
       "</table>\n",
       "<p>3203 rows × 8 columns</p>\n",
       "</div>"
      ],
      "text/plain": [
       "      user_id  month tariff  mb_used  mb_per_month_included  difference  \\\n",
       "0        1000      5  ultra     2256                  30720         -27   \n",
       "1        1000      6  ultra    23257                  30720          -7   \n",
       "2        1000      7  ultra    14016                  30720         -16   \n",
       "3        1000      8  ultra    14070                  30720         -16   \n",
       "4        1000      9  ultra    14581                  30720         -15   \n",
       "...       ...    ...    ...      ...                    ...         ...   \n",
       "3198     1498     10  smart    20604                  15360           6   \n",
       "3199     1499      9  smart     1848                  15360         -13   \n",
       "3200     1499     10  smart    17809                  15360           3   \n",
       "3201     1499     11  smart    17984                  15360           3   \n",
       "3202     1499     12  smart    13077                  15360          -2   \n",
       "\n",
       "      rub_per_gb  revenue_internet  \n",
       "0            150                 0  \n",
       "1            150                 0  \n",
       "2            150                 0  \n",
       "3            150                 0  \n",
       "4            150                 0  \n",
       "...          ...               ...  \n",
       "3198         200              1200  \n",
       "3199         200                 0  \n",
       "3200         200               600  \n",
       "3201         200               600  \n",
       "3202         200                 0  \n",
       "\n",
       "[3203 rows x 8 columns]"
      ]
     },
     "execution_count": 18,
     "metadata": {},
     "output_type": "execute_result"
    }
   ],
   "source": [
    "data_internet['session_date'] = pd.to_datetime(data_internet['session_date'], format='%Y-%m-%d')\n",
    "data_internet['month'] = pd.DatetimeIndex(data_internet['session_date']).month\n",
    "\n",
    "data_internet['user_id'] = data_internet['user_id'].astype('object')\n",
    "#data_internet = data_internet.drop(['Unnamed: 0'], axis=1)\n",
    "\n",
    "data_internet['mb_used'] = np.ceil(data_internet['mb_used']).astype('int')\n",
    "data_tariffs_internet = data_tariffs[['tariff_name', 'mb_per_month_included', 'rub_per_gb']]\n",
    "data_tariffs_internet['mb_per_month_included'] = np.ceil(data_tariffs_internet['mb_per_month_included']).astype('int')\n",
    "data_tariffs_internet = data_tariffs_internet.rename(columns={'tariff_name': 'tariff'})\n",
    "\n",
    "data_internet_users_merge = data_internet.merge(data_users, on='user_id')\n",
    "data_internet_users_merge = data_internet_users_merge[['user_id', 'month', 'tariff', 'mb_used']]\n",
    "data_internet_group = data_internet_users_merge.groupby(['user_id', 'month', 'tariff'], as_index=False).sum() \n",
    "\n",
    "data_internet_group = data_internet_group.merge(data_tariffs_internet, on='tariff')\n",
    "\n",
    "data_internet_group['difference'] = data_internet_group['mb_used'] - data_internet_group['mb_per_month_included']\n",
    "data_internet_group['difference'] = data_internet_group['difference'] / 1024\n",
    "data_internet_group['difference'] = np.ceil(data_internet_group['difference']).astype('int')\n",
    "data_internet_group = data_internet_group.reindex(columns=['user_id', 'month', 'tariff', 'mb_used', 'mb_per_month_included', 'difference', 'rub_per_gb'])\n",
    "\n",
    "def revenue_internet(difference, rub_per_gb):\n",
    "    if difference <= 0:\n",
    "        return 0\n",
    "    return difference * rub_per_gb\n",
    "\n",
    "data_internet_group['revenue_internet'] = data_internet_group.apply(lambda x: revenue_internet(x['difference'], x['rub_per_gb']), axis=1)\n",
    "\n",
    "data_internet_group"
   ]
  },
  {
   "cell_type": "markdown",
   "metadata": {},
   "source": [
    "В данной таблице изменили типы данных столбцов 'session_date' на \"datetime\", 'user_id' на \"object\" и удалили столбец 'Unnamed: 0', которого нет в таблице, но при вызове метода info() он появился в списке столбцов, после проверки я поняла, что это просто столбец с нумерацией, он нам не пригодится, поэтому удалила его (в конечном итоге решила закомментировать так как выдавала эта строчка ошибку).\n",
    "\n",
    "Далее совместили два датафрейма data_internet и data_users по столбцу 'user_id', затем составили датафрейм из нужных нам столбцов далее сгруппировали и посчитали объем израсходованного интернет-трафика.\n",
    "Затем совместили два датафрейма data_internet_group и data_tariffs_internet по столбцу 'tariff'.\n",
    "К новому датафрейму добавили новый столбец 'revenue_internet' и затем методом apply() передали в функцию столбцы 'difference', 'rub_per_gb'."
   ]
  },
  {
   "cell_type": "markdown",
   "metadata": {},
   "source": [
    "Далее будем работать с таблицей \"messages\":"
   ]
  },
  {
   "cell_type": "code",
   "execution_count": 19,
   "metadata": {},
   "outputs": [
    {
     "data": {
      "text/html": [
       "<div>\n",
       "<style scoped>\n",
       "    .dataframe tbody tr th:only-of-type {\n",
       "        vertical-align: middle;\n",
       "    }\n",
       "\n",
       "    .dataframe tbody tr th {\n",
       "        vertical-align: top;\n",
       "    }\n",
       "\n",
       "    .dataframe thead th {\n",
       "        text-align: right;\n",
       "    }\n",
       "</style>\n",
       "<table border=\"1\" class=\"dataframe\">\n",
       "  <thead>\n",
       "    <tr style=\"text-align: right;\">\n",
       "      <th></th>\n",
       "      <th>user_id</th>\n",
       "      <th>month</th>\n",
       "      <th>tariff</th>\n",
       "      <th>id</th>\n",
       "      <th>messages_included</th>\n",
       "      <th>rub_per_message</th>\n",
       "      <th>revenue_messages</th>\n",
       "    </tr>\n",
       "  </thead>\n",
       "  <tbody>\n",
       "    <tr>\n",
       "      <td>0</td>\n",
       "      <td>1000</td>\n",
       "      <td>5</td>\n",
       "      <td>ultra</td>\n",
       "      <td>22</td>\n",
       "      <td>1000</td>\n",
       "      <td>1</td>\n",
       "      <td>0</td>\n",
       "    </tr>\n",
       "    <tr>\n",
       "      <td>1</td>\n",
       "      <td>1000</td>\n",
       "      <td>6</td>\n",
       "      <td>ultra</td>\n",
       "      <td>60</td>\n",
       "      <td>1000</td>\n",
       "      <td>1</td>\n",
       "      <td>0</td>\n",
       "    </tr>\n",
       "    <tr>\n",
       "      <td>2</td>\n",
       "      <td>1000</td>\n",
       "      <td>7</td>\n",
       "      <td>ultra</td>\n",
       "      <td>75</td>\n",
       "      <td>1000</td>\n",
       "      <td>1</td>\n",
       "      <td>0</td>\n",
       "    </tr>\n",
       "    <tr>\n",
       "      <td>3</td>\n",
       "      <td>1000</td>\n",
       "      <td>8</td>\n",
       "      <td>ultra</td>\n",
       "      <td>81</td>\n",
       "      <td>1000</td>\n",
       "      <td>1</td>\n",
       "      <td>0</td>\n",
       "    </tr>\n",
       "    <tr>\n",
       "      <td>4</td>\n",
       "      <td>1000</td>\n",
       "      <td>9</td>\n",
       "      <td>ultra</td>\n",
       "      <td>57</td>\n",
       "      <td>1000</td>\n",
       "      <td>1</td>\n",
       "      <td>0</td>\n",
       "    </tr>\n",
       "    <tr>\n",
       "      <td>...</td>\n",
       "      <td>...</td>\n",
       "      <td>...</td>\n",
       "      <td>...</td>\n",
       "      <td>...</td>\n",
       "      <td>...</td>\n",
       "      <td>...</td>\n",
       "      <td>...</td>\n",
       "    </tr>\n",
       "    <tr>\n",
       "      <td>2712</td>\n",
       "      <td>1498</td>\n",
       "      <td>10</td>\n",
       "      <td>smart</td>\n",
       "      <td>42</td>\n",
       "      <td>50</td>\n",
       "      <td>3</td>\n",
       "      <td>0</td>\n",
       "    </tr>\n",
       "    <tr>\n",
       "      <td>2713</td>\n",
       "      <td>1499</td>\n",
       "      <td>9</td>\n",
       "      <td>smart</td>\n",
       "      <td>11</td>\n",
       "      <td>50</td>\n",
       "      <td>3</td>\n",
       "      <td>0</td>\n",
       "    </tr>\n",
       "    <tr>\n",
       "      <td>2714</td>\n",
       "      <td>1499</td>\n",
       "      <td>10</td>\n",
       "      <td>smart</td>\n",
       "      <td>48</td>\n",
       "      <td>50</td>\n",
       "      <td>3</td>\n",
       "      <td>0</td>\n",
       "    </tr>\n",
       "    <tr>\n",
       "      <td>2715</td>\n",
       "      <td>1499</td>\n",
       "      <td>11</td>\n",
       "      <td>smart</td>\n",
       "      <td>59</td>\n",
       "      <td>50</td>\n",
       "      <td>3</td>\n",
       "      <td>27</td>\n",
       "    </tr>\n",
       "    <tr>\n",
       "      <td>2716</td>\n",
       "      <td>1499</td>\n",
       "      <td>12</td>\n",
       "      <td>smart</td>\n",
       "      <td>66</td>\n",
       "      <td>50</td>\n",
       "      <td>3</td>\n",
       "      <td>48</td>\n",
       "    </tr>\n",
       "  </tbody>\n",
       "</table>\n",
       "<p>2717 rows × 7 columns</p>\n",
       "</div>"
      ],
      "text/plain": [
       "      user_id  month tariff  id  messages_included  rub_per_message  \\\n",
       "0        1000      5  ultra  22               1000                1   \n",
       "1        1000      6  ultra  60               1000                1   \n",
       "2        1000      7  ultra  75               1000                1   \n",
       "3        1000      8  ultra  81               1000                1   \n",
       "4        1000      9  ultra  57               1000                1   \n",
       "...       ...    ...    ...  ..                ...              ...   \n",
       "2712     1498     10  smart  42                 50                3   \n",
       "2713     1499      9  smart  11                 50                3   \n",
       "2714     1499     10  smart  48                 50                3   \n",
       "2715     1499     11  smart  59                 50                3   \n",
       "2716     1499     12  smart  66                 50                3   \n",
       "\n",
       "      revenue_messages  \n",
       "0                    0  \n",
       "1                    0  \n",
       "2                    0  \n",
       "3                    0  \n",
       "4                    0  \n",
       "...                ...  \n",
       "2712                 0  \n",
       "2713                 0  \n",
       "2714                 0  \n",
       "2715                27  \n",
       "2716                48  \n",
       "\n",
       "[2717 rows x 7 columns]"
      ]
     },
     "execution_count": 19,
     "metadata": {},
     "output_type": "execute_result"
    }
   ],
   "source": [
    "data_messages['message_date'] = pd.to_datetime(data_messages['message_date'], format='%Y-%m-%d')\n",
    "data_messages['month'] = pd.DatetimeIndex(data_messages['message_date']).month\n",
    "\n",
    "data_messages['user_id'] = data_messages['user_id'].astype('object')\n",
    "\n",
    "data_tariffs_messages = data_tariffs[['tariff_name', 'messages_included', 'rub_per_message']]\n",
    "data_tariffs_messages = data_tariffs_messages.rename(columns={'tariff_name': 'tariff'})\n",
    "\n",
    "data_messages_users_merge = data_messages.merge(data_users, on='user_id')\n",
    "data_messages_users_merge = data_messages_users_merge[['user_id', 'month', 'tariff', 'id']]\n",
    "data_messages_group = data_messages_users_merge.groupby(['user_id', 'month', 'tariff'], as_index=False).count()\n",
    "\n",
    "data_messages_group = data_messages_group.merge(data_tariffs_messages, on='tariff')\n",
    "\n",
    "data_messages_group['revenue_messages'] = data_messages_group.apply(lambda x: revenue(x['messages_included'], x['rub_per_message'], x['id']), axis=1)\n",
    "data_messages_group"
   ]
  },
  {
   "cell_type": "markdown",
   "metadata": {},
   "source": [
    "В данной таблице изменили типы данных столбцов 'message_date' на \"datetime\" и 'user_id' на \"object\".\n",
    "Далее совместили два датафрейма data_messages и data_users по столбцу 'user_id', затем составили датафрейм из нужных нам столбцов далее сгруппировали и посчитали количество отправленных сообщений.\n",
    "Затем совместили два датафрейма data_messages_group и data_tariffs_messages по столбцу 'tariff'.\n",
    "К новому датафрейму добавили новый столбец 'revenue_internet' и затем методом apply() передали в функцию наши столбцы 'messages_included', 'rub_per_message', 'id'."
   ]
  },
  {
   "cell_type": "markdown",
   "metadata": {},
   "source": [
    "Следующую берем таблицу \"tariffs\", просмотрев таблицу, выявила, что изменения не нужны."
   ]
  },
  {
   "cell_type": "markdown",
   "metadata": {},
   "source": [
    "Рассмотрим таблицу \"users\":"
   ]
  },
  {
   "cell_type": "code",
   "execution_count": 20,
   "metadata": {},
   "outputs": [
    {
     "data": {
      "text/plain": [
       "array(['Краснодар', 'Москва', 'Стерлитамак', 'Новокузнецк',\n",
       "       'Набережные Челны', 'Ульяновск', 'Челябинск', 'Пермь', 'Тюмень',\n",
       "       'Самара', 'Санкт-Петербург', 'Иваново', 'Чебоксары', 'Омск', 'Уфа',\n",
       "       'Томск', 'Чита', 'Мурманск', 'Петрозаводск', 'Тверь',\n",
       "       'Екатеринбург', 'Махачкала', 'Вологда', 'Череповец', 'Ярославль',\n",
       "       'Сочи', 'Хабаровск', 'Ставрополь', 'Рязань', 'Улан-Удэ', 'Тула',\n",
       "       'Саратов', 'Ростов-на-Дону', 'Казань', 'Иркутск', 'Курск',\n",
       "       'Калуга', 'Якутск', 'Астрахань', 'Химки', 'Владикавказ',\n",
       "       'Волгоград', 'Саранск', 'Ижевск', 'Новосибирск', 'Брянск',\n",
       "       'Тольятти', 'Нижний Тагил', 'Орёл', 'Белгород', 'Воронеж',\n",
       "       'Волжский', 'Курган', 'Барнаул', 'Красноярск', 'Архангельск',\n",
       "       'Липецк', 'Кемерово', 'Киров', 'Сургут', 'Пенза', 'Магнитогорск',\n",
       "       'Нижний Новгород', 'Кострома', 'Владивосток', 'Тамбов', 'Балашиха',\n",
       "       'Севастополь', 'Калининград', 'Оренбург', 'Смоленск',\n",
       "       'Нижневартовск', 'Владимир', 'Новороссийск', 'Грозный', 'Подольск'],\n",
       "      dtype=object)"
      ]
     },
     "execution_count": 20,
     "metadata": {},
     "output_type": "execute_result"
    }
   ],
   "source": [
    "data_users['reg_date'] = pd.to_datetime(data_users['reg_date'], format='%Y-%m-%d')\n",
    "data_users['churn_date'] = pd.to_datetime(data_users['churn_date'], format='%Y-%m-%d')\n",
    "\n",
    "data_users['user_id'] = data_users['user_id'].astype('object')\n",
    "\n",
    "data_users['city'].unique()"
   ]
  },
  {
   "cell_type": "markdown",
   "metadata": {},
   "source": [
    "В данной таблице изменили типы данных столбцов 'reg_date' и 'churn_date' на \"datetime\" и 'user_id' на \"object\". Посмотрели уникальные значения в столбце 'city' для того, что в дальнейшем анализе не возникло проблем."
   ]
  },
  {
   "cell_type": "markdown",
   "metadata": {},
   "source": [
    "Посчитаем для каждого пользователя количество сделанных звонков и израсходованных минут разговора по месяцам:"
   ]
  },
  {
   "cell_type": "code",
   "execution_count": 21,
   "metadata": {
    "scrolled": false
   },
   "outputs": [
    {
     "data": {
      "text/html": [
       "<div>\n",
       "<style scoped>\n",
       "    .dataframe tbody tr th:only-of-type {\n",
       "        vertical-align: middle;\n",
       "    }\n",
       "\n",
       "    .dataframe tbody tr th {\n",
       "        vertical-align: top;\n",
       "    }\n",
       "\n",
       "    .dataframe thead tr th {\n",
       "        text-align: left;\n",
       "    }\n",
       "\n",
       "    .dataframe thead tr:last-of-type th {\n",
       "        text-align: right;\n",
       "    }\n",
       "</style>\n",
       "<table border=\"1\" class=\"dataframe\">\n",
       "  <thead>\n",
       "    <tr>\n",
       "      <th></th>\n",
       "      <th colspan=\"10\" halign=\"left\">count</th>\n",
       "      <th>...</th>\n",
       "      <th colspan=\"10\" halign=\"left\">sum</th>\n",
       "    </tr>\n",
       "    <tr>\n",
       "      <th>user_id</th>\n",
       "      <th>1000</th>\n",
       "      <th>1001</th>\n",
       "      <th>1002</th>\n",
       "      <th>1003</th>\n",
       "      <th>1004</th>\n",
       "      <th>1005</th>\n",
       "      <th>1006</th>\n",
       "      <th>1007</th>\n",
       "      <th>1008</th>\n",
       "      <th>1009</th>\n",
       "      <th>...</th>\n",
       "      <th>1490</th>\n",
       "      <th>1491</th>\n",
       "      <th>1492</th>\n",
       "      <th>1493</th>\n",
       "      <th>1494</th>\n",
       "      <th>1495</th>\n",
       "      <th>1496</th>\n",
       "      <th>1497</th>\n",
       "      <th>1498</th>\n",
       "      <th>1499</th>\n",
       "    </tr>\n",
       "    <tr>\n",
       "      <th>month</th>\n",
       "      <th></th>\n",
       "      <th></th>\n",
       "      <th></th>\n",
       "      <th></th>\n",
       "      <th></th>\n",
       "      <th></th>\n",
       "      <th></th>\n",
       "      <th></th>\n",
       "      <th></th>\n",
       "      <th></th>\n",
       "      <th></th>\n",
       "      <th></th>\n",
       "      <th></th>\n",
       "      <th></th>\n",
       "      <th></th>\n",
       "      <th></th>\n",
       "      <th></th>\n",
       "      <th></th>\n",
       "      <th></th>\n",
       "      <th></th>\n",
       "      <th></th>\n",
       "    </tr>\n",
       "  </thead>\n",
       "  <tbody>\n",
       "    <tr>\n",
       "      <td>1</td>\n",
       "      <td>NaN</td>\n",
       "      <td>NaN</td>\n",
       "      <td>NaN</td>\n",
       "      <td>NaN</td>\n",
       "      <td>NaN</td>\n",
       "      <td>15.0</td>\n",
       "      <td>NaN</td>\n",
       "      <td>NaN</td>\n",
       "      <td>NaN</td>\n",
       "      <td>NaN</td>\n",
       "      <td>...</td>\n",
       "      <td>NaN</td>\n",
       "      <td>NaN</td>\n",
       "      <td>NaN</td>\n",
       "      <td>NaN</td>\n",
       "      <td>NaN</td>\n",
       "      <td>NaN</td>\n",
       "      <td>48.0</td>\n",
       "      <td>NaN</td>\n",
       "      <td>NaN</td>\n",
       "      <td>NaN</td>\n",
       "    </tr>\n",
       "    <tr>\n",
       "      <td>2</td>\n",
       "      <td>NaN</td>\n",
       "      <td>NaN</td>\n",
       "      <td>NaN</td>\n",
       "      <td>NaN</td>\n",
       "      <td>NaN</td>\n",
       "      <td>69.0</td>\n",
       "      <td>3.0</td>\n",
       "      <td>NaN</td>\n",
       "      <td>NaN</td>\n",
       "      <td>NaN</td>\n",
       "      <td>...</td>\n",
       "      <td>NaN</td>\n",
       "      <td>NaN</td>\n",
       "      <td>NaN</td>\n",
       "      <td>NaN</td>\n",
       "      <td>NaN</td>\n",
       "      <td>NaN</td>\n",
       "      <td>594.0</td>\n",
       "      <td>NaN</td>\n",
       "      <td>NaN</td>\n",
       "      <td>NaN</td>\n",
       "    </tr>\n",
       "    <tr>\n",
       "      <td>3</td>\n",
       "      <td>NaN</td>\n",
       "      <td>NaN</td>\n",
       "      <td>NaN</td>\n",
       "      <td>NaN</td>\n",
       "      <td>NaN</td>\n",
       "      <td>77.0</td>\n",
       "      <td>46.0</td>\n",
       "      <td>NaN</td>\n",
       "      <td>NaN</td>\n",
       "      <td>13.0</td>\n",
       "      <td>...</td>\n",
       "      <td>NaN</td>\n",
       "      <td>NaN</td>\n",
       "      <td>NaN</td>\n",
       "      <td>NaN</td>\n",
       "      <td>NaN</td>\n",
       "      <td>NaN</td>\n",
       "      <td>557.0</td>\n",
       "      <td>NaN</td>\n",
       "      <td>NaN</td>\n",
       "      <td>NaN</td>\n",
       "    </tr>\n",
       "    <tr>\n",
       "      <td>4</td>\n",
       "      <td>NaN</td>\n",
       "      <td>NaN</td>\n",
       "      <td>NaN</td>\n",
       "      <td>NaN</td>\n",
       "      <td>NaN</td>\n",
       "      <td>101.0</td>\n",
       "      <td>47.0</td>\n",
       "      <td>25.0</td>\n",
       "      <td>NaN</td>\n",
       "      <td>39.0</td>\n",
       "      <td>...</td>\n",
       "      <td>270.0</td>\n",
       "      <td>143.0</td>\n",
       "      <td>NaN</td>\n",
       "      <td>NaN</td>\n",
       "      <td>NaN</td>\n",
       "      <td>NaN</td>\n",
       "      <td>521.0</td>\n",
       "      <td>NaN</td>\n",
       "      <td>NaN</td>\n",
       "      <td>NaN</td>\n",
       "    </tr>\n",
       "    <tr>\n",
       "      <td>5</td>\n",
       "      <td>22.0</td>\n",
       "      <td>NaN</td>\n",
       "      <td>NaN</td>\n",
       "      <td>NaN</td>\n",
       "      <td>9.0</td>\n",
       "      <td>73.0</td>\n",
       "      <td>56.0</td>\n",
       "      <td>67.0</td>\n",
       "      <td>NaN</td>\n",
       "      <td>28.0</td>\n",
       "      <td>...</td>\n",
       "      <td>339.0</td>\n",
       "      <td>530.0</td>\n",
       "      <td>NaN</td>\n",
       "      <td>NaN</td>\n",
       "      <td>NaN</td>\n",
       "      <td>NaN</td>\n",
       "      <td>484.0</td>\n",
       "      <td>NaN</td>\n",
       "      <td>NaN</td>\n",
       "      <td>NaN</td>\n",
       "    </tr>\n",
       "    <tr>\n",
       "      <td>6</td>\n",
       "      <td>43.0</td>\n",
       "      <td>NaN</td>\n",
       "      <td>15.0</td>\n",
       "      <td>NaN</td>\n",
       "      <td>31.0</td>\n",
       "      <td>80.0</td>\n",
       "      <td>53.0</td>\n",
       "      <td>68.0</td>\n",
       "      <td>NaN</td>\n",
       "      <td>31.0</td>\n",
       "      <td>...</td>\n",
       "      <td>330.0</td>\n",
       "      <td>424.0</td>\n",
       "      <td>84.0</td>\n",
       "      <td>NaN</td>\n",
       "      <td>NaN</td>\n",
       "      <td>NaN</td>\n",
       "      <td>555.0</td>\n",
       "      <td>NaN</td>\n",
       "      <td>NaN</td>\n",
       "      <td>NaN</td>\n",
       "    </tr>\n",
       "    <tr>\n",
       "      <td>7</td>\n",
       "      <td>47.0</td>\n",
       "      <td>NaN</td>\n",
       "      <td>26.0</td>\n",
       "      <td>NaN</td>\n",
       "      <td>22.0</td>\n",
       "      <td>77.0</td>\n",
       "      <td>49.0</td>\n",
       "      <td>69.0</td>\n",
       "      <td>NaN</td>\n",
       "      <td>22.0</td>\n",
       "      <td>...</td>\n",
       "      <td>250.0</td>\n",
       "      <td>606.0</td>\n",
       "      <td>517.0</td>\n",
       "      <td>NaN</td>\n",
       "      <td>NaN</td>\n",
       "      <td>NaN</td>\n",
       "      <td>582.0</td>\n",
       "      <td>NaN</td>\n",
       "      <td>175.0</td>\n",
       "      <td>NaN</td>\n",
       "    </tr>\n",
       "    <tr>\n",
       "      <td>8</td>\n",
       "      <td>52.0</td>\n",
       "      <td>NaN</td>\n",
       "      <td>42.0</td>\n",
       "      <td>55.0</td>\n",
       "      <td>19.0</td>\n",
       "      <td>71.0</td>\n",
       "      <td>42.0</td>\n",
       "      <td>74.0</td>\n",
       "      <td>NaN</td>\n",
       "      <td>33.0</td>\n",
       "      <td>...</td>\n",
       "      <td>346.0</td>\n",
       "      <td>611.0</td>\n",
       "      <td>603.0</td>\n",
       "      <td>NaN</td>\n",
       "      <td>262.0</td>\n",
       "      <td>92.0</td>\n",
       "      <td>527.0</td>\n",
       "      <td>NaN</td>\n",
       "      <td>400.0</td>\n",
       "      <td>NaN</td>\n",
       "    </tr>\n",
       "    <tr>\n",
       "      <td>9</td>\n",
       "      <td>58.0</td>\n",
       "      <td>NaN</td>\n",
       "      <td>36.0</td>\n",
       "      <td>134.0</td>\n",
       "      <td>26.0</td>\n",
       "      <td>66.0</td>\n",
       "      <td>54.0</td>\n",
       "      <td>87.0</td>\n",
       "      <td>NaN</td>\n",
       "      <td>25.0</td>\n",
       "      <td>...</td>\n",
       "      <td>322.0</td>\n",
       "      <td>531.0</td>\n",
       "      <td>694.0</td>\n",
       "      <td>NaN</td>\n",
       "      <td>501.0</td>\n",
       "      <td>813.0</td>\n",
       "      <td>486.0</td>\n",
       "      <td>NaN</td>\n",
       "      <td>471.0</td>\n",
       "      <td>70.0</td>\n",
       "    </tr>\n",
       "    <tr>\n",
       "      <td>10</td>\n",
       "      <td>57.0</td>\n",
       "      <td>NaN</td>\n",
       "      <td>33.0</td>\n",
       "      <td>108.0</td>\n",
       "      <td>29.0</td>\n",
       "      <td>100.0</td>\n",
       "      <td>44.0</td>\n",
       "      <td>69.0</td>\n",
       "      <td>NaN</td>\n",
       "      <td>28.0</td>\n",
       "      <td>...</td>\n",
       "      <td>312.0</td>\n",
       "      <td>583.0</td>\n",
       "      <td>619.0</td>\n",
       "      <td>NaN</td>\n",
       "      <td>354.0</td>\n",
       "      <td>1030.0</td>\n",
       "      <td>450.0</td>\n",
       "      <td>490.0</td>\n",
       "      <td>247.0</td>\n",
       "      <td>449.0</td>\n",
       "    </tr>\n",
       "    <tr>\n",
       "      <td>11</td>\n",
       "      <td>43.0</td>\n",
       "      <td>59.0</td>\n",
       "      <td>32.0</td>\n",
       "      <td>115.0</td>\n",
       "      <td>19.0</td>\n",
       "      <td>75.0</td>\n",
       "      <td>62.0</td>\n",
       "      <td>81.0</td>\n",
       "      <td>NaN</td>\n",
       "      <td>39.0</td>\n",
       "      <td>...</td>\n",
       "      <td>282.0</td>\n",
       "      <td>518.0</td>\n",
       "      <td>510.0</td>\n",
       "      <td>173.0</td>\n",
       "      <td>411.0</td>\n",
       "      <td>954.0</td>\n",
       "      <td>662.0</td>\n",
       "      <td>371.0</td>\n",
       "      <td>NaN</td>\n",
       "      <td>612.0</td>\n",
       "    </tr>\n",
       "    <tr>\n",
       "      <td>12</td>\n",
       "      <td>46.0</td>\n",
       "      <td>63.0</td>\n",
       "      <td>33.0</td>\n",
       "      <td>108.0</td>\n",
       "      <td>21.0</td>\n",
       "      <td>84.0</td>\n",
       "      <td>50.0</td>\n",
       "      <td>72.0</td>\n",
       "      <td>52.0</td>\n",
       "      <td>32.0</td>\n",
       "      <td>...</td>\n",
       "      <td>290.0</td>\n",
       "      <td>674.0</td>\n",
       "      <td>781.0</td>\n",
       "      <td>571.0</td>\n",
       "      <td>418.0</td>\n",
       "      <td>1031.0</td>\n",
       "      <td>518.0</td>\n",
       "      <td>545.0</td>\n",
       "      <td>NaN</td>\n",
       "      <td>492.0</td>\n",
       "    </tr>\n",
       "  </tbody>\n",
       "</table>\n",
       "<p>12 rows × 984 columns</p>\n",
       "</div>"
      ],
      "text/plain": [
       "        count                                                          ...  \\\n",
       "user_id  1000  1001  1002   1003  1004   1005  1006  1007  1008  1009  ...   \n",
       "month                                                                  ...   \n",
       "1         NaN   NaN   NaN    NaN   NaN   15.0   NaN   NaN   NaN   NaN  ...   \n",
       "2         NaN   NaN   NaN    NaN   NaN   69.0   3.0   NaN   NaN   NaN  ...   \n",
       "3         NaN   NaN   NaN    NaN   NaN   77.0  46.0   NaN   NaN  13.0  ...   \n",
       "4         NaN   NaN   NaN    NaN   NaN  101.0  47.0  25.0   NaN  39.0  ...   \n",
       "5        22.0   NaN   NaN    NaN   9.0   73.0  56.0  67.0   NaN  28.0  ...   \n",
       "6        43.0   NaN  15.0    NaN  31.0   80.0  53.0  68.0   NaN  31.0  ...   \n",
       "7        47.0   NaN  26.0    NaN  22.0   77.0  49.0  69.0   NaN  22.0  ...   \n",
       "8        52.0   NaN  42.0   55.0  19.0   71.0  42.0  74.0   NaN  33.0  ...   \n",
       "9        58.0   NaN  36.0  134.0  26.0   66.0  54.0  87.0   NaN  25.0  ...   \n",
       "10       57.0   NaN  33.0  108.0  29.0  100.0  44.0  69.0   NaN  28.0  ...   \n",
       "11       43.0  59.0  32.0  115.0  19.0   75.0  62.0  81.0   NaN  39.0  ...   \n",
       "12       46.0  63.0  33.0  108.0  21.0   84.0  50.0  72.0  52.0  32.0  ...   \n",
       "\n",
       "           sum                                                                  \n",
       "user_id   1490   1491   1492   1493   1494    1495   1496   1497   1498   1499  \n",
       "month                                                                           \n",
       "1          NaN    NaN    NaN    NaN    NaN     NaN   48.0    NaN    NaN    NaN  \n",
       "2          NaN    NaN    NaN    NaN    NaN     NaN  594.0    NaN    NaN    NaN  \n",
       "3          NaN    NaN    NaN    NaN    NaN     NaN  557.0    NaN    NaN    NaN  \n",
       "4        270.0  143.0    NaN    NaN    NaN     NaN  521.0    NaN    NaN    NaN  \n",
       "5        339.0  530.0    NaN    NaN    NaN     NaN  484.0    NaN    NaN    NaN  \n",
       "6        330.0  424.0   84.0    NaN    NaN     NaN  555.0    NaN    NaN    NaN  \n",
       "7        250.0  606.0  517.0    NaN    NaN     NaN  582.0    NaN  175.0    NaN  \n",
       "8        346.0  611.0  603.0    NaN  262.0    92.0  527.0    NaN  400.0    NaN  \n",
       "9        322.0  531.0  694.0    NaN  501.0   813.0  486.0    NaN  471.0   70.0  \n",
       "10       312.0  583.0  619.0    NaN  354.0  1030.0  450.0  490.0  247.0  449.0  \n",
       "11       282.0  518.0  510.0  173.0  411.0   954.0  662.0  371.0    NaN  612.0  \n",
       "12       290.0  674.0  781.0  571.0  418.0  1031.0  518.0  545.0    NaN  492.0  \n",
       "\n",
       "[12 rows x 984 columns]"
      ]
     },
     "execution_count": 21,
     "metadata": {},
     "output_type": "execute_result"
    }
   ],
   "source": [
    "data_calls_month = data_calls.pivot_table(index='month', columns='user_id', values='duration', aggfunc=['count', 'sum'])\n",
    "data_calls_month"
   ]
  },
  {
   "cell_type": "markdown",
   "metadata": {},
   "source": [
    "Посчитаем для каждого пользователя количество отправленных сообщений по месяцам:"
   ]
  },
  {
   "cell_type": "code",
   "execution_count": 22,
   "metadata": {},
   "outputs": [
    {
     "data": {
      "text/html": [
       "<div>\n",
       "<style scoped>\n",
       "    .dataframe tbody tr th:only-of-type {\n",
       "        vertical-align: middle;\n",
       "    }\n",
       "\n",
       "    .dataframe tbody tr th {\n",
       "        vertical-align: top;\n",
       "    }\n",
       "\n",
       "    .dataframe thead tr th {\n",
       "        text-align: left;\n",
       "    }\n",
       "\n",
       "    .dataframe thead tr:last-of-type th {\n",
       "        text-align: right;\n",
       "    }\n",
       "</style>\n",
       "<table border=\"1\" class=\"dataframe\">\n",
       "  <thead>\n",
       "    <tr>\n",
       "      <th></th>\n",
       "      <th colspan=\"21\" halign=\"left\">count</th>\n",
       "    </tr>\n",
       "    <tr>\n",
       "      <th>user_id</th>\n",
       "      <th>1000</th>\n",
       "      <th>1002</th>\n",
       "      <th>1003</th>\n",
       "      <th>1004</th>\n",
       "      <th>1005</th>\n",
       "      <th>1007</th>\n",
       "      <th>1008</th>\n",
       "      <th>1009</th>\n",
       "      <th>1011</th>\n",
       "      <th>1012</th>\n",
       "      <th>...</th>\n",
       "      <th>1489</th>\n",
       "      <th>1490</th>\n",
       "      <th>1491</th>\n",
       "      <th>1492</th>\n",
       "      <th>1493</th>\n",
       "      <th>1495</th>\n",
       "      <th>1496</th>\n",
       "      <th>1497</th>\n",
       "      <th>1498</th>\n",
       "      <th>1499</th>\n",
       "    </tr>\n",
       "    <tr>\n",
       "      <th>month</th>\n",
       "      <th></th>\n",
       "      <th></th>\n",
       "      <th></th>\n",
       "      <th></th>\n",
       "      <th></th>\n",
       "      <th></th>\n",
       "      <th></th>\n",
       "      <th></th>\n",
       "      <th></th>\n",
       "      <th></th>\n",
       "      <th></th>\n",
       "      <th></th>\n",
       "      <th></th>\n",
       "      <th></th>\n",
       "      <th></th>\n",
       "      <th></th>\n",
       "      <th></th>\n",
       "      <th></th>\n",
       "      <th></th>\n",
       "      <th></th>\n",
       "      <th></th>\n",
       "    </tr>\n",
       "  </thead>\n",
       "  <tbody>\n",
       "    <tr>\n",
       "      <td>1</td>\n",
       "      <td>NaN</td>\n",
       "      <td>NaN</td>\n",
       "      <td>NaN</td>\n",
       "      <td>NaN</td>\n",
       "      <td>7.0</td>\n",
       "      <td>NaN</td>\n",
       "      <td>NaN</td>\n",
       "      <td>NaN</td>\n",
       "      <td>NaN</td>\n",
       "      <td>NaN</td>\n",
       "      <td>...</td>\n",
       "      <td>NaN</td>\n",
       "      <td>NaN</td>\n",
       "      <td>NaN</td>\n",
       "      <td>NaN</td>\n",
       "      <td>NaN</td>\n",
       "      <td>NaN</td>\n",
       "      <td>9.0</td>\n",
       "      <td>NaN</td>\n",
       "      <td>NaN</td>\n",
       "      <td>NaN</td>\n",
       "    </tr>\n",
       "    <tr>\n",
       "      <td>2</td>\n",
       "      <td>NaN</td>\n",
       "      <td>NaN</td>\n",
       "      <td>NaN</td>\n",
       "      <td>NaN</td>\n",
       "      <td>38.0</td>\n",
       "      <td>NaN</td>\n",
       "      <td>NaN</td>\n",
       "      <td>NaN</td>\n",
       "      <td>NaN</td>\n",
       "      <td>NaN</td>\n",
       "      <td>...</td>\n",
       "      <td>NaN</td>\n",
       "      <td>NaN</td>\n",
       "      <td>NaN</td>\n",
       "      <td>NaN</td>\n",
       "      <td>NaN</td>\n",
       "      <td>NaN</td>\n",
       "      <td>45.0</td>\n",
       "      <td>NaN</td>\n",
       "      <td>NaN</td>\n",
       "      <td>NaN</td>\n",
       "    </tr>\n",
       "    <tr>\n",
       "      <td>3</td>\n",
       "      <td>NaN</td>\n",
       "      <td>NaN</td>\n",
       "      <td>NaN</td>\n",
       "      <td>NaN</td>\n",
       "      <td>56.0</td>\n",
       "      <td>NaN</td>\n",
       "      <td>NaN</td>\n",
       "      <td>2.0</td>\n",
       "      <td>4.0</td>\n",
       "      <td>2.0</td>\n",
       "      <td>...</td>\n",
       "      <td>NaN</td>\n",
       "      <td>NaN</td>\n",
       "      <td>NaN</td>\n",
       "      <td>NaN</td>\n",
       "      <td>NaN</td>\n",
       "      <td>NaN</td>\n",
       "      <td>46.0</td>\n",
       "      <td>NaN</td>\n",
       "      <td>NaN</td>\n",
       "      <td>NaN</td>\n",
       "    </tr>\n",
       "    <tr>\n",
       "      <td>4</td>\n",
       "      <td>NaN</td>\n",
       "      <td>NaN</td>\n",
       "      <td>NaN</td>\n",
       "      <td>NaN</td>\n",
       "      <td>41.0</td>\n",
       "      <td>11.0</td>\n",
       "      <td>NaN</td>\n",
       "      <td>14.0</td>\n",
       "      <td>7.0</td>\n",
       "      <td>21.0</td>\n",
       "      <td>...</td>\n",
       "      <td>NaN</td>\n",
       "      <td>38.0</td>\n",
       "      <td>10.0</td>\n",
       "      <td>NaN</td>\n",
       "      <td>NaN</td>\n",
       "      <td>NaN</td>\n",
       "      <td>49.0</td>\n",
       "      <td>NaN</td>\n",
       "      <td>NaN</td>\n",
       "      <td>NaN</td>\n",
       "    </tr>\n",
       "    <tr>\n",
       "      <td>5</td>\n",
       "      <td>22.0</td>\n",
       "      <td>NaN</td>\n",
       "      <td>NaN</td>\n",
       "      <td>95.0</td>\n",
       "      <td>42.0</td>\n",
       "      <td>39.0</td>\n",
       "      <td>NaN</td>\n",
       "      <td>7.0</td>\n",
       "      <td>13.0</td>\n",
       "      <td>10.0</td>\n",
       "      <td>...</td>\n",
       "      <td>NaN</td>\n",
       "      <td>37.0</td>\n",
       "      <td>55.0</td>\n",
       "      <td>NaN</td>\n",
       "      <td>NaN</td>\n",
       "      <td>NaN</td>\n",
       "      <td>40.0</td>\n",
       "      <td>NaN</td>\n",
       "      <td>NaN</td>\n",
       "      <td>NaN</td>\n",
       "    </tr>\n",
       "    <tr>\n",
       "      <td>6</td>\n",
       "      <td>60.0</td>\n",
       "      <td>4.0</td>\n",
       "      <td>NaN</td>\n",
       "      <td>134.0</td>\n",
       "      <td>47.0</td>\n",
       "      <td>26.0</td>\n",
       "      <td>NaN</td>\n",
       "      <td>14.0</td>\n",
       "      <td>13.0</td>\n",
       "      <td>15.0</td>\n",
       "      <td>...</td>\n",
       "      <td>NaN</td>\n",
       "      <td>50.0</td>\n",
       "      <td>56.0</td>\n",
       "      <td>1.0</td>\n",
       "      <td>NaN</td>\n",
       "      <td>NaN</td>\n",
       "      <td>35.0</td>\n",
       "      <td>NaN</td>\n",
       "      <td>NaN</td>\n",
       "      <td>NaN</td>\n",
       "    </tr>\n",
       "    <tr>\n",
       "      <td>7</td>\n",
       "      <td>75.0</td>\n",
       "      <td>11.0</td>\n",
       "      <td>NaN</td>\n",
       "      <td>181.0</td>\n",
       "      <td>56.0</td>\n",
       "      <td>26.0</td>\n",
       "      <td>NaN</td>\n",
       "      <td>14.0</td>\n",
       "      <td>13.0</td>\n",
       "      <td>12.0</td>\n",
       "      <td>...</td>\n",
       "      <td>NaN</td>\n",
       "      <td>62.0</td>\n",
       "      <td>58.0</td>\n",
       "      <td>19.0</td>\n",
       "      <td>NaN</td>\n",
       "      <td>NaN</td>\n",
       "      <td>42.0</td>\n",
       "      <td>NaN</td>\n",
       "      <td>20.0</td>\n",
       "      <td>NaN</td>\n",
       "    </tr>\n",
       "    <tr>\n",
       "      <td>8</td>\n",
       "      <td>81.0</td>\n",
       "      <td>13.0</td>\n",
       "      <td>37.0</td>\n",
       "      <td>151.0</td>\n",
       "      <td>64.0</td>\n",
       "      <td>27.0</td>\n",
       "      <td>NaN</td>\n",
       "      <td>9.0</td>\n",
       "      <td>15.0</td>\n",
       "      <td>23.0</td>\n",
       "      <td>...</td>\n",
       "      <td>17.0</td>\n",
       "      <td>50.0</td>\n",
       "      <td>49.0</td>\n",
       "      <td>15.0</td>\n",
       "      <td>NaN</td>\n",
       "      <td>13.0</td>\n",
       "      <td>41.0</td>\n",
       "      <td>NaN</td>\n",
       "      <td>62.0</td>\n",
       "      <td>NaN</td>\n",
       "    </tr>\n",
       "    <tr>\n",
       "      <td>9</td>\n",
       "      <td>57.0</td>\n",
       "      <td>4.0</td>\n",
       "      <td>91.0</td>\n",
       "      <td>146.0</td>\n",
       "      <td>52.0</td>\n",
       "      <td>31.0</td>\n",
       "      <td>NaN</td>\n",
       "      <td>12.0</td>\n",
       "      <td>10.0</td>\n",
       "      <td>14.0</td>\n",
       "      <td>...</td>\n",
       "      <td>32.0</td>\n",
       "      <td>48.0</td>\n",
       "      <td>52.0</td>\n",
       "      <td>10.0</td>\n",
       "      <td>NaN</td>\n",
       "      <td>82.0</td>\n",
       "      <td>29.0</td>\n",
       "      <td>NaN</td>\n",
       "      <td>44.0</td>\n",
       "      <td>11.0</td>\n",
       "    </tr>\n",
       "    <tr>\n",
       "      <td>10</td>\n",
       "      <td>73.0</td>\n",
       "      <td>10.0</td>\n",
       "      <td>83.0</td>\n",
       "      <td>165.0</td>\n",
       "      <td>44.0</td>\n",
       "      <td>18.0</td>\n",
       "      <td>NaN</td>\n",
       "      <td>15.0</td>\n",
       "      <td>17.0</td>\n",
       "      <td>13.0</td>\n",
       "      <td>...</td>\n",
       "      <td>21.0</td>\n",
       "      <td>45.0</td>\n",
       "      <td>61.0</td>\n",
       "      <td>21.0</td>\n",
       "      <td>NaN</td>\n",
       "      <td>82.0</td>\n",
       "      <td>35.0</td>\n",
       "      <td>20.0</td>\n",
       "      <td>42.0</td>\n",
       "      <td>48.0</td>\n",
       "    </tr>\n",
       "    <tr>\n",
       "      <td>11</td>\n",
       "      <td>58.0</td>\n",
       "      <td>16.0</td>\n",
       "      <td>94.0</td>\n",
       "      <td>158.0</td>\n",
       "      <td>51.0</td>\n",
       "      <td>21.0</td>\n",
       "      <td>NaN</td>\n",
       "      <td>11.0</td>\n",
       "      <td>12.0</td>\n",
       "      <td>25.0</td>\n",
       "      <td>...</td>\n",
       "      <td>20.0</td>\n",
       "      <td>47.0</td>\n",
       "      <td>40.0</td>\n",
       "      <td>13.0</td>\n",
       "      <td>16.0</td>\n",
       "      <td>79.0</td>\n",
       "      <td>46.0</td>\n",
       "      <td>14.0</td>\n",
       "      <td>NaN</td>\n",
       "      <td>59.0</td>\n",
       "    </tr>\n",
       "    <tr>\n",
       "      <td>12</td>\n",
       "      <td>70.0</td>\n",
       "      <td>12.0</td>\n",
       "      <td>75.0</td>\n",
       "      <td>162.0</td>\n",
       "      <td>54.0</td>\n",
       "      <td>26.0</td>\n",
       "      <td>56.0</td>\n",
       "      <td>12.0</td>\n",
       "      <td>6.0</td>\n",
       "      <td>15.0</td>\n",
       "      <td>...</td>\n",
       "      <td>35.0</td>\n",
       "      <td>46.0</td>\n",
       "      <td>51.0</td>\n",
       "      <td>19.0</td>\n",
       "      <td>78.0</td>\n",
       "      <td>84.0</td>\n",
       "      <td>51.0</td>\n",
       "      <td>17.0</td>\n",
       "      <td>NaN</td>\n",
       "      <td>66.0</td>\n",
       "    </tr>\n",
       "  </tbody>\n",
       "</table>\n",
       "<p>12 rows × 426 columns</p>\n",
       "</div>"
      ],
      "text/plain": [
       "        count                                                         ...  \\\n",
       "user_id  1000  1002  1003   1004  1005  1007  1008  1009  1011  1012  ...   \n",
       "month                                                                 ...   \n",
       "1         NaN   NaN   NaN    NaN   7.0   NaN   NaN   NaN   NaN   NaN  ...   \n",
       "2         NaN   NaN   NaN    NaN  38.0   NaN   NaN   NaN   NaN   NaN  ...   \n",
       "3         NaN   NaN   NaN    NaN  56.0   NaN   NaN   2.0   4.0   2.0  ...   \n",
       "4         NaN   NaN   NaN    NaN  41.0  11.0   NaN  14.0   7.0  21.0  ...   \n",
       "5        22.0   NaN   NaN   95.0  42.0  39.0   NaN   7.0  13.0  10.0  ...   \n",
       "6        60.0   4.0   NaN  134.0  47.0  26.0   NaN  14.0  13.0  15.0  ...   \n",
       "7        75.0  11.0   NaN  181.0  56.0  26.0   NaN  14.0  13.0  12.0  ...   \n",
       "8        81.0  13.0  37.0  151.0  64.0  27.0   NaN   9.0  15.0  23.0  ...   \n",
       "9        57.0   4.0  91.0  146.0  52.0  31.0   NaN  12.0  10.0  14.0  ...   \n",
       "10       73.0  10.0  83.0  165.0  44.0  18.0   NaN  15.0  17.0  13.0  ...   \n",
       "11       58.0  16.0  94.0  158.0  51.0  21.0   NaN  11.0  12.0  25.0  ...   \n",
       "12       70.0  12.0  75.0  162.0  54.0  26.0  56.0  12.0   6.0  15.0  ...   \n",
       "\n",
       "                                                                     \n",
       "user_id  1489  1490  1491  1492  1493  1495  1496  1497  1498  1499  \n",
       "month                                                                \n",
       "1         NaN   NaN   NaN   NaN   NaN   NaN   9.0   NaN   NaN   NaN  \n",
       "2         NaN   NaN   NaN   NaN   NaN   NaN  45.0   NaN   NaN   NaN  \n",
       "3         NaN   NaN   NaN   NaN   NaN   NaN  46.0   NaN   NaN   NaN  \n",
       "4         NaN  38.0  10.0   NaN   NaN   NaN  49.0   NaN   NaN   NaN  \n",
       "5         NaN  37.0  55.0   NaN   NaN   NaN  40.0   NaN   NaN   NaN  \n",
       "6         NaN  50.0  56.0   1.0   NaN   NaN  35.0   NaN   NaN   NaN  \n",
       "7         NaN  62.0  58.0  19.0   NaN   NaN  42.0   NaN  20.0   NaN  \n",
       "8        17.0  50.0  49.0  15.0   NaN  13.0  41.0   NaN  62.0   NaN  \n",
       "9        32.0  48.0  52.0  10.0   NaN  82.0  29.0   NaN  44.0  11.0  \n",
       "10       21.0  45.0  61.0  21.0   NaN  82.0  35.0  20.0  42.0  48.0  \n",
       "11       20.0  47.0  40.0  13.0  16.0  79.0  46.0  14.0   NaN  59.0  \n",
       "12       35.0  46.0  51.0  19.0  78.0  84.0  51.0  17.0   NaN  66.0  \n",
       "\n",
       "[12 rows x 426 columns]"
      ]
     },
     "execution_count": 22,
     "metadata": {},
     "output_type": "execute_result"
    }
   ],
   "source": [
    "data_messages_month = data_messages.pivot_table(index='month', columns='user_id', values='id', aggfunc=['count'])\n",
    "data_messages_month"
   ]
  },
  {
   "cell_type": "markdown",
   "metadata": {},
   "source": [
    "Посчитаем для каждого пользователя объем израсходованного интернет-трафика по месяцам:"
   ]
  },
  {
   "cell_type": "code",
   "execution_count": 23,
   "metadata": {},
   "outputs": [
    {
     "data": {
      "text/html": [
       "<div>\n",
       "<style scoped>\n",
       "    .dataframe tbody tr th:only-of-type {\n",
       "        vertical-align: middle;\n",
       "    }\n",
       "\n",
       "    .dataframe tbody tr th {\n",
       "        vertical-align: top;\n",
       "    }\n",
       "\n",
       "    .dataframe thead tr th {\n",
       "        text-align: left;\n",
       "    }\n",
       "\n",
       "    .dataframe thead tr:last-of-type th {\n",
       "        text-align: right;\n",
       "    }\n",
       "</style>\n",
       "<table border=\"1\" class=\"dataframe\">\n",
       "  <thead>\n",
       "    <tr>\n",
       "      <th></th>\n",
       "      <th colspan=\"21\" halign=\"left\">sum</th>\n",
       "    </tr>\n",
       "    <tr>\n",
       "      <th>user_id</th>\n",
       "      <th>1000</th>\n",
       "      <th>1001</th>\n",
       "      <th>1002</th>\n",
       "      <th>1003</th>\n",
       "      <th>1004</th>\n",
       "      <th>1005</th>\n",
       "      <th>1006</th>\n",
       "      <th>1007</th>\n",
       "      <th>1008</th>\n",
       "      <th>1009</th>\n",
       "      <th>...</th>\n",
       "      <th>1490</th>\n",
       "      <th>1491</th>\n",
       "      <th>1492</th>\n",
       "      <th>1493</th>\n",
       "      <th>1494</th>\n",
       "      <th>1495</th>\n",
       "      <th>1496</th>\n",
       "      <th>1497</th>\n",
       "      <th>1498</th>\n",
       "      <th>1499</th>\n",
       "    </tr>\n",
       "    <tr>\n",
       "      <th>month</th>\n",
       "      <th></th>\n",
       "      <th></th>\n",
       "      <th></th>\n",
       "      <th></th>\n",
       "      <th></th>\n",
       "      <th></th>\n",
       "      <th></th>\n",
       "      <th></th>\n",
       "      <th></th>\n",
       "      <th></th>\n",
       "      <th></th>\n",
       "      <th></th>\n",
       "      <th></th>\n",
       "      <th></th>\n",
       "      <th></th>\n",
       "      <th></th>\n",
       "      <th></th>\n",
       "      <th></th>\n",
       "      <th></th>\n",
       "      <th></th>\n",
       "      <th></th>\n",
       "    </tr>\n",
       "  </thead>\n",
       "  <tbody>\n",
       "    <tr>\n",
       "      <td>1</td>\n",
       "      <td>NaN</td>\n",
       "      <td>NaN</td>\n",
       "      <td>NaN</td>\n",
       "      <td>NaN</td>\n",
       "      <td>NaN</td>\n",
       "      <td>2730.0</td>\n",
       "      <td>NaN</td>\n",
       "      <td>NaN</td>\n",
       "      <td>NaN</td>\n",
       "      <td>NaN</td>\n",
       "      <td>...</td>\n",
       "      <td>NaN</td>\n",
       "      <td>NaN</td>\n",
       "      <td>NaN</td>\n",
       "      <td>NaN</td>\n",
       "      <td>NaN</td>\n",
       "      <td>NaN</td>\n",
       "      <td>3766.0</td>\n",
       "      <td>NaN</td>\n",
       "      <td>NaN</td>\n",
       "      <td>NaN</td>\n",
       "    </tr>\n",
       "    <tr>\n",
       "      <td>2</td>\n",
       "      <td>NaN</td>\n",
       "      <td>NaN</td>\n",
       "      <td>NaN</td>\n",
       "      <td>NaN</td>\n",
       "      <td>NaN</td>\n",
       "      <td>7394.0</td>\n",
       "      <td>1395.0</td>\n",
       "      <td>NaN</td>\n",
       "      <td>NaN</td>\n",
       "      <td>NaN</td>\n",
       "      <td>...</td>\n",
       "      <td>NaN</td>\n",
       "      <td>NaN</td>\n",
       "      <td>NaN</td>\n",
       "      <td>NaN</td>\n",
       "      <td>NaN</td>\n",
       "      <td>NaN</td>\n",
       "      <td>28523.0</td>\n",
       "      <td>NaN</td>\n",
       "      <td>NaN</td>\n",
       "      <td>NaN</td>\n",
       "    </tr>\n",
       "    <tr>\n",
       "      <td>3</td>\n",
       "      <td>NaN</td>\n",
       "      <td>NaN</td>\n",
       "      <td>NaN</td>\n",
       "      <td>NaN</td>\n",
       "      <td>NaN</td>\n",
       "      <td>11117.0</td>\n",
       "      <td>17309.0</td>\n",
       "      <td>NaN</td>\n",
       "      <td>NaN</td>\n",
       "      <td>7359.0</td>\n",
       "      <td>...</td>\n",
       "      <td>NaN</td>\n",
       "      <td>NaN</td>\n",
       "      <td>NaN</td>\n",
       "      <td>NaN</td>\n",
       "      <td>NaN</td>\n",
       "      <td>NaN</td>\n",
       "      <td>24990.0</td>\n",
       "      <td>NaN</td>\n",
       "      <td>NaN</td>\n",
       "      <td>NaN</td>\n",
       "    </tr>\n",
       "    <tr>\n",
       "      <td>4</td>\n",
       "      <td>NaN</td>\n",
       "      <td>NaN</td>\n",
       "      <td>NaN</td>\n",
       "      <td>NaN</td>\n",
       "      <td>NaN</td>\n",
       "      <td>9365.0</td>\n",
       "      <td>13954.0</td>\n",
       "      <td>8031.0</td>\n",
       "      <td>NaN</td>\n",
       "      <td>14730.0</td>\n",
       "      <td>...</td>\n",
       "      <td>13684.0</td>\n",
       "      <td>3277.0</td>\n",
       "      <td>NaN</td>\n",
       "      <td>NaN</td>\n",
       "      <td>NaN</td>\n",
       "      <td>NaN</td>\n",
       "      <td>21098.0</td>\n",
       "      <td>NaN</td>\n",
       "      <td>NaN</td>\n",
       "      <td>NaN</td>\n",
       "    </tr>\n",
       "    <tr>\n",
       "      <td>5</td>\n",
       "      <td>2256.0</td>\n",
       "      <td>NaN</td>\n",
       "      <td>NaN</td>\n",
       "      <td>NaN</td>\n",
       "      <td>13415.0</td>\n",
       "      <td>7877.0</td>\n",
       "      <td>12984.0</td>\n",
       "      <td>17708.0</td>\n",
       "      <td>NaN</td>\n",
       "      <td>13386.0</td>\n",
       "      <td>...</td>\n",
       "      <td>21362.0</td>\n",
       "      <td>25047.0</td>\n",
       "      <td>NaN</td>\n",
       "      <td>NaN</td>\n",
       "      <td>NaN</td>\n",
       "      <td>NaN</td>\n",
       "      <td>23740.0</td>\n",
       "      <td>NaN</td>\n",
       "      <td>NaN</td>\n",
       "      <td>NaN</td>\n",
       "    </tr>\n",
       "    <tr>\n",
       "      <td>6</td>\n",
       "      <td>23257.0</td>\n",
       "      <td>NaN</td>\n",
       "      <td>10871.0</td>\n",
       "      <td>NaN</td>\n",
       "      <td>17619.0</td>\n",
       "      <td>9875.0</td>\n",
       "      <td>12388.0</td>\n",
       "      <td>13674.0</td>\n",
       "      <td>NaN</td>\n",
       "      <td>16084.0</td>\n",
       "      <td>...</td>\n",
       "      <td>19531.0</td>\n",
       "      <td>15632.0</td>\n",
       "      <td>4005.0</td>\n",
       "      <td>NaN</td>\n",
       "      <td>NaN</td>\n",
       "      <td>NaN</td>\n",
       "      <td>20163.0</td>\n",
       "      <td>NaN</td>\n",
       "      <td>NaN</td>\n",
       "      <td>NaN</td>\n",
       "    </tr>\n",
       "    <tr>\n",
       "      <td>7</td>\n",
       "      <td>14016.0</td>\n",
       "      <td>NaN</td>\n",
       "      <td>17601.0</td>\n",
       "      <td>NaN</td>\n",
       "      <td>22243.0</td>\n",
       "      <td>7703.0</td>\n",
       "      <td>20000.0</td>\n",
       "      <td>15680.0</td>\n",
       "      <td>NaN</td>\n",
       "      <td>24752.0</td>\n",
       "      <td>...</td>\n",
       "      <td>10811.0</td>\n",
       "      <td>20916.0</td>\n",
       "      <td>15237.0</td>\n",
       "      <td>NaN</td>\n",
       "      <td>NaN</td>\n",
       "      <td>NaN</td>\n",
       "      <td>24395.0</td>\n",
       "      <td>NaN</td>\n",
       "      <td>7486.0</td>\n",
       "      <td>NaN</td>\n",
       "    </tr>\n",
       "    <tr>\n",
       "      <td>8</td>\n",
       "      <td>14070.0</td>\n",
       "      <td>NaN</td>\n",
       "      <td>20347.0</td>\n",
       "      <td>8571.0</td>\n",
       "      <td>28607.0</td>\n",
       "      <td>7554.0</td>\n",
       "      <td>19327.0</td>\n",
       "      <td>20723.0</td>\n",
       "      <td>NaN</td>\n",
       "      <td>23738.0</td>\n",
       "      <td>...</td>\n",
       "      <td>17295.0</td>\n",
       "      <td>17295.0</td>\n",
       "      <td>20376.0</td>\n",
       "      <td>NaN</td>\n",
       "      <td>6601.0</td>\n",
       "      <td>2616.0</td>\n",
       "      <td>23560.0</td>\n",
       "      <td>NaN</td>\n",
       "      <td>24270.0</td>\n",
       "      <td>NaN</td>\n",
       "    </tr>\n",
       "    <tr>\n",
       "      <td>9</td>\n",
       "      <td>14581.0</td>\n",
       "      <td>NaN</td>\n",
       "      <td>16712.0</td>\n",
       "      <td>12479.0</td>\n",
       "      <td>15125.0</td>\n",
       "      <td>7027.0</td>\n",
       "      <td>15543.0</td>\n",
       "      <td>12630.0</td>\n",
       "      <td>NaN</td>\n",
       "      <td>21954.0</td>\n",
       "      <td>...</td>\n",
       "      <td>14838.0</td>\n",
       "      <td>15132.0</td>\n",
       "      <td>20678.0</td>\n",
       "      <td>NaN</td>\n",
       "      <td>16986.0</td>\n",
       "      <td>33105.0</td>\n",
       "      <td>26970.0</td>\n",
       "      <td>NaN</td>\n",
       "      <td>22166.0</td>\n",
       "      <td>1848.0</td>\n",
       "    </tr>\n",
       "    <tr>\n",
       "      <td>10</td>\n",
       "      <td>14717.0</td>\n",
       "      <td>NaN</td>\n",
       "      <td>13905.0</td>\n",
       "      <td>14779.0</td>\n",
       "      <td>18494.0</td>\n",
       "      <td>7809.0</td>\n",
       "      <td>19722.0</td>\n",
       "      <td>14444.0</td>\n",
       "      <td>NaN</td>\n",
       "      <td>20112.0</td>\n",
       "      <td>...</td>\n",
       "      <td>20690.0</td>\n",
       "      <td>24387.0</td>\n",
       "      <td>25325.0</td>\n",
       "      <td>NaN</td>\n",
       "      <td>17794.0</td>\n",
       "      <td>29393.0</td>\n",
       "      <td>28215.0</td>\n",
       "      <td>11512.0</td>\n",
       "      <td>20604.0</td>\n",
       "      <td>17809.0</td>\n",
       "    </tr>\n",
       "    <tr>\n",
       "      <td>11</td>\n",
       "      <td>14768.0</td>\n",
       "      <td>18452.0</td>\n",
       "      <td>18610.0</td>\n",
       "      <td>11368.0</td>\n",
       "      <td>15631.0</td>\n",
       "      <td>12682.0</td>\n",
       "      <td>13275.0</td>\n",
       "      <td>16390.0</td>\n",
       "      <td>NaN</td>\n",
       "      <td>16867.0</td>\n",
       "      <td>...</td>\n",
       "      <td>18733.0</td>\n",
       "      <td>17845.0</td>\n",
       "      <td>17108.0</td>\n",
       "      <td>11691.0</td>\n",
       "      <td>18076.0</td>\n",
       "      <td>38972.0</td>\n",
       "      <td>25092.0</td>\n",
       "      <td>14174.0</td>\n",
       "      <td>NaN</td>\n",
       "      <td>17984.0</td>\n",
       "    </tr>\n",
       "    <tr>\n",
       "      <td>12</td>\n",
       "      <td>9827.0</td>\n",
       "      <td>14053.0</td>\n",
       "      <td>18137.0</td>\n",
       "      <td>10132.0</td>\n",
       "      <td>18038.0</td>\n",
       "      <td>8680.0</td>\n",
       "      <td>18498.0</td>\n",
       "      <td>12512.0</td>\n",
       "      <td>13236.0</td>\n",
       "      <td>18642.0</td>\n",
       "      <td>...</td>\n",
       "      <td>15806.0</td>\n",
       "      <td>22081.0</td>\n",
       "      <td>24910.0</td>\n",
       "      <td>42776.0</td>\n",
       "      <td>17645.0</td>\n",
       "      <td>23450.0</td>\n",
       "      <td>20757.0</td>\n",
       "      <td>19940.0</td>\n",
       "      <td>NaN</td>\n",
       "      <td>13077.0</td>\n",
       "    </tr>\n",
       "  </tbody>\n",
       "</table>\n",
       "<p>12 rows × 497 columns</p>\n",
       "</div>"
      ],
      "text/plain": [
       "             sum                                                        \\\n",
       "user_id     1000     1001     1002     1003     1004     1005     1006   \n",
       "month                                                                    \n",
       "1            NaN      NaN      NaN      NaN      NaN   2730.0      NaN   \n",
       "2            NaN      NaN      NaN      NaN      NaN   7394.0   1395.0   \n",
       "3            NaN      NaN      NaN      NaN      NaN  11117.0  17309.0   \n",
       "4            NaN      NaN      NaN      NaN      NaN   9365.0  13954.0   \n",
       "5         2256.0      NaN      NaN      NaN  13415.0   7877.0  12984.0   \n",
       "6        23257.0      NaN  10871.0      NaN  17619.0   9875.0  12388.0   \n",
       "7        14016.0      NaN  17601.0      NaN  22243.0   7703.0  20000.0   \n",
       "8        14070.0      NaN  20347.0   8571.0  28607.0   7554.0  19327.0   \n",
       "9        14581.0      NaN  16712.0  12479.0  15125.0   7027.0  15543.0   \n",
       "10       14717.0      NaN  13905.0  14779.0  18494.0   7809.0  19722.0   \n",
       "11       14768.0  18452.0  18610.0  11368.0  15631.0  12682.0  13275.0   \n",
       "12        9827.0  14053.0  18137.0  10132.0  18038.0   8680.0  18498.0   \n",
       "\n",
       "                                    ...                                      \\\n",
       "user_id     1007     1008     1009  ...     1490     1491     1492     1493   \n",
       "month                               ...                                       \n",
       "1            NaN      NaN      NaN  ...      NaN      NaN      NaN      NaN   \n",
       "2            NaN      NaN      NaN  ...      NaN      NaN      NaN      NaN   \n",
       "3            NaN      NaN   7359.0  ...      NaN      NaN      NaN      NaN   \n",
       "4         8031.0      NaN  14730.0  ...  13684.0   3277.0      NaN      NaN   \n",
       "5        17708.0      NaN  13386.0  ...  21362.0  25047.0      NaN      NaN   \n",
       "6        13674.0      NaN  16084.0  ...  19531.0  15632.0   4005.0      NaN   \n",
       "7        15680.0      NaN  24752.0  ...  10811.0  20916.0  15237.0      NaN   \n",
       "8        20723.0      NaN  23738.0  ...  17295.0  17295.0  20376.0      NaN   \n",
       "9        12630.0      NaN  21954.0  ...  14838.0  15132.0  20678.0      NaN   \n",
       "10       14444.0      NaN  20112.0  ...  20690.0  24387.0  25325.0      NaN   \n",
       "11       16390.0      NaN  16867.0  ...  18733.0  17845.0  17108.0  11691.0   \n",
       "12       12512.0  13236.0  18642.0  ...  15806.0  22081.0  24910.0  42776.0   \n",
       "\n",
       "                                                               \n",
       "user_id     1494     1495     1496     1497     1498     1499  \n",
       "month                                                          \n",
       "1            NaN      NaN   3766.0      NaN      NaN      NaN  \n",
       "2            NaN      NaN  28523.0      NaN      NaN      NaN  \n",
       "3            NaN      NaN  24990.0      NaN      NaN      NaN  \n",
       "4            NaN      NaN  21098.0      NaN      NaN      NaN  \n",
       "5            NaN      NaN  23740.0      NaN      NaN      NaN  \n",
       "6            NaN      NaN  20163.0      NaN      NaN      NaN  \n",
       "7            NaN      NaN  24395.0      NaN   7486.0      NaN  \n",
       "8         6601.0   2616.0  23560.0      NaN  24270.0      NaN  \n",
       "9        16986.0  33105.0  26970.0      NaN  22166.0   1848.0  \n",
       "10       17794.0  29393.0  28215.0  11512.0  20604.0  17809.0  \n",
       "11       18076.0  38972.0  25092.0  14174.0      NaN  17984.0  \n",
       "12       17645.0  23450.0  20757.0  19940.0      NaN  13077.0  \n",
       "\n",
       "[12 rows x 497 columns]"
      ]
     },
     "execution_count": 23,
     "metadata": {},
     "output_type": "execute_result"
    }
   ],
   "source": [
    "data_internet_month = data_internet.pivot_table(index='month', columns='user_id', values='mb_used', aggfunc=['sum'])\n",
    "data_internet_month"
   ]
  },
  {
   "cell_type": "code",
   "execution_count": 24,
   "metadata": {
    "scrolled": false
   },
   "outputs": [
    {
     "data": {
      "text/html": [
       "<div>\n",
       "<style scoped>\n",
       "    .dataframe tbody tr th:only-of-type {\n",
       "        vertical-align: middle;\n",
       "    }\n",
       "\n",
       "    .dataframe tbody tr th {\n",
       "        vertical-align: top;\n",
       "    }\n",
       "\n",
       "    .dataframe thead th {\n",
       "        text-align: right;\n",
       "    }\n",
       "</style>\n",
       "<table border=\"1\" class=\"dataframe\">\n",
       "  <thead>\n",
       "    <tr style=\"text-align: right;\">\n",
       "      <th></th>\n",
       "      <th>user_id</th>\n",
       "      <th>month</th>\n",
       "      <th>tariff</th>\n",
       "      <th>revenue_calls</th>\n",
       "      <th>revenue_messages</th>\n",
       "      <th>revenue_internet</th>\n",
       "      <th>rub_monthly_fee</th>\n",
       "      <th>total_revenue</th>\n",
       "    </tr>\n",
       "  </thead>\n",
       "  <tbody>\n",
       "    <tr>\n",
       "      <td>0</td>\n",
       "      <td>1000</td>\n",
       "      <td>5</td>\n",
       "      <td>ultra</td>\n",
       "      <td>0.0</td>\n",
       "      <td>0.0</td>\n",
       "      <td>0.0</td>\n",
       "      <td>1950</td>\n",
       "      <td>1950</td>\n",
       "    </tr>\n",
       "    <tr>\n",
       "      <td>1</td>\n",
       "      <td>1000</td>\n",
       "      <td>6</td>\n",
       "      <td>ultra</td>\n",
       "      <td>0.0</td>\n",
       "      <td>0.0</td>\n",
       "      <td>0.0</td>\n",
       "      <td>1950</td>\n",
       "      <td>1950</td>\n",
       "    </tr>\n",
       "    <tr>\n",
       "      <td>2</td>\n",
       "      <td>1000</td>\n",
       "      <td>7</td>\n",
       "      <td>ultra</td>\n",
       "      <td>0.0</td>\n",
       "      <td>0.0</td>\n",
       "      <td>0.0</td>\n",
       "      <td>1950</td>\n",
       "      <td>1950</td>\n",
       "    </tr>\n",
       "    <tr>\n",
       "      <td>3</td>\n",
       "      <td>1000</td>\n",
       "      <td>8</td>\n",
       "      <td>ultra</td>\n",
       "      <td>0.0</td>\n",
       "      <td>0.0</td>\n",
       "      <td>0.0</td>\n",
       "      <td>1950</td>\n",
       "      <td>1950</td>\n",
       "    </tr>\n",
       "    <tr>\n",
       "      <td>4</td>\n",
       "      <td>1000</td>\n",
       "      <td>9</td>\n",
       "      <td>ultra</td>\n",
       "      <td>0.0</td>\n",
       "      <td>0.0</td>\n",
       "      <td>0.0</td>\n",
       "      <td>1950</td>\n",
       "      <td>1950</td>\n",
       "    </tr>\n",
       "    <tr>\n",
       "      <td>...</td>\n",
       "      <td>...</td>\n",
       "      <td>...</td>\n",
       "      <td>...</td>\n",
       "      <td>...</td>\n",
       "      <td>...</td>\n",
       "      <td>...</td>\n",
       "      <td>...</td>\n",
       "      <td>...</td>\n",
       "    </tr>\n",
       "    <tr>\n",
       "      <td>3209</td>\n",
       "      <td>1489</td>\n",
       "      <td>8</td>\n",
       "      <td>smart</td>\n",
       "      <td>0.0</td>\n",
       "      <td>0.0</td>\n",
       "      <td>0.0</td>\n",
       "      <td>550</td>\n",
       "      <td>550</td>\n",
       "    </tr>\n",
       "    <tr>\n",
       "      <td>3210</td>\n",
       "      <td>1489</td>\n",
       "      <td>9</td>\n",
       "      <td>smart</td>\n",
       "      <td>0.0</td>\n",
       "      <td>0.0</td>\n",
       "      <td>400.0</td>\n",
       "      <td>550</td>\n",
       "      <td>950</td>\n",
       "    </tr>\n",
       "    <tr>\n",
       "      <td>3211</td>\n",
       "      <td>1489</td>\n",
       "      <td>10</td>\n",
       "      <td>smart</td>\n",
       "      <td>0.0</td>\n",
       "      <td>0.0</td>\n",
       "      <td>1000.0</td>\n",
       "      <td>550</td>\n",
       "      <td>1550</td>\n",
       "    </tr>\n",
       "    <tr>\n",
       "      <td>3212</td>\n",
       "      <td>1489</td>\n",
       "      <td>11</td>\n",
       "      <td>smart</td>\n",
       "      <td>0.0</td>\n",
       "      <td>0.0</td>\n",
       "      <td>600.0</td>\n",
       "      <td>550</td>\n",
       "      <td>1150</td>\n",
       "    </tr>\n",
       "    <tr>\n",
       "      <td>3213</td>\n",
       "      <td>1489</td>\n",
       "      <td>12</td>\n",
       "      <td>smart</td>\n",
       "      <td>0.0</td>\n",
       "      <td>0.0</td>\n",
       "      <td>400.0</td>\n",
       "      <td>550</td>\n",
       "      <td>950</td>\n",
       "    </tr>\n",
       "  </tbody>\n",
       "</table>\n",
       "<p>3214 rows × 8 columns</p>\n",
       "</div>"
      ],
      "text/plain": [
       "      user_id  month tariff  revenue_calls  revenue_messages  \\\n",
       "0        1000      5  ultra            0.0               0.0   \n",
       "1        1000      6  ultra            0.0               0.0   \n",
       "2        1000      7  ultra            0.0               0.0   \n",
       "3        1000      8  ultra            0.0               0.0   \n",
       "4        1000      9  ultra            0.0               0.0   \n",
       "...       ...    ...    ...            ...               ...   \n",
       "3209     1489      8  smart            0.0               0.0   \n",
       "3210     1489      9  smart            0.0               0.0   \n",
       "3211     1489     10  smart            0.0               0.0   \n",
       "3212     1489     11  smart            0.0               0.0   \n",
       "3213     1489     12  smart            0.0               0.0   \n",
       "\n",
       "      revenue_internet  rub_monthly_fee  total_revenue  \n",
       "0                  0.0             1950           1950  \n",
       "1                  0.0             1950           1950  \n",
       "2                  0.0             1950           1950  \n",
       "3                  0.0             1950           1950  \n",
       "4                  0.0             1950           1950  \n",
       "...                ...              ...            ...  \n",
       "3209               0.0              550            550  \n",
       "3210             400.0              550            950  \n",
       "3211            1000.0              550           1550  \n",
       "3212             600.0              550           1150  \n",
       "3213             400.0              550            950  \n",
       "\n",
       "[3214 rows x 8 columns]"
      ]
     },
     "execution_count": 24,
     "metadata": {},
     "output_type": "execute_result"
    }
   ],
   "source": [
    "data_revenue = data_calls_group.merge(data_messages_group, on=['user_id', 'month', 'tariff'], how='outer').merge(data_internet_group, on=['user_id', 'month', 'tariff'], how='outer')\n",
    "data_revenue = data_revenue.drop(['duration', 'id', 'mb_used'], axis=1)\n",
    "\n",
    "data_tariffs_subscription_fee = data_tariffs[['tariff_name', 'rub_monthly_fee']]\n",
    "data_tariffs_subscription_fee = data_tariffs_subscription_fee.rename(columns={'tariff_name': 'tariff'})\n",
    "\n",
    "data_revenue = data_revenue.merge(data_tariffs_subscription_fee, on='tariff')\n",
    "data_revenue = data_revenue.fillna(0)\n",
    "data_revenue['total_revenue'] = data_revenue['revenue_calls'] + data_revenue['revenue_messages'] + data_revenue['revenue_internet'] + data_revenue['rub_monthly_fee']\n",
    "data_revenue['total_revenue'] = data_revenue['total_revenue'].astype('int')\n",
    "data_revenue = data_revenue.drop(['minutes_included', 'rub_per_minute', 'messages_included', 'rub_per_message', 'difference', 'mb_per_month_included', 'rub_per_gb'], axis=1)\n",
    "data_revenue"
   ]
  },
  {
   "cell_type": "markdown",
   "metadata": {},
   "source": [
    "Совместили три датафрейма data_calls_group, data_messages_group и data_internet_group по столбцам 'user_id', 'month' и  'tariff' также указали параметр how='outer' затем удалили ненужные нам столбцы 'duration', 'id', 'mb_used'. Из датафрейма data_tariffs взяли нужные нам столбцы и совместили с датафреймом data_revenue. Далее заменили все NaN на 0. К новому датафрейму добавили новый столбец итого выручки помесячно - 'total_revenue' и затем посчитали сумму столбцов 'revenue_calls', 'revenue_messages', 'revenue_internet', 'rub_monthly_fee'."
   ]
  },
  {
   "cell_type": "markdown",
   "metadata": {},
   "source": [
    "# Анализ данных"
   ]
  },
  {
   "cell_type": "markdown",
   "metadata": {},
   "source": [
    "Найдем среднее значение, дисперсию и стандартное отклонение для датафрейма data_calls_group:"
   ]
  },
  {
   "cell_type": "code",
   "execution_count": 25,
   "metadata": {
    "scrolled": true
   },
   "outputs": [
    {
     "data": {
      "text/plain": [
       "'smart:'"
      ]
     },
     "metadata": {},
     "output_type": "display_data"
    },
    {
     "data": {
      "text/plain": [
       "419.0629779577148"
      ]
     },
     "metadata": {},
     "output_type": "display_data"
    },
    {
     "data": {
      "text/plain": [
       "'ultra:'"
      ]
     },
     "metadata": {},
     "output_type": "display_data"
    },
    {
     "data": {
      "text/plain": [
       "545.4511041009464"
      ]
     },
     "metadata": {},
     "output_type": "display_data"
    }
   ],
   "source": [
    "calls_mean_smart = data_calls_group[data_calls_group['tariff'] == 'smart']['duration'].mean()\n",
    "calls_mean_ultra = data_calls_group[data_calls_group['tariff'] == 'ultra']['duration'].mean()\n",
    "display('smart:', calls_mean_smart)\n",
    "display('ultra:', calls_mean_ultra)"
   ]
  },
  {
   "cell_type": "code",
   "execution_count": 26,
   "metadata": {},
   "outputs": [
    {
     "data": {
      "text/plain": [
       "'smart:'"
      ]
     },
     "metadata": {},
     "output_type": "display_data"
    },
    {
     "data": {
      "text/plain": [
       "35844.1895513438"
      ]
     },
     "metadata": {},
     "output_type": "display_data"
    },
    {
     "data": {
      "text/plain": [
       "'ultra:'"
      ]
     },
     "metadata": {},
     "output_type": "display_data"
    },
    {
     "data": {
      "text/plain": [
       "94203.41839614812"
      ]
     },
     "metadata": {},
     "output_type": "display_data"
    }
   ],
   "source": [
    "calls_smart = data_calls_group[data_calls_group['tariff'] == 'smart']['duration']\n",
    "calls_ultra = data_calls_group[data_calls_group['tariff'] == 'ultra']['duration']\n",
    "\n",
    "calls_var_smart = np.var(calls_smart, ddof=1)\n",
    "calls_var_ultra = np.var(calls_ultra, ddof=1)\n",
    "display('smart:', calls_var_smart)\n",
    "display('ultra:', calls_var_ultra)"
   ]
  },
  {
   "cell_type": "code",
   "execution_count": 27,
   "metadata": {},
   "outputs": [
    {
     "data": {
      "text/plain": [
       "'smart:'"
      ]
     },
     "metadata": {},
     "output_type": "display_data"
    },
    {
     "data": {
      "text/plain": [
       "189.3256177894154"
      ]
     },
     "metadata": {},
     "output_type": "display_data"
    },
    {
     "data": {
      "text/plain": [
       "'ultra:'"
      ]
     },
     "metadata": {},
     "output_type": "display_data"
    },
    {
     "data": {
      "text/plain": [
       "306.92575388218586"
      ]
     },
     "metadata": {},
     "output_type": "display_data"
    }
   ],
   "source": [
    "calls_std_smart = np.std(calls_smart, ddof=1)\n",
    "calls_std_ultra = np.std(calls_ultra, ddof=1)\n",
    "display('smart:', calls_std_smart)\n",
    "display('ultra:', calls_std_ultra)"
   ]
  },
  {
   "cell_type": "markdown",
   "metadata": {},
   "source": [
    "По правилу трёх сигм рассчитаем сколько минут разговора требуется 99% пользователей каждого тарифа:"
   ]
  },
  {
   "cell_type": "code",
   "execution_count": 28,
   "metadata": {},
   "outputs": [
    {
     "data": {
      "text/plain": [
       "'smart:'"
      ]
     },
     "metadata": {},
     "output_type": "display_data"
    },
    {
     "data": {
      "text/plain": [
       "987.0398313259609"
      ]
     },
     "metadata": {},
     "output_type": "display_data"
    },
    {
     "data": {
      "text/plain": [
       "'ultra:'"
      ]
     },
     "metadata": {},
     "output_type": "display_data"
    },
    {
     "data": {
      "text/plain": [
       "1466.228365747504"
      ]
     },
     "metadata": {},
     "output_type": "display_data"
    }
   ],
   "source": [
    "calls_sigm_smart = calls_mean_smart + 3*calls_std_smart\n",
    "calls_sigm_ultra = calls_mean_ultra + 3*calls_std_ultra\n",
    "display('smart:', calls_sigm_smart)\n",
    "display('ultra:', calls_sigm_ultra)"
   ]
  },
  {
   "cell_type": "markdown",
   "metadata": {},
   "source": [
    "Построим гистограмму по данным data_calls_group:"
   ]
  },
  {
   "cell_type": "code",
   "execution_count": 29,
   "metadata": {},
   "outputs": [
    {
     "data": {
      "text/plain": [
       "423.0"
      ]
     },
     "execution_count": 29,
     "metadata": {},
     "output_type": "execute_result"
    }
   ],
   "source": [
    "data_calls_smart = data_calls_group[data_calls_group['tariff'] == 'smart']\n",
    "data_calls_smart['duration'].median()"
   ]
  },
  {
   "cell_type": "code",
   "execution_count": 30,
   "metadata": {},
   "outputs": [
    {
     "data": {
      "image/png": "[encoded data removed]",
      "text/plain": [
       "<Figure size 432x288 with 1 Axes>"
      ]
     },
     "metadata": {
      "needs_background": "light"
     },
     "output_type": "display_data"
    }
   ],
   "source": [
    "data_calls_smart.plot(kind='hist', y='duration', bins=100, grid=True)\n",
    "plt.xlabel('Продолжительность(в минутах)')\n",
    "plt.ylabel('Частота')\n",
    "plt.title('Тариф smart\\ncalls')\n",
    "plt.show()"
   ]
  },
  {
   "cell_type": "markdown",
   "metadata": {},
   "source": [
    "Так как медианна > среднего значит датасет ассиметричен, скошен влево."
   ]
  },
  {
   "cell_type": "code",
   "execution_count": 31,
   "metadata": {},
   "outputs": [
    {
     "data": {
      "text/plain": [
       "528.0"
      ]
     },
     "execution_count": 31,
     "metadata": {},
     "output_type": "execute_result"
    }
   ],
   "source": [
    "data_calls_ultra = data_calls_group[data_calls_group['tariff'] == 'ultra']\n",
    "data_calls_ultra['duration'].median()"
   ]
  },
  {
   "cell_type": "code",
   "execution_count": 32,
   "metadata": {},
   "outputs": [
    {
     "data": {
      "image/png": "[encoded data removed]",
      "text/plain": [
       "<Figure size 432x288 with 1 Axes>"
      ]
     },
     "metadata": {
      "needs_background": "light"
     },
     "output_type": "display_data"
    }
   ],
   "source": [
    "data_calls_ultra.plot(kind='hist', y='duration', bins=100, grid=True)\n",
    "plt.xlabel('Продолжительность(в минутах)')\n",
    "plt.ylabel('Частота')\n",
    "plt.title('Тариф ultra\\ncalls')\n",
    "plt.show()"
   ]
  },
  {
   "cell_type": "markdown",
   "metadata": {},
   "source": [
    "Так как медианна < среднего значит датасет ассиметричен, скошен вправо."
   ]
  },
  {
   "cell_type": "markdown",
   "metadata": {},
   "source": [
    "Найдем среднее значение, дисперсию и стандартное отклонение для датафрейма data_internet_group:"
   ]
  },
  {
   "cell_type": "code",
   "execution_count": 33,
   "metadata": {},
   "outputs": [
    {
     "data": {
      "text/plain": [
       "'smart:'"
      ]
     },
     "metadata": {},
     "output_type": "display_data"
    },
    {
     "data": {
      "text/plain": [
       "16236.47262118492"
      ]
     },
     "metadata": {},
     "output_type": "display_data"
    },
    {
     "data": {
      "text/plain": [
       "'ultra:'"
      ]
     },
     "metadata": {},
     "output_type": "display_data"
    },
    {
     "data": {
      "text/plain": [
       "19686.76717948718"
      ]
     },
     "metadata": {},
     "output_type": "display_data"
    }
   ],
   "source": [
    "internet_mean_smart = data_internet_group[data_internet_group['tariff'] == 'smart']['mb_used'].mean()\n",
    "internet_mean_ultra = data_internet_group[data_internet_group['tariff'] == 'ultra']['mb_used'].mean()\n",
    "display('smart:', internet_mean_smart)\n",
    "display('ultra:', internet_mean_ultra)"
   ]
  },
  {
   "cell_type": "code",
   "execution_count": 34,
   "metadata": {},
   "outputs": [
    {
     "data": {
      "text/plain": [
       "'smart:'"
      ]
     },
     "metadata": {},
     "output_type": "display_data"
    },
    {
     "data": {
      "text/plain": [
       "34443100.68133359"
      ]
     },
     "metadata": {},
     "output_type": "display_data"
    },
    {
     "data": {
      "text/plain": [
       "'ultra:'"
      ]
     },
     "metadata": {},
     "output_type": "display_data"
    },
    {
     "data": {
      "text/plain": [
       "99043439.60795662"
      ]
     },
     "metadata": {},
     "output_type": "display_data"
    }
   ],
   "source": [
    "internet_smart = data_internet_group[data_internet_group['tariff'] == 'smart']['mb_used']\n",
    "internet_ultra = data_internet_group[data_internet_group['tariff'] == 'ultra']['mb_used']\n",
    "\n",
    "internet_var_smart = np.var(internet_smart, ddof=1)\n",
    "internet_var_ultra = np.var(internet_ultra, ddof=1)\n",
    "display('smart:', internet_var_smart)\n",
    "display('ultra:', internet_var_ultra)"
   ]
  },
  {
   "cell_type": "code",
   "execution_count": 35,
   "metadata": {},
   "outputs": [
    {
     "data": {
      "text/plain": [
       "'smart:'"
      ]
     },
     "metadata": {},
     "output_type": "display_data"
    },
    {
     "data": {
      "text/plain": [
       "5868.824471845583"
      ]
     },
     "metadata": {},
     "output_type": "display_data"
    },
    {
     "data": {
      "text/plain": [
       "'ultra:'"
      ]
     },
     "metadata": {},
     "output_type": "display_data"
    },
    {
     "data": {
      "text/plain": [
       "9952.057054094726"
      ]
     },
     "metadata": {},
     "output_type": "display_data"
    }
   ],
   "source": [
    "internet_std_smart = np.std(internet_smart, ddof=1)\n",
    "internet_std_ultra = np.std(internet_ultra, ddof=1)\n",
    "display('smart:', internet_std_smart)\n",
    "display('ultra:', internet_std_ultra)"
   ]
  },
  {
   "cell_type": "markdown",
   "metadata": {},
   "source": [
    "По правилу трёх сигм рассчитаем количество сообщений требуется 99% пользователей каждого тарифа:"
   ]
  },
  {
   "cell_type": "code",
   "execution_count": 36,
   "metadata": {},
   "outputs": [
    {
     "data": {
      "text/plain": [
       "'smart:'"
      ]
     },
     "metadata": {},
     "output_type": "display_data"
    },
    {
     "data": {
      "text/plain": [
       "33842.94603672167"
      ]
     },
     "metadata": {},
     "output_type": "display_data"
    },
    {
     "data": {
      "text/plain": [
       "'ultra:'"
      ]
     },
     "metadata": {},
     "output_type": "display_data"
    },
    {
     "data": {
      "text/plain": [
       "49542.938341771354"
      ]
     },
     "metadata": {},
     "output_type": "display_data"
    }
   ],
   "source": [
    "internet_sigm_smart = internet_mean_smart + 3*internet_std_smart\n",
    "internet_sigm_ultra = internet_mean_ultra + 3*internet_std_ultra\n",
    "display('smart:', internet_sigm_smart)\n",
    "display('ultra:', internet_sigm_ultra)"
   ]
  },
  {
   "cell_type": "markdown",
   "metadata": {},
   "source": [
    "Построим гистограмму по данным data_internet_group:"
   ]
  },
  {
   "cell_type": "code",
   "execution_count": 37,
   "metadata": {},
   "outputs": [
    {
     "data": {
      "text/plain": [
       "16532.0"
      ]
     },
     "execution_count": 37,
     "metadata": {},
     "output_type": "execute_result"
    }
   ],
   "source": [
    "data_internet_smart = data_internet_group[data_internet_group['tariff'] == 'smart']\n",
    "data_internet_smart['mb_used'].median()"
   ]
  },
  {
   "cell_type": "code",
   "execution_count": 38,
   "metadata": {},
   "outputs": [
    {
     "data": {
      "image/png": "[encoded data removed]",
      "text/plain": [
       "<Figure size 432x288 with 1 Axes>"
      ]
     },
     "metadata": {
      "needs_background": "light"
     },
     "output_type": "display_data"
    }
   ],
   "source": [
    "data_internet_smart.plot(kind='hist', y='mb_used', bins=100, grid=True)\n",
    "plt.xlabel('Интернет трафик(в МБ)')\n",
    "plt.ylabel('Частота')\n",
    "plt.title('Тариф smart\\ninternet')\n",
    "plt.show()"
   ]
  },
  {
   "cell_type": "markdown",
   "metadata": {},
   "source": [
    "Так как медианна > среднего значит датасет ассиметричен, скошен влево."
   ]
  },
  {
   "cell_type": "code",
   "execution_count": 39,
   "metadata": {},
   "outputs": [
    {
     "data": {
      "text/plain": [
       "19411.0"
      ]
     },
     "execution_count": 39,
     "metadata": {},
     "output_type": "execute_result"
    }
   ],
   "source": [
    "data_internet_ultra = data_internet_group[data_internet_group['tariff'] == 'ultra']\n",
    "data_internet_ultra['mb_used'].median()"
   ]
  },
  {
   "cell_type": "code",
   "execution_count": 40,
   "metadata": {},
   "outputs": [
    {
     "data": {
      "image/png": "[encoded data removed]",
      "text/plain": [
       "<Figure size 432x288 with 1 Axes>"
      ]
     },
     "metadata": {
      "needs_background": "light"
     },
     "output_type": "display_data"
    }
   ],
   "source": [
    "data_internet_ultra.plot(kind='hist', y='mb_used', bins=100, grid=True)\n",
    "plt.xlabel('Интернет трафик(в МБ)')\n",
    "plt.ylabel('Частота')\n",
    "plt.title('Тариф ultra\\ninternet')\n",
    "plt.show()"
   ]
  },
  {
   "cell_type": "markdown",
   "metadata": {},
   "source": [
    "Так как медианна < среднего значит датасет ассиметричен, скошен вправо."
   ]
  },
  {
   "cell_type": "markdown",
   "metadata": {},
   "source": [
    "Найдем среднее значение, дисперсию и стандартное отклонение для датафрейма data_messages_group:"
   ]
  },
  {
   "cell_type": "code",
   "execution_count": 41,
   "metadata": {},
   "outputs": [
    {
     "data": {
      "text/plain": [
       "'smart:'"
      ]
     },
     "metadata": {},
     "output_type": "display_data"
    },
    {
     "data": {
      "text/plain": [
       "38.71644120707596"
      ]
     },
     "metadata": {},
     "output_type": "display_data"
    },
    {
     "data": {
      "text/plain": [
       "'ultra:'"
      ]
     },
     "metadata": {},
     "output_type": "display_data"
    },
    {
     "data": {
      "text/plain": [
       "61.161006289308176"
      ]
     },
     "metadata": {},
     "output_type": "display_data"
    }
   ],
   "source": [
    "messages_mean_smart = data_messages_group[data_messages_group['tariff'] == 'smart']['id'].mean()\n",
    "messages_mean_ultra = data_messages_group[data_messages_group['tariff'] == 'ultra']['id'].mean()\n",
    "display('smart:', messages_mean_smart)\n",
    "display('ultra:', messages_mean_ultra)"
   ]
  },
  {
   "cell_type": "code",
   "execution_count": 42,
   "metadata": {},
   "outputs": [
    {
     "data": {
      "text/plain": [
       "'smart:'"
      ]
     },
     "metadata": {},
     "output_type": "display_data"
    },
    {
     "data": {
      "text/plain": [
       "717.5942011753547"
      ]
     },
     "metadata": {},
     "output_type": "display_data"
    },
    {
     "data": {
      "text/plain": [
       "'ultra:'"
      ]
     },
     "metadata": {},
     "output_type": "display_data"
    },
    {
     "data": {
      "text/plain": [
       "2109.6591828652"
      ]
     },
     "metadata": {},
     "output_type": "display_data"
    }
   ],
   "source": [
    "messages_smart = data_messages_group[data_messages_group['tariff'] == 'smart']['id']\n",
    "messages_ultra = data_messages_group[data_messages_group['tariff'] == 'ultra']['id']\n",
    "\n",
    "messages_var_smart = np.var(messages_smart, ddof=1)\n",
    "messages_var_ultra = np.var(messages_ultra, ddof=1)\n",
    "display('smart:', messages_var_smart)\n",
    "display('ultra:', messages_var_ultra)"
   ]
  },
  {
   "cell_type": "code",
   "execution_count": 43,
   "metadata": {},
   "outputs": [
    {
     "data": {
      "text/plain": [
       "'smart:'"
      ]
     },
     "metadata": {},
     "output_type": "display_data"
    },
    {
     "data": {
      "text/plain": [
       "26.787948804926344"
      ]
     },
     "metadata": {},
     "output_type": "display_data"
    },
    {
     "data": {
      "text/plain": [
       "'ultra:'"
      ]
     },
     "metadata": {},
     "output_type": "display_data"
    },
    {
     "data": {
      "text/plain": [
       "9952.057054094726"
      ]
     },
     "metadata": {},
     "output_type": "display_data"
    }
   ],
   "source": [
    "messages_std_smart = np.std(messages_smart, ddof=1)\n",
    "messages_std_ultra = np.std(messages_ultra, ddof=1)\n",
    "display('smart:', messages_std_smart)\n",
    "display('ultra:', internet_std_ultra)"
   ]
  },
  {
   "cell_type": "markdown",
   "metadata": {},
   "source": [
    "По правилу трёх сигм рассчитаем какой объём интернет-трафика требуется 99% пользователей каждого тарифа:"
   ]
  },
  {
   "cell_type": "code",
   "execution_count": 44,
   "metadata": {},
   "outputs": [
    {
     "data": {
      "text/plain": [
       "'smart:'"
      ]
     },
     "metadata": {},
     "output_type": "display_data"
    },
    {
     "data": {
      "text/plain": [
       "119.08028762185499"
      ]
     },
     "metadata": {},
     "output_type": "display_data"
    },
    {
     "data": {
      "text/plain": [
       "'ultra:'"
      ]
     },
     "metadata": {},
     "output_type": "display_data"
    },
    {
     "data": {
      "text/plain": [
       "198.95408538178944"
      ]
     },
     "metadata": {},
     "output_type": "display_data"
    }
   ],
   "source": [
    "messages_sigm_smart = messages_mean_smart + 3*messages_std_smart\n",
    "messages_sigm_ultra = messages_mean_ultra + 3*messages_std_ultra\n",
    "display('smart:', messages_sigm_smart)\n",
    "display('ultra:', messages_sigm_ultra)"
   ]
  },
  {
   "cell_type": "markdown",
   "metadata": {},
   "source": [
    "Построим гистограмму по данным data_messages_group:"
   ]
  },
  {
   "cell_type": "code",
   "execution_count": 45,
   "metadata": {},
   "outputs": [
    {
     "data": {
      "text/plain": [
       "34.0"
      ]
     },
     "execution_count": 45,
     "metadata": {},
     "output_type": "execute_result"
    }
   ],
   "source": [
    "data_messages_smart = data_messages_group[data_messages_group['tariff'] == 'smart']\n",
    "data_messages_smart['id'].median()"
   ]
  },
  {
   "cell_type": "code",
   "execution_count": 46,
   "metadata": {},
   "outputs": [
    {
     "data": {
      "image/png": "[encoded data removed]",
      "text/plain": [
       "<Figure size 432x288 with 1 Axes>"
      ]
     },
     "metadata": {
      "needs_background": "light"
     },
     "output_type": "display_data"
    }
   ],
   "source": [
    "data_messages_smart.plot(kind='hist', y='id', bins=100, grid=True)\n",
    "plt.xlabel('Количество сообщений')\n",
    "plt.ylabel('Частота')\n",
    "plt.title('Тариф smart\\nmessages')\n",
    "plt.show()"
   ]
  },
  {
   "cell_type": "markdown",
   "metadata": {},
   "source": [
    "Так как медианна < среднего значит датасет ассиметричен, скошен вправо."
   ]
  },
  {
   "cell_type": "code",
   "execution_count": 47,
   "metadata": {},
   "outputs": [
    {
     "data": {
      "text/plain": [
       "51.0"
      ]
     },
     "execution_count": 47,
     "metadata": {},
     "output_type": "execute_result"
    }
   ],
   "source": [
    "data_messages_ultra = data_messages_group[data_messages_group['tariff'] == 'ultra']\n",
    "data_messages_ultra['id'].median()"
   ]
  },
  {
   "cell_type": "code",
   "execution_count": 48,
   "metadata": {},
   "outputs": [
    {
     "data": {
      "image/png": "[encoded data removed]",
      "text/plain": [
       "<Figure size 432x288 with 1 Axes>"
      ]
     },
     "metadata": {
      "needs_background": "light"
     },
     "output_type": "display_data"
    }
   ],
   "source": [
    "data_messages_ultra.plot(kind='hist', y='id', bins=100, grid=True)\n",
    "plt.xlabel('Количество сообщений')\n",
    "plt.ylabel('Частота')\n",
    "plt.title('Тариф ultra\\nmessages')\n",
    "plt.show()"
   ]
  },
  {
   "cell_type": "markdown",
   "metadata": {},
   "source": [
    "Так как медианна < среднего значит датасет ассиметричен, скошен вправо."
   ]
  },
  {
   "cell_type": "markdown",
   "metadata": {},
   "source": [
    "# Проверка гипотез"
   ]
  },
  {
   "cell_type": "markdown",
   "metadata": {},
   "source": [
    "## Формулирование гипотез"
   ]
  },
  {
   "cell_type": "markdown",
   "metadata": {},
   "source": [
    "Нулевая гипотеза H₀: Средняя выручка пользователей тарифов «Ультра» и «Смарт» равны.\n",
    "\n",
    "Альтернативная гипотеза H₁: Средняя выручка пользователей тарифов «Ультра» и «Смарт» не равны."
   ]
  },
  {
   "cell_type": "code",
   "execution_count": 49,
   "metadata": {},
   "outputs": [
    {
     "data": {
      "text/plain": [
       "'p-значение:'"
      ]
     },
     "metadata": {},
     "output_type": "display_data"
    },
    {
     "data": {
      "text/plain": [
       "2.9776448000521676e-158"
      ]
     },
     "metadata": {},
     "output_type": "display_data"
    },
    {
     "data": {
      "text/plain": [
       "'Отвергаем нулевую гипотезу'"
      ]
     },
     "metadata": {},
     "output_type": "display_data"
    }
   ],
   "source": [
    "array_smart = data_revenue[data_revenue['tariff'] == 'smart']['total_revenue'].to_numpy()\n",
    "array_ultra = data_revenue[data_revenue['tariff'] == 'ultra']['total_revenue'].to_numpy()\n",
    "alpha = 0.05\n",
    "results = st.ttest_ind(array_smart, array_ultra)\n",
    "display('p-значение:', results.pvalue)\n",
    "\n",
    "if results.pvalue < alpha:\n",
    "    display(\"Отвергаем нулевую гипотезу\")\n",
    "else:\n",
    "    display(\"Не получилось отвергнуть нулевую гипотезу\")"
   ]
  },
  {
   "cell_type": "markdown",
   "metadata": {},
   "source": [
    "Для проверки гипотез использовала гипотезу о равенстве средних двух генеральных совокупностей по взятым из них выборкам - метод st.ttest_ind(). Использовала именно данный метод, потому что берем 2 совокупности одна по тарифу \"smart\" другая по тарифу \"ultra\". Наше 'p-значение:' = 2.9776448000521676e-158 это значит , что 2.9776448000521676*10 в -158 степени = 0.0000......29776448000521676 соответственно оно меньше чем alpha поэтому отвергаем нулевую гипотезу."
   ]
  },
  {
   "cell_type": "markdown",
   "metadata": {},
   "source": [
    "## Формулирование гипотез"
   ]
  },
  {
   "cell_type": "markdown",
   "metadata": {},
   "source": [
    "Нулевая гипотеза H₀: Средняя выручка пользователей из Москвы равна средней выручке пользователей из других регионов.\n",
    "\n",
    "Альтернативная гипотеза H₁: Средняя выручка пользователей из Москвы не равна средней выручке пользователей из других регионов."
   ]
  },
  {
   "cell_type": "code",
   "execution_count": 50,
   "metadata": {},
   "outputs": [
    {
     "data": {
      "text/html": [
       "<div>\n",
       "<style scoped>\n",
       "    .dataframe tbody tr th:only-of-type {\n",
       "        vertical-align: middle;\n",
       "    }\n",
       "\n",
       "    .dataframe tbody tr th {\n",
       "        vertical-align: top;\n",
       "    }\n",
       "\n",
       "    .dataframe thead th {\n",
       "        text-align: right;\n",
       "    }\n",
       "</style>\n",
       "<table border=\"1\" class=\"dataframe\">\n",
       "  <thead>\n",
       "    <tr style=\"text-align: right;\">\n",
       "      <th></th>\n",
       "      <th>user_id</th>\n",
       "      <th>month</th>\n",
       "      <th>tariff</th>\n",
       "      <th>revenue_calls</th>\n",
       "      <th>revenue_messages</th>\n",
       "      <th>revenue_internet</th>\n",
       "      <th>rub_monthly_fee</th>\n",
       "      <th>total_revenue</th>\n",
       "      <th>city</th>\n",
       "    </tr>\n",
       "  </thead>\n",
       "  <tbody>\n",
       "    <tr>\n",
       "      <td>0</td>\n",
       "      <td>1000</td>\n",
       "      <td>5</td>\n",
       "      <td>ultra</td>\n",
       "      <td>0.0</td>\n",
       "      <td>0.0</td>\n",
       "      <td>0.0</td>\n",
       "      <td>1950</td>\n",
       "      <td>1950</td>\n",
       "      <td>Краснодар</td>\n",
       "    </tr>\n",
       "    <tr>\n",
       "      <td>1</td>\n",
       "      <td>1000</td>\n",
       "      <td>6</td>\n",
       "      <td>ultra</td>\n",
       "      <td>0.0</td>\n",
       "      <td>0.0</td>\n",
       "      <td>0.0</td>\n",
       "      <td>1950</td>\n",
       "      <td>1950</td>\n",
       "      <td>Краснодар</td>\n",
       "    </tr>\n",
       "    <tr>\n",
       "      <td>2</td>\n",
       "      <td>1000</td>\n",
       "      <td>7</td>\n",
       "      <td>ultra</td>\n",
       "      <td>0.0</td>\n",
       "      <td>0.0</td>\n",
       "      <td>0.0</td>\n",
       "      <td>1950</td>\n",
       "      <td>1950</td>\n",
       "      <td>Краснодар</td>\n",
       "    </tr>\n",
       "    <tr>\n",
       "      <td>3</td>\n",
       "      <td>1000</td>\n",
       "      <td>8</td>\n",
       "      <td>ultra</td>\n",
       "      <td>0.0</td>\n",
       "      <td>0.0</td>\n",
       "      <td>0.0</td>\n",
       "      <td>1950</td>\n",
       "      <td>1950</td>\n",
       "      <td>Краснодар</td>\n",
       "    </tr>\n",
       "    <tr>\n",
       "      <td>4</td>\n",
       "      <td>1000</td>\n",
       "      <td>9</td>\n",
       "      <td>ultra</td>\n",
       "      <td>0.0</td>\n",
       "      <td>0.0</td>\n",
       "      <td>0.0</td>\n",
       "      <td>1950</td>\n",
       "      <td>1950</td>\n",
       "      <td>Краснодар</td>\n",
       "    </tr>\n",
       "    <tr>\n",
       "      <td>...</td>\n",
       "      <td>...</td>\n",
       "      <td>...</td>\n",
       "      <td>...</td>\n",
       "      <td>...</td>\n",
       "      <td>...</td>\n",
       "      <td>...</td>\n",
       "      <td>...</td>\n",
       "      <td>...</td>\n",
       "      <td>...</td>\n",
       "    </tr>\n",
       "    <tr>\n",
       "      <td>3209</td>\n",
       "      <td>1489</td>\n",
       "      <td>8</td>\n",
       "      <td>smart</td>\n",
       "      <td>0.0</td>\n",
       "      <td>0.0</td>\n",
       "      <td>0.0</td>\n",
       "      <td>550</td>\n",
       "      <td>550</td>\n",
       "      <td>Санкт-Петербург</td>\n",
       "    </tr>\n",
       "    <tr>\n",
       "      <td>3210</td>\n",
       "      <td>1489</td>\n",
       "      <td>9</td>\n",
       "      <td>smart</td>\n",
       "      <td>0.0</td>\n",
       "      <td>0.0</td>\n",
       "      <td>400.0</td>\n",
       "      <td>550</td>\n",
       "      <td>950</td>\n",
       "      <td>Санкт-Петербург</td>\n",
       "    </tr>\n",
       "    <tr>\n",
       "      <td>3211</td>\n",
       "      <td>1489</td>\n",
       "      <td>10</td>\n",
       "      <td>smart</td>\n",
       "      <td>0.0</td>\n",
       "      <td>0.0</td>\n",
       "      <td>1000.0</td>\n",
       "      <td>550</td>\n",
       "      <td>1550</td>\n",
       "      <td>Санкт-Петербург</td>\n",
       "    </tr>\n",
       "    <tr>\n",
       "      <td>3212</td>\n",
       "      <td>1489</td>\n",
       "      <td>11</td>\n",
       "      <td>smart</td>\n",
       "      <td>0.0</td>\n",
       "      <td>0.0</td>\n",
       "      <td>600.0</td>\n",
       "      <td>550</td>\n",
       "      <td>1150</td>\n",
       "      <td>Санкт-Петербург</td>\n",
       "    </tr>\n",
       "    <tr>\n",
       "      <td>3213</td>\n",
       "      <td>1489</td>\n",
       "      <td>12</td>\n",
       "      <td>smart</td>\n",
       "      <td>0.0</td>\n",
       "      <td>0.0</td>\n",
       "      <td>400.0</td>\n",
       "      <td>550</td>\n",
       "      <td>950</td>\n",
       "      <td>Санкт-Петербург</td>\n",
       "    </tr>\n",
       "  </tbody>\n",
       "</table>\n",
       "<p>3214 rows × 9 columns</p>\n",
       "</div>"
      ],
      "text/plain": [
       "     user_id  month tariff  revenue_calls  revenue_messages  revenue_internet  \\\n",
       "0       1000      5  ultra            0.0               0.0               0.0   \n",
       "1       1000      6  ultra            0.0               0.0               0.0   \n",
       "2       1000      7  ultra            0.0               0.0               0.0   \n",
       "3       1000      8  ultra            0.0               0.0               0.0   \n",
       "4       1000      9  ultra            0.0               0.0               0.0   \n",
       "...      ...    ...    ...            ...               ...               ...   \n",
       "3209    1489      8  smart            0.0               0.0               0.0   \n",
       "3210    1489      9  smart            0.0               0.0             400.0   \n",
       "3211    1489     10  smart            0.0               0.0            1000.0   \n",
       "3212    1489     11  smart            0.0               0.0             600.0   \n",
       "3213    1489     12  smart            0.0               0.0             400.0   \n",
       "\n",
       "      rub_monthly_fee  total_revenue             city  \n",
       "0                1950           1950        Краснодар  \n",
       "1                1950           1950        Краснодар  \n",
       "2                1950           1950        Краснодар  \n",
       "3                1950           1950        Краснодар  \n",
       "4                1950           1950        Краснодар  \n",
       "...               ...            ...              ...  \n",
       "3209              550            550  Санкт-Петербург  \n",
       "3210              550            950  Санкт-Петербург  \n",
       "3211              550           1550  Санкт-Петербург  \n",
       "3212              550           1150  Санкт-Петербург  \n",
       "3213              550            950  Санкт-Петербург  \n",
       "\n",
       "[3214 rows x 9 columns]"
      ]
     },
     "execution_count": 50,
     "metadata": {},
     "output_type": "execute_result"
    }
   ],
   "source": [
    "data_users_city = data_users[['user_id', 'city']]\n",
    "data_users_city_revenue = data_revenue.merge(data_users_city, on='user_id')\n",
    "data_users_city_revenue"
   ]
  },
  {
   "cell_type": "markdown",
   "metadata": {},
   "source": [
    "Совместили два датафрейма data_revenue и data_users_city"
   ]
  },
  {
   "cell_type": "code",
   "execution_count": 51,
   "metadata": {},
   "outputs": [
    {
     "data": {
      "text/plain": [
       "'p-значение:'"
      ]
     },
     "metadata": {},
     "output_type": "display_data"
    },
    {
     "data": {
      "text/plain": [
       "0.531666503831252"
      ]
     },
     "metadata": {},
     "output_type": "display_data"
    },
    {
     "data": {
      "text/plain": [
       "'Не получилось отвергнуть нулевую гипотезу'"
      ]
     },
     "metadata": {},
     "output_type": "display_data"
    }
   ],
   "source": [
    "array_moscow = data_users_city_revenue[data_users_city_revenue['city'] == 'Москва']['total_revenue'].to_numpy()\n",
    "array_other = data_users_city_revenue[data_users_city_revenue['city'] != 'Москва']['total_revenue'].to_numpy()\n",
    "alpha = 0.05\n",
    "results = st.ttest_ind(array_moscow, array_other)\n",
    "display('p-значение:', results.pvalue)\n",
    "\n",
    "if results.pvalue < alpha:\n",
    "    display(\"Отвергаем нулевую гипотезу\")\n",
    "else:\n",
    "    display(\"Не получилось отвергнуть нулевую гипотезу\")"
   ]
  },
  {
   "cell_type": "markdown",
   "metadata": {},
   "source": [
    "Для проверки гипотез использовала гипотезу о равенстве средних двух генеральных совокупностей по взятым из них выборкам - метод st.ttest_ind(). Использовала именно данный метод, потому что берем 2 совокупности одна по городу \"Москва\" другая по остальным регионам."
   ]
  },
  {
   "cell_type": "markdown",
   "metadata": {},
   "source": [
    "# Общий вывод"
   ]
  },
  {
   "cell_type": "markdown",
   "metadata": {},
   "source": [
    "Вывод можно сделать такой: Клиенты с тарифом \"Смарт\" укладываются в тариф по минутам разговора и по сообщениям, а по интернет-трафику превышают количество ГБ, которые входят в тариф. Клиенты с тарифом \"Ультра\" также укладываются в тариф по минутам разговора и по сообщениям, и не намного превышают количество ГБ, но по минутам разговора и по сообщениям они далеки от тех норм которые включены в тариф. Поэтому я сделала такой вывод, что в клиенты с тарифом \"Ультра\" перейдут на тариф \"Смарт\" так как по данным они укладываются в включенные минуты разговора и сообщения, а так как по интернет-трафику ни в одном из тарифов не укладываются в норму, то просто будут доплачивать за количество ГБ потраченных сверх тарифного пакета и соответственно это будет дополнительный доход. Тариф \"Смарт\" выгодней продавать чем тариф \"Ультра\"."
   ]
  }
 ],
 "metadata": {
  "ExecuteTimeLog": [
   {
    "duration": 663,
    "start_time": "2022-02-15T12:43:29.549Z"
   },
   {
    "duration": 140,
    "start_time": "2022-02-15T12:43:49.435Z"
   },
   {
    "duration": 146,
    "start_time": "2022-02-15T12:44:14.903Z"
   },
   {
    "duration": 149,
    "start_time": "2022-02-15T12:45:22.145Z"
   },
   {
    "duration": 118,
    "start_time": "2022-02-15T12:45:35.525Z"
   },
   {
    "duration": 326,
    "start_time": "2022-02-15T14:02:21.897Z"
   },
   {
    "duration": 943,
    "start_time": "2022-02-15T14:02:25.896Z"
   },
   {
    "duration": 171,
    "start_time": "2022-02-15T14:02:26.843Z"
   },
   {
    "duration": 120,
    "start_time": "2022-02-15T14:02:27.017Z"
   },
   {
    "duration": 20,
    "start_time": "2022-02-15T14:03:17.813Z"
   },
   {
    "duration": 35,
    "start_time": "2022-02-15T14:03:53.865Z"
   },
   {
    "duration": 35,
    "start_time": "2022-02-15T14:09:39.574Z"
   },
   {
    "duration": 40,
    "start_time": "2022-02-15T14:10:07.246Z"
   },
   {
    "duration": 226,
    "start_time": "2022-02-15T14:10:32.645Z"
   },
   {
    "duration": 25,
    "start_time": "2022-02-15T14:10:32.874Z"
   },
   {
    "duration": 46,
    "start_time": "2022-02-15T14:10:32.903Z"
   },
   {
    "duration": 191,
    "start_time": "2022-02-15T14:10:32.952Z"
   },
   {
    "duration": 181,
    "start_time": "2022-02-15T14:10:33.145Z"
   },
   {
    "duration": 18,
    "start_time": "2022-02-15T14:10:33.329Z"
   },
   {
    "duration": 23,
    "start_time": "2022-02-15T14:10:33.349Z"
   },
   {
    "duration": 29,
    "start_time": "2022-02-15T14:10:57.986Z"
   },
   {
    "duration": 20,
    "start_time": "2022-02-15T14:11:05.693Z"
   },
   {
    "duration": 37,
    "start_time": "2022-02-15T14:11:20.559Z"
   },
   {
    "duration": 208,
    "start_time": "2022-02-15T14:12:11.651Z"
   },
   {
    "duration": 25,
    "start_time": "2022-02-15T14:12:11.861Z"
   },
   {
    "duration": 53,
    "start_time": "2022-02-15T14:12:11.889Z"
   },
   {
    "duration": 179,
    "start_time": "2022-02-15T14:12:11.945Z"
   },
   {
    "duration": 20,
    "start_time": "2022-02-15T14:12:12.127Z"
   },
   {
    "duration": 75,
    "start_time": "2022-02-15T14:12:12.150Z"
   },
   {
    "duration": 134,
    "start_time": "2022-02-15T14:12:12.228Z"
   },
   {
    "duration": 19,
    "start_time": "2022-02-15T14:12:12.366Z"
   },
   {
    "duration": 24,
    "start_time": "2022-02-15T14:12:12.388Z"
   },
   {
    "duration": 18,
    "start_time": "2022-02-15T14:12:55.288Z"
   },
   {
    "duration": 17,
    "start_time": "2022-02-15T14:12:57.116Z"
   },
   {
    "duration": 9,
    "start_time": "2022-02-15T14:13:52.003Z"
   },
   {
    "duration": 42,
    "start_time": "2022-02-15T14:13:53.807Z"
   },
   {
    "duration": 208,
    "start_time": "2022-02-15T14:14:17.659Z"
   },
   {
    "duration": 24,
    "start_time": "2022-02-15T14:14:17.870Z"
   },
   {
    "duration": 52,
    "start_time": "2022-02-15T14:14:17.897Z"
   },
   {
    "duration": 180,
    "start_time": "2022-02-15T14:14:17.952Z"
   },
   {
    "duration": 23,
    "start_time": "2022-02-15T14:14:18.134Z"
   },
   {
    "duration": 36,
    "start_time": "2022-02-15T14:14:18.159Z"
   },
   {
    "duration": 144,
    "start_time": "2022-02-15T14:14:18.197Z"
   },
   {
    "duration": 17,
    "start_time": "2022-02-15T14:14:18.344Z"
   },
   {
    "duration": 18,
    "start_time": "2022-02-15T14:14:18.365Z"
   },
   {
    "duration": 43,
    "start_time": "2022-02-15T14:14:18.386Z"
   },
   {
    "duration": 7,
    "start_time": "2022-02-15T14:14:18.431Z"
   },
   {
    "duration": 43,
    "start_time": "2022-02-15T14:14:18.440Z"
   },
   {
    "duration": 38,
    "start_time": "2022-02-15T14:14:18.485Z"
   },
   {
    "duration": 7,
    "start_time": "2022-02-15T14:15:18.957Z"
   },
   {
    "duration": 23,
    "start_time": "2022-02-15T14:15:21.607Z"
   },
   {
    "duration": 207,
    "start_time": "2022-02-15T14:15:31.908Z"
   },
   {
    "duration": 28,
    "start_time": "2022-02-15T14:15:32.122Z"
   },
   {
    "duration": 33,
    "start_time": "2022-02-15T14:15:32.153Z"
   },
   {
    "duration": 193,
    "start_time": "2022-02-15T14:15:32.189Z"
   },
   {
    "duration": 21,
    "start_time": "2022-02-15T14:15:32.385Z"
   },
   {
    "duration": 49,
    "start_time": "2022-02-15T14:15:32.408Z"
   },
   {
    "duration": 135,
    "start_time": "2022-02-15T14:15:32.460Z"
   },
   {
    "duration": 27,
    "start_time": "2022-02-15T14:15:32.597Z"
   },
   {
    "duration": 19,
    "start_time": "2022-02-15T14:15:32.628Z"
   },
   {
    "duration": 19,
    "start_time": "2022-02-15T14:15:32.649Z"
   },
   {
    "duration": 7,
    "start_time": "2022-02-15T14:15:32.670Z"
   },
   {
    "duration": 75,
    "start_time": "2022-02-15T14:15:32.679Z"
   },
   {
    "duration": 30,
    "start_time": "2022-02-15T14:15:32.756Z"
   },
   {
    "duration": 10,
    "start_time": "2022-02-15T14:15:32.788Z"
   },
   {
    "duration": 33,
    "start_time": "2022-02-15T14:15:32.800Z"
   },
   {
    "duration": 67,
    "start_time": "2022-02-15T14:59:49.397Z"
   },
   {
    "duration": 223,
    "start_time": "2022-02-15T14:59:57.324Z"
   },
   {
    "duration": 26,
    "start_time": "2022-02-15T14:59:57.549Z"
   },
   {
    "duration": 60,
    "start_time": "2022-02-15T14:59:57.578Z"
   },
   {
    "duration": 186,
    "start_time": "2022-02-15T14:59:57.641Z"
   },
   {
    "duration": 21,
    "start_time": "2022-02-15T14:59:57.830Z"
   },
   {
    "duration": 37,
    "start_time": "2022-02-15T14:59:57.853Z"
   },
   {
    "duration": 153,
    "start_time": "2022-02-15T14:59:57.892Z"
   },
   {
    "duration": 18,
    "start_time": "2022-02-15T14:59:58.047Z"
   },
   {
    "duration": 18,
    "start_time": "2022-02-15T14:59:58.069Z"
   },
   {
    "duration": 40,
    "start_time": "2022-02-15T14:59:58.091Z"
   },
   {
    "duration": 9,
    "start_time": "2022-02-15T14:59:58.135Z"
   },
   {
    "duration": 81,
    "start_time": "2022-02-15T14:59:58.146Z"
   },
   {
    "duration": 26,
    "start_time": "2022-02-15T14:59:58.230Z"
   },
   {
    "duration": 10,
    "start_time": "2022-02-15T14:59:58.259Z"
   },
   {
    "duration": 24,
    "start_time": "2022-02-15T14:59:58.271Z"
   },
   {
    "duration": 90,
    "start_time": "2022-02-15T14:59:58.323Z"
   },
   {
    "duration": 17,
    "start_time": "2022-02-15T15:00:32.372Z"
   },
   {
    "duration": 214,
    "start_time": "2022-02-15T15:03:58.606Z"
   },
   {
    "duration": 41,
    "start_time": "2022-02-15T15:03:58.823Z"
   },
   {
    "duration": 56,
    "start_time": "2022-02-15T15:03:58.867Z"
   },
   {
    "duration": 176,
    "start_time": "2022-02-15T15:03:58.926Z"
   },
   {
    "duration": 28,
    "start_time": "2022-02-15T15:03:59.105Z"
   },
   {
    "duration": 46,
    "start_time": "2022-02-15T15:03:59.136Z"
   },
   {
    "duration": 147,
    "start_time": "2022-02-15T15:03:59.185Z"
   },
   {
    "duration": 19,
    "start_time": "2022-02-15T15:03:59.334Z"
   },
   {
    "duration": 18,
    "start_time": "2022-02-15T15:03:59.357Z"
   },
   {
    "duration": 48,
    "start_time": "2022-02-15T15:03:59.378Z"
   },
   {
    "duration": 9,
    "start_time": "2022-02-15T15:03:59.428Z"
   },
   {
    "duration": 57,
    "start_time": "2022-02-15T15:03:59.440Z"
   },
   {
    "duration": 35,
    "start_time": "2022-02-15T15:03:59.499Z"
   },
   {
    "duration": 8,
    "start_time": "2022-02-15T15:03:59.536Z"
   },
   {
    "duration": 21,
    "start_time": "2022-02-15T15:03:59.547Z"
   },
   {
    "duration": 96,
    "start_time": "2022-02-15T15:03:59.572Z"
   },
   {
    "duration": 38,
    "start_time": "2022-02-15T15:10:10.700Z"
   },
   {
    "duration": 40,
    "start_time": "2022-02-15T15:10:17.029Z"
   },
   {
    "duration": 26,
    "start_time": "2022-02-15T15:13:14.255Z"
   },
   {
    "duration": 239,
    "start_time": "2022-02-15T15:13:24.570Z"
   },
   {
    "duration": 29,
    "start_time": "2022-02-15T15:13:24.811Z"
   },
   {
    "duration": 36,
    "start_time": "2022-02-15T15:13:24.843Z"
   },
   {
    "duration": 210,
    "start_time": "2022-02-15T15:13:24.882Z"
   },
   {
    "duration": 38,
    "start_time": "2022-02-15T15:13:25.094Z"
   },
   {
    "duration": 38,
    "start_time": "2022-02-15T15:13:25.134Z"
   },
   {
    "duration": 178,
    "start_time": "2022-02-15T15:13:25.174Z"
   },
   {
    "duration": 20,
    "start_time": "2022-02-15T15:13:25.354Z"
   },
   {
    "duration": 20,
    "start_time": "2022-02-15T15:13:25.377Z"
   },
   {
    "duration": 20,
    "start_time": "2022-02-15T15:13:25.425Z"
   },
   {
    "duration": 9,
    "start_time": "2022-02-15T15:13:25.447Z"
   },
   {
    "duration": 76,
    "start_time": "2022-02-15T15:13:25.459Z"
   },
   {
    "duration": 31,
    "start_time": "2022-02-15T15:13:25.538Z"
   },
   {
    "duration": 8,
    "start_time": "2022-02-15T15:13:25.572Z"
   },
   {
    "duration": 24,
    "start_time": "2022-02-15T15:13:25.583Z"
   },
   {
    "duration": 74,
    "start_time": "2022-02-15T15:13:25.624Z"
   },
   {
    "duration": 94,
    "start_time": "2022-02-15T15:13:25.701Z"
   },
   {
    "duration": 7176,
    "start_time": "2022-02-15T15:13:41.739Z"
   },
   {
    "duration": 214,
    "start_time": "2022-02-15T15:13:55.918Z"
   },
   {
    "duration": 25,
    "start_time": "2022-02-15T15:13:56.135Z"
   },
   {
    "duration": 70,
    "start_time": "2022-02-15T15:13:56.164Z"
   },
   {
    "duration": 244,
    "start_time": "2022-02-15T15:13:56.237Z"
   },
   {
    "duration": 42,
    "start_time": "2022-02-15T15:13:56.484Z"
   },
   {
    "duration": 40,
    "start_time": "2022-02-15T15:13:56.528Z"
   },
   {
    "duration": 146,
    "start_time": "2022-02-15T15:13:56.570Z"
   },
   {
    "duration": 18,
    "start_time": "2022-02-15T15:13:56.719Z"
   },
   {
    "duration": 19,
    "start_time": "2022-02-15T15:13:56.741Z"
   },
   {
    "duration": 17,
    "start_time": "2022-02-15T15:13:56.763Z"
   },
   {
    "duration": 46,
    "start_time": "2022-02-15T15:13:56.782Z"
   },
   {
    "duration": 40,
    "start_time": "2022-02-15T15:13:56.831Z"
   },
   {
    "duration": 30,
    "start_time": "2022-02-15T15:13:56.873Z"
   },
   {
    "duration": 8,
    "start_time": "2022-02-15T15:13:56.924Z"
   },
   {
    "duration": 26,
    "start_time": "2022-02-15T15:13:56.935Z"
   },
   {
    "duration": 90,
    "start_time": "2022-02-15T15:13:56.964Z"
   },
   {
    "duration": 44,
    "start_time": "2022-02-15T15:13:57.057Z"
   },
   {
    "duration": 6804,
    "start_time": "2022-02-15T15:14:13.021Z"
   },
   {
    "duration": 227,
    "start_time": "2022-02-15T15:14:31.006Z"
   },
   {
    "duration": 28,
    "start_time": "2022-02-15T15:14:31.236Z"
   },
   {
    "duration": 59,
    "start_time": "2022-02-15T15:14:31.267Z"
   },
   {
    "duration": 193,
    "start_time": "2022-02-15T15:14:31.330Z"
   },
   {
    "duration": 21,
    "start_time": "2022-02-15T15:14:31.526Z"
   },
   {
    "duration": 37,
    "start_time": "2022-02-15T15:14:31.549Z"
   },
   {
    "duration": 153,
    "start_time": "2022-02-15T15:14:31.589Z"
   },
   {
    "duration": 27,
    "start_time": "2022-02-15T15:14:31.746Z"
   },
   {
    "duration": 46,
    "start_time": "2022-02-15T15:14:31.779Z"
   },
   {
    "duration": 18,
    "start_time": "2022-02-15T15:14:31.828Z"
   },
   {
    "duration": 9,
    "start_time": "2022-02-15T15:14:31.848Z"
   },
   {
    "duration": 71,
    "start_time": "2022-02-15T15:14:31.859Z"
   },
   {
    "duration": 27,
    "start_time": "2022-02-15T15:14:31.933Z"
   },
   {
    "duration": 7,
    "start_time": "2022-02-15T15:14:31.963Z"
   },
   {
    "duration": 28,
    "start_time": "2022-02-15T15:14:31.973Z"
   },
   {
    "duration": 70,
    "start_time": "2022-02-15T15:14:32.004Z"
   },
   {
    "duration": 61,
    "start_time": "2022-02-15T15:14:32.076Z"
   },
   {
    "duration": 3489,
    "start_time": "2022-02-15T15:14:39.751Z"
   },
   {
    "duration": 3559,
    "start_time": "2022-02-15T15:14:57.853Z"
   },
   {
    "duration": 215,
    "start_time": "2022-02-15T15:15:04.768Z"
   },
   {
    "duration": 25,
    "start_time": "2022-02-15T15:15:04.986Z"
   },
   {
    "duration": 35,
    "start_time": "2022-02-15T15:15:05.025Z"
   },
   {
    "duration": 197,
    "start_time": "2022-02-15T15:15:05.063Z"
   },
   {
    "duration": 22,
    "start_time": "2022-02-15T15:15:05.262Z"
   },
   {
    "duration": 60,
    "start_time": "2022-02-15T15:15:05.287Z"
   },
   {
    "duration": 138,
    "start_time": "2022-02-15T15:15:05.350Z"
   },
   {
    "duration": 19,
    "start_time": "2022-02-15T15:15:05.490Z"
   },
   {
    "duration": 19,
    "start_time": "2022-02-15T15:15:05.526Z"
   },
   {
    "duration": 17,
    "start_time": "2022-02-15T15:15:05.548Z"
   },
   {
    "duration": 9,
    "start_time": "2022-02-15T15:15:05.568Z"
   },
   {
    "duration": 73,
    "start_time": "2022-02-15T15:15:05.580Z"
   },
   {
    "duration": 30,
    "start_time": "2022-02-15T15:15:05.655Z"
   },
   {
    "duration": 11,
    "start_time": "2022-02-15T15:15:05.688Z"
   },
   {
    "duration": 35,
    "start_time": "2022-02-15T15:15:05.701Z"
   },
   {
    "duration": 59,
    "start_time": "2022-02-15T15:15:05.739Z"
   },
   {
    "duration": 55,
    "start_time": "2022-02-15T15:15:05.802Z"
   },
   {
    "duration": 321,
    "start_time": "2022-02-15T15:16:23.108Z"
   },
   {
    "duration": 225,
    "start_time": "2022-02-15T15:16:34.602Z"
   },
   {
    "duration": 26,
    "start_time": "2022-02-15T15:16:34.830Z"
   },
   {
    "duration": 65,
    "start_time": "2022-02-15T15:16:34.860Z"
   },
   {
    "duration": 191,
    "start_time": "2022-02-15T15:16:34.928Z"
   },
   {
    "duration": 23,
    "start_time": "2022-02-15T15:16:35.124Z"
   },
   {
    "duration": 38,
    "start_time": "2022-02-15T15:16:35.150Z"
   },
   {
    "duration": 156,
    "start_time": "2022-02-15T15:16:35.190Z"
   },
   {
    "duration": 29,
    "start_time": "2022-02-15T15:16:35.349Z"
   },
   {
    "duration": 46,
    "start_time": "2022-02-15T15:16:35.383Z"
   },
   {
    "duration": 22,
    "start_time": "2022-02-15T15:16:35.432Z"
   },
   {
    "duration": 13,
    "start_time": "2022-02-15T15:16:35.457Z"
   },
   {
    "duration": 75,
    "start_time": "2022-02-15T15:16:35.473Z"
   },
   {
    "duration": 25,
    "start_time": "2022-02-15T15:16:35.551Z"
   },
   {
    "duration": 8,
    "start_time": "2022-02-15T15:16:35.578Z"
   },
   {
    "duration": 44,
    "start_time": "2022-02-15T15:16:35.588Z"
   },
   {
    "duration": 54,
    "start_time": "2022-02-15T15:16:35.634Z"
   },
   {
    "duration": 72,
    "start_time": "2022-02-15T15:16:35.691Z"
   },
   {
    "duration": 282,
    "start_time": "2022-02-15T15:16:49.623Z"
   },
   {
    "duration": 234,
    "start_time": "2022-02-15T15:16:54.811Z"
   },
   {
    "duration": 40,
    "start_time": "2022-02-15T15:16:55.049Z"
   },
   {
    "duration": 70,
    "start_time": "2022-02-15T15:16:55.093Z"
   },
   {
    "duration": 192,
    "start_time": "2022-02-15T15:16:55.165Z"
   },
   {
    "duration": 20,
    "start_time": "2022-02-15T15:16:55.360Z"
   },
   {
    "duration": 60,
    "start_time": "2022-02-15T15:16:55.383Z"
   },
   {
    "duration": 133,
    "start_time": "2022-02-15T15:16:55.445Z"
   },
   {
    "duration": 18,
    "start_time": "2022-02-15T15:16:55.580Z"
   },
   {
    "duration": 39,
    "start_time": "2022-02-15T15:16:55.602Z"
   },
   {
    "duration": 17,
    "start_time": "2022-02-15T15:16:55.644Z"
   },
   {
    "duration": 16,
    "start_time": "2022-02-15T15:16:55.663Z"
   },
   {
    "duration": 51,
    "start_time": "2022-02-15T15:16:55.681Z"
   },
   {
    "duration": 22,
    "start_time": "2022-02-15T15:16:55.734Z"
   },
   {
    "duration": 20,
    "start_time": "2022-02-15T15:16:55.758Z"
   },
   {
    "duration": 30,
    "start_time": "2022-02-15T15:16:55.780Z"
   },
   {
    "duration": 65,
    "start_time": "2022-02-15T15:16:55.813Z"
   },
   {
    "duration": 69,
    "start_time": "2022-02-15T15:16:55.881Z"
   },
   {
    "duration": 280,
    "start_time": "2022-02-15T15:17:16.586Z"
   },
   {
    "duration": 210,
    "start_time": "2022-02-15T15:17:19.355Z"
   },
   {
    "duration": 24,
    "start_time": "2022-02-15T15:17:19.568Z"
   },
   {
    "duration": 49,
    "start_time": "2022-02-15T15:17:19.595Z"
   },
   {
    "duration": 176,
    "start_time": "2022-02-15T15:17:19.648Z"
   },
   {
    "duration": 21,
    "start_time": "2022-02-15T15:17:19.826Z"
   },
   {
    "duration": 35,
    "start_time": "2022-02-15T15:17:19.849Z"
   },
   {
    "duration": 148,
    "start_time": "2022-02-15T15:17:19.887Z"
   },
   {
    "duration": 18,
    "start_time": "2022-02-15T15:17:20.037Z"
   },
   {
    "duration": 19,
    "start_time": "2022-02-15T15:17:20.059Z"
   },
   {
    "duration": 46,
    "start_time": "2022-02-15T15:17:20.080Z"
   },
   {
    "duration": 8,
    "start_time": "2022-02-15T15:17:20.128Z"
   },
   {
    "duration": 44,
    "start_time": "2022-02-15T15:17:20.138Z"
   },
   {
    "duration": 46,
    "start_time": "2022-02-15T15:17:20.184Z"
   },
   {
    "duration": 7,
    "start_time": "2022-02-15T15:17:20.233Z"
   },
   {
    "duration": 23,
    "start_time": "2022-02-15T15:17:20.242Z"
   },
   {
    "duration": 80,
    "start_time": "2022-02-15T15:17:20.268Z"
   },
   {
    "duration": 58,
    "start_time": "2022-02-15T15:17:20.352Z"
   },
   {
    "duration": 206,
    "start_time": "2022-02-15T15:20:43.743Z"
   },
   {
    "duration": 27,
    "start_time": "2022-02-15T15:20:43.952Z"
   },
   {
    "duration": 58,
    "start_time": "2022-02-15T15:20:43.982Z"
   },
   {
    "duration": 183,
    "start_time": "2022-02-15T15:20:44.044Z"
   },
   {
    "duration": 24,
    "start_time": "2022-02-15T15:20:44.230Z"
   },
   {
    "duration": 36,
    "start_time": "2022-02-15T15:20:44.256Z"
   },
   {
    "duration": 130,
    "start_time": "2022-02-15T15:20:44.323Z"
   },
   {
    "duration": 18,
    "start_time": "2022-02-15T15:20:44.456Z"
   },
   {
    "duration": 19,
    "start_time": "2022-02-15T15:20:44.477Z"
   },
   {
    "duration": 19,
    "start_time": "2022-02-15T15:20:44.523Z"
   },
   {
    "duration": 15,
    "start_time": "2022-02-15T15:20:44.544Z"
   },
   {
    "duration": 46,
    "start_time": "2022-02-15T15:20:44.561Z"
   },
   {
    "duration": 23,
    "start_time": "2022-02-15T15:20:44.624Z"
   },
   {
    "duration": 10,
    "start_time": "2022-02-15T15:20:44.651Z"
   },
   {
    "duration": 22,
    "start_time": "2022-02-15T15:20:44.664Z"
   },
   {
    "duration": 78,
    "start_time": "2022-02-15T15:20:44.689Z"
   },
   {
    "duration": 68,
    "start_time": "2022-02-15T15:20:44.769Z"
   },
   {
    "duration": 33,
    "start_time": "2022-02-15T15:26:57.154Z"
   },
   {
    "duration": 208,
    "start_time": "2022-02-15T15:27:20.602Z"
   },
   {
    "duration": 34,
    "start_time": "2022-02-15T15:27:20.812Z"
   },
   {
    "duration": 35,
    "start_time": "2022-02-15T15:27:20.849Z"
   },
   {
    "duration": 213,
    "start_time": "2022-02-15T15:27:20.887Z"
   },
   {
    "duration": 30,
    "start_time": "2022-02-15T15:27:21.102Z"
   },
   {
    "duration": 43,
    "start_time": "2022-02-15T15:27:21.135Z"
   },
   {
    "duration": 145,
    "start_time": "2022-02-15T15:27:21.181Z"
   },
   {
    "duration": 19,
    "start_time": "2022-02-15T15:27:21.328Z"
   },
   {
    "duration": 23,
    "start_time": "2022-02-15T15:27:21.351Z"
   },
   {
    "duration": 47,
    "start_time": "2022-02-15T15:27:21.377Z"
   },
   {
    "duration": 9,
    "start_time": "2022-02-15T15:27:21.427Z"
   },
   {
    "duration": 44,
    "start_time": "2022-02-15T15:27:21.440Z"
   },
   {
    "duration": 44,
    "start_time": "2022-02-15T15:27:21.487Z"
   },
   {
    "duration": 8,
    "start_time": "2022-02-15T15:27:21.533Z"
   },
   {
    "duration": 23,
    "start_time": "2022-02-15T15:27:21.543Z"
   },
   {
    "duration": 87,
    "start_time": "2022-02-15T15:27:21.568Z"
   },
   {
    "duration": 81,
    "start_time": "2022-02-15T15:27:21.657Z"
   },
   {
    "duration": 35,
    "start_time": "2022-02-15T15:27:21.741Z"
   },
   {
    "duration": 10,
    "start_time": "2022-02-15T15:43:36.537Z"
   },
   {
    "duration": 203,
    "start_time": "2022-02-15T15:44:11.557Z"
   },
   {
    "duration": 26,
    "start_time": "2022-02-15T15:44:11.763Z"
   },
   {
    "duration": 56,
    "start_time": "2022-02-15T15:44:11.793Z"
   },
   {
    "duration": 192,
    "start_time": "2022-02-15T15:44:11.853Z"
   },
   {
    "duration": 21,
    "start_time": "2022-02-15T15:44:12.047Z"
   },
   {
    "duration": 56,
    "start_time": "2022-02-15T15:44:12.071Z"
   },
   {
    "duration": 135,
    "start_time": "2022-02-15T15:44:12.130Z"
   },
   {
    "duration": 18,
    "start_time": "2022-02-15T15:44:12.267Z"
   },
   {
    "duration": 39,
    "start_time": "2022-02-15T15:44:12.289Z"
   },
   {
    "duration": 18,
    "start_time": "2022-02-15T15:44:12.330Z"
   },
   {
    "duration": 7,
    "start_time": "2022-02-15T15:44:12.351Z"
   },
   {
    "duration": 66,
    "start_time": "2022-02-15T15:44:12.360Z"
   },
   {
    "duration": 23,
    "start_time": "2022-02-15T15:44:12.429Z"
   },
   {
    "duration": 7,
    "start_time": "2022-02-15T15:44:12.455Z"
   },
   {
    "duration": 21,
    "start_time": "2022-02-15T15:44:12.465Z"
   },
   {
    "duration": 51,
    "start_time": "2022-02-15T15:44:12.524Z"
   },
   {
    "duration": 69,
    "start_time": "2022-02-15T15:44:12.577Z"
   },
   {
    "duration": 32,
    "start_time": "2022-02-15T15:44:12.649Z"
   },
   {
    "duration": 10,
    "start_time": "2022-02-15T15:44:12.683Z"
   },
   {
    "duration": 9,
    "start_time": "2022-02-15T15:46:40.436Z"
   },
   {
    "duration": 43,
    "start_time": "2022-02-15T18:28:45.159Z"
   },
   {
    "duration": 335,
    "start_time": "2022-02-15T18:29:21.176Z"
   },
   {
    "duration": 327,
    "start_time": "2022-02-15T18:29:27.444Z"
   },
   {
    "duration": 205,
    "start_time": "2022-02-15T18:29:34.479Z"
   },
   {
    "duration": 38,
    "start_time": "2022-02-15T18:29:34.686Z"
   },
   {
    "duration": 35,
    "start_time": "2022-02-15T18:29:34.726Z"
   },
   {
    "duration": 200,
    "start_time": "2022-02-15T18:29:34.763Z"
   },
   {
    "duration": 21,
    "start_time": "2022-02-15T18:29:34.965Z"
   },
   {
    "duration": 56,
    "start_time": "2022-02-15T18:29:34.988Z"
   },
   {
    "duration": 133,
    "start_time": "2022-02-15T18:29:35.047Z"
   },
   {
    "duration": 18,
    "start_time": "2022-02-15T18:29:35.184Z"
   },
   {
    "duration": 37,
    "start_time": "2022-02-15T18:29:35.205Z"
   },
   {
    "duration": 19,
    "start_time": "2022-02-15T18:29:35.245Z"
   },
   {
    "duration": 8,
    "start_time": "2022-02-15T18:29:35.267Z"
   },
   {
    "duration": 78,
    "start_time": "2022-02-15T18:29:35.278Z"
   },
   {
    "duration": 22,
    "start_time": "2022-02-15T18:29:35.359Z"
   },
   {
    "duration": 7,
    "start_time": "2022-02-15T18:29:35.384Z"
   },
   {
    "duration": 44,
    "start_time": "2022-02-15T18:29:35.393Z"
   },
   {
    "duration": 91,
    "start_time": "2022-02-15T18:29:35.439Z"
   },
   {
    "duration": 79,
    "start_time": "2022-02-15T18:29:35.533Z"
   },
   {
    "duration": 37,
    "start_time": "2022-02-15T18:29:35.624Z"
   },
   {
    "duration": 10,
    "start_time": "2022-02-15T18:29:35.663Z"
   },
   {
    "duration": 223,
    "start_time": "2022-02-15T18:31:37.855Z"
   },
   {
    "duration": 26,
    "start_time": "2022-02-15T18:31:38.080Z"
   },
   {
    "duration": 47,
    "start_time": "2022-02-15T18:31:38.109Z"
   },
   {
    "duration": 203,
    "start_time": "2022-02-15T18:31:38.160Z"
   },
   {
    "duration": 24,
    "start_time": "2022-02-15T18:31:38.365Z"
   },
   {
    "duration": 59,
    "start_time": "2022-02-15T18:31:38.391Z"
   },
   {
    "duration": 138,
    "start_time": "2022-02-15T18:31:38.453Z"
   },
   {
    "duration": 31,
    "start_time": "2022-02-15T18:31:38.593Z"
   },
   {
    "duration": 20,
    "start_time": "2022-02-15T18:31:38.627Z"
   },
   {
    "duration": 19,
    "start_time": "2022-02-15T18:31:38.650Z"
   },
   {
    "duration": 16,
    "start_time": "2022-02-15T18:31:38.671Z"
   },
   {
    "duration": 70,
    "start_time": "2022-02-15T18:31:38.690Z"
   },
   {
    "duration": 25,
    "start_time": "2022-02-15T18:31:38.763Z"
   },
   {
    "duration": 10,
    "start_time": "2022-02-15T18:31:38.790Z"
   },
   {
    "duration": 25,
    "start_time": "2022-02-15T18:31:38.823Z"
   },
   {
    "duration": 108,
    "start_time": "2022-02-15T18:31:38.852Z"
   },
   {
    "duration": 97,
    "start_time": "2022-02-15T18:31:38.963Z"
   },
   {
    "duration": 62,
    "start_time": "2022-02-15T18:31:39.063Z"
   },
   {
    "duration": 12,
    "start_time": "2022-02-15T18:31:39.128Z"
   },
   {
    "duration": 24,
    "start_time": "2022-02-15T18:41:25.652Z"
   },
   {
    "duration": 148,
    "start_time": "2022-02-15T18:45:40.126Z"
   },
   {
    "duration": 133,
    "start_time": "2022-02-15T18:55:50.436Z"
   },
   {
    "duration": 207,
    "start_time": "2022-02-15T19:15:59.247Z"
   },
   {
    "duration": 24,
    "start_time": "2022-02-15T19:15:59.456Z"
   },
   {
    "duration": 58,
    "start_time": "2022-02-15T19:15:59.484Z"
   },
   {
    "duration": 169,
    "start_time": "2022-02-15T19:15:59.544Z"
   },
   {
    "duration": 21,
    "start_time": "2022-02-15T19:15:59.716Z"
   },
   {
    "duration": 37,
    "start_time": "2022-02-15T19:15:59.740Z"
   },
   {
    "duration": 165,
    "start_time": "2022-02-15T19:15:59.779Z"
   },
   {
    "duration": 17,
    "start_time": "2022-02-15T19:15:59.946Z"
   },
   {
    "duration": 17,
    "start_time": "2022-02-15T19:15:59.967Z"
   },
   {
    "duration": 17,
    "start_time": "2022-02-15T19:15:59.987Z"
   },
   {
    "duration": 11,
    "start_time": "2022-02-15T19:16:00.006Z"
   },
   {
    "duration": 52,
    "start_time": "2022-02-15T19:16:00.020Z"
   },
   {
    "duration": 33,
    "start_time": "2022-02-15T19:16:00.074Z"
   },
   {
    "duration": 7,
    "start_time": "2022-02-15T19:16:00.110Z"
   },
   {
    "duration": 26,
    "start_time": "2022-02-15T19:16:00.120Z"
   },
   {
    "duration": 78,
    "start_time": "2022-02-15T19:16:00.149Z"
   },
   {
    "duration": 77,
    "start_time": "2022-02-15T19:16:00.230Z"
   },
   {
    "duration": 50,
    "start_time": "2022-02-15T19:16:00.309Z"
   },
   {
    "duration": 10,
    "start_time": "2022-02-15T19:16:00.362Z"
   },
   {
    "duration": 26,
    "start_time": "2022-02-15T19:16:00.374Z"
   },
   {
    "duration": 151,
    "start_time": "2022-02-15T19:16:00.403Z"
   },
   {
    "duration": 1085,
    "start_time": "2022-02-16T12:19:04.543Z"
   },
   {
    "duration": 54,
    "start_time": "2022-02-16T12:19:05.632Z"
   },
   {
    "duration": 40,
    "start_time": "2022-02-16T12:19:05.689Z"
   },
   {
    "duration": 230,
    "start_time": "2022-02-16T12:19:05.732Z"
   },
   {
    "duration": 31,
    "start_time": "2022-02-16T12:19:05.969Z"
   },
   {
    "duration": 48,
    "start_time": "2022-02-16T12:19:06.003Z"
   },
   {
    "duration": 139,
    "start_time": "2022-02-16T12:19:06.074Z"
   },
   {
    "duration": 18,
    "start_time": "2022-02-16T12:19:06.217Z"
   },
   {
    "duration": 44,
    "start_time": "2022-02-16T12:19:06.237Z"
   },
   {
    "duration": 18,
    "start_time": "2022-02-16T12:19:06.285Z"
   },
   {
    "duration": 12,
    "start_time": "2022-02-16T12:19:06.305Z"
   },
   {
    "duration": 75,
    "start_time": "2022-02-16T12:19:06.320Z"
   },
   {
    "duration": 26,
    "start_time": "2022-02-16T12:19:06.397Z"
   },
   {
    "duration": 8,
    "start_time": "2022-02-16T12:19:06.426Z"
   },
   {
    "duration": 46,
    "start_time": "2022-02-16T12:19:06.436Z"
   },
   {
    "duration": 113,
    "start_time": "2022-02-16T12:19:06.485Z"
   },
   {
    "duration": 111,
    "start_time": "2022-02-16T12:19:06.601Z"
   },
   {
    "duration": 65,
    "start_time": "2022-02-16T12:19:06.715Z"
   },
   {
    "duration": 12,
    "start_time": "2022-02-16T12:19:06.782Z"
   },
   {
    "duration": 202,
    "start_time": "2022-02-16T12:19:06.797Z"
   },
   {
    "duration": 105,
    "start_time": "2022-02-16T12:22:31.033Z"
   },
   {
    "duration": 98,
    "start_time": "2022-02-16T12:23:21.874Z"
   },
   {
    "duration": 265,
    "start_time": "2022-02-16T12:24:05.972Z"
   },
   {
    "duration": 40,
    "start_time": "2022-02-16T12:24:06.240Z"
   },
   {
    "duration": 38,
    "start_time": "2022-02-16T12:24:06.283Z"
   },
   {
    "duration": 225,
    "start_time": "2022-02-16T12:24:06.324Z"
   },
   {
    "duration": 33,
    "start_time": "2022-02-16T12:24:06.552Z"
   },
   {
    "duration": 41,
    "start_time": "2022-02-16T12:24:06.588Z"
   },
   {
    "duration": 162,
    "start_time": "2022-02-16T12:24:06.633Z"
   },
   {
    "duration": 20,
    "start_time": "2022-02-16T12:24:06.797Z"
   },
   {
    "duration": 47,
    "start_time": "2022-02-16T12:24:06.822Z"
   },
   {
    "duration": 19,
    "start_time": "2022-02-16T12:24:06.873Z"
   },
   {
    "duration": 10,
    "start_time": "2022-02-16T12:24:06.895Z"
   },
   {
    "duration": 78,
    "start_time": "2022-02-16T12:24:06.908Z"
   },
   {
    "duration": 29,
    "start_time": "2022-02-16T12:24:06.989Z"
   },
   {
    "duration": 9,
    "start_time": "2022-02-16T12:24:07.021Z"
   },
   {
    "duration": 50,
    "start_time": "2022-02-16T12:24:07.033Z"
   },
   {
    "duration": 113,
    "start_time": "2022-02-16T12:24:07.086Z"
   },
   {
    "duration": 91,
    "start_time": "2022-02-16T12:24:07.202Z"
   },
   {
    "duration": 55,
    "start_time": "2022-02-16T12:24:07.295Z"
   },
   {
    "duration": 19,
    "start_time": "2022-02-16T12:24:07.353Z"
   },
   {
    "duration": 176,
    "start_time": "2022-02-16T12:24:07.375Z"
   },
   {
    "duration": 118,
    "start_time": "2022-02-16T12:24:07.554Z"
   },
   {
    "duration": 86,
    "start_time": "2022-02-16T12:33:35.960Z"
   },
   {
    "duration": 235,
    "start_time": "2022-02-16T12:51:03.501Z"
   },
   {
    "duration": 36,
    "start_time": "2022-02-16T12:51:03.739Z"
   },
   {
    "duration": 36,
    "start_time": "2022-02-16T12:51:03.778Z"
   },
   {
    "duration": 232,
    "start_time": "2022-02-16T12:51:03.817Z"
   },
   {
    "duration": 31,
    "start_time": "2022-02-16T12:51:04.051Z"
   },
   {
    "duration": 39,
    "start_time": "2022-02-16T12:51:04.084Z"
   },
   {
    "duration": 155,
    "start_time": "2022-02-16T12:51:04.126Z"
   },
   {
    "duration": 19,
    "start_time": "2022-02-16T12:51:04.283Z"
   },
   {
    "duration": 20,
    "start_time": "2022-02-16T12:51:04.306Z"
   },
   {
    "duration": 44,
    "start_time": "2022-02-16T12:51:04.328Z"
   },
   {
    "duration": 8,
    "start_time": "2022-02-16T12:51:04.374Z"
   },
   {
    "duration": 44,
    "start_time": "2022-02-16T12:51:04.384Z"
   },
   {
    "duration": 48,
    "start_time": "2022-02-16T12:51:04.431Z"
   },
   {
    "duration": 7,
    "start_time": "2022-02-16T12:51:04.481Z"
   },
   {
    "duration": 25,
    "start_time": "2022-02-16T12:51:04.490Z"
   },
   {
    "duration": 123,
    "start_time": "2022-02-16T12:51:04.517Z"
   },
   {
    "duration": 92,
    "start_time": "2022-02-16T12:51:04.642Z"
   },
   {
    "duration": 63,
    "start_time": "2022-02-16T12:51:04.737Z"
   },
   {
    "duration": 11,
    "start_time": "2022-02-16T12:51:04.802Z"
   },
   {
    "duration": 179,
    "start_time": "2022-02-16T12:51:04.815Z"
   },
   {
    "duration": 107,
    "start_time": "2022-02-16T12:51:04.997Z"
   },
   {
    "duration": 107,
    "start_time": "2022-02-16T12:51:05.107Z"
   },
   {
    "duration": 260,
    "start_time": "2022-02-16T12:53:25.729Z"
   },
   {
    "duration": 29,
    "start_time": "2022-02-16T12:53:25.992Z"
   },
   {
    "duration": 66,
    "start_time": "2022-02-16T12:53:26.025Z"
   },
   {
    "duration": 209,
    "start_time": "2022-02-16T12:53:26.094Z"
   },
   {
    "duration": 22,
    "start_time": "2022-02-16T12:53:26.305Z"
   },
   {
    "duration": 67,
    "start_time": "2022-02-16T12:53:26.330Z"
   },
   {
    "duration": 144,
    "start_time": "2022-02-16T12:53:26.400Z"
   },
   {
    "duration": 28,
    "start_time": "2022-02-16T12:53:26.546Z"
   },
   {
    "duration": 24,
    "start_time": "2022-02-16T12:53:26.578Z"
   },
   {
    "duration": 17,
    "start_time": "2022-02-16T12:53:26.606Z"
   },
   {
    "duration": 15,
    "start_time": "2022-02-16T12:53:26.626Z"
   },
   {
    "duration": 43,
    "start_time": "2022-02-16T12:53:26.670Z"
   },
   {
    "duration": 32,
    "start_time": "2022-02-16T12:53:26.716Z"
   },
   {
    "duration": 19,
    "start_time": "2022-02-16T12:53:26.751Z"
   },
   {
    "duration": 45,
    "start_time": "2022-02-16T12:53:26.773Z"
   },
   {
    "duration": 108,
    "start_time": "2022-02-16T12:53:26.821Z"
   },
   {
    "duration": 108,
    "start_time": "2022-02-16T12:53:26.932Z"
   },
   {
    "duration": 61,
    "start_time": "2022-02-16T12:53:27.043Z"
   },
   {
    "duration": 11,
    "start_time": "2022-02-16T12:53:27.107Z"
   },
   {
    "duration": 166,
    "start_time": "2022-02-16T12:53:27.120Z"
   },
   {
    "duration": 108,
    "start_time": "2022-02-16T12:53:27.288Z"
   },
   {
    "duration": 95,
    "start_time": "2022-02-16T12:53:27.398Z"
   },
   {
    "duration": 236,
    "start_time": "2022-02-16T12:56:34.982Z"
   },
   {
    "duration": 29,
    "start_time": "2022-02-16T12:56:35.221Z"
   },
   {
    "duration": 54,
    "start_time": "2022-02-16T12:56:35.253Z"
   },
   {
    "duration": 211,
    "start_time": "2022-02-16T12:56:35.310Z"
   },
   {
    "duration": 23,
    "start_time": "2022-02-16T12:56:35.523Z"
   },
   {
    "duration": 55,
    "start_time": "2022-02-16T12:56:35.549Z"
   },
   {
    "duration": 149,
    "start_time": "2022-02-16T12:56:35.607Z"
   },
   {
    "duration": 19,
    "start_time": "2022-02-16T12:56:35.761Z"
   },
   {
    "duration": 20,
    "start_time": "2022-02-16T12:56:35.783Z"
   },
   {
    "duration": 18,
    "start_time": "2022-02-16T12:56:35.805Z"
   },
   {
    "duration": 44,
    "start_time": "2022-02-16T12:56:35.826Z"
   },
   {
    "duration": 44,
    "start_time": "2022-02-16T12:56:35.873Z"
   },
   {
    "duration": 50,
    "start_time": "2022-02-16T12:56:35.919Z"
   },
   {
    "duration": 8,
    "start_time": "2022-02-16T12:56:35.971Z"
   },
   {
    "duration": 27,
    "start_time": "2022-02-16T12:56:35.981Z"
   },
   {
    "duration": 112,
    "start_time": "2022-02-16T12:56:36.011Z"
   },
   {
    "duration": 96,
    "start_time": "2022-02-16T12:56:36.126Z"
   },
   {
    "duration": 62,
    "start_time": "2022-02-16T12:56:36.225Z"
   },
   {
    "duration": 11,
    "start_time": "2022-02-16T12:56:36.289Z"
   },
   {
    "duration": 174,
    "start_time": "2022-02-16T12:56:36.303Z"
   },
   {
    "duration": 112,
    "start_time": "2022-02-16T12:56:36.480Z"
   },
   {
    "duration": 103,
    "start_time": "2022-02-16T12:56:36.595Z"
   },
   {
    "duration": 369,
    "start_time": "2022-02-16T13:33:24.083Z"
   },
   {
    "duration": 227,
    "start_time": "2022-02-16T13:33:33.154Z"
   },
   {
    "duration": 26,
    "start_time": "2022-02-16T13:33:33.384Z"
   },
   {
    "duration": 58,
    "start_time": "2022-02-16T13:33:33.412Z"
   },
   {
    "duration": 202,
    "start_time": "2022-02-16T13:33:33.473Z"
   },
   {
    "duration": 22,
    "start_time": "2022-02-16T13:33:33.678Z"
   },
   {
    "duration": 38,
    "start_time": "2022-02-16T13:33:33.703Z"
   },
   {
    "duration": 156,
    "start_time": "2022-02-16T13:33:33.744Z"
   },
   {
    "duration": 19,
    "start_time": "2022-02-16T13:33:33.902Z"
   },
   {
    "duration": 44,
    "start_time": "2022-02-16T13:33:33.925Z"
   },
   {
    "duration": 18,
    "start_time": "2022-02-16T13:33:33.972Z"
   },
   {
    "duration": 7,
    "start_time": "2022-02-16T13:33:33.992Z"
   },
   {
    "duration": 40,
    "start_time": "2022-02-16T13:33:34.001Z"
   },
   {
    "duration": 56,
    "start_time": "2022-02-16T13:33:34.043Z"
   },
   {
    "duration": 8,
    "start_time": "2022-02-16T13:33:34.101Z"
   },
   {
    "duration": 22,
    "start_time": "2022-02-16T13:33:34.111Z"
   },
   {
    "duration": 102,
    "start_time": "2022-02-16T13:33:34.135Z"
   },
   {
    "duration": 270,
    "start_time": "2022-02-16T13:33:34.239Z"
   },
   {
    "duration": 57,
    "start_time": "2022-02-16T13:33:34.454Z"
   },
   {
    "duration": 53,
    "start_time": "2022-02-16T13:33:34.460Z"
   },
   {
    "duration": 53,
    "start_time": "2022-02-16T13:33:34.462Z"
   },
   {
    "duration": 52,
    "start_time": "2022-02-16T13:33:34.465Z"
   },
   {
    "duration": 50,
    "start_time": "2022-02-16T13:33:34.468Z"
   },
   {
    "duration": 49,
    "start_time": "2022-02-16T13:33:34.470Z"
   },
   {
    "duration": 251,
    "start_time": "2022-02-16T13:35:27.839Z"
   },
   {
    "duration": 234,
    "start_time": "2022-02-16T13:35:31.002Z"
   },
   {
    "duration": 40,
    "start_time": "2022-02-16T13:35:31.239Z"
   },
   {
    "duration": 37,
    "start_time": "2022-02-16T13:35:31.282Z"
   },
   {
    "duration": 222,
    "start_time": "2022-02-16T13:35:31.322Z"
   },
   {
    "duration": 29,
    "start_time": "2022-02-16T13:35:31.547Z"
   },
   {
    "duration": 40,
    "start_time": "2022-02-16T13:35:31.578Z"
   },
   {
    "duration": 161,
    "start_time": "2022-02-16T13:35:31.620Z"
   },
   {
    "duration": 19,
    "start_time": "2022-02-16T13:35:31.783Z"
   },
   {
    "duration": 34,
    "start_time": "2022-02-16T13:35:31.806Z"
   },
   {
    "duration": 33,
    "start_time": "2022-02-16T13:35:31.842Z"
   },
   {
    "duration": 19,
    "start_time": "2022-02-16T13:35:31.878Z"
   },
   {
    "duration": 52,
    "start_time": "2022-02-16T13:35:31.900Z"
   },
   {
    "duration": 41,
    "start_time": "2022-02-16T13:35:31.954Z"
   },
   {
    "duration": 21,
    "start_time": "2022-02-16T13:35:31.998Z"
   },
   {
    "duration": 40,
    "start_time": "2022-02-16T13:35:32.021Z"
   },
   {
    "duration": 102,
    "start_time": "2022-02-16T13:35:32.064Z"
   },
   {
    "duration": 250,
    "start_time": "2022-02-16T13:35:32.169Z"
   },
   {
    "duration": 2,
    "start_time": "2022-02-16T13:35:32.420Z"
   },
   {
    "duration": 2,
    "start_time": "2022-02-16T13:35:32.422Z"
   },
   {
    "duration": 2,
    "start_time": "2022-02-16T13:35:32.423Z"
   },
   {
    "duration": 0,
    "start_time": "2022-02-16T13:35:32.426Z"
   },
   {
    "duration": 1,
    "start_time": "2022-02-16T13:35:32.427Z"
   },
   {
    "duration": 1,
    "start_time": "2022-02-16T13:35:32.428Z"
   },
   {
    "duration": 270,
    "start_time": "2022-02-16T13:35:49.272Z"
   },
   {
    "duration": 266,
    "start_time": "2022-02-16T13:37:42.244Z"
   },
   {
    "duration": 213,
    "start_time": "2022-02-16T13:37:47.498Z"
   },
   {
    "duration": 26,
    "start_time": "2022-02-16T13:37:47.714Z"
   },
   {
    "duration": 53,
    "start_time": "2022-02-16T13:37:47.744Z"
   },
   {
    "duration": 196,
    "start_time": "2022-02-16T13:37:47.800Z"
   },
   {
    "duration": 20,
    "start_time": "2022-02-16T13:37:47.999Z"
   },
   {
    "duration": 59,
    "start_time": "2022-02-16T13:37:48.022Z"
   },
   {
    "duration": 144,
    "start_time": "2022-02-16T13:37:48.084Z"
   },
   {
    "duration": 19,
    "start_time": "2022-02-16T13:37:48.231Z"
   },
   {
    "duration": 31,
    "start_time": "2022-02-16T13:37:48.255Z"
   },
   {
    "duration": 27,
    "start_time": "2022-02-16T13:37:48.289Z"
   },
   {
    "duration": 28,
    "start_time": "2022-02-16T13:37:48.319Z"
   },
   {
    "duration": 46,
    "start_time": "2022-02-16T13:37:48.350Z"
   },
   {
    "duration": 31,
    "start_time": "2022-02-16T13:37:48.399Z"
   },
   {
    "duration": 8,
    "start_time": "2022-02-16T13:37:48.433Z"
   },
   {
    "duration": 37,
    "start_time": "2022-02-16T13:37:48.444Z"
   },
   {
    "duration": 100,
    "start_time": "2022-02-16T13:37:48.484Z"
   },
   {
    "duration": 283,
    "start_time": "2022-02-16T13:37:48.586Z"
   },
   {
    "duration": 67,
    "start_time": "2022-02-16T13:37:48.805Z"
   },
   {
    "duration": 68,
    "start_time": "2022-02-16T13:37:48.806Z"
   },
   {
    "duration": 67,
    "start_time": "2022-02-16T13:37:48.808Z"
   },
   {
    "duration": 67,
    "start_time": "2022-02-16T13:37:48.809Z"
   },
   {
    "duration": 68,
    "start_time": "2022-02-16T13:37:48.810Z"
   },
   {
    "duration": 68,
    "start_time": "2022-02-16T13:37:48.811Z"
   },
   {
    "duration": 24,
    "start_time": "2022-02-16T13:38:21.889Z"
   },
   {
    "duration": 52,
    "start_time": "2022-02-16T13:39:11.301Z"
   },
   {
    "duration": 240,
    "start_time": "2022-02-16T13:40:06.270Z"
   },
   {
    "duration": 28,
    "start_time": "2022-02-16T13:40:06.513Z"
   },
   {
    "duration": 57,
    "start_time": "2022-02-16T13:40:06.544Z"
   },
   {
    "duration": 201,
    "start_time": "2022-02-16T13:40:06.603Z"
   },
   {
    "duration": 22,
    "start_time": "2022-02-16T13:40:06.806Z"
   },
   {
    "duration": 66,
    "start_time": "2022-02-16T13:40:06.830Z"
   },
   {
    "duration": 138,
    "start_time": "2022-02-16T13:40:06.899Z"
   },
   {
    "duration": 33,
    "start_time": "2022-02-16T13:40:07.040Z"
   },
   {
    "duration": 24,
    "start_time": "2022-02-16T13:40:07.078Z"
   },
   {
    "duration": 22,
    "start_time": "2022-02-16T13:40:07.105Z"
   },
   {
    "duration": 15,
    "start_time": "2022-02-16T13:40:07.129Z"
   },
   {
    "duration": 67,
    "start_time": "2022-02-16T13:40:07.146Z"
   },
   {
    "duration": 32,
    "start_time": "2022-02-16T13:40:07.216Z"
   },
   {
    "duration": 23,
    "start_time": "2022-02-16T13:40:07.250Z"
   },
   {
    "duration": 22,
    "start_time": "2022-02-16T13:40:07.276Z"
   },
   {
    "duration": 114,
    "start_time": "2022-02-16T13:40:07.301Z"
   },
   {
    "duration": 77,
    "start_time": "2022-02-16T13:40:07.418Z"
   },
   {
    "duration": 99,
    "start_time": "2022-02-16T13:40:07.498Z"
   },
   {
    "duration": 53,
    "start_time": "2022-02-16T13:40:07.600Z"
   },
   {
    "duration": 19,
    "start_time": "2022-02-16T13:40:07.655Z"
   },
   {
    "duration": 160,
    "start_time": "2022-02-16T13:40:07.677Z"
   },
   {
    "duration": 112,
    "start_time": "2022-02-16T13:40:07.840Z"
   },
   {
    "duration": 97,
    "start_time": "2022-02-16T13:40:07.955Z"
   },
   {
    "duration": 300,
    "start_time": "2022-02-16T13:49:34.049Z"
   },
   {
    "duration": 271,
    "start_time": "2022-02-16T13:50:22.603Z"
   },
   {
    "duration": 293,
    "start_time": "2022-02-16T13:50:43.291Z"
   },
   {
    "duration": 236,
    "start_time": "2022-02-16T13:50:55.335Z"
   },
   {
    "duration": 25,
    "start_time": "2022-02-16T13:50:55.574Z"
   },
   {
    "duration": 35,
    "start_time": "2022-02-16T13:50:55.602Z"
   },
   {
    "duration": 224,
    "start_time": "2022-02-16T13:50:55.640Z"
   },
   {
    "duration": 22,
    "start_time": "2022-02-16T13:50:55.869Z"
   },
   {
    "duration": 39,
    "start_time": "2022-02-16T13:50:55.893Z"
   },
   {
    "duration": 163,
    "start_time": "2022-02-16T13:50:55.935Z"
   },
   {
    "duration": 20,
    "start_time": "2022-02-16T13:50:56.101Z"
   },
   {
    "duration": 45,
    "start_time": "2022-02-16T13:50:56.127Z"
   },
   {
    "duration": 19,
    "start_time": "2022-02-16T13:50:56.175Z"
   },
   {
    "duration": 10,
    "start_time": "2022-02-16T13:50:56.196Z"
   },
   {
    "duration": 70,
    "start_time": "2022-02-16T13:50:56.208Z"
   },
   {
    "duration": 25,
    "start_time": "2022-02-16T13:50:56.280Z"
   },
   {
    "duration": 8,
    "start_time": "2022-02-16T13:50:56.307Z"
   },
   {
    "duration": 27,
    "start_time": "2022-02-16T13:50:56.318Z"
   },
   {
    "duration": 100,
    "start_time": "2022-02-16T13:50:56.370Z"
   },
   {
    "duration": 338,
    "start_time": "2022-02-16T13:50:56.472Z"
   },
   {
    "duration": 14,
    "start_time": "2022-02-16T13:50:56.798Z"
   },
   {
    "duration": 15,
    "start_time": "2022-02-16T13:50:56.799Z"
   },
   {
    "duration": 10,
    "start_time": "2022-02-16T13:50:56.805Z"
   },
   {
    "duration": 10,
    "start_time": "2022-02-16T13:50:56.807Z"
   },
   {
    "duration": 11,
    "start_time": "2022-02-16T13:50:56.808Z"
   },
   {
    "duration": 11,
    "start_time": "2022-02-16T13:50:56.809Z"
   },
   {
    "duration": 322,
    "start_time": "2022-02-16T13:52:46.116Z"
   },
   {
    "duration": 39,
    "start_time": "2022-02-16T13:53:39.931Z"
   },
   {
    "duration": 229,
    "start_time": "2022-02-16T13:54:13.117Z"
   },
   {
    "duration": 30,
    "start_time": "2022-02-16T13:54:13.349Z"
   },
   {
    "duration": 36,
    "start_time": "2022-02-16T13:54:13.384Z"
   },
   {
    "duration": 218,
    "start_time": "2022-02-16T13:54:13.423Z"
   },
   {
    "duration": 30,
    "start_time": "2022-02-16T13:54:13.644Z"
   },
   {
    "duration": 40,
    "start_time": "2022-02-16T13:54:13.677Z"
   },
   {
    "duration": 157,
    "start_time": "2022-02-16T13:54:13.719Z"
   },
   {
    "duration": 18,
    "start_time": "2022-02-16T13:54:13.879Z"
   },
   {
    "duration": 28,
    "start_time": "2022-02-16T13:54:13.903Z"
   },
   {
    "duration": 34,
    "start_time": "2022-02-16T13:54:13.935Z"
   },
   {
    "duration": 8,
    "start_time": "2022-02-16T13:54:13.971Z"
   },
   {
    "duration": 49,
    "start_time": "2022-02-16T13:54:13.981Z"
   },
   {
    "duration": 39,
    "start_time": "2022-02-16T13:54:14.033Z"
   },
   {
    "duration": 15,
    "start_time": "2022-02-16T13:54:14.075Z"
   },
   {
    "duration": 26,
    "start_time": "2022-02-16T13:54:14.092Z"
   },
   {
    "duration": 111,
    "start_time": "2022-02-16T13:54:14.120Z"
   },
   {
    "duration": 74,
    "start_time": "2022-02-16T13:54:14.234Z"
   },
   {
    "duration": 101,
    "start_time": "2022-02-16T13:54:14.311Z"
   },
   {
    "duration": 64,
    "start_time": "2022-02-16T13:54:14.415Z"
   },
   {
    "duration": 11,
    "start_time": "2022-02-16T13:54:14.482Z"
   },
   {
    "duration": 156,
    "start_time": "2022-02-16T13:54:14.495Z"
   },
   {
    "duration": 104,
    "start_time": "2022-02-16T13:54:14.653Z"
   },
   {
    "duration": 92,
    "start_time": "2022-02-16T13:54:14.760Z"
   },
   {
    "duration": 213,
    "start_time": "2022-02-16T13:59:04.438Z"
   },
   {
    "duration": 573,
    "start_time": "2022-02-16T13:59:27.352Z"
   },
   {
    "duration": 837,
    "start_time": "2022-02-16T13:59:43.433Z"
   },
   {
    "duration": 653,
    "start_time": "2022-02-16T14:00:33.043Z"
   },
   {
    "duration": 609,
    "start_time": "2022-02-16T14:05:35.939Z"
   },
   {
    "duration": 217,
    "start_time": "2022-02-16T14:05:41.294Z"
   },
   {
    "duration": 29,
    "start_time": "2022-02-16T14:05:41.514Z"
   },
   {
    "duration": 64,
    "start_time": "2022-02-16T14:05:41.546Z"
   },
   {
    "duration": 195,
    "start_time": "2022-02-16T14:05:41.613Z"
   },
   {
    "duration": 22,
    "start_time": "2022-02-16T14:05:41.810Z"
   },
   {
    "duration": 54,
    "start_time": "2022-02-16T14:05:41.834Z"
   },
   {
    "duration": 136,
    "start_time": "2022-02-16T14:05:41.891Z"
   },
   {
    "duration": 19,
    "start_time": "2022-02-16T14:05:42.030Z"
   },
   {
    "duration": 40,
    "start_time": "2022-02-16T14:05:42.053Z"
   },
   {
    "duration": 17,
    "start_time": "2022-02-16T14:05:42.096Z"
   },
   {
    "duration": 31,
    "start_time": "2022-02-16T14:05:42.116Z"
   },
   {
    "duration": 57,
    "start_time": "2022-02-16T14:05:42.149Z"
   },
   {
    "duration": 46,
    "start_time": "2022-02-16T14:05:42.208Z"
   },
   {
    "duration": 8,
    "start_time": "2022-02-16T14:05:42.256Z"
   },
   {
    "duration": 64,
    "start_time": "2022-02-16T14:05:42.266Z"
   },
   {
    "duration": 111,
    "start_time": "2022-02-16T14:05:42.332Z"
   },
   {
    "duration": 211,
    "start_time": "2022-02-16T14:05:42.445Z"
   },
   {
    "duration": 86,
    "start_time": "2022-02-16T14:05:42.659Z"
   },
   {
    "duration": 62,
    "start_time": "2022-02-16T14:05:42.747Z"
   },
   {
    "duration": 10,
    "start_time": "2022-02-16T14:05:42.811Z"
   },
   {
    "duration": 163,
    "start_time": "2022-02-16T14:05:42.823Z"
   },
   {
    "duration": 103,
    "start_time": "2022-02-16T14:05:42.988Z"
   },
   {
    "duration": 99,
    "start_time": "2022-02-16T14:05:43.093Z"
   },
   {
    "duration": 171,
    "start_time": "2022-02-16T14:12:56.660Z"
   },
   {
    "duration": 266,
    "start_time": "2022-02-16T14:13:31.002Z"
   },
   {
    "duration": 102,
    "start_time": "2022-02-16T14:29:30.880Z"
   },
   {
    "duration": -55,
    "start_time": "2022-02-16T14:33:35.667Z"
   },
   {
    "duration": -56,
    "start_time": "2022-02-16T14:33:35.670Z"
   },
   {
    "duration": -57,
    "start_time": "2022-02-16T14:33:35.672Z"
   },
   {
    "duration": -56,
    "start_time": "2022-02-16T14:33:35.673Z"
   },
   {
    "duration": -57,
    "start_time": "2022-02-16T14:33:35.675Z"
   },
   {
    "duration": -57,
    "start_time": "2022-02-16T14:33:35.677Z"
   },
   {
    "duration": -56,
    "start_time": "2022-02-16T14:33:35.678Z"
   },
   {
    "duration": -57,
    "start_time": "2022-02-16T14:33:35.680Z"
   },
   {
    "duration": -56,
    "start_time": "2022-02-16T14:33:35.681Z"
   },
   {
    "duration": -56,
    "start_time": "2022-02-16T14:33:35.682Z"
   },
   {
    "duration": -57,
    "start_time": "2022-02-16T14:33:35.685Z"
   },
   {
    "duration": -57,
    "start_time": "2022-02-16T14:33:35.686Z"
   },
   {
    "duration": -72,
    "start_time": "2022-02-16T14:33:35.703Z"
   },
   {
    "duration": -72,
    "start_time": "2022-02-16T14:33:35.705Z"
   },
   {
    "duration": -73,
    "start_time": "2022-02-16T14:33:35.708Z"
   },
   {
    "duration": -75,
    "start_time": "2022-02-16T14:33:35.711Z"
   },
   {
    "duration": -75,
    "start_time": "2022-02-16T14:33:35.713Z"
   },
   {
    "duration": -80,
    "start_time": "2022-02-16T14:33:35.720Z"
   },
   {
    "duration": -81,
    "start_time": "2022-02-16T14:33:35.722Z"
   },
   {
    "duration": -81,
    "start_time": "2022-02-16T14:33:35.723Z"
   },
   {
    "duration": -80,
    "start_time": "2022-02-16T14:33:35.724Z"
   },
   {
    "duration": -81,
    "start_time": "2022-02-16T14:33:35.726Z"
   },
   {
    "duration": -81,
    "start_time": "2022-02-16T14:33:35.727Z"
   },
   {
    "duration": 223,
    "start_time": "2022-02-16T14:34:51.963Z"
   },
   {
    "duration": 26,
    "start_time": "2022-02-16T14:34:52.189Z"
   },
   {
    "duration": 58,
    "start_time": "2022-02-16T14:34:52.218Z"
   },
   {
    "duration": 183,
    "start_time": "2022-02-16T14:34:52.279Z"
   },
   {
    "duration": 22,
    "start_time": "2022-02-16T14:34:52.469Z"
   },
   {
    "duration": 45,
    "start_time": "2022-02-16T14:34:52.494Z"
   },
   {
    "duration": 143,
    "start_time": "2022-02-16T14:34:52.541Z"
   },
   {
    "duration": 19,
    "start_time": "2022-02-16T14:34:52.686Z"
   },
   {
    "duration": 19,
    "start_time": "2022-02-16T14:34:52.709Z"
   },
   {
    "duration": 45,
    "start_time": "2022-02-16T14:34:52.731Z"
   },
   {
    "duration": 13,
    "start_time": "2022-02-16T14:34:52.778Z"
   },
   {
    "duration": 47,
    "start_time": "2022-02-16T14:34:52.793Z"
   },
   {
    "duration": 40,
    "start_time": "2022-02-16T14:34:52.843Z"
   },
   {
    "duration": 7,
    "start_time": "2022-02-16T14:34:52.885Z"
   },
   {
    "duration": 24,
    "start_time": "2022-02-16T14:34:52.894Z"
   },
   {
    "duration": 112,
    "start_time": "2022-02-16T14:34:52.920Z"
   },
   {
    "duration": 6606,
    "start_time": "2022-02-16T14:34:53.035Z"
   },
   {
    "duration": -153,
    "start_time": "2022-02-16T14:34:59.797Z"
   },
   {
    "duration": -153,
    "start_time": "2022-02-16T14:34:59.799Z"
   },
   {
    "duration": -152,
    "start_time": "2022-02-16T14:34:59.800Z"
   },
   {
    "duration": -152,
    "start_time": "2022-02-16T14:34:59.801Z"
   },
   {
    "duration": -151,
    "start_time": "2022-02-16T14:34:59.802Z"
   },
   {
    "duration": -150,
    "start_time": "2022-02-16T14:34:59.803Z"
   },
   {
    "duration": -53,
    "start_time": "2022-02-16T14:37:01.862Z"
   },
   {
    "duration": -60,
    "start_time": "2022-02-16T14:37:01.871Z"
   },
   {
    "duration": -61,
    "start_time": "2022-02-16T14:37:01.873Z"
   },
   {
    "duration": -61,
    "start_time": "2022-02-16T14:37:01.875Z"
   },
   {
    "duration": -60,
    "start_time": "2022-02-16T14:37:01.876Z"
   },
   {
    "duration": -59,
    "start_time": "2022-02-16T14:37:01.877Z"
   },
   {
    "duration": -58,
    "start_time": "2022-02-16T14:37:01.878Z"
   },
   {
    "duration": -62,
    "start_time": "2022-02-16T14:37:01.883Z"
   },
   {
    "duration": -62,
    "start_time": "2022-02-16T14:37:01.885Z"
   },
   {
    "duration": -62,
    "start_time": "2022-02-16T14:37:01.886Z"
   },
   {
    "duration": -62,
    "start_time": "2022-02-16T14:37:01.887Z"
   },
   {
    "duration": -61,
    "start_time": "2022-02-16T14:37:01.888Z"
   },
   {
    "duration": -61,
    "start_time": "2022-02-16T14:37:01.890Z"
   },
   {
    "duration": -60,
    "start_time": "2022-02-16T14:37:01.891Z"
   },
   {
    "duration": -59,
    "start_time": "2022-02-16T14:37:01.892Z"
   },
   {
    "duration": -57,
    "start_time": "2022-02-16T14:37:01.892Z"
   },
   {
    "duration": -57,
    "start_time": "2022-02-16T14:37:01.893Z"
   },
   {
    "duration": -57,
    "start_time": "2022-02-16T14:37:01.894Z"
   },
   {
    "duration": -56,
    "start_time": "2022-02-16T14:37:01.895Z"
   },
   {
    "duration": -68,
    "start_time": "2022-02-16T14:37:01.908Z"
   },
   {
    "duration": -67,
    "start_time": "2022-02-16T14:37:01.909Z"
   },
   {
    "duration": -67,
    "start_time": "2022-02-16T14:37:01.910Z"
   },
   {
    "duration": -66,
    "start_time": "2022-02-16T14:37:01.911Z"
   },
   {
    "duration": -664,
    "start_time": "2022-02-16T14:37:50.976Z"
   },
   {
    "duration": -665,
    "start_time": "2022-02-16T14:37:50.978Z"
   },
   {
    "duration": -664,
    "start_time": "2022-02-16T14:37:50.979Z"
   },
   {
    "duration": -664,
    "start_time": "2022-02-16T14:37:50.980Z"
   },
   {
    "duration": -664,
    "start_time": "2022-02-16T14:37:50.981Z"
   },
   {
    "duration": -663,
    "start_time": "2022-02-16T14:37:50.982Z"
   },
   {
    "duration": -665,
    "start_time": "2022-02-16T14:37:50.985Z"
   },
   {
    "duration": -664,
    "start_time": "2022-02-16T14:37:50.986Z"
   },
   {
    "duration": -664,
    "start_time": "2022-02-16T14:37:50.987Z"
   },
   {
    "duration": -663,
    "start_time": "2022-02-16T14:37:50.988Z"
   },
   {
    "duration": -663,
    "start_time": "2022-02-16T14:37:50.989Z"
   },
   {
    "duration": -662,
    "start_time": "2022-02-16T14:37:50.990Z"
   },
   {
    "duration": -661,
    "start_time": "2022-02-16T14:37:50.991Z"
   },
   {
    "duration": -662,
    "start_time": "2022-02-16T14:37:50.994Z"
   },
   {
    "duration": -662,
    "start_time": "2022-02-16T14:37:50.995Z"
   },
   {
    "duration": -663,
    "start_time": "2022-02-16T14:37:50.998Z"
   },
   {
    "duration": -664,
    "start_time": "2022-02-16T14:37:51.001Z"
   },
   {
    "duration": -671,
    "start_time": "2022-02-16T14:37:51.009Z"
   },
   {
    "duration": -671,
    "start_time": "2022-02-16T14:37:51.011Z"
   },
   {
    "duration": -672,
    "start_time": "2022-02-16T14:37:51.013Z"
   },
   {
    "duration": -674,
    "start_time": "2022-02-16T14:37:51.017Z"
   },
   {
    "duration": -674,
    "start_time": "2022-02-16T14:37:51.018Z"
   },
   {
    "duration": -674,
    "start_time": "2022-02-16T14:37:51.020Z"
   },
   {
    "duration": 217,
    "start_time": "2022-02-16T14:38:30.329Z"
   },
   {
    "duration": 41,
    "start_time": "2022-02-16T14:38:30.550Z"
   },
   {
    "duration": 40,
    "start_time": "2022-02-16T14:38:30.595Z"
   },
   {
    "duration": 206,
    "start_time": "2022-02-16T14:38:30.639Z"
   },
   {
    "duration": 31,
    "start_time": "2022-02-16T14:38:30.847Z"
   },
   {
    "duration": 41,
    "start_time": "2022-02-16T14:38:30.880Z"
   },
   {
    "duration": 147,
    "start_time": "2022-02-16T14:38:30.924Z"
   },
   {
    "duration": 29,
    "start_time": "2022-02-16T14:38:31.074Z"
   },
   {
    "duration": 28,
    "start_time": "2022-02-16T14:38:31.109Z"
   },
   {
    "duration": 52,
    "start_time": "2022-02-16T14:38:31.141Z"
   },
   {
    "duration": 27,
    "start_time": "2022-02-16T14:38:31.196Z"
   },
   {
    "duration": 54,
    "start_time": "2022-02-16T14:38:31.226Z"
   },
   {
    "duration": 31,
    "start_time": "2022-02-16T14:38:31.282Z"
   },
   {
    "duration": 18,
    "start_time": "2022-02-16T14:38:31.315Z"
   },
   {
    "duration": 31,
    "start_time": "2022-02-16T14:38:31.336Z"
   },
   {
    "duration": 85,
    "start_time": "2022-02-16T14:38:31.369Z"
   },
   {
    "duration": 6425,
    "start_time": "2022-02-16T14:38:31.457Z"
   },
   {
    "duration": -122,
    "start_time": "2022-02-16T14:38:38.007Z"
   },
   {
    "duration": -123,
    "start_time": "2022-02-16T14:38:38.009Z"
   },
   {
    "duration": -122,
    "start_time": "2022-02-16T14:38:38.010Z"
   },
   {
    "duration": -122,
    "start_time": "2022-02-16T14:38:38.011Z"
   },
   {
    "duration": -122,
    "start_time": "2022-02-16T14:38:38.012Z"
   },
   {
    "duration": -121,
    "start_time": "2022-02-16T14:38:38.013Z"
   },
   {
    "duration": -70,
    "start_time": "2022-02-16T14:39:08.654Z"
   },
   {
    "duration": -77,
    "start_time": "2022-02-16T14:39:08.663Z"
   },
   {
    "duration": -78,
    "start_time": "2022-02-16T14:39:08.665Z"
   },
   {
    "duration": -77,
    "start_time": "2022-02-16T14:39:08.666Z"
   },
   {
    "duration": -78,
    "start_time": "2022-02-16T14:39:08.668Z"
   },
   {
    "duration": -77,
    "start_time": "2022-02-16T14:39:08.669Z"
   },
   {
    "duration": -76,
    "start_time": "2022-02-16T14:39:08.670Z"
   },
   {
    "duration": -77,
    "start_time": "2022-02-16T14:39:08.672Z"
   },
   {
    "duration": -76,
    "start_time": "2022-02-16T14:39:08.673Z"
   },
   {
    "duration": -75,
    "start_time": "2022-02-16T14:39:08.674Z"
   },
   {
    "duration": -74,
    "start_time": "2022-02-16T14:39:08.675Z"
   },
   {
    "duration": -74,
    "start_time": "2022-02-16T14:39:08.676Z"
   },
   {
    "duration": -71,
    "start_time": "2022-02-16T14:39:08.677Z"
   },
   {
    "duration": -70,
    "start_time": "2022-02-16T14:39:08.678Z"
   },
   {
    "duration": -101,
    "start_time": "2022-02-16T14:39:08.711Z"
   },
   {
    "duration": -103,
    "start_time": "2022-02-16T14:39:08.715Z"
   },
   {
    "duration": -104,
    "start_time": "2022-02-16T14:39:08.718Z"
   },
   {
    "duration": -104,
    "start_time": "2022-02-16T14:39:08.721Z"
   },
   {
    "duration": -103,
    "start_time": "2022-02-16T14:39:08.722Z"
   },
   {
    "duration": -102,
    "start_time": "2022-02-16T14:39:08.723Z"
   },
   {
    "duration": -57,
    "start_time": "2022-02-16T14:39:08.727Z"
   },
   {
    "duration": -57,
    "start_time": "2022-02-16T14:39:08.730Z"
   },
   {
    "duration": -57,
    "start_time": "2022-02-16T14:39:08.732Z"
   },
   {
    "duration": 223,
    "start_time": "2022-02-16T14:42:32.625Z"
   },
   {
    "duration": 35,
    "start_time": "2022-02-16T14:42:32.850Z"
   },
   {
    "duration": 38,
    "start_time": "2022-02-16T14:42:32.888Z"
   },
   {
    "duration": 234,
    "start_time": "2022-02-16T14:42:32.929Z"
   },
   {
    "duration": 24,
    "start_time": "2022-02-16T14:42:33.170Z"
   },
   {
    "duration": 42,
    "start_time": "2022-02-16T14:42:33.197Z"
   },
   {
    "duration": 135,
    "start_time": "2022-02-16T14:42:33.269Z"
   },
   {
    "duration": 18,
    "start_time": "2022-02-16T14:42:33.406Z"
   },
   {
    "duration": 19,
    "start_time": "2022-02-16T14:42:33.428Z"
   },
   {
    "duration": 31,
    "start_time": "2022-02-16T14:42:33.450Z"
   },
   {
    "duration": 8,
    "start_time": "2022-02-16T14:42:33.484Z"
   },
   {
    "duration": 41,
    "start_time": "2022-02-16T14:42:33.494Z"
   },
   {
    "duration": 31,
    "start_time": "2022-02-16T14:42:33.570Z"
   },
   {
    "duration": 7,
    "start_time": "2022-02-16T14:42:33.603Z"
   },
   {
    "duration": 24,
    "start_time": "2022-02-16T14:42:33.613Z"
   },
   {
    "duration": 106,
    "start_time": "2022-02-16T14:42:33.639Z"
   },
   {
    "duration": 6475,
    "start_time": "2022-02-16T14:42:33.748Z"
   },
   {
    "duration": -83,
    "start_time": "2022-02-16T14:42:40.309Z"
   },
   {
    "duration": -84,
    "start_time": "2022-02-16T14:42:40.311Z"
   },
   {
    "duration": -83,
    "start_time": "2022-02-16T14:42:40.312Z"
   },
   {
    "duration": -83,
    "start_time": "2022-02-16T14:42:40.313Z"
   },
   {
    "duration": -83,
    "start_time": "2022-02-16T14:42:40.314Z"
   },
   {
    "duration": -82,
    "start_time": "2022-02-16T14:42:40.315Z"
   },
   {
    "duration": 226,
    "start_time": "2022-02-16T14:46:08.325Z"
   },
   {
    "duration": 38,
    "start_time": "2022-02-16T14:46:08.554Z"
   },
   {
    "duration": 75,
    "start_time": "2022-02-16T14:46:08.596Z"
   },
   {
    "duration": 273,
    "start_time": "2022-02-16T14:46:08.675Z"
   },
   {
    "duration": 47,
    "start_time": "2022-02-16T14:46:08.951Z"
   },
   {
    "duration": 39,
    "start_time": "2022-02-16T14:46:09.001Z"
   },
   {
    "duration": 150,
    "start_time": "2022-02-16T14:46:09.043Z"
   },
   {
    "duration": 18,
    "start_time": "2022-02-16T14:46:09.196Z"
   },
   {
    "duration": 20,
    "start_time": "2022-02-16T14:46:09.219Z"
   },
   {
    "duration": 37,
    "start_time": "2022-02-16T14:46:09.242Z"
   },
   {
    "duration": 9,
    "start_time": "2022-02-16T14:46:09.282Z"
   },
   {
    "duration": 79,
    "start_time": "2022-02-16T14:46:09.294Z"
   },
   {
    "duration": 26,
    "start_time": "2022-02-16T14:46:09.375Z"
   },
   {
    "duration": 7,
    "start_time": "2022-02-16T14:46:09.403Z"
   },
   {
    "duration": 30,
    "start_time": "2022-02-16T14:46:09.413Z"
   },
   {
    "duration": 109,
    "start_time": "2022-02-16T14:46:09.445Z"
   },
   {
    "duration": 97,
    "start_time": "2022-02-16T14:46:09.570Z"
   },
   {
    "duration": -57,
    "start_time": "2022-02-16T14:46:09.727Z"
   },
   {
    "duration": -61,
    "start_time": "2022-02-16T14:46:09.732Z"
   },
   {
    "duration": -60,
    "start_time": "2022-02-16T14:46:09.733Z"
   },
   {
    "duration": -61,
    "start_time": "2022-02-16T14:46:09.735Z"
   },
   {
    "duration": -61,
    "start_time": "2022-02-16T14:46:09.736Z"
   },
   {
    "duration": -62,
    "start_time": "2022-02-16T14:46:09.739Z"
   },
   {
    "duration": 226,
    "start_time": "2022-02-16T14:46:20.107Z"
   },
   {
    "duration": 43,
    "start_time": "2022-02-16T14:46:20.337Z"
   },
   {
    "duration": 38,
    "start_time": "2022-02-16T14:46:20.384Z"
   },
   {
    "duration": 202,
    "start_time": "2022-02-16T14:46:20.425Z"
   },
   {
    "duration": 41,
    "start_time": "2022-02-16T14:46:20.630Z"
   },
   {
    "duration": 41,
    "start_time": "2022-02-16T14:46:20.674Z"
   },
   {
    "duration": 147,
    "start_time": "2022-02-16T14:46:20.718Z"
   },
   {
    "duration": 22,
    "start_time": "2022-02-16T14:46:20.870Z"
   },
   {
    "duration": 21,
    "start_time": "2022-02-16T14:46:20.897Z"
   },
   {
    "duration": 48,
    "start_time": "2022-02-16T14:46:20.922Z"
   },
   {
    "duration": 18,
    "start_time": "2022-02-16T14:46:20.973Z"
   },
   {
    "duration": 46,
    "start_time": "2022-02-16T14:46:20.994Z"
   },
   {
    "duration": 56,
    "start_time": "2022-02-16T14:46:21.043Z"
   },
   {
    "duration": 13,
    "start_time": "2022-02-16T14:46:21.102Z"
   },
   {
    "duration": 23,
    "start_time": "2022-02-16T14:46:21.118Z"
   },
   {
    "duration": 109,
    "start_time": "2022-02-16T14:46:21.144Z"
   },
   {
    "duration": 6744,
    "start_time": "2022-02-16T14:46:21.256Z"
   },
   {
    "duration": -80,
    "start_time": "2022-02-16T14:46:28.083Z"
   },
   {
    "duration": -80,
    "start_time": "2022-02-16T14:46:28.084Z"
   },
   {
    "duration": -79,
    "start_time": "2022-02-16T14:46:28.085Z"
   },
   {
    "duration": -79,
    "start_time": "2022-02-16T14:46:28.086Z"
   },
   {
    "duration": -79,
    "start_time": "2022-02-16T14:46:28.088Z"
   },
   {
    "duration": -79,
    "start_time": "2022-02-16T14:46:28.089Z"
   },
   {
    "duration": 229,
    "start_time": "2022-02-16T14:48:10.248Z"
   },
   {
    "duration": 27,
    "start_time": "2022-02-16T14:48:10.479Z"
   },
   {
    "duration": 62,
    "start_time": "2022-02-16T14:48:10.510Z"
   },
   {
    "duration": 186,
    "start_time": "2022-02-16T14:48:10.575Z"
   },
   {
    "duration": 23,
    "start_time": "2022-02-16T14:48:10.768Z"
   },
   {
    "duration": 38,
    "start_time": "2022-02-16T14:48:10.794Z"
   },
   {
    "duration": 136,
    "start_time": "2022-02-16T14:48:10.834Z"
   },
   {
    "duration": 20,
    "start_time": "2022-02-16T14:48:10.974Z"
   },
   {
    "duration": 22,
    "start_time": "2022-02-16T14:48:10.998Z"
   },
   {
    "duration": 47,
    "start_time": "2022-02-16T14:48:11.022Z"
   },
   {
    "duration": 8,
    "start_time": "2022-02-16T14:48:11.072Z"
   },
   {
    "duration": 48,
    "start_time": "2022-02-16T14:48:11.083Z"
   },
   {
    "duration": 60,
    "start_time": "2022-02-16T14:48:11.134Z"
   },
   {
    "duration": 8,
    "start_time": "2022-02-16T14:48:11.197Z"
   },
   {
    "duration": 24,
    "start_time": "2022-02-16T14:48:11.207Z"
   },
   {
    "duration": 109,
    "start_time": "2022-02-16T14:48:11.233Z"
   },
   {
    "duration": 6846,
    "start_time": "2022-02-16T14:48:11.344Z"
   },
   {
    "duration": -165,
    "start_time": "2022-02-16T14:48:18.357Z"
   },
   {
    "duration": -166,
    "start_time": "2022-02-16T14:48:18.359Z"
   },
   {
    "duration": -165,
    "start_time": "2022-02-16T14:48:18.360Z"
   },
   {
    "duration": -165,
    "start_time": "2022-02-16T14:48:18.361Z"
   },
   {
    "duration": -164,
    "start_time": "2022-02-16T14:48:18.362Z"
   },
   {
    "duration": -164,
    "start_time": "2022-02-16T14:48:18.363Z"
   },
   {
    "duration": 234,
    "start_time": "2022-02-16T14:49:02.811Z"
   },
   {
    "duration": 36,
    "start_time": "2022-02-16T14:49:03.048Z"
   },
   {
    "duration": 37,
    "start_time": "2022-02-16T14:49:03.087Z"
   },
   {
    "duration": 210,
    "start_time": "2022-02-16T14:49:03.127Z"
   },
   {
    "duration": 47,
    "start_time": "2022-02-16T14:49:03.339Z"
   },
   {
    "duration": 52,
    "start_time": "2022-02-16T14:49:03.390Z"
   },
   {
    "duration": 152,
    "start_time": "2022-02-16T14:49:03.445Z"
   },
   {
    "duration": 21,
    "start_time": "2022-02-16T14:49:03.600Z"
   },
   {
    "duration": 45,
    "start_time": "2022-02-16T14:49:03.627Z"
   },
   {
    "duration": 19,
    "start_time": "2022-02-16T14:49:03.676Z"
   },
   {
    "duration": 11,
    "start_time": "2022-02-16T14:49:03.697Z"
   },
   {
    "duration": 81,
    "start_time": "2022-02-16T14:49:03.710Z"
   },
   {
    "duration": 28,
    "start_time": "2022-02-16T14:49:03.793Z"
   },
   {
    "duration": 11,
    "start_time": "2022-02-16T14:49:03.823Z"
   },
   {
    "duration": 42,
    "start_time": "2022-02-16T14:49:03.836Z"
   },
   {
    "duration": 102,
    "start_time": "2022-02-16T14:49:03.882Z"
   },
   {
    "duration": 6739,
    "start_time": "2022-02-16T14:49:03.989Z"
   },
   {
    "duration": -80,
    "start_time": "2022-02-16T14:49:10.811Z"
   },
   {
    "duration": -79,
    "start_time": "2022-02-16T14:49:10.812Z"
   },
   {
    "duration": -80,
    "start_time": "2022-02-16T14:49:10.814Z"
   },
   {
    "duration": -79,
    "start_time": "2022-02-16T14:49:10.815Z"
   },
   {
    "duration": -89,
    "start_time": "2022-02-16T14:49:10.827Z"
   },
   {
    "duration": -88,
    "start_time": "2022-02-16T14:49:10.828Z"
   },
   {
    "duration": 216,
    "start_time": "2022-02-16T14:50:15.416Z"
   },
   {
    "duration": 39,
    "start_time": "2022-02-16T14:50:15.635Z"
   },
   {
    "duration": 37,
    "start_time": "2022-02-16T14:50:15.678Z"
   },
   {
    "duration": 204,
    "start_time": "2022-02-16T14:50:15.718Z"
   },
   {
    "duration": 23,
    "start_time": "2022-02-16T14:50:15.924Z"
   },
   {
    "duration": 58,
    "start_time": "2022-02-16T14:50:15.950Z"
   },
   {
    "duration": 142,
    "start_time": "2022-02-16T14:50:16.011Z"
   },
   {
    "duration": 24,
    "start_time": "2022-02-16T14:50:16.155Z"
   },
   {
    "duration": 21,
    "start_time": "2022-02-16T14:50:16.183Z"
   },
   {
    "duration": 21,
    "start_time": "2022-02-16T14:50:16.207Z"
   },
   {
    "duration": 40,
    "start_time": "2022-02-16T14:50:16.231Z"
   },
   {
    "duration": 46,
    "start_time": "2022-02-16T14:50:16.273Z"
   },
   {
    "duration": 26,
    "start_time": "2022-02-16T14:50:16.321Z"
   },
   {
    "duration": 29,
    "start_time": "2022-02-16T14:50:16.349Z"
   },
   {
    "duration": 23,
    "start_time": "2022-02-16T14:50:16.381Z"
   },
   {
    "duration": 115,
    "start_time": "2022-02-16T14:50:16.406Z"
   },
   {
    "duration": 6524,
    "start_time": "2022-02-16T14:50:16.524Z"
   },
   {
    "duration": -133,
    "start_time": "2022-02-16T14:50:23.183Z"
   },
   {
    "duration": -133,
    "start_time": "2022-02-16T14:50:23.185Z"
   },
   {
    "duration": -133,
    "start_time": "2022-02-16T14:50:23.186Z"
   },
   {
    "duration": -132,
    "start_time": "2022-02-16T14:50:23.187Z"
   },
   {
    "duration": -132,
    "start_time": "2022-02-16T14:50:23.188Z"
   },
   {
    "duration": -132,
    "start_time": "2022-02-16T14:50:23.189Z"
   },
   {
    "duration": 1468,
    "start_time": "2022-02-17T14:08:48.798Z"
   },
   {
    "duration": 72,
    "start_time": "2022-02-17T14:08:50.270Z"
   },
   {
    "duration": 39,
    "start_time": "2022-02-17T14:08:50.345Z"
   },
   {
    "duration": 209,
    "start_time": "2022-02-17T14:08:50.387Z"
   },
   {
    "duration": 45,
    "start_time": "2022-02-17T14:08:50.599Z"
   },
   {
    "duration": 55,
    "start_time": "2022-02-17T14:08:50.647Z"
   },
   {
    "duration": 216,
    "start_time": "2022-02-17T14:08:50.705Z"
   },
   {
    "duration": 21,
    "start_time": "2022-02-17T14:08:50.926Z"
   },
   {
    "duration": 20,
    "start_time": "2022-02-17T14:08:50.950Z"
   },
   {
    "duration": 20,
    "start_time": "2022-02-17T14:08:50.972Z"
   },
   {
    "duration": 10,
    "start_time": "2022-02-17T14:08:51.027Z"
   },
   {
    "duration": 91,
    "start_time": "2022-02-17T14:08:51.040Z"
   },
   {
    "duration": 24,
    "start_time": "2022-02-17T14:08:51.134Z"
   },
   {
    "duration": 9,
    "start_time": "2022-02-17T14:08:51.161Z"
   },
   {
    "duration": 28,
    "start_time": "2022-02-17T14:08:51.172Z"
   },
   {
    "duration": 125,
    "start_time": "2022-02-17T14:08:51.202Z"
   },
   {
    "duration": 110,
    "start_time": "2022-02-17T14:08:51.329Z"
   },
   {
    "duration": 52,
    "start_time": "2022-02-17T14:08:51.441Z"
   },
   {
    "duration": 10,
    "start_time": "2022-02-17T14:08:51.495Z"
   },
   {
    "duration": 194,
    "start_time": "2022-02-17T14:08:51.508Z"
   },
   {
    "duration": 103,
    "start_time": "2022-02-17T14:08:51.704Z"
   },
   {
    "duration": 102,
    "start_time": "2022-02-17T14:08:51.809Z"
   },
   {
    "duration": 7051,
    "start_time": "2022-02-17T14:08:51.915Z"
   },
   {
    "duration": 7201,
    "start_time": "2022-02-17T14:21:32.701Z"
   },
   {
    "duration": 6837,
    "start_time": "2022-02-17T14:22:46.865Z"
   },
   {
    "duration": 1414,
    "start_time": "2022-02-17T14:27:40.821Z"
   },
   {
    "duration": 7145,
    "start_time": "2022-02-17T14:29:24.900Z"
   },
   {
    "duration": 7027,
    "start_time": "2022-02-17T14:29:48.750Z"
   },
   {
    "duration": 7185,
    "start_time": "2022-02-17T14:30:05.716Z"
   },
   {
    "duration": 309,
    "start_time": "2022-02-17T14:33:06.172Z"
   },
   {
    "duration": 196,
    "start_time": "2022-02-17T14:33:30.832Z"
   },
   {
    "duration": 198,
    "start_time": "2022-02-17T14:33:50.828Z"
   },
   {
    "duration": 164,
    "start_time": "2022-02-17T14:51:05.162Z"
   },
   {
    "duration": 160,
    "start_time": "2022-02-17T14:51:10.889Z"
   },
   {
    "duration": 169,
    "start_time": "2022-02-17T14:51:25.996Z"
   },
   {
    "duration": 165,
    "start_time": "2022-02-17T14:51:44.661Z"
   },
   {
    "duration": 355,
    "start_time": "2022-02-17T15:04:40.386Z"
   },
   {
    "duration": 312,
    "start_time": "2022-02-17T15:04:56.388Z"
   },
   {
    "duration": 282,
    "start_time": "2022-02-17T15:05:25.542Z"
   },
   {
    "duration": 223,
    "start_time": "2022-02-17T15:06:56.765Z"
   },
   {
    "duration": 240,
    "start_time": "2022-02-17T15:07:10.492Z"
   },
   {
    "duration": 254,
    "start_time": "2022-02-17T15:07:29.794Z"
   },
   {
    "duration": 265,
    "start_time": "2022-02-17T15:10:39.883Z"
   },
   {
    "duration": 97,
    "start_time": "2022-02-17T15:11:04.031Z"
   },
   {
    "duration": 704,
    "start_time": "2022-02-17T15:11:14.218Z"
   },
   {
    "duration": 570,
    "start_time": "2022-02-17T15:27:11.501Z"
   },
   {
    "duration": 370,
    "start_time": "2022-02-17T15:47:11.869Z"
   },
   {
    "duration": 375,
    "start_time": "2022-02-17T15:48:55.501Z"
   },
   {
    "duration": 233,
    "start_time": "2022-02-17T15:57:20.820Z"
   },
   {
    "duration": 33,
    "start_time": "2022-02-17T15:57:21.055Z"
   },
   {
    "duration": 56,
    "start_time": "2022-02-17T15:57:21.091Z"
   },
   {
    "duration": 192,
    "start_time": "2022-02-17T15:57:21.150Z"
   },
   {
    "duration": 23,
    "start_time": "2022-02-17T15:57:21.344Z"
   },
   {
    "duration": 62,
    "start_time": "2022-02-17T15:57:21.370Z"
   },
   {
    "duration": 129,
    "start_time": "2022-02-17T15:57:21.435Z"
   },
   {
    "duration": 19,
    "start_time": "2022-02-17T15:57:21.566Z"
   },
   {
    "duration": 44,
    "start_time": "2022-02-17T15:57:21.589Z"
   },
   {
    "duration": 20,
    "start_time": "2022-02-17T15:57:21.635Z"
   },
   {
    "duration": 10,
    "start_time": "2022-02-17T15:57:21.657Z"
   },
   {
    "duration": 66,
    "start_time": "2022-02-17T15:57:21.670Z"
   },
   {
    "duration": 31,
    "start_time": "2022-02-17T15:57:21.739Z"
   },
   {
    "duration": 16,
    "start_time": "2022-02-17T15:57:21.772Z"
   },
   {
    "duration": 29,
    "start_time": "2022-02-17T15:57:21.791Z"
   },
   {
    "duration": 452,
    "start_time": "2022-02-17T15:57:21.822Z"
   },
   {
    "duration": 301,
    "start_time": "2022-02-17T15:57:22.277Z"
   },
   {
    "duration": 235,
    "start_time": "2022-02-17T15:57:22.581Z"
   },
   {
    "duration": 10,
    "start_time": "2022-02-17T15:57:22.826Z"
   },
   {
    "duration": 153,
    "start_time": "2022-02-17T15:57:22.838Z"
   },
   {
    "duration": 104,
    "start_time": "2022-02-17T15:57:22.993Z"
   },
   {
    "duration": 98,
    "start_time": "2022-02-17T15:57:23.100Z"
   },
   {
    "duration": 213,
    "start_time": "2022-02-17T16:01:07.698Z"
   },
   {
    "duration": 407,
    "start_time": "2022-02-17T16:05:58.723Z"
   },
   {
    "duration": 764,
    "start_time": "2022-02-17T16:06:14.550Z"
   },
   {
    "duration": 21,
    "start_time": "2022-02-17T16:06:15.316Z"
   },
   {
    "duration": 26,
    "start_time": "2022-02-17T16:06:15.339Z"
   },
   {
    "duration": 128,
    "start_time": "2022-02-17T16:06:15.367Z"
   },
   {
    "duration": 14,
    "start_time": "2022-02-17T16:06:15.497Z"
   },
   {
    "duration": 38,
    "start_time": "2022-02-17T16:06:15.512Z"
   },
   {
    "duration": 88,
    "start_time": "2022-02-17T16:06:15.552Z"
   },
   {
    "duration": 13,
    "start_time": "2022-02-17T16:06:15.643Z"
   },
   {
    "duration": 11,
    "start_time": "2022-02-17T16:06:15.658Z"
   },
   {
    "duration": 17,
    "start_time": "2022-02-17T16:06:15.671Z"
   },
   {
    "duration": 5,
    "start_time": "2022-02-17T16:06:15.689Z"
   },
   {
    "duration": 31,
    "start_time": "2022-02-17T16:06:15.695Z"
   },
   {
    "duration": 50,
    "start_time": "2022-02-17T16:06:15.727Z"
   },
   {
    "duration": 5,
    "start_time": "2022-02-17T16:06:15.778Z"
   },
   {
    "duration": 16,
    "start_time": "2022-02-17T16:06:15.784Z"
   },
   {
    "duration": 270,
    "start_time": "2022-02-17T16:06:15.801Z"
   },
   {
    "duration": 10127,
    "start_time": "2022-02-17T16:06:16.073Z"
   },
   {
    "duration": -22,
    "start_time": "2022-02-17T16:06:26.224Z"
   },
   {
    "duration": -23,
    "start_time": "2022-02-17T16:06:26.226Z"
   },
   {
    "duration": -24,
    "start_time": "2022-02-17T16:06:26.227Z"
   },
   {
    "duration": -24,
    "start_time": "2022-02-17T16:06:26.228Z"
   },
   {
    "duration": -24,
    "start_time": "2022-02-17T16:06:26.229Z"
   },
   {
    "duration": 10193,
    "start_time": "2022-02-17T16:08:18.487Z"
   },
   {
    "duration": 191,
    "start_time": "2022-02-17T16:08:39.635Z"
   },
   {
    "duration": 145,
    "start_time": "2022-02-17T16:09:01.326Z"
   },
   {
    "duration": 17,
    "start_time": "2022-02-17T16:09:01.473Z"
   },
   {
    "duration": 40,
    "start_time": "2022-02-17T16:09:01.492Z"
   },
   {
    "duration": 129,
    "start_time": "2022-02-17T16:09:01.534Z"
   },
   {
    "duration": 14,
    "start_time": "2022-02-17T16:09:01.665Z"
   },
   {
    "duration": 23,
    "start_time": "2022-02-17T16:09:01.680Z"
   },
   {
    "duration": 95,
    "start_time": "2022-02-17T16:09:01.705Z"
   },
   {
    "duration": 13,
    "start_time": "2022-02-17T16:09:01.801Z"
   },
   {
    "duration": 12,
    "start_time": "2022-02-17T16:09:01.816Z"
   },
   {
    "duration": 24,
    "start_time": "2022-02-17T16:09:01.830Z"
   },
   {
    "duration": 6,
    "start_time": "2022-02-17T16:09:01.856Z"
   },
   {
    "duration": 24,
    "start_time": "2022-02-17T16:09:01.863Z"
   },
   {
    "duration": 39,
    "start_time": "2022-02-17T16:09:01.889Z"
   },
   {
    "duration": 6,
    "start_time": "2022-02-17T16:09:01.930Z"
   },
   {
    "duration": 15,
    "start_time": "2022-02-17T16:09:01.938Z"
   },
   {
    "duration": 272,
    "start_time": "2022-02-17T16:09:01.954Z"
   },
   {
    "duration": 204,
    "start_time": "2022-02-17T16:09:02.227Z"
   },
   {
    "duration": 129,
    "start_time": "2022-02-17T16:09:02.433Z"
   },
   {
    "duration": 7,
    "start_time": "2022-02-17T16:09:02.563Z"
   },
   {
    "duration": 89,
    "start_time": "2022-02-17T16:09:02.571Z"
   },
   {
    "duration": 49,
    "start_time": "2022-02-17T16:09:02.662Z"
   },
   {
    "duration": 58,
    "start_time": "2022-02-17T16:09:02.712Z"
   },
   {
    "duration": 148,
    "start_time": "2022-02-17T16:15:13.557Z"
   },
   {
    "duration": 162,
    "start_time": "2022-02-17T16:15:30.605Z"
   },
   {
    "duration": 19,
    "start_time": "2022-02-17T16:15:30.769Z"
   },
   {
    "duration": 25,
    "start_time": "2022-02-17T16:15:30.790Z"
   },
   {
    "duration": 163,
    "start_time": "2022-02-17T16:15:30.818Z"
   },
   {
    "duration": 15,
    "start_time": "2022-02-17T16:15:30.983Z"
   },
   {
    "duration": 25,
    "start_time": "2022-02-17T16:15:31.000Z"
   },
   {
    "duration": 108,
    "start_time": "2022-02-17T16:15:31.026Z"
   },
   {
    "duration": 24,
    "start_time": "2022-02-17T16:15:31.137Z"
   },
   {
    "duration": 13,
    "start_time": "2022-02-17T16:15:31.163Z"
   },
   {
    "duration": 20,
    "start_time": "2022-02-17T16:15:31.177Z"
   },
   {
    "duration": 8,
    "start_time": "2022-02-17T16:15:31.198Z"
   },
   {
    "duration": 40,
    "start_time": "2022-02-17T16:15:31.207Z"
   },
   {
    "duration": 38,
    "start_time": "2022-02-17T16:15:31.249Z"
   },
   {
    "duration": 5,
    "start_time": "2022-02-17T16:15:31.289Z"
   },
   {
    "duration": 14,
    "start_time": "2022-02-17T16:15:31.295Z"
   },
   {
    "duration": 262,
    "start_time": "2022-02-17T16:15:31.310Z"
   },
   {
    "duration": 233,
    "start_time": "2022-02-17T16:15:31.574Z"
   },
   {
    "duration": 195,
    "start_time": "2022-02-17T16:15:31.809Z"
   },
   {
    "duration": 5,
    "start_time": "2022-02-17T16:15:32.006Z"
   },
   {
    "duration": 92,
    "start_time": "2022-02-17T16:15:32.013Z"
   },
   {
    "duration": 59,
    "start_time": "2022-02-17T16:15:32.107Z"
   },
   {
    "duration": 48,
    "start_time": "2022-02-17T16:15:32.167Z"
   },
   {
    "duration": 18,
    "start_time": "2022-02-17T16:24:57.986Z"
   },
   {
    "duration": 34,
    "start_time": "2022-02-17T16:25:10.198Z"
   },
   {
    "duration": 22,
    "start_time": "2022-02-17T16:25:58.903Z"
   },
   {
    "duration": 459,
    "start_time": "2022-02-17T16:29:28.532Z"
   },
   {
    "duration": 19,
    "start_time": "2022-02-17T16:29:37.687Z"
   },
   {
    "duration": 431,
    "start_time": "2022-02-17T16:36:23.762Z"
   },
   {
    "duration": 18,
    "start_time": "2022-02-17T16:36:58.039Z"
   },
   {
    "duration": 16,
    "start_time": "2022-02-17T16:38:01.461Z"
   },
   {
    "duration": 20,
    "start_time": "2022-02-17T16:39:40.911Z"
   },
   {
    "duration": 27,
    "start_time": "2022-02-17T16:40:25.282Z"
   },
   {
    "duration": 24,
    "start_time": "2022-02-17T16:42:10.460Z"
   },
   {
    "duration": 9019,
    "start_time": "2022-02-17T16:43:37.248Z"
   },
   {
    "duration": 23,
    "start_time": "2022-02-17T16:44:08.414Z"
   },
   {
    "duration": 490,
    "start_time": "2022-02-17T16:46:12.865Z"
   },
   {
    "duration": 24,
    "start_time": "2022-02-17T16:46:26.175Z"
   },
   {
    "duration": 147,
    "start_time": "2022-02-17T16:46:45.937Z"
   },
   {
    "duration": 23,
    "start_time": "2022-02-17T16:46:46.087Z"
   },
   {
    "duration": 36,
    "start_time": "2022-02-17T16:46:46.112Z"
   },
   {
    "duration": 123,
    "start_time": "2022-02-17T16:46:46.150Z"
   },
   {
    "duration": 16,
    "start_time": "2022-02-17T16:46:46.275Z"
   },
   {
    "duration": 24,
    "start_time": "2022-02-17T16:46:46.292Z"
   },
   {
    "duration": 88,
    "start_time": "2022-02-17T16:46:46.318Z"
   },
   {
    "duration": 13,
    "start_time": "2022-02-17T16:46:46.409Z"
   },
   {
    "duration": 30,
    "start_time": "2022-02-17T16:46:46.424Z"
   },
   {
    "duration": 17,
    "start_time": "2022-02-17T16:46:46.455Z"
   },
   {
    "duration": 8,
    "start_time": "2022-02-17T16:46:46.474Z"
   },
   {
    "duration": 36,
    "start_time": "2022-02-17T16:46:46.483Z"
   },
   {
    "duration": 29,
    "start_time": "2022-02-17T16:46:46.520Z"
   },
   {
    "duration": 5,
    "start_time": "2022-02-17T16:46:46.551Z"
   },
   {
    "duration": 14,
    "start_time": "2022-02-17T16:46:46.557Z"
   },
   {
    "duration": 282,
    "start_time": "2022-02-17T16:46:46.572Z"
   },
   {
    "duration": 205,
    "start_time": "2022-02-17T16:46:46.856Z"
   },
   {
    "duration": 164,
    "start_time": "2022-02-17T16:46:47.063Z"
   },
   {
    "duration": 6,
    "start_time": "2022-02-17T16:46:47.228Z"
   },
   {
    "duration": 98,
    "start_time": "2022-02-17T16:46:47.235Z"
   },
   {
    "duration": 52,
    "start_time": "2022-02-17T16:46:47.335Z"
   },
   {
    "duration": 62,
    "start_time": "2022-02-17T16:46:47.389Z"
   },
   {
    "duration": 22,
    "start_time": "2022-02-17T16:46:47.454Z"
   },
   {
    "duration": 632,
    "start_time": "2022-02-17T16:54:12.163Z"
   },
   {
    "duration": 57,
    "start_time": "2022-02-17T16:54:42.814Z"
   },
   {
    "duration": 141,
    "start_time": "2022-02-17T16:55:12.874Z"
   },
   {
    "duration": 17,
    "start_time": "2022-02-17T16:55:13.017Z"
   },
   {
    "duration": 23,
    "start_time": "2022-02-17T16:55:13.046Z"
   },
   {
    "duration": 127,
    "start_time": "2022-02-17T16:55:13.071Z"
   },
   {
    "duration": 15,
    "start_time": "2022-02-17T16:55:13.199Z"
   },
   {
    "duration": 38,
    "start_time": "2022-02-17T16:55:13.215Z"
   },
   {
    "duration": 89,
    "start_time": "2022-02-17T16:55:13.255Z"
   },
   {
    "duration": 13,
    "start_time": "2022-02-17T16:55:13.345Z"
   },
   {
    "duration": 14,
    "start_time": "2022-02-17T16:55:13.360Z"
   },
   {
    "duration": 18,
    "start_time": "2022-02-17T16:55:13.376Z"
   },
   {
    "duration": 8,
    "start_time": "2022-02-17T16:55:13.395Z"
   },
   {
    "duration": 23,
    "start_time": "2022-02-17T16:55:13.405Z"
   },
   {
    "duration": 31,
    "start_time": "2022-02-17T16:55:13.446Z"
   },
   {
    "duration": 6,
    "start_time": "2022-02-17T16:55:13.479Z"
   },
   {
    "duration": 18,
    "start_time": "2022-02-17T16:55:13.486Z"
   },
   {
    "duration": 316,
    "start_time": "2022-02-17T16:55:13.506Z"
   },
   {
    "duration": 220,
    "start_time": "2022-02-17T16:55:13.823Z"
   },
   {
    "duration": 176,
    "start_time": "2022-02-17T16:55:14.046Z"
   },
   {
    "duration": 6,
    "start_time": "2022-02-17T16:55:14.223Z"
   },
   {
    "duration": 84,
    "start_time": "2022-02-17T16:55:14.230Z"
   },
   {
    "duration": 61,
    "start_time": "2022-02-17T16:55:14.316Z"
   },
   {
    "duration": 46,
    "start_time": "2022-02-17T16:55:14.379Z"
   },
   {
    "duration": 71,
    "start_time": "2022-02-17T16:55:14.427Z"
   },
   {
    "duration": 58,
    "start_time": "2022-02-17T17:01:52.998Z"
   },
   {
    "duration": 63,
    "start_time": "2022-02-17T17:02:33.188Z"
   },
   {
    "duration": 144,
    "start_time": "2022-02-17T17:04:17.871Z"
   },
   {
    "duration": 17,
    "start_time": "2022-02-17T17:04:18.016Z"
   },
   {
    "duration": 29,
    "start_time": "2022-02-17T17:04:18.035Z"
   },
   {
    "duration": 129,
    "start_time": "2022-02-17T17:04:18.065Z"
   },
   {
    "duration": 14,
    "start_time": "2022-02-17T17:04:18.196Z"
   },
   {
    "duration": 36,
    "start_time": "2022-02-17T17:04:18.212Z"
   },
   {
    "duration": 84,
    "start_time": "2022-02-17T17:04:18.250Z"
   },
   {
    "duration": 13,
    "start_time": "2022-02-17T17:04:18.336Z"
   },
   {
    "duration": 12,
    "start_time": "2022-02-17T17:04:18.351Z"
   },
   {
    "duration": 18,
    "start_time": "2022-02-17T17:04:18.365Z"
   },
   {
    "duration": 9,
    "start_time": "2022-02-17T17:04:18.385Z"
   },
   {
    "duration": 26,
    "start_time": "2022-02-17T17:04:18.396Z"
   },
   {
    "duration": 47,
    "start_time": "2022-02-17T17:04:18.424Z"
   },
   {
    "duration": 5,
    "start_time": "2022-02-17T17:04:18.472Z"
   },
   {
    "duration": 16,
    "start_time": "2022-02-17T17:04:18.478Z"
   },
   {
    "duration": 244,
    "start_time": "2022-02-17T17:04:18.495Z"
   },
   {
    "duration": 201,
    "start_time": "2022-02-17T17:04:18.745Z"
   },
   {
    "duration": 166,
    "start_time": "2022-02-17T17:04:18.948Z"
   },
   {
    "duration": 6,
    "start_time": "2022-02-17T17:04:19.115Z"
   },
   {
    "duration": 88,
    "start_time": "2022-02-17T17:04:19.122Z"
   },
   {
    "duration": 60,
    "start_time": "2022-02-17T17:04:19.212Z"
   },
   {
    "duration": 49,
    "start_time": "2022-02-17T17:04:19.273Z"
   },
   {
    "duration": 81,
    "start_time": "2022-02-17T17:04:19.324Z"
   },
   {
    "duration": 257,
    "start_time": "2022-02-18T09:08:24.717Z"
   },
   {
    "duration": 723,
    "start_time": "2022-02-18T09:08:30.454Z"
   },
   {
    "duration": 25,
    "start_time": "2022-02-18T09:08:31.179Z"
   },
   {
    "duration": 35,
    "start_time": "2022-02-18T09:08:31.206Z"
   },
   {
    "duration": 144,
    "start_time": "2022-02-18T09:08:31.243Z"
   },
   {
    "duration": 16,
    "start_time": "2022-02-18T09:08:31.388Z"
   },
   {
    "duration": 37,
    "start_time": "2022-02-18T09:08:31.406Z"
   },
   {
    "duration": 94,
    "start_time": "2022-02-18T09:08:31.445Z"
   },
   {
    "duration": 13,
    "start_time": "2022-02-18T09:08:31.541Z"
   },
   {
    "duration": 14,
    "start_time": "2022-02-18T09:08:31.557Z"
   },
   {
    "duration": 14,
    "start_time": "2022-02-18T09:08:31.572Z"
   },
   {
    "duration": 4,
    "start_time": "2022-02-18T09:08:31.588Z"
   },
   {
    "duration": 49,
    "start_time": "2022-02-18T09:08:31.594Z"
   },
   {
    "duration": 19,
    "start_time": "2022-02-18T09:08:31.645Z"
   },
   {
    "duration": 6,
    "start_time": "2022-02-18T09:08:31.665Z"
   },
   {
    "duration": 19,
    "start_time": "2022-02-18T09:08:31.672Z"
   },
   {
    "duration": 338,
    "start_time": "2022-02-18T09:08:31.692Z"
   },
   {
    "duration": 255,
    "start_time": "2022-02-18T09:08:32.031Z"
   },
   {
    "duration": 204,
    "start_time": "2022-02-18T09:08:32.287Z"
   },
   {
    "duration": 7,
    "start_time": "2022-02-18T09:08:32.493Z"
   },
   {
    "duration": 109,
    "start_time": "2022-02-18T09:08:32.501Z"
   },
   {
    "duration": 64,
    "start_time": "2022-02-18T09:08:32.612Z"
   },
   {
    "duration": 69,
    "start_time": "2022-02-18T09:08:32.677Z"
   },
   {
    "duration": 78,
    "start_time": "2022-02-18T09:08:32.748Z"
   },
   {
    "duration": 174,
    "start_time": "2022-02-18T09:15:58.578Z"
   },
   {
    "duration": 22,
    "start_time": "2022-02-18T09:15:58.754Z"
   },
   {
    "duration": 51,
    "start_time": "2022-02-18T09:15:58.778Z"
   },
   {
    "duration": 157,
    "start_time": "2022-02-18T09:15:58.832Z"
   },
   {
    "duration": 29,
    "start_time": "2022-02-18T09:15:58.991Z"
   },
   {
    "duration": 30,
    "start_time": "2022-02-18T09:15:59.022Z"
   },
   {
    "duration": 109,
    "start_time": "2022-02-18T09:15:59.054Z"
   },
   {
    "duration": 15,
    "start_time": "2022-02-18T09:15:59.166Z"
   },
   {
    "duration": 14,
    "start_time": "2022-02-18T09:15:59.184Z"
   },
   {
    "duration": 13,
    "start_time": "2022-02-18T09:15:59.219Z"
   },
   {
    "duration": 6,
    "start_time": "2022-02-18T09:15:59.234Z"
   },
   {
    "duration": 29,
    "start_time": "2022-02-18T09:15:59.242Z"
   },
   {
    "duration": 21,
    "start_time": "2022-02-18T09:15:59.273Z"
   },
   {
    "duration": 5,
    "start_time": "2022-02-18T09:15:59.296Z"
   },
   {
    "duration": 16,
    "start_time": "2022-02-18T09:15:59.319Z"
   },
   {
    "duration": 331,
    "start_time": "2022-02-18T09:15:59.337Z"
   },
   {
    "duration": 254,
    "start_time": "2022-02-18T09:15:59.670Z"
   },
   {
    "duration": 203,
    "start_time": "2022-02-18T09:15:59.926Z"
   },
   {
    "duration": 7,
    "start_time": "2022-02-18T09:16:00.131Z"
   },
   {
    "duration": 107,
    "start_time": "2022-02-18T09:16:00.139Z"
   },
   {
    "duration": 71,
    "start_time": "2022-02-18T09:16:00.248Z"
   },
   {
    "duration": 55,
    "start_time": "2022-02-18T09:16:00.321Z"
   },
   {
    "duration": 83,
    "start_time": "2022-02-18T09:16:00.379Z"
   },
   {
    "duration": 160,
    "start_time": "2022-02-18T09:23:12.052Z"
   },
   {
    "duration": 23,
    "start_time": "2022-02-18T09:23:12.214Z"
   },
   {
    "duration": 27,
    "start_time": "2022-02-18T09:23:12.239Z"
   },
   {
    "duration": 173,
    "start_time": "2022-02-18T09:23:12.268Z"
   },
   {
    "duration": 16,
    "start_time": "2022-02-18T09:23:12.443Z"
   },
   {
    "duration": 28,
    "start_time": "2022-02-18T09:23:12.460Z"
   },
   {
    "duration": 106,
    "start_time": "2022-02-18T09:23:12.490Z"
   },
   {
    "duration": 25,
    "start_time": "2022-02-18T09:23:12.597Z"
   },
   {
    "duration": 31,
    "start_time": "2022-02-18T09:23:12.625Z"
   },
   {
    "duration": 14,
    "start_time": "2022-02-18T09:23:12.658Z"
   },
   {
    "duration": 5,
    "start_time": "2022-02-18T09:23:12.674Z"
   },
   {
    "duration": 39,
    "start_time": "2022-02-18T09:23:12.681Z"
   },
   {
    "duration": 20,
    "start_time": "2022-02-18T09:23:12.722Z"
   },
   {
    "duration": 6,
    "start_time": "2022-02-18T09:23:12.743Z"
   },
   {
    "duration": 17,
    "start_time": "2022-02-18T09:23:12.750Z"
   },
   {
    "duration": 312,
    "start_time": "2022-02-18T09:23:12.769Z"
   },
   {
    "duration": 245,
    "start_time": "2022-02-18T09:23:13.083Z"
   },
   {
    "duration": 206,
    "start_time": "2022-02-18T09:23:13.330Z"
   },
   {
    "duration": 7,
    "start_time": "2022-02-18T09:23:13.538Z"
   },
   {
    "duration": 110,
    "start_time": "2022-02-18T09:23:13.546Z"
   },
   {
    "duration": 69,
    "start_time": "2022-02-18T09:23:13.657Z"
   },
   {
    "duration": 56,
    "start_time": "2022-02-18T09:23:13.728Z"
   },
   {
    "duration": 87,
    "start_time": "2022-02-18T09:23:13.786Z"
   },
   {
    "duration": 158,
    "start_time": "2022-02-18T09:33:04.664Z"
   },
   {
    "duration": 21,
    "start_time": "2022-02-18T09:33:04.824Z"
   },
   {
    "duration": 28,
    "start_time": "2022-02-18T09:33:04.848Z"
   },
   {
    "duration": 168,
    "start_time": "2022-02-18T09:33:04.878Z"
   },
   {
    "duration": 17,
    "start_time": "2022-02-18T09:33:05.047Z"
   },
   {
    "duration": 32,
    "start_time": "2022-02-18T09:33:05.065Z"
   },
   {
    "duration": 91,
    "start_time": "2022-02-18T09:33:05.119Z"
   },
   {
    "duration": 20,
    "start_time": "2022-02-18T09:33:05.212Z"
   },
   {
    "duration": 13,
    "start_time": "2022-02-18T09:33:05.235Z"
   },
   {
    "duration": 14,
    "start_time": "2022-02-18T09:33:05.250Z"
   },
   {
    "duration": 5,
    "start_time": "2022-02-18T09:33:05.266Z"
   },
   {
    "duration": 72,
    "start_time": "2022-02-18T09:33:05.273Z"
   },
   {
    "duration": 21,
    "start_time": "2022-02-18T09:33:05.346Z"
   },
   {
    "duration": 5,
    "start_time": "2022-02-18T09:33:05.369Z"
   },
   {
    "duration": 42,
    "start_time": "2022-02-18T09:33:05.376Z"
   },
   {
    "duration": 307,
    "start_time": "2022-02-18T09:33:05.420Z"
   },
   {
    "duration": 250,
    "start_time": "2022-02-18T09:33:05.729Z"
   },
   {
    "duration": 207,
    "start_time": "2022-02-18T09:33:05.981Z"
   },
   {
    "duration": 7,
    "start_time": "2022-02-18T09:33:06.189Z"
   },
   {
    "duration": 106,
    "start_time": "2022-02-18T09:33:06.197Z"
   },
   {
    "duration": 63,
    "start_time": "2022-02-18T09:33:06.305Z"
   },
   {
    "duration": 75,
    "start_time": "2022-02-18T09:33:06.370Z"
   },
   {
    "duration": 84,
    "start_time": "2022-02-18T09:33:06.447Z"
   },
   {
    "duration": 161,
    "start_time": "2022-02-18T09:48:16.647Z"
   },
   {
    "duration": 27,
    "start_time": "2022-02-18T09:48:16.810Z"
   },
   {
    "duration": 26,
    "start_time": "2022-02-18T09:48:16.839Z"
   },
   {
    "duration": 152,
    "start_time": "2022-02-18T09:48:16.867Z"
   },
   {
    "duration": 17,
    "start_time": "2022-02-18T09:48:17.021Z"
   },
   {
    "duration": 28,
    "start_time": "2022-02-18T09:48:17.039Z"
   },
   {
    "duration": 104,
    "start_time": "2022-02-18T09:48:17.068Z"
   },
   {
    "duration": 13,
    "start_time": "2022-02-18T09:48:17.173Z"
   },
   {
    "duration": 12,
    "start_time": "2022-02-18T09:48:17.189Z"
   },
   {
    "duration": 13,
    "start_time": "2022-02-18T09:48:17.220Z"
   },
   {
    "duration": 6,
    "start_time": "2022-02-18T09:48:17.235Z"
   },
   {
    "duration": 29,
    "start_time": "2022-02-18T09:48:17.243Z"
   },
   {
    "duration": 19,
    "start_time": "2022-02-18T09:48:17.274Z"
   },
   {
    "duration": 5,
    "start_time": "2022-02-18T09:48:17.295Z"
   },
   {
    "duration": 30,
    "start_time": "2022-02-18T09:48:17.301Z"
   },
   {
    "duration": 294,
    "start_time": "2022-02-18T09:48:17.332Z"
   },
   {
    "duration": 238,
    "start_time": "2022-02-18T09:48:17.627Z"
   },
   {
    "duration": 178,
    "start_time": "2022-02-18T09:48:17.867Z"
   },
   {
    "duration": 6,
    "start_time": "2022-02-18T09:48:18.046Z"
   },
   {
    "duration": 95,
    "start_time": "2022-02-18T09:48:18.054Z"
   },
   {
    "duration": 55,
    "start_time": "2022-02-18T09:48:18.151Z"
   },
   {
    "duration": 60,
    "start_time": "2022-02-18T09:48:18.207Z"
   },
   {
    "duration": 78,
    "start_time": "2022-02-18T09:48:18.268Z"
   },
   {
    "duration": 3,
    "start_time": "2022-02-18T10:11:34.000Z"
   },
   {
    "duration": 4,
    "start_time": "2022-02-18T10:11:37.784Z"
   },
   {
    "duration": 6,
    "start_time": "2022-02-18T10:14:39.014Z"
   },
   {
    "duration": 10,
    "start_time": "2022-02-18T10:22:27.061Z"
   },
   {
    "duration": 10,
    "start_time": "2022-02-18T10:23:14.383Z"
   },
   {
    "duration": 10,
    "start_time": "2022-02-18T10:23:27.520Z"
   },
   {
    "duration": 9,
    "start_time": "2022-02-18T10:26:41.869Z"
   },
   {
    "duration": 11,
    "start_time": "2022-02-18T10:27:37.512Z"
   },
   {
    "duration": 152,
    "start_time": "2022-02-18T10:27:50.828Z"
   },
   {
    "duration": 18,
    "start_time": "2022-02-18T10:27:50.982Z"
   },
   {
    "duration": 33,
    "start_time": "2022-02-18T10:27:51.002Z"
   },
   {
    "duration": 133,
    "start_time": "2022-02-18T10:27:51.037Z"
   },
   {
    "duration": 14,
    "start_time": "2022-02-18T10:27:51.172Z"
   },
   {
    "duration": 42,
    "start_time": "2022-02-18T10:27:51.188Z"
   },
   {
    "duration": 81,
    "start_time": "2022-02-18T10:27:51.231Z"
   },
   {
    "duration": 17,
    "start_time": "2022-02-18T10:27:51.313Z"
   },
   {
    "duration": 17,
    "start_time": "2022-02-18T10:27:51.333Z"
   },
   {
    "duration": 14,
    "start_time": "2022-02-18T10:27:51.352Z"
   },
   {
    "duration": 7,
    "start_time": "2022-02-18T10:27:51.367Z"
   },
   {
    "duration": 25,
    "start_time": "2022-02-18T10:27:51.375Z"
   },
   {
    "duration": 24,
    "start_time": "2022-02-18T10:27:51.401Z"
   },
   {
    "duration": 5,
    "start_time": "2022-02-18T10:27:51.426Z"
   },
   {
    "duration": 14,
    "start_time": "2022-02-18T10:27:51.432Z"
   },
   {
    "duration": 293,
    "start_time": "2022-02-18T10:27:51.447Z"
   },
   {
    "duration": 218,
    "start_time": "2022-02-18T10:27:51.741Z"
   },
   {
    "duration": 176,
    "start_time": "2022-02-18T10:27:51.960Z"
   },
   {
    "duration": 6,
    "start_time": "2022-02-18T10:27:52.137Z"
   },
   {
    "duration": 97,
    "start_time": "2022-02-18T10:27:52.144Z"
   },
   {
    "duration": 56,
    "start_time": "2022-02-18T10:27:52.243Z"
   },
   {
    "duration": 68,
    "start_time": "2022-02-18T10:27:52.300Z"
   },
   {
    "duration": 76,
    "start_time": "2022-02-18T10:27:52.369Z"
   },
   {
    "duration": 7,
    "start_time": "2022-02-18T10:27:52.447Z"
   },
   {
    "duration": 9,
    "start_time": "2022-02-18T10:27:52.455Z"
   },
   {
    "duration": 163,
    "start_time": "2022-02-18T14:35:40.915Z"
   },
   {
    "duration": 165,
    "start_time": "2022-02-18T14:35:50.253Z"
   },
   {
    "duration": 366,
    "start_time": "2022-02-18T14:35:54.865Z"
   },
   {
    "duration": 890,
    "start_time": "2022-02-18T14:36:01.734Z"
   },
   {
    "duration": 27,
    "start_time": "2022-02-18T14:36:02.626Z"
   },
   {
    "duration": 24,
    "start_time": "2022-02-18T14:36:02.655Z"
   },
   {
    "duration": 130,
    "start_time": "2022-02-18T14:36:02.681Z"
   },
   {
    "duration": 20,
    "start_time": "2022-02-18T14:36:02.813Z"
   },
   {
    "duration": 24,
    "start_time": "2022-02-18T14:36:02.835Z"
   },
   {
    "duration": 84,
    "start_time": "2022-02-18T14:36:02.861Z"
   },
   {
    "duration": 12,
    "start_time": "2022-02-18T14:36:02.947Z"
   },
   {
    "duration": 11,
    "start_time": "2022-02-18T14:36:02.962Z"
   },
   {
    "duration": 18,
    "start_time": "2022-02-18T14:36:02.974Z"
   },
   {
    "duration": 6,
    "start_time": "2022-02-18T14:36:02.993Z"
   },
   {
    "duration": 43,
    "start_time": "2022-02-18T14:36:03.001Z"
   },
   {
    "duration": 64,
    "start_time": "2022-02-18T14:36:03.045Z"
   },
   {
    "duration": 7,
    "start_time": "2022-02-18T14:36:03.110Z"
   },
   {
    "duration": 15,
    "start_time": "2022-02-18T14:36:03.118Z"
   },
   {
    "duration": 266,
    "start_time": "2022-02-18T14:36:03.135Z"
   },
   {
    "duration": 221,
    "start_time": "2022-02-18T14:36:03.403Z"
   },
   {
    "duration": 186,
    "start_time": "2022-02-18T14:36:03.625Z"
   },
   {
    "duration": 6,
    "start_time": "2022-02-18T14:36:03.813Z"
   },
   {
    "duration": 87,
    "start_time": "2022-02-18T14:36:03.821Z"
   },
   {
    "duration": 65,
    "start_time": "2022-02-18T14:36:03.910Z"
   },
   {
    "duration": 59,
    "start_time": "2022-02-18T14:36:03.977Z"
   },
   {
    "duration": 62,
    "start_time": "2022-02-18T14:36:04.038Z"
   },
   {
    "duration": 6,
    "start_time": "2022-02-18T14:36:04.101Z"
   },
   {
    "duration": 28,
    "start_time": "2022-02-18T14:36:04.109Z"
   },
   {
    "duration": 8,
    "start_time": "2022-02-18T14:36:56.008Z"
   },
   {
    "duration": 6,
    "start_time": "2022-02-18T14:43:10.339Z"
   },
   {
    "duration": 6,
    "start_time": "2022-02-18T14:43:51.278Z"
   },
   {
    "duration": 9,
    "start_time": "2022-02-18T14:44:12.648Z"
   },
   {
    "duration": 11,
    "start_time": "2022-02-18T14:44:34.235Z"
   },
   {
    "duration": 7,
    "start_time": "2022-02-18T14:44:35.084Z"
   },
   {
    "duration": 148,
    "start_time": "2022-02-18T14:44:39.257Z"
   },
   {
    "duration": 17,
    "start_time": "2022-02-18T14:44:39.407Z"
   },
   {
    "duration": 23,
    "start_time": "2022-02-18T14:44:39.432Z"
   },
   {
    "duration": 132,
    "start_time": "2022-02-18T14:44:39.457Z"
   },
   {
    "duration": 14,
    "start_time": "2022-02-18T14:44:39.591Z"
   },
   {
    "duration": 37,
    "start_time": "2022-02-18T14:44:39.606Z"
   },
   {
    "duration": 89,
    "start_time": "2022-02-18T14:44:39.645Z"
   },
   {
    "duration": 15,
    "start_time": "2022-02-18T14:44:39.735Z"
   },
   {
    "duration": 11,
    "start_time": "2022-02-18T14:44:39.754Z"
   },
   {
    "duration": 19,
    "start_time": "2022-02-18T14:44:39.767Z"
   },
   {
    "duration": 4,
    "start_time": "2022-02-18T14:44:39.788Z"
   },
   {
    "duration": 54,
    "start_time": "2022-02-18T14:44:39.794Z"
   },
   {
    "duration": 45,
    "start_time": "2022-02-18T14:44:39.850Z"
   },
   {
    "duration": 5,
    "start_time": "2022-02-18T14:44:39.896Z"
   },
   {
    "duration": 14,
    "start_time": "2022-02-18T14:44:39.902Z"
   },
   {
    "duration": 253,
    "start_time": "2022-02-18T14:44:39.917Z"
   },
   {
    "duration": 219,
    "start_time": "2022-02-18T14:44:40.172Z"
   },
   {
    "duration": 266,
    "start_time": "2022-02-18T14:44:40.393Z"
   },
   {
    "duration": 9,
    "start_time": "2022-02-18T14:44:40.661Z"
   },
   {
    "duration": 140,
    "start_time": "2022-02-18T14:44:40.671Z"
   },
   {
    "duration": 61,
    "start_time": "2022-02-18T14:44:40.813Z"
   },
   {
    "duration": 57,
    "start_time": "2022-02-18T14:44:40.876Z"
   },
   {
    "duration": 62,
    "start_time": "2022-02-18T14:44:40.934Z"
   },
   {
    "duration": 8,
    "start_time": "2022-02-18T14:44:40.998Z"
   },
   {
    "duration": 11,
    "start_time": "2022-02-18T14:44:41.031Z"
   },
   {
    "duration": 8,
    "start_time": "2022-02-18T14:44:41.044Z"
   },
   {
    "duration": 103,
    "start_time": "2022-02-18T14:53:06.615Z"
   },
   {
    "duration": 6,
    "start_time": "2022-02-18T14:53:20.519Z"
   },
   {
    "duration": 141,
    "start_time": "2022-02-18T14:53:25.367Z"
   },
   {
    "duration": 24,
    "start_time": "2022-02-18T14:53:25.510Z"
   },
   {
    "duration": 22,
    "start_time": "2022-02-18T14:53:25.536Z"
   },
   {
    "duration": 129,
    "start_time": "2022-02-18T14:53:25.560Z"
   },
   {
    "duration": 14,
    "start_time": "2022-02-18T14:53:25.691Z"
   },
   {
    "duration": 39,
    "start_time": "2022-02-18T14:53:25.707Z"
   },
   {
    "duration": 86,
    "start_time": "2022-02-18T14:53:25.748Z"
   },
   {
    "duration": 13,
    "start_time": "2022-02-18T14:53:25.836Z"
   },
   {
    "duration": 11,
    "start_time": "2022-02-18T14:53:25.851Z"
   },
   {
    "duration": 19,
    "start_time": "2022-02-18T14:53:25.863Z"
   },
   {
    "duration": 5,
    "start_time": "2022-02-18T14:53:25.883Z"
   },
   {
    "duration": 24,
    "start_time": "2022-02-18T14:53:25.889Z"
   },
   {
    "duration": 36,
    "start_time": "2022-02-18T14:53:25.915Z"
   },
   {
    "duration": 5,
    "start_time": "2022-02-18T14:53:25.952Z"
   },
   {
    "duration": 13,
    "start_time": "2022-02-18T14:53:25.958Z"
   },
   {
    "duration": 256,
    "start_time": "2022-02-18T14:53:25.972Z"
   },
   {
    "duration": 213,
    "start_time": "2022-02-18T14:53:26.229Z"
   },
   {
    "duration": 186,
    "start_time": "2022-02-18T14:53:26.444Z"
   },
   {
    "duration": 6,
    "start_time": "2022-02-18T14:53:26.631Z"
   },
   {
    "duration": 92,
    "start_time": "2022-02-18T14:53:26.639Z"
   },
   {
    "duration": 51,
    "start_time": "2022-02-18T14:53:26.733Z"
   },
   {
    "duration": 72,
    "start_time": "2022-02-18T14:53:26.785Z"
   },
   {
    "duration": 73,
    "start_time": "2022-02-18T14:53:26.860Z"
   },
   {
    "duration": 10,
    "start_time": "2022-02-18T14:53:26.934Z"
   },
   {
    "duration": 8,
    "start_time": "2022-02-18T14:53:26.946Z"
   },
   {
    "duration": 6,
    "start_time": "2022-02-18T14:53:26.956Z"
   },
   {
    "duration": 7,
    "start_time": "2022-02-18T14:53:26.963Z"
   },
   {
    "duration": 7,
    "start_time": "2022-02-18T15:22:42.596Z"
   },
   {
    "duration": 208,
    "start_time": "2022-02-18T15:27:48.738Z"
   },
   {
    "duration": 18,
    "start_time": "2022-02-18T15:27:48.948Z"
   },
   {
    "duration": 24,
    "start_time": "2022-02-18T15:27:48.969Z"
   },
   {
    "duration": 140,
    "start_time": "2022-02-18T15:27:48.995Z"
   },
   {
    "duration": 16,
    "start_time": "2022-02-18T15:27:49.137Z"
   },
   {
    "duration": 26,
    "start_time": "2022-02-18T15:27:49.154Z"
   },
   {
    "duration": 97,
    "start_time": "2022-02-18T15:27:49.182Z"
   },
   {
    "duration": 12,
    "start_time": "2022-02-18T15:27:49.281Z"
   },
   {
    "duration": 11,
    "start_time": "2022-02-18T15:27:49.296Z"
   },
   {
    "duration": 26,
    "start_time": "2022-02-18T15:27:49.309Z"
   },
   {
    "duration": 4,
    "start_time": "2022-02-18T15:27:49.337Z"
   },
   {
    "duration": 25,
    "start_time": "2022-02-18T15:27:49.343Z"
   },
   {
    "duration": 35,
    "start_time": "2022-02-18T15:27:49.369Z"
   },
   {
    "duration": 5,
    "start_time": "2022-02-18T15:27:49.405Z"
   },
   {
    "duration": 14,
    "start_time": "2022-02-18T15:27:49.411Z"
   },
   {
    "duration": 244,
    "start_time": "2022-02-18T15:27:49.426Z"
   },
   {
    "duration": 208,
    "start_time": "2022-02-18T15:27:49.672Z"
   },
   {
    "duration": 168,
    "start_time": "2022-02-18T15:27:49.882Z"
   },
   {
    "duration": 6,
    "start_time": "2022-02-18T15:27:50.051Z"
   },
   {
    "duration": 97,
    "start_time": "2022-02-18T15:27:50.059Z"
   },
   {
    "duration": 54,
    "start_time": "2022-02-18T15:27:50.157Z"
   },
   {
    "duration": 62,
    "start_time": "2022-02-18T15:27:50.213Z"
   },
   {
    "duration": 72,
    "start_time": "2022-02-18T15:27:50.277Z"
   },
   {
    "duration": 9,
    "start_time": "2022-02-18T15:27:50.350Z"
   },
   {
    "duration": 9,
    "start_time": "2022-02-18T15:27:50.361Z"
   },
   {
    "duration": 7,
    "start_time": "2022-02-18T15:27:50.371Z"
   },
   {
    "duration": 6,
    "start_time": "2022-02-18T15:27:50.381Z"
   },
   {
    "duration": 335,
    "start_time": "2022-02-18T15:29:46.919Z"
   },
   {
    "duration": 332,
    "start_time": "2022-02-18T15:33:25.264Z"
   },
   {
    "duration": 149,
    "start_time": "2022-02-18T15:33:31.459Z"
   },
   {
    "duration": 23,
    "start_time": "2022-02-18T15:33:31.610Z"
   },
   {
    "duration": 26,
    "start_time": "2022-02-18T15:33:31.635Z"
   },
   {
    "duration": 145,
    "start_time": "2022-02-18T15:33:31.663Z"
   },
   {
    "duration": 25,
    "start_time": "2022-02-18T15:33:31.810Z"
   },
   {
    "duration": 28,
    "start_time": "2022-02-18T15:33:31.836Z"
   },
   {
    "duration": 94,
    "start_time": "2022-02-18T15:33:31.866Z"
   },
   {
    "duration": 13,
    "start_time": "2022-02-18T15:33:31.962Z"
   },
   {
    "duration": 13,
    "start_time": "2022-02-18T15:33:31.978Z"
   },
   {
    "duration": 19,
    "start_time": "2022-02-18T15:33:31.993Z"
   },
   {
    "duration": 22,
    "start_time": "2022-02-18T15:33:32.013Z"
   },
   {
    "duration": 26,
    "start_time": "2022-02-18T15:33:32.037Z"
   },
   {
    "duration": 35,
    "start_time": "2022-02-18T15:33:32.065Z"
   },
   {
    "duration": 5,
    "start_time": "2022-02-18T15:33:32.102Z"
   },
   {
    "duration": 12,
    "start_time": "2022-02-18T15:33:32.109Z"
   },
   {
    "duration": 259,
    "start_time": "2022-02-18T15:33:32.122Z"
   },
   {
    "duration": 204,
    "start_time": "2022-02-18T15:33:32.383Z"
   },
   {
    "duration": 170,
    "start_time": "2022-02-18T15:33:32.588Z"
   },
   {
    "duration": 5,
    "start_time": "2022-02-18T15:33:32.760Z"
   },
   {
    "duration": 89,
    "start_time": "2022-02-18T15:33:32.767Z"
   },
   {
    "duration": 49,
    "start_time": "2022-02-18T15:33:32.857Z"
   },
   {
    "duration": 65,
    "start_time": "2022-02-18T15:33:32.908Z"
   },
   {
    "duration": 68,
    "start_time": "2022-02-18T15:33:32.974Z"
   },
   {
    "duration": 10,
    "start_time": "2022-02-18T15:33:33.044Z"
   },
   {
    "duration": 10,
    "start_time": "2022-02-18T15:33:33.055Z"
   },
   {
    "duration": 6,
    "start_time": "2022-02-18T15:33:33.066Z"
   },
   {
    "duration": 6,
    "start_time": "2022-02-18T15:33:33.075Z"
   },
   {
    "duration": 300,
    "start_time": "2022-02-18T15:33:33.083Z"
   },
   {
    "duration": 8343,
    "start_time": "2022-02-18T15:33:48.763Z"
   },
   {
    "duration": 375,
    "start_time": "2022-02-18T15:39:51.240Z"
   },
   {
    "duration": 12,
    "start_time": "2022-02-18T15:51:17.775Z"
   },
   {
    "duration": 5,
    "start_time": "2022-02-18T15:51:45.805Z"
   },
   {
    "duration": 332,
    "start_time": "2022-02-18T15:52:18.005Z"
   },
   {
    "duration": 336,
    "start_time": "2022-02-18T15:54:38.473Z"
   },
   {
    "duration": 5,
    "start_time": "2022-02-18T15:56:20.307Z"
   },
   {
    "duration": 7,
    "start_time": "2022-02-18T15:57:20.778Z"
   },
   {
    "duration": 347,
    "start_time": "2022-02-18T15:57:34.423Z"
   },
   {
    "duration": 6,
    "start_time": "2022-02-18T16:01:07.736Z"
   },
   {
    "duration": 354,
    "start_time": "2022-02-18T16:01:19.573Z"
   },
   {
    "duration": 112,
    "start_time": "2022-02-18T16:02:00.578Z"
   },
   {
    "duration": 161,
    "start_time": "2022-02-18T16:02:11.371Z"
   },
   {
    "duration": 19,
    "start_time": "2022-02-18T16:02:11.534Z"
   },
   {
    "duration": 24,
    "start_time": "2022-02-18T16:02:11.555Z"
   },
   {
    "duration": 135,
    "start_time": "2022-02-18T16:02:11.580Z"
   },
   {
    "duration": 19,
    "start_time": "2022-02-18T16:02:11.716Z"
   },
   {
    "duration": 24,
    "start_time": "2022-02-18T16:02:11.737Z"
   },
   {
    "duration": 90,
    "start_time": "2022-02-18T16:02:11.762Z"
   },
   {
    "duration": 13,
    "start_time": "2022-02-18T16:02:11.854Z"
   },
   {
    "duration": 12,
    "start_time": "2022-02-18T16:02:11.870Z"
   },
   {
    "duration": 18,
    "start_time": "2022-02-18T16:02:11.884Z"
   },
   {
    "duration": 5,
    "start_time": "2022-02-18T16:02:11.903Z"
   },
   {
    "duration": 39,
    "start_time": "2022-02-18T16:02:11.910Z"
   },
   {
    "duration": 29,
    "start_time": "2022-02-18T16:02:11.951Z"
   },
   {
    "duration": 5,
    "start_time": "2022-02-18T16:02:11.981Z"
   },
   {
    "duration": 15,
    "start_time": "2022-02-18T16:02:11.987Z"
   },
   {
    "duration": 264,
    "start_time": "2022-02-18T16:02:12.003Z"
   },
   {
    "duration": 204,
    "start_time": "2022-02-18T16:02:12.269Z"
   },
   {
    "duration": 169,
    "start_time": "2022-02-18T16:02:12.475Z"
   },
   {
    "duration": 6,
    "start_time": "2022-02-18T16:02:12.645Z"
   },
   {
    "duration": 89,
    "start_time": "2022-02-18T16:02:12.653Z"
   },
   {
    "duration": 51,
    "start_time": "2022-02-18T16:02:12.743Z"
   },
   {
    "duration": 68,
    "start_time": "2022-02-18T16:02:12.796Z"
   },
   {
    "duration": 69,
    "start_time": "2022-02-18T16:02:12.865Z"
   },
   {
    "duration": 9,
    "start_time": "2022-02-18T16:02:12.935Z"
   },
   {
    "duration": 9,
    "start_time": "2022-02-18T16:02:12.945Z"
   },
   {
    "duration": 5,
    "start_time": "2022-02-18T16:02:12.956Z"
   },
   {
    "duration": 6,
    "start_time": "2022-02-18T16:02:12.964Z"
   },
   {
    "duration": 5,
    "start_time": "2022-02-18T16:02:12.972Z"
   },
   {
    "duration": 384,
    "start_time": "2022-02-18T16:02:12.979Z"
   },
   {
    "duration": 6,
    "start_time": "2022-02-18T16:02:13.365Z"
   },
   {
    "duration": 439,
    "start_time": "2022-02-18T16:02:13.372Z"
   },
   {
    "duration": 10,
    "start_time": "2022-02-18T17:14:54.757Z"
   },
   {
    "duration": 11,
    "start_time": "2022-02-18T17:17:10.761Z"
   },
   {
    "duration": 7,
    "start_time": "2022-02-18T17:18:19.149Z"
   },
   {
    "duration": 160,
    "start_time": "2022-02-18T17:19:36.388Z"
   },
   {
    "duration": 20,
    "start_time": "2022-02-18T17:19:36.550Z"
   },
   {
    "duration": 25,
    "start_time": "2022-02-18T17:19:36.572Z"
   },
   {
    "duration": 149,
    "start_time": "2022-02-18T17:19:36.600Z"
   },
   {
    "duration": 15,
    "start_time": "2022-02-18T17:19:36.751Z"
   },
   {
    "duration": 27,
    "start_time": "2022-02-18T17:19:36.768Z"
   },
   {
    "duration": 99,
    "start_time": "2022-02-18T17:19:36.797Z"
   },
   {
    "duration": 13,
    "start_time": "2022-02-18T17:19:36.898Z"
   },
   {
    "duration": 25,
    "start_time": "2022-02-18T17:19:36.914Z"
   },
   {
    "duration": 19,
    "start_time": "2022-02-18T17:19:36.941Z"
   },
   {
    "duration": 5,
    "start_time": "2022-02-18T17:19:36.961Z"
   },
   {
    "duration": 25,
    "start_time": "2022-02-18T17:19:36.967Z"
   },
   {
    "duration": 30,
    "start_time": "2022-02-18T17:19:36.993Z"
   },
   {
    "duration": 5,
    "start_time": "2022-02-18T17:19:37.024Z"
   },
   {
    "duration": 14,
    "start_time": "2022-02-18T17:19:37.030Z"
   },
   {
    "duration": 267,
    "start_time": "2022-02-18T17:19:37.046Z"
   },
   {
    "duration": 209,
    "start_time": "2022-02-18T17:19:37.315Z"
   },
   {
    "duration": 175,
    "start_time": "2022-02-18T17:19:37.526Z"
   },
   {
    "duration": 6,
    "start_time": "2022-02-18T17:19:37.702Z"
   },
   {
    "duration": 91,
    "start_time": "2022-02-18T17:19:37.710Z"
   },
   {
    "duration": 63,
    "start_time": "2022-02-18T17:19:37.803Z"
   },
   {
    "duration": 48,
    "start_time": "2022-02-18T17:19:37.868Z"
   },
   {
    "duration": 70,
    "start_time": "2022-02-18T17:19:37.917Z"
   },
   {
    "duration": 11,
    "start_time": "2022-02-18T17:19:37.989Z"
   },
   {
    "duration": 33,
    "start_time": "2022-02-18T17:19:38.002Z"
   },
   {
    "duration": 8,
    "start_time": "2022-02-18T17:19:38.037Z"
   },
   {
    "duration": 5,
    "start_time": "2022-02-18T17:19:38.048Z"
   },
   {
    "duration": 4,
    "start_time": "2022-02-18T17:19:38.055Z"
   },
   {
    "duration": 373,
    "start_time": "2022-02-18T17:19:38.061Z"
   },
   {
    "duration": 6,
    "start_time": "2022-02-18T17:19:38.435Z"
   },
   {
    "duration": 340,
    "start_time": "2022-02-18T17:19:38.442Z"
   },
   {
    "duration": 10,
    "start_time": "2022-02-18T17:19:38.784Z"
   },
   {
    "duration": 9,
    "start_time": "2022-02-18T17:19:38.796Z"
   },
   {
    "duration": 29,
    "start_time": "2022-02-18T17:19:38.807Z"
   },
   {
    "duration": 7,
    "start_time": "2022-02-18T17:21:44.973Z"
   },
   {
    "duration": 156,
    "start_time": "2022-02-18T17:22:20.540Z"
   },
   {
    "duration": 18,
    "start_time": "2022-02-18T17:22:20.698Z"
   },
   {
    "duration": 28,
    "start_time": "2022-02-18T17:22:20.718Z"
   },
   {
    "duration": 135,
    "start_time": "2022-02-18T17:22:20.748Z"
   },
   {
    "duration": 17,
    "start_time": "2022-02-18T17:22:20.884Z"
   },
   {
    "duration": 45,
    "start_time": "2022-02-18T17:22:20.902Z"
   },
   {
    "duration": 91,
    "start_time": "2022-02-18T17:22:20.948Z"
   },
   {
    "duration": 13,
    "start_time": "2022-02-18T17:22:21.040Z"
   },
   {
    "duration": 14,
    "start_time": "2022-02-18T17:22:21.056Z"
   },
   {
    "duration": 20,
    "start_time": "2022-02-18T17:22:21.072Z"
   },
   {
    "duration": 5,
    "start_time": "2022-02-18T17:22:21.094Z"
   },
   {
    "duration": 40,
    "start_time": "2022-02-18T17:22:21.100Z"
   },
   {
    "duration": 30,
    "start_time": "2022-02-18T17:22:21.142Z"
   },
   {
    "duration": 10,
    "start_time": "2022-02-18T17:22:21.174Z"
   },
   {
    "duration": 15,
    "start_time": "2022-02-18T17:22:21.185Z"
   },
   {
    "duration": 363,
    "start_time": "2022-02-18T17:22:21.202Z"
   },
   {
    "duration": 229,
    "start_time": "2022-02-18T17:22:21.567Z"
   },
   {
    "duration": 289,
    "start_time": "2022-02-18T17:22:21.798Z"
   },
   {
    "duration": 6,
    "start_time": "2022-02-18T17:22:22.089Z"
   },
   {
    "duration": 92,
    "start_time": "2022-02-18T17:22:22.097Z"
   },
   {
    "duration": 62,
    "start_time": "2022-02-18T17:22:22.191Z"
   },
   {
    "duration": 49,
    "start_time": "2022-02-18T17:22:22.255Z"
   },
   {
    "duration": 75,
    "start_time": "2022-02-18T17:22:22.305Z"
   },
   {
    "duration": 10,
    "start_time": "2022-02-18T17:22:22.382Z"
   },
   {
    "duration": 39,
    "start_time": "2022-02-18T17:22:22.393Z"
   },
   {
    "duration": 8,
    "start_time": "2022-02-18T17:22:22.434Z"
   },
   {
    "duration": 7,
    "start_time": "2022-02-18T17:22:22.446Z"
   },
   {
    "duration": 6,
    "start_time": "2022-02-18T17:22:22.455Z"
   },
   {
    "duration": 368,
    "start_time": "2022-02-18T17:22:22.463Z"
   },
   {
    "duration": 7,
    "start_time": "2022-02-18T17:22:22.833Z"
   },
   {
    "duration": 352,
    "start_time": "2022-02-18T17:22:22.842Z"
   },
   {
    "duration": 10,
    "start_time": "2022-02-18T17:22:23.196Z"
   },
   {
    "duration": 26,
    "start_time": "2022-02-18T17:22:23.207Z"
   },
   {
    "duration": 7,
    "start_time": "2022-02-18T17:22:23.234Z"
   },
   {
    "duration": 8,
    "start_time": "2022-02-18T17:22:23.242Z"
   },
   {
    "duration": 8467,
    "start_time": "2022-02-18T17:24:12.686Z"
   },
   {
    "duration": 6,
    "start_time": "2022-02-18T17:24:30.237Z"
   },
   {
    "duration": 410,
    "start_time": "2022-02-18T17:24:52.093Z"
   },
   {
    "duration": 151,
    "start_time": "2022-02-18T17:26:10.833Z"
   },
   {
    "duration": 18,
    "start_time": "2022-02-18T17:26:10.986Z"
   },
   {
    "duration": 31,
    "start_time": "2022-02-18T17:26:11.006Z"
   },
   {
    "duration": 132,
    "start_time": "2022-02-18T17:26:11.038Z"
   },
   {
    "duration": 14,
    "start_time": "2022-02-18T17:26:11.172Z"
   },
   {
    "duration": 24,
    "start_time": "2022-02-18T17:26:11.188Z"
   },
   {
    "duration": 81,
    "start_time": "2022-02-18T17:26:11.213Z"
   },
   {
    "duration": 12,
    "start_time": "2022-02-18T17:26:11.295Z"
   },
   {
    "duration": 28,
    "start_time": "2022-02-18T17:26:11.309Z"
   },
   {
    "duration": 18,
    "start_time": "2022-02-18T17:26:11.339Z"
   },
   {
    "duration": 6,
    "start_time": "2022-02-18T17:26:11.358Z"
   },
   {
    "duration": 25,
    "start_time": "2022-02-18T17:26:11.365Z"
   },
   {
    "duration": 30,
    "start_time": "2022-02-18T17:26:11.391Z"
   },
   {
    "duration": 5,
    "start_time": "2022-02-18T17:26:11.423Z"
   },
   {
    "duration": 16,
    "start_time": "2022-02-18T17:26:11.430Z"
   },
   {
    "duration": 268,
    "start_time": "2022-02-18T17:26:11.448Z"
   },
   {
    "duration": 234,
    "start_time": "2022-02-18T17:26:11.718Z"
   },
   {
    "duration": 188,
    "start_time": "2022-02-18T17:26:11.954Z"
   },
   {
    "duration": 7,
    "start_time": "2022-02-18T17:26:12.143Z"
   },
   {
    "duration": 91,
    "start_time": "2022-02-18T17:26:12.152Z"
   },
   {
    "duration": 52,
    "start_time": "2022-02-18T17:26:12.245Z"
   },
   {
    "duration": 61,
    "start_time": "2022-02-18T17:26:12.298Z"
   },
   {
    "duration": 73,
    "start_time": "2022-02-18T17:26:12.360Z"
   },
   {
    "duration": 9,
    "start_time": "2022-02-18T17:26:12.434Z"
   },
   {
    "duration": 11,
    "start_time": "2022-02-18T17:26:12.445Z"
   },
   {
    "duration": 8,
    "start_time": "2022-02-18T17:26:12.458Z"
   },
   {
    "duration": 7,
    "start_time": "2022-02-18T17:26:12.469Z"
   },
   {
    "duration": 56,
    "start_time": "2022-02-18T17:26:12.478Z"
   },
   {
    "duration": 349,
    "start_time": "2022-02-18T17:26:12.535Z"
   },
   {
    "duration": 6,
    "start_time": "2022-02-18T17:26:12.886Z"
   },
   {
    "duration": 352,
    "start_time": "2022-02-18T17:26:12.894Z"
   },
   {
    "duration": 11,
    "start_time": "2022-02-18T17:26:13.248Z"
   },
   {
    "duration": 10,
    "start_time": "2022-02-18T17:26:13.261Z"
   },
   {
    "duration": 7,
    "start_time": "2022-02-18T17:26:13.273Z"
   },
   {
    "duration": 50,
    "start_time": "2022-02-18T17:26:13.283Z"
   },
   {
    "duration": 7,
    "start_time": "2022-02-18T17:26:13.334Z"
   },
   {
    "duration": 357,
    "start_time": "2022-02-18T17:26:13.343Z"
   },
   {
    "duration": 6,
    "start_time": "2022-02-18T17:26:55.741Z"
   },
   {
    "duration": 322,
    "start_time": "2022-02-18T17:27:23.138Z"
   },
   {
    "duration": 156,
    "start_time": "2022-02-18T17:29:18.498Z"
   },
   {
    "duration": 19,
    "start_time": "2022-02-18T17:29:18.655Z"
   },
   {
    "duration": 23,
    "start_time": "2022-02-18T17:29:18.676Z"
   },
   {
    "duration": 182,
    "start_time": "2022-02-18T17:29:18.701Z"
   },
   {
    "duration": 16,
    "start_time": "2022-02-18T17:29:18.885Z"
   },
   {
    "duration": 38,
    "start_time": "2022-02-18T17:29:18.903Z"
   },
   {
    "duration": 88,
    "start_time": "2022-02-18T17:29:18.942Z"
   },
   {
    "duration": 14,
    "start_time": "2022-02-18T17:29:19.031Z"
   },
   {
    "duration": 12,
    "start_time": "2022-02-18T17:29:19.048Z"
   },
   {
    "duration": 18,
    "start_time": "2022-02-18T17:29:19.062Z"
   },
   {
    "duration": 10,
    "start_time": "2022-02-18T17:29:19.082Z"
   },
   {
    "duration": 40,
    "start_time": "2022-02-18T17:29:19.093Z"
   },
   {
    "duration": 30,
    "start_time": "2022-02-18T17:29:19.134Z"
   },
   {
    "duration": 5,
    "start_time": "2022-02-18T17:29:19.165Z"
   },
   {
    "duration": 13,
    "start_time": "2022-02-18T17:29:19.172Z"
   },
   {
    "duration": 262,
    "start_time": "2022-02-18T17:29:19.187Z"
   },
   {
    "duration": 229,
    "start_time": "2022-02-18T17:29:19.451Z"
   },
   {
    "duration": 185,
    "start_time": "2022-02-18T17:29:19.682Z"
   },
   {
    "duration": 6,
    "start_time": "2022-02-18T17:29:19.869Z"
   },
   {
    "duration": 92,
    "start_time": "2022-02-18T17:29:19.876Z"
   },
   {
    "duration": 52,
    "start_time": "2022-02-18T17:29:19.969Z"
   },
   {
    "duration": 50,
    "start_time": "2022-02-18T17:29:20.032Z"
   },
   {
    "duration": 74,
    "start_time": "2022-02-18T17:29:20.083Z"
   },
   {
    "duration": 10,
    "start_time": "2022-02-18T17:29:20.159Z"
   },
   {
    "duration": 8,
    "start_time": "2022-02-18T17:29:20.170Z"
   },
   {
    "duration": 5,
    "start_time": "2022-02-18T17:29:20.180Z"
   },
   {
    "duration": 45,
    "start_time": "2022-02-18T17:29:20.188Z"
   },
   {
    "duration": 6,
    "start_time": "2022-02-18T17:29:20.235Z"
   },
   {
    "duration": 360,
    "start_time": "2022-02-18T17:29:20.242Z"
   },
   {
    "duration": 6,
    "start_time": "2022-02-18T17:29:20.604Z"
   },
   {
    "duration": 422,
    "start_time": "2022-02-18T17:29:20.612Z"
   },
   {
    "duration": 10,
    "start_time": "2022-02-18T17:29:21.036Z"
   },
   {
    "duration": 12,
    "start_time": "2022-02-18T17:29:21.048Z"
   },
   {
    "duration": 7,
    "start_time": "2022-02-18T17:29:21.061Z"
   },
   {
    "duration": 6,
    "start_time": "2022-02-18T17:29:21.070Z"
   },
   {
    "duration": 6,
    "start_time": "2022-02-18T17:29:21.077Z"
   },
   {
    "duration": 343,
    "start_time": "2022-02-18T17:29:21.132Z"
   },
   {
    "duration": 5,
    "start_time": "2022-02-18T17:29:21.477Z"
   },
   {
    "duration": 331,
    "start_time": "2022-02-18T17:29:21.483Z"
   },
   {
    "duration": 9,
    "start_time": "2022-02-18T17:32:21.153Z"
   },
   {
    "duration": 10,
    "start_time": "2022-02-18T17:34:08.813Z"
   },
   {
    "duration": 8,
    "start_time": "2022-02-18T17:35:05.713Z"
   },
   {
    "duration": 6,
    "start_time": "2022-02-18T17:36:53.056Z"
   },
   {
    "duration": 6,
    "start_time": "2022-02-18T17:39:02.563Z"
   },
   {
    "duration": 332,
    "start_time": "2022-02-18T17:41:13.443Z"
   },
   {
    "duration": 7523,
    "start_time": "2022-02-18T17:42:58.714Z"
   },
   {
    "duration": 6,
    "start_time": "2022-02-18T17:43:08.121Z"
   },
   {
    "duration": 324,
    "start_time": "2022-02-18T17:43:18.080Z"
   },
   {
    "duration": 147,
    "start_time": "2022-02-18T17:43:45.287Z"
   },
   {
    "duration": 18,
    "start_time": "2022-02-18T17:43:45.436Z"
   },
   {
    "duration": 22,
    "start_time": "2022-02-18T17:43:45.456Z"
   },
   {
    "duration": 139,
    "start_time": "2022-02-18T17:43:45.480Z"
   },
   {
    "duration": 20,
    "start_time": "2022-02-18T17:43:45.620Z"
   },
   {
    "duration": 26,
    "start_time": "2022-02-18T17:43:45.642Z"
   },
   {
    "duration": 92,
    "start_time": "2022-02-18T17:43:45.669Z"
   },
   {
    "duration": 12,
    "start_time": "2022-02-18T17:43:45.763Z"
   },
   {
    "duration": 13,
    "start_time": "2022-02-18T17:43:45.778Z"
   },
   {
    "duration": 20,
    "start_time": "2022-02-18T17:43:45.793Z"
   },
   {
    "duration": 19,
    "start_time": "2022-02-18T17:43:45.814Z"
   },
   {
    "duration": 24,
    "start_time": "2022-02-18T17:43:45.835Z"
   },
   {
    "duration": 30,
    "start_time": "2022-02-18T17:43:45.861Z"
   },
   {
    "duration": 6,
    "start_time": "2022-02-18T17:43:45.893Z"
   },
   {
    "duration": 14,
    "start_time": "2022-02-18T17:43:45.900Z"
   },
   {
    "duration": 275,
    "start_time": "2022-02-18T17:43:45.916Z"
   },
   {
    "duration": 222,
    "start_time": "2022-02-18T17:43:46.193Z"
   },
   {
    "duration": 183,
    "start_time": "2022-02-18T17:43:46.417Z"
   },
   {
    "duration": 6,
    "start_time": "2022-02-18T17:43:46.602Z"
   },
   {
    "duration": 95,
    "start_time": "2022-02-18T17:43:46.609Z"
   },
   {
    "duration": 60,
    "start_time": "2022-02-18T17:43:46.705Z"
   },
   {
    "duration": 50,
    "start_time": "2022-02-18T17:43:46.767Z"
   },
   {
    "duration": 72,
    "start_time": "2022-02-18T17:43:46.819Z"
   },
   {
    "duration": 10,
    "start_time": "2022-02-18T17:43:46.893Z"
   },
   {
    "duration": 34,
    "start_time": "2022-02-18T17:43:46.905Z"
   },
   {
    "duration": 8,
    "start_time": "2022-02-18T17:43:46.941Z"
   },
   {
    "duration": 6,
    "start_time": "2022-02-18T17:43:46.952Z"
   },
   {
    "duration": 5,
    "start_time": "2022-02-18T17:43:46.959Z"
   },
   {
    "duration": 428,
    "start_time": "2022-02-18T17:43:46.965Z"
   },
   {
    "duration": 6,
    "start_time": "2022-02-18T17:43:47.394Z"
   },
   {
    "duration": 359,
    "start_time": "2022-02-18T17:43:47.401Z"
   },
   {
    "duration": 10,
    "start_time": "2022-02-18T17:43:47.761Z"
   },
   {
    "duration": 10,
    "start_time": "2022-02-18T17:43:47.772Z"
   },
   {
    "duration": 6,
    "start_time": "2022-02-18T17:43:47.784Z"
   },
   {
    "duration": 41,
    "start_time": "2022-02-18T17:43:47.792Z"
   },
   {
    "duration": 5,
    "start_time": "2022-02-18T17:43:47.835Z"
   },
   {
    "duration": 344,
    "start_time": "2022-02-18T17:43:47.841Z"
   },
   {
    "duration": 5,
    "start_time": "2022-02-18T17:43:48.187Z"
   },
   {
    "duration": 347,
    "start_time": "2022-02-18T17:43:48.194Z"
   },
   {
    "duration": 10,
    "start_time": "2022-02-18T17:43:48.542Z"
   },
   {
    "duration": 9,
    "start_time": "2022-02-18T17:43:48.554Z"
   },
   {
    "duration": 7,
    "start_time": "2022-02-18T17:43:48.564Z"
   },
   {
    "duration": 8,
    "start_time": "2022-02-18T17:43:48.573Z"
   },
   {
    "duration": 51,
    "start_time": "2022-02-18T17:43:48.583Z"
   },
   {
    "duration": 359,
    "start_time": "2022-02-18T17:43:48.636Z"
   },
   {
    "duration": 6,
    "start_time": "2022-02-18T17:43:48.996Z"
   },
   {
    "duration": 333,
    "start_time": "2022-02-18T17:43:49.003Z"
   },
   {
    "duration": 168,
    "start_time": "2022-02-18T17:48:22.841Z"
   },
   {
    "duration": 23,
    "start_time": "2022-02-18T17:48:23.011Z"
   },
   {
    "duration": 22,
    "start_time": "2022-02-18T17:48:23.036Z"
   },
   {
    "duration": 132,
    "start_time": "2022-02-18T17:48:23.060Z"
   },
   {
    "duration": 14,
    "start_time": "2022-02-18T17:48:23.194Z"
   },
   {
    "duration": 37,
    "start_time": "2022-02-18T17:48:23.210Z"
   },
   {
    "duration": 86,
    "start_time": "2022-02-18T17:48:23.249Z"
   },
   {
    "duration": 13,
    "start_time": "2022-02-18T17:48:23.337Z"
   },
   {
    "duration": 103,
    "start_time": "2022-02-18T17:48:23.352Z"
   },
   {
    "duration": 18,
    "start_time": "2022-02-18T17:48:23.457Z"
   },
   {
    "duration": 5,
    "start_time": "2022-02-18T17:48:23.477Z"
   },
   {
    "duration": 24,
    "start_time": "2022-02-18T17:48:23.484Z"
   },
   {
    "duration": 29,
    "start_time": "2022-02-18T17:48:23.510Z"
   },
   {
    "duration": 4,
    "start_time": "2022-02-18T17:48:23.541Z"
   },
   {
    "duration": 14,
    "start_time": "2022-02-18T17:48:23.547Z"
   },
   {
    "duration": 278,
    "start_time": "2022-02-18T17:48:23.563Z"
   },
   {
    "duration": 226,
    "start_time": "2022-02-18T17:48:23.843Z"
   },
   {
    "duration": 180,
    "start_time": "2022-02-18T17:48:24.071Z"
   },
   {
    "duration": 6,
    "start_time": "2022-02-18T17:48:24.253Z"
   },
   {
    "duration": 93,
    "start_time": "2022-02-18T17:48:24.261Z"
   },
   {
    "duration": 51,
    "start_time": "2022-02-18T17:48:24.356Z"
   },
   {
    "duration": 62,
    "start_time": "2022-02-18T17:48:24.408Z"
   },
   {
    "duration": 73,
    "start_time": "2022-02-18T17:48:24.472Z"
   },
   {
    "duration": 9,
    "start_time": "2022-02-18T17:48:24.547Z"
   },
   {
    "duration": 9,
    "start_time": "2022-02-18T17:48:24.558Z"
   },
   {
    "duration": 7,
    "start_time": "2022-02-18T17:48:24.568Z"
   },
   {
    "duration": 6,
    "start_time": "2022-02-18T17:48:24.578Z"
   },
   {
    "duration": 49,
    "start_time": "2022-02-18T17:48:24.587Z"
   },
   {
    "duration": 361,
    "start_time": "2022-02-18T17:48:24.638Z"
   },
   {
    "duration": 6,
    "start_time": "2022-02-18T17:48:25.001Z"
   },
   {
    "duration": 340,
    "start_time": "2022-02-18T17:48:25.009Z"
   },
   {
    "duration": 9,
    "start_time": "2022-02-18T17:48:25.351Z"
   },
   {
    "duration": 10,
    "start_time": "2022-02-18T17:48:25.362Z"
   },
   {
    "duration": 6,
    "start_time": "2022-02-18T17:48:25.373Z"
   },
   {
    "duration": 6,
    "start_time": "2022-02-18T17:48:25.380Z"
   },
   {
    "duration": 46,
    "start_time": "2022-02-18T17:48:25.387Z"
   },
   {
    "duration": 339,
    "start_time": "2022-02-18T17:48:25.435Z"
   },
   {
    "duration": 6,
    "start_time": "2022-02-18T17:48:25.776Z"
   },
   {
    "duration": 340,
    "start_time": "2022-02-18T17:48:25.783Z"
   },
   {
    "duration": 14,
    "start_time": "2022-02-18T17:48:26.125Z"
   },
   {
    "duration": 9,
    "start_time": "2022-02-18T17:48:26.141Z"
   },
   {
    "duration": 7,
    "start_time": "2022-02-18T17:48:26.152Z"
   },
   {
    "duration": 6,
    "start_time": "2022-02-18T17:48:26.160Z"
   },
   {
    "duration": 5,
    "start_time": "2022-02-18T17:48:26.168Z"
   },
   {
    "duration": 431,
    "start_time": "2022-02-18T17:48:26.174Z"
   },
   {
    "duration": 6,
    "start_time": "2022-02-18T17:48:26.606Z"
   },
   {
    "duration": 420,
    "start_time": "2022-02-18T17:48:26.613Z"
   },
   {
    "duration": 324,
    "start_time": "2022-02-19T11:40:51.584Z"
   },
   {
    "duration": 911,
    "start_time": "2022-02-19T11:41:12.775Z"
   },
   {
    "duration": 24,
    "start_time": "2022-02-19T11:41:13.688Z"
   },
   {
    "duration": 29,
    "start_time": "2022-02-19T11:41:13.714Z"
   },
   {
    "duration": 155,
    "start_time": "2022-02-19T11:41:13.745Z"
   },
   {
    "duration": 16,
    "start_time": "2022-02-19T11:41:13.902Z"
   },
   {
    "duration": 50,
    "start_time": "2022-02-19T11:41:13.920Z"
   },
   {
    "duration": 102,
    "start_time": "2022-02-19T11:41:13.972Z"
   },
   {
    "duration": 15,
    "start_time": "2022-02-19T11:41:14.076Z"
   },
   {
    "duration": 14,
    "start_time": "2022-02-19T11:41:14.094Z"
   },
   {
    "duration": 19,
    "start_time": "2022-02-19T11:41:14.110Z"
   },
   {
    "duration": 5,
    "start_time": "2022-02-19T11:41:14.131Z"
   },
   {
    "duration": 54,
    "start_time": "2022-02-19T11:41:14.138Z"
   },
   {
    "duration": 52,
    "start_time": "2022-02-19T11:41:14.194Z"
   },
   {
    "duration": 5,
    "start_time": "2022-02-19T11:41:14.248Z"
   },
   {
    "duration": 21,
    "start_time": "2022-02-19T11:41:14.254Z"
   },
   {
    "duration": 336,
    "start_time": "2022-02-19T11:41:14.277Z"
   },
   {
    "duration": 283,
    "start_time": "2022-02-19T11:41:14.614Z"
   },
   {
    "duration": 234,
    "start_time": "2022-02-19T11:41:14.898Z"
   },
   {
    "duration": 7,
    "start_time": "2022-02-19T11:41:15.134Z"
   },
   {
    "duration": 127,
    "start_time": "2022-02-19T11:41:15.143Z"
   },
   {
    "duration": 66,
    "start_time": "2022-02-19T11:41:15.272Z"
   },
   {
    "duration": 79,
    "start_time": "2022-02-19T11:41:15.339Z"
   },
   {
    "duration": 84,
    "start_time": "2022-02-19T11:41:15.420Z"
   },
   {
    "duration": 11,
    "start_time": "2022-02-19T11:41:15.506Z"
   },
   {
    "duration": 10,
    "start_time": "2022-02-19T11:41:15.519Z"
   },
   {
    "duration": 40,
    "start_time": "2022-02-19T11:41:15.531Z"
   },
   {
    "duration": 7,
    "start_time": "2022-02-19T11:41:15.575Z"
   },
   {
    "duration": 6,
    "start_time": "2022-02-19T11:41:15.584Z"
   },
   {
    "duration": 510,
    "start_time": "2022-02-19T11:41:15.592Z"
   },
   {
    "duration": 8,
    "start_time": "2022-02-19T11:41:16.104Z"
   },
   {
    "duration": 539,
    "start_time": "2022-02-19T11:41:16.113Z"
   },
   {
    "duration": 18,
    "start_time": "2022-02-19T11:41:16.654Z"
   },
   {
    "duration": 26,
    "start_time": "2022-02-19T11:41:16.674Z"
   },
   {
    "duration": 21,
    "start_time": "2022-02-19T11:41:16.702Z"
   },
   {
    "duration": 20,
    "start_time": "2022-02-19T11:41:16.725Z"
   },
   {
    "duration": 18,
    "start_time": "2022-02-19T11:41:16.747Z"
   },
   {
    "duration": 483,
    "start_time": "2022-02-19T11:41:16.769Z"
   },
   {
    "duration": 6,
    "start_time": "2022-02-19T11:41:17.254Z"
   },
   {
    "duration": 467,
    "start_time": "2022-02-19T11:41:17.270Z"
   },
   {
    "duration": 13,
    "start_time": "2022-02-19T11:41:17.740Z"
   },
   {
    "duration": 15,
    "start_time": "2022-02-19T11:41:17.769Z"
   },
   {
    "duration": 28,
    "start_time": "2022-02-19T11:41:17.786Z"
   },
   {
    "duration": 13,
    "start_time": "2022-02-19T11:41:17.816Z"
   },
   {
    "duration": 11,
    "start_time": "2022-02-19T11:41:17.831Z"
   },
   {
    "duration": 474,
    "start_time": "2022-02-19T11:41:17.869Z"
   },
   {
    "duration": 6,
    "start_time": "2022-02-19T11:41:18.345Z"
   },
   {
    "duration": 470,
    "start_time": "2022-02-19T11:41:18.353Z"
   },
   {
    "duration": 7,
    "start_time": "2022-02-19T11:41:18.825Z"
   },
   {
    "duration": 11,
    "start_time": "2022-02-19T11:42:58.085Z"
   },
   {
    "duration": 8,
    "start_time": "2022-02-19T11:49:04.774Z"
   },
   {
    "duration": 8,
    "start_time": "2022-02-19T12:29:34.913Z"
   },
   {
    "duration": 6,
    "start_time": "2022-02-19T12:29:44.895Z"
   },
   {
    "duration": 7,
    "start_time": "2022-02-19T12:33:41.696Z"
   },
   {
    "duration": 287,
    "start_time": "2022-02-19T12:37:53.656Z"
   },
   {
    "duration": 601,
    "start_time": "2022-02-19T12:38:17.287Z"
   },
   {
    "duration": 23,
    "start_time": "2022-02-19T12:38:17.891Z"
   },
   {
    "duration": 28,
    "start_time": "2022-02-19T12:38:17.917Z"
   },
   {
    "duration": 171,
    "start_time": "2022-02-19T12:38:17.948Z"
   },
   {
    "duration": 18,
    "start_time": "2022-02-19T12:38:18.121Z"
   },
   {
    "duration": 44,
    "start_time": "2022-02-19T12:38:18.140Z"
   },
   {
    "duration": 103,
    "start_time": "2022-02-19T12:38:18.186Z"
   },
   {
    "duration": 15,
    "start_time": "2022-02-19T12:38:18.291Z"
   },
   {
    "duration": 17,
    "start_time": "2022-02-19T12:38:18.310Z"
   },
   {
    "duration": 20,
    "start_time": "2022-02-19T12:38:18.329Z"
   },
   {
    "duration": 24,
    "start_time": "2022-02-19T12:38:18.350Z"
   },
   {
    "duration": 36,
    "start_time": "2022-02-19T12:38:18.375Z"
   },
   {
    "duration": 68,
    "start_time": "2022-02-19T12:38:18.412Z"
   },
   {
    "duration": 7,
    "start_time": "2022-02-19T12:38:18.483Z"
   },
   {
    "duration": 18,
    "start_time": "2022-02-19T12:38:18.491Z"
   },
   {
    "duration": 332,
    "start_time": "2022-02-19T12:38:18.511Z"
   },
   {
    "duration": 248,
    "start_time": "2022-02-19T12:38:18.845Z"
   },
   {
    "duration": 201,
    "start_time": "2022-02-19T12:38:19.094Z"
   },
   {
    "duration": 6,
    "start_time": "2022-02-19T12:38:19.297Z"
   },
   {
    "duration": 107,
    "start_time": "2022-02-19T12:38:19.305Z"
   },
   {
    "duration": 72,
    "start_time": "2022-02-19T12:38:19.414Z"
   },
   {
    "duration": 62,
    "start_time": "2022-02-19T12:38:19.488Z"
   },
   {
    "duration": 94,
    "start_time": "2022-02-19T12:38:19.552Z"
   },
   {
    "duration": 28,
    "start_time": "2022-02-19T12:38:19.648Z"
   },
   {
    "duration": 13,
    "start_time": "2022-02-19T12:38:19.678Z"
   },
   {
    "duration": 9,
    "start_time": "2022-02-19T12:38:19.693Z"
   },
   {
    "duration": 8,
    "start_time": "2022-02-19T12:38:19.707Z"
   },
   {
    "duration": 56,
    "start_time": "2022-02-19T12:38:19.717Z"
   },
   {
    "duration": 534,
    "start_time": "2022-02-19T12:38:19.775Z"
   },
   {
    "duration": 7,
    "start_time": "2022-02-19T12:38:20.310Z"
   },
   {
    "duration": 473,
    "start_time": "2022-02-19T12:38:20.318Z"
   },
   {
    "duration": 10,
    "start_time": "2022-02-19T12:38:20.793Z"
   },
   {
    "duration": 10,
    "start_time": "2022-02-19T12:38:20.805Z"
   },
   {
    "duration": 7,
    "start_time": "2022-02-19T12:38:20.817Z"
   },
   {
    "duration": 7,
    "start_time": "2022-02-19T12:38:20.826Z"
   },
   {
    "duration": 10,
    "start_time": "2022-02-19T12:38:20.835Z"
   },
   {
    "duration": 638,
    "start_time": "2022-02-19T12:38:20.846Z"
   },
   {
    "duration": 5,
    "start_time": "2022-02-19T12:38:21.486Z"
   },
   {
    "duration": 546,
    "start_time": "2022-02-19T12:38:21.493Z"
   },
   {
    "duration": 27,
    "start_time": "2022-02-19T12:38:22.042Z"
   },
   {
    "duration": 13,
    "start_time": "2022-02-19T12:38:22.071Z"
   },
   {
    "duration": 10,
    "start_time": "2022-02-19T12:38:22.087Z"
   },
   {
    "duration": 9,
    "start_time": "2022-02-19T12:38:22.099Z"
   },
   {
    "duration": 7,
    "start_time": "2022-02-19T12:38:22.110Z"
   },
   {
    "duration": 507,
    "start_time": "2022-02-19T12:38:22.119Z"
   },
   {
    "duration": 7,
    "start_time": "2022-02-19T12:38:22.628Z"
   },
   {
    "duration": 460,
    "start_time": "2022-02-19T12:38:22.637Z"
   },
   {
    "duration": 7,
    "start_time": "2022-02-19T12:38:23.099Z"
   },
   {
    "duration": 11,
    "start_time": "2022-02-19T12:38:23.108Z"
   },
   {
    "duration": 12,
    "start_time": "2022-02-19T12:43:32.115Z"
   },
   {
    "duration": 9,
    "start_time": "2022-02-19T12:43:58.557Z"
   },
   {
    "duration": 40,
    "start_time": "2022-02-19T12:48:29.942Z"
   },
   {
    "duration": 12,
    "start_time": "2022-02-19T12:50:31.212Z"
   },
   {
    "duration": 13,
    "start_time": "2022-02-19T12:51:10.925Z"
   },
   {
    "duration": 11,
    "start_time": "2022-02-19T12:51:18.585Z"
   },
   {
    "duration": 196,
    "start_time": "2022-02-19T12:52:23.866Z"
   },
   {
    "duration": 26,
    "start_time": "2022-02-19T12:52:24.064Z"
   },
   {
    "duration": 28,
    "start_time": "2022-02-19T12:52:24.092Z"
   },
   {
    "duration": 160,
    "start_time": "2022-02-19T12:52:24.122Z"
   },
   {
    "duration": 18,
    "start_time": "2022-02-19T12:52:24.284Z"
   },
   {
    "duration": 53,
    "start_time": "2022-02-19T12:52:24.304Z"
   },
   {
    "duration": 98,
    "start_time": "2022-02-19T12:52:24.360Z"
   },
   {
    "duration": 20,
    "start_time": "2022-02-19T12:52:24.459Z"
   },
   {
    "duration": 19,
    "start_time": "2022-02-19T12:52:24.482Z"
   },
   {
    "duration": 21,
    "start_time": "2022-02-19T12:52:24.503Z"
   },
   {
    "duration": 15,
    "start_time": "2022-02-19T12:52:24.526Z"
   },
   {
    "duration": 41,
    "start_time": "2022-02-19T12:52:24.543Z"
   },
   {
    "duration": 71,
    "start_time": "2022-02-19T12:52:24.586Z"
   },
   {
    "duration": 7,
    "start_time": "2022-02-19T12:52:24.659Z"
   },
   {
    "duration": 21,
    "start_time": "2022-02-19T12:52:24.667Z"
   },
   {
    "duration": 330,
    "start_time": "2022-02-19T12:52:24.690Z"
   },
   {
    "duration": 275,
    "start_time": "2022-02-19T12:52:25.022Z"
   },
   {
    "duration": 225,
    "start_time": "2022-02-19T12:52:25.299Z"
   },
   {
    "duration": 10,
    "start_time": "2022-02-19T12:52:25.527Z"
   },
   {
    "duration": 112,
    "start_time": "2022-02-19T12:52:25.539Z"
   },
   {
    "duration": 77,
    "start_time": "2022-02-19T12:52:25.653Z"
   },
   {
    "duration": 72,
    "start_time": "2022-02-19T12:52:25.733Z"
   },
   {
    "duration": 83,
    "start_time": "2022-02-19T12:52:25.806Z"
   },
   {
    "duration": 12,
    "start_time": "2022-02-19T12:52:25.891Z"
   },
   {
    "duration": 10,
    "start_time": "2022-02-19T12:52:25.905Z"
   },
   {
    "duration": 8,
    "start_time": "2022-02-19T12:52:25.917Z"
   },
   {
    "duration": 47,
    "start_time": "2022-02-19T12:52:25.928Z"
   },
   {
    "duration": 6,
    "start_time": "2022-02-19T12:52:25.977Z"
   },
   {
    "duration": 470,
    "start_time": "2022-02-19T12:52:25.985Z"
   },
   {
    "duration": 13,
    "start_time": "2022-02-19T12:52:26.457Z"
   },
   {
    "duration": 451,
    "start_time": "2022-02-19T12:52:26.472Z"
   },
   {
    "duration": 9,
    "start_time": "2022-02-19T12:52:26.925Z"
   },
   {
    "duration": 10,
    "start_time": "2022-02-19T12:52:26.936Z"
   },
   {
    "duration": 26,
    "start_time": "2022-02-19T12:52:26.948Z"
   },
   {
    "duration": 7,
    "start_time": "2022-02-19T12:52:26.976Z"
   },
   {
    "duration": 6,
    "start_time": "2022-02-19T12:52:26.985Z"
   },
   {
    "duration": 481,
    "start_time": "2022-02-19T12:52:26.993Z"
   },
   {
    "duration": 7,
    "start_time": "2022-02-19T12:52:27.476Z"
   },
   {
    "duration": 551,
    "start_time": "2022-02-19T12:52:27.484Z"
   },
   {
    "duration": 11,
    "start_time": "2022-02-19T12:52:28.037Z"
   },
   {
    "duration": 28,
    "start_time": "2022-02-19T12:52:28.050Z"
   },
   {
    "duration": 8,
    "start_time": "2022-02-19T12:52:28.079Z"
   },
   {
    "duration": 7,
    "start_time": "2022-02-19T12:52:28.089Z"
   },
   {
    "duration": 6,
    "start_time": "2022-02-19T12:52:28.098Z"
   },
   {
    "duration": 479,
    "start_time": "2022-02-19T12:52:28.106Z"
   },
   {
    "duration": 6,
    "start_time": "2022-02-19T12:52:28.587Z"
   },
   {
    "duration": 440,
    "start_time": "2022-02-19T12:52:28.595Z"
   },
   {
    "duration": 12,
    "start_time": "2022-02-19T12:52:29.037Z"
   },
   {
    "duration": 43,
    "start_time": "2022-02-19T12:52:29.051Z"
   },
   {
    "duration": 11,
    "start_time": "2022-02-19T12:52:29.096Z"
   },
   {
    "duration": 182,
    "start_time": "2022-02-19T13:17:32.444Z"
   },
   {
    "duration": 22,
    "start_time": "2022-02-19T13:17:32.629Z"
   },
   {
    "duration": 41,
    "start_time": "2022-02-19T13:17:32.654Z"
   },
   {
    "duration": 176,
    "start_time": "2022-02-19T13:17:32.697Z"
   },
   {
    "duration": 21,
    "start_time": "2022-02-19T13:17:32.876Z"
   },
   {
    "duration": 35,
    "start_time": "2022-02-19T13:17:32.899Z"
   },
   {
    "duration": 119,
    "start_time": "2022-02-19T13:17:32.936Z"
   },
   {
    "duration": 22,
    "start_time": "2022-02-19T13:17:33.058Z"
   },
   {
    "duration": 26,
    "start_time": "2022-02-19T13:17:33.082Z"
   },
   {
    "duration": 22,
    "start_time": "2022-02-19T13:17:33.110Z"
   },
   {
    "duration": 18,
    "start_time": "2022-02-19T13:17:33.134Z"
   },
   {
    "duration": 36,
    "start_time": "2022-02-19T13:17:33.153Z"
   },
   {
    "duration": 49,
    "start_time": "2022-02-19T13:17:33.191Z"
   },
   {
    "duration": 6,
    "start_time": "2022-02-19T13:17:33.243Z"
   },
   {
    "duration": 23,
    "start_time": "2022-02-19T13:17:33.251Z"
   },
   {
    "duration": 324,
    "start_time": "2022-02-19T13:17:33.276Z"
   },
   {
    "duration": 262,
    "start_time": "2022-02-19T13:17:33.602Z"
   },
   {
    "duration": 222,
    "start_time": "2022-02-19T13:17:33.869Z"
   },
   {
    "duration": 10,
    "start_time": "2022-02-19T13:17:34.092Z"
   },
   {
    "duration": 113,
    "start_time": "2022-02-19T13:17:34.103Z"
   },
   {
    "duration": 72,
    "start_time": "2022-02-19T13:17:34.218Z"
   },
   {
    "duration": 78,
    "start_time": "2022-02-19T13:17:34.293Z"
   },
   {
    "duration": 78,
    "start_time": "2022-02-19T13:17:34.374Z"
   },
   {
    "duration": 14,
    "start_time": "2022-02-19T13:17:34.468Z"
   },
   {
    "duration": 13,
    "start_time": "2022-02-19T13:17:34.484Z"
   },
   {
    "duration": 8,
    "start_time": "2022-02-19T13:17:34.499Z"
   },
   {
    "duration": 7,
    "start_time": "2022-02-19T13:17:34.509Z"
   },
   {
    "duration": 55,
    "start_time": "2022-02-19T13:17:34.518Z"
   },
   {
    "duration": 471,
    "start_time": "2022-02-19T13:17:34.575Z"
   },
   {
    "duration": 7,
    "start_time": "2022-02-19T13:17:35.048Z"
   },
   {
    "duration": 474,
    "start_time": "2022-02-19T13:17:35.057Z"
   },
   {
    "duration": 11,
    "start_time": "2022-02-19T13:17:35.533Z"
   },
   {
    "duration": 31,
    "start_time": "2022-02-19T13:17:35.545Z"
   },
   {
    "duration": 8,
    "start_time": "2022-02-19T13:17:35.578Z"
   },
   {
    "duration": 8,
    "start_time": "2022-02-19T13:17:35.588Z"
   },
   {
    "duration": 7,
    "start_time": "2022-02-19T13:17:35.598Z"
   },
   {
    "duration": 608,
    "start_time": "2022-02-19T13:17:35.607Z"
   },
   {
    "duration": 6,
    "start_time": "2022-02-19T13:17:36.218Z"
   },
   {
    "duration": 469,
    "start_time": "2022-02-19T13:17:36.226Z"
   },
   {
    "duration": 10,
    "start_time": "2022-02-19T13:17:36.697Z"
   },
   {
    "duration": 10,
    "start_time": "2022-02-19T13:17:36.709Z"
   },
   {
    "duration": 10,
    "start_time": "2022-02-19T13:17:36.720Z"
   },
   {
    "duration": 43,
    "start_time": "2022-02-19T13:17:36.732Z"
   },
   {
    "duration": 8,
    "start_time": "2022-02-19T13:17:36.777Z"
   },
   {
    "duration": 489,
    "start_time": "2022-02-19T13:17:36.786Z"
   },
   {
    "duration": 6,
    "start_time": "2022-02-19T13:17:37.277Z"
   },
   {
    "duration": 457,
    "start_time": "2022-02-19T13:17:37.285Z"
   },
   {
    "duration": 12,
    "start_time": "2022-02-19T13:17:37.743Z"
   },
   {
    "duration": 48,
    "start_time": "2022-02-19T13:17:37.756Z"
   },
   {
    "duration": 13,
    "start_time": "2022-02-19T13:17:37.806Z"
   },
   {
    "duration": 171,
    "start_time": "2022-02-19T13:36:53.821Z"
   },
   {
    "duration": 23,
    "start_time": "2022-02-19T13:36:53.994Z"
   },
   {
    "duration": 36,
    "start_time": "2022-02-19T13:36:54.020Z"
   },
   {
    "duration": 168,
    "start_time": "2022-02-19T13:36:54.069Z"
   },
   {
    "duration": 19,
    "start_time": "2022-02-19T13:36:54.239Z"
   },
   {
    "duration": 29,
    "start_time": "2022-02-19T13:36:54.269Z"
   },
   {
    "duration": 107,
    "start_time": "2022-02-19T13:36:54.300Z"
   },
   {
    "duration": 15,
    "start_time": "2022-02-19T13:36:54.410Z"
   },
   {
    "duration": 15,
    "start_time": "2022-02-19T13:36:54.427Z"
   },
   {
    "duration": 32,
    "start_time": "2022-02-19T13:36:54.444Z"
   },
   {
    "duration": 11,
    "start_time": "2022-02-19T13:36:54.478Z"
   },
   {
    "duration": 35,
    "start_time": "2022-02-19T13:36:54.490Z"
   },
   {
    "duration": 45,
    "start_time": "2022-02-19T13:36:54.527Z"
   },
   {
    "duration": 6,
    "start_time": "2022-02-19T13:36:54.574Z"
   },
   {
    "duration": 20,
    "start_time": "2022-02-19T13:36:54.582Z"
   },
   {
    "duration": 328,
    "start_time": "2022-02-19T13:36:54.604Z"
   },
   {
    "duration": 275,
    "start_time": "2022-02-19T13:36:54.934Z"
   },
   {
    "duration": 231,
    "start_time": "2022-02-19T13:36:55.211Z"
   },
   {
    "duration": 9,
    "start_time": "2022-02-19T13:36:55.444Z"
   },
   {
    "duration": 120,
    "start_time": "2022-02-19T13:36:55.455Z"
   },
   {
    "duration": 68,
    "start_time": "2022-02-19T13:36:55.577Z"
   },
   {
    "duration": 79,
    "start_time": "2022-02-19T13:36:55.647Z"
   },
   {
    "duration": 110,
    "start_time": "2022-02-19T13:36:55.729Z"
   },
   {
    "duration": 12,
    "start_time": "2022-02-19T13:36:55.841Z"
   },
   {
    "duration": 13,
    "start_time": "2022-02-19T13:36:55.870Z"
   },
   {
    "duration": 9,
    "start_time": "2022-02-19T13:36:55.884Z"
   },
   {
    "duration": 8,
    "start_time": "2022-02-19T13:36:55.895Z"
   },
   {
    "duration": 7,
    "start_time": "2022-02-19T13:36:55.905Z"
   },
   {
    "duration": 534,
    "start_time": "2022-02-19T13:36:55.914Z"
   },
   {
    "duration": 8,
    "start_time": "2022-02-19T13:36:56.450Z"
   },
   {
    "duration": 492,
    "start_time": "2022-02-19T13:36:56.469Z"
   },
   {
    "duration": 15,
    "start_time": "2022-02-19T13:36:56.963Z"
   },
   {
    "duration": 12,
    "start_time": "2022-02-19T13:36:56.981Z"
   },
   {
    "duration": 8,
    "start_time": "2022-02-19T13:36:56.995Z"
   },
   {
    "duration": 8,
    "start_time": "2022-02-19T13:36:57.005Z"
   },
   {
    "duration": 57,
    "start_time": "2022-02-19T13:36:57.015Z"
   },
   {
    "duration": 584,
    "start_time": "2022-02-19T13:36:57.074Z"
   },
   {
    "duration": 12,
    "start_time": "2022-02-19T13:36:57.659Z"
   },
   {
    "duration": 463,
    "start_time": "2022-02-19T13:36:57.673Z"
   },
   {
    "duration": 11,
    "start_time": "2022-02-19T13:36:58.138Z"
   },
   {
    "duration": 26,
    "start_time": "2022-02-19T13:36:58.151Z"
   },
   {
    "duration": 9,
    "start_time": "2022-02-19T13:36:58.179Z"
   },
   {
    "duration": 6,
    "start_time": "2022-02-19T13:36:58.190Z"
   },
   {
    "duration": 6,
    "start_time": "2022-02-19T13:36:58.198Z"
   },
   {
    "duration": 500,
    "start_time": "2022-02-19T13:36:58.205Z"
   },
   {
    "duration": 6,
    "start_time": "2022-02-19T13:36:58.707Z"
   },
   {
    "duration": 507,
    "start_time": "2022-02-19T13:36:58.715Z"
   },
   {
    "duration": 12,
    "start_time": "2022-02-19T13:36:59.224Z"
   },
   {
    "duration": 50,
    "start_time": "2022-02-19T13:36:59.238Z"
   },
   {
    "duration": 11,
    "start_time": "2022-02-19T13:36:59.290Z"
   },
   {
    "duration": 184,
    "start_time": "2022-02-19T13:38:17.002Z"
   },
   {
    "duration": 3,
    "start_time": "2022-02-19T13:38:21.277Z"
   },
   {
    "duration": 171,
    "start_time": "2022-02-19T13:38:21.282Z"
   },
   {
    "duration": 27,
    "start_time": "2022-02-19T13:38:21.455Z"
   },
   {
    "duration": 31,
    "start_time": "2022-02-19T13:38:21.484Z"
   },
   {
    "duration": 157,
    "start_time": "2022-02-19T13:38:21.516Z"
   },
   {
    "duration": 18,
    "start_time": "2022-02-19T13:38:21.675Z"
   },
   {
    "duration": 29,
    "start_time": "2022-02-19T13:38:21.695Z"
   },
   {
    "duration": 108,
    "start_time": "2022-02-19T13:38:21.726Z"
   },
   {
    "duration": 16,
    "start_time": "2022-02-19T13:38:21.837Z"
   },
   {
    "duration": 16,
    "start_time": "2022-02-19T13:38:21.869Z"
   },
   {
    "duration": 20,
    "start_time": "2022-02-19T13:38:21.887Z"
   },
   {
    "duration": 8,
    "start_time": "2022-02-19T13:38:21.909Z"
   },
   {
    "duration": 50,
    "start_time": "2022-02-19T13:38:21.919Z"
   },
   {
    "duration": 41,
    "start_time": "2022-02-19T13:38:21.971Z"
   },
   {
    "duration": 10,
    "start_time": "2022-02-19T13:38:22.014Z"
   },
   {
    "duration": 19,
    "start_time": "2022-02-19T13:38:22.026Z"
   },
   {
    "duration": 308,
    "start_time": "2022-02-19T13:38:22.048Z"
   },
   {
    "duration": 257,
    "start_time": "2022-02-19T13:38:22.359Z"
   },
   {
    "duration": 206,
    "start_time": "2022-02-19T13:38:22.618Z"
   },
   {
    "duration": 10,
    "start_time": "2022-02-19T13:38:22.826Z"
   },
   {
    "duration": 124,
    "start_time": "2022-02-19T13:38:22.838Z"
   },
   {
    "duration": 64,
    "start_time": "2022-02-19T13:38:22.964Z"
   },
   {
    "duration": 76,
    "start_time": "2022-02-19T13:38:23.030Z"
   },
   {
    "duration": 82,
    "start_time": "2022-02-19T13:38:23.107Z"
   },
   {
    "duration": 11,
    "start_time": "2022-02-19T13:38:23.191Z"
   },
   {
    "duration": 11,
    "start_time": "2022-02-19T13:38:23.204Z"
   },
   {
    "duration": 8,
    "start_time": "2022-02-19T13:38:23.219Z"
   },
   {
    "duration": 46,
    "start_time": "2022-02-19T13:38:23.230Z"
   },
   {
    "duration": 7,
    "start_time": "2022-02-19T13:38:23.278Z"
   },
   {
    "duration": 514,
    "start_time": "2022-02-19T13:38:23.286Z"
   },
   {
    "duration": 8,
    "start_time": "2022-02-19T13:38:23.802Z"
   },
   {
    "duration": 583,
    "start_time": "2022-02-19T13:38:23.812Z"
   },
   {
    "duration": 11,
    "start_time": "2022-02-19T13:38:24.397Z"
   },
   {
    "duration": 14,
    "start_time": "2022-02-19T13:38:24.410Z"
   },
   {
    "duration": 8,
    "start_time": "2022-02-19T13:38:24.426Z"
   },
   {
    "duration": 8,
    "start_time": "2022-02-19T13:38:24.470Z"
   },
   {
    "duration": 7,
    "start_time": "2022-02-19T13:38:24.480Z"
   },
   {
    "duration": 486,
    "start_time": "2022-02-19T13:38:24.489Z"
   },
   {
    "duration": 8,
    "start_time": "2022-02-19T13:38:24.977Z"
   },
   {
    "duration": 480,
    "start_time": "2022-02-19T13:38:24.987Z"
   },
   {
    "duration": 13,
    "start_time": "2022-02-19T13:38:25.469Z"
   },
   {
    "duration": 12,
    "start_time": "2022-02-19T13:38:25.484Z"
   },
   {
    "duration": 10,
    "start_time": "2022-02-19T13:38:25.498Z"
   },
   {
    "duration": 61,
    "start_time": "2022-02-19T13:38:25.510Z"
   },
   {
    "duration": 8,
    "start_time": "2022-02-19T13:38:25.573Z"
   },
   {
    "duration": 490,
    "start_time": "2022-02-19T13:38:25.582Z"
   },
   {
    "duration": 8,
    "start_time": "2022-02-19T13:38:26.074Z"
   },
   {
    "duration": 479,
    "start_time": "2022-02-19T13:38:26.084Z"
   },
   {
    "duration": 13,
    "start_time": "2022-02-19T13:38:26.568Z"
   },
   {
    "duration": 38,
    "start_time": "2022-02-19T13:38:26.583Z"
   },
   {
    "duration": 45,
    "start_time": "2022-02-19T13:38:26.624Z"
   },
   {
    "duration": 387,
    "start_time": "2022-02-19T13:50:45.607Z"
   },
   {
    "duration": 239,
    "start_time": "2022-02-19T13:50:57.772Z"
   },
   {
    "duration": 231,
    "start_time": "2022-02-19T13:51:15.201Z"
   },
   {
    "duration": 229,
    "start_time": "2022-02-19T13:51:29.444Z"
   },
   {
    "duration": 230,
    "start_time": "2022-02-19T13:53:13.843Z"
   },
   {
    "duration": 3,
    "start_time": "2022-02-19T13:53:22.041Z"
   },
   {
    "duration": 183,
    "start_time": "2022-02-19T13:53:22.046Z"
   },
   {
    "duration": 21,
    "start_time": "2022-02-19T13:53:22.231Z"
   },
   {
    "duration": 45,
    "start_time": "2022-02-19T13:53:22.254Z"
   },
   {
    "duration": 162,
    "start_time": "2022-02-19T13:53:22.301Z"
   },
   {
    "duration": 20,
    "start_time": "2022-02-19T13:53:22.465Z"
   },
   {
    "duration": 30,
    "start_time": "2022-02-19T13:53:22.486Z"
   },
   {
    "duration": 111,
    "start_time": "2022-02-19T13:53:22.517Z"
   },
   {
    "duration": 16,
    "start_time": "2022-02-19T13:53:22.631Z"
   },
   {
    "duration": 32,
    "start_time": "2022-02-19T13:53:22.649Z"
   },
   {
    "duration": 20,
    "start_time": "2022-02-19T13:53:22.683Z"
   },
   {
    "duration": 9,
    "start_time": "2022-02-19T13:53:22.705Z"
   },
   {
    "duration": 32,
    "start_time": "2022-02-19T13:53:22.716Z"
   },
   {
    "duration": 81,
    "start_time": "2022-02-19T13:53:22.750Z"
   },
   {
    "duration": 7,
    "start_time": "2022-02-19T13:53:22.833Z"
   },
   {
    "duration": 19,
    "start_time": "2022-02-19T13:53:22.842Z"
   },
   {
    "duration": 297,
    "start_time": "2022-02-19T13:53:22.863Z"
   },
   {
    "duration": 267,
    "start_time": "2022-02-19T13:53:23.162Z"
   },
   {
    "duration": 207,
    "start_time": "2022-02-19T13:53:23.431Z"
   },
   {
    "duration": 10,
    "start_time": "2022-02-19T13:53:23.641Z"
   },
   {
    "duration": 120,
    "start_time": "2022-02-19T13:53:23.670Z"
   },
   {
    "duration": 66,
    "start_time": "2022-02-19T13:53:23.792Z"
   },
   {
    "duration": 67,
    "start_time": "2022-02-19T13:53:23.859Z"
   },
   {
    "duration": 90,
    "start_time": "2022-02-19T13:53:23.928Z"
   },
   {
    "duration": 12,
    "start_time": "2022-02-19T13:53:24.020Z"
   },
   {
    "duration": 35,
    "start_time": "2022-02-19T13:53:24.034Z"
   },
   {
    "duration": 10,
    "start_time": "2022-02-19T13:53:24.073Z"
   },
   {
    "duration": 9,
    "start_time": "2022-02-19T13:53:24.086Z"
   },
   {
    "duration": 6,
    "start_time": "2022-02-19T13:53:24.096Z"
   },
   {
    "duration": 601,
    "start_time": "2022-02-19T13:53:24.104Z"
   },
   {
    "duration": 7,
    "start_time": "2022-02-19T13:53:24.707Z"
   },
   {
    "duration": 491,
    "start_time": "2022-02-19T13:53:24.716Z"
   },
   {
    "duration": 12,
    "start_time": "2022-02-19T13:53:25.209Z"
   },
   {
    "duration": 13,
    "start_time": "2022-02-19T13:53:25.223Z"
   },
   {
    "duration": 38,
    "start_time": "2022-02-19T13:53:25.238Z"
   },
   {
    "duration": 9,
    "start_time": "2022-02-19T13:53:25.278Z"
   },
   {
    "duration": 8,
    "start_time": "2022-02-19T13:53:25.289Z"
   },
   {
    "duration": 528,
    "start_time": "2022-02-19T13:53:25.299Z"
   },
   {
    "duration": 6,
    "start_time": "2022-02-19T13:53:25.829Z"
   },
   {
    "duration": 465,
    "start_time": "2022-02-19T13:53:25.836Z"
   },
   {
    "duration": 11,
    "start_time": "2022-02-19T13:53:26.303Z"
   },
   {
    "duration": 11,
    "start_time": "2022-02-19T13:53:26.315Z"
   },
   {
    "duration": 8,
    "start_time": "2022-02-19T13:53:26.328Z"
   },
   {
    "duration": 7,
    "start_time": "2022-02-19T13:53:26.370Z"
   },
   {
    "duration": 7,
    "start_time": "2022-02-19T13:53:26.379Z"
   },
   {
    "duration": 499,
    "start_time": "2022-02-19T13:53:26.388Z"
   },
   {
    "duration": 7,
    "start_time": "2022-02-19T13:53:26.889Z"
   },
   {
    "duration": 458,
    "start_time": "2022-02-19T13:53:26.897Z"
   },
   {
    "duration": 16,
    "start_time": "2022-02-19T13:53:27.357Z"
   },
   {
    "duration": 26,
    "start_time": "2022-02-19T13:53:27.375Z"
   },
   {
    "duration": 13,
    "start_time": "2022-02-19T13:53:27.403Z"
   },
   {
    "duration": 341,
    "start_time": "2022-02-19T13:53:52.962Z"
   },
   {
    "duration": 330,
    "start_time": "2022-02-19T13:55:51.663Z"
   },
   {
    "duration": 320,
    "start_time": "2022-02-19T13:56:55.233Z"
   },
   {
    "duration": 4873,
    "start_time": "2022-02-19T14:05:41.185Z"
   },
   {
    "duration": 211,
    "start_time": "2022-02-19T14:06:38.378Z"
   },
   {
    "duration": 4837,
    "start_time": "2022-02-19T14:07:17.316Z"
   },
   {
    "duration": 5088,
    "start_time": "2022-02-19T14:08:23.121Z"
   },
   {
    "duration": 5394,
    "start_time": "2022-02-19T14:09:08.866Z"
   },
   {
    "duration": 5004,
    "start_time": "2022-02-19T14:09:58.131Z"
   },
   {
    "duration": 373,
    "start_time": "2022-02-19T14:11:23.045Z"
   },
   {
    "duration": 362,
    "start_time": "2022-02-19T14:12:16.848Z"
   },
   {
    "duration": 213,
    "start_time": "2022-02-19T14:13:09.938Z"
   },
   {
    "duration": 217,
    "start_time": "2022-02-19T14:13:19.404Z"
   },
   {
    "duration": 285,
    "start_time": "2022-02-19T14:14:09.981Z"
   },
   {
    "duration": 286,
    "start_time": "2022-02-19T14:14:32.280Z"
   },
   {
    "duration": 278,
    "start_time": "2022-02-19T14:15:14.583Z"
   },
   {
    "duration": 3,
    "start_time": "2022-02-19T14:17:07.569Z"
   },
   {
    "duration": 191,
    "start_time": "2022-02-19T14:17:07.574Z"
   },
   {
    "duration": 23,
    "start_time": "2022-02-19T14:17:07.768Z"
   },
   {
    "duration": 29,
    "start_time": "2022-02-19T14:17:07.793Z"
   },
   {
    "duration": 174,
    "start_time": "2022-02-19T14:17:07.824Z"
   },
   {
    "duration": 17,
    "start_time": "2022-02-19T14:17:08.000Z"
   },
   {
    "duration": 34,
    "start_time": "2022-02-19T14:17:08.019Z"
   },
   {
    "duration": 114,
    "start_time": "2022-02-19T14:17:08.055Z"
   },
   {
    "duration": 15,
    "start_time": "2022-02-19T14:17:08.172Z"
   },
   {
    "duration": 15,
    "start_time": "2022-02-19T14:17:08.189Z"
   },
   {
    "duration": 20,
    "start_time": "2022-02-19T14:17:08.206Z"
   },
   {
    "duration": 11,
    "start_time": "2022-02-19T14:17:08.227Z"
   },
   {
    "duration": 56,
    "start_time": "2022-02-19T14:17:08.240Z"
   },
   {
    "duration": 47,
    "start_time": "2022-02-19T14:17:08.298Z"
   },
   {
    "duration": 6,
    "start_time": "2022-02-19T14:17:08.347Z"
   },
   {
    "duration": 19,
    "start_time": "2022-02-19T14:17:08.355Z"
   },
   {
    "duration": 348,
    "start_time": "2022-02-19T14:17:08.376Z"
   },
   {
    "duration": 277,
    "start_time": "2022-02-19T14:17:08.726Z"
   },
   {
    "duration": 230,
    "start_time": "2022-02-19T14:17:09.005Z"
   },
   {
    "duration": 11,
    "start_time": "2022-02-19T14:17:09.238Z"
   },
   {
    "duration": 129,
    "start_time": "2022-02-19T14:17:09.252Z"
   },
   {
    "duration": 71,
    "start_time": "2022-02-19T14:17:09.383Z"
   },
   {
    "duration": 61,
    "start_time": "2022-02-19T14:17:09.470Z"
   },
   {
    "duration": 100,
    "start_time": "2022-02-19T14:17:09.533Z"
   },
   {
    "duration": 11,
    "start_time": "2022-02-19T14:17:09.634Z"
   },
   {
    "duration": 29,
    "start_time": "2022-02-19T14:17:09.647Z"
   },
   {
    "duration": 7,
    "start_time": "2022-02-19T14:17:09.680Z"
   },
   {
    "duration": 7,
    "start_time": "2022-02-19T14:17:09.689Z"
   },
   {
    "duration": 6,
    "start_time": "2022-02-19T14:17:09.698Z"
   },
   {
    "duration": 521,
    "start_time": "2022-02-19T14:17:09.705Z"
   },
   {
    "duration": 7,
    "start_time": "2022-02-19T14:17:10.227Z"
   },
   {
    "duration": 472,
    "start_time": "2022-02-19T14:17:10.236Z"
   },
   {
    "duration": 11,
    "start_time": "2022-02-19T14:17:10.710Z"
   },
   {
    "duration": 11,
    "start_time": "2022-02-19T14:17:10.723Z"
   },
   {
    "duration": 35,
    "start_time": "2022-02-19T14:17:10.735Z"
   },
   {
    "duration": 7,
    "start_time": "2022-02-19T14:17:10.772Z"
   },
   {
    "duration": 14,
    "start_time": "2022-02-19T14:17:10.781Z"
   },
   {
    "duration": 461,
    "start_time": "2022-02-19T14:17:10.796Z"
   },
   {
    "duration": 13,
    "start_time": "2022-02-19T14:17:11.259Z"
   },
   {
    "duration": 457,
    "start_time": "2022-02-19T14:17:11.274Z"
   },
   {
    "duration": 12,
    "start_time": "2022-02-19T14:17:11.733Z"
   },
   {
    "duration": 27,
    "start_time": "2022-02-19T14:17:11.746Z"
   },
   {
    "duration": 9,
    "start_time": "2022-02-19T14:17:11.775Z"
   },
   {
    "duration": 8,
    "start_time": "2022-02-19T14:17:11.786Z"
   },
   {
    "duration": 6,
    "start_time": "2022-02-19T14:17:11.796Z"
   },
   {
    "duration": 499,
    "start_time": "2022-02-19T14:17:11.803Z"
   },
   {
    "duration": 7,
    "start_time": "2022-02-19T14:17:12.304Z"
   },
   {
    "duration": 553,
    "start_time": "2022-02-19T14:17:12.312Z"
   },
   {
    "duration": 13,
    "start_time": "2022-02-19T14:17:12.869Z"
   },
   {
    "duration": 31,
    "start_time": "2022-02-19T14:17:12.884Z"
   },
   {
    "duration": 12,
    "start_time": "2022-02-19T14:17:12.916Z"
   },
   {
    "duration": 282,
    "start_time": "2022-02-19T14:23:17.080Z"
   },
   {
    "duration": 242,
    "start_time": "2022-02-19T14:25:43.438Z"
   },
   {
    "duration": 12211,
    "start_time": "2022-02-19T14:31:02.485Z"
   },
   {
    "duration": 3,
    "start_time": "2022-02-19T14:31:34.788Z"
   },
   {
    "duration": 180,
    "start_time": "2022-02-19T14:31:34.793Z"
   },
   {
    "duration": 22,
    "start_time": "2022-02-19T14:31:34.975Z"
   },
   {
    "duration": 30,
    "start_time": "2022-02-19T14:31:34.999Z"
   },
   {
    "duration": 160,
    "start_time": "2022-02-19T14:31:35.031Z"
   },
   {
    "duration": 19,
    "start_time": "2022-02-19T14:31:35.192Z"
   },
   {
    "duration": 30,
    "start_time": "2022-02-19T14:31:35.213Z"
   },
   {
    "duration": 116,
    "start_time": "2022-02-19T14:31:35.245Z"
   },
   {
    "duration": 16,
    "start_time": "2022-02-19T14:31:35.370Z"
   },
   {
    "duration": 19,
    "start_time": "2022-02-19T14:31:35.388Z"
   },
   {
    "duration": 22,
    "start_time": "2022-02-19T14:31:35.409Z"
   },
   {
    "duration": 17,
    "start_time": "2022-02-19T14:31:35.433Z"
   },
   {
    "duration": 46,
    "start_time": "2022-02-19T14:31:35.452Z"
   },
   {
    "duration": 71,
    "start_time": "2022-02-19T14:31:35.500Z"
   },
   {
    "duration": 29,
    "start_time": "2022-02-19T14:31:35.573Z"
   },
   {
    "duration": 24,
    "start_time": "2022-02-19T14:31:35.603Z"
   },
   {
    "duration": 337,
    "start_time": "2022-02-19T14:31:35.629Z"
   },
   {
    "duration": 7898,
    "start_time": "2022-02-19T14:31:35.969Z"
   },
   {
    "duration": -64,
    "start_time": "2022-02-19T14:31:43.934Z"
   },
   {
    "duration": -63,
    "start_time": "2022-02-19T14:31:43.935Z"
   },
   {
    "duration": -62,
    "start_time": "2022-02-19T14:31:43.936Z"
   },
   {
    "duration": -63,
    "start_time": "2022-02-19T14:31:43.938Z"
   },
   {
    "duration": -62,
    "start_time": "2022-02-19T14:31:43.939Z"
   },
   {
    "duration": -62,
    "start_time": "2022-02-19T14:31:43.940Z"
   },
   {
    "duration": -65,
    "start_time": "2022-02-19T14:31:43.945Z"
   },
   {
    "duration": -65,
    "start_time": "2022-02-19T14:31:43.946Z"
   },
   {
    "duration": -65,
    "start_time": "2022-02-19T14:31:43.947Z"
   },
   {
    "duration": -65,
    "start_time": "2022-02-19T14:31:43.948Z"
   },
   {
    "duration": -65,
    "start_time": "2022-02-19T14:31:43.949Z"
   },
   {
    "duration": -65,
    "start_time": "2022-02-19T14:31:43.950Z"
   },
   {
    "duration": -64,
    "start_time": "2022-02-19T14:31:43.951Z"
   },
   {
    "duration": -64,
    "start_time": "2022-02-19T14:31:43.952Z"
   },
   {
    "duration": -63,
    "start_time": "2022-02-19T14:31:43.953Z"
   },
   {
    "duration": -62,
    "start_time": "2022-02-19T14:31:43.953Z"
   },
   {
    "duration": -62,
    "start_time": "2022-02-19T14:31:43.954Z"
   },
   {
    "duration": -62,
    "start_time": "2022-02-19T14:31:43.955Z"
   },
   {
    "duration": -62,
    "start_time": "2022-02-19T14:31:43.956Z"
   },
   {
    "duration": -61,
    "start_time": "2022-02-19T14:31:43.957Z"
   },
   {
    "duration": -61,
    "start_time": "2022-02-19T14:31:43.958Z"
   },
   {
    "duration": -61,
    "start_time": "2022-02-19T14:31:43.959Z"
   },
   {
    "duration": -61,
    "start_time": "2022-02-19T14:31:43.960Z"
   },
   {
    "duration": -60,
    "start_time": "2022-02-19T14:31:43.960Z"
   },
   {
    "duration": -59,
    "start_time": "2022-02-19T14:31:43.961Z"
   },
   {
    "duration": -89,
    "start_time": "2022-02-19T14:31:43.992Z"
   },
   {
    "duration": -89,
    "start_time": "2022-02-19T14:31:43.993Z"
   },
   {
    "duration": -88,
    "start_time": "2022-02-19T14:31:43.994Z"
   },
   {
    "duration": -90,
    "start_time": "2022-02-19T14:31:43.997Z"
   },
   {
    "duration": -90,
    "start_time": "2022-02-19T14:31:43.998Z"
   },
   {
    "duration": -89,
    "start_time": "2022-02-19T14:31:43.999Z"
   },
   {
    "duration": -92,
    "start_time": "2022-02-19T14:31:44.003Z"
   },
   {
    "duration": -35,
    "start_time": "2022-02-19T14:31:44.004Z"
   },
   {
    "duration": 526,
    "start_time": "2022-02-19T14:34:24.803Z"
   },
   {
    "duration": 110,
    "start_time": "2022-02-19T14:36:14.153Z"
   },
   {
    "duration": 123,
    "start_time": "2022-02-19T14:37:08.430Z"
   },
   {
    "duration": 7985,
    "start_time": "2022-02-19T14:37:33.390Z"
   },
   {
    "duration": 456,
    "start_time": "2022-02-19T14:38:21.210Z"
   },
   {
    "duration": 3,
    "start_time": "2022-02-19T14:38:31.616Z"
   },
   {
    "duration": 185,
    "start_time": "2022-02-19T14:38:31.621Z"
   },
   {
    "duration": 21,
    "start_time": "2022-02-19T14:38:31.809Z"
   },
   {
    "duration": 43,
    "start_time": "2022-02-19T14:38:31.832Z"
   },
   {
    "duration": 158,
    "start_time": "2022-02-19T14:38:31.877Z"
   },
   {
    "duration": 19,
    "start_time": "2022-02-19T14:38:32.037Z"
   },
   {
    "duration": 44,
    "start_time": "2022-02-19T14:38:32.058Z"
   },
   {
    "duration": 111,
    "start_time": "2022-02-19T14:38:32.105Z"
   },
   {
    "duration": 15,
    "start_time": "2022-02-19T14:38:32.220Z"
   },
   {
    "duration": 37,
    "start_time": "2022-02-19T14:38:32.239Z"
   },
   {
    "duration": 21,
    "start_time": "2022-02-19T14:38:32.278Z"
   },
   {
    "duration": 8,
    "start_time": "2022-02-19T14:38:32.301Z"
   },
   {
    "duration": 39,
    "start_time": "2022-02-19T14:38:32.311Z"
   },
   {
    "duration": 66,
    "start_time": "2022-02-19T14:38:32.352Z"
   },
   {
    "duration": 7,
    "start_time": "2022-02-19T14:38:32.420Z"
   },
   {
    "duration": 25,
    "start_time": "2022-02-19T14:38:32.428Z"
   },
   {
    "duration": 355,
    "start_time": "2022-02-19T14:38:32.455Z"
   },
   {
    "duration": 479,
    "start_time": "2022-02-19T14:38:32.813Z"
   },
   {
    "duration": -62,
    "start_time": "2022-02-19T14:38:33.357Z"
   },
   {
    "duration": -62,
    "start_time": "2022-02-19T14:38:33.359Z"
   },
   {
    "duration": -63,
    "start_time": "2022-02-19T14:38:33.361Z"
   },
   {
    "duration": -63,
    "start_time": "2022-02-19T14:38:33.362Z"
   },
   {
    "duration": -63,
    "start_time": "2022-02-19T14:38:33.363Z"
   },
   {
    "duration": -64,
    "start_time": "2022-02-19T14:38:33.365Z"
   },
   {
    "duration": -64,
    "start_time": "2022-02-19T14:38:33.366Z"
   },
   {
    "duration": -64,
    "start_time": "2022-02-19T14:38:33.368Z"
   },
   {
    "duration": -64,
    "start_time": "2022-02-19T14:38:33.369Z"
   },
   {
    "duration": -64,
    "start_time": "2022-02-19T14:38:33.370Z"
   },
   {
    "duration": -65,
    "start_time": "2022-02-19T14:38:33.372Z"
   },
   {
    "duration": -65,
    "start_time": "2022-02-19T14:38:33.373Z"
   },
   {
    "duration": -65,
    "start_time": "2022-02-19T14:38:33.374Z"
   },
   {
    "duration": -70,
    "start_time": "2022-02-19T14:38:33.380Z"
   },
   {
    "duration": -70,
    "start_time": "2022-02-19T14:38:33.381Z"
   },
   {
    "duration": -70,
    "start_time": "2022-02-19T14:38:33.383Z"
   },
   {
    "duration": -70,
    "start_time": "2022-02-19T14:38:33.384Z"
   },
   {
    "duration": -69,
    "start_time": "2022-02-19T14:38:33.385Z"
   },
   {
    "duration": -80,
    "start_time": "2022-02-19T14:38:33.397Z"
   },
   {
    "duration": -80,
    "start_time": "2022-02-19T14:38:33.398Z"
   },
   {
    "duration": -80,
    "start_time": "2022-02-19T14:38:33.399Z"
   },
   {
    "duration": -82,
    "start_time": "2022-02-19T14:38:33.401Z"
   },
   {
    "duration": -82,
    "start_time": "2022-02-19T14:38:33.402Z"
   },
   {
    "duration": -82,
    "start_time": "2022-02-19T14:38:33.403Z"
   },
   {
    "duration": -82,
    "start_time": "2022-02-19T14:38:33.404Z"
   },
   {
    "duration": -83,
    "start_time": "2022-02-19T14:38:33.406Z"
   },
   {
    "duration": -84,
    "start_time": "2022-02-19T14:38:33.407Z"
   },
   {
    "duration": -85,
    "start_time": "2022-02-19T14:38:33.409Z"
   },
   {
    "duration": -85,
    "start_time": "2022-02-19T14:38:33.410Z"
   },
   {
    "duration": -85,
    "start_time": "2022-02-19T14:38:33.411Z"
   },
   {
    "duration": -88,
    "start_time": "2022-02-19T14:38:33.415Z"
   },
   {
    "duration": -89,
    "start_time": "2022-02-19T14:38:33.417Z"
   },
   {
    "duration": -89,
    "start_time": "2022-02-19T14:38:33.418Z"
   },
   {
    "duration": 422,
    "start_time": "2022-02-19T14:39:35.714Z"
   },
   {
    "duration": 449,
    "start_time": "2022-02-19T14:40:01.495Z"
   },
   {
    "duration": 516,
    "start_time": "2022-02-19T14:41:44.720Z"
   },
   {
    "duration": 146,
    "start_time": "2022-02-19T14:42:01.014Z"
   },
   {
    "duration": 124,
    "start_time": "2022-02-19T14:42:21.072Z"
   },
   {
    "duration": 118,
    "start_time": "2022-02-19T14:42:55.455Z"
   },
   {
    "duration": 59,
    "start_time": "2022-02-19T14:43:24.912Z"
   },
   {
    "duration": 6702,
    "start_time": "2022-02-19T14:45:03.585Z"
   },
   {
    "duration": 7150,
    "start_time": "2022-02-19T14:45:45.915Z"
   },
   {
    "duration": 3,
    "start_time": "2022-02-19T14:46:08.035Z"
   },
   {
    "duration": 192,
    "start_time": "2022-02-19T14:46:08.040Z"
   },
   {
    "duration": 22,
    "start_time": "2022-02-19T14:46:08.235Z"
   },
   {
    "duration": 41,
    "start_time": "2022-02-19T14:46:08.259Z"
   },
   {
    "duration": 153,
    "start_time": "2022-02-19T14:46:08.302Z"
   },
   {
    "duration": 23,
    "start_time": "2022-02-19T14:46:08.457Z"
   },
   {
    "duration": 40,
    "start_time": "2022-02-19T14:46:08.482Z"
   },
   {
    "duration": 108,
    "start_time": "2022-02-19T14:46:08.524Z"
   },
   {
    "duration": 16,
    "start_time": "2022-02-19T14:46:08.636Z"
   },
   {
    "duration": 33,
    "start_time": "2022-02-19T14:46:08.654Z"
   },
   {
    "duration": 19,
    "start_time": "2022-02-19T14:46:08.690Z"
   },
   {
    "duration": 6,
    "start_time": "2022-02-19T14:46:08.711Z"
   },
   {
    "duration": 37,
    "start_time": "2022-02-19T14:46:08.719Z"
   },
   {
    "duration": 40,
    "start_time": "2022-02-19T14:46:08.770Z"
   },
   {
    "duration": 6,
    "start_time": "2022-02-19T14:46:08.812Z"
   },
   {
    "duration": 18,
    "start_time": "2022-02-19T14:46:08.819Z"
   },
   {
    "duration": 325,
    "start_time": "2022-02-19T14:46:08.839Z"
   },
   {
    "duration": 106,
    "start_time": "2022-02-19T14:46:09.166Z"
   },
   {
    "duration": 231,
    "start_time": "2022-02-19T14:46:09.275Z"
   },
   {
    "duration": 12,
    "start_time": "2022-02-19T14:46:09.508Z"
   },
   {
    "duration": 129,
    "start_time": "2022-02-19T14:46:09.522Z"
   },
   {
    "duration": 72,
    "start_time": "2022-02-19T14:46:09.653Z"
   },
   {
    "duration": 269,
    "start_time": "2022-02-19T14:46:09.727Z"
   },
   {
    "duration": -101,
    "start_time": "2022-02-19T14:46:10.101Z"
   },
   {
    "duration": -102,
    "start_time": "2022-02-19T14:46:10.103Z"
   },
   {
    "duration": -103,
    "start_time": "2022-02-19T14:46:10.105Z"
   },
   {
    "duration": -103,
    "start_time": "2022-02-19T14:46:10.106Z"
   },
   {
    "duration": -109,
    "start_time": "2022-02-19T14:46:10.114Z"
   },
   {
    "duration": -110,
    "start_time": "2022-02-19T14:46:10.116Z"
   },
   {
    "duration": -110,
    "start_time": "2022-02-19T14:46:10.117Z"
   },
   {
    "duration": -111,
    "start_time": "2022-02-19T14:46:10.119Z"
   },
   {
    "duration": -111,
    "start_time": "2022-02-19T14:46:10.120Z"
   },
   {
    "duration": -111,
    "start_time": "2022-02-19T14:46:10.121Z"
   },
   {
    "duration": -112,
    "start_time": "2022-02-19T14:46:10.123Z"
   },
   {
    "duration": -111,
    "start_time": "2022-02-19T14:46:10.124Z"
   },
   {
    "duration": -111,
    "start_time": "2022-02-19T14:46:10.125Z"
   },
   {
    "duration": -111,
    "start_time": "2022-02-19T14:46:10.126Z"
   },
   {
    "duration": -111,
    "start_time": "2022-02-19T14:46:10.127Z"
   },
   {
    "duration": -111,
    "start_time": "2022-02-19T14:46:10.128Z"
   },
   {
    "duration": -112,
    "start_time": "2022-02-19T14:46:10.130Z"
   },
   {
    "duration": -112,
    "start_time": "2022-02-19T14:46:10.131Z"
   },
   {
    "duration": -112,
    "start_time": "2022-02-19T14:46:10.132Z"
   },
   {
    "duration": -112,
    "start_time": "2022-02-19T14:46:10.133Z"
   },
   {
    "duration": -111,
    "start_time": "2022-02-19T14:46:10.134Z"
   },
   {
    "duration": -111,
    "start_time": "2022-02-19T14:46:10.135Z"
   },
   {
    "duration": -111,
    "start_time": "2022-02-19T14:46:10.136Z"
   },
   {
    "duration": -111,
    "start_time": "2022-02-19T14:46:10.137Z"
   },
   {
    "duration": -111,
    "start_time": "2022-02-19T14:46:10.138Z"
   },
   {
    "duration": -111,
    "start_time": "2022-02-19T14:46:10.139Z"
   },
   {
    "duration": -111,
    "start_time": "2022-02-19T14:46:10.140Z"
   },
   {
    "duration": -111,
    "start_time": "2022-02-19T14:46:10.141Z"
   },
   {
    "duration": 4,
    "start_time": "2022-02-19T14:47:13.867Z"
   },
   {
    "duration": 203,
    "start_time": "2022-02-19T14:47:13.873Z"
   },
   {
    "duration": 25,
    "start_time": "2022-02-19T14:47:14.079Z"
   },
   {
    "duration": 30,
    "start_time": "2022-02-19T14:47:14.106Z"
   },
   {
    "duration": 199,
    "start_time": "2022-02-19T14:47:14.138Z"
   },
   {
    "duration": 19,
    "start_time": "2022-02-19T14:47:14.339Z"
   },
   {
    "duration": 45,
    "start_time": "2022-02-19T14:47:14.359Z"
   },
   {
    "duration": 111,
    "start_time": "2022-02-19T14:47:14.406Z"
   },
   {
    "duration": 16,
    "start_time": "2022-02-19T14:47:14.520Z"
   },
   {
    "duration": 18,
    "start_time": "2022-02-19T14:47:14.538Z"
   },
   {
    "duration": 22,
    "start_time": "2022-02-19T14:47:14.570Z"
   },
   {
    "duration": 10,
    "start_time": "2022-02-19T14:47:14.594Z"
   },
   {
    "duration": 30,
    "start_time": "2022-02-19T14:47:14.606Z"
   },
   {
    "duration": 42,
    "start_time": "2022-02-19T14:47:14.638Z"
   },
   {
    "duration": 9,
    "start_time": "2022-02-19T14:47:14.682Z"
   },
   {
    "duration": 18,
    "start_time": "2022-02-19T14:47:14.693Z"
   },
   {
    "duration": 375,
    "start_time": "2022-02-19T14:47:14.713Z"
   },
   {
    "duration": 340,
    "start_time": "2022-02-19T14:47:15.091Z"
   },
   {
    "duration": 219,
    "start_time": "2022-02-19T14:47:15.434Z"
   },
   {
    "duration": 23,
    "start_time": "2022-02-19T14:47:15.655Z"
   },
   {
    "duration": 121,
    "start_time": "2022-02-19T14:47:15.680Z"
   },
   {
    "duration": 82,
    "start_time": "2022-02-19T14:47:15.802Z"
   },
   {
    "duration": 270,
    "start_time": "2022-02-19T14:47:15.887Z"
   },
   {
    "duration": -71,
    "start_time": "2022-02-19T14:47:16.231Z"
   },
   {
    "duration": -72,
    "start_time": "2022-02-19T14:47:16.233Z"
   },
   {
    "duration": -74,
    "start_time": "2022-02-19T14:47:16.237Z"
   },
   {
    "duration": -74,
    "start_time": "2022-02-19T14:47:16.238Z"
   },
   {
    "duration": -74,
    "start_time": "2022-02-19T14:47:16.239Z"
   },
   {
    "duration": -74,
    "start_time": "2022-02-19T14:47:16.240Z"
   },
   {
    "duration": -74,
    "start_time": "2022-02-19T14:47:16.241Z"
   },
   {
    "duration": -73,
    "start_time": "2022-02-19T14:47:16.241Z"
   },
   {
    "duration": -71,
    "start_time": "2022-02-19T14:47:16.242Z"
   },
   {
    "duration": -70,
    "start_time": "2022-02-19T14:47:16.243Z"
   },
   {
    "duration": -70,
    "start_time": "2022-02-19T14:47:16.244Z"
   },
   {
    "duration": -70,
    "start_time": "2022-02-19T14:47:16.245Z"
   },
   {
    "duration": -70,
    "start_time": "2022-02-19T14:47:16.246Z"
   },
   {
    "duration": -70,
    "start_time": "2022-02-19T14:47:16.247Z"
   },
   {
    "duration": -69,
    "start_time": "2022-02-19T14:47:16.248Z"
   },
   {
    "duration": -69,
    "start_time": "2022-02-19T14:47:16.249Z"
   },
   {
    "duration": -69,
    "start_time": "2022-02-19T14:47:16.250Z"
   },
   {
    "duration": -68,
    "start_time": "2022-02-19T14:47:16.250Z"
   },
   {
    "duration": -67,
    "start_time": "2022-02-19T14:47:16.251Z"
   },
   {
    "duration": -66,
    "start_time": "2022-02-19T14:47:16.252Z"
   },
   {
    "duration": -65,
    "start_time": "2022-02-19T14:47:16.253Z"
   },
   {
    "duration": -65,
    "start_time": "2022-02-19T14:47:16.254Z"
   },
   {
    "duration": -63,
    "start_time": "2022-02-19T14:47:16.254Z"
   },
   {
    "duration": -63,
    "start_time": "2022-02-19T14:47:16.255Z"
   },
   {
    "duration": -62,
    "start_time": "2022-02-19T14:47:16.256Z"
   },
   {
    "duration": -62,
    "start_time": "2022-02-19T14:47:16.257Z"
   },
   {
    "duration": -61,
    "start_time": "2022-02-19T14:47:16.257Z"
   },
   {
    "duration": -61,
    "start_time": "2022-02-19T14:47:16.258Z"
   },
   {
    "duration": 202,
    "start_time": "2022-02-19T14:54:25.466Z"
   },
   {
    "duration": 264,
    "start_time": "2022-02-19T15:02:21.171Z"
   },
   {
    "duration": 4,
    "start_time": "2022-02-19T15:03:20.904Z"
   },
   {
    "duration": 177,
    "start_time": "2022-02-19T15:03:20.909Z"
   },
   {
    "duration": 22,
    "start_time": "2022-02-19T15:03:21.089Z"
   },
   {
    "duration": 28,
    "start_time": "2022-02-19T15:03:21.113Z"
   },
   {
    "duration": 163,
    "start_time": "2022-02-19T15:03:21.143Z"
   },
   {
    "duration": 17,
    "start_time": "2022-02-19T15:03:21.308Z"
   },
   {
    "duration": 43,
    "start_time": "2022-02-19T15:03:21.327Z"
   },
   {
    "duration": 101,
    "start_time": "2022-02-19T15:03:21.373Z"
   },
   {
    "duration": 15,
    "start_time": "2022-02-19T15:03:21.476Z"
   },
   {
    "duration": 15,
    "start_time": "2022-02-19T15:03:21.493Z"
   },
   {
    "duration": 21,
    "start_time": "2022-02-19T15:03:21.510Z"
   },
   {
    "duration": 9,
    "start_time": "2022-02-19T15:03:21.533Z"
   },
   {
    "duration": 52,
    "start_time": "2022-02-19T15:03:21.543Z"
   },
   {
    "duration": 60,
    "start_time": "2022-02-19T15:03:21.596Z"
   },
   {
    "duration": 7,
    "start_time": "2022-02-19T15:03:21.658Z"
   },
   {
    "duration": 28,
    "start_time": "2022-02-19T15:03:21.667Z"
   },
   {
    "duration": 336,
    "start_time": "2022-02-19T15:03:21.697Z"
   },
   {
    "duration": 305,
    "start_time": "2022-02-19T15:03:22.035Z"
   },
   {
    "duration": 237,
    "start_time": "2022-02-19T15:03:22.342Z"
   },
   {
    "duration": 10,
    "start_time": "2022-02-19T15:03:22.580Z"
   },
   {
    "duration": 109,
    "start_time": "2022-02-19T15:03:22.592Z"
   },
   {
    "duration": 74,
    "start_time": "2022-02-19T15:03:22.703Z"
   },
   {
    "duration": 263,
    "start_time": "2022-02-19T15:03:22.781Z"
   },
   {
    "duration": -58,
    "start_time": "2022-02-19T15:03:23.105Z"
   },
   {
    "duration": -58,
    "start_time": "2022-02-19T15:03:23.106Z"
   },
   {
    "duration": -59,
    "start_time": "2022-02-19T15:03:23.108Z"
   },
   {
    "duration": -59,
    "start_time": "2022-02-19T15:03:23.109Z"
   },
   {
    "duration": -60,
    "start_time": "2022-02-19T15:03:23.111Z"
   },
   {
    "duration": -60,
    "start_time": "2022-02-19T15:03:23.112Z"
   },
   {
    "duration": -61,
    "start_time": "2022-02-19T15:03:23.114Z"
   },
   {
    "duration": -61,
    "start_time": "2022-02-19T15:03:23.115Z"
   },
   {
    "duration": -62,
    "start_time": "2022-02-19T15:03:23.117Z"
   },
   {
    "duration": -62,
    "start_time": "2022-02-19T15:03:23.118Z"
   },
   {
    "duration": -62,
    "start_time": "2022-02-19T15:03:23.119Z"
   },
   {
    "duration": -63,
    "start_time": "2022-02-19T15:03:23.121Z"
   },
   {
    "duration": -63,
    "start_time": "2022-02-19T15:03:23.122Z"
   },
   {
    "duration": -63,
    "start_time": "2022-02-19T15:03:23.123Z"
   },
   {
    "duration": -63,
    "start_time": "2022-02-19T15:03:23.124Z"
   },
   {
    "duration": -63,
    "start_time": "2022-02-19T15:03:23.125Z"
   },
   {
    "duration": -64,
    "start_time": "2022-02-19T15:03:23.127Z"
   },
   {
    "duration": -64,
    "start_time": "2022-02-19T15:03:23.128Z"
   },
   {
    "duration": -64,
    "start_time": "2022-02-19T15:03:23.129Z"
   },
   {
    "duration": -64,
    "start_time": "2022-02-19T15:03:23.130Z"
   },
   {
    "duration": -64,
    "start_time": "2022-02-19T15:03:23.131Z"
   },
   {
    "duration": -72,
    "start_time": "2022-02-19T15:03:23.141Z"
   },
   {
    "duration": -75,
    "start_time": "2022-02-19T15:03:23.145Z"
   },
   {
    "duration": -77,
    "start_time": "2022-02-19T15:03:23.148Z"
   },
   {
    "duration": -78,
    "start_time": "2022-02-19T15:03:23.150Z"
   },
   {
    "duration": -79,
    "start_time": "2022-02-19T15:03:23.152Z"
   },
   {
    "duration": -80,
    "start_time": "2022-02-19T15:03:23.154Z"
   },
   {
    "duration": -79,
    "start_time": "2022-02-19T15:03:23.155Z"
   },
   {
    "duration": 3,
    "start_time": "2022-02-19T15:13:47.416Z"
   },
   {
    "duration": 189,
    "start_time": "2022-02-19T15:13:47.421Z"
   },
   {
    "duration": 23,
    "start_time": "2022-02-19T15:13:47.613Z"
   },
   {
    "duration": 49,
    "start_time": "2022-02-19T15:13:47.638Z"
   },
   {
    "duration": 173,
    "start_time": "2022-02-19T15:13:47.689Z"
   },
   {
    "duration": 24,
    "start_time": "2022-02-19T15:13:47.869Z"
   },
   {
    "duration": 46,
    "start_time": "2022-02-19T15:13:47.896Z"
   },
   {
    "duration": 136,
    "start_time": "2022-02-19T15:13:47.944Z"
   },
   {
    "duration": 17,
    "start_time": "2022-02-19T15:13:48.083Z"
   },
   {
    "duration": 23,
    "start_time": "2022-02-19T15:13:48.104Z"
   },
   {
    "duration": 21,
    "start_time": "2022-02-19T15:13:48.130Z"
   },
   {
    "duration": 12,
    "start_time": "2022-02-19T15:13:48.170Z"
   },
   {
    "duration": 36,
    "start_time": "2022-02-19T15:13:48.184Z"
   },
   {
    "duration": 73,
    "start_time": "2022-02-19T15:13:48.222Z"
   },
   {
    "duration": 9,
    "start_time": "2022-02-19T15:13:48.297Z"
   },
   {
    "duration": 39,
    "start_time": "2022-02-19T15:13:48.308Z"
   },
   {
    "duration": 379,
    "start_time": "2022-02-19T15:13:48.349Z"
   },
   {
    "duration": 404,
    "start_time": "2022-02-19T15:13:48.731Z"
   },
   {
    "duration": 264,
    "start_time": "2022-02-19T15:13:49.138Z"
   },
   {
    "duration": 11,
    "start_time": "2022-02-19T15:13:49.404Z"
   },
   {
    "duration": 140,
    "start_time": "2022-02-19T15:13:49.418Z"
   },
   {
    "duration": 76,
    "start_time": "2022-02-19T15:13:49.569Z"
   },
   {
    "duration": 292,
    "start_time": "2022-02-19T15:13:49.647Z"
   },
   {
    "duration": -53,
    "start_time": "2022-02-19T15:13:49.994Z"
   },
   {
    "duration": -53,
    "start_time": "2022-02-19T15:13:49.995Z"
   },
   {
    "duration": -52,
    "start_time": "2022-02-19T15:13:49.996Z"
   },
   {
    "duration": -51,
    "start_time": "2022-02-19T15:13:49.996Z"
   },
   {
    "duration": -50,
    "start_time": "2022-02-19T15:13:49.997Z"
   },
   {
    "duration": -50,
    "start_time": "2022-02-19T15:13:49.998Z"
   },
   {
    "duration": -50,
    "start_time": "2022-02-19T15:13:49.999Z"
   },
   {
    "duration": -50,
    "start_time": "2022-02-19T15:13:50.000Z"
   },
   {
    "duration": -49,
    "start_time": "2022-02-19T15:13:50.001Z"
   },
   {
    "duration": -49,
    "start_time": "2022-02-19T15:13:50.002Z"
   },
   {
    "duration": -55,
    "start_time": "2022-02-19T15:13:50.009Z"
   },
   {
    "duration": -56,
    "start_time": "2022-02-19T15:13:50.011Z"
   },
   {
    "duration": -56,
    "start_time": "2022-02-19T15:13:50.012Z"
   },
   {
    "duration": -56,
    "start_time": "2022-02-19T15:13:50.013Z"
   },
   {
    "duration": -56,
    "start_time": "2022-02-19T15:13:50.014Z"
   },
   {
    "duration": -55,
    "start_time": "2022-02-19T15:13:50.015Z"
   },
   {
    "duration": -55,
    "start_time": "2022-02-19T15:13:50.016Z"
   },
   {
    "duration": -56,
    "start_time": "2022-02-19T15:13:50.018Z"
   },
   {
    "duration": -56,
    "start_time": "2022-02-19T15:13:50.019Z"
   },
   {
    "duration": -62,
    "start_time": "2022-02-19T15:13:50.026Z"
   },
   {
    "duration": -62,
    "start_time": "2022-02-19T15:13:50.028Z"
   },
   {
    "duration": -62,
    "start_time": "2022-02-19T15:13:50.029Z"
   },
   {
    "duration": -62,
    "start_time": "2022-02-19T15:13:50.030Z"
   },
   {
    "duration": -61,
    "start_time": "2022-02-19T15:13:50.030Z"
   },
   {
    "duration": -61,
    "start_time": "2022-02-19T15:13:50.031Z"
   },
   {
    "duration": -61,
    "start_time": "2022-02-19T15:13:50.032Z"
   },
   {
    "duration": -61,
    "start_time": "2022-02-19T15:13:50.033Z"
   },
   {
    "duration": -60,
    "start_time": "2022-02-19T15:13:50.034Z"
   },
   {
    "duration": 66,
    "start_time": "2022-02-19T15:15:31.224Z"
   },
   {
    "duration": 50,
    "start_time": "2022-02-19T15:20:06.930Z"
   },
   {
    "duration": 3,
    "start_time": "2022-02-19T15:20:43.332Z"
   },
   {
    "duration": 197,
    "start_time": "2022-02-19T15:20:43.337Z"
   },
   {
    "duration": 32,
    "start_time": "2022-02-19T15:20:43.537Z"
   },
   {
    "duration": 30,
    "start_time": "2022-02-19T15:20:43.572Z"
   },
   {
    "duration": 165,
    "start_time": "2022-02-19T15:20:43.604Z"
   },
   {
    "duration": 19,
    "start_time": "2022-02-19T15:20:43.771Z"
   },
   {
    "duration": 38,
    "start_time": "2022-02-19T15:20:43.792Z"
   },
   {
    "duration": 111,
    "start_time": "2022-02-19T15:20:43.832Z"
   },
   {
    "duration": 25,
    "start_time": "2022-02-19T15:20:43.946Z"
   },
   {
    "duration": 16,
    "start_time": "2022-02-19T15:20:43.974Z"
   },
   {
    "duration": 47,
    "start_time": "2022-02-19T15:20:43.992Z"
   },
   {
    "duration": 19,
    "start_time": "2022-02-19T15:20:44.041Z"
   },
   {
    "duration": 45,
    "start_time": "2022-02-19T15:20:44.063Z"
   },
   {
    "duration": 51,
    "start_time": "2022-02-19T15:20:44.110Z"
   },
   {
    "duration": 12,
    "start_time": "2022-02-19T15:20:44.163Z"
   },
   {
    "duration": 58,
    "start_time": "2022-02-19T15:20:44.177Z"
   },
   {
    "duration": 371,
    "start_time": "2022-02-19T15:20:44.237Z"
   },
   {
    "duration": 304,
    "start_time": "2022-02-19T15:20:44.610Z"
   },
   {
    "duration": 253,
    "start_time": "2022-02-19T15:20:44.916Z"
   },
   {
    "duration": 10,
    "start_time": "2022-02-19T15:20:45.171Z"
   },
   {
    "duration": 111,
    "start_time": "2022-02-19T15:20:45.182Z"
   },
   {
    "duration": 75,
    "start_time": "2022-02-19T15:20:45.294Z"
   },
   {
    "duration": 66,
    "start_time": "2022-02-19T15:20:45.371Z"
   },
   {
    "duration": 67,
    "start_time": "2022-02-19T15:20:45.439Z"
   },
   {
    "duration": 11,
    "start_time": "2022-02-19T15:20:45.508Z"
   },
   {
    "duration": 14,
    "start_time": "2022-02-19T15:20:45.520Z"
   },
   {
    "duration": 36,
    "start_time": "2022-02-19T15:20:45.538Z"
   },
   {
    "duration": 8,
    "start_time": "2022-02-19T15:20:45.576Z"
   },
   {
    "duration": 7,
    "start_time": "2022-02-19T15:20:45.586Z"
   },
   {
    "duration": 533,
    "start_time": "2022-02-19T15:20:45.595Z"
   },
   {
    "duration": 7,
    "start_time": "2022-02-19T15:20:46.130Z"
   },
   {
    "duration": 474,
    "start_time": "2022-02-19T15:20:46.138Z"
   },
   {
    "duration": 6774,
    "start_time": "2022-02-19T15:20:46.613Z"
   },
   {
    "duration": -19,
    "start_time": "2022-02-19T15:20:53.408Z"
   },
   {
    "duration": -20,
    "start_time": "2022-02-19T15:20:53.410Z"
   },
   {
    "duration": -20,
    "start_time": "2022-02-19T15:20:53.411Z"
   },
   {
    "duration": -20,
    "start_time": "2022-02-19T15:20:53.412Z"
   },
   {
    "duration": -20,
    "start_time": "2022-02-19T15:20:53.413Z"
   },
   {
    "duration": -19,
    "start_time": "2022-02-19T15:20:53.414Z"
   },
   {
    "duration": -19,
    "start_time": "2022-02-19T15:20:53.415Z"
   },
   {
    "duration": -19,
    "start_time": "2022-02-19T15:20:53.416Z"
   },
   {
    "duration": -18,
    "start_time": "2022-02-19T15:20:53.416Z"
   },
   {
    "duration": -21,
    "start_time": "2022-02-19T15:20:53.421Z"
   },
   {
    "duration": -21,
    "start_time": "2022-02-19T15:20:53.422Z"
   },
   {
    "duration": -21,
    "start_time": "2022-02-19T15:20:53.423Z"
   },
   {
    "duration": -21,
    "start_time": "2022-02-19T15:20:53.425Z"
   },
   {
    "duration": -21,
    "start_time": "2022-02-19T15:20:53.426Z"
   },
   {
    "duration": -20,
    "start_time": "2022-02-19T15:20:53.427Z"
   },
   {
    "duration": -19,
    "start_time": "2022-02-19T15:20:53.427Z"
   },
   {
    "duration": -18,
    "start_time": "2022-02-19T15:20:53.428Z"
   },
   {
    "duration": -18,
    "start_time": "2022-02-19T15:20:53.429Z"
   },
   {
    "duration": 48,
    "start_time": "2022-02-19T15:23:38.389Z"
   },
   {
    "duration": 48,
    "start_time": "2022-02-19T15:24:07.706Z"
   },
   {
    "duration": 41,
    "start_time": "2022-02-19T15:24:17.503Z"
   },
   {
    "duration": 3,
    "start_time": "2022-02-19T15:28:24.554Z"
   },
   {
    "duration": 191,
    "start_time": "2022-02-19T15:28:24.560Z"
   },
   {
    "duration": 31,
    "start_time": "2022-02-19T15:28:24.754Z"
   },
   {
    "duration": 31,
    "start_time": "2022-02-19T15:28:24.788Z"
   },
   {
    "duration": 182,
    "start_time": "2022-02-19T15:28:24.820Z"
   },
   {
    "duration": 21,
    "start_time": "2022-02-19T15:28:25.005Z"
   },
   {
    "duration": 56,
    "start_time": "2022-02-19T15:28:25.029Z"
   },
   {
    "duration": 104,
    "start_time": "2022-02-19T15:28:25.087Z"
   },
   {
    "duration": 17,
    "start_time": "2022-02-19T15:28:25.195Z"
   },
   {
    "duration": 16,
    "start_time": "2022-02-19T15:28:25.215Z"
   },
   {
    "duration": 20,
    "start_time": "2022-02-19T15:28:25.233Z"
   },
   {
    "duration": 19,
    "start_time": "2022-02-19T15:28:25.256Z"
   },
   {
    "duration": 37,
    "start_time": "2022-02-19T15:28:25.277Z"
   },
   {
    "duration": 50,
    "start_time": "2022-02-19T15:28:25.316Z"
   },
   {
    "duration": 7,
    "start_time": "2022-02-19T15:28:25.368Z"
   },
   {
    "duration": 29,
    "start_time": "2022-02-19T15:28:25.377Z"
   },
   {
    "duration": 362,
    "start_time": "2022-02-19T15:28:25.409Z"
   },
   {
    "duration": 321,
    "start_time": "2022-02-19T15:28:25.773Z"
   },
   {
    "duration": 258,
    "start_time": "2022-02-19T15:28:26.096Z"
   },
   {
    "duration": 16,
    "start_time": "2022-02-19T15:28:26.355Z"
   },
   {
    "duration": 118,
    "start_time": "2022-02-19T15:28:26.373Z"
   },
   {
    "duration": 86,
    "start_time": "2022-02-19T15:28:26.494Z"
   },
   {
    "duration": 70,
    "start_time": "2022-02-19T15:28:26.582Z"
   },
   {
    "duration": 51,
    "start_time": "2022-02-19T15:28:26.669Z"
   },
   {
    "duration": 46,
    "start_time": "2022-02-19T15:28:26.723Z"
   },
   {
    "duration": 13,
    "start_time": "2022-02-19T15:28:26.772Z"
   },
   {
    "duration": 11,
    "start_time": "2022-02-19T15:28:26.790Z"
   },
   {
    "duration": 8,
    "start_time": "2022-02-19T15:28:26.803Z"
   },
   {
    "duration": 7,
    "start_time": "2022-02-19T15:28:26.813Z"
   },
   {
    "duration": 502,
    "start_time": "2022-02-19T15:28:26.870Z"
   },
   {
    "duration": 7,
    "start_time": "2022-02-19T15:28:27.375Z"
   },
   {
    "duration": 607,
    "start_time": "2022-02-19T15:28:27.384Z"
   },
   {
    "duration": 7461,
    "start_time": "2022-02-19T15:28:27.993Z"
   },
   {
    "duration": -3,
    "start_time": "2022-02-19T15:28:35.460Z"
   },
   {
    "duration": -4,
    "start_time": "2022-02-19T15:28:35.462Z"
   },
   {
    "duration": -4,
    "start_time": "2022-02-19T15:28:35.464Z"
   },
   {
    "duration": -4,
    "start_time": "2022-02-19T15:28:35.466Z"
   },
   {
    "duration": -5,
    "start_time": "2022-02-19T15:28:35.468Z"
   },
   {
    "duration": -4,
    "start_time": "2022-02-19T15:28:35.469Z"
   },
   {
    "duration": -5,
    "start_time": "2022-02-19T15:28:35.471Z"
   },
   {
    "duration": -4,
    "start_time": "2022-02-19T15:28:35.472Z"
   },
   {
    "duration": -3,
    "start_time": "2022-02-19T15:28:35.473Z"
   },
   {
    "duration": -3,
    "start_time": "2022-02-19T15:28:35.475Z"
   },
   {
    "duration": -3,
    "start_time": "2022-02-19T15:28:35.476Z"
   },
   {
    "duration": -2,
    "start_time": "2022-02-19T15:28:35.477Z"
   },
   {
    "duration": -1,
    "start_time": "2022-02-19T15:28:35.478Z"
   },
   {
    "duration": -2,
    "start_time": "2022-02-19T15:28:35.480Z"
   },
   {
    "duration": -1,
    "start_time": "2022-02-19T15:28:35.481Z"
   },
   {
    "duration": -1,
    "start_time": "2022-02-19T15:28:35.482Z"
   },
   {
    "duration": -1,
    "start_time": "2022-02-19T15:28:35.484Z"
   },
   {
    "duration": 0,
    "start_time": "2022-02-19T15:28:35.485Z"
   },
   {
    "duration": 12,
    "start_time": "2022-02-19T15:29:19.307Z"
   },
   {
    "duration": 14,
    "start_time": "2022-02-19T15:29:26.390Z"
   },
   {
    "duration": 8,
    "start_time": "2022-02-19T15:29:31.728Z"
   },
   {
    "duration": 8,
    "start_time": "2022-02-19T15:29:34.013Z"
   },
   {
    "duration": 9,
    "start_time": "2022-02-19T15:29:47.363Z"
   },
   {
    "duration": 472,
    "start_time": "2022-02-19T15:29:52.011Z"
   },
   {
    "duration": 7,
    "start_time": "2022-02-19T15:29:58.801Z"
   },
   {
    "duration": 476,
    "start_time": "2022-02-19T15:30:02.136Z"
   },
   {
    "duration": 13,
    "start_time": "2022-02-19T15:30:09.385Z"
   },
   {
    "duration": 15,
    "start_time": "2022-02-19T15:30:10.439Z"
   },
   {
    "duration": 8,
    "start_time": "2022-02-19T15:30:13.479Z"
   },
   {
    "duration": 7,
    "start_time": "2022-02-19T15:30:15.097Z"
   },
   {
    "duration": 7,
    "start_time": "2022-02-19T15:30:21.700Z"
   },
   {
    "duration": 458,
    "start_time": "2022-02-19T15:30:22.565Z"
   },
   {
    "duration": 8,
    "start_time": "2022-02-19T15:30:24.695Z"
   },
   {
    "duration": 454,
    "start_time": "2022-02-19T15:30:25.623Z"
   },
   {
    "duration": 11,
    "start_time": "2022-02-19T15:30:35.768Z"
   },
   {
    "duration": 28,
    "start_time": "2022-02-19T15:30:46.976Z"
   },
   {
    "duration": 12,
    "start_time": "2022-02-19T15:30:59.248Z"
   },
   {
    "duration": 4,
    "start_time": "2022-02-19T15:32:40.998Z"
   },
   {
    "duration": 174,
    "start_time": "2022-02-19T15:32:41.023Z"
   },
   {
    "duration": 22,
    "start_time": "2022-02-19T15:32:41.200Z"
   },
   {
    "duration": 45,
    "start_time": "2022-02-19T15:32:41.224Z"
   },
   {
    "duration": 148,
    "start_time": "2022-02-19T15:32:41.271Z"
   },
   {
    "duration": 20,
    "start_time": "2022-02-19T15:32:41.421Z"
   },
   {
    "duration": 56,
    "start_time": "2022-02-19T15:32:41.444Z"
   },
   {
    "duration": 109,
    "start_time": "2022-02-19T15:32:41.502Z"
   },
   {
    "duration": 16,
    "start_time": "2022-02-19T15:32:41.614Z"
   },
   {
    "duration": 22,
    "start_time": "2022-02-19T15:32:41.633Z"
   },
   {
    "duration": 30,
    "start_time": "2022-02-19T15:32:41.657Z"
   },
   {
    "duration": 18,
    "start_time": "2022-02-19T15:32:41.689Z"
   },
   {
    "duration": 55,
    "start_time": "2022-02-19T15:32:41.708Z"
   },
   {
    "duration": 51,
    "start_time": "2022-02-19T15:32:41.765Z"
   },
   {
    "duration": 20,
    "start_time": "2022-02-19T15:32:41.819Z"
   },
   {
    "duration": 24,
    "start_time": "2022-02-19T15:32:41.841Z"
   },
   {
    "duration": 324,
    "start_time": "2022-02-19T15:32:41.867Z"
   },
   {
    "duration": 303,
    "start_time": "2022-02-19T15:32:42.193Z"
   },
   {
    "duration": 231,
    "start_time": "2022-02-19T15:32:42.498Z"
   },
   {
    "duration": 11,
    "start_time": "2022-02-19T15:32:42.731Z"
   },
   {
    "duration": 119,
    "start_time": "2022-02-19T15:32:42.744Z"
   },
   {
    "duration": 69,
    "start_time": "2022-02-19T15:32:42.866Z"
   },
   {
    "duration": 97,
    "start_time": "2022-02-19T15:32:42.937Z"
   },
   {
    "duration": 52,
    "start_time": "2022-02-19T15:32:43.036Z"
   },
   {
    "duration": 11,
    "start_time": "2022-02-19T15:32:43.090Z"
   },
   {
    "duration": 20,
    "start_time": "2022-02-19T15:32:43.103Z"
   },
   {
    "duration": 44,
    "start_time": "2022-02-19T15:32:43.125Z"
   },
   {
    "duration": 13,
    "start_time": "2022-02-19T15:32:43.174Z"
   },
   {
    "duration": 11,
    "start_time": "2022-02-19T15:32:43.190Z"
   },
   {
    "duration": 483,
    "start_time": "2022-02-19T15:32:43.203Z"
   },
   {
    "duration": 8,
    "start_time": "2022-02-19T15:32:43.687Z"
   },
   {
    "duration": 639,
    "start_time": "2022-02-19T15:32:43.698Z"
   },
   {
    "duration": 10,
    "start_time": "2022-02-19T15:32:44.339Z"
   },
   {
    "duration": 26,
    "start_time": "2022-02-19T15:32:44.351Z"
   },
   {
    "duration": 8,
    "start_time": "2022-02-19T15:32:44.379Z"
   },
   {
    "duration": 8,
    "start_time": "2022-02-19T15:32:44.389Z"
   },
   {
    "duration": 18,
    "start_time": "2022-02-19T15:32:44.399Z"
   },
   {
    "duration": 519,
    "start_time": "2022-02-19T15:32:44.419Z"
   },
   {
    "duration": 8,
    "start_time": "2022-02-19T15:32:44.940Z"
   },
   {
    "duration": 501,
    "start_time": "2022-02-19T15:32:44.950Z"
   },
   {
    "duration": 21,
    "start_time": "2022-02-19T15:32:45.453Z"
   },
   {
    "duration": 11,
    "start_time": "2022-02-19T15:32:45.476Z"
   },
   {
    "duration": 12,
    "start_time": "2022-02-19T15:32:45.489Z"
   },
   {
    "duration": 10,
    "start_time": "2022-02-19T15:32:45.502Z"
   },
   {
    "duration": 9,
    "start_time": "2022-02-19T15:32:45.513Z"
   },
   {
    "duration": 512,
    "start_time": "2022-02-19T15:32:45.523Z"
   },
   {
    "duration": 6,
    "start_time": "2022-02-19T15:32:46.037Z"
   },
   {
    "duration": 463,
    "start_time": "2022-02-19T15:32:46.044Z"
   },
   {
    "duration": 13,
    "start_time": "2022-02-19T15:32:46.509Z"
   },
   {
    "duration": 46,
    "start_time": "2022-02-19T15:32:46.524Z"
   },
   {
    "duration": 14,
    "start_time": "2022-02-19T15:32:46.572Z"
   },
   {
    "duration": 5,
    "start_time": "2022-02-19T15:34:09.919Z"
   },
   {
    "duration": 197,
    "start_time": "2022-02-19T15:34:09.927Z"
   },
   {
    "duration": 23,
    "start_time": "2022-02-19T15:34:10.127Z"
   },
   {
    "duration": 40,
    "start_time": "2022-02-19T15:34:10.153Z"
   },
   {
    "duration": 151,
    "start_time": "2022-02-19T15:34:10.195Z"
   },
   {
    "duration": 23,
    "start_time": "2022-02-19T15:34:10.347Z"
   },
   {
    "duration": 32,
    "start_time": "2022-02-19T15:34:10.372Z"
   },
   {
    "duration": 112,
    "start_time": "2022-02-19T15:34:10.406Z"
   },
   {
    "duration": 15,
    "start_time": "2022-02-19T15:34:10.522Z"
   },
   {
    "duration": 32,
    "start_time": "2022-02-19T15:34:10.540Z"
   },
   {
    "duration": 19,
    "start_time": "2022-02-19T15:34:10.574Z"
   },
   {
    "duration": 5,
    "start_time": "2022-02-19T15:34:10.595Z"
   },
   {
    "duration": 31,
    "start_time": "2022-02-19T15:34:10.602Z"
   },
   {
    "duration": 40,
    "start_time": "2022-02-19T15:34:10.635Z"
   },
   {
    "duration": 8,
    "start_time": "2022-02-19T15:34:10.677Z"
   },
   {
    "duration": 18,
    "start_time": "2022-02-19T15:34:10.687Z"
   },
   {
    "duration": 320,
    "start_time": "2022-02-19T15:34:10.707Z"
   },
   {
    "duration": 279,
    "start_time": "2022-02-19T15:34:11.028Z"
   },
   {
    "duration": 220,
    "start_time": "2022-02-19T15:34:11.309Z"
   },
   {
    "duration": 9,
    "start_time": "2022-02-19T15:34:11.531Z"
   },
   {
    "duration": 111,
    "start_time": "2022-02-19T15:34:11.542Z"
   },
   {
    "duration": 74,
    "start_time": "2022-02-19T15:34:11.655Z"
   },
   {
    "duration": 79,
    "start_time": "2022-02-19T15:34:11.731Z"
   },
   {
    "duration": 43,
    "start_time": "2022-02-19T15:34:11.812Z"
   },
   {
    "duration": 11,
    "start_time": "2022-02-19T15:34:11.869Z"
   },
   {
    "duration": 12,
    "start_time": "2022-02-19T15:34:11.882Z"
   },
   {
    "duration": 8,
    "start_time": "2022-02-19T15:34:11.898Z"
   },
   {
    "duration": 60,
    "start_time": "2022-02-19T15:34:11.909Z"
   },
   {
    "duration": 8,
    "start_time": "2022-02-19T15:34:11.971Z"
   },
   {
    "duration": 594,
    "start_time": "2022-02-19T15:34:11.981Z"
   },
   {
    "duration": 6,
    "start_time": "2022-02-19T15:34:12.577Z"
   },
   {
    "duration": 471,
    "start_time": "2022-02-19T15:34:12.585Z"
   },
   {
    "duration": 19,
    "start_time": "2022-02-19T15:34:13.058Z"
   },
   {
    "duration": 14,
    "start_time": "2022-02-19T15:34:13.079Z"
   },
   {
    "duration": 13,
    "start_time": "2022-02-19T15:34:13.095Z"
   },
   {
    "duration": 9,
    "start_time": "2022-02-19T15:34:13.110Z"
   },
   {
    "duration": 8,
    "start_time": "2022-02-19T15:34:13.169Z"
   },
   {
    "duration": 484,
    "start_time": "2022-02-19T15:34:13.179Z"
   },
   {
    "duration": 7,
    "start_time": "2022-02-19T15:34:13.666Z"
   },
   {
    "duration": 460,
    "start_time": "2022-02-19T15:34:13.675Z"
   },
   {
    "duration": 11,
    "start_time": "2022-02-19T15:34:14.137Z"
   },
   {
    "duration": 30,
    "start_time": "2022-02-19T15:34:14.150Z"
   },
   {
    "duration": 9,
    "start_time": "2022-02-19T15:34:14.182Z"
   },
   {
    "duration": 12,
    "start_time": "2022-02-19T15:34:14.193Z"
   },
   {
    "duration": 15,
    "start_time": "2022-02-19T15:34:14.206Z"
   },
   {
    "duration": 480,
    "start_time": "2022-02-19T15:34:14.223Z"
   },
   {
    "duration": 6,
    "start_time": "2022-02-19T15:34:14.705Z"
   },
   {
    "duration": 465,
    "start_time": "2022-02-19T15:34:14.712Z"
   },
   {
    "duration": 11,
    "start_time": "2022-02-19T15:34:15.178Z"
   },
   {
    "duration": 32,
    "start_time": "2022-02-19T15:34:15.191Z"
   },
   {
    "duration": 11,
    "start_time": "2022-02-19T15:34:15.224Z"
   },
   {
    "duration": 3,
    "start_time": "2022-02-19T15:55:31.240Z"
   },
   {
    "duration": 201,
    "start_time": "2022-02-19T15:55:31.245Z"
   },
   {
    "duration": 27,
    "start_time": "2022-02-19T15:55:31.448Z"
   },
   {
    "duration": 29,
    "start_time": "2022-02-19T15:55:31.477Z"
   },
   {
    "duration": 146,
    "start_time": "2022-02-19T15:55:31.508Z"
   },
   {
    "duration": 28,
    "start_time": "2022-02-19T15:55:31.656Z"
   },
   {
    "duration": 30,
    "start_time": "2022-02-19T15:55:31.686Z"
   },
   {
    "duration": 109,
    "start_time": "2022-02-19T15:55:31.718Z"
   },
   {
    "duration": 124,
    "start_time": "2022-02-19T15:55:31.830Z"
   },
   {
    "duration": 26,
    "start_time": "2022-02-19T15:55:31.957Z"
   },
   {
    "duration": 36,
    "start_time": "2022-02-19T15:55:31.985Z"
   },
   {
    "duration": 10,
    "start_time": "2022-02-19T15:55:32.023Z"
   },
   {
    "duration": 32,
    "start_time": "2022-02-19T15:55:32.035Z"
   },
   {
    "duration": 39,
    "start_time": "2022-02-19T15:55:32.069Z"
   },
   {
    "duration": 6,
    "start_time": "2022-02-19T15:55:32.110Z"
   },
   {
    "duration": 19,
    "start_time": "2022-02-19T15:55:32.118Z"
   },
   {
    "duration": 314,
    "start_time": "2022-02-19T15:55:32.138Z"
   },
   {
    "duration": 288,
    "start_time": "2022-02-19T15:55:32.454Z"
   },
   {
    "duration": 255,
    "start_time": "2022-02-19T15:55:32.744Z"
   },
   {
    "duration": 12,
    "start_time": "2022-02-19T15:55:33.000Z"
   },
   {
    "duration": 124,
    "start_time": "2022-02-19T15:55:33.014Z"
   },
   {
    "duration": 74,
    "start_time": "2022-02-19T15:55:33.140Z"
   },
   {
    "duration": 71,
    "start_time": "2022-02-19T15:55:33.215Z"
   },
   {
    "duration": 44,
    "start_time": "2022-02-19T15:55:33.288Z"
   },
   {
    "duration": 35,
    "start_time": "2022-02-19T15:55:33.334Z"
   },
   {
    "duration": 12,
    "start_time": "2022-02-19T15:55:33.371Z"
   },
   {
    "duration": 8,
    "start_time": "2022-02-19T15:55:33.387Z"
   },
   {
    "duration": 6,
    "start_time": "2022-02-19T15:55:33.397Z"
   },
   {
    "duration": 11,
    "start_time": "2022-02-19T15:55:33.405Z"
   },
   {
    "duration": 524,
    "start_time": "2022-02-19T15:55:33.418Z"
   },
   {
    "duration": 7,
    "start_time": "2022-02-19T15:55:33.944Z"
   },
   {
    "duration": 470,
    "start_time": "2022-02-19T15:55:33.952Z"
   },
   {
    "duration": 11,
    "start_time": "2022-02-19T15:55:34.424Z"
   },
   {
    "duration": 33,
    "start_time": "2022-02-19T15:55:34.436Z"
   },
   {
    "duration": 9,
    "start_time": "2022-02-19T15:55:34.471Z"
   },
   {
    "duration": 11,
    "start_time": "2022-02-19T15:55:34.482Z"
   },
   {
    "duration": 6,
    "start_time": "2022-02-19T15:55:34.495Z"
   },
   {
    "duration": 485,
    "start_time": "2022-02-19T15:55:34.503Z"
   },
   {
    "duration": 6,
    "start_time": "2022-02-19T15:55:34.990Z"
   },
   {
    "duration": 475,
    "start_time": "2022-02-19T15:55:34.998Z"
   },
   {
    "duration": 11,
    "start_time": "2022-02-19T15:55:35.475Z"
   },
   {
    "duration": 21,
    "start_time": "2022-02-19T15:55:35.488Z"
   },
   {
    "duration": 9,
    "start_time": "2022-02-19T15:55:35.511Z"
   },
   {
    "duration": 7,
    "start_time": "2022-02-19T15:55:35.522Z"
   },
   {
    "duration": 42,
    "start_time": "2022-02-19T15:55:35.531Z"
   },
   {
    "duration": 489,
    "start_time": "2022-02-19T15:55:35.575Z"
   },
   {
    "duration": 8,
    "start_time": "2022-02-19T15:55:36.066Z"
   },
   {
    "duration": 556,
    "start_time": "2022-02-19T15:55:36.075Z"
   },
   {
    "duration": 13,
    "start_time": "2022-02-19T15:55:36.634Z"
   },
   {
    "duration": 47,
    "start_time": "2022-02-19T15:55:36.649Z"
   },
   {
    "duration": 13,
    "start_time": "2022-02-19T15:55:36.698Z"
   },
   {
    "duration": 1272,
    "start_time": "2022-03-01T11:08:15.317Z"
   },
   {
    "duration": 214,
    "start_time": "2022-03-01T11:08:16.591Z"
   },
   {
    "duration": 28,
    "start_time": "2022-03-01T11:08:16.808Z"
   },
   {
    "duration": 36,
    "start_time": "2022-03-01T11:08:16.852Z"
   },
   {
    "duration": 186,
    "start_time": "2022-03-01T11:08:16.890Z"
   },
   {
    "duration": 21,
    "start_time": "2022-03-01T11:08:17.078Z"
   },
   {
    "duration": 63,
    "start_time": "2022-03-01T11:08:17.101Z"
   },
   {
    "duration": 116,
    "start_time": "2022-03-01T11:08:17.167Z"
   },
   {
    "duration": 17,
    "start_time": "2022-03-01T11:08:17.285Z"
   },
   {
    "duration": 17,
    "start_time": "2022-03-01T11:08:17.304Z"
   },
   {
    "duration": 34,
    "start_time": "2022-03-01T11:08:17.323Z"
   },
   {
    "duration": 9,
    "start_time": "2022-03-01T11:08:17.360Z"
   },
   {
    "duration": 38,
    "start_time": "2022-03-01T11:08:17.371Z"
   },
   {
    "duration": 40,
    "start_time": "2022-03-01T11:08:17.411Z"
   },
   {
    "duration": 8,
    "start_time": "2022-03-01T11:08:17.453Z"
   },
   {
    "duration": 24,
    "start_time": "2022-03-01T11:08:17.463Z"
   },
   {
    "duration": 496,
    "start_time": "2022-03-01T11:08:17.489Z"
   },
   {
    "duration": 407,
    "start_time": "2022-03-01T11:08:17.988Z"
   },
   {
    "duration": 313,
    "start_time": "2022-03-01T11:08:18.398Z"
   },
   {
    "duration": 12,
    "start_time": "2022-03-01T11:08:18.713Z"
   },
   {
    "duration": 145,
    "start_time": "2022-03-01T11:08:18.728Z"
   },
   {
    "duration": 91,
    "start_time": "2022-03-01T11:08:18.875Z"
   },
   {
    "duration": 94,
    "start_time": "2022-03-01T11:08:18.971Z"
   },
   {
    "duration": 56,
    "start_time": "2022-03-01T11:08:19.068Z"
   },
   {
    "duration": 32,
    "start_time": "2022-03-01T11:08:19.126Z"
   },
   {
    "duration": 15,
    "start_time": "2022-03-01T11:08:19.160Z"
   },
   {
    "duration": 9,
    "start_time": "2022-03-01T11:08:19.178Z"
   },
   {
    "duration": 62,
    "start_time": "2022-03-01T11:08:19.189Z"
   },
   {
    "duration": 8,
    "start_time": "2022-03-01T11:08:19.253Z"
   },
   {
    "duration": 607,
    "start_time": "2022-03-01T11:08:19.263Z"
   },
   {
    "duration": 8,
    "start_time": "2022-03-01T11:08:19.872Z"
   },
   {
    "duration": 606,
    "start_time": "2022-03-01T11:08:19.882Z"
   },
   {
    "duration": 14,
    "start_time": "2022-03-01T11:08:20.490Z"
   },
   {
    "duration": 46,
    "start_time": "2022-03-01T11:08:20.506Z"
   },
   {
    "duration": 10,
    "start_time": "2022-03-01T11:08:20.554Z"
   },
   {
    "duration": 11,
    "start_time": "2022-03-01T11:08:20.566Z"
   },
   {
    "duration": 11,
    "start_time": "2022-03-01T11:08:20.580Z"
   },
   {
    "duration": 631,
    "start_time": "2022-03-01T11:08:20.594Z"
   },
   {
    "duration": 8,
    "start_time": "2022-03-01T11:08:21.227Z"
   },
   {
    "duration": 621,
    "start_time": "2022-03-01T11:08:21.237Z"
   },
   {
    "duration": 17,
    "start_time": "2022-03-01T11:08:21.860Z"
   },
   {
    "duration": 17,
    "start_time": "2022-03-01T11:08:21.880Z"
   },
   {
    "duration": 59,
    "start_time": "2022-03-01T11:08:21.900Z"
   },
   {
    "duration": 10,
    "start_time": "2022-03-01T11:08:21.962Z"
   },
   {
    "duration": 9,
    "start_time": "2022-03-01T11:08:21.975Z"
   },
   {
    "duration": 739,
    "start_time": "2022-03-01T11:08:21.987Z"
   },
   {
    "duration": 22,
    "start_time": "2022-03-01T11:08:22.729Z"
   },
   {
    "duration": 594,
    "start_time": "2022-03-01T11:08:22.753Z"
   },
   {
    "duration": 14,
    "start_time": "2022-03-01T11:08:23.352Z"
   },
   {
    "duration": 36,
    "start_time": "2022-03-01T11:08:23.368Z"
   },
   {
    "duration": 52,
    "start_time": "2022-03-01T11:08:23.406Z"
   },
   {
    "duration": 21,
    "start_time": "2022-03-01T11:36:35.218Z"
   },
   {
    "duration": 18,
    "start_time": "2022-03-01T11:44:58.327Z"
   },
   {
    "duration": 9,
    "start_time": "2022-03-01T11:50:48.062Z"
   },
   {
    "duration": 253,
    "start_time": "2022-03-01T13:14:33.476Z"
   },
   {
    "duration": 1059,
    "start_time": "2022-03-01T13:14:40.287Z"
   },
   {
    "duration": 164,
    "start_time": "2022-03-01T13:14:41.347Z"
   },
   {
    "duration": 22,
    "start_time": "2022-03-01T13:14:41.513Z"
   },
   {
    "duration": 42,
    "start_time": "2022-03-01T13:14:41.537Z"
   },
   {
    "duration": 143,
    "start_time": "2022-03-01T13:14:41.580Z"
   },
   {
    "duration": 16,
    "start_time": "2022-03-01T13:14:41.725Z"
   },
   {
    "duration": 45,
    "start_time": "2022-03-01T13:14:41.743Z"
   },
   {
    "duration": 111,
    "start_time": "2022-03-01T13:14:41.790Z"
   },
   {
    "duration": 13,
    "start_time": "2022-03-01T13:14:41.905Z"
   },
   {
    "duration": 32,
    "start_time": "2022-03-01T13:14:41.921Z"
   },
   {
    "duration": 20,
    "start_time": "2022-03-01T13:14:41.955Z"
   },
   {
    "duration": 14,
    "start_time": "2022-03-01T13:14:41.977Z"
   },
   {
    "duration": 45,
    "start_time": "2022-03-01T13:14:41.993Z"
   },
   {
    "duration": 32,
    "start_time": "2022-03-01T13:14:42.040Z"
   },
   {
    "duration": 21,
    "start_time": "2022-03-01T13:14:42.074Z"
   },
   {
    "duration": 26,
    "start_time": "2022-03-01T13:14:42.098Z"
   },
   {
    "duration": 348,
    "start_time": "2022-03-01T13:14:42.126Z"
   },
   {
    "duration": 301,
    "start_time": "2022-03-01T13:14:42.476Z"
   },
   {
    "duration": 233,
    "start_time": "2022-03-01T13:14:42.779Z"
   },
   {
    "duration": 11,
    "start_time": "2022-03-01T13:14:43.014Z"
   },
   {
    "duration": 108,
    "start_time": "2022-03-01T13:14:43.027Z"
   },
   {
    "duration": 74,
    "start_time": "2022-03-01T13:14:43.138Z"
   },
   {
    "duration": 70,
    "start_time": "2022-03-01T13:14:43.214Z"
   },
   {
    "duration": 42,
    "start_time": "2022-03-01T13:14:43.286Z"
   },
   {
    "duration": 33,
    "start_time": "2022-03-01T13:14:43.331Z"
   },
   {
    "duration": 13,
    "start_time": "2022-03-01T13:14:43.366Z"
   },
   {
    "duration": 16,
    "start_time": "2022-03-01T13:14:43.383Z"
   },
   {
    "duration": 14,
    "start_time": "2022-03-01T13:14:43.402Z"
   },
   {
    "duration": 44,
    "start_time": "2022-03-01T13:14:43.418Z"
   },
   {
    "duration": 433,
    "start_time": "2022-03-01T13:14:43.464Z"
   },
   {
    "duration": 6,
    "start_time": "2022-03-01T13:14:43.899Z"
   },
   {
    "duration": 421,
    "start_time": "2022-03-01T13:14:43.906Z"
   },
   {
    "duration": 11,
    "start_time": "2022-03-01T13:14:44.328Z"
   },
   {
    "duration": 25,
    "start_time": "2022-03-01T13:14:44.340Z"
   },
   {
    "duration": 24,
    "start_time": "2022-03-01T13:14:44.367Z"
   },
   {
    "duration": 13,
    "start_time": "2022-03-01T13:14:44.393Z"
   },
   {
    "duration": 17,
    "start_time": "2022-03-01T13:14:44.408Z"
   },
   {
    "duration": 425,
    "start_time": "2022-03-01T13:14:44.427Z"
   },
   {
    "duration": 9,
    "start_time": "2022-03-01T13:14:44.853Z"
   },
   {
    "duration": 444,
    "start_time": "2022-03-01T13:14:44.864Z"
   },
   {
    "duration": 10,
    "start_time": "2022-03-01T13:14:45.309Z"
   },
   {
    "duration": 30,
    "start_time": "2022-03-01T13:14:45.321Z"
   },
   {
    "duration": 23,
    "start_time": "2022-03-01T13:14:45.353Z"
   },
   {
    "duration": 17,
    "start_time": "2022-03-01T13:14:45.377Z"
   },
   {
    "duration": 28,
    "start_time": "2022-03-01T13:14:45.396Z"
   },
   {
    "duration": 490,
    "start_time": "2022-03-01T13:14:45.426Z"
   },
   {
    "duration": 6,
    "start_time": "2022-03-01T13:14:45.918Z"
   },
   {
    "duration": 417,
    "start_time": "2022-03-01T13:14:45.926Z"
   },
   {
    "duration": 19,
    "start_time": "2022-03-01T13:14:46.345Z"
   },
   {
    "duration": 27,
    "start_time": "2022-03-01T13:14:46.366Z"
   },
   {
    "duration": 12,
    "start_time": "2022-03-01T13:14:46.395Z"
   },
   {
    "duration": 28,
    "start_time": "2022-03-01T13:16:21.321Z"
   },
   {
    "duration": 5858,
    "start_time": "2022-03-01T13:19:57.747Z"
   },
   {
    "duration": 3,
    "start_time": "2022-03-01T13:20:03.851Z"
   },
   {
    "duration": 181,
    "start_time": "2022-03-01T13:20:03.856Z"
   },
   {
    "duration": 31,
    "start_time": "2022-03-01T13:20:04.039Z"
   },
   {
    "duration": 27,
    "start_time": "2022-03-01T13:20:04.072Z"
   },
   {
    "duration": 153,
    "start_time": "2022-03-01T13:20:04.100Z"
   },
   {
    "duration": 16,
    "start_time": "2022-03-01T13:20:04.259Z"
   },
   {
    "duration": 28,
    "start_time": "2022-03-01T13:20:04.277Z"
   },
   {
    "duration": 111,
    "start_time": "2022-03-01T13:20:04.308Z"
   },
   {
    "duration": 14,
    "start_time": "2022-03-01T13:20:04.421Z"
   },
   {
    "duration": 29,
    "start_time": "2022-03-01T13:20:04.437Z"
   },
   {
    "duration": 24,
    "start_time": "2022-03-01T13:20:04.468Z"
   },
   {
    "duration": 14,
    "start_time": "2022-03-01T13:20:04.494Z"
   },
   {
    "duration": 32,
    "start_time": "2022-03-01T13:20:04.510Z"
   },
   {
    "duration": 24,
    "start_time": "2022-03-01T13:20:04.543Z"
   },
   {
    "duration": 7,
    "start_time": "2022-03-01T13:20:04.568Z"
   },
   {
    "duration": 32,
    "start_time": "2022-03-01T13:20:04.576Z"
   },
   {
    "duration": 332,
    "start_time": "2022-03-01T13:20:04.610Z"
   },
   {
    "duration": 285,
    "start_time": "2022-03-01T13:20:04.944Z"
   },
   {
    "duration": 238,
    "start_time": "2022-03-01T13:20:05.230Z"
   },
   {
    "duration": 8,
    "start_time": "2022-03-01T13:20:05.470Z"
   },
   {
    "duration": 103,
    "start_time": "2022-03-01T13:20:05.480Z"
   },
   {
    "duration": 60,
    "start_time": "2022-03-01T13:20:05.584Z"
   },
   {
    "duration": 204,
    "start_time": "2022-03-01T13:20:05.660Z"
   },
   {
    "duration": -103,
    "start_time": "2022-03-01T13:20:05.969Z"
   },
   {
    "duration": -105,
    "start_time": "2022-03-01T13:20:05.972Z"
   },
   {
    "duration": -109,
    "start_time": "2022-03-01T13:20:05.977Z"
   },
   {
    "duration": -112,
    "start_time": "2022-03-01T13:20:05.981Z"
   },
   {
    "duration": -116,
    "start_time": "2022-03-01T13:20:05.986Z"
   },
   {
    "duration": -118,
    "start_time": "2022-03-01T13:20:05.989Z"
   },
   {
    "duration": -127,
    "start_time": "2022-03-01T13:20:05.998Z"
   },
   {
    "duration": -130,
    "start_time": "2022-03-01T13:20:06.002Z"
   },
   {
    "duration": -133,
    "start_time": "2022-03-01T13:20:06.006Z"
   },
   {
    "duration": -135,
    "start_time": "2022-03-01T13:20:06.009Z"
   },
   {
    "duration": -136,
    "start_time": "2022-03-01T13:20:06.011Z"
   },
   {
    "duration": -140,
    "start_time": "2022-03-01T13:20:06.016Z"
   },
   {
    "duration": -142,
    "start_time": "2022-03-01T13:20:06.019Z"
   },
   {
    "duration": -145,
    "start_time": "2022-03-01T13:20:06.022Z"
   },
   {
    "duration": -146,
    "start_time": "2022-03-01T13:20:06.025Z"
   },
   {
    "duration": -147,
    "start_time": "2022-03-01T13:20:06.027Z"
   },
   {
    "duration": -148,
    "start_time": "2022-03-01T13:20:06.029Z"
   },
   {
    "duration": -149,
    "start_time": "2022-03-01T13:20:06.031Z"
   },
   {
    "duration": -149,
    "start_time": "2022-03-01T13:20:06.032Z"
   },
   {
    "duration": -149,
    "start_time": "2022-03-01T13:20:06.034Z"
   },
   {
    "duration": -151,
    "start_time": "2022-03-01T13:20:06.036Z"
   },
   {
    "duration": -151,
    "start_time": "2022-03-01T13:20:06.037Z"
   },
   {
    "duration": -151,
    "start_time": "2022-03-01T13:20:06.038Z"
   },
   {
    "duration": -151,
    "start_time": "2022-03-01T13:20:06.039Z"
   },
   {
    "duration": -151,
    "start_time": "2022-03-01T13:20:06.040Z"
   },
   {
    "duration": -151,
    "start_time": "2022-03-01T13:20:06.041Z"
   },
   {
    "duration": -153,
    "start_time": "2022-03-01T13:20:06.043Z"
   },
   {
    "duration": -154,
    "start_time": "2022-03-01T13:20:06.045Z"
   },
   {
    "duration": -28,
    "start_time": "2022-03-01T13:31:55.890Z"
   },
   {
    "duration": -31,
    "start_time": "2022-03-01T13:31:55.894Z"
   },
   {
    "duration": -33,
    "start_time": "2022-03-01T13:31:55.897Z"
   },
   {
    "duration": -34,
    "start_time": "2022-03-01T13:31:55.899Z"
   },
   {
    "duration": -36,
    "start_time": "2022-03-01T13:31:55.902Z"
   },
   {
    "duration": -38,
    "start_time": "2022-03-01T13:31:55.905Z"
   },
   {
    "duration": -40,
    "start_time": "2022-03-01T13:31:55.908Z"
   },
   {
    "duration": -41,
    "start_time": "2022-03-01T13:31:55.910Z"
   },
   {
    "duration": -42,
    "start_time": "2022-03-01T13:31:55.912Z"
   },
   {
    "duration": -44,
    "start_time": "2022-03-01T13:31:55.914Z"
   },
   {
    "duration": -46,
    "start_time": "2022-03-01T13:31:55.917Z"
   },
   {
    "duration": -46,
    "start_time": "2022-03-01T13:31:55.918Z"
   },
   {
    "duration": -47,
    "start_time": "2022-03-01T13:31:55.920Z"
   },
   {
    "duration": -48,
    "start_time": "2022-03-01T13:31:55.922Z"
   },
   {
    "duration": -49,
    "start_time": "2022-03-01T13:31:55.924Z"
   },
   {
    "duration": -50,
    "start_time": "2022-03-01T13:31:55.926Z"
   },
   {
    "duration": -51,
    "start_time": "2022-03-01T13:31:55.928Z"
   },
   {
    "duration": -52,
    "start_time": "2022-03-01T13:31:55.930Z"
   },
   {
    "duration": -52,
    "start_time": "2022-03-01T13:31:55.931Z"
   },
   {
    "duration": -54,
    "start_time": "2022-03-01T13:31:55.933Z"
   },
   {
    "duration": -54,
    "start_time": "2022-03-01T13:31:55.934Z"
   },
   {
    "duration": -55,
    "start_time": "2022-03-01T13:31:55.936Z"
   },
   {
    "duration": -56,
    "start_time": "2022-03-01T13:31:55.938Z"
   },
   {
    "duration": -56,
    "start_time": "2022-03-01T13:31:55.939Z"
   },
   {
    "duration": -64,
    "start_time": "2022-03-01T13:31:55.948Z"
   },
   {
    "duration": -64,
    "start_time": "2022-03-01T13:31:55.949Z"
   },
   {
    "duration": -65,
    "start_time": "2022-03-01T13:31:55.951Z"
   },
   {
    "duration": -65,
    "start_time": "2022-03-01T13:31:55.952Z"
   },
   {
    "duration": -65,
    "start_time": "2022-03-01T13:31:55.953Z"
   },
   {
    "duration": -65,
    "start_time": "2022-03-01T13:31:55.954Z"
   },
   {
    "duration": -67,
    "start_time": "2022-03-01T13:31:55.956Z"
   },
   {
    "duration": -88,
    "start_time": "2022-03-01T13:31:55.979Z"
   },
   {
    "duration": -88,
    "start_time": "2022-03-01T13:31:55.980Z"
   },
   {
    "duration": -88,
    "start_time": "2022-03-01T13:31:55.981Z"
   },
   {
    "duration": -89,
    "start_time": "2022-03-01T13:31:55.983Z"
   },
   {
    "duration": -89,
    "start_time": "2022-03-01T13:31:55.984Z"
   },
   {
    "duration": -89,
    "start_time": "2022-03-01T13:31:55.985Z"
   },
   {
    "duration": -89,
    "start_time": "2022-03-01T13:31:55.986Z"
   },
   {
    "duration": -89,
    "start_time": "2022-03-01T13:31:55.987Z"
   },
   {
    "duration": -90,
    "start_time": "2022-03-01T13:31:55.989Z"
   },
   {
    "duration": -90,
    "start_time": "2022-03-01T13:31:55.990Z"
   },
   {
    "duration": -90,
    "start_time": "2022-03-01T13:31:55.991Z"
   },
   {
    "duration": -34,
    "start_time": "2022-03-01T13:31:55.993Z"
   },
   {
    "duration": -34,
    "start_time": "2022-03-01T13:31:55.994Z"
   },
   {
    "duration": -35,
    "start_time": "2022-03-01T13:31:55.996Z"
   },
   {
    "duration": -35,
    "start_time": "2022-03-01T13:31:55.997Z"
   },
   {
    "duration": -35,
    "start_time": "2022-03-01T13:31:55.998Z"
   },
   {
    "duration": -36,
    "start_time": "2022-03-01T13:31:56.000Z"
   },
   {
    "duration": -36,
    "start_time": "2022-03-01T13:31:56.001Z"
   },
   {
    "duration": -36,
    "start_time": "2022-03-01T13:31:56.002Z"
   },
   {
    "duration": -36,
    "start_time": "2022-03-01T13:31:56.003Z"
   },
   {
    "duration": 3,
    "start_time": "2022-03-01T13:32:58.416Z"
   },
   {
    "duration": 154,
    "start_time": "2022-03-01T13:32:58.421Z"
   },
   {
    "duration": 19,
    "start_time": "2022-03-01T13:32:58.577Z"
   },
   {
    "duration": 24,
    "start_time": "2022-03-01T13:32:58.599Z"
   },
   {
    "duration": 141,
    "start_time": "2022-03-01T13:32:58.625Z"
   },
   {
    "duration": 15,
    "start_time": "2022-03-01T13:32:58.768Z"
   },
   {
    "duration": 26,
    "start_time": "2022-03-01T13:32:58.785Z"
   },
   {
    "duration": 104,
    "start_time": "2022-03-01T13:32:58.813Z"
   },
   {
    "duration": 13,
    "start_time": "2022-03-01T13:32:58.920Z"
   },
   {
    "duration": 30,
    "start_time": "2022-03-01T13:32:58.935Z"
   },
   {
    "duration": 17,
    "start_time": "2022-03-01T13:32:58.966Z"
   },
   {
    "duration": 6,
    "start_time": "2022-03-01T13:32:58.985Z"
   },
   {
    "duration": 35,
    "start_time": "2022-03-01T13:32:58.992Z"
   },
   {
    "duration": 24,
    "start_time": "2022-03-01T13:32:59.029Z"
   },
   {
    "duration": 5,
    "start_time": "2022-03-01T13:32:59.055Z"
   },
   {
    "duration": 15,
    "start_time": "2022-03-01T13:32:59.061Z"
   },
   {
    "duration": 309,
    "start_time": "2022-03-01T13:32:59.077Z"
   },
   {
    "duration": 5625,
    "start_time": "2022-03-01T13:32:59.387Z"
   },
   {
    "duration": -57,
    "start_time": "2022-03-01T13:33:05.072Z"
   },
   {
    "duration": -58,
    "start_time": "2022-03-01T13:33:05.074Z"
   },
   {
    "duration": -60,
    "start_time": "2022-03-01T13:33:05.077Z"
   },
   {
    "duration": -62,
    "start_time": "2022-03-01T13:33:05.079Z"
   },
   {
    "duration": -61,
    "start_time": "2022-03-01T13:33:05.080Z"
   },
   {
    "duration": -62,
    "start_time": "2022-03-01T13:33:05.082Z"
   },
   {
    "duration": -70,
    "start_time": "2022-03-01T13:33:05.091Z"
   },
   {
    "duration": -71,
    "start_time": "2022-03-01T13:33:05.093Z"
   },
   {
    "duration": -71,
    "start_time": "2022-03-01T13:33:05.094Z"
   },
   {
    "duration": -71,
    "start_time": "2022-03-01T13:33:05.095Z"
   },
   {
    "duration": -72,
    "start_time": "2022-03-01T13:33:05.097Z"
   },
   {
    "duration": -73,
    "start_time": "2022-03-01T13:33:05.099Z"
   },
   {
    "duration": -74,
    "start_time": "2022-03-01T13:33:05.101Z"
   },
   {
    "duration": -74,
    "start_time": "2022-03-01T13:33:05.102Z"
   },
   {
    "duration": -75,
    "start_time": "2022-03-01T13:33:05.104Z"
   },
   {
    "duration": -75,
    "start_time": "2022-03-01T13:33:05.105Z"
   },
   {
    "duration": -80,
    "start_time": "2022-03-01T13:33:05.111Z"
   },
   {
    "duration": -81,
    "start_time": "2022-03-01T13:33:05.113Z"
   },
   {
    "duration": -81,
    "start_time": "2022-03-01T13:33:05.114Z"
   },
   {
    "duration": -82,
    "start_time": "2022-03-01T13:33:05.116Z"
   },
   {
    "duration": -83,
    "start_time": "2022-03-01T13:33:05.118Z"
   },
   {
    "duration": -83,
    "start_time": "2022-03-01T13:33:05.119Z"
   },
   {
    "duration": -83,
    "start_time": "2022-03-01T13:33:05.120Z"
   },
   {
    "duration": -83,
    "start_time": "2022-03-01T13:33:05.121Z"
   },
   {
    "duration": -83,
    "start_time": "2022-03-01T13:33:05.122Z"
   },
   {
    "duration": -83,
    "start_time": "2022-03-01T13:33:05.123Z"
   },
   {
    "duration": -83,
    "start_time": "2022-03-01T13:33:05.124Z"
   },
   {
    "duration": -83,
    "start_time": "2022-03-01T13:33:05.125Z"
   },
   {
    "duration": -82,
    "start_time": "2022-03-01T13:33:05.126Z"
   },
   {
    "duration": -83,
    "start_time": "2022-03-01T13:33:05.127Z"
   },
   {
    "duration": -83,
    "start_time": "2022-03-01T13:33:05.128Z"
   },
   {
    "duration": -83,
    "start_time": "2022-03-01T13:33:05.129Z"
   },
   {
    "duration": -83,
    "start_time": "2022-03-01T13:33:05.130Z"
   },
   {
    "duration": 229,
    "start_time": "2022-03-01T13:34:34.596Z"
   },
   {
    "duration": 2,
    "start_time": "2022-03-01T13:35:00.361Z"
   },
   {
    "duration": 198,
    "start_time": "2022-03-01T13:35:00.365Z"
   },
   {
    "duration": 22,
    "start_time": "2022-03-01T13:35:00.565Z"
   },
   {
    "duration": 34,
    "start_time": "2022-03-01T13:35:00.590Z"
   },
   {
    "duration": 145,
    "start_time": "2022-03-01T13:35:00.626Z"
   },
   {
    "duration": 19,
    "start_time": "2022-03-01T13:35:00.773Z"
   },
   {
    "duration": 33,
    "start_time": "2022-03-01T13:35:00.794Z"
   },
   {
    "duration": 105,
    "start_time": "2022-03-01T13:35:00.829Z"
   },
   {
    "duration": 14,
    "start_time": "2022-03-01T13:35:00.938Z"
   },
   {
    "duration": 29,
    "start_time": "2022-03-01T13:35:00.960Z"
   },
   {
    "duration": 15,
    "start_time": "2022-03-01T13:35:00.991Z"
   },
   {
    "duration": 22,
    "start_time": "2022-03-01T13:35:01.008Z"
   },
   {
    "duration": 36,
    "start_time": "2022-03-01T13:35:01.031Z"
   },
   {
    "duration": 24,
    "start_time": "2022-03-01T13:35:01.068Z"
   },
   {
    "duration": 15,
    "start_time": "2022-03-01T13:35:01.094Z"
   },
   {
    "duration": 26,
    "start_time": "2022-03-01T13:35:01.111Z"
   },
   {
    "duration": 332,
    "start_time": "2022-03-01T13:35:01.139Z"
   },
   {
    "duration": 267,
    "start_time": "2022-03-01T13:35:01.473Z"
   },
   {
    "duration": 208,
    "start_time": "2022-03-01T13:35:01.741Z"
   },
   {
    "duration": 10,
    "start_time": "2022-03-01T13:35:01.950Z"
   },
   {
    "duration": 103,
    "start_time": "2022-03-01T13:35:01.961Z"
   },
   {
    "duration": 58,
    "start_time": "2022-03-01T13:35:02.065Z"
   },
   {
    "duration": 210,
    "start_time": "2022-03-01T13:35:02.124Z"
   },
   {
    "duration": -53,
    "start_time": "2022-03-01T13:35:02.390Z"
   },
   {
    "duration": -56,
    "start_time": "2022-03-01T13:35:02.393Z"
   },
   {
    "duration": -57,
    "start_time": "2022-03-01T13:35:02.395Z"
   },
   {
    "duration": -58,
    "start_time": "2022-03-01T13:35:02.397Z"
   },
   {
    "duration": -60,
    "start_time": "2022-03-01T13:35:02.400Z"
   },
   {
    "duration": -62,
    "start_time": "2022-03-01T13:35:02.403Z"
   },
   {
    "duration": -62,
    "start_time": "2022-03-01T13:35:02.404Z"
   },
   {
    "duration": -63,
    "start_time": "2022-03-01T13:35:02.406Z"
   },
   {
    "duration": -63,
    "start_time": "2022-03-01T13:35:02.407Z"
   },
   {
    "duration": -63,
    "start_time": "2022-03-01T13:35:02.409Z"
   },
   {
    "duration": -63,
    "start_time": "2022-03-01T13:35:02.410Z"
   },
   {
    "duration": -64,
    "start_time": "2022-03-01T13:35:02.412Z"
   },
   {
    "duration": -63,
    "start_time": "2022-03-01T13:35:02.413Z"
   },
   {
    "duration": -64,
    "start_time": "2022-03-01T13:35:02.415Z"
   },
   {
    "duration": -64,
    "start_time": "2022-03-01T13:35:02.416Z"
   },
   {
    "duration": -65,
    "start_time": "2022-03-01T13:35:02.418Z"
   },
   {
    "duration": -65,
    "start_time": "2022-03-01T13:35:02.419Z"
   },
   {
    "duration": -65,
    "start_time": "2022-03-01T13:35:02.420Z"
   },
   {
    "duration": -65,
    "start_time": "2022-03-01T13:35:02.421Z"
   },
   {
    "duration": -66,
    "start_time": "2022-03-01T13:35:02.423Z"
   },
   {
    "duration": -66,
    "start_time": "2022-03-01T13:35:02.424Z"
   },
   {
    "duration": -66,
    "start_time": "2022-03-01T13:35:02.425Z"
   },
   {
    "duration": -71,
    "start_time": "2022-03-01T13:35:02.431Z"
   },
   {
    "duration": -71,
    "start_time": "2022-03-01T13:35:02.432Z"
   },
   {
    "duration": -71,
    "start_time": "2022-03-01T13:35:02.433Z"
   },
   {
    "duration": -72,
    "start_time": "2022-03-01T13:35:02.435Z"
   },
   {
    "duration": -72,
    "start_time": "2022-03-01T13:35:02.436Z"
   },
   {
    "duration": -72,
    "start_time": "2022-03-01T13:35:02.437Z"
   },
   {
    "duration": 188,
    "start_time": "2022-03-01T13:49:14.535Z"
   },
   {
    "duration": 8,
    "start_time": "2022-03-01T13:49:21.897Z"
   },
   {
    "duration": 94,
    "start_time": "2022-03-01T13:49:30.279Z"
   },
   {
    "duration": 60,
    "start_time": "2022-03-01T13:49:33.637Z"
   },
   {
    "duration": 58,
    "start_time": "2022-03-01T13:49:47.184Z"
   },
   {
    "duration": 41,
    "start_time": "2022-03-01T13:50:45.532Z"
   },
   {
    "duration": 38,
    "start_time": "2022-03-01T13:53:16.834Z"
   },
   {
    "duration": 10,
    "start_time": "2022-03-01T13:54:09.238Z"
   },
   {
    "duration": 11,
    "start_time": "2022-03-01T13:54:15.403Z"
   },
   {
    "duration": 8,
    "start_time": "2022-03-01T13:54:28.399Z"
   },
   {
    "duration": 9,
    "start_time": "2022-03-01T13:54:30.807Z"
   },
   {
    "duration": 7,
    "start_time": "2022-03-01T13:54:40.877Z"
   },
   {
    "duration": 409,
    "start_time": "2022-03-01T13:54:43.706Z"
   },
   {
    "duration": 6,
    "start_time": "2022-03-01T13:54:51.664Z"
   },
   {
    "duration": 400,
    "start_time": "2022-03-01T13:54:53.438Z"
   },
   {
    "duration": 12,
    "start_time": "2022-03-01T13:55:07.408Z"
   },
   {
    "duration": 11,
    "start_time": "2022-03-01T13:55:20.442Z"
   },
   {
    "duration": 9,
    "start_time": "2022-03-01T13:55:23.589Z"
   },
   {
    "duration": 7,
    "start_time": "2022-03-01T13:55:26.401Z"
   },
   {
    "duration": 6,
    "start_time": "2022-03-01T13:55:34.592Z"
   },
   {
    "duration": 423,
    "start_time": "2022-03-01T13:55:39.553Z"
   },
   {
    "duration": 6,
    "start_time": "2022-03-01T13:55:48.116Z"
   },
   {
    "duration": 486,
    "start_time": "2022-03-01T13:55:52.162Z"
   },
   {
    "duration": 11,
    "start_time": "2022-03-01T13:55:59.028Z"
   },
   {
    "duration": 12,
    "start_time": "2022-03-01T13:56:03.379Z"
   },
   {
    "duration": 9,
    "start_time": "2022-03-01T13:56:06.035Z"
   },
   {
    "duration": 8,
    "start_time": "2022-03-01T13:56:09.764Z"
   },
   {
    "duration": 7,
    "start_time": "2022-03-01T13:56:13.083Z"
   },
   {
    "duration": 427,
    "start_time": "2022-03-01T13:56:13.588Z"
   },
   {
    "duration": 6,
    "start_time": "2022-03-01T13:56:20.017Z"
   },
   {
    "duration": 404,
    "start_time": "2022-03-01T13:56:20.682Z"
   },
   {
    "duration": 10,
    "start_time": "2022-03-01T13:56:31.804Z"
   },
   {
    "duration": 24,
    "start_time": "2022-03-01T13:57:50.167Z"
   },
   {
    "duration": 12,
    "start_time": "2022-03-01T13:57:57.512Z"
   },
   {
    "duration": 3,
    "start_time": "2022-03-01T13:58:09.458Z"
   },
   {
    "duration": 184,
    "start_time": "2022-03-01T13:58:09.463Z"
   },
   {
    "duration": 26,
    "start_time": "2022-03-01T13:58:09.649Z"
   },
   {
    "duration": 28,
    "start_time": "2022-03-01T13:58:09.677Z"
   },
   {
    "duration": 139,
    "start_time": "2022-03-01T13:58:09.706Z"
   },
   {
    "duration": 26,
    "start_time": "2022-03-01T13:58:09.847Z"
   },
   {
    "duration": 27,
    "start_time": "2022-03-01T13:58:09.875Z"
   },
   {
    "duration": 96,
    "start_time": "2022-03-01T13:58:09.903Z"
   },
   {
    "duration": 14,
    "start_time": "2022-03-01T13:58:10.002Z"
   },
   {
    "duration": 13,
    "start_time": "2022-03-01T13:58:10.018Z"
   },
   {
    "duration": 29,
    "start_time": "2022-03-01T13:58:10.033Z"
   },
   {
    "duration": 5,
    "start_time": "2022-03-01T13:58:10.064Z"
   },
   {
    "duration": 30,
    "start_time": "2022-03-01T13:58:10.070Z"
   },
   {
    "duration": 26,
    "start_time": "2022-03-01T13:58:10.102Z"
   },
   {
    "duration": 5,
    "start_time": "2022-03-01T13:58:10.130Z"
   },
   {
    "duration": 34,
    "start_time": "2022-03-01T13:58:10.138Z"
   },
   {
    "duration": 334,
    "start_time": "2022-03-01T13:58:10.173Z"
   },
   {
    "duration": 269,
    "start_time": "2022-03-01T13:58:10.508Z"
   },
   {
    "duration": 213,
    "start_time": "2022-03-01T13:58:10.779Z"
   },
   {
    "duration": 9,
    "start_time": "2022-03-01T13:58:10.994Z"
   },
   {
    "duration": 108,
    "start_time": "2022-03-01T13:58:11.006Z"
   },
   {
    "duration": 70,
    "start_time": "2022-03-01T13:58:11.116Z"
   },
   {
    "duration": 56,
    "start_time": "2022-03-01T13:58:11.188Z"
   },
   {
    "duration": 48,
    "start_time": "2022-03-01T13:58:11.246Z"
   },
   {
    "duration": 11,
    "start_time": "2022-03-01T13:58:11.295Z"
   },
   {
    "duration": 10,
    "start_time": "2022-03-01T13:58:11.307Z"
   },
   {
    "duration": 45,
    "start_time": "2022-03-01T13:58:11.321Z"
   },
   {
    "duration": 7,
    "start_time": "2022-03-01T13:58:11.369Z"
   },
   {
    "duration": 6,
    "start_time": "2022-03-01T13:58:11.377Z"
   },
   {
    "duration": 448,
    "start_time": "2022-03-01T13:58:11.384Z"
   },
   {
    "duration": 6,
    "start_time": "2022-03-01T13:58:11.834Z"
   },
   {
    "duration": 418,
    "start_time": "2022-03-01T13:58:11.841Z"
   },
   {
    "duration": 10,
    "start_time": "2022-03-01T13:58:12.260Z"
   },
   {
    "duration": 10,
    "start_time": "2022-03-01T13:58:12.271Z"
   },
   {
    "duration": 7,
    "start_time": "2022-03-01T13:58:12.282Z"
   },
   {
    "duration": 7,
    "start_time": "2022-03-01T13:58:12.291Z"
   },
   {
    "duration": 6,
    "start_time": "2022-03-01T13:58:12.299Z"
   },
   {
    "duration": 426,
    "start_time": "2022-03-01T13:58:12.360Z"
   },
   {
    "duration": 7,
    "start_time": "2022-03-01T13:58:12.788Z"
   },
   {
    "duration": 497,
    "start_time": "2022-03-01T13:58:12.796Z"
   },
   {
    "duration": 9,
    "start_time": "2022-03-01T13:58:13.295Z"
   },
   {
    "duration": 10,
    "start_time": "2022-03-01T13:58:13.306Z"
   },
   {
    "duration": 43,
    "start_time": "2022-03-01T13:58:13.317Z"
   },
   {
    "duration": 6,
    "start_time": "2022-03-01T13:58:13.362Z"
   },
   {
    "duration": 5,
    "start_time": "2022-03-01T13:58:13.370Z"
   },
   {
    "duration": 432,
    "start_time": "2022-03-01T13:58:13.377Z"
   },
   {
    "duration": 6,
    "start_time": "2022-03-01T13:58:13.811Z"
   },
   {
    "duration": 403,
    "start_time": "2022-03-01T13:58:13.819Z"
   },
   {
    "duration": 10,
    "start_time": "2022-03-01T13:58:14.224Z"
   },
   {
    "duration": 39,
    "start_time": "2022-03-01T13:58:14.236Z"
   },
   {
    "duration": 10,
    "start_time": "2022-03-01T13:58:14.277Z"
   },
   {
    "duration": 11,
    "start_time": "2022-03-01T14:05:01.696Z"
   },
   {
    "duration": 11,
    "start_time": "2022-03-01T14:36:48.210Z"
   },
   {
    "duration": 8,
    "start_time": "2022-03-01T14:37:02.772Z"
   },
   {
    "duration": 3,
    "start_time": "2022-03-01T14:38:15.035Z"
   },
   {
    "duration": 176,
    "start_time": "2022-03-01T14:38:15.040Z"
   },
   {
    "duration": 21,
    "start_time": "2022-03-01T14:38:15.218Z"
   },
   {
    "duration": 39,
    "start_time": "2022-03-01T14:38:15.242Z"
   },
   {
    "duration": 146,
    "start_time": "2022-03-01T14:38:15.283Z"
   },
   {
    "duration": 29,
    "start_time": "2022-03-01T14:38:15.431Z"
   },
   {
    "duration": 31,
    "start_time": "2022-03-01T14:38:15.462Z"
   },
   {
    "duration": 116,
    "start_time": "2022-03-01T14:38:15.495Z"
   },
   {
    "duration": 15,
    "start_time": "2022-03-01T14:38:15.614Z"
   },
   {
    "duration": 14,
    "start_time": "2022-03-01T14:38:15.631Z"
   },
   {
    "duration": 14,
    "start_time": "2022-03-01T14:38:15.660Z"
   },
   {
    "duration": 9,
    "start_time": "2022-03-01T14:38:15.675Z"
   },
   {
    "duration": 29,
    "start_time": "2022-03-01T14:38:15.686Z"
   },
   {
    "duration": 25,
    "start_time": "2022-03-01T14:38:15.716Z"
   },
   {
    "duration": 18,
    "start_time": "2022-03-01T14:38:15.743Z"
   },
   {
    "duration": 17,
    "start_time": "2022-03-01T14:38:15.763Z"
   },
   {
    "duration": 338,
    "start_time": "2022-03-01T14:38:15.781Z"
   },
   {
    "duration": 277,
    "start_time": "2022-03-01T14:38:16.121Z"
   },
   {
    "duration": 218,
    "start_time": "2022-03-01T14:38:16.400Z"
   },
   {
    "duration": 10,
    "start_time": "2022-03-01T14:38:16.620Z"
   },
   {
    "duration": 110,
    "start_time": "2022-03-01T14:38:16.632Z"
   },
   {
    "duration": 66,
    "start_time": "2022-03-01T14:38:16.744Z"
   },
   {
    "duration": 70,
    "start_time": "2022-03-01T14:38:16.812Z"
   },
   {
    "duration": 40,
    "start_time": "2022-03-01T14:38:16.884Z"
   },
   {
    "duration": 34,
    "start_time": "2022-03-01T14:38:16.926Z"
   },
   {
    "duration": 12,
    "start_time": "2022-03-01T14:38:16.962Z"
   },
   {
    "duration": 8,
    "start_time": "2022-03-01T14:38:16.978Z"
   },
   {
    "duration": 7,
    "start_time": "2022-03-01T14:38:16.988Z"
   },
   {
    "duration": 6,
    "start_time": "2022-03-01T14:38:16.997Z"
   },
   {
    "duration": 480,
    "start_time": "2022-03-01T14:38:17.005Z"
   },
   {
    "duration": 6,
    "start_time": "2022-03-01T14:38:17.487Z"
   },
   {
    "duration": 428,
    "start_time": "2022-03-01T14:38:17.495Z"
   },
   {
    "duration": 10,
    "start_time": "2022-03-01T14:38:17.925Z"
   },
   {
    "duration": 28,
    "start_time": "2022-03-01T14:38:17.936Z"
   },
   {
    "duration": 7,
    "start_time": "2022-03-01T14:38:17.965Z"
   },
   {
    "duration": 6,
    "start_time": "2022-03-01T14:38:17.974Z"
   },
   {
    "duration": 9,
    "start_time": "2022-03-01T14:38:17.982Z"
   },
   {
    "duration": 546,
    "start_time": "2022-03-01T14:38:17.993Z"
   },
   {
    "duration": 6,
    "start_time": "2022-03-01T14:38:18.541Z"
   },
   {
    "duration": 410,
    "start_time": "2022-03-01T14:38:18.558Z"
   },
   {
    "duration": 10,
    "start_time": "2022-03-01T14:38:18.970Z"
   },
   {
    "duration": 11,
    "start_time": "2022-03-01T14:38:18.981Z"
   },
   {
    "duration": 7,
    "start_time": "2022-03-01T14:38:18.993Z"
   },
   {
    "duration": 6,
    "start_time": "2022-03-01T14:38:19.002Z"
   },
   {
    "duration": 52,
    "start_time": "2022-03-01T14:38:19.009Z"
   },
   {
    "duration": 426,
    "start_time": "2022-03-01T14:38:19.063Z"
   },
   {
    "duration": 6,
    "start_time": "2022-03-01T14:38:19.491Z"
   },
   {
    "duration": 407,
    "start_time": "2022-03-01T14:38:19.499Z"
   },
   {
    "duration": 12,
    "start_time": "2022-03-01T14:38:19.908Z"
   },
   {
    "duration": 51,
    "start_time": "2022-03-01T14:38:19.922Z"
   },
   {
    "duration": 11,
    "start_time": "2022-03-01T14:38:19.975Z"
   },
   {
    "duration": 11,
    "start_time": "2022-03-01T14:43:34.778Z"
   },
   {
    "duration": 32,
    "start_time": "2022-03-01T14:44:33.297Z"
   },
   {
    "duration": 11,
    "start_time": "2022-03-01T14:44:34.471Z"
   },
   {
    "duration": 11,
    "start_time": "2022-03-01T14:44:51.173Z"
   },
   {
    "duration": 11,
    "start_time": "2022-03-01T14:44:57.068Z"
   },
   {
    "duration": 3,
    "start_time": "2022-03-01T14:45:00.142Z"
   },
   {
    "duration": 189,
    "start_time": "2022-03-01T14:45:00.147Z"
   },
   {
    "duration": 22,
    "start_time": "2022-03-01T14:45:00.338Z"
   },
   {
    "duration": 42,
    "start_time": "2022-03-01T14:45:00.362Z"
   },
   {
    "duration": 142,
    "start_time": "2022-03-01T14:45:00.405Z"
   },
   {
    "duration": 22,
    "start_time": "2022-03-01T14:45:00.549Z"
   },
   {
    "duration": 46,
    "start_time": "2022-03-01T14:45:00.574Z"
   },
   {
    "duration": 96,
    "start_time": "2022-03-01T14:45:00.624Z"
   },
   {
    "duration": 16,
    "start_time": "2022-03-01T14:45:00.723Z"
   },
   {
    "duration": 34,
    "start_time": "2022-03-01T14:45:00.741Z"
   },
   {
    "duration": 33,
    "start_time": "2022-03-01T14:45:00.778Z"
   },
   {
    "duration": 49,
    "start_time": "2022-03-01T14:45:00.813Z"
   },
   {
    "duration": 40,
    "start_time": "2022-03-01T14:45:00.864Z"
   },
   {
    "duration": 19,
    "start_time": "2022-03-01T14:45:00.906Z"
   },
   {
    "duration": 36,
    "start_time": "2022-03-01T14:45:00.927Z"
   },
   {
    "duration": 37,
    "start_time": "2022-03-01T14:45:00.965Z"
   },
   {
    "duration": 353,
    "start_time": "2022-03-01T14:45:01.004Z"
   },
   {
    "duration": 281,
    "start_time": "2022-03-01T14:45:01.358Z"
   },
   {
    "duration": 223,
    "start_time": "2022-03-01T14:45:01.641Z"
   },
   {
    "duration": 9,
    "start_time": "2022-03-01T14:45:01.866Z"
   },
   {
    "duration": 130,
    "start_time": "2022-03-01T14:45:01.877Z"
   },
   {
    "duration": 69,
    "start_time": "2022-03-01T14:45:02.008Z"
   },
   {
    "duration": 59,
    "start_time": "2022-03-01T14:45:02.081Z"
   },
   {
    "duration": 39,
    "start_time": "2022-03-01T14:45:02.159Z"
   },
   {
    "duration": 11,
    "start_time": "2022-03-01T14:45:02.199Z"
   },
   {
    "duration": 10,
    "start_time": "2022-03-01T14:45:02.211Z"
   },
   {
    "duration": 7,
    "start_time": "2022-03-01T14:45:02.260Z"
   },
   {
    "duration": 9,
    "start_time": "2022-03-01T14:45:02.269Z"
   },
   {
    "duration": 9,
    "start_time": "2022-03-01T14:45:02.280Z"
   },
   {
    "duration": 457,
    "start_time": "2022-03-01T14:45:02.290Z"
   },
   {
    "duration": 10,
    "start_time": "2022-03-01T14:45:02.749Z"
   },
   {
    "duration": 425,
    "start_time": "2022-03-01T14:45:02.760Z"
   },
   {
    "duration": 9,
    "start_time": "2022-03-01T14:45:03.187Z"
   },
   {
    "duration": 11,
    "start_time": "2022-03-01T14:45:03.199Z"
   },
   {
    "duration": 9,
    "start_time": "2022-03-01T14:45:03.212Z"
   },
   {
    "duration": 7,
    "start_time": "2022-03-01T14:45:03.260Z"
   },
   {
    "duration": 6,
    "start_time": "2022-03-01T14:45:03.268Z"
   },
   {
    "duration": 540,
    "start_time": "2022-03-01T14:45:03.276Z"
   },
   {
    "duration": 7,
    "start_time": "2022-03-01T14:45:03.819Z"
   },
   {
    "duration": 430,
    "start_time": "2022-03-01T14:45:03.828Z"
   },
   {
    "duration": 12,
    "start_time": "2022-03-01T14:45:04.260Z"
   },
   {
    "duration": 13,
    "start_time": "2022-03-01T14:45:04.274Z"
   },
   {
    "duration": 9,
    "start_time": "2022-03-01T14:45:04.289Z"
   },
   {
    "duration": 8,
    "start_time": "2022-03-01T14:45:04.300Z"
   },
   {
    "duration": 6,
    "start_time": "2022-03-01T14:45:04.361Z"
   },
   {
    "duration": 444,
    "start_time": "2022-03-01T14:45:04.369Z"
   },
   {
    "duration": 6,
    "start_time": "2022-03-01T14:45:04.815Z"
   },
   {
    "duration": 448,
    "start_time": "2022-03-01T14:45:04.822Z"
   },
   {
    "duration": 11,
    "start_time": "2022-03-01T14:45:05.271Z"
   },
   {
    "duration": 27,
    "start_time": "2022-03-01T14:45:05.283Z"
   },
   {
    "duration": 11,
    "start_time": "2022-03-01T14:45:05.312Z"
   },
   {
    "duration": 3,
    "start_time": "2022-03-01T14:53:19.860Z"
   },
   {
    "duration": 188,
    "start_time": "2022-03-01T14:53:19.866Z"
   },
   {
    "duration": 22,
    "start_time": "2022-03-01T14:53:20.056Z"
   },
   {
    "duration": 27,
    "start_time": "2022-03-01T14:53:20.080Z"
   },
   {
    "duration": 157,
    "start_time": "2022-03-01T14:53:20.109Z"
   },
   {
    "duration": 18,
    "start_time": "2022-03-01T14:53:20.268Z"
   },
   {
    "duration": 28,
    "start_time": "2022-03-01T14:53:20.288Z"
   },
   {
    "duration": 106,
    "start_time": "2022-03-01T14:53:20.318Z"
   },
   {
    "duration": 16,
    "start_time": "2022-03-01T14:53:20.427Z"
   },
   {
    "duration": 27,
    "start_time": "2022-03-01T14:53:20.445Z"
   },
   {
    "duration": 15,
    "start_time": "2022-03-01T14:53:20.473Z"
   },
   {
    "duration": 12,
    "start_time": "2022-03-01T14:53:20.490Z"
   },
   {
    "duration": 57,
    "start_time": "2022-03-01T14:53:20.504Z"
   },
   {
    "duration": 18,
    "start_time": "2022-03-01T14:53:20.563Z"
   },
   {
    "duration": 6,
    "start_time": "2022-03-01T14:53:20.583Z"
   },
   {
    "duration": 15,
    "start_time": "2022-03-01T14:53:20.591Z"
   },
   {
    "duration": 357,
    "start_time": "2022-03-01T14:53:20.608Z"
   },
   {
    "duration": 282,
    "start_time": "2022-03-01T14:53:20.966Z"
   },
   {
    "duration": 213,
    "start_time": "2022-03-01T14:53:21.249Z"
   },
   {
    "duration": 9,
    "start_time": "2022-03-01T14:53:21.464Z"
   },
   {
    "duration": 108,
    "start_time": "2022-03-01T14:53:21.475Z"
   },
   {
    "duration": 62,
    "start_time": "2022-03-01T14:53:21.585Z"
   },
   {
    "duration": 58,
    "start_time": "2022-03-01T14:53:21.660Z"
   },
   {
    "duration": 54,
    "start_time": "2022-03-01T14:53:21.720Z"
   },
   {
    "duration": 10,
    "start_time": "2022-03-01T14:53:21.776Z"
   },
   {
    "duration": 11,
    "start_time": "2022-03-01T14:53:21.788Z"
   },
   {
    "duration": 8,
    "start_time": "2022-03-01T14:53:21.802Z"
   },
   {
    "duration": 48,
    "start_time": "2022-03-01T14:53:21.812Z"
   },
   {
    "duration": 7,
    "start_time": "2022-03-01T14:53:21.862Z"
   },
   {
    "duration": 445,
    "start_time": "2022-03-01T14:53:21.870Z"
   },
   {
    "duration": 7,
    "start_time": "2022-03-01T14:53:22.316Z"
   },
   {
    "duration": 557,
    "start_time": "2022-03-01T14:53:22.324Z"
   },
   {
    "duration": 11,
    "start_time": "2022-03-01T14:53:22.883Z"
   },
   {
    "duration": 11,
    "start_time": "2022-03-01T14:53:22.896Z"
   },
   {
    "duration": 7,
    "start_time": "2022-03-01T14:53:22.909Z"
   },
   {
    "duration": 44,
    "start_time": "2022-03-01T14:53:22.918Z"
   },
   {
    "duration": 6,
    "start_time": "2022-03-01T14:53:22.964Z"
   },
   {
    "duration": 443,
    "start_time": "2022-03-01T14:53:22.972Z"
   },
   {
    "duration": 6,
    "start_time": "2022-03-01T14:53:23.417Z"
   },
   {
    "duration": 423,
    "start_time": "2022-03-01T14:53:23.425Z"
   },
   {
    "duration": 17,
    "start_time": "2022-03-01T14:53:23.850Z"
   },
   {
    "duration": 11,
    "start_time": "2022-03-01T14:53:23.868Z"
   },
   {
    "duration": 12,
    "start_time": "2022-03-01T14:53:23.881Z"
   },
   {
    "duration": 9,
    "start_time": "2022-03-01T14:53:23.895Z"
   },
   {
    "duration": 7,
    "start_time": "2022-03-01T14:53:23.906Z"
   },
   {
    "duration": 483,
    "start_time": "2022-03-01T14:53:23.915Z"
   },
   {
    "duration": 7,
    "start_time": "2022-03-01T14:53:24.400Z"
   },
   {
    "duration": 430,
    "start_time": "2022-03-01T14:53:24.409Z"
   },
   {
    "duration": 18,
    "start_time": "2022-03-01T14:53:24.841Z"
   },
   {
    "duration": 24,
    "start_time": "2022-03-01T14:53:24.860Z"
   },
   {
    "duration": 10,
    "start_time": "2022-03-01T14:53:24.886Z"
   },
   {
    "duration": 3,
    "start_time": "2022-03-01T14:55:29.785Z"
   },
   {
    "duration": 156,
    "start_time": "2022-03-01T14:55:29.790Z"
   },
   {
    "duration": 22,
    "start_time": "2022-03-01T14:55:29.948Z"
   },
   {
    "duration": 27,
    "start_time": "2022-03-01T14:55:29.972Z"
   },
   {
    "duration": 153,
    "start_time": "2022-03-01T14:55:30.000Z"
   },
   {
    "duration": 17,
    "start_time": "2022-03-01T14:55:30.159Z"
   },
   {
    "duration": 35,
    "start_time": "2022-03-01T14:55:30.178Z"
   },
   {
    "duration": 103,
    "start_time": "2022-03-01T14:55:30.215Z"
   },
   {
    "duration": 14,
    "start_time": "2022-03-01T14:55:30.321Z"
   },
   {
    "duration": 28,
    "start_time": "2022-03-01T14:55:30.338Z"
   },
   {
    "duration": 14,
    "start_time": "2022-03-01T14:55:30.367Z"
   },
   {
    "duration": 11,
    "start_time": "2022-03-01T14:55:30.382Z"
   },
   {
    "duration": 44,
    "start_time": "2022-03-01T14:55:30.395Z"
   },
   {
    "duration": 20,
    "start_time": "2022-03-01T14:55:30.440Z"
   },
   {
    "duration": 7,
    "start_time": "2022-03-01T14:55:30.462Z"
   },
   {
    "duration": 18,
    "start_time": "2022-03-01T14:55:30.470Z"
   },
   {
    "duration": 341,
    "start_time": "2022-03-01T14:55:30.490Z"
   },
   {
    "duration": 286,
    "start_time": "2022-03-01T14:55:30.833Z"
   },
   {
    "duration": 219,
    "start_time": "2022-03-01T14:55:31.121Z"
   },
   {
    "duration": 18,
    "start_time": "2022-03-01T14:55:31.342Z"
   },
   {
    "duration": 99,
    "start_time": "2022-03-01T14:55:31.362Z"
   },
   {
    "duration": 63,
    "start_time": "2022-03-01T14:55:31.463Z"
   },
   {
    "duration": 75,
    "start_time": "2022-03-01T14:55:31.527Z"
   },
   {
    "duration": 40,
    "start_time": "2022-03-01T14:55:31.604Z"
   },
   {
    "duration": 24,
    "start_time": "2022-03-01T14:55:31.645Z"
   },
   {
    "duration": 11,
    "start_time": "2022-03-01T14:55:31.671Z"
   },
   {
    "duration": 7,
    "start_time": "2022-03-01T14:55:31.686Z"
   },
   {
    "duration": 6,
    "start_time": "2022-03-01T14:55:31.696Z"
   },
   {
    "duration": 58,
    "start_time": "2022-03-01T14:55:31.703Z"
   },
   {
    "duration": 431,
    "start_time": "2022-03-01T14:55:31.763Z"
   },
   {
    "duration": 6,
    "start_time": "2022-03-01T14:55:32.196Z"
   },
   {
    "duration": 517,
    "start_time": "2022-03-01T14:55:32.203Z"
   },
   {
    "duration": 12,
    "start_time": "2022-03-01T14:55:32.721Z"
   },
   {
    "duration": 31,
    "start_time": "2022-03-01T14:55:32.735Z"
   },
   {
    "duration": 10,
    "start_time": "2022-03-01T14:55:32.768Z"
   },
   {
    "duration": 8,
    "start_time": "2022-03-01T14:55:32.780Z"
   },
   {
    "duration": 7,
    "start_time": "2022-03-01T14:55:32.790Z"
   },
   {
    "duration": 492,
    "start_time": "2022-03-01T14:55:32.799Z"
   },
   {
    "duration": 6,
    "start_time": "2022-03-01T14:55:33.292Z"
   },
   {
    "duration": 416,
    "start_time": "2022-03-01T14:55:33.300Z"
   },
   {
    "duration": 10,
    "start_time": "2022-03-01T14:55:33.718Z"
   },
   {
    "duration": 30,
    "start_time": "2022-03-01T14:55:33.729Z"
   },
   {
    "duration": 8,
    "start_time": "2022-03-01T14:55:33.760Z"
   },
   {
    "duration": 8,
    "start_time": "2022-03-01T14:55:33.769Z"
   },
   {
    "duration": 6,
    "start_time": "2022-03-01T14:55:33.779Z"
   },
   {
    "duration": 458,
    "start_time": "2022-03-01T14:55:33.786Z"
   },
   {
    "duration": 6,
    "start_time": "2022-03-01T14:55:34.245Z"
   },
   {
    "duration": 421,
    "start_time": "2022-03-01T14:55:34.259Z"
   },
   {
    "duration": 10,
    "start_time": "2022-03-01T14:55:34.682Z"
   },
   {
    "duration": 25,
    "start_time": "2022-03-01T14:55:34.694Z"
   },
   {
    "duration": 40,
    "start_time": "2022-03-01T14:55:34.721Z"
   },
   {
    "duration": 3,
    "start_time": "2022-03-01T14:57:57.929Z"
   },
   {
    "duration": 169,
    "start_time": "2022-03-01T14:57:57.934Z"
   },
   {
    "duration": 22,
    "start_time": "2022-03-01T14:57:58.106Z"
   },
   {
    "duration": 45,
    "start_time": "2022-03-01T14:57:58.130Z"
   },
   {
    "duration": 137,
    "start_time": "2022-03-01T14:57:58.176Z"
   },
   {
    "duration": 18,
    "start_time": "2022-03-01T14:57:58.314Z"
   },
   {
    "duration": 44,
    "start_time": "2022-03-01T14:57:58.333Z"
   },
   {
    "duration": 94,
    "start_time": "2022-03-01T14:57:58.379Z"
   },
   {
    "duration": 15,
    "start_time": "2022-03-01T14:57:58.477Z"
   },
   {
    "duration": 15,
    "start_time": "2022-03-01T14:57:58.495Z"
   },
   {
    "duration": 15,
    "start_time": "2022-03-01T14:57:58.512Z"
   },
   {
    "duration": 34,
    "start_time": "2022-03-01T14:57:58.529Z"
   },
   {
    "duration": 29,
    "start_time": "2022-03-01T14:57:58.565Z"
   },
   {
    "duration": 31,
    "start_time": "2022-03-01T14:57:58.596Z"
   },
   {
    "duration": 7,
    "start_time": "2022-03-01T14:57:58.629Z"
   },
   {
    "duration": 33,
    "start_time": "2022-03-01T14:57:58.638Z"
   },
   {
    "duration": 336,
    "start_time": "2022-03-01T14:57:58.673Z"
   },
   {
    "duration": 269,
    "start_time": "2022-03-01T14:57:59.012Z"
   },
   {
    "duration": 239,
    "start_time": "2022-03-01T14:57:59.283Z"
   },
   {
    "duration": 10,
    "start_time": "2022-03-01T14:57:59.524Z"
   },
   {
    "duration": 113,
    "start_time": "2022-03-01T14:57:59.536Z"
   },
   {
    "duration": 69,
    "start_time": "2022-03-01T14:57:59.651Z"
   },
   {
    "duration": 82,
    "start_time": "2022-03-01T14:57:59.722Z"
   },
   {
    "duration": 39,
    "start_time": "2022-03-01T14:57:59.806Z"
   },
   {
    "duration": 11,
    "start_time": "2022-03-01T14:57:59.859Z"
   },
   {
    "duration": 10,
    "start_time": "2022-03-01T14:57:59.872Z"
   },
   {
    "duration": 7,
    "start_time": "2022-03-01T14:57:59.886Z"
   },
   {
    "duration": 6,
    "start_time": "2022-03-01T14:57:59.896Z"
   },
   {
    "duration": 59,
    "start_time": "2022-03-01T14:57:59.903Z"
   },
   {
    "duration": 531,
    "start_time": "2022-03-01T14:57:59.964Z"
   },
   {
    "duration": 7,
    "start_time": "2022-03-01T14:58:00.497Z"
   },
   {
    "duration": 453,
    "start_time": "2022-03-01T14:58:00.506Z"
   },
   {
    "duration": 13,
    "start_time": "2022-03-01T14:58:00.961Z"
   },
   {
    "duration": 11,
    "start_time": "2022-03-01T14:58:00.976Z"
   },
   {
    "duration": 11,
    "start_time": "2022-03-01T14:58:00.989Z"
   },
   {
    "duration": 63,
    "start_time": "2022-03-01T14:58:01.001Z"
   },
   {
    "duration": 6,
    "start_time": "2022-03-01T14:58:01.066Z"
   },
   {
    "duration": 532,
    "start_time": "2022-03-01T14:58:01.073Z"
   },
   {
    "duration": 6,
    "start_time": "2022-03-01T14:58:01.606Z"
   },
   {
    "duration": 483,
    "start_time": "2022-03-01T14:58:01.614Z"
   },
   {
    "duration": 67,
    "start_time": "2022-03-01T14:58:02.099Z"
   },
   {
    "duration": 19,
    "start_time": "2022-03-01T14:58:02.168Z"
   },
   {
    "duration": 13,
    "start_time": "2022-03-01T14:58:02.188Z"
   },
   {
    "duration": 10,
    "start_time": "2022-03-01T14:58:02.203Z"
   },
   {
    "duration": 16,
    "start_time": "2022-03-01T14:58:02.215Z"
   },
   {
    "duration": 524,
    "start_time": "2022-03-01T14:58:02.232Z"
   },
   {
    "duration": 6,
    "start_time": "2022-03-01T14:58:02.757Z"
   },
   {
    "duration": 416,
    "start_time": "2022-03-01T14:58:02.765Z"
   },
   {
    "duration": 11,
    "start_time": "2022-03-01T14:58:03.183Z"
   },
   {
    "duration": 25,
    "start_time": "2022-03-01T14:58:03.196Z"
   },
   {
    "duration": 41,
    "start_time": "2022-03-01T14:58:03.222Z"
   },
   {
    "duration": 1275,
    "start_time": "2022-03-02T06:14:40.264Z"
   },
   {
    "duration": 218,
    "start_time": "2022-03-02T06:14:41.541Z"
   },
   {
    "duration": 40,
    "start_time": "2022-03-02T06:14:41.763Z"
   },
   {
    "duration": 35,
    "start_time": "2022-03-02T06:14:41.806Z"
   },
   {
    "duration": 181,
    "start_time": "2022-03-02T06:14:41.843Z"
   },
   {
    "duration": 19,
    "start_time": "2022-03-02T06:14:42.027Z"
   },
   {
    "duration": 58,
    "start_time": "2022-03-02T06:14:42.049Z"
   },
   {
    "duration": 128,
    "start_time": "2022-03-02T06:14:42.110Z"
   },
   {
    "duration": 18,
    "start_time": "2022-03-02T06:14:42.240Z"
   },
   {
    "duration": 33,
    "start_time": "2022-03-02T06:14:42.260Z"
   },
   {
    "duration": 18,
    "start_time": "2022-03-02T06:14:42.295Z"
   },
   {
    "duration": 11,
    "start_time": "2022-03-02T06:14:42.315Z"
   },
   {
    "duration": 65,
    "start_time": "2022-03-02T06:14:42.328Z"
   },
   {
    "duration": 25,
    "start_time": "2022-03-02T06:14:42.395Z"
   },
   {
    "duration": 9,
    "start_time": "2022-03-02T06:14:42.422Z"
   },
   {
    "duration": 51,
    "start_time": "2022-03-02T06:14:42.434Z"
   },
   {
    "duration": 473,
    "start_time": "2022-03-02T06:14:42.488Z"
   },
   {
    "duration": 403,
    "start_time": "2022-03-02T06:14:42.963Z"
   },
   {
    "duration": 315,
    "start_time": "2022-03-02T06:14:43.368Z"
   },
   {
    "duration": 12,
    "start_time": "2022-03-02T06:14:43.686Z"
   },
   {
    "duration": 165,
    "start_time": "2022-03-02T06:14:43.700Z"
   },
   {
    "duration": 96,
    "start_time": "2022-03-02T06:14:43.867Z"
   },
   {
    "duration": 87,
    "start_time": "2022-03-02T06:14:43.968Z"
   },
   {
    "duration": 71,
    "start_time": "2022-03-02T06:14:44.058Z"
   },
   {
    "duration": 16,
    "start_time": "2022-03-02T06:14:44.131Z"
   },
   {
    "duration": 44,
    "start_time": "2022-03-02T06:14:44.150Z"
   },
   {
    "duration": 13,
    "start_time": "2022-03-02T06:14:44.197Z"
   },
   {
    "duration": 10,
    "start_time": "2022-03-02T06:14:44.212Z"
   },
   {
    "duration": 61,
    "start_time": "2022-03-02T06:14:44.224Z"
   },
   {
    "duration": 605,
    "start_time": "2022-03-02T06:14:44.288Z"
   },
   {
    "duration": 10,
    "start_time": "2022-03-02T06:14:44.895Z"
   },
   {
    "duration": 601,
    "start_time": "2022-03-02T06:14:44.907Z"
   },
   {
    "duration": 16,
    "start_time": "2022-03-02T06:14:45.511Z"
   },
   {
    "duration": 29,
    "start_time": "2022-03-02T06:14:45.529Z"
   },
   {
    "duration": 11,
    "start_time": "2022-03-02T06:14:45.583Z"
   },
   {
    "duration": 39,
    "start_time": "2022-03-02T06:14:45.596Z"
   },
   {
    "duration": 10,
    "start_time": "2022-03-02T06:14:45.637Z"
   },
   {
    "duration": 611,
    "start_time": "2022-03-02T06:14:45.649Z"
   },
   {
    "duration": 8,
    "start_time": "2022-03-02T06:14:46.263Z"
   },
   {
    "duration": 582,
    "start_time": "2022-03-02T06:14:46.283Z"
   },
   {
    "duration": 24,
    "start_time": "2022-03-02T06:14:46.867Z"
   },
   {
    "duration": 61,
    "start_time": "2022-03-02T06:14:46.893Z"
   },
   {
    "duration": 10,
    "start_time": "2022-03-02T06:14:46.957Z"
   },
   {
    "duration": 14,
    "start_time": "2022-03-02T06:14:46.969Z"
   },
   {
    "duration": 22,
    "start_time": "2022-03-02T06:14:46.985Z"
   },
   {
    "duration": 676,
    "start_time": "2022-03-02T06:14:47.009Z"
   },
   {
    "duration": 8,
    "start_time": "2022-03-02T06:14:47.687Z"
   },
   {
    "duration": 595,
    "start_time": "2022-03-02T06:14:47.697Z"
   },
   {
    "duration": 15,
    "start_time": "2022-03-02T06:14:48.294Z"
   },
   {
    "duration": 48,
    "start_time": "2022-03-02T06:14:48.311Z"
   },
   {
    "duration": 32,
    "start_time": "2022-03-02T06:14:48.361Z"
   },
   {
    "duration": 18,
    "start_time": "2022-03-02T06:20:59.455Z"
   },
   {
    "duration": 34,
    "start_time": "2022-03-02T06:25:01.249Z"
   },
   {
    "duration": 9,
    "start_time": "2022-03-02T06:25:15.234Z"
   },
   {
    "duration": 258,
    "start_time": "2022-03-02T10:39:31.431Z"
   },
   {
    "duration": 1024,
    "start_time": "2022-03-02T10:39:36.617Z"
   },
   {
    "duration": 163,
    "start_time": "2022-03-02T10:39:37.643Z"
   },
   {
    "duration": 21,
    "start_time": "2022-03-02T10:39:37.808Z"
   },
   {
    "duration": 40,
    "start_time": "2022-03-02T10:39:37.830Z"
   },
   {
    "duration": 136,
    "start_time": "2022-03-02T10:39:37.872Z"
   },
   {
    "duration": 17,
    "start_time": "2022-03-02T10:39:38.009Z"
   },
   {
    "duration": 42,
    "start_time": "2022-03-02T10:39:38.027Z"
   },
   {
    "duration": 95,
    "start_time": "2022-03-02T10:39:38.070Z"
   },
   {
    "duration": 14,
    "start_time": "2022-03-02T10:39:38.168Z"
   },
   {
    "duration": 13,
    "start_time": "2022-03-02T10:39:38.184Z"
   },
   {
    "duration": 14,
    "start_time": "2022-03-02T10:39:38.199Z"
   },
   {
    "duration": 10,
    "start_time": "2022-03-02T10:39:38.214Z"
   },
   {
    "duration": 51,
    "start_time": "2022-03-02T10:39:38.226Z"
   },
   {
    "duration": 19,
    "start_time": "2022-03-02T10:39:38.279Z"
   },
   {
    "duration": 8,
    "start_time": "2022-03-02T10:39:38.299Z"
   },
   {
    "duration": 18,
    "start_time": "2022-03-02T10:39:38.308Z"
   },
   {
    "duration": 340,
    "start_time": "2022-03-02T10:39:38.327Z"
   },
   {
    "duration": 266,
    "start_time": "2022-03-02T10:39:38.669Z"
   },
   {
    "duration": 275,
    "start_time": "2022-03-02T10:39:38.937Z"
   },
   {
    "duration": 8,
    "start_time": "2022-03-02T10:39:39.214Z"
   },
   {
    "duration": 106,
    "start_time": "2022-03-02T10:39:39.224Z"
   },
   {
    "duration": 70,
    "start_time": "2022-03-02T10:39:39.333Z"
   },
   {
    "duration": 61,
    "start_time": "2022-03-02T10:39:39.405Z"
   },
   {
    "duration": 39,
    "start_time": "2022-03-02T10:39:39.468Z"
   },
   {
    "duration": 12,
    "start_time": "2022-03-02T10:39:39.509Z"
   },
   {
    "duration": 44,
    "start_time": "2022-03-02T10:39:39.523Z"
   },
   {
    "duration": 8,
    "start_time": "2022-03-02T10:39:39.570Z"
   },
   {
    "duration": 7,
    "start_time": "2022-03-02T10:39:39.580Z"
   },
   {
    "duration": 7,
    "start_time": "2022-03-02T10:39:39.588Z"
   },
   {
    "duration": 412,
    "start_time": "2022-03-02T10:39:39.597Z"
   },
   {
    "duration": 7,
    "start_time": "2022-03-02T10:39:40.011Z"
   },
   {
    "duration": 387,
    "start_time": "2022-03-02T10:39:40.019Z"
   },
   {
    "duration": 11,
    "start_time": "2022-03-02T10:39:40.407Z"
   },
   {
    "duration": 13,
    "start_time": "2022-03-02T10:39:40.420Z"
   },
   {
    "duration": 34,
    "start_time": "2022-03-02T10:39:40.435Z"
   },
   {
    "duration": 7,
    "start_time": "2022-03-02T10:39:40.471Z"
   },
   {
    "duration": 8,
    "start_time": "2022-03-02T10:39:40.480Z"
   },
   {
    "duration": 636,
    "start_time": "2022-03-02T10:39:40.490Z"
   },
   {
    "duration": 8,
    "start_time": "2022-03-02T10:39:41.128Z"
   },
   {
    "duration": 597,
    "start_time": "2022-03-02T10:39:41.138Z"
   },
   {
    "duration": 12,
    "start_time": "2022-03-02T10:39:41.737Z"
   },
   {
    "duration": 13,
    "start_time": "2022-03-02T10:39:41.763Z"
   },
   {
    "duration": 8,
    "start_time": "2022-03-02T10:39:41.778Z"
   },
   {
    "duration": 7,
    "start_time": "2022-03-02T10:39:41.787Z"
   },
   {
    "duration": 6,
    "start_time": "2022-03-02T10:39:41.796Z"
   },
   {
    "duration": 485,
    "start_time": "2022-03-02T10:39:41.804Z"
   },
   {
    "duration": 7,
    "start_time": "2022-03-02T10:39:42.291Z"
   },
   {
    "duration": 579,
    "start_time": "2022-03-02T10:39:42.299Z"
   },
   {
    "duration": 10,
    "start_time": "2022-03-02T10:39:42.880Z"
   },
   {
    "duration": 24,
    "start_time": "2022-03-02T10:39:42.892Z"
   },
   {
    "duration": 10,
    "start_time": "2022-03-02T10:39:42.918Z"
   },
   {
    "duration": -30,
    "start_time": "2022-03-02T10:47:40.491Z"
   },
   {
    "duration": -34,
    "start_time": "2022-03-02T10:47:40.496Z"
   },
   {
    "duration": -42,
    "start_time": "2022-03-02T10:47:40.505Z"
   },
   {
    "duration": -45,
    "start_time": "2022-03-02T10:47:40.508Z"
   },
   {
    "duration": -46,
    "start_time": "2022-03-02T10:47:40.510Z"
   },
   {
    "duration": -49,
    "start_time": "2022-03-02T10:47:40.514Z"
   },
   {
    "duration": -50,
    "start_time": "2022-03-02T10:47:40.516Z"
   },
   {
    "duration": -51,
    "start_time": "2022-03-02T10:47:40.518Z"
   },
   {
    "duration": -52,
    "start_time": "2022-03-02T10:47:40.520Z"
   },
   {
    "duration": -53,
    "start_time": "2022-03-02T10:47:40.522Z"
   },
   {
    "duration": -55,
    "start_time": "2022-03-02T10:47:40.524Z"
   },
   {
    "duration": -56,
    "start_time": "2022-03-02T10:47:40.526Z"
   },
   {
    "duration": -57,
    "start_time": "2022-03-02T10:47:40.528Z"
   },
   {
    "duration": -58,
    "start_time": "2022-03-02T10:47:40.530Z"
   },
   {
    "duration": -58,
    "start_time": "2022-03-02T10:47:40.531Z"
   },
   {
    "duration": -59,
    "start_time": "2022-03-02T10:47:40.533Z"
   },
   {
    "duration": -60,
    "start_time": "2022-03-02T10:47:40.535Z"
   },
   {
    "duration": -60,
    "start_time": "2022-03-02T10:47:40.536Z"
   },
   {
    "duration": -61,
    "start_time": "2022-03-02T10:47:40.538Z"
   },
   {
    "duration": -62,
    "start_time": "2022-03-02T10:47:40.540Z"
   },
   {
    "duration": -62,
    "start_time": "2022-03-02T10:47:40.541Z"
   },
   {
    "duration": -64,
    "start_time": "2022-03-02T10:47:40.543Z"
   },
   {
    "duration": -64,
    "start_time": "2022-03-02T10:47:40.544Z"
   },
   {
    "duration": -70,
    "start_time": "2022-03-02T10:47:40.551Z"
   },
   {
    "duration": -70,
    "start_time": "2022-03-02T10:47:40.552Z"
   },
   {
    "duration": -71,
    "start_time": "2022-03-02T10:47:40.554Z"
   },
   {
    "duration": -72,
    "start_time": "2022-03-02T10:47:40.555Z"
   },
   {
    "duration": -72,
    "start_time": "2022-03-02T10:47:40.556Z"
   },
   {
    "duration": -73,
    "start_time": "2022-03-02T10:47:40.558Z"
   },
   {
    "duration": -73,
    "start_time": "2022-03-02T10:47:40.559Z"
   },
   {
    "duration": -73,
    "start_time": "2022-03-02T10:47:40.560Z"
   },
   {
    "duration": -74,
    "start_time": "2022-03-02T10:47:40.561Z"
   },
   {
    "duration": -74,
    "start_time": "2022-03-02T10:47:40.562Z"
   },
   {
    "duration": -74,
    "start_time": "2022-03-02T10:47:40.563Z"
   },
   {
    "duration": -75,
    "start_time": "2022-03-02T10:47:40.565Z"
   },
   {
    "duration": -75,
    "start_time": "2022-03-02T10:47:40.566Z"
   },
   {
    "duration": -75,
    "start_time": "2022-03-02T10:47:40.567Z"
   },
   {
    "duration": -75,
    "start_time": "2022-03-02T10:47:40.568Z"
   },
   {
    "duration": -76,
    "start_time": "2022-03-02T10:47:40.569Z"
   },
   {
    "duration": -76,
    "start_time": "2022-03-02T10:47:40.570Z"
   },
   {
    "duration": -76,
    "start_time": "2022-03-02T10:47:40.571Z"
   },
   {
    "duration": -76,
    "start_time": "2022-03-02T10:47:40.572Z"
   },
   {
    "duration": -76,
    "start_time": "2022-03-02T10:47:40.573Z"
   },
   {
    "duration": -77,
    "start_time": "2022-03-02T10:47:40.574Z"
   },
   {
    "duration": -77,
    "start_time": "2022-03-02T10:47:40.575Z"
   },
   {
    "duration": -77,
    "start_time": "2022-03-02T10:47:40.576Z"
   },
   {
    "duration": -77,
    "start_time": "2022-03-02T10:47:40.577Z"
   },
   {
    "duration": -78,
    "start_time": "2022-03-02T10:47:40.578Z"
   },
   {
    "duration": -78,
    "start_time": "2022-03-02T10:47:40.579Z"
   },
   {
    "duration": -78,
    "start_time": "2022-03-02T10:47:40.580Z"
   },
   {
    "duration": -78,
    "start_time": "2022-03-02T10:47:40.581Z"
   },
   {
    "duration": 3,
    "start_time": "2022-03-02T10:48:46.347Z"
   },
   {
    "duration": 184,
    "start_time": "2022-03-02T10:48:46.352Z"
   },
   {
    "duration": 30,
    "start_time": "2022-03-02T10:48:46.538Z"
   },
   {
    "duration": 26,
    "start_time": "2022-03-02T10:48:46.569Z"
   },
   {
    "duration": 155,
    "start_time": "2022-03-02T10:48:46.596Z"
   },
   {
    "duration": 21,
    "start_time": "2022-03-02T10:48:46.752Z"
   },
   {
    "duration": 27,
    "start_time": "2022-03-02T10:48:46.774Z"
   },
   {
    "duration": 104,
    "start_time": "2022-03-02T10:48:46.803Z"
   },
   {
    "duration": 14,
    "start_time": "2022-03-02T10:48:46.910Z"
   },
   {
    "duration": 36,
    "start_time": "2022-03-02T10:48:46.927Z"
   },
   {
    "duration": 16,
    "start_time": "2022-03-02T10:48:46.965Z"
   },
   {
    "duration": 9,
    "start_time": "2022-03-02T10:48:46.983Z"
   },
   {
    "duration": 27,
    "start_time": "2022-03-02T10:48:46.994Z"
   },
   {
    "duration": 21,
    "start_time": "2022-03-02T10:48:47.023Z"
   },
   {
    "duration": 20,
    "start_time": "2022-03-02T10:48:47.046Z"
   },
   {
    "duration": 31,
    "start_time": "2022-03-02T10:48:47.068Z"
   },
   {
    "duration": 316,
    "start_time": "2022-03-02T10:48:47.100Z"
   },
   {
    "duration": 409,
    "start_time": "2022-03-02T10:48:47.417Z"
   },
   {
    "duration": 36,
    "start_time": "2022-03-02T10:48:47.792Z"
   },
   {
    "duration": 35,
    "start_time": "2022-03-02T10:48:47.794Z"
   },
   {
    "duration": 34,
    "start_time": "2022-03-02T10:48:47.796Z"
   },
   {
    "duration": 32,
    "start_time": "2022-03-02T10:48:47.798Z"
   },
   {
    "duration": 31,
    "start_time": "2022-03-02T10:48:47.800Z"
   },
   {
    "duration": 30,
    "start_time": "2022-03-02T10:48:47.802Z"
   },
   {
    "duration": 30,
    "start_time": "2022-03-02T10:48:47.803Z"
   },
   {
    "duration": 28,
    "start_time": "2022-03-02T10:48:47.805Z"
   },
   {
    "duration": 27,
    "start_time": "2022-03-02T10:48:47.807Z"
   },
   {
    "duration": 27,
    "start_time": "2022-03-02T10:48:47.808Z"
   },
   {
    "duration": 26,
    "start_time": "2022-03-02T10:48:47.810Z"
   },
   {
    "duration": 25,
    "start_time": "2022-03-02T10:48:47.811Z"
   },
   {
    "duration": 25,
    "start_time": "2022-03-02T10:48:47.812Z"
   },
   {
    "duration": 24,
    "start_time": "2022-03-02T10:48:47.814Z"
   },
   {
    "duration": 23,
    "start_time": "2022-03-02T10:48:47.816Z"
   },
   {
    "duration": 22,
    "start_time": "2022-03-02T10:48:47.817Z"
   },
   {
    "duration": 22,
    "start_time": "2022-03-02T10:48:47.818Z"
   },
   {
    "duration": 16,
    "start_time": "2022-03-02T10:48:47.825Z"
   },
   {
    "duration": 15,
    "start_time": "2022-03-02T10:48:47.827Z"
   },
   {
    "duration": 15,
    "start_time": "2022-03-02T10:48:47.828Z"
   },
   {
    "duration": 15,
    "start_time": "2022-03-02T10:48:47.829Z"
   },
   {
    "duration": 14,
    "start_time": "2022-03-02T10:48:47.831Z"
   },
   {
    "duration": 14,
    "start_time": "2022-03-02T10:48:47.832Z"
   },
   {
    "duration": 12,
    "start_time": "2022-03-02T10:48:47.834Z"
   },
   {
    "duration": 12,
    "start_time": "2022-03-02T10:48:47.835Z"
   },
   {
    "duration": 12,
    "start_time": "2022-03-02T10:48:47.836Z"
   },
   {
    "duration": 12,
    "start_time": "2022-03-02T10:48:47.837Z"
   },
   {
    "duration": 12,
    "start_time": "2022-03-02T10:48:47.838Z"
   },
   {
    "duration": 12,
    "start_time": "2022-03-02T10:48:47.839Z"
   },
   {
    "duration": 11,
    "start_time": "2022-03-02T10:48:47.840Z"
   },
   {
    "duration": 11,
    "start_time": "2022-03-02T10:48:47.841Z"
   },
   {
    "duration": 11,
    "start_time": "2022-03-02T10:48:47.842Z"
   },
   {
    "duration": 10,
    "start_time": "2022-03-02T10:48:47.843Z"
   },
   {
    "duration": 385,
    "start_time": "2022-03-02T10:49:19.614Z"
   },
   {
    "duration": 234,
    "start_time": "2022-03-02T10:53:46.327Z"
   },
   {
    "duration": 76,
    "start_time": "2022-03-02T11:03:44.639Z"
   },
   {
    "duration": 211,
    "start_time": "2022-03-02T11:03:59.387Z"
   },
   {
    "duration": 3,
    "start_time": "2022-03-02T11:04:29.895Z"
   },
   {
    "duration": 175,
    "start_time": "2022-03-02T11:04:29.900Z"
   },
   {
    "duration": 22,
    "start_time": "2022-03-02T11:04:30.078Z"
   },
   {
    "duration": 29,
    "start_time": "2022-03-02T11:04:30.103Z"
   },
   {
    "duration": 145,
    "start_time": "2022-03-02T11:04:30.162Z"
   },
   {
    "duration": 19,
    "start_time": "2022-03-02T11:04:30.309Z"
   },
   {
    "duration": 44,
    "start_time": "2022-03-02T11:04:30.330Z"
   },
   {
    "duration": 96,
    "start_time": "2022-03-02T11:04:30.376Z"
   },
   {
    "duration": 15,
    "start_time": "2022-03-02T11:04:30.474Z"
   },
   {
    "duration": 12,
    "start_time": "2022-03-02T11:04:30.491Z"
   },
   {
    "duration": 14,
    "start_time": "2022-03-02T11:04:30.505Z"
   },
   {
    "duration": 7,
    "start_time": "2022-03-02T11:04:30.521Z"
   },
   {
    "duration": 49,
    "start_time": "2022-03-02T11:04:30.530Z"
   },
   {
    "duration": 19,
    "start_time": "2022-03-02T11:04:30.581Z"
   },
   {
    "duration": 12,
    "start_time": "2022-03-02T11:04:30.602Z"
   },
   {
    "duration": 20,
    "start_time": "2022-03-02T11:04:30.616Z"
   },
   {
    "duration": 327,
    "start_time": "2022-03-02T11:04:30.637Z"
   },
   {
    "duration": 263,
    "start_time": "2022-03-02T11:04:30.966Z"
   },
   {
    "duration": 227,
    "start_time": "2022-03-02T11:04:31.230Z"
   },
   {
    "duration": 9,
    "start_time": "2022-03-02T11:04:31.459Z"
   },
   {
    "duration": 109,
    "start_time": "2022-03-02T11:04:31.469Z"
   },
   {
    "duration": 62,
    "start_time": "2022-03-02T11:04:31.581Z"
   },
   {
    "duration": 69,
    "start_time": "2022-03-02T11:04:31.644Z"
   },
   {
    "duration": 52,
    "start_time": "2022-03-02T11:04:31.715Z"
   },
   {
    "duration": 15,
    "start_time": "2022-03-02T11:04:31.769Z"
   },
   {
    "duration": 75,
    "start_time": "2022-03-02T11:04:31.785Z"
   },
   {
    "duration": 23,
    "start_time": "2022-03-02T11:04:31.864Z"
   },
   {
    "duration": 23,
    "start_time": "2022-03-02T11:04:31.889Z"
   },
   {
    "duration": 12,
    "start_time": "2022-03-02T11:04:31.914Z"
   },
   {
    "duration": 398,
    "start_time": "2022-03-02T11:04:31.928Z"
   },
   {
    "duration": 6,
    "start_time": "2022-03-02T11:04:32.327Z"
   },
   {
    "duration": 368,
    "start_time": "2022-03-02T11:04:32.335Z"
   },
   {
    "duration": 9,
    "start_time": "2022-03-02T11:04:32.704Z"
   },
   {
    "duration": 30,
    "start_time": "2022-03-02T11:04:32.715Z"
   },
   {
    "duration": 11,
    "start_time": "2022-03-02T11:04:32.746Z"
   },
   {
    "duration": 10,
    "start_time": "2022-03-02T11:04:32.758Z"
   },
   {
    "duration": 7,
    "start_time": "2022-03-02T11:04:32.770Z"
   },
   {
    "duration": 378,
    "start_time": "2022-03-02T11:04:32.778Z"
   },
   {
    "duration": 9,
    "start_time": "2022-03-02T11:04:33.157Z"
   },
   {
    "duration": 443,
    "start_time": "2022-03-02T11:04:33.167Z"
   },
   {
    "duration": 9,
    "start_time": "2022-03-02T11:04:33.612Z"
   },
   {
    "duration": 8,
    "start_time": "2022-03-02T11:04:33.623Z"
   },
   {
    "duration": 35,
    "start_time": "2022-03-02T11:04:33.633Z"
   },
   {
    "duration": 6,
    "start_time": "2022-03-02T11:04:33.670Z"
   },
   {
    "duration": 8,
    "start_time": "2022-03-02T11:04:33.677Z"
   },
   {
    "duration": 384,
    "start_time": "2022-03-02T11:04:33.686Z"
   },
   {
    "duration": 6,
    "start_time": "2022-03-02T11:04:34.072Z"
   },
   {
    "duration": 364,
    "start_time": "2022-03-02T11:04:34.079Z"
   },
   {
    "duration": 23,
    "start_time": "2022-03-02T11:04:34.445Z"
   },
   {
    "duration": 23,
    "start_time": "2022-03-02T11:04:34.470Z"
   },
   {
    "duration": 11,
    "start_time": "2022-03-02T11:04:34.494Z"
   },
   {
    "duration": 3,
    "start_time": "2022-03-02T11:08:18.547Z"
   },
   {
    "duration": 185,
    "start_time": "2022-03-02T11:08:18.551Z"
   },
   {
    "duration": 25,
    "start_time": "2022-03-02T11:08:18.738Z"
   },
   {
    "duration": 41,
    "start_time": "2022-03-02T11:08:18.765Z"
   },
   {
    "duration": 132,
    "start_time": "2022-03-02T11:08:18.808Z"
   },
   {
    "duration": 21,
    "start_time": "2022-03-02T11:08:18.942Z"
   },
   {
    "duration": 41,
    "start_time": "2022-03-02T11:08:18.964Z"
   },
   {
    "duration": 95,
    "start_time": "2022-03-02T11:08:19.007Z"
   },
   {
    "duration": 16,
    "start_time": "2022-03-02T11:08:19.106Z"
   },
   {
    "duration": 26,
    "start_time": "2022-03-02T11:08:19.125Z"
   },
   {
    "duration": 41,
    "start_time": "2022-03-02T11:08:19.153Z"
   },
   {
    "duration": 6,
    "start_time": "2022-03-02T11:08:19.197Z"
   },
   {
    "duration": 48,
    "start_time": "2022-03-02T11:08:19.205Z"
   },
   {
    "duration": 50,
    "start_time": "2022-03-02T11:08:19.255Z"
   },
   {
    "duration": 26,
    "start_time": "2022-03-02T11:08:19.307Z"
   },
   {
    "duration": 40,
    "start_time": "2022-03-02T11:08:19.335Z"
   },
   {
    "duration": 321,
    "start_time": "2022-03-02T11:08:19.376Z"
   },
   {
    "duration": 232,
    "start_time": "2022-03-02T11:08:19.698Z"
   },
   {
    "duration": 211,
    "start_time": "2022-03-02T11:08:19.931Z"
   },
   {
    "duration": 9,
    "start_time": "2022-03-02T11:08:20.144Z"
   },
   {
    "duration": 105,
    "start_time": "2022-03-02T11:08:20.163Z"
   },
   {
    "duration": 58,
    "start_time": "2022-03-02T11:08:20.270Z"
   },
   {
    "duration": 64,
    "start_time": "2022-03-02T11:08:20.330Z"
   },
   {
    "duration": 39,
    "start_time": "2022-03-02T11:08:20.396Z"
   },
   {
    "duration": 31,
    "start_time": "2022-03-02T11:08:20.437Z"
   },
   {
    "duration": 22,
    "start_time": "2022-03-02T11:08:20.469Z"
   },
   {
    "duration": 18,
    "start_time": "2022-03-02T11:08:20.495Z"
   },
   {
    "duration": 41,
    "start_time": "2022-03-02T11:08:20.515Z"
   },
   {
    "duration": 24,
    "start_time": "2022-03-02T11:08:20.558Z"
   },
   {
    "duration": 394,
    "start_time": "2022-03-02T11:08:20.583Z"
   },
   {
    "duration": 6,
    "start_time": "2022-03-02T11:08:20.979Z"
   },
   {
    "duration": 384,
    "start_time": "2022-03-02T11:08:20.987Z"
   },
   {
    "duration": 10,
    "start_time": "2022-03-02T11:08:21.373Z"
   },
   {
    "duration": 30,
    "start_time": "2022-03-02T11:08:21.384Z"
   },
   {
    "duration": 19,
    "start_time": "2022-03-02T11:08:21.416Z"
   },
   {
    "duration": 32,
    "start_time": "2022-03-02T11:08:21.437Z"
   },
   {
    "duration": 25,
    "start_time": "2022-03-02T11:08:21.471Z"
   },
   {
    "duration": 368,
    "start_time": "2022-03-02T11:08:21.497Z"
   },
   {
    "duration": 6,
    "start_time": "2022-03-02T11:08:21.867Z"
   },
   {
    "duration": 459,
    "start_time": "2022-03-02T11:08:21.874Z"
   },
   {
    "duration": 10,
    "start_time": "2022-03-02T11:08:22.335Z"
   },
   {
    "duration": 44,
    "start_time": "2022-03-02T11:08:22.347Z"
   },
   {
    "duration": 15,
    "start_time": "2022-03-02T11:08:22.393Z"
   },
   {
    "duration": 42,
    "start_time": "2022-03-02T11:08:22.409Z"
   },
   {
    "duration": 19,
    "start_time": "2022-03-02T11:08:22.453Z"
   },
   {
    "duration": 392,
    "start_time": "2022-03-02T11:08:22.474Z"
   },
   {
    "duration": 6,
    "start_time": "2022-03-02T11:08:22.868Z"
   },
   {
    "duration": 384,
    "start_time": "2022-03-02T11:08:22.875Z"
   },
   {
    "duration": 10,
    "start_time": "2022-03-02T11:08:23.263Z"
   },
   {
    "duration": 45,
    "start_time": "2022-03-02T11:08:23.275Z"
   },
   {
    "duration": 11,
    "start_time": "2022-03-02T11:08:23.321Z"
   },
   {
    "duration": 37,
    "start_time": "2022-03-02T11:10:46.028Z"
   },
   {
    "duration": 3,
    "start_time": "2022-03-02T11:10:53.054Z"
   },
   {
    "duration": 188,
    "start_time": "2022-03-02T11:10:53.059Z"
   },
   {
    "duration": 30,
    "start_time": "2022-03-02T11:10:53.250Z"
   },
   {
    "duration": 30,
    "start_time": "2022-03-02T11:10:53.282Z"
   },
   {
    "duration": 139,
    "start_time": "2022-03-02T11:10:53.314Z"
   },
   {
    "duration": 18,
    "start_time": "2022-03-02T11:10:53.463Z"
   },
   {
    "duration": 48,
    "start_time": "2022-03-02T11:10:53.483Z"
   },
   {
    "duration": 108,
    "start_time": "2022-03-02T11:10:53.534Z"
   },
   {
    "duration": 23,
    "start_time": "2022-03-02T11:10:53.645Z"
   },
   {
    "duration": 27,
    "start_time": "2022-03-02T11:10:53.670Z"
   },
   {
    "duration": 13,
    "start_time": "2022-03-02T11:10:53.699Z"
   },
   {
    "duration": 10,
    "start_time": "2022-03-02T11:10:53.714Z"
   },
   {
    "duration": 27,
    "start_time": "2022-03-02T11:10:53.725Z"
   },
   {
    "duration": 19,
    "start_time": "2022-03-02T11:10:53.754Z"
   },
   {
    "duration": 7,
    "start_time": "2022-03-02T11:10:53.775Z"
   },
   {
    "duration": 22,
    "start_time": "2022-03-02T11:10:53.783Z"
   },
   {
    "duration": 325,
    "start_time": "2022-03-02T11:10:53.807Z"
   },
   {
    "duration": 253,
    "start_time": "2022-03-02T11:10:54.133Z"
   },
   {
    "duration": 211,
    "start_time": "2022-03-02T11:10:54.388Z"
   },
   {
    "duration": 9,
    "start_time": "2022-03-02T11:10:54.601Z"
   },
   {
    "duration": 100,
    "start_time": "2022-03-02T11:10:54.612Z"
   },
   {
    "duration": 64,
    "start_time": "2022-03-02T11:10:54.714Z"
   },
   {
    "duration": 52,
    "start_time": "2022-03-02T11:10:54.780Z"
   },
   {
    "duration": 53,
    "start_time": "2022-03-02T11:10:54.834Z"
   },
   {
    "duration": 9,
    "start_time": "2022-03-02T11:10:54.889Z"
   },
   {
    "duration": 12,
    "start_time": "2022-03-02T11:10:54.900Z"
   },
   {
    "duration": 8,
    "start_time": "2022-03-02T11:10:54.915Z"
   },
   {
    "duration": 42,
    "start_time": "2022-03-02T11:10:54.925Z"
   },
   {
    "duration": 6,
    "start_time": "2022-03-02T11:10:54.969Z"
   },
   {
    "duration": 387,
    "start_time": "2022-03-02T11:10:54.976Z"
   },
   {
    "duration": 7,
    "start_time": "2022-03-02T11:10:55.364Z"
   },
   {
    "duration": 368,
    "start_time": "2022-03-02T11:10:55.372Z"
   },
   {
    "duration": 22,
    "start_time": "2022-03-02T11:10:55.742Z"
   },
   {
    "duration": 10,
    "start_time": "2022-03-02T11:10:55.765Z"
   },
   {
    "duration": 7,
    "start_time": "2022-03-02T11:10:55.776Z"
   },
   {
    "duration": 9,
    "start_time": "2022-03-02T11:10:55.784Z"
   },
   {
    "duration": 10,
    "start_time": "2022-03-02T11:10:55.794Z"
   },
   {
    "duration": 516,
    "start_time": "2022-03-02T11:10:55.805Z"
   },
   {
    "duration": 6,
    "start_time": "2022-03-02T11:10:56.323Z"
   },
   {
    "duration": 361,
    "start_time": "2022-03-02T11:10:56.331Z"
   },
   {
    "duration": 10,
    "start_time": "2022-03-02T11:10:56.694Z"
   },
   {
    "duration": 13,
    "start_time": "2022-03-02T11:10:56.705Z"
   },
   {
    "duration": 7,
    "start_time": "2022-03-02T11:10:56.720Z"
   },
   {
    "duration": 40,
    "start_time": "2022-03-02T11:10:56.729Z"
   },
   {
    "duration": 6,
    "start_time": "2022-03-02T11:10:56.770Z"
   },
   {
    "duration": 370,
    "start_time": "2022-03-02T11:10:56.778Z"
   },
   {
    "duration": 14,
    "start_time": "2022-03-02T11:10:57.150Z"
   },
   {
    "duration": 376,
    "start_time": "2022-03-02T11:10:57.166Z"
   },
   {
    "duration": 22,
    "start_time": "2022-03-02T11:10:57.543Z"
   },
   {
    "duration": 24,
    "start_time": "2022-03-02T11:10:57.567Z"
   },
   {
    "duration": 12,
    "start_time": "2022-03-02T11:10:57.593Z"
   },
   {
    "duration": 192,
    "start_time": "2022-03-02T11:14:26.095Z"
   },
   {
    "duration": 3,
    "start_time": "2022-03-02T11:15:04.260Z"
   },
   {
    "duration": 181,
    "start_time": "2022-03-02T11:15:04.265Z"
   },
   {
    "duration": 25,
    "start_time": "2022-03-02T11:15:04.448Z"
   },
   {
    "duration": 43,
    "start_time": "2022-03-02T11:15:04.475Z"
   },
   {
    "duration": 139,
    "start_time": "2022-03-02T11:15:04.520Z"
   },
   {
    "duration": 17,
    "start_time": "2022-03-02T11:15:04.663Z"
   },
   {
    "duration": 54,
    "start_time": "2022-03-02T11:15:04.682Z"
   },
   {
    "duration": 94,
    "start_time": "2022-03-02T11:15:04.738Z"
   },
   {
    "duration": 15,
    "start_time": "2022-03-02T11:15:04.834Z"
   },
   {
    "duration": 15,
    "start_time": "2022-03-02T11:15:04.863Z"
   },
   {
    "duration": 19,
    "start_time": "2022-03-02T11:15:04.880Z"
   },
   {
    "duration": 16,
    "start_time": "2022-03-02T11:15:04.901Z"
   },
   {
    "duration": 42,
    "start_time": "2022-03-02T11:15:04.919Z"
   },
   {
    "duration": 50,
    "start_time": "2022-03-02T11:15:04.963Z"
   },
   {
    "duration": 8,
    "start_time": "2022-03-02T11:15:05.015Z"
   },
   {
    "duration": 28,
    "start_time": "2022-03-02T11:15:05.025Z"
   },
   {
    "duration": 328,
    "start_time": "2022-03-02T11:15:05.054Z"
   },
   {
    "duration": 261,
    "start_time": "2022-03-02T11:15:05.384Z"
   },
   {
    "duration": 218,
    "start_time": "2022-03-02T11:15:05.647Z"
   },
   {
    "duration": 9,
    "start_time": "2022-03-02T11:15:05.867Z"
   },
   {
    "duration": 100,
    "start_time": "2022-03-02T11:15:05.878Z"
   },
   {
    "duration": 60,
    "start_time": "2022-03-02T11:15:05.979Z"
   },
   {
    "duration": 67,
    "start_time": "2022-03-02T11:15:06.043Z"
   },
   {
    "duration": 51,
    "start_time": "2022-03-02T11:15:06.113Z"
   },
   {
    "duration": 12,
    "start_time": "2022-03-02T11:15:06.166Z"
   },
   {
    "duration": 10,
    "start_time": "2022-03-02T11:15:06.180Z"
   },
   {
    "duration": 9,
    "start_time": "2022-03-02T11:15:06.192Z"
   },
   {
    "duration": 8,
    "start_time": "2022-03-02T11:15:06.202Z"
   },
   {
    "duration": 55,
    "start_time": "2022-03-02T11:15:06.213Z"
   },
   {
    "duration": 393,
    "start_time": "2022-03-02T11:15:06.270Z"
   },
   {
    "duration": 8,
    "start_time": "2022-03-02T11:15:06.666Z"
   },
   {
    "duration": 611,
    "start_time": "2022-03-02T11:15:06.676Z"
   },
   {
    "duration": 14,
    "start_time": "2022-03-02T11:15:07.289Z"
   },
   {
    "duration": 12,
    "start_time": "2022-03-02T11:15:07.305Z"
   },
   {
    "duration": 9,
    "start_time": "2022-03-02T11:15:07.319Z"
   },
   {
    "duration": 8,
    "start_time": "2022-03-02T11:15:07.364Z"
   },
   {
    "duration": 7,
    "start_time": "2022-03-02T11:15:07.375Z"
   },
   {
    "duration": 779,
    "start_time": "2022-03-02T11:15:07.384Z"
   },
   {
    "duration": 6,
    "start_time": "2022-03-02T11:15:08.165Z"
   },
   {
    "duration": 371,
    "start_time": "2022-03-02T11:15:08.173Z"
   },
   {
    "duration": 20,
    "start_time": "2022-03-02T11:15:08.545Z"
   },
   {
    "duration": 10,
    "start_time": "2022-03-02T11:15:08.566Z"
   },
   {
    "duration": 8,
    "start_time": "2022-03-02T11:15:08.578Z"
   },
   {
    "duration": 6,
    "start_time": "2022-03-02T11:15:08.588Z"
   },
   {
    "duration": 6,
    "start_time": "2022-03-02T11:15:08.596Z"
   },
   {
    "duration": 436,
    "start_time": "2022-03-02T11:15:08.603Z"
   },
   {
    "duration": 6,
    "start_time": "2022-03-02T11:15:09.041Z"
   },
   {
    "duration": 378,
    "start_time": "2022-03-02T11:15:09.049Z"
   },
   {
    "duration": 12,
    "start_time": "2022-03-02T11:15:09.429Z"
   },
   {
    "duration": 46,
    "start_time": "2022-03-02T11:15:09.442Z"
   },
   {
    "duration": 11,
    "start_time": "2022-03-02T11:15:09.490Z"
   },
   {
    "duration": 198,
    "start_time": "2022-03-02T11:16:30.105Z"
   },
   {
    "duration": 3,
    "start_time": "2022-03-02T11:16:34.576Z"
   },
   {
    "duration": 157,
    "start_time": "2022-03-02T11:16:34.580Z"
   },
   {
    "duration": 25,
    "start_time": "2022-03-02T11:16:34.739Z"
   },
   {
    "duration": 25,
    "start_time": "2022-03-02T11:16:34.765Z"
   },
   {
    "duration": 135,
    "start_time": "2022-03-02T11:16:34.792Z"
   },
   {
    "duration": 15,
    "start_time": "2022-03-02T11:16:34.929Z"
   },
   {
    "duration": 39,
    "start_time": "2022-03-02T11:16:34.946Z"
   },
   {
    "duration": 92,
    "start_time": "2022-03-02T11:16:34.987Z"
   },
   {
    "duration": 14,
    "start_time": "2022-03-02T11:16:35.081Z"
   },
   {
    "duration": 13,
    "start_time": "2022-03-02T11:16:35.097Z"
   },
   {
    "duration": 13,
    "start_time": "2022-03-02T11:16:35.112Z"
   },
   {
    "duration": 7,
    "start_time": "2022-03-02T11:16:35.127Z"
   },
   {
    "duration": 45,
    "start_time": "2022-03-02T11:16:35.136Z"
   },
   {
    "duration": 20,
    "start_time": "2022-03-02T11:16:35.182Z"
   },
   {
    "duration": 8,
    "start_time": "2022-03-02T11:16:35.204Z"
   },
   {
    "duration": 15,
    "start_time": "2022-03-02T11:16:35.214Z"
   },
   {
    "duration": 318,
    "start_time": "2022-03-02T11:16:35.230Z"
   },
   {
    "duration": 238,
    "start_time": "2022-03-02T11:16:35.550Z"
   },
   {
    "duration": 216,
    "start_time": "2022-03-02T11:16:35.790Z"
   },
   {
    "duration": 9,
    "start_time": "2022-03-02T11:16:36.007Z"
   },
   {
    "duration": 102,
    "start_time": "2022-03-02T11:16:36.018Z"
   },
   {
    "duration": 69,
    "start_time": "2022-03-02T11:16:36.122Z"
   },
   {
    "duration": 51,
    "start_time": "2022-03-02T11:16:36.195Z"
   },
   {
    "duration": 47,
    "start_time": "2022-03-02T11:16:36.248Z"
   },
   {
    "duration": 9,
    "start_time": "2022-03-02T11:16:36.296Z"
   },
   {
    "duration": 9,
    "start_time": "2022-03-02T11:16:36.307Z"
   },
   {
    "duration": 6,
    "start_time": "2022-03-02T11:16:36.317Z"
   },
   {
    "duration": 42,
    "start_time": "2022-03-02T11:16:36.325Z"
   },
   {
    "duration": 6,
    "start_time": "2022-03-02T11:16:36.368Z"
   },
   {
    "duration": 371,
    "start_time": "2022-03-02T11:16:36.375Z"
   },
   {
    "duration": 6,
    "start_time": "2022-03-02T11:16:36.748Z"
   },
   {
    "duration": 458,
    "start_time": "2022-03-02T11:16:36.763Z"
   },
   {
    "duration": 10,
    "start_time": "2022-03-02T11:16:37.223Z"
   },
   {
    "duration": 32,
    "start_time": "2022-03-02T11:16:37.234Z"
   },
   {
    "duration": 7,
    "start_time": "2022-03-02T11:16:37.267Z"
   },
   {
    "duration": 6,
    "start_time": "2022-03-02T11:16:37.276Z"
   },
   {
    "duration": 5,
    "start_time": "2022-03-02T11:16:37.283Z"
   },
   {
    "duration": 400,
    "start_time": "2022-03-02T11:16:37.290Z"
   },
   {
    "duration": 6,
    "start_time": "2022-03-02T11:16:37.692Z"
   },
   {
    "duration": 357,
    "start_time": "2022-03-02T11:16:37.700Z"
   },
   {
    "duration": 13,
    "start_time": "2022-03-02T11:16:38.058Z"
   },
   {
    "duration": 12,
    "start_time": "2022-03-02T11:16:38.073Z"
   },
   {
    "duration": 7,
    "start_time": "2022-03-02T11:16:38.086Z"
   },
   {
    "duration": 6,
    "start_time": "2022-03-02T11:16:38.095Z"
   },
   {
    "duration": 5,
    "start_time": "2022-03-02T11:16:38.103Z"
   },
   {
    "duration": 408,
    "start_time": "2022-03-02T11:16:38.110Z"
   },
   {
    "duration": 7,
    "start_time": "2022-03-02T11:16:38.520Z"
   },
   {
    "duration": 346,
    "start_time": "2022-03-02T11:16:38.529Z"
   },
   {
    "duration": 10,
    "start_time": "2022-03-02T11:16:38.877Z"
   },
   {
    "duration": 24,
    "start_time": "2022-03-02T11:16:38.888Z"
   },
   {
    "duration": 10,
    "start_time": "2022-03-02T11:16:38.913Z"
   },
   {
    "duration": 3,
    "start_time": "2022-03-02T11:17:22.982Z"
   },
   {
    "duration": 176,
    "start_time": "2022-03-02T11:17:22.987Z"
   },
   {
    "duration": 20,
    "start_time": "2022-03-02T11:17:23.165Z"
   },
   {
    "duration": 40,
    "start_time": "2022-03-02T11:17:23.188Z"
   },
   {
    "duration": 157,
    "start_time": "2022-03-02T11:17:23.230Z"
   },
   {
    "duration": 16,
    "start_time": "2022-03-02T11:17:23.389Z"
   },
   {
    "duration": 32,
    "start_time": "2022-03-02T11:17:23.407Z"
   },
   {
    "duration": 103,
    "start_time": "2022-03-02T11:17:23.440Z"
   },
   {
    "duration": 19,
    "start_time": "2022-03-02T11:17:23.545Z"
   },
   {
    "duration": 17,
    "start_time": "2022-03-02T11:17:23.566Z"
   },
   {
    "duration": 13,
    "start_time": "2022-03-02T11:17:23.585Z"
   },
   {
    "duration": 15,
    "start_time": "2022-03-02T11:17:23.600Z"
   },
   {
    "duration": 49,
    "start_time": "2022-03-02T11:17:23.616Z"
   },
   {
    "duration": 21,
    "start_time": "2022-03-02T11:17:23.666Z"
   },
   {
    "duration": 12,
    "start_time": "2022-03-02T11:17:23.689Z"
   },
   {
    "duration": 22,
    "start_time": "2022-03-02T11:17:23.703Z"
   },
   {
    "duration": 341,
    "start_time": "2022-03-02T11:17:23.726Z"
   },
   {
    "duration": 261,
    "start_time": "2022-03-02T11:17:24.068Z"
   },
   {
    "duration": 218,
    "start_time": "2022-03-02T11:17:24.331Z"
   },
   {
    "duration": 14,
    "start_time": "2022-03-02T11:17:24.551Z"
   },
   {
    "duration": 101,
    "start_time": "2022-03-02T11:17:24.567Z"
   },
   {
    "duration": 56,
    "start_time": "2022-03-02T11:17:24.670Z"
   },
   {
    "duration": 69,
    "start_time": "2022-03-02T11:17:24.728Z"
   },
   {
    "duration": 38,
    "start_time": "2022-03-02T11:17:24.799Z"
   },
   {
    "duration": 27,
    "start_time": "2022-03-02T11:17:24.838Z"
   },
   {
    "duration": 11,
    "start_time": "2022-03-02T11:17:24.867Z"
   },
   {
    "duration": 7,
    "start_time": "2022-03-02T11:17:24.884Z"
   },
   {
    "duration": 13,
    "start_time": "2022-03-02T11:17:24.893Z"
   },
   {
    "duration": 15,
    "start_time": "2022-03-02T11:17:24.908Z"
   },
   {
    "duration": 395,
    "start_time": "2022-03-02T11:17:24.925Z"
   },
   {
    "duration": 6,
    "start_time": "2022-03-02T11:17:25.322Z"
   },
   {
    "duration": 466,
    "start_time": "2022-03-02T11:17:25.329Z"
   },
   {
    "duration": 9,
    "start_time": "2022-03-02T11:17:25.797Z"
   },
   {
    "duration": 10,
    "start_time": "2022-03-02T11:17:25.808Z"
   },
   {
    "duration": 7,
    "start_time": "2022-03-02T11:17:25.820Z"
   },
   {
    "duration": 7,
    "start_time": "2022-03-02T11:17:25.863Z"
   },
   {
    "duration": 6,
    "start_time": "2022-03-02T11:17:25.872Z"
   },
   {
    "duration": 386,
    "start_time": "2022-03-02T11:17:25.880Z"
   },
   {
    "duration": 6,
    "start_time": "2022-03-02T11:17:26.268Z"
   },
   {
    "duration": 354,
    "start_time": "2022-03-02T11:17:26.276Z"
   },
   {
    "duration": 9,
    "start_time": "2022-03-02T11:17:26.632Z"
   },
   {
    "duration": 25,
    "start_time": "2022-03-02T11:17:26.642Z"
   },
   {
    "duration": 6,
    "start_time": "2022-03-02T11:17:26.669Z"
   },
   {
    "duration": 6,
    "start_time": "2022-03-02T11:17:26.677Z"
   },
   {
    "duration": 5,
    "start_time": "2022-03-02T11:17:26.685Z"
   },
   {
    "duration": 387,
    "start_time": "2022-03-02T11:17:26.692Z"
   },
   {
    "duration": 6,
    "start_time": "2022-03-02T11:17:27.080Z"
   },
   {
    "duration": 351,
    "start_time": "2022-03-02T11:17:27.088Z"
   },
   {
    "duration": 22,
    "start_time": "2022-03-02T11:17:27.441Z"
   },
   {
    "duration": 21,
    "start_time": "2022-03-02T11:17:27.464Z"
   },
   {
    "duration": 10,
    "start_time": "2022-03-02T11:17:27.487Z"
   },
   {
    "duration": 684,
    "start_time": "2022-03-02T11:26:00.722Z"
   },
   {
    "duration": 373,
    "start_time": "2022-03-02T11:29:04.993Z"
   },
   {
    "duration": 398,
    "start_time": "2022-03-02T11:31:48.507Z"
   },
   {
    "duration": 376,
    "start_time": "2022-03-02T11:32:25.461Z"
   },
   {
    "duration": 386,
    "start_time": "2022-03-02T11:33:46.104Z"
   },
   {
    "duration": 350,
    "start_time": "2022-03-02T11:34:10.602Z"
   },
   {
    "duration": 540,
    "start_time": "2022-03-02T11:35:09.833Z"
   },
   {
    "duration": 384,
    "start_time": "2022-03-02T11:35:31.453Z"
   },
   {
    "duration": 4,
    "start_time": "2022-03-02T11:35:34.253Z"
   },
   {
    "duration": 179,
    "start_time": "2022-03-02T11:35:34.260Z"
   },
   {
    "duration": 29,
    "start_time": "2022-03-02T11:35:34.442Z"
   },
   {
    "duration": 34,
    "start_time": "2022-03-02T11:35:34.473Z"
   },
   {
    "duration": 143,
    "start_time": "2022-03-02T11:35:34.509Z"
   },
   {
    "duration": 23,
    "start_time": "2022-03-02T11:35:34.654Z"
   },
   {
    "duration": 27,
    "start_time": "2022-03-02T11:35:34.679Z"
   },
   {
    "duration": 102,
    "start_time": "2022-03-02T11:35:34.708Z"
   },
   {
    "duration": 14,
    "start_time": "2022-03-02T11:35:34.813Z"
   },
   {
    "duration": 16,
    "start_time": "2022-03-02T11:35:34.830Z"
   },
   {
    "duration": 21,
    "start_time": "2022-03-02T11:35:34.848Z"
   },
   {
    "duration": 14,
    "start_time": "2022-03-02T11:35:34.871Z"
   },
   {
    "duration": 32,
    "start_time": "2022-03-02T11:35:34.886Z"
   },
   {
    "duration": 19,
    "start_time": "2022-03-02T11:35:34.919Z"
   },
   {
    "duration": 9,
    "start_time": "2022-03-02T11:35:34.940Z"
   },
   {
    "duration": 23,
    "start_time": "2022-03-02T11:35:34.950Z"
   },
   {
    "duration": 324,
    "start_time": "2022-03-02T11:35:34.975Z"
   },
   {
    "duration": 236,
    "start_time": "2022-03-02T11:35:35.300Z"
   },
   {
    "duration": 203,
    "start_time": "2022-03-02T11:35:35.538Z"
   },
   {
    "duration": 8,
    "start_time": "2022-03-02T11:35:35.743Z"
   },
   {
    "duration": 89,
    "start_time": "2022-03-02T11:35:35.763Z"
   },
   {
    "duration": 62,
    "start_time": "2022-03-02T11:35:35.854Z"
   },
   {
    "duration": 73,
    "start_time": "2022-03-02T11:35:35.918Z"
   },
   {
    "duration": 37,
    "start_time": "2022-03-02T11:35:35.992Z"
   },
   {
    "duration": 10,
    "start_time": "2022-03-02T11:35:36.031Z"
   },
   {
    "duration": 28,
    "start_time": "2022-03-02T11:35:36.042Z"
   },
   {
    "duration": 30,
    "start_time": "2022-03-02T11:35:36.073Z"
   },
   {
    "duration": 16,
    "start_time": "2022-03-02T11:35:36.105Z"
   },
   {
    "duration": 30,
    "start_time": "2022-03-02T11:35:36.123Z"
   },
   {
    "duration": 379,
    "start_time": "2022-03-02T11:35:36.155Z"
   },
   {
    "duration": 7,
    "start_time": "2022-03-02T11:35:36.536Z"
   },
   {
    "duration": 376,
    "start_time": "2022-03-02T11:35:36.545Z"
   },
   {
    "duration": 11,
    "start_time": "2022-03-02T11:35:36.923Z"
   },
   {
    "duration": 29,
    "start_time": "2022-03-02T11:35:36.936Z"
   },
   {
    "duration": 7,
    "start_time": "2022-03-02T11:35:36.966Z"
   },
   {
    "duration": 7,
    "start_time": "2022-03-02T11:35:36.974Z"
   },
   {
    "duration": 8,
    "start_time": "2022-03-02T11:35:36.982Z"
   },
   {
    "duration": 415,
    "start_time": "2022-03-02T11:35:36.992Z"
   },
   {
    "duration": 6,
    "start_time": "2022-03-02T11:35:37.408Z"
   },
   {
    "duration": 461,
    "start_time": "2022-03-02T11:35:37.416Z"
   },
   {
    "duration": 11,
    "start_time": "2022-03-02T11:35:37.878Z"
   },
   {
    "duration": 15,
    "start_time": "2022-03-02T11:35:37.890Z"
   },
   {
    "duration": 16,
    "start_time": "2022-03-02T11:35:37.907Z"
   },
   {
    "duration": 11,
    "start_time": "2022-03-02T11:35:37.924Z"
   },
   {
    "duration": 31,
    "start_time": "2022-03-02T11:35:37.936Z"
   },
   {
    "duration": 384,
    "start_time": "2022-03-02T11:35:37.969Z"
   },
   {
    "duration": 11,
    "start_time": "2022-03-02T11:35:38.355Z"
   },
   {
    "duration": 377,
    "start_time": "2022-03-02T11:35:38.368Z"
   },
   {
    "duration": 21,
    "start_time": "2022-03-02T11:35:38.747Z"
   },
   {
    "duration": 23,
    "start_time": "2022-03-02T11:35:38.769Z"
   },
   {
    "duration": 10,
    "start_time": "2022-03-02T11:35:38.794Z"
   },
   {
    "duration": 3,
    "start_time": "2022-03-02T11:40:22.840Z"
   },
   {
    "duration": 169,
    "start_time": "2022-03-02T11:40:22.845Z"
   },
   {
    "duration": 21,
    "start_time": "2022-03-02T11:40:23.017Z"
   },
   {
    "duration": 45,
    "start_time": "2022-03-02T11:40:23.040Z"
   },
   {
    "duration": 146,
    "start_time": "2022-03-02T11:40:23.086Z"
   },
   {
    "duration": 16,
    "start_time": "2022-03-02T11:40:23.234Z"
   },
   {
    "duration": 42,
    "start_time": "2022-03-02T11:40:23.252Z"
   },
   {
    "duration": 99,
    "start_time": "2022-03-02T11:40:23.295Z"
   },
   {
    "duration": 14,
    "start_time": "2022-03-02T11:40:23.397Z"
   },
   {
    "duration": 14,
    "start_time": "2022-03-02T11:40:23.413Z"
   },
   {
    "duration": 15,
    "start_time": "2022-03-02T11:40:23.428Z"
   },
   {
    "duration": 28,
    "start_time": "2022-03-02T11:40:23.444Z"
   },
   {
    "duration": 30,
    "start_time": "2022-03-02T11:40:23.477Z"
   },
   {
    "duration": 19,
    "start_time": "2022-03-02T11:40:23.508Z"
   },
   {
    "duration": 5,
    "start_time": "2022-03-02T11:40:23.529Z"
   },
   {
    "duration": 28,
    "start_time": "2022-03-02T11:40:23.536Z"
   },
   {
    "duration": 335,
    "start_time": "2022-03-02T11:40:23.567Z"
   },
   {
    "duration": 291,
    "start_time": "2022-03-02T11:40:23.904Z"
   },
   {
    "duration": 226,
    "start_time": "2022-03-02T11:40:24.197Z"
   },
   {
    "duration": 10,
    "start_time": "2022-03-02T11:40:24.425Z"
   },
   {
    "duration": 116,
    "start_time": "2022-03-02T11:40:24.437Z"
   },
   {
    "duration": 66,
    "start_time": "2022-03-02T11:40:24.555Z"
   },
   {
    "duration": 71,
    "start_time": "2022-03-02T11:40:24.623Z"
   },
   {
    "duration": 39,
    "start_time": "2022-03-02T11:40:24.696Z"
   },
   {
    "duration": 29,
    "start_time": "2022-03-02T11:40:24.736Z"
   },
   {
    "duration": 14,
    "start_time": "2022-03-02T11:40:24.768Z"
   },
   {
    "duration": 9,
    "start_time": "2022-03-02T11:40:24.786Z"
   },
   {
    "duration": 7,
    "start_time": "2022-03-02T11:40:24.797Z"
   },
   {
    "duration": 6,
    "start_time": "2022-03-02T11:40:24.805Z"
   },
   {
    "duration": 465,
    "start_time": "2022-03-02T11:40:24.812Z"
   },
   {
    "duration": 6,
    "start_time": "2022-03-02T11:40:25.278Z"
   },
   {
    "duration": 410,
    "start_time": "2022-03-02T11:40:25.286Z"
   },
   {
    "duration": 11,
    "start_time": "2022-03-02T11:40:25.697Z"
   },
   {
    "duration": 12,
    "start_time": "2022-03-02T11:40:25.709Z"
   },
   {
    "duration": 8,
    "start_time": "2022-03-02T11:40:25.722Z"
   },
   {
    "duration": 11,
    "start_time": "2022-03-02T11:40:25.764Z"
   },
   {
    "duration": 14,
    "start_time": "2022-03-02T11:40:25.777Z"
   },
   {
    "duration": 427,
    "start_time": "2022-03-02T11:40:25.792Z"
   },
   {
    "duration": 6,
    "start_time": "2022-03-02T11:40:26.221Z"
   },
   {
    "duration": 497,
    "start_time": "2022-03-02T11:40:26.229Z"
   },
   {
    "duration": 11,
    "start_time": "2022-03-02T11:40:26.728Z"
   },
   {
    "duration": 36,
    "start_time": "2022-03-02T11:40:26.741Z"
   },
   {
    "duration": 6,
    "start_time": "2022-03-02T11:40:26.779Z"
   },
   {
    "duration": 8,
    "start_time": "2022-03-02T11:40:26.787Z"
   },
   {
    "duration": 6,
    "start_time": "2022-03-02T11:40:26.797Z"
   },
   {
    "duration": 438,
    "start_time": "2022-03-02T11:40:26.804Z"
   },
   {
    "duration": 6,
    "start_time": "2022-03-02T11:40:27.244Z"
   },
   {
    "duration": 400,
    "start_time": "2022-03-02T11:40:27.251Z"
   },
   {
    "duration": 17,
    "start_time": "2022-03-02T11:40:27.653Z"
   },
   {
    "duration": 33,
    "start_time": "2022-03-02T11:40:27.672Z"
   },
   {
    "duration": 10,
    "start_time": "2022-03-02T11:40:27.707Z"
   },
   {
    "duration": 1314,
    "start_time": "2022-03-03T07:32:59.711Z"
   },
   {
    "duration": 218,
    "start_time": "2022-03-03T07:33:01.028Z"
   },
   {
    "duration": 43,
    "start_time": "2022-03-03T07:33:01.250Z"
   },
   {
    "duration": 75,
    "start_time": "2022-03-03T07:33:01.296Z"
   },
   {
    "duration": 181,
    "start_time": "2022-03-03T07:33:01.374Z"
   },
   {
    "duration": 28,
    "start_time": "2022-03-03T07:33:01.558Z"
   },
   {
    "duration": 51,
    "start_time": "2022-03-03T07:33:01.589Z"
   },
   {
    "duration": 122,
    "start_time": "2022-03-03T07:33:01.644Z"
   },
   {
    "duration": 21,
    "start_time": "2022-03-03T07:33:01.769Z"
   },
   {
    "duration": 51,
    "start_time": "2022-03-03T07:33:01.793Z"
   },
   {
    "duration": 34,
    "start_time": "2022-03-03T07:33:01.847Z"
   },
   {
    "duration": 36,
    "start_time": "2022-03-03T07:33:01.884Z"
   },
   {
    "duration": 74,
    "start_time": "2022-03-03T07:33:01.923Z"
   },
   {
    "duration": 39,
    "start_time": "2022-03-03T07:33:02.000Z"
   },
   {
    "duration": 39,
    "start_time": "2022-03-03T07:33:02.042Z"
   },
   {
    "duration": 54,
    "start_time": "2022-03-03T07:33:02.083Z"
   },
   {
    "duration": 483,
    "start_time": "2022-03-03T07:33:02.139Z"
   },
   {
    "duration": 360,
    "start_time": "2022-03-03T07:33:02.624Z"
   },
   {
    "duration": 302,
    "start_time": "2022-03-03T07:33:02.986Z"
   },
   {
    "duration": 14,
    "start_time": "2022-03-03T07:33:03.290Z"
   },
   {
    "duration": 148,
    "start_time": "2022-03-03T07:33:03.307Z"
   },
   {
    "duration": 95,
    "start_time": "2022-03-03T07:33:03.457Z"
   },
   {
    "duration": 88,
    "start_time": "2022-03-03T07:33:03.557Z"
   },
   {
    "duration": 67,
    "start_time": "2022-03-03T07:33:03.648Z"
   },
   {
    "duration": 14,
    "start_time": "2022-03-03T07:33:03.717Z"
   },
   {
    "duration": 48,
    "start_time": "2022-03-03T07:33:03.734Z"
   },
   {
    "duration": 25,
    "start_time": "2022-03-03T07:33:03.784Z"
   },
   {
    "duration": 28,
    "start_time": "2022-03-03T07:33:03.811Z"
   },
   {
    "duration": 36,
    "start_time": "2022-03-03T07:33:03.841Z"
   },
   {
    "duration": 673,
    "start_time": "2022-03-03T07:33:03.879Z"
   },
   {
    "duration": 8,
    "start_time": "2022-03-03T07:33:04.555Z"
   },
   {
    "duration": 741,
    "start_time": "2022-03-03T07:33:04.582Z"
   },
   {
    "duration": 19,
    "start_time": "2022-03-03T07:33:05.326Z"
   },
   {
    "duration": 45,
    "start_time": "2022-03-03T07:33:05.348Z"
   },
   {
    "duration": 15,
    "start_time": "2022-03-03T07:33:05.396Z"
   },
   {
    "duration": 23,
    "start_time": "2022-03-03T07:33:05.414Z"
   },
   {
    "duration": 46,
    "start_time": "2022-03-03T07:33:05.440Z"
   },
   {
    "duration": 644,
    "start_time": "2022-03-03T07:33:05.489Z"
   },
   {
    "duration": 9,
    "start_time": "2022-03-03T07:33:06.136Z"
   },
   {
    "duration": 626,
    "start_time": "2022-03-03T07:33:06.148Z"
   },
   {
    "duration": 15,
    "start_time": "2022-03-03T07:33:06.781Z"
   },
   {
    "duration": 14,
    "start_time": "2022-03-03T07:33:06.798Z"
   },
   {
    "duration": 16,
    "start_time": "2022-03-03T07:33:06.815Z"
   },
   {
    "duration": 55,
    "start_time": "2022-03-03T07:33:06.833Z"
   },
   {
    "duration": 9,
    "start_time": "2022-03-03T07:33:06.891Z"
   },
   {
    "duration": 733,
    "start_time": "2022-03-03T07:33:06.903Z"
   },
   {
    "duration": 10,
    "start_time": "2022-03-03T07:33:07.639Z"
   },
   {
    "duration": 631,
    "start_time": "2022-03-03T07:33:07.652Z"
   },
   {
    "duration": 16,
    "start_time": "2022-03-03T07:33:08.285Z"
   },
   {
    "duration": 56,
    "start_time": "2022-03-03T07:33:08.304Z"
   },
   {
    "duration": 29,
    "start_time": "2022-03-03T07:33:08.362Z"
   }
  ],
  "kernelspec": {
   "display_name": "Python 3 (ipykernel)",
   "language": "python",
   "name": "python3"
  },
  "language_info": {
   "codemirror_mode": {
    "name": "ipython",
    "version": 3
   },
   "file_extension": ".py",
   "mimetype": "text/x-python",
   "name": "python",
   "nbconvert_exporter": "python",
   "pygments_lexer": "ipython3",
   "version": "3.9.5"
  },
  "toc": {
   "base_numbering": 1,
   "nav_menu": {},
   "number_sections": true,
   "sideBar": true,
   "skip_h1_title": true,
   "title_cell": "Table of Contents",
   "title_sidebar": "Contents",
   "toc_cell": false,
   "toc_position": {},
   "toc_section_display": true,
   "toc_window_display": false
  }
 },
 "nbformat": 4,
 "nbformat_minor": 2
}
