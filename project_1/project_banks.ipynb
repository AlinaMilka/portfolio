{
 "cells": [
  {
   "cell_type": "markdown",
   "metadata": {},
   "source": [
    "# Исследование надёжности заёмщиков"
   ]
  },
  {
   "cell_type": "markdown",
   "metadata": {},
   "source": [
    "## Шаг 1. Откройте файл с данными и изучите общую информацию"
   ]
  },
  {
   "cell_type": "code",
   "execution_count": 1,
   "metadata": {},
   "outputs": [
    {
     "name": "stdout",
     "output_type": "stream",
     "text": [
      "<class 'pandas.core.frame.DataFrame'>\n",
      "RangeIndex: 21525 entries, 0 to 21524\n",
      "Data columns (total 12 columns):\n",
      " #   Column            Non-Null Count  Dtype  \n",
      "---  ------            --------------  -----  \n",
      " 0   children          21525 non-null  int64  \n",
      " 1   days_employed     19351 non-null  float64\n",
      " 2   dob_years         21525 non-null  int64  \n",
      " 3   education         21525 non-null  object \n",
      " 4   education_id      21525 non-null  int64  \n",
      " 5   family_status     21525 non-null  object \n",
      " 6   family_status_id  21525 non-null  int64  \n",
      " 7   gender            21525 non-null  object \n",
      " 8   income_type       21525 non-null  object \n",
      " 9   debt              21525 non-null  int64  \n",
      " 10  total_income      19351 non-null  float64\n",
      " 11  purpose           21525 non-null  object \n",
      "dtypes: float64(2), int64(5), object(5)\n",
      "memory usage: 2.0+ MB\n"
     ]
    }
   ],
   "source": [
    "import pandas as pd\n",
    "data = pd.read_csv('/datasets/data.csv')\n",
    "data.info()"
   ]
  },
  {
   "cell_type": "code",
   "execution_count": 2,
   "metadata": {},
   "outputs": [
    {
     "data": {
      "text/plain": [
       "children               0\n",
       "days_employed       2174\n",
       "dob_years              0\n",
       "education              0\n",
       "education_id           0\n",
       "family_status          0\n",
       "family_status_id       0\n",
       "gender                 0\n",
       "income_type            0\n",
       "debt                   0\n",
       "total_income        2174\n",
       "purpose                0\n",
       "dtype: int64"
      ]
     },
     "execution_count": 2,
     "metadata": {},
     "output_type": "execute_result"
    }
   ],
   "source": [
    "data.isna().sum()"
   ]
  },
  {
   "cell_type": "code",
   "execution_count": 3,
   "metadata": {},
   "outputs": [
    {
     "data": {
      "text/html": [
       "<div>\n",
       "<style scoped>\n",
       "    .dataframe tbody tr th:only-of-type {\n",
       "        vertical-align: middle;\n",
       "    }\n",
       "\n",
       "    .dataframe tbody tr th {\n",
       "        vertical-align: top;\n",
       "    }\n",
       "\n",
       "    .dataframe thead th {\n",
       "        text-align: right;\n",
       "    }\n",
       "</style>\n",
       "<table border=\"1\" class=\"dataframe\">\n",
       "  <thead>\n",
       "    <tr style=\"text-align: right;\">\n",
       "      <th></th>\n",
       "      <th>children</th>\n",
       "      <th>days_employed</th>\n",
       "      <th>dob_years</th>\n",
       "      <th>education_id</th>\n",
       "      <th>family_status_id</th>\n",
       "      <th>debt</th>\n",
       "      <th>total_income</th>\n",
       "    </tr>\n",
       "  </thead>\n",
       "  <tbody>\n",
       "    <tr>\n",
       "      <td>count</td>\n",
       "      <td>21525.000000</td>\n",
       "      <td>19351.000000</td>\n",
       "      <td>21525.000000</td>\n",
       "      <td>21525.000000</td>\n",
       "      <td>21525.000000</td>\n",
       "      <td>21525.000000</td>\n",
       "      <td>1.935100e+04</td>\n",
       "    </tr>\n",
       "    <tr>\n",
       "      <td>mean</td>\n",
       "      <td>0.538908</td>\n",
       "      <td>63046.497661</td>\n",
       "      <td>43.293380</td>\n",
       "      <td>0.817236</td>\n",
       "      <td>0.972544</td>\n",
       "      <td>0.080883</td>\n",
       "      <td>1.674223e+05</td>\n",
       "    </tr>\n",
       "    <tr>\n",
       "      <td>std</td>\n",
       "      <td>1.381587</td>\n",
       "      <td>140827.311974</td>\n",
       "      <td>12.574584</td>\n",
       "      <td>0.548138</td>\n",
       "      <td>1.420324</td>\n",
       "      <td>0.272661</td>\n",
       "      <td>1.029716e+05</td>\n",
       "    </tr>\n",
       "    <tr>\n",
       "      <td>min</td>\n",
       "      <td>-1.000000</td>\n",
       "      <td>-18388.949901</td>\n",
       "      <td>0.000000</td>\n",
       "      <td>0.000000</td>\n",
       "      <td>0.000000</td>\n",
       "      <td>0.000000</td>\n",
       "      <td>2.066726e+04</td>\n",
       "    </tr>\n",
       "    <tr>\n",
       "      <td>25%</td>\n",
       "      <td>0.000000</td>\n",
       "      <td>-2747.423625</td>\n",
       "      <td>33.000000</td>\n",
       "      <td>1.000000</td>\n",
       "      <td>0.000000</td>\n",
       "      <td>0.000000</td>\n",
       "      <td>1.030532e+05</td>\n",
       "    </tr>\n",
       "    <tr>\n",
       "      <td>50%</td>\n",
       "      <td>0.000000</td>\n",
       "      <td>-1203.369529</td>\n",
       "      <td>42.000000</td>\n",
       "      <td>1.000000</td>\n",
       "      <td>0.000000</td>\n",
       "      <td>0.000000</td>\n",
       "      <td>1.450179e+05</td>\n",
       "    </tr>\n",
       "    <tr>\n",
       "      <td>75%</td>\n",
       "      <td>1.000000</td>\n",
       "      <td>-291.095954</td>\n",
       "      <td>53.000000</td>\n",
       "      <td>1.000000</td>\n",
       "      <td>1.000000</td>\n",
       "      <td>0.000000</td>\n",
       "      <td>2.034351e+05</td>\n",
       "    </tr>\n",
       "    <tr>\n",
       "      <td>max</td>\n",
       "      <td>20.000000</td>\n",
       "      <td>401755.400475</td>\n",
       "      <td>75.000000</td>\n",
       "      <td>4.000000</td>\n",
       "      <td>4.000000</td>\n",
       "      <td>1.000000</td>\n",
       "      <td>2.265604e+06</td>\n",
       "    </tr>\n",
       "  </tbody>\n",
       "</table>\n",
       "</div>"
      ],
      "text/plain": [
       "           children  days_employed     dob_years  education_id  \\\n",
       "count  21525.000000   19351.000000  21525.000000  21525.000000   \n",
       "mean       0.538908   63046.497661     43.293380      0.817236   \n",
       "std        1.381587  140827.311974     12.574584      0.548138   \n",
       "min       -1.000000  -18388.949901      0.000000      0.000000   \n",
       "25%        0.000000   -2747.423625     33.000000      1.000000   \n",
       "50%        0.000000   -1203.369529     42.000000      1.000000   \n",
       "75%        1.000000    -291.095954     53.000000      1.000000   \n",
       "max       20.000000  401755.400475     75.000000      4.000000   \n",
       "\n",
       "       family_status_id          debt  total_income  \n",
       "count      21525.000000  21525.000000  1.935100e+04  \n",
       "mean           0.972544      0.080883  1.674223e+05  \n",
       "std            1.420324      0.272661  1.029716e+05  \n",
       "min            0.000000      0.000000  2.066726e+04  \n",
       "25%            0.000000      0.000000  1.030532e+05  \n",
       "50%            0.000000      0.000000  1.450179e+05  \n",
       "75%            1.000000      0.000000  2.034351e+05  \n",
       "max            4.000000      1.000000  2.265604e+06  "
      ]
     },
     "execution_count": 3,
     "metadata": {},
     "output_type": "execute_result"
    }
   ],
   "source": [
    "data.describe()"
   ]
  },
  {
   "cell_type": "markdown",
   "metadata": {},
   "source": [
    "**Вывод**\n",
    " \n",
    "- Информация о структуре данных - двумерная(DataFrame);\n",
    "- таблица имеет 21525 строк и 12 столбцов; \n",
    "- присутствуют названия столбцов и количество ненулевых значений;\n",
    "- в таблице присутствуют значения типов object(5 столбцов), int(5 столбцов)и float(2 столбца);\n",
    "- использование памяти."
   ]
  },
  {
   "cell_type": "markdown",
   "metadata": {},
   "source": [
    "## Шаг 2. Предобработка данных"
   ]
  },
  {
   "cell_type": "markdown",
   "metadata": {},
   "source": [
    "### Обработка пропусков"
   ]
  },
  {
   "cell_type": "code",
   "execution_count": 4,
   "metadata": {},
   "outputs": [
    {
     "data": {
      "text/plain": [
       " 0     14149\n",
       " 1      4818\n",
       " 2      2055\n",
       " 3       330\n",
       " 20       76\n",
       "-1        47\n",
       " 4        41\n",
       " 5         9\n",
       "Name: children, dtype: int64"
      ]
     },
     "execution_count": 4,
     "metadata": {},
     "output_type": "execute_result"
    }
   ],
   "source": [
    "data['children'].value_counts()"
   ]
  },
  {
   "cell_type": "code",
   "execution_count": 5,
   "metadata": {},
   "outputs": [],
   "source": [
    "data['children'] = data['children'].abs()\n",
    "data.loc[data['children'] == 20, 'children'] = data[data['children'] != 20]['children'].median()"
   ]
  },
  {
   "cell_type": "code",
   "execution_count": 6,
   "metadata": {},
   "outputs": [
    {
     "data": {
      "text/plain": [
       "0.0    14225\n",
       "1.0     4865\n",
       "2.0     2055\n",
       "3.0      330\n",
       "4.0       41\n",
       "5.0        9\n",
       "Name: children, dtype: int64"
      ]
     },
     "execution_count": 6,
     "metadata": {},
     "output_type": "execute_result"
    }
   ],
   "source": [
    "data['children'].value_counts()"
   ]
  },
  {
   "cell_type": "code",
   "execution_count": 7,
   "metadata": {},
   "outputs": [
    {
     "data": {
      "text/plain": [
       "-986.927316     1\n",
       "-7026.359174    1\n",
       "-4236.274243    1\n",
       "-6620.396473    1\n",
       "-1238.560080    1\n",
       "               ..\n",
       "-2849.351119    1\n",
       "-5619.328204    1\n",
       "-448.829898     1\n",
       "-1687.038672    1\n",
       "-582.538413     1\n",
       "Name: days_employed, Length: 19351, dtype: int64"
      ]
     },
     "execution_count": 7,
     "metadata": {},
     "output_type": "execute_result"
    }
   ],
   "source": [
    "data['days_employed'].value_counts()"
   ]
  },
  {
   "cell_type": "code",
   "execution_count": 8,
   "metadata": {},
   "outputs": [],
   "source": [
    "data['days_employed'] = data['days_employed'].abs()\n",
    "data['days_employed'] = data['days_employed'].fillna(data.groupby('income_type')['days_employed'].transform('median'))"
   ]
  },
  {
   "cell_type": "code",
   "execution_count": 9,
   "metadata": {},
   "outputs": [
    {
     "data": {
      "text/plain": [
       "0"
      ]
     },
     "execution_count": 9,
     "metadata": {},
     "output_type": "execute_result"
    }
   ],
   "source": [
    "data['days_employed'].isna().sum()"
   ]
  },
  {
   "cell_type": "code",
   "execution_count": 10,
   "metadata": {},
   "outputs": [
    {
     "data": {
      "text/plain": [
       "35    617\n",
       "40    609\n",
       "41    607\n",
       "34    603\n",
       "38    598\n",
       "42    597\n",
       "33    581\n",
       "39    573\n",
       "31    560\n",
       "36    555\n",
       "44    547\n",
       "29    545\n",
       "30    540\n",
       "48    538\n",
       "37    537\n",
       "50    514\n",
       "43    513\n",
       "32    510\n",
       "49    508\n",
       "28    503\n",
       "45    497\n",
       "27    493\n",
       "56    487\n",
       "52    484\n",
       "47    480\n",
       "54    479\n",
       "46    475\n",
       "58    461\n",
       "57    460\n",
       "53    459\n",
       "51    448\n",
       "59    444\n",
       "55    443\n",
       "26    408\n",
       "60    377\n",
       "25    357\n",
       "61    355\n",
       "62    352\n",
       "63    269\n",
       "64    265\n",
       "24    264\n",
       "23    254\n",
       "65    194\n",
       "66    183\n",
       "22    183\n",
       "67    167\n",
       "21    111\n",
       "0     101\n",
       "68     99\n",
       "69     85\n",
       "70     65\n",
       "71     58\n",
       "20     51\n",
       "72     33\n",
       "19     14\n",
       "73      8\n",
       "74      6\n",
       "75      1\n",
       "Name: dob_years, dtype: int64"
      ]
     },
     "execution_count": 10,
     "metadata": {},
     "output_type": "execute_result"
    }
   ],
   "source": [
    "data['dob_years'].value_counts()"
   ]
  },
  {
   "cell_type": "code",
   "execution_count": 11,
   "metadata": {},
   "outputs": [],
   "source": [
    "data.loc[data['dob_years'] == 0, 'dob_years'] = data.groupby('income_type')['dob_years'].transform('median')"
   ]
  },
  {
   "cell_type": "code",
   "execution_count": 12,
   "metadata": {},
   "outputs": [
    {
     "data": {
      "text/plain": [
       "0"
      ]
     },
     "execution_count": 12,
     "metadata": {},
     "output_type": "execute_result"
    }
   ],
   "source": [
    "data[data['dob_years'] == 0]['dob_years'].count()"
   ]
  },
  {
   "cell_type": "code",
   "execution_count": 13,
   "metadata": {},
   "outputs": [
    {
     "data": {
      "text/plain": [
       "среднее                13750\n",
       "высшее                  4718\n",
       "СРЕДНЕЕ                  772\n",
       "Среднее                  711\n",
       "неоконченное высшее      668\n",
       "ВЫСШЕЕ                   274\n",
       "Высшее                   268\n",
       "начальное                250\n",
       "Неоконченное высшее       47\n",
       "НЕОКОНЧЕННОЕ ВЫСШЕЕ       29\n",
       "НАЧАЛЬНОЕ                 17\n",
       "Начальное                 15\n",
       "ученая степень             4\n",
       "УЧЕНАЯ СТЕПЕНЬ             1\n",
       "Ученая степень             1\n",
       "Name: education, dtype: int64"
      ]
     },
     "execution_count": 13,
     "metadata": {},
     "output_type": "execute_result"
    }
   ],
   "source": [
    "data['education'].value_counts()"
   ]
  },
  {
   "cell_type": "code",
   "execution_count": 14,
   "metadata": {},
   "outputs": [
    {
     "data": {
      "text/plain": [
       "1    15233\n",
       "0     5260\n",
       "2      744\n",
       "3      282\n",
       "4        6\n",
       "Name: education_id, dtype: int64"
      ]
     },
     "execution_count": 14,
     "metadata": {},
     "output_type": "execute_result"
    }
   ],
   "source": [
    "data['education_id'].value_counts()"
   ]
  },
  {
   "cell_type": "code",
   "execution_count": 15,
   "metadata": {},
   "outputs": [
    {
     "data": {
      "text/plain": [
       "женат / замужем          12380\n",
       "гражданский брак          4177\n",
       "Не женат / не замужем     2813\n",
       "в разводе                 1195\n",
       "вдовец / вдова             960\n",
       "Name: family_status, dtype: int64"
      ]
     },
     "execution_count": 15,
     "metadata": {},
     "output_type": "execute_result"
    }
   ],
   "source": [
    "data['family_status'].value_counts()"
   ]
  },
  {
   "cell_type": "code",
   "execution_count": 16,
   "metadata": {},
   "outputs": [
    {
     "data": {
      "text/plain": [
       "0    12380\n",
       "1     4177\n",
       "4     2813\n",
       "3     1195\n",
       "2      960\n",
       "Name: family_status_id, dtype: int64"
      ]
     },
     "execution_count": 16,
     "metadata": {},
     "output_type": "execute_result"
    }
   ],
   "source": [
    "data['family_status_id'].value_counts()"
   ]
  },
  {
   "cell_type": "code",
   "execution_count": 17,
   "metadata": {},
   "outputs": [
    {
     "data": {
      "text/plain": [
       "F      14236\n",
       "M       7288\n",
       "XNA        1\n",
       "Name: gender, dtype: int64"
      ]
     },
     "execution_count": 17,
     "metadata": {},
     "output_type": "execute_result"
    }
   ],
   "source": [
    "data['gender'].value_counts()"
   ]
  },
  {
   "cell_type": "code",
   "execution_count": 18,
   "metadata": {},
   "outputs": [
    {
     "data": {
      "text/html": [
       "<div>\n",
       "<style scoped>\n",
       "    .dataframe tbody tr th:only-of-type {\n",
       "        vertical-align: middle;\n",
       "    }\n",
       "\n",
       "    .dataframe tbody tr th {\n",
       "        vertical-align: top;\n",
       "    }\n",
       "\n",
       "    .dataframe thead th {\n",
       "        text-align: right;\n",
       "    }\n",
       "</style>\n",
       "<table border=\"1\" class=\"dataframe\">\n",
       "  <thead>\n",
       "    <tr style=\"text-align: right;\">\n",
       "      <th></th>\n",
       "      <th>children</th>\n",
       "      <th>days_employed</th>\n",
       "      <th>dob_years</th>\n",
       "      <th>education</th>\n",
       "      <th>education_id</th>\n",
       "      <th>family_status</th>\n",
       "      <th>family_status_id</th>\n",
       "      <th>gender</th>\n",
       "      <th>income_type</th>\n",
       "      <th>debt</th>\n",
       "      <th>total_income</th>\n",
       "      <th>purpose</th>\n",
       "    </tr>\n",
       "  </thead>\n",
       "  <tbody>\n",
       "    <tr>\n",
       "      <td>10701</td>\n",
       "      <td>0.0</td>\n",
       "      <td>2358.600502</td>\n",
       "      <td>24.0</td>\n",
       "      <td>неоконченное высшее</td>\n",
       "      <td>2</td>\n",
       "      <td>гражданский брак</td>\n",
       "      <td>1</td>\n",
       "      <td>XNA</td>\n",
       "      <td>компаньон</td>\n",
       "      <td>0</td>\n",
       "      <td>203905.157261</td>\n",
       "      <td>покупка недвижимости</td>\n",
       "    </tr>\n",
       "  </tbody>\n",
       "</table>\n",
       "</div>"
      ],
      "text/plain": [
       "       children  days_employed  dob_years            education  education_id  \\\n",
       "10701       0.0    2358.600502       24.0  неоконченное высшее             2   \n",
       "\n",
       "          family_status  family_status_id gender income_type  debt  \\\n",
       "10701  гражданский брак                 1    XNA   компаньон     0   \n",
       "\n",
       "        total_income               purpose  \n",
       "10701  203905.157261  покупка недвижимости  "
      ]
     },
     "execution_count": 18,
     "metadata": {},
     "output_type": "execute_result"
    }
   ],
   "source": [
    "data[data['gender'] == 'XNA']"
   ]
  },
  {
   "cell_type": "code",
   "execution_count": 19,
   "metadata": {},
   "outputs": [
    {
     "data": {
      "text/plain": [
       "gender\n",
       "F      3197\n",
       "M      1887\n",
       "XNA       1\n",
       "Name: income_type, dtype: int64"
      ]
     },
     "execution_count": 19,
     "metadata": {},
     "output_type": "execute_result"
    }
   ],
   "source": [
    "data[data['income_type'] == 'компаньон'].groupby('gender')['income_type'].count()"
   ]
  },
  {
   "cell_type": "code",
   "execution_count": 20,
   "metadata": {},
   "outputs": [],
   "source": [
    "data.loc[data['gender'] == 'XNA', 'gender'] = 'F'"
   ]
  },
  {
   "cell_type": "code",
   "execution_count": 21,
   "metadata": {},
   "outputs": [
    {
     "data": {
      "text/plain": [
       "сотрудник          11119\n",
       "компаньон           5085\n",
       "пенсионер           3856\n",
       "госслужащий         1459\n",
       "безработный            2\n",
       "предприниматель        2\n",
       "в декрете              1\n",
       "студент                1\n",
       "Name: income_type, dtype: int64"
      ]
     },
     "execution_count": 21,
     "metadata": {},
     "output_type": "execute_result"
    }
   ],
   "source": [
    "data['income_type'].value_counts()"
   ]
  },
  {
   "cell_type": "code",
   "execution_count": 22,
   "metadata": {},
   "outputs": [
    {
     "data": {
      "text/plain": [
       "0    19784\n",
       "1     1741\n",
       "Name: debt, dtype: int64"
      ]
     },
     "execution_count": 22,
     "metadata": {},
     "output_type": "execute_result"
    }
   ],
   "source": [
    "data['debt'].value_counts()"
   ]
  },
  {
   "cell_type": "code",
   "execution_count": 23,
   "metadata": {},
   "outputs": [
    {
     "data": {
      "text/plain": [
       "112874.418757    1\n",
       "133912.272223    1\n",
       "182036.676828    1\n",
       "122421.963500    1\n",
       "198271.837248    1\n",
       "                ..\n",
       "133299.194693    1\n",
       "115080.782380    1\n",
       "84896.781597     1\n",
       "153838.839212    1\n",
       "150014.128510    1\n",
       "Name: total_income, Length: 19351, dtype: int64"
      ]
     },
     "execution_count": 23,
     "metadata": {},
     "output_type": "execute_result"
    }
   ],
   "source": [
    "data['total_income'].value_counts()"
   ]
  },
  {
   "cell_type": "code",
   "execution_count": 24,
   "metadata": {},
   "outputs": [],
   "source": [
    "data['total_income'] = data['total_income'].fillna(data.groupby('income_type')['total_income'].transform('median'))"
   ]
  },
  {
   "cell_type": "code",
   "execution_count": 25,
   "metadata": {},
   "outputs": [
    {
     "data": {
      "text/plain": [
       "0"
      ]
     },
     "execution_count": 25,
     "metadata": {},
     "output_type": "execute_result"
    }
   ],
   "source": [
    "data['total_income'].isna().sum()"
   ]
  },
  {
   "cell_type": "code",
   "execution_count": 26,
   "metadata": {},
   "outputs": [
    {
     "data": {
      "text/plain": [
       "свадьба                                   797\n",
       "на проведение свадьбы                     777\n",
       "сыграть свадьбу                           774\n",
       "операции с недвижимостью                  676\n",
       "покупка коммерческой недвижимости         664\n",
       "покупка жилья для сдачи                   653\n",
       "операции с жильем                         653\n",
       "операции с коммерческой недвижимостью     651\n",
       "жилье                                     647\n",
       "покупка жилья                             647\n",
       "покупка жилья для семьи                   641\n",
       "строительство собственной недвижимости    635\n",
       "недвижимость                              634\n",
       "операции со своей недвижимостью           630\n",
       "строительство жилой недвижимости          626\n",
       "покупка недвижимости                      624\n",
       "покупка своего жилья                      620\n",
       "строительство недвижимости                620\n",
       "ремонт жилью                              612\n",
       "покупка жилой недвижимости                607\n",
       "на покупку своего автомобиля              505\n",
       "заняться высшим образованием              496\n",
       "автомобиль                                495\n",
       "сделка с подержанным автомобилем          489\n",
       "свой автомобиль                           480\n",
       "на покупку подержанного автомобиля        479\n",
       "автомобили                                478\n",
       "на покупку автомобиля                     472\n",
       "приобретение автомобиля                   462\n",
       "дополнительное образование                462\n",
       "сделка с автомобилем                      455\n",
       "высшее образование                        453\n",
       "образование                               447\n",
       "получение дополнительного образования     447\n",
       "получение образования                     443\n",
       "профильное образование                    436\n",
       "получение высшего образования             426\n",
       "заняться образованием                     412\n",
       "Name: purpose, dtype: int64"
      ]
     },
     "execution_count": 26,
     "metadata": {},
     "output_type": "execute_result"
    }
   ],
   "source": [
    "data['purpose'].value_counts()"
   ]
  },
  {
   "cell_type": "markdown",
   "metadata": {},
   "source": [
    "**Вывод**\n",
    "\n",
    "Обнаружены пропуски в двух столбцах(методом isna().sum()): days_employed(общий трудовой стаж в днях) и total_income(ежемесячный доход) - 2174 пропуска.\n",
    "\n",
    "Возможные причины появления пропусков:\n",
    "- н-р, если это пенсионер, то просто могли не передать данные из соответствующих органов;\n",
    "- если человек еще трудоспособен, может уволили с работы, поэтому пропуск в стаже и доходе.\n",
    "\n",
    "Замена пропусков:\n",
    "- В столбце 'total_income'(ежемесячный доход) пропуски были заполнены медианным значением, которое было сформировано по группам, группировка производилась по типу занятости по столбцу 'income_type'.\n",
    "- Далее перед тем как запонять пропуски в столбце 'days_employed'(общий трудовой стаж) я привела все отрицательные значения к положительным через метод abs().\n",
    "- Затем в столбце 'days_employed' пропуски были заполнены медианным значением, которое было сформировано по группам, группировка производилась по типу занятости по столбцу 'income_type'. Еть проблема, из-за того, что верхнее граничное значение сильно превышает логически допустимое, после заполнения получила несовсем корректное медианное значение. В дальнейших исследованиях данный столбец не используется.\n",
    "- В столбце 'dob_years'(возраст клиента) встречались значения \"0\", заменила их на медианное значение, которое было сформировано по группам, группировка производилась по типу занятости по столбцу 'income_type'.\n",
    "\n"
   ]
  },
  {
   "cell_type": "markdown",
   "metadata": {},
   "source": [
    "### Замена типа данных"
   ]
  },
  {
   "cell_type": "code",
   "execution_count": 27,
   "metadata": {},
   "outputs": [],
   "source": [
    "data['dob_years'] = data['dob_years'].astype('int')"
   ]
  },
  {
   "cell_type": "markdown",
   "metadata": {},
   "source": [
    "**Вывод**\n",
    "\n",
    "Для начала использовала метод info(), просмотрела все столбцы и указанные типы данных, проанализировала, заметила, что столбец 'dob_years' с типом данных float, заменила на int методом astype()."
   ]
  },
  {
   "cell_type": "markdown",
   "metadata": {},
   "source": [
    "### Обработка дубликатов"
   ]
  },
  {
   "cell_type": "code",
   "execution_count": 28,
   "metadata": {},
   "outputs": [],
   "source": [
    "data['education'] = data['education'].str.lower()"
   ]
  },
  {
   "cell_type": "code",
   "execution_count": 29,
   "metadata": {},
   "outputs": [],
   "source": [
    "data['family_status'] = data['family_status'].str.lower()"
   ]
  },
  {
   "cell_type": "code",
   "execution_count": 30,
   "metadata": {},
   "outputs": [
    {
     "data": {
      "text/plain": [
       "False    21454\n",
       "dtype: int64"
      ]
     },
     "execution_count": 30,
     "metadata": {},
     "output_type": "execute_result"
    }
   ],
   "source": [
    "data = data.drop_duplicates().reset_index(drop=True)\n",
    "data.duplicated().value_counts()"
   ]
  },
  {
   "cell_type": "markdown",
   "metadata": {},
   "source": [
    "**Вывод**\n",
    "\n",
    "Чтобы учесть все дубликаты, приведём все символы в столбцах 'education' и 'family_status' к нижнему регистру. Затем удалим дубликаты и проверяем все ли дубликаты удалились.\n",
    "\n"
   ]
  },
  {
   "cell_type": "markdown",
   "metadata": {},
   "source": [
    "### Лемматизация"
   ]
  },
  {
   "cell_type": "code",
   "execution_count": 31,
   "metadata": {},
   "outputs": [],
   "source": [
    "from nltk.stem import SnowballStemmer \n",
    "russian_stemmer = SnowballStemmer('russian')\n",
    "\n",
    "purpose_dict = {\n",
    "    russian_stemmer.stem('жильё'):'недвижимость',\n",
    "    russian_stemmer.stem('свадьба'):'свадьба',\n",
    "    russian_stemmer.stem('образование'):'образование',\n",
    "    russian_stemmer.stem('недвижимость'):'недвижимость',\n",
    "    russian_stemmer.stem('автомобиль'):'автомобиль',\n",
    "    russian_stemmer.stem('автомобили'):'автомобиль'}\n",
    "\n",
    "def stem_purpose(value):\n",
    "    for word in value.split(' '):\n",
    "        word_base = russian_stemmer.stem(word)\n",
    "        if word_base in purpose_dict:\n",
    "            return purpose_dict[word_base]\n",
    "    return value\n",
    "\n",
    "data['purpose'] = data['purpose'].transform(stem_purpose)"
   ]
  },
  {
   "cell_type": "markdown",
   "metadata": {},
   "source": [
    "**Вывод**\n",
    "\n",
    "В данном пункте был применен стемминг. Для начала создала словарь, в котором ключ это основания слов, часто встречающиеся в строках столбца 'purpose', а значение это строки, на которые нужно заменить текущее значение строки столбца в случае равенства основания слова в строке одному из ключей словаря.\n",
    "\n",
    "Объявила функцию stem_purpose(value), где value это текущая строка столбца 'purpose'. С помощью метода split() разбиваем текущее значение строки на подстроки с пробелом в качестве разделителя. В цикле перебираем подстроки и для каждой из них ищем основание, проверяем наличие каждого основания в словаре, в случае успеха возвращаем значение по ключу. Если ни одного сопоставления так и не найдено возвращается текущее значение строки.\n",
    "Передаем данные значения столбцу 'purpose' методом transform(stem_purpose - наша функция)."
   ]
  },
  {
   "cell_type": "markdown",
   "metadata": {},
   "source": [
    "### Категоризация данных"
   ]
  },
  {
   "cell_type": "code",
   "execution_count": 32,
   "metadata": {},
   "outputs": [],
   "source": [
    "children_debt = data[['children', 'debt']]"
   ]
  },
  {
   "cell_type": "code",
   "execution_count": 33,
   "metadata": {},
   "outputs": [],
   "source": [
    "family_status_debt = data[['family_status', 'debt']]"
   ]
  },
  {
   "cell_type": "code",
   "execution_count": 34,
   "metadata": {},
   "outputs": [
    {
     "name": "stderr",
     "output_type": "stream",
     "text": [
      "/opt/conda/lib/python3.7/site-packages/ipykernel_launcher.py:19: SettingWithCopyWarning: \n",
      "A value is trying to be set on a copy of a slice from a DataFrame.\n",
      "Try using .loc[row_indexer,col_indexer] = value instead\n",
      "\n",
      "See the caveats in the documentation: http://pandas.pydata.org/pandas-docs/stable/user_guide/indexing.html#returning-a-view-versus-a-copy\n"
     ]
    }
   ],
   "source": [
    "total_income_debt = data[['total_income', 'debt']]\n",
    "\n",
    "total_income_max = total_income_debt['total_income'].max()\n",
    "total_income_min = total_income_debt['total_income'].min()\n",
    "total_income_below_average = data['total_income'].describe()['25%']\n",
    "total_income_medium = data['total_income'].describe()['50%']\n",
    "total_income_above_average = data['total_income'].describe()['75%']\n",
    "\n",
    "def total_income_group(value):\n",
    "    if value >= total_income_min and value < total_income_below_average:\n",
    "        return 'бедные'\n",
    "    elif value >= total_income_below_average and value < total_income_medium:\n",
    "        return 'ниже среднего'\n",
    "    elif value >= total_income_medium and value < total_income_above_average:\n",
    "        return 'выше среднего'\n",
    "    elif value >= total_income_above_average and value <= total_income_max:\n",
    "        return 'богатые'\n",
    "    return 'неопределено'\n",
    "total_income_debt['total_income_group'] = total_income_debt['total_income'].apply(total_income_group)\n"
   ]
  },
  {
   "cell_type": "code",
   "execution_count": 35,
   "metadata": {
    "scrolled": true
   },
   "outputs": [
    {
     "data": {
      "text/plain": [
       "выше среднего    6317\n",
       "богатые          5364\n",
       "бедные           5364\n",
       "ниже среднего    4409\n",
       "Name: total_income_group, dtype: int64"
      ]
     },
     "execution_count": 35,
     "metadata": {},
     "output_type": "execute_result"
    }
   ],
   "source": [
    "total_income_debt['total_income_group'].value_counts()"
   ]
  },
  {
   "cell_type": "code",
   "execution_count": 36,
   "metadata": {},
   "outputs": [],
   "source": [
    "purpose_debt = data[['purpose', 'debt']]"
   ]
  },
  {
   "cell_type": "code",
   "execution_count": 37,
   "metadata": {},
   "outputs": [
    {
     "data": {
      "text/plain": [
       "Высокий          4291\n",
       "Выше среднего    4291\n",
       "Ниже среднего    4291\n",
       "Низкий           4291\n",
       "Средний          4290\n",
       "Name: income_group_rev, dtype: int64"
      ]
     },
     "execution_count": 37,
     "metadata": {},
     "output_type": "execute_result"
    }
   ],
   "source": [
    "total_income_labels = ['Низкий', 'Ниже среднего', 'Средний', 'Выше среднего', 'Высокий']\n",
    "\n",
    "data['income_group_rev'] = pd.qcut(data['total_income'],\n",
    "                              q=[0, .2, .4, .6, .8, 1],\n",
    "                              labels=total_income_labels)\n",
    "data['income_group_rev'].value_counts()"
   ]
  },
  {
   "cell_type": "markdown",
   "metadata": {},
   "source": [
    "**Вывод**\n",
    "\n",
    "\n",
    "В соответствии со следующими вопросами, разделились наши данныше на категории. Сравнивала по отдельности каждый столбец: 'children', 'family_status', 'total_income', 'purpose' со столбцом 'debt'. Для всех столбцов кроме 'total_income' получилось дальше найти среднее и сгруппировать по категориям, а вот для ежемесячного дохода так не вышло, поэтому для начала нашла максимальное и минимальное значение данного столбца, затем решила, что можно разделить данные на три категории, поэтому нашла шаг, далее ввела функцию с условиями и создала новый столбец куда попадут наши категории в зависимости от того какой у клиента ежемесячный доход."
   ]
  },
  {
   "cell_type": "markdown",
   "metadata": {},
   "source": [
    "## Шаг 3. Ответьте на вопросы"
   ]
  },
  {
   "cell_type": "markdown",
   "metadata": {},
   "source": [
    "- Есть ли зависимость между наличием детей и возвратом кредита в срок?"
   ]
  },
  {
   "cell_type": "code",
   "execution_count": 38,
   "metadata": {},
   "outputs": [
    {
     "data": {
      "text/plain": [
       "children\n",
       "0.0    0.075598\n",
       "1.0    0.091658\n",
       "2.0    0.094542\n",
       "3.0    0.081818\n",
       "4.0    0.097561\n",
       "5.0    0.000000\n",
       "Name: debt, dtype: float64"
      ]
     },
     "execution_count": 38,
     "metadata": {},
     "output_type": "execute_result"
    }
   ],
   "source": [
    "children_debt.groupby(by = ['children'])['debt'].mean()"
   ]
  },
  {
   "cell_type": "markdown",
   "metadata": {},
   "source": [
    "**Вывод**\n",
    "\n",
    "Наличие и количество детей не влияет на возврат кредита в срок. Есть аномалия, где количество детей равно 5, такие данные не учитываем из-за недостаточности даннных."
   ]
  },
  {
   "cell_type": "markdown",
   "metadata": {},
   "source": [
    "- Есть ли зависимость между семейным положением и возвратом кредита в срок?"
   ]
  },
  {
   "cell_type": "code",
   "execution_count": 39,
   "metadata": {},
   "outputs": [
    {
     "data": {
      "text/plain": [
       "family_status\n",
       "в разводе                0.071130\n",
       "вдовец / вдова           0.065693\n",
       "гражданский брак         0.093471\n",
       "женат / замужем          0.075452\n",
       "не женат / не замужем    0.097509\n",
       "Name: debt, dtype: float64"
      ]
     },
     "execution_count": 39,
     "metadata": {},
     "output_type": "execute_result"
    }
   ],
   "source": [
    "family_status_debt.groupby(by = ['family_status'])['debt'].mean()"
   ]
  },
  {
   "cell_type": "markdown",
   "metadata": {},
   "source": [
    "**Вывод**\n",
    "\n",
    "Семейное положение не влияет на возврат кредита в срок. Разница всего пару процентов."
   ]
  },
  {
   "cell_type": "markdown",
   "metadata": {},
   "source": [
    "- Есть ли зависимость между уровнем дохода и возвратом кредита в срок?"
   ]
  },
  {
   "cell_type": "code",
   "execution_count": 40,
   "metadata": {},
   "outputs": [
    {
     "data": {
      "text/plain": [
       "total_income_group\n",
       "бедные           0.079605\n",
       "богатые          0.071402\n",
       "выше среднего    0.086433\n",
       "ниже среднего    0.087321\n",
       "Name: debt, dtype: float64"
      ]
     },
     "execution_count": 40,
     "metadata": {},
     "output_type": "execute_result"
    }
   ],
   "source": [
    "total_income_debt.groupby(by = ['total_income_group'])['debt'].mean()"
   ]
  },
  {
   "cell_type": "markdown",
   "metadata": {},
   "source": [
    "**Вывод**\n",
    "\n",
    "Люди с высоким доходом чаще не возвращают кредит в срок нежели люди со средним и нижним доходом (разница практически в 2 раза)."
   ]
  },
  {
   "cell_type": "markdown",
   "metadata": {},
   "source": [
    "- Как разные цели кредита влияют на его возврат в срок?"
   ]
  },
  {
   "cell_type": "code",
   "execution_count": 41,
   "metadata": {},
   "outputs": [
    {
     "data": {
      "text/plain": [
       "purpose\n",
       "автомобиль      0.093590\n",
       "недвижимость    0.072334\n",
       "образование     0.092200\n",
       "свадьба         0.080034\n",
       "Name: debt, dtype: float64"
      ]
     },
     "execution_count": 41,
     "metadata": {},
     "output_type": "execute_result"
    }
   ],
   "source": [
    "purpose_debt.groupby(by = ['purpose'])['debt'].mean()"
   ]
  },
  {
   "cell_type": "markdown",
   "metadata": {},
   "source": [
    "**Вывод**\n",
    "\n",
    "Цели кредита также не особо влияют на возврат кредита в срок."
   ]
  },
  {
   "cell_type": "markdown",
   "metadata": {},
   "source": [
    "## Шаг 4. Общий вывод"
   ]
  },
  {
   "cell_type": "markdown",
   "metadata": {},
   "source": [
    "**Вывод**\n",
    "\n",
    "Общий вывод можно сделать такой: На возврат кредита в срок в основном влияет только ежемесячный доход клиента."
   ]
  }
 ],
 "metadata": {
  "ExecuteTimeLog": [
   {
    "duration": 688,
    "start_time": "2022-01-14T13:20:11.846Z"
   },
   {
    "duration": 13,
    "start_time": "2022-01-14T14:31:41.942Z"
   },
   {
    "duration": 18,
    "start_time": "2022-01-14T15:02:46.062Z"
   },
   {
    "duration": 9,
    "start_time": "2022-01-14T15:03:11.825Z"
   },
   {
    "duration": 335,
    "start_time": "2022-01-14T15:03:29.133Z"
   },
   {
    "duration": 252,
    "start_time": "2022-01-14T15:03:42.881Z"
   },
   {
    "duration": 13,
    "start_time": "2022-01-14T15:03:55.946Z"
   },
   {
    "duration": 248,
    "start_time": "2022-01-14T18:56:40.178Z"
   },
   {
    "duration": 5,
    "start_time": "2022-01-14T18:56:51.439Z"
   },
   {
    "duration": 7,
    "start_time": "2022-01-14T18:57:13.660Z"
   },
   {
    "duration": 86,
    "start_time": "2022-01-14T18:59:01.497Z"
   },
   {
    "duration": 11,
    "start_time": "2022-01-14T18:59:12.673Z"
   },
   {
    "duration": 9,
    "start_time": "2022-01-14T18:59:20.863Z"
   },
   {
    "duration": 7,
    "start_time": "2022-01-14T19:02:51.515Z"
   },
   {
    "duration": -50,
    "start_time": "2022-01-14T19:21:01.015Z"
   },
   {
    "duration": 7292,
    "start_time": "2022-01-14T19:21:09.691Z"
   },
   {
    "duration": 6764,
    "start_time": "2022-01-14T19:21:18.909Z"
   },
   {
    "duration": 6570,
    "start_time": "2022-01-14T19:22:51.730Z"
   },
   {
    "duration": 6755,
    "start_time": "2022-01-14T19:23:34.706Z"
   },
   {
    "duration": 6805,
    "start_time": "2022-01-14T19:26:11.056Z"
   },
   {
    "duration": 7821,
    "start_time": "2022-01-14T19:27:21.202Z"
   },
   {
    "duration": 7,
    "start_time": "2022-01-14T19:27:40.977Z"
   },
   {
    "duration": 8,
    "start_time": "2022-01-14T19:28:01.983Z"
   },
   {
    "duration": 7145,
    "start_time": "2022-01-14T19:29:17.226Z"
   },
   {
    "duration": 7,
    "start_time": "2022-01-14T19:29:37.730Z"
   },
   {
    "duration": 6,
    "start_time": "2022-01-14T19:30:00.832Z"
   },
   {
    "duration": 253,
    "start_time": "2022-01-14T19:33:50.304Z"
   },
   {
    "duration": 6,
    "start_time": "2022-01-14T19:35:17.972Z"
   },
   {
    "duration": 6,
    "start_time": "2022-01-14T19:35:30.153Z"
   },
   {
    "duration": 238,
    "start_time": "2022-01-14T19:49:30.528Z"
   },
   {
    "duration": 5,
    "start_time": "2022-01-14T19:56:57.645Z"
   },
   {
    "duration": 366,
    "start_time": "2022-01-17T09:59:25.315Z"
   },
   {
    "duration": 859,
    "start_time": "2022-01-17T10:00:18.315Z"
   },
   {
    "duration": 209,
    "start_time": "2022-01-17T10:00:30.810Z"
   },
   {
    "duration": 111,
    "start_time": "2022-01-17T10:01:03.872Z"
   },
   {
    "duration": 115,
    "start_time": "2022-01-17T10:03:52.718Z"
   },
   {
    "duration": 111,
    "start_time": "2022-01-17T10:04:09.544Z"
   },
   {
    "duration": 29,
    "start_time": "2022-01-17T10:09:31.028Z"
   },
   {
    "duration": 36,
    "start_time": "2022-01-17T10:14:49.962Z"
   },
   {
    "duration": 46,
    "start_time": "2022-01-17T10:30:05.420Z"
   },
   {
    "duration": 97,
    "start_time": "2022-01-17T10:30:51.246Z"
   },
   {
    "duration": 55,
    "start_time": "2022-01-17T10:32:22.628Z"
   },
   {
    "duration": 51,
    "start_time": "2022-01-17T10:33:23.149Z"
   },
   {
    "duration": 24,
    "start_time": "2022-01-17T11:00:50.756Z"
   },
   {
    "duration": 16,
    "start_time": "2022-01-17T11:09:49.556Z"
   },
   {
    "duration": 5,
    "start_time": "2022-01-17T11:18:49.726Z"
   },
   {
    "duration": 17,
    "start_time": "2022-01-17T11:19:00.926Z"
   },
   {
    "duration": 4,
    "start_time": "2022-01-17T11:19:14.411Z"
   },
   {
    "duration": 375,
    "start_time": "2022-01-17T11:23:11.320Z"
   },
   {
    "duration": 19,
    "start_time": "2022-01-17T11:40:51.354Z"
   },
   {
    "duration": 31,
    "start_time": "2022-01-17T11:41:21.350Z"
   },
   {
    "duration": 46,
    "start_time": "2022-01-17T12:00:11.982Z"
   },
   {
    "duration": 48,
    "start_time": "2022-01-17T12:00:40.480Z"
   },
   {
    "duration": 55,
    "start_time": "2022-01-17T12:01:42.812Z"
   },
   {
    "duration": 44,
    "start_time": "2022-01-17T12:07:57.953Z"
   },
   {
    "duration": 77,
    "start_time": "2022-01-17T12:08:23.347Z"
   },
   {
    "duration": 81,
    "start_time": "2022-01-17T12:09:44.539Z"
   },
   {
    "duration": 320,
    "start_time": "2022-01-17T12:13:11.871Z"
   },
   {
    "duration": 82,
    "start_time": "2022-01-17T12:13:35.798Z"
   },
   {
    "duration": 36,
    "start_time": "2022-01-17T12:27:13.722Z"
   },
   {
    "duration": 76,
    "start_time": "2022-01-17T12:32:25.987Z"
   },
   {
    "duration": 75,
    "start_time": "2022-01-17T12:35:43.564Z"
   },
   {
    "duration": 37,
    "start_time": "2022-01-17T12:45:25.513Z"
   },
   {
    "duration": 13870,
    "start_time": "2022-01-17T14:50:33.705Z"
   },
   {
    "duration": 11020,
    "start_time": "2022-01-17T14:51:22.495Z"
   },
   {
    "duration": 101,
    "start_time": "2022-01-17T14:52:12.611Z"
   },
   {
    "duration": 11081,
    "start_time": "2022-01-17T14:52:26.732Z"
   },
   {
    "duration": 11028,
    "start_time": "2022-01-17T14:52:50.654Z"
   },
   {
    "duration": 10913,
    "start_time": "2022-01-17T14:53:37.629Z"
   },
   {
    "duration": 10860,
    "start_time": "2022-01-17T14:54:15.409Z"
   },
   {
    "duration": 2346,
    "start_time": "2022-01-17T14:57:50.146Z"
   },
   {
    "duration": 1819,
    "start_time": "2022-01-17T14:58:07.211Z"
   },
   {
    "duration": 1836,
    "start_time": "2022-01-17T15:07:31.423Z"
   },
   {
    "duration": 1923,
    "start_time": "2022-01-17T15:08:38.009Z"
   },
   {
    "duration": 1908,
    "start_time": "2022-01-17T15:09:16.045Z"
   },
   {
    "duration": 1942,
    "start_time": "2022-01-17T15:09:41.525Z"
   },
   {
    "duration": 1815,
    "start_time": "2022-01-17T15:10:42.700Z"
   },
   {
    "duration": 2032,
    "start_time": "2022-01-17T15:11:17.283Z"
   },
   {
    "duration": 1944,
    "start_time": "2022-01-17T15:12:01.720Z"
   },
   {
    "duration": 2041,
    "start_time": "2022-01-17T15:20:37.929Z"
   },
   {
    "duration": 1649,
    "start_time": "2022-01-17T15:21:15.657Z"
   },
   {
    "duration": 1695,
    "start_time": "2022-01-17T15:40:56.371Z"
   },
   {
    "duration": 1846,
    "start_time": "2022-01-17T15:42:22.898Z"
   },
   {
    "duration": 77,
    "start_time": "2022-01-17T15:57:48.581Z"
   },
   {
    "duration": 1593,
    "start_time": "2022-01-17T16:21:31.781Z"
   },
   {
    "duration": 45,
    "start_time": "2022-01-17T16:52:56.055Z"
   },
   {
    "duration": 10,
    "start_time": "2022-01-17T16:57:39.960Z"
   },
   {
    "duration": 14,
    "start_time": "2022-01-17T16:58:10.260Z"
   },
   {
    "duration": 11,
    "start_time": "2022-01-17T17:00:25.141Z"
   },
   {
    "duration": 17,
    "start_time": "2022-01-17T17:00:50.105Z"
   },
   {
    "duration": 98,
    "start_time": "2022-01-17T17:01:36.098Z"
   },
   {
    "duration": 31,
    "start_time": "2022-01-17T17:01:36.199Z"
   },
   {
    "duration": 5,
    "start_time": "2022-01-17T17:01:36.234Z"
   },
   {
    "duration": 96,
    "start_time": "2022-01-17T17:01:36.242Z"
   },
   {
    "duration": 4115,
    "start_time": "2022-01-17T17:01:36.341Z"
   },
   {
    "duration": 21,
    "start_time": "2022-01-17T17:01:40.458Z"
   },
   {
    "duration": 78,
    "start_time": "2022-01-17T17:03:29.978Z"
   },
   {
    "duration": 28,
    "start_time": "2022-01-17T17:03:30.060Z"
   },
   {
    "duration": 5,
    "start_time": "2022-01-17T17:03:30.091Z"
   },
   {
    "duration": 97,
    "start_time": "2022-01-17T17:03:30.099Z"
   },
   {
    "duration": 4123,
    "start_time": "2022-01-17T17:03:30.199Z"
   },
   {
    "duration": 9,
    "start_time": "2022-01-17T17:03:34.325Z"
   },
   {
    "duration": 9,
    "start_time": "2022-01-17T17:03:34.336Z"
   },
   {
    "duration": 77,
    "start_time": "2022-01-17T17:06:57.078Z"
   },
   {
    "duration": 32,
    "start_time": "2022-01-17T17:06:57.158Z"
   },
   {
    "duration": 4,
    "start_time": "2022-01-17T17:06:57.193Z"
   },
   {
    "duration": 93,
    "start_time": "2022-01-17T17:06:57.200Z"
   },
   {
    "duration": 3939,
    "start_time": "2022-01-17T17:06:57.296Z"
   },
   {
    "duration": 30,
    "start_time": "2022-01-17T17:07:01.237Z"
   },
   {
    "duration": 9,
    "start_time": "2022-01-17T17:07:01.270Z"
   },
   {
    "duration": 20,
    "start_time": "2022-01-17T17:07:01.282Z"
   },
   {
    "duration": 14,
    "start_time": "2022-01-17T17:15:13.569Z"
   },
   {
    "duration": 1316,
    "start_time": "2022-01-17T17:20:21.863Z"
   },
   {
    "duration": 15,
    "start_time": "2022-01-17T17:20:47.051Z"
   },
   {
    "duration": 10,
    "start_time": "2022-01-17T17:22:07.356Z"
   },
   {
    "duration": 8,
    "start_time": "2022-01-17T17:22:19.813Z"
   },
   {
    "duration": 14,
    "start_time": "2022-01-17T17:22:36.275Z"
   },
   {
    "duration": 489,
    "start_time": "2022-01-17T17:24:31.256Z"
   },
   {
    "duration": 5,
    "start_time": "2022-01-17T17:25:31.687Z"
   },
   {
    "duration": 8,
    "start_time": "2022-01-17T17:25:45.695Z"
   },
   {
    "duration": 1537,
    "start_time": "2022-01-17T17:33:42.519Z"
   },
   {
    "duration": 1072,
    "start_time": "2022-01-17T17:34:12.149Z"
   },
   {
    "duration": 1054,
    "start_time": "2022-01-17T17:37:37.915Z"
   },
   {
    "duration": 6,
    "start_time": "2022-01-17T17:38:54.574Z"
   },
   {
    "duration": 5,
    "start_time": "2022-01-17T17:39:47.359Z"
   },
   {
    "duration": 6,
    "start_time": "2022-01-17T17:40:30.700Z"
   },
   {
    "duration": 1098,
    "start_time": "2022-01-17T17:41:25.465Z"
   },
   {
    "duration": 13,
    "start_time": "2022-01-17T17:41:37.047Z"
   },
   {
    "duration": 271,
    "start_time": "2022-01-17T17:41:58.544Z"
   },
   {
    "duration": 11,
    "start_time": "2022-01-17T17:42:08.128Z"
   },
   {
    "duration": 9,
    "start_time": "2022-01-17T17:43:12.427Z"
   },
   {
    "duration": 266,
    "start_time": "2022-01-17T17:43:37.408Z"
   },
   {
    "duration": 9,
    "start_time": "2022-01-17T17:43:50.723Z"
   },
   {
    "duration": 12,
    "start_time": "2022-01-17T17:45:25.704Z"
   },
   {
    "duration": 17,
    "start_time": "2022-01-17T17:45:50.540Z"
   },
   {
    "duration": 12,
    "start_time": "2022-01-17T17:46:02.813Z"
   },
   {
    "duration": 16,
    "start_time": "2022-01-17T17:46:09.263Z"
   },
   {
    "duration": 286,
    "start_time": "2022-01-17T17:46:36.367Z"
   },
   {
    "duration": 12,
    "start_time": "2022-01-17T17:46:40.032Z"
   },
   {
    "duration": 8,
    "start_time": "2022-01-17T17:47:00.739Z"
   },
   {
    "duration": 73,
    "start_time": "2022-01-17T17:47:28.642Z"
   },
   {
    "duration": 25,
    "start_time": "2022-01-17T17:47:28.718Z"
   },
   {
    "duration": 21,
    "start_time": "2022-01-17T17:47:28.745Z"
   },
   {
    "duration": 74,
    "start_time": "2022-01-17T17:47:28.769Z"
   },
   {
    "duration": 3949,
    "start_time": "2022-01-17T17:47:28.846Z"
   },
   {
    "duration": 7,
    "start_time": "2022-01-17T17:47:32.798Z"
   },
   {
    "duration": 294,
    "start_time": "2022-01-17T17:47:32.807Z"
   },
   {
    "duration": -32,
    "start_time": "2022-01-17T17:47:33.135Z"
   },
   {
    "duration": 11,
    "start_time": "2022-01-17T17:47:53.833Z"
   },
   {
    "duration": 12,
    "start_time": "2022-01-17T17:48:50.300Z"
   },
   {
    "duration": 15,
    "start_time": "2022-01-17T17:49:17.420Z"
   },
   {
    "duration": 15,
    "start_time": "2022-01-17T17:49:33.296Z"
   },
   {
    "duration": 8,
    "start_time": "2022-01-17T17:49:59.526Z"
   },
   {
    "duration": 11,
    "start_time": "2022-01-17T17:50:23.450Z"
   },
   {
    "duration": 448,
    "start_time": "2022-01-17T17:55:08.937Z"
   },
   {
    "duration": 312,
    "start_time": "2022-01-17T17:56:18.128Z"
   },
   {
    "duration": 13,
    "start_time": "2022-01-17T17:56:31.357Z"
   },
   {
    "duration": 13,
    "start_time": "2022-01-17T17:56:41.129Z"
   },
   {
    "duration": 75,
    "start_time": "2022-01-17T17:56:52.703Z"
   },
   {
    "duration": 28,
    "start_time": "2022-01-17T17:56:52.782Z"
   },
   {
    "duration": 6,
    "start_time": "2022-01-17T17:56:52.813Z"
   },
   {
    "duration": 155,
    "start_time": "2022-01-17T17:56:52.822Z"
   },
   {
    "duration": 7253,
    "start_time": "2022-01-17T17:56:52.980Z"
   },
   {
    "duration": 13,
    "start_time": "2022-01-17T17:57:00.236Z"
   },
   {
    "duration": 13,
    "start_time": "2022-01-17T17:57:00.264Z"
   },
   {
    "duration": 14,
    "start_time": "2022-01-17T17:57:00.281Z"
   },
   {
    "duration": 1293,
    "start_time": "2022-01-17T17:58:59.284Z"
   },
   {
    "duration": 11,
    "start_time": "2022-01-17T17:59:20.183Z"
   },
   {
    "duration": 1191,
    "start_time": "2022-01-17T18:14:17.890Z"
   },
   {
    "duration": 560,
    "start_time": "2022-01-17T18:14:45.219Z"
   },
   {
    "duration": 480,
    "start_time": "2022-01-17T18:14:52.927Z"
   },
   {
    "duration": 1246,
    "start_time": "2022-01-17T18:15:03.526Z"
   },
   {
    "duration": 10,
    "start_time": "2022-01-17T18:23:50.798Z"
   },
   {
    "duration": 10,
    "start_time": "2022-01-17T18:23:56.774Z"
   },
   {
    "duration": 18,
    "start_time": "2022-01-17T18:24:08.535Z"
   },
   {
    "duration": 20,
    "start_time": "2022-01-17T18:24:46.778Z"
   },
   {
    "duration": 110,
    "start_time": "2022-01-17T18:26:20.542Z"
   },
   {
    "duration": 310,
    "start_time": "2022-01-17T18:26:25.165Z"
   },
   {
    "duration": 281,
    "start_time": "2022-01-17T18:26:48.732Z"
   },
   {
    "duration": 1526,
    "start_time": "2022-01-17T18:27:08.374Z"
   },
   {
    "duration": 13,
    "start_time": "2022-01-17T18:27:15.546Z"
   },
   {
    "duration": 87,
    "start_time": "2022-01-17T18:31:06.590Z"
   },
   {
    "duration": 31,
    "start_time": "2022-01-17T18:31:06.680Z"
   },
   {
    "duration": 4,
    "start_time": "2022-01-17T18:31:06.714Z"
   },
   {
    "duration": 114,
    "start_time": "2022-01-17T18:31:06.722Z"
   },
   {
    "duration": 4730,
    "start_time": "2022-01-17T18:31:06.838Z"
   },
   {
    "duration": 7,
    "start_time": "2022-01-17T18:31:11.571Z"
   },
   {
    "duration": 15,
    "start_time": "2022-01-17T18:31:11.581Z"
   },
   {
    "duration": 13,
    "start_time": "2022-01-17T18:31:11.600Z"
   },
   {
    "duration": 15,
    "start_time": "2022-01-17T18:32:01.920Z"
   },
   {
    "duration": 10289,
    "start_time": "2022-01-17T18:35:51.400Z"
   },
   {
    "duration": 11,
    "start_time": "2022-01-17T18:36:36.444Z"
   },
   {
    "duration": 132,
    "start_time": "2022-01-17T18:37:25.781Z"
   },
   {
    "duration": 12,
    "start_time": "2022-01-17T18:37:45.481Z"
   },
   {
    "duration": 17,
    "start_time": "2022-01-17T18:38:20.017Z"
   },
   {
    "duration": 11,
    "start_time": "2022-01-17T18:38:40.442Z"
   },
   {
    "duration": 12,
    "start_time": "2022-01-17T18:49:46.205Z"
   },
   {
    "duration": 265,
    "start_time": "2022-01-17T18:51:11.354Z"
   },
   {
    "duration": 63,
    "start_time": "2022-01-17T18:51:14.226Z"
   },
   {
    "duration": 26,
    "start_time": "2022-01-17T18:51:14.292Z"
   },
   {
    "duration": 5,
    "start_time": "2022-01-17T18:51:14.321Z"
   },
   {
    "duration": 106,
    "start_time": "2022-01-17T18:51:14.328Z"
   },
   {
    "duration": 4172,
    "start_time": "2022-01-17T18:51:14.437Z"
   },
   {
    "duration": 10,
    "start_time": "2022-01-17T18:51:18.611Z"
   },
   {
    "duration": 17,
    "start_time": "2022-01-17T18:51:18.625Z"
   },
   {
    "duration": 32,
    "start_time": "2022-01-17T18:51:18.645Z"
   },
   {
    "duration": 22,
    "start_time": "2022-01-17T18:51:18.680Z"
   },
   {
    "duration": 8,
    "start_time": "2022-01-17T18:54:52.567Z"
   },
   {
    "duration": 106,
    "start_time": "2022-01-17T18:54:59.304Z"
   },
   {
    "duration": 52,
    "start_time": "2022-01-17T18:54:59.413Z"
   },
   {
    "duration": 6,
    "start_time": "2022-01-17T18:54:59.470Z"
   },
   {
    "duration": 142,
    "start_time": "2022-01-17T18:54:59.480Z"
   },
   {
    "duration": 4105,
    "start_time": "2022-01-17T18:54:59.625Z"
   },
   {
    "duration": 9,
    "start_time": "2022-01-17T18:55:03.733Z"
   },
   {
    "duration": 24,
    "start_time": "2022-01-17T18:55:03.745Z"
   },
   {
    "duration": 18,
    "start_time": "2022-01-17T18:55:03.773Z"
   },
   {
    "duration": 10,
    "start_time": "2022-01-17T18:55:03.794Z"
   },
   {
    "duration": 7,
    "start_time": "2022-01-17T18:55:15.730Z"
   },
   {
    "duration": 9,
    "start_time": "2022-01-17T18:55:34.699Z"
   },
   {
    "duration": 12,
    "start_time": "2022-01-17T18:55:52.831Z"
   },
   {
    "duration": 15,
    "start_time": "2022-01-17T18:57:21.498Z"
   },
   {
    "duration": 1539,
    "start_time": "2022-01-18T14:20:51.767Z"
   },
   {
    "duration": 611,
    "start_time": "2022-01-18T14:21:02.712Z"
   },
   {
    "duration": 25,
    "start_time": "2022-01-18T14:21:03.326Z"
   },
   {
    "duration": 5,
    "start_time": "2022-01-18T14:21:03.359Z"
   },
   {
    "duration": 103,
    "start_time": "2022-01-18T14:21:03.367Z"
   },
   {
    "duration": 4407,
    "start_time": "2022-01-18T14:21:03.472Z"
   },
   {
    "duration": 8,
    "start_time": "2022-01-18T14:21:07.882Z"
   },
   {
    "duration": 16,
    "start_time": "2022-01-18T14:21:07.893Z"
   },
   {
    "duration": 14,
    "start_time": "2022-01-18T14:21:07.912Z"
   },
   {
    "duration": 41,
    "start_time": "2022-01-18T14:21:07.929Z"
   },
   {
    "duration": 11,
    "start_time": "2022-01-18T14:28:02.806Z"
   },
   {
    "duration": 10,
    "start_time": "2022-01-18T14:28:19.298Z"
   },
   {
    "duration": 11,
    "start_time": "2022-01-18T14:28:24.392Z"
   },
   {
    "duration": 10,
    "start_time": "2022-01-18T14:28:49.117Z"
   },
   {
    "duration": 13,
    "start_time": "2022-01-18T14:40:19.394Z"
   },
   {
    "duration": 11,
    "start_time": "2022-01-18T14:41:17.458Z"
   },
   {
    "duration": 400,
    "start_time": "2022-01-18T14:47:36.991Z"
   },
   {
    "duration": 75,
    "start_time": "2022-01-18T14:47:44.846Z"
   },
   {
    "duration": 42,
    "start_time": "2022-01-18T14:47:44.924Z"
   },
   {
    "duration": 5,
    "start_time": "2022-01-18T14:47:44.968Z"
   },
   {
    "duration": 91,
    "start_time": "2022-01-18T14:47:44.975Z"
   },
   {
    "duration": 4086,
    "start_time": "2022-01-18T14:47:45.069Z"
   },
   {
    "duration": 10,
    "start_time": "2022-01-18T14:47:49.160Z"
   },
   {
    "duration": 13,
    "start_time": "2022-01-18T14:47:49.173Z"
   },
   {
    "duration": 13,
    "start_time": "2022-01-18T14:47:49.188Z"
   },
   {
    "duration": 16,
    "start_time": "2022-01-18T14:47:49.205Z"
   },
   {
    "duration": 13,
    "start_time": "2022-01-18T14:47:49.260Z"
   },
   {
    "duration": 23,
    "start_time": "2022-01-18T14:55:44.596Z"
   },
   {
    "duration": 18,
    "start_time": "2022-01-18T14:56:01.468Z"
   },
   {
    "duration": 24,
    "start_time": "2022-01-18T14:56:24.943Z"
   },
   {
    "duration": 14,
    "start_time": "2022-01-18T14:58:41.411Z"
   },
   {
    "duration": 25,
    "start_time": "2022-01-18T15:04:12.857Z"
   },
   {
    "duration": 21,
    "start_time": "2022-01-18T15:04:43.072Z"
   },
   {
    "duration": 33,
    "start_time": "2022-01-18T15:05:29.269Z"
   },
   {
    "duration": 42,
    "start_time": "2022-01-18T15:07:02.034Z"
   },
   {
    "duration": 34,
    "start_time": "2022-01-18T15:07:24.922Z"
   },
   {
    "duration": 12,
    "start_time": "2022-01-18T15:11:57.676Z"
   },
   {
    "duration": 12,
    "start_time": "2022-01-18T15:14:25.681Z"
   },
   {
    "duration": 9,
    "start_time": "2022-01-18T15:15:31.758Z"
   },
   {
    "duration": 5,
    "start_time": "2022-01-18T15:16:52.391Z"
   },
   {
    "duration": 39,
    "start_time": "2022-01-18T15:44:02.613Z"
   },
   {
    "duration": 33,
    "start_time": "2022-01-18T15:44:31.006Z"
   },
   {
    "duration": 1501,
    "start_time": "2022-01-18T15:46:06.518Z"
   },
   {
    "duration": 32,
    "start_time": "2022-01-18T15:46:57.350Z"
   },
   {
    "duration": 654,
    "start_time": "2022-01-18T15:51:25.393Z"
   },
   {
    "duration": 35,
    "start_time": "2022-01-18T15:51:35.023Z"
   },
   {
    "duration": 28,
    "start_time": "2022-01-18T15:52:12.369Z"
   },
   {
    "duration": 73,
    "start_time": "2022-01-18T15:52:50.533Z"
   },
   {
    "duration": 27,
    "start_time": "2022-01-18T15:52:50.730Z"
   },
   {
    "duration": 5,
    "start_time": "2022-01-18T15:52:50.804Z"
   },
   {
    "duration": 79,
    "start_time": "2022-01-18T15:52:50.905Z"
   },
   {
    "duration": 4153,
    "start_time": "2022-01-18T15:52:51.143Z"
   },
   {
    "duration": 27,
    "start_time": "2022-01-18T15:52:55.299Z"
   },
   {
    "duration": 31,
    "start_time": "2022-01-18T15:52:55.329Z"
   },
   {
    "duration": 11,
    "start_time": "2022-01-18T15:52:55.363Z"
   },
   {
    "duration": 10,
    "start_time": "2022-01-18T15:52:55.376Z"
   },
   {
    "duration": 10,
    "start_time": "2022-01-18T15:52:55.388Z"
   },
   {
    "duration": 14,
    "start_time": "2022-01-18T16:00:27.380Z"
   },
   {
    "duration": 71,
    "start_time": "2022-01-18T16:13:40.334Z"
   },
   {
    "duration": 72,
    "start_time": "2022-01-18T16:13:43.885Z"
   },
   {
    "duration": 26,
    "start_time": "2022-01-18T16:13:43.960Z"
   },
   {
    "duration": 5,
    "start_time": "2022-01-18T16:13:43.989Z"
   },
   {
    "duration": 95,
    "start_time": "2022-01-18T16:13:43.997Z"
   },
   {
    "duration": 4064,
    "start_time": "2022-01-18T16:13:44.095Z"
   },
   {
    "duration": 27,
    "start_time": "2022-01-18T16:13:48.161Z"
   },
   {
    "duration": 11,
    "start_time": "2022-01-18T16:13:48.191Z"
   },
   {
    "duration": 13,
    "start_time": "2022-01-18T16:13:48.207Z"
   },
   {
    "duration": 11,
    "start_time": "2022-01-18T16:13:48.260Z"
   },
   {
    "duration": 10,
    "start_time": "2022-01-18T16:13:48.274Z"
   },
   {
    "duration": 104,
    "start_time": "2022-01-18T16:16:24.254Z"
   },
   {
    "duration": 29,
    "start_time": "2022-01-18T16:16:57.012Z"
   },
   {
    "duration": 5,
    "start_time": "2022-01-18T16:19:28.753Z"
   },
   {
    "duration": 83,
    "start_time": "2022-01-18T16:19:37.525Z"
   },
   {
    "duration": 4445,
    "start_time": "2022-01-18T16:21:22.940Z"
   },
   {
    "duration": 34,
    "start_time": "2022-01-18T16:23:00.452Z"
   },
   {
    "duration": 10,
    "start_time": "2022-01-18T16:33:09.277Z"
   },
   {
    "duration": 13,
    "start_time": "2022-01-18T16:33:17.009Z"
   },
   {
    "duration": 12,
    "start_time": "2022-01-18T16:33:21.992Z"
   },
   {
    "duration": 13,
    "start_time": "2022-01-18T16:33:31.052Z"
   },
   {
    "duration": 77,
    "start_time": "2022-01-18T16:39:25.493Z"
   },
   {
    "duration": 27,
    "start_time": "2022-01-18T16:39:25.572Z"
   },
   {
    "duration": 5,
    "start_time": "2022-01-18T16:39:25.601Z"
   },
   {
    "duration": 85,
    "start_time": "2022-01-18T16:39:25.622Z"
   },
   {
    "duration": 4070,
    "start_time": "2022-01-18T16:39:25.709Z"
   },
   {
    "duration": 30,
    "start_time": "2022-01-18T16:39:29.782Z"
   },
   {
    "duration": 9,
    "start_time": "2022-01-18T16:39:29.816Z"
   },
   {
    "duration": 40,
    "start_time": "2022-01-18T16:39:29.828Z"
   },
   {
    "duration": 10,
    "start_time": "2022-01-18T16:39:29.871Z"
   },
   {
    "duration": 11,
    "start_time": "2022-01-18T16:39:29.884Z"
   },
   {
    "duration": 74,
    "start_time": "2022-01-18T16:41:06.142Z"
   },
   {
    "duration": 26,
    "start_time": "2022-01-18T16:41:06.219Z"
   },
   {
    "duration": 13,
    "start_time": "2022-01-18T16:41:06.248Z"
   },
   {
    "duration": 96,
    "start_time": "2022-01-18T16:41:06.263Z"
   },
   {
    "duration": 4257,
    "start_time": "2022-01-18T16:41:06.362Z"
   },
   {
    "duration": 37,
    "start_time": "2022-01-18T16:41:10.622Z"
   },
   {
    "duration": 10,
    "start_time": "2022-01-18T16:41:10.662Z"
   },
   {
    "duration": 12,
    "start_time": "2022-01-18T16:41:10.675Z"
   },
   {
    "duration": 9,
    "start_time": "2022-01-18T16:41:10.689Z"
   },
   {
    "duration": 58,
    "start_time": "2022-01-18T16:41:10.701Z"
   },
   {
    "duration": 832,
    "start_time": "2022-01-21T20:31:30.103Z"
   },
   {
    "duration": 28,
    "start_time": "2022-01-21T20:31:30.938Z"
   },
   {
    "duration": 5,
    "start_time": "2022-01-21T20:31:30.969Z"
   },
   {
    "duration": 102,
    "start_time": "2022-01-21T20:31:30.977Z"
   },
   {
    "duration": 4785,
    "start_time": "2022-01-21T20:31:31.081Z"
   },
   {
    "duration": 29,
    "start_time": "2022-01-21T20:31:35.868Z"
   },
   {
    "duration": 9,
    "start_time": "2022-01-21T20:31:35.900Z"
   },
   {
    "duration": 12,
    "start_time": "2022-01-21T20:31:35.914Z"
   },
   {
    "duration": 12,
    "start_time": "2022-01-21T20:31:35.965Z"
   },
   {
    "duration": 11,
    "start_time": "2022-01-21T20:31:35.980Z"
   },
   {
    "duration": 139,
    "start_time": "2022-01-21T20:34:56.926Z"
   },
   {
    "duration": 10,
    "start_time": "2022-01-21T20:40:11.304Z"
   },
   {
    "duration": 10,
    "start_time": "2022-01-21T20:42:49.004Z"
   },
   {
    "duration": 28,
    "start_time": "2022-01-21T20:43:00.276Z"
   },
   {
    "duration": 11,
    "start_time": "2022-01-21T20:43:00.764Z"
   },
   {
    "duration": 453,
    "start_time": "2022-01-21T20:45:29.755Z"
   },
   {
    "duration": 16,
    "start_time": "2022-01-21T20:45:41.699Z"
   },
   {
    "duration": 201,
    "start_time": "2022-01-21T20:47:50.969Z"
   },
   {
    "duration": 784,
    "start_time": "2022-01-21T20:49:58.394Z"
   },
   {
    "duration": 29,
    "start_time": "2022-01-21T20:49:59.182Z"
   },
   {
    "duration": 6,
    "start_time": "2022-01-21T20:49:59.214Z"
   },
   {
    "duration": 116,
    "start_time": "2022-01-21T20:49:59.224Z"
   },
   {
    "duration": 4735,
    "start_time": "2022-01-21T20:49:59.343Z"
   },
   {
    "duration": 29,
    "start_time": "2022-01-21T20:50:04.081Z"
   },
   {
    "duration": 10,
    "start_time": "2022-01-21T20:50:04.112Z"
   },
   {
    "duration": 45,
    "start_time": "2022-01-21T20:50:04.125Z"
   },
   {
    "duration": 8,
    "start_time": "2022-01-21T20:50:04.173Z"
   },
   {
    "duration": 17,
    "start_time": "2022-01-21T20:50:04.183Z"
   },
   {
    "duration": 15,
    "start_time": "2022-01-21T20:50:04.202Z"
   },
   {
    "duration": 11,
    "start_time": "2022-01-21T20:50:04.219Z"
   },
   {
    "duration": 923,
    "start_time": "2022-01-22T18:45:01.818Z"
   },
   {
    "duration": 123,
    "start_time": "2022-01-22T18:52:35.115Z"
   },
   {
    "duration": 186,
    "start_time": "2022-01-22T18:53:52.900Z"
   },
   {
    "duration": 5,
    "start_time": "2022-01-22T19:01:09.469Z"
   },
   {
    "duration": 5,
    "start_time": "2022-01-22T19:02:03.143Z"
   },
   {
    "duration": 10,
    "start_time": "2022-01-22T19:04:51.026Z"
   },
   {
    "duration": 4,
    "start_time": "2022-01-22T19:04:51.840Z"
   },
   {
    "duration": 11,
    "start_time": "2022-01-22T19:04:52.385Z"
   },
   {
    "duration": 14,
    "start_time": "2022-01-22T19:04:53.249Z"
   },
   {
    "duration": 125,
    "start_time": "2022-01-22T19:04:56.514Z"
   },
   {
    "duration": 22,
    "start_time": "2022-01-22T19:04:56.641Z"
   },
   {
    "duration": 5,
    "start_time": "2022-01-22T19:04:56.665Z"
   },
   {
    "duration": 11,
    "start_time": "2022-01-22T19:04:56.672Z"
   },
   {
    "duration": 13,
    "start_time": "2022-01-22T19:04:56.685Z"
   },
   {
    "duration": 5,
    "start_time": "2022-01-22T19:04:56.700Z"
   },
   {
    "duration": 119,
    "start_time": "2022-01-22T19:04:56.708Z"
   },
   {
    "duration": 4821,
    "start_time": "2022-01-22T19:04:56.832Z"
   },
   {
    "duration": 32,
    "start_time": "2022-01-22T19:05:01.656Z"
   },
   {
    "duration": 11,
    "start_time": "2022-01-22T19:05:01.691Z"
   },
   {
    "duration": 56,
    "start_time": "2022-01-22T19:05:01.705Z"
   },
   {
    "duration": 12,
    "start_time": "2022-01-22T19:05:01.764Z"
   },
   {
    "duration": 14,
    "start_time": "2022-01-22T19:05:01.778Z"
   },
   {
    "duration": 9,
    "start_time": "2022-01-22T19:05:01.795Z"
   },
   {
    "duration": 55,
    "start_time": "2022-01-22T19:05:01.806Z"
   },
   {
    "duration": 549,
    "start_time": "2022-01-22T19:08:57.690Z"
   },
   {
    "duration": 6,
    "start_time": "2022-01-22T19:09:32.132Z"
   },
   {
    "duration": 7,
    "start_time": "2022-01-22T19:10:30.112Z"
   },
   {
    "duration": 421,
    "start_time": "2022-01-22T19:11:07.929Z"
   },
   {
    "duration": 7,
    "start_time": "2022-01-22T19:11:43.064Z"
   },
   {
    "duration": 11,
    "start_time": "2022-01-22T19:13:14.041Z"
   },
   {
    "duration": 6,
    "start_time": "2022-01-22T19:15:59.993Z"
   },
   {
    "duration": 7,
    "start_time": "2022-01-22T19:17:23.244Z"
   },
   {
    "duration": 125,
    "start_time": "2022-01-22T19:17:30.503Z"
   },
   {
    "duration": 5,
    "start_time": "2022-01-22T19:17:30.630Z"
   },
   {
    "duration": 27,
    "start_time": "2022-01-22T19:17:30.638Z"
   },
   {
    "duration": 6,
    "start_time": "2022-01-22T19:17:30.667Z"
   },
   {
    "duration": 21,
    "start_time": "2022-01-22T19:17:30.675Z"
   },
   {
    "duration": 13,
    "start_time": "2022-01-22T19:17:30.698Z"
   },
   {
    "duration": 9,
    "start_time": "2022-01-22T19:17:30.713Z"
   },
   {
    "duration": 41,
    "start_time": "2022-01-22T19:17:30.726Z"
   },
   {
    "duration": 7,
    "start_time": "2022-01-22T19:17:30.769Z"
   },
   {
    "duration": 19,
    "start_time": "2022-01-22T19:17:30.778Z"
   },
   {
    "duration": 12,
    "start_time": "2022-01-22T19:17:30.800Z"
   },
   {
    "duration": 17,
    "start_time": "2022-01-22T19:17:30.814Z"
   },
   {
    "duration": 27,
    "start_time": "2022-01-22T19:17:30.833Z"
   },
   {
    "duration": 6,
    "start_time": "2022-01-22T19:17:30.863Z"
   },
   {
    "duration": 16,
    "start_time": "2022-01-22T19:17:30.871Z"
   },
   {
    "duration": 8,
    "start_time": "2022-01-22T19:17:30.889Z"
   },
   {
    "duration": 14,
    "start_time": "2022-01-22T19:17:30.899Z"
   },
   {
    "duration": 14,
    "start_time": "2022-01-22T19:17:30.915Z"
   },
   {
    "duration": 33,
    "start_time": "2022-01-22T19:17:30.931Z"
   },
   {
    "duration": 90,
    "start_time": "2022-01-22T19:17:30.966Z"
   },
   {
    "duration": 4193,
    "start_time": "2022-01-22T19:17:31.059Z"
   },
   {
    "duration": 26,
    "start_time": "2022-01-22T19:17:35.255Z"
   },
   {
    "duration": 10,
    "start_time": "2022-01-22T19:17:35.285Z"
   },
   {
    "duration": 17,
    "start_time": "2022-01-22T19:17:35.297Z"
   },
   {
    "duration": 45,
    "start_time": "2022-01-22T19:17:35.317Z"
   },
   {
    "duration": 11,
    "start_time": "2022-01-22T19:17:35.364Z"
   },
   {
    "duration": 9,
    "start_time": "2022-01-22T19:17:35.377Z"
   },
   {
    "duration": 9,
    "start_time": "2022-01-22T19:17:35.388Z"
   },
   {
    "duration": 9,
    "start_time": "2022-01-22T19:18:18.731Z"
   },
   {
    "duration": 14,
    "start_time": "2022-01-22T19:21:10.724Z"
   },
   {
    "duration": 46,
    "start_time": "2022-01-22T19:21:29.871Z"
   },
   {
    "duration": 75,
    "start_time": "2022-01-22T19:21:32.513Z"
   },
   {
    "duration": 11,
    "start_time": "2022-01-22T19:21:32.590Z"
   },
   {
    "duration": 72,
    "start_time": "2022-01-22T19:21:32.604Z"
   },
   {
    "duration": 5,
    "start_time": "2022-01-22T19:21:32.679Z"
   },
   {
    "duration": 9,
    "start_time": "2022-01-22T19:21:32.686Z"
   },
   {
    "duration": 10,
    "start_time": "2022-01-22T19:21:32.697Z"
   },
   {
    "duration": 4,
    "start_time": "2022-01-22T19:21:32.709Z"
   },
   {
    "duration": 52,
    "start_time": "2022-01-22T19:21:32.717Z"
   },
   {
    "duration": 13,
    "start_time": "2022-01-22T19:21:32.772Z"
   },
   {
    "duration": 6,
    "start_time": "2022-01-22T19:21:32.787Z"
   },
   {
    "duration": 11,
    "start_time": "2022-01-22T19:21:32.796Z"
   },
   {
    "duration": 6,
    "start_time": "2022-01-22T19:21:32.810Z"
   },
   {
    "duration": 8,
    "start_time": "2022-01-22T19:21:32.859Z"
   },
   {
    "duration": 7,
    "start_time": "2022-01-22T19:21:32.870Z"
   },
   {
    "duration": 5,
    "start_time": "2022-01-22T19:21:32.879Z"
   },
   {
    "duration": 5,
    "start_time": "2022-01-22T19:21:32.886Z"
   },
   {
    "duration": 7,
    "start_time": "2022-01-22T19:21:32.893Z"
   },
   {
    "duration": 57,
    "start_time": "2022-01-22T19:21:32.902Z"
   },
   {
    "duration": 6,
    "start_time": "2022-01-22T19:21:32.962Z"
   },
   {
    "duration": 6,
    "start_time": "2022-01-22T19:21:32.970Z"
   },
   {
    "duration": 7,
    "start_time": "2022-01-22T19:21:32.978Z"
   },
   {
    "duration": 4,
    "start_time": "2022-01-22T19:21:32.988Z"
   },
   {
    "duration": 122,
    "start_time": "2022-01-22T19:21:32.996Z"
   },
   {
    "duration": 4255,
    "start_time": "2022-01-22T19:21:33.121Z"
   },
   {
    "duration": 27,
    "start_time": "2022-01-22T19:21:37.378Z"
   },
   {
    "duration": 10,
    "start_time": "2022-01-22T19:21:37.407Z"
   },
   {
    "duration": 44,
    "start_time": "2022-01-22T19:21:37.420Z"
   },
   {
    "duration": 8,
    "start_time": "2022-01-22T19:21:37.466Z"
   },
   {
    "duration": 11,
    "start_time": "2022-01-22T19:21:37.476Z"
   },
   {
    "duration": 9,
    "start_time": "2022-01-22T19:21:37.489Z"
   },
   {
    "duration": 9,
    "start_time": "2022-01-22T19:21:37.501Z"
   },
   {
    "duration": 7,
    "start_time": "2022-01-22T19:23:13.698Z"
   },
   {
    "duration": 83,
    "start_time": "2022-01-22T19:23:34.896Z"
   },
   {
    "duration": 14,
    "start_time": "2022-01-22T19:23:34.982Z"
   },
   {
    "duration": 81,
    "start_time": "2022-01-22T19:23:34.999Z"
   },
   {
    "duration": 6,
    "start_time": "2022-01-22T19:23:35.083Z"
   },
   {
    "duration": 9,
    "start_time": "2022-01-22T19:23:35.092Z"
   },
   {
    "duration": 4,
    "start_time": "2022-01-22T19:23:35.104Z"
   },
   {
    "duration": 9,
    "start_time": "2022-01-22T19:23:35.110Z"
   },
   {
    "duration": 10,
    "start_time": "2022-01-22T19:23:35.160Z"
   },
   {
    "duration": 11,
    "start_time": "2022-01-22T19:23:35.173Z"
   },
   {
    "duration": 12,
    "start_time": "2022-01-22T19:23:35.187Z"
   },
   {
    "duration": 15,
    "start_time": "2022-01-22T19:23:35.202Z"
   },
   {
    "duration": 8,
    "start_time": "2022-01-22T19:23:35.260Z"
   },
   {
    "duration": 11,
    "start_time": "2022-01-22T19:23:35.271Z"
   },
   {
    "duration": 6,
    "start_time": "2022-01-22T19:23:35.285Z"
   },
   {
    "duration": 6,
    "start_time": "2022-01-22T19:23:35.294Z"
   },
   {
    "duration": 5,
    "start_time": "2022-01-22T19:23:35.302Z"
   },
   {
    "duration": 6,
    "start_time": "2022-01-22T19:23:35.360Z"
   },
   {
    "duration": 6,
    "start_time": "2022-01-22T19:23:35.368Z"
   },
   {
    "duration": 12,
    "start_time": "2022-01-22T19:23:35.376Z"
   },
   {
    "duration": 11,
    "start_time": "2022-01-22T19:23:35.390Z"
   },
   {
    "duration": 11,
    "start_time": "2022-01-22T19:23:35.404Z"
   },
   {
    "duration": 45,
    "start_time": "2022-01-22T19:23:35.417Z"
   },
   {
    "duration": 5,
    "start_time": "2022-01-22T19:23:35.466Z"
   },
   {
    "duration": 5,
    "start_time": "2022-01-22T19:23:35.474Z"
   },
   {
    "duration": 106,
    "start_time": "2022-01-22T19:23:35.482Z"
   },
   {
    "duration": 5059,
    "start_time": "2022-01-22T19:23:35.590Z"
   },
   {
    "duration": 34,
    "start_time": "2022-01-22T19:23:40.651Z"
   },
   {
    "duration": 11,
    "start_time": "2022-01-22T19:23:40.688Z"
   },
   {
    "duration": 17,
    "start_time": "2022-01-22T19:23:40.702Z"
   },
   {
    "duration": 11,
    "start_time": "2022-01-22T19:23:40.758Z"
   },
   {
    "duration": 12,
    "start_time": "2022-01-22T19:23:40.772Z"
   },
   {
    "duration": 12,
    "start_time": "2022-01-22T19:23:40.787Z"
   },
   {
    "duration": 60,
    "start_time": "2022-01-22T19:23:40.801Z"
   },
   {
    "duration": 77,
    "start_time": "2022-01-22T19:26:43.415Z"
   },
   {
    "duration": 12,
    "start_time": "2022-01-22T19:26:43.495Z"
   },
   {
    "duration": 64,
    "start_time": "2022-01-22T19:26:43.510Z"
   },
   {
    "duration": 5,
    "start_time": "2022-01-22T19:26:43.577Z"
   },
   {
    "duration": 7,
    "start_time": "2022-01-22T19:26:43.585Z"
   },
   {
    "duration": 4,
    "start_time": "2022-01-22T19:26:43.594Z"
   },
   {
    "duration": 7,
    "start_time": "2022-01-22T19:26:43.600Z"
   },
   {
    "duration": 49,
    "start_time": "2022-01-22T19:26:43.611Z"
   },
   {
    "duration": 10,
    "start_time": "2022-01-22T19:26:43.663Z"
   },
   {
    "duration": 5,
    "start_time": "2022-01-22T19:26:43.675Z"
   },
   {
    "duration": 10,
    "start_time": "2022-01-22T19:26:43.682Z"
   },
   {
    "duration": 17,
    "start_time": "2022-01-22T19:26:43.694Z"
   },
   {
    "duration": 47,
    "start_time": "2022-01-22T19:26:43.714Z"
   },
   {
    "duration": 72,
    "start_time": "2022-01-22T19:26:43.763Z"
   },
   {
    "duration": 4091,
    "start_time": "2022-01-22T19:26:43.838Z"
   },
   {
    "duration": 33,
    "start_time": "2022-01-22T19:26:47.931Z"
   },
   {
    "duration": 9,
    "start_time": "2022-01-22T19:26:47.966Z"
   },
   {
    "duration": 18,
    "start_time": "2022-01-22T19:26:47.977Z"
   },
   {
    "duration": 9,
    "start_time": "2022-01-22T19:26:47.997Z"
   },
   {
    "duration": 55,
    "start_time": "2022-01-22T19:26:48.008Z"
   },
   {
    "duration": 9,
    "start_time": "2022-01-22T19:26:48.065Z"
   },
   {
    "duration": 9,
    "start_time": "2022-01-22T19:26:48.077Z"
   },
   {
    "duration": 82,
    "start_time": "2022-01-22T19:28:05.987Z"
   },
   {
    "duration": 15,
    "start_time": "2022-01-22T19:28:06.072Z"
   },
   {
    "duration": 70,
    "start_time": "2022-01-22T19:28:06.090Z"
   },
   {
    "duration": 6,
    "start_time": "2022-01-22T19:28:06.163Z"
   },
   {
    "duration": 8,
    "start_time": "2022-01-22T19:28:06.171Z"
   },
   {
    "duration": 4,
    "start_time": "2022-01-22T19:28:06.182Z"
   },
   {
    "duration": 8,
    "start_time": "2022-01-22T19:28:06.188Z"
   },
   {
    "duration": 10,
    "start_time": "2022-01-22T19:28:06.200Z"
   },
   {
    "duration": 56,
    "start_time": "2022-01-22T19:28:06.213Z"
   },
   {
    "duration": 6,
    "start_time": "2022-01-22T19:28:06.272Z"
   },
   {
    "duration": 6,
    "start_time": "2022-01-22T19:28:06.280Z"
   },
   {
    "duration": 8,
    "start_time": "2022-01-22T19:28:06.288Z"
   },
   {
    "duration": 9,
    "start_time": "2022-01-22T19:28:06.299Z"
   },
   {
    "duration": 58,
    "start_time": "2022-01-22T19:28:06.311Z"
   },
   {
    "duration": 5,
    "start_time": "2022-01-22T19:28:06.372Z"
   },
   {
    "duration": 96,
    "start_time": "2022-01-22T19:28:06.379Z"
   },
   {
    "duration": 4026,
    "start_time": "2022-01-22T19:28:06.477Z"
   },
   {
    "duration": 27,
    "start_time": "2022-01-22T19:28:10.506Z"
   },
   {
    "duration": 26,
    "start_time": "2022-01-22T19:28:10.535Z"
   },
   {
    "duration": 17,
    "start_time": "2022-01-22T19:28:10.563Z"
   },
   {
    "duration": 9,
    "start_time": "2022-01-22T19:28:10.582Z"
   },
   {
    "duration": 11,
    "start_time": "2022-01-22T19:28:10.593Z"
   },
   {
    "duration": 9,
    "start_time": "2022-01-22T19:28:10.607Z"
   },
   {
    "duration": 52,
    "start_time": "2022-01-22T19:28:10.618Z"
   },
   {
    "duration": 74,
    "start_time": "2022-01-22T19:29:13.064Z"
   },
   {
    "duration": 28,
    "start_time": "2022-01-22T19:29:13.140Z"
   },
   {
    "duration": 49,
    "start_time": "2022-01-22T19:29:13.172Z"
   },
   {
    "duration": 6,
    "start_time": "2022-01-22T19:29:13.223Z"
   },
   {
    "duration": 7,
    "start_time": "2022-01-22T19:29:13.260Z"
   },
   {
    "duration": 4,
    "start_time": "2022-01-22T19:29:13.270Z"
   },
   {
    "duration": 7,
    "start_time": "2022-01-22T19:29:13.276Z"
   },
   {
    "duration": 10,
    "start_time": "2022-01-22T19:29:13.287Z"
   },
   {
    "duration": 11,
    "start_time": "2022-01-22T19:29:13.299Z"
   },
   {
    "duration": 50,
    "start_time": "2022-01-22T19:29:13.312Z"
   },
   {
    "duration": 9,
    "start_time": "2022-01-22T19:29:13.364Z"
   },
   {
    "duration": 9,
    "start_time": "2022-01-22T19:29:13.375Z"
   },
   {
    "duration": 16,
    "start_time": "2022-01-22T19:29:13.387Z"
   },
   {
    "duration": 57,
    "start_time": "2022-01-22T19:29:13.406Z"
   },
   {
    "duration": 5,
    "start_time": "2022-01-22T19:29:13.466Z"
   },
   {
    "duration": 92,
    "start_time": "2022-01-22T19:29:13.473Z"
   },
   {
    "duration": 4476,
    "start_time": "2022-01-22T19:29:13.568Z"
   },
   {
    "duration": 36,
    "start_time": "2022-01-22T19:29:18.046Z"
   },
   {
    "duration": 9,
    "start_time": "2022-01-22T19:29:18.085Z"
   },
   {
    "duration": 16,
    "start_time": "2022-01-22T19:29:18.096Z"
   },
   {
    "duration": 8,
    "start_time": "2022-01-22T19:29:18.114Z"
   },
   {
    "duration": 45,
    "start_time": "2022-01-22T19:29:18.124Z"
   },
   {
    "duration": 10,
    "start_time": "2022-01-22T19:29:18.173Z"
   },
   {
    "duration": 10,
    "start_time": "2022-01-22T19:29:18.185Z"
   },
   {
    "duration": 13,
    "start_time": "2022-01-22T19:30:05.846Z"
   },
   {
    "duration": 10,
    "start_time": "2022-01-22T19:30:18.271Z"
   },
   {
    "duration": 10,
    "start_time": "2022-01-22T19:30:38.105Z"
   },
   {
    "duration": 377,
    "start_time": "2022-01-22T19:30:50.386Z"
   },
   {
    "duration": 8,
    "start_time": "2022-01-22T19:31:11.207Z"
   },
   {
    "duration": 8,
    "start_time": "2022-01-22T19:32:34.547Z"
   },
   {
    "duration": 12,
    "start_time": "2022-01-22T19:32:49.726Z"
   },
   {
    "duration": 7,
    "start_time": "2022-01-22T19:33:14.578Z"
   },
   {
    "duration": 9,
    "start_time": "2022-01-22T19:33:33.561Z"
   },
   {
    "duration": 8,
    "start_time": "2022-01-22T19:34:13.734Z"
   },
   {
    "duration": 15,
    "start_time": "2022-01-22T19:34:26.056Z"
   },
   {
    "duration": 6,
    "start_time": "2022-01-22T19:35:04.929Z"
   },
   {
    "duration": 9,
    "start_time": "2022-01-22T19:35:38.811Z"
   },
   {
    "duration": 8,
    "start_time": "2022-01-22T19:36:32.260Z"
   },
   {
    "duration": 10,
    "start_time": "2022-01-22T19:36:49.679Z"
   },
   {
    "duration": 369,
    "start_time": "2022-01-22T19:37:34.040Z"
   },
   {
    "duration": 21,
    "start_time": "2022-01-22T19:37:47.115Z"
   },
   {
    "duration": 26,
    "start_time": "2022-01-22T19:43:18.003Z"
   },
   {
    "duration": 12,
    "start_time": "2022-01-22T19:43:51.653Z"
   },
   {
    "duration": 399,
    "start_time": "2022-01-22T19:45:35.896Z"
   },
   {
    "duration": 356,
    "start_time": "2022-01-22T19:45:47.829Z"
   },
   {
    "duration": 10,
    "start_time": "2022-01-22T19:46:57.849Z"
   },
   {
    "duration": 6,
    "start_time": "2022-01-22T19:47:38.891Z"
   },
   {
    "duration": 6,
    "start_time": "2022-01-22T19:47:58.411Z"
   },
   {
    "duration": 10,
    "start_time": "2022-01-22T19:48:19.970Z"
   },
   {
    "duration": 5,
    "start_time": "2022-01-22T19:48:45.983Z"
   },
   {
    "duration": 8,
    "start_time": "2022-01-22T19:48:58.004Z"
   },
   {
    "duration": 8,
    "start_time": "2022-01-22T19:50:14.773Z"
   },
   {
    "duration": 11,
    "start_time": "2022-01-22T19:50:51.840Z"
   },
   {
    "duration": 10,
    "start_time": "2022-01-22T19:51:08.720Z"
   },
   {
    "duration": 9,
    "start_time": "2022-01-22T19:51:40.866Z"
   },
   {
    "duration": 7,
    "start_time": "2022-01-22T19:52:11.417Z"
   },
   {
    "duration": 74,
    "start_time": "2022-01-22T19:52:19.828Z"
   },
   {
    "duration": 12,
    "start_time": "2022-01-22T19:52:19.905Z"
   },
   {
    "duration": 77,
    "start_time": "2022-01-22T19:52:19.920Z"
   },
   {
    "duration": 5,
    "start_time": "2022-01-22T19:52:20.000Z"
   },
   {
    "duration": 10,
    "start_time": "2022-01-22T19:52:20.008Z"
   },
   {
    "duration": 4,
    "start_time": "2022-01-22T19:52:20.020Z"
   },
   {
    "duration": 7,
    "start_time": "2022-01-22T19:52:20.060Z"
   },
   {
    "duration": 10,
    "start_time": "2022-01-22T19:52:20.071Z"
   },
   {
    "duration": 11,
    "start_time": "2022-01-22T19:52:20.084Z"
   },
   {
    "duration": 6,
    "start_time": "2022-01-22T19:52:20.098Z"
   },
   {
    "duration": 55,
    "start_time": "2022-01-22T19:52:20.106Z"
   },
   {
    "duration": 14,
    "start_time": "2022-01-22T19:52:20.163Z"
   },
   {
    "duration": 16,
    "start_time": "2022-01-22T19:52:20.180Z"
   },
   {
    "duration": 10,
    "start_time": "2022-01-22T19:52:20.199Z"
   },
   {
    "duration": 12,
    "start_time": "2022-01-22T19:52:20.212Z"
   },
   {
    "duration": 12,
    "start_time": "2022-01-22T19:52:20.260Z"
   },
   {
    "duration": 7,
    "start_time": "2022-01-22T19:52:20.276Z"
   },
   {
    "duration": 10,
    "start_time": "2022-01-22T19:52:20.286Z"
   },
   {
    "duration": 62,
    "start_time": "2022-01-22T19:52:20.299Z"
   },
   {
    "duration": 12,
    "start_time": "2022-01-22T19:52:20.364Z"
   },
   {
    "duration": 7,
    "start_time": "2022-01-22T19:52:20.379Z"
   },
   {
    "duration": 7,
    "start_time": "2022-01-22T19:52:20.389Z"
   },
   {
    "duration": 6,
    "start_time": "2022-01-22T19:52:20.402Z"
   },
   {
    "duration": 53,
    "start_time": "2022-01-22T19:52:20.410Z"
   },
   {
    "duration": 19,
    "start_time": "2022-01-22T19:52:20.466Z"
   },
   {
    "duration": 17,
    "start_time": "2022-01-22T19:52:20.487Z"
   },
   {
    "duration": 8,
    "start_time": "2022-01-22T19:52:20.506Z"
   },
   {
    "duration": 44,
    "start_time": "2022-01-22T19:52:20.516Z"
   },
   {
    "duration": 6,
    "start_time": "2022-01-22T19:52:20.563Z"
   },
   {
    "duration": 9,
    "start_time": "2022-01-22T19:52:20.571Z"
   },
   {
    "duration": 7,
    "start_time": "2022-01-22T19:52:20.583Z"
   },
   {
    "duration": 8,
    "start_time": "2022-01-22T19:52:20.592Z"
   },
   {
    "duration": 7,
    "start_time": "2022-01-22T19:52:20.602Z"
   },
   {
    "duration": 54,
    "start_time": "2022-01-22T19:52:20.612Z"
   },
   {
    "duration": 9,
    "start_time": "2022-01-22T19:52:20.668Z"
   },
   {
    "duration": 5,
    "start_time": "2022-01-22T19:52:20.679Z"
   },
   {
    "duration": 9,
    "start_time": "2022-01-22T19:52:20.686Z"
   },
   {
    "duration": 5,
    "start_time": "2022-01-22T19:52:20.697Z"
   },
   {
    "duration": 130,
    "start_time": "2022-01-22T19:52:20.705Z"
   },
   {
    "duration": 4165,
    "start_time": "2022-01-22T19:52:20.837Z"
   },
   {
    "duration": 28,
    "start_time": "2022-01-22T19:52:25.005Z"
   },
   {
    "duration": 26,
    "start_time": "2022-01-22T19:52:25.035Z"
   },
   {
    "duration": 18,
    "start_time": "2022-01-22T19:52:25.063Z"
   },
   {
    "duration": 8,
    "start_time": "2022-01-22T19:52:25.083Z"
   },
   {
    "duration": 10,
    "start_time": "2022-01-22T19:52:25.094Z"
   },
   {
    "duration": 54,
    "start_time": "2022-01-22T19:52:25.107Z"
   },
   {
    "duration": 10,
    "start_time": "2022-01-22T19:52:25.164Z"
   },
   {
    "duration": 11,
    "start_time": "2022-01-22T19:52:45.049Z"
   },
   {
    "duration": 78,
    "start_time": "2022-01-22T19:52:49.194Z"
   },
   {
    "duration": 20,
    "start_time": "2022-01-22T19:52:49.275Z"
   },
   {
    "duration": 63,
    "start_time": "2022-01-22T19:52:49.298Z"
   },
   {
    "duration": 6,
    "start_time": "2022-01-22T19:52:49.364Z"
   },
   {
    "duration": 9,
    "start_time": "2022-01-22T19:52:49.372Z"
   },
   {
    "duration": 4,
    "start_time": "2022-01-22T19:52:49.383Z"
   },
   {
    "duration": 8,
    "start_time": "2022-01-22T19:52:49.390Z"
   },
   {
    "duration": 59,
    "start_time": "2022-01-22T19:52:49.401Z"
   },
   {
    "duration": 12,
    "start_time": "2022-01-22T19:52:49.463Z"
   },
   {
    "duration": 6,
    "start_time": "2022-01-22T19:52:49.477Z"
   },
   {
    "duration": 8,
    "start_time": "2022-01-22T19:52:49.486Z"
   },
   {
    "duration": 10,
    "start_time": "2022-01-22T19:52:49.497Z"
   },
   {
    "duration": 54,
    "start_time": "2022-01-22T19:52:49.509Z"
   },
   {
    "duration": 9,
    "start_time": "2022-01-22T19:52:49.566Z"
   },
   {
    "duration": 10,
    "start_time": "2022-01-22T19:52:49.578Z"
   },
   {
    "duration": 14,
    "start_time": "2022-01-22T19:52:49.590Z"
   },
   {
    "duration": 12,
    "start_time": "2022-01-22T19:52:49.607Z"
   },
   {
    "duration": 43,
    "start_time": "2022-01-22T19:52:49.621Z"
   },
   {
    "duration": 6,
    "start_time": "2022-01-22T19:52:49.667Z"
   },
   {
    "duration": 9,
    "start_time": "2022-01-22T19:52:49.675Z"
   },
   {
    "duration": 6,
    "start_time": "2022-01-22T19:52:49.686Z"
   },
   {
    "duration": 8,
    "start_time": "2022-01-22T19:52:49.694Z"
   },
   {
    "duration": 6,
    "start_time": "2022-01-22T19:52:49.706Z"
   },
   {
    "duration": 9,
    "start_time": "2022-01-22T19:52:49.760Z"
   },
   {
    "duration": 18,
    "start_time": "2022-01-22T19:52:49.772Z"
   },
   {
    "duration": 12,
    "start_time": "2022-01-22T19:52:49.792Z"
   },
   {
    "duration": 9,
    "start_time": "2022-01-22T19:52:49.806Z"
   },
   {
    "duration": 43,
    "start_time": "2022-01-22T19:52:49.817Z"
   },
   {
    "duration": 6,
    "start_time": "2022-01-22T19:52:49.863Z"
   },
   {
    "duration": 12,
    "start_time": "2022-01-22T19:52:49.871Z"
   },
   {
    "duration": 7,
    "start_time": "2022-01-22T19:52:49.885Z"
   },
   {
    "duration": 7,
    "start_time": "2022-01-22T19:52:49.894Z"
   },
   {
    "duration": 56,
    "start_time": "2022-01-22T19:52:49.903Z"
   },
   {
    "duration": 11,
    "start_time": "2022-01-22T19:52:49.961Z"
   },
   {
    "duration": 8,
    "start_time": "2022-01-22T19:52:49.974Z"
   },
   {
    "duration": 6,
    "start_time": "2022-01-22T19:52:49.984Z"
   },
   {
    "duration": 8,
    "start_time": "2022-01-22T19:52:49.992Z"
   },
   {
    "duration": 9,
    "start_time": "2022-01-22T19:52:50.003Z"
   },
   {
    "duration": 5,
    "start_time": "2022-01-22T19:52:50.014Z"
   },
   {
    "duration": 75,
    "start_time": "2022-01-22T19:52:50.060Z"
   },
   {
    "duration": 4065,
    "start_time": "2022-01-22T19:52:50.159Z"
   },
   {
    "duration": 36,
    "start_time": "2022-01-22T19:52:54.226Z"
   },
   {
    "duration": 9,
    "start_time": "2022-01-22T19:52:54.264Z"
   },
   {
    "duration": 16,
    "start_time": "2022-01-22T19:52:54.276Z"
   },
   {
    "duration": 9,
    "start_time": "2022-01-22T19:52:54.294Z"
   },
   {
    "duration": 53,
    "start_time": "2022-01-22T19:52:54.306Z"
   },
   {
    "duration": 11,
    "start_time": "2022-01-22T19:52:54.362Z"
   },
   {
    "duration": 9,
    "start_time": "2022-01-22T19:52:54.375Z"
   },
   {
    "duration": 50,
    "start_time": "2022-01-22T19:57:47.758Z"
   },
   {
    "duration": 95,
    "start_time": "2022-01-22T19:57:50.764Z"
   },
   {
    "duration": 13,
    "start_time": "2022-01-22T19:57:50.861Z"
   },
   {
    "duration": 50,
    "start_time": "2022-01-22T19:57:50.877Z"
   },
   {
    "duration": 33,
    "start_time": "2022-01-22T19:57:50.929Z"
   },
   {
    "duration": 9,
    "start_time": "2022-01-22T19:57:50.964Z"
   },
   {
    "duration": 4,
    "start_time": "2022-01-22T19:57:50.975Z"
   },
   {
    "duration": 9,
    "start_time": "2022-01-22T19:57:50.981Z"
   },
   {
    "duration": 11,
    "start_time": "2022-01-22T19:57:50.993Z"
   },
   {
    "duration": 57,
    "start_time": "2022-01-22T19:57:51.012Z"
   },
   {
    "duration": 7,
    "start_time": "2022-01-22T19:57:51.073Z"
   },
   {
    "duration": 6,
    "start_time": "2022-01-22T19:57:51.083Z"
   },
   {
    "duration": 9,
    "start_time": "2022-01-22T19:57:51.091Z"
   },
   {
    "duration": 62,
    "start_time": "2022-01-22T19:57:51.103Z"
   },
   {
    "duration": 8,
    "start_time": "2022-01-22T19:57:51.168Z"
   },
   {
    "duration": 7,
    "start_time": "2022-01-22T19:57:51.178Z"
   },
   {
    "duration": 10,
    "start_time": "2022-01-22T19:57:51.188Z"
   },
   {
    "duration": 6,
    "start_time": "2022-01-22T19:57:51.200Z"
   },
   {
    "duration": 53,
    "start_time": "2022-01-22T19:57:51.209Z"
   },
   {
    "duration": 8,
    "start_time": "2022-01-22T19:57:51.264Z"
   },
   {
    "duration": 10,
    "start_time": "2022-01-22T19:57:51.274Z"
   },
   {
    "duration": 6,
    "start_time": "2022-01-22T19:57:51.286Z"
   },
   {
    "duration": 7,
    "start_time": "2022-01-22T19:57:51.294Z"
   },
   {
    "duration": 6,
    "start_time": "2022-01-22T19:57:51.304Z"
   },
   {
    "duration": 10,
    "start_time": "2022-01-22T19:57:51.360Z"
   },
   {
    "duration": 19,
    "start_time": "2022-01-22T19:57:51.373Z"
   },
   {
    "duration": 11,
    "start_time": "2022-01-22T19:57:51.395Z"
   },
   {
    "duration": 9,
    "start_time": "2022-01-22T19:57:51.412Z"
   },
   {
    "duration": 7,
    "start_time": "2022-01-22T19:57:51.460Z"
   },
   {
    "duration": 9,
    "start_time": "2022-01-22T19:57:51.469Z"
   },
   {
    "duration": 9,
    "start_time": "2022-01-22T19:57:51.480Z"
   },
   {
    "duration": 9,
    "start_time": "2022-01-22T19:57:51.491Z"
   },
   {
    "duration": 7,
    "start_time": "2022-01-22T19:57:51.502Z"
   },
   {
    "duration": 54,
    "start_time": "2022-01-22T19:57:51.512Z"
   },
   {
    "duration": 10,
    "start_time": "2022-01-22T19:57:51.568Z"
   },
   {
    "duration": 10,
    "start_time": "2022-01-22T19:57:51.580Z"
   },
   {
    "duration": 6,
    "start_time": "2022-01-22T19:57:51.592Z"
   },
   {
    "duration": 8,
    "start_time": "2022-01-22T19:57:51.600Z"
   },
   {
    "duration": 11,
    "start_time": "2022-01-22T19:57:51.659Z"
   },
   {
    "duration": 5,
    "start_time": "2022-01-22T19:57:51.672Z"
   },
   {
    "duration": 14,
    "start_time": "2022-01-22T19:57:51.680Z"
   },
   {
    "duration": 18,
    "start_time": "2022-01-22T19:57:51.697Z"
   },
   {
    "duration": 90,
    "start_time": "2022-01-22T19:57:51.717Z"
   },
   {
    "duration": 4025,
    "start_time": "2022-01-22T19:57:51.809Z"
   },
   {
    "duration": 35,
    "start_time": "2022-01-22T19:57:55.836Z"
   },
   {
    "duration": 10,
    "start_time": "2022-01-22T19:57:55.874Z"
   },
   {
    "duration": 18,
    "start_time": "2022-01-22T19:57:55.886Z"
   },
   {
    "duration": 9,
    "start_time": "2022-01-22T19:57:55.906Z"
   },
   {
    "duration": 51,
    "start_time": "2022-01-22T19:57:55.918Z"
   },
   {
    "duration": 10,
    "start_time": "2022-01-22T19:57:55.971Z"
   },
   {
    "duration": 10,
    "start_time": "2022-01-22T19:57:55.983Z"
   },
   {
    "duration": 72,
    "start_time": "2022-01-22T20:00:07.805Z"
   },
   {
    "duration": 11,
    "start_time": "2022-01-22T20:00:07.880Z"
   },
   {
    "duration": 68,
    "start_time": "2022-01-22T20:00:07.894Z"
   },
   {
    "duration": 5,
    "start_time": "2022-01-22T20:00:07.965Z"
   },
   {
    "duration": 10,
    "start_time": "2022-01-22T20:00:07.973Z"
   },
   {
    "duration": 4,
    "start_time": "2022-01-22T20:00:07.985Z"
   },
   {
    "duration": 16,
    "start_time": "2022-01-22T20:00:07.991Z"
   },
   {
    "duration": 48,
    "start_time": "2022-01-22T20:00:08.011Z"
   },
   {
    "duration": 11,
    "start_time": "2022-01-22T20:00:08.062Z"
   },
   {
    "duration": 5,
    "start_time": "2022-01-22T20:00:08.076Z"
   },
   {
    "duration": 6,
    "start_time": "2022-01-22T20:00:08.084Z"
   },
   {
    "duration": 10,
    "start_time": "2022-01-22T20:00:08.092Z"
   },
   {
    "duration": 55,
    "start_time": "2022-01-22T20:00:08.104Z"
   },
   {
    "duration": 8,
    "start_time": "2022-01-22T20:00:08.162Z"
   },
   {
    "duration": 8,
    "start_time": "2022-01-22T20:00:08.172Z"
   },
   {
    "duration": 10,
    "start_time": "2022-01-22T20:00:08.182Z"
   },
   {
    "duration": 8,
    "start_time": "2022-01-22T20:00:08.194Z"
   },
   {
    "duration": 10,
    "start_time": "2022-01-22T20:00:08.204Z"
   },
   {
    "duration": 50,
    "start_time": "2022-01-22T20:00:08.216Z"
   },
   {
    "duration": 9,
    "start_time": "2022-01-22T20:00:08.269Z"
   },
   {
    "duration": 6,
    "start_time": "2022-01-22T20:00:08.281Z"
   },
   {
    "duration": 8,
    "start_time": "2022-01-22T20:00:08.290Z"
   },
   {
    "duration": 7,
    "start_time": "2022-01-22T20:00:08.303Z"
   },
   {
    "duration": 10,
    "start_time": "2022-01-22T20:00:08.361Z"
   },
   {
    "duration": 20,
    "start_time": "2022-01-22T20:00:08.373Z"
   },
   {
    "duration": 15,
    "start_time": "2022-01-22T20:00:08.396Z"
   },
   {
    "duration": 51,
    "start_time": "2022-01-22T20:00:08.414Z"
   },
   {
    "duration": 8,
    "start_time": "2022-01-22T20:00:08.468Z"
   },
   {
    "duration": 9,
    "start_time": "2022-01-22T20:00:08.479Z"
   },
   {
    "duration": 10,
    "start_time": "2022-01-22T20:00:08.490Z"
   },
   {
    "duration": 58,
    "start_time": "2022-01-22T20:00:08.503Z"
   },
   {
    "duration": 10,
    "start_time": "2022-01-22T20:00:08.564Z"
   },
   {
    "duration": 8,
    "start_time": "2022-01-22T20:00:08.577Z"
   },
   {
    "duration": 10,
    "start_time": "2022-01-22T20:00:08.590Z"
   },
   {
    "duration": 56,
    "start_time": "2022-01-22T20:00:08.603Z"
   },
   {
    "duration": 6,
    "start_time": "2022-01-22T20:00:08.662Z"
   },
   {
    "duration": 9,
    "start_time": "2022-01-22T20:00:08.671Z"
   },
   {
    "duration": 17,
    "start_time": "2022-01-22T20:00:08.683Z"
   },
   {
    "duration": 11,
    "start_time": "2022-01-22T20:00:08.702Z"
   },
   {
    "duration": 16,
    "start_time": "2022-01-22T20:00:08.715Z"
   },
   {
    "duration": 17,
    "start_time": "2022-01-22T20:00:08.760Z"
   },
   {
    "duration": 64,
    "start_time": "2022-01-22T20:00:08.780Z"
   },
   {
    "duration": 4189,
    "start_time": "2022-01-22T20:00:08.859Z"
   },
   {
    "duration": 13,
    "start_time": "2022-01-22T20:00:13.050Z"
   },
   {
    "duration": 28,
    "start_time": "2022-01-22T20:00:13.065Z"
   },
   {
    "duration": 9,
    "start_time": "2022-01-22T20:00:13.096Z"
   },
   {
    "duration": 16,
    "start_time": "2022-01-22T20:00:13.108Z"
   },
   {
    "duration": 11,
    "start_time": "2022-01-22T20:00:13.160Z"
   },
   {
    "duration": 14,
    "start_time": "2022-01-22T20:00:13.174Z"
   },
   {
    "duration": 9,
    "start_time": "2022-01-22T20:00:13.191Z"
   },
   {
    "duration": 11,
    "start_time": "2022-01-22T20:00:13.205Z"
   },
   {
    "duration": 11,
    "start_time": "2022-01-22T20:00:29.303Z"
   },
   {
    "duration": 73,
    "start_time": "2022-01-22T20:14:40.457Z"
   },
   {
    "duration": 12,
    "start_time": "2022-01-22T20:14:40.532Z"
   },
   {
    "duration": 58,
    "start_time": "2022-01-22T20:14:40.547Z"
   },
   {
    "duration": 5,
    "start_time": "2022-01-22T20:14:40.608Z"
   },
   {
    "duration": 10,
    "start_time": "2022-01-22T20:14:40.615Z"
   },
   {
    "duration": 5,
    "start_time": "2022-01-22T20:14:40.659Z"
   },
   {
    "duration": 10,
    "start_time": "2022-01-22T20:14:40.666Z"
   },
   {
    "duration": 11,
    "start_time": "2022-01-22T20:14:40.678Z"
   },
   {
    "duration": 11,
    "start_time": "2022-01-22T20:14:40.693Z"
   },
   {
    "duration": 6,
    "start_time": "2022-01-22T20:14:40.707Z"
   },
   {
    "duration": 49,
    "start_time": "2022-01-22T20:14:40.715Z"
   },
   {
    "duration": 10,
    "start_time": "2022-01-22T20:14:40.766Z"
   },
   {
    "duration": 15,
    "start_time": "2022-01-22T20:14:40.778Z"
   },
   {
    "duration": 7,
    "start_time": "2022-01-22T20:14:40.796Z"
   },
   {
    "duration": 7,
    "start_time": "2022-01-22T20:14:40.805Z"
   },
   {
    "duration": 10,
    "start_time": "2022-01-22T20:14:40.858Z"
   },
   {
    "duration": 8,
    "start_time": "2022-01-22T20:14:40.871Z"
   },
   {
    "duration": 9,
    "start_time": "2022-01-22T20:14:40.882Z"
   },
   {
    "duration": 8,
    "start_time": "2022-01-22T20:14:40.895Z"
   },
   {
    "duration": 61,
    "start_time": "2022-01-22T20:14:40.906Z"
   },
   {
    "duration": 8,
    "start_time": "2022-01-22T20:14:40.970Z"
   },
   {
    "duration": 8,
    "start_time": "2022-01-22T20:14:40.981Z"
   },
   {
    "duration": 6,
    "start_time": "2022-01-22T20:14:40.992Z"
   },
   {
    "duration": 61,
    "start_time": "2022-01-22T20:14:41.000Z"
   },
   {
    "duration": 23,
    "start_time": "2022-01-22T20:14:41.063Z"
   },
   {
    "duration": 13,
    "start_time": "2022-01-22T20:14:41.088Z"
   },
   {
    "duration": 8,
    "start_time": "2022-01-22T20:14:41.107Z"
   },
   {
    "duration": 42,
    "start_time": "2022-01-22T20:14:41.118Z"
   },
   {
    "duration": 7,
    "start_time": "2022-01-22T20:14:41.162Z"
   },
   {
    "duration": 9,
    "start_time": "2022-01-22T20:14:41.172Z"
   },
   {
    "duration": 7,
    "start_time": "2022-01-22T20:14:41.183Z"
   },
   {
    "duration": 7,
    "start_time": "2022-01-22T20:14:41.193Z"
   },
   {
    "duration": 57,
    "start_time": "2022-01-22T20:14:41.203Z"
   },
   {
    "duration": 13,
    "start_time": "2022-01-22T20:14:41.263Z"
   },
   {
    "duration": 8,
    "start_time": "2022-01-22T20:14:41.279Z"
   },
   {
    "duration": 5,
    "start_time": "2022-01-22T20:14:41.290Z"
   },
   {
    "duration": 9,
    "start_time": "2022-01-22T20:14:41.297Z"
   },
   {
    "duration": 53,
    "start_time": "2022-01-22T20:14:41.308Z"
   },
   {
    "duration": 6,
    "start_time": "2022-01-22T20:14:41.363Z"
   },
   {
    "duration": 14,
    "start_time": "2022-01-22T20:14:41.372Z"
   },
   {
    "duration": 17,
    "start_time": "2022-01-22T20:14:41.388Z"
   },
   {
    "duration": 91,
    "start_time": "2022-01-22T20:14:41.407Z"
   },
   {
    "duration": 4050,
    "start_time": "2022-01-22T20:14:41.501Z"
   },
   {
    "duration": 5,
    "start_time": "2022-01-22T20:14:45.554Z"
   },
   {
    "duration": 10,
    "start_time": "2022-01-22T20:14:45.562Z"
   },
   {
    "duration": 46,
    "start_time": "2022-01-22T20:14:45.575Z"
   },
   {
    "duration": 34,
    "start_time": "2022-01-22T20:14:45.624Z"
   },
   {
    "duration": 16,
    "start_time": "2022-01-22T20:14:45.661Z"
   },
   {
    "duration": 10,
    "start_time": "2022-01-22T20:14:45.680Z"
   },
   {
    "duration": 12,
    "start_time": "2022-01-22T20:14:45.693Z"
   },
   {
    "duration": 56,
    "start_time": "2022-01-22T20:14:45.708Z"
   },
   {
    "duration": 11,
    "start_time": "2022-01-22T20:14:45.767Z"
   },
   {
    "duration": 76,
    "start_time": "2022-01-22T20:16:17.326Z"
   },
   {
    "duration": 12,
    "start_time": "2022-01-22T20:16:17.404Z"
   },
   {
    "duration": 47,
    "start_time": "2022-01-22T20:16:17.460Z"
   },
   {
    "duration": 5,
    "start_time": "2022-01-22T20:16:17.510Z"
   },
   {
    "duration": 9,
    "start_time": "2022-01-22T20:16:17.517Z"
   },
   {
    "duration": 32,
    "start_time": "2022-01-22T20:16:17.528Z"
   },
   {
    "duration": 12,
    "start_time": "2022-01-22T20:16:17.563Z"
   },
   {
    "duration": 10,
    "start_time": "2022-01-22T20:16:17.579Z"
   },
   {
    "duration": 12,
    "start_time": "2022-01-22T20:16:17.592Z"
   },
   {
    "duration": 6,
    "start_time": "2022-01-22T20:16:17.606Z"
   },
   {
    "duration": 49,
    "start_time": "2022-01-22T20:16:17.614Z"
   },
   {
    "duration": 10,
    "start_time": "2022-01-22T20:16:17.665Z"
   },
   {
    "duration": 16,
    "start_time": "2022-01-22T20:16:17.677Z"
   },
   {
    "duration": 8,
    "start_time": "2022-01-22T20:16:17.695Z"
   },
   {
    "duration": 7,
    "start_time": "2022-01-22T20:16:17.705Z"
   },
   {
    "duration": 9,
    "start_time": "2022-01-22T20:16:17.759Z"
   },
   {
    "duration": 6,
    "start_time": "2022-01-22T20:16:17.771Z"
   },
   {
    "duration": 8,
    "start_time": "2022-01-22T20:16:17.779Z"
   },
   {
    "duration": 7,
    "start_time": "2022-01-22T20:16:17.789Z"
   },
   {
    "duration": 9,
    "start_time": "2022-01-22T20:16:17.799Z"
   },
   {
    "duration": 52,
    "start_time": "2022-01-22T20:16:17.811Z"
   },
   {
    "duration": 10,
    "start_time": "2022-01-22T20:16:17.865Z"
   },
   {
    "duration": 6,
    "start_time": "2022-01-22T20:16:17.880Z"
   },
   {
    "duration": 9,
    "start_time": "2022-01-22T20:16:17.890Z"
   },
   {
    "duration": 63,
    "start_time": "2022-01-22T20:16:17.902Z"
   },
   {
    "duration": 13,
    "start_time": "2022-01-22T20:16:17.967Z"
   },
   {
    "duration": 9,
    "start_time": "2022-01-22T20:16:17.982Z"
   },
   {
    "duration": 8,
    "start_time": "2022-01-22T20:16:17.993Z"
   },
   {
    "duration": 6,
    "start_time": "2022-01-22T20:16:18.004Z"
   },
   {
    "duration": 52,
    "start_time": "2022-01-22T20:16:18.012Z"
   },
   {
    "duration": 7,
    "start_time": "2022-01-22T20:16:18.067Z"
   },
   {
    "duration": 10,
    "start_time": "2022-01-22T20:16:18.077Z"
   },
   {
    "duration": 8,
    "start_time": "2022-01-22T20:16:18.090Z"
   },
   {
    "duration": 59,
    "start_time": "2022-01-22T20:16:18.101Z"
   },
   {
    "duration": 12,
    "start_time": "2022-01-22T20:16:18.163Z"
   },
   {
    "duration": 6,
    "start_time": "2022-01-22T20:16:18.177Z"
   },
   {
    "duration": 8,
    "start_time": "2022-01-22T20:16:18.185Z"
   },
   {
    "duration": 10,
    "start_time": "2022-01-22T20:16:18.195Z"
   },
   {
    "duration": 52,
    "start_time": "2022-01-22T20:16:18.207Z"
   },
   {
    "duration": 15,
    "start_time": "2022-01-22T20:16:18.262Z"
   },
   {
    "duration": 18,
    "start_time": "2022-01-22T20:16:18.279Z"
   },
   {
    "duration": 72,
    "start_time": "2022-01-22T20:16:18.299Z"
   },
   {
    "duration": 4123,
    "start_time": "2022-01-22T20:16:18.374Z"
   },
   {
    "duration": 5,
    "start_time": "2022-01-22T20:16:22.500Z"
   },
   {
    "duration": 8,
    "start_time": "2022-01-22T20:16:22.507Z"
   },
   {
    "duration": 70,
    "start_time": "2022-01-22T20:16:22.517Z"
   },
   {
    "duration": 10,
    "start_time": "2022-01-22T20:16:22.589Z"
   },
   {
    "duration": 19,
    "start_time": "2022-01-22T20:16:22.601Z"
   },
   {
    "duration": 11,
    "start_time": "2022-01-22T20:16:22.622Z"
   },
   {
    "duration": 12,
    "start_time": "2022-01-22T20:16:22.658Z"
   },
   {
    "duration": 12,
    "start_time": "2022-01-22T20:16:22.673Z"
   },
   {
    "duration": 11,
    "start_time": "2022-01-22T20:16:22.687Z"
   },
   {
    "duration": 73,
    "start_time": "2022-01-22T20:21:02.211Z"
   },
   {
    "duration": 11,
    "start_time": "2022-01-22T20:21:02.287Z"
   },
   {
    "duration": 84,
    "start_time": "2022-01-22T20:21:02.301Z"
   },
   {
    "duration": 6,
    "start_time": "2022-01-22T20:21:02.387Z"
   },
   {
    "duration": 8,
    "start_time": "2022-01-22T20:21:02.395Z"
   },
   {
    "duration": 4,
    "start_time": "2022-01-22T20:21:02.405Z"
   },
   {
    "duration": 10,
    "start_time": "2022-01-22T20:21:02.411Z"
   },
   {
    "duration": 43,
    "start_time": "2022-01-22T20:21:02.425Z"
   },
   {
    "duration": 10,
    "start_time": "2022-01-22T20:21:02.471Z"
   },
   {
    "duration": 6,
    "start_time": "2022-01-22T20:21:02.484Z"
   },
   {
    "duration": 6,
    "start_time": "2022-01-22T20:21:02.492Z"
   },
   {
    "duration": 9,
    "start_time": "2022-01-22T20:21:02.500Z"
   },
   {
    "duration": 58,
    "start_time": "2022-01-22T20:21:02.511Z"
   },
   {
    "duration": 8,
    "start_time": "2022-01-22T20:21:02.572Z"
   },
   {
    "duration": 6,
    "start_time": "2022-01-22T20:21:02.582Z"
   },
   {
    "duration": 10,
    "start_time": "2022-01-22T20:21:02.590Z"
   },
   {
    "duration": 6,
    "start_time": "2022-01-22T20:21:02.602Z"
   },
   {
    "duration": 54,
    "start_time": "2022-01-22T20:21:02.610Z"
   },
   {
    "duration": 7,
    "start_time": "2022-01-22T20:21:02.667Z"
   },
   {
    "duration": 9,
    "start_time": "2022-01-22T20:21:02.676Z"
   },
   {
    "duration": 5,
    "start_time": "2022-01-22T20:21:02.688Z"
   },
   {
    "duration": 7,
    "start_time": "2022-01-22T20:21:02.696Z"
   },
   {
    "duration": 55,
    "start_time": "2022-01-22T20:21:02.708Z"
   },
   {
    "duration": 11,
    "start_time": "2022-01-22T20:21:02.766Z"
   },
   {
    "duration": 20,
    "start_time": "2022-01-22T20:21:02.779Z"
   },
   {
    "duration": 12,
    "start_time": "2022-01-22T20:21:02.801Z"
   },
   {
    "duration": 46,
    "start_time": "2022-01-22T20:21:02.815Z"
   },
   {
    "duration": 6,
    "start_time": "2022-01-22T20:21:02.863Z"
   },
   {
    "duration": 8,
    "start_time": "2022-01-22T20:21:02.872Z"
   },
   {
    "duration": 11,
    "start_time": "2022-01-22T20:21:02.883Z"
   },
   {
    "duration": 6,
    "start_time": "2022-01-22T20:21:02.896Z"
   },
   {
    "duration": 8,
    "start_time": "2022-01-22T20:21:02.904Z"
   },
   {
    "duration": 7,
    "start_time": "2022-01-22T20:21:02.960Z"
   },
   {
    "duration": 10,
    "start_time": "2022-01-22T20:21:02.969Z"
   },
   {
    "duration": 9,
    "start_time": "2022-01-22T20:21:02.981Z"
   },
   {
    "duration": 6,
    "start_time": "2022-01-22T20:21:02.992Z"
   },
   {
    "duration": 8,
    "start_time": "2022-01-22T20:21:03.000Z"
   },
   {
    "duration": 11,
    "start_time": "2022-01-22T20:21:03.058Z"
   },
   {
    "duration": 5,
    "start_time": "2022-01-22T20:21:03.072Z"
   },
   {
    "duration": 16,
    "start_time": "2022-01-22T20:21:03.079Z"
   },
   {
    "duration": 16,
    "start_time": "2022-01-22T20:21:03.097Z"
   },
   {
    "duration": 89,
    "start_time": "2022-01-22T20:21:03.116Z"
   },
   {
    "duration": 4142,
    "start_time": "2022-01-22T20:21:03.208Z"
   },
   {
    "duration": 9,
    "start_time": "2022-01-22T20:21:07.352Z"
   },
   {
    "duration": 7,
    "start_time": "2022-01-22T20:21:07.364Z"
   },
   {
    "duration": 45,
    "start_time": "2022-01-22T20:21:07.374Z"
   },
   {
    "duration": 9,
    "start_time": "2022-01-22T20:21:07.421Z"
   },
   {
    "duration": 16,
    "start_time": "2022-01-22T20:21:07.460Z"
   },
   {
    "duration": 8,
    "start_time": "2022-01-22T20:21:07.479Z"
   },
   {
    "duration": 14,
    "start_time": "2022-01-22T20:21:07.489Z"
   },
   {
    "duration": 10,
    "start_time": "2022-01-22T20:21:07.505Z"
   },
   {
    "duration": 51,
    "start_time": "2022-01-22T20:21:07.517Z"
   },
   {
    "duration": 76,
    "start_time": "2022-01-22T20:25:38.901Z"
   },
   {
    "duration": 12,
    "start_time": "2022-01-22T20:25:38.980Z"
   },
   {
    "duration": 71,
    "start_time": "2022-01-22T20:25:38.995Z"
   },
   {
    "duration": 6,
    "start_time": "2022-01-22T20:25:39.069Z"
   },
   {
    "duration": 9,
    "start_time": "2022-01-22T20:25:39.078Z"
   },
   {
    "duration": 4,
    "start_time": "2022-01-22T20:25:39.089Z"
   },
   {
    "duration": 8,
    "start_time": "2022-01-22T20:25:39.095Z"
   },
   {
    "duration": 52,
    "start_time": "2022-01-22T20:25:39.107Z"
   },
   {
    "duration": 10,
    "start_time": "2022-01-22T20:25:39.163Z"
   },
   {
    "duration": 5,
    "start_time": "2022-01-22T20:25:39.176Z"
   },
   {
    "duration": 5,
    "start_time": "2022-01-22T20:25:39.184Z"
   },
   {
    "duration": 8,
    "start_time": "2022-01-22T20:25:39.192Z"
   },
   {
    "duration": 64,
    "start_time": "2022-01-22T20:25:39.203Z"
   },
   {
    "duration": 8,
    "start_time": "2022-01-22T20:25:39.269Z"
   },
   {
    "duration": 7,
    "start_time": "2022-01-22T20:25:39.279Z"
   },
   {
    "duration": 10,
    "start_time": "2022-01-22T20:25:39.288Z"
   },
   {
    "duration": 15,
    "start_time": "2022-01-22T20:25:39.300Z"
   },
   {
    "duration": 47,
    "start_time": "2022-01-22T20:25:39.317Z"
   },
   {
    "duration": 7,
    "start_time": "2022-01-22T20:25:39.366Z"
   },
   {
    "duration": 14,
    "start_time": "2022-01-22T20:25:39.376Z"
   },
   {
    "duration": 6,
    "start_time": "2022-01-22T20:25:39.392Z"
   },
   {
    "duration": 7,
    "start_time": "2022-01-22T20:25:39.400Z"
   },
   {
    "duration": 51,
    "start_time": "2022-01-22T20:25:39.413Z"
   },
   {
    "duration": 10,
    "start_time": "2022-01-22T20:25:39.467Z"
   },
   {
    "duration": 18,
    "start_time": "2022-01-22T20:25:39.479Z"
   },
   {
    "duration": 12,
    "start_time": "2022-01-22T20:25:39.499Z"
   },
   {
    "duration": 46,
    "start_time": "2022-01-22T20:25:39.513Z"
   },
   {
    "duration": 6,
    "start_time": "2022-01-22T20:25:39.562Z"
   },
   {
    "duration": 7,
    "start_time": "2022-01-22T20:25:39.571Z"
   },
   {
    "duration": 10,
    "start_time": "2022-01-22T20:25:39.580Z"
   },
   {
    "duration": 8,
    "start_time": "2022-01-22T20:25:39.592Z"
   },
   {
    "duration": 8,
    "start_time": "2022-01-22T20:25:39.602Z"
   },
   {
    "duration": 52,
    "start_time": "2022-01-22T20:25:39.612Z"
   },
   {
    "duration": 10,
    "start_time": "2022-01-22T20:25:39.666Z"
   },
   {
    "duration": 9,
    "start_time": "2022-01-22T20:25:39.678Z"
   },
   {
    "duration": 5,
    "start_time": "2022-01-22T20:25:39.690Z"
   },
   {
    "duration": 8,
    "start_time": "2022-01-22T20:25:39.697Z"
   },
   {
    "duration": 11,
    "start_time": "2022-01-22T20:25:39.758Z"
   },
   {
    "duration": 6,
    "start_time": "2022-01-22T20:25:39.771Z"
   },
   {
    "duration": 14,
    "start_time": "2022-01-22T20:25:39.780Z"
   },
   {
    "duration": 15,
    "start_time": "2022-01-22T20:25:39.797Z"
   },
   {
    "duration": 85,
    "start_time": "2022-01-22T20:25:39.814Z"
   },
   {
    "duration": 4262,
    "start_time": "2022-01-22T20:25:39.901Z"
   },
   {
    "duration": 5,
    "start_time": "2022-01-22T20:25:44.165Z"
   },
   {
    "duration": 8,
    "start_time": "2022-01-22T20:25:44.173Z"
   },
   {
    "duration": 44,
    "start_time": "2022-01-22T20:25:44.183Z"
   },
   {
    "duration": 34,
    "start_time": "2022-01-22T20:25:44.229Z"
   },
   {
    "duration": 145,
    "start_time": "2022-01-22T20:25:44.265Z"
   },
   {
    "duration": 18,
    "start_time": "2022-01-22T20:25:44.395Z"
   },
   {
    "duration": 15,
    "start_time": "2022-01-22T20:25:44.399Z"
   },
   {
    "duration": 15,
    "start_time": "2022-01-22T20:25:44.401Z"
   },
   {
    "duration": 15,
    "start_time": "2022-01-22T20:25:44.402Z"
   },
   {
    "duration": 12,
    "start_time": "2022-01-22T20:25:44.406Z"
   },
   {
    "duration": 101,
    "start_time": "2022-01-22T20:27:23.165Z"
   },
   {
    "duration": 11,
    "start_time": "2022-01-22T20:27:23.269Z"
   },
   {
    "duration": 45,
    "start_time": "2022-01-22T20:27:23.283Z"
   },
   {
    "duration": 32,
    "start_time": "2022-01-22T20:27:23.330Z"
   },
   {
    "duration": 9,
    "start_time": "2022-01-22T20:27:23.364Z"
   },
   {
    "duration": 4,
    "start_time": "2022-01-22T20:27:23.375Z"
   },
   {
    "duration": 8,
    "start_time": "2022-01-22T20:27:23.382Z"
   },
   {
    "duration": 10,
    "start_time": "2022-01-22T20:27:23.393Z"
   },
   {
    "duration": 55,
    "start_time": "2022-01-22T20:27:23.405Z"
   },
   {
    "duration": 6,
    "start_time": "2022-01-22T20:27:23.462Z"
   },
   {
    "duration": 6,
    "start_time": "2022-01-22T20:27:23.470Z"
   },
   {
    "duration": 10,
    "start_time": "2022-01-22T20:27:23.479Z"
   },
   {
    "duration": 13,
    "start_time": "2022-01-22T20:27:23.491Z"
   },
   {
    "duration": 10,
    "start_time": "2022-01-22T20:27:23.506Z"
   },
   {
    "duration": 6,
    "start_time": "2022-01-22T20:27:23.560Z"
   },
   {
    "duration": 10,
    "start_time": "2022-01-22T20:27:23.568Z"
   },
   {
    "duration": 7,
    "start_time": "2022-01-22T20:27:23.580Z"
   },
   {
    "duration": 9,
    "start_time": "2022-01-22T20:27:23.589Z"
   },
   {
    "duration": 7,
    "start_time": "2022-01-22T20:27:23.600Z"
   },
   {
    "duration": 10,
    "start_time": "2022-01-22T20:27:23.660Z"
   },
   {
    "duration": 5,
    "start_time": "2022-01-22T20:27:23.673Z"
   },
   {
    "duration": 8,
    "start_time": "2022-01-22T20:27:23.680Z"
   },
   {
    "duration": 6,
    "start_time": "2022-01-22T20:27:23.693Z"
   },
   {
    "duration": 9,
    "start_time": "2022-01-22T20:27:23.702Z"
   },
   {
    "duration": 62,
    "start_time": "2022-01-22T20:27:23.713Z"
   },
   {
    "duration": 13,
    "start_time": "2022-01-22T20:27:23.778Z"
   },
   {
    "duration": 8,
    "start_time": "2022-01-22T20:27:23.793Z"
   },
   {
    "duration": 7,
    "start_time": "2022-01-22T20:27:23.803Z"
   },
   {
    "duration": 48,
    "start_time": "2022-01-22T20:27:23.812Z"
   },
   {
    "duration": 9,
    "start_time": "2022-01-22T20:27:23.863Z"
   },
   {
    "duration": 6,
    "start_time": "2022-01-22T20:27:23.874Z"
   },
   {
    "duration": 8,
    "start_time": "2022-01-22T20:27:23.883Z"
   },
   {
    "duration": 6,
    "start_time": "2022-01-22T20:27:23.894Z"
   },
   {
    "duration": 63,
    "start_time": "2022-01-22T20:27:23.902Z"
   },
   {
    "duration": 9,
    "start_time": "2022-01-22T20:27:23.967Z"
   },
   {
    "duration": 5,
    "start_time": "2022-01-22T20:27:23.978Z"
   },
   {
    "duration": 10,
    "start_time": "2022-01-22T20:27:23.986Z"
   },
   {
    "duration": 10,
    "start_time": "2022-01-22T20:27:23.998Z"
   },
   {
    "duration": 5,
    "start_time": "2022-01-22T20:27:24.010Z"
   },
   {
    "duration": 17,
    "start_time": "2022-01-22T20:27:24.059Z"
   },
   {
    "duration": 20,
    "start_time": "2022-01-22T20:27:24.078Z"
   },
   {
    "duration": 75,
    "start_time": "2022-01-22T20:27:24.101Z"
   },
   {
    "duration": 4170,
    "start_time": "2022-01-22T20:27:24.179Z"
   },
   {
    "duration": 9,
    "start_time": "2022-01-22T20:27:28.351Z"
   },
   {
    "duration": 9,
    "start_time": "2022-01-22T20:27:28.363Z"
   },
   {
    "duration": 46,
    "start_time": "2022-01-22T20:27:28.374Z"
   },
   {
    "duration": 38,
    "start_time": "2022-01-22T20:27:28.423Z"
   },
   {
    "duration": 18,
    "start_time": "2022-01-22T20:27:28.464Z"
   },
   {
    "duration": 9,
    "start_time": "2022-01-22T20:27:28.484Z"
   },
   {
    "duration": 11,
    "start_time": "2022-01-22T20:27:28.495Z"
   },
   {
    "duration": 54,
    "start_time": "2022-01-22T20:27:28.509Z"
   },
   {
    "duration": 11,
    "start_time": "2022-01-22T20:27:28.566Z"
   },
   {
    "duration": 14,
    "start_time": "2022-01-22T20:30:15.045Z"
   },
   {
    "duration": 87,
    "start_time": "2022-01-22T20:30:44.932Z"
   },
   {
    "duration": 16,
    "start_time": "2022-01-22T20:30:45.058Z"
   },
   {
    "duration": 49,
    "start_time": "2022-01-22T20:30:45.078Z"
   },
   {
    "duration": 7,
    "start_time": "2022-01-22T20:30:45.159Z"
   },
   {
    "duration": 10,
    "start_time": "2022-01-22T20:30:45.169Z"
   },
   {
    "duration": 14,
    "start_time": "2022-01-22T20:30:45.182Z"
   },
   {
    "duration": 8,
    "start_time": "2022-01-22T20:30:45.198Z"
   },
   {
    "duration": 58,
    "start_time": "2022-01-22T20:30:45.211Z"
   },
   {
    "duration": 13,
    "start_time": "2022-01-22T20:30:45.272Z"
   },
   {
    "duration": 7,
    "start_time": "2022-01-22T20:30:45.288Z"
   },
   {
    "duration": 8,
    "start_time": "2022-01-22T20:30:45.298Z"
   },
   {
    "duration": 58,
    "start_time": "2022-01-22T20:30:45.309Z"
   },
   {
    "duration": 16,
    "start_time": "2022-01-22T20:30:45.370Z"
   },
   {
    "duration": 11,
    "start_time": "2022-01-22T20:30:45.389Z"
   },
   {
    "duration": 56,
    "start_time": "2022-01-22T20:30:45.403Z"
   },
   {
    "duration": 11,
    "start_time": "2022-01-22T20:30:45.463Z"
   },
   {
    "duration": 8,
    "start_time": "2022-01-22T20:30:45.476Z"
   },
   {
    "duration": 10,
    "start_time": "2022-01-22T20:30:45.486Z"
   },
   {
    "duration": 9,
    "start_time": "2022-01-22T20:30:45.499Z"
   },
   {
    "duration": 10,
    "start_time": "2022-01-22T20:30:45.558Z"
   },
   {
    "duration": 7,
    "start_time": "2022-01-22T20:30:45.570Z"
   },
   {
    "duration": 11,
    "start_time": "2022-01-22T20:30:45.579Z"
   },
   {
    "duration": 6,
    "start_time": "2022-01-22T20:30:45.595Z"
   },
   {
    "duration": 56,
    "start_time": "2022-01-22T20:30:45.605Z"
   },
   {
    "duration": 21,
    "start_time": "2022-01-22T20:30:45.664Z"
   },
   {
    "duration": 14,
    "start_time": "2022-01-22T20:30:45.688Z"
   },
   {
    "duration": 10,
    "start_time": "2022-01-22T20:30:45.705Z"
   },
   {
    "duration": 46,
    "start_time": "2022-01-22T20:30:45.718Z"
   },
   {
    "duration": 8,
    "start_time": "2022-01-22T20:30:45.766Z"
   },
   {
    "duration": 9,
    "start_time": "2022-01-22T20:30:45.776Z"
   },
   {
    "duration": 8,
    "start_time": "2022-01-22T20:30:45.788Z"
   },
   {
    "duration": 8,
    "start_time": "2022-01-22T20:30:45.798Z"
   },
   {
    "duration": 6,
    "start_time": "2022-01-22T20:30:45.808Z"
   },
   {
    "duration": 11,
    "start_time": "2022-01-22T20:30:45.860Z"
   },
   {
    "duration": 9,
    "start_time": "2022-01-22T20:30:45.873Z"
   },
   {
    "duration": 5,
    "start_time": "2022-01-22T20:30:45.884Z"
   },
   {
    "duration": 8,
    "start_time": "2022-01-22T20:30:45.891Z"
   },
   {
    "duration": 9,
    "start_time": "2022-01-22T20:30:45.901Z"
   },
   {
    "duration": 5,
    "start_time": "2022-01-22T20:30:45.960Z"
   },
   {
    "duration": 19,
    "start_time": "2022-01-22T20:30:45.967Z"
   },
   {
    "duration": 18,
    "start_time": "2022-01-22T20:30:45.988Z"
   },
   {
    "duration": 80,
    "start_time": "2022-01-22T20:30:46.008Z"
   },
   {
    "duration": 4402,
    "start_time": "2022-01-22T20:30:46.090Z"
   },
   {
    "duration": 5,
    "start_time": "2022-01-22T20:30:50.494Z"
   },
   {
    "duration": 10,
    "start_time": "2022-01-22T20:30:50.501Z"
   },
   {
    "duration": 66,
    "start_time": "2022-01-22T20:30:50.514Z"
   },
   {
    "duration": 11,
    "start_time": "2022-01-22T20:30:50.582Z"
   },
   {
    "duration": 19,
    "start_time": "2022-01-22T20:30:50.596Z"
   },
   {
    "duration": 44,
    "start_time": "2022-01-22T20:30:50.617Z"
   },
   {
    "duration": 13,
    "start_time": "2022-01-22T20:30:50.664Z"
   },
   {
    "duration": 11,
    "start_time": "2022-01-22T20:30:50.680Z"
   },
   {
    "duration": 11,
    "start_time": "2022-01-22T20:30:50.694Z"
   },
   {
    "duration": 19,
    "start_time": "2022-01-22T20:31:30.219Z"
   },
   {
    "duration": 430,
    "start_time": "2022-01-22T20:33:41.203Z"
   },
   {
    "duration": 373,
    "start_time": "2022-01-22T20:34:16.944Z"
   },
   {
    "duration": 112,
    "start_time": "2022-01-22T20:36:11.784Z"
   },
   {
    "duration": 23,
    "start_time": "2022-01-22T20:36:38.770Z"
   },
   {
    "duration": 79,
    "start_time": "2022-01-22T20:38:37.913Z"
   },
   {
    "duration": 13,
    "start_time": "2022-01-22T20:38:37.994Z"
   },
   {
    "duration": 80,
    "start_time": "2022-01-22T20:38:38.010Z"
   },
   {
    "duration": 3,
    "start_time": "2022-01-22T20:38:38.093Z"
   },
   {
    "duration": 11,
    "start_time": "2022-01-22T20:38:38.098Z"
   },
   {
    "duration": 50,
    "start_time": "2022-01-22T20:38:38.111Z"
   },
   {
    "duration": 7,
    "start_time": "2022-01-22T20:38:38.163Z"
   },
   {
    "duration": 10,
    "start_time": "2022-01-22T20:38:38.174Z"
   },
   {
    "duration": 12,
    "start_time": "2022-01-22T20:38:38.187Z"
   },
   {
    "duration": 6,
    "start_time": "2022-01-22T20:38:38.201Z"
   },
   {
    "duration": 50,
    "start_time": "2022-01-22T20:38:38.210Z"
   },
   {
    "duration": 9,
    "start_time": "2022-01-22T20:38:38.262Z"
   },
   {
    "duration": 15,
    "start_time": "2022-01-22T20:38:38.273Z"
   },
   {
    "duration": 7,
    "start_time": "2022-01-22T20:38:38.290Z"
   },
   {
    "duration": 6,
    "start_time": "2022-01-22T20:38:38.300Z"
   },
   {
    "duration": 56,
    "start_time": "2022-01-22T20:38:38.308Z"
   },
   {
    "duration": 6,
    "start_time": "2022-01-22T20:38:38.366Z"
   },
   {
    "duration": 7,
    "start_time": "2022-01-22T20:38:38.374Z"
   },
   {
    "duration": 6,
    "start_time": "2022-01-22T20:38:38.384Z"
   },
   {
    "duration": 9,
    "start_time": "2022-01-22T20:38:38.393Z"
   },
   {
    "duration": 55,
    "start_time": "2022-01-22T20:38:38.404Z"
   },
   {
    "duration": 8,
    "start_time": "2022-01-22T20:38:38.461Z"
   },
   {
    "duration": 6,
    "start_time": "2022-01-22T20:38:38.475Z"
   },
   {
    "duration": 11,
    "start_time": "2022-01-22T20:38:38.484Z"
   },
   {
    "duration": 21,
    "start_time": "2022-01-22T20:38:38.497Z"
   },
   {
    "duration": 12,
    "start_time": "2022-01-22T20:38:38.560Z"
   },
   {
    "duration": 8,
    "start_time": "2022-01-22T20:38:38.575Z"
   },
   {
    "duration": 8,
    "start_time": "2022-01-22T20:38:38.585Z"
   },
   {
    "duration": 6,
    "start_time": "2022-01-22T20:38:38.595Z"
   },
   {
    "duration": 9,
    "start_time": "2022-01-22T20:38:38.604Z"
   },
   {
    "duration": 48,
    "start_time": "2022-01-22T20:38:38.615Z"
   },
   {
    "duration": 7,
    "start_time": "2022-01-22T20:38:38.665Z"
   },
   {
    "duration": 6,
    "start_time": "2022-01-22T20:38:38.675Z"
   },
   {
    "duration": 13,
    "start_time": "2022-01-22T20:38:38.684Z"
   },
   {
    "duration": 9,
    "start_time": "2022-01-22T20:38:38.700Z"
   },
   {
    "duration": 54,
    "start_time": "2022-01-22T20:38:38.712Z"
   },
   {
    "duration": 9,
    "start_time": "2022-01-22T20:38:38.769Z"
   },
   {
    "duration": 11,
    "start_time": "2022-01-22T20:38:38.781Z"
   },
   {
    "duration": 5,
    "start_time": "2022-01-22T20:38:38.795Z"
   },
   {
    "duration": 70,
    "start_time": "2022-01-22T20:38:38.803Z"
   },
   {
    "duration": 16,
    "start_time": "2022-01-22T20:38:38.876Z"
   },
   {
    "duration": 82,
    "start_time": "2022-01-22T20:38:38.895Z"
   },
   {
    "duration": 4545,
    "start_time": "2022-01-22T20:38:38.979Z"
   },
   {
    "duration": 7,
    "start_time": "2022-01-22T20:38:43.527Z"
   },
   {
    "duration": 25,
    "start_time": "2022-01-22T20:38:43.536Z"
   },
   {
    "duration": 45,
    "start_time": "2022-01-22T20:38:43.563Z"
   },
   {
    "duration": 10,
    "start_time": "2022-01-22T20:38:43.610Z"
   },
   {
    "duration": 46,
    "start_time": "2022-01-22T20:38:43.623Z"
   },
   {
    "duration": 11,
    "start_time": "2022-01-22T20:38:43.672Z"
   },
   {
    "duration": 12,
    "start_time": "2022-01-22T20:38:43.686Z"
   },
   {
    "duration": 12,
    "start_time": "2022-01-22T20:38:43.701Z"
   },
   {
    "duration": 12,
    "start_time": "2022-01-22T20:38:43.760Z"
   },
   {
    "duration": 103,
    "start_time": "2022-01-22T20:40:04.658Z"
   },
   {
    "duration": 12,
    "start_time": "2022-01-22T20:40:04.763Z"
   },
   {
    "duration": 46,
    "start_time": "2022-01-22T20:40:04.778Z"
   },
   {
    "duration": 37,
    "start_time": "2022-01-22T20:40:04.827Z"
   },
   {
    "duration": 21,
    "start_time": "2022-01-22T20:40:04.866Z"
   },
   {
    "duration": 7,
    "start_time": "2022-01-22T20:40:04.890Z"
   },
   {
    "duration": 17,
    "start_time": "2022-01-22T20:40:04.900Z"
   },
   {
    "duration": 39,
    "start_time": "2022-01-22T20:40:04.921Z"
   },
   {
    "duration": 6,
    "start_time": "2022-01-22T20:40:04.963Z"
   },
   {
    "duration": 10,
    "start_time": "2022-01-22T20:40:04.971Z"
   },
   {
    "duration": 10,
    "start_time": "2022-01-22T20:40:04.983Z"
   },
   {
    "duration": 16,
    "start_time": "2022-01-22T20:40:04.996Z"
   },
   {
    "duration": 7,
    "start_time": "2022-01-22T20:40:05.014Z"
   },
   {
    "duration": 41,
    "start_time": "2022-01-22T20:40:05.023Z"
   },
   {
    "duration": 13,
    "start_time": "2022-01-22T20:40:05.066Z"
   },
   {
    "duration": 6,
    "start_time": "2022-01-22T20:40:05.081Z"
   },
   {
    "duration": 18,
    "start_time": "2022-01-22T20:40:05.089Z"
   },
   {
    "duration": 17,
    "start_time": "2022-01-22T20:40:05.109Z"
   },
   {
    "duration": 38,
    "start_time": "2022-01-22T20:40:05.128Z"
   },
   {
    "duration": 11,
    "start_time": "2022-01-22T20:40:05.168Z"
   },
   {
    "duration": 23,
    "start_time": "2022-01-22T20:40:05.181Z"
   },
   {
    "duration": 21,
    "start_time": "2022-01-22T20:40:05.206Z"
   },
   {
    "duration": 9,
    "start_time": "2022-01-22T20:40:05.233Z"
   },
   {
    "duration": 32,
    "start_time": "2022-01-22T20:40:05.245Z"
   },
   {
    "duration": 18,
    "start_time": "2022-01-22T20:40:05.279Z"
   },
   {
    "duration": 10,
    "start_time": "2022-01-22T20:40:05.299Z"
   },
   {
    "duration": 16,
    "start_time": "2022-01-22T20:40:05.311Z"
   },
   {
    "duration": 12,
    "start_time": "2022-01-22T20:40:05.329Z"
   },
   {
    "duration": 9,
    "start_time": "2022-01-22T20:40:05.360Z"
   },
   {
    "duration": 10,
    "start_time": "2022-01-22T20:40:05.371Z"
   },
   {
    "duration": 11,
    "start_time": "2022-01-22T20:40:05.383Z"
   },
   {
    "duration": 20,
    "start_time": "2022-01-22T20:40:05.396Z"
   },
   {
    "duration": 21,
    "start_time": "2022-01-22T20:40:05.419Z"
   },
   {
    "duration": 25,
    "start_time": "2022-01-22T20:40:05.442Z"
   },
   {
    "duration": 8,
    "start_time": "2022-01-22T20:40:05.469Z"
   },
   {
    "duration": 12,
    "start_time": "2022-01-22T20:40:05.480Z"
   },
   {
    "duration": 21,
    "start_time": "2022-01-22T20:40:05.495Z"
   },
   {
    "duration": 42,
    "start_time": "2022-01-22T20:40:05.520Z"
   },
   {
    "duration": 24,
    "start_time": "2022-01-22T20:40:05.564Z"
   },
   {
    "duration": 23,
    "start_time": "2022-01-22T20:40:05.591Z"
   },
   {
    "duration": 61,
    "start_time": "2022-01-22T20:40:05.617Z"
   },
   {
    "duration": 4064,
    "start_time": "2022-01-22T20:40:05.680Z"
   },
   {
    "duration": 5,
    "start_time": "2022-01-22T20:40:09.746Z"
   },
   {
    "duration": 6,
    "start_time": "2022-01-22T20:40:09.760Z"
   },
   {
    "duration": 45,
    "start_time": "2022-01-22T20:40:09.768Z"
   },
   {
    "duration": 10,
    "start_time": "2022-01-22T20:40:09.815Z"
   },
   {
    "duration": 46,
    "start_time": "2022-01-22T20:40:09.827Z"
   },
   {
    "duration": 8,
    "start_time": "2022-01-22T20:40:09.875Z"
   },
   {
    "duration": 10,
    "start_time": "2022-01-22T20:40:09.886Z"
   },
   {
    "duration": 9,
    "start_time": "2022-01-22T20:40:09.899Z"
   },
   {
    "duration": 50,
    "start_time": "2022-01-22T20:40:09.910Z"
   },
   {
    "duration": 77,
    "start_time": "2022-01-22T20:42:08.824Z"
   },
   {
    "duration": 12,
    "start_time": "2022-01-22T20:42:08.904Z"
   },
   {
    "duration": 77,
    "start_time": "2022-01-22T20:42:08.918Z"
   },
   {
    "duration": 9,
    "start_time": "2022-01-22T20:42:08.997Z"
   },
   {
    "duration": 19,
    "start_time": "2022-01-22T20:42:09.009Z"
   },
   {
    "duration": 9,
    "start_time": "2022-01-22T20:42:09.058Z"
   },
   {
    "duration": 10,
    "start_time": "2022-01-22T20:42:09.070Z"
   },
   {
    "duration": 13,
    "start_time": "2022-01-22T20:42:09.084Z"
   },
   {
    "duration": 6,
    "start_time": "2022-01-22T20:42:09.100Z"
   },
   {
    "duration": 55,
    "start_time": "2022-01-22T20:42:09.109Z"
   },
   {
    "duration": 20,
    "start_time": "2022-01-22T20:42:09.168Z"
   },
   {
    "duration": 10,
    "start_time": "2022-01-22T20:42:09.191Z"
   },
   {
    "duration": 10,
    "start_time": "2022-01-22T20:42:09.204Z"
   },
   {
    "duration": 50,
    "start_time": "2022-01-22T20:42:09.217Z"
   },
   {
    "duration": 9,
    "start_time": "2022-01-22T20:42:09.270Z"
   },
   {
    "duration": 8,
    "start_time": "2022-01-22T20:42:09.282Z"
   },
   {
    "duration": 10,
    "start_time": "2022-01-22T20:42:09.292Z"
   },
   {
    "duration": 70,
    "start_time": "2022-01-22T20:42:09.304Z"
   },
   {
    "duration": 12,
    "start_time": "2022-01-22T20:42:09.377Z"
   },
   {
    "duration": 9,
    "start_time": "2022-01-22T20:42:09.392Z"
   },
   {
    "duration": 13,
    "start_time": "2022-01-22T20:42:09.403Z"
   },
   {
    "duration": 46,
    "start_time": "2022-01-22T20:42:09.419Z"
   },
   {
    "duration": 12,
    "start_time": "2022-01-22T20:42:09.472Z"
   },
   {
    "duration": 12,
    "start_time": "2022-01-22T20:42:09.487Z"
   },
   {
    "duration": 7,
    "start_time": "2022-01-22T20:42:09.501Z"
   },
   {
    "duration": 55,
    "start_time": "2022-01-22T20:42:09.510Z"
   },
   {
    "duration": 5,
    "start_time": "2022-01-22T20:42:09.568Z"
   },
   {
    "duration": 16,
    "start_time": "2022-01-22T20:42:09.576Z"
   },
   {
    "duration": 20,
    "start_time": "2022-01-22T20:42:09.595Z"
   },
   {
    "duration": 92,
    "start_time": "2022-01-22T20:42:09.617Z"
   },
   {
    "duration": 4361,
    "start_time": "2022-01-22T20:42:09.711Z"
   },
   {
    "duration": 5,
    "start_time": "2022-01-22T20:42:14.074Z"
   },
   {
    "duration": 9,
    "start_time": "2022-01-22T20:42:14.082Z"
   },
   {
    "duration": 75,
    "start_time": "2022-01-22T20:42:14.094Z"
   },
   {
    "duration": 11,
    "start_time": "2022-01-22T20:42:14.172Z"
   },
   {
    "duration": 20,
    "start_time": "2022-01-22T20:42:14.186Z"
   },
   {
    "duration": 9,
    "start_time": "2022-01-22T20:42:14.209Z"
   },
   {
    "duration": 12,
    "start_time": "2022-01-22T20:42:14.260Z"
   },
   {
    "duration": 10,
    "start_time": "2022-01-22T20:42:14.275Z"
   },
   {
    "duration": 10,
    "start_time": "2022-01-22T20:42:14.287Z"
   },
   {
    "duration": 83,
    "start_time": "2022-01-22T20:44:34.578Z"
   },
   {
    "duration": 12,
    "start_time": "2022-01-22T20:44:34.663Z"
   },
   {
    "duration": 46,
    "start_time": "2022-01-22T20:44:34.678Z"
   },
   {
    "duration": 36,
    "start_time": "2022-01-22T20:44:34.726Z"
   },
   {
    "duration": 16,
    "start_time": "2022-01-22T20:44:34.764Z"
   },
   {
    "duration": 8,
    "start_time": "2022-01-22T20:44:34.782Z"
   },
   {
    "duration": 17,
    "start_time": "2022-01-22T20:44:34.792Z"
   },
   {
    "duration": 46,
    "start_time": "2022-01-22T20:44:34.813Z"
   },
   {
    "duration": 6,
    "start_time": "2022-01-22T20:44:34.862Z"
   },
   {
    "duration": 9,
    "start_time": "2022-01-22T20:44:34.870Z"
   },
   {
    "duration": 13,
    "start_time": "2022-01-22T20:44:34.881Z"
   },
   {
    "duration": 7,
    "start_time": "2022-01-22T20:44:34.896Z"
   },
   {
    "duration": 54,
    "start_time": "2022-01-22T20:44:34.905Z"
   },
   {
    "duration": 9,
    "start_time": "2022-01-22T20:44:34.962Z"
   },
   {
    "duration": 10,
    "start_time": "2022-01-22T20:44:34.974Z"
   },
   {
    "duration": 8,
    "start_time": "2022-01-22T20:44:34.987Z"
   },
   {
    "duration": 9,
    "start_time": "2022-01-22T20:44:34.997Z"
   },
   {
    "duration": 59,
    "start_time": "2022-01-22T20:44:35.008Z"
   },
   {
    "duration": 13,
    "start_time": "2022-01-22T20:44:35.069Z"
   },
   {
    "duration": 8,
    "start_time": "2022-01-22T20:44:35.084Z"
   },
   {
    "duration": 12,
    "start_time": "2022-01-22T20:44:35.094Z"
   },
   {
    "duration": 7,
    "start_time": "2022-01-22T20:44:35.109Z"
   },
   {
    "duration": 12,
    "start_time": "2022-01-22T20:44:35.159Z"
   },
   {
    "duration": 9,
    "start_time": "2022-01-22T20:44:35.174Z"
   },
   {
    "duration": 7,
    "start_time": "2022-01-22T20:44:35.185Z"
   },
   {
    "duration": 12,
    "start_time": "2022-01-22T20:44:35.194Z"
   },
   {
    "duration": 6,
    "start_time": "2022-01-22T20:44:35.208Z"
   },
   {
    "duration": 58,
    "start_time": "2022-01-22T20:44:35.216Z"
   },
   {
    "duration": 16,
    "start_time": "2022-01-22T20:44:35.276Z"
   },
   {
    "duration": 73,
    "start_time": "2022-01-22T20:44:35.294Z"
   },
   {
    "duration": 4156,
    "start_time": "2022-01-22T20:44:35.369Z"
   },
   {
    "duration": 6,
    "start_time": "2022-01-22T20:44:39.528Z"
   },
   {
    "duration": 9,
    "start_time": "2022-01-22T20:44:39.537Z"
   },
   {
    "duration": 47,
    "start_time": "2022-01-22T20:44:39.549Z"
   },
   {
    "duration": 9,
    "start_time": "2022-01-22T20:44:39.599Z"
   },
   {
    "duration": 16,
    "start_time": "2022-01-22T20:44:39.610Z"
   },
   {
    "duration": 8,
    "start_time": "2022-01-22T20:44:39.628Z"
   },
   {
    "duration": 22,
    "start_time": "2022-01-22T20:44:39.639Z"
   },
   {
    "duration": 9,
    "start_time": "2022-01-22T20:44:39.663Z"
   },
   {
    "duration": 10,
    "start_time": "2022-01-22T20:44:39.674Z"
   },
   {
    "duration": 103,
    "start_time": "2022-01-22T20:45:26.123Z"
   },
   {
    "duration": 37,
    "start_time": "2022-01-22T20:45:26.228Z"
   },
   {
    "duration": 46,
    "start_time": "2022-01-22T20:45:26.268Z"
   },
   {
    "duration": 7,
    "start_time": "2022-01-22T20:45:26.316Z"
   },
   {
    "duration": 46,
    "start_time": "2022-01-22T20:45:26.325Z"
   },
   {
    "duration": 8,
    "start_time": "2022-01-22T20:45:26.373Z"
   },
   {
    "duration": 9,
    "start_time": "2022-01-22T20:45:26.383Z"
   },
   {
    "duration": 11,
    "start_time": "2022-01-22T20:45:26.396Z"
   },
   {
    "duration": 6,
    "start_time": "2022-01-22T20:45:26.410Z"
   },
   {
    "duration": 49,
    "start_time": "2022-01-22T20:45:26.418Z"
   },
   {
    "duration": 15,
    "start_time": "2022-01-22T20:45:26.469Z"
   },
   {
    "duration": 7,
    "start_time": "2022-01-22T20:45:26.487Z"
   },
   {
    "duration": 10,
    "start_time": "2022-01-22T20:45:26.496Z"
   },
   {
    "duration": 51,
    "start_time": "2022-01-22T20:45:26.508Z"
   },
   {
    "duration": 12,
    "start_time": "2022-01-22T20:45:26.562Z"
   },
   {
    "duration": 10,
    "start_time": "2022-01-22T20:45:26.577Z"
   },
   {
    "duration": 10,
    "start_time": "2022-01-22T20:45:26.590Z"
   },
   {
    "duration": 62,
    "start_time": "2022-01-22T20:45:26.602Z"
   },
   {
    "duration": 14,
    "start_time": "2022-01-22T20:45:26.667Z"
   },
   {
    "duration": 9,
    "start_time": "2022-01-22T20:45:26.684Z"
   },
   {
    "duration": 10,
    "start_time": "2022-01-22T20:45:26.695Z"
   },
   {
    "duration": 53,
    "start_time": "2022-01-22T20:45:26.708Z"
   },
   {
    "duration": 11,
    "start_time": "2022-01-22T20:45:26.766Z"
   },
   {
    "duration": 9,
    "start_time": "2022-01-22T20:45:26.780Z"
   },
   {
    "duration": 6,
    "start_time": "2022-01-22T20:45:26.791Z"
   },
   {
    "duration": 10,
    "start_time": "2022-01-22T20:45:26.799Z"
   },
   {
    "duration": 49,
    "start_time": "2022-01-22T20:45:26.811Z"
   },
   {
    "duration": 15,
    "start_time": "2022-01-22T20:45:26.863Z"
   },
   {
    "duration": 16,
    "start_time": "2022-01-22T20:45:26.880Z"
   },
   {
    "duration": 72,
    "start_time": "2022-01-22T20:45:26.899Z"
   },
   {
    "duration": 4110,
    "start_time": "2022-01-22T20:45:26.973Z"
   },
   {
    "duration": 5,
    "start_time": "2022-01-22T20:45:31.085Z"
   },
   {
    "duration": 13,
    "start_time": "2022-01-22T20:45:31.094Z"
   },
   {
    "duration": 77,
    "start_time": "2022-01-22T20:45:31.109Z"
   },
   {
    "duration": 11,
    "start_time": "2022-01-22T20:45:31.189Z"
   },
   {
    "duration": 21,
    "start_time": "2022-01-22T20:45:31.203Z"
   },
   {
    "duration": 40,
    "start_time": "2022-01-22T20:45:31.227Z"
   },
   {
    "duration": 16,
    "start_time": "2022-01-22T20:45:31.270Z"
   },
   {
    "duration": 13,
    "start_time": "2022-01-22T20:45:31.289Z"
   },
   {
    "duration": 11,
    "start_time": "2022-01-22T20:45:31.305Z"
   },
   {
    "duration": 7,
    "start_time": "2022-01-22T20:46:18.978Z"
   },
   {
    "duration": 15,
    "start_time": "2022-01-22T20:47:41.576Z"
   },
   {
    "duration": 76,
    "start_time": "2022-01-22T20:47:48.276Z"
   },
   {
    "duration": 13,
    "start_time": "2022-01-22T20:47:48.360Z"
   },
   {
    "duration": 46,
    "start_time": "2022-01-22T20:47:48.376Z"
   },
   {
    "duration": 35,
    "start_time": "2022-01-22T20:47:48.425Z"
   },
   {
    "duration": 14,
    "start_time": "2022-01-22T20:47:48.463Z"
   },
   {
    "duration": 8,
    "start_time": "2022-01-22T20:47:48.479Z"
   },
   {
    "duration": 5,
    "start_time": "2022-01-22T20:47:48.490Z"
   },
   {
    "duration": 11,
    "start_time": "2022-01-22T20:47:48.499Z"
   },
   {
    "duration": 57,
    "start_time": "2022-01-22T20:47:48.513Z"
   },
   {
    "duration": 7,
    "start_time": "2022-01-22T20:47:48.572Z"
   },
   {
    "duration": 13,
    "start_time": "2022-01-22T20:47:48.581Z"
   },
   {
    "duration": 15,
    "start_time": "2022-01-22T20:47:48.597Z"
   },
   {
    "duration": 45,
    "start_time": "2022-01-22T20:47:48.614Z"
   },
   {
    "duration": 10,
    "start_time": "2022-01-22T20:47:48.662Z"
   },
   {
    "duration": 9,
    "start_time": "2022-01-22T20:47:48.674Z"
   },
   {
    "duration": 9,
    "start_time": "2022-01-22T20:47:48.685Z"
   },
   {
    "duration": 8,
    "start_time": "2022-01-22T20:47:48.697Z"
   },
   {
    "duration": 54,
    "start_time": "2022-01-22T20:47:48.707Z"
   },
   {
    "duration": 19,
    "start_time": "2022-01-22T20:47:48.763Z"
   },
   {
    "duration": 12,
    "start_time": "2022-01-22T20:47:48.785Z"
   },
   {
    "duration": 8,
    "start_time": "2022-01-22T20:47:48.799Z"
   },
   {
    "duration": 11,
    "start_time": "2022-01-22T20:47:48.809Z"
   },
   {
    "duration": 8,
    "start_time": "2022-01-22T20:47:48.862Z"
   },
   {
    "duration": 11,
    "start_time": "2022-01-22T20:47:48.872Z"
   },
   {
    "duration": 9,
    "start_time": "2022-01-22T20:47:48.885Z"
   },
   {
    "duration": 6,
    "start_time": "2022-01-22T20:47:48.896Z"
   },
   {
    "duration": 57,
    "start_time": "2022-01-22T20:47:48.904Z"
   },
   {
    "duration": 7,
    "start_time": "2022-01-22T20:47:48.963Z"
   },
   {
    "duration": 17,
    "start_time": "2022-01-22T20:47:48.973Z"
   },
   {
    "duration": 18,
    "start_time": "2022-01-22T20:47:48.993Z"
   },
   {
    "duration": 93,
    "start_time": "2022-01-22T20:47:49.013Z"
   },
   {
    "duration": 4118,
    "start_time": "2022-01-22T20:47:49.109Z"
   },
   {
    "duration": 5,
    "start_time": "2022-01-22T20:47:53.229Z"
   },
   {
    "duration": 8,
    "start_time": "2022-01-22T20:47:53.236Z"
   },
   {
    "duration": 42,
    "start_time": "2022-01-22T20:47:53.260Z"
   },
   {
    "duration": 9,
    "start_time": "2022-01-22T20:47:53.304Z"
   },
   {
    "duration": 15,
    "start_time": "2022-01-22T20:47:53.315Z"
   },
   {
    "duration": 8,
    "start_time": "2022-01-22T20:47:53.360Z"
   },
   {
    "duration": 10,
    "start_time": "2022-01-22T20:47:53.371Z"
   },
   {
    "duration": 8,
    "start_time": "2022-01-22T20:47:53.383Z"
   },
   {
    "duration": 9,
    "start_time": "2022-01-22T20:47:53.393Z"
   },
   {
    "duration": 79,
    "start_time": "2022-01-22T20:48:15.599Z"
   },
   {
    "duration": 11,
    "start_time": "2022-01-22T20:48:15.681Z"
   },
   {
    "duration": 45,
    "start_time": "2022-01-22T20:48:15.695Z"
   },
   {
    "duration": 8,
    "start_time": "2022-01-22T20:48:15.760Z"
   },
   {
    "duration": 15,
    "start_time": "2022-01-22T20:48:15.771Z"
   },
   {
    "duration": 10,
    "start_time": "2022-01-22T20:48:15.788Z"
   },
   {
    "duration": 10,
    "start_time": "2022-01-22T20:48:15.800Z"
   },
   {
    "duration": 56,
    "start_time": "2022-01-22T20:48:15.813Z"
   },
   {
    "duration": 6,
    "start_time": "2022-01-22T20:48:15.872Z"
   },
   {
    "duration": 9,
    "start_time": "2022-01-22T20:48:15.880Z"
   },
   {
    "duration": 12,
    "start_time": "2022-01-22T20:48:15.891Z"
   },
   {
    "duration": 7,
    "start_time": "2022-01-22T20:48:15.905Z"
   },
   {
    "duration": 54,
    "start_time": "2022-01-22T20:48:15.914Z"
   },
   {
    "duration": 8,
    "start_time": "2022-01-22T20:48:15.970Z"
   },
   {
    "duration": 10,
    "start_time": "2022-01-22T20:48:15.980Z"
   },
   {
    "duration": 10,
    "start_time": "2022-01-22T20:48:15.994Z"
   },
   {
    "duration": 53,
    "start_time": "2022-01-22T20:48:16.006Z"
   },
   {
    "duration": 21,
    "start_time": "2022-01-22T20:48:16.061Z"
   },
   {
    "duration": 13,
    "start_time": "2022-01-22T20:48:16.084Z"
   },
   {
    "duration": 10,
    "start_time": "2022-01-22T20:48:16.099Z"
   },
   {
    "duration": 53,
    "start_time": "2022-01-22T20:48:16.112Z"
   },
   {
    "duration": 8,
    "start_time": "2022-01-22T20:48:16.167Z"
   },
   {
    "duration": 11,
    "start_time": "2022-01-22T20:48:16.180Z"
   },
   {
    "duration": 10,
    "start_time": "2022-01-22T20:48:16.193Z"
   },
   {
    "duration": 5,
    "start_time": "2022-01-22T20:48:16.206Z"
   },
   {
    "duration": 55,
    "start_time": "2022-01-22T20:48:16.214Z"
   },
   {
    "duration": 6,
    "start_time": "2022-01-22T20:48:16.272Z"
   },
   {
    "duration": 18,
    "start_time": "2022-01-22T20:48:16.280Z"
   },
   {
    "duration": 17,
    "start_time": "2022-01-22T20:48:16.301Z"
   },
   {
    "duration": 56,
    "start_time": "2022-01-22T20:48:16.360Z"
   },
   {
    "duration": 4297,
    "start_time": "2022-01-22T20:48:16.419Z"
   },
   {
    "duration": 6,
    "start_time": "2022-01-22T20:48:20.719Z"
   },
   {
    "duration": 8,
    "start_time": "2022-01-22T20:48:20.727Z"
   },
   {
    "duration": 60,
    "start_time": "2022-01-22T20:48:20.738Z"
   },
   {
    "duration": 10,
    "start_time": "2022-01-22T20:48:20.800Z"
   },
   {
    "duration": 17,
    "start_time": "2022-01-22T20:48:20.813Z"
   },
   {
    "duration": 10,
    "start_time": "2022-01-22T20:48:20.859Z"
   },
   {
    "duration": 11,
    "start_time": "2022-01-22T20:48:20.871Z"
   },
   {
    "duration": 10,
    "start_time": "2022-01-22T20:48:20.884Z"
   },
   {
    "duration": 11,
    "start_time": "2022-01-22T20:48:20.897Z"
   },
   {
    "duration": 105,
    "start_time": "2022-01-22T20:50:26.059Z"
   },
   {
    "duration": 14,
    "start_time": "2022-01-22T20:50:26.167Z"
   },
   {
    "duration": 79,
    "start_time": "2022-01-22T20:50:26.185Z"
   },
   {
    "duration": 10,
    "start_time": "2022-01-22T20:50:26.267Z"
   },
   {
    "duration": 14,
    "start_time": "2022-01-22T20:50:26.281Z"
   },
   {
    "duration": 7,
    "start_time": "2022-01-22T20:50:26.298Z"
   },
   {
    "duration": 55,
    "start_time": "2022-01-22T20:50:26.308Z"
   },
   {
    "duration": 13,
    "start_time": "2022-01-22T20:50:26.367Z"
   },
   {
    "duration": 6,
    "start_time": "2022-01-22T20:50:26.382Z"
   },
   {
    "duration": 8,
    "start_time": "2022-01-22T20:50:26.390Z"
   },
   {
    "duration": 14,
    "start_time": "2022-01-22T20:50:26.401Z"
   },
   {
    "duration": 50,
    "start_time": "2022-01-22T20:50:26.417Z"
   },
   {
    "duration": 11,
    "start_time": "2022-01-22T20:50:26.469Z"
   },
   {
    "duration": 8,
    "start_time": "2022-01-22T20:50:26.482Z"
   },
   {
    "duration": 8,
    "start_time": "2022-01-22T20:50:26.493Z"
   },
   {
    "duration": 7,
    "start_time": "2022-01-22T20:50:26.504Z"
   },
   {
    "duration": 11,
    "start_time": "2022-01-22T20:50:26.560Z"
   },
   {
    "duration": 22,
    "start_time": "2022-01-22T20:50:26.574Z"
   },
   {
    "duration": 12,
    "start_time": "2022-01-22T20:50:26.599Z"
   },
   {
    "duration": 8,
    "start_time": "2022-01-22T20:50:26.613Z"
   },
   {
    "duration": 12,
    "start_time": "2022-01-22T20:50:26.660Z"
   },
   {
    "duration": 8,
    "start_time": "2022-01-22T20:50:26.674Z"
   },
   {
    "duration": 11,
    "start_time": "2022-01-22T20:50:26.687Z"
   },
   {
    "duration": 9,
    "start_time": "2022-01-22T20:50:26.701Z"
   },
   {
    "duration": 5,
    "start_time": "2022-01-22T20:50:26.713Z"
   },
   {
    "duration": 13,
    "start_time": "2022-01-22T20:50:26.760Z"
   },
   {
    "duration": 5,
    "start_time": "2022-01-22T20:50:26.775Z"
   },
   {
    "duration": 17,
    "start_time": "2022-01-22T20:50:26.782Z"
   },
   {
    "duration": 58,
    "start_time": "2022-01-22T20:50:26.801Z"
   },
   {
    "duration": 58,
    "start_time": "2022-01-22T20:50:26.862Z"
   },
   {
    "duration": 4116,
    "start_time": "2022-01-22T20:50:26.923Z"
   },
   {
    "duration": 5,
    "start_time": "2022-01-22T20:50:31.042Z"
   },
   {
    "duration": 14,
    "start_time": "2022-01-22T20:50:31.050Z"
   },
   {
    "duration": 48,
    "start_time": "2022-01-22T20:50:31.067Z"
   },
   {
    "duration": 42,
    "start_time": "2022-01-22T20:50:31.117Z"
   },
   {
    "duration": 17,
    "start_time": "2022-01-22T20:50:31.162Z"
   },
   {
    "duration": 10,
    "start_time": "2022-01-22T20:50:31.181Z"
   },
   {
    "duration": 16,
    "start_time": "2022-01-22T20:50:31.195Z"
   },
   {
    "duration": 55,
    "start_time": "2022-01-22T20:50:31.214Z"
   },
   {
    "duration": 15,
    "start_time": "2022-01-22T20:50:31.272Z"
   },
   {
    "duration": 77,
    "start_time": "2022-01-22T21:01:28.819Z"
   },
   {
    "duration": 12,
    "start_time": "2022-01-22T21:01:28.899Z"
   },
   {
    "duration": 78,
    "start_time": "2022-01-22T21:01:28.914Z"
   },
   {
    "duration": 7,
    "start_time": "2022-01-22T21:01:28.995Z"
   },
   {
    "duration": 13,
    "start_time": "2022-01-22T21:01:29.004Z"
   },
   {
    "duration": 7,
    "start_time": "2022-01-22T21:01:29.019Z"
   },
   {
    "duration": 38,
    "start_time": "2022-01-22T21:01:29.028Z"
   },
   {
    "duration": 10,
    "start_time": "2022-01-22T21:01:29.071Z"
   },
   {
    "duration": 5,
    "start_time": "2022-01-22T21:01:29.084Z"
   },
   {
    "duration": 7,
    "start_time": "2022-01-22T21:01:29.092Z"
   },
   {
    "duration": 12,
    "start_time": "2022-01-22T21:01:29.102Z"
   },
   {
    "duration": 49,
    "start_time": "2022-01-22T21:01:29.116Z"
   },
   {
    "duration": 10,
    "start_time": "2022-01-22T21:01:29.167Z"
   },
   {
    "duration": 11,
    "start_time": "2022-01-22T21:01:29.179Z"
   },
   {
    "duration": 9,
    "start_time": "2022-01-22T21:01:29.192Z"
   },
   {
    "duration": 10,
    "start_time": "2022-01-22T21:01:29.203Z"
   },
   {
    "duration": 50,
    "start_time": "2022-01-22T21:01:29.215Z"
   },
   {
    "duration": 18,
    "start_time": "2022-01-22T21:01:29.268Z"
   },
   {
    "duration": 13,
    "start_time": "2022-01-22T21:01:29.288Z"
   },
   {
    "duration": 8,
    "start_time": "2022-01-22T21:01:29.303Z"
   },
   {
    "duration": 48,
    "start_time": "2022-01-22T21:01:29.313Z"
   },
   {
    "duration": 8,
    "start_time": "2022-01-22T21:01:29.363Z"
   },
   {
    "duration": 10,
    "start_time": "2022-01-22T21:01:29.376Z"
   },
   {
    "duration": 10,
    "start_time": "2022-01-22T21:01:29.389Z"
   },
   {
    "duration": 6,
    "start_time": "2022-01-22T21:01:29.401Z"
   },
   {
    "duration": 55,
    "start_time": "2022-01-22T21:01:29.409Z"
   },
   {
    "duration": 7,
    "start_time": "2022-01-22T21:01:29.466Z"
   },
   {
    "duration": 16,
    "start_time": "2022-01-22T21:01:29.475Z"
   },
   {
    "duration": 17,
    "start_time": "2022-01-22T21:01:29.493Z"
   },
   {
    "duration": 87,
    "start_time": "2022-01-22T21:01:29.512Z"
   },
   {
    "duration": 4557,
    "start_time": "2022-01-22T21:01:29.603Z"
   },
   {
    "duration": 6,
    "start_time": "2022-01-22T21:01:34.163Z"
   },
   {
    "duration": 12,
    "start_time": "2022-01-22T21:01:34.171Z"
   },
   {
    "duration": 81,
    "start_time": "2022-01-22T21:01:34.185Z"
   },
   {
    "duration": 12,
    "start_time": "2022-01-22T21:01:34.269Z"
   },
   {
    "duration": 17,
    "start_time": "2022-01-22T21:01:34.283Z"
   },
   {
    "duration": 27,
    "start_time": "2022-01-22T21:01:34.303Z"
   },
   {
    "duration": 32,
    "start_time": "2022-01-22T21:01:34.333Z"
   },
   {
    "duration": 13,
    "start_time": "2022-01-22T21:01:34.369Z"
   },
   {
    "duration": 14,
    "start_time": "2022-01-22T21:01:34.385Z"
   },
   {
    "duration": 72,
    "start_time": "2022-01-22T21:01:34.402Z"
   },
   {
    "duration": 95,
    "start_time": "2022-01-22T21:03:24.420Z"
   },
   {
    "duration": 12,
    "start_time": "2022-01-22T21:03:24.518Z"
   },
   {
    "duration": 49,
    "start_time": "2022-01-22T21:03:24.561Z"
   },
   {
    "duration": 10,
    "start_time": "2022-01-22T21:03:24.614Z"
   },
   {
    "duration": 46,
    "start_time": "2022-01-22T21:03:24.626Z"
   },
   {
    "duration": 9,
    "start_time": "2022-01-22T21:03:24.675Z"
   },
   {
    "duration": 12,
    "start_time": "2022-01-22T21:03:24.687Z"
   },
   {
    "duration": 12,
    "start_time": "2022-01-22T21:03:24.702Z"
   },
   {
    "duration": 6,
    "start_time": "2022-01-22T21:03:24.761Z"
   },
   {
    "duration": 14,
    "start_time": "2022-01-22T21:03:24.769Z"
   },
   {
    "duration": 15,
    "start_time": "2022-01-22T21:03:24.785Z"
   },
   {
    "duration": 7,
    "start_time": "2022-01-22T21:03:24.802Z"
   },
   {
    "duration": 10,
    "start_time": "2022-01-22T21:03:24.811Z"
   },
   {
    "duration": 8,
    "start_time": "2022-01-22T21:03:24.859Z"
   },
   {
    "duration": 9,
    "start_time": "2022-01-22T21:03:24.869Z"
   },
   {
    "duration": 8,
    "start_time": "2022-01-22T21:03:24.881Z"
   },
   {
    "duration": 9,
    "start_time": "2022-01-22T21:03:24.892Z"
   },
   {
    "duration": 60,
    "start_time": "2022-01-22T21:03:24.903Z"
   },
   {
    "duration": 12,
    "start_time": "2022-01-22T21:03:24.965Z"
   },
   {
    "duration": 7,
    "start_time": "2022-01-22T21:03:24.980Z"
   },
   {
    "duration": 12,
    "start_time": "2022-01-22T21:03:24.989Z"
   },
   {
    "duration": 8,
    "start_time": "2022-01-22T21:03:25.003Z"
   },
   {
    "duration": 47,
    "start_time": "2022-01-22T21:03:25.016Z"
   },
   {
    "duration": 11,
    "start_time": "2022-01-22T21:03:25.066Z"
   },
   {
    "duration": 6,
    "start_time": "2022-01-22T21:03:25.079Z"
   },
   {
    "duration": 15,
    "start_time": "2022-01-22T21:03:25.088Z"
   },
   {
    "duration": 5,
    "start_time": "2022-01-22T21:03:25.105Z"
   },
   {
    "duration": 60,
    "start_time": "2022-01-22T21:03:25.112Z"
   },
   {
    "duration": 17,
    "start_time": "2022-01-22T21:03:25.174Z"
   },
   {
    "duration": 72,
    "start_time": "2022-01-22T21:03:25.193Z"
   },
   {
    "duration": 4175,
    "start_time": "2022-01-22T21:03:25.268Z"
   },
   {
    "duration": 13,
    "start_time": "2022-01-22T21:03:29.446Z"
   },
   {
    "duration": 8,
    "start_time": "2022-01-22T21:03:29.462Z"
   },
   {
    "duration": 43,
    "start_time": "2022-01-22T21:03:29.473Z"
   },
   {
    "duration": 45,
    "start_time": "2022-01-22T21:03:29.519Z"
   },
   {
    "duration": 8,
    "start_time": "2022-01-22T21:03:29.566Z"
   },
   {
    "duration": 17,
    "start_time": "2022-01-22T21:03:29.576Z"
   },
   {
    "duration": 9,
    "start_time": "2022-01-22T21:03:29.595Z"
   },
   {
    "duration": 57,
    "start_time": "2022-01-22T21:03:29.607Z"
   },
   {
    "duration": 13,
    "start_time": "2022-01-22T21:03:29.667Z"
   },
   {
    "duration": 13,
    "start_time": "2022-01-22T21:03:29.682Z"
   },
   {
    "duration": 905,
    "start_time": "2022-01-23T09:00:08.310Z"
   },
   {
    "duration": 24,
    "start_time": "2022-01-23T09:00:09.218Z"
   },
   {
    "duration": 47,
    "start_time": "2022-01-23T09:00:09.245Z"
   },
   {
    "duration": 7,
    "start_time": "2022-01-23T09:00:09.294Z"
   },
   {
    "duration": 39,
    "start_time": "2022-01-23T09:00:09.303Z"
   },
   {
    "duration": 7,
    "start_time": "2022-01-23T09:00:09.344Z"
   },
   {
    "duration": 10,
    "start_time": "2022-01-23T09:00:09.354Z"
   },
   {
    "duration": 11,
    "start_time": "2022-01-23T09:00:09.368Z"
   },
   {
    "duration": 5,
    "start_time": "2022-01-23T09:00:09.382Z"
   },
   {
    "duration": 48,
    "start_time": "2022-01-23T09:00:09.390Z"
   },
   {
    "duration": 13,
    "start_time": "2022-01-23T09:00:09.440Z"
   },
   {
    "duration": 8,
    "start_time": "2022-01-23T09:00:09.455Z"
   },
   {
    "duration": 9,
    "start_time": "2022-01-23T09:00:09.465Z"
   },
   {
    "duration": 12,
    "start_time": "2022-01-23T09:00:09.476Z"
   },
   {
    "duration": 49,
    "start_time": "2022-01-23T09:00:09.491Z"
   },
   {
    "duration": 8,
    "start_time": "2022-01-23T09:00:09.543Z"
   },
   {
    "duration": 9,
    "start_time": "2022-01-23T09:00:09.553Z"
   },
   {
    "duration": 21,
    "start_time": "2022-01-23T09:00:09.564Z"
   },
   {
    "duration": 50,
    "start_time": "2022-01-23T09:00:09.588Z"
   },
   {
    "duration": 9,
    "start_time": "2022-01-23T09:00:09.640Z"
   },
   {
    "duration": 11,
    "start_time": "2022-01-23T09:00:09.651Z"
   },
   {
    "duration": 9,
    "start_time": "2022-01-23T09:00:09.664Z"
   },
   {
    "duration": 10,
    "start_time": "2022-01-23T09:00:09.675Z"
   },
   {
    "duration": 50,
    "start_time": "2022-01-23T09:00:09.687Z"
   },
   {
    "duration": 5,
    "start_time": "2022-01-23T09:00:09.739Z"
   },
   {
    "duration": 11,
    "start_time": "2022-01-23T09:00:09.749Z"
   },
   {
    "duration": 11,
    "start_time": "2022-01-23T09:00:09.763Z"
   },
   {
    "duration": 20,
    "start_time": "2022-01-23T09:00:09.776Z"
   },
   {
    "duration": 45,
    "start_time": "2022-01-23T09:00:09.798Z"
   },
   {
    "duration": 76,
    "start_time": "2022-01-23T09:00:09.845Z"
   },
   {
    "duration": 4781,
    "start_time": "2022-01-23T09:00:09.924Z"
   },
   {
    "duration": 4,
    "start_time": "2022-01-23T09:00:14.708Z"
   },
   {
    "duration": 17,
    "start_time": "2022-01-23T09:00:14.715Z"
   },
   {
    "duration": 41,
    "start_time": "2022-01-23T09:00:14.735Z"
   },
   {
    "duration": 10,
    "start_time": "2022-01-23T09:00:14.778Z"
   },
   {
    "duration": 9,
    "start_time": "2022-01-23T09:00:14.790Z"
   },
   {
    "duration": 46,
    "start_time": "2022-01-23T09:00:14.801Z"
   },
   {
    "duration": 10,
    "start_time": "2022-01-23T09:00:14.849Z"
   },
   {
    "duration": 12,
    "start_time": "2022-01-23T09:00:14.861Z"
   },
   {
    "duration": 11,
    "start_time": "2022-01-23T09:00:14.876Z"
   },
   {
    "duration": 50,
    "start_time": "2022-01-23T09:00:14.889Z"
   },
   {
    "duration": 555,
    "start_time": "2022-07-13T13:13:39.126Z"
   }
  ],
  "kernelspec": {
   "display_name": "Python 3 (ipykernel)",
   "language": "python",
   "name": "python3"
  },
  "language_info": {
   "codemirror_mode": {
    "name": "ipython",
    "version": 3
   },
   "file_extension": ".py",
   "mimetype": "text/x-python",
   "name": "python",
   "nbconvert_exporter": "python",
   "pygments_lexer": "ipython3",
   "version": "3.9.5"
  },
  "toc": {
   "base_numbering": 1,
   "nav_menu": {},
   "number_sections": true,
   "sideBar": true,
   "skip_h1_title": true,
   "title_cell": "Table of Contents",
   "title_sidebar": "Contents",
   "toc_cell": false,
   "toc_position": {},
   "toc_section_display": true,
   "toc_window_display": false
  }
 },
 "nbformat": 4,
 "nbformat_minor": 2
}
