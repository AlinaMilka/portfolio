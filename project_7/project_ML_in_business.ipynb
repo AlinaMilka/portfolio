{
 "cells": [
  {
   "cell_type": "markdown",
   "metadata": {},
   "source": [
    "# Выбор локации для скважины"
   ]
  },
  {
   "cell_type": "markdown",
   "metadata": {},
   "source": [
    "## Загрузка и подготовка данных"
   ]
  },
  {
   "cell_type": "code",
   "execution_count": 60,
   "metadata": {},
   "outputs": [],
   "source": [
    "import pandas as pd\n",
    "import numpy as np\n",
    "from sklearn.model_selection import train_test_split\n",
    "from sklearn.linear_model import LinearRegression\n",
    "import matplotlib.pyplot as plt\n",
    "from sklearn.metrics import mean_squared_error\n",
    "from numpy.random import RandomState"
   ]
  },
  {
   "cell_type": "code",
   "execution_count": 61,
   "metadata": {},
   "outputs": [],
   "source": [
    "data0 = pd.read_csv('/datasets/geo_data_0.csv')\n",
    "data1 = pd.read_csv('/datasets/geo_data_1.csv')\n",
    "data2 = pd.read_csv('/datasets/geo_data_2.csv')"
   ]
  },
  {
   "cell_type": "code",
   "execution_count": 62,
   "metadata": {},
   "outputs": [
    {
     "name": "stdout",
     "output_type": "stream",
     "text": [
      "<class 'pandas.core.frame.DataFrame'>\n",
      "RangeIndex: 100000 entries, 0 to 99999\n",
      "Data columns (total 5 columns):\n",
      " #   Column   Non-Null Count   Dtype  \n",
      "---  ------   --------------   -----  \n",
      " 0   id       100000 non-null  object \n",
      " 1   f0       100000 non-null  float64\n",
      " 2   f1       100000 non-null  float64\n",
      " 3   f2       100000 non-null  float64\n",
      " 4   product  100000 non-null  float64\n",
      "dtypes: float64(4), object(1)\n",
      "memory usage: 3.8+ MB\n"
     ]
    },
    {
     "data": {
      "text/plain": [
       "None"
      ]
     },
     "metadata": {},
     "output_type": "display_data"
    },
    {
     "data": {
      "text/html": [
       "<div>\n",
       "<style scoped>\n",
       "    .dataframe tbody tr th:only-of-type {\n",
       "        vertical-align: middle;\n",
       "    }\n",
       "\n",
       "    .dataframe tbody tr th {\n",
       "        vertical-align: top;\n",
       "    }\n",
       "\n",
       "    .dataframe thead th {\n",
       "        text-align: right;\n",
       "    }\n",
       "</style>\n",
       "<table border=\"1\" class=\"dataframe\">\n",
       "  <thead>\n",
       "    <tr style=\"text-align: right;\">\n",
       "      <th></th>\n",
       "      <th>f0</th>\n",
       "      <th>f1</th>\n",
       "      <th>f2</th>\n",
       "      <th>product</th>\n",
       "    </tr>\n",
       "  </thead>\n",
       "  <tbody>\n",
       "    <tr>\n",
       "      <th>count</th>\n",
       "      <td>100000.000000</td>\n",
       "      <td>100000.000000</td>\n",
       "      <td>100000.000000</td>\n",
       "      <td>100000.000000</td>\n",
       "    </tr>\n",
       "    <tr>\n",
       "      <th>mean</th>\n",
       "      <td>0.500419</td>\n",
       "      <td>0.250143</td>\n",
       "      <td>2.502647</td>\n",
       "      <td>92.500000</td>\n",
       "    </tr>\n",
       "    <tr>\n",
       "      <th>std</th>\n",
       "      <td>0.871832</td>\n",
       "      <td>0.504433</td>\n",
       "      <td>3.248248</td>\n",
       "      <td>44.288691</td>\n",
       "    </tr>\n",
       "    <tr>\n",
       "      <th>min</th>\n",
       "      <td>-1.408605</td>\n",
       "      <td>-0.848218</td>\n",
       "      <td>-12.088328</td>\n",
       "      <td>0.000000</td>\n",
       "    </tr>\n",
       "    <tr>\n",
       "      <th>25%</th>\n",
       "      <td>-0.072580</td>\n",
       "      <td>-0.200881</td>\n",
       "      <td>0.287748</td>\n",
       "      <td>56.497507</td>\n",
       "    </tr>\n",
       "    <tr>\n",
       "      <th>50%</th>\n",
       "      <td>0.502360</td>\n",
       "      <td>0.250252</td>\n",
       "      <td>2.515969</td>\n",
       "      <td>91.849972</td>\n",
       "    </tr>\n",
       "    <tr>\n",
       "      <th>75%</th>\n",
       "      <td>1.073581</td>\n",
       "      <td>0.700646</td>\n",
       "      <td>4.715088</td>\n",
       "      <td>128.564089</td>\n",
       "    </tr>\n",
       "    <tr>\n",
       "      <th>max</th>\n",
       "      <td>2.362331</td>\n",
       "      <td>1.343769</td>\n",
       "      <td>16.003790</td>\n",
       "      <td>185.364347</td>\n",
       "    </tr>\n",
       "  </tbody>\n",
       "</table>\n",
       "</div>"
      ],
      "text/plain": [
       "                  f0             f1             f2        product\n",
       "count  100000.000000  100000.000000  100000.000000  100000.000000\n",
       "mean        0.500419       0.250143       2.502647      92.500000\n",
       "std         0.871832       0.504433       3.248248      44.288691\n",
       "min        -1.408605      -0.848218     -12.088328       0.000000\n",
       "25%        -0.072580      -0.200881       0.287748      56.497507\n",
       "50%         0.502360       0.250252       2.515969      91.849972\n",
       "75%         1.073581       0.700646       4.715088     128.564089\n",
       "max         2.362331       1.343769      16.003790     185.364347"
      ]
     },
     "metadata": {},
     "output_type": "display_data"
    },
    {
     "name": "stdout",
     "output_type": "stream",
     "text": [
      "<class 'pandas.core.frame.DataFrame'>\n",
      "RangeIndex: 100000 entries, 0 to 99999\n",
      "Data columns (total 5 columns):\n",
      " #   Column   Non-Null Count   Dtype  \n",
      "---  ------   --------------   -----  \n",
      " 0   id       100000 non-null  object \n",
      " 1   f0       100000 non-null  float64\n",
      " 2   f1       100000 non-null  float64\n",
      " 3   f2       100000 non-null  float64\n",
      " 4   product  100000 non-null  float64\n",
      "dtypes: float64(4), object(1)\n",
      "memory usage: 3.8+ MB\n"
     ]
    },
    {
     "data": {
      "text/plain": [
       "None"
      ]
     },
     "metadata": {},
     "output_type": "display_data"
    },
    {
     "data": {
      "text/html": [
       "<div>\n",
       "<style scoped>\n",
       "    .dataframe tbody tr th:only-of-type {\n",
       "        vertical-align: middle;\n",
       "    }\n",
       "\n",
       "    .dataframe tbody tr th {\n",
       "        vertical-align: top;\n",
       "    }\n",
       "\n",
       "    .dataframe thead th {\n",
       "        text-align: right;\n",
       "    }\n",
       "</style>\n",
       "<table border=\"1\" class=\"dataframe\">\n",
       "  <thead>\n",
       "    <tr style=\"text-align: right;\">\n",
       "      <th></th>\n",
       "      <th>f0</th>\n",
       "      <th>f1</th>\n",
       "      <th>f2</th>\n",
       "      <th>product</th>\n",
       "    </tr>\n",
       "  </thead>\n",
       "  <tbody>\n",
       "    <tr>\n",
       "      <th>count</th>\n",
       "      <td>100000.000000</td>\n",
       "      <td>100000.000000</td>\n",
       "      <td>100000.000000</td>\n",
       "      <td>100000.000000</td>\n",
       "    </tr>\n",
       "    <tr>\n",
       "      <th>mean</th>\n",
       "      <td>1.141296</td>\n",
       "      <td>-4.796579</td>\n",
       "      <td>2.494541</td>\n",
       "      <td>68.825000</td>\n",
       "    </tr>\n",
       "    <tr>\n",
       "      <th>std</th>\n",
       "      <td>8.965932</td>\n",
       "      <td>5.119872</td>\n",
       "      <td>1.703572</td>\n",
       "      <td>45.944423</td>\n",
       "    </tr>\n",
       "    <tr>\n",
       "      <th>min</th>\n",
       "      <td>-31.609576</td>\n",
       "      <td>-26.358598</td>\n",
       "      <td>-0.018144</td>\n",
       "      <td>0.000000</td>\n",
       "    </tr>\n",
       "    <tr>\n",
       "      <th>25%</th>\n",
       "      <td>-6.298551</td>\n",
       "      <td>-8.267985</td>\n",
       "      <td>1.000021</td>\n",
       "      <td>26.953261</td>\n",
       "    </tr>\n",
       "    <tr>\n",
       "      <th>50%</th>\n",
       "      <td>1.153055</td>\n",
       "      <td>-4.813172</td>\n",
       "      <td>2.011479</td>\n",
       "      <td>57.085625</td>\n",
       "    </tr>\n",
       "    <tr>\n",
       "      <th>75%</th>\n",
       "      <td>8.621015</td>\n",
       "      <td>-1.332816</td>\n",
       "      <td>3.999904</td>\n",
       "      <td>107.813044</td>\n",
       "    </tr>\n",
       "    <tr>\n",
       "      <th>max</th>\n",
       "      <td>29.421755</td>\n",
       "      <td>18.734063</td>\n",
       "      <td>5.019721</td>\n",
       "      <td>137.945408</td>\n",
       "    </tr>\n",
       "  </tbody>\n",
       "</table>\n",
       "</div>"
      ],
      "text/plain": [
       "                  f0             f1             f2        product\n",
       "count  100000.000000  100000.000000  100000.000000  100000.000000\n",
       "mean        1.141296      -4.796579       2.494541      68.825000\n",
       "std         8.965932       5.119872       1.703572      45.944423\n",
       "min       -31.609576     -26.358598      -0.018144       0.000000\n",
       "25%        -6.298551      -8.267985       1.000021      26.953261\n",
       "50%         1.153055      -4.813172       2.011479      57.085625\n",
       "75%         8.621015      -1.332816       3.999904     107.813044\n",
       "max        29.421755      18.734063       5.019721     137.945408"
      ]
     },
     "metadata": {},
     "output_type": "display_data"
    },
    {
     "name": "stdout",
     "output_type": "stream",
     "text": [
      "<class 'pandas.core.frame.DataFrame'>\n",
      "RangeIndex: 100000 entries, 0 to 99999\n",
      "Data columns (total 5 columns):\n",
      " #   Column   Non-Null Count   Dtype  \n",
      "---  ------   --------------   -----  \n",
      " 0   id       100000 non-null  object \n",
      " 1   f0       100000 non-null  float64\n",
      " 2   f1       100000 non-null  float64\n",
      " 3   f2       100000 non-null  float64\n",
      " 4   product  100000 non-null  float64\n",
      "dtypes: float64(4), object(1)\n",
      "memory usage: 3.8+ MB\n"
     ]
    },
    {
     "data": {
      "text/plain": [
       "None"
      ]
     },
     "metadata": {},
     "output_type": "display_data"
    },
    {
     "data": {
      "text/html": [
       "<div>\n",
       "<style scoped>\n",
       "    .dataframe tbody tr th:only-of-type {\n",
       "        vertical-align: middle;\n",
       "    }\n",
       "\n",
       "    .dataframe tbody tr th {\n",
       "        vertical-align: top;\n",
       "    }\n",
       "\n",
       "    .dataframe thead th {\n",
       "        text-align: right;\n",
       "    }\n",
       "</style>\n",
       "<table border=\"1\" class=\"dataframe\">\n",
       "  <thead>\n",
       "    <tr style=\"text-align: right;\">\n",
       "      <th></th>\n",
       "      <th>f0</th>\n",
       "      <th>f1</th>\n",
       "      <th>f2</th>\n",
       "      <th>product</th>\n",
       "    </tr>\n",
       "  </thead>\n",
       "  <tbody>\n",
       "    <tr>\n",
       "      <th>count</th>\n",
       "      <td>100000.000000</td>\n",
       "      <td>100000.000000</td>\n",
       "      <td>100000.000000</td>\n",
       "      <td>100000.000000</td>\n",
       "    </tr>\n",
       "    <tr>\n",
       "      <th>mean</th>\n",
       "      <td>0.002023</td>\n",
       "      <td>-0.002081</td>\n",
       "      <td>2.495128</td>\n",
       "      <td>95.000000</td>\n",
       "    </tr>\n",
       "    <tr>\n",
       "      <th>std</th>\n",
       "      <td>1.732045</td>\n",
       "      <td>1.730417</td>\n",
       "      <td>3.473445</td>\n",
       "      <td>44.749921</td>\n",
       "    </tr>\n",
       "    <tr>\n",
       "      <th>min</th>\n",
       "      <td>-8.760004</td>\n",
       "      <td>-7.084020</td>\n",
       "      <td>-11.970335</td>\n",
       "      <td>0.000000</td>\n",
       "    </tr>\n",
       "    <tr>\n",
       "      <th>25%</th>\n",
       "      <td>-1.162288</td>\n",
       "      <td>-1.174820</td>\n",
       "      <td>0.130359</td>\n",
       "      <td>59.450441</td>\n",
       "    </tr>\n",
       "    <tr>\n",
       "      <th>50%</th>\n",
       "      <td>0.009424</td>\n",
       "      <td>-0.009482</td>\n",
       "      <td>2.484236</td>\n",
       "      <td>94.925613</td>\n",
       "    </tr>\n",
       "    <tr>\n",
       "      <th>75%</th>\n",
       "      <td>1.158535</td>\n",
       "      <td>1.163678</td>\n",
       "      <td>4.858794</td>\n",
       "      <td>130.595027</td>\n",
       "    </tr>\n",
       "    <tr>\n",
       "      <th>max</th>\n",
       "      <td>7.238262</td>\n",
       "      <td>7.844801</td>\n",
       "      <td>16.739402</td>\n",
       "      <td>190.029838</td>\n",
       "    </tr>\n",
       "  </tbody>\n",
       "</table>\n",
       "</div>"
      ],
      "text/plain": [
       "                  f0             f1             f2        product\n",
       "count  100000.000000  100000.000000  100000.000000  100000.000000\n",
       "mean        0.002023      -0.002081       2.495128      95.000000\n",
       "std         1.732045       1.730417       3.473445      44.749921\n",
       "min        -8.760004      -7.084020     -11.970335       0.000000\n",
       "25%        -1.162288      -1.174820       0.130359      59.450441\n",
       "50%         0.009424      -0.009482       2.484236      94.925613\n",
       "75%         1.158535       1.163678       4.858794     130.595027\n",
       "max         7.238262       7.844801      16.739402     190.029838"
      ]
     },
     "metadata": {},
     "output_type": "display_data"
    }
   ],
   "source": [
    "display(data0.info())\n",
    "display(data0.describe())\n",
    "display(data1.info())\n",
    "display(data1.describe())\n",
    "display(data2.info())\n",
    "display(data2.describe())"
   ]
  },
  {
   "cell_type": "markdown",
   "metadata": {},
   "source": [
    "### Вывод\n",
    "\n",
    "- Информация о структуре данных - двумерная(DataFrame);\n",
    "- таблица имеет 100000 строк и 5 столбцов; \n",
    "- присутствуют названия столбцов и количество ненулевых значений;\n",
    "- в таблице присутствуют значения типов float(4 столбца), object(1 столбeц);\n",
    "- использование памяти."
   ]
  },
  {
   "cell_type": "markdown",
   "metadata": {},
   "source": [
    "Посмотрим, есть ли пропуски:"
   ]
  },
  {
   "cell_type": "code",
   "execution_count": 63,
   "metadata": {
    "scrolled": true
   },
   "outputs": [
    {
     "data": {
      "text/plain": [
       "id         0\n",
       "f0         0\n",
       "f1         0\n",
       "f2         0\n",
       "product    0\n",
       "dtype: int64"
      ]
     },
     "metadata": {},
     "output_type": "display_data"
    },
    {
     "data": {
      "text/plain": [
       "id         0\n",
       "f0         0\n",
       "f1         0\n",
       "f2         0\n",
       "product    0\n",
       "dtype: int64"
      ]
     },
     "metadata": {},
     "output_type": "display_data"
    },
    {
     "data": {
      "text/plain": [
       "id         0\n",
       "f0         0\n",
       "f1         0\n",
       "f2         0\n",
       "product    0\n",
       "dtype: int64"
      ]
     },
     "metadata": {},
     "output_type": "display_data"
    }
   ],
   "source": [
    "display(data0.isna().sum())\n",
    "display(data1.isna().sum())\n",
    "display(data2.isna().sum())"
   ]
  },
  {
   "cell_type": "markdown",
   "metadata": {},
   "source": [
    "Пропусков нет."
   ]
  },
  {
   "cell_type": "markdown",
   "metadata": {},
   "source": [
    "Проверим дубликаты:"
   ]
  },
  {
   "cell_type": "code",
   "execution_count": 64,
   "metadata": {
    "scrolled": true
   },
   "outputs": [
    {
     "data": {
      "text/html": [
       "<div>\n",
       "<style scoped>\n",
       "    .dataframe tbody tr th:only-of-type {\n",
       "        vertical-align: middle;\n",
       "    }\n",
       "\n",
       "    .dataframe tbody tr th {\n",
       "        vertical-align: top;\n",
       "    }\n",
       "\n",
       "    .dataframe thead th {\n",
       "        text-align: right;\n",
       "    }\n",
       "</style>\n",
       "<table border=\"1\" class=\"dataframe\">\n",
       "  <thead>\n",
       "    <tr style=\"text-align: right;\">\n",
       "      <th></th>\n",
       "      <th>id</th>\n",
       "      <th>f0</th>\n",
       "      <th>f1</th>\n",
       "      <th>f2</th>\n",
       "      <th>product</th>\n",
       "    </tr>\n",
       "  </thead>\n",
       "  <tbody>\n",
       "  </tbody>\n",
       "</table>\n",
       "</div>"
      ],
      "text/plain": [
       "Empty DataFrame\n",
       "Columns: [id, f0, f1, f2, product]\n",
       "Index: []"
      ]
     },
     "metadata": {},
     "output_type": "display_data"
    },
    {
     "data": {
      "text/html": [
       "<div>\n",
       "<style scoped>\n",
       "    .dataframe tbody tr th:only-of-type {\n",
       "        vertical-align: middle;\n",
       "    }\n",
       "\n",
       "    .dataframe tbody tr th {\n",
       "        vertical-align: top;\n",
       "    }\n",
       "\n",
       "    .dataframe thead th {\n",
       "        text-align: right;\n",
       "    }\n",
       "</style>\n",
       "<table border=\"1\" class=\"dataframe\">\n",
       "  <thead>\n",
       "    <tr style=\"text-align: right;\">\n",
       "      <th></th>\n",
       "      <th>id</th>\n",
       "      <th>f0</th>\n",
       "      <th>f1</th>\n",
       "      <th>f2</th>\n",
       "      <th>product</th>\n",
       "    </tr>\n",
       "  </thead>\n",
       "  <tbody>\n",
       "  </tbody>\n",
       "</table>\n",
       "</div>"
      ],
      "text/plain": [
       "Empty DataFrame\n",
       "Columns: [id, f0, f1, f2, product]\n",
       "Index: []"
      ]
     },
     "metadata": {},
     "output_type": "display_data"
    },
    {
     "data": {
      "text/html": [
       "<div>\n",
       "<style scoped>\n",
       "    .dataframe tbody tr th:only-of-type {\n",
       "        vertical-align: middle;\n",
       "    }\n",
       "\n",
       "    .dataframe tbody tr th {\n",
       "        vertical-align: top;\n",
       "    }\n",
       "\n",
       "    .dataframe thead th {\n",
       "        text-align: right;\n",
       "    }\n",
       "</style>\n",
       "<table border=\"1\" class=\"dataframe\">\n",
       "  <thead>\n",
       "    <tr style=\"text-align: right;\">\n",
       "      <th></th>\n",
       "      <th>id</th>\n",
       "      <th>f0</th>\n",
       "      <th>f1</th>\n",
       "      <th>f2</th>\n",
       "      <th>product</th>\n",
       "    </tr>\n",
       "  </thead>\n",
       "  <tbody>\n",
       "  </tbody>\n",
       "</table>\n",
       "</div>"
      ],
      "text/plain": [
       "Empty DataFrame\n",
       "Columns: [id, f0, f1, f2, product]\n",
       "Index: []"
      ]
     },
     "metadata": {},
     "output_type": "display_data"
    }
   ],
   "source": [
    "dubl_data0 = data0[data0.duplicated()].head()\n",
    "dubl_data1 = data1[data1.duplicated()].head()\n",
    "dubl_data2 = data2[data2.duplicated()].head()\n",
    "display(dubl_data0)\n",
    "display(dubl_data1)\n",
    "display(dubl_data2)"
   ]
  },
  {
   "cell_type": "markdown",
   "metadata": {},
   "source": [
    "Дубликатов нет."
   ]
  },
  {
   "cell_type": "markdown",
   "metadata": {},
   "source": [
    "## Обучение и проверка модели"
   ]
  },
  {
   "cell_type": "markdown",
   "metadata": {},
   "source": [
    "### Разделим данные на обучающую и тестовую выборки:"
   ]
  },
  {
   "cell_type": "code",
   "execution_count": 65,
   "metadata": {},
   "outputs": [
    {
     "data": {
      "text/plain": [
       "(75000, 3)"
      ]
     },
     "metadata": {},
     "output_type": "display_data"
    },
    {
     "data": {
      "text/plain": [
       "(75000,)"
      ]
     },
     "metadata": {},
     "output_type": "display_data"
    },
    {
     "data": {
      "text/plain": [
       "(25000, 3)"
      ]
     },
     "metadata": {},
     "output_type": "display_data"
    },
    {
     "data": {
      "text/plain": [
       "(25000,)"
      ]
     },
     "metadata": {},
     "output_type": "display_data"
    }
   ],
   "source": [
    "features0 = data0.drop(['id', 'product'], axis=1) #признаки\n",
    "target0 = data0['product'] #целевой признак\n",
    "\n",
    "features0_train, features0_valid, target0_train, target0_valid = train_test_split(\n",
    "    features0, target0, test_size=0.25, random_state=12345)\n",
    "\n",
    "display(features0_train.shape)\n",
    "display(target0_train.shape)\n",
    "display(features0_valid.shape)\n",
    "display(target0_valid.shape)"
   ]
  },
  {
   "cell_type": "code",
   "execution_count": 66,
   "metadata": {},
   "outputs": [
    {
     "data": {
      "text/plain": [
       "(75000, 3)"
      ]
     },
     "metadata": {},
     "output_type": "display_data"
    },
    {
     "data": {
      "text/plain": [
       "(75000,)"
      ]
     },
     "metadata": {},
     "output_type": "display_data"
    },
    {
     "data": {
      "text/plain": [
       "(25000, 3)"
      ]
     },
     "metadata": {},
     "output_type": "display_data"
    },
    {
     "data": {
      "text/plain": [
       "(25000,)"
      ]
     },
     "metadata": {},
     "output_type": "display_data"
    }
   ],
   "source": [
    "features1 = data1.drop(['id', 'product'], axis=1) #признаки\n",
    "target1 = data1['product'] #целевой признак\n",
    "\n",
    "features1_train, features1_valid, target1_train, target1_valid = train_test_split(\n",
    "    features1, target1, test_size=0.25, random_state=12345)\n",
    "\n",
    "display(features1_train.shape)\n",
    "display(target1_train.shape)\n",
    "display(features1_valid.shape)\n",
    "display(target1_valid.shape)"
   ]
  },
  {
   "cell_type": "code",
   "execution_count": 67,
   "metadata": {
    "scrolled": true
   },
   "outputs": [
    {
     "data": {
      "text/plain": [
       "(75000, 3)"
      ]
     },
     "metadata": {},
     "output_type": "display_data"
    },
    {
     "data": {
      "text/plain": [
       "(75000,)"
      ]
     },
     "metadata": {},
     "output_type": "display_data"
    },
    {
     "data": {
      "text/plain": [
       "(25000, 3)"
      ]
     },
     "metadata": {},
     "output_type": "display_data"
    },
    {
     "data": {
      "text/plain": [
       "(25000,)"
      ]
     },
     "metadata": {},
     "output_type": "display_data"
    }
   ],
   "source": [
    "features2 = data2.drop(['id', 'product'], axis=1) #признаки\n",
    "target2 = data2['product'] #целевой признак\n",
    "\n",
    "features2_train, features2_valid, target2_train, target2_valid = train_test_split(\n",
    "    features2, target2, test_size=0.25, random_state=12345)\n",
    "\n",
    "display(features2_train.shape)\n",
    "display(target2_train.shape)\n",
    "display(features2_valid.shape)\n",
    "display(target2_valid.shape)"
   ]
  },
  {
   "cell_type": "markdown",
   "metadata": {},
   "source": [
    "### Обучим модель и сделаем предсказания на валидационной выборке:"
   ]
  },
  {
   "cell_type": "code",
   "execution_count": 68,
   "metadata": {},
   "outputs": [],
   "source": [
    "def predictions(data):\n",
    "    features = data.drop(['id', 'product'], axis=1) #признаки\n",
    "    target = data['product'] #целевой признак\n",
    "\n",
    "    features_train, features_valid, target_train, target_valid = train_test_split(\n",
    "        features, target, test_size=0.25, random_state=12345)\n",
    "    model = LinearRegression()\n",
    "    model.fit(features_train, target_train)\n",
    "    return pd.Series(model.predict(features_valid)), target_valid"
   ]
  },
  {
   "cell_type": "markdown",
   "metadata": {},
   "source": [
    "### Сохраним предсказания и правильные ответы на валидационной выборке:"
   ]
  },
  {
   "cell_type": "code",
   "execution_count": 69,
   "metadata": {},
   "outputs": [],
   "source": [
    "predicted0, target0_valid = predictions(data0)\n",
    "predicted1, target1_valid = predictions(data1)\n",
    "predicted2, target2_valid = predictions(data2)"
   ]
  },
  {
   "cell_type": "markdown",
   "metadata": {},
   "source": [
    "### Напечатаем на экране средний запас предсказанного сырья и RMSE модели:"
   ]
  },
  {
   "cell_type": "code",
   "execution_count": 70,
   "metadata": {},
   "outputs": [
    {
     "data": {
      "text/plain": [
       "'Средний запас:'"
      ]
     },
     "metadata": {},
     "output_type": "display_data"
    },
    {
     "data": {
      "text/plain": [
       "92.59256778438035"
      ]
     },
     "metadata": {},
     "output_type": "display_data"
    },
    {
     "data": {
      "text/plain": [
       "'RMSE_0:'"
      ]
     },
     "metadata": {},
     "output_type": "display_data"
    },
    {
     "data": {
      "text/plain": [
       "37.5794217150813"
      ]
     },
     "metadata": {},
     "output_type": "display_data"
    }
   ],
   "source": [
    "average_stock0 = predicted0.mean()\n",
    "rmse0 = mean_squared_error(target0_valid, predicted0) ** 0.5\n",
    "display('Средний запас:', average_stock0, 'RMSE_0:', rmse0)"
   ]
  },
  {
   "cell_type": "code",
   "execution_count": 71,
   "metadata": {},
   "outputs": [
    {
     "data": {
      "text/plain": [
       "'Средний запас:'"
      ]
     },
     "metadata": {},
     "output_type": "display_data"
    },
    {
     "data": {
      "text/plain": [
       "68.728546895446"
      ]
     },
     "metadata": {},
     "output_type": "display_data"
    },
    {
     "data": {
      "text/plain": [
       "'RMSE_1:'"
      ]
     },
     "metadata": {},
     "output_type": "display_data"
    },
    {
     "data": {
      "text/plain": [
       "0.893099286775617"
      ]
     },
     "metadata": {},
     "output_type": "display_data"
    }
   ],
   "source": [
    "average_stock1 = predicted1.mean()\n",
    "rmse1 = mean_squared_error(target1_valid, predicted1) ** 0.5\n",
    "display('Средний запас:', average_stock1, 'RMSE_1:', rmse1)"
   ]
  },
  {
   "cell_type": "code",
   "execution_count": 72,
   "metadata": {},
   "outputs": [
    {
     "data": {
      "text/plain": [
       "'Средний запас:'"
      ]
     },
     "metadata": {},
     "output_type": "display_data"
    },
    {
     "data": {
      "text/plain": [
       "94.96504596800489"
      ]
     },
     "metadata": {},
     "output_type": "display_data"
    },
    {
     "data": {
      "text/plain": [
       "'RMSE_2:'"
      ]
     },
     "metadata": {},
     "output_type": "display_data"
    },
    {
     "data": {
      "text/plain": [
       "40.02970873393434"
      ]
     },
     "metadata": {},
     "output_type": "display_data"
    }
   ],
   "source": [
    "average_stock2 = predicted2.mean()\n",
    "rmse2 = mean_squared_error(target2_valid, predicted2) ** 0.5\n",
    "display('Средний запас:', average_stock2, 'RMSE_2:', rmse2)"
   ]
  },
  {
   "cell_type": "markdown",
   "metadata": {},
   "source": [
    "### Анализ результатов"
   ]
  },
  {
   "cell_type": "markdown",
   "metadata": {},
   "source": [
    "- Нулевой регион:\n",
    "Среднеквадратическая ошибка и средний объем запасов в нулевом регионе находится на втором месте.\n",
    "- Первый регион:\n",
    "Уступает другим регионам и по показателю среднеквадратичной ошибки и по среднему объему запасов.\n",
    "- Второй регион:\n",
    "Самый высокий средний объем запасов, а также среднеквадратичная ошибка, регион на первом месте."
   ]
  },
  {
   "cell_type": "markdown",
   "metadata": {},
   "source": [
    "## Подготовка к расчёту прибыли"
   ]
  },
  {
   "cell_type": "markdown",
   "metadata": {},
   "source": [
    "### Все ключевые значения для расчётов сохраним в отдельных переменных:"
   ]
  },
  {
   "cell_type": "code",
   "execution_count": 73,
   "metadata": {},
   "outputs": [],
   "source": [
    "BUDGET_PER_REGION = 10*(10**9)\n",
    "BEFORE_POINTS = 500\n",
    "AFTER_POINTS = 200\n",
    "PRICE_PER_BARREL = 450000\n",
    "PROBABILITY_OF_LOSSES =  0.025\n",
    "NON_DAMAGE_POINT = BUDGET_PER_REGION/PRICE_PER_BARREL/AFTER_POINTS"
   ]
  },
  {
   "cell_type": "markdown",
   "metadata": {},
   "source": [
    "### Рассчитаем достаточный объём сырья для безубыточной разработки новой скважины:"
   ]
  },
  {
   "cell_type": "code",
   "execution_count": 74,
   "metadata": {},
   "outputs": [
    {
     "data": {
      "text/plain": [
       "'Достаточный объём сырья для безубыточной разработки новой скважины (тыс. баррелей):'"
      ]
     },
     "metadata": {},
     "output_type": "display_data"
    },
    {
     "data": {
      "text/plain": [
       "111.11"
      ]
     },
     "metadata": {},
     "output_type": "display_data"
    }
   ],
   "source": [
    "display(\"Достаточный объём сырья для безубыточной разработки новой скважины (тыс. баррелей):\",round(NON_DAMAGE_POINT, 2))"
   ]
  },
  {
   "cell_type": "markdown",
   "metadata": {},
   "source": [
    "### Выводы по этапу подготовки расчёта прибыли:"
   ]
  },
  {
   "cell_type": "markdown",
   "metadata": {},
   "source": [
    "Минимальное количество баррелей нефти для безубыточной разработки новой скважины составило 111.(1)\n",
    "А максимально средний запас сырья в регионах равен 95. "
   ]
  },
  {
   "cell_type": "markdown",
   "metadata": {},
   "source": [
    "## Расчёт прибыли и рисков "
   ]
  },
  {
   "cell_type": "markdown",
   "metadata": {},
   "source": [
    "### Напишем функцию для расчёта прибыли по выбранным скважинам и предсказаниям модели:"
   ]
  },
  {
   "cell_type": "code",
   "execution_count": 75,
   "metadata": {},
   "outputs": [],
   "source": [
    "def profit(target, predictions):\n",
    "    pred_sorted = predictions.sort_values(ascending=False)[:AFTER_POINTS]\n",
    "    selected = (target.reset_index(drop = True)[pred_sorted.index])\n",
    "    selected_sum = selected.sum()\n",
    "    return round((selected_sum * PRICE_PER_BARREL) - BUDGET_PER_REGION,2)"
   ]
  },
  {
   "cell_type": "markdown",
   "metadata": {},
   "source": [
    "### Рассчитаем прибыль для полученного объёма сырья:"
   ]
  },
  {
   "cell_type": "code",
   "execution_count": 76,
   "metadata": {},
   "outputs": [
    {
     "name": "stdout",
     "output_type": "stream",
     "text": [
      "Прибыль с лучших 200 скважин в нулевом регионе: 3320826043.14\n",
      "Прибыль с лучших 200 скважин в первом регионе: 2415086696.68\n",
      "Прибыль с лучших 200 скважин во втором регионе: 2710349963.6\n"
     ]
    }
   ],
   "source": [
    "print('Прибыль с лучших 200 скважин в нулевом регионе:', profit(target0_valid, predicted0))\n",
    "print('Прибыль с лучших 200 скважин в первом регионе:', profit(target1_valid, predicted1))\n",
    "print('Прибыль с лучших 200 скважин во втором регионе:', profit(target2_valid, predicted2))"
   ]
  },
  {
   "cell_type": "markdown",
   "metadata": {},
   "source": [
    "## Посчитаем риски и прибыль для каждого региона:"
   ]
  },
  {
   "cell_type": "code",
   "execution_count": 77,
   "metadata": {},
   "outputs": [],
   "source": [
    "def confidence_interval(target, predictions):\n",
    "    state = np.random.RandomState(12345)\n",
    "    values = []\n",
    "    for i in range(1000):\n",
    "        value = pd.Series(predictions).sample(n = BEFORE_POINTS, replace=True, random_state=state)\n",
    "        values.append(profit(target,value))\n",
    "    values = pd.Series(values)\n",
    "    print('Средняя выручка:', values.mean())\n",
    "    print('Риски убытка:', values.apply(lambda x: x < 0).sum()/len(values)*100,\"%\")\n",
    "    \n",
    "    lower = values.quantile(PROBABILITY_OF_LOSSES)\n",
    "    upper = values.quantile(0.975)\n",
    "    return round(lower,2), round(upper,2)"
   ]
  },
  {
   "cell_type": "code",
   "execution_count": 78,
   "metadata": {},
   "outputs": [
    {
     "name": "stdout",
     "output_type": "stream",
     "text": [
      "Средняя выручка: 396164984.80228\n",
      "Риски убытка: 6.9 %\n",
      "95% доверительный итервал для нулевого региона лежит между: (-111215545.89, 909766941.55)\n",
      "Средняя выручка: 456045105.78665996\n",
      "Риски убытка: 1.5 %\n",
      "95% доверительный итервал для первого региона лежит между: (33820509.4, 852289453.86)\n",
      "Средняя выручка: 404403866.56838\n",
      "Риски убытка: 7.6 %\n",
      "95% доверительный итервал для второго региона лежит между: (-163350413.39, 950359574.93)\n"
     ]
    }
   ],
   "source": [
    "print('95% доверительный итервал для нулевого региона лежит между:', confidence_interval(target0_valid, predicted0))\n",
    "print('95% доверительный итервал для первого региона лежит между:', confidence_interval(target1_valid, predicted1))\n",
    "print('95% доверительный итервал для второго региона лежит между:', confidence_interval(target2_valid, predicted2))"
   ]
  },
  {
   "cell_type": "markdown",
   "metadata": {},
   "source": [
    "Вывод: Проведя анализ, видим что для разработки новой скважины нам подходит первый регион, так риски минимальны и средняя прибыль выше чем в других регионах."
   ]
  }
 ],
 "metadata": {
  "ExecuteTimeLog": [
   {
    "duration": 2178,
    "start_time": "2022-04-11T12:30:16.764Z"
   },
   {
    "duration": 421,
    "start_time": "2022-04-11T12:31:56.701Z"
   },
   {
    "duration": 61,
    "start_time": "2022-04-11T12:40:06.119Z"
   },
   {
    "duration": 34,
    "start_time": "2022-04-11T12:45:53.585Z"
   },
   {
    "duration": 85,
    "start_time": "2022-04-11T12:48:20.544Z"
   },
   {
    "duration": 310,
    "start_time": "2022-04-11T12:49:24.938Z"
   },
   {
    "duration": 159,
    "start_time": "2022-04-11T12:51:25.138Z"
   },
   {
    "duration": 27,
    "start_time": "2022-04-11T12:52:01.391Z"
   },
   {
    "duration": 2207,
    "start_time": "2022-04-11T12:53:13.769Z"
   },
   {
    "duration": 34,
    "start_time": "2022-04-11T12:53:21.598Z"
   },
   {
    "duration": 13,
    "start_time": "2022-04-11T12:57:31.186Z"
   },
   {
    "duration": 13,
    "start_time": "2022-04-11T13:05:01.574Z"
   },
   {
    "duration": 27,
    "start_time": "2022-04-11T13:05:09.660Z"
   },
   {
    "duration": 51,
    "start_time": "2022-04-11T15:05:50.517Z"
   },
   {
    "duration": 1545,
    "start_time": "2022-04-11T15:05:54.297Z"
   },
   {
    "duration": 1187,
    "start_time": "2022-04-11T15:05:55.844Z"
   },
   {
    "duration": 43,
    "start_time": "2022-04-11T15:05:57.033Z"
   },
   {
    "duration": 36,
    "start_time": "2022-04-11T15:05:57.078Z"
   },
   {
    "duration": 138,
    "start_time": "2022-04-11T15:05:57.116Z"
   },
   {
    "duration": 26,
    "start_time": "2022-04-11T15:05:57.256Z"
   },
   {
    "duration": 29,
    "start_time": "2022-04-11T15:09:35.737Z"
   },
   {
    "duration": 29,
    "start_time": "2022-04-11T15:14:19.358Z"
   },
   {
    "duration": 4,
    "start_time": "2022-04-11T15:14:21.851Z"
   },
   {
    "duration": 379,
    "start_time": "2022-04-11T15:14:21.857Z"
   },
   {
    "duration": 42,
    "start_time": "2022-04-11T15:14:22.238Z"
   },
   {
    "duration": 43,
    "start_time": "2022-04-11T15:14:22.282Z"
   },
   {
    "duration": 153,
    "start_time": "2022-04-11T15:14:22.326Z"
   },
   {
    "duration": 48,
    "start_time": "2022-04-11T15:14:22.481Z"
   },
   {
    "duration": 33,
    "start_time": "2022-04-11T15:14:22.530Z"
   },
   {
    "duration": 58,
    "start_time": "2022-04-11T15:14:22.565Z"
   },
   {
    "duration": 5,
    "start_time": "2022-04-11T15:21:06.620Z"
   },
   {
    "duration": 395,
    "start_time": "2022-04-11T15:21:06.628Z"
   },
   {
    "duration": 53,
    "start_time": "2022-04-11T15:21:07.027Z"
   },
   {
    "duration": 57,
    "start_time": "2022-04-11T15:21:07.081Z"
   },
   {
    "duration": 151,
    "start_time": "2022-04-11T15:21:07.140Z"
   },
   {
    "duration": 49,
    "start_time": "2022-04-11T15:21:07.293Z"
   },
   {
    "duration": 30,
    "start_time": "2022-04-11T15:21:07.344Z"
   },
   {
    "duration": 60,
    "start_time": "2022-04-11T15:21:07.376Z"
   },
   {
    "duration": 3,
    "start_time": "2022-04-11T15:29:44.258Z"
   },
   {
    "duration": 383,
    "start_time": "2022-04-11T15:29:44.263Z"
   },
   {
    "duration": 40,
    "start_time": "2022-04-11T15:29:44.648Z"
   },
   {
    "duration": 41,
    "start_time": "2022-04-11T15:29:44.689Z"
   },
   {
    "duration": 132,
    "start_time": "2022-04-11T15:29:44.732Z"
   },
   {
    "duration": 31,
    "start_time": "2022-04-11T15:29:44.866Z"
   },
   {
    "duration": 42,
    "start_time": "2022-04-11T15:29:44.899Z"
   },
   {
    "duration": 29,
    "start_time": "2022-04-11T15:29:44.942Z"
   },
   {
    "duration": 4,
    "start_time": "2022-04-11T15:38:05.877Z"
   },
   {
    "duration": 3,
    "start_time": "2022-04-11T15:38:08.674Z"
   },
   {
    "duration": 370,
    "start_time": "2022-04-11T15:38:08.679Z"
   },
   {
    "duration": 43,
    "start_time": "2022-04-11T15:38:09.050Z"
   },
   {
    "duration": 35,
    "start_time": "2022-04-11T15:38:09.110Z"
   },
   {
    "duration": 164,
    "start_time": "2022-04-11T15:38:09.146Z"
   },
   {
    "duration": 26,
    "start_time": "2022-04-11T15:38:09.312Z"
   },
   {
    "duration": 23,
    "start_time": "2022-04-11T15:38:09.340Z"
   },
   {
    "duration": 65,
    "start_time": "2022-04-11T15:38:09.365Z"
   },
   {
    "duration": 5,
    "start_time": "2022-04-11T15:38:09.433Z"
   },
   {
    "duration": 275,
    "start_time": "2022-04-11T15:41:19.760Z"
   },
   {
    "duration": 533,
    "start_time": "2022-04-11T15:42:06.380Z"
   },
   {
    "duration": 431,
    "start_time": "2022-04-11T15:42:38.900Z"
   },
   {
    "duration": 65,
    "start_time": "2022-04-11T15:53:25.604Z"
   },
   {
    "duration": 10,
    "start_time": "2022-04-11T15:53:37.391Z"
   },
   {
    "duration": 9,
    "start_time": "2022-04-11T15:54:33.023Z"
   },
   {
    "duration": 8,
    "start_time": "2022-04-11T15:54:53.545Z"
   },
   {
    "duration": 3,
    "start_time": "2022-04-11T15:54:57.232Z"
   },
   {
    "duration": 348,
    "start_time": "2022-04-11T15:54:57.236Z"
   },
   {
    "duration": 51,
    "start_time": "2022-04-11T15:54:57.586Z"
   },
   {
    "duration": 29,
    "start_time": "2022-04-11T15:54:57.638Z"
   },
   {
    "duration": 162,
    "start_time": "2022-04-11T15:54:57.669Z"
   },
   {
    "duration": 16,
    "start_time": "2022-04-11T15:54:57.832Z"
   },
   {
    "duration": 15,
    "start_time": "2022-04-11T15:54:57.849Z"
   },
   {
    "duration": 49,
    "start_time": "2022-04-11T15:54:57.865Z"
   },
   {
    "duration": 4,
    "start_time": "2022-04-11T15:54:57.915Z"
   },
   {
    "duration": 391,
    "start_time": "2022-04-11T15:54:57.920Z"
   },
   {
    "duration": 99,
    "start_time": "2022-04-11T15:54:58.313Z"
   },
   {
    "duration": 98,
    "start_time": "2022-04-11T15:54:58.415Z"
   },
   {
    "duration": 8,
    "start_time": "2022-04-11T15:54:58.514Z"
   },
   {
    "duration": 3,
    "start_time": "2022-04-11T16:29:21.751Z"
   },
   {
    "duration": 5,
    "start_time": "2022-04-11T16:31:06.912Z"
   },
   {
    "duration": 5,
    "start_time": "2022-04-11T16:31:16.680Z"
   },
   {
    "duration": 3,
    "start_time": "2022-04-11T16:31:21.914Z"
   },
   {
    "duration": 363,
    "start_time": "2022-04-11T16:31:21.919Z"
   },
   {
    "duration": 53,
    "start_time": "2022-04-11T16:31:22.284Z"
   },
   {
    "duration": 32,
    "start_time": "2022-04-11T16:31:22.339Z"
   },
   {
    "duration": 180,
    "start_time": "2022-04-11T16:31:22.373Z"
   },
   {
    "duration": 17,
    "start_time": "2022-04-11T16:31:22.554Z"
   },
   {
    "duration": 43,
    "start_time": "2022-04-11T16:31:22.573Z"
   },
   {
    "duration": 18,
    "start_time": "2022-04-11T16:31:22.618Z"
   },
   {
    "duration": 3,
    "start_time": "2022-04-11T16:31:22.638Z"
   },
   {
    "duration": 278,
    "start_time": "2022-04-11T16:31:22.643Z"
   },
   {
    "duration": 97,
    "start_time": "2022-04-11T16:31:23.012Z"
   },
   {
    "duration": 9,
    "start_time": "2022-04-11T16:31:23.111Z"
   },
   {
    "duration": 11,
    "start_time": "2022-04-11T16:31:23.122Z"
   },
   {
    "duration": 5,
    "start_time": "2022-04-11T16:31:23.134Z"
   },
   {
    "duration": 8,
    "start_time": "2022-04-11T16:31:23.140Z"
   },
   {
    "duration": 52,
    "start_time": "2022-04-12T12:41:21.299Z"
   },
   {
    "duration": 1587,
    "start_time": "2022-04-12T12:41:26.844Z"
   },
   {
    "duration": 348,
    "start_time": "2022-04-12T12:41:28.433Z"
   },
   {
    "duration": 44,
    "start_time": "2022-04-12T12:41:28.783Z"
   },
   {
    "duration": 50,
    "start_time": "2022-04-12T12:41:28.829Z"
   },
   {
    "duration": 163,
    "start_time": "2022-04-12T12:41:28.881Z"
   },
   {
    "duration": 40,
    "start_time": "2022-04-12T12:41:29.046Z"
   },
   {
    "duration": 21,
    "start_time": "2022-04-12T12:41:29.088Z"
   },
   {
    "duration": 26,
    "start_time": "2022-04-12T12:41:29.111Z"
   },
   {
    "duration": 4,
    "start_time": "2022-04-12T12:41:29.174Z"
   },
   {
    "duration": 494,
    "start_time": "2022-04-12T12:41:29.179Z"
   },
   {
    "duration": 101,
    "start_time": "2022-04-12T12:41:29.676Z"
   },
   {
    "duration": 12,
    "start_time": "2022-04-12T12:41:29.779Z"
   },
   {
    "duration": 12,
    "start_time": "2022-04-12T12:41:29.793Z"
   },
   {
    "duration": 4,
    "start_time": "2022-04-12T12:41:29.808Z"
   },
   {
    "duration": 12,
    "start_time": "2022-04-12T12:41:29.814Z"
   },
   {
    "duration": 9,
    "start_time": "2022-04-12T12:42:36.565Z"
   },
   {
    "duration": 9,
    "start_time": "2022-04-12T12:43:18.124Z"
   },
   {
    "duration": 4,
    "start_time": "2022-04-12T13:27:26.888Z"
   },
   {
    "duration": 4,
    "start_time": "2022-04-12T13:43:43.386Z"
   },
   {
    "duration": 189,
    "start_time": "2022-04-13T12:31:56.324Z"
   },
   {
    "duration": 41,
    "start_time": "2022-04-13T12:32:20.660Z"
   },
   {
    "duration": 1506,
    "start_time": "2022-04-13T12:32:26.516Z"
   },
   {
    "duration": 340,
    "start_time": "2022-04-13T12:32:28.024Z"
   },
   {
    "duration": 51,
    "start_time": "2022-04-13T12:32:28.366Z"
   },
   {
    "duration": 24,
    "start_time": "2022-04-13T12:32:28.419Z"
   },
   {
    "duration": 148,
    "start_time": "2022-04-13T12:32:28.445Z"
   },
   {
    "duration": 24,
    "start_time": "2022-04-13T12:32:28.594Z"
   },
   {
    "duration": 18,
    "start_time": "2022-04-13T12:32:28.620Z"
   },
   {
    "duration": 19,
    "start_time": "2022-04-13T12:32:28.640Z"
   },
   {
    "duration": 4,
    "start_time": "2022-04-13T12:32:28.701Z"
   },
   {
    "duration": 495,
    "start_time": "2022-04-13T12:32:28.707Z"
   },
   {
    "duration": 100,
    "start_time": "2022-04-13T12:32:29.204Z"
   },
   {
    "duration": 95,
    "start_time": "2022-04-13T12:32:29.307Z"
   },
   {
    "duration": 8,
    "start_time": "2022-04-13T12:32:29.404Z"
   },
   {
    "duration": 3,
    "start_time": "2022-04-13T12:32:29.414Z"
   },
   {
    "duration": 6,
    "start_time": "2022-04-13T12:32:29.419Z"
   },
   {
    "duration": 3,
    "start_time": "2022-04-13T12:32:29.427Z"
   },
   {
    "duration": 5,
    "start_time": "2022-04-13T12:32:29.432Z"
   },
   {
    "duration": 171,
    "start_time": "2022-04-13T12:32:29.438Z"
   },
   {
    "duration": 398,
    "start_time": "2022-04-13T12:36:08.372Z"
   },
   {
    "duration": 179,
    "start_time": "2022-04-13T12:36:24.282Z"
   },
   {
    "duration": 198,
    "start_time": "2022-04-13T12:36:34.803Z"
   },
   {
    "duration": 185,
    "start_time": "2022-04-13T12:37:29.908Z"
   },
   {
    "duration": 69,
    "start_time": "2022-04-13T12:38:19.885Z"
   },
   {
    "duration": 25,
    "start_time": "2022-04-13T12:39:30.588Z"
   },
   {
    "duration": 5,
    "start_time": "2022-04-13T12:40:55.983Z"
   },
   {
    "duration": 3,
    "start_time": "2022-04-13T12:55:04.633Z"
   },
   {
    "duration": 367,
    "start_time": "2022-04-13T12:55:04.640Z"
   },
   {
    "duration": 37,
    "start_time": "2022-04-13T12:55:05.010Z"
   },
   {
    "duration": 22,
    "start_time": "2022-04-13T12:55:05.048Z"
   },
   {
    "duration": 157,
    "start_time": "2022-04-13T12:55:05.072Z"
   },
   {
    "duration": 19,
    "start_time": "2022-04-13T12:55:05.231Z"
   },
   {
    "duration": 19,
    "start_time": "2022-04-13T12:55:05.251Z"
   },
   {
    "duration": 46,
    "start_time": "2022-04-13T12:55:05.271Z"
   },
   {
    "duration": 5,
    "start_time": "2022-04-13T12:55:05.319Z"
   },
   {
    "duration": 289,
    "start_time": "2022-04-13T12:55:05.325Z"
   },
   {
    "duration": 93,
    "start_time": "2022-04-13T12:55:05.617Z"
   },
   {
    "duration": 109,
    "start_time": "2022-04-13T12:55:05.716Z"
   },
   {
    "duration": 11,
    "start_time": "2022-04-13T12:55:05.827Z"
   },
   {
    "duration": 4,
    "start_time": "2022-04-13T12:55:05.839Z"
   },
   {
    "duration": 19,
    "start_time": "2022-04-13T12:55:05.844Z"
   },
   {
    "duration": 11,
    "start_time": "2022-04-13T12:55:05.864Z"
   },
   {
    "duration": 12,
    "start_time": "2022-04-13T12:55:05.876Z"
   },
   {
    "duration": 24,
    "start_time": "2022-04-13T12:55:05.890Z"
   },
   {
    "duration": 10,
    "start_time": "2022-04-13T12:55:37.687Z"
   },
   {
    "duration": 3,
    "start_time": "2022-04-13T12:56:03.547Z"
   },
   {
    "duration": 375,
    "start_time": "2022-04-13T12:56:03.553Z"
   },
   {
    "duration": 39,
    "start_time": "2022-04-13T12:56:03.929Z"
   },
   {
    "duration": 48,
    "start_time": "2022-04-13T12:56:03.969Z"
   },
   {
    "duration": 134,
    "start_time": "2022-04-13T12:56:04.019Z"
   },
   {
    "duration": 16,
    "start_time": "2022-04-13T12:56:04.155Z"
   },
   {
    "duration": 43,
    "start_time": "2022-04-13T12:56:04.172Z"
   },
   {
    "duration": 27,
    "start_time": "2022-04-13T12:56:04.217Z"
   },
   {
    "duration": 3,
    "start_time": "2022-04-13T12:56:04.246Z"
   },
   {
    "duration": 254,
    "start_time": "2022-04-13T12:56:04.251Z"
   },
   {
    "duration": 97,
    "start_time": "2022-04-13T12:56:04.507Z"
   },
   {
    "duration": 115,
    "start_time": "2022-04-13T12:56:04.606Z"
   },
   {
    "duration": 8,
    "start_time": "2022-04-13T12:56:04.722Z"
   },
   {
    "duration": 3,
    "start_time": "2022-04-13T12:56:04.732Z"
   },
   {
    "duration": 13,
    "start_time": "2022-04-13T12:56:04.736Z"
   },
   {
    "duration": 4,
    "start_time": "2022-04-13T12:56:04.751Z"
   },
   {
    "duration": 14,
    "start_time": "2022-04-13T12:56:04.756Z"
   },
   {
    "duration": 1,
    "start_time": "2022-04-13T12:56:04.771Z"
   },
   {
    "duration": 10,
    "start_time": "2022-04-13T12:56:31.471Z"
   },
   {
    "duration": 12,
    "start_time": "2022-04-13T12:56:57.956Z"
   },
   {
    "duration": 185,
    "start_time": "2022-04-13T12:57:10.967Z"
   },
   {
    "duration": 5,
    "start_time": "2022-04-13T12:57:40.677Z"
   },
   {
    "duration": 5,
    "start_time": "2022-04-13T13:05:26.260Z"
   },
   {
    "duration": 5,
    "start_time": "2022-04-13T13:05:39.074Z"
   },
   {
    "duration": 4,
    "start_time": "2022-04-13T13:05:41.369Z"
   },
   {
    "duration": 7,
    "start_time": "2022-04-13T13:07:42.156Z"
   },
   {
    "duration": 5,
    "start_time": "2022-04-13T13:09:25.831Z"
   },
   {
    "duration": 4,
    "start_time": "2022-04-13T13:10:55.654Z"
   },
   {
    "duration": 5,
    "start_time": "2022-04-13T13:10:59.778Z"
   },
   {
    "duration": 4,
    "start_time": "2022-04-13T13:11:03.713Z"
   },
   {
    "duration": 385,
    "start_time": "2022-04-13T13:11:03.782Z"
   },
   {
    "duration": 46,
    "start_time": "2022-04-13T13:11:04.169Z"
   },
   {
    "duration": 24,
    "start_time": "2022-04-13T13:11:04.217Z"
   },
   {
    "duration": 136,
    "start_time": "2022-04-13T13:11:04.243Z"
   },
   {
    "duration": 25,
    "start_time": "2022-04-13T13:11:04.381Z"
   },
   {
    "duration": 18,
    "start_time": "2022-04-13T13:11:04.408Z"
   },
   {
    "duration": 15,
    "start_time": "2022-04-13T13:11:04.427Z"
   },
   {
    "duration": 4,
    "start_time": "2022-04-13T13:11:04.443Z"
   },
   {
    "duration": 365,
    "start_time": "2022-04-13T13:11:04.448Z"
   },
   {
    "duration": 99,
    "start_time": "2022-04-13T13:11:04.817Z"
   },
   {
    "duration": 106,
    "start_time": "2022-04-13T13:11:04.918Z"
   },
   {
    "duration": 10,
    "start_time": "2022-04-13T13:11:05.025Z"
   },
   {
    "duration": 6,
    "start_time": "2022-04-13T13:11:05.037Z"
   },
   {
    "duration": 8,
    "start_time": "2022-04-13T13:11:05.044Z"
   },
   {
    "duration": 4,
    "start_time": "2022-04-13T13:11:05.054Z"
   },
   {
    "duration": 17,
    "start_time": "2022-04-13T13:11:05.059Z"
   },
   {
    "duration": 7,
    "start_time": "2022-04-13T13:11:05.077Z"
   },
   {
    "duration": 5,
    "start_time": "2022-04-13T13:13:28.924Z"
   },
   {
    "duration": 5,
    "start_time": "2022-04-13T13:15:32.911Z"
   },
   {
    "duration": 11,
    "start_time": "2022-04-13T13:18:44.935Z"
   },
   {
    "duration": 3,
    "start_time": "2022-04-13T13:19:27.493Z"
   },
   {
    "duration": 372,
    "start_time": "2022-04-13T13:19:27.500Z"
   },
   {
    "duration": 51,
    "start_time": "2022-04-13T13:19:27.874Z"
   },
   {
    "duration": 22,
    "start_time": "2022-04-13T13:19:27.926Z"
   },
   {
    "duration": 143,
    "start_time": "2022-04-13T13:19:27.949Z"
   },
   {
    "duration": 25,
    "start_time": "2022-04-13T13:19:28.093Z"
   },
   {
    "duration": 14,
    "start_time": "2022-04-13T13:19:28.119Z"
   },
   {
    "duration": 16,
    "start_time": "2022-04-13T13:19:28.135Z"
   },
   {
    "duration": 5,
    "start_time": "2022-04-13T13:19:28.152Z"
   },
   {
    "duration": 253,
    "start_time": "2022-04-13T13:19:28.158Z"
   },
   {
    "duration": 91,
    "start_time": "2022-04-13T13:19:28.414Z"
   },
   {
    "duration": 16,
    "start_time": "2022-04-13T13:19:28.507Z"
   },
   {
    "duration": 99,
    "start_time": "2022-04-13T13:19:28.525Z"
   },
   {
    "duration": 3,
    "start_time": "2022-04-13T13:19:28.625Z"
   },
   {
    "duration": 7,
    "start_time": "2022-04-13T13:19:28.630Z"
   },
   {
    "duration": 5,
    "start_time": "2022-04-13T13:19:28.638Z"
   },
   {
    "duration": 5,
    "start_time": "2022-04-13T13:19:28.645Z"
   },
   {
    "duration": 9,
    "start_time": "2022-04-13T13:19:28.651Z"
   },
   {
    "duration": 30,
    "start_time": "2022-04-13T13:28:40.294Z"
   },
   {
    "duration": 22,
    "start_time": "2022-04-13T13:29:00.038Z"
   },
   {
    "duration": 13,
    "start_time": "2022-04-13T13:33:48.314Z"
   },
   {
    "duration": 9,
    "start_time": "2022-04-13T13:34:04.836Z"
   },
   {
    "duration": 10,
    "start_time": "2022-04-13T13:35:12.813Z"
   },
   {
    "duration": 3,
    "start_time": "2022-04-13T13:38:38.226Z"
   },
   {
    "duration": 341,
    "start_time": "2022-04-13T13:38:38.273Z"
   },
   {
    "duration": 35,
    "start_time": "2022-04-13T13:38:38.616Z"
   },
   {
    "duration": 23,
    "start_time": "2022-04-13T13:38:38.653Z"
   },
   {
    "duration": 142,
    "start_time": "2022-04-13T13:38:38.678Z"
   },
   {
    "duration": 14,
    "start_time": "2022-04-13T13:38:38.823Z"
   },
   {
    "duration": 14,
    "start_time": "2022-04-13T13:38:38.839Z"
   },
   {
    "duration": 47,
    "start_time": "2022-04-13T13:38:38.854Z"
   },
   {
    "duration": 3,
    "start_time": "2022-04-13T13:38:38.903Z"
   },
   {
    "duration": 296,
    "start_time": "2022-04-13T13:38:38.907Z"
   },
   {
    "duration": 101,
    "start_time": "2022-04-13T13:38:39.205Z"
   },
   {
    "duration": 97,
    "start_time": "2022-04-13T13:38:39.309Z"
   },
   {
    "duration": 8,
    "start_time": "2022-04-13T13:38:39.408Z"
   },
   {
    "duration": 3,
    "start_time": "2022-04-13T13:38:39.418Z"
   },
   {
    "duration": 6,
    "start_time": "2022-04-13T13:38:39.423Z"
   },
   {
    "duration": 4,
    "start_time": "2022-04-13T13:38:39.430Z"
   },
   {
    "duration": 8,
    "start_time": "2022-04-13T13:38:39.435Z"
   },
   {
    "duration": 13,
    "start_time": "2022-04-13T13:38:39.444Z"
   },
   {
    "duration": 11,
    "start_time": "2022-04-13T13:39:32.948Z"
   },
   {
    "duration": 9,
    "start_time": "2022-04-13T13:39:53.337Z"
   },
   {
    "duration": 10,
    "start_time": "2022-04-13T13:40:05.231Z"
   },
   {
    "duration": 9,
    "start_time": "2022-04-13T13:40:34.329Z"
   },
   {
    "duration": 4,
    "start_time": "2022-04-13T13:50:57.328Z"
   },
   {
    "duration": 7,
    "start_time": "2022-04-13T13:54:52.946Z"
   },
   {
    "duration": 7,
    "start_time": "2022-04-13T13:55:00.009Z"
   },
   {
    "duration": 4,
    "start_time": "2022-04-13T13:55:03.688Z"
   },
   {
    "duration": 483,
    "start_time": "2022-04-13T13:55:03.698Z"
   },
   {
    "duration": 56,
    "start_time": "2022-04-13T13:55:04.184Z"
   },
   {
    "duration": 59,
    "start_time": "2022-04-13T13:55:04.242Z"
   },
   {
    "duration": 184,
    "start_time": "2022-04-13T13:55:04.303Z"
   },
   {
    "duration": 27,
    "start_time": "2022-04-13T13:55:04.490Z"
   },
   {
    "duration": 21,
    "start_time": "2022-04-13T13:55:04.519Z"
   },
   {
    "duration": 20,
    "start_time": "2022-04-13T13:55:04.542Z"
   },
   {
    "duration": 37,
    "start_time": "2022-04-13T13:55:04.564Z"
   },
   {
    "duration": 206,
    "start_time": "2022-04-13T13:55:04.602Z"
   },
   {
    "duration": 97,
    "start_time": "2022-04-13T13:55:04.810Z"
   },
   {
    "duration": 99,
    "start_time": "2022-04-13T13:55:04.909Z"
   },
   {
    "duration": 8,
    "start_time": "2022-04-13T13:55:05.010Z"
   },
   {
    "duration": 3,
    "start_time": "2022-04-13T13:55:05.019Z"
   },
   {
    "duration": 24,
    "start_time": "2022-04-13T13:55:05.025Z"
   },
   {
    "duration": 11,
    "start_time": "2022-04-13T13:55:05.051Z"
   },
   {
    "duration": 10,
    "start_time": "2022-04-13T13:55:05.064Z"
   },
   {
    "duration": 6,
    "start_time": "2022-04-13T13:55:05.075Z"
   },
   {
    "duration": 46,
    "start_time": "2022-04-14T09:29:08.250Z"
   },
   {
    "duration": 1586,
    "start_time": "2022-04-14T09:29:11.769Z"
   },
   {
    "duration": 329,
    "start_time": "2022-04-14T09:29:13.357Z"
   },
   {
    "duration": 40,
    "start_time": "2022-04-14T09:29:13.688Z"
   },
   {
    "duration": 44,
    "start_time": "2022-04-14T09:29:13.730Z"
   },
   {
    "duration": 140,
    "start_time": "2022-04-14T09:29:13.776Z"
   },
   {
    "duration": 20,
    "start_time": "2022-04-14T09:29:13.918Z"
   },
   {
    "duration": 19,
    "start_time": "2022-04-14T09:29:13.954Z"
   },
   {
    "duration": 20,
    "start_time": "2022-04-14T09:29:13.974Z"
   },
   {
    "duration": 3,
    "start_time": "2022-04-14T09:29:13.996Z"
   },
   {
    "duration": 456,
    "start_time": "2022-04-14T09:29:14.001Z"
   },
   {
    "duration": 101,
    "start_time": "2022-04-14T09:29:14.459Z"
   },
   {
    "duration": 11,
    "start_time": "2022-04-14T09:29:14.563Z"
   },
   {
    "duration": 9,
    "start_time": "2022-04-14T09:29:14.655Z"
   },
   {
    "duration": 3,
    "start_time": "2022-04-14T09:29:14.665Z"
   },
   {
    "duration": 7,
    "start_time": "2022-04-14T09:29:14.669Z"
   },
   {
    "duration": 3,
    "start_time": "2022-04-14T09:29:14.678Z"
   },
   {
    "duration": 11,
    "start_time": "2022-04-14T09:29:14.682Z"
   },
   {
    "duration": 6,
    "start_time": "2022-04-14T09:29:14.694Z"
   },
   {
    "duration": 102,
    "start_time": "2022-04-14T09:29:14.701Z"
   },
   {
    "duration": 3,
    "start_time": "2022-04-14T09:29:40.086Z"
   },
   {
    "duration": 336,
    "start_time": "2022-04-14T09:29:40.091Z"
   },
   {
    "duration": 46,
    "start_time": "2022-04-14T09:29:40.429Z"
   },
   {
    "duration": 21,
    "start_time": "2022-04-14T09:29:40.477Z"
   },
   {
    "duration": 143,
    "start_time": "2022-04-14T09:29:40.501Z"
   },
   {
    "duration": 23,
    "start_time": "2022-04-14T09:29:40.645Z"
   },
   {
    "duration": 18,
    "start_time": "2022-04-14T09:29:40.670Z"
   },
   {
    "duration": 18,
    "start_time": "2022-04-14T09:29:40.689Z"
   },
   {
    "duration": 3,
    "start_time": "2022-04-14T09:29:40.708Z"
   },
   {
    "duration": 447,
    "start_time": "2022-04-14T09:29:40.713Z"
   },
   {
    "duration": 96,
    "start_time": "2022-04-14T09:29:41.163Z"
   },
   {
    "duration": 105,
    "start_time": "2022-04-14T09:29:41.261Z"
   },
   {
    "duration": 8,
    "start_time": "2022-04-14T09:29:41.369Z"
   },
   {
    "duration": 3,
    "start_time": "2022-04-14T09:29:41.379Z"
   },
   {
    "duration": 16,
    "start_time": "2022-04-14T09:29:41.383Z"
   },
   {
    "duration": 4,
    "start_time": "2022-04-14T09:29:41.400Z"
   },
   {
    "duration": 6,
    "start_time": "2022-04-14T09:29:41.406Z"
   },
   {
    "duration": 15,
    "start_time": "2022-04-14T09:29:41.413Z"
   },
   {
    "duration": 6080,
    "start_time": "2022-04-14T09:29:41.430Z"
   },
   {
    "duration": 6,
    "start_time": "2022-04-14T09:31:28.897Z"
   },
   {
    "duration": 6023,
    "start_time": "2022-04-14T09:31:29.480Z"
   },
   {
    "duration": 6,
    "start_time": "2022-04-14T09:32:16.123Z"
   },
   {
    "duration": 5920,
    "start_time": "2022-04-14T09:32:16.895Z"
   },
   {
    "duration": 5,
    "start_time": "2022-04-14T09:32:29.670Z"
   },
   {
    "duration": 5849,
    "start_time": "2022-04-14T09:32:31.325Z"
   },
   {
    "duration": 5,
    "start_time": "2022-04-14T09:32:49.141Z"
   },
   {
    "duration": 5735,
    "start_time": "2022-04-14T09:32:50.304Z"
   },
   {
    "duration": 3,
    "start_time": "2022-04-14T09:33:58.007Z"
   },
   {
    "duration": 333,
    "start_time": "2022-04-14T09:33:58.012Z"
   },
   {
    "duration": 42,
    "start_time": "2022-04-14T09:33:58.347Z"
   },
   {
    "duration": 22,
    "start_time": "2022-04-14T09:33:58.390Z"
   },
   {
    "duration": 146,
    "start_time": "2022-04-14T09:33:58.415Z"
   },
   {
    "duration": 17,
    "start_time": "2022-04-14T09:33:58.563Z"
   },
   {
    "duration": 20,
    "start_time": "2022-04-14T09:33:58.581Z"
   },
   {
    "duration": 15,
    "start_time": "2022-04-14T09:33:58.603Z"
   },
   {
    "duration": 35,
    "start_time": "2022-04-14T09:33:58.620Z"
   },
   {
    "duration": 308,
    "start_time": "2022-04-14T09:33:58.656Z"
   },
   {
    "duration": 94,
    "start_time": "2022-04-14T09:33:58.967Z"
   },
   {
    "duration": 114,
    "start_time": "2022-04-14T09:33:59.063Z"
   },
   {
    "duration": 11,
    "start_time": "2022-04-14T09:33:59.179Z"
   },
   {
    "duration": 8,
    "start_time": "2022-04-14T09:33:59.193Z"
   },
   {
    "duration": 13,
    "start_time": "2022-04-14T09:33:59.203Z"
   },
   {
    "duration": 9,
    "start_time": "2022-04-14T09:33:59.217Z"
   },
   {
    "duration": 15,
    "start_time": "2022-04-14T09:33:59.228Z"
   },
   {
    "duration": 21,
    "start_time": "2022-04-14T09:33:59.244Z"
   },
   {
    "duration": 5953,
    "start_time": "2022-04-14T09:33:59.266Z"
   },
   {
    "duration": 51,
    "start_time": "2022-04-14T16:17:46.267Z"
   },
   {
    "duration": 1696,
    "start_time": "2022-04-14T16:17:48.941Z"
   },
   {
    "duration": 371,
    "start_time": "2022-04-14T16:17:50.640Z"
   },
   {
    "duration": 50,
    "start_time": "2022-04-14T16:17:51.013Z"
   },
   {
    "duration": 24,
    "start_time": "2022-04-14T16:17:51.065Z"
   },
   {
    "duration": 168,
    "start_time": "2022-04-14T16:17:51.092Z"
   },
   {
    "duration": 20,
    "start_time": "2022-04-14T16:17:51.261Z"
   },
   {
    "duration": 20,
    "start_time": "2022-04-14T16:17:51.283Z"
   },
   {
    "duration": 45,
    "start_time": "2022-04-14T16:17:51.305Z"
   },
   {
    "duration": 4,
    "start_time": "2022-04-14T16:17:51.352Z"
   },
   {
    "duration": 483,
    "start_time": "2022-04-14T16:17:51.357Z"
   },
   {
    "duration": 96,
    "start_time": "2022-04-14T16:17:51.843Z"
   },
   {
    "duration": 102,
    "start_time": "2022-04-14T16:17:51.942Z"
   },
   {
    "duration": 9,
    "start_time": "2022-04-14T16:17:52.046Z"
   },
   {
    "duration": 3,
    "start_time": "2022-04-14T16:17:52.057Z"
   },
   {
    "duration": 8,
    "start_time": "2022-04-14T16:17:52.062Z"
   },
   {
    "duration": 5,
    "start_time": "2022-04-14T16:17:52.072Z"
   },
   {
    "duration": 9,
    "start_time": "2022-04-14T16:17:52.078Z"
   },
   {
    "duration": 46,
    "start_time": "2022-04-14T16:17:52.088Z"
   },
   {
    "duration": 6685,
    "start_time": "2022-04-14T16:17:52.136Z"
   },
   {
    "duration": 5,
    "start_time": "2022-04-14T16:19:12.696Z"
   },
   {
    "duration": 6,
    "start_time": "2022-04-14T16:19:18.130Z"
   },
   {
    "duration": 6,
    "start_time": "2022-04-14T16:19:25.937Z"
   },
   {
    "duration": 5,
    "start_time": "2022-04-14T19:53:04.245Z"
   },
   {
    "duration": 6701,
    "start_time": "2022-04-14T19:53:04.954Z"
   },
   {
    "duration": 6,
    "start_time": "2022-04-14T19:54:00.819Z"
   },
   {
    "duration": 6852,
    "start_time": "2022-04-14T19:54:01.297Z"
   },
   {
    "duration": 100,
    "start_time": "2022-04-15T11:13:37.607Z"
   },
   {
    "duration": 95,
    "start_time": "2022-04-15T11:14:25.740Z"
   },
   {
    "duration": 62,
    "start_time": "2022-04-15T11:14:41.052Z"
   },
   {
    "duration": 2267,
    "start_time": "2022-04-15T11:14:44.190Z"
   },
   {
    "duration": 1280,
    "start_time": "2022-04-15T11:14:46.460Z"
   },
   {
    "duration": 95,
    "start_time": "2022-04-15T11:14:47.742Z"
   },
   {
    "duration": 56,
    "start_time": "2022-04-15T11:14:47.840Z"
   },
   {
    "duration": 244,
    "start_time": "2022-04-15T11:14:47.899Z"
   },
   {
    "duration": 49,
    "start_time": "2022-04-15T11:14:48.146Z"
   },
   {
    "duration": 26,
    "start_time": "2022-04-15T11:14:48.197Z"
   },
   {
    "duration": 63,
    "start_time": "2022-04-15T11:14:48.225Z"
   },
   {
    "duration": 5,
    "start_time": "2022-04-15T11:14:48.291Z"
   },
   {
    "duration": 490,
    "start_time": "2022-04-15T11:14:48.299Z"
   },
   {
    "duration": 188,
    "start_time": "2022-04-15T11:14:48.793Z"
   },
   {
    "duration": 418,
    "start_time": "2022-04-15T11:14:48.983Z"
   },
   {
    "duration": 16,
    "start_time": "2022-04-15T11:14:49.404Z"
   },
   {
    "duration": 4,
    "start_time": "2022-04-15T11:14:49.425Z"
   },
   {
    "duration": 12,
    "start_time": "2022-04-15T11:14:49.433Z"
   },
   {
    "duration": 4,
    "start_time": "2022-04-15T11:14:49.483Z"
   },
   {
    "duration": 6,
    "start_time": "2022-04-15T11:14:49.490Z"
   },
   {
    "duration": 159,
    "start_time": "2022-04-15T11:14:49.499Z"
   },
   {
    "duration": 0,
    "start_time": "2022-04-15T11:14:49.661Z"
   },
   {
    "duration": 0,
    "start_time": "2022-04-15T11:14:49.663Z"
   },
   {
    "duration": 29,
    "start_time": "2022-04-15T11:20:26.661Z"
   },
   {
    "duration": 31,
    "start_time": "2022-04-15T11:20:29.392Z"
   },
   {
    "duration": 12,
    "start_time": "2022-04-15T11:27:26.350Z"
   },
   {
    "duration": 4,
    "start_time": "2022-04-15T11:27:31.156Z"
   },
   {
    "duration": 18,
    "start_time": "2022-04-15T11:27:33.256Z"
   },
   {
    "duration": 11,
    "start_time": "2022-04-15T12:07:53.364Z"
   },
   {
    "duration": 9823,
    "start_time": "2022-04-15T12:07:54.296Z"
   },
   {
    "duration": 8,
    "start_time": "2022-04-15T12:10:37.486Z"
   },
   {
    "duration": 10,
    "start_time": "2022-04-15T12:11:05.089Z"
   },
   {
    "duration": 99,
    "start_time": "2022-04-15T12:11:22.625Z"
   },
   {
    "duration": 7,
    "start_time": "2022-04-15T12:11:53.362Z"
   },
   {
    "duration": 5,
    "start_time": "2022-04-15T12:14:12.385Z"
   },
   {
    "duration": 454,
    "start_time": "2022-04-15T12:14:12.394Z"
   },
   {
    "duration": 69,
    "start_time": "2022-04-15T12:14:12.850Z"
   },
   {
    "duration": 62,
    "start_time": "2022-04-15T12:14:12.922Z"
   },
   {
    "duration": 241,
    "start_time": "2022-04-15T12:14:12.988Z"
   },
   {
    "duration": 27,
    "start_time": "2022-04-15T12:14:13.231Z"
   },
   {
    "duration": 25,
    "start_time": "2022-04-15T12:14:13.282Z"
   },
   {
    "duration": 24,
    "start_time": "2022-04-15T12:14:13.309Z"
   },
   {
    "duration": 5,
    "start_time": "2022-04-15T12:14:13.335Z"
   },
   {
    "duration": 498,
    "start_time": "2022-04-15T12:14:13.383Z"
   },
   {
    "duration": 103,
    "start_time": "2022-04-15T12:14:13.885Z"
   },
   {
    "duration": 15,
    "start_time": "2022-04-15T12:14:13.991Z"
   },
   {
    "duration": 12,
    "start_time": "2022-04-15T12:14:14.009Z"
   },
   {
    "duration": 1857,
    "start_time": "2022-04-15T12:14:14.024Z"
   },
   {
    "duration": 0,
    "start_time": "2022-04-15T12:14:15.883Z"
   },
   {
    "duration": 0,
    "start_time": "2022-04-15T12:14:15.885Z"
   },
   {
    "duration": 1,
    "start_time": "2022-04-15T12:14:15.886Z"
   },
   {
    "duration": 0,
    "start_time": "2022-04-15T12:14:15.888Z"
   },
   {
    "duration": 0,
    "start_time": "2022-04-15T12:14:15.890Z"
   },
   {
    "duration": 0,
    "start_time": "2022-04-15T12:14:15.892Z"
   },
   {
    "duration": 4,
    "start_time": "2022-04-15T12:14:34.995Z"
   },
   {
    "duration": 7,
    "start_time": "2022-04-15T12:14:37.143Z"
   },
   {
    "duration": 7,
    "start_time": "2022-04-15T12:15:04.070Z"
   },
   {
    "duration": 8,
    "start_time": "2022-04-15T12:15:16.671Z"
   },
   {
    "duration": 5,
    "start_time": "2022-04-15T12:15:20.914Z"
   },
   {
    "duration": 4,
    "start_time": "2022-04-15T12:15:21.463Z"
   },
   {
    "duration": 19,
    "start_time": "2022-04-15T12:15:21.997Z"
   },
   {
    "duration": 9,
    "start_time": "2022-04-15T12:15:25.616Z"
   },
   {
    "duration": 11081,
    "start_time": "2022-04-15T12:15:26.104Z"
   },
   {
    "duration": 8,
    "start_time": "2022-04-15T12:19:27.161Z"
   },
   {
    "duration": 7,
    "start_time": "2022-04-15T12:19:28.193Z"
   },
   {
    "duration": 9681,
    "start_time": "2022-04-15T12:19:29.029Z"
   },
   {
    "duration": 18,
    "start_time": "2022-04-15T12:19:38.714Z"
   },
   {
    "duration": 7,
    "start_time": "2022-04-15T12:19:50.059Z"
   },
   {
    "duration": 4240,
    "start_time": "2022-04-15T12:19:52.744Z"
   },
   {
    "duration": 7,
    "start_time": "2022-04-15T13:33:54.694Z"
   },
   {
    "duration": 3860,
    "start_time": "2022-04-15T13:33:55.594Z"
   },
   {
    "duration": 7,
    "start_time": "2022-04-15T13:34:38.733Z"
   },
   {
    "duration": 3695,
    "start_time": "2022-04-15T13:34:39.339Z"
   },
   {
    "duration": 5,
    "start_time": "2022-04-15T13:35:15.210Z"
   },
   {
    "duration": 430,
    "start_time": "2022-04-15T13:35:15.218Z"
   },
   {
    "duration": 66,
    "start_time": "2022-04-15T13:35:15.650Z"
   },
   {
    "duration": 441,
    "start_time": "2022-04-15T13:35:15.719Z"
   },
   {
    "duration": 262,
    "start_time": "2022-04-15T13:35:16.162Z"
   },
   {
    "duration": 23,
    "start_time": "2022-04-15T13:35:16.427Z"
   },
   {
    "duration": 48,
    "start_time": "2022-04-15T13:35:16.453Z"
   },
   {
    "duration": 24,
    "start_time": "2022-04-15T13:35:16.503Z"
   },
   {
    "duration": 5,
    "start_time": "2022-04-15T13:35:16.529Z"
   },
   {
    "duration": 402,
    "start_time": "2022-04-15T13:35:16.583Z"
   },
   {
    "duration": 193,
    "start_time": "2022-04-15T13:35:16.989Z"
   },
   {
    "duration": 15,
    "start_time": "2022-04-15T13:35:17.184Z"
   },
   {
    "duration": 13,
    "start_time": "2022-04-15T13:35:17.201Z"
   },
   {
    "duration": 19,
    "start_time": "2022-04-15T13:35:17.216Z"
   },
   {
    "duration": 50,
    "start_time": "2022-04-15T13:35:17.238Z"
   },
   {
    "duration": 5,
    "start_time": "2022-04-15T13:35:17.290Z"
   },
   {
    "duration": 21,
    "start_time": "2022-04-15T13:35:17.297Z"
   },
   {
    "duration": 7,
    "start_time": "2022-04-15T13:35:17.320Z"
   },
   {
    "duration": 3854,
    "start_time": "2022-04-15T13:35:17.329Z"
   },
   {
    "duration": 5,
    "start_time": "2022-04-15T13:43:06.706Z"
   },
   {
    "duration": 419,
    "start_time": "2022-04-15T13:43:06.715Z"
   },
   {
    "duration": 203,
    "start_time": "2022-04-15T13:43:07.136Z"
   },
   {
    "duration": 66,
    "start_time": "2022-04-15T13:43:07.341Z"
   },
   {
    "duration": 269,
    "start_time": "2022-04-15T13:43:07.412Z"
   },
   {
    "duration": 23,
    "start_time": "2022-04-15T13:43:07.683Z"
   },
   {
    "duration": 22,
    "start_time": "2022-04-15T13:43:07.709Z"
   },
   {
    "duration": 62,
    "start_time": "2022-04-15T13:43:07.734Z"
   },
   {
    "duration": 6,
    "start_time": "2022-04-15T13:43:07.798Z"
   },
   {
    "duration": 283,
    "start_time": "2022-04-15T13:43:07.807Z"
   },
   {
    "duration": 99,
    "start_time": "2022-04-15T13:43:08.094Z"
   },
   {
    "duration": 104,
    "start_time": "2022-04-15T13:43:08.196Z"
   },
   {
    "duration": 13,
    "start_time": "2022-04-15T13:43:08.303Z"
   },
   {
    "duration": 5,
    "start_time": "2022-04-15T13:43:08.320Z"
   },
   {
    "duration": 13,
    "start_time": "2022-04-15T13:43:08.328Z"
   },
   {
    "duration": 49,
    "start_time": "2022-04-15T13:43:08.343Z"
   },
   {
    "duration": 20,
    "start_time": "2022-04-15T13:43:08.394Z"
   },
   {
    "duration": 8,
    "start_time": "2022-04-15T13:43:08.417Z"
   },
   {
    "duration": 3910,
    "start_time": "2022-04-15T13:43:08.427Z"
   },
   {
    "duration": 4,
    "start_time": "2022-04-15T13:50:34.721Z"
   },
   {
    "duration": 432,
    "start_time": "2022-04-15T13:50:34.728Z"
   },
   {
    "duration": 199,
    "start_time": "2022-04-15T13:50:35.163Z"
   },
   {
    "duration": 47,
    "start_time": "2022-04-15T13:50:35.364Z"
   },
   {
    "duration": 267,
    "start_time": "2022-04-15T13:50:35.414Z"
   },
   {
    "duration": 29,
    "start_time": "2022-04-15T13:50:35.683Z"
   },
   {
    "duration": 67,
    "start_time": "2022-04-15T13:50:35.715Z"
   },
   {
    "duration": 29,
    "start_time": "2022-04-15T13:50:35.785Z"
   },
   {
    "duration": 5,
    "start_time": "2022-04-15T13:50:35.817Z"
   },
   {
    "duration": 474,
    "start_time": "2022-04-15T13:50:35.825Z"
   },
   {
    "duration": 100,
    "start_time": "2022-04-15T13:50:36.384Z"
   },
   {
    "duration": 16,
    "start_time": "2022-04-15T13:50:36.487Z"
   },
   {
    "duration": 15,
    "start_time": "2022-04-15T13:50:36.506Z"
   },
   {
    "duration": 55,
    "start_time": "2022-04-15T13:50:36.527Z"
   },
   {
    "duration": 10,
    "start_time": "2022-04-15T13:50:36.584Z"
   },
   {
    "duration": 5,
    "start_time": "2022-04-15T13:50:36.596Z"
   },
   {
    "duration": 21,
    "start_time": "2022-04-15T13:50:36.604Z"
   },
   {
    "duration": 10,
    "start_time": "2022-04-15T13:50:36.628Z"
   },
   {
    "duration": 3913,
    "start_time": "2022-04-15T13:50:36.640Z"
   },
   {
    "duration": 5,
    "start_time": "2022-04-15T13:59:25.244Z"
   },
   {
    "duration": 423,
    "start_time": "2022-04-15T13:59:25.252Z"
   },
   {
    "duration": 217,
    "start_time": "2022-04-15T13:59:25.678Z"
   },
   {
    "duration": 34,
    "start_time": "2022-04-15T13:59:25.899Z"
   },
   {
    "duration": 246,
    "start_time": "2022-04-15T13:59:25.936Z"
   },
   {
    "duration": 25,
    "start_time": "2022-04-15T13:59:26.184Z"
   },
   {
    "duration": 24,
    "start_time": "2022-04-15T13:59:26.211Z"
   },
   {
    "duration": 63,
    "start_time": "2022-04-15T13:59:26.237Z"
   },
   {
    "duration": 6,
    "start_time": "2022-04-15T13:59:26.302Z"
   },
   {
    "duration": 375,
    "start_time": "2022-04-15T13:59:26.312Z"
   },
   {
    "duration": 101,
    "start_time": "2022-04-15T13:59:26.690Z"
   },
   {
    "duration": 12,
    "start_time": "2022-04-15T13:59:26.882Z"
   },
   {
    "duration": 10,
    "start_time": "2022-04-15T13:59:26.897Z"
   },
   {
    "duration": 4,
    "start_time": "2022-04-15T13:59:26.909Z"
   },
   {
    "duration": 10,
    "start_time": "2022-04-15T13:59:26.915Z"
   },
   {
    "duration": 4,
    "start_time": "2022-04-15T13:59:26.927Z"
   },
   {
    "duration": 20,
    "start_time": "2022-04-15T13:59:26.982Z"
   },
   {
    "duration": 7,
    "start_time": "2022-04-15T13:59:27.003Z"
   },
   {
    "duration": 3790,
    "start_time": "2022-04-15T13:59:27.012Z"
   },
   {
    "duration": 4,
    "start_time": "2022-04-15T14:03:42.213Z"
   },
   {
    "duration": 440,
    "start_time": "2022-04-15T14:03:42.220Z"
   },
   {
    "duration": 201,
    "start_time": "2022-04-15T14:03:42.663Z"
   },
   {
    "duration": 47,
    "start_time": "2022-04-15T14:03:42.867Z"
   },
   {
    "duration": 240,
    "start_time": "2022-04-15T14:03:42.918Z"
   },
   {
    "duration": 35,
    "start_time": "2022-04-15T14:03:43.160Z"
   },
   {
    "duration": 24,
    "start_time": "2022-04-15T14:03:43.197Z"
   },
   {
    "duration": 72,
    "start_time": "2022-04-15T14:03:43.224Z"
   },
   {
    "duration": 7,
    "start_time": "2022-04-15T14:03:43.298Z"
   },
   {
    "duration": 375,
    "start_time": "2022-04-15T14:03:43.308Z"
   },
   {
    "duration": 105,
    "start_time": "2022-04-15T14:03:43.686Z"
   },
   {
    "duration": 90,
    "start_time": "2022-04-15T14:03:43.794Z"
   },
   {
    "duration": 13,
    "start_time": "2022-04-15T14:03:43.886Z"
   },
   {
    "duration": 4,
    "start_time": "2022-04-15T14:03:43.903Z"
   },
   {
    "duration": 10,
    "start_time": "2022-04-15T14:03:43.909Z"
   },
   {
    "duration": 5,
    "start_time": "2022-04-15T14:03:43.921Z"
   },
   {
    "duration": 65,
    "start_time": "2022-04-15T14:03:43.928Z"
   },
   {
    "duration": 7,
    "start_time": "2022-04-15T14:03:43.995Z"
   },
   {
    "duration": 3822,
    "start_time": "2022-04-15T14:03:44.004Z"
   },
   {
    "duration": 4,
    "start_time": "2022-04-15T14:09:51.991Z"
   },
   {
    "duration": 442,
    "start_time": "2022-04-15T14:09:51.998Z"
   },
   {
    "duration": 202,
    "start_time": "2022-04-15T14:09:52.443Z"
   },
   {
    "duration": 59,
    "start_time": "2022-04-15T14:09:52.649Z"
   },
   {
    "duration": 244,
    "start_time": "2022-04-15T14:09:52.710Z"
   },
   {
    "duration": 34,
    "start_time": "2022-04-15T14:09:52.956Z"
   },
   {
    "duration": 22,
    "start_time": "2022-04-15T14:09:52.993Z"
   },
   {
    "duration": 24,
    "start_time": "2022-04-15T14:09:53.017Z"
   },
   {
    "duration": 5,
    "start_time": "2022-04-15T14:09:53.081Z"
   },
   {
    "duration": 395,
    "start_time": "2022-04-15T14:09:53.090Z"
   },
   {
    "duration": 102,
    "start_time": "2022-04-15T14:09:53.488Z"
   },
   {
    "duration": 14,
    "start_time": "2022-04-15T14:09:53.683Z"
   },
   {
    "duration": 11,
    "start_time": "2022-04-15T14:09:53.699Z"
   },
   {
    "duration": 4,
    "start_time": "2022-04-15T14:09:53.713Z"
   },
   {
    "duration": 24,
    "start_time": "2022-04-15T14:09:53.719Z"
   },
   {
    "duration": 5,
    "start_time": "2022-04-15T14:09:53.781Z"
   },
   {
    "duration": 23,
    "start_time": "2022-04-15T14:09:53.788Z"
   },
   {
    "duration": 7,
    "start_time": "2022-04-15T14:09:53.813Z"
   },
   {
    "duration": 3948,
    "start_time": "2022-04-15T14:09:53.822Z"
   },
   {
    "duration": 6,
    "start_time": "2022-04-15T15:10:36.844Z"
   },
   {
    "duration": 437,
    "start_time": "2022-04-15T15:10:36.853Z"
   },
   {
    "duration": 209,
    "start_time": "2022-04-15T15:10:37.293Z"
   },
   {
    "duration": 31,
    "start_time": "2022-04-15T15:10:37.504Z"
   },
   {
    "duration": 253,
    "start_time": "2022-04-15T15:10:37.538Z"
   },
   {
    "duration": 23,
    "start_time": "2022-04-15T15:10:37.794Z"
   },
   {
    "duration": 21,
    "start_time": "2022-04-15T15:10:37.819Z"
   },
   {
    "duration": 61,
    "start_time": "2022-04-15T15:10:37.843Z"
   },
   {
    "duration": 5,
    "start_time": "2022-04-15T15:10:37.906Z"
   },
   {
    "duration": 294,
    "start_time": "2022-04-15T15:10:37.913Z"
   },
   {
    "duration": 106,
    "start_time": "2022-04-15T15:10:38.292Z"
   },
   {
    "duration": 14,
    "start_time": "2022-04-15T15:10:38.400Z"
   },
   {
    "duration": 12,
    "start_time": "2022-04-15T15:10:38.416Z"
   },
   {
    "duration": 4,
    "start_time": "2022-04-15T15:10:38.432Z"
   },
   {
    "duration": 69,
    "start_time": "2022-04-15T15:10:38.438Z"
   },
   {
    "duration": 7,
    "start_time": "2022-04-15T15:10:38.509Z"
   },
   {
    "duration": 26,
    "start_time": "2022-04-15T15:10:38.518Z"
   },
   {
    "duration": 7,
    "start_time": "2022-04-15T15:10:38.546Z"
   },
   {
    "duration": 3839,
    "start_time": "2022-04-15T15:10:38.555Z"
   },
   {
    "duration": 2061,
    "start_time": "2022-04-17T10:58:17.295Z"
   },
   {
    "duration": 478,
    "start_time": "2022-04-17T10:58:19.359Z"
   },
   {
    "duration": 206,
    "start_time": "2022-04-17T10:58:19.839Z"
   },
   {
    "duration": 41,
    "start_time": "2022-04-17T10:58:20.047Z"
   },
   {
    "duration": 263,
    "start_time": "2022-04-17T10:58:20.091Z"
   },
   {
    "duration": 30,
    "start_time": "2022-04-17T10:58:20.356Z"
   },
   {
    "duration": 52,
    "start_time": "2022-04-17T10:58:20.388Z"
   },
   {
    "duration": 24,
    "start_time": "2022-04-17T10:58:20.442Z"
   },
   {
    "duration": 4,
    "start_time": "2022-04-17T10:58:20.467Z"
   },
   {
    "duration": 468,
    "start_time": "2022-04-17T10:58:20.473Z"
   },
   {
    "duration": 104,
    "start_time": "2022-04-17T10:58:20.945Z"
   },
   {
    "duration": 14,
    "start_time": "2022-04-17T10:58:21.123Z"
   },
   {
    "duration": 12,
    "start_time": "2022-04-17T10:58:21.140Z"
   },
   {
    "duration": 3,
    "start_time": "2022-04-17T10:58:21.154Z"
   },
   {
    "duration": 7,
    "start_time": "2022-04-17T10:58:21.159Z"
   },
   {
    "duration": 4,
    "start_time": "2022-04-17T10:58:21.167Z"
   },
   {
    "duration": 61,
    "start_time": "2022-04-17T10:58:21.173Z"
   },
   {
    "duration": 7,
    "start_time": "2022-04-17T10:58:21.240Z"
   },
   {
    "duration": 132,
    "start_time": "2022-04-17T10:58:21.249Z"
   },
   {
    "duration": 4,
    "start_time": "2022-04-17T10:59:03.231Z"
   },
   {
    "duration": 364,
    "start_time": "2022-04-17T10:59:03.237Z"
   },
   {
    "duration": 147,
    "start_time": "2022-04-17T10:59:03.602Z"
   },
   {
    "duration": 23,
    "start_time": "2022-04-17T10:59:03.751Z"
   },
   {
    "duration": 147,
    "start_time": "2022-04-17T10:59:03.776Z"
   },
   {
    "duration": 20,
    "start_time": "2022-04-17T10:59:03.925Z"
   },
   {
    "duration": 18,
    "start_time": "2022-04-17T10:59:03.946Z"
   },
   {
    "duration": 18,
    "start_time": "2022-04-17T10:59:03.965Z"
   },
   {
    "duration": 8,
    "start_time": "2022-04-17T10:59:04.022Z"
   },
   {
    "duration": 303,
    "start_time": "2022-04-17T10:59:04.033Z"
   },
   {
    "duration": 91,
    "start_time": "2022-04-17T10:59:04.338Z"
   },
   {
    "duration": 100,
    "start_time": "2022-04-17T10:59:04.435Z"
   },
   {
    "duration": 11,
    "start_time": "2022-04-17T10:59:04.540Z"
   },
   {
    "duration": 3,
    "start_time": "2022-04-17T10:59:04.553Z"
   },
   {
    "duration": 8,
    "start_time": "2022-04-17T10:59:04.558Z"
   },
   {
    "duration": 4,
    "start_time": "2022-04-17T10:59:04.567Z"
   },
   {
    "duration": 20,
    "start_time": "2022-04-17T10:59:04.573Z"
   },
   {
    "duration": 39,
    "start_time": "2022-04-17T10:59:04.595Z"
   },
   {
    "duration": 2662,
    "start_time": "2022-04-17T10:59:04.637Z"
   },
   {
    "duration": 6,
    "start_time": "2022-04-17T10:59:47.033Z"
   },
   {
    "duration": 3273,
    "start_time": "2022-04-17T10:59:48.177Z"
   },
   {
    "duration": 7,
    "start_time": "2022-04-17T11:00:28.434Z"
   },
   {
    "duration": 453,
    "start_time": "2022-04-17T11:00:28.444Z"
   },
   {
    "duration": 224,
    "start_time": "2022-04-17T11:00:28.900Z"
   },
   {
    "duration": 42,
    "start_time": "2022-04-17T11:00:29.129Z"
   },
   {
    "duration": 251,
    "start_time": "2022-04-17T11:00:29.175Z"
   },
   {
    "duration": 21,
    "start_time": "2022-04-17T11:00:29.428Z"
   },
   {
    "duration": 28,
    "start_time": "2022-04-17T11:00:29.451Z"
   },
   {
    "duration": 45,
    "start_time": "2022-04-17T11:00:29.481Z"
   },
   {
    "duration": 6,
    "start_time": "2022-04-17T11:00:29.528Z"
   },
   {
    "duration": 299,
    "start_time": "2022-04-17T11:00:29.537Z"
   },
   {
    "duration": 86,
    "start_time": "2022-04-17T11:00:29.838Z"
   },
   {
    "duration": 99,
    "start_time": "2022-04-17T11:00:29.927Z"
   },
   {
    "duration": 9,
    "start_time": "2022-04-17T11:00:30.030Z"
   },
   {
    "duration": 8,
    "start_time": "2022-04-17T11:00:30.042Z"
   },
   {
    "duration": 14,
    "start_time": "2022-04-17T11:00:30.052Z"
   },
   {
    "duration": 7,
    "start_time": "2022-04-17T11:00:30.068Z"
   },
   {
    "duration": 40,
    "start_time": "2022-04-17T11:00:30.077Z"
   },
   {
    "duration": 17,
    "start_time": "2022-04-17T11:00:30.119Z"
   },
   {
    "duration": 2270,
    "start_time": "2022-04-17T11:00:30.138Z"
   },
   {
    "duration": 5,
    "start_time": "2022-04-17T11:05:17.485Z"
   },
   {
    "duration": 379,
    "start_time": "2022-04-17T11:05:17.492Z"
   },
   {
    "duration": 155,
    "start_time": "2022-04-17T11:05:17.872Z"
   },
   {
    "duration": 27,
    "start_time": "2022-04-17T11:05:18.030Z"
   },
   {
    "duration": 157,
    "start_time": "2022-04-17T11:05:18.060Z"
   },
   {
    "duration": 25,
    "start_time": "2022-04-17T11:05:18.218Z"
   },
   {
    "duration": 23,
    "start_time": "2022-04-17T11:05:18.245Z"
   },
   {
    "duration": 59,
    "start_time": "2022-04-17T11:05:18.270Z"
   },
   {
    "duration": 5,
    "start_time": "2022-04-17T11:05:18.331Z"
   },
   {
    "duration": 401,
    "start_time": "2022-04-17T11:05:18.339Z"
   },
   {
    "duration": 179,
    "start_time": "2022-04-17T11:05:18.743Z"
   },
   {
    "duration": 9,
    "start_time": "2022-04-17T11:05:18.924Z"
   },
   {
    "duration": 9,
    "start_time": "2022-04-17T11:05:18.935Z"
   },
   {
    "duration": 4,
    "start_time": "2022-04-17T11:05:18.946Z"
   },
   {
    "duration": 9,
    "start_time": "2022-04-17T11:05:18.952Z"
   },
   {
    "duration": 4,
    "start_time": "2022-04-17T11:05:18.963Z"
   },
   {
    "duration": 66,
    "start_time": "2022-04-17T11:05:18.970Z"
   },
   {
    "duration": 7,
    "start_time": "2022-04-17T11:05:19.038Z"
   },
   {
    "duration": 2281,
    "start_time": "2022-04-17T11:05:19.047Z"
   }
  ],
  "kernelspec": {
   "display_name": "Python 3 (ipykernel)",
   "language": "python",
   "name": "python3"
  },
  "language_info": {
   "codemirror_mode": {
    "name": "ipython",
    "version": 3
   },
   "file_extension": ".py",
   "mimetype": "text/x-python",
   "name": "python",
   "nbconvert_exporter": "python",
   "pygments_lexer": "ipython3",
   "version": "3.9.5"
  },
  "toc": {
   "base_numbering": 1,
   "nav_menu": {},
   "number_sections": true,
   "sideBar": true,
   "skip_h1_title": true,
   "title_cell": "Table of Contents",
   "title_sidebar": "Contents",
   "toc_cell": false,
   "toc_position": {},
   "toc_section_display": true,
   "toc_window_display": false
  }
 },
 "nbformat": 4,
 "nbformat_minor": 2
}
