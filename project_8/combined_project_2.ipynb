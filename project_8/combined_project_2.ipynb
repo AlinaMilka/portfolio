{
 "cells": [
  {
   "cell_type": "markdown",
   "metadata": {},
   "source": [
    "# Восстановление золота из руды"
   ]
  },
  {
   "cell_type": "markdown",
   "metadata": {},
   "source": [
    "## Подготовка данных"
   ]
  },
  {
   "cell_type": "code",
   "execution_count": 1,
   "metadata": {},
   "outputs": [],
   "source": [
    "import pandas as pd\n",
    "import numpy as np\n",
    "import warnings\n",
    "warnings.filterwarnings('ignore')\n",
    "from sklearn.metrics import mean_absolute_error\n",
    "from matplotlib import pyplot as plt\n",
    "import seaborn as sns\n",
    "from sklearn.model_selection import cross_val_score\n",
    "from sklearn.tree import DecisionTreeRegressor\n",
    "from sklearn.ensemble import RandomForestRegressor\n",
    "from sklearn.linear_model import LinearRegression\n",
    "from sklearn.model_selection import GridSearchCV\n",
    "from sklearn.dummy import DummyRegressor"
   ]
  },
  {
   "cell_type": "code",
   "execution_count": 2,
   "metadata": {
    "scrolled": true
   },
   "outputs": [
    {
     "name": "stdout",
     "output_type": "stream",
     "text": [
      "<class 'pandas.core.frame.DataFrame'>\n",
      "DatetimeIndex: 14149 entries, 2016-01-15 00:00:00 to 2018-08-18 10:59:59\n",
      "Data columns (total 86 columns):\n",
      " #   Column                                              Non-Null Count  Dtype  \n",
      "---  ------                                              --------------  -----  \n",
      " 0   final.output.concentrate_ag                         14148 non-null  float64\n",
      " 1   final.output.concentrate_pb                         14148 non-null  float64\n",
      " 2   final.output.concentrate_sol                        13938 non-null  float64\n",
      " 3   final.output.concentrate_au                         14149 non-null  float64\n",
      " 4   final.output.recovery                               14149 non-null  float64\n",
      " 5   final.output.tail_ag                                14149 non-null  float64\n",
      " 6   final.output.tail_pb                                14049 non-null  float64\n",
      " 7   final.output.tail_sol                               14144 non-null  float64\n",
      " 8   final.output.tail_au                                14149 non-null  float64\n",
      " 9   primary_cleaner.input.sulfate                       14129 non-null  float64\n",
      " 10  primary_cleaner.input.depressant                    14117 non-null  float64\n",
      " 11  primary_cleaner.input.feed_size                     14149 non-null  float64\n",
      " 12  primary_cleaner.input.xanthate                      14049 non-null  float64\n",
      " 13  primary_cleaner.output.concentrate_ag               14149 non-null  float64\n",
      " 14  primary_cleaner.output.concentrate_pb               14063 non-null  float64\n",
      " 15  primary_cleaner.output.concentrate_sol              13863 non-null  float64\n",
      " 16  primary_cleaner.output.concentrate_au               14149 non-null  float64\n",
      " 17  primary_cleaner.output.tail_ag                      14148 non-null  float64\n",
      " 18  primary_cleaner.output.tail_pb                      14134 non-null  float64\n",
      " 19  primary_cleaner.output.tail_sol                     14103 non-null  float64\n",
      " 20  primary_cleaner.output.tail_au                      14149 non-null  float64\n",
      " 21  primary_cleaner.state.floatbank8_a_air              14145 non-null  float64\n",
      " 22  primary_cleaner.state.floatbank8_a_level            14148 non-null  float64\n",
      " 23  primary_cleaner.state.floatbank8_b_air              14145 non-null  float64\n",
      " 24  primary_cleaner.state.floatbank8_b_level            14148 non-null  float64\n",
      " 25  primary_cleaner.state.floatbank8_c_air              14147 non-null  float64\n",
      " 26  primary_cleaner.state.floatbank8_c_level            14148 non-null  float64\n",
      " 27  primary_cleaner.state.floatbank8_d_air              14146 non-null  float64\n",
      " 28  primary_cleaner.state.floatbank8_d_level            14148 non-null  float64\n",
      " 29  rougher.calculation.sulfate_to_au_concentrate       14148 non-null  float64\n",
      " 30  rougher.calculation.floatbank10_sulfate_to_au_feed  14148 non-null  float64\n",
      " 31  rougher.calculation.floatbank11_sulfate_to_au_feed  14148 non-null  float64\n",
      " 32  rougher.calculation.au_pb_ratio                     14149 non-null  float64\n",
      " 33  rougher.input.feed_ag                               14149 non-null  float64\n",
      " 34  rougher.input.feed_pb                               14049 non-null  float64\n",
      " 35  rougher.input.feed_rate                             14141 non-null  float64\n",
      " 36  rougher.input.feed_size                             14005 non-null  float64\n",
      " 37  rougher.input.feed_sol                              14071 non-null  float64\n",
      " 38  rougher.input.feed_au                               14149 non-null  float64\n",
      " 39  rougher.input.floatbank10_sulfate                   14120 non-null  float64\n",
      " 40  rougher.input.floatbank10_xanthate                  14141 non-null  float64\n",
      " 41  rougher.input.floatbank11_sulfate                   14113 non-null  float64\n",
      " 42  rougher.input.floatbank11_xanthate                  13721 non-null  float64\n",
      " 43  rougher.output.concentrate_ag                       14149 non-null  float64\n",
      " 44  rougher.output.concentrate_pb                       14149 non-null  float64\n",
      " 45  rougher.output.concentrate_sol                      14127 non-null  float64\n",
      " 46  rougher.output.concentrate_au                       14149 non-null  float64\n",
      " 47  rougher.output.recovery                             14149 non-null  float64\n",
      " 48  rougher.output.tail_ag                              14148 non-null  float64\n",
      " 49  rougher.output.tail_pb                              14149 non-null  float64\n",
      " 50  rougher.output.tail_sol                             14149 non-null  float64\n",
      " 51  rougher.output.tail_au                              14149 non-null  float64\n",
      " 52  rougher.state.floatbank10_a_air                     14148 non-null  float64\n",
      " 53  rougher.state.floatbank10_a_level                   14148 non-null  float64\n",
      " 54  rougher.state.floatbank10_b_air                     14148 non-null  float64\n",
      " 55  rougher.state.floatbank10_b_level                   14148 non-null  float64\n",
      " 56  rougher.state.floatbank10_c_air                     14148 non-null  float64\n",
      " 57  rougher.state.floatbank10_c_level                   14148 non-null  float64\n",
      " 58  rougher.state.floatbank10_d_air                     14149 non-null  float64\n",
      " 59  rougher.state.floatbank10_d_level                   14149 non-null  float64\n",
      " 60  rougher.state.floatbank10_e_air                     13713 non-null  float64\n",
      " 61  rougher.state.floatbank10_e_level                   14149 non-null  float64\n",
      " 62  rougher.state.floatbank10_f_air                     14149 non-null  float64\n",
      " 63  rougher.state.floatbank10_f_level                   14149 non-null  float64\n",
      " 64  secondary_cleaner.output.tail_ag                    14147 non-null  float64\n",
      " 65  secondary_cleaner.output.tail_pb                    14139 non-null  float64\n",
      " 66  secondary_cleaner.output.tail_sol                   12544 non-null  float64\n",
      " 67  secondary_cleaner.output.tail_au                    14149 non-null  float64\n",
      " 68  secondary_cleaner.state.floatbank2_a_air            13932 non-null  float64\n",
      " 69  secondary_cleaner.state.floatbank2_a_level          14148 non-null  float64\n",
      " 70  secondary_cleaner.state.floatbank2_b_air            14128 non-null  float64\n",
      " 71  secondary_cleaner.state.floatbank2_b_level          14148 non-null  float64\n",
      " 72  secondary_cleaner.state.floatbank3_a_air            14145 non-null  float64\n",
      " 73  secondary_cleaner.state.floatbank3_a_level          14148 non-null  float64\n",
      " 74  secondary_cleaner.state.floatbank3_b_air            14148 non-null  float64\n",
      " 75  secondary_cleaner.state.floatbank3_b_level          14148 non-null  float64\n",
      " 76  secondary_cleaner.state.floatbank4_a_air            14143 non-null  float64\n",
      " 77  secondary_cleaner.state.floatbank4_a_level          14148 non-null  float64\n",
      " 78  secondary_cleaner.state.floatbank4_b_air            14148 non-null  float64\n",
      " 79  secondary_cleaner.state.floatbank4_b_level          14148 non-null  float64\n",
      " 80  secondary_cleaner.state.floatbank5_a_air            14148 non-null  float64\n",
      " 81  secondary_cleaner.state.floatbank5_a_level          14148 non-null  float64\n",
      " 82  secondary_cleaner.state.floatbank5_b_air            14148 non-null  float64\n",
      " 83  secondary_cleaner.state.floatbank5_b_level          14148 non-null  float64\n",
      " 84  secondary_cleaner.state.floatbank6_a_air            14147 non-null  float64\n",
      " 85  secondary_cleaner.state.floatbank6_a_level          14148 non-null  float64\n",
      "dtypes: float64(86)\n",
      "memory usage: 9.4 MB\n"
     ]
    },
    {
     "data": {
      "text/plain": [
       "None"
      ]
     },
     "metadata": {},
     "output_type": "display_data"
    },
    {
     "data": {
      "text/html": [
       "<div>\n",
       "<style scoped>\n",
       "    .dataframe tbody tr th:only-of-type {\n",
       "        vertical-align: middle;\n",
       "    }\n",
       "\n",
       "    .dataframe tbody tr th {\n",
       "        vertical-align: top;\n",
       "    }\n",
       "\n",
       "    .dataframe thead th {\n",
       "        text-align: right;\n",
       "    }\n",
       "</style>\n",
       "<table border=\"1\" class=\"dataframe\">\n",
       "  <thead>\n",
       "    <tr style=\"text-align: right;\">\n",
       "      <th></th>\n",
       "      <th>final.output.concentrate_ag</th>\n",
       "      <th>final.output.concentrate_pb</th>\n",
       "      <th>final.output.concentrate_sol</th>\n",
       "      <th>final.output.concentrate_au</th>\n",
       "      <th>final.output.recovery</th>\n",
       "      <th>final.output.tail_ag</th>\n",
       "      <th>final.output.tail_pb</th>\n",
       "      <th>final.output.tail_sol</th>\n",
       "      <th>final.output.tail_au</th>\n",
       "      <th>primary_cleaner.input.sulfate</th>\n",
       "      <th>...</th>\n",
       "      <th>secondary_cleaner.state.floatbank4_a_air</th>\n",
       "      <th>secondary_cleaner.state.floatbank4_a_level</th>\n",
       "      <th>secondary_cleaner.state.floatbank4_b_air</th>\n",
       "      <th>secondary_cleaner.state.floatbank4_b_level</th>\n",
       "      <th>secondary_cleaner.state.floatbank5_a_air</th>\n",
       "      <th>secondary_cleaner.state.floatbank5_a_level</th>\n",
       "      <th>secondary_cleaner.state.floatbank5_b_air</th>\n",
       "      <th>secondary_cleaner.state.floatbank5_b_level</th>\n",
       "      <th>secondary_cleaner.state.floatbank6_a_air</th>\n",
       "      <th>secondary_cleaner.state.floatbank6_a_level</th>\n",
       "    </tr>\n",
       "  </thead>\n",
       "  <tbody>\n",
       "    <tr>\n",
       "      <th>count</th>\n",
       "      <td>14148.000000</td>\n",
       "      <td>14148.000000</td>\n",
       "      <td>13938.000000</td>\n",
       "      <td>14149.000000</td>\n",
       "      <td>14149.000000</td>\n",
       "      <td>14149.000000</td>\n",
       "      <td>14049.000000</td>\n",
       "      <td>14144.000000</td>\n",
       "      <td>14149.000000</td>\n",
       "      <td>14129.000000</td>\n",
       "      <td>...</td>\n",
       "      <td>14143.000000</td>\n",
       "      <td>14148.000000</td>\n",
       "      <td>14148.000000</td>\n",
       "      <td>14148.000000</td>\n",
       "      <td>14148.000000</td>\n",
       "      <td>14148.000000</td>\n",
       "      <td>14148.000000</td>\n",
       "      <td>14148.000000</td>\n",
       "      <td>14147.000000</td>\n",
       "      <td>14148.000000</td>\n",
       "    </tr>\n",
       "    <tr>\n",
       "      <th>mean</th>\n",
       "      <td>5.142034</td>\n",
       "      <td>10.132960</td>\n",
       "      <td>9.202849</td>\n",
       "      <td>44.003792</td>\n",
       "      <td>66.518832</td>\n",
       "      <td>9.607035</td>\n",
       "      <td>2.597298</td>\n",
       "      <td>10.512122</td>\n",
       "      <td>2.918421</td>\n",
       "      <td>133.320659</td>\n",
       "      <td>...</td>\n",
       "      <td>19.985454</td>\n",
       "      <td>-478.696836</td>\n",
       "      <td>15.487065</td>\n",
       "      <td>-460.229416</td>\n",
       "      <td>16.775136</td>\n",
       "      <td>-483.956022</td>\n",
       "      <td>13.064590</td>\n",
       "      <td>-483.966564</td>\n",
       "      <td>19.577539</td>\n",
       "      <td>-506.798480</td>\n",
       "    </tr>\n",
       "    <tr>\n",
       "      <th>std</th>\n",
       "      <td>1.369586</td>\n",
       "      <td>1.654930</td>\n",
       "      <td>2.790516</td>\n",
       "      <td>4.905261</td>\n",
       "      <td>10.295402</td>\n",
       "      <td>2.319069</td>\n",
       "      <td>0.971843</td>\n",
       "      <td>3.003617</td>\n",
       "      <td>0.903712</td>\n",
       "      <td>39.431659</td>\n",
       "      <td>...</td>\n",
       "      <td>5.657723</td>\n",
       "      <td>50.736021</td>\n",
       "      <td>5.255655</td>\n",
       "      <td>58.843586</td>\n",
       "      <td>5.831906</td>\n",
       "      <td>37.892788</td>\n",
       "      <td>5.765617</td>\n",
       "      <td>39.207913</td>\n",
       "      <td>5.764417</td>\n",
       "      <td>37.079249</td>\n",
       "    </tr>\n",
       "    <tr>\n",
       "      <th>min</th>\n",
       "      <td>0.000000</td>\n",
       "      <td>0.000000</td>\n",
       "      <td>0.000000</td>\n",
       "      <td>0.000000</td>\n",
       "      <td>0.000000</td>\n",
       "      <td>0.000000</td>\n",
       "      <td>0.000000</td>\n",
       "      <td>0.000000</td>\n",
       "      <td>0.000000</td>\n",
       "      <td>0.003112</td>\n",
       "      <td>...</td>\n",
       "      <td>0.000000</td>\n",
       "      <td>-799.709069</td>\n",
       "      <td>0.000000</td>\n",
       "      <td>-799.889113</td>\n",
       "      <td>-0.372054</td>\n",
       "      <td>-797.142475</td>\n",
       "      <td>0.646208</td>\n",
       "      <td>-800.006180</td>\n",
       "      <td>0.195324</td>\n",
       "      <td>-809.398668</td>\n",
       "    </tr>\n",
       "    <tr>\n",
       "      <th>25%</th>\n",
       "      <td>4.211620</td>\n",
       "      <td>9.297355</td>\n",
       "      <td>7.484645</td>\n",
       "      <td>43.276111</td>\n",
       "      <td>62.545817</td>\n",
       "      <td>7.997429</td>\n",
       "      <td>1.905973</td>\n",
       "      <td>8.811324</td>\n",
       "      <td>2.368607</td>\n",
       "      <td>107.006651</td>\n",
       "      <td>...</td>\n",
       "      <td>14.990775</td>\n",
       "      <td>-500.628656</td>\n",
       "      <td>11.894558</td>\n",
       "      <td>-500.149000</td>\n",
       "      <td>11.083980</td>\n",
       "      <td>-500.363177</td>\n",
       "      <td>8.994405</td>\n",
       "      <td>-500.105994</td>\n",
       "      <td>14.989304</td>\n",
       "      <td>-500.745104</td>\n",
       "    </tr>\n",
       "    <tr>\n",
       "      <th>50%</th>\n",
       "      <td>4.994652</td>\n",
       "      <td>10.297144</td>\n",
       "      <td>8.845462</td>\n",
       "      <td>44.872436</td>\n",
       "      <td>67.432775</td>\n",
       "      <td>9.480270</td>\n",
       "      <td>2.592022</td>\n",
       "      <td>10.514621</td>\n",
       "      <td>2.851025</td>\n",
       "      <td>133.018328</td>\n",
       "      <td>...</td>\n",
       "      <td>20.001789</td>\n",
       "      <td>-499.681450</td>\n",
       "      <td>14.975536</td>\n",
       "      <td>-499.388738</td>\n",
       "      <td>17.932223</td>\n",
       "      <td>-499.702452</td>\n",
       "      <td>11.997547</td>\n",
       "      <td>-499.914556</td>\n",
       "      <td>19.984175</td>\n",
       "      <td>-500.061431</td>\n",
       "    </tr>\n",
       "    <tr>\n",
       "      <th>75%</th>\n",
       "      <td>5.859540</td>\n",
       "      <td>11.170603</td>\n",
       "      <td>10.487508</td>\n",
       "      <td>46.166425</td>\n",
       "      <td>72.346428</td>\n",
       "      <td>11.003707</td>\n",
       "      <td>3.241723</td>\n",
       "      <td>11.933009</td>\n",
       "      <td>3.434764</td>\n",
       "      <td>159.825396</td>\n",
       "      <td>...</td>\n",
       "      <td>24.990826</td>\n",
       "      <td>-477.472413</td>\n",
       "      <td>20.059375</td>\n",
       "      <td>-400.039008</td>\n",
       "      <td>21.346550</td>\n",
       "      <td>-487.712108</td>\n",
       "      <td>17.982903</td>\n",
       "      <td>-453.186936</td>\n",
       "      <td>24.991623</td>\n",
       "      <td>-499.536466</td>\n",
       "    </tr>\n",
       "    <tr>\n",
       "      <th>max</th>\n",
       "      <td>16.001945</td>\n",
       "      <td>17.031899</td>\n",
       "      <td>18.124851</td>\n",
       "      <td>52.756638</td>\n",
       "      <td>100.000000</td>\n",
       "      <td>19.552149</td>\n",
       "      <td>5.639565</td>\n",
       "      <td>22.317730</td>\n",
       "      <td>8.197408</td>\n",
       "      <td>250.127834</td>\n",
       "      <td>...</td>\n",
       "      <td>30.115735</td>\n",
       "      <td>-245.239184</td>\n",
       "      <td>24.007913</td>\n",
       "      <td>-145.071088</td>\n",
       "      <td>43.709931</td>\n",
       "      <td>-275.073125</td>\n",
       "      <td>27.926001</td>\n",
       "      <td>-157.396071</td>\n",
       "      <td>32.188906</td>\n",
       "      <td>-104.427459</td>\n",
       "    </tr>\n",
       "  </tbody>\n",
       "</table>\n",
       "<p>8 rows × 86 columns</p>\n",
       "</div>"
      ],
      "text/plain": [
       "       final.output.concentrate_ag  final.output.concentrate_pb  \\\n",
       "count                 14148.000000                 14148.000000   \n",
       "mean                      5.142034                    10.132960   \n",
       "std                       1.369586                     1.654930   \n",
       "min                       0.000000                     0.000000   \n",
       "25%                       4.211620                     9.297355   \n",
       "50%                       4.994652                    10.297144   \n",
       "75%                       5.859540                    11.170603   \n",
       "max                      16.001945                    17.031899   \n",
       "\n",
       "       final.output.concentrate_sol  final.output.concentrate_au  \\\n",
       "count                  13938.000000                 14149.000000   \n",
       "mean                       9.202849                    44.003792   \n",
       "std                        2.790516                     4.905261   \n",
       "min                        0.000000                     0.000000   \n",
       "25%                        7.484645                    43.276111   \n",
       "50%                        8.845462                    44.872436   \n",
       "75%                       10.487508                    46.166425   \n",
       "max                       18.124851                    52.756638   \n",
       "\n",
       "       final.output.recovery  final.output.tail_ag  final.output.tail_pb  \\\n",
       "count           14149.000000          14149.000000          14049.000000   \n",
       "mean               66.518832              9.607035              2.597298   \n",
       "std                10.295402              2.319069              0.971843   \n",
       "min                 0.000000              0.000000              0.000000   \n",
       "25%                62.545817              7.997429              1.905973   \n",
       "50%                67.432775              9.480270              2.592022   \n",
       "75%                72.346428             11.003707              3.241723   \n",
       "max               100.000000             19.552149              5.639565   \n",
       "\n",
       "       final.output.tail_sol  final.output.tail_au  \\\n",
       "count           14144.000000          14149.000000   \n",
       "mean               10.512122              2.918421   \n",
       "std                 3.003617              0.903712   \n",
       "min                 0.000000              0.000000   \n",
       "25%                 8.811324              2.368607   \n",
       "50%                10.514621              2.851025   \n",
       "75%                11.933009              3.434764   \n",
       "max                22.317730              8.197408   \n",
       "\n",
       "       primary_cleaner.input.sulfate  ...  \\\n",
       "count                   14129.000000  ...   \n",
       "mean                      133.320659  ...   \n",
       "std                        39.431659  ...   \n",
       "min                         0.003112  ...   \n",
       "25%                       107.006651  ...   \n",
       "50%                       133.018328  ...   \n",
       "75%                       159.825396  ...   \n",
       "max                       250.127834  ...   \n",
       "\n",
       "       secondary_cleaner.state.floatbank4_a_air  \\\n",
       "count                              14143.000000   \n",
       "mean                                  19.985454   \n",
       "std                                    5.657723   \n",
       "min                                    0.000000   \n",
       "25%                                   14.990775   \n",
       "50%                                   20.001789   \n",
       "75%                                   24.990826   \n",
       "max                                   30.115735   \n",
       "\n",
       "       secondary_cleaner.state.floatbank4_a_level  \\\n",
       "count                                14148.000000   \n",
       "mean                                  -478.696836   \n",
       "std                                     50.736021   \n",
       "min                                   -799.709069   \n",
       "25%                                   -500.628656   \n",
       "50%                                   -499.681450   \n",
       "75%                                   -477.472413   \n",
       "max                                   -245.239184   \n",
       "\n",
       "       secondary_cleaner.state.floatbank4_b_air  \\\n",
       "count                              14148.000000   \n",
       "mean                                  15.487065   \n",
       "std                                    5.255655   \n",
       "min                                    0.000000   \n",
       "25%                                   11.894558   \n",
       "50%                                   14.975536   \n",
       "75%                                   20.059375   \n",
       "max                                   24.007913   \n",
       "\n",
       "       secondary_cleaner.state.floatbank4_b_level  \\\n",
       "count                                14148.000000   \n",
       "mean                                  -460.229416   \n",
       "std                                     58.843586   \n",
       "min                                   -799.889113   \n",
       "25%                                   -500.149000   \n",
       "50%                                   -499.388738   \n",
       "75%                                   -400.039008   \n",
       "max                                   -145.071088   \n",
       "\n",
       "       secondary_cleaner.state.floatbank5_a_air  \\\n",
       "count                              14148.000000   \n",
       "mean                                  16.775136   \n",
       "std                                    5.831906   \n",
       "min                                   -0.372054   \n",
       "25%                                   11.083980   \n",
       "50%                                   17.932223   \n",
       "75%                                   21.346550   \n",
       "max                                   43.709931   \n",
       "\n",
       "       secondary_cleaner.state.floatbank5_a_level  \\\n",
       "count                                14148.000000   \n",
       "mean                                  -483.956022   \n",
       "std                                     37.892788   \n",
       "min                                   -797.142475   \n",
       "25%                                   -500.363177   \n",
       "50%                                   -499.702452   \n",
       "75%                                   -487.712108   \n",
       "max                                   -275.073125   \n",
       "\n",
       "       secondary_cleaner.state.floatbank5_b_air  \\\n",
       "count                              14148.000000   \n",
       "mean                                  13.064590   \n",
       "std                                    5.765617   \n",
       "min                                    0.646208   \n",
       "25%                                    8.994405   \n",
       "50%                                   11.997547   \n",
       "75%                                   17.982903   \n",
       "max                                   27.926001   \n",
       "\n",
       "       secondary_cleaner.state.floatbank5_b_level  \\\n",
       "count                                14148.000000   \n",
       "mean                                  -483.966564   \n",
       "std                                     39.207913   \n",
       "min                                   -800.006180   \n",
       "25%                                   -500.105994   \n",
       "50%                                   -499.914556   \n",
       "75%                                   -453.186936   \n",
       "max                                   -157.396071   \n",
       "\n",
       "       secondary_cleaner.state.floatbank6_a_air  \\\n",
       "count                              14147.000000   \n",
       "mean                                  19.577539   \n",
       "std                                    5.764417   \n",
       "min                                    0.195324   \n",
       "25%                                   14.989304   \n",
       "50%                                   19.984175   \n",
       "75%                                   24.991623   \n",
       "max                                   32.188906   \n",
       "\n",
       "       secondary_cleaner.state.floatbank6_a_level  \n",
       "count                                14148.000000  \n",
       "mean                                  -506.798480  \n",
       "std                                     37.079249  \n",
       "min                                   -809.398668  \n",
       "25%                                   -500.745104  \n",
       "50%                                   -500.061431  \n",
       "75%                                   -499.536466  \n",
       "max                                   -104.427459  \n",
       "\n",
       "[8 rows x 86 columns]"
      ]
     },
     "metadata": {},
     "output_type": "display_data"
    },
    {
     "name": "stdout",
     "output_type": "stream",
     "text": [
      "<class 'pandas.core.frame.DataFrame'>\n",
      "DatetimeIndex: 5290 entries, 2016-09-01 00:59:59 to 2017-12-31 23:59:59\n",
      "Data columns (total 52 columns):\n",
      " #   Column                                      Non-Null Count  Dtype  \n",
      "---  ------                                      --------------  -----  \n",
      " 0   primary_cleaner.input.sulfate               5286 non-null   float64\n",
      " 1   primary_cleaner.input.depressant            5285 non-null   float64\n",
      " 2   primary_cleaner.input.feed_size             5290 non-null   float64\n",
      " 3   primary_cleaner.input.xanthate              5286 non-null   float64\n",
      " 4   primary_cleaner.state.floatbank8_a_air      5290 non-null   float64\n",
      " 5   primary_cleaner.state.floatbank8_a_level    5290 non-null   float64\n",
      " 6   primary_cleaner.state.floatbank8_b_air      5290 non-null   float64\n",
      " 7   primary_cleaner.state.floatbank8_b_level    5290 non-null   float64\n",
      " 8   primary_cleaner.state.floatbank8_c_air      5290 non-null   float64\n",
      " 9   primary_cleaner.state.floatbank8_c_level    5290 non-null   float64\n",
      " 10  primary_cleaner.state.floatbank8_d_air      5290 non-null   float64\n",
      " 11  primary_cleaner.state.floatbank8_d_level    5290 non-null   float64\n",
      " 12  rougher.input.feed_ag                       5290 non-null   float64\n",
      " 13  rougher.input.feed_pb                       5290 non-null   float64\n",
      " 14  rougher.input.feed_rate                     5287 non-null   float64\n",
      " 15  rougher.input.feed_size                     5289 non-null   float64\n",
      " 16  rougher.input.feed_sol                      5269 non-null   float64\n",
      " 17  rougher.input.feed_au                       5290 non-null   float64\n",
      " 18  rougher.input.floatbank10_sulfate           5285 non-null   float64\n",
      " 19  rougher.input.floatbank10_xanthate          5290 non-null   float64\n",
      " 20  rougher.input.floatbank11_sulfate           5282 non-null   float64\n",
      " 21  rougher.input.floatbank11_xanthate          5265 non-null   float64\n",
      " 22  rougher.state.floatbank10_a_air             5290 non-null   float64\n",
      " 23  rougher.state.floatbank10_a_level           5290 non-null   float64\n",
      " 24  rougher.state.floatbank10_b_air             5290 non-null   float64\n",
      " 25  rougher.state.floatbank10_b_level           5290 non-null   float64\n",
      " 26  rougher.state.floatbank10_c_air             5290 non-null   float64\n",
      " 27  rougher.state.floatbank10_c_level           5290 non-null   float64\n",
      " 28  rougher.state.floatbank10_d_air             5290 non-null   float64\n",
      " 29  rougher.state.floatbank10_d_level           5290 non-null   float64\n",
      " 30  rougher.state.floatbank10_e_air             5290 non-null   float64\n",
      " 31  rougher.state.floatbank10_e_level           5290 non-null   float64\n",
      " 32  rougher.state.floatbank10_f_air             5290 non-null   float64\n",
      " 33  rougher.state.floatbank10_f_level           5290 non-null   float64\n",
      " 34  secondary_cleaner.state.floatbank2_a_air    5287 non-null   float64\n",
      " 35  secondary_cleaner.state.floatbank2_a_level  5290 non-null   float64\n",
      " 36  secondary_cleaner.state.floatbank2_b_air    5288 non-null   float64\n",
      " 37  secondary_cleaner.state.floatbank2_b_level  5290 non-null   float64\n",
      " 38  secondary_cleaner.state.floatbank3_a_air    5281 non-null   float64\n",
      " 39  secondary_cleaner.state.floatbank3_a_level  5290 non-null   float64\n",
      " 40  secondary_cleaner.state.floatbank3_b_air    5290 non-null   float64\n",
      " 41  secondary_cleaner.state.floatbank3_b_level  5290 non-null   float64\n",
      " 42  secondary_cleaner.state.floatbank4_a_air    5290 non-null   float64\n",
      " 43  secondary_cleaner.state.floatbank4_a_level  5290 non-null   float64\n",
      " 44  secondary_cleaner.state.floatbank4_b_air    5290 non-null   float64\n",
      " 45  secondary_cleaner.state.floatbank4_b_level  5290 non-null   float64\n",
      " 46  secondary_cleaner.state.floatbank5_a_air    5290 non-null   float64\n",
      " 47  secondary_cleaner.state.floatbank5_a_level  5290 non-null   float64\n",
      " 48  secondary_cleaner.state.floatbank5_b_air    5290 non-null   float64\n",
      " 49  secondary_cleaner.state.floatbank5_b_level  5290 non-null   float64\n",
      " 50  secondary_cleaner.state.floatbank6_a_air    5290 non-null   float64\n",
      " 51  secondary_cleaner.state.floatbank6_a_level  5290 non-null   float64\n",
      "dtypes: float64(52)\n",
      "memory usage: 2.1 MB\n"
     ]
    },
    {
     "data": {
      "text/plain": [
       "None"
      ]
     },
     "metadata": {},
     "output_type": "display_data"
    },
    {
     "data": {
      "text/html": [
       "<div>\n",
       "<style scoped>\n",
       "    .dataframe tbody tr th:only-of-type {\n",
       "        vertical-align: middle;\n",
       "    }\n",
       "\n",
       "    .dataframe tbody tr th {\n",
       "        vertical-align: top;\n",
       "    }\n",
       "\n",
       "    .dataframe thead th {\n",
       "        text-align: right;\n",
       "    }\n",
       "</style>\n",
       "<table border=\"1\" class=\"dataframe\">\n",
       "  <thead>\n",
       "    <tr style=\"text-align: right;\">\n",
       "      <th></th>\n",
       "      <th>primary_cleaner.input.sulfate</th>\n",
       "      <th>primary_cleaner.input.depressant</th>\n",
       "      <th>primary_cleaner.input.feed_size</th>\n",
       "      <th>primary_cleaner.input.xanthate</th>\n",
       "      <th>primary_cleaner.state.floatbank8_a_air</th>\n",
       "      <th>primary_cleaner.state.floatbank8_a_level</th>\n",
       "      <th>primary_cleaner.state.floatbank8_b_air</th>\n",
       "      <th>primary_cleaner.state.floatbank8_b_level</th>\n",
       "      <th>primary_cleaner.state.floatbank8_c_air</th>\n",
       "      <th>primary_cleaner.state.floatbank8_c_level</th>\n",
       "      <th>...</th>\n",
       "      <th>secondary_cleaner.state.floatbank4_a_air</th>\n",
       "      <th>secondary_cleaner.state.floatbank4_a_level</th>\n",
       "      <th>secondary_cleaner.state.floatbank4_b_air</th>\n",
       "      <th>secondary_cleaner.state.floatbank4_b_level</th>\n",
       "      <th>secondary_cleaner.state.floatbank5_a_air</th>\n",
       "      <th>secondary_cleaner.state.floatbank5_a_level</th>\n",
       "      <th>secondary_cleaner.state.floatbank5_b_air</th>\n",
       "      <th>secondary_cleaner.state.floatbank5_b_level</th>\n",
       "      <th>secondary_cleaner.state.floatbank6_a_air</th>\n",
       "      <th>secondary_cleaner.state.floatbank6_a_level</th>\n",
       "    </tr>\n",
       "  </thead>\n",
       "  <tbody>\n",
       "    <tr>\n",
       "      <th>count</th>\n",
       "      <td>5286.000000</td>\n",
       "      <td>5285.000000</td>\n",
       "      <td>5290.000000</td>\n",
       "      <td>5286.000000</td>\n",
       "      <td>5.290000e+03</td>\n",
       "      <td>5290.000000</td>\n",
       "      <td>5.290000e+03</td>\n",
       "      <td>5290.000000</td>\n",
       "      <td>5.290000e+03</td>\n",
       "      <td>5290.000000</td>\n",
       "      <td>...</td>\n",
       "      <td>5.290000e+03</td>\n",
       "      <td>5290.000000</td>\n",
       "      <td>5.290000e+03</td>\n",
       "      <td>5290.000000</td>\n",
       "      <td>5290.000000</td>\n",
       "      <td>5290.000000</td>\n",
       "      <td>5290.000000</td>\n",
       "      <td>5290.000000</td>\n",
       "      <td>5290.000000</td>\n",
       "      <td>5290.000000</td>\n",
       "    </tr>\n",
       "    <tr>\n",
       "      <th>mean</th>\n",
       "      <td>174.839652</td>\n",
       "      <td>8.683596</td>\n",
       "      <td>7.266339</td>\n",
       "      <td>1.383803</td>\n",
       "      <td>1.539494e+03</td>\n",
       "      <td>-497.665883</td>\n",
       "      <td>1.545174e+03</td>\n",
       "      <td>-500.273098</td>\n",
       "      <td>1.527272e+03</td>\n",
       "      <td>-498.330680</td>\n",
       "      <td>...</td>\n",
       "      <td>1.632007e+01</td>\n",
       "      <td>-505.144570</td>\n",
       "      <td>1.373544e+01</td>\n",
       "      <td>-463.349858</td>\n",
       "      <td>12.804186</td>\n",
       "      <td>-501.329122</td>\n",
       "      <td>9.881145</td>\n",
       "      <td>-495.663398</td>\n",
       "      <td>17.304935</td>\n",
       "      <td>-501.793193</td>\n",
       "    </tr>\n",
       "    <tr>\n",
       "      <th>std</th>\n",
       "      <td>43.027080</td>\n",
       "      <td>3.072050</td>\n",
       "      <td>0.610219</td>\n",
       "      <td>0.643474</td>\n",
       "      <td>1.167979e+02</td>\n",
       "      <td>19.952431</td>\n",
       "      <td>1.222246e+02</td>\n",
       "      <td>32.968307</td>\n",
       "      <td>1.225380e+02</td>\n",
       "      <td>21.964876</td>\n",
       "      <td>...</td>\n",
       "      <td>3.493583e+00</td>\n",
       "      <td>31.427337</td>\n",
       "      <td>3.430484e+00</td>\n",
       "      <td>86.189107</td>\n",
       "      <td>3.026591</td>\n",
       "      <td>17.951495</td>\n",
       "      <td>2.868205</td>\n",
       "      <td>34.535007</td>\n",
       "      <td>4.536544</td>\n",
       "      <td>39.044215</td>\n",
       "    </tr>\n",
       "    <tr>\n",
       "      <th>min</th>\n",
       "      <td>2.566156</td>\n",
       "      <td>0.003839</td>\n",
       "      <td>5.650000</td>\n",
       "      <td>0.004984</td>\n",
       "      <td>5.445860e-32</td>\n",
       "      <td>-795.316337</td>\n",
       "      <td>6.647490e-32</td>\n",
       "      <td>-799.997015</td>\n",
       "      <td>4.033736e-32</td>\n",
       "      <td>-799.960571</td>\n",
       "      <td>...</td>\n",
       "      <td>1.079872e-16</td>\n",
       "      <td>-799.798523</td>\n",
       "      <td>2.489718e-17</td>\n",
       "      <td>-800.836914</td>\n",
       "      <td>0.069227</td>\n",
       "      <td>-797.323986</td>\n",
       "      <td>0.528083</td>\n",
       "      <td>-800.220337</td>\n",
       "      <td>-0.079426</td>\n",
       "      <td>-809.741464</td>\n",
       "    </tr>\n",
       "    <tr>\n",
       "      <th>25%</th>\n",
       "      <td>147.121401</td>\n",
       "      <td>6.489555</td>\n",
       "      <td>6.890000</td>\n",
       "      <td>0.907623</td>\n",
       "      <td>1.498936e+03</td>\n",
       "      <td>-500.357298</td>\n",
       "      <td>1.498971e+03</td>\n",
       "      <td>-500.703002</td>\n",
       "      <td>1.473230e+03</td>\n",
       "      <td>-501.018117</td>\n",
       "      <td>...</td>\n",
       "      <td>1.403618e+01</td>\n",
       "      <td>-500.868258</td>\n",
       "      <td>1.202862e+01</td>\n",
       "      <td>-500.323028</td>\n",
       "      <td>10.914838</td>\n",
       "      <td>-500.726841</td>\n",
       "      <td>8.036719</td>\n",
       "      <td>-500.194668</td>\n",
       "      <td>13.997317</td>\n",
       "      <td>-500.690984</td>\n",
       "    </tr>\n",
       "    <tr>\n",
       "      <th>50%</th>\n",
       "      <td>177.828489</td>\n",
       "      <td>8.052207</td>\n",
       "      <td>7.250000</td>\n",
       "      <td>1.197610</td>\n",
       "      <td>1.585129e+03</td>\n",
       "      <td>-499.969164</td>\n",
       "      <td>1.595622e+03</td>\n",
       "      <td>-500.028514</td>\n",
       "      <td>1.549595e+03</td>\n",
       "      <td>-500.017711</td>\n",
       "      <td>...</td>\n",
       "      <td>1.700847e+01</td>\n",
       "      <td>-500.115727</td>\n",
       "      <td>1.496486e+01</td>\n",
       "      <td>-499.576513</td>\n",
       "      <td>12.954182</td>\n",
       "      <td>-499.990332</td>\n",
       "      <td>10.004301</td>\n",
       "      <td>-499.990535</td>\n",
       "      <td>16.014935</td>\n",
       "      <td>-500.007126</td>\n",
       "    </tr>\n",
       "    <tr>\n",
       "      <th>75%</th>\n",
       "      <td>208.125438</td>\n",
       "      <td>10.027764</td>\n",
       "      <td>7.600000</td>\n",
       "      <td>1.797819</td>\n",
       "      <td>1.602077e+03</td>\n",
       "      <td>-499.568951</td>\n",
       "      <td>1.602324e+03</td>\n",
       "      <td>-499.293257</td>\n",
       "      <td>1.601144e+03</td>\n",
       "      <td>-498.994130</td>\n",
       "      <td>...</td>\n",
       "      <td>1.803862e+01</td>\n",
       "      <td>-499.404224</td>\n",
       "      <td>1.596213e+01</td>\n",
       "      <td>-400.933805</td>\n",
       "      <td>15.097528</td>\n",
       "      <td>-499.283191</td>\n",
       "      <td>11.997467</td>\n",
       "      <td>-499.719913</td>\n",
       "      <td>21.020013</td>\n",
       "      <td>-499.373018</td>\n",
       "    </tr>\n",
       "    <tr>\n",
       "      <th>max</th>\n",
       "      <td>265.983123</td>\n",
       "      <td>40.000000</td>\n",
       "      <td>15.500000</td>\n",
       "      <td>4.102454</td>\n",
       "      <td>2.103104e+03</td>\n",
       "      <td>-57.195404</td>\n",
       "      <td>1.813084e+03</td>\n",
       "      <td>-142.527229</td>\n",
       "      <td>1.715054e+03</td>\n",
       "      <td>-150.937035</td>\n",
       "      <td>...</td>\n",
       "      <td>3.005180e+01</td>\n",
       "      <td>-401.565212</td>\n",
       "      <td>3.126971e+01</td>\n",
       "      <td>-6.506986</td>\n",
       "      <td>25.258848</td>\n",
       "      <td>-244.483566</td>\n",
       "      <td>14.086866</td>\n",
       "      <td>-137.740004</td>\n",
       "      <td>26.705889</td>\n",
       "      <td>-123.307487</td>\n",
       "    </tr>\n",
       "  </tbody>\n",
       "</table>\n",
       "<p>8 rows × 52 columns</p>\n",
       "</div>"
      ],
      "text/plain": [
       "       primary_cleaner.input.sulfate  primary_cleaner.input.depressant  \\\n",
       "count                    5286.000000                       5285.000000   \n",
       "mean                      174.839652                          8.683596   \n",
       "std                        43.027080                          3.072050   \n",
       "min                         2.566156                          0.003839   \n",
       "25%                       147.121401                          6.489555   \n",
       "50%                       177.828489                          8.052207   \n",
       "75%                       208.125438                         10.027764   \n",
       "max                       265.983123                         40.000000   \n",
       "\n",
       "       primary_cleaner.input.feed_size  primary_cleaner.input.xanthate  \\\n",
       "count                      5290.000000                     5286.000000   \n",
       "mean                          7.266339                        1.383803   \n",
       "std                           0.610219                        0.643474   \n",
       "min                           5.650000                        0.004984   \n",
       "25%                           6.890000                        0.907623   \n",
       "50%                           7.250000                        1.197610   \n",
       "75%                           7.600000                        1.797819   \n",
       "max                          15.500000                        4.102454   \n",
       "\n",
       "       primary_cleaner.state.floatbank8_a_air  \\\n",
       "count                            5.290000e+03   \n",
       "mean                             1.539494e+03   \n",
       "std                              1.167979e+02   \n",
       "min                              5.445860e-32   \n",
       "25%                              1.498936e+03   \n",
       "50%                              1.585129e+03   \n",
       "75%                              1.602077e+03   \n",
       "max                              2.103104e+03   \n",
       "\n",
       "       primary_cleaner.state.floatbank8_a_level  \\\n",
       "count                               5290.000000   \n",
       "mean                                -497.665883   \n",
       "std                                   19.952431   \n",
       "min                                 -795.316337   \n",
       "25%                                 -500.357298   \n",
       "50%                                 -499.969164   \n",
       "75%                                 -499.568951   \n",
       "max                                  -57.195404   \n",
       "\n",
       "       primary_cleaner.state.floatbank8_b_air  \\\n",
       "count                            5.290000e+03   \n",
       "mean                             1.545174e+03   \n",
       "std                              1.222246e+02   \n",
       "min                              6.647490e-32   \n",
       "25%                              1.498971e+03   \n",
       "50%                              1.595622e+03   \n",
       "75%                              1.602324e+03   \n",
       "max                              1.813084e+03   \n",
       "\n",
       "       primary_cleaner.state.floatbank8_b_level  \\\n",
       "count                               5290.000000   \n",
       "mean                                -500.273098   \n",
       "std                                   32.968307   \n",
       "min                                 -799.997015   \n",
       "25%                                 -500.703002   \n",
       "50%                                 -500.028514   \n",
       "75%                                 -499.293257   \n",
       "max                                 -142.527229   \n",
       "\n",
       "       primary_cleaner.state.floatbank8_c_air  \\\n",
       "count                            5.290000e+03   \n",
       "mean                             1.527272e+03   \n",
       "std                              1.225380e+02   \n",
       "min                              4.033736e-32   \n",
       "25%                              1.473230e+03   \n",
       "50%                              1.549595e+03   \n",
       "75%                              1.601144e+03   \n",
       "max                              1.715054e+03   \n",
       "\n",
       "       primary_cleaner.state.floatbank8_c_level  ...  \\\n",
       "count                               5290.000000  ...   \n",
       "mean                                -498.330680  ...   \n",
       "std                                   21.964876  ...   \n",
       "min                                 -799.960571  ...   \n",
       "25%                                 -501.018117  ...   \n",
       "50%                                 -500.017711  ...   \n",
       "75%                                 -498.994130  ...   \n",
       "max                                 -150.937035  ...   \n",
       "\n",
       "       secondary_cleaner.state.floatbank4_a_air  \\\n",
       "count                              5.290000e+03   \n",
       "mean                               1.632007e+01   \n",
       "std                                3.493583e+00   \n",
       "min                                1.079872e-16   \n",
       "25%                                1.403618e+01   \n",
       "50%                                1.700847e+01   \n",
       "75%                                1.803862e+01   \n",
       "max                                3.005180e+01   \n",
       "\n",
       "       secondary_cleaner.state.floatbank4_a_level  \\\n",
       "count                                 5290.000000   \n",
       "mean                                  -505.144570   \n",
       "std                                     31.427337   \n",
       "min                                   -799.798523   \n",
       "25%                                   -500.868258   \n",
       "50%                                   -500.115727   \n",
       "75%                                   -499.404224   \n",
       "max                                   -401.565212   \n",
       "\n",
       "       secondary_cleaner.state.floatbank4_b_air  \\\n",
       "count                              5.290000e+03   \n",
       "mean                               1.373544e+01   \n",
       "std                                3.430484e+00   \n",
       "min                                2.489718e-17   \n",
       "25%                                1.202862e+01   \n",
       "50%                                1.496486e+01   \n",
       "75%                                1.596213e+01   \n",
       "max                                3.126971e+01   \n",
       "\n",
       "       secondary_cleaner.state.floatbank4_b_level  \\\n",
       "count                                 5290.000000   \n",
       "mean                                  -463.349858   \n",
       "std                                     86.189107   \n",
       "min                                   -800.836914   \n",
       "25%                                   -500.323028   \n",
       "50%                                   -499.576513   \n",
       "75%                                   -400.933805   \n",
       "max                                     -6.506986   \n",
       "\n",
       "       secondary_cleaner.state.floatbank5_a_air  \\\n",
       "count                               5290.000000   \n",
       "mean                                  12.804186   \n",
       "std                                    3.026591   \n",
       "min                                    0.069227   \n",
       "25%                                   10.914838   \n",
       "50%                                   12.954182   \n",
       "75%                                   15.097528   \n",
       "max                                   25.258848   \n",
       "\n",
       "       secondary_cleaner.state.floatbank5_a_level  \\\n",
       "count                                 5290.000000   \n",
       "mean                                  -501.329122   \n",
       "std                                     17.951495   \n",
       "min                                   -797.323986   \n",
       "25%                                   -500.726841   \n",
       "50%                                   -499.990332   \n",
       "75%                                   -499.283191   \n",
       "max                                   -244.483566   \n",
       "\n",
       "       secondary_cleaner.state.floatbank5_b_air  \\\n",
       "count                               5290.000000   \n",
       "mean                                   9.881145   \n",
       "std                                    2.868205   \n",
       "min                                    0.528083   \n",
       "25%                                    8.036719   \n",
       "50%                                   10.004301   \n",
       "75%                                   11.997467   \n",
       "max                                   14.086866   \n",
       "\n",
       "       secondary_cleaner.state.floatbank5_b_level  \\\n",
       "count                                 5290.000000   \n",
       "mean                                  -495.663398   \n",
       "std                                     34.535007   \n",
       "min                                   -800.220337   \n",
       "25%                                   -500.194668   \n",
       "50%                                   -499.990535   \n",
       "75%                                   -499.719913   \n",
       "max                                   -137.740004   \n",
       "\n",
       "       secondary_cleaner.state.floatbank6_a_air  \\\n",
       "count                               5290.000000   \n",
       "mean                                  17.304935   \n",
       "std                                    4.536544   \n",
       "min                                   -0.079426   \n",
       "25%                                   13.997317   \n",
       "50%                                   16.014935   \n",
       "75%                                   21.020013   \n",
       "max                                   26.705889   \n",
       "\n",
       "       secondary_cleaner.state.floatbank6_a_level  \n",
       "count                                 5290.000000  \n",
       "mean                                  -501.793193  \n",
       "std                                     39.044215  \n",
       "min                                   -809.741464  \n",
       "25%                                   -500.690984  \n",
       "50%                                   -500.007126  \n",
       "75%                                   -499.373018  \n",
       "max                                   -123.307487  \n",
       "\n",
       "[8 rows x 52 columns]"
      ]
     },
     "metadata": {},
     "output_type": "display_data"
    },
    {
     "name": "stdout",
     "output_type": "stream",
     "text": [
      "<class 'pandas.core.frame.DataFrame'>\n",
      "DatetimeIndex: 19439 entries, 2016-01-15 00:00:00 to 2018-08-18 10:59:59\n",
      "Data columns (total 86 columns):\n",
      " #   Column                                              Non-Null Count  Dtype  \n",
      "---  ------                                              --------------  -----  \n",
      " 0   final.output.concentrate_ag                         19438 non-null  float64\n",
      " 1   final.output.concentrate_pb                         19438 non-null  float64\n",
      " 2   final.output.concentrate_sol                        19228 non-null  float64\n",
      " 3   final.output.concentrate_au                         19439 non-null  float64\n",
      " 4   final.output.recovery                               19439 non-null  float64\n",
      " 5   final.output.tail_ag                                19438 non-null  float64\n",
      " 6   final.output.tail_pb                                19338 non-null  float64\n",
      " 7   final.output.tail_sol                               19433 non-null  float64\n",
      " 8   final.output.tail_au                                19439 non-null  float64\n",
      " 9   primary_cleaner.input.sulfate                       19415 non-null  float64\n",
      " 10  primary_cleaner.input.depressant                    19402 non-null  float64\n",
      " 11  primary_cleaner.input.feed_size                     19439 non-null  float64\n",
      " 12  primary_cleaner.input.xanthate                      19335 non-null  float64\n",
      " 13  primary_cleaner.output.concentrate_ag               19439 non-null  float64\n",
      " 14  primary_cleaner.output.concentrate_pb               19323 non-null  float64\n",
      " 15  primary_cleaner.output.concentrate_sol              19069 non-null  float64\n",
      " 16  primary_cleaner.output.concentrate_au               19439 non-null  float64\n",
      " 17  primary_cleaner.output.tail_ag                      19435 non-null  float64\n",
      " 18  primary_cleaner.output.tail_pb                      19418 non-null  float64\n",
      " 19  primary_cleaner.output.tail_sol                     19377 non-null  float64\n",
      " 20  primary_cleaner.output.tail_au                      19439 non-null  float64\n",
      " 21  primary_cleaner.state.floatbank8_a_air              19435 non-null  float64\n",
      " 22  primary_cleaner.state.floatbank8_a_level            19438 non-null  float64\n",
      " 23  primary_cleaner.state.floatbank8_b_air              19435 non-null  float64\n",
      " 24  primary_cleaner.state.floatbank8_b_level            19438 non-null  float64\n",
      " 25  primary_cleaner.state.floatbank8_c_air              19437 non-null  float64\n",
      " 26  primary_cleaner.state.floatbank8_c_level            19438 non-null  float64\n",
      " 27  primary_cleaner.state.floatbank8_d_air              19436 non-null  float64\n",
      " 28  primary_cleaner.state.floatbank8_d_level            19438 non-null  float64\n",
      " 29  rougher.calculation.sulfate_to_au_concentrate       19437 non-null  float64\n",
      " 30  rougher.calculation.floatbank10_sulfate_to_au_feed  19437 non-null  float64\n",
      " 31  rougher.calculation.floatbank11_sulfate_to_au_feed  19437 non-null  float64\n",
      " 32  rougher.calculation.au_pb_ratio                     19439 non-null  float64\n",
      " 33  rougher.input.feed_ag                               19439 non-null  float64\n",
      " 34  rougher.input.feed_pb                               19339 non-null  float64\n",
      " 35  rougher.input.feed_rate                             19428 non-null  float64\n",
      " 36  rougher.input.feed_size                             19294 non-null  float64\n",
      " 37  rougher.input.feed_sol                              19340 non-null  float64\n",
      " 38  rougher.input.feed_au                               19439 non-null  float64\n",
      " 39  rougher.input.floatbank10_sulfate                   19405 non-null  float64\n",
      " 40  rougher.input.floatbank10_xanthate                  19431 non-null  float64\n",
      " 41  rougher.input.floatbank11_sulfate                   19395 non-null  float64\n",
      " 42  rougher.input.floatbank11_xanthate                  18986 non-null  float64\n",
      " 43  rougher.output.concentrate_ag                       19439 non-null  float64\n",
      " 44  rougher.output.concentrate_pb                       19439 non-null  float64\n",
      " 45  rougher.output.concentrate_sol                      19416 non-null  float64\n",
      " 46  rougher.output.concentrate_au                       19439 non-null  float64\n",
      " 47  rougher.output.recovery                             19439 non-null  float64\n",
      " 48  rougher.output.tail_ag                              19438 non-null  float64\n",
      " 49  rougher.output.tail_pb                              19439 non-null  float64\n",
      " 50  rougher.output.tail_sol                             19439 non-null  float64\n",
      " 51  rougher.output.tail_au                              19439 non-null  float64\n",
      " 52  rougher.state.floatbank10_a_air                     19438 non-null  float64\n",
      " 53  rougher.state.floatbank10_a_level                   19438 non-null  float64\n",
      " 54  rougher.state.floatbank10_b_air                     19438 non-null  float64\n",
      " 55  rougher.state.floatbank10_b_level                   19438 non-null  float64\n",
      " 56  rougher.state.floatbank10_c_air                     19438 non-null  float64\n",
      " 57  rougher.state.floatbank10_c_level                   19438 non-null  float64\n",
      " 58  rougher.state.floatbank10_d_air                     19439 non-null  float64\n",
      " 59  rougher.state.floatbank10_d_level                   19439 non-null  float64\n",
      " 60  rougher.state.floatbank10_e_air                     19003 non-null  float64\n",
      " 61  rougher.state.floatbank10_e_level                   19439 non-null  float64\n",
      " 62  rougher.state.floatbank10_f_air                     19439 non-null  float64\n",
      " 63  rougher.state.floatbank10_f_level                   19439 non-null  float64\n",
      " 64  secondary_cleaner.output.tail_ag                    19437 non-null  float64\n",
      " 65  secondary_cleaner.output.tail_pb                    19427 non-null  float64\n",
      " 66  secondary_cleaner.output.tail_sol                   17691 non-null  float64\n",
      " 67  secondary_cleaner.output.tail_au                    19439 non-null  float64\n",
      " 68  secondary_cleaner.state.floatbank2_a_air            19219 non-null  float64\n",
      " 69  secondary_cleaner.state.floatbank2_a_level          19438 non-null  float64\n",
      " 70  secondary_cleaner.state.floatbank2_b_air            19416 non-null  float64\n",
      " 71  secondary_cleaner.state.floatbank2_b_level          19438 non-null  float64\n",
      " 72  secondary_cleaner.state.floatbank3_a_air            19426 non-null  float64\n",
      " 73  secondary_cleaner.state.floatbank3_a_level          19438 non-null  float64\n",
      " 74  secondary_cleaner.state.floatbank3_b_air            19438 non-null  float64\n",
      " 75  secondary_cleaner.state.floatbank3_b_level          19438 non-null  float64\n",
      " 76  secondary_cleaner.state.floatbank4_a_air            19433 non-null  float64\n",
      " 77  secondary_cleaner.state.floatbank4_a_level          19438 non-null  float64\n",
      " 78  secondary_cleaner.state.floatbank4_b_air            19438 non-null  float64\n",
      " 79  secondary_cleaner.state.floatbank4_b_level          19438 non-null  float64\n",
      " 80  secondary_cleaner.state.floatbank5_a_air            19438 non-null  float64\n",
      " 81  secondary_cleaner.state.floatbank5_a_level          19438 non-null  float64\n",
      " 82  secondary_cleaner.state.floatbank5_b_air            19438 non-null  float64\n",
      " 83  secondary_cleaner.state.floatbank5_b_level          19438 non-null  float64\n",
      " 84  secondary_cleaner.state.floatbank6_a_air            19437 non-null  float64\n",
      " 85  secondary_cleaner.state.floatbank6_a_level          19438 non-null  float64\n",
      "dtypes: float64(86)\n",
      "memory usage: 12.9 MB\n"
     ]
    },
    {
     "data": {
      "text/plain": [
       "None"
      ]
     },
     "metadata": {},
     "output_type": "display_data"
    },
    {
     "data": {
      "text/html": [
       "<div>\n",
       "<style scoped>\n",
       "    .dataframe tbody tr th:only-of-type {\n",
       "        vertical-align: middle;\n",
       "    }\n",
       "\n",
       "    .dataframe tbody tr th {\n",
       "        vertical-align: top;\n",
       "    }\n",
       "\n",
       "    .dataframe thead th {\n",
       "        text-align: right;\n",
       "    }\n",
       "</style>\n",
       "<table border=\"1\" class=\"dataframe\">\n",
       "  <thead>\n",
       "    <tr style=\"text-align: right;\">\n",
       "      <th></th>\n",
       "      <th>final.output.concentrate_ag</th>\n",
       "      <th>final.output.concentrate_pb</th>\n",
       "      <th>final.output.concentrate_sol</th>\n",
       "      <th>final.output.concentrate_au</th>\n",
       "      <th>final.output.recovery</th>\n",
       "      <th>final.output.tail_ag</th>\n",
       "      <th>final.output.tail_pb</th>\n",
       "      <th>final.output.tail_sol</th>\n",
       "      <th>final.output.tail_au</th>\n",
       "      <th>primary_cleaner.input.sulfate</th>\n",
       "      <th>...</th>\n",
       "      <th>secondary_cleaner.state.floatbank4_a_air</th>\n",
       "      <th>secondary_cleaner.state.floatbank4_a_level</th>\n",
       "      <th>secondary_cleaner.state.floatbank4_b_air</th>\n",
       "      <th>secondary_cleaner.state.floatbank4_b_level</th>\n",
       "      <th>secondary_cleaner.state.floatbank5_a_air</th>\n",
       "      <th>secondary_cleaner.state.floatbank5_a_level</th>\n",
       "      <th>secondary_cleaner.state.floatbank5_b_air</th>\n",
       "      <th>secondary_cleaner.state.floatbank5_b_level</th>\n",
       "      <th>secondary_cleaner.state.floatbank6_a_air</th>\n",
       "      <th>secondary_cleaner.state.floatbank6_a_level</th>\n",
       "    </tr>\n",
       "  </thead>\n",
       "  <tbody>\n",
       "    <tr>\n",
       "      <th>count</th>\n",
       "      <td>19438.000000</td>\n",
       "      <td>19438.000000</td>\n",
       "      <td>19228.000000</td>\n",
       "      <td>19439.000000</td>\n",
       "      <td>19439.000000</td>\n",
       "      <td>19438.000000</td>\n",
       "      <td>19338.000000</td>\n",
       "      <td>19433.000000</td>\n",
       "      <td>19439.000000</td>\n",
       "      <td>19415.000000</td>\n",
       "      <td>...</td>\n",
       "      <td>19433.000000</td>\n",
       "      <td>19438.000000</td>\n",
       "      <td>19438.000000</td>\n",
       "      <td>19438.000000</td>\n",
       "      <td>19438.000000</td>\n",
       "      <td>19438.000000</td>\n",
       "      <td>19438.000000</td>\n",
       "      <td>19438.000000</td>\n",
       "      <td>19437.000000</td>\n",
       "      <td>19438.000000</td>\n",
       "    </tr>\n",
       "    <tr>\n",
       "      <th>mean</th>\n",
       "      <td>5.168470</td>\n",
       "      <td>9.978895</td>\n",
       "      <td>9.501224</td>\n",
       "      <td>44.076513</td>\n",
       "      <td>67.050208</td>\n",
       "      <td>9.688589</td>\n",
       "      <td>2.705795</td>\n",
       "      <td>10.583728</td>\n",
       "      <td>3.042467</td>\n",
       "      <td>144.624774</td>\n",
       "      <td>...</td>\n",
       "      <td>18.987674</td>\n",
       "      <td>-485.894516</td>\n",
       "      <td>15.010366</td>\n",
       "      <td>-461.078636</td>\n",
       "      <td>15.694452</td>\n",
       "      <td>-488.684065</td>\n",
       "      <td>12.198224</td>\n",
       "      <td>-487.149827</td>\n",
       "      <td>18.959024</td>\n",
       "      <td>-505.436305</td>\n",
       "    </tr>\n",
       "    <tr>\n",
       "      <th>std</th>\n",
       "      <td>1.372348</td>\n",
       "      <td>1.669240</td>\n",
       "      <td>2.787537</td>\n",
       "      <td>5.129784</td>\n",
       "      <td>10.125840</td>\n",
       "      <td>2.328642</td>\n",
       "      <td>0.949077</td>\n",
       "      <td>2.868782</td>\n",
       "      <td>0.922808</td>\n",
       "      <td>44.464071</td>\n",
       "      <td>...</td>\n",
       "      <td>5.411058</td>\n",
       "      <td>47.758570</td>\n",
       "      <td>4.890228</td>\n",
       "      <td>67.405524</td>\n",
       "      <td>5.510974</td>\n",
       "      <td>34.533396</td>\n",
       "      <td>5.333024</td>\n",
       "      <td>38.347312</td>\n",
       "      <td>5.550498</td>\n",
       "      <td>37.689057</td>\n",
       "    </tr>\n",
       "    <tr>\n",
       "      <th>min</th>\n",
       "      <td>0.000000</td>\n",
       "      <td>0.000000</td>\n",
       "      <td>0.000000</td>\n",
       "      <td>0.000000</td>\n",
       "      <td>0.000000</td>\n",
       "      <td>0.000000</td>\n",
       "      <td>0.000000</td>\n",
       "      <td>0.000000</td>\n",
       "      <td>0.000000</td>\n",
       "      <td>0.003112</td>\n",
       "      <td>...</td>\n",
       "      <td>0.000000</td>\n",
       "      <td>-799.798523</td>\n",
       "      <td>0.000000</td>\n",
       "      <td>-800.836914</td>\n",
       "      <td>-0.372054</td>\n",
       "      <td>-797.323986</td>\n",
       "      <td>0.528083</td>\n",
       "      <td>-800.220337</td>\n",
       "      <td>-0.079426</td>\n",
       "      <td>-809.741464</td>\n",
       "    </tr>\n",
       "    <tr>\n",
       "      <th>25%</th>\n",
       "      <td>4.251240</td>\n",
       "      <td>9.137262</td>\n",
       "      <td>7.722820</td>\n",
       "      <td>43.402215</td>\n",
       "      <td>63.299712</td>\n",
       "      <td>8.062878</td>\n",
       "      <td>2.040119</td>\n",
       "      <td>8.938947</td>\n",
       "      <td>2.461138</td>\n",
       "      <td>114.107029</td>\n",
       "      <td>...</td>\n",
       "      <td>14.975734</td>\n",
       "      <td>-500.704892</td>\n",
       "      <td>11.940294</td>\n",
       "      <td>-500.187742</td>\n",
       "      <td>10.988606</td>\n",
       "      <td>-500.458467</td>\n",
       "      <td>8.971105</td>\n",
       "      <td>-500.129462</td>\n",
       "      <td>14.983037</td>\n",
       "      <td>-500.728067</td>\n",
       "    </tr>\n",
       "    <tr>\n",
       "      <th>50%</th>\n",
       "      <td>5.066094</td>\n",
       "      <td>10.102433</td>\n",
       "      <td>9.218961</td>\n",
       "      <td>45.011244</td>\n",
       "      <td>68.172738</td>\n",
       "      <td>9.743623</td>\n",
       "      <td>2.748730</td>\n",
       "      <td>10.622456</td>\n",
       "      <td>2.984909</td>\n",
       "      <td>143.232103</td>\n",
       "      <td>...</td>\n",
       "      <td>18.017481</td>\n",
       "      <td>-499.837793</td>\n",
       "      <td>14.971014</td>\n",
       "      <td>-499.459786</td>\n",
       "      <td>15.000036</td>\n",
       "      <td>-499.802605</td>\n",
       "      <td>11.019433</td>\n",
       "      <td>-499.935317</td>\n",
       "      <td>19.960541</td>\n",
       "      <td>-500.048400</td>\n",
       "    </tr>\n",
       "    <tr>\n",
       "      <th>75%</th>\n",
       "      <td>5.895527</td>\n",
       "      <td>11.035769</td>\n",
       "      <td>10.947813</td>\n",
       "      <td>46.275313</td>\n",
       "      <td>72.686642</td>\n",
       "      <td>11.134294</td>\n",
       "      <td>3.333216</td>\n",
       "      <td>12.104271</td>\n",
       "      <td>3.571351</td>\n",
       "      <td>175.075656</td>\n",
       "      <td>...</td>\n",
       "      <td>23.012470</td>\n",
       "      <td>-498.249730</td>\n",
       "      <td>19.034162</td>\n",
       "      <td>-400.118106</td>\n",
       "      <td>18.026190</td>\n",
       "      <td>-498.384187</td>\n",
       "      <td>14.019088</td>\n",
       "      <td>-499.436708</td>\n",
       "      <td>24.003170</td>\n",
       "      <td>-499.495378</td>\n",
       "    </tr>\n",
       "    <tr>\n",
       "      <th>max</th>\n",
       "      <td>16.001945</td>\n",
       "      <td>17.031899</td>\n",
       "      <td>19.615720</td>\n",
       "      <td>52.756638</td>\n",
       "      <td>100.000000</td>\n",
       "      <td>19.552149</td>\n",
       "      <td>5.804178</td>\n",
       "      <td>22.317730</td>\n",
       "      <td>8.245022</td>\n",
       "      <td>265.983123</td>\n",
       "      <td>...</td>\n",
       "      <td>30.115735</td>\n",
       "      <td>-245.239184</td>\n",
       "      <td>31.269706</td>\n",
       "      <td>-6.506986</td>\n",
       "      <td>43.709931</td>\n",
       "      <td>-244.483566</td>\n",
       "      <td>27.926001</td>\n",
       "      <td>-137.740004</td>\n",
       "      <td>32.188906</td>\n",
       "      <td>-104.427459</td>\n",
       "    </tr>\n",
       "  </tbody>\n",
       "</table>\n",
       "<p>8 rows × 86 columns</p>\n",
       "</div>"
      ],
      "text/plain": [
       "       final.output.concentrate_ag  final.output.concentrate_pb  \\\n",
       "count                 19438.000000                 19438.000000   \n",
       "mean                      5.168470                     9.978895   \n",
       "std                       1.372348                     1.669240   \n",
       "min                       0.000000                     0.000000   \n",
       "25%                       4.251240                     9.137262   \n",
       "50%                       5.066094                    10.102433   \n",
       "75%                       5.895527                    11.035769   \n",
       "max                      16.001945                    17.031899   \n",
       "\n",
       "       final.output.concentrate_sol  final.output.concentrate_au  \\\n",
       "count                  19228.000000                 19439.000000   \n",
       "mean                       9.501224                    44.076513   \n",
       "std                        2.787537                     5.129784   \n",
       "min                        0.000000                     0.000000   \n",
       "25%                        7.722820                    43.402215   \n",
       "50%                        9.218961                    45.011244   \n",
       "75%                       10.947813                    46.275313   \n",
       "max                       19.615720                    52.756638   \n",
       "\n",
       "       final.output.recovery  final.output.tail_ag  final.output.tail_pb  \\\n",
       "count           19439.000000          19438.000000          19338.000000   \n",
       "mean               67.050208              9.688589              2.705795   \n",
       "std                10.125840              2.328642              0.949077   \n",
       "min                 0.000000              0.000000              0.000000   \n",
       "25%                63.299712              8.062878              2.040119   \n",
       "50%                68.172738              9.743623              2.748730   \n",
       "75%                72.686642             11.134294              3.333216   \n",
       "max               100.000000             19.552149              5.804178   \n",
       "\n",
       "       final.output.tail_sol  final.output.tail_au  \\\n",
       "count           19433.000000          19439.000000   \n",
       "mean               10.583728              3.042467   \n",
       "std                 2.868782              0.922808   \n",
       "min                 0.000000              0.000000   \n",
       "25%                 8.938947              2.461138   \n",
       "50%                10.622456              2.984909   \n",
       "75%                12.104271              3.571351   \n",
       "max                22.317730              8.245022   \n",
       "\n",
       "       primary_cleaner.input.sulfate  ...  \\\n",
       "count                   19415.000000  ...   \n",
       "mean                      144.624774  ...   \n",
       "std                        44.464071  ...   \n",
       "min                         0.003112  ...   \n",
       "25%                       114.107029  ...   \n",
       "50%                       143.232103  ...   \n",
       "75%                       175.075656  ...   \n",
       "max                       265.983123  ...   \n",
       "\n",
       "       secondary_cleaner.state.floatbank4_a_air  \\\n",
       "count                              19433.000000   \n",
       "mean                                  18.987674   \n",
       "std                                    5.411058   \n",
       "min                                    0.000000   \n",
       "25%                                   14.975734   \n",
       "50%                                   18.017481   \n",
       "75%                                   23.012470   \n",
       "max                                   30.115735   \n",
       "\n",
       "       secondary_cleaner.state.floatbank4_a_level  \\\n",
       "count                                19438.000000   \n",
       "mean                                  -485.894516   \n",
       "std                                     47.758570   \n",
       "min                                   -799.798523   \n",
       "25%                                   -500.704892   \n",
       "50%                                   -499.837793   \n",
       "75%                                   -498.249730   \n",
       "max                                   -245.239184   \n",
       "\n",
       "       secondary_cleaner.state.floatbank4_b_air  \\\n",
       "count                              19438.000000   \n",
       "mean                                  15.010366   \n",
       "std                                    4.890228   \n",
       "min                                    0.000000   \n",
       "25%                                   11.940294   \n",
       "50%                                   14.971014   \n",
       "75%                                   19.034162   \n",
       "max                                   31.269706   \n",
       "\n",
       "       secondary_cleaner.state.floatbank4_b_level  \\\n",
       "count                                19438.000000   \n",
       "mean                                  -461.078636   \n",
       "std                                     67.405524   \n",
       "min                                   -800.836914   \n",
       "25%                                   -500.187742   \n",
       "50%                                   -499.459786   \n",
       "75%                                   -400.118106   \n",
       "max                                     -6.506986   \n",
       "\n",
       "       secondary_cleaner.state.floatbank5_a_air  \\\n",
       "count                              19438.000000   \n",
       "mean                                  15.694452   \n",
       "std                                    5.510974   \n",
       "min                                   -0.372054   \n",
       "25%                                   10.988606   \n",
       "50%                                   15.000036   \n",
       "75%                                   18.026190   \n",
       "max                                   43.709931   \n",
       "\n",
       "       secondary_cleaner.state.floatbank5_a_level  \\\n",
       "count                                19438.000000   \n",
       "mean                                  -488.684065   \n",
       "std                                     34.533396   \n",
       "min                                   -797.323986   \n",
       "25%                                   -500.458467   \n",
       "50%                                   -499.802605   \n",
       "75%                                   -498.384187   \n",
       "max                                   -244.483566   \n",
       "\n",
       "       secondary_cleaner.state.floatbank5_b_air  \\\n",
       "count                              19438.000000   \n",
       "mean                                  12.198224   \n",
       "std                                    5.333024   \n",
       "min                                    0.528083   \n",
       "25%                                    8.971105   \n",
       "50%                                   11.019433   \n",
       "75%                                   14.019088   \n",
       "max                                   27.926001   \n",
       "\n",
       "       secondary_cleaner.state.floatbank5_b_level  \\\n",
       "count                                19438.000000   \n",
       "mean                                  -487.149827   \n",
       "std                                     38.347312   \n",
       "min                                   -800.220337   \n",
       "25%                                   -500.129462   \n",
       "50%                                   -499.935317   \n",
       "75%                                   -499.436708   \n",
       "max                                   -137.740004   \n",
       "\n",
       "       secondary_cleaner.state.floatbank6_a_air  \\\n",
       "count                              19437.000000   \n",
       "mean                                  18.959024   \n",
       "std                                    5.550498   \n",
       "min                                   -0.079426   \n",
       "25%                                   14.983037   \n",
       "50%                                   19.960541   \n",
       "75%                                   24.003170   \n",
       "max                                   32.188906   \n",
       "\n",
       "       secondary_cleaner.state.floatbank6_a_level  \n",
       "count                                19438.000000  \n",
       "mean                                  -505.436305  \n",
       "std                                     37.689057  \n",
       "min                                   -809.741464  \n",
       "25%                                   -500.728067  \n",
       "50%                                   -500.048400  \n",
       "75%                                   -499.495378  \n",
       "max                                   -104.427459  \n",
       "\n",
       "[8 rows x 86 columns]"
      ]
     },
     "metadata": {},
     "output_type": "display_data"
    }
   ],
   "source": [
    "data_train = pd.read_csv('/datasets/gold_recovery_train_new.csv', index_col='date', parse_dates=True)\n",
    "data_test = pd.read_csv('/datasets/gold_recovery_test_new.csv', index_col='date', parse_dates=True)\n",
    "data_full = pd.read_csv('/datasets/gold_recovery_full_new.csv', index_col='date', parse_dates=True)\n",
    "\n",
    "display(data_train.info())\n",
    "display(data_train.describe())\n",
    "display(data_test.info())\n",
    "display(data_test.describe())\n",
    "display(data_full.info())\n",
    "display(data_full.describe())"
   ]
  },
  {
   "cell_type": "markdown",
   "metadata": {},
   "source": [
    "### Вывод\n",
    "\n",
    "Таблица train\n",
    "\n",
    "- Информация о структуре данных - двумерная(DataFrame);\n",
    "- таблица имеет 14149 строк и 87 столбцов; \n",
    "- присутствуют названия столбцов и количество ненулевых значений;\n",
    "- в таблице присутствуют значения типов float(86 столбцов), object(1 столбeц);\n",
    "- использование памяти.\n",
    "\n",
    "Таблица test\n",
    "\n",
    "- Информация о структуре данных - двумерная(DataFrame);\n",
    "- таблица имеет 5290 строк и 53 столбца; \n",
    "- присутствуют названия столбцов и количество ненулевых значений;\n",
    "- в таблице присутствуют значения типов float(52 столбца), object(1 столбeц);\n",
    "- использование памяти.\n",
    "\n",
    "Таблица full\n",
    "\n",
    "- Информация о структуре данных - двумерная(DataFrame);\n",
    "- таблица имеет 19439 строк и 87 столбцов; \n",
    "- присутствуют названия столбцов и количество ненулевых значений;\n",
    "- в таблице присутствуют значения типов float(86 столбцов), object(1 столбeц);\n",
    "- использование памяти."
   ]
  },
  {
   "cell_type": "markdown",
   "metadata": {},
   "source": [
    "Посмотрим, есть ли пропуски:"
   ]
  },
  {
   "cell_type": "code",
   "execution_count": 3,
   "metadata": {
    "scrolled": true
   },
   "outputs": [
    {
     "data": {
      "text/plain": [
       "4100"
      ]
     },
     "metadata": {},
     "output_type": "display_data"
    },
    {
     "data": {
      "text/plain": [
       "90"
      ]
     },
     "metadata": {},
     "output_type": "display_data"
    },
    {
     "data": {
      "text/plain": [
       "4481"
      ]
     },
     "metadata": {},
     "output_type": "display_data"
    }
   ],
   "source": [
    "display(data_train.isna().sum().sum())\n",
    "display(data_test.isna().sum().sum())\n",
    "display(data_full.isna().sum().sum())"
   ]
  },
  {
   "cell_type": "markdown",
   "metadata": {},
   "source": [
    "Пропуски обнаружены, обработаем их в пункте 1.4."
   ]
  },
  {
   "cell_type": "markdown",
   "metadata": {},
   "source": [
    "Проверим дубликаты:"
   ]
  },
  {
   "cell_type": "code",
   "execution_count": 4,
   "metadata": {},
   "outputs": [
    {
     "data": {
      "text/plain": [
       "0"
      ]
     },
     "metadata": {},
     "output_type": "display_data"
    },
    {
     "data": {
      "text/plain": [
       "0"
      ]
     },
     "metadata": {},
     "output_type": "display_data"
    },
    {
     "data": {
      "text/plain": [
       "0"
      ]
     },
     "metadata": {},
     "output_type": "display_data"
    }
   ],
   "source": [
    "dubl_data_train = data_train.duplicated().sum()\n",
    "dubl_data_test = data_test.duplicated().sum()\n",
    "dubl_data_full = data_full.duplicated().sum()\n",
    "display(dubl_data_train)\n",
    "display(dubl_data_test)\n",
    "display(dubl_data_full)"
   ]
  },
  {
   "cell_type": "markdown",
   "metadata": {},
   "source": [
    "Дубликатов нет."
   ]
  },
  {
   "cell_type": "markdown",
   "metadata": {},
   "source": [
    "### Проверим, что эффективность обогащения рассчитана правильно. Вычислим её на обучающей выборке для признака rougher.output.recovery. Найдем MAE между нашими расчётами и значением признака:"
   ]
  },
  {
   "cell_type": "code",
   "execution_count": 5,
   "metadata": {},
   "outputs": [],
   "source": [
    "C = data_train['rougher.output.concentrate_au']\n",
    "F = data_train['rougher.input.feed_au']\n",
    "T = data_train['rougher.output.tail_au']\n",
    "recovery = 100 * ((C * (F-T)) / (F * (C-T)))   "
   ]
  },
  {
   "cell_type": "code",
   "execution_count": 6,
   "metadata": {},
   "outputs": [
    {
     "data": {
      "text/plain": [
       "9.73512347450521e-15"
      ]
     },
     "execution_count": 6,
     "metadata": {},
     "output_type": "execute_result"
    }
   ],
   "source": [
    "mean_absolute_error(data_train['rougher.output.recovery'], recovery)"
   ]
  },
  {
   "cell_type": "markdown",
   "metadata": {},
   "source": [
    "Значение MAE стремится к 0,это значит наши расчеты совпадают с признаком rougher.output.recovery"
   ]
  },
  {
   "cell_type": "code",
   "execution_count": 7,
   "metadata": {},
   "outputs": [
    {
     "data": {
      "text/plain": [
       "(14149, 86)"
      ]
     },
     "metadata": {},
     "output_type": "display_data"
    },
    {
     "data": {
      "text/plain": [
       "(5290, 52)"
      ]
     },
     "metadata": {},
     "output_type": "display_data"
    },
    {
     "data": {
      "text/plain": [
       "(19439, 86)"
      ]
     },
     "metadata": {},
     "output_type": "display_data"
    }
   ],
   "source": [
    "display(data_train.shape)\n",
    "display(data_test.shape)\n",
    "display(data_full.shape)"
   ]
  },
  {
   "cell_type": "markdown",
   "metadata": {},
   "source": [
    "### Проанализировать признаки, недоступные в тестовой выборке. Что это за параметры?"
   ]
  },
  {
   "cell_type": "code",
   "execution_count": 8,
   "metadata": {},
   "outputs": [],
   "source": [
    "data_test_plus = data_test.join(data_full[['final.output.recovery','rougher.output.recovery']])"
   ]
  },
  {
   "cell_type": "code",
   "execution_count": 9,
   "metadata": {},
   "outputs": [
    {
     "name": "stdout",
     "output_type": "stream",
     "text": [
      "Было: (5290, 52) \n",
      "Стало (5290, 54)\n"
     ]
    }
   ],
   "source": [
    "print('Было:',data_test.shape,'\\nСтало',data_test_plus.shape)"
   ]
  },
  {
   "cell_type": "markdown",
   "metadata": {},
   "source": [
    "В тестовой выборке отсутствуют 34 столбца. К данной выборке добавили только столбцы - целевые признаки это 'final.output.recovery' и 'rougher.output.recovery'."
   ]
  },
  {
   "cell_type": "markdown",
   "metadata": {},
   "source": [
    "### Проведем предобработку данных:"
   ]
  },
  {
   "cell_type": "markdown",
   "metadata": {},
   "source": [
    "Заполним пропуски:"
   ]
  },
  {
   "cell_type": "code",
   "execution_count": 10,
   "metadata": {},
   "outputs": [],
   "source": [
    "data_train = data_train.interpolate(method='time')\n",
    "data_test_plus = data_test_plus.interpolate(method='time')"
   ]
  },
  {
   "cell_type": "code",
   "execution_count": 11,
   "metadata": {},
   "outputs": [
    {
     "data": {
      "text/plain": [
       "0"
      ]
     },
     "metadata": {},
     "output_type": "display_data"
    },
    {
     "data": {
      "text/plain": [
       "0"
      ]
     },
     "metadata": {},
     "output_type": "display_data"
    }
   ],
   "source": [
    "display(data_train.isna().sum().sum())\n",
    "display(data_test_plus.isna().sum().sum())"
   ]
  },
  {
   "cell_type": "markdown",
   "metadata": {},
   "source": [
    "## Анализ данных"
   ]
  },
  {
   "cell_type": "markdown",
   "metadata": {},
   "source": [
    "### Посмотрим, как меняется концентрация металлов (Au, Ag, Pb) на различных этапах очистки:"
   ]
  },
  {
   "cell_type": "code",
   "execution_count": 12,
   "metadata": {},
   "outputs": [],
   "source": [
    "def name_columns(data):\n",
    "    rougher = []\n",
    "    primary_cleaner = []\n",
    "    secondary_cleaner = []\n",
    "    final = []\n",
    "    other_stage = []\n",
    "    input_list = []\n",
    "    output = []\n",
    "    state = []\n",
    "    calculation = []\n",
    "    other_params = []\n",
    "    for i in data.columns:\n",
    "        if 'rougher' in i: \n",
    "            rougher.append(i)\n",
    "        elif  'primary_cleaner' in i: \n",
    "            primary_cleaner.append(i)  \n",
    "        elif  'secondary_cleaner' in i: \n",
    "            secondary_cleaner.append(i)\n",
    "        elif 'final' in i: \n",
    "            final.append(i)\n",
    "        else: \n",
    "            other_stage.append(i)\n",
    "            \n",
    "        if 'input' in i: \n",
    "            input_list.append(i)\n",
    "        elif  'output' in i: \n",
    "            output.append(i)\n",
    "        elif  'state' in i: \n",
    "            state.append(i)  \n",
    "        elif  'calculation' in i: \n",
    "            calculation.append(i)\n",
    "        else: \n",
    "            other_params.append(i)\n",
    "    return rougher, primary_cleaner, secondary_cleaner, final, other_stage,input_list,output,state,calculation,other_params"
   ]
  },
  {
   "cell_type": "code",
   "execution_count": 13,
   "metadata": {},
   "outputs": [],
   "source": [
    "au_list = []\n",
    "ag_list = []\n",
    "pb_list = []\n",
    "for i in data_train.columns:\n",
    "    if 'au' in i:\n",
    "        au_list.append(i)\n",
    "    if 'ag' in i:\n",
    "        ag_list.append(i)\n",
    "    if 'pb' in i:\n",
    "        pb_list.append(i)"
   ]
  },
  {
   "cell_type": "code",
   "execution_count": 14,
   "metadata": {},
   "outputs": [
    {
     "data": {
      "text/plain": [
       "['final.output.concentrate_au',\n",
       " 'final.output.tail_au',\n",
       " 'primary_cleaner.output.concentrate_au',\n",
       " 'primary_cleaner.output.tail_au',\n",
       " 'rougher.calculation.sulfate_to_au_concentrate',\n",
       " 'rougher.calculation.floatbank10_sulfate_to_au_feed',\n",
       " 'rougher.calculation.floatbank11_sulfate_to_au_feed',\n",
       " 'rougher.calculation.au_pb_ratio',\n",
       " 'rougher.input.feed_au',\n",
       " 'rougher.output.concentrate_au',\n",
       " 'rougher.output.tail_au',\n",
       " 'secondary_cleaner.output.tail_au']"
      ]
     },
     "metadata": {},
     "output_type": "display_data"
    },
    {
     "data": {
      "text/plain": [
       "['final.output.concentrate_ag',\n",
       " 'final.output.tail_ag',\n",
       " 'primary_cleaner.output.concentrate_ag',\n",
       " 'primary_cleaner.output.tail_ag',\n",
       " 'rougher.input.feed_ag',\n",
       " 'rougher.output.concentrate_ag',\n",
       " 'rougher.output.tail_ag',\n",
       " 'secondary_cleaner.output.tail_ag']"
      ]
     },
     "metadata": {},
     "output_type": "display_data"
    },
    {
     "data": {
      "text/plain": [
       "['final.output.concentrate_pb',\n",
       " 'final.output.tail_pb',\n",
       " 'primary_cleaner.output.concentrate_pb',\n",
       " 'primary_cleaner.output.tail_pb',\n",
       " 'rougher.calculation.au_pb_ratio',\n",
       " 'rougher.input.feed_pb',\n",
       " 'rougher.output.concentrate_pb',\n",
       " 'rougher.output.tail_pb',\n",
       " 'secondary_cleaner.output.tail_pb']"
      ]
     },
     "metadata": {},
     "output_type": "display_data"
    }
   ],
   "source": [
    "display(au_list)\n",
    "display(ag_list)\n",
    "display(pb_list)"
   ]
  },
  {
   "cell_type": "code",
   "execution_count": 15,
   "metadata": {},
   "outputs": [],
   "source": [
    "def plot_concentrate(data, col1, col2, col3, title):\n",
    "    fig = plt.figure(figsize=(10,6))\n",
    "    sns.distplot(data[col1], color='red')\n",
    "    sns.distplot(data[col2], color='orange')\n",
    "    sns.distplot(data[col3], color='green')\n",
    "\n",
    "    fig.legend([col1,col2,col3])\n",
    "    plt.xlabel(title)\n",
    "    plt.ylabel('Значения параметра')\n",
    "    plt.show()"
   ]
  },
  {
   "cell_type": "code",
   "execution_count": 16,
   "metadata": {},
   "outputs": [
    {
     "data": {
      "image/png": "[encoded data removed]",
      "text/plain": [
       "<Figure size 720x432 with 1 Axes>"
      ]
     },
     "metadata": {
      "needs_background": "light"
     },
     "output_type": "display_data"
    }
   ],
   "source": [
    "plot_concentrate(data = data_train,\n",
    "              col1 = 'rougher.output.concentrate_au',\n",
    "              col2 = 'primary_cleaner.output.concentrate_au',\n",
    "              col3 = 'final.output.concentrate_au',\n",
    "              title = 'Концентрация золота (Au) на основных этапах',\n",
    ")"
   ]
  },
  {
   "cell_type": "code",
   "execution_count": 17,
   "metadata": {},
   "outputs": [
    {
     "data": {
      "image/png": "[encoded data removed]",
      "text/plain": [
       "<Figure size 720x432 with 1 Axes>"
      ]
     },
     "metadata": {
      "needs_background": "light"
     },
     "output_type": "display_data"
    }
   ],
   "source": [
    "plot_concentrate(data = data_train,\n",
    "              col1 = 'rougher.output.tail_au',\n",
    "              col2 = 'primary_cleaner.output.tail_au',\n",
    "              col3 = 'final.output.tail_au',\n",
    "              title = 'Концентрация золота (Au) в отвальных хвостах',\n",
    ")"
   ]
  },
  {
   "cell_type": "code",
   "execution_count": 18,
   "metadata": {},
   "outputs": [
    {
     "data": {
      "image/png": "[encoded data removed]",
      "text/plain": [
       "<Figure size 720x432 with 1 Axes>"
      ]
     },
     "metadata": {
      "needs_background": "light"
     },
     "output_type": "display_data"
    }
   ],
   "source": [
    "plot_concentrate(data = data_train,\n",
    "              col1 = 'rougher.output.concentrate_ag',\n",
    "              col2 = 'primary_cleaner.output.concentrate_ag',\n",
    "              col3 = 'final.output.concentrate_ag',\n",
    "              title = 'Концентрация серебра (Ag) на основных этапах',\n",
    ")"
   ]
  },
  {
   "cell_type": "code",
   "execution_count": 19,
   "metadata": {},
   "outputs": [
    {
     "data": {
      "image/png": "[encoded data removed]",
      "text/plain": [
       "<Figure size 720x432 with 1 Axes>"
      ]
     },
     "metadata": {
      "needs_background": "light"
     },
     "output_type": "display_data"
    }
   ],
   "source": [
    "plot_concentrate(data = data_train,\n",
    "              col1 = 'rougher.output.tail_ag',\n",
    "              col2 = 'primary_cleaner.output.tail_ag',\n",
    "              col3 = 'final.output.tail_ag',\n",
    "              title = 'Концентрация серебра (Ag) в отвальных хвостах',\n",
    ")"
   ]
  },
  {
   "cell_type": "code",
   "execution_count": 20,
   "metadata": {},
   "outputs": [
    {
     "data": {
      "image/png": "[encoded data removed]",
      "text/plain": [
       "<Figure size 720x432 with 1 Axes>"
      ]
     },
     "metadata": {
      "needs_background": "light"
     },
     "output_type": "display_data"
    }
   ],
   "source": [
    "plot_concentrate(data = data_train,\n",
    "              col1 = 'rougher.output.concentrate_pb',\n",
    "              col2 = 'primary_cleaner.output.concentrate_pb',\n",
    "              col3 = 'final.output.concentrate_pb',\n",
    "              title = 'Концентрация свинца (Pb) на основных этапах',\n",
    ")"
   ]
  },
  {
   "cell_type": "code",
   "execution_count": 21,
   "metadata": {
    "scrolled": false
   },
   "outputs": [
    {
     "data": {
      "image/png": "[encoded data removed]",
      "text/plain": [
       "<Figure size 720x432 with 1 Axes>"
      ]
     },
     "metadata": {
      "needs_background": "light"
     },
     "output_type": "display_data"
    }
   ],
   "source": [
    "plot_concentrate(data = data_train,\n",
    "              col1 = 'rougher.output.tail_pb',\n",
    "              col2 = 'primary_cleaner.output.tail_pb',\n",
    "              col3 = 'final.output.tail_pb',\n",
    "              title = 'Концентрация свинца (Pb) в отвальных хвостах',\n",
    ")"
   ]
  },
  {
   "cell_type": "markdown",
   "metadata": {},
   "source": [
    "#### Вывод:\n",
    "\n",
    "- Au:\n",
    "Концентрация золота с каждым этапом возрастает, так и должно быть, так как часть уходит в отвальные хвосты. Концентрация от флотации до готового продукта увеличивается более чем в 2,5 раза.\n",
    "В отвальных хвостах концентрация почти не меняется.\n",
    "- Ag:\n",
    "Концентрация серебра в породе с каждым этапом падает, а в отвальных хвостах наоборот возрастает.\n",
    "- Pb:\n",
    "Концентрация свинца увеличивается с каждым этапом, также и в отвальных хвостах."
   ]
  },
  {
   "cell_type": "markdown",
   "metadata": {},
   "source": [
    "### Сравним распределения размеров гранул сырья на обучающей и тестовой выборках:"
   ]
  },
  {
   "cell_type": "code",
   "execution_count": 22,
   "metadata": {},
   "outputs": [
    {
     "data": {
      "image/png": "[encoded data removed]",
      "text/plain": [
       "<Figure size 720x360 with 1 Axes>"
      ]
     },
     "metadata": {
      "needs_background": "light"
     },
     "output_type": "display_data"
    }
   ],
   "source": [
    "data_train['rougher.input.feed_size'].hist(bins=50,figsize=(10,5), density=True)\n",
    "data_test_plus['rougher.input.feed_size'].hist(bins=50, density=True)\n",
    "\n",
    "plt.legend(['Train','Test'])\n",
    "plt.xlabel('Распределение размеров гранул сырья на этапе флотации')\n",
    "plt.ylabel('Значения параметра')\n",
    "plt.show()"
   ]
  },
  {
   "cell_type": "code",
   "execution_count": 23,
   "metadata": {},
   "outputs": [
    {
     "data": {
      "image/png": "[encoded data removed]",
      "text/plain": [
       "<Figure size 720x360 with 1 Axes>"
      ]
     },
     "metadata": {
      "needs_background": "light"
     },
     "output_type": "display_data"
    }
   ],
   "source": [
    "data_train[data_train['rougher.input.feed_size']>200]['rougher.input.feed_size'].hist(bins=50,figsize=(10,5), density=True)\n",
    "data_test_plus[data_test_plus['rougher.input.feed_size']>200]['rougher.input.feed_size'].hist(bins=50, density=True)\n",
    "\n",
    "plt.legend(['Train','Test'])\n",
    "plt.xlabel('Распределение размеров гранул сырья на этапе флотации')\n",
    "plt.ylabel('Значения параметра')\n",
    "plt.show()"
   ]
  },
  {
   "cell_type": "code",
   "execution_count": 24,
   "metadata": {},
   "outputs": [
    {
     "data": {
      "image/png": "[encoded data removed]",
      "text/plain": [
       "<Figure size 720x360 with 1 Axes>"
      ]
     },
     "metadata": {
      "needs_background": "light"
     },
     "output_type": "display_data"
    }
   ],
   "source": [
    "data_train['primary_cleaner.input.feed_size'].hist(bins=50,figsize=(10,5), density=True)\n",
    "data_test_plus['primary_cleaner.input.feed_size'].hist(bins=50, density=True)\n",
    "\n",
    "plt.legend(['Train','Test'])\n",
    "plt.xlabel('Распределение размеров гранул сырья на первом этапе обработки')\n",
    "plt.ylabel('Значения параметра')\n",
    "plt.show()"
   ]
  },
  {
   "cell_type": "markdown",
   "metadata": {},
   "source": [
    "#### Вывод:\n",
    "\n",
    "На первом этапе обработки размеры гранул сильно уменьшаются по сравнению с флотацией, было в районе 50, упало до 7.\n",
    "На этапе флотации на обоих выборках видны выбросы, где ['rougher.input.feed_size'] > 200.\n",
    "Распределения для обучающей и тестовой выборки схожи."
   ]
  },
  {
   "cell_type": "markdown",
   "metadata": {},
   "source": [
    "### Исследуем суммарную концентрацию всех веществ на разных стадиях: в сырье, в черновом и финальном концентратах:"
   ]
  },
  {
   "cell_type": "code",
   "execution_count": 25,
   "metadata": {},
   "outputs": [],
   "source": [
    "def total_concentrate_rougher_input(row):\n",
    "    au = row['rougher.input.feed_au']\n",
    "    ag = row['rougher.input.feed_ag']\n",
    "    pb = row['rougher.input.feed_pb']\n",
    "    summa = au+ag+pb\n",
    "    return summa"
   ]
  },
  {
   "cell_type": "code",
   "execution_count": 26,
   "metadata": {},
   "outputs": [],
   "source": [
    "def total_concentrate_rougher(row):\n",
    "    au = row['rougher.output.concentrate_au']\n",
    "    ag = row['rougher.output.concentrate_ag']\n",
    "    pb = row['rougher.output.concentrate_pb']\n",
    "    summa = au+ag+pb\n",
    "    return summa"
   ]
  },
  {
   "cell_type": "code",
   "execution_count": 27,
   "metadata": {},
   "outputs": [],
   "source": [
    "def total_concentrate_rougher_tail(row):\n",
    "    au = row['rougher.output.tail_au']\n",
    "    ag = row['rougher.output.tail_ag']\n",
    "    pb = row['rougher.output.tail_pb']\n",
    "    summa = au+ag+pb\n",
    "    return summa"
   ]
  },
  {
   "cell_type": "code",
   "execution_count": 28,
   "metadata": {},
   "outputs": [],
   "source": [
    "def total_concentrate_final(row):\n",
    "    au = row['final.output.concentrate_au']\n",
    "    ag = row['final.output.concentrate_ag']\n",
    "    pb = row['final.output.concentrate_pb']\n",
    "    summa = au+ag+pb\n",
    "    return summa"
   ]
  },
  {
   "cell_type": "code",
   "execution_count": 29,
   "metadata": {},
   "outputs": [],
   "source": [
    "def total_concentrate_final_tail(row):\n",
    "    au = row['final.output.tail_au']\n",
    "    ag = row['final.output.tail_ag']\n",
    "    pb = row['final.output.tail_pb']\n",
    "    summa = au+ag+pb\n",
    "    return summa"
   ]
  },
  {
   "cell_type": "code",
   "execution_count": 30,
   "metadata": {},
   "outputs": [],
   "source": [
    "data_train['rougher.input.feed.total'] = data_train.apply(total_concentrate_rougher_input,axis=1)\n",
    "\n",
    "data_train['rougher.output.concentrate.total'] = data_train.apply(total_concentrate_rougher,axis=1)\n",
    "data_train['rougher.output.tail.total'] = data_train.apply(total_concentrate_rougher_tail,axis=1)\n",
    "\n",
    "data_train['final.output.concentrate.total'] = data_train.apply(total_concentrate_final,axis=1)\n",
    "data_train['final.output.tail.total'] = data_train.apply(total_concentrate_final_tail,axis=1)"
   ]
  },
  {
   "cell_type": "code",
   "execution_count": 31,
   "metadata": {},
   "outputs": [
    {
     "data": {
      "image/png": "[encoded data removed]",
      "text/plain": [
       "<Figure size 432x288 with 1 Axes>"
      ]
     },
     "metadata": {
      "needs_background": "light"
     },
     "output_type": "display_data"
    }
   ],
   "source": [
    "data_train['rougher.input.feed.total'].hist()\n",
    "\n",
    "plt.legend(['Train'])\n",
    "plt.xlabel('Сырье')\n",
    "plt.ylabel('Сумм. концентрация всех веществ')\n",
    "plt.show()"
   ]
  },
  {
   "cell_type": "code",
   "execution_count": 32,
   "metadata": {},
   "outputs": [
    {
     "data": {
      "image/png": "[encoded data removed]",
      "text/plain": [
       "<Figure size 432x288 with 1 Axes>"
      ]
     },
     "metadata": {
      "needs_background": "light"
     },
     "output_type": "display_data"
    }
   ],
   "source": [
    "data_train['rougher.output.concentrate.total'].hist()\n",
    "\n",
    "plt.legend(['Train'])\n",
    "plt.xlabel('Флотация')\n",
    "plt.ylabel('Сумм. концентрация всех веществ')\n",
    "plt.show()"
   ]
  },
  {
   "cell_type": "code",
   "execution_count": 33,
   "metadata": {},
   "outputs": [
    {
     "data": {
      "image/png": "[encoded data removed]",
      "text/plain": [
       "<Figure size 432x288 with 1 Axes>"
      ]
     },
     "metadata": {
      "needs_background": "light"
     },
     "output_type": "display_data"
    }
   ],
   "source": [
    "data_train['rougher.output.tail.total'].hist()\n",
    "\n",
    "plt.legend(['Train'])\n",
    "plt.xlabel('Флотация(отвальные хвосты)')\n",
    "plt.ylabel('Сумм. концентрация всех веществ')\n",
    "plt.show()"
   ]
  },
  {
   "cell_type": "code",
   "execution_count": 34,
   "metadata": {},
   "outputs": [
    {
     "data": {
      "image/png": "[encoded data removed]",
      "text/plain": [
       "<Figure size 432x288 with 1 Axes>"
      ]
     },
     "metadata": {
      "needs_background": "light"
     },
     "output_type": "display_data"
    }
   ],
   "source": [
    "data_train['final.output.concentrate.total'].hist()\n",
    "\n",
    "plt.legend(['Train'])\n",
    "plt.xlabel('Финальный продукт')\n",
    "plt.ylabel('Сумм. концентрация всех веществ')\n",
    "plt.show()"
   ]
  },
  {
   "cell_type": "code",
   "execution_count": 35,
   "metadata": {},
   "outputs": [
    {
     "data": {
      "image/png": "[encoded data removed]",
      "text/plain": [
       "<Figure size 432x288 with 1 Axes>"
      ]
     },
     "metadata": {
      "needs_background": "light"
     },
     "output_type": "display_data"
    }
   ],
   "source": [
    "data_train['final.output.tail.total'].hist()\n",
    "\n",
    "plt.legend(['Train'])\n",
    "plt.xlabel('Финальный продукт(отвальные хвосты)')\n",
    "plt.ylabel('Сумм. концентрация всех веществ')\n",
    "plt.show()"
   ]
  },
  {
   "cell_type": "markdown",
   "metadata": {},
   "source": [
    "На каждом этапе видны выбросы, удалим их далее:"
   ]
  },
  {
   "cell_type": "markdown",
   "metadata": {},
   "source": [
    "Выбросы на этапе сырья:"
   ]
  },
  {
   "cell_type": "code",
   "execution_count": 36,
   "metadata": {},
   "outputs": [
    {
     "data": {
      "text/plain": [
       "<AxesSubplot:>"
      ]
     },
     "execution_count": 36,
     "metadata": {},
     "output_type": "execute_result"
    },
    {
     "data": {
      "image/png": "[encoded data removed]",
      "text/plain": [
       "<Figure size 432x288 with 1 Axes>"
      ]
     },
     "metadata": {
      "needs_background": "light"
     },
     "output_type": "display_data"
    }
   ],
   "source": [
    "data_train[data_train['rougher.input.feed.total']<=14]['rougher.input.feed.total'].hist()"
   ]
  },
  {
   "cell_type": "code",
   "execution_count": 37,
   "metadata": {},
   "outputs": [
    {
     "name": "stdout",
     "output_type": "stream",
     "text": [
      "Удалим (696,) строк\n"
     ]
    }
   ],
   "source": [
    "data_train_blowout_input = data_train[data_train['rougher.input.feed.total']<=14]['rougher.input.feed.total'].index\n",
    "print('Удалим', data_train_blowout_input.shape, 'строк')"
   ]
  },
  {
   "cell_type": "code",
   "execution_count": 38,
   "metadata": {},
   "outputs": [],
   "source": [
    "data_train = data_train.drop(data_train_blowout_input)"
   ]
  },
  {
   "cell_type": "markdown",
   "metadata": {},
   "source": [
    "Выбросы на этапе Флотация:"
   ]
  },
  {
   "cell_type": "code",
   "execution_count": 39,
   "metadata": {},
   "outputs": [
    {
     "data": {
      "text/plain": [
       "<AxesSubplot:>"
      ]
     },
     "execution_count": 39,
     "metadata": {},
     "output_type": "execute_result"
    },
    {
     "data": {
      "image/png": "[encoded data removed]",
      "text/plain": [
       "<Figure size 432x288 with 1 Axes>"
      ]
     },
     "metadata": {
      "needs_background": "light"
     },
     "output_type": "display_data"
    }
   ],
   "source": [
    "data_train[data_train['rougher.output.concentrate.total']<=28]['rougher.output.concentrate.total'].hist(bins=50)"
   ]
  },
  {
   "cell_type": "code",
   "execution_count": 40,
   "metadata": {},
   "outputs": [
    {
     "name": "stdout",
     "output_type": "stream",
     "text": [
      "Удалим (438,) строки\n"
     ]
    }
   ],
   "source": [
    "data_train_blowout_rougher = data_train[data_train['rougher.output.concentrate.total']<=28]['rougher.output.concentrate.total'].index\n",
    "print('Удалим', data_train_blowout_rougher.shape, 'строки')"
   ]
  },
  {
   "cell_type": "code",
   "execution_count": 41,
   "metadata": {},
   "outputs": [],
   "source": [
    "data_train = data_train.drop(data_train_blowout_rougher)"
   ]
  },
  {
   "cell_type": "markdown",
   "metadata": {},
   "source": [
    "Выбросы на финальном этапе:"
   ]
  },
  {
   "cell_type": "code",
   "execution_count": 42,
   "metadata": {},
   "outputs": [
    {
     "data": {
      "text/plain": [
       "<AxesSubplot:>"
      ]
     },
     "execution_count": 42,
     "metadata": {},
     "output_type": "execute_result"
    },
    {
     "data": {
      "image/png": "[encoded data removed]",
      "text/plain": [
       "<Figure size 432x288 with 1 Axes>"
      ]
     },
     "metadata": {
      "needs_background": "light"
     },
     "output_type": "display_data"
    }
   ],
   "source": [
    "data_train[data_train['final.output.concentrate.total']<=51]['final.output.concentrate.total'].hist()"
   ]
  },
  {
   "cell_type": "code",
   "execution_count": 43,
   "metadata": {},
   "outputs": [
    {
     "name": "stdout",
     "output_type": "stream",
     "text": [
      "Удалим (277,) строк\n"
     ]
    }
   ],
   "source": [
    "data_train_blowout_final = data_train[data_train['final.output.concentrate.total']<=51]['final.output.concentrate.total'].index\n",
    "print('Удалим', data_train_blowout_final.shape, 'строк')"
   ]
  },
  {
   "cell_type": "code",
   "execution_count": 44,
   "metadata": {},
   "outputs": [],
   "source": [
    "data_train = data_train.drop(data_train_blowout_final)"
   ]
  },
  {
   "cell_type": "code",
   "execution_count": 45,
   "metadata": {},
   "outputs": [
    {
     "data": {
      "text/plain": [
       "(12738, 91)"
      ]
     },
     "execution_count": 45,
     "metadata": {},
     "output_type": "execute_result"
    }
   ],
   "source": [
    "data_train.shape"
   ]
  },
  {
   "cell_type": "markdown",
   "metadata": {},
   "source": [
    "## Модель"
   ]
  },
  {
   "cell_type": "markdown",
   "metadata": {},
   "source": [
    "### Напишем функцию для вычисления итоговой sMAPE:"
   ]
  },
  {
   "cell_type": "markdown",
   "metadata": {},
   "source": [
    "Оставим одинаковое количество столбцов в обеих выборках:"
   ]
  },
  {
   "cell_type": "code",
   "execution_count": 46,
   "metadata": {},
   "outputs": [],
   "source": [
    "data_train = data_train[data_test_plus.columns]"
   ]
  },
  {
   "cell_type": "code",
   "execution_count": 47,
   "metadata": {
    "scrolled": true
   },
   "outputs": [
    {
     "data": {
      "text/plain": [
       "(12738, 54)"
      ]
     },
     "metadata": {},
     "output_type": "display_data"
    },
    {
     "data": {
      "text/plain": [
       "(5290, 54)"
      ]
     },
     "metadata": {},
     "output_type": "display_data"
    }
   ],
   "source": [
    "display(data_train.shape)\n",
    "display(data_test_plus.shape)"
   ]
  },
  {
   "cell_type": "code",
   "execution_count": 48,
   "metadata": {},
   "outputs": [],
   "source": [
    "feature_train_rougher = data_train.drop(['rougher.output.recovery'], axis=1) #признаки\n",
    "target_train_rougher = data_train['rougher.output.recovery'] #целевой признак\n",
    "\n",
    "feature_test_rougher = data_test_plus.drop(['rougher.output.recovery'], axis=1) #признаки\n",
    "target_test_rougher = data_test_plus['rougher.output.recovery'] #целевой признак\n",
    "\n",
    "feature_train_final = data_train.drop(['final.output.recovery'], axis=1) #признаки\n",
    "target_train_final = data_train['final.output.recovery'] #целевой признак\n",
    "\n",
    "feature_test_final = data_test_plus.drop(['final.output.recovery'], axis=1) #признаки\n",
    "target_test_final = data_test_plus['final.output.recovery'] #целевой признак"
   ]
  },
  {
   "cell_type": "code",
   "execution_count": 49,
   "metadata": {},
   "outputs": [],
   "source": [
    "def smape_(target,pred):\n",
    "    smape = 100/len(target) * np.sum(2 * np.abs(pred - target) / (np.abs(target) + np.abs(pred)))\n",
    "    return smape"
   ]
  },
  {
   "cell_type": "markdown",
   "metadata": {},
   "source": [
    "### Обучим разные модели и оценим их качество кросс-валидацией. Выберем лучшую модель и проверим её на тестовой выборке:"
   ]
  },
  {
   "cell_type": "markdown",
   "metadata": {},
   "source": [
    "#### Дерево решений в регрессии:"
   ]
  },
  {
   "cell_type": "code",
   "execution_count": 130,
   "metadata": {},
   "outputs": [
    {
     "data": {
      "text/plain": [
       "'Глубина дерева для лучшей модели:'"
      ]
     },
     "metadata": {},
     "output_type": "display_data"
    },
    {
     "data": {
      "text/plain": [
       "{'max_depth': 5}"
      ]
     },
     "metadata": {},
     "output_type": "display_data"
    },
    {
     "name": "stdout",
     "output_type": "stream",
     "text": [
      "CPU times: user 18.7 s, sys: 6 µs, total: 18.7 s\n",
      "Wall time: 19 s\n"
     ]
    }
   ],
   "source": [
    "%%time\n",
    "\n",
    "model_tree_rougher = DecisionTreeRegressor(random_state=12345)\n",
    "parametrs = {'max_depth': range (1,16, 2)}\n",
    "model_tree_rougher_grid = GridSearchCV(model_tree_rougher, parametrs, cv=5)\n",
    "model_tree_rougher_grid.fit(feature_train_rougher, target_train_rougher)\n",
    "\n",
    "display('Глубина дерева для лучшей модели:', model_tree_rougher_grid.best_params_)"
   ]
  },
  {
   "cell_type": "code",
   "execution_count": 131,
   "metadata": {},
   "outputs": [
    {
     "data": {
      "text/plain": [
       "'Глубина дерева для лучшей модели:'"
      ]
     },
     "metadata": {},
     "output_type": "display_data"
    },
    {
     "data": {
      "text/plain": [
       "{'max_depth': 3}"
      ]
     },
     "metadata": {},
     "output_type": "display_data"
    },
    {
     "name": "stdout",
     "output_type": "stream",
     "text": [
      "CPU times: user 20.5 s, sys: 20 ms, total: 20.5 s\n",
      "Wall time: 20.5 s\n"
     ]
    }
   ],
   "source": [
    "%%time\n",
    "\n",
    "model_tree_final = DecisionTreeRegressor(random_state=12345)\n",
    "parametrs = {'max_depth': range (1,16, 2)}\n",
    "model_tree_final_grid = GridSearchCV(model_tree_final, parametrs, cv=5)\n",
    "model_tree_final_grid.fit(feature_train_final, target_train_final)\n",
    "\n",
    "display('Глубина дерева для лучшей модели:', model_tree_final_grid.best_params_)"
   ]
  },
  {
   "cell_type": "code",
   "execution_count": 132,
   "metadata": {},
   "outputs": [
    {
     "name": "stdout",
     "output_type": "stream",
     "text": [
      "Оценка качества кросс-валидацией: [-0.2250082   0.42486752 -0.42305615  0.02625853 -0.75655841]\n",
      "sMAPE-флотация: 7.776747399274327\n"
     ]
    }
   ],
   "source": [
    "pred_tree_rougher = model_tree_rougher_grid.predict(feature_test_rougher)\n",
    "cros_val_tree_rougher = cross_val_score(model_tree_rougher_grid, feature_train_rougher, target_train_rougher, cv=5)\n",
    "smape_tree_rougher = smape_(target_test_rougher, pred_tree_rougher)\n",
    "\n",
    "print('Оценка качества кросс-валидацией:', cros_val_tree_rougher)\n",
    "print('sMAPE-флотация:', smape_tree_rougher)"
   ]
  },
  {
   "cell_type": "code",
   "execution_count": 133,
   "metadata": {},
   "outputs": [
    {
     "name": "stdout",
     "output_type": "stream",
     "text": [
      "Оценка качества кросс-валидацией: [0.39098826 0.29037846 0.2298093  0.40306654 0.11667778]\n",
      "sMAPE-финальный этап: 9.35416200055352\n"
     ]
    }
   ],
   "source": [
    "pred_tree_final = model_tree_final_grid.predict(feature_test_final)\n",
    "cros_val_tree_final = cross_val_score(model_tree_final_grid, feature_train_final, target_train_final, cv=5)\n",
    "smape_tree_final = smape_(target_test_final, pred_tree_final)\n",
    "\n",
    "print('Оценка качества кросс-валидацией:', cros_val_tree_final)\n",
    "print('sMAPE-финальный этап:', smape_tree_final)"
   ]
  },
  {
   "cell_type": "code",
   "execution_count": 134,
   "metadata": {},
   "outputs": [
    {
     "name": "stdout",
     "output_type": "stream",
     "text": [
      "Итоговая sMAPE: 8.959808350233722\n"
     ]
    }
   ],
   "source": [
    "total_smape = 0.25*smape_tree_rougher + 0.75*smape_tree_final\n",
    "\n",
    "print('Итоговая sMAPE:', total_smape)"
   ]
  },
  {
   "cell_type": "markdown",
   "metadata": {},
   "source": [
    "#### Случайный лес в регрессии:"
   ]
  },
  {
   "cell_type": "code",
   "execution_count": 68,
   "metadata": {},
   "outputs": [
    {
     "data": {
      "text/plain": [
       "'Глубина дерева и количество деревьев для лучшей модели:'"
      ]
     },
     "metadata": {},
     "output_type": "display_data"
    },
    {
     "data": {
      "text/plain": [
       "{'max_depth': 11, 'n_estimators': 80}"
      ]
     },
     "metadata": {},
     "output_type": "display_data"
    },
    {
     "name": "stdout",
     "output_type": "stream",
     "text": [
      "CPU times: user 1h 37min 33s, sys: 3.34 s, total: 1h 37min 37s\n",
      "Wall time: 1h 38min 57s\n"
     ]
    }
   ],
   "source": [
    "%%time\n",
    "\n",
    "model_forest_rougher = RandomForestRegressor(random_state=12345)\n",
    "parametrs = {'max_depth': range (1,16, 2), 'n_estimators': range(10, 100, 10)}\n",
    "model_forest_rougher_grid = GridSearchCV(model_forest_rougher, parametrs, cv=5)\n",
    "model_forest_rougher_grid.fit(feature_train_rougher, target_train_rougher)\n",
    "\n",
    "display('Глубина дерева и количество деревьев для лучшей модели:', model_forest_rougher_grid.best_params_)"
   ]
  },
  {
   "cell_type": "code",
   "execution_count": 69,
   "metadata": {},
   "outputs": [
    {
     "data": {
      "text/plain": [
       "'Глубина дерева и количество деревьев для лучшей модели:'"
      ]
     },
     "metadata": {},
     "output_type": "display_data"
    },
    {
     "data": {
      "text/plain": [
       "{'max_depth': 3, 'n_estimators': 90}"
      ]
     },
     "metadata": {},
     "output_type": "display_data"
    },
    {
     "name": "stdout",
     "output_type": "stream",
     "text": [
      "CPU times: user 1h 52min 9s, sys: 3.23 s, total: 1h 52min 12s\n",
      "Wall time: 1h 53min 51s\n"
     ]
    }
   ],
   "source": [
    "%%time\n",
    "\n",
    "model_forest_final = RandomForestRegressor(random_state=12345)\n",
    "parametrs = {'max_depth': range (1,16, 2), 'n_estimators': range(10, 100, 10)}\n",
    "model_forest_final_grid = GridSearchCV(model_forest_final, parametrs, cv=5)\n",
    "model_forest_final_grid.fit(feature_train_final, target_train_final)\n",
    "\n",
    "display('Глубина дерева и количество деревьев для лучшей модели:', model_forest_final_grid.best_params_)"
   ]
  },
  {
   "cell_type": "code",
   "execution_count": 70,
   "metadata": {},
   "outputs": [
    {
     "name": "stdout",
     "output_type": "stream",
     "text": [
      "Оценка качества кросс-валидацией: [ 0.22729737  0.52527477 -0.13822123  0.25213864 -0.75393968]\n",
      "sMAPE-флотация: 7.477519155512192\n",
      "CPU times: user 6h 2min 38s, sys: 7.72 s, total: 6h 2min 46s\n",
      "Wall time: 6h 6min 57s\n"
     ]
    }
   ],
   "source": [
    "%%time\n",
    "\n",
    "pred_forest_rougher = model_forest_rougher_grid.predict(feature_test_rougher)\n",
    "cros_val_forest_rougher = cross_val_score(model_forest_rougher_grid, feature_train_rougher, target_train_rougher, cv=5)\n",
    "smape_forest_rougher = smape_(target_test_rougher, pred_forest_rougher)\n",
    "\n",
    "print('Оценка качества кросс-валидацией:', cros_val_forest_rougher)\n",
    "print('sMAPE-флотация:', smape_forest_rougher)"
   ]
  },
  {
   "cell_type": "code",
   "execution_count": 71,
   "metadata": {},
   "outputs": [
    {
     "name": "stdout",
     "output_type": "stream",
     "text": [
      "Оценка качества кросс-валидацией: [0.44168715 0.21667112 0.27218584 0.42328802 0.20140615]\n",
      "sMAPE-финальный этап: 8.923135848444259\n",
      "CPU times: user 5h 40min 51s, sys: 8.6 s, total: 5h 41min\n",
      "Wall time: 5h 42min 15s\n"
     ]
    }
   ],
   "source": [
    "%%time\n",
    "\n",
    "pred_forest_final = model_forest_final_grid.predict(feature_test_final)\n",
    "cros_val_forest_final = cross_val_score(model_forest_final_grid, feature_train_final, target_train_final, cv=5)\n",
    "smape_forest_final = smape_(target_test_final, pred_forest_final)\n",
    "\n",
    "print('Оценка качества кросс-валидацией:', cros_val_forest_final)\n",
    "print('sMAPE-финальный этап:', smape_forest_final)"
   ]
  },
  {
   "cell_type": "code",
   "execution_count": 72,
   "metadata": {},
   "outputs": [
    {
     "name": "stdout",
     "output_type": "stream",
     "text": [
      "Итоговая sMAPE: 8.561731675211242\n"
     ]
    }
   ],
   "source": [
    "total_smape = 0.25*smape_forest_rougher + 0.75*smape_forest_final\n",
    "\n",
    "print('Итоговая sMAPE:', total_smape)"
   ]
  },
  {
   "cell_type": "markdown",
   "metadata": {},
   "source": [
    "#### Линейная регрессия:"
   ]
  },
  {
   "cell_type": "code",
   "execution_count": 76,
   "metadata": {},
   "outputs": [
    {
     "name": "stdout",
     "output_type": "stream",
     "text": [
      "Оценка качества кросс-валидацией: [ 0.23419054  0.50882074 -0.18357192  0.48247083 -0.63009255]\n",
      "sMAPE-флотация: 8.481868291629159\n"
     ]
    }
   ],
   "source": [
    "model_linreg_rougher = LinearRegression()\n",
    "model_linreg_rougher.fit(feature_train_rougher, target_train_rougher)\n",
    "pred_linreg_rougher = model_linreg_rougher.predict(feature_test_rougher)\n",
    "cros_val_linreg_rougher = cross_val_score(model_linreg_rougher, feature_train_rougher, target_train_rougher, cv=5)\n",
    "smape_linreg_rougher = smape_(target_test_rougher, pred_linreg_rougher)\n",
    "\n",
    "print('Оценка качества кросс-валидацией:', cros_val_linreg_rougher)\n",
    "print('sMAPE-флотация:', smape_linreg_rougher)"
   ]
  },
  {
   "cell_type": "code",
   "execution_count": 77,
   "metadata": {},
   "outputs": [
    {
     "name": "stdout",
     "output_type": "stream",
     "text": [
      "Оценка качества кросс-валидацией: [0.11864122 0.28112185 0.30324924 0.4882697  0.1099586 ]\n",
      "sMAPE-финальный этап: 11.24771747262039\n"
     ]
    }
   ],
   "source": [
    "model_linreg_final = LinearRegression()\n",
    "model_linreg_final.fit(feature_train_final, target_train_final)\n",
    "pred_linreg_final = model_linreg_final.predict(feature_test_final)\n",
    "cros_val_linreg_final = cross_val_score(model_linreg_final, feature_train_final, target_train_final, cv=5)\n",
    "smape_linreg_final = smape_(target_test_final, pred_linreg_final)\n",
    "\n",
    "print('Оценка качества кросс-валидацией:', cros_val_linreg_final)\n",
    "print('sMAPE-финальный этап:', smape_linreg_final)"
   ]
  },
  {
   "cell_type": "code",
   "execution_count": 78,
   "metadata": {},
   "outputs": [
    {
     "name": "stdout",
     "output_type": "stream",
     "text": [
      "Итоговая sMAPE: 10.55625517737258\n"
     ]
    }
   ],
   "source": [
    "total_smape = 0.25*smape_linreg_rougher + 0.75*smape_linreg_final\n",
    "\n",
    "print('Итоговая sMAPE:', total_smape)"
   ]
  },
  {
   "cell_type": "markdown",
   "metadata": {},
   "source": [
    "#### Модель - DummyRegressor:"
   ]
  },
  {
   "cell_type": "code",
   "execution_count": 50,
   "metadata": {},
   "outputs": [
    {
     "name": "stdout",
     "output_type": "stream",
     "text": [
      "Оценка качества кросс-валидацией: [-0.43122735 -0.16523116 -0.00371545 -0.06970461 -1.00717675]\n",
      "sMAPE-флотация: 8.782646809148407\n"
     ]
    }
   ],
   "source": [
    "model_const_rougher = DummyRegressor(strategy='constant', constant=target_test_rougher.mean())\n",
    "model_const_rougher.fit(feature_train_rougher, target_train_rougher)\n",
    "pred_const_rougher = model_const_rougher.predict(feature_test_rougher)\n",
    "cros_val_const_rougher = cross_val_score(model_const_rougher, feature_train_rougher, target_train_rougher, cv=5)\n",
    "smape_const_rougher = smape_(target_test_rougher, pred_const_rougher)\n",
    "\n",
    "print('Оценка качества кросс-валидацией:', cros_val_const_rougher)\n",
    "print('sMAPE-флотация:', smape_const_rougher)"
   ]
  },
  {
   "cell_type": "code",
   "execution_count": 51,
   "metadata": {},
   "outputs": [
    {
     "name": "stdout",
     "output_type": "stream",
     "text": [
      "Оценка качества кросс-валидацией: [-0.23583282 -0.04022188 -0.10058785 -0.0033548  -0.14035135]\n",
      "sMAPE-финальный этап: 9.370995594347834\n"
     ]
    }
   ],
   "source": [
    "model_const_final = DummyRegressor(strategy='constant', constant=target_test_final.mean())\n",
    "model_const_final.fit(feature_train_final, target_train_final)\n",
    "pred_const_final = model_const_final.predict(feature_test_final)\n",
    "cros_val_const_final = cross_val_score(model_const_final, feature_train_final, target_train_final, cv=5)\n",
    "smape_const_final = smape_(target_test_final, pred_const_final)\n",
    "\n",
    "print('Оценка качества кросс-валидацией:', cros_val_const_final)\n",
    "print('sMAPE-финальный этап:', smape_const_final)"
   ]
  },
  {
   "cell_type": "code",
   "execution_count": 52,
   "metadata": {},
   "outputs": [
    {
     "name": "stdout",
     "output_type": "stream",
     "text": [
      "Итоговая sMAPE: 9.223908398047978\n"
     ]
    }
   ],
   "source": [
    "total_smape = 0.25*smape_const_rougher + 0.75*smape_const_final\n",
    "\n",
    "print('Итоговая sMAPE:', total_smape)"
   ]
  },
  {
   "cell_type": "markdown",
   "metadata": {},
   "source": [
    "#### Вывод:\n",
    "\n",
    "Модель \"Случайный лес в регрессии\" показала лучший результат, точнее наименьшую функцию ошибки, которая равна 8.5. Тем временем как модель \"Дерево решений в регрессии\" показала результат = 8.9, а модель \"Линейная регрессия - 10.5. Когда исследовали суммарную концентрацию всех веществ, было выявлено достаточное количество выбросов. Компания \"Цифра\" может использовать модель \"Случайный лес в регрессии\" для эффективной работы промышленных предприятий. Модель поможет оптимизировать производство, чтобы не запускать предприятие с убыточными характеристиками."
   ]
  }
 ],
 "metadata": {
  "ExecuteTimeLog": [
   {
    "duration": 346,
    "start_time": "2022-04-18T12:22:38.242Z"
   },
   {
    "duration": 738,
    "start_time": "2022-04-18T12:30:52.491Z"
   },
   {
    "duration": 721,
    "start_time": "2022-04-18T12:31:14.250Z"
   },
   {
    "duration": 1325,
    "start_time": "2022-04-18T12:35:45.524Z"
   },
   {
    "duration": 3,
    "start_time": "2022-04-18T12:40:40.486Z"
   },
   {
    "duration": 1902,
    "start_time": "2022-04-18T12:40:40.491Z"
   },
   {
    "duration": 28,
    "start_time": "2022-04-18T12:42:00.833Z"
   },
   {
    "duration": 223,
    "start_time": "2022-04-18T12:47:11.113Z"
   },
   {
    "duration": 2,
    "start_time": "2022-04-18T12:47:22.045Z"
   },
   {
    "duration": 1208,
    "start_time": "2022-04-18T12:47:22.049Z"
   },
   {
    "duration": 20,
    "start_time": "2022-04-18T12:47:23.258Z"
   },
   {
    "duration": 260,
    "start_time": "2022-04-18T12:47:23.280Z"
   },
   {
    "duration": 222,
    "start_time": "2022-04-18T13:12:38.043Z"
   },
   {
    "duration": 215,
    "start_time": "2022-04-18T13:13:24.998Z"
   },
   {
    "duration": 209,
    "start_time": "2022-04-18T13:14:00.837Z"
   },
   {
    "duration": 3,
    "start_time": "2022-04-18T13:30:07.350Z"
   },
   {
    "duration": 230,
    "start_time": "2022-04-18T13:32:41.319Z"
   },
   {
    "duration": 69,
    "start_time": "2022-04-18T13:35:26.948Z"
   },
   {
    "duration": 4,
    "start_time": "2022-04-18T13:35:45.138Z"
   },
   {
    "duration": 234,
    "start_time": "2022-04-18T13:35:45.613Z"
   },
   {
    "duration": 10,
    "start_time": "2022-04-18T13:35:46.014Z"
   },
   {
    "duration": 3,
    "start_time": "2022-04-18T13:36:53.960Z"
   },
   {
    "duration": 11,
    "start_time": "2022-04-18T13:36:54.472Z"
   },
   {
    "duration": 2,
    "start_time": "2022-04-18T13:37:00.388Z"
   },
   {
    "duration": 1115,
    "start_time": "2022-04-18T13:37:00.392Z"
   },
   {
    "duration": 18,
    "start_time": "2022-04-18T13:37:01.508Z"
   },
   {
    "duration": 231,
    "start_time": "2022-04-18T13:37:01.528Z"
   },
   {
    "duration": 3,
    "start_time": "2022-04-18T13:37:01.762Z"
   },
   {
    "duration": 18,
    "start_time": "2022-04-18T13:37:01.766Z"
   },
   {
    "duration": 251,
    "start_time": "2022-04-18T13:37:01.786Z"
   },
   {
    "duration": 3,
    "start_time": "2022-04-18T13:37:02.039Z"
   },
   {
    "duration": 30,
    "start_time": "2022-04-18T13:37:02.044Z"
   },
   {
    "duration": 781,
    "start_time": "2022-04-18T13:38:10.880Z"
   },
   {
    "duration": 3,
    "start_time": "2022-04-18T13:38:12.024Z"
   },
   {
    "duration": 262,
    "start_time": "2022-04-18T13:38:33.630Z"
   },
   {
    "duration": 4,
    "start_time": "2022-04-18T13:38:34.262Z"
   },
   {
    "duration": 10,
    "start_time": "2022-04-18T13:38:37.183Z"
   },
   {
    "duration": 16,
    "start_time": "2022-04-18T13:42:48.011Z"
   },
   {
    "duration": 2,
    "start_time": "2022-04-18T13:42:58.304Z"
   },
   {
    "duration": 1135,
    "start_time": "2022-04-18T13:42:58.309Z"
   },
   {
    "duration": 17,
    "start_time": "2022-04-18T13:42:59.445Z"
   },
   {
    "duration": 223,
    "start_time": "2022-04-18T13:42:59.463Z"
   },
   {
    "duration": 13,
    "start_time": "2022-04-18T13:42:59.688Z"
   },
   {
    "duration": 5,
    "start_time": "2022-04-18T13:42:59.702Z"
   },
   {
    "duration": 15,
    "start_time": "2022-04-18T13:42:59.708Z"
   },
   {
    "duration": 0,
    "start_time": "2022-04-18T13:42:59.725Z"
   },
   {
    "duration": 0,
    "start_time": "2022-04-18T13:42:59.726Z"
   },
   {
    "duration": 2,
    "start_time": "2022-04-18T17:35:19.787Z"
   },
   {
    "duration": 7659,
    "start_time": "2022-04-18T17:35:19.791Z"
   },
   {
    "duration": 17,
    "start_time": "2022-04-18T17:35:27.451Z"
   },
   {
    "duration": 211,
    "start_time": "2022-04-18T17:35:27.469Z"
   },
   {
    "duration": 2,
    "start_time": "2022-04-18T17:35:27.681Z"
   },
   {
    "duration": 15,
    "start_time": "2022-04-18T17:35:27.685Z"
   },
   {
    "duration": 15,
    "start_time": "2022-04-18T17:35:27.702Z"
   },
   {
    "duration": 0,
    "start_time": "2022-04-18T17:35:27.718Z"
   },
   {
    "duration": 0,
    "start_time": "2022-04-18T17:35:27.720Z"
   },
   {
    "duration": 234,
    "start_time": "2022-04-18T17:36:25.510Z"
   },
   {
    "duration": 3,
    "start_time": "2022-04-18T17:36:28.374Z"
   },
   {
    "duration": 14,
    "start_time": "2022-04-18T17:36:29.530Z"
   },
   {
    "duration": 2,
    "start_time": "2022-04-18T17:44:18.574Z"
   },
   {
    "duration": 1178,
    "start_time": "2022-04-18T17:44:18.578Z"
   },
   {
    "duration": 16,
    "start_time": "2022-04-18T17:44:19.757Z"
   },
   {
    "duration": 217,
    "start_time": "2022-04-18T17:44:19.774Z"
   },
   {
    "duration": 2,
    "start_time": "2022-04-18T17:44:20.000Z"
   },
   {
    "duration": 19,
    "start_time": "2022-04-18T17:44:20.004Z"
   },
   {
    "duration": 195,
    "start_time": "2022-04-18T17:44:20.024Z"
   },
   {
    "duration": 3,
    "start_time": "2022-04-18T17:44:20.221Z"
   },
   {
    "duration": 3288,
    "start_time": "2022-04-18T17:44:20.225Z"
   },
   {
    "duration": 3,
    "start_time": "2022-04-18T17:46:44.903Z"
   },
   {
    "duration": 1197,
    "start_time": "2022-04-18T17:46:44.907Z"
   },
   {
    "duration": 17,
    "start_time": "2022-04-18T17:46:46.106Z"
   },
   {
    "duration": 218,
    "start_time": "2022-04-18T17:46:46.124Z"
   },
   {
    "duration": 2,
    "start_time": "2022-04-18T17:46:46.344Z"
   },
   {
    "duration": 7,
    "start_time": "2022-04-18T17:46:46.348Z"
   },
   {
    "duration": 251,
    "start_time": "2022-04-18T17:46:46.356Z"
   },
   {
    "duration": 3,
    "start_time": "2022-04-18T17:46:46.608Z"
   },
   {
    "duration": 3844,
    "start_time": "2022-04-18T17:46:46.613Z"
   },
   {
    "duration": 3965,
    "start_time": "2022-04-18T17:50:54.048Z"
   },
   {
    "duration": 392,
    "start_time": "2022-04-19T09:30:07.937Z"
   },
   {
    "duration": 1360,
    "start_time": "2022-04-19T09:30:08.331Z"
   },
   {
    "duration": 28,
    "start_time": "2022-04-19T09:30:09.693Z"
   },
   {
    "duration": 241,
    "start_time": "2022-04-19T09:30:09.724Z"
   },
   {
    "duration": 2,
    "start_time": "2022-04-19T09:30:09.968Z"
   },
   {
    "duration": 5,
    "start_time": "2022-04-19T09:30:09.972Z"
   },
   {
    "duration": 241,
    "start_time": "2022-04-19T09:30:09.979Z"
   },
   {
    "duration": 4,
    "start_time": "2022-04-19T09:30:10.222Z"
   },
   {
    "duration": 1496,
    "start_time": "2022-04-19T09:30:10.228Z"
   },
   {
    "duration": 4,
    "start_time": "2022-04-19T09:31:02.302Z"
   },
   {
    "duration": 254,
    "start_time": "2022-04-19T09:31:02.831Z"
   },
   {
    "duration": 4,
    "start_time": "2022-04-19T09:31:04.153Z"
   },
   {
    "duration": 1305,
    "start_time": "2022-04-19T09:31:05.536Z"
   },
   {
    "duration": 214,
    "start_time": "2022-04-19T09:31:31.032Z"
   },
   {
    "duration": 3,
    "start_time": "2022-04-19T09:31:32.299Z"
   },
   {
    "duration": 1347,
    "start_time": "2022-04-19T09:31:32.812Z"
   },
   {
    "duration": 90,
    "start_time": "2022-04-19T09:32:28.738Z"
   },
   {
    "duration": 13,
    "start_time": "2022-04-19T09:33:22.526Z"
   },
   {
    "duration": 3,
    "start_time": "2022-04-19T10:38:50.827Z"
   },
   {
    "duration": 1256,
    "start_time": "2022-04-19T10:38:50.834Z"
   },
   {
    "duration": 26,
    "start_time": "2022-04-19T10:38:52.092Z"
   },
   {
    "duration": 2,
    "start_time": "2022-04-19T10:38:52.120Z"
   },
   {
    "duration": 221,
    "start_time": "2022-04-19T10:38:52.124Z"
   },
   {
    "duration": 22,
    "start_time": "2022-04-19T10:38:52.347Z"
   },
   {
    "duration": 2,
    "start_time": "2022-04-19T10:38:52.370Z"
   },
   {
    "duration": 9,
    "start_time": "2022-04-19T10:38:52.374Z"
   },
   {
    "duration": 176,
    "start_time": "2022-04-19T10:38:52.384Z"
   },
   {
    "duration": 3,
    "start_time": "2022-04-19T10:38:52.561Z"
   },
   {
    "duration": 24,
    "start_time": "2022-04-19T10:38:52.566Z"
   },
   {
    "duration": 1215,
    "start_time": "2022-04-19T10:39:39.460Z"
   },
   {
    "duration": 14,
    "start_time": "2022-04-19T10:39:58.798Z"
   },
   {
    "duration": 1598,
    "start_time": "2022-04-19T10:45:23.692Z"
   },
   {
    "duration": 2,
    "start_time": "2022-04-19T10:46:04.648Z"
   },
   {
    "duration": 7,
    "start_time": "2022-04-19T10:47:01.957Z"
   },
   {
    "duration": 645,
    "start_time": "2022-04-19T10:47:06.359Z"
   },
   {
    "duration": 1202,
    "start_time": "2022-04-19T10:47:07.006Z"
   },
   {
    "duration": 17,
    "start_time": "2022-04-19T10:47:08.209Z"
   },
   {
    "duration": 2,
    "start_time": "2022-04-19T10:47:08.228Z"
   },
   {
    "duration": 230,
    "start_time": "2022-04-19T10:47:08.231Z"
   },
   {
    "duration": 16,
    "start_time": "2022-04-19T10:47:08.463Z"
   },
   {
    "duration": 2,
    "start_time": "2022-04-19T10:47:08.481Z"
   },
   {
    "duration": 23,
    "start_time": "2022-04-19T10:47:08.484Z"
   },
   {
    "duration": 7,
    "start_time": "2022-04-19T10:47:08.509Z"
   },
   {
    "duration": 4,
    "start_time": "2022-04-19T10:47:08.518Z"
   },
   {
    "duration": 47,
    "start_time": "2022-04-19T10:47:08.524Z"
   },
   {
    "duration": 8,
    "start_time": "2022-04-19T10:48:31.448Z"
   },
   {
    "duration": 3,
    "start_time": "2022-04-19T10:48:36.934Z"
   },
   {
    "duration": 2,
    "start_time": "2022-04-19T10:48:38.677Z"
   },
   {
    "duration": 2,
    "start_time": "2022-04-19T10:48:39.165Z"
   },
   {
    "duration": 10,
    "start_time": "2022-04-19T10:48:39.585Z"
   },
   {
    "duration": 3,
    "start_time": "2022-04-19T10:48:52.874Z"
   },
   {
    "duration": 1253,
    "start_time": "2022-04-19T10:48:52.879Z"
   },
   {
    "duration": 19,
    "start_time": "2022-04-19T10:48:54.135Z"
   },
   {
    "duration": 2,
    "start_time": "2022-04-19T10:48:54.156Z"
   },
   {
    "duration": 226,
    "start_time": "2022-04-19T10:48:54.161Z"
   },
   {
    "duration": 31,
    "start_time": "2022-04-19T10:48:54.389Z"
   },
   {
    "duration": 2,
    "start_time": "2022-04-19T10:48:54.422Z"
   },
   {
    "duration": 9,
    "start_time": "2022-04-19T10:48:54.426Z"
   },
   {
    "duration": 9,
    "start_time": "2022-04-19T10:48:54.437Z"
   },
   {
    "duration": 5,
    "start_time": "2022-04-19T10:48:54.448Z"
   },
   {
    "duration": 12,
    "start_time": "2022-04-19T10:48:54.455Z"
   },
   {
    "duration": 13,
    "start_time": "2022-04-19T10:51:01.635Z"
   },
   {
    "duration": 10,
    "start_time": "2022-04-19T10:51:31.314Z"
   },
   {
    "duration": 5,
    "start_time": "2022-04-19T10:52:09.768Z"
   },
   {
    "duration": 3,
    "start_time": "2022-04-19T10:52:11.086Z"
   },
   {
    "duration": 2,
    "start_time": "2022-04-19T10:52:11.596Z"
   },
   {
    "duration": 6,
    "start_time": "2022-04-19T10:52:12.209Z"
   },
   {
    "duration": 3,
    "start_time": "2022-04-19T10:53:33.459Z"
   },
   {
    "duration": 1353,
    "start_time": "2022-04-19T10:53:33.464Z"
   },
   {
    "duration": 18,
    "start_time": "2022-04-19T10:53:34.819Z"
   },
   {
    "duration": 2,
    "start_time": "2022-04-19T10:53:34.839Z"
   },
   {
    "duration": 228,
    "start_time": "2022-04-19T10:53:34.843Z"
   },
   {
    "duration": 20,
    "start_time": "2022-04-19T10:53:35.073Z"
   },
   {
    "duration": 3,
    "start_time": "2022-04-19T10:53:35.106Z"
   },
   {
    "duration": 16,
    "start_time": "2022-04-19T10:53:35.110Z"
   },
   {
    "duration": 8,
    "start_time": "2022-04-19T10:53:35.128Z"
   },
   {
    "duration": 9,
    "start_time": "2022-04-19T10:53:35.137Z"
   },
   {
    "duration": 10,
    "start_time": "2022-04-19T10:53:35.149Z"
   },
   {
    "duration": 63,
    "start_time": "2022-04-19T10:54:17.646Z"
   },
   {
    "duration": 7,
    "start_time": "2022-04-19T10:54:21.988Z"
   },
   {
    "duration": 6,
    "start_time": "2022-04-19T10:54:29.238Z"
   },
   {
    "duration": 7,
    "start_time": "2022-04-19T10:56:24.151Z"
   },
   {
    "duration": 11,
    "start_time": "2022-04-19T10:58:57.117Z"
   },
   {
    "duration": 14,
    "start_time": "2022-04-19T10:59:26.549Z"
   },
   {
    "duration": 15,
    "start_time": "2022-04-19T11:26:16.681Z"
   },
   {
    "duration": 3,
    "start_time": "2022-04-19T11:26:28.702Z"
   },
   {
    "duration": 1267,
    "start_time": "2022-04-19T11:26:28.706Z"
   },
   {
    "duration": 17,
    "start_time": "2022-04-19T11:26:29.975Z"
   },
   {
    "duration": 3,
    "start_time": "2022-04-19T11:26:30.007Z"
   },
   {
    "duration": 221,
    "start_time": "2022-04-19T11:26:30.011Z"
   },
   {
    "duration": 20,
    "start_time": "2022-04-19T11:26:30.234Z"
   },
   {
    "duration": 13,
    "start_time": "2022-04-19T11:26:30.256Z"
   },
   {
    "duration": 4,
    "start_time": "2022-04-19T11:26:30.271Z"
   },
   {
    "duration": 30,
    "start_time": "2022-04-19T11:26:30.277Z"
   },
   {
    "duration": 8,
    "start_time": "2022-04-19T11:26:30.309Z"
   },
   {
    "duration": 8,
    "start_time": "2022-04-19T11:26:30.319Z"
   },
   {
    "duration": 16,
    "start_time": "2022-04-19T11:26:30.329Z"
   },
   {
    "duration": 27,
    "start_time": "2022-04-19T11:26:30.347Z"
   },
   {
    "duration": 12,
    "start_time": "2022-04-19T11:28:08.952Z"
   },
   {
    "duration": 1353,
    "start_time": "2022-04-19T11:28:46.439Z"
   },
   {
    "duration": 24,
    "start_time": "2022-04-19T11:54:14.564Z"
   },
   {
    "duration": 958,
    "start_time": "2022-04-19T11:54:58.285Z"
   },
   {
    "duration": 25,
    "start_time": "2022-04-19T11:55:04.884Z"
   },
   {
    "duration": 5,
    "start_time": "2022-04-19T11:55:28.337Z"
   },
   {
    "duration": 4,
    "start_time": "2022-04-19T11:56:21.016Z"
   },
   {
    "duration": 3,
    "start_time": "2022-04-19T11:57:08.652Z"
   },
   {
    "duration": 1248,
    "start_time": "2022-04-19T11:57:08.659Z"
   },
   {
    "duration": 17,
    "start_time": "2022-04-19T11:57:09.909Z"
   },
   {
    "duration": 3,
    "start_time": "2022-04-19T11:57:09.927Z"
   },
   {
    "duration": 226,
    "start_time": "2022-04-19T11:57:09.931Z"
   },
   {
    "duration": 2,
    "start_time": "2022-04-19T11:57:10.160Z"
   },
   {
    "duration": 7,
    "start_time": "2022-04-19T11:57:10.164Z"
   },
   {
    "duration": 5,
    "start_time": "2022-04-19T11:57:10.173Z"
   },
   {
    "duration": 7,
    "start_time": "2022-04-19T11:57:10.179Z"
   },
   {
    "duration": 3,
    "start_time": "2022-04-19T11:57:10.187Z"
   },
   {
    "duration": 2,
    "start_time": "2022-04-19T11:57:10.207Z"
   },
   {
    "duration": 8,
    "start_time": "2022-04-19T11:57:10.211Z"
   },
   {
    "duration": 6,
    "start_time": "2022-04-19T11:57:10.220Z"
   },
   {
    "duration": 6,
    "start_time": "2022-04-19T11:57:10.227Z"
   },
   {
    "duration": 4,
    "start_time": "2022-04-19T11:57:10.235Z"
   },
   {
    "duration": 15,
    "start_time": "2022-04-19T11:58:11.143Z"
   },
   {
    "duration": 3,
    "start_time": "2022-04-19T11:58:51.700Z"
   },
   {
    "duration": 1287,
    "start_time": "2022-04-19T11:58:51.705Z"
   },
   {
    "duration": 25,
    "start_time": "2022-04-19T11:58:52.994Z"
   },
   {
    "duration": 238,
    "start_time": "2022-04-19T11:58:53.020Z"
   },
   {
    "duration": 2,
    "start_time": "2022-04-19T11:58:53.260Z"
   },
   {
    "duration": 5,
    "start_time": "2022-04-19T11:58:53.264Z"
   },
   {
    "duration": 5,
    "start_time": "2022-04-19T11:58:53.270Z"
   },
   {
    "duration": 8,
    "start_time": "2022-04-19T11:58:53.277Z"
   },
   {
    "duration": 20,
    "start_time": "2022-04-19T11:58:53.287Z"
   },
   {
    "duration": 2,
    "start_time": "2022-04-19T11:58:53.309Z"
   },
   {
    "duration": 8,
    "start_time": "2022-04-19T11:58:53.313Z"
   },
   {
    "duration": 9,
    "start_time": "2022-04-19T11:58:53.322Z"
   },
   {
    "duration": 10,
    "start_time": "2022-04-19T11:58:53.333Z"
   },
   {
    "duration": 6,
    "start_time": "2022-04-19T11:58:53.344Z"
   },
   {
    "duration": 38,
    "start_time": "2022-04-19T12:02:52.905Z"
   },
   {
    "duration": 11,
    "start_time": "2022-04-19T12:03:20.521Z"
   },
   {
    "duration": 5,
    "start_time": "2022-04-19T12:14:10.576Z"
   },
   {
    "duration": 3,
    "start_time": "2022-04-19T12:14:27.148Z"
   },
   {
    "duration": 1214,
    "start_time": "2022-04-19T12:14:27.153Z"
   },
   {
    "duration": 15,
    "start_time": "2022-04-19T12:14:28.368Z"
   },
   {
    "duration": 229,
    "start_time": "2022-04-19T12:14:28.385Z"
   },
   {
    "duration": 2,
    "start_time": "2022-04-19T12:14:28.616Z"
   },
   {
    "duration": 4,
    "start_time": "2022-04-19T12:14:28.620Z"
   },
   {
    "duration": 5,
    "start_time": "2022-04-19T12:14:28.625Z"
   },
   {
    "duration": 6,
    "start_time": "2022-04-19T12:14:28.632Z"
   },
   {
    "duration": 3,
    "start_time": "2022-04-19T12:14:28.640Z"
   },
   {
    "duration": 6,
    "start_time": "2022-04-19T12:14:28.644Z"
   },
   {
    "duration": 8,
    "start_time": "2022-04-19T12:14:28.652Z"
   },
   {
    "duration": 9,
    "start_time": "2022-04-19T12:14:28.661Z"
   },
   {
    "duration": 40,
    "start_time": "2022-04-19T12:14:28.672Z"
   },
   {
    "duration": 4,
    "start_time": "2022-04-19T12:14:28.713Z"
   },
   {
    "duration": 37,
    "start_time": "2022-04-19T12:14:28.718Z"
   },
   {
    "duration": 10,
    "start_time": "2022-04-19T12:14:28.756Z"
   },
   {
    "duration": 5,
    "start_time": "2022-04-19T12:14:28.767Z"
   },
   {
    "duration": 3,
    "start_time": "2022-04-19T12:15:44.799Z"
   },
   {
    "duration": 1172,
    "start_time": "2022-04-19T12:15:44.806Z"
   },
   {
    "duration": 13,
    "start_time": "2022-04-19T12:15:45.980Z"
   },
   {
    "duration": 209,
    "start_time": "2022-04-19T12:15:46.007Z"
   },
   {
    "duration": 3,
    "start_time": "2022-04-19T12:15:46.217Z"
   },
   {
    "duration": 6,
    "start_time": "2022-04-19T12:15:46.222Z"
   },
   {
    "duration": 4,
    "start_time": "2022-04-19T12:15:46.229Z"
   },
   {
    "duration": 6,
    "start_time": "2022-04-19T12:15:46.234Z"
   },
   {
    "duration": 2,
    "start_time": "2022-04-19T12:15:46.242Z"
   },
   {
    "duration": 4,
    "start_time": "2022-04-19T12:15:46.245Z"
   },
   {
    "duration": 7,
    "start_time": "2022-04-19T12:15:46.251Z"
   },
   {
    "duration": 7,
    "start_time": "2022-04-19T12:15:46.259Z"
   },
   {
    "duration": 40,
    "start_time": "2022-04-19T12:15:46.267Z"
   },
   {
    "duration": 4,
    "start_time": "2022-04-19T12:15:46.309Z"
   },
   {
    "duration": 35,
    "start_time": "2022-04-19T12:15:46.315Z"
   },
   {
    "duration": 9,
    "start_time": "2022-04-19T12:15:46.352Z"
   },
   {
    "duration": 1037,
    "start_time": "2022-04-20T07:22:45.889Z"
   },
   {
    "duration": 1155,
    "start_time": "2022-04-20T07:22:46.928Z"
   },
   {
    "duration": 13,
    "start_time": "2022-04-20T07:22:48.084Z"
   },
   {
    "duration": 215,
    "start_time": "2022-04-20T07:22:48.099Z"
   },
   {
    "duration": 2,
    "start_time": "2022-04-20T07:22:48.315Z"
   },
   {
    "duration": 6,
    "start_time": "2022-04-20T07:22:48.319Z"
   },
   {
    "duration": 6,
    "start_time": "2022-04-20T07:22:48.327Z"
   },
   {
    "duration": 16,
    "start_time": "2022-04-20T07:22:48.334Z"
   },
   {
    "duration": 2,
    "start_time": "2022-04-20T07:22:48.351Z"
   },
   {
    "duration": 4,
    "start_time": "2022-04-20T07:22:48.355Z"
   },
   {
    "duration": 6,
    "start_time": "2022-04-20T07:22:48.360Z"
   },
   {
    "duration": 6,
    "start_time": "2022-04-20T07:22:48.367Z"
   },
   {
    "duration": 6,
    "start_time": "2022-04-20T07:22:48.374Z"
   },
   {
    "duration": 4,
    "start_time": "2022-04-20T07:22:48.381Z"
   },
   {
    "duration": 61,
    "start_time": "2022-04-20T07:22:48.386Z"
   },
   {
    "duration": 10,
    "start_time": "2022-04-20T07:22:48.449Z"
   },
   {
    "duration": 3,
    "start_time": "2022-04-20T07:38:55.313Z"
   },
   {
    "duration": 1118,
    "start_time": "2022-04-20T07:38:55.317Z"
   },
   {
    "duration": 21,
    "start_time": "2022-04-20T07:38:56.436Z"
   },
   {
    "duration": 204,
    "start_time": "2022-04-20T07:38:56.459Z"
   },
   {
    "duration": 2,
    "start_time": "2022-04-20T07:38:56.665Z"
   },
   {
    "duration": 5,
    "start_time": "2022-04-20T07:38:56.668Z"
   },
   {
    "duration": 4,
    "start_time": "2022-04-20T07:38:56.674Z"
   },
   {
    "duration": 5,
    "start_time": "2022-04-20T07:38:56.680Z"
   },
   {
    "duration": 3,
    "start_time": "2022-04-20T07:38:56.687Z"
   },
   {
    "duration": 5,
    "start_time": "2022-04-20T07:38:56.691Z"
   },
   {
    "duration": 8,
    "start_time": "2022-04-20T07:38:56.697Z"
   },
   {
    "duration": 5,
    "start_time": "2022-04-20T07:38:56.706Z"
   },
   {
    "duration": 36,
    "start_time": "2022-04-20T07:38:56.712Z"
   },
   {
    "duration": 2,
    "start_time": "2022-04-20T07:38:56.751Z"
   },
   {
    "duration": 34,
    "start_time": "2022-04-20T07:38:56.755Z"
   },
   {
    "duration": 9,
    "start_time": "2022-04-20T07:38:56.790Z"
   },
   {
    "duration": 96,
    "start_time": "2022-04-20T07:38:56.800Z"
   },
   {
    "duration": 2,
    "start_time": "2022-04-20T07:39:15.181Z"
   },
   {
    "duration": 1209,
    "start_time": "2022-04-20T07:39:15.185Z"
   },
   {
    "duration": 13,
    "start_time": "2022-04-20T07:39:16.396Z"
   },
   {
    "duration": 225,
    "start_time": "2022-04-20T07:39:16.410Z"
   },
   {
    "duration": 10,
    "start_time": "2022-04-20T07:39:16.637Z"
   },
   {
    "duration": 5,
    "start_time": "2022-04-20T07:39:16.649Z"
   },
   {
    "duration": 5,
    "start_time": "2022-04-20T07:39:16.655Z"
   },
   {
    "duration": 6,
    "start_time": "2022-04-20T07:39:16.661Z"
   },
   {
    "duration": 2,
    "start_time": "2022-04-20T07:39:16.669Z"
   },
   {
    "duration": 4,
    "start_time": "2022-04-20T07:39:16.673Z"
   },
   {
    "duration": 6,
    "start_time": "2022-04-20T07:39:16.679Z"
   },
   {
    "duration": 7,
    "start_time": "2022-04-20T07:39:16.686Z"
   },
   {
    "duration": 7,
    "start_time": "2022-04-20T07:39:16.694Z"
   },
   {
    "duration": 4,
    "start_time": "2022-04-20T07:39:16.703Z"
   },
   {
    "duration": 32,
    "start_time": "2022-04-20T07:39:16.749Z"
   },
   {
    "duration": 11,
    "start_time": "2022-04-20T07:39:16.783Z"
   },
   {
    "duration": 5,
    "start_time": "2022-04-20T07:39:16.796Z"
   },
   {
    "duration": 84,
    "start_time": "2022-04-20T07:41:48.321Z"
   },
   {
    "duration": 2,
    "start_time": "2022-04-20T07:41:53.923Z"
   },
   {
    "duration": 1111,
    "start_time": "2022-04-20T07:41:53.929Z"
   },
   {
    "duration": 18,
    "start_time": "2022-04-20T07:41:55.041Z"
   },
   {
    "duration": 202,
    "start_time": "2022-04-20T07:41:55.061Z"
   },
   {
    "duration": 2,
    "start_time": "2022-04-20T07:41:55.265Z"
   },
   {
    "duration": 8,
    "start_time": "2022-04-20T07:41:55.268Z"
   },
   {
    "duration": 4,
    "start_time": "2022-04-20T07:41:55.278Z"
   },
   {
    "duration": 6,
    "start_time": "2022-04-20T07:41:55.283Z"
   },
   {
    "duration": 3,
    "start_time": "2022-04-20T07:41:55.290Z"
   },
   {
    "duration": 4,
    "start_time": "2022-04-20T07:41:55.295Z"
   },
   {
    "duration": 5,
    "start_time": "2022-04-20T07:41:55.301Z"
   },
   {
    "duration": 6,
    "start_time": "2022-04-20T07:41:55.307Z"
   },
   {
    "duration": 35,
    "start_time": "2022-04-20T07:41:55.315Z"
   },
   {
    "duration": 3,
    "start_time": "2022-04-20T07:41:55.352Z"
   },
   {
    "duration": 33,
    "start_time": "2022-04-20T07:41:55.357Z"
   },
   {
    "duration": 8,
    "start_time": "2022-04-20T07:41:55.392Z"
   },
   {
    "duration": 5,
    "start_time": "2022-04-20T07:41:55.402Z"
   },
   {
    "duration": 7,
    "start_time": "2022-04-20T07:41:55.408Z"
   },
   {
    "duration": 33,
    "start_time": "2022-04-20T07:41:55.417Z"
   },
   {
    "duration": 4,
    "start_time": "2022-04-20T07:51:47.850Z"
   },
   {
    "duration": 493,
    "start_time": "2022-04-20T07:52:34.213Z"
   },
   {
    "duration": 1188,
    "start_time": "2022-04-20T07:52:34.708Z"
   },
   {
    "duration": 15,
    "start_time": "2022-04-20T07:52:35.898Z"
   },
   {
    "duration": 219,
    "start_time": "2022-04-20T07:52:35.914Z"
   },
   {
    "duration": 2,
    "start_time": "2022-04-20T07:52:36.135Z"
   },
   {
    "duration": 3,
    "start_time": "2022-04-20T07:52:36.150Z"
   },
   {
    "duration": 13,
    "start_time": "2022-04-20T07:52:36.155Z"
   },
   {
    "duration": 9,
    "start_time": "2022-04-20T07:52:36.169Z"
   },
   {
    "duration": 4,
    "start_time": "2022-04-20T07:52:36.180Z"
   },
   {
    "duration": 5,
    "start_time": "2022-04-20T07:52:36.185Z"
   },
   {
    "duration": 6,
    "start_time": "2022-04-20T07:52:36.191Z"
   },
   {
    "duration": 9,
    "start_time": "2022-04-20T07:52:36.198Z"
   },
   {
    "duration": 8,
    "start_time": "2022-04-20T07:52:36.208Z"
   },
   {
    "duration": 7,
    "start_time": "2022-04-20T07:52:36.218Z"
   },
   {
    "duration": 56,
    "start_time": "2022-04-20T07:52:36.227Z"
   },
   {
    "duration": 9,
    "start_time": "2022-04-20T07:52:36.284Z"
   },
   {
    "duration": 5,
    "start_time": "2022-04-20T07:52:36.294Z"
   },
   {
    "duration": 5,
    "start_time": "2022-04-20T07:52:36.301Z"
   },
   {
    "duration": 8,
    "start_time": "2022-04-20T07:52:36.307Z"
   },
   {
    "duration": 3,
    "start_time": "2022-04-20T07:52:36.317Z"
   },
   {
    "duration": 21,
    "start_time": "2022-04-20T07:54:00.209Z"
   },
   {
    "duration": 9,
    "start_time": "2022-04-20T07:54:09.070Z"
   },
   {
    "duration": 4,
    "start_time": "2022-04-20T07:55:03.814Z"
   },
   {
    "duration": 14,
    "start_time": "2022-04-20T07:55:04.324Z"
   },
   {
    "duration": 3,
    "start_time": "2022-04-20T07:55:40.914Z"
   },
   {
    "duration": 1013,
    "start_time": "2022-04-20T07:55:41.595Z"
   },
   {
    "duration": 4,
    "start_time": "2022-04-20T08:00:40.415Z"
   },
   {
    "duration": 1029,
    "start_time": "2022-04-20T08:00:41.564Z"
   },
   {
    "duration": 4,
    "start_time": "2022-04-20T08:01:20.421Z"
   },
   {
    "duration": 135,
    "start_time": "2022-04-20T08:01:21.633Z"
   },
   {
    "duration": 4,
    "start_time": "2022-04-20T08:01:41.122Z"
   },
   {
    "duration": 16,
    "start_time": "2022-04-20T08:01:42.362Z"
   },
   {
    "duration": 4,
    "start_time": "2022-04-20T08:01:50.905Z"
   },
   {
    "duration": 1276,
    "start_time": "2022-04-20T08:01:51.507Z"
   },
   {
    "duration": 4,
    "start_time": "2022-04-20T08:03:03.143Z"
   },
   {
    "duration": 1082,
    "start_time": "2022-04-20T08:03:03.641Z"
   },
   {
    "duration": 4,
    "start_time": "2022-04-20T08:03:17.688Z"
   },
   {
    "duration": 1029,
    "start_time": "2022-04-20T08:03:18.204Z"
   },
   {
    "duration": 10,
    "start_time": "2022-04-20T08:04:50.199Z"
   },
   {
    "duration": 1140,
    "start_time": "2022-04-20T08:04:57.882Z"
   },
   {
    "duration": 1139,
    "start_time": "2022-04-20T08:06:59.177Z"
   },
   {
    "duration": 1285,
    "start_time": "2022-04-20T08:07:01.975Z"
   },
   {
    "duration": 1011,
    "start_time": "2022-04-20T08:07:04.421Z"
   },
   {
    "duration": 1209,
    "start_time": "2022-04-20T08:07:06.504Z"
   },
   {
    "duration": 4,
    "start_time": "2022-04-20T08:07:10.229Z"
   },
   {
    "duration": 1318,
    "start_time": "2022-04-20T08:07:10.235Z"
   },
   {
    "duration": 16,
    "start_time": "2022-04-20T08:07:11.555Z"
   },
   {
    "duration": 227,
    "start_time": "2022-04-20T08:07:11.573Z"
   },
   {
    "duration": 2,
    "start_time": "2022-04-20T08:07:11.803Z"
   },
   {
    "duration": 14,
    "start_time": "2022-04-20T08:07:11.807Z"
   },
   {
    "duration": 7,
    "start_time": "2022-04-20T08:07:11.822Z"
   },
   {
    "duration": 16,
    "start_time": "2022-04-20T08:07:11.831Z"
   },
   {
    "duration": 5,
    "start_time": "2022-04-20T08:07:11.849Z"
   },
   {
    "duration": 15,
    "start_time": "2022-04-20T08:07:11.856Z"
   },
   {
    "duration": 10,
    "start_time": "2022-04-20T08:07:11.873Z"
   },
   {
    "duration": 7,
    "start_time": "2022-04-20T08:07:11.885Z"
   },
   {
    "duration": 8,
    "start_time": "2022-04-20T08:07:11.894Z"
   },
   {
    "duration": 4,
    "start_time": "2022-04-20T08:07:11.906Z"
   },
   {
    "duration": 61,
    "start_time": "2022-04-20T08:07:11.912Z"
   },
   {
    "duration": 10,
    "start_time": "2022-04-20T08:07:11.975Z"
   },
   {
    "duration": 7,
    "start_time": "2022-04-20T08:07:11.987Z"
   },
   {
    "duration": 6,
    "start_time": "2022-04-20T08:07:11.996Z"
   },
   {
    "duration": 8,
    "start_time": "2022-04-20T08:07:12.003Z"
   },
   {
    "duration": 4,
    "start_time": "2022-04-20T08:07:12.013Z"
   },
   {
    "duration": 1199,
    "start_time": "2022-04-20T08:07:12.018Z"
   },
   {
    "duration": 997,
    "start_time": "2022-04-20T08:07:13.219Z"
   },
   {
    "duration": 1143,
    "start_time": "2022-04-20T08:07:14.218Z"
   },
   {
    "duration": 1137,
    "start_time": "2022-04-20T08:07:15.363Z"
   },
   {
    "duration": 1010,
    "start_time": "2022-04-20T08:07:16.502Z"
   },
   {
    "duration": 980,
    "start_time": "2022-04-20T08:07:17.514Z"
   },
   {
    "duration": 281,
    "start_time": "2022-04-20T08:23:13.526Z"
   },
   {
    "duration": 410,
    "start_time": "2022-04-20T08:23:35.984Z"
   },
   {
    "duration": 266,
    "start_time": "2022-04-20T08:23:47.745Z"
   },
   {
    "duration": 273,
    "start_time": "2022-04-20T08:27:11.463Z"
   },
   {
    "duration": 464,
    "start_time": "2022-04-20T08:28:35.058Z"
   },
   {
    "duration": 4,
    "start_time": "2022-04-20T08:28:38.297Z"
   },
   {
    "duration": 1723,
    "start_time": "2022-04-20T08:28:38.303Z"
   },
   {
    "duration": 32,
    "start_time": "2022-04-20T08:28:40.028Z"
   },
   {
    "duration": 213,
    "start_time": "2022-04-20T08:28:40.061Z"
   },
   {
    "duration": 2,
    "start_time": "2022-04-20T08:28:40.276Z"
   },
   {
    "duration": 8,
    "start_time": "2022-04-20T08:28:40.280Z"
   },
   {
    "duration": 16,
    "start_time": "2022-04-20T08:28:40.290Z"
   },
   {
    "duration": 10,
    "start_time": "2022-04-20T08:28:40.308Z"
   },
   {
    "duration": 4,
    "start_time": "2022-04-20T08:28:40.320Z"
   },
   {
    "duration": 12,
    "start_time": "2022-04-20T08:28:40.326Z"
   },
   {
    "duration": 7,
    "start_time": "2022-04-20T08:28:40.340Z"
   },
   {
    "duration": 14,
    "start_time": "2022-04-20T08:28:40.349Z"
   },
   {
    "duration": 13,
    "start_time": "2022-04-20T08:28:40.364Z"
   },
   {
    "duration": 3,
    "start_time": "2022-04-20T08:28:40.380Z"
   },
   {
    "duration": 35,
    "start_time": "2022-04-20T08:28:40.385Z"
   },
   {
    "duration": 11,
    "start_time": "2022-04-20T08:28:40.422Z"
   },
   {
    "duration": 5,
    "start_time": "2022-04-20T08:28:40.448Z"
   },
   {
    "duration": 6,
    "start_time": "2022-04-20T08:28:40.455Z"
   },
   {
    "duration": 13,
    "start_time": "2022-04-20T08:28:40.463Z"
   },
   {
    "duration": 7,
    "start_time": "2022-04-20T08:28:40.477Z"
   },
   {
    "duration": 1120,
    "start_time": "2022-04-20T08:28:40.486Z"
   },
   {
    "duration": 997,
    "start_time": "2022-04-20T08:28:41.608Z"
   },
   {
    "duration": 884,
    "start_time": "2022-04-20T08:28:42.607Z"
   },
   {
    "duration": 988,
    "start_time": "2022-04-20T08:28:43.493Z"
   },
   {
    "duration": 1396,
    "start_time": "2022-04-20T08:28:44.483Z"
   },
   {
    "duration": 1277,
    "start_time": "2022-04-20T08:28:45.882Z"
   },
   {
    "duration": 446,
    "start_time": "2022-04-20T08:28:47.162Z"
   },
   {
    "duration": 276,
    "start_time": "2022-04-20T08:28:47.610Z"
   },
   {
    "duration": 284,
    "start_time": "2022-04-20T08:28:47.888Z"
   },
   {
    "duration": 3,
    "start_time": "2022-04-20T08:54:40.363Z"
   },
   {
    "duration": 4,
    "start_time": "2022-04-20T08:54:41.629Z"
   },
   {
    "duration": 3,
    "start_time": "2022-04-20T08:54:42.154Z"
   },
   {
    "duration": 3,
    "start_time": "2022-04-20T08:54:42.690Z"
   },
   {
    "duration": 3,
    "start_time": "2022-04-20T08:54:43.205Z"
   },
   {
    "duration": 3,
    "start_time": "2022-04-20T08:54:44.262Z"
   },
   {
    "duration": 416,
    "start_time": "2022-04-20T08:56:48.686Z"
   },
   {
    "duration": 27,
    "start_time": "2022-04-20T08:57:03.997Z"
   },
   {
    "duration": 1001,
    "start_time": "2022-04-20T08:58:50.773Z"
   },
   {
    "duration": 3,
    "start_time": "2022-04-20T08:59:29.132Z"
   },
   {
    "duration": 1129,
    "start_time": "2022-04-20T08:59:29.137Z"
   },
   {
    "duration": 14,
    "start_time": "2022-04-20T08:59:30.268Z"
   },
   {
    "duration": 210,
    "start_time": "2022-04-20T08:59:30.283Z"
   },
   {
    "duration": 2,
    "start_time": "2022-04-20T08:59:30.495Z"
   },
   {
    "duration": 14,
    "start_time": "2022-04-20T08:59:30.498Z"
   },
   {
    "duration": 7,
    "start_time": "2022-04-20T08:59:30.513Z"
   },
   {
    "duration": 15,
    "start_time": "2022-04-20T08:59:30.522Z"
   },
   {
    "duration": 17,
    "start_time": "2022-04-20T08:59:30.539Z"
   },
   {
    "duration": 18,
    "start_time": "2022-04-20T08:59:30.558Z"
   },
   {
    "duration": 14,
    "start_time": "2022-04-20T08:59:30.577Z"
   },
   {
    "duration": 11,
    "start_time": "2022-04-20T08:59:30.592Z"
   },
   {
    "duration": 19,
    "start_time": "2022-04-20T08:59:30.604Z"
   },
   {
    "duration": 28,
    "start_time": "2022-04-20T08:59:30.626Z"
   },
   {
    "duration": 50,
    "start_time": "2022-04-20T08:59:30.656Z"
   },
   {
    "duration": 9,
    "start_time": "2022-04-20T08:59:30.708Z"
   },
   {
    "duration": 14,
    "start_time": "2022-04-20T08:59:30.718Z"
   },
   {
    "duration": 15,
    "start_time": "2022-04-20T08:59:30.733Z"
   },
   {
    "duration": 11,
    "start_time": "2022-04-20T08:59:30.750Z"
   },
   {
    "duration": 8,
    "start_time": "2022-04-20T08:59:30.762Z"
   },
   {
    "duration": 1032,
    "start_time": "2022-04-20T08:59:30.771Z"
   },
   {
    "duration": 1004,
    "start_time": "2022-04-20T08:59:31.805Z"
   },
   {
    "duration": 1075,
    "start_time": "2022-04-20T08:59:32.811Z"
   },
   {
    "duration": 1000,
    "start_time": "2022-04-20T08:59:33.888Z"
   },
   {
    "duration": 914,
    "start_time": "2022-04-20T08:59:34.889Z"
   },
   {
    "duration": 972,
    "start_time": "2022-04-20T08:59:35.805Z"
   },
   {
    "duration": 368,
    "start_time": "2022-04-20T08:59:36.779Z"
   },
   {
    "duration": 269,
    "start_time": "2022-04-20T08:59:37.149Z"
   },
   {
    "duration": 277,
    "start_time": "2022-04-20T08:59:37.420Z"
   },
   {
    "duration": 2,
    "start_time": "2022-04-20T08:59:37.699Z"
   },
   {
    "duration": 5,
    "start_time": "2022-04-20T08:59:37.703Z"
   },
   {
    "duration": 8,
    "start_time": "2022-04-20T08:59:37.710Z"
   },
   {
    "duration": 21,
    "start_time": "2022-04-20T08:59:37.720Z"
   },
   {
    "duration": 4,
    "start_time": "2022-04-20T08:59:37.743Z"
   },
   {
    "duration": 6,
    "start_time": "2022-04-20T08:59:37.749Z"
   },
   {
    "duration": 1039,
    "start_time": "2022-04-20T08:59:37.757Z"
   },
   {
    "duration": 137,
    "start_time": "2022-04-20T09:07:07.790Z"
   },
   {
    "duration": 128,
    "start_time": "2022-04-20T09:07:08.724Z"
   },
   {
    "duration": 138,
    "start_time": "2022-04-20T09:07:09.409Z"
   },
   {
    "duration": 124,
    "start_time": "2022-04-20T09:07:10.259Z"
   },
   {
    "duration": 133,
    "start_time": "2022-04-20T09:07:11.058Z"
   },
   {
    "duration": 135,
    "start_time": "2022-04-20T09:07:11.762Z"
   },
   {
    "duration": 10,
    "start_time": "2022-04-20T09:18:16.044Z"
   },
   {
    "duration": 180,
    "start_time": "2022-04-20T09:18:24.847Z"
   },
   {
    "duration": 233,
    "start_time": "2022-04-20T09:18:34.538Z"
   },
   {
    "duration": 163,
    "start_time": "2022-04-20T09:18:39.534Z"
   },
   {
    "duration": 5,
    "start_time": "2022-04-20T09:21:54.024Z"
   },
   {
    "duration": 6,
    "start_time": "2022-04-20T09:23:24.941Z"
   },
   {
    "duration": 7,
    "start_time": "2022-04-20T09:24:32.089Z"
   },
   {
    "duration": 112,
    "start_time": "2022-04-20T09:27:02.694Z"
   },
   {
    "duration": 202,
    "start_time": "2022-04-20T09:29:28.418Z"
   },
   {
    "duration": 137,
    "start_time": "2022-04-20T09:30:09.546Z"
   },
   {
    "duration": 128,
    "start_time": "2022-04-20T09:31:10.360Z"
   },
   {
    "duration": 6,
    "start_time": "2022-04-20T09:32:35.964Z"
   },
   {
    "duration": 5,
    "start_time": "2022-04-20T09:32:43.152Z"
   },
   {
    "duration": 7,
    "start_time": "2022-04-20T09:32:58.701Z"
   },
   {
    "duration": 127,
    "start_time": "2022-04-20T09:34:26.317Z"
   },
   {
    "duration": 196,
    "start_time": "2022-04-20T09:34:56.783Z"
   },
   {
    "duration": 212,
    "start_time": "2022-04-20T09:35:04.579Z"
   },
   {
    "duration": 183,
    "start_time": "2022-04-20T09:35:26.715Z"
   },
   {
    "duration": 136,
    "start_time": "2022-04-20T09:35:36.728Z"
   },
   {
    "duration": 356,
    "start_time": "2022-04-20T09:36:02.580Z"
   },
   {
    "duration": 5,
    "start_time": "2022-04-20T09:37:02.929Z"
   },
   {
    "duration": 7,
    "start_time": "2022-04-20T09:37:20.010Z"
   },
   {
    "duration": 3,
    "start_time": "2022-04-20T09:37:23.206Z"
   },
   {
    "duration": 1300,
    "start_time": "2022-04-20T09:37:23.213Z"
   },
   {
    "duration": 13,
    "start_time": "2022-04-20T09:37:24.515Z"
   },
   {
    "duration": 237,
    "start_time": "2022-04-20T09:37:24.529Z"
   },
   {
    "duration": 4,
    "start_time": "2022-04-20T09:37:24.770Z"
   },
   {
    "duration": 3,
    "start_time": "2022-04-20T09:37:24.776Z"
   },
   {
    "duration": 4,
    "start_time": "2022-04-20T09:37:24.781Z"
   },
   {
    "duration": 7,
    "start_time": "2022-04-20T09:37:24.786Z"
   },
   {
    "duration": 4,
    "start_time": "2022-04-20T09:37:24.794Z"
   },
   {
    "duration": 4,
    "start_time": "2022-04-20T09:37:24.799Z"
   },
   {
    "duration": 5,
    "start_time": "2022-04-20T09:37:24.806Z"
   },
   {
    "duration": 41,
    "start_time": "2022-04-20T09:37:24.813Z"
   },
   {
    "duration": 9,
    "start_time": "2022-04-20T09:37:24.856Z"
   },
   {
    "duration": 15,
    "start_time": "2022-04-20T09:37:24.867Z"
   },
   {
    "duration": 39,
    "start_time": "2022-04-20T09:37:24.884Z"
   },
   {
    "duration": 9,
    "start_time": "2022-04-20T09:37:24.925Z"
   },
   {
    "duration": 15,
    "start_time": "2022-04-20T09:37:24.936Z"
   },
   {
    "duration": 20,
    "start_time": "2022-04-20T09:37:24.954Z"
   },
   {
    "duration": 8,
    "start_time": "2022-04-20T09:37:24.976Z"
   },
   {
    "duration": 4,
    "start_time": "2022-04-20T09:37:24.985Z"
   },
   {
    "duration": 1033,
    "start_time": "2022-04-20T09:37:24.991Z"
   },
   {
    "duration": 1010,
    "start_time": "2022-04-20T09:37:26.026Z"
   },
   {
    "duration": 996,
    "start_time": "2022-04-20T09:37:27.038Z"
   },
   {
    "duration": 1188,
    "start_time": "2022-04-20T09:37:28.035Z"
   },
   {
    "duration": 1016,
    "start_time": "2022-04-20T09:37:29.225Z"
   },
   {
    "duration": 1015,
    "start_time": "2022-04-20T09:37:30.243Z"
   },
   {
    "duration": 345,
    "start_time": "2022-04-20T09:37:31.260Z"
   },
   {
    "duration": 459,
    "start_time": "2022-04-20T09:37:31.606Z"
   },
   {
    "duration": 350,
    "start_time": "2022-04-20T09:37:32.071Z"
   },
   {
    "duration": 3,
    "start_time": "2022-04-20T09:37:32.424Z"
   },
   {
    "duration": 5,
    "start_time": "2022-04-20T09:37:32.429Z"
   },
   {
    "duration": 32,
    "start_time": "2022-04-20T09:37:32.436Z"
   },
   {
    "duration": 6,
    "start_time": "2022-04-20T09:37:32.473Z"
   },
   {
    "duration": 5,
    "start_time": "2022-04-20T09:37:32.481Z"
   },
   {
    "duration": 7,
    "start_time": "2022-04-20T09:37:32.488Z"
   },
   {
    "duration": 1280,
    "start_time": "2022-04-20T09:37:32.497Z"
   },
   {
    "duration": 153,
    "start_time": "2022-04-20T09:37:33.779Z"
   },
   {
    "duration": 155,
    "start_time": "2022-04-20T09:37:33.934Z"
   },
   {
    "duration": 151,
    "start_time": "2022-04-20T09:37:34.091Z"
   },
   {
    "duration": 145,
    "start_time": "2022-04-20T09:37:34.247Z"
   },
   {
    "duration": 154,
    "start_time": "2022-04-20T09:37:34.394Z"
   },
   {
    "duration": 163,
    "start_time": "2022-04-20T09:37:34.551Z"
   },
   {
    "duration": 180,
    "start_time": "2022-04-20T09:37:34.716Z"
   },
   {
    "duration": 5,
    "start_time": "2022-04-20T09:37:34.898Z"
   },
   {
    "duration": 11,
    "start_time": "2022-04-20T09:37:34.904Z"
   },
   {
    "duration": 166,
    "start_time": "2022-04-20T09:37:34.916Z"
   },
   {
    "duration": 5,
    "start_time": "2022-04-20T09:37:35.084Z"
   },
   {
    "duration": 10,
    "start_time": "2022-04-20T09:37:35.091Z"
   },
   {
    "duration": 145,
    "start_time": "2022-04-20T09:37:35.102Z"
   },
   {
    "duration": 7,
    "start_time": "2022-04-20T09:37:35.249Z"
   },
   {
    "duration": 27,
    "start_time": "2022-04-20T09:37:35.258Z"
   },
   {
    "duration": 5,
    "start_time": "2022-04-20T09:38:38.932Z"
   },
   {
    "duration": 3,
    "start_time": "2022-04-20T09:44:55.907Z"
   },
   {
    "duration": 1270,
    "start_time": "2022-04-20T09:44:55.918Z"
   },
   {
    "duration": 14,
    "start_time": "2022-04-20T09:44:57.190Z"
   },
   {
    "duration": 219,
    "start_time": "2022-04-20T09:44:57.205Z"
   },
   {
    "duration": 2,
    "start_time": "2022-04-20T09:44:57.425Z"
   },
   {
    "duration": 7,
    "start_time": "2022-04-20T09:44:57.429Z"
   },
   {
    "duration": 11,
    "start_time": "2022-04-20T09:44:57.438Z"
   },
   {
    "duration": 14,
    "start_time": "2022-04-20T09:44:57.451Z"
   },
   {
    "duration": 5,
    "start_time": "2022-04-20T09:44:57.467Z"
   },
   {
    "duration": 8,
    "start_time": "2022-04-20T09:44:57.473Z"
   },
   {
    "duration": 9,
    "start_time": "2022-04-20T09:44:57.482Z"
   },
   {
    "duration": 9,
    "start_time": "2022-04-20T09:44:57.492Z"
   },
   {
    "duration": 6,
    "start_time": "2022-04-20T09:44:57.502Z"
   },
   {
    "duration": 4,
    "start_time": "2022-04-20T09:44:57.509Z"
   },
   {
    "duration": 52,
    "start_time": "2022-04-20T09:44:57.516Z"
   },
   {
    "duration": 8,
    "start_time": "2022-04-20T09:44:57.570Z"
   },
   {
    "duration": 4,
    "start_time": "2022-04-20T09:44:57.580Z"
   },
   {
    "duration": 4,
    "start_time": "2022-04-20T09:44:57.586Z"
   },
   {
    "duration": 7,
    "start_time": "2022-04-20T09:44:57.592Z"
   },
   {
    "duration": 11,
    "start_time": "2022-04-20T09:44:57.600Z"
   },
   {
    "duration": 1107,
    "start_time": "2022-04-20T09:44:57.613Z"
   },
   {
    "duration": 982,
    "start_time": "2022-04-20T09:44:58.721Z"
   },
   {
    "duration": 901,
    "start_time": "2022-04-20T09:44:59.704Z"
   },
   {
    "duration": 1083,
    "start_time": "2022-04-20T09:45:00.607Z"
   },
   {
    "duration": 912,
    "start_time": "2022-04-20T09:45:01.692Z"
   },
   {
    "duration": 994,
    "start_time": "2022-04-20T09:45:02.605Z"
   },
   {
    "duration": 273,
    "start_time": "2022-04-20T09:45:03.600Z"
   },
   {
    "duration": 407,
    "start_time": "2022-04-20T09:45:03.875Z"
   },
   {
    "duration": 298,
    "start_time": "2022-04-20T09:45:04.284Z"
   },
   {
    "duration": 4,
    "start_time": "2022-04-20T09:45:04.584Z"
   },
   {
    "duration": 6,
    "start_time": "2022-04-20T09:45:04.590Z"
   },
   {
    "duration": 4,
    "start_time": "2022-04-20T09:45:04.598Z"
   },
   {
    "duration": 4,
    "start_time": "2022-04-20T09:45:04.604Z"
   },
   {
    "duration": 5,
    "start_time": "2022-04-20T09:45:04.610Z"
   },
   {
    "duration": 6,
    "start_time": "2022-04-20T09:45:04.617Z"
   },
   {
    "duration": 1149,
    "start_time": "2022-04-20T09:45:04.625Z"
   },
   {
    "duration": 156,
    "start_time": "2022-04-20T09:45:05.776Z"
   },
   {
    "duration": 142,
    "start_time": "2022-04-20T09:45:05.934Z"
   },
   {
    "duration": 151,
    "start_time": "2022-04-20T09:45:06.078Z"
   },
   {
    "duration": 147,
    "start_time": "2022-04-20T09:45:06.231Z"
   },
   {
    "duration": 152,
    "start_time": "2022-04-20T09:45:06.380Z"
   },
   {
    "duration": 147,
    "start_time": "2022-04-20T09:45:06.536Z"
   },
   {
    "duration": 181,
    "start_time": "2022-04-20T09:45:06.685Z"
   },
   {
    "duration": 5,
    "start_time": "2022-04-20T09:45:06.868Z"
   },
   {
    "duration": 9,
    "start_time": "2022-04-20T09:45:06.875Z"
   },
   {
    "duration": 149,
    "start_time": "2022-04-20T09:45:06.885Z"
   },
   {
    "duration": 16,
    "start_time": "2022-04-20T09:45:07.035Z"
   },
   {
    "duration": 18,
    "start_time": "2022-04-20T09:45:07.053Z"
   },
   {
    "duration": 125,
    "start_time": "2022-04-20T09:45:07.073Z"
   },
   {
    "duration": 5,
    "start_time": "2022-04-20T09:45:07.200Z"
   },
   {
    "duration": 9,
    "start_time": "2022-04-20T09:45:07.206Z"
   },
   {
    "duration": 5,
    "start_time": "2022-04-20T09:45:07.216Z"
   },
   {
    "duration": 45,
    "start_time": "2022-04-21T10:07:40.040Z"
   },
   {
    "duration": 1755,
    "start_time": "2022-04-21T10:07:44.209Z"
   },
   {
    "duration": 1225,
    "start_time": "2022-04-21T10:07:45.966Z"
   },
   {
    "duration": 19,
    "start_time": "2022-04-21T10:07:47.193Z"
   },
   {
    "duration": 229,
    "start_time": "2022-04-21T10:07:47.214Z"
   },
   {
    "duration": 2,
    "start_time": "2022-04-21T10:07:47.444Z"
   },
   {
    "duration": 8,
    "start_time": "2022-04-21T10:07:47.448Z"
   },
   {
    "duration": 4,
    "start_time": "2022-04-21T10:07:47.458Z"
   },
   {
    "duration": 10,
    "start_time": "2022-04-21T10:07:47.463Z"
   },
   {
    "duration": 2,
    "start_time": "2022-04-21T10:07:47.475Z"
   },
   {
    "duration": 20,
    "start_time": "2022-04-21T10:07:47.480Z"
   },
   {
    "duration": 8,
    "start_time": "2022-04-21T10:07:47.502Z"
   },
   {
    "duration": 8,
    "start_time": "2022-04-21T10:07:47.512Z"
   },
   {
    "duration": 12,
    "start_time": "2022-04-21T10:07:47.521Z"
   },
   {
    "duration": 4,
    "start_time": "2022-04-21T10:07:47.534Z"
   },
   {
    "duration": 61,
    "start_time": "2022-04-21T10:07:47.539Z"
   },
   {
    "duration": 10,
    "start_time": "2022-04-21T10:07:47.602Z"
   },
   {
    "duration": 7,
    "start_time": "2022-04-21T10:07:47.614Z"
   },
   {
    "duration": 9,
    "start_time": "2022-04-21T10:07:47.622Z"
   },
   {
    "duration": 12,
    "start_time": "2022-04-21T10:07:47.633Z"
   },
   {
    "duration": 5,
    "start_time": "2022-04-21T10:07:47.647Z"
   },
   {
    "duration": 1016,
    "start_time": "2022-04-21T10:07:47.654Z"
   },
   {
    "duration": 989,
    "start_time": "2022-04-21T10:07:48.671Z"
   },
   {
    "duration": 907,
    "start_time": "2022-04-21T10:07:49.661Z"
   },
   {
    "duration": 979,
    "start_time": "2022-04-21T10:07:50.570Z"
   },
   {
    "duration": 1015,
    "start_time": "2022-04-21T10:07:51.550Z"
   },
   {
    "duration": 1089,
    "start_time": "2022-04-21T10:07:52.566Z"
   },
   {
    "duration": 269,
    "start_time": "2022-04-21T10:07:53.657Z"
   },
   {
    "duration": 279,
    "start_time": "2022-04-21T10:07:53.929Z"
   },
   {
    "duration": 287,
    "start_time": "2022-04-21T10:07:54.209Z"
   },
   {
    "duration": 3,
    "start_time": "2022-04-21T10:07:54.499Z"
   },
   {
    "duration": 6,
    "start_time": "2022-04-21T10:07:54.504Z"
   },
   {
    "duration": 6,
    "start_time": "2022-04-21T10:07:54.512Z"
   },
   {
    "duration": 9,
    "start_time": "2022-04-21T10:07:54.520Z"
   },
   {
    "duration": 6,
    "start_time": "2022-04-21T10:07:54.531Z"
   },
   {
    "duration": 10,
    "start_time": "2022-04-21T10:07:54.539Z"
   },
   {
    "duration": 1849,
    "start_time": "2022-04-21T10:07:54.551Z"
   },
   {
    "duration": 161,
    "start_time": "2022-04-21T10:07:56.401Z"
   },
   {
    "duration": 213,
    "start_time": "2022-04-21T10:07:56.564Z"
   },
   {
    "duration": 147,
    "start_time": "2022-04-21T10:07:56.778Z"
   },
   {
    "duration": 225,
    "start_time": "2022-04-21T10:07:56.926Z"
   },
   {
    "duration": 231,
    "start_time": "2022-04-21T10:07:57.153Z"
   },
   {
    "duration": 235,
    "start_time": "2022-04-21T10:07:57.386Z"
   },
   {
    "duration": 282,
    "start_time": "2022-04-21T10:07:57.623Z"
   },
   {
    "duration": 7,
    "start_time": "2022-04-21T10:07:57.907Z"
   },
   {
    "duration": 14,
    "start_time": "2022-04-21T10:07:57.915Z"
   },
   {
    "duration": 223,
    "start_time": "2022-04-21T10:07:57.931Z"
   },
   {
    "duration": 6,
    "start_time": "2022-04-21T10:07:58.157Z"
   },
   {
    "duration": 14,
    "start_time": "2022-04-21T10:07:58.165Z"
   },
   {
    "duration": 232,
    "start_time": "2022-04-21T10:07:58.181Z"
   },
   {
    "duration": 7,
    "start_time": "2022-04-21T10:07:58.415Z"
   },
   {
    "duration": 14,
    "start_time": "2022-04-21T10:07:58.423Z"
   },
   {
    "duration": 4,
    "start_time": "2022-04-21T10:07:58.439Z"
   },
   {
    "duration": 5,
    "start_time": "2022-04-21T10:07:58.444Z"
   },
   {
    "duration": 7,
    "start_time": "2022-04-21T10:07:58.451Z"
   },
   {
    "duration": 5,
    "start_time": "2022-04-21T10:07:58.459Z"
   },
   {
    "duration": 72,
    "start_time": "2022-04-21T10:27:11.112Z"
   },
   {
    "duration": 25,
    "start_time": "2022-04-21T10:28:13.427Z"
   },
   {
    "duration": 41,
    "start_time": "2022-04-21T10:53:16.184Z"
   },
   {
    "duration": 14,
    "start_time": "2022-04-21T11:15:45.457Z"
   },
   {
    "duration": 10,
    "start_time": "2022-04-21T11:15:53.752Z"
   },
   {
    "duration": 86,
    "start_time": "2022-04-21T11:15:57.055Z"
   },
   {
    "duration": 76,
    "start_time": "2022-04-21T11:16:33.615Z"
   },
   {
    "duration": 3,
    "start_time": "2022-04-21T11:16:39.327Z"
   },
   {
    "duration": 1221,
    "start_time": "2022-04-21T11:16:39.331Z"
   },
   {
    "duration": 15,
    "start_time": "2022-04-21T11:16:40.554Z"
   },
   {
    "duration": 224,
    "start_time": "2022-04-21T11:16:40.571Z"
   },
   {
    "duration": 7,
    "start_time": "2022-04-21T11:16:40.800Z"
   },
   {
    "duration": 8,
    "start_time": "2022-04-21T11:16:40.812Z"
   },
   {
    "duration": 5,
    "start_time": "2022-04-21T11:16:40.821Z"
   },
   {
    "duration": 7,
    "start_time": "2022-04-21T11:16:40.827Z"
   },
   {
    "duration": 3,
    "start_time": "2022-04-21T11:16:40.836Z"
   },
   {
    "duration": 4,
    "start_time": "2022-04-21T11:16:40.840Z"
   },
   {
    "duration": 6,
    "start_time": "2022-04-21T11:16:40.845Z"
   },
   {
    "duration": 8,
    "start_time": "2022-04-21T11:16:40.853Z"
   },
   {
    "duration": 5,
    "start_time": "2022-04-21T11:16:40.862Z"
   },
   {
    "duration": 3,
    "start_time": "2022-04-21T11:16:40.869Z"
   },
   {
    "duration": 34,
    "start_time": "2022-04-21T11:16:40.908Z"
   },
   {
    "duration": 8,
    "start_time": "2022-04-21T11:16:40.943Z"
   },
   {
    "duration": 5,
    "start_time": "2022-04-21T11:16:40.953Z"
   },
   {
    "duration": 8,
    "start_time": "2022-04-21T11:16:40.960Z"
   },
   {
    "duration": 7,
    "start_time": "2022-04-21T11:16:40.969Z"
   },
   {
    "duration": 22,
    "start_time": "2022-04-21T11:16:40.978Z"
   },
   {
    "duration": 1058,
    "start_time": "2022-04-21T11:16:41.001Z"
   },
   {
    "duration": 1104,
    "start_time": "2022-04-21T11:16:42.061Z"
   },
   {
    "duration": 1086,
    "start_time": "2022-04-21T11:16:43.166Z"
   },
   {
    "duration": 1012,
    "start_time": "2022-04-21T11:16:44.255Z"
   },
   {
    "duration": 1027,
    "start_time": "2022-04-21T11:16:45.269Z"
   },
   {
    "duration": 947,
    "start_time": "2022-04-21T11:16:46.298Z"
   },
   {
    "duration": 264,
    "start_time": "2022-04-21T11:16:47.247Z"
   },
   {
    "duration": 281,
    "start_time": "2022-04-21T11:16:47.512Z"
   },
   {
    "duration": 281,
    "start_time": "2022-04-21T11:16:47.799Z"
   },
   {
    "duration": 3,
    "start_time": "2022-04-21T11:16:48.082Z"
   },
   {
    "duration": 6,
    "start_time": "2022-04-21T11:16:48.086Z"
   },
   {
    "duration": 5,
    "start_time": "2022-04-21T11:16:48.099Z"
   },
   {
    "duration": 14,
    "start_time": "2022-04-21T11:16:48.105Z"
   },
   {
    "duration": 5,
    "start_time": "2022-04-21T11:16:48.120Z"
   },
   {
    "duration": 5,
    "start_time": "2022-04-21T11:16:48.126Z"
   },
   {
    "duration": 1196,
    "start_time": "2022-04-21T11:16:48.133Z"
   },
   {
    "duration": 142,
    "start_time": "2022-04-21T11:16:49.331Z"
   },
   {
    "duration": 140,
    "start_time": "2022-04-21T11:16:49.475Z"
   },
   {
    "duration": 207,
    "start_time": "2022-04-21T11:16:49.617Z"
   },
   {
    "duration": 125,
    "start_time": "2022-04-21T11:16:49.825Z"
   },
   {
    "duration": 140,
    "start_time": "2022-04-21T11:16:49.951Z"
   },
   {
    "duration": 140,
    "start_time": "2022-04-21T11:16:50.099Z"
   },
   {
    "duration": 173,
    "start_time": "2022-04-21T11:16:50.241Z"
   },
   {
    "duration": 5,
    "start_time": "2022-04-21T11:16:50.416Z"
   },
   {
    "duration": 10,
    "start_time": "2022-04-21T11:16:50.422Z"
   },
   {
    "duration": 129,
    "start_time": "2022-04-21T11:16:50.433Z"
   },
   {
    "duration": 5,
    "start_time": "2022-04-21T11:16:50.564Z"
   },
   {
    "duration": 11,
    "start_time": "2022-04-21T11:16:50.570Z"
   },
   {
    "duration": 136,
    "start_time": "2022-04-21T11:16:50.582Z"
   },
   {
    "duration": 4,
    "start_time": "2022-04-21T11:16:50.720Z"
   },
   {
    "duration": 8,
    "start_time": "2022-04-21T11:16:50.726Z"
   },
   {
    "duration": 3,
    "start_time": "2022-04-21T11:16:50.736Z"
   },
   {
    "duration": 5,
    "start_time": "2022-04-21T11:16:50.741Z"
   },
   {
    "duration": 7,
    "start_time": "2022-04-21T11:16:50.747Z"
   },
   {
    "duration": 9,
    "start_time": "2022-04-21T11:16:50.756Z"
   },
   {
    "duration": 9,
    "start_time": "2022-04-21T11:16:50.766Z"
   },
   {
    "duration": 405,
    "start_time": "2022-04-21T11:16:50.776Z"
   },
   {
    "duration": 79,
    "start_time": "2022-04-21T11:17:53.952Z"
   },
   {
    "duration": 374,
    "start_time": "2022-04-21T11:24:14.829Z"
   },
   {
    "duration": 390,
    "start_time": "2022-04-21T11:27:22.401Z"
   },
   {
    "duration": 4,
    "start_time": "2022-04-21T11:35:38.226Z"
   },
   {
    "duration": 1876,
    "start_time": "2022-04-21T11:35:38.235Z"
   },
   {
    "duration": 16,
    "start_time": "2022-04-21T11:35:40.114Z"
   },
   {
    "duration": 324,
    "start_time": "2022-04-21T11:35:40.132Z"
   },
   {
    "duration": 2,
    "start_time": "2022-04-21T11:35:40.459Z"
   },
   {
    "duration": 6,
    "start_time": "2022-04-21T11:35:40.464Z"
   },
   {
    "duration": 7,
    "start_time": "2022-04-21T11:35:40.472Z"
   },
   {
    "duration": 19,
    "start_time": "2022-04-21T11:35:40.481Z"
   },
   {
    "duration": 2,
    "start_time": "2022-04-21T11:35:40.502Z"
   },
   {
    "duration": 4,
    "start_time": "2022-04-21T11:35:40.506Z"
   },
   {
    "duration": 7,
    "start_time": "2022-04-21T11:35:40.511Z"
   },
   {
    "duration": 6,
    "start_time": "2022-04-21T11:35:40.519Z"
   },
   {
    "duration": 9,
    "start_time": "2022-04-21T11:35:40.527Z"
   },
   {
    "duration": 4,
    "start_time": "2022-04-21T11:35:40.538Z"
   },
   {
    "duration": 61,
    "start_time": "2022-04-21T11:35:40.545Z"
   },
   {
    "duration": 10,
    "start_time": "2022-04-21T11:35:40.608Z"
   },
   {
    "duration": 5,
    "start_time": "2022-04-21T11:35:40.620Z"
   },
   {
    "duration": 8,
    "start_time": "2022-04-21T11:35:40.627Z"
   },
   {
    "duration": 9,
    "start_time": "2022-04-21T11:35:40.636Z"
   },
   {
    "duration": 4,
    "start_time": "2022-04-21T11:35:40.646Z"
   },
   {
    "duration": 1575,
    "start_time": "2022-04-21T11:35:40.651Z"
   },
   {
    "duration": 1126,
    "start_time": "2022-04-21T11:35:42.228Z"
   },
   {
    "duration": 893,
    "start_time": "2022-04-21T11:35:43.356Z"
   },
   {
    "duration": 988,
    "start_time": "2022-04-21T11:35:44.250Z"
   },
   {
    "duration": 1042,
    "start_time": "2022-04-21T11:35:45.240Z"
   },
   {
    "duration": 1042,
    "start_time": "2022-04-21T11:35:46.284Z"
   },
   {
    "duration": 256,
    "start_time": "2022-04-21T11:35:47.327Z"
   },
   {
    "duration": 289,
    "start_time": "2022-04-21T11:35:47.585Z"
   },
   {
    "duration": 279,
    "start_time": "2022-04-21T11:35:47.877Z"
   },
   {
    "duration": 4,
    "start_time": "2022-04-21T11:35:48.157Z"
   },
   {
    "duration": 6,
    "start_time": "2022-04-21T11:35:48.162Z"
   },
   {
    "duration": 6,
    "start_time": "2022-04-21T11:35:48.169Z"
   },
   {
    "duration": 4,
    "start_time": "2022-04-21T11:35:48.177Z"
   },
   {
    "duration": 5,
    "start_time": "2022-04-21T11:35:48.200Z"
   },
   {
    "duration": 6,
    "start_time": "2022-04-21T11:35:48.206Z"
   },
   {
    "duration": 1088,
    "start_time": "2022-04-21T11:35:48.214Z"
   },
   {
    "duration": 152,
    "start_time": "2022-04-21T11:35:49.303Z"
   },
   {
    "duration": 139,
    "start_time": "2022-04-21T11:35:49.457Z"
   },
   {
    "duration": 216,
    "start_time": "2022-04-21T11:35:49.599Z"
   },
   {
    "duration": 132,
    "start_time": "2022-04-21T11:35:49.816Z"
   },
   {
    "duration": 144,
    "start_time": "2022-04-21T11:35:49.949Z"
   },
   {
    "duration": 141,
    "start_time": "2022-04-21T11:35:50.101Z"
   },
   {
    "duration": 158,
    "start_time": "2022-04-21T11:35:50.244Z"
   },
   {
    "duration": 5,
    "start_time": "2022-04-21T11:35:50.404Z"
   },
   {
    "duration": 38,
    "start_time": "2022-04-21T11:35:50.411Z"
   },
   {
    "duration": 124,
    "start_time": "2022-04-21T11:35:50.451Z"
   },
   {
    "duration": 5,
    "start_time": "2022-04-21T11:35:50.577Z"
   },
   {
    "duration": 16,
    "start_time": "2022-04-21T11:35:50.584Z"
   },
   {
    "duration": 121,
    "start_time": "2022-04-21T11:35:50.601Z"
   },
   {
    "duration": 6,
    "start_time": "2022-04-21T11:35:50.723Z"
   },
   {
    "duration": 10,
    "start_time": "2022-04-21T11:35:50.730Z"
   },
   {
    "duration": 5,
    "start_time": "2022-04-21T11:35:50.742Z"
   },
   {
    "duration": 8,
    "start_time": "2022-04-21T11:35:50.748Z"
   },
   {
    "duration": 10,
    "start_time": "2022-04-21T11:35:50.757Z"
   },
   {
    "duration": 13,
    "start_time": "2022-04-21T11:35:50.769Z"
   },
   {
    "duration": 18,
    "start_time": "2022-04-21T11:35:50.783Z"
   },
   {
    "duration": 13790,
    "start_time": "2022-04-21T11:35:50.803Z"
   },
   {
    "duration": 14424,
    "start_time": "2022-04-21T11:38:45.148Z"
   },
   {
    "duration": 16,
    "start_time": "2022-04-21T11:42:00.551Z"
   },
   {
    "duration": 5,
    "start_time": "2022-04-21T11:42:20.692Z"
   },
   {
    "duration": 54214,
    "start_time": "2022-04-21T11:43:24.970Z"
   },
   {
    "duration": 55950,
    "start_time": "2022-04-21T11:49:53.518Z"
   },
   {
    "duration": 55636,
    "start_time": "2022-04-21T11:51:45.324Z"
   },
   {
    "duration": 56214,
    "start_time": "2022-04-21T11:57:42.483Z"
   },
   {
    "duration": 55436,
    "start_time": "2022-04-21T12:05:14.350Z"
   },
   {
    "duration": 3,
    "start_time": "2022-04-21T12:06:13.521Z"
   },
   {
    "duration": 3,
    "start_time": "2022-04-21T12:07:03.106Z"
   },
   {
    "duration": 3,
    "start_time": "2022-04-21T12:07:08.379Z"
   },
   {
    "duration": 1213,
    "start_time": "2022-04-21T12:07:08.384Z"
   },
   {
    "duration": 14,
    "start_time": "2022-04-21T12:07:09.600Z"
   },
   {
    "duration": 210,
    "start_time": "2022-04-21T12:07:09.615Z"
   },
   {
    "duration": 3,
    "start_time": "2022-04-21T12:07:09.826Z"
   },
   {
    "duration": 5,
    "start_time": "2022-04-21T12:07:09.830Z"
   },
   {
    "duration": 5,
    "start_time": "2022-04-21T12:07:09.836Z"
   },
   {
    "duration": 6,
    "start_time": "2022-04-21T12:07:09.842Z"
   },
   {
    "duration": 2,
    "start_time": "2022-04-21T12:07:09.850Z"
   },
   {
    "duration": 5,
    "start_time": "2022-04-21T12:07:09.853Z"
   },
   {
    "duration": 7,
    "start_time": "2022-04-21T12:07:09.859Z"
   },
   {
    "duration": 6,
    "start_time": "2022-04-21T12:07:09.867Z"
   },
   {
    "duration": 6,
    "start_time": "2022-04-21T12:07:09.899Z"
   },
   {
    "duration": 7,
    "start_time": "2022-04-21T12:07:09.906Z"
   },
   {
    "duration": 36,
    "start_time": "2022-04-21T12:07:09.914Z"
   },
   {
    "duration": 8,
    "start_time": "2022-04-21T12:07:09.951Z"
   },
   {
    "duration": 5,
    "start_time": "2022-04-21T12:07:09.961Z"
   },
   {
    "duration": 5,
    "start_time": "2022-04-21T12:07:09.967Z"
   },
   {
    "duration": 29,
    "start_time": "2022-04-21T12:07:09.973Z"
   },
   {
    "duration": 5,
    "start_time": "2022-04-21T12:07:10.003Z"
   },
   {
    "duration": 1053,
    "start_time": "2022-04-21T12:07:10.010Z"
   },
   {
    "duration": 1297,
    "start_time": "2022-04-21T12:07:11.064Z"
   },
   {
    "duration": 1022,
    "start_time": "2022-04-21T12:07:12.362Z"
   },
   {
    "duration": 1230,
    "start_time": "2022-04-21T12:07:13.389Z"
   },
   {
    "duration": 1154,
    "start_time": "2022-04-21T12:07:14.622Z"
   },
   {
    "duration": 959,
    "start_time": "2022-04-21T12:07:15.777Z"
   },
   {
    "duration": 362,
    "start_time": "2022-04-21T12:07:16.738Z"
   },
   {
    "duration": 260,
    "start_time": "2022-04-21T12:07:17.102Z"
   },
   {
    "duration": 298,
    "start_time": "2022-04-21T12:07:17.363Z"
   },
   {
    "duration": 3,
    "start_time": "2022-04-21T12:07:17.662Z"
   },
   {
    "duration": 8,
    "start_time": "2022-04-21T12:07:17.667Z"
   },
   {
    "duration": 5,
    "start_time": "2022-04-21T12:07:17.676Z"
   },
   {
    "duration": 18,
    "start_time": "2022-04-21T12:07:17.682Z"
   },
   {
    "duration": 5,
    "start_time": "2022-04-21T12:07:17.702Z"
   },
   {
    "duration": 11,
    "start_time": "2022-04-21T12:07:17.708Z"
   },
   {
    "duration": 1131,
    "start_time": "2022-04-21T12:07:17.721Z"
   },
   {
    "duration": 155,
    "start_time": "2022-04-21T12:07:18.854Z"
   },
   {
    "duration": 138,
    "start_time": "2022-04-21T12:07:19.011Z"
   },
   {
    "duration": 218,
    "start_time": "2022-04-21T12:07:19.151Z"
   },
   {
    "duration": 135,
    "start_time": "2022-04-21T12:07:19.370Z"
   },
   {
    "duration": 155,
    "start_time": "2022-04-21T12:07:19.506Z"
   },
   {
    "duration": 147,
    "start_time": "2022-04-21T12:07:19.663Z"
   },
   {
    "duration": 165,
    "start_time": "2022-04-21T12:07:19.812Z"
   },
   {
    "duration": 6,
    "start_time": "2022-04-21T12:07:19.979Z"
   },
   {
    "duration": 19,
    "start_time": "2022-04-21T12:07:19.986Z"
   },
   {
    "duration": 139,
    "start_time": "2022-04-21T12:07:20.006Z"
   },
   {
    "duration": 6,
    "start_time": "2022-04-21T12:07:20.147Z"
   },
   {
    "duration": 8,
    "start_time": "2022-04-21T12:07:20.155Z"
   },
   {
    "duration": 141,
    "start_time": "2022-04-21T12:07:20.165Z"
   },
   {
    "duration": 5,
    "start_time": "2022-04-21T12:07:20.308Z"
   },
   {
    "duration": 9,
    "start_time": "2022-04-21T12:07:20.314Z"
   },
   {
    "duration": 4,
    "start_time": "2022-04-21T12:07:20.324Z"
   },
   {
    "duration": 5,
    "start_time": "2022-04-21T12:07:20.330Z"
   },
   {
    "duration": 8,
    "start_time": "2022-04-21T12:07:20.337Z"
   },
   {
    "duration": 12,
    "start_time": "2022-04-21T12:07:20.347Z"
   },
   {
    "duration": 9,
    "start_time": "2022-04-21T12:07:20.361Z"
   },
   {
    "duration": 13685,
    "start_time": "2022-04-21T12:07:20.371Z"
   },
   {
    "duration": 13571,
    "start_time": "2022-04-21T12:07:34.058Z"
   },
   {
    "duration": 52064,
    "start_time": "2022-04-21T12:07:47.631Z"
   },
   {
    "duration": 53748,
    "start_time": "2022-04-21T12:08:39.696Z"
   },
   {
    "duration": 4,
    "start_time": "2022-04-21T12:09:33.445Z"
   },
   {
    "duration": 2475,
    "start_time": "2022-04-22T08:09:55.590Z"
   },
   {
    "duration": 1792,
    "start_time": "2022-04-22T08:09:58.069Z"
   },
   {
    "duration": 32,
    "start_time": "2022-04-22T08:09:59.863Z"
   },
   {
    "duration": 378,
    "start_time": "2022-04-22T08:09:59.897Z"
   },
   {
    "duration": 5,
    "start_time": "2022-04-22T08:10:00.278Z"
   },
   {
    "duration": 13,
    "start_time": "2022-04-22T08:10:00.285Z"
   },
   {
    "duration": 8,
    "start_time": "2022-04-22T08:10:00.300Z"
   },
   {
    "duration": 25,
    "start_time": "2022-04-22T08:10:00.310Z"
   },
   {
    "duration": 9,
    "start_time": "2022-04-22T08:10:00.337Z"
   },
   {
    "duration": 25,
    "start_time": "2022-04-22T08:10:00.348Z"
   },
   {
    "duration": 16,
    "start_time": "2022-04-22T08:10:00.375Z"
   },
   {
    "duration": 46,
    "start_time": "2022-04-22T08:10:00.394Z"
   },
   {
    "duration": 32,
    "start_time": "2022-04-22T08:10:00.444Z"
   },
   {
    "duration": 12,
    "start_time": "2022-04-22T08:10:00.482Z"
   },
   {
    "duration": 70,
    "start_time": "2022-04-22T08:10:00.496Z"
   },
   {
    "duration": 15,
    "start_time": "2022-04-22T08:10:00.568Z"
   },
   {
    "duration": 12,
    "start_time": "2022-04-22T08:10:00.586Z"
   },
   {
    "duration": 24,
    "start_time": "2022-04-22T08:10:00.600Z"
   },
   {
    "duration": 16,
    "start_time": "2022-04-22T08:10:00.627Z"
   },
   {
    "duration": 7,
    "start_time": "2022-04-22T08:10:00.646Z"
   },
   {
    "duration": 1426,
    "start_time": "2022-04-22T08:10:00.655Z"
   },
   {
    "duration": 1480,
    "start_time": "2022-04-22T08:10:02.084Z"
   },
   {
    "duration": 1492,
    "start_time": "2022-04-22T08:10:03.566Z"
   },
   {
    "duration": 1286,
    "start_time": "2022-04-22T08:10:05.061Z"
   },
   {
    "duration": 1424,
    "start_time": "2022-04-22T08:10:06.349Z"
   },
   {
    "duration": 1364,
    "start_time": "2022-04-22T08:10:07.775Z"
   },
   {
    "duration": 494,
    "start_time": "2022-04-22T08:10:09.141Z"
   },
   {
    "duration": 519,
    "start_time": "2022-04-22T08:10:09.637Z"
   },
   {
    "duration": 544,
    "start_time": "2022-04-22T08:10:10.159Z"
   },
   {
    "duration": 4,
    "start_time": "2022-04-22T08:10:10.706Z"
   },
   {
    "duration": 7,
    "start_time": "2022-04-22T08:10:10.712Z"
   },
   {
    "duration": 8,
    "start_time": "2022-04-22T08:10:10.721Z"
   },
   {
    "duration": 8,
    "start_time": "2022-04-22T08:10:10.731Z"
   },
   {
    "duration": 7,
    "start_time": "2022-04-22T08:10:10.741Z"
   },
   {
    "duration": 35,
    "start_time": "2022-04-22T08:10:10.751Z"
   },
   {
    "duration": 2032,
    "start_time": "2022-04-22T08:10:10.789Z"
   },
   {
    "duration": 261,
    "start_time": "2022-04-22T08:10:12.823Z"
   },
   {
    "duration": 242,
    "start_time": "2022-04-22T08:10:13.086Z"
   },
   {
    "duration": 332,
    "start_time": "2022-04-22T08:10:13.330Z"
   },
   {
    "duration": 235,
    "start_time": "2022-04-22T08:10:13.664Z"
   },
   {
    "duration": 257,
    "start_time": "2022-04-22T08:10:13.905Z"
   },
   {
    "duration": 258,
    "start_time": "2022-04-22T08:10:14.165Z"
   },
   {
    "duration": 290,
    "start_time": "2022-04-22T08:10:14.425Z"
   },
   {
    "duration": 7,
    "start_time": "2022-04-22T08:10:14.717Z"
   },
   {
    "duration": 17,
    "start_time": "2022-04-22T08:10:14.726Z"
   },
   {
    "duration": 252,
    "start_time": "2022-04-22T08:10:14.745Z"
   },
   {
    "duration": 10,
    "start_time": "2022-04-22T08:10:14.999Z"
   },
   {
    "duration": 24,
    "start_time": "2022-04-22T08:10:15.011Z"
   },
   {
    "duration": 234,
    "start_time": "2022-04-22T08:10:15.037Z"
   },
   {
    "duration": 12,
    "start_time": "2022-04-22T08:10:15.273Z"
   },
   {
    "duration": 13,
    "start_time": "2022-04-22T08:10:15.287Z"
   },
   {
    "duration": 6,
    "start_time": "2022-04-22T08:10:15.302Z"
   },
   {
    "duration": 7,
    "start_time": "2022-04-22T08:10:15.310Z"
   },
   {
    "duration": 11,
    "start_time": "2022-04-22T08:10:15.319Z"
   },
   {
    "duration": 56,
    "start_time": "2022-04-22T08:10:15.332Z"
   },
   {
    "duration": 9,
    "start_time": "2022-04-22T08:10:15.390Z"
   },
   {
    "duration": 18783,
    "start_time": "2022-04-22T08:10:15.401Z"
   },
   {
    "duration": 19080,
    "start_time": "2022-04-22T08:10:34.187Z"
   },
   {
    "duration": 73648,
    "start_time": "2022-04-22T08:10:53.269Z"
   },
   {
    "duration": 75548,
    "start_time": "2022-04-22T08:12:06.919Z"
   },
   {
    "duration": 14,
    "start_time": "2022-04-22T08:13:22.468Z"
   },
   {
    "duration": 179,
    "start_time": "2022-04-22T08:13:22.484Z"
   },
   {
    "duration": 1568,
    "start_time": "2022-04-22T11:18:07.628Z"
   },
   {
    "duration": 104,
    "start_time": "2022-04-22T11:20:07.485Z"
   },
   {
    "duration": 10,
    "start_time": "2022-04-22T11:20:19.955Z"
   },
   {
    "duration": 3,
    "start_time": "2022-04-22T11:20:23.293Z"
   },
   {
    "duration": 1170,
    "start_time": "2022-04-22T11:20:23.298Z"
   },
   {
    "duration": 14,
    "start_time": "2022-04-22T11:20:24.470Z"
   },
   {
    "duration": 221,
    "start_time": "2022-04-22T11:20:24.486Z"
   },
   {
    "duration": 2,
    "start_time": "2022-04-22T11:20:24.709Z"
   },
   {
    "duration": 5,
    "start_time": "2022-04-22T11:20:24.713Z"
   },
   {
    "duration": 5,
    "start_time": "2022-04-22T11:20:24.719Z"
   },
   {
    "duration": 25,
    "start_time": "2022-04-22T11:20:24.725Z"
   },
   {
    "duration": 2,
    "start_time": "2022-04-22T11:20:24.752Z"
   },
   {
    "duration": 2,
    "start_time": "2022-04-22T11:20:24.757Z"
   },
   {
    "duration": 7,
    "start_time": "2022-04-22T11:20:24.761Z"
   },
   {
    "duration": 7,
    "start_time": "2022-04-22T11:20:24.769Z"
   },
   {
    "duration": 8,
    "start_time": "2022-04-22T11:20:24.777Z"
   },
   {
    "duration": 6,
    "start_time": "2022-04-22T11:20:24.786Z"
   },
   {
    "duration": 68,
    "start_time": "2022-04-22T11:20:24.794Z"
   },
   {
    "duration": 9,
    "start_time": "2022-04-22T11:20:24.864Z"
   },
   {
    "duration": 5,
    "start_time": "2022-04-22T11:20:24.875Z"
   },
   {
    "duration": 5,
    "start_time": "2022-04-22T11:20:24.882Z"
   },
   {
    "duration": 8,
    "start_time": "2022-04-22T11:20:24.888Z"
   },
   {
    "duration": 4,
    "start_time": "2022-04-22T11:20:24.898Z"
   },
   {
    "duration": 1070,
    "start_time": "2022-04-22T11:20:24.903Z"
   },
   {
    "duration": 1031,
    "start_time": "2022-04-22T11:20:25.975Z"
   },
   {
    "duration": 892,
    "start_time": "2022-04-22T11:20:27.007Z"
   },
   {
    "duration": 982,
    "start_time": "2022-04-22T11:20:27.901Z"
   },
   {
    "duration": 1291,
    "start_time": "2022-04-22T11:20:28.885Z"
   },
   {
    "duration": 1011,
    "start_time": "2022-04-22T11:20:30.177Z"
   },
   {
    "duration": 264,
    "start_time": "2022-04-22T11:20:31.190Z"
   },
   {
    "duration": 300,
    "start_time": "2022-04-22T11:20:31.459Z"
   },
   {
    "duration": 300,
    "start_time": "2022-04-22T11:20:31.761Z"
   },
   {
    "duration": 4,
    "start_time": "2022-04-22T11:20:32.063Z"
   },
   {
    "duration": 8,
    "start_time": "2022-04-22T11:20:32.068Z"
   },
   {
    "duration": 8,
    "start_time": "2022-04-22T11:20:32.078Z"
   },
   {
    "duration": 4,
    "start_time": "2022-04-22T11:20:32.087Z"
   },
   {
    "duration": 7,
    "start_time": "2022-04-22T11:20:32.093Z"
   },
   {
    "duration": 14,
    "start_time": "2022-04-22T11:20:32.102Z"
   },
   {
    "duration": 1050,
    "start_time": "2022-04-22T11:20:32.118Z"
   },
   {
    "duration": 153,
    "start_time": "2022-04-22T11:20:33.170Z"
   },
   {
    "duration": 293,
    "start_time": "2022-04-22T11:20:33.325Z"
   },
   {
    "duration": 143,
    "start_time": "2022-04-22T11:20:33.620Z"
   },
   {
    "duration": 138,
    "start_time": "2022-04-22T11:20:33.764Z"
   },
   {
    "duration": 154,
    "start_time": "2022-04-22T11:20:33.904Z"
   },
   {
    "duration": 151,
    "start_time": "2022-04-22T11:20:34.059Z"
   },
   {
    "duration": 169,
    "start_time": "2022-04-22T11:20:34.212Z"
   },
   {
    "duration": 6,
    "start_time": "2022-04-22T11:20:34.383Z"
   },
   {
    "duration": 15,
    "start_time": "2022-04-22T11:20:34.391Z"
   },
   {
    "duration": 165,
    "start_time": "2022-04-22T11:20:34.408Z"
   },
   {
    "duration": 6,
    "start_time": "2022-04-22T11:20:34.583Z"
   },
   {
    "duration": 17,
    "start_time": "2022-04-22T11:20:34.591Z"
   },
   {
    "duration": 139,
    "start_time": "2022-04-22T11:20:34.610Z"
   },
   {
    "duration": 7,
    "start_time": "2022-04-22T11:20:34.751Z"
   },
   {
    "duration": 26,
    "start_time": "2022-04-22T11:20:34.760Z"
   },
   {
    "duration": 16,
    "start_time": "2022-04-22T11:20:34.788Z"
   },
   {
    "duration": 7,
    "start_time": "2022-04-22T11:20:34.806Z"
   },
   {
    "duration": 8,
    "start_time": "2022-04-22T11:20:34.814Z"
   },
   {
    "duration": 16,
    "start_time": "2022-04-22T11:20:34.823Z"
   },
   {
    "duration": 7,
    "start_time": "2022-04-22T11:20:34.841Z"
   },
   {
    "duration": 13674,
    "start_time": "2022-04-22T11:20:34.850Z"
   },
   {
    "duration": 15055,
    "start_time": "2022-04-22T11:20:48.526Z"
   },
   {
    "duration": 55375,
    "start_time": "2022-04-22T11:21:03.583Z"
   },
   {
    "duration": 60496,
    "start_time": "2022-04-22T11:21:58.959Z"
   },
   {
    "duration": 3,
    "start_time": "2022-04-22T11:22:59.457Z"
   },
   {
    "duration": 1771,
    "start_time": "2022-04-22T16:14:59.420Z"
   },
   {
    "duration": 1935,
    "start_time": "2022-04-22T16:15:01.193Z"
   },
   {
    "duration": 36,
    "start_time": "2022-04-22T16:15:03.130Z"
   },
   {
    "duration": 323,
    "start_time": "2022-04-22T16:15:03.169Z"
   },
   {
    "duration": 5,
    "start_time": "2022-04-22T16:15:03.496Z"
   },
   {
    "duration": 13,
    "start_time": "2022-04-22T16:15:03.503Z"
   },
   {
    "duration": 8,
    "start_time": "2022-04-22T16:15:03.518Z"
   },
   {
    "duration": 8,
    "start_time": "2022-04-22T16:15:03.528Z"
   },
   {
    "duration": 11,
    "start_time": "2022-04-22T16:15:03.538Z"
   },
   {
    "duration": 60,
    "start_time": "2022-04-22T16:15:03.553Z"
   },
   {
    "duration": 8,
    "start_time": "2022-04-22T16:15:03.615Z"
   },
   {
    "duration": 7,
    "start_time": "2022-04-22T16:15:03.625Z"
   },
   {
    "duration": 10,
    "start_time": "2022-04-22T16:15:03.633Z"
   },
   {
    "duration": 36,
    "start_time": "2022-04-22T16:15:03.646Z"
   },
   {
    "duration": 56,
    "start_time": "2022-04-22T16:15:03.686Z"
   },
   {
    "duration": 23,
    "start_time": "2022-04-22T16:15:03.743Z"
   },
   {
    "duration": 38,
    "start_time": "2022-04-22T16:15:03.773Z"
   },
   {
    "duration": 7,
    "start_time": "2022-04-22T16:15:03.814Z"
   },
   {
    "duration": 9,
    "start_time": "2022-04-22T16:15:03.824Z"
   },
   {
    "duration": 6,
    "start_time": "2022-04-22T16:15:03.836Z"
   },
   {
    "duration": 1351,
    "start_time": "2022-04-22T16:15:03.844Z"
   },
   {
    "duration": 1156,
    "start_time": "2022-04-22T16:15:05.198Z"
   },
   {
    "duration": 1169,
    "start_time": "2022-04-22T16:15:06.356Z"
   },
   {
    "duration": 1202,
    "start_time": "2022-04-22T16:15:07.527Z"
   },
   {
    "duration": 1418,
    "start_time": "2022-04-22T16:15:08.731Z"
   },
   {
    "duration": 1188,
    "start_time": "2022-04-22T16:15:10.152Z"
   },
   {
    "duration": 394,
    "start_time": "2022-04-22T16:15:11.342Z"
   },
   {
    "duration": 472,
    "start_time": "2022-04-22T16:15:11.741Z"
   },
   {
    "duration": 446,
    "start_time": "2022-04-22T16:15:12.214Z"
   },
   {
    "duration": 4,
    "start_time": "2022-04-22T16:15:12.661Z"
   },
   {
    "duration": 35,
    "start_time": "2022-04-22T16:15:12.667Z"
   },
   {
    "duration": 5,
    "start_time": "2022-04-22T16:15:12.704Z"
   },
   {
    "duration": 6,
    "start_time": "2022-04-22T16:15:12.711Z"
   },
   {
    "duration": 9,
    "start_time": "2022-04-22T16:15:12.719Z"
   },
   {
    "duration": 10,
    "start_time": "2022-04-22T16:15:12.730Z"
   },
   {
    "duration": 1745,
    "start_time": "2022-04-22T16:15:12.743Z"
   },
   {
    "duration": 203,
    "start_time": "2022-04-22T16:15:14.490Z"
   },
   {
    "duration": 215,
    "start_time": "2022-04-22T16:15:14.694Z"
   },
   {
    "duration": 244,
    "start_time": "2022-04-22T16:15:14.911Z"
   },
   {
    "duration": 162,
    "start_time": "2022-04-22T16:15:15.157Z"
   },
   {
    "duration": 180,
    "start_time": "2022-04-22T16:15:15.321Z"
   },
   {
    "duration": 200,
    "start_time": "2022-04-22T16:15:15.503Z"
   },
   {
    "duration": 265,
    "start_time": "2022-04-22T16:15:15.705Z"
   },
   {
    "duration": 6,
    "start_time": "2022-04-22T16:15:15.973Z"
   },
   {
    "duration": 23,
    "start_time": "2022-04-22T16:15:15.981Z"
   },
   {
    "duration": 156,
    "start_time": "2022-04-22T16:15:16.006Z"
   },
   {
    "duration": 7,
    "start_time": "2022-04-22T16:15:16.163Z"
   },
   {
    "duration": 36,
    "start_time": "2022-04-22T16:15:16.172Z"
   },
   {
    "duration": 154,
    "start_time": "2022-04-22T16:15:16.209Z"
   },
   {
    "duration": 6,
    "start_time": "2022-04-22T16:15:16.366Z"
   },
   {
    "duration": 33,
    "start_time": "2022-04-22T16:15:16.374Z"
   },
   {
    "duration": 4,
    "start_time": "2022-04-22T16:15:16.409Z"
   },
   {
    "duration": 6,
    "start_time": "2022-04-22T16:15:16.416Z"
   },
   {
    "duration": 11,
    "start_time": "2022-04-22T16:15:16.424Z"
   },
   {
    "duration": 20,
    "start_time": "2022-04-22T16:15:16.437Z"
   },
   {
    "duration": 39,
    "start_time": "2022-04-22T16:15:16.461Z"
   },
   {
    "duration": 17408,
    "start_time": "2022-04-22T16:15:16.502Z"
   },
   {
    "duration": 18379,
    "start_time": "2022-04-22T16:15:33.912Z"
   },
   {
    "duration": 62721,
    "start_time": "2022-04-22T16:15:52.292Z"
   },
   {
    "duration": 63548,
    "start_time": "2022-04-22T16:16:55.015Z"
   },
   {
    "duration": 4,
    "start_time": "2022-04-22T16:17:58.565Z"
   },
   {
    "duration": 4280230,
    "start_time": "2022-04-22T16:17:58.571Z"
   },
   {
    "duration": 4063245,
    "start_time": "2022-04-22T17:29:18.803Z"
   },
   {
    "duration": 71,
    "start_time": "2022-04-23T06:36:01.326Z"
   },
   {
    "duration": 0,
    "start_time": "2022-04-23T06:36:01.400Z"
   },
   {
    "duration": 0,
    "start_time": "2022-04-23T06:36:01.402Z"
   },
   {
    "duration": 0,
    "start_time": "2022-04-23T06:36:01.403Z"
   },
   {
    "duration": 0,
    "start_time": "2022-04-23T06:36:01.405Z"
   },
   {
    "duration": 0,
    "start_time": "2022-04-23T06:36:01.406Z"
   },
   {
    "duration": 2403,
    "start_time": "2022-04-23T06:38:14.327Z"
   },
   {
    "duration": 1810,
    "start_time": "2022-04-23T06:38:16.733Z"
   },
   {
    "duration": 24,
    "start_time": "2022-04-23T06:38:18.545Z"
   },
   {
    "duration": 395,
    "start_time": "2022-04-23T06:38:18.571Z"
   },
   {
    "duration": 3,
    "start_time": "2022-04-23T06:38:18.971Z"
   },
   {
    "duration": 21,
    "start_time": "2022-04-23T06:38:18.976Z"
   },
   {
    "duration": 19,
    "start_time": "2022-04-23T06:38:18.999Z"
   },
   {
    "duration": 28,
    "start_time": "2022-04-23T06:38:19.020Z"
   },
   {
    "duration": 24,
    "start_time": "2022-04-23T06:38:19.050Z"
   },
   {
    "duration": 20,
    "start_time": "2022-04-23T06:38:19.076Z"
   },
   {
    "duration": 33,
    "start_time": "2022-04-23T06:38:19.098Z"
   },
   {
    "duration": 15,
    "start_time": "2022-04-23T06:38:19.134Z"
   },
   {
    "duration": 31,
    "start_time": "2022-04-23T06:38:19.151Z"
   },
   {
    "duration": 13,
    "start_time": "2022-04-23T06:38:19.188Z"
   },
   {
    "duration": 67,
    "start_time": "2022-04-23T06:38:19.203Z"
   },
   {
    "duration": 13,
    "start_time": "2022-04-23T06:38:19.272Z"
   },
   {
    "duration": 8,
    "start_time": "2022-04-23T06:38:19.287Z"
   },
   {
    "duration": 26,
    "start_time": "2022-04-23T06:38:19.297Z"
   },
   {
    "duration": 35,
    "start_time": "2022-04-23T06:38:19.325Z"
   },
   {
    "duration": 12,
    "start_time": "2022-04-23T06:38:19.363Z"
   },
   {
    "duration": 1905,
    "start_time": "2022-04-23T06:38:19.378Z"
   },
   {
    "duration": 1717,
    "start_time": "2022-04-23T06:38:21.285Z"
   },
   {
    "duration": 1773,
    "start_time": "2022-04-23T06:38:23.006Z"
   },
   {
    "duration": 1664,
    "start_time": "2022-04-23T06:38:24.781Z"
   },
   {
    "duration": 1936,
    "start_time": "2022-04-23T06:38:26.448Z"
   },
   {
    "duration": 1619,
    "start_time": "2022-04-23T06:38:28.387Z"
   },
   {
    "duration": 490,
    "start_time": "2022-04-23T06:38:30.008Z"
   },
   {
    "duration": 719,
    "start_time": "2022-04-23T06:38:30.500Z"
   },
   {
    "duration": 524,
    "start_time": "2022-04-23T06:38:31.221Z"
   },
   {
    "duration": 4,
    "start_time": "2022-04-23T06:38:31.752Z"
   },
   {
    "duration": 14,
    "start_time": "2022-04-23T06:38:31.758Z"
   },
   {
    "duration": 23,
    "start_time": "2022-04-23T06:38:31.774Z"
   },
   {
    "duration": 15,
    "start_time": "2022-04-23T06:38:31.799Z"
   },
   {
    "duration": 10,
    "start_time": "2022-04-23T06:38:31.817Z"
   },
   {
    "duration": 10,
    "start_time": "2022-04-23T06:38:31.829Z"
   },
   {
    "duration": 1892,
    "start_time": "2022-04-23T06:38:31.842Z"
   },
   {
    "duration": 266,
    "start_time": "2022-04-23T06:38:33.736Z"
   },
   {
    "duration": 307,
    "start_time": "2022-04-23T06:38:34.005Z"
   },
   {
    "duration": 259,
    "start_time": "2022-04-23T06:38:34.315Z"
   },
   {
    "duration": 243,
    "start_time": "2022-04-23T06:38:34.578Z"
   },
   {
    "duration": 355,
    "start_time": "2022-04-23T06:38:34.829Z"
   },
   {
    "duration": 268,
    "start_time": "2022-04-23T06:38:35.187Z"
   },
   {
    "duration": 296,
    "start_time": "2022-04-23T06:38:35.458Z"
   },
   {
    "duration": 7,
    "start_time": "2022-04-23T06:38:35.757Z"
   },
   {
    "duration": 22,
    "start_time": "2022-04-23T06:38:35.767Z"
   },
   {
    "duration": 265,
    "start_time": "2022-04-23T06:38:35.791Z"
   },
   {
    "duration": 8,
    "start_time": "2022-04-23T06:38:36.058Z"
   },
   {
    "duration": 21,
    "start_time": "2022-04-23T06:38:36.068Z"
   },
   {
    "duration": 233,
    "start_time": "2022-04-23T06:38:36.091Z"
   },
   {
    "duration": 7,
    "start_time": "2022-04-23T06:38:36.326Z"
   },
   {
    "duration": 28,
    "start_time": "2022-04-23T06:38:36.335Z"
   },
   {
    "duration": 6,
    "start_time": "2022-04-23T06:38:36.365Z"
   },
   {
    "duration": 15,
    "start_time": "2022-04-23T06:38:36.373Z"
   },
   {
    "duration": 18,
    "start_time": "2022-04-23T06:38:36.391Z"
   },
   {
    "duration": 16,
    "start_time": "2022-04-23T06:38:36.411Z"
   },
   {
    "duration": 26,
    "start_time": "2022-04-23T06:38:36.430Z"
   },
   {
    "duration": 19997,
    "start_time": "2022-04-23T06:38:36.459Z"
   },
   {
    "duration": 19304,
    "start_time": "2022-04-23T06:38:56.458Z"
   },
   {
    "duration": 70673,
    "start_time": "2022-04-23T06:39:15.764Z"
   },
   {
    "duration": 76215,
    "start_time": "2022-04-23T06:40:26.440Z"
   },
   {
    "duration": 5,
    "start_time": "2022-04-23T06:41:42.657Z"
   },
   {
    "duration": 24,
    "start_time": "2022-04-23T06:41:42.664Z"
   },
   {
    "duration": 12,
    "start_time": "2022-04-23T06:41:42.690Z"
   },
   {
    "duration": 11,
    "start_time": "2022-04-23T06:41:42.705Z"
   },
   {
    "duration": 19,
    "start_time": "2022-04-23T06:41:42.719Z"
   },
   {
    "duration": 13,
    "start_time": "2022-04-23T06:41:42.741Z"
   },
   {
    "duration": 2322,
    "start_time": "2022-04-23T06:41:42.756Z"
   },
   {
    "duration": 2174,
    "start_time": "2022-04-23T06:41:45.080Z"
   },
   {
    "duration": 6,
    "start_time": "2022-04-23T06:41:47.257Z"
   },
   {
    "duration": 8,
    "start_time": "2022-04-23T08:23:52.771Z"
   },
   {
    "duration": 2571,
    "start_time": "2022-04-23T08:23:52.783Z"
   },
   {
    "duration": 28,
    "start_time": "2022-04-23T08:23:55.356Z"
   },
   {
    "duration": 520,
    "start_time": "2022-04-23T08:23:55.386Z"
   },
   {
    "duration": 3,
    "start_time": "2022-04-23T08:23:55.910Z"
   },
   {
    "duration": 8,
    "start_time": "2022-04-23T08:23:55.915Z"
   },
   {
    "duration": 26,
    "start_time": "2022-04-23T08:23:55.926Z"
   },
   {
    "duration": 9,
    "start_time": "2022-04-23T08:23:55.955Z"
   },
   {
    "duration": 14,
    "start_time": "2022-04-23T08:23:55.967Z"
   },
   {
    "duration": 5,
    "start_time": "2022-04-23T08:23:55.984Z"
   },
   {
    "duration": 11,
    "start_time": "2022-04-23T08:23:55.992Z"
   },
   {
    "duration": 47,
    "start_time": "2022-04-23T08:23:56.005Z"
   },
   {
    "duration": 11,
    "start_time": "2022-04-23T08:23:56.054Z"
   },
   {
    "duration": 11,
    "start_time": "2022-04-23T08:23:56.071Z"
   },
   {
    "duration": 106,
    "start_time": "2022-04-23T08:23:56.084Z"
   },
   {
    "duration": 18,
    "start_time": "2022-04-23T08:23:56.193Z"
   },
   {
    "duration": 11,
    "start_time": "2022-04-23T08:23:56.214Z"
   },
   {
    "duration": 8,
    "start_time": "2022-04-23T08:23:56.252Z"
   },
   {
    "duration": 15,
    "start_time": "2022-04-23T08:23:56.263Z"
   },
   {
    "duration": 6,
    "start_time": "2022-04-23T08:23:56.281Z"
   },
   {
    "duration": 1894,
    "start_time": "2022-04-23T08:23:56.289Z"
   },
   {
    "duration": 1666,
    "start_time": "2022-04-23T08:23:58.186Z"
   },
   {
    "duration": 1626,
    "start_time": "2022-04-23T08:23:59.855Z"
   },
   {
    "duration": 1752,
    "start_time": "2022-04-23T08:24:01.484Z"
   },
   {
    "duration": 2138,
    "start_time": "2022-04-23T08:24:03.238Z"
   },
   {
    "duration": 1460,
    "start_time": "2022-04-23T08:24:05.379Z"
   },
   {
    "duration": 629,
    "start_time": "2022-04-23T08:24:06.841Z"
   },
   {
    "duration": 703,
    "start_time": "2022-04-23T08:24:07.473Z"
   },
   {
    "duration": 745,
    "start_time": "2022-04-23T08:24:08.178Z"
   },
   {
    "duration": 4,
    "start_time": "2022-04-23T08:24:08.925Z"
   },
   {
    "duration": 20,
    "start_time": "2022-04-23T08:24:08.932Z"
   },
   {
    "duration": 22,
    "start_time": "2022-04-23T08:24:08.956Z"
   },
   {
    "duration": 10,
    "start_time": "2022-04-23T08:24:08.981Z"
   },
   {
    "duration": 5,
    "start_time": "2022-04-23T08:24:08.993Z"
   },
   {
    "duration": 6,
    "start_time": "2022-04-23T08:24:09.000Z"
   },
   {
    "duration": 2065,
    "start_time": "2022-04-23T08:24:09.008Z"
   },
   {
    "duration": 260,
    "start_time": "2022-04-23T08:24:11.075Z"
   },
   {
    "duration": 348,
    "start_time": "2022-04-23T08:24:11.337Z"
   },
   {
    "duration": 272,
    "start_time": "2022-04-23T08:24:11.688Z"
   },
   {
    "duration": 250,
    "start_time": "2022-04-23T08:24:11.963Z"
   },
   {
    "duration": 371,
    "start_time": "2022-04-23T08:24:12.222Z"
   },
   {
    "duration": 281,
    "start_time": "2022-04-23T08:24:12.595Z"
   },
   {
    "duration": 299,
    "start_time": "2022-04-23T08:24:12.878Z"
   },
   {
    "duration": 8,
    "start_time": "2022-04-23T08:24:13.179Z"
   },
   {
    "duration": 16,
    "start_time": "2022-04-23T08:24:13.189Z"
   },
   {
    "duration": 293,
    "start_time": "2022-04-23T08:24:13.207Z"
   },
   {
    "duration": 7,
    "start_time": "2022-04-23T08:24:13.503Z"
   },
   {
    "duration": 18,
    "start_time": "2022-04-23T08:24:13.513Z"
   },
   {
    "duration": 304,
    "start_time": "2022-04-23T08:24:13.533Z"
   },
   {
    "duration": 7,
    "start_time": "2022-04-23T08:24:13.839Z"
   },
   {
    "duration": 32,
    "start_time": "2022-04-23T08:24:13.853Z"
   },
   {
    "duration": 8,
    "start_time": "2022-04-23T08:24:13.887Z"
   },
   {
    "duration": 9,
    "start_time": "2022-04-23T08:24:13.897Z"
   },
   {
    "duration": 11,
    "start_time": "2022-04-23T08:24:13.908Z"
   },
   {
    "duration": 35,
    "start_time": "2022-04-23T08:24:13.921Z"
   },
   {
    "duration": 21,
    "start_time": "2022-04-23T08:24:13.959Z"
   },
   {
    "duration": 20382,
    "start_time": "2022-04-23T08:24:13.983Z"
   },
   {
    "duration": 20449,
    "start_time": "2022-04-23T08:24:34.368Z"
   },
   {
    "duration": 87217,
    "start_time": "2022-04-23T08:24:54.819Z"
   },
   {
    "duration": 87085,
    "start_time": "2022-04-23T08:26:22.038Z"
   },
   {
    "duration": 5,
    "start_time": "2022-04-23T08:27:49.126Z"
   },
   {
    "duration": 5553322,
    "start_time": "2022-04-23T08:27:49.133Z"
   },
   {
    "duration": 5750162,
    "start_time": "2022-04-23T10:00:22.458Z"
   },
   {
    "duration": 163,
    "start_time": "2022-04-23T17:41:25.878Z"
   },
   {
    "duration": 91,
    "start_time": "2022-04-23T17:41:34.913Z"
   },
   {
    "duration": 11,
    "start_time": "2022-04-23T17:41:35.925Z"
   },
   {
    "duration": 169,
    "start_time": "2022-04-23T17:41:51.862Z"
   },
   {
    "duration": 1954,
    "start_time": "2022-04-23T17:42:00.454Z"
   },
   {
    "duration": 1786,
    "start_time": "2022-04-23T17:42:02.411Z"
   },
   {
    "duration": 5,
    "start_time": "2022-04-23T17:44:03.954Z"
   },
   {
    "duration": 2166,
    "start_time": "2022-04-23T17:44:03.963Z"
   },
   {
    "duration": 33,
    "start_time": "2022-04-23T17:44:06.132Z"
   },
   {
    "duration": 387,
    "start_time": "2022-04-23T17:44:06.167Z"
   },
   {
    "duration": 4,
    "start_time": "2022-04-23T17:44:06.557Z"
   },
   {
    "duration": 10,
    "start_time": "2022-04-23T17:44:06.563Z"
   },
   {
    "duration": 12,
    "start_time": "2022-04-23T17:44:06.575Z"
   },
   {
    "duration": 15,
    "start_time": "2022-04-23T17:44:06.589Z"
   },
   {
    "duration": 4,
    "start_time": "2022-04-23T17:44:06.606Z"
   },
   {
    "duration": 10,
    "start_time": "2022-04-23T17:44:06.612Z"
   },
   {
    "duration": 31,
    "start_time": "2022-04-23T17:44:06.624Z"
   },
   {
    "duration": 9,
    "start_time": "2022-04-23T17:44:06.658Z"
   },
   {
    "duration": 12,
    "start_time": "2022-04-23T17:44:06.670Z"
   },
   {
    "duration": 6,
    "start_time": "2022-04-23T17:44:06.688Z"
   },
   {
    "duration": 96,
    "start_time": "2022-04-23T17:44:06.697Z"
   },
   {
    "duration": 14,
    "start_time": "2022-04-23T17:44:06.795Z"
   },
   {
    "duration": 9,
    "start_time": "2022-04-23T17:44:06.812Z"
   },
   {
    "duration": 6,
    "start_time": "2022-04-23T17:44:06.852Z"
   },
   {
    "duration": 18,
    "start_time": "2022-04-23T17:44:06.860Z"
   },
   {
    "duration": 9,
    "start_time": "2022-04-23T17:44:06.880Z"
   },
   {
    "duration": 1746,
    "start_time": "2022-04-23T17:44:06.891Z"
   },
   {
    "duration": 1699,
    "start_time": "2022-04-23T17:44:08.639Z"
   },
   {
    "duration": 1519,
    "start_time": "2022-04-23T17:44:10.340Z"
   },
   {
    "duration": 1384,
    "start_time": "2022-04-23T17:44:11.862Z"
   },
   {
    "duration": 1469,
    "start_time": "2022-04-23T17:44:13.251Z"
   },
   {
    "duration": 1810,
    "start_time": "2022-04-23T17:44:14.723Z"
   },
   {
    "duration": 715,
    "start_time": "2022-04-23T17:44:16.536Z"
   },
   {
    "duration": 829,
    "start_time": "2022-04-23T17:44:17.254Z"
   },
   {
    "duration": 531,
    "start_time": "2022-04-23T17:44:18.086Z"
   },
   {
    "duration": 4,
    "start_time": "2022-04-23T17:44:18.620Z"
   },
   {
    "duration": 26,
    "start_time": "2022-04-23T17:44:18.626Z"
   },
   {
    "duration": 5,
    "start_time": "2022-04-23T17:44:18.655Z"
   },
   {
    "duration": 13,
    "start_time": "2022-04-23T17:44:18.662Z"
   },
   {
    "duration": 6,
    "start_time": "2022-04-23T17:44:18.677Z"
   },
   {
    "duration": 10,
    "start_time": "2022-04-23T17:44:18.686Z"
   },
   {
    "duration": 2929,
    "start_time": "2022-04-23T17:44:18.698Z"
   },
   {
    "duration": 425,
    "start_time": "2022-04-23T17:44:21.630Z"
   },
   {
    "duration": 520,
    "start_time": "2022-04-23T17:44:22.059Z"
   },
   {
    "duration": 369,
    "start_time": "2022-04-23T17:44:22.583Z"
   },
   {
    "duration": 353,
    "start_time": "2022-04-23T17:44:22.956Z"
   },
   {
    "duration": 418,
    "start_time": "2022-04-23T17:44:23.321Z"
   },
   {
    "duration": 401,
    "start_time": "2022-04-23T17:44:23.751Z"
   },
   {
    "duration": 403,
    "start_time": "2022-04-23T17:44:24.155Z"
   },
   {
    "duration": 12,
    "start_time": "2022-04-23T17:44:24.561Z"
   },
   {
    "duration": 25,
    "start_time": "2022-04-23T17:44:24.577Z"
   },
   {
    "duration": 408,
    "start_time": "2022-04-23T17:44:24.609Z"
   },
   {
    "duration": 11,
    "start_time": "2022-04-23T17:44:25.020Z"
   },
   {
    "duration": 39,
    "start_time": "2022-04-23T17:44:25.033Z"
   },
   {
    "duration": 318,
    "start_time": "2022-04-23T17:44:25.076Z"
   },
   {
    "duration": 9,
    "start_time": "2022-04-23T17:44:25.397Z"
   },
   {
    "duration": 43,
    "start_time": "2022-04-23T17:44:25.409Z"
   },
   {
    "duration": 6,
    "start_time": "2022-04-23T17:44:25.455Z"
   },
   {
    "duration": 9,
    "start_time": "2022-04-23T17:44:25.464Z"
   },
   {
    "duration": 11,
    "start_time": "2022-04-23T17:44:25.475Z"
   },
   {
    "duration": 19,
    "start_time": "2022-04-23T17:44:25.488Z"
   },
   {
    "duration": 6,
    "start_time": "2022-04-23T17:44:25.551Z"
   },
   {
    "duration": 7,
    "start_time": "2022-04-23T17:44:25.561Z"
   },
   {
    "duration": 10,
    "start_time": "2022-04-23T17:44:25.571Z"
   },
   {
    "duration": 16,
    "start_time": "2022-04-23T17:44:25.584Z"
   },
   {
    "duration": 8,
    "start_time": "2022-04-23T17:44:25.603Z"
   },
   {
    "duration": 8,
    "start_time": "2022-04-23T17:44:25.614Z"
   },
   {
    "duration": 5937798,
    "start_time": "2022-04-23T17:44:25.625Z"
   },
   {
    "duration": 6831467,
    "start_time": "2022-04-23T19:23:23.426Z"
   },
   {
    "duration": 22017449,
    "start_time": "2022-04-23T21:17:14.896Z"
   },
   {
    "duration": 20535969,
    "start_time": "2022-04-24T03:24:12.352Z"
   },
   {
    "duration": 5,
    "start_time": "2022-04-24T09:06:28.323Z"
   },
   {
    "duration": 6,
    "start_time": "2022-04-24T09:06:28.330Z"
   },
   {
    "duration": 22,
    "start_time": "2022-04-24T09:06:28.338Z"
   },
   {
    "duration": 22,
    "start_time": "2022-04-24T09:06:28.362Z"
   },
   {
    "duration": 2175,
    "start_time": "2022-04-24T09:20:27.677Z"
   },
   {
    "duration": 1897,
    "start_time": "2022-04-24T09:20:29.858Z"
   },
   {
    "duration": 94,
    "start_time": "2022-04-24T09:20:31.759Z"
   },
   {
    "duration": 6,
    "start_time": "2022-04-24T09:31:34.313Z"
   },
   {
    "duration": 1724,
    "start_time": "2022-04-24T09:31:34.322Z"
   },
   {
    "duration": 24,
    "start_time": "2022-04-24T09:31:36.052Z"
   },
   {
    "duration": 395,
    "start_time": "2022-04-24T09:31:36.080Z"
   },
   {
    "duration": 8,
    "start_time": "2022-04-24T09:31:36.478Z"
   },
   {
    "duration": 12,
    "start_time": "2022-04-24T09:31:36.489Z"
   },
   {
    "duration": 10,
    "start_time": "2022-04-24T09:31:36.503Z"
   },
   {
    "duration": 10,
    "start_time": "2022-04-24T09:31:36.551Z"
   },
   {
    "duration": 7,
    "start_time": "2022-04-24T09:31:36.565Z"
   },
   {
    "duration": 78,
    "start_time": "2022-04-24T09:31:36.575Z"
   },
   {
    "duration": 14,
    "start_time": "2022-04-24T09:31:36.656Z"
   },
   {
    "duration": 9,
    "start_time": "2022-04-24T09:31:36.672Z"
   },
   {
    "duration": 24,
    "start_time": "2022-04-24T09:31:36.683Z"
   },
   {
    "duration": 17,
    "start_time": "2022-04-24T09:31:36.709Z"
   },
   {
    "duration": 6,
    "start_time": "2022-04-24T09:31:36.752Z"
   },
   {
    "duration": 1573,
    "start_time": "2022-04-24T09:31:36.761Z"
   },
   {
    "duration": 1693,
    "start_time": "2022-04-24T09:31:38.336Z"
   },
   {
    "duration": 1505,
    "start_time": "2022-04-24T09:31:40.031Z"
   },
   {
    "duration": 1374,
    "start_time": "2022-04-24T09:31:41.538Z"
   },
   {
    "duration": 1426,
    "start_time": "2022-04-24T09:31:42.914Z"
   },
   {
    "duration": 1688,
    "start_time": "2022-04-24T09:31:44.343Z"
   },
   {
    "duration": 527,
    "start_time": "2022-04-24T09:31:46.035Z"
   },
   {
    "duration": 536,
    "start_time": "2022-04-24T09:31:46.565Z"
   },
   {
    "duration": 556,
    "start_time": "2022-04-24T09:31:47.106Z"
   },
   {
    "duration": 5,
    "start_time": "2022-04-24T09:31:47.665Z"
   },
   {
    "duration": 8,
    "start_time": "2022-04-24T09:31:47.673Z"
   },
   {
    "duration": 8,
    "start_time": "2022-04-24T09:31:47.683Z"
   },
   {
    "duration": 7,
    "start_time": "2022-04-24T09:31:47.693Z"
   },
   {
    "duration": 5,
    "start_time": "2022-04-24T09:31:47.703Z"
   },
   {
    "duration": 42,
    "start_time": "2022-04-24T09:31:47.710Z"
   },
   {
    "duration": 2385,
    "start_time": "2022-04-24T09:31:47.755Z"
   },
   {
    "duration": 365,
    "start_time": "2022-04-24T09:31:50.143Z"
   },
   {
    "duration": 445,
    "start_time": "2022-04-24T09:31:50.510Z"
   },
   {
    "duration": 252,
    "start_time": "2022-04-24T09:31:50.957Z"
   },
   {
    "duration": 244,
    "start_time": "2022-04-24T09:31:51.211Z"
   },
   {
    "duration": 255,
    "start_time": "2022-04-24T09:31:51.458Z"
   },
   {
    "duration": 257,
    "start_time": "2022-04-24T09:31:51.715Z"
   },
   {
    "duration": 300,
    "start_time": "2022-04-24T09:31:51.974Z"
   },
   {
    "duration": 8,
    "start_time": "2022-04-24T09:31:52.276Z"
   },
   {
    "duration": 26,
    "start_time": "2022-04-24T09:31:52.287Z"
   },
   {
    "duration": 258,
    "start_time": "2022-04-24T09:31:52.316Z"
   },
   {
    "duration": 7,
    "start_time": "2022-04-24T09:31:52.576Z"
   },
   {
    "duration": 16,
    "start_time": "2022-04-24T09:31:52.585Z"
   },
   {
    "duration": 254,
    "start_time": "2022-04-24T09:31:52.603Z"
   },
   {
    "duration": 7,
    "start_time": "2022-04-24T09:31:52.860Z"
   },
   {
    "duration": 14,
    "start_time": "2022-04-24T09:31:52.869Z"
   },
   {
    "duration": 11,
    "start_time": "2022-04-24T09:31:52.885Z"
   },
   {
    "duration": 13,
    "start_time": "2022-04-24T09:31:52.899Z"
   },
   {
    "duration": 39,
    "start_time": "2022-04-24T09:31:52.914Z"
   },
   {
    "duration": 14,
    "start_time": "2022-04-24T09:31:52.955Z"
   },
   {
    "duration": 13,
    "start_time": "2022-04-24T09:31:52.972Z"
   },
   {
    "duration": 18984,
    "start_time": "2022-04-24T09:31:52.987Z"
   },
   {
    "duration": 20519,
    "start_time": "2022-04-24T09:32:11.974Z"
   },
   {
    "duration": 75786,
    "start_time": "2022-04-24T09:32:32.495Z"
   },
   {
    "duration": 80997,
    "start_time": "2022-04-24T09:33:48.283Z"
   },
   {
    "duration": 6,
    "start_time": "2022-04-24T09:37:05.804Z"
   },
   {
    "duration": 2048,
    "start_time": "2022-04-25T14:03:21.141Z"
   },
   {
    "duration": 2750,
    "start_time": "2022-04-25T14:03:23.192Z"
   },
   {
    "duration": 28,
    "start_time": "2022-04-25T14:03:25.944Z"
   },
   {
    "duration": 307,
    "start_time": "2022-04-25T14:03:25.977Z"
   },
   {
    "duration": 10,
    "start_time": "2022-04-25T14:03:26.288Z"
   },
   {
    "duration": 6,
    "start_time": "2022-04-25T14:03:26.302Z"
   },
   {
    "duration": 11,
    "start_time": "2022-04-25T14:03:26.310Z"
   },
   {
    "duration": 47,
    "start_time": "2022-04-25T14:03:26.323Z"
   },
   {
    "duration": 4,
    "start_time": "2022-04-25T14:03:26.372Z"
   },
   {
    "duration": 43,
    "start_time": "2022-04-25T14:03:26.378Z"
   },
   {
    "duration": 11,
    "start_time": "2022-04-25T14:03:26.423Z"
   },
   {
    "duration": 8,
    "start_time": "2022-04-25T14:03:26.436Z"
   },
   {
    "duration": 29,
    "start_time": "2022-04-25T14:03:26.458Z"
   },
   {
    "duration": 12,
    "start_time": "2022-04-25T14:03:26.491Z"
   },
   {
    "duration": 6,
    "start_time": "2022-04-25T14:03:26.505Z"
   },
   {
    "duration": 1408,
    "start_time": "2022-04-25T14:03:26.512Z"
   },
   {
    "duration": 1073,
    "start_time": "2022-04-25T14:03:27.921Z"
   },
   {
    "duration": 1278,
    "start_time": "2022-04-25T14:03:28.996Z"
   },
   {
    "duration": 1050,
    "start_time": "2022-04-25T14:03:30.277Z"
   },
   {
    "duration": 1113,
    "start_time": "2022-04-25T14:03:31.328Z"
   },
   {
    "duration": 978,
    "start_time": "2022-04-25T14:03:32.443Z"
   },
   {
    "duration": 297,
    "start_time": "2022-04-25T14:03:33.423Z"
   },
   {
    "duration": 468,
    "start_time": "2022-04-25T14:03:33.721Z"
   },
   {
    "duration": 489,
    "start_time": "2022-04-25T14:03:34.191Z"
   },
   {
    "duration": 3,
    "start_time": "2022-04-25T14:15:48.612Z"
   },
   {
    "duration": 7,
    "start_time": "2022-04-25T14:19:48.665Z"
   },
   {
    "duration": 1414,
    "start_time": "2022-04-25T14:19:48.674Z"
   },
   {
    "duration": 15,
    "start_time": "2022-04-25T14:19:50.090Z"
   },
   {
    "duration": 246,
    "start_time": "2022-04-25T14:19:50.108Z"
   },
   {
    "duration": 6,
    "start_time": "2022-04-25T14:19:50.356Z"
   },
   {
    "duration": 8,
    "start_time": "2022-04-25T14:19:50.363Z"
   },
   {
    "duration": 14,
    "start_time": "2022-04-25T14:19:50.372Z"
   },
   {
    "duration": 11,
    "start_time": "2022-04-25T14:19:50.387Z"
   },
   {
    "duration": 14,
    "start_time": "2022-04-25T14:19:50.400Z"
   },
   {
    "duration": 52,
    "start_time": "2022-04-25T14:19:50.417Z"
   },
   {
    "duration": 11,
    "start_time": "2022-04-25T14:19:50.471Z"
   },
   {
    "duration": 5,
    "start_time": "2022-04-25T14:19:50.484Z"
   },
   {
    "duration": 7,
    "start_time": "2022-04-25T14:19:50.491Z"
   },
   {
    "duration": 10,
    "start_time": "2022-04-25T14:19:50.500Z"
   },
   {
    "duration": 4,
    "start_time": "2022-04-25T14:19:50.512Z"
   },
   {
    "duration": 1026,
    "start_time": "2022-04-25T14:19:50.518Z"
   },
   {
    "duration": 1086,
    "start_time": "2022-04-25T14:19:51.546Z"
   },
   {
    "duration": 1058,
    "start_time": "2022-04-25T14:19:52.634Z"
   },
   {
    "duration": 1260,
    "start_time": "2022-04-25T14:19:53.694Z"
   },
   {
    "duration": 990,
    "start_time": "2022-04-25T14:19:54.957Z"
   },
   {
    "duration": 1065,
    "start_time": "2022-04-25T14:19:55.954Z"
   },
   {
    "duration": 289,
    "start_time": "2022-04-25T14:19:57.021Z"
   },
   {
    "duration": 410,
    "start_time": "2022-04-25T14:19:57.312Z"
   },
   {
    "duration": 311,
    "start_time": "2022-04-25T14:19:57.724Z"
   },
   {
    "duration": 3,
    "start_time": "2022-04-25T14:19:58.037Z"
   },
   {
    "duration": 17,
    "start_time": "2022-04-25T14:19:58.041Z"
   },
   {
    "duration": 8,
    "start_time": "2022-04-25T14:19:58.060Z"
   },
   {
    "duration": 7,
    "start_time": "2022-04-25T14:19:58.071Z"
   },
   {
    "duration": 6,
    "start_time": "2022-04-25T14:19:58.079Z"
   },
   {
    "duration": 6,
    "start_time": "2022-04-25T14:19:58.086Z"
   },
   {
    "duration": 965,
    "start_time": "2022-04-25T14:19:58.094Z"
   },
   {
    "duration": 4,
    "start_time": "2022-04-25T14:22:55.381Z"
   },
   {
    "duration": 1411,
    "start_time": "2022-04-25T14:22:55.388Z"
   },
   {
    "duration": 15,
    "start_time": "2022-04-25T14:22:56.801Z"
   },
   {
    "duration": 230,
    "start_time": "2022-04-25T14:22:56.818Z"
   },
   {
    "duration": 5,
    "start_time": "2022-04-25T14:22:57.055Z"
   },
   {
    "duration": 7,
    "start_time": "2022-04-25T14:22:57.062Z"
   },
   {
    "duration": 6,
    "start_time": "2022-04-25T14:22:57.071Z"
   },
   {
    "duration": 6,
    "start_time": "2022-04-25T14:22:57.079Z"
   },
   {
    "duration": 6,
    "start_time": "2022-04-25T14:22:57.087Z"
   },
   {
    "duration": 66,
    "start_time": "2022-04-25T14:22:57.095Z"
   },
   {
    "duration": 10,
    "start_time": "2022-04-25T14:22:57.163Z"
   },
   {
    "duration": 4,
    "start_time": "2022-04-25T14:22:57.175Z"
   },
   {
    "duration": 7,
    "start_time": "2022-04-25T14:22:57.182Z"
   },
   {
    "duration": 10,
    "start_time": "2022-04-25T14:22:57.190Z"
   },
   {
    "duration": 6,
    "start_time": "2022-04-25T14:22:57.201Z"
   },
   {
    "duration": 1021,
    "start_time": "2022-04-25T14:22:57.208Z"
   },
   {
    "duration": 1105,
    "start_time": "2022-04-25T14:22:58.230Z"
   },
   {
    "duration": 998,
    "start_time": "2022-04-25T14:22:59.337Z"
   },
   {
    "duration": 1099,
    "start_time": "2022-04-25T14:23:00.338Z"
   },
   {
    "duration": 1123,
    "start_time": "2022-04-25T14:23:01.439Z"
   },
   {
    "duration": 1016,
    "start_time": "2022-04-25T14:23:02.564Z"
   },
   {
    "duration": 303,
    "start_time": "2022-04-25T14:23:03.582Z"
   },
   {
    "duration": 434,
    "start_time": "2022-04-25T14:23:03.886Z"
   },
   {
    "duration": 309,
    "start_time": "2022-04-25T14:23:04.322Z"
   },
   {
    "duration": 3,
    "start_time": "2022-04-25T14:23:04.633Z"
   },
   {
    "duration": 8,
    "start_time": "2022-04-25T14:23:04.637Z"
   },
   {
    "duration": 15,
    "start_time": "2022-04-25T14:23:04.647Z"
   },
   {
    "duration": 16,
    "start_time": "2022-04-25T14:23:04.664Z"
   },
   {
    "duration": 5,
    "start_time": "2022-04-25T14:23:04.681Z"
   },
   {
    "duration": 6,
    "start_time": "2022-04-25T14:23:04.687Z"
   },
   {
    "duration": 990,
    "start_time": "2022-04-25T14:23:04.695Z"
   },
   {
    "duration": 153,
    "start_time": "2022-04-25T14:23:05.686Z"
   },
   {
    "duration": 161,
    "start_time": "2022-04-25T14:23:05.841Z"
   },
   {
    "duration": 155,
    "start_time": "2022-04-25T14:23:06.003Z"
   },
   {
    "duration": 156,
    "start_time": "2022-04-25T14:23:06.160Z"
   },
   {
    "duration": 162,
    "start_time": "2022-04-25T14:23:06.318Z"
   },
   {
    "duration": 4,
    "start_time": "2022-04-25T14:31:28.326Z"
   },
   {
    "duration": 1896,
    "start_time": "2022-04-25T14:31:28.333Z"
   },
   {
    "duration": 35,
    "start_time": "2022-04-25T14:31:30.231Z"
   },
   {
    "duration": 363,
    "start_time": "2022-04-25T14:31:30.268Z"
   },
   {
    "duration": 7,
    "start_time": "2022-04-25T14:31:30.634Z"
   },
   {
    "duration": 49,
    "start_time": "2022-04-25T14:31:30.656Z"
   },
   {
    "duration": 23,
    "start_time": "2022-04-25T14:31:30.708Z"
   },
   {
    "duration": 30,
    "start_time": "2022-04-25T14:31:30.732Z"
   },
   {
    "duration": 20,
    "start_time": "2022-04-25T14:31:30.765Z"
   },
   {
    "duration": 88,
    "start_time": "2022-04-25T14:31:30.787Z"
   },
   {
    "duration": 10,
    "start_time": "2022-04-25T14:31:30.879Z"
   },
   {
    "duration": 15,
    "start_time": "2022-04-25T14:31:30.891Z"
   },
   {
    "duration": 33,
    "start_time": "2022-04-25T14:31:30.908Z"
   },
   {
    "duration": 29,
    "start_time": "2022-04-25T14:31:30.944Z"
   },
   {
    "duration": 13,
    "start_time": "2022-04-25T14:31:30.975Z"
   },
   {
    "duration": 1368,
    "start_time": "2022-04-25T14:31:30.990Z"
   },
   {
    "duration": 1484,
    "start_time": "2022-04-25T14:31:32.360Z"
   },
   {
    "duration": 1456,
    "start_time": "2022-04-25T14:31:33.846Z"
   },
   {
    "duration": 1321,
    "start_time": "2022-04-25T14:31:35.303Z"
   },
   {
    "duration": 1003,
    "start_time": "2022-04-25T14:31:36.625Z"
   },
   {
    "duration": 1095,
    "start_time": "2022-04-25T14:31:37.631Z"
   },
   {
    "duration": 444,
    "start_time": "2022-04-25T14:31:38.728Z"
   },
   {
    "duration": 324,
    "start_time": "2022-04-25T14:31:39.174Z"
   },
   {
    "duration": 328,
    "start_time": "2022-04-25T14:31:39.501Z"
   },
   {
    "duration": 4,
    "start_time": "2022-04-25T14:31:39.831Z"
   },
   {
    "duration": 18,
    "start_time": "2022-04-25T14:31:39.837Z"
   },
   {
    "duration": 23,
    "start_time": "2022-04-25T14:31:39.856Z"
   },
   {
    "duration": 26,
    "start_time": "2022-04-25T14:31:39.881Z"
   },
   {
    "duration": 15,
    "start_time": "2022-04-25T14:31:39.911Z"
   },
   {
    "duration": 13,
    "start_time": "2022-04-25T14:31:39.928Z"
   },
   {
    "duration": 1011,
    "start_time": "2022-04-25T14:31:39.943Z"
   },
   {
    "duration": 150,
    "start_time": "2022-04-25T14:31:40.956Z"
   },
   {
    "duration": 172,
    "start_time": "2022-04-25T14:31:41.109Z"
   },
   {
    "duration": 163,
    "start_time": "2022-04-25T14:31:41.283Z"
   },
   {
    "duration": 173,
    "start_time": "2022-04-25T14:31:41.448Z"
   },
   {
    "duration": 243,
    "start_time": "2022-04-25T14:31:41.624Z"
   },
   {
    "duration": 234,
    "start_time": "2022-04-25T14:31:41.869Z"
   },
   {
    "duration": 6,
    "start_time": "2022-04-25T14:31:42.105Z"
   },
   {
    "duration": 144,
    "start_time": "2022-04-25T14:31:42.114Z"
   },
   {
    "duration": 281,
    "start_time": "2022-04-25T14:31:42.260Z"
   },
   {
    "duration": 15,
    "start_time": "2022-04-25T14:31:42.544Z"
   },
   {
    "duration": 15,
    "start_time": "2022-04-25T14:31:42.561Z"
   },
   {
    "duration": 4,
    "start_time": "2022-04-25T14:50:06.341Z"
   },
   {
    "duration": 2667,
    "start_time": "2022-04-25T14:50:06.347Z"
   },
   {
    "duration": 14,
    "start_time": "2022-04-25T14:50:09.016Z"
   },
   {
    "duration": 231,
    "start_time": "2022-04-25T14:50:09.032Z"
   },
   {
    "duration": 7,
    "start_time": "2022-04-25T14:50:09.265Z"
   },
   {
    "duration": 26,
    "start_time": "2022-04-25T14:50:09.274Z"
   },
   {
    "duration": 9,
    "start_time": "2022-04-25T14:50:09.302Z"
   },
   {
    "duration": 7,
    "start_time": "2022-04-25T14:50:09.313Z"
   },
   {
    "duration": 4,
    "start_time": "2022-04-25T14:50:09.321Z"
   },
   {
    "duration": 61,
    "start_time": "2022-04-25T14:50:09.327Z"
   },
   {
    "duration": 11,
    "start_time": "2022-04-25T14:50:09.391Z"
   },
   {
    "duration": 6,
    "start_time": "2022-04-25T14:50:09.403Z"
   },
   {
    "duration": 16,
    "start_time": "2022-04-25T14:50:09.411Z"
   },
   {
    "duration": 23,
    "start_time": "2022-04-25T14:50:09.428Z"
   },
   {
    "duration": 8,
    "start_time": "2022-04-25T14:50:09.454Z"
   },
   {
    "duration": 1085,
    "start_time": "2022-04-25T14:50:09.464Z"
   },
   {
    "duration": 1031,
    "start_time": "2022-04-25T14:50:10.554Z"
   },
   {
    "duration": 938,
    "start_time": "2022-04-25T14:50:11.586Z"
   },
   {
    "duration": 1108,
    "start_time": "2022-04-25T14:50:12.526Z"
   },
   {
    "duration": 1249,
    "start_time": "2022-04-25T14:50:13.637Z"
   },
   {
    "duration": 1211,
    "start_time": "2022-04-25T14:50:14.888Z"
   },
   {
    "duration": 328,
    "start_time": "2022-04-25T14:50:16.101Z"
   },
   {
    "duration": 648,
    "start_time": "2022-04-25T14:50:16.431Z"
   },
   {
    "duration": 360,
    "start_time": "2022-04-25T14:50:17.081Z"
   },
   {
    "duration": 13,
    "start_time": "2022-04-25T14:50:17.442Z"
   },
   {
    "duration": 13,
    "start_time": "2022-04-25T14:50:17.457Z"
   },
   {
    "duration": 15,
    "start_time": "2022-04-25T14:50:17.472Z"
   },
   {
    "duration": 12,
    "start_time": "2022-04-25T14:50:17.489Z"
   },
   {
    "duration": 17,
    "start_time": "2022-04-25T14:50:17.505Z"
   },
   {
    "duration": 22,
    "start_time": "2022-04-25T14:50:17.524Z"
   },
   {
    "duration": 1193,
    "start_time": "2022-04-25T14:50:17.548Z"
   },
   {
    "duration": 152,
    "start_time": "2022-04-25T14:50:18.743Z"
   },
   {
    "duration": 160,
    "start_time": "2022-04-25T14:50:18.896Z"
   },
   {
    "duration": 157,
    "start_time": "2022-04-25T14:50:19.058Z"
   },
   {
    "duration": 165,
    "start_time": "2022-04-25T14:50:19.217Z"
   },
   {
    "duration": 156,
    "start_time": "2022-04-25T14:50:19.384Z"
   },
   {
    "duration": 156,
    "start_time": "2022-04-25T14:50:19.542Z"
   },
   {
    "duration": 7,
    "start_time": "2022-04-25T14:50:19.700Z"
   },
   {
    "duration": 15,
    "start_time": "2022-04-25T14:50:19.709Z"
   },
   {
    "duration": 173,
    "start_time": "2022-04-25T14:50:19.726Z"
   },
   {
    "duration": 6,
    "start_time": "2022-04-25T14:50:19.900Z"
   },
   {
    "duration": 14,
    "start_time": "2022-04-25T14:50:19.907Z"
   },
   {
    "duration": 150,
    "start_time": "2022-04-25T14:50:19.923Z"
   },
   {
    "duration": 6,
    "start_time": "2022-04-25T14:50:20.075Z"
   },
   {
    "duration": 39,
    "start_time": "2022-04-25T14:50:20.083Z"
   },
   {
    "duration": 9,
    "start_time": "2022-04-25T14:50:20.124Z"
   },
   {
    "duration": 23,
    "start_time": "2022-04-25T14:50:20.135Z"
   },
   {
    "duration": 43,
    "start_time": "2022-04-25T14:50:20.160Z"
   },
   {
    "duration": 80,
    "start_time": "2022-04-25T14:50:20.204Z"
   },
   {
    "duration": 14,
    "start_time": "2022-04-25T14:50:20.287Z"
   },
   {
    "duration": 120,
    "start_time": "2022-04-25T14:50:33.020Z"
   },
   {
    "duration": 12,
    "start_time": "2022-04-25T14:54:57.823Z"
   },
   {
    "duration": 13,
    "start_time": "2022-04-25T14:55:18.978Z"
   },
   {
    "duration": 11,
    "start_time": "2022-04-25T14:58:26.026Z"
   },
   {
    "duration": 30,
    "start_time": "2022-04-25T15:02:07.946Z"
   },
   {
    "duration": 24,
    "start_time": "2022-04-25T15:02:46.017Z"
   },
   {
    "duration": 24,
    "start_time": "2022-04-25T15:03:58.806Z"
   },
   {
    "duration": 26,
    "start_time": "2022-04-25T15:04:06.737Z"
   },
   {
    "duration": 24,
    "start_time": "2022-04-25T15:04:13.960Z"
   },
   {
    "duration": 24,
    "start_time": "2022-04-25T15:04:17.987Z"
   },
   {
    "duration": 25,
    "start_time": "2022-04-25T15:04:31.547Z"
   },
   {
    "duration": 3,
    "start_time": "2022-04-25T15:04:34.187Z"
   },
   {
    "duration": 1699,
    "start_time": "2022-04-25T19:02:06.253Z"
   },
   {
    "duration": 1357,
    "start_time": "2022-04-25T19:02:07.954Z"
   },
   {
    "duration": 14,
    "start_time": "2022-04-25T19:02:09.313Z"
   },
   {
    "duration": 221,
    "start_time": "2022-04-25T19:02:09.329Z"
   },
   {
    "duration": 9,
    "start_time": "2022-04-25T19:02:09.552Z"
   },
   {
    "duration": 6,
    "start_time": "2022-04-25T19:02:09.562Z"
   },
   {
    "duration": 9,
    "start_time": "2022-04-25T19:02:09.569Z"
   },
   {
    "duration": 28,
    "start_time": "2022-04-25T19:02:09.579Z"
   },
   {
    "duration": 16,
    "start_time": "2022-04-25T19:02:09.608Z"
   },
   {
    "duration": 37,
    "start_time": "2022-04-25T19:02:09.628Z"
   },
   {
    "duration": 11,
    "start_time": "2022-04-25T19:02:09.667Z"
   },
   {
    "duration": 22,
    "start_time": "2022-04-25T19:02:09.680Z"
   },
   {
    "duration": 14,
    "start_time": "2022-04-25T19:02:09.703Z"
   },
   {
    "duration": 11,
    "start_time": "2022-04-25T19:02:09.719Z"
   },
   {
    "duration": 6,
    "start_time": "2022-04-25T19:02:09.732Z"
   },
   {
    "duration": 1306,
    "start_time": "2022-04-25T19:02:09.740Z"
   },
   {
    "duration": 1018,
    "start_time": "2022-04-25T19:02:11.047Z"
   },
   {
    "duration": 886,
    "start_time": "2022-04-25T19:02:12.067Z"
   },
   {
    "duration": 910,
    "start_time": "2022-04-25T19:02:12.954Z"
   },
   {
    "duration": 1200,
    "start_time": "2022-04-25T19:02:13.866Z"
   },
   {
    "duration": 1249,
    "start_time": "2022-04-25T19:02:15.068Z"
   },
   {
    "duration": 264,
    "start_time": "2022-04-25T19:02:16.320Z"
   },
   {
    "duration": 274,
    "start_time": "2022-04-25T19:02:16.585Z"
   },
   {
    "duration": 284,
    "start_time": "2022-04-25T19:02:16.861Z"
   },
   {
    "duration": 3,
    "start_time": "2022-04-25T19:02:17.146Z"
   },
   {
    "duration": 5,
    "start_time": "2022-04-25T19:02:17.151Z"
   },
   {
    "duration": 5,
    "start_time": "2022-04-25T19:02:17.157Z"
   },
   {
    "duration": 4,
    "start_time": "2022-04-25T19:02:17.166Z"
   },
   {
    "duration": 6,
    "start_time": "2022-04-25T19:02:17.171Z"
   },
   {
    "duration": 1170,
    "start_time": "2022-04-25T19:02:17.199Z"
   },
   {
    "duration": 195,
    "start_time": "2022-04-25T19:02:18.372Z"
   },
   {
    "duration": 214,
    "start_time": "2022-04-25T19:02:18.569Z"
   },
   {
    "duration": 131,
    "start_time": "2022-04-25T19:02:18.785Z"
   },
   {
    "duration": 198,
    "start_time": "2022-04-25T19:02:18.917Z"
   },
   {
    "duration": 232,
    "start_time": "2022-04-25T19:02:19.117Z"
   },
   {
    "duration": 213,
    "start_time": "2022-04-25T19:02:19.351Z"
   },
   {
    "duration": 6,
    "start_time": "2022-04-25T19:02:19.566Z"
   },
   {
    "duration": 26,
    "start_time": "2022-04-25T19:02:19.574Z"
   },
   {
    "duration": 265,
    "start_time": "2022-04-25T19:02:19.602Z"
   },
   {
    "duration": 6,
    "start_time": "2022-04-25T19:02:19.869Z"
   },
   {
    "duration": 26,
    "start_time": "2022-04-25T19:02:19.877Z"
   },
   {
    "duration": 121,
    "start_time": "2022-04-25T19:02:19.904Z"
   },
   {
    "duration": 5,
    "start_time": "2022-04-25T19:02:20.027Z"
   },
   {
    "duration": 10,
    "start_time": "2022-04-25T19:02:20.033Z"
   },
   {
    "duration": 15,
    "start_time": "2022-04-25T19:02:20.045Z"
   },
   {
    "duration": 9,
    "start_time": "2022-04-25T19:02:20.062Z"
   },
   {
    "duration": 8,
    "start_time": "2022-04-25T19:02:20.072Z"
   },
   {
    "duration": 24,
    "start_time": "2022-04-25T19:02:20.081Z"
   },
   {
    "duration": 5,
    "start_time": "2022-04-25T19:02:20.106Z"
   },
   {
    "duration": 25,
    "start_time": "2022-04-25T19:02:31.506Z"
   },
   {
    "duration": 23,
    "start_time": "2022-04-25T19:02:32.787Z"
   },
   {
    "duration": 3,
    "start_time": "2022-04-25T19:02:33.388Z"
   }
  ],
  "kernelspec": {
   "display_name": "Python 3 (ipykernel)",
   "language": "python",
   "name": "python3"
  },
  "language_info": {
   "codemirror_mode": {
    "name": "ipython",
    "version": 3
   },
   "file_extension": ".py",
   "mimetype": "text/x-python",
   "name": "python",
   "nbconvert_exporter": "python",
   "pygments_lexer": "ipython3",
   "version": "3.9.5"
  },
  "toc": {
   "base_numbering": 1,
   "nav_menu": {},
   "number_sections": true,
   "sideBar": true,
   "skip_h1_title": true,
   "title_cell": "Содержание",
   "title_sidebar": "Contents",
   "toc_cell": true,
   "toc_position": {
    "height": "calc(100% - 180px)",
    "left": "10px",
    "top": "150px",
    "width": "335px"
   },
   "toc_section_display": true,
   "toc_window_display": true
  }
 },
 "nbformat": 4,
 "nbformat_minor": 2
}
