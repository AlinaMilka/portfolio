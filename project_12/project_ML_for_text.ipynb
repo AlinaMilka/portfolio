{
 "cells": [
  {
   "cell_type": "markdown",
   "metadata": {},
   "source": [
    "# Проект для «Викишоп»"
   ]
  },
  {
   "cell_type": "markdown",
   "metadata": {},
   "source": [
    "## Подготовка"
   ]
  },
  {
   "cell_type": "code",
   "execution_count": 1,
   "metadata": {},
   "outputs": [],
   "source": [
    "import pandas as pd\n",
    "import numpy as np\n",
    "import warnings\n",
    "warnings.filterwarnings('ignore')\n",
    "\n",
    "import nltk\n",
    "from nltk.stem import WordNetLemmatizer\n",
    "from sklearn.pipeline import Pipeline\n",
    "import re\n",
    "\n",
    "import nltk\n",
    "from nltk.corpus import stopwords as nltk_stopwords\n",
    "from sklearn.feature_extraction.text import TfidfVectorizer\n",
    "\n",
    "from sklearn.model_selection import train_test_split\n",
    "from sklearn.model_selection import GridSearchCV\n",
    "from lightgbm import LGBMClassifier\n",
    "from sklearn.tree import DecisionTreeClassifier\n",
    "from sklearn.ensemble import RandomForestClassifier\n",
    "from catboost import CatBoostClassifier\n",
    "from sklearn.linear_model import LogisticRegression\n",
    "from sklearn.metrics import f1_score\n",
    "state = 12345"
   ]
  },
  {
   "cell_type": "code",
   "execution_count": 2,
   "metadata": {},
   "outputs": [],
   "source": [
    "data = pd.read_csv('/datasets/toxic_comments.csv')"
   ]
  },
  {
   "cell_type": "code",
   "execution_count": 3,
   "metadata": {},
   "outputs": [
    {
     "name": "stdout",
     "output_type": "stream",
     "text": [
      "<class 'pandas.core.frame.DataFrame'>\n",
      "RangeIndex: 159571 entries, 0 to 159570\n",
      "Data columns (total 2 columns):\n",
      " #   Column  Non-Null Count   Dtype \n",
      "---  ------  --------------   ----- \n",
      " 0   text    159571 non-null  object\n",
      " 1   toxic   159571 non-null  int64 \n",
      "dtypes: int64(1), object(1)\n",
      "memory usage: 2.4+ MB\n"
     ]
    }
   ],
   "source": [
    "data.info()"
   ]
  },
  {
   "cell_type": "code",
   "execution_count": 4,
   "metadata": {},
   "outputs": [
    {
     "data": {
      "text/plain": [
       "text     0\n",
       "toxic    0\n",
       "dtype: int64"
      ]
     },
     "execution_count": 4,
     "metadata": {},
     "output_type": "execute_result"
    }
   ],
   "source": [
    "data.isna().sum()"
   ]
  },
  {
   "cell_type": "code",
   "execution_count": 5,
   "metadata": {},
   "outputs": [
    {
     "data": {
      "text/plain": [
       "0    143346\n",
       "1     16225\n",
       "Name: toxic, dtype: int64"
      ]
     },
     "execution_count": 5,
     "metadata": {},
     "output_type": "execute_result"
    }
   ],
   "source": [
    "data['toxic'].value_counts()"
   ]
  },
  {
   "cell_type": "markdown",
   "metadata": {},
   "source": [
    "### Вывод:"
   ]
  },
  {
   "cell_type": "markdown",
   "metadata": {},
   "source": [
    "- Информация о структуре данных - двумерная(DataFrame);\n",
    "- таблица имеет 159571 строк и 2 столбца; \n",
    "- присутствуют названия столбцов и количество ненулевых значений;\n",
    "- в таблице присутствуют значения типов int(1 столбeц) и object(1столбец);\n",
    "- использование памяти.\n",
    "\n",
    "Пропуски отсутствуют. Посмотрели сколько уникальных значений у столбца с целевыми признаками."
   ]
  },
  {
   "cell_type": "markdown",
   "metadata": {},
   "source": [
    "### Лемматизация"
   ]
  },
  {
   "cell_type": "code",
   "execution_count": 7,
   "metadata": {},
   "outputs": [],
   "source": [
    "#def lemmatize(text):\n",
    "    #m = Mystem()\n",
    "    #lemm_list = m.lemmatize(text)\n",
    "    #lemm_text = \"\".join(lemm_list)\n",
    "        \n",
    "    #return lemm_text"
   ]
  },
  {
   "cell_type": "code",
   "execution_count": 8,
   "metadata": {},
   "outputs": [],
   "source": [
    "data['text'] = data['text'].map(str)"
   ]
  },
  {
   "cell_type": "code",
   "execution_count": 9,
   "metadata": {},
   "outputs": [],
   "source": [
    "def lemmatize(text):\n",
    "    word_list = nltk.word_tokenize(text)\n",
    "    wnl = WordNetLemmatizer()\n",
    "    lemm_text = \" \".join([wnl.lemmatize(w) for w in word_list])\n",
    "        \n",
    "    return lemm_text"
   ]
  },
  {
   "cell_type": "markdown",
   "metadata": {},
   "source": [
    "Напишем функцию, которая оставит в тексте только латинские символы и пробелы:"
   ]
  },
  {
   "cell_type": "code",
   "execution_count": 10,
   "metadata": {},
   "outputs": [],
   "source": [
    "def clear_text(text):\n",
    "    text = text.lower()\n",
    "    clear_text = re.sub(r'[^а-яА-ЯёЁa-zA-Z]', ' ', text)\n",
    "    clear_text = clear_text.split()\n",
    "    clear_text = \" \".join(clear_text)\n",
    "    return clear_text"
   ]
  },
  {
   "cell_type": "markdown",
   "metadata": {},
   "source": [
    "### Очищенный и лемматизированный текст:"
   ]
  },
  {
   "cell_type": "code",
   "execution_count": 11,
   "metadata": {},
   "outputs": [
    {
     "data": {
      "text/plain": [
       "'explanation why the edits made under my username hardcore metallica fan were reverted they weren t vandalism just closure on some gas after i voted at new york doll fac and please don t remove the template from the talk page since i m retired now'"
      ]
     },
     "execution_count": 11,
     "metadata": {},
     "output_type": "execute_result"
    }
   ],
   "source": [
    "lemmatize(clear_text(data['text'][0]))"
   ]
  },
  {
   "cell_type": "code",
   "execution_count": 12,
   "metadata": {},
   "outputs": [
    {
     "name": "stderr",
     "output_type": "stream",
     "text": [
      "[nltk_data] Downloading package stopwords to /home/jovyan/nltk_data...\n",
      "[nltk_data]   Package stopwords is already up-to-date!\n"
     ]
    }
   ],
   "source": [
    "nltk.download('stopwords')\n",
    "stopwords = set(nltk_stopwords.words('english'))"
   ]
  },
  {
   "cell_type": "markdown",
   "metadata": {},
   "source": [
    "## Обучение"
   ]
  },
  {
   "cell_type": "code",
   "execution_count": 13,
   "metadata": {},
   "outputs": [],
   "source": [
    "features = data.drop('toxic', axis=1)\n",
    "target = data['toxic']"
   ]
  },
  {
   "cell_type": "code",
   "execution_count": 14,
   "metadata": {},
   "outputs": [],
   "source": [
    "features_train, features_test, target_train, target_test = train_test_split(features, target, test_size = 0.25, random_state=state)"
   ]
  },
  {
   "cell_type": "code",
   "execution_count": 15,
   "metadata": {},
   "outputs": [],
   "source": [
    "tf_idf = TfidfVectorizer(ngram_range=(1,3), min_df=3, stop_words=stopwords)"
   ]
  },
  {
   "cell_type": "code",
   "execution_count": 16,
   "metadata": {},
   "outputs": [],
   "source": [
    "features_train = tf_idf.fit_transform(features_train['text'])\n",
    "features_test = tf_idf.transform(features_test['text'])"
   ]
  },
  {
   "cell_type": "code",
   "execution_count": 17,
   "metadata": {},
   "outputs": [
    {
     "name": "stdout",
     "output_type": "stream",
     "text": [
      "(119678, 281863)\n",
      "(39893, 281863)\n"
     ]
    }
   ],
   "source": [
    "print(features_train.shape)\n",
    "print(features_test.shape)"
   ]
  },
  {
   "cell_type": "markdown",
   "metadata": {},
   "source": [
    "### Логистическая регрессия(LogisticRegression)"
   ]
  },
  {
   "cell_type": "code",
   "execution_count": 56,
   "metadata": {},
   "outputs": [
    {
     "name": "stdout",
     "output_type": "stream",
     "text": [
      "Лучшие гиперпараметры для модели:  {'C': 100, 'class_weight': None}\n",
      "F1: 0.7819994610617085\n",
      "CPU times: user 7min 43s, sys: 12min 33s, total: 20min 17s\n",
      "Wall time: 20min 19s\n"
     ]
    }
   ],
   "source": [
    "%%time\n",
    "\n",
    "model_logreg = LogisticRegression()\n",
    "parametrs = {\n",
    "        'C': [0.1, 1, 10, 100],\n",
    "        'class_weight': ['balanced', None]}\n",
    "model_logreg_grid = GridSearchCV(model_logreg, parametrs, cv=3)\n",
    "model_logreg_grid.fit(features_train, target_train)\n",
    "pred_logreg_test = model_logreg_grid.predict(features_test)\n",
    "f1_logreg_test = f1_score(target_test, pred_logreg_test)\n",
    "\n",
    "print('Лучшие гиперпараметры для модели: ', model_logreg_grid.best_params_)\n",
    "print('F1:',  f1_logreg_test)"
   ]
  },
  {
   "cell_type": "markdown",
   "metadata": {},
   "source": [
    "Лучшие гиперпараметры для модели:  {'C': 100, 'class_weight': None}\n",
    "F1: 0.7819994610617085\n",
    "CPU times: user 7min 43s, sys: 12min 33s, total: 20min 17s\n",
    "Wall time: 20min 19s"
   ]
  },
  {
   "cell_type": "markdown",
   "metadata": {},
   "source": [
    "### LightGBM(LGBMClassifier)"
   ]
  },
  {
   "cell_type": "code",
   "execution_count": null,
   "metadata": {},
   "outputs": [],
   "source": [
    "%%time\n",
    "\n",
    "model_lgbmc = LGBMClassifier()\n",
    "parametrs = {\n",
    "        #'boosting_type' : ['gbdt'],\n",
    "        'n_estimators' : range(10, 100, 10),\n",
    "        'max_depth' : range(1, 16, 2),\n",
    "        'random_state' : [state],\n",
    "        'learning_rate' : [0.15, 0.25],\n",
    "        #'num_leaves' : [31]\n",
    "             }\n",
    "model_lgbmc_grid = GridSearchCV(model_lgbmc, parametrs, cv=3)\n",
    "model_lgbmc_grid.fit(features_train, target_train)\n",
    "pred_lgbmc_test = model_lgbmc_grid.predict(features_test)\n",
    "f1_lgbmc_test = f1_score(target_test, pred_lgbmc_test)\n",
    "\n",
    "print('Лучшие гиперпараметры для модели: ', model_lgbmc_grid.best_params_)\n",
    "print('F1:',  f1_lgbmc_test)"
   ]
  },
  {
   "cell_type": "markdown",
   "metadata": {},
   "source": [
    "### Дерево решений(DecisionTreeClassifier)"
   ]
  },
  {
   "cell_type": "code",
   "execution_count": 55,
   "metadata": {
    "scrolled": false
   },
   "outputs": [
    {
     "name": "stdout",
     "output_type": "stream",
     "text": [
      "Глубина дерева для лучшей модели: {'max_depth': 15}\n",
      "F1: 0.6268939393939393\n",
      "CPU times: user 3min 40s, sys: 839 ms, total: 3min 41s\n",
      "Wall time: 3min 41s\n"
     ]
    }
   ],
   "source": [
    "%%time\n",
    "\n",
    "model_tree = DecisionTreeClassifier(random_state=state)\n",
    "parametrs = {'max_depth': range (1,16, 2)}\n",
    "model_tree_grid = GridSearchCV(model_tree, parametrs, cv=3)\n",
    "model_tree_grid.fit(features_train, target_train)\n",
    "pred_tree_test = model_tree_grid.predict(features_test)\n",
    "f1_tree_test = f1_score(target_test, pred_tree_test)\n",
    "\n",
    "print('Глубина дерева для лучшей модели:', model_tree_grid.best_params_)\n",
    "print('F1:',  f1_tree_test)"
   ]
  },
  {
   "cell_type": "markdown",
   "metadata": {},
   "source": [
    "Глубина дерева для лучшей модели: {'max_depth': 15}\n",
    "F1: 0.6268939393939393\n",
    "CPU times: user 3min 40s, sys: 839 ms, total: 3min 41s\n",
    "Wall time: 3min 41s"
   ]
  },
  {
   "cell_type": "code",
   "execution_count": 18,
   "metadata": {
    "scrolled": false
   },
   "outputs": [],
   "source": [
    "#%%time\n",
    "\n",
    "#pipe_tree = Pipeline([\n",
    "    #('tfidf', TfidfVectorizer(ngram_range=(1,3), max_features=6, stop_words=stopwords)),\n",
    "    #('m_tree', DecisionTreeClassifier(random_state=12345))])\n",
    "\n",
    "#param_tree = {'m_tree__max_depth': range (1,16, 2)}\n",
    "\n",
    "#tree_grid = GridSearchCV(estimator=pipe_tree, param_grid=param_tree, cv=3)\n",
    "#tree_grid.fit(features_train, target_train)\n",
    "\n",
    "#print('Глубина дерева для лучшей модели:', tree_grid.best_params_)"
   ]
  },
  {
   "cell_type": "markdown",
   "metadata": {},
   "source": [
    "### CatBoostClassifier"
   ]
  },
  {
   "cell_type": "code",
   "execution_count": null,
   "metadata": {},
   "outputs": [],
   "source": [
    "%%time\n",
    "\n",
    "model_cat = CatBoostClassifier()\n",
    "parametrs = {\n",
    "         'iterations': [200],\n",
    "         'learning_rate': [0.15],\n",
    "         'random_state' : [state]}\n",
    "model_cat_grid = GridSearchCV(model_cat, parametrs, cv=3)\n",
    "model_cat_grid.fit(features_train, target_train)\n",
    "pred_cat_test = model_cat_grid.predict(features_test)\n",
    "f1_cat_test = f1_score(target_test, pred_cat_test)\n",
    "\n",
    "print('Лучшие гиперпараметры для модели:', model_cat_grid.best_params_)\n",
    "print('F1:',  f1_cat_test)"
   ]
  },
  {
   "cell_type": "markdown",
   "metadata": {},
   "source": [
    "### Случайный лес(RandomForestClassifier)"
   ]
  },
  {
   "cell_type": "code",
   "execution_count": 18,
   "metadata": {},
   "outputs": [
    {
     "name": "stdout",
     "output_type": "stream",
     "text": [
      "Количество деревьев для лучшей модели: {'n_estimators': 90}\n",
      "F1: 0.7213797204876597\n",
      "CPU times: user 2h 28min 2s, sys: 4.24 s, total: 2h 28min 6s\n",
      "Wall time: 2h 28min 8s\n"
     ]
    }
   ],
   "source": [
    "%%time\n",
    "\n",
    "model_forest = RandomForestClassifier(random_state=state)\n",
    "parametrs = {'n_estimators': range(10, 100, 10)}\n",
    "model_forest_grid = GridSearchCV(model_forest, parametrs, cv=3)\n",
    "model_forest_grid.fit(features_train, target_train)\n",
    "pred_forest_test = model_forest_grid.predict(features_test)\n",
    "f1_forest_test = f1_score(target_test, pred_forest_test)\n",
    "\n",
    "print('Количество деревьев для лучшей модели:', model_forest_grid.best_params_)\n",
    "print('F1:',  f1_forest_test)"
   ]
  },
  {
   "cell_type": "markdown",
   "metadata": {},
   "source": [
    "Количество деревьев для лучшей модели: {'n_estimators': 90}\n",
    "F1: 0.7213797204876597\n",
    "CPU times: user 2h 28min 2s, sys: 4.24 s, total: 2h 28min 6s\n",
    "Wall time: 2h 28min 8s"
   ]
  },
  {
   "cell_type": "markdown",
   "metadata": {},
   "source": [
    "## Выводы"
   ]
  },
  {
   "cell_type": "markdown",
   "metadata": {},
   "source": [
    "Из трех посчитанных моделей лучший результат показала модель Логистическая регрессия(LogisticRegression) с метрикой качества F1-мера = 0.78. На втором месте оказалась модель Случайный лес(RandomForestClassifier) с метрой качества F1-мера = 0.72, а на треттем месте модель Дерево решений(DecisionTreeClassifier) с метрой качества F1-мера = 0.62."
   ]
  }
 ],
 "metadata": {
  "ExecuteTimeLog": [
   {
    "duration": 54,
    "start_time": "2022-06-15T16:01:26.198Z"
   },
   {
    "duration": 1606,
    "start_time": "2022-06-15T16:01:28.952Z"
   },
   {
    "duration": 99,
    "start_time": "2022-06-15T16:01:30.561Z"
   },
   {
    "duration": 3295,
    "start_time": "2022-06-15T16:01:50.645Z"
   },
   {
    "duration": 831,
    "start_time": "2022-06-15T16:01:54.807Z"
   },
   {
    "duration": 758,
    "start_time": "2022-06-15T16:02:04.692Z"
   },
   {
    "duration": 33,
    "start_time": "2022-06-15T16:02:37.159Z"
   },
   {
    "duration": 25,
    "start_time": "2022-06-15T16:03:54.678Z"
   },
   {
    "duration": 6,
    "start_time": "2022-06-15T16:04:17.239Z"
   },
   {
    "duration": 1797,
    "start_time": "2022-06-16T12:49:48.795Z"
   },
   {
    "duration": 3346,
    "start_time": "2022-06-16T12:49:50.595Z"
   },
   {
    "duration": 38,
    "start_time": "2022-06-16T12:49:53.943Z"
   },
   {
    "duration": 43,
    "start_time": "2022-06-16T12:49:53.983Z"
   },
   {
    "duration": 20,
    "start_time": "2022-06-16T12:49:54.029Z"
   },
   {
    "duration": 33,
    "start_time": "2022-06-16T12:49:54.052Z"
   },
   {
    "duration": 3,
    "start_time": "2022-06-16T13:02:25.151Z"
   },
   {
    "duration": 684,
    "start_time": "2022-06-16T13:02:25.156Z"
   },
   {
    "duration": 22,
    "start_time": "2022-06-16T13:02:25.841Z"
   },
   {
    "duration": 24,
    "start_time": "2022-06-16T13:02:25.865Z"
   },
   {
    "duration": 23,
    "start_time": "2022-06-16T13:02:25.891Z"
   },
   {
    "duration": 1721,
    "start_time": "2022-06-16T13:02:25.915Z"
   },
   {
    "duration": 5,
    "start_time": "2022-06-16T13:02:27.638Z"
   },
   {
    "duration": 6,
    "start_time": "2022-06-16T13:02:27.644Z"
   },
   {
    "duration": 687,
    "start_time": "2022-06-16T13:02:27.651Z"
   },
   {
    "duration": 5,
    "start_time": "2022-06-16T13:07:54.934Z"
   },
   {
    "duration": 749,
    "start_time": "2022-06-16T13:07:54.941Z"
   },
   {
    "duration": 40,
    "start_time": "2022-06-16T13:07:55.692Z"
   },
   {
    "duration": 28,
    "start_time": "2022-06-16T13:07:55.734Z"
   },
   {
    "duration": 7,
    "start_time": "2022-06-16T13:07:55.764Z"
   },
   {
    "duration": 1381,
    "start_time": "2022-06-16T13:08:04.648Z"
   },
   {
    "duration": 3183,
    "start_time": "2022-06-16T13:08:06.031Z"
   },
   {
    "duration": 32,
    "start_time": "2022-06-16T13:08:09.216Z"
   },
   {
    "duration": 30,
    "start_time": "2022-06-16T13:08:09.250Z"
   },
   {
    "duration": 7,
    "start_time": "2022-06-16T13:08:09.282Z"
   },
   {
    "duration": 1851,
    "start_time": "2022-06-16T13:08:09.290Z"
   },
   {
    "duration": 26,
    "start_time": "2022-06-16T13:08:11.143Z"
   },
   {
    "duration": 17,
    "start_time": "2022-06-16T13:08:11.170Z"
   },
   {
    "duration": 753,
    "start_time": "2022-06-16T13:08:11.188Z"
   },
   {
    "duration": 375,
    "start_time": "2022-06-16T13:29:50.781Z"
   },
   {
    "duration": 685,
    "start_time": "2022-06-16T13:29:51.157Z"
   },
   {
    "duration": 28,
    "start_time": "2022-06-16T13:29:51.844Z"
   },
   {
    "duration": 24,
    "start_time": "2022-06-16T13:29:51.873Z"
   },
   {
    "duration": 5,
    "start_time": "2022-06-16T13:29:51.898Z"
   },
   {
    "duration": 1618,
    "start_time": "2022-06-16T13:29:58.775Z"
   },
   {
    "duration": 3025,
    "start_time": "2022-06-16T13:30:00.395Z"
   },
   {
    "duration": 27,
    "start_time": "2022-06-16T13:30:03.422Z"
   },
   {
    "duration": 28,
    "start_time": "2022-06-16T13:30:03.450Z"
   },
   {
    "duration": 9,
    "start_time": "2022-06-16T13:30:03.480Z"
   },
   {
    "duration": 1751,
    "start_time": "2022-06-16T13:30:03.490Z"
   },
   {
    "duration": 5,
    "start_time": "2022-06-16T13:30:05.242Z"
   },
   {
    "duration": 6,
    "start_time": "2022-06-16T13:30:05.248Z"
   },
   {
    "duration": 756,
    "start_time": "2022-06-16T13:30:05.255Z"
   },
   {
    "duration": 240,
    "start_time": "2022-06-16T13:30:06.014Z"
   },
   {
    "duration": 27,
    "start_time": "2022-06-16T13:30:06.256Z"
   },
   {
    "duration": 27,
    "start_time": "2022-06-16T13:30:06.284Z"
   },
   {
    "duration": 35,
    "start_time": "2022-06-16T13:45:13.514Z"
   },
   {
    "duration": 4,
    "start_time": "2022-06-16T14:17:00.804Z"
   },
   {
    "duration": 721,
    "start_time": "2022-06-16T14:17:00.810Z"
   },
   {
    "duration": 31,
    "start_time": "2022-06-16T14:17:01.532Z"
   },
   {
    "duration": 30,
    "start_time": "2022-06-16T14:17:01.564Z"
   },
   {
    "duration": 18,
    "start_time": "2022-06-16T14:17:01.596Z"
   },
   {
    "duration": 1691,
    "start_time": "2022-06-16T14:22:09.345Z"
   },
   {
    "duration": 3139,
    "start_time": "2022-06-16T14:22:11.038Z"
   },
   {
    "duration": 30,
    "start_time": "2022-06-16T14:22:14.178Z"
   },
   {
    "duration": 31,
    "start_time": "2022-06-16T14:22:14.210Z"
   },
   {
    "duration": 6,
    "start_time": "2022-06-16T14:22:14.243Z"
   },
   {
    "duration": 1892,
    "start_time": "2022-06-16T14:22:14.250Z"
   },
   {
    "duration": 12,
    "start_time": "2022-06-16T14:22:16.144Z"
   },
   {
    "duration": 5,
    "start_time": "2022-06-16T14:22:16.158Z"
   },
   {
    "duration": 855,
    "start_time": "2022-06-16T14:22:16.164Z"
   },
   {
    "duration": 233,
    "start_time": "2022-06-16T14:22:17.021Z"
   },
   {
    "duration": 27,
    "start_time": "2022-06-16T14:22:17.256Z"
   },
   {
    "duration": 37,
    "start_time": "2022-06-16T14:22:17.285Z"
   },
   {
    "duration": 12,
    "start_time": "2022-06-16T14:22:17.323Z"
   },
   {
    "duration": 23533,
    "start_time": "2022-06-16T14:22:17.337Z"
   },
   {
    "duration": 41,
    "start_time": "2022-06-16T14:22:57.865Z"
   },
   {
    "duration": 1533,
    "start_time": "2022-06-16T14:23:27.410Z"
   },
   {
    "duration": 3109,
    "start_time": "2022-06-16T14:23:28.945Z"
   },
   {
    "duration": 32,
    "start_time": "2022-06-16T14:23:32.055Z"
   },
   {
    "duration": 34,
    "start_time": "2022-06-16T14:23:32.089Z"
   },
   {
    "duration": 6,
    "start_time": "2022-06-16T14:23:32.125Z"
   },
   {
    "duration": 1814,
    "start_time": "2022-06-16T14:23:32.132Z"
   },
   {
    "duration": 7,
    "start_time": "2022-06-16T14:23:33.948Z"
   },
   {
    "duration": 5,
    "start_time": "2022-06-16T14:23:33.956Z"
   },
   {
    "duration": 835,
    "start_time": "2022-06-16T14:23:33.962Z"
   },
   {
    "duration": 157,
    "start_time": "2022-06-16T14:23:34.800Z"
   },
   {
    "duration": 27,
    "start_time": "2022-06-16T14:23:34.959Z"
   },
   {
    "duration": 28,
    "start_time": "2022-06-16T14:23:34.987Z"
   },
   {
    "duration": 3,
    "start_time": "2022-06-16T14:23:35.016Z"
   },
   {
    "duration": 23895,
    "start_time": "2022-06-16T14:23:35.021Z"
   },
   {
    "duration": 75,
    "start_time": "2022-06-16T14:25:37.443Z"
   },
   {
    "duration": 1462,
    "start_time": "2022-06-17T08:45:02.100Z"
   },
   {
    "duration": 2652,
    "start_time": "2022-06-17T08:45:03.565Z"
   },
   {
    "duration": 36,
    "start_time": "2022-06-17T08:45:06.219Z"
   },
   {
    "duration": 38,
    "start_time": "2022-06-17T08:45:06.258Z"
   },
   {
    "duration": 7,
    "start_time": "2022-06-17T08:45:06.298Z"
   },
   {
    "duration": 2059,
    "start_time": "2022-06-17T08:45:06.307Z"
   },
   {
    "duration": 16,
    "start_time": "2022-06-17T08:45:08.368Z"
   },
   {
    "duration": 10,
    "start_time": "2022-06-17T08:45:08.386Z"
   },
   {
    "duration": 906,
    "start_time": "2022-06-17T08:45:08.398Z"
   },
   {
    "duration": 263,
    "start_time": "2022-06-17T08:45:09.307Z"
   },
   {
    "duration": 31,
    "start_time": "2022-06-17T08:45:09.572Z"
   },
   {
    "duration": 38,
    "start_time": "2022-06-17T08:45:09.604Z"
   },
   {
    "duration": 3,
    "start_time": "2022-06-17T08:45:09.643Z"
   },
   {
    "duration": 28465,
    "start_time": "2022-06-17T08:45:09.648Z"
   },
   {
    "duration": 51,
    "start_time": "2022-06-17T08:46:01.166Z"
   },
   {
    "duration": 1362,
    "start_time": "2022-06-17T08:46:56.574Z"
   },
   {
    "duration": 2626,
    "start_time": "2022-06-17T08:46:57.938Z"
   },
   {
    "duration": 39,
    "start_time": "2022-06-17T08:47:00.566Z"
   },
   {
    "duration": 46,
    "start_time": "2022-06-17T08:47:00.608Z"
   },
   {
    "duration": 17,
    "start_time": "2022-06-17T08:47:00.657Z"
   },
   {
    "duration": 2024,
    "start_time": "2022-06-17T08:47:00.675Z"
   },
   {
    "duration": 13,
    "start_time": "2022-06-17T08:47:02.701Z"
   },
   {
    "duration": 11,
    "start_time": "2022-06-17T08:47:02.716Z"
   },
   {
    "duration": 865,
    "start_time": "2022-06-17T08:47:02.731Z"
   },
   {
    "duration": 210,
    "start_time": "2022-06-17T08:47:03.598Z"
   },
   {
    "duration": 33,
    "start_time": "2022-06-17T08:47:03.810Z"
   },
   {
    "duration": 28,
    "start_time": "2022-06-17T08:47:03.845Z"
   },
   {
    "duration": 3,
    "start_time": "2022-06-17T08:47:03.875Z"
   },
   {
    "duration": 27609,
    "start_time": "2022-06-17T08:47:03.880Z"
   },
   {
    "duration": 1366,
    "start_time": "2022-06-17T08:51:10.113Z"
   },
   {
    "duration": 2604,
    "start_time": "2022-06-17T08:51:11.481Z"
   },
   {
    "duration": 36,
    "start_time": "2022-06-17T08:51:14.087Z"
   },
   {
    "duration": 36,
    "start_time": "2022-06-17T08:51:14.135Z"
   },
   {
    "duration": 6,
    "start_time": "2022-06-17T08:51:14.173Z"
   },
   {
    "duration": 2002,
    "start_time": "2022-06-17T08:51:14.180Z"
   },
   {
    "duration": 6,
    "start_time": "2022-06-17T08:51:16.184Z"
   },
   {
    "duration": 6,
    "start_time": "2022-06-17T08:51:16.191Z"
   },
   {
    "duration": 833,
    "start_time": "2022-06-17T08:51:16.199Z"
   },
   {
    "duration": 222,
    "start_time": "2022-06-17T08:51:17.040Z"
   },
   {
    "duration": 33,
    "start_time": "2022-06-17T08:51:17.263Z"
   },
   {
    "duration": 35,
    "start_time": "2022-06-17T08:51:17.298Z"
   },
   {
    "duration": 3,
    "start_time": "2022-06-17T08:51:17.335Z"
   },
   {
    "duration": 27629,
    "start_time": "2022-06-17T08:51:17.340Z"
   },
   {
    "duration": 2,
    "start_time": "2022-06-17T08:51:44.971Z"
   },
   {
    "duration": 9,
    "start_time": "2022-06-17T08:51:44.975Z"
   },
   {
    "duration": 1411,
    "start_time": "2022-06-20T06:19:18.318Z"
   },
   {
    "duration": 2279,
    "start_time": "2022-06-20T06:19:19.731Z"
   },
   {
    "duration": 31,
    "start_time": "2022-06-20T06:19:22.011Z"
   },
   {
    "duration": 33,
    "start_time": "2022-06-20T06:19:22.043Z"
   },
   {
    "duration": 6,
    "start_time": "2022-06-20T06:19:22.079Z"
   },
   {
    "duration": 1932,
    "start_time": "2022-06-20T06:19:22.087Z"
   },
   {
    "duration": 13,
    "start_time": "2022-06-20T06:19:24.020Z"
   },
   {
    "duration": 7,
    "start_time": "2022-06-20T06:19:24.034Z"
   },
   {
    "duration": 798,
    "start_time": "2022-06-20T06:19:24.042Z"
   },
   {
    "duration": 205,
    "start_time": "2022-06-20T06:19:24.841Z"
   },
   {
    "duration": 30,
    "start_time": "2022-06-20T06:19:25.048Z"
   },
   {
    "duration": 25,
    "start_time": "2022-06-20T06:19:25.080Z"
   },
   {
    "duration": 3,
    "start_time": "2022-06-20T06:19:25.107Z"
   },
   {
    "duration": 24949,
    "start_time": "2022-06-20T06:19:25.126Z"
   },
   {
    "duration": 2,
    "start_time": "2022-06-20T06:19:50.077Z"
   },
   {
    "duration": 16,
    "start_time": "2022-06-20T06:19:50.080Z"
   },
   {
    "duration": 1459,
    "start_time": "2022-06-20T06:44:53.987Z"
   },
   {
    "duration": 1411,
    "start_time": "2022-06-20T06:44:55.448Z"
   },
   {
    "duration": 43,
    "start_time": "2022-06-20T06:44:56.861Z"
   },
   {
    "duration": 44,
    "start_time": "2022-06-20T06:44:56.907Z"
   },
   {
    "duration": 6,
    "start_time": "2022-06-20T06:44:56.953Z"
   },
   {
    "duration": 1966,
    "start_time": "2022-06-20T06:44:56.961Z"
   },
   {
    "duration": 20,
    "start_time": "2022-06-20T06:44:58.929Z"
   },
   {
    "duration": 7,
    "start_time": "2022-06-20T06:44:58.951Z"
   },
   {
    "duration": 780,
    "start_time": "2022-06-20T06:44:58.960Z"
   },
   {
    "duration": 132,
    "start_time": "2022-06-20T06:44:59.743Z"
   },
   {
    "duration": 30,
    "start_time": "2022-06-20T06:44:59.877Z"
   },
   {
    "duration": 27,
    "start_time": "2022-06-20T06:44:59.909Z"
   },
   {
    "duration": 3,
    "start_time": "2022-06-20T06:44:59.938Z"
   },
   {
    "duration": 25628,
    "start_time": "2022-06-20T06:44:59.942Z"
   },
   {
    "duration": 101,
    "start_time": "2022-06-20T06:49:10.862Z"
   },
   {
    "duration": 2,
    "start_time": "2022-06-20T06:50:08.889Z"
   },
   {
    "duration": 1407,
    "start_time": "2022-06-20T06:56:33.104Z"
   },
   {
    "duration": 2286,
    "start_time": "2022-06-20T06:56:34.513Z"
   },
   {
    "duration": 32,
    "start_time": "2022-06-20T06:56:36.801Z"
   },
   {
    "duration": 32,
    "start_time": "2022-06-20T06:56:36.835Z"
   },
   {
    "duration": 10,
    "start_time": "2022-06-20T06:56:36.869Z"
   },
   {
    "duration": 1907,
    "start_time": "2022-06-20T06:56:36.881Z"
   },
   {
    "duration": 5,
    "start_time": "2022-06-20T06:56:38.790Z"
   },
   {
    "duration": 5,
    "start_time": "2022-06-20T06:56:38.797Z"
   },
   {
    "duration": 787,
    "start_time": "2022-06-20T06:56:38.803Z"
   },
   {
    "duration": 213,
    "start_time": "2022-06-20T06:56:39.593Z"
   },
   {
    "duration": 29,
    "start_time": "2022-06-20T06:56:39.807Z"
   },
   {
    "duration": 30,
    "start_time": "2022-06-20T06:56:39.838Z"
   },
   {
    "duration": 3,
    "start_time": "2022-06-20T06:56:39.869Z"
   },
   {
    "duration": 25184,
    "start_time": "2022-06-20T06:56:39.873Z"
   },
   {
    "duration": 3,
    "start_time": "2022-06-20T06:57:05.058Z"
   },
   {
    "duration": 1408,
    "start_time": "2022-06-20T06:58:23.101Z"
   },
   {
    "duration": 2289,
    "start_time": "2022-06-20T06:58:24.511Z"
   },
   {
    "duration": 31,
    "start_time": "2022-06-20T06:58:26.801Z"
   },
   {
    "duration": 29,
    "start_time": "2022-06-20T06:58:26.833Z"
   },
   {
    "duration": 9,
    "start_time": "2022-06-20T06:58:26.864Z"
   },
   {
    "duration": 1921,
    "start_time": "2022-06-20T06:58:26.875Z"
   },
   {
    "duration": 12,
    "start_time": "2022-06-20T06:58:28.797Z"
   },
   {
    "duration": 7,
    "start_time": "2022-06-20T06:58:28.811Z"
   },
   {
    "duration": 790,
    "start_time": "2022-06-20T06:58:28.819Z"
   },
   {
    "duration": 216,
    "start_time": "2022-06-20T06:58:29.611Z"
   },
   {
    "duration": 28,
    "start_time": "2022-06-20T06:58:29.828Z"
   },
   {
    "duration": 33,
    "start_time": "2022-06-20T06:58:29.858Z"
   },
   {
    "duration": 2,
    "start_time": "2022-06-20T06:58:29.893Z"
   },
   {
    "duration": 24902,
    "start_time": "2022-06-20T06:58:29.898Z"
   },
   {
    "duration": 3,
    "start_time": "2022-06-20T06:58:54.801Z"
   },
   {
    "duration": 1451,
    "start_time": "2022-06-20T07:12:16.213Z"
   },
   {
    "duration": 2332,
    "start_time": "2022-06-20T07:12:17.666Z"
   },
   {
    "duration": 33,
    "start_time": "2022-06-20T07:12:20.000Z"
   },
   {
    "duration": 42,
    "start_time": "2022-06-20T07:12:20.034Z"
   },
   {
    "duration": 10,
    "start_time": "2022-06-20T07:12:20.078Z"
   },
   {
    "duration": 1944,
    "start_time": "2022-06-20T07:12:20.090Z"
   },
   {
    "duration": 8,
    "start_time": "2022-06-20T07:12:22.036Z"
   },
   {
    "duration": 8,
    "start_time": "2022-06-20T07:12:22.046Z"
   },
   {
    "duration": 791,
    "start_time": "2022-06-20T07:12:22.055Z"
   },
   {
    "duration": 129,
    "start_time": "2022-06-20T07:12:22.848Z"
   },
   {
    "duration": 29,
    "start_time": "2022-06-20T07:12:22.979Z"
   },
   {
    "duration": 24,
    "start_time": "2022-06-20T07:12:23.010Z"
   },
   {
    "duration": 3,
    "start_time": "2022-06-20T07:12:23.036Z"
   },
   {
    "duration": 25054,
    "start_time": "2022-06-20T07:12:23.041Z"
   },
   {
    "duration": 3,
    "start_time": "2022-06-20T07:12:48.097Z"
   },
   {
    "duration": 92,
    "start_time": "2022-06-20T07:13:06.518Z"
   },
   {
    "duration": 1396,
    "start_time": "2022-06-20T07:13:25.891Z"
   },
   {
    "duration": 2271,
    "start_time": "2022-06-20T07:13:27.289Z"
   },
   {
    "duration": 35,
    "start_time": "2022-06-20T07:13:29.562Z"
   },
   {
    "duration": 34,
    "start_time": "2022-06-20T07:13:29.599Z"
   },
   {
    "duration": 25,
    "start_time": "2022-06-20T07:13:29.636Z"
   },
   {
    "duration": 1941,
    "start_time": "2022-06-20T07:13:29.663Z"
   },
   {
    "duration": 46,
    "start_time": "2022-06-20T07:13:31.608Z"
   },
   {
    "duration": 39,
    "start_time": "2022-06-20T07:13:31.656Z"
   },
   {
    "duration": 826,
    "start_time": "2022-06-20T07:13:31.698Z"
   },
   {
    "duration": 218,
    "start_time": "2022-06-20T07:13:32.526Z"
   },
   {
    "duration": 29,
    "start_time": "2022-06-20T07:13:32.746Z"
   },
   {
    "duration": 25,
    "start_time": "2022-06-20T07:13:32.777Z"
   },
   {
    "duration": 13,
    "start_time": "2022-06-20T07:13:32.804Z"
   },
   {
    "duration": 24263,
    "start_time": "2022-06-20T07:13:32.820Z"
   },
   {
    "duration": 2,
    "start_time": "2022-06-20T07:13:57.085Z"
   },
   {
    "duration": 90,
    "start_time": "2022-06-20T07:14:21.082Z"
   },
   {
    "duration": 1387,
    "start_time": "2022-06-20T07:14:57.920Z"
   },
   {
    "duration": 2455,
    "start_time": "2022-06-20T07:14:59.309Z"
   },
   {
    "duration": 36,
    "start_time": "2022-06-20T07:15:01.765Z"
   },
   {
    "duration": 42,
    "start_time": "2022-06-20T07:15:01.803Z"
   },
   {
    "duration": 10,
    "start_time": "2022-06-20T07:15:01.847Z"
   },
   {
    "duration": 1975,
    "start_time": "2022-06-20T07:15:01.859Z"
   },
   {
    "duration": 10,
    "start_time": "2022-06-20T07:15:03.836Z"
   },
   {
    "duration": 12,
    "start_time": "2022-06-20T07:15:03.848Z"
   },
   {
    "duration": 794,
    "start_time": "2022-06-20T07:15:03.862Z"
   },
   {
    "duration": 200,
    "start_time": "2022-06-20T07:15:04.658Z"
   },
   {
    "duration": 30,
    "start_time": "2022-06-20T07:15:04.859Z"
   },
   {
    "duration": 27,
    "start_time": "2022-06-20T07:15:04.890Z"
   },
   {
    "duration": 2,
    "start_time": "2022-06-20T07:15:04.919Z"
   },
   {
    "duration": 25146,
    "start_time": "2022-06-20T07:15:04.924Z"
   },
   {
    "duration": 2,
    "start_time": "2022-06-20T07:15:30.072Z"
   },
   {
    "duration": 2,
    "start_time": "2022-06-20T07:15:34.892Z"
   },
   {
    "duration": 146,
    "start_time": "2022-06-20T07:16:57.413Z"
   },
   {
    "duration": 1612,
    "start_time": "2022-06-20T08:18:51.157Z"
   },
   {
    "duration": 2706,
    "start_time": "2022-06-20T08:18:52.771Z"
   },
   {
    "duration": 30,
    "start_time": "2022-06-20T08:18:55.478Z"
   },
   {
    "duration": 30,
    "start_time": "2022-06-20T08:18:55.510Z"
   },
   {
    "duration": 15,
    "start_time": "2022-06-20T08:18:55.541Z"
   },
   {
    "duration": 1934,
    "start_time": "2022-06-20T08:18:55.557Z"
   },
   {
    "duration": 17,
    "start_time": "2022-06-20T08:18:57.493Z"
   },
   {
    "duration": 8,
    "start_time": "2022-06-20T08:18:57.511Z"
   },
   {
    "duration": 764,
    "start_time": "2022-06-20T08:18:57.520Z"
   },
   {
    "duration": 132,
    "start_time": "2022-06-20T08:18:58.286Z"
   },
   {
    "duration": 28,
    "start_time": "2022-06-20T08:18:58.419Z"
   },
   {
    "duration": 24,
    "start_time": "2022-06-20T08:18:58.448Z"
   },
   {
    "duration": 4,
    "start_time": "2022-06-20T08:18:58.474Z"
   },
   {
    "duration": 24077,
    "start_time": "2022-06-20T08:18:58.480Z"
   },
   {
    "duration": 3,
    "start_time": "2022-06-20T08:19:22.559Z"
   },
   {
    "duration": 1589,
    "start_time": "2022-06-20T08:53:22.021Z"
   },
   {
    "duration": 2365,
    "start_time": "2022-06-20T08:53:23.612Z"
   },
   {
    "duration": 28,
    "start_time": "2022-06-20T08:53:25.978Z"
   },
   {
    "duration": 29,
    "start_time": "2022-06-20T08:53:26.008Z"
   },
   {
    "duration": 5,
    "start_time": "2022-06-20T08:53:26.039Z"
   },
   {
    "duration": 1879,
    "start_time": "2022-06-20T08:53:26.045Z"
   },
   {
    "duration": 4,
    "start_time": "2022-06-20T08:53:27.927Z"
   },
   {
    "duration": 8,
    "start_time": "2022-06-20T08:53:27.933Z"
   },
   {
    "duration": 741,
    "start_time": "2022-06-20T08:53:27.944Z"
   },
   {
    "duration": 201,
    "start_time": "2022-06-20T08:53:28.688Z"
   },
   {
    "duration": 29,
    "start_time": "2022-06-20T08:53:28.890Z"
   },
   {
    "duration": 24,
    "start_time": "2022-06-20T08:53:28.921Z"
   },
   {
    "duration": 2,
    "start_time": "2022-06-20T08:53:28.947Z"
   },
   {
    "duration": 24087,
    "start_time": "2022-06-20T08:53:28.951Z"
   },
   {
    "duration": 2,
    "start_time": "2022-06-20T08:53:53.040Z"
   },
   {
    "duration": 1368,
    "start_time": "2022-06-20T08:54:39.510Z"
   },
   {
    "duration": 2731,
    "start_time": "2022-06-20T08:54:40.880Z"
   },
   {
    "duration": 27,
    "start_time": "2022-06-20T08:54:43.613Z"
   },
   {
    "duration": 30,
    "start_time": "2022-06-20T08:54:43.642Z"
   },
   {
    "duration": 8,
    "start_time": "2022-06-20T08:54:43.674Z"
   },
   {
    "duration": 1868,
    "start_time": "2022-06-20T08:54:43.683Z"
   },
   {
    "duration": 22,
    "start_time": "2022-06-20T08:54:45.553Z"
   },
   {
    "duration": 31,
    "start_time": "2022-06-20T08:54:45.577Z"
   },
   {
    "duration": 772,
    "start_time": "2022-06-20T08:54:45.609Z"
   },
   {
    "duration": 160,
    "start_time": "2022-06-20T08:54:46.383Z"
   },
   {
    "duration": 28,
    "start_time": "2022-06-20T08:54:46.544Z"
   },
   {
    "duration": 30,
    "start_time": "2022-06-20T08:54:46.573Z"
   },
   {
    "duration": 2,
    "start_time": "2022-06-20T08:54:46.605Z"
   },
   {
    "duration": 24485,
    "start_time": "2022-06-20T08:54:46.609Z"
   },
   {
    "duration": 3,
    "start_time": "2022-06-20T08:55:11.096Z"
   },
   {
    "duration": 1324,
    "start_time": "2022-06-20T08:56:42.851Z"
   },
   {
    "duration": 2341,
    "start_time": "2022-06-20T08:56:44.177Z"
   },
   {
    "duration": 30,
    "start_time": "2022-06-20T08:56:46.519Z"
   },
   {
    "duration": 27,
    "start_time": "2022-06-20T08:56:46.551Z"
   },
   {
    "duration": 5,
    "start_time": "2022-06-20T08:56:46.581Z"
   },
   {
    "duration": 1870,
    "start_time": "2022-06-20T08:56:46.588Z"
   },
   {
    "duration": 2,
    "start_time": "2022-06-20T08:56:48.460Z"
   },
   {
    "duration": 8,
    "start_time": "2022-06-20T08:56:48.464Z"
   },
   {
    "duration": 804,
    "start_time": "2022-06-20T08:56:52.925Z"
   },
   {
    "duration": 125,
    "start_time": "2022-06-20T08:56:54.868Z"
   },
   {
    "duration": 15,
    "start_time": "2022-06-20T08:57:45.656Z"
   },
   {
    "duration": 5,
    "start_time": "2022-06-20T08:57:52.429Z"
   },
   {
    "duration": 797,
    "start_time": "2022-06-20T08:57:52.436Z"
   },
   {
    "duration": 32,
    "start_time": "2022-06-20T08:57:53.235Z"
   },
   {
    "duration": 27,
    "start_time": "2022-06-20T08:57:53.268Z"
   },
   {
    "duration": 7,
    "start_time": "2022-06-20T08:57:53.297Z"
   },
   {
    "duration": 1332,
    "start_time": "2022-06-20T08:58:19.258Z"
   },
   {
    "duration": 2464,
    "start_time": "2022-06-20T08:58:20.592Z"
   },
   {
    "duration": 29,
    "start_time": "2022-06-20T08:58:23.058Z"
   },
   {
    "duration": 29,
    "start_time": "2022-06-20T08:58:23.089Z"
   },
   {
    "duration": 11,
    "start_time": "2022-06-20T08:58:23.119Z"
   },
   {
    "duration": 1890,
    "start_time": "2022-06-20T08:58:23.131Z"
   },
   {
    "duration": 8,
    "start_time": "2022-06-20T08:58:25.023Z"
   },
   {
    "duration": 18,
    "start_time": "2022-06-20T08:58:25.033Z"
   },
   {
    "duration": 778,
    "start_time": "2022-06-20T08:58:27.539Z"
   },
   {
    "duration": 128,
    "start_time": "2022-06-20T08:58:29.733Z"
   },
   {
    "duration": 4,
    "start_time": "2022-06-20T08:59:04.581Z"
   },
   {
    "duration": 4,
    "start_time": "2022-06-20T09:03:06.730Z"
   },
   {
    "duration": 823,
    "start_time": "2022-06-20T09:03:06.736Z"
   },
   {
    "duration": 30,
    "start_time": "2022-06-20T09:03:07.561Z"
   },
   {
    "duration": 38,
    "start_time": "2022-06-20T09:03:07.593Z"
   },
   {
    "duration": 12,
    "start_time": "2022-06-20T09:03:07.632Z"
   },
   {
    "duration": 1413,
    "start_time": "2022-06-20T09:03:31.131Z"
   },
   {
    "duration": 2795,
    "start_time": "2022-06-20T09:03:32.546Z"
   },
   {
    "duration": 29,
    "start_time": "2022-06-20T09:03:35.342Z"
   },
   {
    "duration": 31,
    "start_time": "2022-06-20T09:03:35.373Z"
   },
   {
    "duration": 5,
    "start_time": "2022-06-20T09:03:35.406Z"
   },
   {
    "duration": 1884,
    "start_time": "2022-06-20T09:03:35.413Z"
   },
   {
    "duration": 29,
    "start_time": "2022-06-20T09:03:37.299Z"
   },
   {
    "duration": 21,
    "start_time": "2022-06-20T09:03:37.329Z"
   },
   {
    "duration": 777,
    "start_time": "2022-06-20T09:03:37.351Z"
   },
   {
    "duration": 153,
    "start_time": "2022-06-20T09:03:38.130Z"
   },
   {
    "duration": 28,
    "start_time": "2022-06-20T09:03:38.285Z"
   },
   {
    "duration": 24,
    "start_time": "2022-06-20T09:03:38.315Z"
   },
   {
    "duration": 3,
    "start_time": "2022-06-20T09:03:38.340Z"
   },
   {
    "duration": 24119,
    "start_time": "2022-06-20T09:03:38.345Z"
   },
   {
    "duration": 3,
    "start_time": "2022-06-20T09:04:02.466Z"
   },
   {
    "duration": 4,
    "start_time": "2022-06-20T09:12:30.458Z"
   },
   {
    "duration": 765,
    "start_time": "2022-06-20T09:12:30.465Z"
   },
   {
    "duration": 31,
    "start_time": "2022-06-20T09:12:31.232Z"
   },
   {
    "duration": 45,
    "start_time": "2022-06-20T09:12:31.265Z"
   },
   {
    "duration": 36,
    "start_time": "2022-06-20T09:12:31.312Z"
   },
   {
    "duration": 1324,
    "start_time": "2022-06-20T09:12:55.185Z"
   },
   {
    "duration": 2452,
    "start_time": "2022-06-20T09:12:56.511Z"
   },
   {
    "duration": 31,
    "start_time": "2022-06-20T09:12:58.965Z"
   },
   {
    "duration": 32,
    "start_time": "2022-06-20T09:12:58.999Z"
   },
   {
    "duration": 11,
    "start_time": "2022-06-20T09:12:59.033Z"
   },
   {
    "duration": 1907,
    "start_time": "2022-06-20T09:12:59.045Z"
   },
   {
    "duration": 14,
    "start_time": "2022-06-20T09:13:00.954Z"
   },
   {
    "duration": 11,
    "start_time": "2022-06-20T09:13:00.970Z"
   },
   {
    "duration": 906,
    "start_time": "2022-06-20T09:13:00.983Z"
   },
   {
    "duration": 199,
    "start_time": "2022-06-20T09:13:01.892Z"
   },
   {
    "duration": 30,
    "start_time": "2022-06-20T09:13:02.093Z"
   },
   {
    "duration": 42,
    "start_time": "2022-06-20T09:13:02.125Z"
   },
   {
    "duration": 3,
    "start_time": "2022-06-20T09:13:02.169Z"
   },
   {
    "duration": 1323,
    "start_time": "2022-06-20T09:13:43.766Z"
   },
   {
    "duration": 2386,
    "start_time": "2022-06-20T09:13:45.091Z"
   },
   {
    "duration": 27,
    "start_time": "2022-06-20T09:13:47.478Z"
   },
   {
    "duration": 28,
    "start_time": "2022-06-20T09:13:47.507Z"
   },
   {
    "duration": 7,
    "start_time": "2022-06-20T09:13:47.537Z"
   },
   {
    "duration": 1895,
    "start_time": "2022-06-20T09:13:47.545Z"
   },
   {
    "duration": 5,
    "start_time": "2022-06-20T09:13:49.442Z"
   },
   {
    "duration": 10,
    "start_time": "2022-06-20T09:13:49.449Z"
   },
   {
    "duration": 790,
    "start_time": "2022-06-20T09:13:49.460Z"
   },
   {
    "duration": 198,
    "start_time": "2022-06-20T09:13:50.252Z"
   },
   {
    "duration": 29,
    "start_time": "2022-06-20T09:13:50.451Z"
   },
   {
    "duration": 25,
    "start_time": "2022-06-20T09:13:50.481Z"
   },
   {
    "duration": 29,
    "start_time": "2022-06-20T09:13:52.038Z"
   },
   {
    "duration": 3,
    "start_time": "2022-06-20T09:13:53.600Z"
   },
   {
    "duration": 1519,
    "start_time": "2022-06-20T09:15:11.204Z"
   },
   {
    "duration": 2652,
    "start_time": "2022-06-20T09:15:12.724Z"
   },
   {
    "duration": 33,
    "start_time": "2022-06-20T09:15:15.378Z"
   },
   {
    "duration": 40,
    "start_time": "2022-06-20T09:15:15.414Z"
   },
   {
    "duration": 12,
    "start_time": "2022-06-20T09:15:15.456Z"
   },
   {
    "duration": 2016,
    "start_time": "2022-06-20T09:15:15.470Z"
   },
   {
    "duration": 18,
    "start_time": "2022-06-20T09:15:17.488Z"
   },
   {
    "duration": 33,
    "start_time": "2022-06-20T09:15:17.508Z"
   },
   {
    "duration": 829,
    "start_time": "2022-06-20T09:15:17.542Z"
   },
   {
    "duration": 130,
    "start_time": "2022-06-20T09:15:18.375Z"
   },
   {
    "duration": 30,
    "start_time": "2022-06-20T09:15:18.507Z"
   },
   {
    "duration": 29,
    "start_time": "2022-06-20T09:15:18.538Z"
   },
   {
    "duration": 3,
    "start_time": "2022-06-20T09:15:18.569Z"
   },
   {
    "duration": 1536,
    "start_time": "2022-06-20T09:15:55.987Z"
   },
   {
    "duration": 2414,
    "start_time": "2022-06-20T09:15:57.525Z"
   },
   {
    "duration": 34,
    "start_time": "2022-06-20T09:15:59.940Z"
   },
   {
    "duration": 32,
    "start_time": "2022-06-20T09:15:59.977Z"
   },
   {
    "duration": 29,
    "start_time": "2022-06-20T09:16:00.010Z"
   },
   {
    "duration": 2079,
    "start_time": "2022-06-20T09:16:00.040Z"
   },
   {
    "duration": 19,
    "start_time": "2022-06-20T09:16:02.121Z"
   },
   {
    "duration": 19,
    "start_time": "2022-06-20T09:16:02.142Z"
   },
   {
    "duration": 842,
    "start_time": "2022-06-20T09:16:02.163Z"
   },
   {
    "duration": 209,
    "start_time": "2022-06-20T09:16:03.008Z"
   },
   {
    "duration": 39,
    "start_time": "2022-06-20T09:16:03.220Z"
   },
   {
    "duration": 27,
    "start_time": "2022-06-20T09:16:03.262Z"
   },
   {
    "duration": 13,
    "start_time": "2022-06-20T09:16:03.291Z"
   },
   {
    "duration": 26814,
    "start_time": "2022-06-20T09:16:03.306Z"
   },
   {
    "duration": 3,
    "start_time": "2022-06-20T09:16:30.122Z"
   },
   {
    "duration": 3,
    "start_time": "2022-06-20T09:24:12.459Z"
   },
   {
    "duration": 3,
    "start_time": "2022-06-20T09:24:15.378Z"
   },
   {
    "duration": 95,
    "start_time": "2022-06-20T09:24:25.473Z"
   },
   {
    "duration": 1399,
    "start_time": "2022-06-20T10:18:15.878Z"
   },
   {
    "duration": 2510,
    "start_time": "2022-06-20T10:18:17.279Z"
   },
   {
    "duration": 27,
    "start_time": "2022-06-20T10:18:19.790Z"
   },
   {
    "duration": 43,
    "start_time": "2022-06-20T10:18:19.819Z"
   },
   {
    "duration": 7,
    "start_time": "2022-06-20T10:18:19.864Z"
   },
   {
    "duration": 2021,
    "start_time": "2022-06-20T10:18:19.872Z"
   },
   {
    "duration": 10,
    "start_time": "2022-06-20T10:18:21.895Z"
   },
   {
    "duration": 14,
    "start_time": "2022-06-20T10:18:21.907Z"
   },
   {
    "duration": 763,
    "start_time": "2022-06-20T10:18:21.923Z"
   },
   {
    "duration": 123,
    "start_time": "2022-06-20T10:18:22.689Z"
   },
   {
    "duration": 36,
    "start_time": "2022-06-20T10:18:22.814Z"
   },
   {
    "duration": 27,
    "start_time": "2022-06-20T10:18:22.851Z"
   },
   {
    "duration": 3,
    "start_time": "2022-06-20T10:18:22.880Z"
   },
   {
    "duration": 26220,
    "start_time": "2022-06-20T10:18:22.886Z"
   },
   {
    "duration": 2,
    "start_time": "2022-06-20T10:18:49.108Z"
   },
   {
    "duration": 4,
    "start_time": "2022-06-20T10:23:33.684Z"
   },
   {
    "duration": 753,
    "start_time": "2022-06-20T10:23:33.690Z"
   },
   {
    "duration": 31,
    "start_time": "2022-06-20T10:23:34.445Z"
   },
   {
    "duration": 27,
    "start_time": "2022-06-20T10:23:34.478Z"
   },
   {
    "duration": 19,
    "start_time": "2022-06-20T10:23:34.508Z"
   },
   {
    "duration": 1577,
    "start_time": "2022-06-20T10:23:50.917Z"
   },
   {
    "duration": 2696,
    "start_time": "2022-06-20T10:23:52.497Z"
   },
   {
    "duration": 28,
    "start_time": "2022-06-20T10:23:55.194Z"
   },
   {
    "duration": 36,
    "start_time": "2022-06-20T10:23:55.224Z"
   },
   {
    "duration": 6,
    "start_time": "2022-06-20T10:23:55.263Z"
   },
   {
    "duration": 1999,
    "start_time": "2022-06-20T10:23:55.271Z"
   },
   {
    "duration": 16,
    "start_time": "2022-06-20T10:23:57.272Z"
   },
   {
    "duration": 11,
    "start_time": "2022-06-20T10:23:57.290Z"
   },
   {
    "duration": 778,
    "start_time": "2022-06-20T10:23:57.303Z"
   },
   {
    "duration": 140,
    "start_time": "2022-06-20T10:23:58.083Z"
   },
   {
    "duration": 33,
    "start_time": "2022-06-20T10:23:58.224Z"
   },
   {
    "duration": 31,
    "start_time": "2022-06-20T10:23:58.259Z"
   },
   {
    "duration": 3,
    "start_time": "2022-06-20T10:23:58.292Z"
   },
   {
    "duration": 19282,
    "start_time": "2022-06-20T10:23:58.297Z"
   },
   {
    "duration": 4,
    "start_time": "2022-06-20T10:24:17.581Z"
   },
   {
    "duration": 3,
    "start_time": "2022-06-20T10:24:44.100Z"
   },
   {
    "duration": 2418633,
    "start_time": "2022-06-20T10:25:06.423Z"
   },
   {
    "duration": 1961,
    "start_time": "2022-06-20T11:07:59.170Z"
   },
   {
    "duration": 2775,
    "start_time": "2022-06-20T11:08:01.134Z"
   },
   {
    "duration": 39,
    "start_time": "2022-06-20T11:08:03.911Z"
   },
   {
    "duration": 47,
    "start_time": "2022-06-20T11:08:03.952Z"
   },
   {
    "duration": 14,
    "start_time": "2022-06-20T11:08:04.002Z"
   },
   {
    "duration": 2016,
    "start_time": "2022-06-20T11:08:04.018Z"
   },
   {
    "duration": 11,
    "start_time": "2022-06-20T11:08:06.036Z"
   },
   {
    "duration": 13,
    "start_time": "2022-06-20T11:08:06.049Z"
   },
   {
    "duration": 821,
    "start_time": "2022-06-20T11:08:06.064Z"
   },
   {
    "duration": 139,
    "start_time": "2022-06-20T11:08:06.887Z"
   },
   {
    "duration": 37,
    "start_time": "2022-06-20T11:08:07.028Z"
   },
   {
    "duration": 28,
    "start_time": "2022-06-20T11:08:07.067Z"
   },
   {
    "duration": 4,
    "start_time": "2022-06-20T11:08:07.096Z"
   },
   {
    "duration": 18570,
    "start_time": "2022-06-20T11:08:07.102Z"
   },
   {
    "duration": 4,
    "start_time": "2022-06-20T11:08:25.673Z"
   },
   {
    "duration": 1841,
    "start_time": "2022-06-20T11:09:43.423Z"
   },
   {
    "duration": 2847,
    "start_time": "2022-06-20T11:09:45.266Z"
   },
   {
    "duration": 42,
    "start_time": "2022-06-20T11:09:48.115Z"
   },
   {
    "duration": 31,
    "start_time": "2022-06-20T11:09:48.159Z"
   },
   {
    "duration": 6,
    "start_time": "2022-06-20T11:09:48.192Z"
   },
   {
    "duration": 2058,
    "start_time": "2022-06-20T11:09:48.200Z"
   },
   {
    "duration": 3,
    "start_time": "2022-06-20T11:09:50.260Z"
   },
   {
    "duration": 26,
    "start_time": "2022-06-20T11:09:50.265Z"
   },
   {
    "duration": 865,
    "start_time": "2022-06-20T11:09:50.293Z"
   },
   {
    "duration": 203,
    "start_time": "2022-06-20T11:09:51.161Z"
   },
   {
    "duration": 29,
    "start_time": "2022-06-20T11:09:51.366Z"
   },
   {
    "duration": 26,
    "start_time": "2022-06-20T11:09:51.397Z"
   },
   {
    "duration": 37,
    "start_time": "2022-06-20T11:09:51.425Z"
   },
   {
    "duration": 19808,
    "start_time": "2022-06-20T11:09:51.464Z"
   },
   {
    "duration": 3,
    "start_time": "2022-06-20T11:10:11.274Z"
   },
   {
    "duration": 616639,
    "start_time": "2022-06-20T11:10:25.221Z"
   },
   {
    "duration": 1793,
    "start_time": "2022-06-20T11:32:43.181Z"
   },
   {
    "duration": 3322,
    "start_time": "2022-06-20T11:32:44.976Z"
   },
   {
    "duration": 31,
    "start_time": "2022-06-20T11:32:48.300Z"
   },
   {
    "duration": 36,
    "start_time": "2022-06-20T11:32:48.339Z"
   },
   {
    "duration": 6,
    "start_time": "2022-06-20T11:32:48.376Z"
   },
   {
    "duration": 2035,
    "start_time": "2022-06-20T11:32:48.383Z"
   },
   {
    "duration": 25,
    "start_time": "2022-06-20T11:32:50.420Z"
   },
   {
    "duration": 14,
    "start_time": "2022-06-20T11:32:50.447Z"
   },
   {
    "duration": 854,
    "start_time": "2022-06-20T11:32:50.462Z"
   },
   {
    "duration": 171,
    "start_time": "2022-06-20T11:32:51.319Z"
   },
   {
    "duration": 31,
    "start_time": "2022-06-20T11:32:51.492Z"
   },
   {
    "duration": 66,
    "start_time": "2022-06-20T11:32:51.525Z"
   },
   {
    "duration": 4,
    "start_time": "2022-06-20T11:32:51.593Z"
   },
   {
    "duration": 19700,
    "start_time": "2022-06-20T11:32:51.599Z"
   },
   {
    "duration": 3,
    "start_time": "2022-06-20T11:33:11.301Z"
   },
   {
    "duration": 1561,
    "start_time": "2022-06-20T11:35:29.920Z"
   },
   {
    "duration": 3045,
    "start_time": "2022-06-20T11:35:31.484Z"
   },
   {
    "duration": 35,
    "start_time": "2022-06-20T11:35:34.532Z"
   },
   {
    "duration": 32,
    "start_time": "2022-06-20T11:35:34.569Z"
   },
   {
    "duration": 23,
    "start_time": "2022-06-20T11:35:34.603Z"
   },
   {
    "duration": 2057,
    "start_time": "2022-06-20T11:35:34.628Z"
   },
   {
    "duration": 19,
    "start_time": "2022-06-20T11:35:36.687Z"
   },
   {
    "duration": 22,
    "start_time": "2022-06-20T11:35:36.708Z"
   },
   {
    "duration": 857,
    "start_time": "2022-06-20T11:35:36.732Z"
   },
   {
    "duration": 203,
    "start_time": "2022-06-20T11:35:37.593Z"
   },
   {
    "duration": 31,
    "start_time": "2022-06-20T11:35:37.798Z"
   },
   {
    "duration": 32,
    "start_time": "2022-06-20T11:35:37.830Z"
   },
   {
    "duration": 28,
    "start_time": "2022-06-20T11:35:37.864Z"
   },
   {
    "duration": 15342,
    "start_time": "2022-06-20T11:35:37.893Z"
   },
   {
    "duration": 10,
    "start_time": "2022-06-20T11:35:53.237Z"
   },
   {
    "duration": 1629,
    "start_time": "2022-06-20T11:37:48.998Z"
   },
   {
    "duration": 3222,
    "start_time": "2022-06-20T11:37:50.629Z"
   },
   {
    "duration": 30,
    "start_time": "2022-06-20T11:37:53.852Z"
   },
   {
    "duration": 30,
    "start_time": "2022-06-20T11:37:53.884Z"
   },
   {
    "duration": 25,
    "start_time": "2022-06-20T11:37:53.917Z"
   },
   {
    "duration": 2075,
    "start_time": "2022-06-20T11:37:53.944Z"
   },
   {
    "duration": 30,
    "start_time": "2022-06-20T11:37:56.027Z"
   },
   {
    "duration": 12,
    "start_time": "2022-06-20T11:37:56.060Z"
   },
   {
    "duration": 933,
    "start_time": "2022-06-20T11:37:56.074Z"
   },
   {
    "duration": 176,
    "start_time": "2022-06-20T11:37:57.009Z"
   },
   {
    "duration": 31,
    "start_time": "2022-06-20T11:37:57.186Z"
   },
   {
    "duration": 60,
    "start_time": "2022-06-20T11:37:57.219Z"
   },
   {
    "duration": 3,
    "start_time": "2022-06-20T11:37:57.280Z"
   },
   {
    "duration": 15241,
    "start_time": "2022-06-20T11:37:57.286Z"
   },
   {
    "duration": 5,
    "start_time": "2022-06-20T11:38:12.537Z"
   },
   {
    "duration": 1593,
    "start_time": "2022-06-20T11:39:52.207Z"
   },
   {
    "duration": 1516,
    "start_time": "2022-06-20T11:39:53.802Z"
   },
   {
    "duration": 37,
    "start_time": "2022-06-20T11:39:55.319Z"
   },
   {
    "duration": 33,
    "start_time": "2022-06-20T11:39:55.358Z"
   },
   {
    "duration": 7,
    "start_time": "2022-06-20T11:39:55.394Z"
   },
   {
    "duration": 2020,
    "start_time": "2022-06-20T11:39:55.402Z"
   },
   {
    "duration": 28,
    "start_time": "2022-06-20T11:39:57.424Z"
   },
   {
    "duration": 8,
    "start_time": "2022-06-20T11:39:57.454Z"
   },
   {
    "duration": 791,
    "start_time": "2022-06-20T11:39:57.463Z"
   },
   {
    "duration": 199,
    "start_time": "2022-06-20T11:39:58.256Z"
   },
   {
    "duration": 30,
    "start_time": "2022-06-20T11:39:58.456Z"
   },
   {
    "duration": 25,
    "start_time": "2022-06-20T11:39:58.488Z"
   },
   {
    "duration": 3,
    "start_time": "2022-06-20T11:39:58.515Z"
   },
   {
    "duration": 13495,
    "start_time": "2022-06-20T11:39:58.520Z"
   },
   {
    "duration": 4,
    "start_time": "2022-06-20T11:40:12.016Z"
   },
   {
    "duration": 1536118,
    "start_time": "2022-06-20T11:40:12.027Z"
   },
   {
    "duration": 1554,
    "start_time": "2022-06-20T16:09:35.088Z"
   },
   {
    "duration": 2651,
    "start_time": "2022-06-20T16:09:36.644Z"
   },
   {
    "duration": 35,
    "start_time": "2022-06-20T16:09:39.297Z"
   },
   {
    "duration": 33,
    "start_time": "2022-06-20T16:09:39.334Z"
   },
   {
    "duration": 7,
    "start_time": "2022-06-20T16:09:39.370Z"
   },
   {
    "duration": 1975,
    "start_time": "2022-06-20T16:09:39.379Z"
   },
   {
    "duration": 11,
    "start_time": "2022-06-20T16:09:41.356Z"
   },
   {
    "duration": 8,
    "start_time": "2022-06-20T16:09:41.368Z"
   },
   {
    "duration": 840,
    "start_time": "2022-06-20T16:09:41.377Z"
   },
   {
    "duration": 203,
    "start_time": "2022-06-20T16:09:42.219Z"
   },
   {
    "duration": 30,
    "start_time": "2022-06-20T16:09:42.424Z"
   },
   {
    "duration": 45,
    "start_time": "2022-06-20T16:09:42.455Z"
   },
   {
    "duration": 3,
    "start_time": "2022-06-20T16:09:42.501Z"
   },
   {
    "duration": 13361,
    "start_time": "2022-06-20T16:09:42.506Z"
   },
   {
    "duration": 3,
    "start_time": "2022-06-20T16:09:55.869Z"
   },
   {
    "duration": 6,
    "start_time": "2022-06-20T16:11:17.374Z"
   },
   {
    "duration": 701,
    "start_time": "2022-06-20T16:11:17.382Z"
   },
   {
    "duration": 29,
    "start_time": "2022-06-20T16:11:18.085Z"
   },
   {
    "duration": 26,
    "start_time": "2022-06-20T16:11:18.116Z"
   },
   {
    "duration": 7,
    "start_time": "2022-06-20T16:11:18.159Z"
   },
   {
    "duration": 1380,
    "start_time": "2022-06-20T16:11:33.624Z"
   },
   {
    "duration": 2534,
    "start_time": "2022-06-20T16:11:35.006Z"
   },
   {
    "duration": 28,
    "start_time": "2022-06-20T16:11:37.542Z"
   },
   {
    "duration": 28,
    "start_time": "2022-06-20T16:11:37.572Z"
   },
   {
    "duration": 5,
    "start_time": "2022-06-20T16:11:37.602Z"
   },
   {
    "duration": 1914,
    "start_time": "2022-06-20T16:11:37.608Z"
   },
   {
    "duration": 8,
    "start_time": "2022-06-20T16:11:39.523Z"
   },
   {
    "duration": 7,
    "start_time": "2022-06-20T16:11:39.532Z"
   },
   {
    "duration": 849,
    "start_time": "2022-06-20T16:11:39.540Z"
   },
   {
    "duration": 189,
    "start_time": "2022-06-20T16:11:40.391Z"
   },
   {
    "duration": 29,
    "start_time": "2022-06-20T16:11:40.582Z"
   },
   {
    "duration": 40,
    "start_time": "2022-06-20T16:11:40.612Z"
   },
   {
    "duration": 3,
    "start_time": "2022-06-20T16:11:40.653Z"
   },
   {
    "duration": 12510,
    "start_time": "2022-06-20T16:11:40.658Z"
   },
   {
    "duration": 3,
    "start_time": "2022-06-20T16:11:53.169Z"
   },
   {
    "duration": 86810,
    "start_time": "2022-06-20T16:12:18.419Z"
   },
   {
    "duration": 1478,
    "start_time": "2022-06-20T16:28:57.458Z"
   },
   {
    "duration": 835,
    "start_time": "2022-06-20T16:28:58.938Z"
   },
   {
    "duration": 32,
    "start_time": "2022-06-20T16:28:59.775Z"
   },
   {
    "duration": 33,
    "start_time": "2022-06-20T16:28:59.809Z"
   },
   {
    "duration": 8,
    "start_time": "2022-06-20T16:28:59.859Z"
   },
   {
    "duration": 1960,
    "start_time": "2022-06-20T16:28:59.869Z"
   },
   {
    "duration": 76,
    "start_time": "2022-06-20T16:29:01.831Z"
   },
   {
    "duration": 26,
    "start_time": "2022-06-20T16:29:01.909Z"
   },
   {
    "duration": 948,
    "start_time": "2022-06-20T16:29:01.938Z"
   },
   {
    "duration": 218,
    "start_time": "2022-06-20T16:29:02.890Z"
   },
   {
    "duration": 30,
    "start_time": "2022-06-20T16:29:03.110Z"
   },
   {
    "duration": 69,
    "start_time": "2022-06-20T16:29:03.142Z"
   },
   {
    "duration": 3,
    "start_time": "2022-06-20T16:29:03.212Z"
   },
   {
    "duration": 1371,
    "start_time": "2022-06-20T16:35:05.372Z"
   },
   {
    "duration": 2578,
    "start_time": "2022-06-20T16:35:06.745Z"
   },
   {
    "duration": 33,
    "start_time": "2022-06-20T16:35:09.325Z"
   },
   {
    "duration": 30,
    "start_time": "2022-06-20T16:35:09.360Z"
   },
   {
    "duration": 7,
    "start_time": "2022-06-20T16:35:09.391Z"
   },
   {
    "duration": 1890,
    "start_time": "2022-06-20T16:35:09.399Z"
   },
   {
    "duration": 6,
    "start_time": "2022-06-20T16:35:11.291Z"
   },
   {
    "duration": 13,
    "start_time": "2022-06-20T16:35:11.299Z"
   },
   {
    "duration": 758,
    "start_time": "2022-06-20T16:35:11.314Z"
   },
   {
    "duration": 129,
    "start_time": "2022-06-20T16:35:12.076Z"
   },
   {
    "duration": 29,
    "start_time": "2022-06-20T16:35:12.207Z"
   },
   {
    "duration": 29,
    "start_time": "2022-06-20T16:35:12.238Z"
   },
   {
    "duration": 3,
    "start_time": "2022-06-20T16:35:12.268Z"
   },
   {
    "duration": 12290,
    "start_time": "2022-06-20T16:35:12.273Z"
   },
   {
    "duration": 3,
    "start_time": "2022-06-20T16:35:24.565Z"
   },
   {
    "duration": 935100,
    "start_time": "2022-06-20T16:35:24.570Z"
   },
   {
    "duration": 1337,
    "start_time": "2022-06-20T23:40:35.178Z"
   },
   {
    "duration": 2458,
    "start_time": "2022-06-20T23:40:36.517Z"
   },
   {
    "duration": 33,
    "start_time": "2022-06-20T23:40:38.976Z"
   },
   {
    "duration": 31,
    "start_time": "2022-06-20T23:40:39.012Z"
   },
   {
    "duration": 5,
    "start_time": "2022-06-20T23:40:39.045Z"
   },
   {
    "duration": 1831,
    "start_time": "2022-06-20T23:40:39.059Z"
   },
   {
    "duration": 13,
    "start_time": "2022-06-20T23:40:40.891Z"
   },
   {
    "duration": 11,
    "start_time": "2022-06-20T23:40:40.906Z"
   },
   {
    "duration": 721,
    "start_time": "2022-06-20T23:40:40.919Z"
   },
   {
    "duration": 186,
    "start_time": "2022-06-20T23:40:41.643Z"
   },
   {
    "duration": 29,
    "start_time": "2022-06-20T23:40:41.831Z"
   },
   {
    "duration": 24,
    "start_time": "2022-06-20T23:40:41.862Z"
   },
   {
    "duration": 2,
    "start_time": "2022-06-20T23:40:41.888Z"
   },
   {
    "duration": 11863,
    "start_time": "2022-06-20T23:40:41.891Z"
   },
   {
    "duration": 6,
    "start_time": "2022-06-20T23:40:53.755Z"
   },
   {
    "duration": 583491,
    "start_time": "2022-06-20T23:41:09.624Z"
   },
   {
    "duration": 1354,
    "start_time": "2022-06-21T08:50:33.611Z"
   },
   {
    "duration": 2220,
    "start_time": "2022-06-21T08:50:34.967Z"
   },
   {
    "duration": 33,
    "start_time": "2022-06-21T08:50:37.189Z"
   },
   {
    "duration": 40,
    "start_time": "2022-06-21T08:50:37.224Z"
   },
   {
    "duration": 11,
    "start_time": "2022-06-21T08:50:37.266Z"
   },
   {
    "duration": 1835,
    "start_time": "2022-06-21T08:50:37.279Z"
   },
   {
    "duration": 13,
    "start_time": "2022-06-21T08:50:39.116Z"
   },
   {
    "duration": 23,
    "start_time": "2022-06-21T08:50:39.130Z"
   },
   {
    "duration": 913,
    "start_time": "2022-06-21T08:50:39.155Z"
   },
   {
    "duration": 204,
    "start_time": "2022-06-21T08:50:40.071Z"
   },
   {
    "duration": 26,
    "start_time": "2022-06-21T08:50:40.277Z"
   },
   {
    "duration": 27,
    "start_time": "2022-06-21T08:50:40.304Z"
   },
   {
    "duration": 4,
    "start_time": "2022-06-21T08:50:40.333Z"
   },
   {
    "duration": 12353,
    "start_time": "2022-06-21T08:50:40.338Z"
   },
   {
    "duration": 2,
    "start_time": "2022-06-21T08:50:52.693Z"
   },
   {
    "duration": 64643,
    "start_time": "2022-06-21T08:51:25.040Z"
   },
   {
    "duration": 1371,
    "start_time": "2022-06-21T08:53:53.060Z"
   },
   {
    "duration": 2185,
    "start_time": "2022-06-21T08:53:54.433Z"
   },
   {
    "duration": 31,
    "start_time": "2022-06-21T08:53:56.620Z"
   },
   {
    "duration": 31,
    "start_time": "2022-06-21T08:53:56.653Z"
   },
   {
    "duration": 5,
    "start_time": "2022-06-21T08:53:56.686Z"
   },
   {
    "duration": 1860,
    "start_time": "2022-06-21T08:53:56.693Z"
   },
   {
    "duration": 8,
    "start_time": "2022-06-21T08:53:58.555Z"
   },
   {
    "duration": 3,
    "start_time": "2022-06-21T08:53:58.566Z"
   },
   {
    "duration": 934,
    "start_time": "2022-06-21T08:53:58.570Z"
   },
   {
    "duration": 139,
    "start_time": "2022-06-21T08:53:59.507Z"
   },
   {
    "duration": 28,
    "start_time": "2022-06-21T08:53:59.648Z"
   },
   {
    "duration": 35,
    "start_time": "2022-06-21T08:53:59.678Z"
   },
   {
    "duration": 4,
    "start_time": "2022-06-21T08:53:59.715Z"
   },
   {
    "duration": 12314,
    "start_time": "2022-06-21T08:53:59.721Z"
   },
   {
    "duration": 3,
    "start_time": "2022-06-21T08:54:12.037Z"
   },
   {
    "duration": 1675,
    "start_time": "2022-06-21T17:22:31.868Z"
   },
   {
    "duration": 2773,
    "start_time": "2022-06-21T17:22:33.546Z"
   },
   {
    "duration": 44,
    "start_time": "2022-06-21T17:22:36.321Z"
   },
   {
    "duration": 44,
    "start_time": "2022-06-21T17:22:36.367Z"
   },
   {
    "duration": 24,
    "start_time": "2022-06-21T17:22:36.414Z"
   },
   {
    "duration": 2067,
    "start_time": "2022-06-21T17:22:36.440Z"
   },
   {
    "duration": 7,
    "start_time": "2022-06-21T17:22:38.509Z"
   },
   {
    "duration": 16,
    "start_time": "2022-06-21T17:22:38.518Z"
   },
   {
    "duration": 874,
    "start_time": "2022-06-21T17:22:38.542Z"
   },
   {
    "duration": 138,
    "start_time": "2022-06-21T17:22:39.419Z"
   },
   {
    "duration": 29,
    "start_time": "2022-06-21T17:22:39.559Z"
   },
   {
    "duration": 30,
    "start_time": "2022-06-21T17:22:39.589Z"
   },
   {
    "duration": 3,
    "start_time": "2022-06-21T17:22:39.620Z"
   },
   {
    "duration": 13492,
    "start_time": "2022-06-21T17:22:39.626Z"
   },
   {
    "duration": 4,
    "start_time": "2022-06-21T17:22:53.120Z"
   },
   {
    "duration": 1506,
    "start_time": "2022-06-21T22:36:03.554Z"
   },
   {
    "duration": 2529,
    "start_time": "2022-06-21T22:36:05.062Z"
   },
   {
    "duration": 43,
    "start_time": "2022-06-21T22:36:07.593Z"
   },
   {
    "duration": 42,
    "start_time": "2022-06-21T22:36:07.638Z"
   },
   {
    "duration": 7,
    "start_time": "2022-06-21T22:36:07.683Z"
   },
   {
    "duration": 2075,
    "start_time": "2022-06-21T22:36:07.692Z"
   },
   {
    "duration": 9,
    "start_time": "2022-06-21T22:36:09.769Z"
   },
   {
    "duration": 10,
    "start_time": "2022-06-21T22:36:09.780Z"
   },
   {
    "duration": 871,
    "start_time": "2022-06-21T22:36:09.791Z"
   },
   {
    "duration": 161,
    "start_time": "2022-06-21T22:36:10.665Z"
   },
   {
    "duration": 32,
    "start_time": "2022-06-21T22:36:10.828Z"
   },
   {
    "duration": 38,
    "start_time": "2022-06-21T22:36:10.862Z"
   },
   {
    "duration": 3,
    "start_time": "2022-06-21T22:36:10.901Z"
   },
   {
    "duration": 13064,
    "start_time": "2022-06-21T22:36:10.907Z"
   },
   {
    "duration": 4,
    "start_time": "2022-06-21T22:36:23.972Z"
   },
   {
    "duration": 1354,
    "start_time": "2022-06-22T04:12:40.009Z"
   },
   {
    "duration": 3216,
    "start_time": "2022-06-22T04:12:41.365Z"
   },
   {
    "duration": 21,
    "start_time": "2022-06-22T04:12:44.583Z"
   },
   {
    "duration": 23,
    "start_time": "2022-06-22T04:12:44.606Z"
   },
   {
    "duration": 5,
    "start_time": "2022-06-22T04:12:44.632Z"
   },
   {
    "duration": 1753,
    "start_time": "2022-06-22T04:12:44.638Z"
   },
   {
    "duration": 17,
    "start_time": "2022-06-22T04:12:46.392Z"
   },
   {
    "duration": 13,
    "start_time": "2022-06-22T04:12:46.410Z"
   },
   {
    "duration": 742,
    "start_time": "2022-06-22T04:12:46.424Z"
   },
   {
    "duration": 244,
    "start_time": "2022-06-22T04:12:47.168Z"
   },
   {
    "duration": 24,
    "start_time": "2022-06-22T04:12:47.413Z"
   },
   {
    "duration": 34,
    "start_time": "2022-06-22T04:12:47.438Z"
   },
   {
    "duration": 3,
    "start_time": "2022-06-22T04:12:47.473Z"
   },
   {
    "duration": 11200,
    "start_time": "2022-06-22T04:12:47.478Z"
   },
   {
    "duration": 4,
    "start_time": "2022-06-22T04:12:58.679Z"
   },
   {
    "duration": 1350,
    "start_time": "2022-06-22T04:14:16.670Z"
   },
   {
    "duration": 3233,
    "start_time": "2022-06-22T04:14:18.022Z"
   },
   {
    "duration": 32,
    "start_time": "2022-06-22T04:14:21.256Z"
   },
   {
    "duration": 31,
    "start_time": "2022-06-22T04:14:21.290Z"
   },
   {
    "duration": 8,
    "start_time": "2022-06-22T04:14:21.322Z"
   },
   {
    "duration": 1702,
    "start_time": "2022-06-22T04:14:21.331Z"
   },
   {
    "duration": 5,
    "start_time": "2022-06-22T04:14:23.034Z"
   },
   {
    "duration": 4,
    "start_time": "2022-06-22T04:14:23.041Z"
   },
   {
    "duration": 703,
    "start_time": "2022-06-22T04:14:23.046Z"
   },
   {
    "duration": 154,
    "start_time": "2022-06-22T04:14:23.751Z"
   },
   {
    "duration": 23,
    "start_time": "2022-06-22T04:14:23.907Z"
   },
   {
    "duration": 25,
    "start_time": "2022-06-22T04:14:23.932Z"
   },
   {
    "duration": 3,
    "start_time": "2022-06-22T04:14:23.958Z"
   },
   {
    "duration": 10716,
    "start_time": "2022-06-22T04:14:23.962Z"
   },
   {
    "duration": 3,
    "start_time": "2022-06-22T04:14:34.680Z"
   },
   {
    "duration": 1499,
    "start_time": "2022-06-23T11:07:30.219Z"
   },
   {
    "duration": 3338,
    "start_time": "2022-06-23T11:07:31.720Z"
   },
   {
    "duration": 31,
    "start_time": "2022-06-23T11:07:35.059Z"
   },
   {
    "duration": 28,
    "start_time": "2022-06-23T11:07:35.092Z"
   },
   {
    "duration": 8,
    "start_time": "2022-06-23T11:07:35.121Z"
   },
   {
    "duration": 2,
    "start_time": "2022-06-23T11:07:35.131Z"
   },
   {
    "duration": 6,
    "start_time": "2022-06-23T11:07:35.134Z"
   },
   {
    "duration": 6,
    "start_time": "2022-06-23T11:07:35.142Z"
   },
   {
    "duration": 5,
    "start_time": "2022-06-23T11:07:35.149Z"
   },
   {
    "duration": 122,
    "start_time": "2022-06-23T11:07:35.156Z"
   },
   {
    "duration": 0,
    "start_time": "2022-06-23T11:07:35.279Z"
   },
   {
    "duration": 1179,
    "start_time": "2022-06-23T11:09:30.705Z"
   },
   {
    "duration": 232,
    "start_time": "2022-06-23T11:09:36.639Z"
   },
   {
    "duration": 9,
    "start_time": "2022-06-23T11:09:40.389Z"
   },
   {
    "duration": 25,
    "start_time": "2022-06-23T11:09:41.423Z"
   },
   {
    "duration": 3,
    "start_time": "2022-06-23T11:09:42.391Z"
   },
   {
    "duration": 12184,
    "start_time": "2022-06-23T11:09:43.096Z"
   },
   {
    "duration": 3,
    "start_time": "2022-06-23T11:09:57.495Z"
   },
   {
    "duration": 5,
    "start_time": "2022-06-23T11:11:05.115Z"
   },
   {
    "duration": 708,
    "start_time": "2022-06-23T11:11:05.121Z"
   },
   {
    "duration": 30,
    "start_time": "2022-06-23T11:11:05.830Z"
   },
   {
    "duration": 25,
    "start_time": "2022-06-23T11:11:05.862Z"
   },
   {
    "duration": 6,
    "start_time": "2022-06-23T11:11:05.888Z"
   },
   {
    "duration": 2,
    "start_time": "2022-06-23T11:11:05.895Z"
   },
   {
    "duration": 5,
    "start_time": "2022-06-23T11:11:05.899Z"
   },
   {
    "duration": 26,
    "start_time": "2022-06-23T11:11:05.905Z"
   },
   {
    "duration": 6,
    "start_time": "2022-06-23T11:11:05.933Z"
   },
   {
    "duration": 9,
    "start_time": "2022-06-23T11:11:05.941Z"
   },
   {
    "duration": 7,
    "start_time": "2022-06-23T11:11:05.951Z"
   },
   {
    "duration": 26,
    "start_time": "2022-06-23T11:11:05.959Z"
   },
   {
    "duration": 45,
    "start_time": "2022-06-23T11:11:05.987Z"
   },
   {
    "duration": 236,
    "start_time": "2022-06-23T11:11:06.034Z"
   },
   {
    "duration": 5,
    "start_time": "2022-06-23T11:11:06.272Z"
   },
   {
    "duration": 21557,
    "start_time": "2022-06-23T11:11:06.278Z"
   },
   {
    "duration": 4,
    "start_time": "2022-06-23T11:11:27.836Z"
   },
   {
    "duration": 4,
    "start_time": "2022-06-23T11:12:04.697Z"
   },
   {
    "duration": 690,
    "start_time": "2022-06-23T11:12:04.703Z"
   },
   {
    "duration": 36,
    "start_time": "2022-06-23T11:12:05.394Z"
   },
   {
    "duration": 26,
    "start_time": "2022-06-23T11:12:05.432Z"
   },
   {
    "duration": 5,
    "start_time": "2022-06-23T11:12:05.460Z"
   },
   {
    "duration": 2,
    "start_time": "2022-06-23T11:12:05.467Z"
   },
   {
    "duration": 6,
    "start_time": "2022-06-23T11:12:05.470Z"
   },
   {
    "duration": 6,
    "start_time": "2022-06-23T11:12:05.478Z"
   },
   {
    "duration": 5,
    "start_time": "2022-06-23T11:12:05.485Z"
   },
   {
    "duration": 6,
    "start_time": "2022-06-23T11:12:05.491Z"
   },
   {
    "duration": 33,
    "start_time": "2022-06-23T11:12:05.498Z"
   },
   {
    "duration": 23,
    "start_time": "2022-06-23T11:12:05.533Z"
   },
   {
    "duration": 22,
    "start_time": "2022-06-23T11:12:05.557Z"
   },
   {
    "duration": 238,
    "start_time": "2022-06-23T11:12:05.582Z"
   },
   {
    "duration": 7,
    "start_time": "2022-06-23T11:12:05.822Z"
   },
   {
    "duration": 51915,
    "start_time": "2022-06-23T11:12:05.831Z"
   },
   {
    "duration": 3,
    "start_time": "2022-06-23T11:12:57.747Z"
   },
   {
    "duration": 4,
    "start_time": "2022-06-23T11:14:30.350Z"
   },
   {
    "duration": 719,
    "start_time": "2022-06-23T11:14:30.357Z"
   },
   {
    "duration": 33,
    "start_time": "2022-06-23T11:14:31.078Z"
   },
   {
    "duration": 43,
    "start_time": "2022-06-23T11:14:31.113Z"
   },
   {
    "duration": 8,
    "start_time": "2022-06-23T11:14:31.159Z"
   },
   {
    "duration": 18,
    "start_time": "2022-06-23T11:14:31.170Z"
   },
   {
    "duration": 11,
    "start_time": "2022-06-23T11:14:31.190Z"
   },
   {
    "duration": 6,
    "start_time": "2022-06-23T11:14:31.203Z"
   },
   {
    "duration": 5,
    "start_time": "2022-06-23T11:14:31.211Z"
   },
   {
    "duration": 13,
    "start_time": "2022-06-23T11:14:31.217Z"
   },
   {
    "duration": 4,
    "start_time": "2022-06-23T11:14:31.232Z"
   },
   {
    "duration": 33,
    "start_time": "2022-06-23T11:14:31.238Z"
   },
   {
    "duration": 28,
    "start_time": "2022-06-23T11:14:31.272Z"
   },
   {
    "duration": 598,
    "start_time": "2022-06-23T11:14:31.302Z"
   },
   {
    "duration": 5,
    "start_time": "2022-06-23T11:14:31.903Z"
   },
   {
    "duration": 26071,
    "start_time": "2022-06-23T11:14:31.909Z"
   },
   {
    "duration": 2,
    "start_time": "2022-06-23T11:14:57.982Z"
   },
   {
    "duration": 5,
    "start_time": "2022-06-23T11:15:13.708Z"
   },
   {
    "duration": 685,
    "start_time": "2022-06-23T11:15:13.716Z"
   },
   {
    "duration": 29,
    "start_time": "2022-06-23T11:15:14.403Z"
   },
   {
    "duration": 25,
    "start_time": "2022-06-23T11:15:14.433Z"
   },
   {
    "duration": 6,
    "start_time": "2022-06-23T11:15:14.459Z"
   },
   {
    "duration": 3,
    "start_time": "2022-06-23T11:15:14.466Z"
   },
   {
    "duration": 5,
    "start_time": "2022-06-23T11:15:14.470Z"
   },
   {
    "duration": 5,
    "start_time": "2022-06-23T11:15:14.476Z"
   },
   {
    "duration": 6,
    "start_time": "2022-06-23T11:15:14.483Z"
   },
   {
    "duration": 7,
    "start_time": "2022-06-23T11:15:14.491Z"
   },
   {
    "duration": 3,
    "start_time": "2022-06-23T11:15:14.530Z"
   },
   {
    "duration": 36,
    "start_time": "2022-06-23T11:15:14.535Z"
   },
   {
    "duration": 24,
    "start_time": "2022-06-23T11:15:14.573Z"
   },
   {
    "duration": 260,
    "start_time": "2022-06-23T11:15:14.599Z"
   },
   {
    "duration": 6,
    "start_time": "2022-06-23T11:15:14.861Z"
   },
   {
    "duration": 27024,
    "start_time": "2022-06-23T11:15:14.868Z"
   },
   {
    "duration": 3,
    "start_time": "2022-06-23T11:15:41.893Z"
   },
   {
    "duration": 4,
    "start_time": "2022-06-23T11:16:19.532Z"
   },
   {
    "duration": 600,
    "start_time": "2022-06-23T11:16:19.538Z"
   },
   {
    "duration": 20,
    "start_time": "2022-06-23T11:16:20.140Z"
   },
   {
    "duration": 32,
    "start_time": "2022-06-23T11:16:20.162Z"
   },
   {
    "duration": 5,
    "start_time": "2022-06-23T11:16:20.196Z"
   },
   {
    "duration": 2,
    "start_time": "2022-06-23T11:16:20.202Z"
   },
   {
    "duration": 4,
    "start_time": "2022-06-23T11:16:20.206Z"
   },
   {
    "duration": 3,
    "start_time": "2022-06-23T11:16:20.228Z"
   },
   {
    "duration": 5,
    "start_time": "2022-06-23T11:16:20.233Z"
   },
   {
    "duration": 5,
    "start_time": "2022-06-23T11:16:20.240Z"
   },
   {
    "duration": 4,
    "start_time": "2022-06-23T11:16:20.247Z"
   },
   {
    "duration": 23,
    "start_time": "2022-06-23T11:16:20.252Z"
   },
   {
    "duration": 33,
    "start_time": "2022-06-23T11:16:20.276Z"
   },
   {
    "duration": 377,
    "start_time": "2022-06-23T11:16:20.311Z"
   },
   {
    "duration": 4,
    "start_time": "2022-06-23T11:16:20.690Z"
   },
   {
    "duration": 12435,
    "start_time": "2022-06-23T11:16:20.696Z"
   },
   {
    "duration": 4,
    "start_time": "2022-06-23T11:16:33.133Z"
   },
   {
    "duration": 4,
    "start_time": "2022-06-23T11:16:46.589Z"
   },
   {
    "duration": 677,
    "start_time": "2022-06-23T11:16:46.595Z"
   },
   {
    "duration": 24,
    "start_time": "2022-06-23T11:16:47.274Z"
   },
   {
    "duration": 34,
    "start_time": "2022-06-23T11:16:47.299Z"
   },
   {
    "duration": 5,
    "start_time": "2022-06-23T11:16:47.335Z"
   },
   {
    "duration": 2,
    "start_time": "2022-06-23T11:16:47.342Z"
   },
   {
    "duration": 4,
    "start_time": "2022-06-23T11:16:47.346Z"
   },
   {
    "duration": 7,
    "start_time": "2022-06-23T11:16:47.351Z"
   },
   {
    "duration": 5,
    "start_time": "2022-06-23T11:16:47.360Z"
   },
   {
    "duration": 7,
    "start_time": "2022-06-23T11:16:47.366Z"
   },
   {
    "duration": 6,
    "start_time": "2022-06-23T11:16:47.374Z"
   },
   {
    "duration": 69,
    "start_time": "2022-06-23T11:16:47.381Z"
   },
   {
    "duration": 24,
    "start_time": "2022-06-23T11:16:47.452Z"
   },
   {
    "duration": 231,
    "start_time": "2022-06-23T11:16:47.478Z"
   },
   {
    "duration": 6,
    "start_time": "2022-06-23T11:16:47.711Z"
   },
   {
    "duration": 13158,
    "start_time": "2022-06-23T11:16:47.719Z"
   },
   {
    "duration": 4,
    "start_time": "2022-06-23T11:17:00.878Z"
   },
   {
    "duration": 4,
    "start_time": "2022-06-23T11:17:15.833Z"
   },
   {
    "duration": 694,
    "start_time": "2022-06-23T11:17:15.839Z"
   },
   {
    "duration": 27,
    "start_time": "2022-06-23T11:17:16.535Z"
   },
   {
    "duration": 26,
    "start_time": "2022-06-23T11:17:16.564Z"
   },
   {
    "duration": 6,
    "start_time": "2022-06-23T11:17:16.593Z"
   },
   {
    "duration": 30,
    "start_time": "2022-06-23T11:17:16.600Z"
   },
   {
    "duration": 5,
    "start_time": "2022-06-23T11:17:16.632Z"
   },
   {
    "duration": 6,
    "start_time": "2022-06-23T11:17:16.638Z"
   },
   {
    "duration": 7,
    "start_time": "2022-06-23T11:17:16.646Z"
   },
   {
    "duration": 8,
    "start_time": "2022-06-23T11:17:16.655Z"
   },
   {
    "duration": 8,
    "start_time": "2022-06-23T11:17:16.665Z"
   },
   {
    "duration": 27,
    "start_time": "2022-06-23T11:17:16.674Z"
   },
   {
    "duration": 32,
    "start_time": "2022-06-23T11:17:16.703Z"
   },
   {
    "duration": 236,
    "start_time": "2022-06-23T11:17:16.738Z"
   },
   {
    "duration": 4,
    "start_time": "2022-06-23T11:17:16.976Z"
   },
   {
    "duration": 11925,
    "start_time": "2022-06-23T11:17:16.982Z"
   },
   {
    "duration": 3,
    "start_time": "2022-06-23T11:17:28.909Z"
   },
   {
    "duration": 5,
    "start_time": "2022-06-23T11:19:50.946Z"
   },
   {
    "duration": 701,
    "start_time": "2022-06-23T11:19:50.954Z"
   },
   {
    "duration": 31,
    "start_time": "2022-06-23T11:19:51.656Z"
   },
   {
    "duration": 41,
    "start_time": "2022-06-23T11:19:51.689Z"
   },
   {
    "duration": 7,
    "start_time": "2022-06-23T11:19:51.731Z"
   },
   {
    "duration": 3,
    "start_time": "2022-06-23T11:19:51.739Z"
   },
   {
    "duration": 12,
    "start_time": "2022-06-23T11:19:51.743Z"
   },
   {
    "duration": 5,
    "start_time": "2022-06-23T11:19:51.757Z"
   },
   {
    "duration": 8,
    "start_time": "2022-06-23T11:19:51.763Z"
   },
   {
    "duration": 8,
    "start_time": "2022-06-23T11:19:51.773Z"
   },
   {
    "duration": 7,
    "start_time": "2022-06-23T11:19:51.783Z"
   },
   {
    "duration": 38,
    "start_time": "2022-06-23T11:19:51.792Z"
   },
   {
    "duration": 25,
    "start_time": "2022-06-23T11:19:51.831Z"
   },
   {
    "duration": 239,
    "start_time": "2022-06-23T11:19:51.858Z"
   },
   {
    "duration": 6,
    "start_time": "2022-06-23T11:19:52.099Z"
   },
   {
    "duration": 11809,
    "start_time": "2022-06-23T11:19:52.107Z"
   },
   {
    "duration": 3,
    "start_time": "2022-06-23T11:20:03.918Z"
   },
   {
    "duration": 5,
    "start_time": "2022-06-23T11:20:29.887Z"
   },
   {
    "duration": 689,
    "start_time": "2022-06-23T11:20:29.895Z"
   },
   {
    "duration": 31,
    "start_time": "2022-06-23T11:20:30.586Z"
   },
   {
    "duration": 35,
    "start_time": "2022-06-23T11:20:30.619Z"
   },
   {
    "duration": 8,
    "start_time": "2022-06-23T11:20:30.656Z"
   },
   {
    "duration": 9,
    "start_time": "2022-06-23T11:20:30.666Z"
   },
   {
    "duration": 7,
    "start_time": "2022-06-23T11:20:30.677Z"
   },
   {
    "duration": 8,
    "start_time": "2022-06-23T11:20:30.685Z"
   },
   {
    "duration": 8,
    "start_time": "2022-06-23T11:20:30.694Z"
   },
   {
    "duration": 24,
    "start_time": "2022-06-23T11:20:30.705Z"
   },
   {
    "duration": 8,
    "start_time": "2022-06-23T11:20:30.731Z"
   },
   {
    "duration": 25,
    "start_time": "2022-06-23T11:20:30.741Z"
   },
   {
    "duration": 28,
    "start_time": "2022-06-23T11:20:30.768Z"
   },
   {
    "duration": 236,
    "start_time": "2022-06-23T11:20:30.797Z"
   },
   {
    "duration": 6,
    "start_time": "2022-06-23T11:20:31.036Z"
   },
   {
    "duration": 12771,
    "start_time": "2022-06-23T11:20:31.044Z"
   },
   {
    "duration": 4,
    "start_time": "2022-06-23T11:20:43.816Z"
   },
   {
    "duration": 64067,
    "start_time": "2022-06-23T11:21:01.486Z"
   },
   {
    "duration": 6,
    "start_time": "2022-06-23T11:23:19.395Z"
   },
   {
    "duration": 658,
    "start_time": "2022-06-23T11:23:19.404Z"
   },
   {
    "duration": 30,
    "start_time": "2022-06-23T11:23:20.064Z"
   },
   {
    "duration": 39,
    "start_time": "2022-06-23T11:23:20.096Z"
   },
   {
    "duration": 7,
    "start_time": "2022-06-23T11:23:20.137Z"
   },
   {
    "duration": 6,
    "start_time": "2022-06-23T11:23:20.146Z"
   },
   {
    "duration": 16,
    "start_time": "2022-06-23T11:23:20.153Z"
   },
   {
    "duration": 15,
    "start_time": "2022-06-23T11:23:20.171Z"
   },
   {
    "duration": 9,
    "start_time": "2022-06-23T11:23:20.187Z"
   },
   {
    "duration": 24,
    "start_time": "2022-06-23T11:23:20.199Z"
   },
   {
    "duration": 18,
    "start_time": "2022-06-23T11:23:20.225Z"
   },
   {
    "duration": 24,
    "start_time": "2022-06-23T11:23:20.245Z"
   },
   {
    "duration": 28,
    "start_time": "2022-06-23T11:23:20.270Z"
   },
   {
    "duration": 212,
    "start_time": "2022-06-23T11:23:20.300Z"
   },
   {
    "duration": 6,
    "start_time": "2022-06-23T11:23:20.514Z"
   },
   {
    "duration": 25246,
    "start_time": "2022-06-23T11:23:20.521Z"
   },
   {
    "duration": 3,
    "start_time": "2022-06-23T11:23:45.769Z"
   },
   {
    "duration": 168118,
    "start_time": "2022-06-23T11:23:59.345Z"
   },
   {
    "duration": 1055518,
    "start_time": "2022-06-23T11:27:55.725Z"
   },
   {
    "duration": 4,
    "start_time": "2022-06-23T11:45:31.245Z"
   },
   {
    "duration": 705,
    "start_time": "2022-06-23T11:45:31.251Z"
   },
   {
    "duration": 27,
    "start_time": "2022-06-23T11:45:31.958Z"
   },
   {
    "duration": 24,
    "start_time": "2022-06-23T11:45:31.987Z"
   },
   {
    "duration": 6,
    "start_time": "2022-06-23T11:45:32.029Z"
   },
   {
    "duration": 4,
    "start_time": "2022-06-23T11:45:32.036Z"
   },
   {
    "duration": 7,
    "start_time": "2022-06-23T11:45:32.042Z"
   },
   {
    "duration": 11,
    "start_time": "2022-06-23T11:45:32.051Z"
   },
   {
    "duration": 13,
    "start_time": "2022-06-23T11:45:32.065Z"
   },
   {
    "duration": 11,
    "start_time": "2022-06-23T11:45:32.079Z"
   },
   {
    "duration": 5,
    "start_time": "2022-06-23T11:45:32.091Z"
   },
   {
    "duration": 23,
    "start_time": "2022-06-23T11:45:32.098Z"
   },
   {
    "duration": 27,
    "start_time": "2022-06-23T11:45:32.128Z"
   },
   {
    "duration": 729,
    "start_time": "2022-06-23T11:45:32.156Z"
   },
   {
    "duration": 5,
    "start_time": "2022-06-23T11:45:32.887Z"
   },
   {
    "duration": 25560,
    "start_time": "2022-06-23T11:45:32.893Z"
   },
   {
    "duration": 3,
    "start_time": "2022-06-23T11:45:58.455Z"
   },
   {
    "duration": 5,
    "start_time": "2022-06-23T11:46:27.644Z"
   },
   {
    "duration": 618,
    "start_time": "2022-06-23T11:46:27.651Z"
   },
   {
    "duration": 19,
    "start_time": "2022-06-23T11:46:28.271Z"
   },
   {
    "duration": 19,
    "start_time": "2022-06-23T11:46:28.291Z"
   },
   {
    "duration": 19,
    "start_time": "2022-06-23T11:46:28.312Z"
   },
   {
    "duration": 2,
    "start_time": "2022-06-23T11:46:28.332Z"
   },
   {
    "duration": 5,
    "start_time": "2022-06-23T11:46:28.336Z"
   },
   {
    "duration": 4,
    "start_time": "2022-06-23T11:46:28.343Z"
   },
   {
    "duration": 4,
    "start_time": "2022-06-23T11:46:28.349Z"
   },
   {
    "duration": 7,
    "start_time": "2022-06-23T11:46:28.354Z"
   },
   {
    "duration": 5,
    "start_time": "2022-06-23T11:46:28.362Z"
   },
   {
    "duration": 21,
    "start_time": "2022-06-23T11:46:28.368Z"
   },
   {
    "duration": 40,
    "start_time": "2022-06-23T11:46:28.391Z"
   },
   {
    "duration": 645,
    "start_time": "2022-06-23T11:46:28.433Z"
   },
   {
    "duration": 5,
    "start_time": "2022-06-23T11:46:29.080Z"
   },
   {
    "duration": 25708,
    "start_time": "2022-06-23T11:46:29.087Z"
   },
   {
    "duration": 3,
    "start_time": "2022-06-23T11:46:54.797Z"
   },
   {
    "duration": 141,
    "start_time": "2022-06-23T11:47:35.772Z"
   },
   {
    "duration": 9,
    "start_time": "2022-06-23T11:50:01.930Z"
   },
   {
    "duration": 123,
    "start_time": "2022-06-23T11:50:15.908Z"
   },
   {
    "duration": 5,
    "start_time": "2022-06-23T11:52:30.147Z"
   },
   {
    "duration": 696,
    "start_time": "2022-06-23T11:52:30.154Z"
   },
   {
    "duration": 31,
    "start_time": "2022-06-23T11:52:30.852Z"
   },
   {
    "duration": 28,
    "start_time": "2022-06-23T11:52:30.885Z"
   },
   {
    "duration": 22,
    "start_time": "2022-06-23T11:52:30.915Z"
   },
   {
    "duration": 2,
    "start_time": "2022-06-23T11:52:30.939Z"
   },
   {
    "duration": 11,
    "start_time": "2022-06-23T11:52:30.942Z"
   },
   {
    "duration": 6,
    "start_time": "2022-06-23T11:52:30.954Z"
   },
   {
    "duration": 7,
    "start_time": "2022-06-23T11:52:30.962Z"
   },
   {
    "duration": 6,
    "start_time": "2022-06-23T11:52:30.972Z"
   },
   {
    "duration": 11,
    "start_time": "2022-06-23T11:52:30.980Z"
   },
   {
    "duration": 37,
    "start_time": "2022-06-23T11:52:30.993Z"
   },
   {
    "duration": 24,
    "start_time": "2022-06-23T11:52:31.032Z"
   },
   {
    "duration": 712,
    "start_time": "2022-06-23T11:52:31.058Z"
   },
   {
    "duration": 6,
    "start_time": "2022-06-23T11:52:31.772Z"
   },
   {
    "duration": 26222,
    "start_time": "2022-06-23T11:52:31.779Z"
   },
   {
    "duration": 3,
    "start_time": "2022-06-23T11:52:58.003Z"
   },
   {
    "duration": 53,
    "start_time": "2022-06-23T11:53:12.219Z"
   },
   {
    "duration": 125,
    "start_time": "2022-06-23T11:53:41.025Z"
   },
   {
    "duration": 118,
    "start_time": "2022-06-23T11:56:28.825Z"
   },
   {
    "duration": 120,
    "start_time": "2022-06-23T11:56:41.000Z"
   },
   {
    "duration": 115,
    "start_time": "2022-06-23T11:57:25.410Z"
   },
   {
    "duration": 4,
    "start_time": "2022-06-23T11:58:07.064Z"
   },
   {
    "duration": 671,
    "start_time": "2022-06-23T11:58:07.070Z"
   },
   {
    "duration": 30,
    "start_time": "2022-06-23T11:58:07.742Z"
   },
   {
    "duration": 26,
    "start_time": "2022-06-23T11:58:07.774Z"
   },
   {
    "duration": 6,
    "start_time": "2022-06-23T11:58:07.802Z"
   },
   {
    "duration": 21,
    "start_time": "2022-06-23T11:58:07.809Z"
   },
   {
    "duration": 7,
    "start_time": "2022-06-23T11:58:07.831Z"
   },
   {
    "duration": 5,
    "start_time": "2022-06-23T11:58:07.839Z"
   },
   {
    "duration": 5,
    "start_time": "2022-06-23T11:58:07.845Z"
   },
   {
    "duration": 7,
    "start_time": "2022-06-23T11:58:07.851Z"
   },
   {
    "duration": 5,
    "start_time": "2022-06-23T11:58:07.859Z"
   },
   {
    "duration": 23,
    "start_time": "2022-06-23T11:58:07.865Z"
   },
   {
    "duration": 43,
    "start_time": "2022-06-23T11:58:07.890Z"
   },
   {
    "duration": 631,
    "start_time": "2022-06-23T11:58:07.936Z"
   },
   {
    "duration": 5,
    "start_time": "2022-06-23T11:58:08.569Z"
   },
   {
    "duration": 25544,
    "start_time": "2022-06-23T11:58:08.576Z"
   },
   {
    "duration": 3,
    "start_time": "2022-06-23T11:58:34.122Z"
   },
   {
    "duration": 113,
    "start_time": "2022-06-23T11:58:39.806Z"
   },
   {
    "duration": 337,
    "start_time": "2022-06-23T12:00:48.001Z"
   },
   {
    "duration": 5,
    "start_time": "2022-06-23T12:01:17.399Z"
   },
   {
    "duration": 662,
    "start_time": "2022-06-23T12:01:17.406Z"
   },
   {
    "duration": 26,
    "start_time": "2022-06-23T12:01:18.070Z"
   },
   {
    "duration": 34,
    "start_time": "2022-06-23T12:01:18.098Z"
   },
   {
    "duration": 6,
    "start_time": "2022-06-23T12:01:18.134Z"
   },
   {
    "duration": 2,
    "start_time": "2022-06-23T12:01:18.142Z"
   },
   {
    "duration": 5,
    "start_time": "2022-06-23T12:01:18.146Z"
   },
   {
    "duration": 4,
    "start_time": "2022-06-23T12:01:18.153Z"
   },
   {
    "duration": 6,
    "start_time": "2022-06-23T12:01:18.159Z"
   },
   {
    "duration": 5,
    "start_time": "2022-06-23T12:01:18.168Z"
   },
   {
    "duration": 6,
    "start_time": "2022-06-23T12:01:18.175Z"
   },
   {
    "duration": 55,
    "start_time": "2022-06-23T12:01:18.183Z"
   },
   {
    "duration": 29,
    "start_time": "2022-06-23T12:01:18.240Z"
   },
   {
    "duration": 758,
    "start_time": "2022-06-23T12:01:18.271Z"
   },
   {
    "duration": 15,
    "start_time": "2022-06-23T12:01:19.031Z"
   },
   {
    "duration": 25777,
    "start_time": "2022-06-23T12:01:19.047Z"
   },
   {
    "duration": 4,
    "start_time": "2022-06-23T12:01:44.826Z"
   },
   {
    "duration": 561,
    "start_time": "2022-06-23T12:02:00.873Z"
   },
   {
    "duration": 4,
    "start_time": "2022-06-23T12:09:32.073Z"
   },
   {
    "duration": 677,
    "start_time": "2022-06-23T12:09:32.079Z"
   },
   {
    "duration": 31,
    "start_time": "2022-06-23T12:09:32.757Z"
   },
   {
    "duration": 42,
    "start_time": "2022-06-23T12:09:32.790Z"
   },
   {
    "duration": 5,
    "start_time": "2022-06-23T12:09:32.834Z"
   },
   {
    "duration": 3,
    "start_time": "2022-06-23T12:09:32.840Z"
   },
   {
    "duration": 6,
    "start_time": "2022-06-23T12:09:32.844Z"
   },
   {
    "duration": 6,
    "start_time": "2022-06-23T12:09:32.851Z"
   },
   {
    "duration": 6,
    "start_time": "2022-06-23T12:09:32.858Z"
   },
   {
    "duration": 5,
    "start_time": "2022-06-23T12:09:32.866Z"
   },
   {
    "duration": 8,
    "start_time": "2022-06-23T12:09:32.873Z"
   },
   {
    "duration": 50,
    "start_time": "2022-06-23T12:09:32.882Z"
   },
   {
    "duration": 30,
    "start_time": "2022-06-23T12:09:32.935Z"
   },
   {
    "duration": 705,
    "start_time": "2022-06-23T12:09:32.967Z"
   },
   {
    "duration": 9,
    "start_time": "2022-06-23T12:09:33.674Z"
   },
   {
    "duration": 25534,
    "start_time": "2022-06-23T12:09:33.685Z"
   },
   {
    "duration": 3,
    "start_time": "2022-06-23T12:09:59.221Z"
   },
   {
    "duration": 584,
    "start_time": "2022-06-23T12:10:07.469Z"
   },
   {
    "duration": 496,
    "start_time": "2022-06-23T12:10:57.390Z"
   },
   {
    "duration": 1406,
    "start_time": "2022-06-24T09:27:39.815Z"
   },
   {
    "duration": 2187,
    "start_time": "2022-06-24T09:27:41.223Z"
   },
   {
    "duration": 29,
    "start_time": "2022-06-24T09:27:43.412Z"
   },
   {
    "duration": 52,
    "start_time": "2022-06-24T09:27:43.443Z"
   },
   {
    "duration": 27,
    "start_time": "2022-06-24T09:27:43.497Z"
   },
   {
    "duration": 22,
    "start_time": "2022-06-24T09:27:43.526Z"
   },
   {
    "duration": 35,
    "start_time": "2022-06-24T09:27:43.550Z"
   },
   {
    "duration": 27,
    "start_time": "2022-06-24T09:27:43.586Z"
   },
   {
    "duration": 22,
    "start_time": "2022-06-24T09:27:43.614Z"
   },
   {
    "duration": 1300,
    "start_time": "2022-06-24T09:27:43.638Z"
   },
   {
    "duration": 0,
    "start_time": "2022-06-24T09:27:44.940Z"
   },
   {
    "duration": 4,
    "start_time": "2022-06-24T09:31:34.775Z"
   },
   {
    "duration": 743,
    "start_time": "2022-06-24T09:31:34.781Z"
   },
   {
    "duration": 38,
    "start_time": "2022-06-24T09:31:35.526Z"
   },
   {
    "duration": 24,
    "start_time": "2022-06-24T09:31:35.566Z"
   },
   {
    "duration": 7,
    "start_time": "2022-06-24T09:31:35.592Z"
   },
   {
    "duration": 5,
    "start_time": "2022-06-24T09:31:35.600Z"
   },
   {
    "duration": 5,
    "start_time": "2022-06-24T09:31:35.606Z"
   },
   {
    "duration": 12,
    "start_time": "2022-06-24T09:31:35.613Z"
   },
   {
    "duration": 0,
    "start_time": "2022-06-24T09:31:35.627Z"
   },
   {
    "duration": 0,
    "start_time": "2022-06-24T09:31:35.628Z"
   },
   {
    "duration": 0,
    "start_time": "2022-06-24T09:31:35.629Z"
   },
   {
    "duration": 6,
    "start_time": "2022-06-24T09:32:16.283Z"
   },
   {
    "duration": 767,
    "start_time": "2022-06-24T09:32:16.291Z"
   },
   {
    "duration": 31,
    "start_time": "2022-06-24T09:32:17.060Z"
   },
   {
    "duration": 26,
    "start_time": "2022-06-24T09:32:17.093Z"
   },
   {
    "duration": 8,
    "start_time": "2022-06-24T09:32:17.121Z"
   },
   {
    "duration": 29,
    "start_time": "2022-06-24T09:32:17.130Z"
   },
   {
    "duration": 3,
    "start_time": "2022-06-24T09:32:17.160Z"
   },
   {
    "duration": 29,
    "start_time": "2022-06-24T09:32:17.164Z"
   },
   {
    "duration": 1,
    "start_time": "2022-06-24T09:32:17.194Z"
   },
   {
    "duration": 0,
    "start_time": "2022-06-24T09:32:17.196Z"
   },
   {
    "duration": 0,
    "start_time": "2022-06-24T09:32:17.197Z"
   },
   {
    "duration": 66,
    "start_time": "2022-06-24T09:37:22.330Z"
   },
   {
    "duration": 4,
    "start_time": "2022-06-24T09:37:39.245Z"
   },
   {
    "duration": 711,
    "start_time": "2022-06-24T09:37:39.251Z"
   },
   {
    "duration": 29,
    "start_time": "2022-06-24T09:37:39.964Z"
   },
   {
    "duration": 27,
    "start_time": "2022-06-24T09:37:39.995Z"
   },
   {
    "duration": 10,
    "start_time": "2022-06-24T09:37:40.025Z"
   },
   {
    "duration": 2,
    "start_time": "2022-06-24T09:37:40.059Z"
   },
   {
    "duration": 7,
    "start_time": "2022-06-24T09:37:40.063Z"
   },
   {
    "duration": 72,
    "start_time": "2022-06-24T09:37:40.071Z"
   },
   {
    "duration": 26,
    "start_time": "2022-06-24T09:37:40.146Z"
   },
   {
    "duration": 0,
    "start_time": "2022-06-24T09:37:40.174Z"
   },
   {
    "duration": 0,
    "start_time": "2022-06-24T09:37:40.175Z"
   },
   {
    "duration": 0,
    "start_time": "2022-06-24T09:37:40.176Z"
   },
   {
    "duration": 5,
    "start_time": "2022-06-24T09:37:59.344Z"
   },
   {
    "duration": 746,
    "start_time": "2022-06-24T09:38:00.782Z"
   },
   {
    "duration": 33,
    "start_time": "2022-06-24T09:38:01.739Z"
   },
   {
    "duration": 26,
    "start_time": "2022-06-24T09:38:02.228Z"
   },
   {
    "duration": 6,
    "start_time": "2022-06-24T09:38:03.025Z"
   },
   {
    "duration": 3,
    "start_time": "2022-06-24T09:38:04.689Z"
   },
   {
    "duration": 2,
    "start_time": "2022-06-24T09:38:09.450Z"
   },
   {
    "duration": 62,
    "start_time": "2022-06-24T09:38:10.711Z"
   },
   {
    "duration": 17,
    "start_time": "2022-06-24T09:38:11.593Z"
   },
   {
    "duration": 46,
    "start_time": "2022-06-24T17:30:08.247Z"
   },
   {
    "duration": 1519,
    "start_time": "2022-06-24T17:31:03.970Z"
   },
   {
    "duration": 2289,
    "start_time": "2022-06-24T17:31:05.492Z"
   },
   {
    "duration": 31,
    "start_time": "2022-06-24T17:31:07.783Z"
   },
   {
    "duration": 29,
    "start_time": "2022-06-24T17:31:09.367Z"
   },
   {
    "duration": 8,
    "start_time": "2022-06-24T17:31:10.120Z"
   },
   {
    "duration": 3,
    "start_time": "2022-06-24T17:31:12.380Z"
   },
   {
    "duration": 2,
    "start_time": "2022-06-24T17:31:17.181Z"
   },
   {
    "duration": 63,
    "start_time": "2022-06-24T17:31:18.820Z"
   },
   {
    "duration": 24,
    "start_time": "2022-06-24T17:32:55.061Z"
   },
   {
    "duration": 25,
    "start_time": "2022-06-24T17:33:04.571Z"
   },
   {
    "duration": 26,
    "start_time": "2022-06-24T17:33:17.521Z"
   },
   {
    "duration": 85,
    "start_time": "2022-06-24T17:35:26.795Z"
   },
   {
    "duration": 35,
    "start_time": "2022-06-24T17:38:22.168Z"
   },
   {
    "duration": 4,
    "start_time": "2022-06-24T17:38:46.585Z"
   },
   {
    "duration": 701,
    "start_time": "2022-06-24T17:38:46.591Z"
   },
   {
    "duration": 24,
    "start_time": "2022-06-24T17:38:47.294Z"
   },
   {
    "duration": 33,
    "start_time": "2022-06-24T17:38:47.320Z"
   },
   {
    "duration": 6,
    "start_time": "2022-06-24T17:38:47.355Z"
   },
   {
    "duration": 3,
    "start_time": "2022-06-24T17:38:47.363Z"
   },
   {
    "duration": 4,
    "start_time": "2022-06-24T17:38:47.368Z"
   },
   {
    "duration": 38,
    "start_time": "2022-06-24T17:38:47.373Z"
   },
   {
    "duration": 48,
    "start_time": "2022-06-24T17:38:47.412Z"
   },
   {
    "duration": 1407,
    "start_time": "2022-06-24T17:43:09.237Z"
   },
   {
    "duration": 2189,
    "start_time": "2022-06-24T17:43:10.646Z"
   },
   {
    "duration": 27,
    "start_time": "2022-06-24T17:43:12.837Z"
   },
   {
    "duration": 28,
    "start_time": "2022-06-24T17:43:12.866Z"
   },
   {
    "duration": 5,
    "start_time": "2022-06-24T17:43:12.896Z"
   },
   {
    "duration": 7,
    "start_time": "2022-06-24T17:43:12.903Z"
   },
   {
    "duration": 11,
    "start_time": "2022-06-24T17:43:12.912Z"
   },
   {
    "duration": 43,
    "start_time": "2022-06-24T17:43:48.264Z"
   },
   {
    "duration": 1442,
    "start_time": "2022-06-24T17:43:55.523Z"
   },
   {
    "duration": 2200,
    "start_time": "2022-06-24T17:43:56.967Z"
   },
   {
    "duration": 29,
    "start_time": "2022-06-24T17:43:59.169Z"
   },
   {
    "duration": 28,
    "start_time": "2022-06-24T17:43:59.200Z"
   },
   {
    "duration": 5,
    "start_time": "2022-06-24T17:43:59.229Z"
   },
   {
    "duration": 3,
    "start_time": "2022-06-24T17:43:59.235Z"
   },
   {
    "duration": 12,
    "start_time": "2022-06-24T17:43:59.240Z"
   },
   {
    "duration": 1444,
    "start_time": "2022-06-24T17:44:23.923Z"
   },
   {
    "duration": 2138,
    "start_time": "2022-06-24T17:44:25.369Z"
   },
   {
    "duration": 31,
    "start_time": "2022-06-24T17:44:27.509Z"
   },
   {
    "duration": 30,
    "start_time": "2022-06-24T17:44:27.542Z"
   },
   {
    "duration": 6,
    "start_time": "2022-06-24T17:44:27.574Z"
   },
   {
    "duration": 3,
    "start_time": "2022-06-24T17:44:27.581Z"
   },
   {
    "duration": 6,
    "start_time": "2022-06-24T17:44:27.585Z"
   },
   {
    "duration": 52,
    "start_time": "2022-06-24T17:45:15.623Z"
   },
   {
    "duration": 1410,
    "start_time": "2022-06-24T17:45:29.072Z"
   },
   {
    "duration": 2305,
    "start_time": "2022-06-24T17:45:30.484Z"
   },
   {
    "duration": 35,
    "start_time": "2022-06-24T17:45:32.791Z"
   },
   {
    "duration": 34,
    "start_time": "2022-06-24T17:45:32.828Z"
   },
   {
    "duration": 7,
    "start_time": "2022-06-24T17:45:32.863Z"
   },
   {
    "duration": 3,
    "start_time": "2022-06-24T17:45:32.871Z"
   },
   {
    "duration": 6,
    "start_time": "2022-06-24T17:45:32.876Z"
   },
   {
    "duration": 95,
    "start_time": "2022-06-24T17:45:32.883Z"
   },
   {
    "duration": 111,
    "start_time": "2022-06-24T17:45:32.980Z"
   },
   {
    "duration": 3,
    "start_time": "2022-06-24T17:55:26.141Z"
   },
   {
    "duration": 5,
    "start_time": "2022-06-24T17:55:42.151Z"
   },
   {
    "duration": 742,
    "start_time": "2022-06-24T17:55:42.157Z"
   },
   {
    "duration": 28,
    "start_time": "2022-06-24T17:55:42.901Z"
   },
   {
    "duration": 36,
    "start_time": "2022-06-24T17:55:42.931Z"
   },
   {
    "duration": 8,
    "start_time": "2022-06-24T17:55:42.969Z"
   },
   {
    "duration": 2,
    "start_time": "2022-06-24T17:55:42.979Z"
   },
   {
    "duration": 6,
    "start_time": "2022-06-24T17:55:42.983Z"
   },
   {
    "duration": 91,
    "start_time": "2022-06-24T17:55:42.991Z"
   },
   {
    "duration": 3,
    "start_time": "2022-06-24T17:55:43.084Z"
   },
   {
    "duration": 3,
    "start_time": "2022-06-24T17:55:56.069Z"
   },
   {
    "duration": 1138,
    "start_time": "2022-06-24T17:56:00.170Z"
   },
   {
    "duration": 4,
    "start_time": "2022-06-24T17:56:24.712Z"
   },
   {
    "duration": 691,
    "start_time": "2022-06-24T17:56:24.718Z"
   },
   {
    "duration": 24,
    "start_time": "2022-06-24T17:56:25.411Z"
   },
   {
    "duration": 32,
    "start_time": "2022-06-24T17:56:25.437Z"
   },
   {
    "duration": 5,
    "start_time": "2022-06-24T17:56:25.471Z"
   },
   {
    "duration": 3,
    "start_time": "2022-06-24T17:56:25.478Z"
   },
   {
    "duration": 6,
    "start_time": "2022-06-24T17:56:25.483Z"
   },
   {
    "duration": 69,
    "start_time": "2022-06-24T17:56:25.490Z"
   },
   {
    "duration": 3,
    "start_time": "2022-06-24T17:56:25.561Z"
   },
   {
    "duration": 6,
    "start_time": "2022-06-24T17:56:25.566Z"
   },
   {
    "duration": 7,
    "start_time": "2022-06-24T17:56:25.573Z"
   },
   {
    "duration": 267,
    "start_time": "2022-06-24T17:56:25.581Z"
   },
   {
    "duration": 13,
    "start_time": "2022-06-24T18:00:40.238Z"
   },
   {
    "duration": 68,
    "start_time": "2022-06-24T18:01:00.535Z"
   },
   {
    "duration": 59,
    "start_time": "2022-06-24T18:01:41.222Z"
   },
   {
    "duration": 4,
    "start_time": "2022-06-24T18:02:48.347Z"
   },
   {
    "duration": 696,
    "start_time": "2022-06-24T18:02:48.353Z"
   },
   {
    "duration": 23,
    "start_time": "2022-06-24T18:02:49.051Z"
   },
   {
    "duration": 25,
    "start_time": "2022-06-24T18:02:49.076Z"
   },
   {
    "duration": 6,
    "start_time": "2022-06-24T18:02:49.103Z"
   },
   {
    "duration": 2,
    "start_time": "2022-06-24T18:02:49.111Z"
   },
   {
    "duration": 6,
    "start_time": "2022-06-24T18:02:49.114Z"
   },
   {
    "duration": 88,
    "start_time": "2022-06-24T18:02:49.121Z"
   },
   {
    "duration": 3,
    "start_time": "2022-06-24T18:02:49.210Z"
   },
   {
    "duration": 9,
    "start_time": "2022-06-24T18:02:49.215Z"
   },
   {
    "duration": 11,
    "start_time": "2022-06-24T18:02:49.225Z"
   },
   {
    "duration": 18,
    "start_time": "2022-06-24T18:02:49.237Z"
   },
   {
    "duration": 4,
    "start_time": "2022-06-24T18:03:01.061Z"
   },
   {
    "duration": 9,
    "start_time": "2022-06-24T18:03:04.032Z"
   },
   {
    "duration": 27,
    "start_time": "2022-06-24T18:03:07.583Z"
   },
   {
    "duration": 3,
    "start_time": "2022-06-24T18:03:10.757Z"
   },
   {
    "duration": 4,
    "start_time": "2022-06-24T18:03:36.032Z"
   },
   {
    "duration": 5,
    "start_time": "2022-06-24T18:17:05.804Z"
   },
   {
    "duration": 750,
    "start_time": "2022-06-24T18:17:05.811Z"
   },
   {
    "duration": 27,
    "start_time": "2022-06-24T18:17:06.563Z"
   },
   {
    "duration": 25,
    "start_time": "2022-06-24T18:17:06.592Z"
   },
   {
    "duration": 9,
    "start_time": "2022-06-24T18:17:06.619Z"
   },
   {
    "duration": 22,
    "start_time": "2022-06-24T18:17:06.630Z"
   },
   {
    "duration": 2,
    "start_time": "2022-06-24T18:17:06.654Z"
   },
   {
    "duration": 75,
    "start_time": "2022-06-24T18:17:06.658Z"
   },
   {
    "duration": 3,
    "start_time": "2022-06-24T18:17:06.735Z"
   },
   {
    "duration": 4,
    "start_time": "2022-06-24T18:17:06.751Z"
   },
   {
    "duration": 7,
    "start_time": "2022-06-24T18:17:06.756Z"
   },
   {
    "duration": 7,
    "start_time": "2022-06-24T18:17:06.765Z"
   },
   {
    "duration": 14,
    "start_time": "2022-06-24T18:17:06.774Z"
   },
   {
    "duration": 62,
    "start_time": "2022-06-24T18:17:06.790Z"
   },
   {
    "duration": 3,
    "start_time": "2022-06-24T18:17:06.854Z"
   },
   {
    "duration": 6,
    "start_time": "2022-06-24T18:17:06.859Z"
   },
   {
    "duration": 26591,
    "start_time": "2022-06-24T18:17:21.344Z"
   },
   {
    "duration": 4,
    "start_time": "2022-06-24T18:17:47.937Z"
   },
   {
    "duration": 4,
    "start_time": "2022-06-24T18:20:51.924Z"
   },
   {
    "duration": 740,
    "start_time": "2022-06-24T18:20:51.931Z"
   },
   {
    "duration": 31,
    "start_time": "2022-06-24T18:20:52.673Z"
   },
   {
    "duration": 27,
    "start_time": "2022-06-24T18:20:52.706Z"
   },
   {
    "duration": 21,
    "start_time": "2022-06-24T18:20:52.736Z"
   },
   {
    "duration": 7,
    "start_time": "2022-06-24T18:20:52.759Z"
   },
   {
    "duration": 9,
    "start_time": "2022-06-24T18:20:52.768Z"
   },
   {
    "duration": 82,
    "start_time": "2022-06-24T18:20:52.779Z"
   },
   {
    "duration": 3,
    "start_time": "2022-06-24T18:20:52.863Z"
   },
   {
    "duration": 6,
    "start_time": "2022-06-24T18:20:52.868Z"
   },
   {
    "duration": 7,
    "start_time": "2022-06-24T18:20:52.876Z"
   },
   {
    "duration": 6,
    "start_time": "2022-06-24T18:20:52.885Z"
   },
   {
    "duration": 28,
    "start_time": "2022-06-24T18:20:52.893Z"
   },
   {
    "duration": 54,
    "start_time": "2022-06-24T18:20:52.924Z"
   },
   {
    "duration": 797,
    "start_time": "2022-06-24T18:20:52.981Z"
   },
   {
    "duration": 10,
    "start_time": "2022-06-24T18:20:53.780Z"
   },
   {
    "duration": 428,
    "start_time": "2022-06-24T18:21:11.031Z"
   },
   {
    "duration": 374,
    "start_time": "2022-06-24T18:21:46.133Z"
   },
   {
    "duration": 4,
    "start_time": "2022-06-24T18:22:16.670Z"
   },
   {
    "duration": 667,
    "start_time": "2022-06-24T18:22:16.676Z"
   },
   {
    "duration": 29,
    "start_time": "2022-06-24T18:22:17.344Z"
   },
   {
    "duration": 26,
    "start_time": "2022-06-24T18:22:17.375Z"
   },
   {
    "duration": 6,
    "start_time": "2022-06-24T18:22:17.402Z"
   },
   {
    "duration": 5,
    "start_time": "2022-06-24T18:22:17.410Z"
   },
   {
    "duration": 6,
    "start_time": "2022-06-24T18:22:17.416Z"
   },
   {
    "duration": 88,
    "start_time": "2022-06-24T18:22:17.423Z"
   },
   {
    "duration": 3,
    "start_time": "2022-06-24T18:22:17.513Z"
   },
   {
    "duration": 6,
    "start_time": "2022-06-24T18:22:17.518Z"
   },
   {
    "duration": 8,
    "start_time": "2022-06-24T18:22:17.525Z"
   },
   {
    "duration": 18,
    "start_time": "2022-06-24T18:22:17.534Z"
   },
   {
    "duration": 12,
    "start_time": "2022-06-24T18:22:17.554Z"
   },
   {
    "duration": 34,
    "start_time": "2022-06-24T18:22:17.568Z"
   },
   {
    "duration": 4,
    "start_time": "2022-06-24T18:22:17.603Z"
   },
   {
    "duration": 8,
    "start_time": "2022-06-24T18:22:17.609Z"
   },
   {
    "duration": 5,
    "start_time": "2022-06-24T18:23:16.869Z"
   },
   {
    "duration": 677,
    "start_time": "2022-06-24T18:23:16.876Z"
   },
   {
    "duration": 26,
    "start_time": "2022-06-24T18:23:17.555Z"
   },
   {
    "duration": 25,
    "start_time": "2022-06-24T18:23:17.583Z"
   },
   {
    "duration": 5,
    "start_time": "2022-06-24T18:23:17.610Z"
   },
   {
    "duration": 6,
    "start_time": "2022-06-24T18:23:17.617Z"
   },
   {
    "duration": 6,
    "start_time": "2022-06-24T18:23:17.625Z"
   },
   {
    "duration": 85,
    "start_time": "2022-06-24T18:23:17.632Z"
   },
   {
    "duration": 4,
    "start_time": "2022-06-24T18:23:17.719Z"
   },
   {
    "duration": 6,
    "start_time": "2022-06-24T18:23:17.724Z"
   },
   {
    "duration": 11,
    "start_time": "2022-06-24T18:23:17.731Z"
   },
   {
    "duration": 11,
    "start_time": "2022-06-24T18:23:17.752Z"
   },
   {
    "duration": 21,
    "start_time": "2022-06-24T18:23:17.765Z"
   },
   {
    "duration": 46,
    "start_time": "2022-06-24T18:23:17.788Z"
   },
   {
    "duration": 3,
    "start_time": "2022-06-24T18:23:17.836Z"
   },
   {
    "duration": 21,
    "start_time": "2022-06-24T18:23:17.840Z"
   },
   {
    "duration": 376,
    "start_time": "2022-06-24T18:23:44.235Z"
   },
   {
    "duration": 404,
    "start_time": "2022-06-24T18:31:38.348Z"
   },
   {
    "duration": 4,
    "start_time": "2022-06-24T18:34:15.618Z"
   },
   {
    "duration": 688,
    "start_time": "2022-06-24T18:34:15.624Z"
   },
   {
    "duration": 27,
    "start_time": "2022-06-24T18:34:16.314Z"
   },
   {
    "duration": 33,
    "start_time": "2022-06-24T18:34:16.343Z"
   },
   {
    "duration": 9,
    "start_time": "2022-06-24T18:34:16.378Z"
   },
   {
    "duration": 4,
    "start_time": "2022-06-24T18:34:16.388Z"
   },
   {
    "duration": 10,
    "start_time": "2022-06-24T18:34:16.393Z"
   },
   {
    "duration": 75,
    "start_time": "2022-06-24T18:34:16.404Z"
   },
   {
    "duration": 3,
    "start_time": "2022-06-24T18:34:16.480Z"
   },
   {
    "duration": 8,
    "start_time": "2022-06-24T18:34:16.486Z"
   },
   {
    "duration": 7,
    "start_time": "2022-06-24T18:34:16.496Z"
   },
   {
    "duration": 8,
    "start_time": "2022-06-24T18:34:16.504Z"
   },
   {
    "duration": 19,
    "start_time": "2022-06-24T18:34:16.513Z"
   },
   {
    "duration": 41,
    "start_time": "2022-06-24T18:34:16.534Z"
   },
   {
    "duration": 4,
    "start_time": "2022-06-24T18:34:16.577Z"
   },
   {
    "duration": 11,
    "start_time": "2022-06-24T18:34:16.582Z"
   },
   {
    "duration": 385,
    "start_time": "2022-06-24T18:34:23.109Z"
   },
   {
    "duration": 5,
    "start_time": "2022-06-24T18:34:53.969Z"
   },
   {
    "duration": 683,
    "start_time": "2022-06-24T18:34:53.976Z"
   },
   {
    "duration": 30,
    "start_time": "2022-06-24T18:34:54.661Z"
   },
   {
    "duration": 26,
    "start_time": "2022-06-24T18:34:54.693Z"
   },
   {
    "duration": 10,
    "start_time": "2022-06-24T18:34:54.721Z"
   },
   {
    "duration": 3,
    "start_time": "2022-06-24T18:34:54.732Z"
   },
   {
    "duration": 2,
    "start_time": "2022-06-24T18:34:54.752Z"
   },
   {
    "duration": 66,
    "start_time": "2022-06-24T18:34:54.756Z"
   },
   {
    "duration": 3,
    "start_time": "2022-06-24T18:34:54.824Z"
   },
   {
    "duration": 6,
    "start_time": "2022-06-24T18:34:54.829Z"
   },
   {
    "duration": 18,
    "start_time": "2022-06-24T18:34:54.837Z"
   },
   {
    "duration": 6,
    "start_time": "2022-06-24T18:34:54.856Z"
   },
   {
    "duration": 17,
    "start_time": "2022-06-24T18:34:54.864Z"
   },
   {
    "duration": 29,
    "start_time": "2022-06-24T18:34:54.883Z"
   },
   {
    "duration": 4,
    "start_time": "2022-06-24T18:34:54.914Z"
   },
   {
    "duration": 5,
    "start_time": "2022-06-24T18:34:54.919Z"
   },
   {
    "duration": 430,
    "start_time": "2022-06-24T18:35:02.614Z"
   },
   {
    "duration": 5,
    "start_time": "2022-06-24T18:45:37.702Z"
   },
   {
    "duration": 701,
    "start_time": "2022-06-24T18:45:37.709Z"
   },
   {
    "duration": 27,
    "start_time": "2022-06-24T18:45:38.412Z"
   },
   {
    "duration": 31,
    "start_time": "2022-06-24T18:45:38.441Z"
   },
   {
    "duration": 6,
    "start_time": "2022-06-24T18:45:38.474Z"
   },
   {
    "duration": 11,
    "start_time": "2022-06-24T18:45:38.481Z"
   },
   {
    "duration": 6,
    "start_time": "2022-06-24T18:45:38.494Z"
   },
   {
    "duration": 77,
    "start_time": "2022-06-24T18:45:38.502Z"
   },
   {
    "duration": 3,
    "start_time": "2022-06-24T18:45:38.581Z"
   },
   {
    "duration": 12,
    "start_time": "2022-06-24T18:45:38.586Z"
   },
   {
    "duration": 8,
    "start_time": "2022-06-24T18:45:38.599Z"
   },
   {
    "duration": 9,
    "start_time": "2022-06-24T18:45:38.608Z"
   },
   {
    "duration": 15,
    "start_time": "2022-06-24T18:45:38.619Z"
   },
   {
    "duration": 38,
    "start_time": "2022-06-24T18:45:38.636Z"
   },
   {
    "duration": 4,
    "start_time": "2022-06-24T18:45:38.675Z"
   },
   {
    "duration": 6,
    "start_time": "2022-06-24T18:45:38.681Z"
   },
   {
    "duration": 420,
    "start_time": "2022-06-24T18:45:56.776Z"
   },
   {
    "duration": 5,
    "start_time": "2022-06-24T19:15:12.125Z"
   },
   {
    "duration": 722,
    "start_time": "2022-06-24T19:15:12.133Z"
   },
   {
    "duration": 32,
    "start_time": "2022-06-24T19:15:12.857Z"
   },
   {
    "duration": 29,
    "start_time": "2022-06-24T19:15:12.891Z"
   },
   {
    "duration": 6,
    "start_time": "2022-06-24T19:15:12.921Z"
   },
   {
    "duration": 24,
    "start_time": "2022-06-24T19:15:12.928Z"
   },
   {
    "duration": 5,
    "start_time": "2022-06-24T19:15:12.954Z"
   },
   {
    "duration": 73,
    "start_time": "2022-06-24T19:15:12.960Z"
   },
   {
    "duration": 3,
    "start_time": "2022-06-24T19:15:13.035Z"
   },
   {
    "duration": 11,
    "start_time": "2022-06-24T19:15:13.040Z"
   },
   {
    "duration": 9,
    "start_time": "2022-06-24T19:15:13.052Z"
   },
   {
    "duration": 208,
    "start_time": "2022-06-24T19:15:13.063Z"
   },
   {
    "duration": 14,
    "start_time": "2022-06-24T19:15:13.273Z"
   },
   {
    "duration": 34,
    "start_time": "2022-06-24T19:15:13.289Z"
   },
   {
    "duration": 3,
    "start_time": "2022-06-24T19:15:13.325Z"
   },
   {
    "duration": 7,
    "start_time": "2022-06-24T19:15:13.330Z"
   },
   {
    "duration": 370,
    "start_time": "2022-06-24T19:15:19.582Z"
   },
   {
    "duration": 5,
    "start_time": "2022-06-24T19:16:45.486Z"
   },
   {
    "duration": 716,
    "start_time": "2022-06-24T19:16:45.494Z"
   },
   {
    "duration": 26,
    "start_time": "2022-06-24T19:16:46.212Z"
   },
   {
    "duration": 31,
    "start_time": "2022-06-24T19:16:46.240Z"
   },
   {
    "duration": 6,
    "start_time": "2022-06-24T19:16:46.272Z"
   },
   {
    "duration": 2,
    "start_time": "2022-06-24T19:16:46.280Z"
   },
   {
    "duration": 5,
    "start_time": "2022-06-24T19:16:46.283Z"
   },
   {
    "duration": 96,
    "start_time": "2022-06-24T19:16:46.289Z"
   },
   {
    "duration": 3,
    "start_time": "2022-06-24T19:16:46.387Z"
   },
   {
    "duration": 13,
    "start_time": "2022-06-24T19:16:46.392Z"
   },
   {
    "duration": 20,
    "start_time": "2022-06-24T19:16:46.407Z"
   },
   {
    "duration": 8,
    "start_time": "2022-06-24T19:16:46.429Z"
   },
   {
    "duration": 24,
    "start_time": "2022-06-24T19:16:46.439Z"
   },
   {
    "duration": 33,
    "start_time": "2022-06-24T19:16:46.465Z"
   },
   {
    "duration": 4,
    "start_time": "2022-06-24T19:16:46.500Z"
   },
   {
    "duration": 16,
    "start_time": "2022-06-24T19:16:46.506Z"
   },
   {
    "duration": 465,
    "start_time": "2022-06-24T19:16:52.379Z"
   },
   {
    "duration": 4,
    "start_time": "2022-06-24T19:21:03.820Z"
   },
   {
    "duration": 668,
    "start_time": "2022-06-24T19:21:03.826Z"
   },
   {
    "duration": 30,
    "start_time": "2022-06-24T19:21:04.496Z"
   },
   {
    "duration": 36,
    "start_time": "2022-06-24T19:21:04.528Z"
   },
   {
    "duration": 8,
    "start_time": "2022-06-24T19:21:04.566Z"
   },
   {
    "duration": 5,
    "start_time": "2022-06-24T19:21:04.576Z"
   },
   {
    "duration": 9,
    "start_time": "2022-06-24T19:21:04.582Z"
   },
   {
    "duration": 78,
    "start_time": "2022-06-24T19:21:04.592Z"
   },
   {
    "duration": 3,
    "start_time": "2022-06-24T19:21:04.672Z"
   },
   {
    "duration": 8,
    "start_time": "2022-06-24T19:21:04.677Z"
   },
   {
    "duration": 6,
    "start_time": "2022-06-24T19:21:04.687Z"
   },
   {
    "duration": 7,
    "start_time": "2022-06-24T19:21:04.694Z"
   },
   {
    "duration": 16,
    "start_time": "2022-06-24T19:21:04.702Z"
   },
   {
    "duration": 46,
    "start_time": "2022-06-24T19:21:04.719Z"
   },
   {
    "duration": 4,
    "start_time": "2022-06-24T19:21:04.767Z"
   },
   {
    "duration": 8,
    "start_time": "2022-06-24T19:21:04.772Z"
   },
   {
    "duration": 607,
    "start_time": "2022-06-24T19:21:24.845Z"
   },
   {
    "duration": 4,
    "start_time": "2022-06-24T19:22:25.617Z"
   },
   {
    "duration": 673,
    "start_time": "2022-06-24T19:22:25.623Z"
   },
   {
    "duration": 26,
    "start_time": "2022-06-24T19:22:26.298Z"
   },
   {
    "duration": 34,
    "start_time": "2022-06-24T19:22:26.327Z"
   },
   {
    "duration": 6,
    "start_time": "2022-06-24T19:22:26.363Z"
   },
   {
    "duration": 2,
    "start_time": "2022-06-24T19:22:26.371Z"
   },
   {
    "duration": 7,
    "start_time": "2022-06-24T19:22:26.374Z"
   },
   {
    "duration": 87,
    "start_time": "2022-06-24T19:22:26.382Z"
   },
   {
    "duration": 4,
    "start_time": "2022-06-24T19:22:26.471Z"
   },
   {
    "duration": 10,
    "start_time": "2022-06-24T19:22:26.478Z"
   },
   {
    "duration": 7,
    "start_time": "2022-06-24T19:22:26.490Z"
   },
   {
    "duration": 5,
    "start_time": "2022-06-24T19:22:26.499Z"
   },
   {
    "duration": 18,
    "start_time": "2022-06-24T19:22:26.505Z"
   },
   {
    "duration": 45,
    "start_time": "2022-06-24T19:22:26.524Z"
   },
   {
    "duration": 4,
    "start_time": "2022-06-24T19:22:26.571Z"
   },
   {
    "duration": 7,
    "start_time": "2022-06-24T19:22:26.577Z"
   },
   {
    "duration": 586,
    "start_time": "2022-06-24T19:22:36.239Z"
   },
   {
    "duration": 5,
    "start_time": "2022-06-24T19:27:03.222Z"
   },
   {
    "duration": 669,
    "start_time": "2022-06-24T19:27:03.229Z"
   },
   {
    "duration": 28,
    "start_time": "2022-06-24T19:27:03.900Z"
   },
   {
    "duration": 35,
    "start_time": "2022-06-24T19:27:03.930Z"
   },
   {
    "duration": 5,
    "start_time": "2022-06-24T19:27:03.967Z"
   },
   {
    "duration": 8,
    "start_time": "2022-06-24T19:27:03.973Z"
   },
   {
    "duration": 6,
    "start_time": "2022-06-24T19:27:03.983Z"
   },
   {
    "duration": 80,
    "start_time": "2022-06-24T19:27:03.990Z"
   },
   {
    "duration": 3,
    "start_time": "2022-06-24T19:27:04.071Z"
   },
   {
    "duration": 5,
    "start_time": "2022-06-24T19:27:04.077Z"
   },
   {
    "duration": 9,
    "start_time": "2022-06-24T19:27:04.083Z"
   },
   {
    "duration": 8,
    "start_time": "2022-06-24T19:27:04.093Z"
   },
   {
    "duration": 19,
    "start_time": "2022-06-24T19:27:04.103Z"
   },
   {
    "duration": 43,
    "start_time": "2022-06-24T19:27:04.123Z"
   },
   {
    "duration": 4,
    "start_time": "2022-06-24T19:27:04.168Z"
   },
   {
    "duration": 9,
    "start_time": "2022-06-24T19:27:04.174Z"
   },
   {
    "duration": 527,
    "start_time": "2022-06-24T19:27:11.587Z"
   },
   {
    "duration": 5,
    "start_time": "2022-06-24T19:27:39.503Z"
   },
   {
    "duration": 687,
    "start_time": "2022-06-24T19:27:39.510Z"
   },
   {
    "duration": 28,
    "start_time": "2022-06-24T19:27:40.198Z"
   },
   {
    "duration": 39,
    "start_time": "2022-06-24T19:27:40.228Z"
   },
   {
    "duration": 8,
    "start_time": "2022-06-24T19:27:40.269Z"
   },
   {
    "duration": 21,
    "start_time": "2022-06-24T19:27:40.279Z"
   },
   {
    "duration": 19,
    "start_time": "2022-06-24T19:27:40.301Z"
   },
   {
    "duration": 79,
    "start_time": "2022-06-24T19:27:40.322Z"
   },
   {
    "duration": 3,
    "start_time": "2022-06-24T19:27:40.403Z"
   },
   {
    "duration": 16,
    "start_time": "2022-06-24T19:27:40.408Z"
   },
   {
    "duration": 23,
    "start_time": "2022-06-24T19:27:40.426Z"
   },
   {
    "duration": 39,
    "start_time": "2022-06-24T19:27:40.450Z"
   },
   {
    "duration": 29,
    "start_time": "2022-06-24T19:27:40.491Z"
   },
   {
    "duration": 61,
    "start_time": "2022-06-24T19:27:40.521Z"
   },
   {
    "duration": 4,
    "start_time": "2022-06-24T19:27:40.584Z"
   },
   {
    "duration": 15,
    "start_time": "2022-06-24T19:27:40.590Z"
   },
   {
    "duration": 441,
    "start_time": "2022-06-24T19:28:01.700Z"
   },
   {
    "duration": 4,
    "start_time": "2022-06-24T19:39:46.637Z"
   },
   {
    "duration": 671,
    "start_time": "2022-06-24T19:39:46.643Z"
   },
   {
    "duration": 28,
    "start_time": "2022-06-24T19:39:47.315Z"
   },
   {
    "duration": 27,
    "start_time": "2022-06-24T19:39:47.351Z"
   },
   {
    "duration": 6,
    "start_time": "2022-06-24T19:39:47.379Z"
   },
   {
    "duration": 2,
    "start_time": "2022-06-24T19:39:47.386Z"
   },
   {
    "duration": 6,
    "start_time": "2022-06-24T19:39:47.390Z"
   },
   {
    "duration": 84,
    "start_time": "2022-06-24T19:39:47.397Z"
   },
   {
    "duration": 3,
    "start_time": "2022-06-24T19:39:47.482Z"
   },
   {
    "duration": 6,
    "start_time": "2022-06-24T19:39:47.487Z"
   },
   {
    "duration": 7,
    "start_time": "2022-06-24T19:39:47.494Z"
   },
   {
    "duration": 7,
    "start_time": "2022-06-24T19:39:47.502Z"
   },
   {
    "duration": 18,
    "start_time": "2022-06-24T19:39:47.510Z"
   },
   {
    "duration": 43,
    "start_time": "2022-06-24T19:39:47.529Z"
   },
   {
    "duration": 4,
    "start_time": "2022-06-24T19:39:47.573Z"
   },
   {
    "duration": 13,
    "start_time": "2022-06-24T19:39:47.579Z"
   },
   {
    "duration": 560,
    "start_time": "2022-06-24T19:39:55.958Z"
   },
   {
    "duration": 510,
    "start_time": "2022-06-24T19:41:18.177Z"
   },
   {
    "duration": 4,
    "start_time": "2022-06-24T19:45:35.320Z"
   },
   {
    "duration": 666,
    "start_time": "2022-06-24T19:45:35.327Z"
   },
   {
    "duration": 27,
    "start_time": "2022-06-24T19:45:35.995Z"
   },
   {
    "duration": 47,
    "start_time": "2022-06-24T19:45:36.024Z"
   },
   {
    "duration": 7,
    "start_time": "2022-06-24T19:45:36.074Z"
   },
   {
    "duration": 7,
    "start_time": "2022-06-24T19:45:36.083Z"
   },
   {
    "duration": 8,
    "start_time": "2022-06-24T19:45:36.092Z"
   },
   {
    "duration": 71,
    "start_time": "2022-06-24T19:45:36.102Z"
   },
   {
    "duration": 3,
    "start_time": "2022-06-24T19:45:36.175Z"
   },
   {
    "duration": 7,
    "start_time": "2022-06-24T19:45:36.180Z"
   },
   {
    "duration": 7,
    "start_time": "2022-06-24T19:45:36.188Z"
   },
   {
    "duration": 7,
    "start_time": "2022-06-24T19:45:36.196Z"
   },
   {
    "duration": 15,
    "start_time": "2022-06-24T19:45:36.205Z"
   },
   {
    "duration": 55,
    "start_time": "2022-06-24T19:45:36.223Z"
   },
   {
    "duration": 3,
    "start_time": "2022-06-24T19:45:36.280Z"
   },
   {
    "duration": 9,
    "start_time": "2022-06-24T19:45:36.285Z"
   },
   {
    "duration": 74,
    "start_time": "2022-06-24T19:45:56.920Z"
   },
   {
    "duration": 568,
    "start_time": "2022-06-24T20:01:02.041Z"
   },
   {
    "duration": 527,
    "start_time": "2022-06-24T20:01:14.659Z"
   },
   {
    "duration": 5,
    "start_time": "2022-06-24T20:04:58.995Z"
   },
   {
    "duration": 665,
    "start_time": "2022-06-24T20:04:59.002Z"
   },
   {
    "duration": 27,
    "start_time": "2022-06-24T20:04:59.668Z"
   },
   {
    "duration": 24,
    "start_time": "2022-06-24T20:04:59.698Z"
   },
   {
    "duration": 11,
    "start_time": "2022-06-24T20:04:59.724Z"
   },
   {
    "duration": 2,
    "start_time": "2022-06-24T20:04:59.753Z"
   },
   {
    "duration": 5,
    "start_time": "2022-06-24T20:04:59.757Z"
   },
   {
    "duration": 67,
    "start_time": "2022-06-24T20:04:59.763Z"
   },
   {
    "duration": 3,
    "start_time": "2022-06-24T20:04:59.832Z"
   },
   {
    "duration": 5,
    "start_time": "2022-06-24T20:04:59.851Z"
   },
   {
    "duration": 9,
    "start_time": "2022-06-24T20:04:59.857Z"
   },
   {
    "duration": 7,
    "start_time": "2022-06-24T20:04:59.867Z"
   },
   {
    "duration": 19,
    "start_time": "2022-06-24T20:04:59.875Z"
   },
   {
    "duration": 29,
    "start_time": "2022-06-24T20:04:59.896Z"
   },
   {
    "duration": 3,
    "start_time": "2022-06-24T20:04:59.927Z"
   },
   {
    "duration": 7,
    "start_time": "2022-06-24T20:04:59.931Z"
   },
   {
    "duration": 395,
    "start_time": "2022-06-24T20:05:16.178Z"
   },
   {
    "duration": 383,
    "start_time": "2022-06-24T20:06:10.339Z"
   },
   {
    "duration": 6,
    "start_time": "2022-06-24T20:07:33.748Z"
   },
   {
    "duration": 726,
    "start_time": "2022-06-24T20:07:33.757Z"
   },
   {
    "duration": 36,
    "start_time": "2022-06-24T20:07:34.485Z"
   },
   {
    "duration": 44,
    "start_time": "2022-06-24T20:07:34.524Z"
   },
   {
    "duration": 8,
    "start_time": "2022-06-24T20:07:34.570Z"
   },
   {
    "duration": 2,
    "start_time": "2022-06-24T20:07:34.580Z"
   },
   {
    "duration": 6,
    "start_time": "2022-06-24T20:07:34.584Z"
   },
   {
    "duration": 103,
    "start_time": "2022-06-24T20:07:34.592Z"
   },
   {
    "duration": 3,
    "start_time": "2022-06-24T20:07:34.697Z"
   },
   {
    "duration": 6,
    "start_time": "2022-06-24T20:07:34.702Z"
   },
   {
    "duration": 12,
    "start_time": "2022-06-24T20:07:34.709Z"
   },
   {
    "duration": 6,
    "start_time": "2022-06-24T20:07:34.722Z"
   },
   {
    "duration": 34,
    "start_time": "2022-06-24T20:07:34.730Z"
   },
   {
    "duration": 35,
    "start_time": "2022-06-24T20:07:34.766Z"
   },
   {
    "duration": 4,
    "start_time": "2022-06-24T20:07:34.803Z"
   },
   {
    "duration": 8,
    "start_time": "2022-06-24T20:07:34.809Z"
   },
   {
    "duration": 542,
    "start_time": "2022-06-24T20:07:47.967Z"
   },
   {
    "duration": 5,
    "start_time": "2022-06-24T20:22:08.427Z"
   },
   {
    "duration": 655,
    "start_time": "2022-06-24T20:22:08.434Z"
   },
   {
    "duration": 33,
    "start_time": "2022-06-24T20:22:09.776Z"
   },
   {
    "duration": 28,
    "start_time": "2022-06-24T20:22:09.811Z"
   },
   {
    "duration": 7,
    "start_time": "2022-06-24T20:22:09.841Z"
   },
   {
    "duration": 2,
    "start_time": "2022-06-24T20:22:09.939Z"
   },
   {
    "duration": 5,
    "start_time": "2022-06-24T20:22:09.943Z"
   },
   {
    "duration": 75,
    "start_time": "2022-06-24T20:22:09.950Z"
   },
   {
    "duration": 3,
    "start_time": "2022-06-24T20:22:10.026Z"
   },
   {
    "duration": 2,
    "start_time": "2022-06-24T20:22:10.096Z"
   },
   {
    "duration": 14,
    "start_time": "2022-06-24T20:22:10.100Z"
   },
   {
    "duration": 236,
    "start_time": "2022-06-24T20:22:10.116Z"
   },
   {
    "duration": 14,
    "start_time": "2022-06-24T20:22:10.353Z"
   },
   {
    "duration": 35,
    "start_time": "2022-06-24T20:22:10.369Z"
   },
   {
    "duration": 4,
    "start_time": "2022-06-24T20:22:10.406Z"
   },
   {
    "duration": 12,
    "start_time": "2022-06-24T20:22:10.412Z"
   },
   {
    "duration": 388,
    "start_time": "2022-06-24T20:22:38.473Z"
   },
   {
    "duration": 5,
    "start_time": "2022-06-24T20:23:34.726Z"
   },
   {
    "duration": 755,
    "start_time": "2022-06-24T20:23:34.733Z"
   },
   {
    "duration": 27,
    "start_time": "2022-06-24T20:23:35.490Z"
   },
   {
    "duration": 34,
    "start_time": "2022-06-24T20:23:35.519Z"
   },
   {
    "duration": 5,
    "start_time": "2022-06-24T20:23:35.554Z"
   },
   {
    "duration": 5,
    "start_time": "2022-06-24T20:23:35.561Z"
   },
   {
    "duration": 6,
    "start_time": "2022-06-24T20:23:35.567Z"
   },
   {
    "duration": 81,
    "start_time": "2022-06-24T20:23:35.575Z"
   },
   {
    "duration": 3,
    "start_time": "2022-06-24T20:23:35.658Z"
   },
   {
    "duration": 11,
    "start_time": "2022-06-24T20:23:35.663Z"
   },
   {
    "duration": 9,
    "start_time": "2022-06-24T20:23:35.676Z"
   },
   {
    "duration": 6,
    "start_time": "2022-06-24T20:23:35.686Z"
   },
   {
    "duration": 18,
    "start_time": "2022-06-24T20:23:35.694Z"
   },
   {
    "duration": 43,
    "start_time": "2022-06-24T20:23:35.713Z"
   },
   {
    "duration": 4,
    "start_time": "2022-06-24T20:23:35.758Z"
   },
   {
    "duration": 11,
    "start_time": "2022-06-24T20:23:35.764Z"
   },
   {
    "duration": 385,
    "start_time": "2022-06-24T20:23:47.711Z"
   },
   {
    "duration": 348,
    "start_time": "2022-06-24T20:24:26.497Z"
   },
   {
    "duration": 1556,
    "start_time": "2022-06-25T11:39:23.698Z"
   },
   {
    "duration": 2618,
    "start_time": "2022-06-25T11:39:25.257Z"
   },
   {
    "duration": 32,
    "start_time": "2022-06-25T11:39:27.878Z"
   },
   {
    "duration": 40,
    "start_time": "2022-06-25T11:39:27.913Z"
   },
   {
    "duration": 7,
    "start_time": "2022-06-25T11:39:27.955Z"
   },
   {
    "duration": 3,
    "start_time": "2022-06-25T11:39:27.964Z"
   },
   {
    "duration": 4,
    "start_time": "2022-06-25T11:39:27.969Z"
   },
   {
    "duration": 115,
    "start_time": "2022-06-25T11:39:27.974Z"
   },
   {
    "duration": 4,
    "start_time": "2022-06-25T11:39:28.091Z"
   },
   {
    "duration": 6,
    "start_time": "2022-06-25T11:39:28.098Z"
   },
   {
    "duration": 1433,
    "start_time": "2022-06-25T11:39:28.105Z"
   },
   {
    "duration": 171,
    "start_time": "2022-06-25T11:39:29.545Z"
   },
   {
    "duration": 14,
    "start_time": "2022-06-25T11:39:29.718Z"
   },
   {
    "duration": 46,
    "start_time": "2022-06-25T11:39:29.734Z"
   },
   {
    "duration": 3,
    "start_time": "2022-06-25T11:39:29.782Z"
   },
   {
    "duration": 8,
    "start_time": "2022-06-25T11:39:29.786Z"
   },
   {
    "duration": 2114,
    "start_time": "2022-06-25T17:02:38.759Z"
   },
   {
    "duration": 2524,
    "start_time": "2022-06-25T17:02:40.875Z"
   },
   {
    "duration": 35,
    "start_time": "2022-06-25T17:02:43.401Z"
   },
   {
    "duration": 45,
    "start_time": "2022-06-25T17:02:43.438Z"
   },
   {
    "duration": 13,
    "start_time": "2022-06-25T17:02:43.487Z"
   },
   {
    "duration": 3,
    "start_time": "2022-06-25T17:02:43.502Z"
   },
   {
    "duration": 13,
    "start_time": "2022-06-25T17:02:43.507Z"
   },
   {
    "duration": 93,
    "start_time": "2022-06-25T17:02:43.522Z"
   },
   {
    "duration": 4,
    "start_time": "2022-06-25T17:02:43.617Z"
   },
   {
    "duration": 8,
    "start_time": "2022-06-25T17:02:43.623Z"
   },
   {
    "duration": 1520,
    "start_time": "2022-06-25T17:02:43.633Z"
   },
   {
    "duration": 131,
    "start_time": "2022-06-25T17:02:45.155Z"
   },
   {
    "duration": 14,
    "start_time": "2022-06-25T17:02:45.288Z"
   },
   {
    "duration": 43,
    "start_time": "2022-06-25T17:02:45.304Z"
   },
   {
    "duration": 3,
    "start_time": "2022-06-25T17:02:45.349Z"
   },
   {
    "duration": 8,
    "start_time": "2022-06-25T17:02:45.354Z"
   },
   {
    "duration": 837,
    "start_time": "2022-06-25T17:02:56.338Z"
   },
   {
    "duration": 3,
    "start_time": "2022-06-25T17:03:47.275Z"
   },
   {
    "duration": 7,
    "start_time": "2022-06-25T17:11:38.164Z"
   },
   {
    "duration": 853,
    "start_time": "2022-06-25T17:11:38.173Z"
   },
   {
    "duration": 39,
    "start_time": "2022-06-25T17:11:39.027Z"
   },
   {
    "duration": 33,
    "start_time": "2022-06-25T17:11:39.067Z"
   },
   {
    "duration": 10,
    "start_time": "2022-06-25T17:11:39.104Z"
   },
   {
    "duration": 40,
    "start_time": "2022-06-25T17:11:39.117Z"
   },
   {
    "duration": 6,
    "start_time": "2022-06-25T17:11:39.159Z"
   },
   {
    "duration": 96,
    "start_time": "2022-06-25T17:11:39.167Z"
   },
   {
    "duration": 4,
    "start_time": "2022-06-25T17:11:39.266Z"
   },
   {
    "duration": 8,
    "start_time": "2022-06-25T17:11:39.272Z"
   },
   {
    "duration": 11,
    "start_time": "2022-06-25T17:11:39.282Z"
   },
   {
    "duration": 5,
    "start_time": "2022-06-25T17:11:39.295Z"
   },
   {
    "duration": 53,
    "start_time": "2022-06-25T17:11:39.302Z"
   },
   {
    "duration": 37,
    "start_time": "2022-06-25T17:11:39.360Z"
   },
   {
    "duration": 5,
    "start_time": "2022-06-25T17:11:39.400Z"
   },
   {
    "duration": 32205,
    "start_time": "2022-06-25T17:11:39.407Z"
   },
   {
    "duration": 3,
    "start_time": "2022-06-25T17:12:11.614Z"
   },
   {
    "duration": 218632,
    "start_time": "2022-06-25T17:12:55.657Z"
   },
   {
    "duration": 54,
    "start_time": "2022-06-25T17:16:50.861Z"
   },
   {
    "duration": 5,
    "start_time": "2022-06-25T17:19:39.678Z"
   },
   {
    "duration": 920,
    "start_time": "2022-06-25T17:19:39.687Z"
   },
   {
    "duration": 44,
    "start_time": "2022-06-25T17:19:40.609Z"
   },
   {
    "duration": 42,
    "start_time": "2022-06-25T17:19:40.655Z"
   },
   {
    "duration": 18,
    "start_time": "2022-06-25T17:19:40.699Z"
   },
   {
    "duration": 8,
    "start_time": "2022-06-25T17:19:40.719Z"
   },
   {
    "duration": 27,
    "start_time": "2022-06-25T17:19:40.730Z"
   },
   {
    "duration": 95,
    "start_time": "2022-06-25T17:19:40.759Z"
   },
   {
    "duration": 3,
    "start_time": "2022-06-25T17:19:40.856Z"
   },
   {
    "duration": 11,
    "start_time": "2022-06-25T17:19:40.862Z"
   },
   {
    "duration": 18,
    "start_time": "2022-06-25T17:19:40.875Z"
   },
   {
    "duration": 20,
    "start_time": "2022-06-25T17:19:40.895Z"
   },
   {
    "duration": 40,
    "start_time": "2022-06-25T17:19:40.917Z"
   },
   {
    "duration": 47,
    "start_time": "2022-06-25T17:19:40.959Z"
   },
   {
    "duration": 930,
    "start_time": "2022-06-25T17:19:41.008Z"
   },
   {
    "duration": 32953,
    "start_time": "2022-06-25T17:19:41.941Z"
   },
   {
    "duration": 4,
    "start_time": "2022-06-25T17:20:14.896Z"
   },
   {
    "duration": 221320,
    "start_time": "2022-06-25T17:20:27.405Z"
   },
   {
    "duration": 1219479,
    "start_time": "2022-06-25T17:25:07.982Z"
   },
   {
    "duration": 2167,
    "start_time": "2022-06-25T20:10:47.894Z"
   },
   {
    "duration": 2646,
    "start_time": "2022-06-25T20:10:50.063Z"
   },
   {
    "duration": 35,
    "start_time": "2022-06-25T20:10:52.711Z"
   },
   {
    "duration": 45,
    "start_time": "2022-06-25T20:10:52.748Z"
   },
   {
    "duration": 7,
    "start_time": "2022-06-25T20:10:52.795Z"
   },
   {
    "duration": 3,
    "start_time": "2022-06-25T20:10:52.804Z"
   },
   {
    "duration": 5,
    "start_time": "2022-06-25T20:10:52.809Z"
   },
   {
    "duration": 100,
    "start_time": "2022-06-25T20:10:52.816Z"
   },
   {
    "duration": 4,
    "start_time": "2022-06-25T20:10:52.918Z"
   },
   {
    "duration": 3,
    "start_time": "2022-06-25T20:10:52.926Z"
   },
   {
    "duration": 1582,
    "start_time": "2022-06-25T20:10:52.931Z"
   },
   {
    "duration": 224,
    "start_time": "2022-06-25T20:10:54.515Z"
   },
   {
    "duration": 26,
    "start_time": "2022-06-25T20:10:54.742Z"
   },
   {
    "duration": 37,
    "start_time": "2022-06-25T20:10:54.770Z"
   },
   {
    "duration": 4,
    "start_time": "2022-06-25T20:10:54.809Z"
   },
   {
    "duration": 32399,
    "start_time": "2022-06-25T20:10:54.815Z"
   },
   {
    "duration": 4,
    "start_time": "2022-06-25T20:11:27.217Z"
   },
   {
    "duration": 1276,
    "start_time": "2022-06-26T03:54:37.554Z"
   },
   {
    "duration": 932,
    "start_time": "2022-06-26T03:54:38.831Z"
   },
   {
    "duration": 29,
    "start_time": "2022-06-26T03:54:39.764Z"
   },
   {
    "duration": 29,
    "start_time": "2022-06-26T03:54:39.795Z"
   },
   {
    "duration": 5,
    "start_time": "2022-06-26T03:54:39.825Z"
   },
   {
    "duration": 3,
    "start_time": "2022-06-26T03:54:39.831Z"
   },
   {
    "duration": 7,
    "start_time": "2022-06-26T03:54:39.835Z"
   },
   {
    "duration": 63,
    "start_time": "2022-06-26T03:54:39.850Z"
   },
   {
    "duration": 3,
    "start_time": "2022-06-26T03:54:39.914Z"
   },
   {
    "duration": 5,
    "start_time": "2022-06-26T03:54:39.919Z"
   },
   {
    "duration": 1045,
    "start_time": "2022-06-26T03:54:39.925Z"
   },
   {
    "duration": 184,
    "start_time": "2022-06-26T03:54:40.971Z"
   },
   {
    "duration": 9,
    "start_time": "2022-06-26T03:54:41.157Z"
   },
   {
    "duration": 27,
    "start_time": "2022-06-26T03:54:41.168Z"
   },
   {
    "duration": 3,
    "start_time": "2022-06-26T03:54:41.196Z"
   },
   {
    "duration": 23442,
    "start_time": "2022-06-26T03:54:41.200Z"
   },
   {
    "duration": 7,
    "start_time": "2022-06-26T03:55:04.644Z"
   },
   {
    "duration": 1873,
    "start_time": "2022-06-26T03:58:00.280Z"
   },
   {
    "duration": 2187,
    "start_time": "2022-06-26T03:58:02.154Z"
   },
   {
    "duration": 21,
    "start_time": "2022-06-26T03:58:04.342Z"
   },
   {
    "duration": 24,
    "start_time": "2022-06-26T03:58:04.365Z"
   },
   {
    "duration": 9,
    "start_time": "2022-06-26T03:58:04.392Z"
   },
   {
    "duration": 8,
    "start_time": "2022-06-26T03:58:04.402Z"
   },
   {
    "duration": 7,
    "start_time": "2022-06-26T03:58:04.412Z"
   },
   {
    "duration": 70,
    "start_time": "2022-06-26T03:58:04.420Z"
   },
   {
    "duration": 3,
    "start_time": "2022-06-26T03:58:04.492Z"
   },
   {
    "duration": 6,
    "start_time": "2022-06-26T03:58:04.496Z"
   },
   {
    "duration": 1044,
    "start_time": "2022-06-26T03:58:04.503Z"
   },
   {
    "duration": 116,
    "start_time": "2022-06-26T03:58:05.549Z"
   },
   {
    "duration": 10,
    "start_time": "2022-06-26T03:58:05.667Z"
   },
   {
    "duration": 24,
    "start_time": "2022-06-26T03:58:05.679Z"
   },
   {
    "duration": 3,
    "start_time": "2022-06-26T03:58:05.704Z"
   },
   {
    "duration": 23135,
    "start_time": "2022-06-26T03:58:05.708Z"
   },
   {
    "duration": 6,
    "start_time": "2022-06-26T03:58:28.844Z"
   },
   {
    "duration": 8888363,
    "start_time": "2022-06-26T03:59:39.992Z"
   }
  ],
  "kernelspec": {
   "display_name": "Python 3 (ipykernel)",
   "language": "python",
   "name": "python3"
  },
  "language_info": {
   "codemirror_mode": {
    "name": "ipython",
    "version": 3
   },
   "file_extension": ".py",
   "mimetype": "text/x-python",
   "name": "python",
   "nbconvert_exporter": "python",
   "pygments_lexer": "ipython3",
   "version": "3.9.5"
  },
  "toc": {
   "base_numbering": 1,
   "nav_menu": {},
   "number_sections": true,
   "sideBar": true,
   "skip_h1_title": true,
   "title_cell": "Содержание",
   "title_sidebar": "Contents",
   "toc_cell": true,
   "toc_position": {
    "height": "calc(100% - 180px)",
    "left": "10px",
    "top": "150px",
    "width": "302.391px"
   },
   "toc_section_display": true,
   "toc_window_display": false
  }
 },
 "nbformat": 4,
 "nbformat_minor": 2
}
