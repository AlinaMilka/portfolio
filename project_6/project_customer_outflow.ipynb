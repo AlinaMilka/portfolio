{
 "cells": [
  {
   "cell_type": "markdown",
   "metadata": {},
   "source": [
    "# Отток клиентов"
   ]
  },
  {
   "cell_type": "markdown",
   "metadata": {},
   "source": [
    "## Подготовка данных"
   ]
  },
  {
   "cell_type": "code",
   "execution_count": 1,
   "metadata": {},
   "outputs": [],
   "source": [
    "import pandas as pd\n",
    "import numpy as np\n",
    "from sklearn.model_selection import train_test_split\n",
    "from sklearn.tree import DecisionTreeClassifier\n",
    "from sklearn.ensemble import RandomForestClassifier\n",
    "from sklearn.linear_model import LogisticRegression\n",
    "from sklearn.preprocessing import StandardScaler\n",
    "from sklearn.metrics import f1_score\n",
    "from sklearn.metrics import recall_score\n",
    "from sklearn.metrics import precision_score\n",
    "from sklearn.model_selection import GridSearchCV\n",
    "from sklearn.utils import shuffle\n",
    "import matplotlib.pyplot as plt\n",
    "from sklearn.metrics import roc_curve\n",
    "from sklearn.metrics import roc_auc_score\n",
    "from sklearn.metrics import (precision_recall_curve, PrecisionRecallDisplay)"
   ]
  },
  {
   "cell_type": "code",
   "execution_count": 2,
   "metadata": {},
   "outputs": [
    {
     "name": "stdout",
     "output_type": "stream",
     "text": [
      "<class 'pandas.core.frame.DataFrame'>\n",
      "RangeIndex: 10000 entries, 0 to 9999\n",
      "Data columns (total 14 columns):\n",
      " #   Column           Non-Null Count  Dtype  \n",
      "---  ------           --------------  -----  \n",
      " 0   RowNumber        10000 non-null  int64  \n",
      " 1   CustomerId       10000 non-null  int64  \n",
      " 2   Surname          10000 non-null  object \n",
      " 3   CreditScore      10000 non-null  int64  \n",
      " 4   Geography        10000 non-null  object \n",
      " 5   Gender           10000 non-null  object \n",
      " 6   Age              10000 non-null  int64  \n",
      " 7   Tenure           9091 non-null   float64\n",
      " 8   Balance          10000 non-null  float64\n",
      " 9   NumOfProducts    10000 non-null  int64  \n",
      " 10  HasCrCard        10000 non-null  int64  \n",
      " 11  IsActiveMember   10000 non-null  int64  \n",
      " 12  EstimatedSalary  10000 non-null  float64\n",
      " 13  Exited           10000 non-null  int64  \n",
      "dtypes: float64(3), int64(8), object(3)\n",
      "memory usage: 1.1+ MB\n"
     ]
    }
   ],
   "source": [
    "data = pd.read_csv('/datasets/Churn.csv')\n",
    "data.info()"
   ]
  },
  {
   "cell_type": "markdown",
   "metadata": {},
   "source": [
    "### Вывод\n",
    "\n",
    "- Информация о структуре данных - двумерная(DataFrame);\n",
    "- таблица имеет 10000 строк и 14 столбцов; \n",
    "- присутствуют названия столбцов и количество ненулевых значений;\n",
    "- в таблице присутствуют значения типов int(8 столбцов), float(3 столбца), object(3 столбца);\n",
    "- использование памяти."
   ]
  },
  {
   "cell_type": "code",
   "execution_count": 4,
   "metadata": {},
   "outputs": [],
   "source": [
    "data.columns = data.columns.str.lower()"
   ]
  },
  {
   "cell_type": "markdown",
   "metadata": {},
   "source": [
    "Привела все столбцы к нижнему регистру."
   ]
  },
  {
   "cell_type": "code",
   "execution_count": 5,
   "metadata": {},
   "outputs": [
    {
     "data": {
      "text/plain": [
       "rownumber            0\n",
       "customerid           0\n",
       "surname              0\n",
       "creditscore          0\n",
       "geography            0\n",
       "gender               0\n",
       "age                  0\n",
       "tenure             909\n",
       "balance              0\n",
       "numofproducts        0\n",
       "hascrcard            0\n",
       "isactivemember       0\n",
       "estimatedsalary      0\n",
       "exited               0\n",
       "dtype: int64"
      ]
     },
     "execution_count": 5,
     "metadata": {},
     "output_type": "execute_result"
    }
   ],
   "source": [
    "data.isna().sum()"
   ]
  },
  {
   "cell_type": "markdown",
   "metadata": {},
   "source": [
    "Проверили датасет на пропуски, выявили, что пропуски есть в одном столбце и их нужно заполнить. На мой взгляд нет подходящего столбца, чтобы столбцы коррелировали между собой, но я решила сгруппировать по столбцу \"Geography\" и заполнить пробелы медианной."
   ]
  },
  {
   "cell_type": "code",
   "execution_count": 6,
   "metadata": {},
   "outputs": [],
   "source": [
    "data['tenure'] = np.where(data['tenure'].isna(), np.random.uniform(0.0, 10.0, size=len(data)), data['tenure'])"
   ]
  },
  {
   "cell_type": "code",
   "execution_count": 7,
   "metadata": {},
   "outputs": [
    {
     "data": {
      "text/plain": [
       "0"
      ]
     },
     "execution_count": 7,
     "metadata": {},
     "output_type": "execute_result"
    }
   ],
   "source": [
    "data['tenure'].isna().sum()"
   ]
  },
  {
   "cell_type": "markdown",
   "metadata": {},
   "source": [
    "Удалим столбец \"surname\", \"customerid\" и \"rownumber\", так как в дальнейшем они нам не понадобиться и никак не повлияют на анализ и исследование данных. "
   ]
  },
  {
   "cell_type": "code",
   "execution_count": 8,
   "metadata": {},
   "outputs": [],
   "source": [
    "data = data.drop(['surname', 'customerid', 'rownumber'], axis=1)"
   ]
  },
  {
   "cell_type": "markdown",
   "metadata": {},
   "source": [
    "Используем прямое кодирование для преобразования категориальных признаков в численные, а также избегаем дамми-ловушку:"
   ]
  },
  {
   "cell_type": "code",
   "execution_count": 9,
   "metadata": {},
   "outputs": [],
   "source": [
    "data_ohe = pd.get_dummies(data, drop_first=True)"
   ]
  },
  {
   "cell_type": "markdown",
   "metadata": {},
   "source": [
    "Разделим данные на обучающую, валидационную и тестовую выборки:"
   ]
  },
  {
   "cell_type": "code",
   "execution_count": 10,
   "metadata": {},
   "outputs": [
    {
     "data": {
      "text/plain": [
       "(6400, 11)"
      ]
     },
     "metadata": {},
     "output_type": "display_data"
    },
    {
     "data": {
      "text/plain": [
       "(6400,)"
      ]
     },
     "metadata": {},
     "output_type": "display_data"
    },
    {
     "data": {
      "text/plain": [
       "(1600, 11)"
      ]
     },
     "metadata": {},
     "output_type": "display_data"
    },
    {
     "data": {
      "text/plain": [
       "(1600,)"
      ]
     },
     "metadata": {},
     "output_type": "display_data"
    },
    {
     "data": {
      "text/plain": [
       "(2000, 11)"
      ]
     },
     "metadata": {},
     "output_type": "display_data"
    },
    {
     "data": {
      "text/plain": [
       "(2000,)"
      ]
     },
     "metadata": {},
     "output_type": "display_data"
    }
   ],
   "source": [
    "features = data_ohe.drop(['exited'], axis=1) #признаки\n",
    "target = data_ohe['exited'] #целевой признак\n",
    "\n",
    "features_train, features_test, target_train, target_test = train_test_split(\n",
    "    features, target, test_size=0.2, random_state=12345)\n",
    "features_train, features_valid, target_train, target_valid = train_test_split(\n",
    "    features_train, target_train, test_size=0.2, random_state=12345)\n",
    "\n",
    "display(features_train.shape)\n",
    "display(target_train.shape)\n",
    "display(features_valid.shape)\n",
    "display(target_valid.shape)\n",
    "display(features_test.shape)\n",
    "display(target_test.shape)"
   ]
  },
  {
   "cell_type": "code",
   "execution_count": 11,
   "metadata": {},
   "outputs": [],
   "source": [
    "numeric = ['creditscore', 'age', 'tenure', 'balance', 'numofproducts', 'estimatedsalary']\n",
    "\n",
    "scaler = StandardScaler()\n",
    "scaler.fit(features_train[numeric])\n",
    "\n",
    "features_train[numeric] = scaler.transform(features_train[numeric])\n",
    "features_valid[numeric] = scaler.transform(features_valid[numeric])"
   ]
  },
  {
   "cell_type": "markdown",
   "metadata": {},
   "source": [
    "## Исследование задачи"
   ]
  },
  {
   "cell_type": "markdown",
   "metadata": {},
   "source": [
    "### Логистическая регрессия"
   ]
  },
  {
   "cell_type": "code",
   "execution_count": 12,
   "metadata": {},
   "outputs": [
    {
     "data": {
      "text/plain": [
       "'F1-мера:'"
      ]
     },
     "metadata": {},
     "output_type": "display_data"
    },
    {
     "data": {
      "text/plain": [
       "0.3185011709601873"
      ]
     },
     "metadata": {},
     "output_type": "display_data"
    }
   ],
   "source": [
    "model_log_reg = LogisticRegression(random_state=12345, solver='liblinear', max_iter=1000)\n",
    "model_log_reg.fit(features_train, target_train)\n",
    "predicted_valid_log = model_log_reg.predict(features_valid)\n",
    "\n",
    "display('F1-мера:', f1_score(target_valid, predicted_valid_log))"
   ]
  },
  {
   "cell_type": "markdown",
   "metadata": {},
   "source": [
    "### Дерево решений"
   ]
  },
  {
   "cell_type": "markdown",
   "metadata": {},
   "source": [
    "Ищем значения гиперпараметров для лучшей модели:"
   ]
  },
  {
   "cell_type": "code",
   "execution_count": 13,
   "metadata": {},
   "outputs": [],
   "source": [
    "#model_tree = DecisionTreeClassifier(random_state=12345)\n",
    "\n",
    "#parametrs = {'max_depth': range (1,16, 1)}\n",
    "#model_tree_grid = GridSearchCV(model_tree, parametrs, cv=5)\n",
    "#model_tree_grid.fit(features_train, target_train)\n",
    "\n",
    "#display('Глубина дерева для лучшей модели:', model_tree_grid.best_params_)\n",
    "\n",
    "#predicted_valid_tree = model_tree_grid.predict(features_valid)"
   ]
  },
  {
   "cell_type": "markdown",
   "metadata": {},
   "source": [
    "Использовала сначала GridSearchCV, но у меня там получилось max_depth=6, а потом вот ниже я сделала уже циклом и max_depth=15 уже, я больше уверена в решении циклом поэтому оставила его и соответственно далее все искала также циклом."
   ]
  },
  {
   "cell_type": "code",
   "execution_count": 14,
   "metadata": {},
   "outputs": [
    {
     "data": {
      "text/plain": [
       "'Глубина дерева:'"
      ]
     },
     "metadata": {},
     "output_type": "display_data"
    },
    {
     "data": {
      "text/plain": [
       "15"
      ]
     },
     "metadata": {},
     "output_type": "display_data"
    },
    {
     "data": {
      "text/plain": [
       "'F1-мера:'"
      ]
     },
     "metadata": {},
     "output_type": "display_data"
    },
    {
     "data": {
      "text/plain": [
       "0.4907563025210084"
      ]
     },
     "metadata": {},
     "output_type": "display_data"
    }
   ],
   "source": [
    "best_model = None\n",
    "best_result = 0\n",
    "best_depth = 0\n",
    "for depth in range(1, 16, 1):\n",
    "    model_tree = DecisionTreeClassifier(random_state=12345, max_depth=depth)\n",
    "    model_tree.fit(features_train, target_train)\n",
    "    predicted_valid_tree = model_tree.predict(features_valid)\n",
    "    f1 = f1_score(target_valid, predicted_valid_tree)\n",
    "if f1 > best_result:\n",
    "    best_model = model_tree\n",
    "    best_result = f1\n",
    "    best_depth = depth\n",
    "display('Глубина дерева:', best_depth)\n",
    "display('F1-мера:', best_result)"
   ]
  },
  {
   "cell_type": "markdown",
   "metadata": {},
   "source": [
    "### Случайный лес"
   ]
  },
  {
   "cell_type": "code",
   "execution_count": 15,
   "metadata": {
    "scrolled": true
   },
   "outputs": [],
   "source": [
    "#%%time\n",
    "\n",
    "#model_forest = RandomForestClassifier(random_state=12345)\n",
    "\n",
    "#parametrs = {'max_depth': range (1,16, 2), 'n_estimators': range (10, 101, 10)}\n",
    "#model_forest_grid = GridSearchCV(model_forest, parametrs, cv=5)\n",
    "#model_forest_grid.fit(features_train, target_train)\n",
    "\n",
    "#display('Глубина дерева и количество деревьев для лучшей модели:', model_forest_grid.best_params_)\n",
    "\n",
    "#predicted_valid_forest = model_forest_grid.predict(features_valid)"
   ]
  },
  {
   "cell_type": "code",
   "execution_count": 16,
   "metadata": {},
   "outputs": [
    {
     "data": {
      "text/plain": [
       "'Глубина дерева:'"
      ]
     },
     "metadata": {},
     "output_type": "display_data"
    },
    {
     "data": {
      "text/plain": [
       "14"
      ]
     },
     "metadata": {},
     "output_type": "display_data"
    },
    {
     "data": {
      "text/plain": [
       "'Количество деревьев:'"
      ]
     },
     "metadata": {},
     "output_type": "display_data"
    },
    {
     "data": {
      "text/plain": [
       "91"
      ]
     },
     "metadata": {},
     "output_type": "display_data"
    },
    {
     "data": {
      "text/plain": [
       "'F1-мера:'"
      ]
     },
     "metadata": {},
     "output_type": "display_data"
    },
    {
     "data": {
      "text/plain": [
       "0.5755102040816327"
      ]
     },
     "metadata": {},
     "output_type": "display_data"
    },
    {
     "name": "stdout",
     "output_type": "stream",
     "text": [
      "CPU times: user 33.5 s, sys: 146 ms, total: 33.7 s\n",
      "Wall time: 34 s\n"
     ]
    }
   ],
   "source": [
    "%%time\n",
    "\n",
    "best_model = None\n",
    "best_result = 0\n",
    "best_est = 0\n",
    "best_depth = 0\n",
    "for depth in range(1, 16, 1):\n",
    "    for est in range(1, 101, 10):\n",
    "        model_forest = RandomForestClassifier(random_state=12345, n_estimators=est, max_depth=depth)\n",
    "        model_forest.fit(features_train, target_train)\n",
    "        predicted_valid_forest = model_forest.predict(features_valid)\n",
    "        f1 = f1_score(target_valid, predicted_valid_forest)\n",
    "    if f1 > best_result:\n",
    "        best_model = model_forest\n",
    "        best_result = f1\n",
    "        best_est = est\n",
    "        best_depth = depth\n",
    "display('Глубина дерева:', best_depth)\n",
    "display('Количество деревьев:', best_est)\n",
    "display('F1-мера:', best_result)"
   ]
  },
  {
   "cell_type": "markdown",
   "metadata": {},
   "source": [
    "### Вывод\n",
    "\n",
    "Для проведения исследования использовали три модели - Дерево решений, Случайный лес и Логистическую регрессию. Для того, чтобы выявить лучшую модель пользовалась циклом для нахождения значений гиперпараметров. После исследования выявилось, что лучшая модель это Случайный лес."
   ]
  },
  {
   "cell_type": "markdown",
   "metadata": {},
   "source": [
    "## Борьба с дисбалансом"
   ]
  },
  {
   "cell_type": "markdown",
   "metadata": {},
   "source": [
    "Бороться с дисбалансом можно 3-я способами: взвешивание классов, увеличение/уменьшение выборки:"
   ]
  },
  {
   "cell_type": "markdown",
   "metadata": {},
   "source": [
    "### Логистическая регрессия"
   ]
  },
  {
   "cell_type": "markdown",
   "metadata": {},
   "source": [
    "#### Взвешивание классов"
   ]
  },
  {
   "cell_type": "code",
   "execution_count": 17,
   "metadata": {},
   "outputs": [
    {
     "name": "stdout",
     "output_type": "stream",
     "text": [
      "F1-мера: 0.46432616081540207\n"
     ]
    }
   ],
   "source": [
    "model_log_weight = LogisticRegression(random_state=12345, solver='liblinear', class_weight='balanced', max_iter=1000)\n",
    "model_log_weight.fit(features_train, target_train)\n",
    "predicted_valid_log_weight = model_log_weight.predict(features_valid)\n",
    "print(\"F1-мера:\", f1_score(target_valid, predicted_valid_log_weight))"
   ]
  },
  {
   "cell_type": "markdown",
   "metadata": {},
   "source": [
    "#### Увеличение выборки"
   ]
  },
  {
   "cell_type": "code",
   "execution_count": 18,
   "metadata": {},
   "outputs": [],
   "source": [
    "def upsample(features, target, repeat):\n",
    "    features_zeros = features[target == 0]\n",
    "    features_ones = features[target == 1]\n",
    "    target_zeros = target[target == 0]\n",
    "    target_ones = target[target == 1]\n",
    "\n",
    "    features_upsampled = pd.concat([features_zeros] + [features_ones] * repeat)\n",
    "    target_upsampled = pd.concat([target_zeros] + [target_ones] * repeat)\n",
    "    \n",
    "    features_upsampled, target_upsampled = shuffle(\n",
    "        features_upsampled, target_upsampled, random_state=12345)\n",
    "    \n",
    "    return features_upsampled, target_upsampled\n",
    "\n",
    "features_upsampled, target_upsampled = upsample(features_train, target_train, 3)"
   ]
  },
  {
   "cell_type": "code",
   "execution_count": 19,
   "metadata": {},
   "outputs": [
    {
     "data": {
      "text/plain": [
       "'F1-мера:'"
      ]
     },
     "metadata": {},
     "output_type": "display_data"
    },
    {
     "data": {
      "text/plain": [
       "0.46480743691899074"
      ]
     },
     "metadata": {},
     "output_type": "display_data"
    }
   ],
   "source": [
    "model_log_up = LogisticRegression(random_state=12345, solver='liblinear', max_iter=1000)\n",
    "model_log_up.fit(features_upsampled, target_upsampled)\n",
    "predicted_valid_log_up = model_log_up.predict(features_valid)\n",
    "\n",
    "display('F1-мера:', f1_score(target_valid, predicted_valid_log_up))"
   ]
  },
  {
   "cell_type": "markdown",
   "metadata": {},
   "source": [
    "#### Уменьшение выборки"
   ]
  },
  {
   "cell_type": "code",
   "execution_count": 20,
   "metadata": {},
   "outputs": [],
   "source": [
    "def downsample(features, target, fraction):\n",
    "    features_zeros = features[target == 0]\n",
    "    features_ones = features[target == 1]\n",
    "    target_zeros = target[target == 0]\n",
    "    target_ones = target[target == 1]\n",
    "\n",
    "    features_downsampled = pd.concat(\n",
    "        [features_zeros.sample(frac=fraction, random_state=12345), features_ones])\n",
    "    target_downsampled = pd.concat(\n",
    "        [target_zeros.sample(frac=fraction, random_state=12345), target_ones])\n",
    "    \n",
    "    features_downsampled, target_downsampled = shuffle(\n",
    "        features_downsampled, target_downsampled, random_state=12345)\n",
    "    \n",
    "    return features_downsampled, target_downsampled\n",
    "\n",
    "features_downsampled, target_downsampled = downsample(features_train, target_train, 0.3)"
   ]
  },
  {
   "cell_type": "code",
   "execution_count": 21,
   "metadata": {},
   "outputs": [
    {
     "data": {
      "text/plain": [
       "'F1-мера:'"
      ]
     },
     "metadata": {},
     "output_type": "display_data"
    },
    {
     "data": {
      "text/plain": [
       "0.46249999999999997"
      ]
     },
     "metadata": {},
     "output_type": "display_data"
    }
   ],
   "source": [
    "model_log_down = LogisticRegression(random_state=12345, solver='liblinear', max_iter=1000)\n",
    "model_log_down.fit(features_downsampled, target_downsampled)\n",
    "predicted_valid_log_down = model_log_down.predict(features_valid)\n",
    "\n",
    "display('F1-мера:', f1_score(target_valid, predicted_valid_log_down))"
   ]
  },
  {
   "cell_type": "code",
   "execution_count": 22,
   "metadata": {},
   "outputs": [
    {
     "data": {
      "text/plain": [
       "0    1528\n",
       "1    1307\n",
       "Name: exited, dtype: int64"
      ]
     },
     "execution_count": 22,
     "metadata": {},
     "output_type": "execute_result"
    }
   ],
   "source": [
    "#код ревьюера\n",
    "target_downsampled.value_counts()"
   ]
  },
  {
   "cell_type": "markdown",
   "metadata": {},
   "source": [
    "#### Изменение порога"
   ]
  },
  {
   "cell_type": "code",
   "execution_count": 23,
   "metadata": {},
   "outputs": [
    {
     "data": {
      "text/plain": [
       "array([0.18973075, 0.18922306, 0.18934169, ..., 0.5       , 1.        ,\n",
       "       1.        ])"
      ]
     },
     "metadata": {},
     "output_type": "display_data"
    },
    {
     "data": {
      "text/plain": [
       "array([1.        , 0.99669967, 0.99669967, ..., 0.00330033, 0.00330033,\n",
       "       0.        ])"
      ]
     },
     "metadata": {},
     "output_type": "display_data"
    },
    {
     "data": {
      "text/plain": [
       "array([0.01803153, 0.01855005, 0.01887237, ..., 0.82760578, 0.83381373,\n",
       "       0.88017735])"
      ]
     },
     "metadata": {},
     "output_type": "display_data"
    },
    {
     "data": {
      "image/png": "[encoded data removed]",
      "text/plain": [
       "<Figure size 432x288 with 1 Axes>"
      ]
     },
     "metadata": {
      "needs_background": "light"
     },
     "output_type": "display_data"
    }
   ],
   "source": [
    "model_log_threshold = LogisticRegression(random_state=12345, solver='liblinear', max_iter=1000)\n",
    "model_log_threshold.fit(features_train, target_train)\n",
    "proba_valid_log_threshold = model_log_threshold.predict_proba(features_valid)\n",
    "proba_one_valid_log_threshold = proba_valid_log_threshold[:, 1]\n",
    "\n",
    "precision, recall, thresholds = precision_recall_curve(target_valid, proba_one_valid_log_threshold)\n",
    "\n",
    "display(precision)\n",
    "display(recall)\n",
    "display(thresholds)\n",
    "\n",
    "disp_log = PrecisionRecallDisplay(precision=precision, recall=recall)\n",
    "disp_log.plot()\n",
    "plt.show()"
   ]
  },
  {
   "cell_type": "markdown",
   "metadata": {},
   "source": [
    "#### Расчет AUC-ROC"
   ]
  },
  {
   "cell_type": "code",
   "execution_count": 24,
   "metadata": {},
   "outputs": [
    {
     "data": {
      "text/plain": [
       "0.7624322185495342"
      ]
     },
     "metadata": {},
     "output_type": "display_data"
    },
    {
     "data": {
      "image/png": "[encoded data removed]",
      "text/plain": [
       "<Figure size 432x288 with 1 Axes>"
      ]
     },
     "metadata": {
      "needs_background": "light"
     },
     "output_type": "display_data"
    }
   ],
   "source": [
    "model_log_threshold = LogisticRegression(random_state=12345, solver='liblinear', max_iter=1000)\n",
    "model_log_threshold.fit(features_train, target_train)\n",
    "proba_valid_log_threshold = model_log_threshold.predict_proba(features_valid)\n",
    "proba_one_valid_log_threshold = proba_valid_log_threshold[:, 1]\n",
    "\n",
    "auc_roc = roc_auc_score(target_valid, proba_one_valid_log_threshold)\n",
    "display(auc_roc)\n",
    "\n",
    "fpr, tpr, thresholds = roc_curve(target_valid, proba_one_valid_log_threshold)\n",
    "\n",
    "plt.figure()\n",
    "plt.plot(fpr, tpr)\n",
    "plt.xlim([0.0, 1.0])\n",
    "plt.ylim([0.0, 1.0])\n",
    "plt.xlabel(\"False Positive Rate\")\n",
    "plt.ylabel(\"True Positive Rate\")\n",
    "plt.title(\"ROC-кривая\")\n",
    "plt.show()"
   ]
  },
  {
   "cell_type": "markdown",
   "metadata": {},
   "source": [
    "### Дерево решений"
   ]
  },
  {
   "cell_type": "markdown",
   "metadata": {},
   "source": [
    "#### Взвешивание классов"
   ]
  },
  {
   "cell_type": "code",
   "execution_count": 25,
   "metadata": {},
   "outputs": [
    {
     "data": {
      "text/plain": [
       "'Глубина дерева:'"
      ]
     },
     "metadata": {},
     "output_type": "display_data"
    },
    {
     "data": {
      "text/plain": [
       "15"
      ]
     },
     "metadata": {},
     "output_type": "display_data"
    },
    {
     "data": {
      "text/plain": [
       "'F1-мера:'"
      ]
     },
     "metadata": {},
     "output_type": "display_data"
    },
    {
     "data": {
      "text/plain": [
       "0.48062015503875966"
      ]
     },
     "metadata": {},
     "output_type": "display_data"
    }
   ],
   "source": [
    "best_model = None\n",
    "best_result = 0\n",
    "best_depth = 0\n",
    "for depth in range(1, 16, 1):\n",
    "    model_tree_weight = DecisionTreeClassifier(random_state=12345, max_depth=depth, class_weight='balanced')\n",
    "    model_tree_weight.fit(features_train, target_train)\n",
    "    predicted_valid_tree_weight = model_tree_weight.predict(features_valid)\n",
    "    f1 = f1_score(target_valid, predicted_valid_tree_weight)\n",
    "if f1 > best_result:\n",
    "    best_model = model_tree_weight\n",
    "    best_result = f1\n",
    "    best_depth = depth\n",
    "display('Глубина дерева:', best_depth)\n",
    "display('F1-мера:', best_result)"
   ]
  },
  {
   "cell_type": "markdown",
   "metadata": {},
   "source": [
    "#### Увеличение выборки"
   ]
  },
  {
   "cell_type": "code",
   "execution_count": 26,
   "metadata": {},
   "outputs": [
    {
     "data": {
      "text/plain": [
       "'Глубина дерева:'"
      ]
     },
     "metadata": {},
     "output_type": "display_data"
    },
    {
     "data": {
      "text/plain": [
       "15"
      ]
     },
     "metadata": {},
     "output_type": "display_data"
    },
    {
     "data": {
      "text/plain": [
       "'F1-мера:'"
      ]
     },
     "metadata": {},
     "output_type": "display_data"
    },
    {
     "data": {
      "text/plain": [
       "0.499194847020934"
      ]
     },
     "metadata": {},
     "output_type": "display_data"
    }
   ],
   "source": [
    "best_model = None\n",
    "best_result = 0\n",
    "best_depth = 0\n",
    "for depth in range(1, 16, 1):\n",
    "    model_tree_up = DecisionTreeClassifier(random_state=12345, max_depth=depth)\n",
    "    model_tree_up.fit(features_upsampled, target_upsampled)\n",
    "    predicted_valid_tree_up = model_tree_up.predict(features_valid)\n",
    "    f1 = f1_score(target_valid, predicted_valid_tree_up)\n",
    "if f1 > best_result:\n",
    "    best_model = model_tree_up\n",
    "    best_result = f1\n",
    "    best_depth = depth\n",
    "display('Глубина дерева:', best_depth)\n",
    "display('F1-мера:', best_result)"
   ]
  },
  {
   "cell_type": "markdown",
   "metadata": {},
   "source": [
    "#### Уменьшение выборки"
   ]
  },
  {
   "cell_type": "code",
   "execution_count": 27,
   "metadata": {},
   "outputs": [
    {
     "data": {
      "text/plain": [
       "'Глубина дерева:'"
      ]
     },
     "metadata": {},
     "output_type": "display_data"
    },
    {
     "data": {
      "text/plain": [
       "15"
      ]
     },
     "metadata": {},
     "output_type": "display_data"
    },
    {
     "data": {
      "text/plain": [
       "'F1-мера:'"
      ]
     },
     "metadata": {},
     "output_type": "display_data"
    },
    {
     "data": {
      "text/plain": [
       "0.4556074766355141"
      ]
     },
     "metadata": {},
     "output_type": "display_data"
    }
   ],
   "source": [
    "best_model = None\n",
    "best_result = 0\n",
    "best_depth = 0\n",
    "for depth in range(1, 16, 1):\n",
    "    model_tree_down = DecisionTreeClassifier(random_state=12345, max_depth=depth)\n",
    "    model_tree_down.fit(features_downsampled, target_downsampled)\n",
    "    predicted_valid_tree_down = model_tree_down.predict(features_valid)\n",
    "    f1 = f1_score(target_valid, predicted_valid_tree_down)\n",
    "if f1 > best_result:\n",
    "    best_model = model_tree_down\n",
    "    best_result = f1\n",
    "    best_depth = depth\n",
    "display('Глубина дерева:', best_depth)\n",
    "display('F1-мера:', best_result)"
   ]
  },
  {
   "cell_type": "markdown",
   "metadata": {},
   "source": [
    "#### Изменение порога"
   ]
  },
  {
   "cell_type": "code",
   "execution_count": 28,
   "metadata": {},
   "outputs": [
    {
     "data": {
      "text/plain": [
       "array([0.189375  , 0.33914729, 0.35282258, 0.35787321, 0.375     ,\n",
       "       0.37336245, 0.37527594, 0.37946429, 0.39170507, 0.39534884,\n",
       "       0.39906103, 0.39858491, 0.40047393, 0.40487805, 0.40694789,\n",
       "       0.41057935, 0.41071429, 0.41602067, 0.42133333, 0.43977591,\n",
       "       0.43352601, 0.43604651, 0.45259939, 0.45538462, 0.45510836,\n",
       "       0.46945338, 0.47712418, 0.48026316, 0.49659864, 0.5       ,\n",
       "       0.50694444, 0.50877193, 0.51236749, 0.51601423, 1.        ])"
      ]
     },
     "metadata": {},
     "output_type": "display_data"
    },
    {
     "data": {
      "text/plain": [
       "array([1.        , 0.57755776, 0.57755776, 0.57755776, 0.57425743,\n",
       "       0.56435644, 0.56105611, 0.56105611, 0.56105611, 0.56105611,\n",
       "       0.56105611, 0.55775578, 0.55775578, 0.54785479, 0.54125413,\n",
       "       0.5379538 , 0.53135314, 0.53135314, 0.52145215, 0.51815182,\n",
       "       0.4950495 , 0.4950495 , 0.48844884, 0.48844884, 0.48514851,\n",
       "       0.48184818, 0.48184818, 0.48184818, 0.48184818, 0.48184818,\n",
       "       0.48184818, 0.47854785, 0.47854785, 0.47854785, 0.        ])"
      ]
     },
     "metadata": {},
     "output_type": "display_data"
    },
    {
     "data": {
      "text/plain": [
       "array([0.        , 0.01369863, 0.02439024, 0.03225806, 0.04347826,\n",
       "       0.05882353, 0.06666667, 0.06896552, 0.07142857, 0.07407407,\n",
       "       0.07692308, 0.12      , 0.13333333, 0.13636364, 0.13888889,\n",
       "       0.13953488, 0.14285714, 0.15555556, 0.16438356, 0.16666667,\n",
       "       0.21428571, 0.27868852, 0.28571429, 0.30769231, 0.33333333,\n",
       "       0.36363636, 0.4       , 0.42857143, 0.5       , 0.53333333,\n",
       "       0.625     , 0.66666667, 0.75      , 1.        ])"
      ]
     },
     "metadata": {},
     "output_type": "display_data"
    },
    {
     "data": {
      "image/png": "[encoded data removed]",
      "text/plain": [
       "<Figure size 432x288 with 1 Axes>"
      ]
     },
     "metadata": {
      "needs_background": "light"
     },
     "output_type": "display_data"
    }
   ],
   "source": [
    "model_tree_threshold = DecisionTreeClassifier(random_state=12345, max_depth=15)\n",
    "model_tree_threshold.fit(features_train, target_train)\n",
    "proba_valid_tree_threshold = model_tree_threshold.predict_proba(features_valid)\n",
    "proba_one_valid_tree_threshold = proba_valid_tree_threshold[:, 1]\n",
    "\n",
    "precision, recall, thresholds = precision_recall_curve(target_valid, proba_one_valid_tree_threshold)\n",
    "\n",
    "display(precision)\n",
    "display(recall)\n",
    "display(thresholds)\n",
    "\n",
    "disp_tree = PrecisionRecallDisplay(precision=precision, recall=recall)\n",
    "disp_tree.plot()\n",
    "plt.show()"
   ]
  },
  {
   "cell_type": "markdown",
   "metadata": {},
   "source": [
    "#### Расчет AUC-ROC"
   ]
  },
  {
   "cell_type": "code",
   "execution_count": 29,
   "metadata": {},
   "outputs": [
    {
     "data": {
      "text/plain": [
       "0.6909598438641089"
      ]
     },
     "metadata": {},
     "output_type": "display_data"
    },
    {
     "data": {
      "image/png": "[encoded data removed]",
      "text/plain": [
       "<Figure size 432x288 with 1 Axes>"
      ]
     },
     "metadata": {
      "needs_background": "light"
     },
     "output_type": "display_data"
    }
   ],
   "source": [
    "model_tree_threshold = DecisionTreeClassifier(random_state=12345, max_depth=15)\n",
    "model_tree_threshold.fit(features_train, target_train)\n",
    "proba_valid_tree_threshold = model_tree_threshold.predict_proba(features_valid)\n",
    "proba_one_valid_tree_threshold = proba_valid_tree_threshold[:, 1]\n",
    "\n",
    "auc_roc = roc_auc_score(target_valid, proba_one_valid_tree_threshold)\n",
    "display(auc_roc)\n",
    "\n",
    "fpr, tpr, thresholds = roc_curve(target_valid, proba_one_valid_tree_threshold)\n",
    "\n",
    "plt.figure()\n",
    "plt.plot(fpr, tpr)\n",
    "plt.xlim([0.0, 1.0])\n",
    "plt.ylim([0.0, 1.0])\n",
    "plt.xlabel(\"False Positive Rate\")\n",
    "plt.ylabel(\"True Positive Rate\")\n",
    "plt.title(\"ROC-кривая\")\n",
    "plt.show()"
   ]
  },
  {
   "cell_type": "markdown",
   "metadata": {},
   "source": [
    "### Случайный лес"
   ]
  },
  {
   "cell_type": "markdown",
   "metadata": {},
   "source": [
    "#### Взвешивание классов"
   ]
  },
  {
   "cell_type": "code",
   "execution_count": 30,
   "metadata": {},
   "outputs": [
    {
     "data": {
      "text/plain": [
       "'Глубина дерева:'"
      ]
     },
     "metadata": {},
     "output_type": "display_data"
    },
    {
     "data": {
      "text/plain": [
       "9"
      ]
     },
     "metadata": {},
     "output_type": "display_data"
    },
    {
     "data": {
      "text/plain": [
       "'Количество деревьев:'"
      ]
     },
     "metadata": {},
     "output_type": "display_data"
    },
    {
     "data": {
      "text/plain": [
       "91"
      ]
     },
     "metadata": {},
     "output_type": "display_data"
    },
    {
     "data": {
      "text/plain": [
       "'F1-мера:'"
      ]
     },
     "metadata": {},
     "output_type": "display_data"
    },
    {
     "data": {
      "text/plain": [
       "0.6036036036036037"
      ]
     },
     "metadata": {},
     "output_type": "display_data"
    },
    {
     "name": "stdout",
     "output_type": "stream",
     "text": [
      "CPU times: user 33.2 s, sys: 97.8 ms, total: 33.3 s\n",
      "Wall time: 33.8 s\n"
     ]
    }
   ],
   "source": [
    "%%time\n",
    "\n",
    "best_model = None\n",
    "best_result = 0\n",
    "best_est = 0\n",
    "best_depth = 0\n",
    "for depth in range(1, 16, 1):\n",
    "    for est in range(1, 101, 10):\n",
    "        model_forest_weight = RandomForestClassifier(random_state=12345, n_estimators=est, max_depth=depth, class_weight='balanced')\n",
    "        model_forest_weight.fit(features_train, target_train)\n",
    "        predicted_valid_forest_weight = model_forest_weight.predict(features_valid)\n",
    "        f1 = f1_score(target_valid, predicted_valid_forest_weight)\n",
    "    if f1 > best_result:\n",
    "        best_model = model_forest_weight\n",
    "        best_result = f1\n",
    "        best_est = est\n",
    "        best_depth = depth\n",
    "display('Глубина дерева:', best_depth)\n",
    "display('Количество деревьев:', best_est)\n",
    "display('F1-мера:', best_result)"
   ]
  },
  {
   "cell_type": "markdown",
   "metadata": {},
   "source": [
    "#### Увеличение выборки"
   ]
  },
  {
   "cell_type": "code",
   "execution_count": 31,
   "metadata": {},
   "outputs": [
    {
     "data": {
      "text/plain": [
       "'Глубина дерева:'"
      ]
     },
     "metadata": {},
     "output_type": "display_data"
    },
    {
     "data": {
      "text/plain": [
       "12"
      ]
     },
     "metadata": {},
     "output_type": "display_data"
    },
    {
     "data": {
      "text/plain": [
       "'Количество деревьев:'"
      ]
     },
     "metadata": {},
     "output_type": "display_data"
    },
    {
     "data": {
      "text/plain": [
       "91"
      ]
     },
     "metadata": {},
     "output_type": "display_data"
    },
    {
     "data": {
      "text/plain": [
       "'F1-мера:'"
      ]
     },
     "metadata": {},
     "output_type": "display_data"
    },
    {
     "data": {
      "text/plain": [
       "0.6125827814569536"
      ]
     },
     "metadata": {},
     "output_type": "display_data"
    },
    {
     "name": "stdout",
     "output_type": "stream",
     "text": [
      "CPU times: user 42.9 s, sys: 135 ms, total: 43.1 s\n",
      "Wall time: 43.4 s\n"
     ]
    }
   ],
   "source": [
    "%%time\n",
    "\n",
    "best_model = None\n",
    "best_result = 0\n",
    "best_est = 0\n",
    "best_depth = 0\n",
    "for depth in range(1, 16, 1):\n",
    "    for est in range(1, 101, 10):\n",
    "        model_forest_up = RandomForestClassifier(random_state=12345, n_estimators=est, max_depth=depth)\n",
    "        model_forest_up.fit(features_upsampled, target_upsampled)\n",
    "        predicted_valid_forest_up = model_forest_up.predict(features_valid)\n",
    "        f1 = f1_score(target_valid, predicted_valid_forest_up)\n",
    "    if f1 > best_result:\n",
    "        best_model = model_forest_up\n",
    "        best_result = f1\n",
    "        best_est = est\n",
    "        best_depth = depth\n",
    "display('Глубина дерева:', best_depth)\n",
    "display('Количество деревьев:', best_est)\n",
    "display('F1-мера:', best_result)"
   ]
  },
  {
   "cell_type": "markdown",
   "metadata": {},
   "source": [
    "#### Уменьшение выборки"
   ]
  },
  {
   "cell_type": "code",
   "execution_count": 32,
   "metadata": {},
   "outputs": [
    {
     "data": {
      "text/plain": [
       "'Глубина дерева:'"
      ]
     },
     "metadata": {},
     "output_type": "display_data"
    },
    {
     "data": {
      "text/plain": [
       "7"
      ]
     },
     "metadata": {},
     "output_type": "display_data"
    },
    {
     "data": {
      "text/plain": [
       "'Количество деревьев:'"
      ]
     },
     "metadata": {},
     "output_type": "display_data"
    },
    {
     "data": {
      "text/plain": [
       "91"
      ]
     },
     "metadata": {},
     "output_type": "display_data"
    },
    {
     "data": {
      "text/plain": [
       "'F1-мера:'"
      ]
     },
     "metadata": {},
     "output_type": "display_data"
    },
    {
     "data": {
      "text/plain": [
       "0.5854341736694679"
      ]
     },
     "metadata": {},
     "output_type": "display_data"
    },
    {
     "name": "stdout",
     "output_type": "stream",
     "text": [
      "CPU times: user 20.1 s, sys: 91.7 ms, total: 20.2 s\n",
      "Wall time: 20.2 s\n"
     ]
    }
   ],
   "source": [
    "%%time\n",
    "\n",
    "best_model = None\n",
    "best_result = 0\n",
    "best_est = 0\n",
    "best_depth = 0\n",
    "for depth in range(1, 16, 1):\n",
    "    for est in range(1, 101, 10):\n",
    "        model_forest_down = RandomForestClassifier(random_state=12345, n_estimators=est, max_depth=depth)\n",
    "        model_forest_down.fit(features_downsampled, target_downsampled)\n",
    "        predicted_valid_forest_down = model_forest_down.predict(features_valid)\n",
    "        f1 = f1_score(target_valid, predicted_valid_forest_down)\n",
    "    if f1 > best_result:\n",
    "        best_model = model_forest_down\n",
    "        best_result = f1\n",
    "        best_est = est\n",
    "        best_depth = depth\n",
    "display('Глубина дерева:', best_depth)\n",
    "display('Количество деревьев:', best_est)\n",
    "display('F1-мера:', best_result)"
   ]
  },
  {
   "cell_type": "markdown",
   "metadata": {},
   "source": [
    "#### Изменение порога"
   ]
  },
  {
   "cell_type": "code",
   "execution_count": 40,
   "metadata": {},
   "outputs": [
    {
     "data": {
      "text/plain": [
       "array([0.18973075, 0.18922306, 0.18934169, ..., 1.        , 1.        ,\n",
       "       1.        ])"
      ]
     },
     "metadata": {},
     "output_type": "display_data"
    },
    {
     "data": {
      "text/plain": [
       "array([1.        , 0.99669967, 0.99669967, ..., 0.00660066, 0.00330033,\n",
       "       0.        ])"
      ]
     },
     "metadata": {},
     "output_type": "display_data"
    },
    {
     "data": {
      "text/plain": [
       "array([0.00628632, 0.00758342, 0.00775188, ..., 0.9496337 , 0.96428571,\n",
       "       0.97387057])"
      ]
     },
     "metadata": {},
     "output_type": "display_data"
    },
    {
     "data": {
      "image/png": "[encoded data removed]",
      "text/plain": [
       "<Figure size 432x288 with 1 Axes>"
      ]
     },
     "metadata": {
      "needs_background": "light"
     },
     "output_type": "display_data"
    },
    {
     "name": "stdout",
     "output_type": "stream",
     "text": [
      "CPU times: user 670 ms, sys: 20.1 ms, total: 690 ms\n",
      "Wall time: 695 ms\n"
     ]
    }
   ],
   "source": [
    "%%time\n",
    "\n",
    "model_forest_threshold = RandomForestClassifier(random_state=12345, max_depth=12, n_estimators=91)\n",
    "model_forest_threshold.fit(features_train, target_train)\n",
    "proba_valid_forest_threshold = model_forest_threshold.predict_proba(features_valid)\n",
    "proba_one_valid_forest_threshold = proba_valid_forest_threshold[:, 1]\n",
    "\n",
    "precision, recall, thresholds = precision_recall_curve(target_valid, proba_one_valid_forest_threshold)\n",
    "\n",
    "display(precision)\n",
    "display(recall)\n",
    "display(thresholds)\n",
    "\n",
    "disp_forest = PrecisionRecallDisplay(precision=precision, recall=recall)\n",
    "disp_forest.plot()\n",
    "plt.show()"
   ]
  },
  {
   "cell_type": "markdown",
   "metadata": {},
   "source": [
    "#### Расчет AUC-ROC"
   ]
  },
  {
   "cell_type": "code",
   "execution_count": 41,
   "metadata": {},
   "outputs": [
    {
     "data": {
      "text/plain": [
       "0.8518871933453946"
      ]
     },
     "metadata": {},
     "output_type": "display_data"
    },
    {
     "data": {
      "image/png": "[encoded data removed]",
      "text/plain": [
       "<Figure size 432x288 with 1 Axes>"
      ]
     },
     "metadata": {
      "needs_background": "light"
     },
     "output_type": "display_data"
    },
    {
     "name": "stdout",
     "output_type": "stream",
     "text": [
      "CPU times: user 671 ms, sys: 4.03 ms, total: 675 ms\n",
      "Wall time: 677 ms\n"
     ]
    }
   ],
   "source": [
    "%%time\n",
    "\n",
    "model_forest_threshold = RandomForestClassifier(random_state=12345, max_depth=12, n_estimators=91)\n",
    "model_forest_threshold.fit(features_train, target_train)\n",
    "proba_valid_forest_threshold = model_forest_threshold.predict_proba(features_valid)\n",
    "proba_one_valid_forest_threshold = proba_valid_forest_threshold[:, 1]\n",
    "\n",
    "auc_roc = roc_auc_score(target_valid, proba_one_valid_forest_threshold)\n",
    "display(auc_roc)\n",
    "\n",
    "fpr, tpr, thresholds = roc_curve(target_valid, proba_one_valid_forest_threshold)\n",
    "\n",
    "plt.figure()\n",
    "plt.plot(fpr, tpr)\n",
    "plt.xlim([0.0, 1.0])\n",
    "plt.ylim([0.0, 1.0])\n",
    "plt.xlabel(\"False Positive Rate\")\n",
    "plt.ylabel(\"True Positive Rate\")\n",
    "plt.title(\"ROC-кривая\")\n",
    "plt.show()"
   ]
  },
  {
   "cell_type": "markdown",
   "metadata": {},
   "source": [
    "Вывод:\n",
    "\n",
    "Наблюдаем, что когда применяли Взвешивание классов, то наилучшей моделью стала \"Случайный лес\" - F1-мера достигла 0.60.Когда делали увеличение выборки, то лучшей моделью также стала \"Случайный лес\" - F1-мера - 0.61, когда делали уменьшение выборки, то лучшей моделью также стала \"Случайный лес\", но F1-мера намного меньше - 0.44."
   ]
  },
  {
   "cell_type": "markdown",
   "metadata": {},
   "source": [
    "Если увеличивать порог, то точность будет увеличиваться, а полнота уменьшаться, что и наблюдается выше."
   ]
  },
  {
   "cell_type": "markdown",
   "metadata": {},
   "source": [
    "Метрика AUC-ROC имеет вероятностный смысл: это вероятность того, что случайно взятый объект класса 1 имеет оценку принадлежности к классу 1 выше, чем случайно взятый объект класса 0."
   ]
  },
  {
   "cell_type": "markdown",
   "metadata": {},
   "source": [
    "Объединим тренировочную и валидационную выборки:"
   ]
  },
  {
   "cell_type": "code",
   "execution_count": 42,
   "metadata": {},
   "outputs": [
    {
     "data": {
      "text/plain": [
       "(8000, 11)"
      ]
     },
     "metadata": {},
     "output_type": "display_data"
    },
    {
     "data": {
      "text/plain": [
       "(8000,)"
      ]
     },
     "metadata": {},
     "output_type": "display_data"
    }
   ],
   "source": [
    "features_train_valid = pd.concat([features_train, features_valid])\n",
    "target_train_valid = pd.concat([target_train, target_valid])\n",
    "\n",
    "display(features_train_valid.shape)\n",
    "display(target_train_valid.shape)"
   ]
  },
  {
   "cell_type": "markdown",
   "metadata": {},
   "source": [
    "## Тестирование модели"
   ]
  },
  {
   "cell_type": "markdown",
   "metadata": {},
   "source": [
    "Тестировать данные будем на модели \"Случайный лес\" так как она показала лучшие результаты:"
   ]
  },
  {
   "cell_type": "code",
   "execution_count": 39,
   "metadata": {
    "scrolled": true
   },
   "outputs": [],
   "source": [
    "#model_forest_test = RandomForestClassifier(random_state=12345, max_depth=11, n_estimators=91)\n",
    "#model_forest_test.fit(features_train_valid, target_train_valid)\n",
    "#predicted_valid_forest_test = model_forest_test.predict(features_test)\n",
    "#display('F1-мера:', f1_score(target_test, predicted_valid_forest_test))"
   ]
  },
  {
   "cell_type": "code",
   "execution_count": 37,
   "metadata": {},
   "outputs": [],
   "source": [
    "pd.options.mode.chained_assignment = None\n",
    "features_test[numeric] = scaler.transform(features_test[numeric])"
   ]
  },
  {
   "cell_type": "code",
   "execution_count": 43,
   "metadata": {},
   "outputs": [
    {
     "data": {
      "text/plain": [
       "'F1-мера:'"
      ]
     },
     "metadata": {},
     "output_type": "display_data"
    },
    {
     "data": {
      "text/plain": [
       "0.6256281407035176"
      ]
     },
     "metadata": {},
     "output_type": "display_data"
    }
   ],
   "source": [
    "model_forest_test = RandomForestClassifier(random_state=12345, max_depth=12, n_estimators=91, class_weight='balanced')\n",
    "model_forest_test.fit(features_train_valid, target_train_valid)\n",
    "predicted_valid_forest_test = model_forest_test.predict(features_test)\n",
    "display('F1-мера:', f1_score(target_test, predicted_valid_forest_test))"
   ]
  }
 ],
 "metadata": {
  "ExecuteTimeLog": [
   {
    "duration": 1775,
    "start_time": "2022-03-27T10:32:44.729Z"
   },
   {
    "duration": 122,
    "start_time": "2022-03-27T10:32:46.506Z"
   },
   {
    "duration": 34,
    "start_time": "2022-03-27T10:33:11.468Z"
   },
   {
    "duration": 39,
    "start_time": "2022-03-27T10:33:26.562Z"
   },
   {
    "duration": 8,
    "start_time": "2022-03-27T10:33:47.810Z"
   },
   {
    "duration": 3,
    "start_time": "2022-03-27T10:34:00.687Z"
   },
   {
    "duration": 41,
    "start_time": "2022-03-27T10:34:00.692Z"
   },
   {
    "duration": 33,
    "start_time": "2022-03-27T10:34:00.735Z"
   },
   {
    "duration": 6,
    "start_time": "2022-03-27T10:34:00.770Z"
   },
   {
    "duration": 4,
    "start_time": "2022-03-27T10:47:28.055Z"
   },
   {
    "duration": 54,
    "start_time": "2022-03-27T10:47:28.061Z"
   },
   {
    "duration": 57731,
    "start_time": "2022-03-27T10:47:28.117Z"
   },
   {
    "duration": 2,
    "start_time": "2022-03-27T10:52:25.501Z"
   },
   {
    "duration": 3,
    "start_time": "2022-03-27T10:55:39.701Z"
   },
   {
    "duration": 30,
    "start_time": "2022-03-27T10:55:39.706Z"
   },
   {
    "duration": 3,
    "start_time": "2022-03-27T10:55:39.737Z"
   },
   {
    "duration": 71,
    "start_time": "2022-03-28T09:29:50.000Z"
   },
   {
    "duration": 2262,
    "start_time": "2022-03-28T09:29:52.657Z"
   },
   {
    "duration": 52,
    "start_time": "2022-03-28T09:29:54.922Z"
   },
   {
    "duration": 3,
    "start_time": "2022-03-28T09:29:54.976Z"
   },
   {
    "duration": 21,
    "start_time": "2022-03-28T09:29:54.981Z"
   },
   {
    "duration": 60,
    "start_time": "2022-03-28T09:39:43.852Z"
   },
   {
    "duration": 48,
    "start_time": "2022-03-28T09:52:19.624Z"
   },
   {
    "duration": 3,
    "start_time": "2022-03-28T09:52:28.834Z"
   },
   {
    "duration": 4,
    "start_time": "2022-03-28T09:52:55.023Z"
   },
   {
    "duration": 62,
    "start_time": "2022-03-28T09:52:55.030Z"
   },
   {
    "duration": 4,
    "start_time": "2022-03-28T09:52:55.094Z"
   },
   {
    "duration": 9,
    "start_time": "2022-03-28T09:52:55.101Z"
   },
   {
    "duration": 18,
    "start_time": "2022-03-28T09:52:55.113Z"
   },
   {
    "duration": 1886,
    "start_time": "2022-03-28T09:52:55.133Z"
   },
   {
    "duration": 7,
    "start_time": "2022-03-28T09:53:31.815Z"
   },
   {
    "duration": 9,
    "start_time": "2022-03-28T09:53:42.989Z"
   },
   {
    "duration": 11,
    "start_time": "2022-03-28T09:53:58.986Z"
   },
   {
    "duration": 6,
    "start_time": "2022-03-28T09:54:18.497Z"
   },
   {
    "duration": 5,
    "start_time": "2022-03-28T09:54:22.757Z"
   },
   {
    "duration": 45,
    "start_time": "2022-03-28T09:54:22.765Z"
   },
   {
    "duration": 4,
    "start_time": "2022-03-28T09:54:22.812Z"
   },
   {
    "duration": 6,
    "start_time": "2022-03-28T09:54:22.819Z"
   },
   {
    "duration": 11,
    "start_time": "2022-03-28T09:54:22.829Z"
   },
   {
    "duration": 36,
    "start_time": "2022-03-28T09:54:22.843Z"
   },
   {
    "duration": 11,
    "start_time": "2022-03-28T09:54:22.883Z"
   },
   {
    "duration": 30,
    "start_time": "2022-03-28T09:54:43.344Z"
   },
   {
    "duration": 31,
    "start_time": "2022-03-28T10:01:25.165Z"
   },
   {
    "duration": 4,
    "start_time": "2022-03-28T10:01:37.068Z"
   },
   {
    "duration": 52,
    "start_time": "2022-03-28T10:01:37.075Z"
   },
   {
    "duration": 3,
    "start_time": "2022-03-28T10:01:37.130Z"
   },
   {
    "duration": 7,
    "start_time": "2022-03-28T10:01:37.135Z"
   },
   {
    "duration": 29,
    "start_time": "2022-03-28T10:01:37.145Z"
   },
   {
    "duration": 8,
    "start_time": "2022-03-28T10:01:37.176Z"
   },
   {
    "duration": 6,
    "start_time": "2022-03-28T10:01:37.186Z"
   },
   {
    "duration": 24,
    "start_time": "2022-03-28T10:01:37.195Z"
   },
   {
    "duration": 31,
    "start_time": "2022-03-28T10:15:37.152Z"
   },
   {
    "duration": 32,
    "start_time": "2022-03-28T10:16:01.101Z"
   },
   {
    "duration": 5,
    "start_time": "2022-03-28T10:16:03.711Z"
   },
   {
    "duration": 63,
    "start_time": "2022-03-28T10:16:03.718Z"
   },
   {
    "duration": 4,
    "start_time": "2022-03-28T10:16:03.783Z"
   },
   {
    "duration": 18,
    "start_time": "2022-03-28T10:16:03.790Z"
   },
   {
    "duration": 30,
    "start_time": "2022-03-28T10:16:03.810Z"
   },
   {
    "duration": 22,
    "start_time": "2022-03-28T10:16:03.842Z"
   },
   {
    "duration": 17,
    "start_time": "2022-03-28T10:16:03.867Z"
   },
   {
    "duration": 51,
    "start_time": "2022-03-28T10:16:03.886Z"
   },
   {
    "duration": 29,
    "start_time": "2022-03-28T10:16:03.939Z"
   },
   {
    "duration": 50,
    "start_time": "2022-03-28T10:16:35.087Z"
   },
   {
    "duration": 6,
    "start_time": "2022-03-28T10:16:59.850Z"
   },
   {
    "duration": 4,
    "start_time": "2022-03-28T10:17:02.978Z"
   },
   {
    "duration": 66,
    "start_time": "2022-03-28T10:17:02.985Z"
   },
   {
    "duration": 3,
    "start_time": "2022-03-28T10:17:03.054Z"
   },
   {
    "duration": 21,
    "start_time": "2022-03-28T10:17:03.059Z"
   },
   {
    "duration": 23,
    "start_time": "2022-03-28T10:17:03.083Z"
   },
   {
    "duration": 25,
    "start_time": "2022-03-28T10:17:03.108Z"
   },
   {
    "duration": 12,
    "start_time": "2022-03-28T10:17:03.135Z"
   },
   {
    "duration": 23,
    "start_time": "2022-03-28T10:17:03.149Z"
   },
   {
    "duration": 4,
    "start_time": "2022-03-28T10:17:05.004Z"
   },
   {
    "duration": 63,
    "start_time": "2022-03-28T10:17:05.011Z"
   },
   {
    "duration": 3,
    "start_time": "2022-03-28T10:17:05.077Z"
   },
   {
    "duration": 21,
    "start_time": "2022-03-28T10:17:05.082Z"
   },
   {
    "duration": 35,
    "start_time": "2022-03-28T10:17:05.106Z"
   },
   {
    "duration": 22,
    "start_time": "2022-03-28T10:17:05.143Z"
   },
   {
    "duration": 10,
    "start_time": "2022-03-28T10:17:05.167Z"
   },
   {
    "duration": 28,
    "start_time": "2022-03-28T10:17:05.179Z"
   },
   {
    "duration": 67,
    "start_time": "2022-03-28T10:17:05.209Z"
   },
   {
    "duration": 27,
    "start_time": "2022-03-28T10:17:16.410Z"
   },
   {
    "duration": 43,
    "start_time": "2022-03-28T10:23:25.053Z"
   },
   {
    "duration": 5,
    "start_time": "2022-03-28T10:24:20.761Z"
   },
   {
    "duration": 72,
    "start_time": "2022-03-28T10:24:20.768Z"
   },
   {
    "duration": 3,
    "start_time": "2022-03-28T10:24:20.843Z"
   },
   {
    "duration": 23,
    "start_time": "2022-03-28T10:24:20.848Z"
   },
   {
    "duration": 30,
    "start_time": "2022-03-28T10:24:20.873Z"
   },
   {
    "duration": 23,
    "start_time": "2022-03-28T10:24:20.906Z"
   },
   {
    "duration": 18,
    "start_time": "2022-03-28T10:24:20.931Z"
   },
   {
    "duration": 17,
    "start_time": "2022-03-28T10:24:20.951Z"
   },
   {
    "duration": 39,
    "start_time": "2022-03-28T10:24:20.970Z"
   },
   {
    "duration": 56,
    "start_time": "2022-03-28T10:24:21.012Z"
   },
   {
    "duration": 6,
    "start_time": "2022-03-28T10:27:47.370Z"
   },
   {
    "duration": 50,
    "start_time": "2022-03-28T10:27:47.379Z"
   },
   {
    "duration": 3,
    "start_time": "2022-03-28T10:27:47.432Z"
   },
   {
    "duration": 5,
    "start_time": "2022-03-28T10:27:47.440Z"
   },
   {
    "duration": 12,
    "start_time": "2022-03-28T10:27:47.474Z"
   },
   {
    "duration": 14,
    "start_time": "2022-03-28T10:27:47.489Z"
   },
   {
    "duration": 6,
    "start_time": "2022-03-28T10:27:47.505Z"
   },
   {
    "duration": 11,
    "start_time": "2022-03-28T10:27:47.513Z"
   },
   {
    "duration": 56,
    "start_time": "2022-03-28T10:27:47.526Z"
   },
   {
    "duration": 42,
    "start_time": "2022-03-28T10:27:47.585Z"
   },
   {
    "duration": 16,
    "start_time": "2022-03-28T10:35:35.158Z"
   },
   {
    "duration": 4,
    "start_time": "2022-03-28T10:36:11.793Z"
   },
   {
    "duration": 45,
    "start_time": "2022-03-28T10:36:11.800Z"
   },
   {
    "duration": 3,
    "start_time": "2022-03-28T10:36:11.847Z"
   },
   {
    "duration": 11,
    "start_time": "2022-03-28T10:36:11.853Z"
   },
   {
    "duration": 12,
    "start_time": "2022-03-28T10:36:11.866Z"
   },
   {
    "duration": 8,
    "start_time": "2022-03-28T10:36:11.880Z"
   },
   {
    "duration": 6,
    "start_time": "2022-03-28T10:36:11.890Z"
   },
   {
    "duration": 7,
    "start_time": "2022-03-28T10:36:11.898Z"
   },
   {
    "duration": 15,
    "start_time": "2022-03-28T10:36:11.908Z"
   },
   {
    "duration": 64,
    "start_time": "2022-03-28T10:36:11.925Z"
   },
   {
    "duration": 5,
    "start_time": "2022-03-28T10:40:32.753Z"
   },
   {
    "duration": 51,
    "start_time": "2022-03-28T10:40:32.761Z"
   },
   {
    "duration": 4,
    "start_time": "2022-03-28T10:40:32.814Z"
   },
   {
    "duration": 11,
    "start_time": "2022-03-28T10:40:32.820Z"
   },
   {
    "duration": 12,
    "start_time": "2022-03-28T10:40:32.834Z"
   },
   {
    "duration": 7,
    "start_time": "2022-03-28T10:40:32.848Z"
   },
   {
    "duration": 23,
    "start_time": "2022-03-28T10:40:32.856Z"
   },
   {
    "duration": 6,
    "start_time": "2022-03-28T10:40:32.881Z"
   },
   {
    "duration": 16,
    "start_time": "2022-03-28T10:40:32.889Z"
   },
   {
    "duration": 22,
    "start_time": "2022-03-28T10:40:32.907Z"
   },
   {
    "duration": 21,
    "start_time": "2022-03-28T10:46:56.300Z"
   },
   {
    "duration": 18,
    "start_time": "2022-03-28T10:47:28.070Z"
   },
   {
    "duration": 4,
    "start_time": "2022-03-28T10:47:39.836Z"
   },
   {
    "duration": 42,
    "start_time": "2022-03-28T10:47:39.843Z"
   },
   {
    "duration": 3,
    "start_time": "2022-03-28T10:47:39.888Z"
   },
   {
    "duration": 6,
    "start_time": "2022-03-28T10:47:39.893Z"
   },
   {
    "duration": 9,
    "start_time": "2022-03-28T10:47:39.903Z"
   },
   {
    "duration": 8,
    "start_time": "2022-03-28T10:47:39.915Z"
   },
   {
    "duration": 47,
    "start_time": "2022-03-28T10:47:39.925Z"
   },
   {
    "duration": 8,
    "start_time": "2022-03-28T10:47:39.975Z"
   },
   {
    "duration": 19,
    "start_time": "2022-03-28T10:47:39.985Z"
   },
   {
    "duration": 29,
    "start_time": "2022-03-28T10:47:40.006Z"
   },
   {
    "duration": 51,
    "start_time": "2022-03-28T10:47:40.037Z"
   },
   {
    "duration": 18,
    "start_time": "2022-03-28T10:48:07.037Z"
   },
   {
    "duration": 4,
    "start_time": "2022-03-28T10:48:09.319Z"
   },
   {
    "duration": 53,
    "start_time": "2022-03-28T10:48:09.326Z"
   },
   {
    "duration": 3,
    "start_time": "2022-03-28T10:48:09.381Z"
   },
   {
    "duration": 6,
    "start_time": "2022-03-28T10:48:09.386Z"
   },
   {
    "duration": 11,
    "start_time": "2022-03-28T10:48:09.395Z"
   },
   {
    "duration": 7,
    "start_time": "2022-03-28T10:48:09.408Z"
   },
   {
    "duration": 7,
    "start_time": "2022-03-28T10:48:09.417Z"
   },
   {
    "duration": 6,
    "start_time": "2022-03-28T10:48:09.426Z"
   },
   {
    "duration": 14,
    "start_time": "2022-03-28T10:48:09.473Z"
   },
   {
    "duration": 22,
    "start_time": "2022-03-28T10:48:09.489Z"
   },
   {
    "duration": 16,
    "start_time": "2022-03-28T10:48:09.514Z"
   },
   {
    "duration": 21,
    "start_time": "2022-03-28T10:48:19.759Z"
   },
   {
    "duration": 6,
    "start_time": "2022-03-28T10:48:22.467Z"
   },
   {
    "duration": 48,
    "start_time": "2022-03-28T10:48:22.475Z"
   },
   {
    "duration": 3,
    "start_time": "2022-03-28T10:48:22.525Z"
   },
   {
    "duration": 8,
    "start_time": "2022-03-28T10:48:22.530Z"
   },
   {
    "duration": 14,
    "start_time": "2022-03-28T10:48:22.541Z"
   },
   {
    "duration": 7,
    "start_time": "2022-03-28T10:48:22.574Z"
   },
   {
    "duration": 6,
    "start_time": "2022-03-28T10:48:22.583Z"
   },
   {
    "duration": 5,
    "start_time": "2022-03-28T10:48:22.591Z"
   },
   {
    "duration": 16,
    "start_time": "2022-03-28T10:48:22.598Z"
   },
   {
    "duration": 69,
    "start_time": "2022-03-28T10:48:22.616Z"
   },
   {
    "duration": 18,
    "start_time": "2022-03-28T10:48:22.688Z"
   },
   {
    "duration": 36,
    "start_time": "2022-03-28T10:53:30.241Z"
   },
   {
    "duration": 5,
    "start_time": "2022-03-28T10:53:34.989Z"
   },
   {
    "duration": 48,
    "start_time": "2022-03-28T10:53:34.996Z"
   },
   {
    "duration": 4,
    "start_time": "2022-03-28T10:53:35.046Z"
   },
   {
    "duration": 21,
    "start_time": "2022-03-28T10:53:35.053Z"
   },
   {
    "duration": 12,
    "start_time": "2022-03-28T10:53:35.076Z"
   },
   {
    "duration": 9,
    "start_time": "2022-03-28T10:53:35.091Z"
   },
   {
    "duration": 10,
    "start_time": "2022-03-28T10:53:35.102Z"
   },
   {
    "duration": 8,
    "start_time": "2022-03-28T10:53:35.114Z"
   },
   {
    "duration": 52,
    "start_time": "2022-03-28T10:53:35.124Z"
   },
   {
    "duration": 30,
    "start_time": "2022-03-28T10:53:35.179Z"
   },
   {
    "duration": 84,
    "start_time": "2022-03-28T10:53:35.212Z"
   },
   {
    "duration": 53,
    "start_time": "2022-03-28T10:54:42.461Z"
   },
   {
    "duration": 5,
    "start_time": "2022-03-28T10:55:39.056Z"
   },
   {
    "duration": 51,
    "start_time": "2022-03-28T10:55:39.064Z"
   },
   {
    "duration": 3,
    "start_time": "2022-03-28T10:55:39.117Z"
   },
   {
    "duration": 7,
    "start_time": "2022-03-28T10:55:39.123Z"
   },
   {
    "duration": 13,
    "start_time": "2022-03-28T10:55:39.132Z"
   },
   {
    "duration": 28,
    "start_time": "2022-03-28T10:55:39.147Z"
   },
   {
    "duration": 6,
    "start_time": "2022-03-28T10:55:39.177Z"
   },
   {
    "duration": 11,
    "start_time": "2022-03-28T10:55:39.185Z"
   },
   {
    "duration": 15,
    "start_time": "2022-03-28T10:55:39.198Z"
   },
   {
    "duration": 56,
    "start_time": "2022-03-28T10:55:39.218Z"
   },
   {
    "duration": 53,
    "start_time": "2022-03-28T10:55:39.276Z"
   },
   {
    "duration": 30,
    "start_time": "2022-03-28T10:57:42.013Z"
   },
   {
    "duration": 34,
    "start_time": "2022-03-28T11:02:16.818Z"
   },
   {
    "duration": 35,
    "start_time": "2022-03-28T11:02:30.183Z"
   },
   {
    "duration": 5,
    "start_time": "2022-03-28T11:02:43.961Z"
   },
   {
    "duration": 44,
    "start_time": "2022-03-28T11:02:43.969Z"
   },
   {
    "duration": 4,
    "start_time": "2022-03-28T11:02:44.015Z"
   },
   {
    "duration": 10,
    "start_time": "2022-03-28T11:02:44.021Z"
   },
   {
    "duration": 10,
    "start_time": "2022-03-28T11:02:44.034Z"
   },
   {
    "duration": 7,
    "start_time": "2022-03-28T11:02:44.046Z"
   },
   {
    "duration": 6,
    "start_time": "2022-03-28T11:02:44.074Z"
   },
   {
    "duration": 10,
    "start_time": "2022-03-28T11:02:44.082Z"
   },
   {
    "duration": 15,
    "start_time": "2022-03-28T11:02:44.094Z"
   },
   {
    "duration": 64,
    "start_time": "2022-03-28T11:02:44.111Z"
   },
   {
    "duration": 39,
    "start_time": "2022-03-28T11:02:44.178Z"
   },
   {
    "duration": 33,
    "start_time": "2022-03-28T11:03:33.239Z"
   },
   {
    "duration": 33,
    "start_time": "2022-03-28T11:09:20.346Z"
   },
   {
    "duration": 29,
    "start_time": "2022-03-28T11:22:12.437Z"
   },
   {
    "duration": 1546,
    "start_time": "2022-03-28T12:16:11.199Z"
   },
   {
    "duration": 53,
    "start_time": "2022-03-28T12:16:12.748Z"
   },
   {
    "duration": 4,
    "start_time": "2022-03-28T12:16:12.804Z"
   },
   {
    "duration": 14,
    "start_time": "2022-03-28T12:16:12.813Z"
   },
   {
    "duration": 25,
    "start_time": "2022-03-28T12:16:12.831Z"
   },
   {
    "duration": 30,
    "start_time": "2022-03-28T12:16:12.859Z"
   },
   {
    "duration": 9,
    "start_time": "2022-03-28T12:16:12.892Z"
   },
   {
    "duration": 10,
    "start_time": "2022-03-28T12:16:12.904Z"
   },
   {
    "duration": 24,
    "start_time": "2022-03-28T12:16:12.916Z"
   },
   {
    "duration": 59,
    "start_time": "2022-03-28T12:16:12.943Z"
   },
   {
    "duration": 35,
    "start_time": "2022-03-28T12:16:13.004Z"
   },
   {
    "duration": 176,
    "start_time": "2022-03-28T12:41:13.659Z"
   },
   {
    "duration": 106,
    "start_time": "2022-03-28T12:41:23.385Z"
   },
   {
    "duration": 5,
    "start_time": "2022-03-28T12:41:41.819Z"
   },
   {
    "duration": 54,
    "start_time": "2022-03-28T12:41:41.826Z"
   },
   {
    "duration": 3,
    "start_time": "2022-03-28T12:41:41.882Z"
   },
   {
    "duration": 11,
    "start_time": "2022-03-28T12:41:41.887Z"
   },
   {
    "duration": 12,
    "start_time": "2022-03-28T12:41:41.901Z"
   },
   {
    "duration": 13,
    "start_time": "2022-03-28T12:41:41.916Z"
   },
   {
    "duration": 13,
    "start_time": "2022-03-28T12:41:41.932Z"
   },
   {
    "duration": 11,
    "start_time": "2022-03-28T12:41:41.947Z"
   },
   {
    "duration": 34,
    "start_time": "2022-03-28T12:41:41.960Z"
   },
   {
    "duration": 27,
    "start_time": "2022-03-28T12:41:41.996Z"
   },
   {
    "duration": 63,
    "start_time": "2022-03-28T12:41:42.026Z"
   },
   {
    "duration": 97,
    "start_time": "2022-03-28T12:41:42.092Z"
   },
   {
    "duration": 5,
    "start_time": "2022-03-28T12:44:05.089Z"
   },
   {
    "duration": 95,
    "start_time": "2022-03-28T12:44:05.097Z"
   },
   {
    "duration": 4,
    "start_time": "2022-03-28T12:44:05.194Z"
   },
   {
    "duration": 20,
    "start_time": "2022-03-28T12:44:05.200Z"
   },
   {
    "duration": 30,
    "start_time": "2022-03-28T12:44:05.223Z"
   },
   {
    "duration": 8,
    "start_time": "2022-03-28T12:44:05.256Z"
   },
   {
    "duration": 38,
    "start_time": "2022-03-28T12:44:05.266Z"
   },
   {
    "duration": 22,
    "start_time": "2022-03-28T12:44:05.307Z"
   },
   {
    "duration": 23,
    "start_time": "2022-03-28T12:44:05.333Z"
   },
   {
    "duration": 34,
    "start_time": "2022-03-28T12:44:05.358Z"
   },
   {
    "duration": 34,
    "start_time": "2022-03-28T12:44:05.395Z"
   },
   {
    "duration": 153,
    "start_time": "2022-03-28T12:44:05.432Z"
   },
   {
    "duration": 98,
    "start_time": "2022-03-28T12:44:05.589Z"
   },
   {
    "duration": 10,
    "start_time": "2022-03-28T12:45:03.400Z"
   },
   {
    "duration": 7,
    "start_time": "2022-03-28T12:53:44.161Z"
   },
   {
    "duration": 56,
    "start_time": "2022-03-28T12:53:44.171Z"
   },
   {
    "duration": 4,
    "start_time": "2022-03-28T12:53:44.230Z"
   },
   {
    "duration": 12,
    "start_time": "2022-03-28T12:53:44.236Z"
   },
   {
    "duration": 17,
    "start_time": "2022-03-28T12:53:44.251Z"
   },
   {
    "duration": 24,
    "start_time": "2022-03-28T12:53:44.270Z"
   },
   {
    "duration": 34,
    "start_time": "2022-03-28T12:53:44.297Z"
   },
   {
    "duration": 27,
    "start_time": "2022-03-28T12:53:44.334Z"
   },
   {
    "duration": 26,
    "start_time": "2022-03-28T12:53:44.364Z"
   },
   {
    "duration": 41,
    "start_time": "2022-03-28T12:53:44.393Z"
   },
   {
    "duration": 38,
    "start_time": "2022-03-28T12:53:44.436Z"
   },
   {
    "duration": 36,
    "start_time": "2022-03-28T12:53:44.483Z"
   },
   {
    "duration": 101,
    "start_time": "2022-03-28T12:53:44.584Z"
   },
   {
    "duration": 20,
    "start_time": "2022-03-28T12:53:44.690Z"
   },
   {
    "duration": 5,
    "start_time": "2022-03-28T12:53:46.317Z"
   },
   {
    "duration": 46,
    "start_time": "2022-03-28T12:53:46.325Z"
   },
   {
    "duration": 14,
    "start_time": "2022-03-28T12:53:46.374Z"
   },
   {
    "duration": 5,
    "start_time": "2022-03-28T12:53:46.393Z"
   },
   {
    "duration": 18,
    "start_time": "2022-03-28T12:53:46.401Z"
   },
   {
    "duration": 9,
    "start_time": "2022-03-28T12:53:46.422Z"
   },
   {
    "duration": 11,
    "start_time": "2022-03-28T12:53:46.434Z"
   },
   {
    "duration": 37,
    "start_time": "2022-03-28T12:53:46.448Z"
   },
   {
    "duration": 18,
    "start_time": "2022-03-28T12:53:46.487Z"
   },
   {
    "duration": 26,
    "start_time": "2022-03-28T12:53:46.509Z"
   },
   {
    "duration": 79,
    "start_time": "2022-03-28T12:53:46.537Z"
   },
   {
    "duration": 168,
    "start_time": "2022-03-28T12:53:46.618Z"
   },
   {
    "duration": 10,
    "start_time": "2022-03-28T12:53:46.789Z"
   },
   {
    "duration": 18,
    "start_time": "2022-03-28T12:53:46.801Z"
   },
   {
    "duration": 5,
    "start_time": "2022-03-28T13:01:11.850Z"
   },
   {
    "duration": 48,
    "start_time": "2022-03-28T15:50:35.204Z"
   },
   {
    "duration": 1281,
    "start_time": "2022-03-28T15:50:46.593Z"
   },
   {
    "duration": 51,
    "start_time": "2022-03-28T15:50:47.877Z"
   },
   {
    "duration": 3,
    "start_time": "2022-03-28T15:50:47.930Z"
   },
   {
    "duration": 6,
    "start_time": "2022-03-28T15:50:47.935Z"
   },
   {
    "duration": 13,
    "start_time": "2022-03-28T15:50:47.942Z"
   },
   {
    "duration": 6,
    "start_time": "2022-03-28T15:50:47.957Z"
   },
   {
    "duration": 5,
    "start_time": "2022-03-28T15:50:47.965Z"
   },
   {
    "duration": 33,
    "start_time": "2022-03-28T15:50:47.971Z"
   },
   {
    "duration": 12,
    "start_time": "2022-03-28T15:50:48.006Z"
   },
   {
    "duration": 17,
    "start_time": "2022-03-28T15:50:48.021Z"
   },
   {
    "duration": 20,
    "start_time": "2022-03-28T15:50:48.040Z"
   },
   {
    "duration": 52,
    "start_time": "2022-03-28T15:50:48.061Z"
   },
   {
    "duration": 94,
    "start_time": "2022-03-28T15:50:48.115Z"
   },
   {
    "duration": 7,
    "start_time": "2022-03-28T15:50:48.301Z"
   },
   {
    "duration": 815,
    "start_time": "2022-03-28T15:50:48.309Z"
   },
   {
    "duration": 787,
    "start_time": "2022-03-28T15:51:10.161Z"
   },
   {
    "duration": 4,
    "start_time": "2022-03-28T15:51:25.763Z"
   },
   {
    "duration": 37,
    "start_time": "2022-03-28T15:51:25.770Z"
   },
   {
    "duration": 3,
    "start_time": "2022-03-28T15:51:25.809Z"
   },
   {
    "duration": 5,
    "start_time": "2022-03-28T15:51:25.813Z"
   },
   {
    "duration": 8,
    "start_time": "2022-03-28T15:51:25.821Z"
   },
   {
    "duration": 6,
    "start_time": "2022-03-28T15:51:25.831Z"
   },
   {
    "duration": 5,
    "start_time": "2022-03-28T15:51:25.838Z"
   },
   {
    "duration": 6,
    "start_time": "2022-03-28T15:51:25.845Z"
   },
   {
    "duration": 14,
    "start_time": "2022-03-28T15:51:25.852Z"
   },
   {
    "duration": 17,
    "start_time": "2022-03-28T15:51:25.902Z"
   },
   {
    "duration": 18,
    "start_time": "2022-03-28T15:51:25.921Z"
   },
   {
    "duration": 66,
    "start_time": "2022-03-28T15:51:25.940Z"
   },
   {
    "duration": 95,
    "start_time": "2022-03-28T15:51:26.010Z"
   },
   {
    "duration": 5,
    "start_time": "2022-03-28T15:51:26.107Z"
   },
   {
    "duration": 812,
    "start_time": "2022-03-28T15:51:26.113Z"
   },
   {
    "duration": 4,
    "start_time": "2022-03-28T15:53:14.455Z"
   },
   {
    "duration": 53,
    "start_time": "2022-03-28T15:53:14.461Z"
   },
   {
    "duration": 3,
    "start_time": "2022-03-28T15:53:14.516Z"
   },
   {
    "duration": 8,
    "start_time": "2022-03-28T15:53:14.520Z"
   },
   {
    "duration": 9,
    "start_time": "2022-03-28T15:53:14.531Z"
   },
   {
    "duration": 6,
    "start_time": "2022-03-28T15:53:14.541Z"
   },
   {
    "duration": 4,
    "start_time": "2022-03-28T15:53:14.549Z"
   },
   {
    "duration": 6,
    "start_time": "2022-03-28T15:53:14.554Z"
   },
   {
    "duration": 45,
    "start_time": "2022-03-28T15:53:14.561Z"
   },
   {
    "duration": 16,
    "start_time": "2022-03-28T15:53:14.607Z"
   },
   {
    "duration": 20,
    "start_time": "2022-03-28T15:53:14.625Z"
   },
   {
    "duration": 63,
    "start_time": "2022-03-28T15:53:14.646Z"
   },
   {
    "duration": 91,
    "start_time": "2022-03-28T15:53:14.716Z"
   },
   {
    "duration": 6,
    "start_time": "2022-03-28T15:53:14.810Z"
   },
   {
    "duration": 831,
    "start_time": "2022-03-28T15:53:14.818Z"
   },
   {
    "duration": 818,
    "start_time": "2022-03-28T15:53:44.452Z"
   },
   {
    "duration": 723,
    "start_time": "2022-03-28T15:55:32.241Z"
   },
   {
    "duration": 741,
    "start_time": "2022-03-28T15:55:46.701Z"
   },
   {
    "duration": 724,
    "start_time": "2022-03-28T15:56:49.808Z"
   },
   {
    "duration": 3,
    "start_time": "2022-03-28T15:57:08.154Z"
   },
   {
    "duration": 44,
    "start_time": "2022-03-28T15:57:08.159Z"
   },
   {
    "duration": 3,
    "start_time": "2022-03-28T15:57:08.204Z"
   },
   {
    "duration": 12,
    "start_time": "2022-03-28T15:57:08.209Z"
   },
   {
    "duration": 19,
    "start_time": "2022-03-28T15:57:08.223Z"
   },
   {
    "duration": 11,
    "start_time": "2022-03-28T15:57:08.244Z"
   },
   {
    "duration": 17,
    "start_time": "2022-03-28T15:57:08.257Z"
   },
   {
    "duration": 17,
    "start_time": "2022-03-28T15:57:08.276Z"
   },
   {
    "duration": 22,
    "start_time": "2022-03-28T15:57:08.295Z"
   },
   {
    "duration": 25,
    "start_time": "2022-03-28T15:57:08.319Z"
   },
   {
    "duration": 23,
    "start_time": "2022-03-28T15:57:08.346Z"
   },
   {
    "duration": 39,
    "start_time": "2022-03-28T15:57:08.371Z"
   },
   {
    "duration": 99,
    "start_time": "2022-03-28T15:57:08.502Z"
   },
   {
    "duration": 8,
    "start_time": "2022-03-28T15:57:08.604Z"
   },
   {
    "duration": 737,
    "start_time": "2022-03-28T15:57:08.613Z"
   },
   {
    "duration": 737,
    "start_time": "2022-03-28T15:58:45.898Z"
   },
   {
    "duration": 6,
    "start_time": "2022-03-28T15:59:15.731Z"
   },
   {
    "duration": 13,
    "start_time": "2022-03-28T16:01:40.330Z"
   },
   {
    "duration": 22,
    "start_time": "2022-03-28T16:03:54.911Z"
   },
   {
    "duration": 9,
    "start_time": "2022-03-28T16:04:14.695Z"
   },
   {
    "duration": 4,
    "start_time": "2022-03-28T16:04:17.520Z"
   },
   {
    "duration": 37,
    "start_time": "2022-03-28T16:04:17.526Z"
   },
   {
    "duration": 3,
    "start_time": "2022-03-28T16:04:17.564Z"
   },
   {
    "duration": 5,
    "start_time": "2022-03-28T16:04:17.569Z"
   },
   {
    "duration": 9,
    "start_time": "2022-03-28T16:04:17.575Z"
   },
   {
    "duration": 5,
    "start_time": "2022-03-28T16:04:17.586Z"
   },
   {
    "duration": 9,
    "start_time": "2022-03-28T16:04:17.593Z"
   },
   {
    "duration": 4,
    "start_time": "2022-03-28T16:04:17.603Z"
   },
   {
    "duration": 14,
    "start_time": "2022-03-28T16:04:17.609Z"
   },
   {
    "duration": 17,
    "start_time": "2022-03-28T16:04:17.625Z"
   },
   {
    "duration": 20,
    "start_time": "2022-03-28T16:04:17.643Z"
   },
   {
    "duration": 146,
    "start_time": "2022-03-28T16:04:17.665Z"
   },
   {
    "duration": 91,
    "start_time": "2022-03-28T16:04:17.813Z"
   },
   {
    "duration": 6,
    "start_time": "2022-03-28T16:04:17.906Z"
   },
   {
    "duration": 794,
    "start_time": "2022-03-28T16:04:17.914Z"
   },
   {
    "duration": 15,
    "start_time": "2022-03-28T16:04:18.709Z"
   },
   {
    "duration": 16,
    "start_time": "2022-03-28T16:06:29.210Z"
   },
   {
    "duration": 5,
    "start_time": "2022-03-28T16:07:18.635Z"
   },
   {
    "duration": 41,
    "start_time": "2022-03-28T16:07:18.642Z"
   },
   {
    "duration": 3,
    "start_time": "2022-03-28T16:07:18.685Z"
   },
   {
    "duration": 8,
    "start_time": "2022-03-28T16:07:18.690Z"
   },
   {
    "duration": 11,
    "start_time": "2022-03-28T16:07:18.701Z"
   },
   {
    "duration": 5,
    "start_time": "2022-03-28T16:07:18.714Z"
   },
   {
    "duration": 5,
    "start_time": "2022-03-28T16:07:18.721Z"
   },
   {
    "duration": 4,
    "start_time": "2022-03-28T16:07:18.728Z"
   },
   {
    "duration": 11,
    "start_time": "2022-03-28T16:07:18.734Z"
   },
   {
    "duration": 16,
    "start_time": "2022-03-28T16:07:18.747Z"
   },
   {
    "duration": 52,
    "start_time": "2022-03-28T16:07:18.765Z"
   },
   {
    "duration": 88,
    "start_time": "2022-03-28T16:07:18.819Z"
   },
   {
    "duration": 103,
    "start_time": "2022-03-28T16:07:18.909Z"
   },
   {
    "duration": 824,
    "start_time": "2022-03-28T16:07:19.015Z"
   },
   {
    "duration": 15,
    "start_time": "2022-03-28T16:07:19.840Z"
   },
   {
    "duration": 739,
    "start_time": "2022-03-28T16:10:06.983Z"
   },
   {
    "duration": 3,
    "start_time": "2022-03-28T16:14:56.556Z"
   },
   {
    "duration": 62,
    "start_time": "2022-03-28T16:14:56.561Z"
   },
   {
    "duration": 3,
    "start_time": "2022-03-28T16:14:56.625Z"
   },
   {
    "duration": 8,
    "start_time": "2022-03-28T16:14:56.629Z"
   },
   {
    "duration": 25,
    "start_time": "2022-03-28T16:14:56.639Z"
   },
   {
    "duration": 9,
    "start_time": "2022-03-28T16:14:56.666Z"
   },
   {
    "duration": 16,
    "start_time": "2022-03-28T16:14:56.677Z"
   },
   {
    "duration": 11,
    "start_time": "2022-03-28T16:14:56.694Z"
   },
   {
    "duration": 25,
    "start_time": "2022-03-28T16:14:56.706Z"
   },
   {
    "duration": 21,
    "start_time": "2022-03-28T16:14:56.733Z"
   },
   {
    "duration": 33,
    "start_time": "2022-03-28T16:14:56.756Z"
   },
   {
    "duration": 28,
    "start_time": "2022-03-28T16:14:56.791Z"
   },
   {
    "duration": 188,
    "start_time": "2022-03-28T16:14:56.821Z"
   },
   {
    "duration": 751,
    "start_time": "2022-03-28T16:14:57.010Z"
   },
   {
    "duration": 12,
    "start_time": "2022-03-28T16:14:57.764Z"
   },
   {
    "duration": 93933,
    "start_time": "2022-03-28T16:14:57.801Z"
   },
   {
    "duration": 14,
    "start_time": "2022-03-28T16:17:48.140Z"
   },
   {
    "duration": 4,
    "start_time": "2022-03-28T16:17:59.651Z"
   },
   {
    "duration": 52,
    "start_time": "2022-03-28T16:17:59.657Z"
   },
   {
    "duration": 3,
    "start_time": "2022-03-28T16:17:59.711Z"
   },
   {
    "duration": 6,
    "start_time": "2022-03-28T16:17:59.715Z"
   },
   {
    "duration": 8,
    "start_time": "2022-03-28T16:17:59.723Z"
   },
   {
    "duration": 5,
    "start_time": "2022-03-28T16:17:59.733Z"
   },
   {
    "duration": 4,
    "start_time": "2022-03-28T16:17:59.740Z"
   },
   {
    "duration": 5,
    "start_time": "2022-03-28T16:17:59.745Z"
   },
   {
    "duration": 13,
    "start_time": "2022-03-28T16:17:59.751Z"
   },
   {
    "duration": 46,
    "start_time": "2022-03-28T16:17:59.766Z"
   },
   {
    "duration": 20,
    "start_time": "2022-03-28T16:17:59.814Z"
   },
   {
    "duration": 65,
    "start_time": "2022-03-28T16:17:59.836Z"
   },
   {
    "duration": 107,
    "start_time": "2022-03-28T16:17:59.903Z"
   },
   {
    "duration": 762,
    "start_time": "2022-03-28T16:18:00.012Z"
   },
   {
    "duration": 28,
    "start_time": "2022-03-28T16:18:00.775Z"
   },
   {
    "duration": 92320,
    "start_time": "2022-03-28T16:18:00.804Z"
   },
   {
    "duration": 14,
    "start_time": "2022-03-28T16:19:33.126Z"
   },
   {
    "duration": 73,
    "start_time": "2022-03-29T08:33:31.760Z"
   },
   {
    "duration": 1877,
    "start_time": "2022-03-29T08:33:35.421Z"
   },
   {
    "duration": 58,
    "start_time": "2022-03-29T08:33:37.301Z"
   },
   {
    "duration": 7,
    "start_time": "2022-03-29T08:33:37.362Z"
   },
   {
    "duration": 7,
    "start_time": "2022-03-29T08:33:37.371Z"
   },
   {
    "duration": 19,
    "start_time": "2022-03-29T08:33:37.381Z"
   },
   {
    "duration": 8,
    "start_time": "2022-03-29T08:33:37.402Z"
   },
   {
    "duration": 7,
    "start_time": "2022-03-29T08:33:37.412Z"
   },
   {
    "duration": 51,
    "start_time": "2022-03-29T08:33:37.421Z"
   },
   {
    "duration": 21,
    "start_time": "2022-03-29T08:33:37.474Z"
   },
   {
    "duration": 29,
    "start_time": "2022-03-29T08:33:37.498Z"
   },
   {
    "duration": 63,
    "start_time": "2022-03-29T08:33:37.529Z"
   },
   {
    "duration": 75,
    "start_time": "2022-03-29T08:33:37.594Z"
   },
   {
    "duration": 110,
    "start_time": "2022-03-29T08:33:37.672Z"
   },
   {
    "duration": 1087,
    "start_time": "2022-03-29T08:33:37.786Z"
   },
   {
    "duration": 26,
    "start_time": "2022-03-29T08:33:38.876Z"
   },
   {
    "duration": 152851,
    "start_time": "2022-03-29T08:33:38.905Z"
   },
   {
    "duration": 28,
    "start_time": "2022-03-29T08:36:11.758Z"
   },
   {
    "duration": 89,
    "start_time": "2022-03-29T08:36:11.788Z"
   },
   {
    "duration": 1077,
    "start_time": "2022-03-29T08:38:47.143Z"
   },
   {
    "duration": 5,
    "start_time": "2022-03-29T08:48:21.699Z"
   },
   {
    "duration": 48,
    "start_time": "2022-03-29T08:48:21.706Z"
   },
   {
    "duration": 4,
    "start_time": "2022-03-29T08:48:21.757Z"
   },
   {
    "duration": 5,
    "start_time": "2022-03-29T08:48:21.764Z"
   },
   {
    "duration": 12,
    "start_time": "2022-03-29T08:48:21.773Z"
   },
   {
    "duration": 7,
    "start_time": "2022-03-29T08:48:21.788Z"
   },
   {
    "duration": 11,
    "start_time": "2022-03-29T08:48:21.797Z"
   },
   {
    "duration": 9,
    "start_time": "2022-03-29T08:48:21.810Z"
   },
   {
    "duration": 52,
    "start_time": "2022-03-29T08:48:21.822Z"
   },
   {
    "duration": 26,
    "start_time": "2022-03-29T08:48:21.877Z"
   },
   {
    "duration": 74,
    "start_time": "2022-03-29T08:48:21.906Z"
   },
   {
    "duration": 186,
    "start_time": "2022-03-29T08:48:21.982Z"
   },
   {
    "duration": 23,
    "start_time": "2022-03-29T08:48:22.171Z"
   },
   {
    "duration": 1115,
    "start_time": "2022-03-29T08:48:22.197Z"
   },
   {
    "duration": 21,
    "start_time": "2022-03-29T08:48:23.314Z"
   },
   {
    "duration": 137869,
    "start_time": "2022-03-29T08:48:23.337Z"
   },
   {
    "duration": 19,
    "start_time": "2022-03-29T08:50:41.209Z"
   },
   {
    "duration": 66,
    "start_time": "2022-03-29T08:50:41.231Z"
   },
   {
    "duration": 1212,
    "start_time": "2022-03-29T08:50:41.368Z"
   },
   {
    "duration": 138114,
    "start_time": "2022-03-29T08:50:42.583Z"
   },
   {
    "duration": 31,
    "start_time": "2022-03-29T09:06:42.758Z"
   },
   {
    "duration": 29,
    "start_time": "2022-03-29T09:07:10.032Z"
   },
   {
    "duration": 6,
    "start_time": "2022-03-29T09:07:19.901Z"
   },
   {
    "duration": 92,
    "start_time": "2022-03-29T09:07:25.584Z"
   },
   {
    "duration": 488,
    "start_time": "2022-03-29T09:12:35.552Z"
   },
   {
    "duration": 67543,
    "start_time": "2022-03-29T09:16:11.396Z"
   },
   {
    "duration": 6,
    "start_time": "2022-03-29T09:17:57.080Z"
   },
   {
    "duration": 58,
    "start_time": "2022-03-29T09:17:57.089Z"
   },
   {
    "duration": 4,
    "start_time": "2022-03-29T09:17:57.149Z"
   },
   {
    "duration": 19,
    "start_time": "2022-03-29T09:17:57.155Z"
   },
   {
    "duration": 27,
    "start_time": "2022-03-29T09:17:57.178Z"
   },
   {
    "duration": 13,
    "start_time": "2022-03-29T09:17:57.208Z"
   },
   {
    "duration": 34,
    "start_time": "2022-03-29T09:17:57.223Z"
   },
   {
    "duration": 13,
    "start_time": "2022-03-29T09:17:57.260Z"
   },
   {
    "duration": 27,
    "start_time": "2022-03-29T09:17:57.275Z"
   },
   {
    "duration": 28,
    "start_time": "2022-03-29T09:17:57.304Z"
   },
   {
    "duration": 47,
    "start_time": "2022-03-29T09:17:57.335Z"
   },
   {
    "duration": 100,
    "start_time": "2022-03-29T09:17:57.384Z"
   },
   {
    "duration": 20,
    "start_time": "2022-03-29T09:17:57.569Z"
   },
   {
    "duration": 1176,
    "start_time": "2022-03-29T09:17:57.593Z"
   },
   {
    "duration": 22,
    "start_time": "2022-03-29T09:17:58.771Z"
   },
   {
    "duration": 138450,
    "start_time": "2022-03-29T09:17:58.795Z"
   },
   {
    "duration": 34,
    "start_time": "2022-03-29T09:20:17.247Z"
   },
   {
    "duration": 85,
    "start_time": "2022-03-29T09:20:17.283Z"
   },
   {
    "duration": 1207,
    "start_time": "2022-03-29T09:20:17.371Z"
   },
   {
    "duration": 150760,
    "start_time": "2022-03-29T09:20:18.580Z"
   },
   {
    "duration": 128,
    "start_time": "2022-03-29T09:22:49.343Z"
   },
   {
    "duration": 600,
    "start_time": "2022-03-29T09:22:49.474Z"
   },
   {
    "duration": 67371,
    "start_time": "2022-03-29T09:22:50.076Z"
   },
   {
    "duration": 7,
    "start_time": "2022-03-29T09:50:50.958Z"
   },
   {
    "duration": 61,
    "start_time": "2022-03-29T09:50:53.358Z"
   },
   {
    "duration": 4,
    "start_time": "2022-03-29T09:50:57.232Z"
   },
   {
    "duration": 6,
    "start_time": "2022-03-29T09:50:58.389Z"
   },
   {
    "duration": 13,
    "start_time": "2022-03-29T09:50:59.450Z"
   },
   {
    "duration": 8,
    "start_time": "2022-03-29T09:51:04.316Z"
   },
   {
    "duration": 7,
    "start_time": "2022-03-29T09:51:04.793Z"
   },
   {
    "duration": 5,
    "start_time": "2022-03-29T09:51:05.777Z"
   },
   {
    "duration": 14,
    "start_time": "2022-03-29T09:51:07.163Z"
   },
   {
    "duration": 34,
    "start_time": "2022-03-29T09:51:08.453Z"
   },
   {
    "duration": 34,
    "start_time": "2022-03-29T09:51:11.368Z"
   },
   {
    "duration": 279,
    "start_time": "2022-03-29T09:51:25.701Z"
   },
   {
    "duration": 70,
    "start_time": "2022-03-29T10:01:43.928Z"
   },
   {
    "duration": 1498,
    "start_time": "2022-03-29T10:01:56.103Z"
   },
   {
    "duration": 93,
    "start_time": "2022-03-29T10:02:01.165Z"
   },
   {
    "duration": 5,
    "start_time": "2022-03-29T10:02:11.756Z"
   },
   {
    "duration": 51,
    "start_time": "2022-03-29T10:02:12.298Z"
   },
   {
    "duration": 4,
    "start_time": "2022-03-29T10:02:12.823Z"
   },
   {
    "duration": 4,
    "start_time": "2022-03-29T10:02:14.098Z"
   },
   {
    "duration": 20,
    "start_time": "2022-03-29T10:02:15.144Z"
   },
   {
    "duration": 7,
    "start_time": "2022-03-29T10:02:16.242Z"
   },
   {
    "duration": 8,
    "start_time": "2022-03-29T10:02:16.766Z"
   },
   {
    "duration": 6,
    "start_time": "2022-03-29T10:02:17.774Z"
   },
   {
    "duration": 14,
    "start_time": "2022-03-29T10:02:18.836Z"
   },
   {
    "duration": 27,
    "start_time": "2022-03-29T10:02:20.210Z"
   },
   {
    "duration": 42,
    "start_time": "2022-03-29T10:02:21.372Z"
   },
   {
    "duration": 341,
    "start_time": "2022-03-29T10:02:26.573Z"
   },
   {
    "duration": 5,
    "start_time": "2022-03-29T10:10:14.276Z"
   },
   {
    "duration": 85,
    "start_time": "2022-03-29T10:14:40.791Z"
   },
   {
    "duration": 6,
    "start_time": "2022-03-29T10:15:11.723Z"
   },
   {
    "duration": 46,
    "start_time": "2022-03-29T10:15:12.565Z"
   },
   {
    "duration": 4,
    "start_time": "2022-03-29T10:15:13.849Z"
   },
   {
    "duration": 4,
    "start_time": "2022-03-29T10:15:15.133Z"
   },
   {
    "duration": 11,
    "start_time": "2022-03-29T10:15:16.181Z"
   },
   {
    "duration": 8,
    "start_time": "2022-03-29T10:15:17.257Z"
   },
   {
    "duration": 6,
    "start_time": "2022-03-29T10:15:17.761Z"
   },
   {
    "duration": 6,
    "start_time": "2022-03-29T10:15:18.731Z"
   },
   {
    "duration": 14,
    "start_time": "2022-03-29T10:15:19.828Z"
   },
   {
    "duration": 24,
    "start_time": "2022-03-29T10:15:21.150Z"
   },
   {
    "duration": 29,
    "start_time": "2022-03-29T10:15:22.306Z"
   },
   {
    "duration": 89,
    "start_time": "2022-03-29T10:15:46.790Z"
   },
   {
    "duration": 574,
    "start_time": "2022-03-29T10:16:10.931Z"
   },
   {
    "duration": 48,
    "start_time": "2022-03-29T10:16:11.508Z"
   },
   {
    "duration": 4,
    "start_time": "2022-03-29T10:16:11.934Z"
   },
   {
    "duration": 5,
    "start_time": "2022-03-29T10:16:13.097Z"
   },
   {
    "duration": 15,
    "start_time": "2022-03-29T10:16:14.179Z"
   },
   {
    "duration": 9,
    "start_time": "2022-03-29T10:16:15.228Z"
   },
   {
    "duration": 6,
    "start_time": "2022-03-29T10:16:15.680Z"
   },
   {
    "duration": 7,
    "start_time": "2022-03-29T10:16:16.679Z"
   },
   {
    "duration": 16,
    "start_time": "2022-03-29T10:16:17.702Z"
   },
   {
    "duration": 24,
    "start_time": "2022-03-29T10:16:18.795Z"
   },
   {
    "duration": 31,
    "start_time": "2022-03-29T10:16:19.713Z"
   },
   {
    "duration": 344,
    "start_time": "2022-03-29T10:16:25.283Z"
   },
   {
    "duration": 378,
    "start_time": "2022-03-29T10:19:32.756Z"
   },
   {
    "duration": 373,
    "start_time": "2022-03-29T10:21:17.048Z"
   },
   {
    "duration": 5,
    "start_time": "2022-03-29T10:35:45.955Z"
   },
   {
    "duration": 44,
    "start_time": "2022-03-29T10:35:46.407Z"
   },
   {
    "duration": 4,
    "start_time": "2022-03-29T10:35:46.916Z"
   },
   {
    "duration": 5,
    "start_time": "2022-03-29T10:35:47.888Z"
   },
   {
    "duration": 11,
    "start_time": "2022-03-29T10:35:48.859Z"
   },
   {
    "duration": 8,
    "start_time": "2022-03-29T10:35:49.803Z"
   },
   {
    "duration": 6,
    "start_time": "2022-03-29T10:35:50.322Z"
   },
   {
    "duration": 6,
    "start_time": "2022-03-29T10:35:51.247Z"
   },
   {
    "duration": 15,
    "start_time": "2022-03-29T10:35:53.789Z"
   },
   {
    "duration": 25,
    "start_time": "2022-03-29T10:35:55.263Z"
   },
   {
    "duration": 29,
    "start_time": "2022-03-29T10:35:55.771Z"
   },
   {
    "duration": 148,
    "start_time": "2022-03-29T10:36:17.011Z"
   },
   {
    "duration": 6,
    "start_time": "2022-03-29T10:37:26.377Z"
   },
   {
    "duration": 51,
    "start_time": "2022-03-29T10:37:26.386Z"
   },
   {
    "duration": 3,
    "start_time": "2022-03-29T10:37:26.439Z"
   },
   {
    "duration": 31,
    "start_time": "2022-03-29T10:37:26.444Z"
   },
   {
    "duration": 14,
    "start_time": "2022-03-29T10:37:26.478Z"
   },
   {
    "duration": 8,
    "start_time": "2022-03-29T10:37:26.494Z"
   },
   {
    "duration": 7,
    "start_time": "2022-03-29T10:37:26.504Z"
   },
   {
    "duration": 55,
    "start_time": "2022-03-29T10:37:26.513Z"
   },
   {
    "duration": 18,
    "start_time": "2022-03-29T10:37:26.570Z"
   },
   {
    "duration": 23,
    "start_time": "2022-03-29T10:37:26.591Z"
   },
   {
    "duration": 71,
    "start_time": "2022-03-29T10:37:26.616Z"
   },
   {
    "duration": 81,
    "start_time": "2022-03-29T10:37:26.690Z"
   },
   {
    "duration": 110,
    "start_time": "2022-03-29T10:37:26.777Z"
   },
   {
    "duration": 1067,
    "start_time": "2022-03-29T10:37:26.890Z"
   },
   {
    "duration": 27,
    "start_time": "2022-03-29T10:37:27.959Z"
   },
   {
    "duration": 132722,
    "start_time": "2022-03-29T10:37:27.988Z"
   },
   {
    "duration": 23,
    "start_time": "2022-03-29T10:39:40.712Z"
   },
   {
    "duration": 34,
    "start_time": "2022-03-29T10:39:40.768Z"
   },
   {
    "duration": 1199,
    "start_time": "2022-03-29T10:39:40.870Z"
   },
   {
    "duration": 132647,
    "start_time": "2022-03-29T10:39:42.071Z"
   },
   {
    "duration": 54,
    "start_time": "2022-03-29T10:41:54.720Z"
   },
   {
    "duration": 567,
    "start_time": "2022-03-29T10:41:54.867Z"
   },
   {
    "duration": 64713,
    "start_time": "2022-03-29T10:41:55.436Z"
   },
   {
    "duration": 317,
    "start_time": "2022-03-29T10:43:00.151Z"
   },
   {
    "duration": 367,
    "start_time": "2022-03-29T10:43:00.470Z"
   },
   {
    "duration": 95,
    "start_time": "2022-03-29T10:43:00.839Z"
   },
   {
    "duration": 85,
    "start_time": "2022-03-29T10:47:56.980Z"
   },
   {
    "duration": 33,
    "start_time": "2022-03-29T10:48:53.761Z"
   },
   {
    "duration": 96,
    "start_time": "2022-03-29T10:49:10.145Z"
   },
   {
    "duration": 244,
    "start_time": "2022-03-29T10:49:26.884Z"
   },
   {
    "duration": 635,
    "start_time": "2022-03-29T11:24:54.845Z"
   },
   {
    "duration": 974,
    "start_time": "2022-03-29T11:25:47.841Z"
   },
   {
    "duration": 959,
    "start_time": "2022-03-29T11:26:26.316Z"
   },
   {
    "duration": 973,
    "start_time": "2022-03-29T11:26:35.178Z"
   },
   {
    "duration": 888,
    "start_time": "2022-03-29T11:26:44.583Z"
   },
   {
    "duration": 686,
    "start_time": "2022-03-29T11:26:49.440Z"
   },
   {
    "duration": 325,
    "start_time": "2022-03-29T11:26:55.015Z"
   },
   {
    "duration": 547,
    "start_time": "2022-03-29T11:26:58.557Z"
   },
   {
    "duration": 828,
    "start_time": "2022-03-29T11:27:02.712Z"
   },
   {
    "duration": 891,
    "start_time": "2022-03-29T11:27:35.205Z"
   },
   {
    "duration": 1151,
    "start_time": "2022-03-29T11:27:39.920Z"
   },
   {
    "duration": 589,
    "start_time": "2022-03-29T11:27:46.065Z"
   },
   {
    "duration": 513,
    "start_time": "2022-03-29T11:27:51.304Z"
   },
   {
    "duration": 419,
    "start_time": "2022-03-29T11:27:57.744Z"
   },
   {
    "duration": 500,
    "start_time": "2022-03-29T11:28:03.675Z"
   },
   {
    "duration": 375,
    "start_time": "2022-03-29T11:30:17.824Z"
   },
   {
    "duration": 499,
    "start_time": "2022-03-29T11:30:25.276Z"
   },
   {
    "duration": 36,
    "start_time": "2022-03-29T11:33:12.347Z"
   },
   {
    "duration": 36,
    "start_time": "2022-03-29T11:34:09.488Z"
   },
   {
    "duration": 49,
    "start_time": "2022-03-29T11:34:16.040Z"
   },
   {
    "duration": 36,
    "start_time": "2022-03-29T11:34:19.763Z"
   },
   {
    "duration": 55,
    "start_time": "2022-03-29T11:34:31.712Z"
   },
   {
    "duration": 51,
    "start_time": "2022-03-29T11:34:35.509Z"
   },
   {
    "duration": 57,
    "start_time": "2022-03-29T11:34:38.783Z"
   },
   {
    "duration": 52,
    "start_time": "2022-03-29T11:34:42.122Z"
   },
   {
    "duration": 49,
    "start_time": "2022-03-29T11:34:47.008Z"
   },
   {
    "duration": 49,
    "start_time": "2022-03-29T11:34:52.457Z"
   },
   {
    "duration": 46,
    "start_time": "2022-03-29T11:34:55.764Z"
   },
   {
    "duration": 43,
    "start_time": "2022-03-29T11:35:03.247Z"
   },
   {
    "duration": 40,
    "start_time": "2022-03-29T11:35:06.608Z"
   },
   {
    "duration": 39,
    "start_time": "2022-03-29T11:35:11.813Z"
   },
   {
    "duration": 36,
    "start_time": "2022-03-29T11:35:15.624Z"
   },
   {
    "duration": 39,
    "start_time": "2022-03-29T11:35:21.070Z"
   },
   {
    "duration": 31,
    "start_time": "2022-03-29T11:35:28.219Z"
   },
   {
    "duration": 6,
    "start_time": "2022-03-29T11:37:34.852Z"
   },
   {
    "duration": 53,
    "start_time": "2022-03-29T11:37:34.862Z"
   },
   {
    "duration": 4,
    "start_time": "2022-03-29T11:37:34.918Z"
   },
   {
    "duration": 5,
    "start_time": "2022-03-29T11:37:34.926Z"
   },
   {
    "duration": 36,
    "start_time": "2022-03-29T11:37:34.933Z"
   },
   {
    "duration": 7,
    "start_time": "2022-03-29T11:37:34.971Z"
   },
   {
    "duration": 6,
    "start_time": "2022-03-29T11:37:34.980Z"
   },
   {
    "duration": 6,
    "start_time": "2022-03-29T11:37:34.988Z"
   },
   {
    "duration": 14,
    "start_time": "2022-03-29T11:37:34.998Z"
   },
   {
    "duration": 66,
    "start_time": "2022-03-29T11:37:35.014Z"
   },
   {
    "duration": 33,
    "start_time": "2022-03-29T11:37:35.082Z"
   },
   {
    "duration": 68,
    "start_time": "2022-03-29T11:37:35.117Z"
   },
   {
    "duration": 114,
    "start_time": "2022-03-29T11:37:35.269Z"
   },
   {
    "duration": 1103,
    "start_time": "2022-03-29T11:37:35.386Z"
   },
   {
    "duration": 20,
    "start_time": "2022-03-29T11:37:36.491Z"
   },
   {
    "duration": 138331,
    "start_time": "2022-03-29T11:37:36.512Z"
   },
   {
    "duration": 38,
    "start_time": "2022-03-29T11:39:54.845Z"
   },
   {
    "duration": 182,
    "start_time": "2022-03-29T11:39:54.885Z"
   },
   {
    "duration": 1122,
    "start_time": "2022-03-29T11:39:55.070Z"
   },
   {
    "duration": 136783,
    "start_time": "2022-03-29T11:39:56.195Z"
   },
   {
    "duration": 99,
    "start_time": "2022-03-29T11:42:12.981Z"
   },
   {
    "duration": 527,
    "start_time": "2022-03-29T11:42:13.167Z"
   },
   {
    "duration": 65696,
    "start_time": "2022-03-29T11:42:13.697Z"
   },
   {
    "duration": 255,
    "start_time": "2022-03-29T11:43:19.397Z"
   },
   {
    "duration": 358,
    "start_time": "2022-03-29T11:43:19.668Z"
   },
   {
    "duration": 513,
    "start_time": "2022-03-29T11:43:20.029Z"
   },
   {
    "duration": 123,
    "start_time": "2022-03-29T11:43:20.545Z"
   },
   {
    "duration": 121,
    "start_time": "2022-03-29T11:43:20.672Z"
   },
   {
    "duration": 52,
    "start_time": "2022-03-29T17:29:35.200Z"
   },
   {
    "duration": 1633,
    "start_time": "2022-03-29T17:30:49.537Z"
   },
   {
    "duration": 38,
    "start_time": "2022-03-29T17:30:51.173Z"
   },
   {
    "duration": 3,
    "start_time": "2022-03-29T17:30:51.212Z"
   },
   {
    "duration": 6,
    "start_time": "2022-03-29T17:30:51.217Z"
   },
   {
    "duration": 22,
    "start_time": "2022-03-29T17:30:51.224Z"
   },
   {
    "duration": 5,
    "start_time": "2022-03-29T17:30:51.248Z"
   },
   {
    "duration": 5,
    "start_time": "2022-03-29T17:30:51.255Z"
   },
   {
    "duration": 5,
    "start_time": "2022-03-29T17:30:51.262Z"
   },
   {
    "duration": 12,
    "start_time": "2022-03-29T17:30:51.268Z"
   },
   {
    "duration": 56,
    "start_time": "2022-03-29T17:30:51.282Z"
   },
   {
    "duration": 22,
    "start_time": "2022-03-29T17:30:51.339Z"
   },
   {
    "duration": 78,
    "start_time": "2022-03-29T17:30:51.363Z"
   },
   {
    "duration": 105,
    "start_time": "2022-03-29T17:30:51.443Z"
   },
   {
    "duration": 771,
    "start_time": "2022-03-29T17:30:51.550Z"
   },
   {
    "duration": 22,
    "start_time": "2022-03-29T17:30:52.323Z"
   },
   {
    "duration": 92754,
    "start_time": "2022-03-29T17:30:52.347Z"
   },
   {
    "duration": 14,
    "start_time": "2022-03-29T17:32:25.103Z"
   },
   {
    "duration": 31,
    "start_time": "2022-03-29T17:33:11.081Z"
   },
   {
    "duration": 92,
    "start_time": "2022-03-29T17:33:14.761Z"
   },
   {
    "duration": 91,
    "start_time": "2022-03-29T17:38:02.051Z"
   },
   {
    "duration": 26,
    "start_time": "2022-03-29T17:38:09.308Z"
   },
   {
    "duration": 288,
    "start_time": "2022-03-29T17:39:50.405Z"
   },
   {
    "duration": 346,
    "start_time": "2022-03-29T17:41:37.928Z"
   },
   {
    "duration": 790,
    "start_time": "2022-03-29T17:46:34.425Z"
   },
   {
    "duration": 1716,
    "start_time": "2022-04-01T12:47:28.572Z"
   },
   {
    "duration": 36,
    "start_time": "2022-04-01T12:47:30.290Z"
   },
   {
    "duration": 3,
    "start_time": "2022-04-01T12:47:30.328Z"
   },
   {
    "duration": 10,
    "start_time": "2022-04-01T12:47:30.332Z"
   },
   {
    "duration": 11,
    "start_time": "2022-04-01T12:47:30.344Z"
   },
   {
    "duration": 5,
    "start_time": "2022-04-01T12:47:30.357Z"
   },
   {
    "duration": 14,
    "start_time": "2022-04-01T12:47:30.363Z"
   },
   {
    "duration": 14,
    "start_time": "2022-04-01T12:47:30.378Z"
   },
   {
    "duration": 19,
    "start_time": "2022-04-01T12:47:30.394Z"
   },
   {
    "duration": 21,
    "start_time": "2022-04-01T12:47:30.414Z"
   },
   {
    "duration": 23,
    "start_time": "2022-04-01T12:47:30.436Z"
   },
   {
    "duration": 57,
    "start_time": "2022-04-01T12:47:30.460Z"
   },
   {
    "duration": 103,
    "start_time": "2022-04-01T12:47:30.520Z"
   },
   {
    "duration": 808,
    "start_time": "2022-04-01T12:47:30.626Z"
   },
   {
    "duration": 16,
    "start_time": "2022-04-01T12:47:31.436Z"
   },
   {
    "duration": 53,
    "start_time": "2022-04-01T12:47:45.431Z"
   },
   {
    "duration": 23,
    "start_time": "2022-04-01T12:50:40.285Z"
   },
   {
    "duration": 95,
    "start_time": "2022-04-01T12:53:58.165Z"
   },
   {
    "duration": 100,
    "start_time": "2022-04-01T12:54:05.855Z"
   },
   {
    "duration": 142,
    "start_time": "2022-04-01T12:56:26.924Z"
   },
   {
    "duration": 35,
    "start_time": "2022-04-01T12:58:20.137Z"
   },
   {
    "duration": 2139,
    "start_time": "2022-04-01T16:54:15.326Z"
   },
   {
    "duration": 53,
    "start_time": "2022-04-01T16:54:17.470Z"
   },
   {
    "duration": 4,
    "start_time": "2022-04-01T16:54:17.525Z"
   },
   {
    "duration": 36,
    "start_time": "2022-04-01T16:54:17.531Z"
   },
   {
    "duration": 29,
    "start_time": "2022-04-01T16:54:17.570Z"
   },
   {
    "duration": 17,
    "start_time": "2022-04-01T16:54:17.601Z"
   },
   {
    "duration": 15,
    "start_time": "2022-04-01T16:54:17.621Z"
   },
   {
    "duration": 11,
    "start_time": "2022-04-01T16:54:17.639Z"
   },
   {
    "duration": 23,
    "start_time": "2022-04-01T16:54:17.653Z"
   },
   {
    "duration": 27,
    "start_time": "2022-04-01T16:54:17.683Z"
   },
   {
    "duration": 70,
    "start_time": "2022-04-01T16:54:17.713Z"
   },
   {
    "duration": 34,
    "start_time": "2022-04-01T16:54:17.786Z"
   },
   {
    "duration": 170,
    "start_time": "2022-04-01T16:54:17.823Z"
   },
   {
    "duration": 1123,
    "start_time": "2022-04-01T16:54:17.997Z"
   },
   {
    "duration": 19,
    "start_time": "2022-04-01T16:54:19.122Z"
   },
   {
    "duration": 144446,
    "start_time": "2022-04-01T16:54:19.143Z"
   },
   {
    "duration": 19,
    "start_time": "2022-04-01T16:56:43.591Z"
   },
   {
    "duration": 6,
    "start_time": "2022-04-01T17:10:03.924Z"
   },
   {
    "duration": 58,
    "start_time": "2022-04-01T17:10:03.933Z"
   },
   {
    "duration": 3,
    "start_time": "2022-04-01T17:10:03.993Z"
   },
   {
    "duration": 10,
    "start_time": "2022-04-01T17:10:03.998Z"
   },
   {
    "duration": 30,
    "start_time": "2022-04-01T17:10:04.012Z"
   },
   {
    "duration": 9,
    "start_time": "2022-04-01T17:10:04.044Z"
   },
   {
    "duration": 30,
    "start_time": "2022-04-01T17:10:04.055Z"
   },
   {
    "duration": 7,
    "start_time": "2022-04-01T17:10:04.088Z"
   },
   {
    "duration": 20,
    "start_time": "2022-04-01T17:10:04.097Z"
   },
   {
    "duration": 25,
    "start_time": "2022-04-01T17:10:04.119Z"
   },
   {
    "duration": 65,
    "start_time": "2022-04-01T17:10:04.146Z"
   },
   {
    "duration": 73,
    "start_time": "2022-04-01T17:10:04.214Z"
   },
   {
    "duration": 20,
    "start_time": "2022-04-01T17:10:04.383Z"
   },
   {
    "duration": 1171,
    "start_time": "2022-04-01T17:10:04.405Z"
   },
   {
    "duration": 24,
    "start_time": "2022-04-01T17:10:05.578Z"
   },
   {
    "duration": 140767,
    "start_time": "2022-04-01T17:10:05.604Z"
   },
   {
    "duration": 29,
    "start_time": "2022-04-01T17:12:26.373Z"
   },
   {
    "duration": 82,
    "start_time": "2022-04-01T17:12:26.404Z"
   },
   {
    "duration": 198,
    "start_time": "2022-04-01T17:12:26.495Z"
   },
   {
    "duration": 188,
    "start_time": "2022-04-01T17:12:26.799Z"
   },
   {
    "duration": 378,
    "start_time": "2022-04-01T17:12:26.990Z"
   },
   {
    "duration": 406,
    "start_time": "2022-04-01T17:12:27.370Z"
   },
   {
    "duration": 45,
    "start_time": "2022-04-01T17:12:27.778Z"
   },
   {
    "duration": 99,
    "start_time": "2022-04-01T17:12:27.825Z"
   },
   {
    "duration": 33,
    "start_time": "2022-04-01T17:12:27.926Z"
   },
   {
    "duration": 162,
    "start_time": "2022-04-01T17:12:27.961Z"
   },
   {
    "duration": 226,
    "start_time": "2022-04-01T17:12:28.125Z"
   },
   {
    "duration": 60,
    "start_time": "2022-04-01T17:12:28.353Z"
   },
   {
    "duration": 0,
    "start_time": "2022-04-01T17:12:28.415Z"
   },
   {
    "duration": 0,
    "start_time": "2022-04-01T17:12:28.417Z"
   },
   {
    "duration": 0,
    "start_time": "2022-04-01T17:12:28.418Z"
   },
   {
    "duration": 0,
    "start_time": "2022-04-01T17:12:28.420Z"
   },
   {
    "duration": 0,
    "start_time": "2022-04-01T17:12:28.421Z"
   },
   {
    "duration": 0,
    "start_time": "2022-04-01T17:12:28.423Z"
   },
   {
    "duration": 0,
    "start_time": "2022-04-01T17:12:28.424Z"
   },
   {
    "duration": 656,
    "start_time": "2022-04-01T17:14:55.057Z"
   },
   {
    "duration": 1502,
    "start_time": "2022-04-01T17:14:55.716Z"
   },
   {
    "duration": 324,
    "start_time": "2022-04-01T17:14:57.220Z"
   },
   {
    "duration": 801,
    "start_time": "2022-04-01T17:14:57.547Z"
   },
   {
    "duration": 1157,
    "start_time": "2022-04-01T17:14:58.351Z"
   },
   {
    "duration": 571,
    "start_time": "2022-04-01T17:14:59.512Z"
   },
   {
    "duration": 105,
    "start_time": "2022-04-01T17:15:00.086Z"
   },
   {
    "duration": 120,
    "start_time": "2022-04-01T17:15:00.194Z"
   },
   {
    "duration": 668,
    "start_time": "2022-04-01T17:16:43.468Z"
   },
   {
    "duration": 53,
    "start_time": "2022-04-01T17:16:52.434Z"
   },
   {
    "duration": 35,
    "start_time": "2022-04-01T17:16:55.274Z"
   },
   {
    "duration": 1062,
    "start_time": "2022-04-01T17:22:25.346Z"
   },
   {
    "duration": 1480,
    "start_time": "2022-04-01T17:22:36.522Z"
   },
   {
    "duration": 1032,
    "start_time": "2022-04-01T17:22:41.609Z"
   },
   {
    "duration": 654,
    "start_time": "2022-04-01T17:22:56.172Z"
   },
   {
    "duration": 1062,
    "start_time": "2022-04-01T17:23:21.174Z"
   },
   {
    "duration": 876,
    "start_time": "2022-04-01T17:23:26.333Z"
   },
   {
    "duration": 967,
    "start_time": "2022-04-01T17:23:29.928Z"
   },
   {
    "duration": 63,
    "start_time": "2022-04-01T17:23:55.489Z"
   },
   {
    "duration": 65,
    "start_time": "2022-04-01T17:23:59.260Z"
   },
   {
    "duration": 59,
    "start_time": "2022-04-01T17:24:02.761Z"
   },
   {
    "duration": 61,
    "start_time": "2022-04-01T17:24:08.615Z"
   },
   {
    "duration": 57,
    "start_time": "2022-04-01T17:24:13.812Z"
   },
   {
    "duration": 55,
    "start_time": "2022-04-01T17:24:18.922Z"
   },
   {
    "duration": 58,
    "start_time": "2022-04-01T17:24:23.252Z"
   },
   {
    "duration": 192,
    "start_time": "2022-04-01T17:25:05.897Z"
   },
   {
    "duration": 204,
    "start_time": "2022-04-01T17:25:09.884Z"
   },
   {
    "duration": 69,
    "start_time": "2022-04-01T17:25:14.146Z"
   },
   {
    "duration": 95,
    "start_time": "2022-04-01T17:25:18.193Z"
   },
   {
    "duration": 60,
    "start_time": "2022-04-01T17:25:21.926Z"
   },
   {
    "duration": 64,
    "start_time": "2022-04-01T17:25:27.222Z"
   },
   {
    "duration": 89,
    "start_time": "2022-04-01T17:25:31.698Z"
   },
   {
    "duration": 48,
    "start_time": "2022-04-01T17:25:38.764Z"
   },
   {
    "duration": 71,
    "start_time": "2022-04-01T17:25:41.916Z"
   },
   {
    "duration": 8,
    "start_time": "2022-04-01T17:26:13.555Z"
   },
   {
    "duration": 48,
    "start_time": "2022-04-01T17:26:13.566Z"
   },
   {
    "duration": 3,
    "start_time": "2022-04-01T17:26:13.616Z"
   },
   {
    "duration": 16,
    "start_time": "2022-04-01T17:26:13.622Z"
   },
   {
    "duration": 13,
    "start_time": "2022-04-01T17:26:13.641Z"
   },
   {
    "duration": 34,
    "start_time": "2022-04-01T17:26:13.656Z"
   },
   {
    "duration": 10,
    "start_time": "2022-04-01T17:26:13.693Z"
   },
   {
    "duration": 19,
    "start_time": "2022-04-01T17:26:13.705Z"
   },
   {
    "duration": 21,
    "start_time": "2022-04-01T17:26:13.726Z"
   },
   {
    "duration": 50,
    "start_time": "2022-04-01T17:26:13.750Z"
   },
   {
    "duration": 46,
    "start_time": "2022-04-01T17:26:13.802Z"
   },
   {
    "duration": 143,
    "start_time": "2022-04-01T17:26:13.852Z"
   },
   {
    "duration": 113,
    "start_time": "2022-04-01T17:26:13.998Z"
   },
   {
    "duration": 1112,
    "start_time": "2022-04-01T17:26:14.115Z"
   },
   {
    "duration": 23,
    "start_time": "2022-04-01T17:26:15.229Z"
   },
   {
    "duration": 169488,
    "start_time": "2022-04-01T17:26:15.285Z"
   },
   {
    "duration": 30,
    "start_time": "2022-04-01T17:29:04.785Z"
   },
   {
    "duration": 267,
    "start_time": "2022-04-01T17:29:04.818Z"
   },
   {
    "duration": 109,
    "start_time": "2022-04-01T17:29:05.088Z"
   },
   {
    "duration": 109,
    "start_time": "2022-04-01T17:29:05.286Z"
   },
   {
    "duration": 371,
    "start_time": "2022-04-01T17:29:05.398Z"
   },
   {
    "duration": 375,
    "start_time": "2022-04-01T17:29:05.784Z"
   },
   {
    "duration": 54,
    "start_time": "2022-04-01T17:29:06.161Z"
   },
   {
    "duration": 80,
    "start_time": "2022-04-01T17:29:06.218Z"
   },
   {
    "duration": 36,
    "start_time": "2022-04-01T17:29:06.301Z"
   },
   {
    "duration": 177,
    "start_time": "2022-04-01T17:29:06.340Z"
   },
   {
    "duration": 228,
    "start_time": "2022-04-01T17:29:06.520Z"
   },
   {
    "duration": 670,
    "start_time": "2022-04-01T17:29:06.751Z"
   },
   {
    "duration": 964,
    "start_time": "2022-04-01T17:29:07.425Z"
   },
   {
    "duration": 323,
    "start_time": "2022-04-01T17:29:08.391Z"
   },
   {
    "duration": 860,
    "start_time": "2022-04-01T17:29:08.717Z"
   },
   {
    "duration": 870,
    "start_time": "2022-04-01T17:29:09.584Z"
   },
   {
    "duration": 669,
    "start_time": "2022-04-01T17:29:10.457Z"
   },
   {
    "duration": 161,
    "start_time": "2022-04-01T17:29:11.129Z"
   },
   {
    "duration": 110,
    "start_time": "2022-04-01T17:29:11.294Z"
   },
   {
    "duration": 2485,
    "start_time": "2022-04-01T19:20:09.991Z"
   },
   {
    "duration": 173,
    "start_time": "2022-04-01T19:25:42.344Z"
   },
   {
    "duration": 6,
    "start_time": "2022-04-01T19:27:05.970Z"
   },
   {
    "duration": 59,
    "start_time": "2022-04-01T19:27:05.978Z"
   },
   {
    "duration": 3,
    "start_time": "2022-04-01T19:27:06.039Z"
   },
   {
    "duration": 8,
    "start_time": "2022-04-01T19:27:06.045Z"
   },
   {
    "duration": 16,
    "start_time": "2022-04-01T19:27:06.057Z"
   },
   {
    "duration": 12,
    "start_time": "2022-04-01T19:27:06.076Z"
   },
   {
    "duration": 10,
    "start_time": "2022-04-01T19:27:06.090Z"
   },
   {
    "duration": 9,
    "start_time": "2022-04-01T19:27:06.102Z"
   },
   {
    "duration": 25,
    "start_time": "2022-04-01T19:27:06.113Z"
   },
   {
    "duration": 49,
    "start_time": "2022-04-01T19:27:06.140Z"
   },
   {
    "duration": 32,
    "start_time": "2022-04-01T19:27:06.191Z"
   },
   {
    "duration": 68,
    "start_time": "2022-04-01T19:27:06.225Z"
   },
   {
    "duration": 109,
    "start_time": "2022-04-01T19:27:06.297Z"
   },
   {
    "duration": 4,
    "start_time": "2022-04-01T19:27:06.409Z"
   },
   {
    "duration": 90,
    "start_time": "2022-04-01T19:27:06.415Z"
   },
   {
    "duration": 26,
    "start_time": "2022-04-01T19:27:51.410Z"
   },
   {
    "duration": 24,
    "start_time": "2022-04-01T19:27:53.905Z"
   },
   {
    "duration": 24,
    "start_time": "2022-04-01T19:28:02.824Z"
   },
   {
    "duration": 6,
    "start_time": "2022-04-01T19:28:15.185Z"
   },
   {
    "duration": 45,
    "start_time": "2022-04-01T19:28:15.193Z"
   },
   {
    "duration": 4,
    "start_time": "2022-04-01T19:28:15.240Z"
   },
   {
    "duration": 11,
    "start_time": "2022-04-01T19:28:15.246Z"
   },
   {
    "duration": 32,
    "start_time": "2022-04-01T19:28:15.260Z"
   },
   {
    "duration": 8,
    "start_time": "2022-04-01T19:28:15.294Z"
   },
   {
    "duration": 7,
    "start_time": "2022-04-01T19:28:15.304Z"
   },
   {
    "duration": 6,
    "start_time": "2022-04-01T19:28:15.313Z"
   },
   {
    "duration": 16,
    "start_time": "2022-04-01T19:28:15.321Z"
   },
   {
    "duration": 64,
    "start_time": "2022-04-01T19:28:15.340Z"
   },
   {
    "duration": 31,
    "start_time": "2022-04-01T19:28:15.406Z"
   },
   {
    "duration": 81,
    "start_time": "2022-04-01T19:28:15.440Z"
   },
   {
    "duration": 112,
    "start_time": "2022-04-01T19:28:15.588Z"
   },
   {
    "duration": 4,
    "start_time": "2022-04-01T19:28:15.702Z"
   },
   {
    "duration": 30,
    "start_time": "2022-04-01T19:28:15.708Z"
   },
   {
    "duration": 8,
    "start_time": "2022-04-01T19:28:56.130Z"
   },
   {
    "duration": 49,
    "start_time": "2022-04-01T19:28:56.143Z"
   },
   {
    "duration": 4,
    "start_time": "2022-04-01T19:28:56.194Z"
   },
   {
    "duration": 7,
    "start_time": "2022-04-01T19:28:56.201Z"
   },
   {
    "duration": 15,
    "start_time": "2022-04-01T19:28:56.213Z"
   },
   {
    "duration": 56,
    "start_time": "2022-04-01T19:28:56.231Z"
   },
   {
    "duration": 8,
    "start_time": "2022-04-01T19:28:56.289Z"
   },
   {
    "duration": 7,
    "start_time": "2022-04-01T19:28:56.299Z"
   },
   {
    "duration": 18,
    "start_time": "2022-04-01T19:28:56.308Z"
   },
   {
    "duration": 67,
    "start_time": "2022-04-01T19:28:56.328Z"
   },
   {
    "duration": 44,
    "start_time": "2022-04-01T19:28:56.397Z"
   },
   {
    "duration": 139,
    "start_time": "2022-04-01T19:28:56.444Z"
   },
   {
    "duration": 118,
    "start_time": "2022-04-01T19:28:56.586Z"
   },
   {
    "duration": 5,
    "start_time": "2022-04-01T19:28:56.711Z"
   },
   {
    "duration": 26,
    "start_time": "2022-04-01T19:28:56.718Z"
   },
   {
    "duration": 0,
    "start_time": "2022-04-01T19:28:56.747Z"
   },
   {
    "duration": 0,
    "start_time": "2022-04-01T19:28:56.783Z"
   },
   {
    "duration": 0,
    "start_time": "2022-04-01T19:28:56.785Z"
   },
   {
    "duration": 0,
    "start_time": "2022-04-01T19:28:56.787Z"
   },
   {
    "duration": 0,
    "start_time": "2022-04-01T19:28:56.788Z"
   },
   {
    "duration": 0,
    "start_time": "2022-04-01T19:28:56.789Z"
   },
   {
    "duration": 0,
    "start_time": "2022-04-01T19:28:56.790Z"
   },
   {
    "duration": 0,
    "start_time": "2022-04-01T19:28:56.792Z"
   },
   {
    "duration": 0,
    "start_time": "2022-04-01T19:28:56.793Z"
   },
   {
    "duration": 0,
    "start_time": "2022-04-01T19:28:56.794Z"
   },
   {
    "duration": 0,
    "start_time": "2022-04-01T19:28:56.796Z"
   },
   {
    "duration": 0,
    "start_time": "2022-04-01T19:28:56.797Z"
   },
   {
    "duration": 0,
    "start_time": "2022-04-01T19:28:56.799Z"
   },
   {
    "duration": 0,
    "start_time": "2022-04-01T19:28:56.800Z"
   },
   {
    "duration": 0,
    "start_time": "2022-04-01T19:28:56.801Z"
   },
   {
    "duration": 0,
    "start_time": "2022-04-01T19:28:56.803Z"
   },
   {
    "duration": 0,
    "start_time": "2022-04-01T19:28:56.804Z"
   },
   {
    "duration": 0,
    "start_time": "2022-04-01T19:28:56.806Z"
   },
   {
    "duration": 0,
    "start_time": "2022-04-01T19:28:56.807Z"
   },
   {
    "duration": 0,
    "start_time": "2022-04-01T19:28:56.808Z"
   },
   {
    "duration": 0,
    "start_time": "2022-04-01T19:28:56.809Z"
   },
   {
    "duration": 473,
    "start_time": "2022-04-01T19:29:40.181Z"
   },
   {
    "duration": 261,
    "start_time": "2022-04-01T19:30:17.242Z"
   },
   {
    "duration": 481,
    "start_time": "2022-04-01T19:30:22.568Z"
   },
   {
    "duration": 22,
    "start_time": "2022-04-01T19:30:49.352Z"
   },
   {
    "duration": 108,
    "start_time": "2022-04-01T19:47:12.840Z"
   },
   {
    "duration": 52505,
    "start_time": "2022-04-01T19:47:26.563Z"
   },
   {
    "duration": 58,
    "start_time": "2022-04-01T19:49:58.831Z"
   },
   {
    "duration": 38,
    "start_time": "2022-04-01T19:50:08.850Z"
   },
   {
    "duration": 9,
    "start_time": "2022-04-01T19:50:28.865Z"
   },
   {
    "duration": 48,
    "start_time": "2022-04-01T19:50:28.877Z"
   },
   {
    "duration": 3,
    "start_time": "2022-04-01T19:50:28.927Z"
   },
   {
    "duration": 7,
    "start_time": "2022-04-01T19:50:28.933Z"
   },
   {
    "duration": 39,
    "start_time": "2022-04-01T19:50:28.944Z"
   },
   {
    "duration": 8,
    "start_time": "2022-04-01T19:50:28.985Z"
   },
   {
    "duration": 7,
    "start_time": "2022-04-01T19:50:28.996Z"
   },
   {
    "duration": 12,
    "start_time": "2022-04-01T19:50:29.005Z"
   },
   {
    "duration": 21,
    "start_time": "2022-04-01T19:50:29.020Z"
   },
   {
    "duration": 60,
    "start_time": "2022-04-01T19:50:29.044Z"
   },
   {
    "duration": 38,
    "start_time": "2022-04-01T19:50:29.107Z"
   },
   {
    "duration": 138,
    "start_time": "2022-04-01T19:50:29.148Z"
   },
   {
    "duration": 4,
    "start_time": "2022-04-01T19:50:29.290Z"
   },
   {
    "duration": 661,
    "start_time": "2022-04-01T19:50:29.385Z"
   },
   {
    "duration": 3,
    "start_time": "2022-04-01T19:50:30.049Z"
   },
   {
    "duration": 52883,
    "start_time": "2022-04-01T19:50:30.054Z"
   },
   {
    "duration": 79,
    "start_time": "2022-04-01T19:53:03.207Z"
   },
   {
    "duration": 69,
    "start_time": "2022-04-01T19:53:11.314Z"
   },
   {
    "duration": 44,
    "start_time": "2022-04-01T19:53:15.314Z"
   },
   {
    "duration": 75,
    "start_time": "2022-04-01T19:53:36.812Z"
   },
   {
    "duration": 103,
    "start_time": "2022-04-01T19:53:44.886Z"
   },
   {
    "duration": 294,
    "start_time": "2022-04-01T19:54:12.076Z"
   },
   {
    "duration": 318,
    "start_time": "2022-04-01T19:54:18.668Z"
   },
   {
    "duration": 332,
    "start_time": "2022-04-01T19:54:46.415Z"
   },
   {
    "duration": 256,
    "start_time": "2022-04-01T19:54:59.014Z"
   },
   {
    "duration": 371,
    "start_time": "2022-04-01T19:55:13.780Z"
   },
   {
    "duration": 488,
    "start_time": "2022-04-01T19:58:48.195Z"
   },
   {
    "duration": 6,
    "start_time": "2022-04-01T19:59:50.450Z"
   },
   {
    "duration": 63,
    "start_time": "2022-04-01T19:59:50.459Z"
   },
   {
    "duration": 3,
    "start_time": "2022-04-01T19:59:50.524Z"
   },
   {
    "duration": 22,
    "start_time": "2022-04-01T19:59:50.530Z"
   },
   {
    "duration": 30,
    "start_time": "2022-04-01T19:59:50.554Z"
   },
   {
    "duration": 19,
    "start_time": "2022-04-01T19:59:50.586Z"
   },
   {
    "duration": 24,
    "start_time": "2022-04-01T19:59:50.607Z"
   },
   {
    "duration": 22,
    "start_time": "2022-04-01T19:59:50.634Z"
   },
   {
    "duration": 20,
    "start_time": "2022-04-01T19:59:50.661Z"
   },
   {
    "duration": 30,
    "start_time": "2022-04-01T19:59:50.683Z"
   },
   {
    "duration": 30,
    "start_time": "2022-04-01T19:59:50.715Z"
   },
   {
    "duration": 237,
    "start_time": "2022-04-01T19:59:50.747Z"
   },
   {
    "duration": 4,
    "start_time": "2022-04-01T19:59:50.986Z"
   },
   {
    "duration": 492,
    "start_time": "2022-04-01T19:59:50.992Z"
   },
   {
    "duration": 4,
    "start_time": "2022-04-01T19:59:51.486Z"
   },
   {
    "duration": 53064,
    "start_time": "2022-04-01T19:59:51.492Z"
   },
   {
    "duration": 132,
    "start_time": "2022-04-01T20:00:44.559Z"
   },
   {
    "duration": 291,
    "start_time": "2022-04-01T20:00:44.694Z"
   },
   {
    "duration": 107,
    "start_time": "2022-04-01T20:00:44.988Z"
   },
   {
    "duration": 385,
    "start_time": "2022-04-01T20:00:45.099Z"
   },
   {
    "duration": 363,
    "start_time": "2022-04-01T20:00:45.487Z"
   },
   {
    "duration": 508,
    "start_time": "2022-04-01T20:01:22.176Z"
   },
   {
    "duration": 586,
    "start_time": "2022-04-01T20:03:30.125Z"
   },
   {
    "duration": 221,
    "start_time": "2022-04-01T20:05:05.993Z"
   },
   {
    "duration": 151,
    "start_time": "2022-04-01T20:09:34.749Z"
   },
   {
    "duration": 229,
    "start_time": "2022-04-01T20:10:04.037Z"
   },
   {
    "duration": 52502,
    "start_time": "2022-04-01T20:14:47.692Z"
   },
   {
    "duration": 75836,
    "start_time": "2022-04-01T20:19:15.558Z"
   },
   {
    "duration": 24703,
    "start_time": "2022-04-01T20:22:54.398Z"
   },
   {
    "duration": 1049,
    "start_time": "2022-04-01T20:28:45.155Z"
   },
   {
    "duration": 1097,
    "start_time": "2022-04-01T20:29:07.061Z"
   },
   {
    "duration": 973,
    "start_time": "2022-04-01T20:32:47.777Z"
   },
   {
    "duration": 874,
    "start_time": "2022-04-01T20:33:12.483Z"
   },
   {
    "duration": 39,
    "start_time": "2022-04-01T20:33:20.672Z"
   },
   {
    "duration": 55,
    "start_time": "2022-04-01T20:33:25.803Z"
   },
   {
    "duration": 940,
    "start_time": "2022-04-01T20:33:59.520Z"
   },
   {
    "duration": 50,
    "start_time": "2022-04-03T13:00:15.832Z"
   },
   {
    "duration": 1574,
    "start_time": "2022-04-03T13:00:30.455Z"
   },
   {
    "duration": 4,
    "start_time": "2022-04-03T13:00:38.831Z"
   },
   {
    "duration": 41,
    "start_time": "2022-04-03T13:00:38.838Z"
   },
   {
    "duration": 3,
    "start_time": "2022-04-03T13:00:38.880Z"
   },
   {
    "duration": 5,
    "start_time": "2022-04-03T13:00:38.885Z"
   },
   {
    "duration": 9,
    "start_time": "2022-04-03T13:00:38.892Z"
   },
   {
    "duration": 33,
    "start_time": "2022-04-03T13:00:38.903Z"
   },
   {
    "duration": 6,
    "start_time": "2022-04-03T13:00:38.938Z"
   },
   {
    "duration": 6,
    "start_time": "2022-04-03T13:00:38.946Z"
   },
   {
    "duration": 13,
    "start_time": "2022-04-03T13:00:38.954Z"
   },
   {
    "duration": 20,
    "start_time": "2022-04-03T13:00:38.969Z"
   },
   {
    "duration": 62,
    "start_time": "2022-04-03T13:00:38.990Z"
   },
   {
    "duration": 82,
    "start_time": "2022-04-03T13:00:39.054Z"
   },
   {
    "duration": 90,
    "start_time": "2022-04-03T13:00:39.144Z"
   },
   {
    "duration": 333,
    "start_time": "2022-04-03T13:00:39.236Z"
   },
   {
    "duration": 3,
    "start_time": "2022-04-03T13:00:39.571Z"
   },
   {
    "duration": 33045,
    "start_time": "2022-04-03T13:00:39.576Z"
   },
   {
    "duration": 100,
    "start_time": "2022-04-03T13:01:12.634Z"
   },
   {
    "duration": 196,
    "start_time": "2022-04-03T13:01:12.737Z"
   },
   {
    "duration": 113,
    "start_time": "2022-04-03T13:01:12.936Z"
   },
   {
    "duration": 433,
    "start_time": "2022-04-03T13:01:13.051Z"
   },
   {
    "duration": 256,
    "start_time": "2022-04-03T13:01:13.486Z"
   },
   {
    "duration": 329,
    "start_time": "2022-04-03T13:01:13.744Z"
   },
   {
    "duration": 397,
    "start_time": "2022-04-03T13:01:14.074Z"
   },
   {
    "duration": 150,
    "start_time": "2022-04-03T13:01:14.473Z"
   },
   {
    "duration": 106,
    "start_time": "2022-04-03T13:01:14.632Z"
   },
   {
    "duration": 150,
    "start_time": "2022-04-03T13:01:14.739Z"
   },
   {
    "duration": 32848,
    "start_time": "2022-04-03T13:01:14.890Z"
   },
   {
    "duration": 46138,
    "start_time": "2022-04-03T13:01:47.740Z"
   },
   {
    "duration": 15768,
    "start_time": "2022-04-03T13:02:33.879Z"
   },
   {
    "duration": 705,
    "start_time": "2022-04-03T13:02:49.649Z"
   },
   {
    "duration": 729,
    "start_time": "2022-04-03T13:02:50.356Z"
   },
   {
    "duration": 85,
    "start_time": "2022-04-03T13:02:51.087Z"
   },
   {
    "duration": 0,
    "start_time": "2022-04-03T13:02:51.173Z"
   },
   {
    "duration": 11,
    "start_time": "2022-04-03T13:08:03.566Z"
   },
   {
    "duration": 644,
    "start_time": "2022-04-03T13:08:37.102Z"
   },
   {
    "duration": 713,
    "start_time": "2022-04-03T13:12:29.034Z"
   },
   {
    "duration": 4,
    "start_time": "2022-04-03T13:13:08.250Z"
   },
   {
    "duration": 34,
    "start_time": "2022-04-03T13:13:08.257Z"
   },
   {
    "duration": 3,
    "start_time": "2022-04-03T13:13:08.293Z"
   },
   {
    "duration": 5,
    "start_time": "2022-04-03T13:13:08.298Z"
   },
   {
    "duration": 15,
    "start_time": "2022-04-03T13:13:08.306Z"
   },
   {
    "duration": 13,
    "start_time": "2022-04-03T13:13:08.323Z"
   },
   {
    "duration": 6,
    "start_time": "2022-04-03T13:13:08.338Z"
   },
   {
    "duration": 5,
    "start_time": "2022-04-03T13:13:08.346Z"
   },
   {
    "duration": 13,
    "start_time": "2022-04-03T13:13:08.352Z"
   },
   {
    "duration": 20,
    "start_time": "2022-04-03T13:13:08.367Z"
   },
   {
    "duration": 62,
    "start_time": "2022-04-03T13:13:08.389Z"
   },
   {
    "duration": 84,
    "start_time": "2022-04-03T13:13:08.453Z"
   },
   {
    "duration": 3,
    "start_time": "2022-04-03T13:13:08.539Z"
   },
   {
    "duration": 409,
    "start_time": "2022-04-03T13:13:08.543Z"
   },
   {
    "duration": 3,
    "start_time": "2022-04-03T13:13:08.953Z"
   },
   {
    "duration": 33402,
    "start_time": "2022-04-03T13:13:08.957Z"
   },
   {
    "duration": 79,
    "start_time": "2022-04-03T13:13:42.360Z"
   },
   {
    "duration": 195,
    "start_time": "2022-04-03T13:13:42.441Z"
   },
   {
    "duration": 114,
    "start_time": "2022-04-03T13:13:42.638Z"
   },
   {
    "duration": 428,
    "start_time": "2022-04-03T13:13:42.754Z"
   },
   {
    "duration": 239,
    "start_time": "2022-04-03T13:13:43.184Z"
   },
   {
    "duration": 338,
    "start_time": "2022-04-03T13:13:43.433Z"
   },
   {
    "duration": 400,
    "start_time": "2022-04-03T13:13:43.773Z"
   },
   {
    "duration": 152,
    "start_time": "2022-04-03T13:13:44.175Z"
   },
   {
    "duration": 111,
    "start_time": "2022-04-03T13:13:44.332Z"
   },
   {
    "duration": 145,
    "start_time": "2022-04-03T13:13:44.445Z"
   },
   {
    "duration": 33574,
    "start_time": "2022-04-03T13:13:44.592Z"
   },
   {
    "duration": 56891,
    "start_time": "2022-04-03T13:14:18.168Z"
   },
   {
    "duration": 17931,
    "start_time": "2022-04-03T13:15:15.064Z"
   },
   {
    "duration": 700,
    "start_time": "2022-04-03T13:15:32.997Z"
   },
   {
    "duration": 719,
    "start_time": "2022-04-03T13:15:33.699Z"
   },
   {
    "duration": 17,
    "start_time": "2022-04-03T13:15:34.419Z"
   },
   {
    "duration": 721,
    "start_time": "2022-04-03T13:15:34.438Z"
   },
   {
    "duration": 4169,
    "start_time": "2022-04-03T16:58:24.066Z"
   },
   {
    "duration": 36,
    "start_time": "2022-04-03T16:58:28.237Z"
   },
   {
    "duration": 2,
    "start_time": "2022-04-03T16:58:28.274Z"
   },
   {
    "duration": 5,
    "start_time": "2022-04-03T16:58:28.278Z"
   },
   {
    "duration": 11,
    "start_time": "2022-04-03T16:58:28.284Z"
   },
   {
    "duration": 13,
    "start_time": "2022-04-03T16:58:28.297Z"
   },
   {
    "duration": 4,
    "start_time": "2022-04-03T16:58:28.311Z"
   },
   {
    "duration": 5,
    "start_time": "2022-04-03T16:58:28.317Z"
   },
   {
    "duration": 11,
    "start_time": "2022-04-03T16:58:28.323Z"
   },
   {
    "duration": 15,
    "start_time": "2022-04-03T16:58:28.336Z"
   },
   {
    "duration": 18,
    "start_time": "2022-04-03T16:58:28.352Z"
   },
   {
    "duration": 59,
    "start_time": "2022-04-03T16:58:28.372Z"
   },
   {
    "duration": 79,
    "start_time": "2022-04-03T16:58:28.432Z"
   },
   {
    "duration": 415,
    "start_time": "2022-04-03T16:58:28.513Z"
   },
   {
    "duration": 2,
    "start_time": "2022-04-03T16:58:28.930Z"
   },
   {
    "duration": 33442,
    "start_time": "2022-04-03T16:58:28.933Z"
   },
   {
    "duration": 52,
    "start_time": "2022-04-03T16:59:02.377Z"
   },
   {
    "duration": 280,
    "start_time": "2022-04-03T16:59:02.432Z"
   },
   {
    "duration": 110,
    "start_time": "2022-04-03T16:59:02.718Z"
   },
   {
    "duration": 430,
    "start_time": "2022-04-03T16:59:02.831Z"
   },
   {
    "duration": 263,
    "start_time": "2022-04-03T16:59:03.263Z"
   },
   {
    "duration": 345,
    "start_time": "2022-04-03T16:59:03.528Z"
   },
   {
    "duration": 402,
    "start_time": "2022-04-03T16:59:03.875Z"
   },
   {
    "duration": 155,
    "start_time": "2022-04-03T16:59:04.278Z"
   },
   {
    "duration": 122,
    "start_time": "2022-04-03T16:59:04.434Z"
   },
   {
    "duration": 160,
    "start_time": "2022-04-03T16:59:04.558Z"
   },
   {
    "duration": 35055,
    "start_time": "2022-04-03T16:59:04.720Z"
   },
   {
    "duration": 48898,
    "start_time": "2022-04-03T16:59:39.779Z"
   },
   {
    "duration": 16936,
    "start_time": "2022-04-03T17:00:28.679Z"
   },
   {
    "duration": 737,
    "start_time": "2022-04-03T17:00:45.617Z"
   },
   {
    "duration": 764,
    "start_time": "2022-04-03T17:00:46.357Z"
   },
   {
    "duration": 11,
    "start_time": "2022-04-03T17:00:47.124Z"
   },
   {
    "duration": 778,
    "start_time": "2022-04-03T17:00:47.137Z"
   },
   {
    "duration": 6,
    "start_time": "2022-04-03T17:08:06.705Z"
   },
   {
    "duration": 5,
    "start_time": "2022-04-03T17:13:34.768Z"
   },
   {
    "duration": 5,
    "start_time": "2022-04-03T17:14:10.870Z"
   },
   {
    "duration": 4,
    "start_time": "2022-04-03T17:30:24.925Z"
   },
   {
    "duration": 13,
    "start_time": "2022-04-03T17:30:34.848Z"
   },
   {
    "duration": 47,
    "start_time": "2022-04-04T10:51:52.628Z"
   },
   {
    "duration": 1616,
    "start_time": "2022-04-04T10:51:56.250Z"
   },
   {
    "duration": 37,
    "start_time": "2022-04-04T10:51:57.869Z"
   },
   {
    "duration": 53,
    "start_time": "2022-04-04T10:51:57.908Z"
   },
   {
    "duration": 1898,
    "start_time": "2022-04-04T10:52:33.064Z"
   },
   {
    "duration": 0,
    "start_time": "2022-04-04T10:52:34.964Z"
   },
   {
    "duration": 4,
    "start_time": "2022-04-04T10:52:49.184Z"
   },
   {
    "duration": 7,
    "start_time": "2022-04-04T10:52:51.049Z"
   },
   {
    "duration": 11,
    "start_time": "2022-04-04T10:52:53.635Z"
   },
   {
    "duration": 12,
    "start_time": "2022-04-04T10:53:07.174Z"
   },
   {
    "duration": 16,
    "start_time": "2022-04-04T10:53:34.517Z"
   },
   {
    "duration": 16,
    "start_time": "2022-04-04T10:54:39.280Z"
   },
   {
    "duration": 4,
    "start_time": "2022-04-04T10:59:10.823Z"
   },
   {
    "duration": 4,
    "start_time": "2022-04-04T10:59:14.020Z"
   },
   {
    "duration": 4,
    "start_time": "2022-04-04T10:59:45.091Z"
   },
   {
    "duration": 33,
    "start_time": "2022-04-04T10:59:45.596Z"
   },
   {
    "duration": 39,
    "start_time": "2022-04-04T10:59:47.849Z"
   },
   {
    "duration": 3,
    "start_time": "2022-04-04T10:59:58.180Z"
   },
   {
    "duration": 4,
    "start_time": "2022-04-04T11:00:00.871Z"
   },
   {
    "duration": 8,
    "start_time": "2022-04-04T11:00:02.211Z"
   },
   {
    "duration": 5,
    "start_time": "2022-04-04T11:00:04.877Z"
   },
   {
    "duration": 5,
    "start_time": "2022-04-04T11:00:05.326Z"
   },
   {
    "duration": 4,
    "start_time": "2022-04-04T11:01:25.296Z"
   },
   {
    "duration": 49,
    "start_time": "2022-04-04T11:01:25.302Z"
   },
   {
    "duration": 3,
    "start_time": "2022-04-04T11:01:25.353Z"
   },
   {
    "duration": 10,
    "start_time": "2022-04-04T11:01:25.358Z"
   },
   {
    "duration": 27,
    "start_time": "2022-04-04T11:01:25.370Z"
   },
   {
    "duration": 5,
    "start_time": "2022-04-04T11:01:25.399Z"
   },
   {
    "duration": 9,
    "start_time": "2022-04-04T11:01:25.406Z"
   },
   {
    "duration": 10,
    "start_time": "2022-04-04T11:01:25.417Z"
   },
   {
    "duration": 28,
    "start_time": "2022-04-04T11:01:25.428Z"
   },
   {
    "duration": 25,
    "start_time": "2022-04-04T11:01:25.458Z"
   },
   {
    "duration": 55,
    "start_time": "2022-04-04T11:01:25.485Z"
   },
   {
    "duration": 4,
    "start_time": "2022-04-04T11:03:40.081Z"
   },
   {
    "duration": 38,
    "start_time": "2022-04-04T11:03:40.087Z"
   },
   {
    "duration": 3,
    "start_time": "2022-04-04T11:03:40.127Z"
   },
   {
    "duration": 6,
    "start_time": "2022-04-04T11:03:40.131Z"
   },
   {
    "duration": 13,
    "start_time": "2022-04-04T11:03:40.139Z"
   },
   {
    "duration": 6,
    "start_time": "2022-04-04T11:03:40.154Z"
   },
   {
    "duration": 8,
    "start_time": "2022-04-04T11:03:40.162Z"
   },
   {
    "duration": 5,
    "start_time": "2022-04-04T11:03:40.172Z"
   },
   {
    "duration": 19,
    "start_time": "2022-04-04T11:03:40.179Z"
   },
   {
    "duration": 39,
    "start_time": "2022-04-04T11:03:40.199Z"
   },
   {
    "duration": 22,
    "start_time": "2022-04-04T11:03:40.241Z"
   },
   {
    "duration": 76,
    "start_time": "2022-04-04T11:03:40.265Z"
   },
   {
    "duration": 93,
    "start_time": "2022-04-04T11:03:40.344Z"
   },
   {
    "duration": 326,
    "start_time": "2022-04-04T11:03:40.439Z"
   },
   {
    "duration": 2,
    "start_time": "2022-04-04T11:03:40.766Z"
   },
   {
    "duration": 33454,
    "start_time": "2022-04-04T11:03:40.770Z"
   },
   {
    "duration": 70,
    "start_time": "2022-04-04T11:07:24.368Z"
   },
   {
    "duration": 6,
    "start_time": "2022-04-04T11:07:27.834Z"
   },
   {
    "duration": 4,
    "start_time": "2022-04-04T11:08:13.364Z"
   },
   {
    "duration": 42,
    "start_time": "2022-04-04T11:08:13.370Z"
   },
   {
    "duration": 3,
    "start_time": "2022-04-04T11:08:13.413Z"
   },
   {
    "duration": 6,
    "start_time": "2022-04-04T11:08:13.418Z"
   },
   {
    "duration": 11,
    "start_time": "2022-04-04T11:08:13.426Z"
   },
   {
    "duration": 4,
    "start_time": "2022-04-04T11:08:13.438Z"
   },
   {
    "duration": 6,
    "start_time": "2022-04-04T11:08:13.443Z"
   },
   {
    "duration": 5,
    "start_time": "2022-04-04T11:08:13.451Z"
   },
   {
    "duration": 15,
    "start_time": "2022-04-04T11:08:13.458Z"
   },
   {
    "duration": 15,
    "start_time": "2022-04-04T11:08:13.475Z"
   },
   {
    "duration": 50,
    "start_time": "2022-04-04T11:08:13.492Z"
   },
   {
    "duration": 99,
    "start_time": "2022-04-04T11:08:13.544Z"
   },
   {
    "duration": 93,
    "start_time": "2022-04-04T11:08:13.644Z"
   },
   {
    "duration": 324,
    "start_time": "2022-04-04T11:08:13.740Z"
   },
   {
    "duration": 2,
    "start_time": "2022-04-04T11:08:14.066Z"
   },
   {
    "duration": 33953,
    "start_time": "2022-04-04T11:08:14.070Z"
   },
   {
    "duration": 41,
    "start_time": "2022-04-04T11:08:48.025Z"
   },
   {
    "duration": 196,
    "start_time": "2022-04-04T11:08:48.069Z"
   },
   {
    "duration": 184,
    "start_time": "2022-04-04T11:08:48.267Z"
   },
   {
    "duration": 92,
    "start_time": "2022-04-04T11:08:48.453Z"
   },
   {
    "duration": 6,
    "start_time": "2022-04-04T11:08:59.058Z"
   },
   {
    "duration": 23,
    "start_time": "2022-04-04T11:10:48.221Z"
   },
   {
    "duration": 12,
    "start_time": "2022-04-04T11:10:50.322Z"
   },
   {
    "duration": 17,
    "start_time": "2022-04-04T11:10:50.769Z"
   },
   {
    "duration": 5,
    "start_time": "2022-04-04T11:10:52.326Z"
   },
   {
    "duration": 13,
    "start_time": "2022-04-04T11:13:39.620Z"
   },
   {
    "duration": 27,
    "start_time": "2022-04-04T11:13:40.083Z"
   },
   {
    "duration": 376,
    "start_time": "2022-04-04T11:14:20.063Z"
   },
   {
    "duration": 135,
    "start_time": "2022-04-04T11:15:30.556Z"
   },
   {
    "duration": 42302,
    "start_time": "2022-04-04T11:16:09.759Z"
   },
   {
    "duration": 16180,
    "start_time": "2022-04-04T11:17:17.350Z"
   },
   {
    "duration": 770,
    "start_time": "2022-04-04T11:23:04.393Z"
   },
   {
    "duration": 4,
    "start_time": "2022-04-04T11:23:22.879Z"
   },
   {
    "duration": 689,
    "start_time": "2022-04-04T11:23:29.353Z"
   },
   {
    "duration": 684,
    "start_time": "2022-04-04T11:24:08.619Z"
   },
   {
    "duration": 54,
    "start_time": "2022-04-04T11:25:08.791Z"
   },
   {
    "duration": 5,
    "start_time": "2022-04-04T11:25:25.858Z"
   },
   {
    "duration": 41,
    "start_time": "2022-04-04T11:25:25.865Z"
   },
   {
    "duration": 3,
    "start_time": "2022-04-04T11:25:25.908Z"
   },
   {
    "duration": 7,
    "start_time": "2022-04-04T11:25:25.913Z"
   },
   {
    "duration": 14,
    "start_time": "2022-04-04T11:25:25.921Z"
   },
   {
    "duration": 4,
    "start_time": "2022-04-04T11:25:25.937Z"
   },
   {
    "duration": 7,
    "start_time": "2022-04-04T11:25:25.943Z"
   },
   {
    "duration": 7,
    "start_time": "2022-04-04T11:25:25.951Z"
   },
   {
    "duration": 14,
    "start_time": "2022-04-04T11:25:25.961Z"
   },
   {
    "duration": 64,
    "start_time": "2022-04-04T11:25:25.977Z"
   },
   {
    "duration": 23,
    "start_time": "2022-04-04T11:25:26.043Z"
   },
   {
    "duration": 73,
    "start_time": "2022-04-04T11:25:26.068Z"
   },
   {
    "duration": 95,
    "start_time": "2022-04-04T11:25:26.142Z"
   },
   {
    "duration": 328,
    "start_time": "2022-04-04T11:25:26.239Z"
   },
   {
    "duration": 3,
    "start_time": "2022-04-04T11:25:26.568Z"
   },
   {
    "duration": 33220,
    "start_time": "2022-04-04T11:25:26.572Z"
   },
   {
    "duration": 47,
    "start_time": "2022-04-04T11:25:59.794Z"
   },
   {
    "duration": 103,
    "start_time": "2022-04-04T11:25:59.844Z"
   },
   {
    "duration": 92,
    "start_time": "2022-04-04T11:25:59.949Z"
   },
   {
    "duration": 103,
    "start_time": "2022-04-04T11:26:00.043Z"
   },
   {
    "duration": 91,
    "start_time": "2022-04-04T11:26:00.147Z"
   },
   {
    "duration": 103,
    "start_time": "2022-04-04T11:26:00.241Z"
   },
   {
    "duration": 250,
    "start_time": "2022-04-04T11:26:00.345Z"
   },
   {
    "duration": 293,
    "start_time": "2022-04-04T11:26:00.598Z"
   },
   {
    "duration": 342,
    "start_time": "2022-04-04T11:26:00.893Z"
   },
   {
    "duration": 399,
    "start_time": "2022-04-04T11:26:01.238Z"
   },
   {
    "duration": 147,
    "start_time": "2022-04-04T11:26:01.639Z"
   },
   {
    "duration": 115,
    "start_time": "2022-04-04T11:26:01.788Z"
   },
   {
    "duration": 161,
    "start_time": "2022-04-04T11:26:01.905Z"
   },
   {
    "duration": 33530,
    "start_time": "2022-04-04T11:26:02.068Z"
   },
   {
    "duration": 42069,
    "start_time": "2022-04-04T11:26:35.600Z"
   },
   {
    "duration": 16068,
    "start_time": "2022-04-04T11:27:17.671Z"
   },
   {
    "duration": 57,
    "start_time": "2022-04-04T11:27:33.740Z"
   },
   {
    "duration": 0,
    "start_time": "2022-04-04T11:27:33.799Z"
   },
   {
    "duration": 0,
    "start_time": "2022-04-04T11:27:33.800Z"
   },
   {
    "duration": 0,
    "start_time": "2022-04-04T11:27:33.802Z"
   },
   {
    "duration": 600,
    "start_time": "2022-04-04T11:28:15.090Z"
   },
   {
    "duration": 606,
    "start_time": "2022-04-04T11:30:06.767Z"
   },
   {
    "duration": 640,
    "start_time": "2022-04-04T11:31:46.773Z"
   },
   {
    "duration": 745,
    "start_time": "2022-04-04T11:37:00.527Z"
   },
   {
    "duration": 4,
    "start_time": "2022-04-04T11:37:56.067Z"
   },
   {
    "duration": 878,
    "start_time": "2022-04-04T11:38:00.419Z"
   },
   {
    "duration": 703,
    "start_time": "2022-04-04T11:38:25.060Z"
   },
   {
    "duration": 728,
    "start_time": "2022-04-04T11:38:33.041Z"
   },
   {
    "duration": 718,
    "start_time": "2022-04-04T11:39:46.199Z"
   },
   {
    "duration": 696,
    "start_time": "2022-04-04T11:39:56.800Z"
   },
   {
    "duration": 155,
    "start_time": "2022-04-04T11:40:21.199Z"
   },
   {
    "duration": 167,
    "start_time": "2022-04-04T11:40:40.580Z"
   },
   {
    "duration": 694,
    "start_time": "2022-04-04T11:41:57.250Z"
   },
   {
    "duration": 752,
    "start_time": "2022-04-04T11:44:44.029Z"
   },
   {
    "duration": 3815,
    "start_time": "2022-04-04T11:45:26.113Z"
   },
   {
    "duration": 735,
    "start_time": "2022-04-04T11:47:04.222Z"
   },
   {
    "duration": 720,
    "start_time": "2022-04-04T11:47:13.751Z"
   },
   {
    "duration": 168,
    "start_time": "2022-04-04T11:48:32.152Z"
   },
   {
    "duration": 748,
    "start_time": "2022-04-04T11:49:21.273Z"
   },
   {
    "duration": 744,
    "start_time": "2022-04-04T11:49:41.943Z"
   },
   {
    "duration": 406,
    "start_time": "2022-04-04T11:50:49.769Z"
   },
   {
    "duration": 6,
    "start_time": "2022-04-04T11:52:06.852Z"
   },
   {
    "duration": 45,
    "start_time": "2022-04-04T11:52:06.861Z"
   },
   {
    "duration": 4,
    "start_time": "2022-04-04T11:52:06.908Z"
   },
   {
    "duration": 7,
    "start_time": "2022-04-04T11:52:06.913Z"
   },
   {
    "duration": 21,
    "start_time": "2022-04-04T11:52:06.922Z"
   },
   {
    "duration": 7,
    "start_time": "2022-04-04T11:52:06.945Z"
   },
   {
    "duration": 14,
    "start_time": "2022-04-04T11:52:06.954Z"
   },
   {
    "duration": 8,
    "start_time": "2022-04-04T11:52:06.971Z"
   },
   {
    "duration": 17,
    "start_time": "2022-04-04T11:52:06.981Z"
   },
   {
    "duration": 44,
    "start_time": "2022-04-04T11:52:07.000Z"
   },
   {
    "duration": 24,
    "start_time": "2022-04-04T11:52:07.046Z"
   },
   {
    "duration": 173,
    "start_time": "2022-04-04T11:52:07.072Z"
   },
   {
    "duration": 4,
    "start_time": "2022-04-04T11:52:07.248Z"
   },
   {
    "duration": 426,
    "start_time": "2022-04-04T11:52:07.257Z"
   },
   {
    "duration": 3,
    "start_time": "2022-04-04T11:52:07.685Z"
   },
   {
    "duration": 35485,
    "start_time": "2022-04-04T11:52:07.690Z"
   },
   {
    "duration": 162,
    "start_time": "2022-04-04T11:52:43.176Z"
   },
   {
    "duration": 11,
    "start_time": "2022-04-04T11:52:43.340Z"
   },
   {
    "duration": 90,
    "start_time": "2022-04-04T11:52:43.352Z"
   },
   {
    "duration": 100,
    "start_time": "2022-04-04T11:52:43.447Z"
   },
   {
    "duration": 89,
    "start_time": "2022-04-04T11:52:43.549Z"
   },
   {
    "duration": 101,
    "start_time": "2022-04-04T11:52:43.641Z"
   },
   {
    "duration": 315,
    "start_time": "2022-04-04T11:52:43.744Z"
   },
   {
    "duration": 281,
    "start_time": "2022-04-04T11:52:44.061Z"
   },
   {
    "duration": 347,
    "start_time": "2022-04-04T11:52:44.343Z"
   },
   {
    "duration": 406,
    "start_time": "2022-04-04T11:52:44.692Z"
   },
   {
    "duration": 157,
    "start_time": "2022-04-04T11:52:45.100Z"
   },
   {
    "duration": 175,
    "start_time": "2022-04-04T11:52:45.259Z"
   },
   {
    "duration": 158,
    "start_time": "2022-04-04T11:52:45.437Z"
   },
   {
    "duration": 35143,
    "start_time": "2022-04-04T11:52:45.596Z"
   },
   {
    "duration": 43898,
    "start_time": "2022-04-04T11:53:20.741Z"
   },
   {
    "duration": 16586,
    "start_time": "2022-04-04T11:54:04.641Z"
   },
   {
    "duration": 802,
    "start_time": "2022-04-04T11:54:21.237Z"
   },
   {
    "duration": 758,
    "start_time": "2022-04-04T11:54:22.041Z"
   },
   {
    "duration": 9,
    "start_time": "2022-04-04T11:54:22.801Z"
   },
   {
    "duration": 755,
    "start_time": "2022-04-04T11:54:22.812Z"
   },
   {
    "duration": 745,
    "start_time": "2022-04-04T11:57:08.206Z"
   },
   {
    "duration": 727,
    "start_time": "2022-04-04T11:57:23.554Z"
   },
   {
    "duration": 748,
    "start_time": "2022-04-04T11:58:33.103Z"
   },
   {
    "duration": 5,
    "start_time": "2022-04-04T12:02:24.685Z"
   },
   {
    "duration": 41,
    "start_time": "2022-04-04T12:02:24.692Z"
   },
   {
    "duration": 3,
    "start_time": "2022-04-04T12:02:24.734Z"
   },
   {
    "duration": 7,
    "start_time": "2022-04-04T12:02:24.739Z"
   },
   {
    "duration": 12,
    "start_time": "2022-04-04T12:02:24.747Z"
   },
   {
    "duration": 4,
    "start_time": "2022-04-04T12:02:24.761Z"
   },
   {
    "duration": 8,
    "start_time": "2022-04-04T12:02:24.767Z"
   },
   {
    "duration": 11,
    "start_time": "2022-04-04T12:02:24.777Z"
   },
   {
    "duration": 16,
    "start_time": "2022-04-04T12:02:24.789Z"
   },
   {
    "duration": 37,
    "start_time": "2022-04-04T12:02:24.808Z"
   },
   {
    "duration": 20,
    "start_time": "2022-04-04T12:02:24.847Z"
   },
   {
    "duration": 78,
    "start_time": "2022-04-04T12:02:24.868Z"
   },
   {
    "duration": 90,
    "start_time": "2022-04-04T12:02:24.948Z"
   },
   {
    "duration": 341,
    "start_time": "2022-04-04T12:02:25.040Z"
   },
   {
    "duration": 3,
    "start_time": "2022-04-04T12:02:25.382Z"
   },
   {
    "duration": 34754,
    "start_time": "2022-04-04T12:02:25.387Z"
   },
   {
    "duration": 97,
    "start_time": "2022-04-04T12:03:00.142Z"
   },
   {
    "duration": 113,
    "start_time": "2022-04-04T12:03:00.241Z"
   },
   {
    "duration": 87,
    "start_time": "2022-04-04T12:03:00.355Z"
   },
   {
    "duration": 98,
    "start_time": "2022-04-04T12:03:00.447Z"
   },
   {
    "duration": 91,
    "start_time": "2022-04-04T12:03:00.547Z"
   },
   {
    "duration": 96,
    "start_time": "2022-04-04T12:03:00.642Z"
   },
   {
    "duration": 319,
    "start_time": "2022-04-04T12:03:00.740Z"
   },
   {
    "duration": 287,
    "start_time": "2022-04-04T12:03:01.061Z"
   },
   {
    "duration": 366,
    "start_time": "2022-04-04T12:03:01.350Z"
   },
   {
    "duration": 413,
    "start_time": "2022-04-04T12:03:01.717Z"
   },
   {
    "duration": 167,
    "start_time": "2022-04-04T12:03:02.132Z"
   },
   {
    "duration": 299,
    "start_time": "2022-04-04T12:03:02.302Z"
   },
   {
    "duration": 157,
    "start_time": "2022-04-04T12:03:02.603Z"
   },
   {
    "duration": 34835,
    "start_time": "2022-04-04T12:03:02.761Z"
   },
   {
    "duration": 44414,
    "start_time": "2022-04-04T12:03:37.598Z"
   },
   {
    "duration": 16624,
    "start_time": "2022-04-04T12:04:22.014Z"
   },
   {
    "duration": 764,
    "start_time": "2022-04-04T12:04:38.640Z"
   },
   {
    "duration": 727,
    "start_time": "2022-04-04T12:04:39.406Z"
   },
   {
    "duration": 9,
    "start_time": "2022-04-04T12:04:40.138Z"
   },
   {
    "duration": 747,
    "start_time": "2022-04-04T12:04:40.149Z"
   },
   {
    "duration": 690,
    "start_time": "2022-04-04T12:06:51.120Z"
   },
   {
    "duration": 675,
    "start_time": "2022-04-04T12:06:58.856Z"
   },
   {
    "duration": 709,
    "start_time": "2022-04-04T12:08:29.987Z"
   },
   {
    "duration": 2549,
    "start_time": "2022-04-04T22:08:01.370Z"
   },
   {
    "duration": 52,
    "start_time": "2022-04-04T22:08:03.922Z"
   },
   {
    "duration": 3,
    "start_time": "2022-04-04T22:08:03.985Z"
   },
   {
    "duration": 9,
    "start_time": "2022-04-04T22:08:03.991Z"
   },
   {
    "duration": 18,
    "start_time": "2022-04-04T22:08:04.004Z"
   },
   {
    "duration": 6,
    "start_time": "2022-04-04T22:08:04.025Z"
   },
   {
    "duration": 13,
    "start_time": "2022-04-04T22:08:04.034Z"
   },
   {
    "duration": 39,
    "start_time": "2022-04-04T22:08:04.050Z"
   },
   {
    "duration": 32,
    "start_time": "2022-04-04T22:08:04.093Z"
   },
   {
    "duration": 43,
    "start_time": "2022-04-04T22:08:04.128Z"
   },
   {
    "duration": 34,
    "start_time": "2022-04-04T22:08:04.186Z"
   },
   {
    "duration": 65,
    "start_time": "2022-04-04T22:08:04.223Z"
   },
   {
    "duration": 91,
    "start_time": "2022-04-04T22:08:04.292Z"
   },
   {
    "duration": 592,
    "start_time": "2022-04-04T22:08:04.391Z"
   },
   {
    "duration": 5,
    "start_time": "2022-04-04T22:08:04.986Z"
   },
   {
    "duration": 52228,
    "start_time": "2022-04-04T22:08:04.994Z"
   },
   {
    "duration": 72,
    "start_time": "2022-04-04T22:08:57.225Z"
   },
   {
    "duration": 194,
    "start_time": "2022-04-04T22:08:57.300Z"
   },
   {
    "duration": 91,
    "start_time": "2022-04-04T22:08:57.497Z"
   },
   {
    "duration": 107,
    "start_time": "2022-04-04T22:08:57.592Z"
   },
   {
    "duration": 84,
    "start_time": "2022-04-04T22:08:57.701Z"
   },
   {
    "duration": 8,
    "start_time": "2022-04-04T22:08:57.787Z"
   },
   {
    "duration": 405,
    "start_time": "2022-04-04T22:08:57.885Z"
   },
   {
    "duration": 368,
    "start_time": "2022-04-04T22:08:58.292Z"
   },
   {
    "duration": 505,
    "start_time": "2022-04-04T22:08:58.663Z"
   },
   {
    "duration": 613,
    "start_time": "2022-04-04T22:08:59.171Z"
   },
   {
    "duration": 219,
    "start_time": "2022-04-04T22:08:59.786Z"
   },
   {
    "duration": 280,
    "start_time": "2022-04-04T22:09:00.007Z"
   },
   {
    "duration": 247,
    "start_time": "2022-04-04T22:09:00.289Z"
   },
   {
    "duration": 52305,
    "start_time": "2022-04-04T22:09:00.538Z"
   },
   {
    "duration": 68911,
    "start_time": "2022-04-04T22:09:52.846Z"
   },
   {
    "duration": 24588,
    "start_time": "2022-04-04T22:11:01.759Z"
   },
   {
    "duration": 1093,
    "start_time": "2022-04-04T22:11:26.350Z"
   },
   {
    "duration": 1070,
    "start_time": "2022-04-04T22:11:27.445Z"
   },
   {
    "duration": 10,
    "start_time": "2022-04-04T22:11:28.517Z"
   },
   {
    "duration": 1057,
    "start_time": "2022-04-04T22:11:28.529Z"
   },
   {
    "duration": 21,
    "start_time": "2022-04-04T22:13:09.243Z"
   },
   {
    "duration": 1030,
    "start_time": "2022-04-04T22:14:18.943Z"
   },
   {
    "duration": 1020,
    "start_time": "2022-04-04T22:15:15.973Z"
   },
   {
    "duration": 860,
    "start_time": "2022-04-04T22:15:50.231Z"
   },
   {
    "duration": 16,
    "start_time": "2022-04-04T22:18:00.860Z"
   },
   {
    "duration": 15,
    "start_time": "2022-04-04T22:19:01.716Z"
   },
   {
    "duration": 1016,
    "start_time": "2022-04-04T22:19:46.925Z"
   },
   {
    "duration": 1041,
    "start_time": "2022-04-04T22:20:04.332Z"
   },
   {
    "duration": 13,
    "start_time": "2022-04-04T22:21:28.635Z"
   },
   {
    "duration": 1015,
    "start_time": "2022-04-04T22:21:40.239Z"
   },
   {
    "duration": 2150,
    "start_time": "2022-04-04T22:21:52.382Z"
   },
   {
    "duration": 51,
    "start_time": "2022-04-04T22:21:54.535Z"
   },
   {
    "duration": 4,
    "start_time": "2022-04-04T22:21:54.588Z"
   },
   {
    "duration": 11,
    "start_time": "2022-04-04T22:21:54.595Z"
   },
   {
    "duration": 16,
    "start_time": "2022-04-04T22:21:54.608Z"
   },
   {
    "duration": 6,
    "start_time": "2022-04-04T22:21:54.626Z"
   },
   {
    "duration": 8,
    "start_time": "2022-04-04T22:21:54.634Z"
   },
   {
    "duration": 41,
    "start_time": "2022-04-04T22:21:54.644Z"
   },
   {
    "duration": 15,
    "start_time": "2022-04-04T22:21:54.688Z"
   },
   {
    "duration": 25,
    "start_time": "2022-04-04T22:21:54.707Z"
   },
   {
    "duration": 69,
    "start_time": "2022-04-04T22:21:54.734Z"
   },
   {
    "duration": 86,
    "start_time": "2022-04-04T22:21:54.805Z"
   },
   {
    "duration": 90,
    "start_time": "2022-04-04T22:21:54.894Z"
   },
   {
    "duration": 512,
    "start_time": "2022-04-04T22:21:54.987Z"
   },
   {
    "duration": 4,
    "start_time": "2022-04-04T22:21:55.502Z"
   },
   {
    "duration": 52552,
    "start_time": "2022-04-04T22:21:55.509Z"
   },
   {
    "duration": 121,
    "start_time": "2022-04-04T22:22:48.063Z"
   },
   {
    "duration": 107,
    "start_time": "2022-04-04T22:22:48.188Z"
   },
   {
    "duration": 88,
    "start_time": "2022-04-04T22:22:48.298Z"
   },
   {
    "duration": 103,
    "start_time": "2022-04-04T22:22:48.390Z"
   },
   {
    "duration": 93,
    "start_time": "2022-04-04T22:22:48.495Z"
   },
   {
    "duration": 94,
    "start_time": "2022-04-04T22:22:48.592Z"
   },
   {
    "duration": 407,
    "start_time": "2022-04-04T22:22:48.688Z"
   },
   {
    "duration": 366,
    "start_time": "2022-04-04T22:22:49.097Z"
   },
   {
    "duration": 520,
    "start_time": "2022-04-04T22:22:49.465Z"
   },
   {
    "duration": 601,
    "start_time": "2022-04-04T22:22:49.987Z"
   },
   {
    "duration": 227,
    "start_time": "2022-04-04T22:22:50.590Z"
   },
   {
    "duration": 268,
    "start_time": "2022-04-04T22:22:50.821Z"
   },
   {
    "duration": 245,
    "start_time": "2022-04-04T22:22:51.091Z"
   },
   {
    "duration": 52752,
    "start_time": "2022-04-04T22:22:51.338Z"
   },
   {
    "duration": 68702,
    "start_time": "2022-04-04T22:23:44.093Z"
   },
   {
    "duration": 24772,
    "start_time": "2022-04-04T22:24:52.798Z"
   },
   {
    "duration": 1178,
    "start_time": "2022-04-04T22:25:17.572Z"
   },
   {
    "duration": 1066,
    "start_time": "2022-04-04T22:25:18.752Z"
   },
   {
    "duration": 11,
    "start_time": "2022-04-04T22:25:19.820Z"
   },
   {
    "duration": 1056,
    "start_time": "2022-04-04T22:25:19.833Z"
   },
   {
    "duration": 14,
    "start_time": "2022-04-04T22:25:20.891Z"
   },
   {
    "duration": 1061,
    "start_time": "2022-04-04T22:25:20.907Z"
   },
   {
    "duration": 1751,
    "start_time": "2022-04-05T08:13:41.210Z"
   },
   {
    "duration": 52,
    "start_time": "2022-04-05T08:13:42.964Z"
   },
   {
    "duration": 4,
    "start_time": "2022-04-05T08:13:43.018Z"
   },
   {
    "duration": 10,
    "start_time": "2022-04-05T08:13:43.025Z"
   },
   {
    "duration": 14,
    "start_time": "2022-04-05T08:13:43.037Z"
   },
   {
    "duration": 10,
    "start_time": "2022-04-05T08:13:43.053Z"
   },
   {
    "duration": 29,
    "start_time": "2022-04-05T08:13:43.065Z"
   },
   {
    "duration": 14,
    "start_time": "2022-04-05T08:13:43.096Z"
   },
   {
    "duration": 30,
    "start_time": "2022-04-05T08:13:43.112Z"
   },
   {
    "duration": 20,
    "start_time": "2022-04-05T08:13:43.145Z"
   },
   {
    "duration": 23,
    "start_time": "2022-04-05T08:13:43.167Z"
   },
   {
    "duration": 26,
    "start_time": "2022-04-05T08:13:43.191Z"
   },
   {
    "duration": 90,
    "start_time": "2022-04-05T08:13:43.219Z"
   },
   {
    "duration": 336,
    "start_time": "2022-04-05T08:13:43.402Z"
   },
   {
    "duration": 3,
    "start_time": "2022-04-05T08:13:43.739Z"
   },
   {
    "duration": 33999,
    "start_time": "2022-04-05T08:13:43.743Z"
   },
   {
    "duration": 58,
    "start_time": "2022-04-05T08:14:17.744Z"
   },
   {
    "duration": 103,
    "start_time": "2022-04-05T08:14:17.805Z"
   },
   {
    "duration": 93,
    "start_time": "2022-04-05T08:14:17.910Z"
   },
   {
    "duration": 98,
    "start_time": "2022-04-05T08:14:18.006Z"
   },
   {
    "duration": 50,
    "start_time": "2022-04-05T08:14:18.106Z"
   },
   {
    "duration": 97,
    "start_time": "2022-04-05T08:14:18.203Z"
   },
   {
    "duration": 316,
    "start_time": "2022-04-05T08:14:18.302Z"
   },
   {
    "duration": 337,
    "start_time": "2022-04-05T08:14:18.620Z"
   },
   {
    "duration": 343,
    "start_time": "2022-04-05T08:14:18.958Z"
   },
   {
    "duration": 381,
    "start_time": "2022-04-05T08:14:19.303Z"
   },
   {
    "duration": 192,
    "start_time": "2022-04-05T08:14:19.686Z"
   },
   {
    "duration": 177,
    "start_time": "2022-04-05T08:14:19.882Z"
   },
   {
    "duration": 150,
    "start_time": "2022-04-05T08:14:20.062Z"
   },
   {
    "duration": 33838,
    "start_time": "2022-04-05T08:14:20.213Z"
   },
   {
    "duration": 43429,
    "start_time": "2022-04-05T08:14:54.053Z"
   },
   {
    "duration": 20203,
    "start_time": "2022-04-05T08:15:37.501Z"
   },
   {
    "duration": 673,
    "start_time": "2022-04-05T08:15:57.705Z"
   },
   {
    "duration": 664,
    "start_time": "2022-04-05T08:15:58.379Z"
   },
   {
    "duration": 8,
    "start_time": "2022-04-05T08:15:59.044Z"
   },
   {
    "duration": 658,
    "start_time": "2022-04-05T08:15:59.054Z"
   },
   {
    "duration": 9,
    "start_time": "2022-04-05T08:15:59.714Z"
   },
   {
    "duration": 683,
    "start_time": "2022-04-05T08:15:59.725Z"
   },
   {
    "duration": 3,
    "start_time": "2022-04-05T08:16:59.610Z"
   },
   {
    "duration": 699,
    "start_time": "2022-04-05T08:18:43.975Z"
   },
   {
    "duration": 681,
    "start_time": "2022-04-05T08:18:51.396Z"
   },
   {
    "duration": 8,
    "start_time": "2022-04-05T08:19:02.519Z"
   },
   {
    "duration": 695,
    "start_time": "2022-04-05T08:19:09.293Z"
   }
  ],
  "kernelspec": {
   "display_name": "Python 3 (ipykernel)",
   "language": "python",
   "name": "python3"
  },
  "language_info": {
   "codemirror_mode": {
    "name": "ipython",
    "version": 3
   },
   "file_extension": ".py",
   "mimetype": "text/x-python",
   "name": "python",
   "nbconvert_exporter": "python",
   "pygments_lexer": "ipython3",
   "version": "3.9.5"
  },
  "toc": {
   "base_numbering": 1,
   "nav_menu": {},
   "number_sections": true,
   "sideBar": true,
   "skip_h1_title": true,
   "title_cell": "Содержание",
   "title_sidebar": "Contents",
   "toc_cell": true,
   "toc_position": {
    "height": "calc(100% - 180px)",
    "left": "10px",
    "top": "150px",
    "width": "237px"
   },
   "toc_section_display": true,
   "toc_window_display": true
  }
 },
 "nbformat": 4,
 "nbformat_minor": 2
}
