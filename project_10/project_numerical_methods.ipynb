{
 "cells": [
  {
   "cell_type": "markdown",
   "metadata": {},
   "source": [
    "# Определение стоимости автомобилей"
   ]
  },
  {
   "cell_type": "markdown",
   "metadata": {},
   "source": [
    "## Подготовка данных"
   ]
  },
  {
   "cell_type": "code",
   "execution_count": 143,
   "metadata": {},
   "outputs": [],
   "source": [
    "import pandas as pd\n",
    "import numpy as np\n",
    "import warnings\n",
    "warnings.filterwarnings('ignore')\n",
    "from matplotlib import pyplot as plt\n",
    "import seaborn as sns\n",
    "from sklearn.model_selection import train_test_split\n",
    "from sklearn.model_selection import GridSearchCV\n",
    "from lightgbm import LGBMRegressor\n",
    "from sklearn.tree import DecisionTreeRegressor\n",
    "from sklearn.ensemble import RandomForestRegressor\n",
    "from catboost import CatBoostRegressor\n",
    "from sklearn.linear_model import LinearRegression\n",
    "from sklearn.metrics import mean_squared_error\n",
    "state = 12345"
   ]
  },
  {
   "cell_type": "code",
   "execution_count": 144,
   "metadata": {
    "scrolled": true
   },
   "outputs": [
    {
     "data": {
      "text/html": [
       "<div>\n",
       "<style scoped>\n",
       "    .dataframe tbody tr th:only-of-type {\n",
       "        vertical-align: middle;\n",
       "    }\n",
       "\n",
       "    .dataframe tbody tr th {\n",
       "        vertical-align: top;\n",
       "    }\n",
       "\n",
       "    .dataframe thead th {\n",
       "        text-align: right;\n",
       "    }\n",
       "</style>\n",
       "<table border=\"1\" class=\"dataframe\">\n",
       "  <thead>\n",
       "    <tr style=\"text-align: right;\">\n",
       "      <th></th>\n",
       "      <th>DateCrawled</th>\n",
       "      <th>Price</th>\n",
       "      <th>VehicleType</th>\n",
       "      <th>RegistrationYear</th>\n",
       "      <th>Gearbox</th>\n",
       "      <th>Power</th>\n",
       "      <th>Model</th>\n",
       "      <th>Kilometer</th>\n",
       "      <th>RegistrationMonth</th>\n",
       "      <th>FuelType</th>\n",
       "      <th>Brand</th>\n",
       "      <th>NotRepaired</th>\n",
       "      <th>DateCreated</th>\n",
       "      <th>NumberOfPictures</th>\n",
       "      <th>PostalCode</th>\n",
       "      <th>LastSeen</th>\n",
       "    </tr>\n",
       "  </thead>\n",
       "  <tbody>\n",
       "    <tr>\n",
       "      <th>0</th>\n",
       "      <td>2016-03-24 11:52:17</td>\n",
       "      <td>480</td>\n",
       "      <td>NaN</td>\n",
       "      <td>1993</td>\n",
       "      <td>manual</td>\n",
       "      <td>0</td>\n",
       "      <td>golf</td>\n",
       "      <td>150000</td>\n",
       "      <td>0</td>\n",
       "      <td>petrol</td>\n",
       "      <td>volkswagen</td>\n",
       "      <td>NaN</td>\n",
       "      <td>2016-03-24 00:00:00</td>\n",
       "      <td>0</td>\n",
       "      <td>70435</td>\n",
       "      <td>2016-04-07 03:16:57</td>\n",
       "    </tr>\n",
       "    <tr>\n",
       "      <th>1</th>\n",
       "      <td>2016-03-24 10:58:45</td>\n",
       "      <td>18300</td>\n",
       "      <td>coupe</td>\n",
       "      <td>2011</td>\n",
       "      <td>manual</td>\n",
       "      <td>190</td>\n",
       "      <td>NaN</td>\n",
       "      <td>125000</td>\n",
       "      <td>5</td>\n",
       "      <td>gasoline</td>\n",
       "      <td>audi</td>\n",
       "      <td>yes</td>\n",
       "      <td>2016-03-24 00:00:00</td>\n",
       "      <td>0</td>\n",
       "      <td>66954</td>\n",
       "      <td>2016-04-07 01:46:50</td>\n",
       "    </tr>\n",
       "    <tr>\n",
       "      <th>2</th>\n",
       "      <td>2016-03-14 12:52:21</td>\n",
       "      <td>9800</td>\n",
       "      <td>suv</td>\n",
       "      <td>2004</td>\n",
       "      <td>auto</td>\n",
       "      <td>163</td>\n",
       "      <td>grand</td>\n",
       "      <td>125000</td>\n",
       "      <td>8</td>\n",
       "      <td>gasoline</td>\n",
       "      <td>jeep</td>\n",
       "      <td>NaN</td>\n",
       "      <td>2016-03-14 00:00:00</td>\n",
       "      <td>0</td>\n",
       "      <td>90480</td>\n",
       "      <td>2016-04-05 12:47:46</td>\n",
       "    </tr>\n",
       "    <tr>\n",
       "      <th>3</th>\n",
       "      <td>2016-03-17 16:54:04</td>\n",
       "      <td>1500</td>\n",
       "      <td>small</td>\n",
       "      <td>2001</td>\n",
       "      <td>manual</td>\n",
       "      <td>75</td>\n",
       "      <td>golf</td>\n",
       "      <td>150000</td>\n",
       "      <td>6</td>\n",
       "      <td>petrol</td>\n",
       "      <td>volkswagen</td>\n",
       "      <td>no</td>\n",
       "      <td>2016-03-17 00:00:00</td>\n",
       "      <td>0</td>\n",
       "      <td>91074</td>\n",
       "      <td>2016-03-17 17:40:17</td>\n",
       "    </tr>\n",
       "    <tr>\n",
       "      <th>4</th>\n",
       "      <td>2016-03-31 17:25:20</td>\n",
       "      <td>3600</td>\n",
       "      <td>small</td>\n",
       "      <td>2008</td>\n",
       "      <td>manual</td>\n",
       "      <td>69</td>\n",
       "      <td>fabia</td>\n",
       "      <td>90000</td>\n",
       "      <td>7</td>\n",
       "      <td>gasoline</td>\n",
       "      <td>skoda</td>\n",
       "      <td>no</td>\n",
       "      <td>2016-03-31 00:00:00</td>\n",
       "      <td>0</td>\n",
       "      <td>60437</td>\n",
       "      <td>2016-04-06 10:17:21</td>\n",
       "    </tr>\n",
       "    <tr>\n",
       "      <th>...</th>\n",
       "      <td>...</td>\n",
       "      <td>...</td>\n",
       "      <td>...</td>\n",
       "      <td>...</td>\n",
       "      <td>...</td>\n",
       "      <td>...</td>\n",
       "      <td>...</td>\n",
       "      <td>...</td>\n",
       "      <td>...</td>\n",
       "      <td>...</td>\n",
       "      <td>...</td>\n",
       "      <td>...</td>\n",
       "      <td>...</td>\n",
       "      <td>...</td>\n",
       "      <td>...</td>\n",
       "      <td>...</td>\n",
       "    </tr>\n",
       "    <tr>\n",
       "      <th>354364</th>\n",
       "      <td>2016-03-21 09:50:58</td>\n",
       "      <td>0</td>\n",
       "      <td>NaN</td>\n",
       "      <td>2005</td>\n",
       "      <td>manual</td>\n",
       "      <td>0</td>\n",
       "      <td>colt</td>\n",
       "      <td>150000</td>\n",
       "      <td>7</td>\n",
       "      <td>petrol</td>\n",
       "      <td>mitsubishi</td>\n",
       "      <td>yes</td>\n",
       "      <td>2016-03-21 00:00:00</td>\n",
       "      <td>0</td>\n",
       "      <td>2694</td>\n",
       "      <td>2016-03-21 10:42:49</td>\n",
       "    </tr>\n",
       "    <tr>\n",
       "      <th>354365</th>\n",
       "      <td>2016-03-14 17:48:27</td>\n",
       "      <td>2200</td>\n",
       "      <td>NaN</td>\n",
       "      <td>2005</td>\n",
       "      <td>NaN</td>\n",
       "      <td>0</td>\n",
       "      <td>NaN</td>\n",
       "      <td>20000</td>\n",
       "      <td>1</td>\n",
       "      <td>NaN</td>\n",
       "      <td>sonstige_autos</td>\n",
       "      <td>NaN</td>\n",
       "      <td>2016-03-14 00:00:00</td>\n",
       "      <td>0</td>\n",
       "      <td>39576</td>\n",
       "      <td>2016-04-06 00:46:52</td>\n",
       "    </tr>\n",
       "    <tr>\n",
       "      <th>354366</th>\n",
       "      <td>2016-03-05 19:56:21</td>\n",
       "      <td>1199</td>\n",
       "      <td>convertible</td>\n",
       "      <td>2000</td>\n",
       "      <td>auto</td>\n",
       "      <td>101</td>\n",
       "      <td>fortwo</td>\n",
       "      <td>125000</td>\n",
       "      <td>3</td>\n",
       "      <td>petrol</td>\n",
       "      <td>smart</td>\n",
       "      <td>no</td>\n",
       "      <td>2016-03-05 00:00:00</td>\n",
       "      <td>0</td>\n",
       "      <td>26135</td>\n",
       "      <td>2016-03-11 18:17:12</td>\n",
       "    </tr>\n",
       "    <tr>\n",
       "      <th>354367</th>\n",
       "      <td>2016-03-19 18:57:12</td>\n",
       "      <td>9200</td>\n",
       "      <td>bus</td>\n",
       "      <td>1996</td>\n",
       "      <td>manual</td>\n",
       "      <td>102</td>\n",
       "      <td>transporter</td>\n",
       "      <td>150000</td>\n",
       "      <td>3</td>\n",
       "      <td>gasoline</td>\n",
       "      <td>volkswagen</td>\n",
       "      <td>no</td>\n",
       "      <td>2016-03-19 00:00:00</td>\n",
       "      <td>0</td>\n",
       "      <td>87439</td>\n",
       "      <td>2016-04-07 07:15:26</td>\n",
       "    </tr>\n",
       "    <tr>\n",
       "      <th>354368</th>\n",
       "      <td>2016-03-20 19:41:08</td>\n",
       "      <td>3400</td>\n",
       "      <td>wagon</td>\n",
       "      <td>2002</td>\n",
       "      <td>manual</td>\n",
       "      <td>100</td>\n",
       "      <td>golf</td>\n",
       "      <td>150000</td>\n",
       "      <td>6</td>\n",
       "      <td>gasoline</td>\n",
       "      <td>volkswagen</td>\n",
       "      <td>NaN</td>\n",
       "      <td>2016-03-20 00:00:00</td>\n",
       "      <td>0</td>\n",
       "      <td>40764</td>\n",
       "      <td>2016-03-24 12:45:21</td>\n",
       "    </tr>\n",
       "  </tbody>\n",
       "</table>\n",
       "<p>354369 rows × 16 columns</p>\n",
       "</div>"
      ],
      "text/plain": [
       "                DateCrawled  Price  VehicleType  RegistrationYear Gearbox  \\\n",
       "0       2016-03-24 11:52:17    480          NaN              1993  manual   \n",
       "1       2016-03-24 10:58:45  18300        coupe              2011  manual   \n",
       "2       2016-03-14 12:52:21   9800          suv              2004    auto   \n",
       "3       2016-03-17 16:54:04   1500        small              2001  manual   \n",
       "4       2016-03-31 17:25:20   3600        small              2008  manual   \n",
       "...                     ...    ...          ...               ...     ...   \n",
       "354364  2016-03-21 09:50:58      0          NaN              2005  manual   \n",
       "354365  2016-03-14 17:48:27   2200          NaN              2005     NaN   \n",
       "354366  2016-03-05 19:56:21   1199  convertible              2000    auto   \n",
       "354367  2016-03-19 18:57:12   9200          bus              1996  manual   \n",
       "354368  2016-03-20 19:41:08   3400        wagon              2002  manual   \n",
       "\n",
       "        Power        Model  Kilometer  RegistrationMonth  FuelType  \\\n",
       "0           0         golf     150000                  0    petrol   \n",
       "1         190          NaN     125000                  5  gasoline   \n",
       "2         163        grand     125000                  8  gasoline   \n",
       "3          75         golf     150000                  6    petrol   \n",
       "4          69        fabia      90000                  7  gasoline   \n",
       "...       ...          ...        ...                ...       ...   \n",
       "354364      0         colt     150000                  7    petrol   \n",
       "354365      0          NaN      20000                  1       NaN   \n",
       "354366    101       fortwo     125000                  3    petrol   \n",
       "354367    102  transporter     150000                  3  gasoline   \n",
       "354368    100         golf     150000                  6  gasoline   \n",
       "\n",
       "                 Brand NotRepaired          DateCreated  NumberOfPictures  \\\n",
       "0           volkswagen         NaN  2016-03-24 00:00:00                 0   \n",
       "1                 audi         yes  2016-03-24 00:00:00                 0   \n",
       "2                 jeep         NaN  2016-03-14 00:00:00                 0   \n",
       "3           volkswagen          no  2016-03-17 00:00:00                 0   \n",
       "4                skoda          no  2016-03-31 00:00:00                 0   \n",
       "...                ...         ...                  ...               ...   \n",
       "354364      mitsubishi         yes  2016-03-21 00:00:00                 0   \n",
       "354365  sonstige_autos         NaN  2016-03-14 00:00:00                 0   \n",
       "354366           smart          no  2016-03-05 00:00:00                 0   \n",
       "354367      volkswagen          no  2016-03-19 00:00:00                 0   \n",
       "354368      volkswagen         NaN  2016-03-20 00:00:00                 0   \n",
       "\n",
       "        PostalCode             LastSeen  \n",
       "0            70435  2016-04-07 03:16:57  \n",
       "1            66954  2016-04-07 01:46:50  \n",
       "2            90480  2016-04-05 12:47:46  \n",
       "3            91074  2016-03-17 17:40:17  \n",
       "4            60437  2016-04-06 10:17:21  \n",
       "...            ...                  ...  \n",
       "354364        2694  2016-03-21 10:42:49  \n",
       "354365       39576  2016-04-06 00:46:52  \n",
       "354366       26135  2016-03-11 18:17:12  \n",
       "354367       87439  2016-04-07 07:15:26  \n",
       "354368       40764  2016-03-24 12:45:21  \n",
       "\n",
       "[354369 rows x 16 columns]"
      ]
     },
     "execution_count": 144,
     "metadata": {},
     "output_type": "execute_result"
    }
   ],
   "source": [
    "data = pd.read_csv('/datasets/autos.csv')\n",
    "data"
   ]
  },
  {
   "cell_type": "markdown",
   "metadata": {},
   "source": [
    "Приведем все столбцы к нижнему регистру:"
   ]
  },
  {
   "cell_type": "code",
   "execution_count": 145,
   "metadata": {
    "scrolled": true
   },
   "outputs": [
    {
     "data": {
      "text/html": [
       "<div>\n",
       "<style scoped>\n",
       "    .dataframe tbody tr th:only-of-type {\n",
       "        vertical-align: middle;\n",
       "    }\n",
       "\n",
       "    .dataframe tbody tr th {\n",
       "        vertical-align: top;\n",
       "    }\n",
       "\n",
       "    .dataframe thead th {\n",
       "        text-align: right;\n",
       "    }\n",
       "</style>\n",
       "<table border=\"1\" class=\"dataframe\">\n",
       "  <thead>\n",
       "    <tr style=\"text-align: right;\">\n",
       "      <th></th>\n",
       "      <th>datecrawled</th>\n",
       "      <th>price</th>\n",
       "      <th>vehicletype</th>\n",
       "      <th>registrationyear</th>\n",
       "      <th>gearbox</th>\n",
       "      <th>power</th>\n",
       "      <th>model</th>\n",
       "      <th>kilometer</th>\n",
       "      <th>registrationmonth</th>\n",
       "      <th>fueltype</th>\n",
       "      <th>brand</th>\n",
       "      <th>notrepaired</th>\n",
       "      <th>datecreated</th>\n",
       "      <th>numberofpictures</th>\n",
       "      <th>postalcode</th>\n",
       "      <th>lastseen</th>\n",
       "    </tr>\n",
       "  </thead>\n",
       "  <tbody>\n",
       "    <tr>\n",
       "      <th>0</th>\n",
       "      <td>2016-03-24 11:52:17</td>\n",
       "      <td>480</td>\n",
       "      <td>NaN</td>\n",
       "      <td>1993</td>\n",
       "      <td>manual</td>\n",
       "      <td>0</td>\n",
       "      <td>golf</td>\n",
       "      <td>150000</td>\n",
       "      <td>0</td>\n",
       "      <td>petrol</td>\n",
       "      <td>volkswagen</td>\n",
       "      <td>NaN</td>\n",
       "      <td>2016-03-24 00:00:00</td>\n",
       "      <td>0</td>\n",
       "      <td>70435</td>\n",
       "      <td>2016-04-07 03:16:57</td>\n",
       "    </tr>\n",
       "    <tr>\n",
       "      <th>1</th>\n",
       "      <td>2016-03-24 10:58:45</td>\n",
       "      <td>18300</td>\n",
       "      <td>coupe</td>\n",
       "      <td>2011</td>\n",
       "      <td>manual</td>\n",
       "      <td>190</td>\n",
       "      <td>NaN</td>\n",
       "      <td>125000</td>\n",
       "      <td>5</td>\n",
       "      <td>gasoline</td>\n",
       "      <td>audi</td>\n",
       "      <td>yes</td>\n",
       "      <td>2016-03-24 00:00:00</td>\n",
       "      <td>0</td>\n",
       "      <td>66954</td>\n",
       "      <td>2016-04-07 01:46:50</td>\n",
       "    </tr>\n",
       "    <tr>\n",
       "      <th>2</th>\n",
       "      <td>2016-03-14 12:52:21</td>\n",
       "      <td>9800</td>\n",
       "      <td>suv</td>\n",
       "      <td>2004</td>\n",
       "      <td>auto</td>\n",
       "      <td>163</td>\n",
       "      <td>grand</td>\n",
       "      <td>125000</td>\n",
       "      <td>8</td>\n",
       "      <td>gasoline</td>\n",
       "      <td>jeep</td>\n",
       "      <td>NaN</td>\n",
       "      <td>2016-03-14 00:00:00</td>\n",
       "      <td>0</td>\n",
       "      <td>90480</td>\n",
       "      <td>2016-04-05 12:47:46</td>\n",
       "    </tr>\n",
       "    <tr>\n",
       "      <th>3</th>\n",
       "      <td>2016-03-17 16:54:04</td>\n",
       "      <td>1500</td>\n",
       "      <td>small</td>\n",
       "      <td>2001</td>\n",
       "      <td>manual</td>\n",
       "      <td>75</td>\n",
       "      <td>golf</td>\n",
       "      <td>150000</td>\n",
       "      <td>6</td>\n",
       "      <td>petrol</td>\n",
       "      <td>volkswagen</td>\n",
       "      <td>no</td>\n",
       "      <td>2016-03-17 00:00:00</td>\n",
       "      <td>0</td>\n",
       "      <td>91074</td>\n",
       "      <td>2016-03-17 17:40:17</td>\n",
       "    </tr>\n",
       "    <tr>\n",
       "      <th>4</th>\n",
       "      <td>2016-03-31 17:25:20</td>\n",
       "      <td>3600</td>\n",
       "      <td>small</td>\n",
       "      <td>2008</td>\n",
       "      <td>manual</td>\n",
       "      <td>69</td>\n",
       "      <td>fabia</td>\n",
       "      <td>90000</td>\n",
       "      <td>7</td>\n",
       "      <td>gasoline</td>\n",
       "      <td>skoda</td>\n",
       "      <td>no</td>\n",
       "      <td>2016-03-31 00:00:00</td>\n",
       "      <td>0</td>\n",
       "      <td>60437</td>\n",
       "      <td>2016-04-06 10:17:21</td>\n",
       "    </tr>\n",
       "    <tr>\n",
       "      <th>...</th>\n",
       "      <td>...</td>\n",
       "      <td>...</td>\n",
       "      <td>...</td>\n",
       "      <td>...</td>\n",
       "      <td>...</td>\n",
       "      <td>...</td>\n",
       "      <td>...</td>\n",
       "      <td>...</td>\n",
       "      <td>...</td>\n",
       "      <td>...</td>\n",
       "      <td>...</td>\n",
       "      <td>...</td>\n",
       "      <td>...</td>\n",
       "      <td>...</td>\n",
       "      <td>...</td>\n",
       "      <td>...</td>\n",
       "    </tr>\n",
       "    <tr>\n",
       "      <th>354364</th>\n",
       "      <td>2016-03-21 09:50:58</td>\n",
       "      <td>0</td>\n",
       "      <td>NaN</td>\n",
       "      <td>2005</td>\n",
       "      <td>manual</td>\n",
       "      <td>0</td>\n",
       "      <td>colt</td>\n",
       "      <td>150000</td>\n",
       "      <td>7</td>\n",
       "      <td>petrol</td>\n",
       "      <td>mitsubishi</td>\n",
       "      <td>yes</td>\n",
       "      <td>2016-03-21 00:00:00</td>\n",
       "      <td>0</td>\n",
       "      <td>2694</td>\n",
       "      <td>2016-03-21 10:42:49</td>\n",
       "    </tr>\n",
       "    <tr>\n",
       "      <th>354365</th>\n",
       "      <td>2016-03-14 17:48:27</td>\n",
       "      <td>2200</td>\n",
       "      <td>NaN</td>\n",
       "      <td>2005</td>\n",
       "      <td>NaN</td>\n",
       "      <td>0</td>\n",
       "      <td>NaN</td>\n",
       "      <td>20000</td>\n",
       "      <td>1</td>\n",
       "      <td>NaN</td>\n",
       "      <td>sonstige_autos</td>\n",
       "      <td>NaN</td>\n",
       "      <td>2016-03-14 00:00:00</td>\n",
       "      <td>0</td>\n",
       "      <td>39576</td>\n",
       "      <td>2016-04-06 00:46:52</td>\n",
       "    </tr>\n",
       "    <tr>\n",
       "      <th>354366</th>\n",
       "      <td>2016-03-05 19:56:21</td>\n",
       "      <td>1199</td>\n",
       "      <td>convertible</td>\n",
       "      <td>2000</td>\n",
       "      <td>auto</td>\n",
       "      <td>101</td>\n",
       "      <td>fortwo</td>\n",
       "      <td>125000</td>\n",
       "      <td>3</td>\n",
       "      <td>petrol</td>\n",
       "      <td>smart</td>\n",
       "      <td>no</td>\n",
       "      <td>2016-03-05 00:00:00</td>\n",
       "      <td>0</td>\n",
       "      <td>26135</td>\n",
       "      <td>2016-03-11 18:17:12</td>\n",
       "    </tr>\n",
       "    <tr>\n",
       "      <th>354367</th>\n",
       "      <td>2016-03-19 18:57:12</td>\n",
       "      <td>9200</td>\n",
       "      <td>bus</td>\n",
       "      <td>1996</td>\n",
       "      <td>manual</td>\n",
       "      <td>102</td>\n",
       "      <td>transporter</td>\n",
       "      <td>150000</td>\n",
       "      <td>3</td>\n",
       "      <td>gasoline</td>\n",
       "      <td>volkswagen</td>\n",
       "      <td>no</td>\n",
       "      <td>2016-03-19 00:00:00</td>\n",
       "      <td>0</td>\n",
       "      <td>87439</td>\n",
       "      <td>2016-04-07 07:15:26</td>\n",
       "    </tr>\n",
       "    <tr>\n",
       "      <th>354368</th>\n",
       "      <td>2016-03-20 19:41:08</td>\n",
       "      <td>3400</td>\n",
       "      <td>wagon</td>\n",
       "      <td>2002</td>\n",
       "      <td>manual</td>\n",
       "      <td>100</td>\n",
       "      <td>golf</td>\n",
       "      <td>150000</td>\n",
       "      <td>6</td>\n",
       "      <td>gasoline</td>\n",
       "      <td>volkswagen</td>\n",
       "      <td>NaN</td>\n",
       "      <td>2016-03-20 00:00:00</td>\n",
       "      <td>0</td>\n",
       "      <td>40764</td>\n",
       "      <td>2016-03-24 12:45:21</td>\n",
       "    </tr>\n",
       "  </tbody>\n",
       "</table>\n",
       "<p>354369 rows × 16 columns</p>\n",
       "</div>"
      ],
      "text/plain": [
       "                datecrawled  price  vehicletype  registrationyear gearbox  \\\n",
       "0       2016-03-24 11:52:17    480          NaN              1993  manual   \n",
       "1       2016-03-24 10:58:45  18300        coupe              2011  manual   \n",
       "2       2016-03-14 12:52:21   9800          suv              2004    auto   \n",
       "3       2016-03-17 16:54:04   1500        small              2001  manual   \n",
       "4       2016-03-31 17:25:20   3600        small              2008  manual   \n",
       "...                     ...    ...          ...               ...     ...   \n",
       "354364  2016-03-21 09:50:58      0          NaN              2005  manual   \n",
       "354365  2016-03-14 17:48:27   2200          NaN              2005     NaN   \n",
       "354366  2016-03-05 19:56:21   1199  convertible              2000    auto   \n",
       "354367  2016-03-19 18:57:12   9200          bus              1996  manual   \n",
       "354368  2016-03-20 19:41:08   3400        wagon              2002  manual   \n",
       "\n",
       "        power        model  kilometer  registrationmonth  fueltype  \\\n",
       "0           0         golf     150000                  0    petrol   \n",
       "1         190          NaN     125000                  5  gasoline   \n",
       "2         163        grand     125000                  8  gasoline   \n",
       "3          75         golf     150000                  6    petrol   \n",
       "4          69        fabia      90000                  7  gasoline   \n",
       "...       ...          ...        ...                ...       ...   \n",
       "354364      0         colt     150000                  7    petrol   \n",
       "354365      0          NaN      20000                  1       NaN   \n",
       "354366    101       fortwo     125000                  3    petrol   \n",
       "354367    102  transporter     150000                  3  gasoline   \n",
       "354368    100         golf     150000                  6  gasoline   \n",
       "\n",
       "                 brand notrepaired          datecreated  numberofpictures  \\\n",
       "0           volkswagen         NaN  2016-03-24 00:00:00                 0   \n",
       "1                 audi         yes  2016-03-24 00:00:00                 0   \n",
       "2                 jeep         NaN  2016-03-14 00:00:00                 0   \n",
       "3           volkswagen          no  2016-03-17 00:00:00                 0   \n",
       "4                skoda          no  2016-03-31 00:00:00                 0   \n",
       "...                ...         ...                  ...               ...   \n",
       "354364      mitsubishi         yes  2016-03-21 00:00:00                 0   \n",
       "354365  sonstige_autos         NaN  2016-03-14 00:00:00                 0   \n",
       "354366           smart          no  2016-03-05 00:00:00                 0   \n",
       "354367      volkswagen          no  2016-03-19 00:00:00                 0   \n",
       "354368      volkswagen         NaN  2016-03-20 00:00:00                 0   \n",
       "\n",
       "        postalcode             lastseen  \n",
       "0            70435  2016-04-07 03:16:57  \n",
       "1            66954  2016-04-07 01:46:50  \n",
       "2            90480  2016-04-05 12:47:46  \n",
       "3            91074  2016-03-17 17:40:17  \n",
       "4            60437  2016-04-06 10:17:21  \n",
       "...            ...                  ...  \n",
       "354364        2694  2016-03-21 10:42:49  \n",
       "354365       39576  2016-04-06 00:46:52  \n",
       "354366       26135  2016-03-11 18:17:12  \n",
       "354367       87439  2016-04-07 07:15:26  \n",
       "354368       40764  2016-03-24 12:45:21  \n",
       "\n",
       "[354369 rows x 16 columns]"
      ]
     },
     "execution_count": 145,
     "metadata": {},
     "output_type": "execute_result"
    }
   ],
   "source": [
    "data.columns = data.columns.str.lower()\n",
    "data"
   ]
  },
  {
   "cell_type": "code",
   "execution_count": 146,
   "metadata": {
    "scrolled": true
   },
   "outputs": [
    {
     "name": "stdout",
     "output_type": "stream",
     "text": [
      "<class 'pandas.core.frame.DataFrame'>\n",
      "RangeIndex: 354369 entries, 0 to 354368\n",
      "Data columns (total 16 columns):\n",
      " #   Column             Non-Null Count   Dtype \n",
      "---  ------             --------------   ----- \n",
      " 0   datecrawled        354369 non-null  object\n",
      " 1   price              354369 non-null  int64 \n",
      " 2   vehicletype        316879 non-null  object\n",
      " 3   registrationyear   354369 non-null  int64 \n",
      " 4   gearbox            334536 non-null  object\n",
      " 5   power              354369 non-null  int64 \n",
      " 6   model              334664 non-null  object\n",
      " 7   kilometer          354369 non-null  int64 \n",
      " 8   registrationmonth  354369 non-null  int64 \n",
      " 9   fueltype           321474 non-null  object\n",
      " 10  brand              354369 non-null  object\n",
      " 11  notrepaired        283215 non-null  object\n",
      " 12  datecreated        354369 non-null  object\n",
      " 13  numberofpictures   354369 non-null  int64 \n",
      " 14  postalcode         354369 non-null  int64 \n",
      " 15  lastseen           354369 non-null  object\n",
      "dtypes: int64(7), object(9)\n",
      "memory usage: 43.3+ MB\n"
     ]
    },
    {
     "data": {
      "text/plain": [
       "None"
      ]
     },
     "metadata": {},
     "output_type": "display_data"
    },
    {
     "data": {
      "text/html": [
       "<div>\n",
       "<style scoped>\n",
       "    .dataframe tbody tr th:only-of-type {\n",
       "        vertical-align: middle;\n",
       "    }\n",
       "\n",
       "    .dataframe tbody tr th {\n",
       "        vertical-align: top;\n",
       "    }\n",
       "\n",
       "    .dataframe thead th {\n",
       "        text-align: right;\n",
       "    }\n",
       "</style>\n",
       "<table border=\"1\" class=\"dataframe\">\n",
       "  <thead>\n",
       "    <tr style=\"text-align: right;\">\n",
       "      <th></th>\n",
       "      <th>price</th>\n",
       "      <th>registrationyear</th>\n",
       "      <th>power</th>\n",
       "      <th>kilometer</th>\n",
       "      <th>registrationmonth</th>\n",
       "      <th>numberofpictures</th>\n",
       "      <th>postalcode</th>\n",
       "    </tr>\n",
       "  </thead>\n",
       "  <tbody>\n",
       "    <tr>\n",
       "      <th>count</th>\n",
       "      <td>354369.000000</td>\n",
       "      <td>354369.000000</td>\n",
       "      <td>354369.000000</td>\n",
       "      <td>354369.000000</td>\n",
       "      <td>354369.000000</td>\n",
       "      <td>354369.0</td>\n",
       "      <td>354369.000000</td>\n",
       "    </tr>\n",
       "    <tr>\n",
       "      <th>mean</th>\n",
       "      <td>4416.656776</td>\n",
       "      <td>2004.234448</td>\n",
       "      <td>110.094337</td>\n",
       "      <td>128211.172535</td>\n",
       "      <td>5.714645</td>\n",
       "      <td>0.0</td>\n",
       "      <td>50508.689087</td>\n",
       "    </tr>\n",
       "    <tr>\n",
       "      <th>std</th>\n",
       "      <td>4514.158514</td>\n",
       "      <td>90.227958</td>\n",
       "      <td>189.850405</td>\n",
       "      <td>37905.341530</td>\n",
       "      <td>3.726421</td>\n",
       "      <td>0.0</td>\n",
       "      <td>25783.096248</td>\n",
       "    </tr>\n",
       "    <tr>\n",
       "      <th>min</th>\n",
       "      <td>0.000000</td>\n",
       "      <td>1000.000000</td>\n",
       "      <td>0.000000</td>\n",
       "      <td>5000.000000</td>\n",
       "      <td>0.000000</td>\n",
       "      <td>0.0</td>\n",
       "      <td>1067.000000</td>\n",
       "    </tr>\n",
       "    <tr>\n",
       "      <th>25%</th>\n",
       "      <td>1050.000000</td>\n",
       "      <td>1999.000000</td>\n",
       "      <td>69.000000</td>\n",
       "      <td>125000.000000</td>\n",
       "      <td>3.000000</td>\n",
       "      <td>0.0</td>\n",
       "      <td>30165.000000</td>\n",
       "    </tr>\n",
       "    <tr>\n",
       "      <th>50%</th>\n",
       "      <td>2700.000000</td>\n",
       "      <td>2003.000000</td>\n",
       "      <td>105.000000</td>\n",
       "      <td>150000.000000</td>\n",
       "      <td>6.000000</td>\n",
       "      <td>0.0</td>\n",
       "      <td>49413.000000</td>\n",
       "    </tr>\n",
       "    <tr>\n",
       "      <th>75%</th>\n",
       "      <td>6400.000000</td>\n",
       "      <td>2008.000000</td>\n",
       "      <td>143.000000</td>\n",
       "      <td>150000.000000</td>\n",
       "      <td>9.000000</td>\n",
       "      <td>0.0</td>\n",
       "      <td>71083.000000</td>\n",
       "    </tr>\n",
       "    <tr>\n",
       "      <th>max</th>\n",
       "      <td>20000.000000</td>\n",
       "      <td>9999.000000</td>\n",
       "      <td>20000.000000</td>\n",
       "      <td>150000.000000</td>\n",
       "      <td>12.000000</td>\n",
       "      <td>0.0</td>\n",
       "      <td>99998.000000</td>\n",
       "    </tr>\n",
       "  </tbody>\n",
       "</table>\n",
       "</div>"
      ],
      "text/plain": [
       "               price  registrationyear          power      kilometer  \\\n",
       "count  354369.000000     354369.000000  354369.000000  354369.000000   \n",
       "mean     4416.656776       2004.234448     110.094337  128211.172535   \n",
       "std      4514.158514         90.227958     189.850405   37905.341530   \n",
       "min         0.000000       1000.000000       0.000000    5000.000000   \n",
       "25%      1050.000000       1999.000000      69.000000  125000.000000   \n",
       "50%      2700.000000       2003.000000     105.000000  150000.000000   \n",
       "75%      6400.000000       2008.000000     143.000000  150000.000000   \n",
       "max     20000.000000       9999.000000   20000.000000  150000.000000   \n",
       "\n",
       "       registrationmonth  numberofpictures     postalcode  \n",
       "count      354369.000000          354369.0  354369.000000  \n",
       "mean            5.714645               0.0   50508.689087  \n",
       "std             3.726421               0.0   25783.096248  \n",
       "min             0.000000               0.0    1067.000000  \n",
       "25%             3.000000               0.0   30165.000000  \n",
       "50%             6.000000               0.0   49413.000000  \n",
       "75%             9.000000               0.0   71083.000000  \n",
       "max            12.000000               0.0   99998.000000  "
      ]
     },
     "metadata": {},
     "output_type": "display_data"
    },
    {
     "data": {
      "text/plain": [
       "'Пропуски:'"
      ]
     },
     "metadata": {},
     "output_type": "display_data"
    },
    {
     "data": {
      "text/plain": [
       "datecrawled              0\n",
       "price                    0\n",
       "vehicletype          37490\n",
       "registrationyear         0\n",
       "gearbox              19833\n",
       "power                    0\n",
       "model                19705\n",
       "kilometer                0\n",
       "registrationmonth        0\n",
       "fueltype             32895\n",
       "brand                    0\n",
       "notrepaired          71154\n",
       "datecreated              0\n",
       "numberofpictures         0\n",
       "postalcode               0\n",
       "lastseen                 0\n",
       "dtype: int64"
      ]
     },
     "metadata": {},
     "output_type": "display_data"
    },
    {
     "data": {
      "text/plain": [
       "'Дубликаты:'"
      ]
     },
     "metadata": {},
     "output_type": "display_data"
    },
    {
     "data": {
      "text/plain": [
       "4"
      ]
     },
     "metadata": {},
     "output_type": "display_data"
    }
   ],
   "source": [
    "display(data.info())\n",
    "display(data.describe())\n",
    "display('Пропуски:', data.isna().sum())\n",
    "display('Дубликаты:', data.duplicated().sum())"
   ]
  },
  {
   "cell_type": "markdown",
   "metadata": {},
   "source": [
    "Сделаем корреляционную матрицу до предобработки данных:"
   ]
  },
  {
   "cell_type": "code",
   "execution_count": 147,
   "metadata": {},
   "outputs": [
    {
     "data": {
      "text/plain": [
       "<AxesSubplot:>"
      ]
     },
     "execution_count": 147,
     "metadata": {},
     "output_type": "execute_result"
    },
    {
     "data": {
      "image/png": "[encoded data removed]",
      "text/plain": [
       "<Figure size 648x576 with 2 Axes>"
      ]
     },
     "metadata": {
      "needs_background": "light"
     },
     "output_type": "display_data"
    }
   ],
   "source": [
    "corrmat = data.corr()\n",
    "  \n",
    "f, ax = plt.subplots(figsize =(9, 8))\n",
    "sns.heatmap(corrmat, ax = ax, cmap =\"YlGnBu\", linewidths = 0.1)"
   ]
  },
  {
   "cell_type": "markdown",
   "metadata": {},
   "source": [
    "### Вывод:\n",
    "\n",
    "- Информация о структуре данных - двумерная(DataFrame);\n",
    "- таблица имеет 354369 строк и 16 столбцов; \n",
    "- присутствуют названия столбцов и количество ненулевых значений;\n",
    "- в таблице присутствуют значения типов object(9 столбцов), int(7 столбцов);\n",
    "- использование памяти.\n",
    "\n",
    "Пропуски наблюдаются в 5-ти столбцах, далее в предобработке данных будем заполнять пропуски по мере необходимости.\n",
    "Присутствует 4 дубликата."
   ]
  },
  {
   "cell_type": "markdown",
   "metadata": {},
   "source": [
    "### Преобработка данных:\n",
    "\n",
    "Столбцы \"datecrawled\", \"datecreated\", \"registrationmonth\" и \"lastseen\" можно удалить, так как они не понадобятся нам для дальнейшего анализа."
   ]
  },
  {
   "cell_type": "code",
   "execution_count": 148,
   "metadata": {},
   "outputs": [],
   "source": [
    "data = data.drop(['datecrawled', 'datecreated', 'lastseen', 'registrationmonth'], axis=1)"
   ]
  },
  {
   "cell_type": "markdown",
   "metadata": {},
   "source": [
    "Заметно, что в столбце \"numberofpictures\" только нули, поэтому данный столбец также можно удалить:"
   ]
  },
  {
   "cell_type": "code",
   "execution_count": 149,
   "metadata": {},
   "outputs": [],
   "source": [
    "data = data.drop('numberofpictures', axis=1)"
   ]
  },
  {
   "cell_type": "markdown",
   "metadata": {},
   "source": [
    "В столбце \"price\" присутствуют аномалии, удалим эти строки:"
   ]
  },
  {
   "cell_type": "code",
   "execution_count": 150,
   "metadata": {},
   "outputs": [
    {
     "data": {
      "image/png": "[encoded data removed]",
      "text/plain": [
       "<Figure size 432x288 with 1 Axes>"
      ]
     },
     "metadata": {
      "needs_background": "light"
     },
     "output_type": "display_data"
    }
   ],
   "source": [
    "data['price'].hist()\n",
    "\n",
    "plt.legend(['Price'])\n",
    "plt.xlabel('Цена на автомобиль(евро)')\n",
    "plt.ylabel('Количество')\n",
    "plt.show()"
   ]
  },
  {
   "cell_type": "code",
   "execution_count": 151,
   "metadata": {},
   "outputs": [
    {
     "name": "stdout",
     "output_type": "stream",
     "text": [
      "Удалим (220053,) строк\n"
     ]
    }
   ],
   "source": [
    "data_price = data[data['price']< 4000]['price'].index\n",
    "print('Удалим', data_price.shape, 'строк')"
   ]
  },
  {
   "cell_type": "code",
   "execution_count": 152,
   "metadata": {},
   "outputs": [],
   "source": [
    "data = data.drop(data_price)"
   ]
  },
  {
   "cell_type": "markdown",
   "metadata": {},
   "source": [
    "На данном этапе в столбце \"notrepaired\" присутствует 65866 пропусков, это видно ниже и далее заполним их \"unknown\":"
   ]
  },
  {
   "cell_type": "code",
   "execution_count": 153,
   "metadata": {},
   "outputs": [
    {
     "name": "stdout",
     "output_type": "stream",
     "text": [
      "Количество пропусков: 14311\n"
     ]
    }
   ],
   "source": [
    "print('Количество пропусков:', data['notrepaired'].isna().sum())"
   ]
  },
  {
   "cell_type": "code",
   "execution_count": 154,
   "metadata": {},
   "outputs": [],
   "source": [
    "data['notrepaired'] = data['notrepaired'].fillna('unknown')"
   ]
  },
  {
   "cell_type": "markdown",
   "metadata": {},
   "source": [
    "Посмотрев данные, увидела что в столбце \"registrationyear\" есть несуществующие года регистрации автомобиля(точнее присутствуют выбросы):"
   ]
  },
  {
   "cell_type": "code",
   "execution_count": 155,
   "metadata": {},
   "outputs": [
    {
     "data": {
      "text/plain": [
       "array([2011, 2004, 2014, 2007, 2009, 2017, 2008, 2002, 2006, 2012, 2005,\n",
       "       2010, 2013, 1996, 2003, 2015, 2000, 1999, 1995, 1997, 1976, 1983,\n",
       "       2016, 2001, 1981, 1973, 1969, 1971, 2018, 1987, 1991, 1990, 1985,\n",
       "       1988, 1992, 1980, 1984, 1998, 1986, 1965, 1945, 1994, 1974, 1979,\n",
       "       1989, 1993, 1955, 1982, 1978, 1972, 1961, 1977, 1966, 1975, 1970,\n",
       "       1968, 1963, 1967, 1956, 1960, 1941, 8888, 1500, 1964, 1962, 1929,\n",
       "       1957, 1940, 1949, 9999, 2019, 1937, 1953, 1954, 1958, 1959, 1951,\n",
       "       2900, 6000, 5911, 4000, 1948, 1952, 8500, 1932, 1000, 5000, 1950,\n",
       "       1942, 1910, 1935, 1933, 1936, 1923, 1930, 1001, 1944, 7000, 1943,\n",
       "       1938, 1928, 5555, 1800, 3000, 1931, 4500, 7800, 1947, 1927, 7100])"
      ]
     },
     "execution_count": 155,
     "metadata": {},
     "output_type": "execute_result"
    }
   ],
   "source": [
    "data['registrationyear'].unique()"
   ]
  },
  {
   "cell_type": "markdown",
   "metadata": {},
   "source": [
    "Сделаем срез данных:"
   ]
  },
  {
   "cell_type": "code",
   "execution_count": 156,
   "metadata": {},
   "outputs": [],
   "source": [
    "data = data.query('registrationyear > 1970')\n",
    "data = data.query('registrationyear < 2020')"
   ]
  },
  {
   "cell_type": "markdown",
   "metadata": {},
   "source": [
    "Также остались столбцы спропусками, такие как: \"vehicletype\", \"gearbox\", \"model\" и \"fueltype\". Заполним их так: "
   ]
  },
  {
   "cell_type": "code",
   "execution_count": 157,
   "metadata": {},
   "outputs": [
    {
     "data": {
      "text/plain": [
       "0"
      ]
     },
     "execution_count": 157,
     "metadata": {},
     "output_type": "execute_result"
    }
   ],
   "source": [
    "data['model'] = data.groupby(['brand'], sort=False)['model'].ffill().bfill()\n",
    "data['model'].isna().sum()"
   ]
  },
  {
   "cell_type": "code",
   "execution_count": 158,
   "metadata": {},
   "outputs": [
    {
     "data": {
      "text/plain": [
       "0"
      ]
     },
     "execution_count": 158,
     "metadata": {},
     "output_type": "execute_result"
    }
   ],
   "source": [
    "data['vehicletype'] = data.groupby(['brand', 'model'], sort=False)['vehicletype'].ffill().bfill()\n",
    "data['vehicletype'].isna().sum()"
   ]
  },
  {
   "cell_type": "code",
   "execution_count": 159,
   "metadata": {},
   "outputs": [
    {
     "data": {
      "text/plain": [
       "0"
      ]
     },
     "execution_count": 159,
     "metadata": {},
     "output_type": "execute_result"
    }
   ],
   "source": [
    "data['gearbox'] = data.groupby(['brand', 'model'], sort=False)['gearbox'].ffill().bfill()\n",
    "data['gearbox'].isna().sum()"
   ]
  },
  {
   "cell_type": "code",
   "execution_count": 160,
   "metadata": {
    "scrolled": true
   },
   "outputs": [
    {
     "data": {
      "text/plain": [
       "0"
      ]
     },
     "execution_count": 160,
     "metadata": {},
     "output_type": "execute_result"
    }
   ],
   "source": [
    "data['fueltype'] = data.groupby(['brand', 'model'], sort=False)['fueltype'].ffill().bfill()\n",
    "data['fueltype'].isna().sum()"
   ]
  },
  {
   "cell_type": "markdown",
   "metadata": {},
   "source": [
    "В столбце \"power\" присутствуют выбросы, сделаем срез данных:"
   ]
  },
  {
   "cell_type": "code",
   "execution_count": 161,
   "metadata": {},
   "outputs": [],
   "source": [
    "data = data.query('power > 45')\n",
    "data = data.query('power < 600')"
   ]
  },
  {
   "cell_type": "markdown",
   "metadata": {},
   "source": [
    "Используем прямое кодирование для преобразования категориальных признаков в численные, а также избегаем дамми-ловушку:"
   ]
  },
  {
   "cell_type": "code",
   "execution_count": 162,
   "metadata": {
    "scrolled": true
   },
   "outputs": [
    {
     "data": {
      "text/html": [
       "<div>\n",
       "<style scoped>\n",
       "    .dataframe tbody tr th:only-of-type {\n",
       "        vertical-align: middle;\n",
       "    }\n",
       "\n",
       "    .dataframe tbody tr th {\n",
       "        vertical-align: top;\n",
       "    }\n",
       "\n",
       "    .dataframe thead th {\n",
       "        text-align: right;\n",
       "    }\n",
       "</style>\n",
       "<table border=\"1\" class=\"dataframe\">\n",
       "  <thead>\n",
       "    <tr style=\"text-align: right;\">\n",
       "      <th></th>\n",
       "      <th>price</th>\n",
       "      <th>registrationyear</th>\n",
       "      <th>power</th>\n",
       "      <th>kilometer</th>\n",
       "      <th>postalcode</th>\n",
       "    </tr>\n",
       "  </thead>\n",
       "  <tbody>\n",
       "    <tr>\n",
       "      <th>count</th>\n",
       "      <td>127075.000000</td>\n",
       "      <td>127075.000000</td>\n",
       "      <td>127075.000000</td>\n",
       "      <td>127075.000000</td>\n",
       "      <td>127075.000000</td>\n",
       "    </tr>\n",
       "    <tr>\n",
       "      <th>mean</th>\n",
       "      <td>9089.302097</td>\n",
       "      <td>2006.843360</td>\n",
       "      <td>147.800071</td>\n",
       "      <td>114637.458194</td>\n",
       "      <td>52774.270187</td>\n",
       "    </tr>\n",
       "    <tr>\n",
       "      <th>std</th>\n",
       "      <td>4155.257642</td>\n",
       "      <td>5.655649</td>\n",
       "      <td>57.432197</td>\n",
       "      <td>42626.748170</td>\n",
       "      <td>25812.168747</td>\n",
       "    </tr>\n",
       "    <tr>\n",
       "      <th>min</th>\n",
       "      <td>4000.000000</td>\n",
       "      <td>1971.000000</td>\n",
       "      <td>46.000000</td>\n",
       "      <td>5000.000000</td>\n",
       "      <td>1067.000000</td>\n",
       "    </tr>\n",
       "    <tr>\n",
       "      <th>25%</th>\n",
       "      <td>5700.000000</td>\n",
       "      <td>2005.000000</td>\n",
       "      <td>105.000000</td>\n",
       "      <td>80000.000000</td>\n",
       "      <td>32289.000000</td>\n",
       "    </tr>\n",
       "    <tr>\n",
       "      <th>50%</th>\n",
       "      <td>7950.000000</td>\n",
       "      <td>2007.000000</td>\n",
       "      <td>140.000000</td>\n",
       "      <td>125000.000000</td>\n",
       "      <td>52249.000000</td>\n",
       "    </tr>\n",
       "    <tr>\n",
       "      <th>75%</th>\n",
       "      <td>11800.000000</td>\n",
       "      <td>2010.000000</td>\n",
       "      <td>175.000000</td>\n",
       "      <td>150000.000000</td>\n",
       "      <td>73614.000000</td>\n",
       "    </tr>\n",
       "    <tr>\n",
       "      <th>max</th>\n",
       "      <td>20000.000000</td>\n",
       "      <td>2019.000000</td>\n",
       "      <td>585.000000</td>\n",
       "      <td>150000.000000</td>\n",
       "      <td>99998.000000</td>\n",
       "    </tr>\n",
       "  </tbody>\n",
       "</table>\n",
       "</div>"
      ],
      "text/plain": [
       "               price  registrationyear          power      kilometer  \\\n",
       "count  127075.000000     127075.000000  127075.000000  127075.000000   \n",
       "mean     9089.302097       2006.843360     147.800071  114637.458194   \n",
       "std      4155.257642          5.655649      57.432197   42626.748170   \n",
       "min      4000.000000       1971.000000      46.000000    5000.000000   \n",
       "25%      5700.000000       2005.000000     105.000000   80000.000000   \n",
       "50%      7950.000000       2007.000000     140.000000  125000.000000   \n",
       "75%     11800.000000       2010.000000     175.000000  150000.000000   \n",
       "max     20000.000000       2019.000000     585.000000  150000.000000   \n",
       "\n",
       "          postalcode  \n",
       "count  127075.000000  \n",
       "mean    52774.270187  \n",
       "std     25812.168747  \n",
       "min      1067.000000  \n",
       "25%     32289.000000  \n",
       "50%     52249.000000  \n",
       "75%     73614.000000  \n",
       "max     99998.000000  "
      ]
     },
     "execution_count": 162,
     "metadata": {},
     "output_type": "execute_result"
    }
   ],
   "source": [
    "data.describe()"
   ]
  },
  {
   "cell_type": "code",
   "execution_count": 163,
   "metadata": {},
   "outputs": [],
   "source": [
    "data_ohe = pd.get_dummies(data, drop_first=True)"
   ]
  },
  {
   "cell_type": "code",
   "execution_count": 164,
   "metadata": {},
   "outputs": [
    {
     "data": {
      "text/plain": [
       "(127075, 11)"
      ]
     },
     "execution_count": 164,
     "metadata": {},
     "output_type": "execute_result"
    }
   ],
   "source": [
    "data.shape"
   ]
  },
  {
   "cell_type": "markdown",
   "metadata": {},
   "source": [
    "Сделаем корреляционную матрицу после предобработки данных:"
   ]
  },
  {
   "cell_type": "code",
   "execution_count": 165,
   "metadata": {},
   "outputs": [
    {
     "data": {
      "text/plain": [
       "<AxesSubplot:>"
      ]
     },
     "execution_count": 165,
     "metadata": {},
     "output_type": "execute_result"
    },
    {
     "data": {
      "image/png": "[encoded data removed]",
      "text/plain": [
       "<Figure size 648x576 with 2 Axes>"
      ]
     },
     "metadata": {
      "needs_background": "light"
     },
     "output_type": "display_data"
    }
   ],
   "source": [
    "corrmat = data.corr()\n",
    "  \n",
    "f, ax = plt.subplots(figsize =(9, 8))\n",
    "sns.heatmap(corrmat, ax = ax, cmap =\"YlGnBu\", linewidths = 0.1)"
   ]
  },
  {
   "cell_type": "markdown",
   "metadata": {},
   "source": [
    "Видим, что взаимосвязь признаков стала лучше."
   ]
  },
  {
   "cell_type": "markdown",
   "metadata": {},
   "source": [
    "## Обучение моделей"
   ]
  },
  {
   "cell_type": "markdown",
   "metadata": {},
   "source": [
    "Разделим выборку на обущающую, валидационную и тестовую:"
   ]
  },
  {
   "cell_type": "code",
   "execution_count": 166,
   "metadata": {},
   "outputs": [
    {
     "data": {
      "text/plain": [
       "(81328, 298)"
      ]
     },
     "metadata": {},
     "output_type": "display_data"
    },
    {
     "data": {
      "text/plain": [
       "(81328,)"
      ]
     },
     "metadata": {},
     "output_type": "display_data"
    },
    {
     "data": {
      "text/plain": [
       "(20332, 298)"
      ]
     },
     "metadata": {},
     "output_type": "display_data"
    },
    {
     "data": {
      "text/plain": [
       "(20332,)"
      ]
     },
     "metadata": {},
     "output_type": "display_data"
    },
    {
     "data": {
      "text/plain": [
       "(25415, 298)"
      ]
     },
     "metadata": {},
     "output_type": "display_data"
    },
    {
     "data": {
      "text/plain": [
       "(25415,)"
      ]
     },
     "metadata": {},
     "output_type": "display_data"
    }
   ],
   "source": [
    "features = data_ohe.drop(['price'], axis=1) #признаки\n",
    "target = data_ohe['price'] #целевой признак\n",
    "\n",
    "features_train, features_test, target_train, target_test = train_test_split(\n",
    "    features, target, test_size=0.2, random_state=state)\n",
    "features_train, features_valid, target_train, target_valid = train_test_split(\n",
    "    features_train, target_train, test_size=0.2, random_state=state)\n",
    "\n",
    "display(features_train.shape)\n",
    "display(target_train.shape)\n",
    "display(features_valid.shape)\n",
    "display(target_valid.shape)\n",
    "display(features_test.shape)\n",
    "display(target_test.shape)"
   ]
  },
  {
   "cell_type": "markdown",
   "metadata": {},
   "source": [
    "### LightGBM(LGBMRegressor)"
   ]
  },
  {
   "cell_type": "code",
   "execution_count": 167,
   "metadata": {},
   "outputs": [
    {
     "name": "stdout",
     "output_type": "stream",
     "text": [
      "Лучшие гиперпараметры для модели:  {'boosting_type': 'gbdt', 'force_row_wise': True, 'max_depth': 15, 'n_estimators': 90, 'num_leaves': 127, 'random_state': 12345, 'verbose': -1}\n",
      "RMSE: 1911.3549682736077\n",
      "CPU times: user 16min 8s, sys: 21.9 s, total: 16min 30s\n",
      "Wall time: 16min 34s\n"
     ]
    }
   ],
   "source": [
    "%%time\n",
    "\n",
    "model_lgbmr = LGBMRegressor()\n",
    "parametrs = {\n",
    "        'boosting_type' : ['gbdt'],\n",
    "        'n_estimators' : range(10, 100, 10),\n",
    "        'max_depth' : range(1, 16, 2),\n",
    "        'random_state' : [state],\n",
    "        'verbose' : [-1],\n",
    "        'force_row_wise': [True],\n",
    "        'num_leaves' : [127]}\n",
    "model_lgbmr_grid = GridSearchCV(model_lgbmr, parametrs, cv=5)\n",
    "model_lgbmr_grid.fit(features_train, target_train)\n",
    "pred_lgbmr_valid = model_lgbmr_grid.predict(features_valid)\n",
    "mse_lgbmr = mean_squared_error(target_valid, pred_lgbmr_valid)\n",
    "print('Лучшие гиперпараметры для модели: ', model_lgbmr_grid.best_params_)\n",
    "print('RMSE:',  mse_lgbmr ** 0.5)"
   ]
  },
  {
   "cell_type": "markdown",
   "metadata": {},
   "source": [
    "#### Поверка на тестовой выборке:"
   ]
  },
  {
   "cell_type": "code",
   "execution_count": 168,
   "metadata": {},
   "outputs": [
    {
     "name": "stdout",
     "output_type": "stream",
     "text": [
      "RMSE_TEST: 1930.9982922113775\n",
      "CPU times: user 364 ms, sys: 8.06 ms, total: 372 ms\n",
      "Wall time: 394 ms\n"
     ]
    }
   ],
   "source": [
    "%%time\n",
    "\n",
    "pred_lgbmr_test = model_lgbmr_grid.predict(features_test)\n",
    "mse_lgbmr_test = mean_squared_error(target_test, pred_lgbmr_test)\n",
    "\n",
    "print('RMSE_TEST:',  mse_lgbmr_test ** 0.5)"
   ]
  },
  {
   "cell_type": "markdown",
   "metadata": {},
   "source": [
    "### Дерево решений в регрессии(DecisionTreeRegressor)"
   ]
  },
  {
   "cell_type": "code",
   "execution_count": 169,
   "metadata": {},
   "outputs": [
    {
     "name": "stdout",
     "output_type": "stream",
     "text": [
      "Глубина дерева для лучшей модели: {'max_depth': 13}\n",
      "RMSE: 2291.4208242250384\n",
      "CPU times: user 34.4 s, sys: 2.75 s, total: 37.2 s\n",
      "Wall time: 37.2 s\n"
     ]
    }
   ],
   "source": [
    "%%time\n",
    "\n",
    "model_tree = DecisionTreeRegressor(random_state=state)\n",
    "parametrs = {'max_depth': range (1,16, 2)}\n",
    "model_tree_grid = GridSearchCV(model_tree, parametrs, cv=5)\n",
    "model_tree_grid.fit(features_train, target_train)\n",
    "pred_tree_valid = model_tree_grid.predict(features_valid)\n",
    "mse_tree = mean_squared_error(target_valid, pred_tree_valid)\n",
    "\n",
    "print('Глубина дерева для лучшей модели:', model_tree_grid.best_params_)\n",
    "print('RMSE:',  mse_tree ** 0.5)"
   ]
  },
  {
   "cell_type": "markdown",
   "metadata": {},
   "source": [
    "#### Поверка на тестовой выборке:"
   ]
  },
  {
   "cell_type": "code",
   "execution_count": 170,
   "metadata": {},
   "outputs": [
    {
     "name": "stdout",
     "output_type": "stream",
     "text": [
      "RMSE_TEST: 2308.845097881885\n",
      "CPU times: user 20.6 ms, sys: 22 ms, total: 42.6 ms\n",
      "Wall time: 50.1 ms\n"
     ]
    }
   ],
   "source": [
    "%%time\n",
    "\n",
    "pred_tree_test = model_tree_grid.predict(features_test)\n",
    "mse_tree_test = mean_squared_error(target_test, pred_tree_test)\n",
    "\n",
    "print('RMSE_TEST:',  mse_tree_test ** 0.5)"
   ]
  },
  {
   "cell_type": "markdown",
   "metadata": {},
   "source": [
    "### Случайный лес(RandomForestRegressor)"
   ]
  },
  {
   "cell_type": "code",
   "execution_count": 171,
   "metadata": {},
   "outputs": [],
   "source": [
    "#%%time\n",
    "\n",
    "#model_forest = RandomForestRegressor(random_state=state)\n",
    "#parametrs = {'max_depth': range (1,16, 2), 'n_estimators': range(10, 100, 10)}\n",
    "#model_forest_grid = GridSearchCV(model_forest, parametrs, cv=5)\n",
    "#model_forest_grid.fit(features_train, target_train)\n",
    "#pred_forest_valid = model_forest_grid.predict(features_valid)\n",
    "#mse_forest = mean_squared_error(target_valid, pred_forest_valid)\n",
    "\n",
    "#print('Глубина дерева и количество деревьев для лучшей модели:', model_forest_grid.best_params_)\n",
    "#print('RMSE:',  mse_forest ** 0.5)"
   ]
  },
  {
   "cell_type": "markdown",
   "metadata": {},
   "source": [
    "### CatBoostRegressor"
   ]
  },
  {
   "cell_type": "code",
   "execution_count": 172,
   "metadata": {},
   "outputs": [
    {
     "name": "stdout",
     "output_type": "stream",
     "text": [
      "Глубина дерева и количество деревьев для лучшей модели: {'max_depth': 13, 'n_estimators': 90, 'random_state': 12345, 'verbose': 0}\n",
      "RMSE: 1919.2253022592793\n",
      "CPU times: user 30min 15s, sys: 10min 37s, total: 40min 53s\n",
      "Wall time: 41min 54s\n"
     ]
    }
   ],
   "source": [
    "%%time\n",
    "\n",
    "model_cat = CatBoostRegressor()\n",
    "parametrs = {\n",
    "        'n_estimators' : range(10, 100, 10),\n",
    "        'verbose' : [0],\n",
    "        'random_state' : [state],\n",
    "        'max_depth' : range(1, 16, 2)}\n",
    "model_cat_grid = GridSearchCV(model_cat, parametrs, cv=5)\n",
    "model_cat_grid.fit(features_train, target_train)\n",
    "pred_cat_valid = model_cat_grid.predict(features_valid)\n",
    "mse_cat = mean_squared_error(target_valid, pred_cat_valid)\n",
    "\n",
    "print('Глубина дерева и количество деревьев для лучшей модели:', model_cat_grid.best_params_)\n",
    "print('RMSE:',  mse_cat ** 0.5)    "
   ]
  },
  {
   "cell_type": "markdown",
   "metadata": {},
   "source": [
    "#### Поверка на тестовой выборке:"
   ]
  },
  {
   "cell_type": "code",
   "execution_count": 173,
   "metadata": {},
   "outputs": [
    {
     "name": "stdout",
     "output_type": "stream",
     "text": [
      "RMSE_TEST: 1924.573463586944\n",
      "CPU times: user 43 ms, sys: 3.92 ms, total: 46.9 ms\n",
      "Wall time: 51.2 ms\n"
     ]
    }
   ],
   "source": [
    "%%time\n",
    "\n",
    "pred_cat_test = model_cat_grid.predict(features_test)\n",
    "mse_cat_test = mean_squared_error(target_test, pred_cat_test)\n",
    "\n",
    "print('RMSE_TEST:',  mse_cat_test ** 0.5) "
   ]
  },
  {
   "cell_type": "markdown",
   "metadata": {},
   "source": [
    "### Линейная регрессия(LinearRegression)"
   ]
  },
  {
   "cell_type": "code",
   "execution_count": 174,
   "metadata": {},
   "outputs": [
    {
     "name": "stdout",
     "output_type": "stream",
     "text": [
      "RMSE: 2843.7305921577345\n",
      "CPU times: user 4.69 s, sys: 1.76 s, total: 6.46 s\n",
      "Wall time: 6.42 s\n"
     ]
    }
   ],
   "source": [
    "%%time\n",
    "\n",
    "model_linreg = LinearRegression()\n",
    "model_linreg.fit(features_train, target_train)\n",
    "pred_linreg_valid = model_linreg.predict(features_valid)\n",
    "mse_linreg = mean_squared_error(target_valid, pred_linreg_valid)\n",
    "\n",
    "print('RMSE:',  mse_linreg ** 0.5)"
   ]
  },
  {
   "cell_type": "markdown",
   "metadata": {},
   "source": [
    "#### Поверка на тестовой выборке:"
   ]
  },
  {
   "cell_type": "code",
   "execution_count": 175,
   "metadata": {},
   "outputs": [
    {
     "name": "stdout",
     "output_type": "stream",
     "text": [
      "RMSE_TEST: 2842.5274211179567\n",
      "CPU times: user 62.9 ms, sys: 54.3 ms, total: 117 ms\n",
      "Wall time: 190 ms\n"
     ]
    }
   ],
   "source": [
    "%%time\n",
    "\n",
    "pred_linreg_test = model_linreg.predict(features_test)\n",
    "mse_linreg_test = mean_squared_error(target_test, pred_linreg_test)\n",
    "\n",
    "print('RMSE_TEST:',  mse_linreg_test ** 0.5)"
   ]
  },
  {
   "cell_type": "markdown",
   "metadata": {},
   "source": [
    "## Анализ моделей"
   ]
  },
  {
   "cell_type": "code",
   "execution_count": 177,
   "metadata": {},
   "outputs": [
    {
     "data": {
      "text/html": [
       "<div>\n",
       "<style scoped>\n",
       "    .dataframe tbody tr th:only-of-type {\n",
       "        vertical-align: middle;\n",
       "    }\n",
       "\n",
       "    .dataframe tbody tr th {\n",
       "        vertical-align: top;\n",
       "    }\n",
       "\n",
       "    .dataframe thead th {\n",
       "        text-align: right;\n",
       "    }\n",
       "</style>\n",
       "<table border=\"1\" class=\"dataframe\">\n",
       "  <thead>\n",
       "    <tr style=\"text-align: right;\">\n",
       "      <th></th>\n",
       "      <th>model</th>\n",
       "      <th>quality</th>\n",
       "      <th>time, sec</th>\n",
       "      <th>predspeed, ms</th>\n",
       "    </tr>\n",
       "  </thead>\n",
       "  <tbody>\n",
       "    <tr>\n",
       "      <th>0</th>\n",
       "      <td>LGBMRegressor</td>\n",
       "      <td>1930.99</td>\n",
       "      <td>994.00</td>\n",
       "      <td>394.0</td>\n",
       "    </tr>\n",
       "    <tr>\n",
       "      <th>1</th>\n",
       "      <td>DecisionTreeRegressor</td>\n",
       "      <td>2308.84</td>\n",
       "      <td>37.20</td>\n",
       "      <td>50.1</td>\n",
       "    </tr>\n",
       "    <tr>\n",
       "      <th>2</th>\n",
       "      <td>CatBoostRegressor</td>\n",
       "      <td>1924.57</td>\n",
       "      <td>2514.00</td>\n",
       "      <td>51.2</td>\n",
       "    </tr>\n",
       "    <tr>\n",
       "      <th>3</th>\n",
       "      <td>LinearRegression</td>\n",
       "      <td>2842.52</td>\n",
       "      <td>6.42</td>\n",
       "      <td>190.0</td>\n",
       "    </tr>\n",
       "  </tbody>\n",
       "</table>\n",
       "</div>"
      ],
      "text/plain": [
       "                   model  quality  time, sec  predspeed, ms\n",
       "0          LGBMRegressor  1930.99     994.00          394.0\n",
       "1  DecisionTreeRegressor  2308.84      37.20           50.1\n",
       "2      CatBoostRegressor  1924.57    2514.00           51.2\n",
       "3       LinearRegression  2842.52       6.42          190.0"
      ]
     },
     "execution_count": 177,
     "metadata": {},
     "output_type": "execute_result"
    }
   ],
   "source": [
    "result = {'model' : ['LGBMRegressor', 'DecisionTreeRegressor', 'CatBoostRegressor', 'LinearRegression'],\n",
    "          'quality' : [1930.99, 2308.84, 1924.57, 2842.52],\n",
    "          'time, sec' : [994, 37.2, 2514, 6.42],\n",
    "          'predspeed, ms' : [394, 50.1, 51.2, 190]}\n",
    "frame = pd.DataFrame(result)\n",
    "frame"
   ]
  },
  {
   "cell_type": "markdown",
   "metadata": {},
   "source": [
    "### Вывод:\n",
    "\n",
    "Проведя анализ и рассмотрев различные модели, можно сделать вывод, что модель \"Линейная регрессия\" показала лучший результат качества модели(RMSE: 2842.52) и лучшую скорость работы модели(Time: 6.42s), но скорость предсказания на 3 месте. Модель \"Дерево решений в регрессии\" находится на втором месте по качеству модели(RMSE: 2308.84) и скорости работы(Time: 37.2s), но на 1 месте по скорости предсказания. У моделей \"LGBMRegressor\" и \"CatBoostRegressor\" очень схожи качество(RMSE: 1930.99 и RMSE: 1924.57 соответственно) и скорость работы модели(Time: 994s и Time: 2514s), они разделили 3-4 место. Заказчику можем посоветовать использовать модель \"Линейная регрессия\" она показала наилучшие результаты, так можно использовать модель \"Дерево решений в регрессии\" также достойный результат качества и скорости работы модели."
   ]
  }
 ],
 "metadata": {
  "ExecuteTimeLog": [
   {
    "duration": 540,
    "start_time": "2022-05-23T14:35:55.092Z"
   },
   {
    "duration": 1473,
    "start_time": "2022-05-23T14:35:55.635Z"
   },
   {
    "duration": 1094,
    "start_time": "2022-05-23T14:38:07.445Z"
   },
   {
    "duration": 6,
    "start_time": "2022-05-23T14:41:02.852Z"
   },
   {
    "duration": 71,
    "start_time": "2022-05-23T14:44:06.792Z"
   },
   {
    "duration": 6,
    "start_time": "2022-05-23T14:44:12.856Z"
   },
   {
    "duration": 847,
    "start_time": "2022-05-23T14:44:12.864Z"
   },
   {
    "duration": 27,
    "start_time": "2022-05-23T14:44:13.712Z"
   },
   {
    "duration": 811,
    "start_time": "2022-05-23T14:44:13.741Z"
   },
   {
    "duration": 753,
    "start_time": "2022-05-23T14:45:36.398Z"
   },
   {
    "duration": 770,
    "start_time": "2022-05-23T14:47:00.314Z"
   },
   {
    "duration": 768,
    "start_time": "2022-05-23T14:47:09.656Z"
   },
   {
    "duration": 3,
    "start_time": "2022-05-23T14:47:13.522Z"
   },
   {
    "duration": 797,
    "start_time": "2022-05-23T14:47:13.527Z"
   },
   {
    "duration": 23,
    "start_time": "2022-05-23T14:47:14.326Z"
   },
   {
    "duration": 793,
    "start_time": "2022-05-23T14:47:14.351Z"
   },
   {
    "duration": 3,
    "start_time": "2022-05-23T14:51:25.462Z"
   },
   {
    "duration": 887,
    "start_time": "2022-05-23T14:51:25.468Z"
   },
   {
    "duration": 22,
    "start_time": "2022-05-23T14:51:26.358Z"
   },
   {
    "duration": 878,
    "start_time": "2022-05-23T14:51:26.382Z"
   },
   {
    "duration": 21,
    "start_time": "2022-05-23T15:07:27.957Z"
   },
   {
    "duration": 25,
    "start_time": "2022-05-23T15:07:35.070Z"
   },
   {
    "duration": 4,
    "start_time": "2022-05-23T15:07:38.187Z"
   },
   {
    "duration": 861,
    "start_time": "2022-05-23T15:07:38.194Z"
   },
   {
    "duration": 24,
    "start_time": "2022-05-23T15:07:39.058Z"
   },
   {
    "duration": 820,
    "start_time": "2022-05-23T15:07:39.084Z"
   },
   {
    "duration": 57,
    "start_time": "2022-05-23T15:07:39.907Z"
   },
   {
    "duration": 17,
    "start_time": "2022-05-23T15:07:47.607Z"
   },
   {
    "duration": 3,
    "start_time": "2022-05-23T15:07:54.966Z"
   },
   {
    "duration": 864,
    "start_time": "2022-05-23T15:07:54.972Z"
   },
   {
    "duration": 22,
    "start_time": "2022-05-23T15:07:55.838Z"
   },
   {
    "duration": 848,
    "start_time": "2022-05-23T15:07:55.863Z"
   },
   {
    "duration": 23,
    "start_time": "2022-05-23T15:07:56.713Z"
   },
   {
    "duration": 31,
    "start_time": "2022-05-23T15:09:50.832Z"
   },
   {
    "duration": 3,
    "start_time": "2022-05-23T15:09:57.970Z"
   },
   {
    "duration": 858,
    "start_time": "2022-05-23T15:09:57.976Z"
   },
   {
    "duration": 24,
    "start_time": "2022-05-23T15:09:58.836Z"
   },
   {
    "duration": 820,
    "start_time": "2022-05-23T15:09:58.862Z"
   },
   {
    "duration": 17,
    "start_time": "2022-05-23T15:09:59.684Z"
   },
   {
    "duration": 35,
    "start_time": "2022-05-23T15:09:59.703Z"
   },
   {
    "duration": 12,
    "start_time": "2022-05-23T15:15:17.123Z"
   },
   {
    "duration": 3,
    "start_time": "2022-05-23T15:15:19.728Z"
   },
   {
    "duration": 18,
    "start_time": "2022-05-23T15:15:19.733Z"
   },
   {
    "duration": 0,
    "start_time": "2022-05-23T15:15:19.753Z"
   },
   {
    "duration": 0,
    "start_time": "2022-05-23T15:15:19.754Z"
   },
   {
    "duration": 0,
    "start_time": "2022-05-23T15:15:19.756Z"
   },
   {
    "duration": 0,
    "start_time": "2022-05-23T15:15:19.757Z"
   },
   {
    "duration": 1291,
    "start_time": "2022-05-23T15:31:17.182Z"
   },
   {
    "duration": 56,
    "start_time": "2022-05-23T15:31:18.475Z"
   },
   {
    "duration": 0,
    "start_time": "2022-05-23T15:31:18.533Z"
   },
   {
    "duration": 0,
    "start_time": "2022-05-23T15:31:18.535Z"
   },
   {
    "duration": 0,
    "start_time": "2022-05-23T15:31:18.536Z"
   },
   {
    "duration": 0,
    "start_time": "2022-05-23T15:31:18.537Z"
   },
   {
    "duration": 0,
    "start_time": "2022-05-23T15:31:18.538Z"
   },
   {
    "duration": 1135,
    "start_time": "2022-05-23T15:32:36.265Z"
   },
   {
    "duration": 123,
    "start_time": "2022-05-23T15:32:37.402Z"
   },
   {
    "duration": 0,
    "start_time": "2022-05-23T15:32:37.528Z"
   },
   {
    "duration": 0,
    "start_time": "2022-05-23T15:32:37.530Z"
   },
   {
    "duration": 0,
    "start_time": "2022-05-23T15:32:37.532Z"
   },
   {
    "duration": 0,
    "start_time": "2022-05-23T15:32:37.533Z"
   },
   {
    "duration": 0,
    "start_time": "2022-05-23T15:32:37.535Z"
   },
   {
    "duration": 1327,
    "start_time": "2022-05-24T09:41:07.303Z"
   },
   {
    "duration": 2892,
    "start_time": "2022-05-24T09:41:08.632Z"
   },
   {
    "duration": 27,
    "start_time": "2022-05-24T09:41:11.526Z"
   },
   {
    "duration": 736,
    "start_time": "2022-05-24T09:41:11.554Z"
   },
   {
    "duration": 21,
    "start_time": "2022-05-24T09:41:12.292Z"
   },
   {
    "duration": 32,
    "start_time": "2022-05-24T09:41:12.315Z"
   },
   {
    "duration": 103,
    "start_time": "2022-05-24T09:41:12.348Z"
   },
   {
    "duration": 643,
    "start_time": "2022-05-24T09:47:25.578Z"
   },
   {
    "duration": 452,
    "start_time": "2022-05-24T09:51:42.255Z"
   },
   {
    "duration": 10,
    "start_time": "2022-05-24T09:52:09.641Z"
   },
   {
    "duration": 46,
    "start_time": "2022-05-24T09:52:35.949Z"
   },
   {
    "duration": 2,
    "start_time": "2022-05-24T09:54:03.147Z"
   },
   {
    "duration": 727,
    "start_time": "2022-05-24T09:54:03.151Z"
   },
   {
    "duration": 21,
    "start_time": "2022-05-24T09:54:03.880Z"
   },
   {
    "duration": 704,
    "start_time": "2022-05-24T09:54:03.902Z"
   },
   {
    "duration": 15,
    "start_time": "2022-05-24T09:54:04.608Z"
   },
   {
    "duration": 37,
    "start_time": "2022-05-24T09:54:04.625Z"
   },
   {
    "duration": 157,
    "start_time": "2022-05-24T09:54:04.663Z"
   },
   {
    "duration": 9,
    "start_time": "2022-05-24T09:54:04.822Z"
   },
   {
    "duration": 38,
    "start_time": "2022-05-24T09:54:04.832Z"
   },
   {
    "duration": 14,
    "start_time": "2022-05-24T10:00:27.379Z"
   },
   {
    "duration": 18,
    "start_time": "2022-05-24T10:01:39.140Z"
   },
   {
    "duration": 30,
    "start_time": "2022-05-24T10:01:43.556Z"
   },
   {
    "duration": 20,
    "start_time": "2022-05-24T10:01:53.068Z"
   },
   {
    "duration": 3,
    "start_time": "2022-05-24T10:01:55.749Z"
   },
   {
    "duration": 698,
    "start_time": "2022-05-24T10:01:55.753Z"
   },
   {
    "duration": 23,
    "start_time": "2022-05-24T10:01:56.453Z"
   },
   {
    "duration": 682,
    "start_time": "2022-05-24T10:01:56.477Z"
   },
   {
    "duration": 16,
    "start_time": "2022-05-24T10:01:57.161Z"
   },
   {
    "duration": 26,
    "start_time": "2022-05-24T10:01:57.178Z"
   },
   {
    "duration": 168,
    "start_time": "2022-05-24T10:01:57.206Z"
   },
   {
    "duration": 8,
    "start_time": "2022-05-24T10:01:57.376Z"
   },
   {
    "duration": 30,
    "start_time": "2022-05-24T10:01:57.385Z"
   },
   {
    "duration": 14,
    "start_time": "2022-05-24T10:01:57.416Z"
   },
   {
    "duration": 38,
    "start_time": "2022-05-24T10:01:57.431Z"
   },
   {
    "duration": 148,
    "start_time": "2022-05-24T10:39:10.296Z"
   },
   {
    "duration": 233,
    "start_time": "2022-05-24T10:41:18.225Z"
   },
   {
    "duration": 155,
    "start_time": "2022-05-24T10:41:24.782Z"
   },
   {
    "duration": 7,
    "start_time": "2022-05-24T10:42:14.879Z"
   },
   {
    "duration": 55,
    "start_time": "2022-05-24T11:13:20.943Z"
   },
   {
    "duration": 14,
    "start_time": "2022-05-24T11:20:16.362Z"
   },
   {
    "duration": 12,
    "start_time": "2022-05-24T11:21:18.117Z"
   },
   {
    "duration": 3,
    "start_time": "2022-05-24T11:21:29.416Z"
   },
   {
    "duration": 739,
    "start_time": "2022-05-24T11:21:29.421Z"
   },
   {
    "duration": 19,
    "start_time": "2022-05-24T11:21:30.162Z"
   },
   {
    "duration": 750,
    "start_time": "2022-05-24T11:21:30.183Z"
   },
   {
    "duration": 24,
    "start_time": "2022-05-24T11:21:30.935Z"
   },
   {
    "duration": 38,
    "start_time": "2022-05-24T11:21:30.961Z"
   },
   {
    "duration": 190,
    "start_time": "2022-05-24T11:21:31.000Z"
   },
   {
    "duration": 8,
    "start_time": "2022-05-24T11:21:31.192Z"
   },
   {
    "duration": 35,
    "start_time": "2022-05-24T11:21:31.202Z"
   },
   {
    "duration": 26,
    "start_time": "2022-05-24T11:21:31.239Z"
   },
   {
    "duration": 42,
    "start_time": "2022-05-24T11:21:31.266Z"
   },
   {
    "duration": 21,
    "start_time": "2022-05-24T11:21:31.310Z"
   },
   {
    "duration": 80,
    "start_time": "2022-05-24T11:21:31.332Z"
   },
   {
    "duration": 10,
    "start_time": "2022-05-24T11:21:31.415Z"
   },
   {
    "duration": 10,
    "start_time": "2022-05-24T11:22:04.092Z"
   },
   {
    "duration": 10,
    "start_time": "2022-05-24T11:27:33.095Z"
   },
   {
    "duration": 10,
    "start_time": "2022-05-24T11:27:45.911Z"
   },
   {
    "duration": 11,
    "start_time": "2022-05-24T11:27:54.135Z"
   },
   {
    "duration": 24,
    "start_time": "2022-05-24T11:27:59.574Z"
   },
   {
    "duration": 11,
    "start_time": "2022-05-24T11:28:16.927Z"
   },
   {
    "duration": 32,
    "start_time": "2022-05-24T11:29:09.370Z"
   },
   {
    "duration": 18,
    "start_time": "2022-05-24T11:29:18.664Z"
   },
   {
    "duration": 11,
    "start_time": "2022-05-24T11:38:29.837Z"
   },
   {
    "duration": 17,
    "start_time": "2022-05-24T11:38:53.166Z"
   },
   {
    "duration": 36,
    "start_time": "2022-05-24T11:39:15.121Z"
   },
   {
    "duration": 77,
    "start_time": "2022-05-24T11:50:31.555Z"
   },
   {
    "duration": 1102,
    "start_time": "2022-05-24T11:53:04.117Z"
   },
   {
    "duration": 982,
    "start_time": "2022-05-24T11:53:25.524Z"
   },
   {
    "duration": 3,
    "start_time": "2022-05-24T11:53:40.588Z"
   },
   {
    "duration": 705,
    "start_time": "2022-05-24T11:53:40.593Z"
   },
   {
    "duration": 19,
    "start_time": "2022-05-24T11:53:41.299Z"
   },
   {
    "duration": 714,
    "start_time": "2022-05-24T11:53:41.320Z"
   },
   {
    "duration": 26,
    "start_time": "2022-05-24T11:53:42.036Z"
   },
   {
    "duration": 22,
    "start_time": "2022-05-24T11:53:42.063Z"
   },
   {
    "duration": 162,
    "start_time": "2022-05-24T11:53:42.086Z"
   },
   {
    "duration": 16,
    "start_time": "2022-05-24T11:53:42.249Z"
   },
   {
    "duration": 35,
    "start_time": "2022-05-24T11:53:42.269Z"
   },
   {
    "duration": 14,
    "start_time": "2022-05-24T11:53:42.305Z"
   },
   {
    "duration": 27,
    "start_time": "2022-05-24T11:53:42.320Z"
   },
   {
    "duration": 18,
    "start_time": "2022-05-24T11:53:42.348Z"
   },
   {
    "duration": 50,
    "start_time": "2022-05-24T11:53:42.368Z"
   },
   {
    "duration": 832,
    "start_time": "2022-05-24T11:53:42.419Z"
   },
   {
    "duration": 167,
    "start_time": "2022-05-24T11:53:51.987Z"
   },
   {
    "duration": 1022,
    "start_time": "2022-05-24T11:54:03.945Z"
   },
   {
    "duration": 3,
    "start_time": "2022-05-24T11:54:24.288Z"
   },
   {
    "duration": 724,
    "start_time": "2022-05-24T11:54:24.294Z"
   },
   {
    "duration": 20,
    "start_time": "2022-05-24T11:54:25.020Z"
   },
   {
    "duration": 777,
    "start_time": "2022-05-24T11:54:25.042Z"
   },
   {
    "duration": 15,
    "start_time": "2022-05-24T11:54:25.821Z"
   },
   {
    "duration": 41,
    "start_time": "2022-05-24T11:54:25.838Z"
   },
   {
    "duration": 164,
    "start_time": "2022-05-24T11:54:25.881Z"
   },
   {
    "duration": 15,
    "start_time": "2022-05-24T11:54:26.047Z"
   },
   {
    "duration": 30,
    "start_time": "2022-05-24T11:54:26.064Z"
   },
   {
    "duration": 16,
    "start_time": "2022-05-24T11:54:26.097Z"
   },
   {
    "duration": 22,
    "start_time": "2022-05-24T11:54:26.114Z"
   },
   {
    "duration": 29,
    "start_time": "2022-05-24T11:54:26.138Z"
   },
   {
    "duration": 58,
    "start_time": "2022-05-24T11:54:26.169Z"
   },
   {
    "duration": 902,
    "start_time": "2022-05-24T11:54:26.229Z"
   },
   {
    "duration": 83,
    "start_time": "2022-05-24T11:55:22.808Z"
   },
   {
    "duration": 81,
    "start_time": "2022-05-24T11:55:38.400Z"
   },
   {
    "duration": 1092,
    "start_time": "2022-05-24T11:56:27.351Z"
   },
   {
    "duration": 897,
    "start_time": "2022-05-24T11:56:38.266Z"
   },
   {
    "duration": 183,
    "start_time": "2022-05-24T11:56:54.519Z"
   },
   {
    "duration": 305,
    "start_time": "2022-05-24T11:58:10.397Z"
   },
   {
    "duration": 320,
    "start_time": "2022-05-24T11:58:24.941Z"
   },
   {
    "duration": 145,
    "start_time": "2022-05-24T11:59:03.402Z"
   },
   {
    "duration": 155,
    "start_time": "2022-05-24T11:59:24.840Z"
   },
   {
    "duration": 167,
    "start_time": "2022-05-24T11:59:29.793Z"
   },
   {
    "duration": 152,
    "start_time": "2022-05-24T11:59:40.782Z"
   },
   {
    "duration": 155,
    "start_time": "2022-05-24T12:03:19.148Z"
   },
   {
    "duration": 194,
    "start_time": "2022-05-24T12:03:51.555Z"
   },
   {
    "duration": 3,
    "start_time": "2022-05-24T12:03:57.153Z"
   },
   {
    "duration": 747,
    "start_time": "2022-05-24T12:03:57.157Z"
   },
   {
    "duration": 24,
    "start_time": "2022-05-24T12:03:57.906Z"
   },
   {
    "duration": 713,
    "start_time": "2022-05-24T12:03:57.932Z"
   },
   {
    "duration": 20,
    "start_time": "2022-05-24T12:03:58.647Z"
   },
   {
    "duration": 25,
    "start_time": "2022-05-24T12:03:58.669Z"
   },
   {
    "duration": 167,
    "start_time": "2022-05-24T12:03:58.695Z"
   },
   {
    "duration": 14,
    "start_time": "2022-05-24T12:03:58.864Z"
   },
   {
    "duration": 29,
    "start_time": "2022-05-24T12:03:58.880Z"
   },
   {
    "duration": 13,
    "start_time": "2022-05-24T12:03:58.911Z"
   },
   {
    "duration": 39,
    "start_time": "2022-05-24T12:03:58.926Z"
   },
   {
    "duration": 7,
    "start_time": "2022-05-24T12:03:58.967Z"
   },
   {
    "duration": 47,
    "start_time": "2022-05-24T12:03:58.978Z"
   },
   {
    "duration": 203,
    "start_time": "2022-05-24T12:03:59.028Z"
   },
   {
    "duration": 190,
    "start_time": "2022-05-24T12:05:32.417Z"
   },
   {
    "duration": 172,
    "start_time": "2022-05-24T12:05:44.196Z"
   },
   {
    "duration": 3,
    "start_time": "2022-05-24T12:05:46.649Z"
   },
   {
    "duration": 710,
    "start_time": "2022-05-24T12:05:46.653Z"
   },
   {
    "duration": 21,
    "start_time": "2022-05-24T12:05:47.366Z"
   },
   {
    "duration": 791,
    "start_time": "2022-05-24T12:05:47.389Z"
   },
   {
    "duration": 17,
    "start_time": "2022-05-24T12:05:48.182Z"
   },
   {
    "duration": 19,
    "start_time": "2022-05-24T12:05:48.201Z"
   },
   {
    "duration": 207,
    "start_time": "2022-05-24T12:05:48.222Z"
   },
   {
    "duration": 8,
    "start_time": "2022-05-24T12:05:48.431Z"
   },
   {
    "duration": 40,
    "start_time": "2022-05-24T12:05:48.441Z"
   },
   {
    "duration": 15,
    "start_time": "2022-05-24T12:05:48.483Z"
   },
   {
    "duration": 19,
    "start_time": "2022-05-24T12:05:48.500Z"
   },
   {
    "duration": 5,
    "start_time": "2022-05-24T12:05:48.520Z"
   },
   {
    "duration": 63,
    "start_time": "2022-05-24T12:05:48.527Z"
   },
   {
    "duration": 243,
    "start_time": "2022-05-24T12:05:48.592Z"
   },
   {
    "duration": 70,
    "start_time": "2022-05-24T12:06:15.895Z"
   },
   {
    "duration": 86,
    "start_time": "2022-05-24T12:06:30.055Z"
   },
   {
    "duration": 5,
    "start_time": "2022-05-24T12:07:40.208Z"
   },
   {
    "duration": 133,
    "start_time": "2022-05-24T12:11:02.999Z"
   },
   {
    "duration": 126,
    "start_time": "2022-05-24T12:11:28.119Z"
   },
   {
    "duration": 127,
    "start_time": "2022-05-24T12:11:50.141Z"
   },
   {
    "duration": 4,
    "start_time": "2022-05-24T12:11:53.408Z"
   },
   {
    "duration": 976,
    "start_time": "2022-05-24T12:11:53.415Z"
   },
   {
    "duration": 27,
    "start_time": "2022-05-24T12:11:54.393Z"
   },
   {
    "duration": 732,
    "start_time": "2022-05-24T12:11:54.422Z"
   },
   {
    "duration": 20,
    "start_time": "2022-05-24T12:11:55.156Z"
   },
   {
    "duration": 29,
    "start_time": "2022-05-24T12:11:55.178Z"
   },
   {
    "duration": 193,
    "start_time": "2022-05-24T12:11:55.209Z"
   },
   {
    "duration": 9,
    "start_time": "2022-05-24T12:11:55.405Z"
   },
   {
    "duration": 48,
    "start_time": "2022-05-24T12:11:55.415Z"
   },
   {
    "duration": 26,
    "start_time": "2022-05-24T12:11:55.465Z"
   },
   {
    "duration": 26,
    "start_time": "2022-05-24T12:11:55.493Z"
   },
   {
    "duration": 7,
    "start_time": "2022-05-24T12:11:55.520Z"
   },
   {
    "duration": 74,
    "start_time": "2022-05-24T12:11:55.528Z"
   },
   {
    "duration": 107,
    "start_time": "2022-05-24T12:11:55.605Z"
   },
   {
    "duration": 153,
    "start_time": "2022-05-24T12:11:55.714Z"
   },
   {
    "duration": 188,
    "start_time": "2022-05-24T12:11:55.873Z"
   },
   {
    "duration": 143,
    "start_time": "2022-05-24T12:11:56.064Z"
   },
   {
    "duration": 87,
    "start_time": "2022-05-24T12:16:28.457Z"
   },
   {
    "duration": 10,
    "start_time": "2022-05-24T12:17:20.892Z"
   },
   {
    "duration": 172,
    "start_time": "2022-05-24T12:17:49.346Z"
   },
   {
    "duration": 185,
    "start_time": "2022-05-24T12:18:35.506Z"
   },
   {
    "duration": 42,
    "start_time": "2022-05-24T12:33:27.605Z"
   },
   {
    "duration": 5,
    "start_time": "2022-05-24T12:33:41.886Z"
   },
   {
    "duration": 4,
    "start_time": "2022-05-24T12:33:59.186Z"
   },
   {
    "duration": 1128,
    "start_time": "2022-05-24T12:33:59.193Z"
   },
   {
    "duration": 21,
    "start_time": "2022-05-24T12:34:00.322Z"
   },
   {
    "duration": 798,
    "start_time": "2022-05-24T12:34:00.345Z"
   },
   {
    "duration": 32,
    "start_time": "2022-05-24T12:34:01.145Z"
   },
   {
    "duration": 46,
    "start_time": "2022-05-24T12:34:01.179Z"
   },
   {
    "duration": 198,
    "start_time": "2022-05-24T12:34:01.227Z"
   },
   {
    "duration": 8,
    "start_time": "2022-05-24T12:34:01.427Z"
   },
   {
    "duration": 53,
    "start_time": "2022-05-24T12:34:01.439Z"
   },
   {
    "duration": 21,
    "start_time": "2022-05-24T12:34:01.493Z"
   },
   {
    "duration": 42,
    "start_time": "2022-05-24T12:34:01.515Z"
   },
   {
    "duration": 55,
    "start_time": "2022-05-24T12:34:01.559Z"
   },
   {
    "duration": 96,
    "start_time": "2022-05-24T12:34:01.616Z"
   },
   {
    "duration": 113,
    "start_time": "2022-05-24T12:34:01.715Z"
   },
   {
    "duration": 163,
    "start_time": "2022-05-24T12:34:01.829Z"
   },
   {
    "duration": 135,
    "start_time": "2022-05-24T12:34:01.994Z"
   },
   {
    "duration": 131,
    "start_time": "2022-05-24T12:34:02.131Z"
   },
   {
    "duration": 50,
    "start_time": "2022-05-24T12:34:02.264Z"
   },
   {
    "duration": 4,
    "start_time": "2022-05-24T12:34:02.316Z"
   },
   {
    "duration": 1300,
    "start_time": "2022-05-25T12:01:54.343Z"
   },
   {
    "duration": 3065,
    "start_time": "2022-05-25T12:01:55.646Z"
   },
   {
    "duration": 23,
    "start_time": "2022-05-25T12:01:58.713Z"
   },
   {
    "duration": 862,
    "start_time": "2022-05-25T12:01:58.738Z"
   },
   {
    "duration": 24,
    "start_time": "2022-05-25T12:01:59.602Z"
   },
   {
    "duration": 31,
    "start_time": "2022-05-25T12:01:59.628Z"
   },
   {
    "duration": 220,
    "start_time": "2022-05-25T12:01:59.660Z"
   },
   {
    "duration": 15,
    "start_time": "2022-05-25T12:01:59.882Z"
   },
   {
    "duration": 49,
    "start_time": "2022-05-25T12:01:59.899Z"
   },
   {
    "duration": 36,
    "start_time": "2022-05-25T12:01:59.950Z"
   },
   {
    "duration": 22,
    "start_time": "2022-05-25T12:01:59.987Z"
   },
   {
    "duration": 6,
    "start_time": "2022-05-25T12:02:00.011Z"
   },
   {
    "duration": 158,
    "start_time": "2022-05-25T12:02:00.020Z"
   },
   {
    "duration": 113,
    "start_time": "2022-05-25T12:02:00.181Z"
   },
   {
    "duration": 152,
    "start_time": "2022-05-25T12:02:00.297Z"
   },
   {
    "duration": 150,
    "start_time": "2022-05-25T12:02:00.451Z"
   },
   {
    "duration": 143,
    "start_time": "2022-05-25T12:02:00.603Z"
   },
   {
    "duration": 72,
    "start_time": "2022-05-25T12:02:00.748Z"
   },
   {
    "duration": 5,
    "start_time": "2022-05-25T12:02:00.822Z"
   },
   {
    "duration": 398,
    "start_time": "2022-05-25T12:23:33.094Z"
   },
   {
    "duration": 4,
    "start_time": "2022-05-25T12:23:48.739Z"
   },
   {
    "duration": 866,
    "start_time": "2022-05-25T12:23:48.744Z"
   },
   {
    "duration": 22,
    "start_time": "2022-05-25T12:23:49.612Z"
   },
   {
    "duration": 834,
    "start_time": "2022-05-25T12:23:49.636Z"
   },
   {
    "duration": 20,
    "start_time": "2022-05-25T12:23:50.472Z"
   },
   {
    "duration": 30,
    "start_time": "2022-05-25T12:23:50.494Z"
   },
   {
    "duration": 206,
    "start_time": "2022-05-25T12:23:50.526Z"
   },
   {
    "duration": 11,
    "start_time": "2022-05-25T12:23:50.734Z"
   },
   {
    "duration": 51,
    "start_time": "2022-05-25T12:23:50.747Z"
   },
   {
    "duration": 18,
    "start_time": "2022-05-25T12:23:50.800Z"
   },
   {
    "duration": 21,
    "start_time": "2022-05-25T12:23:50.821Z"
   },
   {
    "duration": 7,
    "start_time": "2022-05-25T12:23:50.844Z"
   },
   {
    "duration": 79,
    "start_time": "2022-05-25T12:23:50.853Z"
   },
   {
    "duration": 99,
    "start_time": "2022-05-25T12:23:50.934Z"
   },
   {
    "duration": 133,
    "start_time": "2022-05-25T12:23:51.035Z"
   },
   {
    "duration": 127,
    "start_time": "2022-05-25T12:23:51.170Z"
   },
   {
    "duration": 149,
    "start_time": "2022-05-25T12:23:51.299Z"
   },
   {
    "duration": 85,
    "start_time": "2022-05-25T12:23:51.450Z"
   },
   {
    "duration": 4,
    "start_time": "2022-05-25T12:23:51.537Z"
   },
   {
    "duration": 126,
    "start_time": "2022-05-25T12:23:51.543Z"
   },
   {
    "duration": 676,
    "start_time": "2022-05-25T12:24:30.768Z"
   },
   {
    "duration": 686,
    "start_time": "2022-05-25T12:24:48.507Z"
   },
   {
    "duration": 13092,
    "start_time": "2022-05-25T12:27:44.142Z"
   },
   {
    "duration": 705,
    "start_time": "2022-05-25T12:40:10.634Z"
   },
   {
    "duration": 3,
    "start_time": "2022-05-25T12:40:14.768Z"
   },
   {
    "duration": 853,
    "start_time": "2022-05-25T12:40:14.773Z"
   },
   {
    "duration": 30,
    "start_time": "2022-05-25T12:40:15.628Z"
   },
   {
    "duration": 808,
    "start_time": "2022-05-25T12:40:15.660Z"
   },
   {
    "duration": 24,
    "start_time": "2022-05-25T12:40:16.470Z"
   },
   {
    "duration": 59,
    "start_time": "2022-05-25T12:40:16.496Z"
   },
   {
    "duration": 194,
    "start_time": "2022-05-25T12:40:16.557Z"
   },
   {
    "duration": 9,
    "start_time": "2022-05-25T12:40:16.754Z"
   },
   {
    "duration": 41,
    "start_time": "2022-05-25T12:40:16.765Z"
   },
   {
    "duration": 18,
    "start_time": "2022-05-25T12:40:16.808Z"
   },
   {
    "duration": 22,
    "start_time": "2022-05-25T12:40:16.828Z"
   },
   {
    "duration": 15,
    "start_time": "2022-05-25T12:40:16.852Z"
   },
   {
    "duration": 48,
    "start_time": "2022-05-25T12:40:16.884Z"
   },
   {
    "duration": 105,
    "start_time": "2022-05-25T12:40:16.933Z"
   },
   {
    "duration": 133,
    "start_time": "2022-05-25T12:40:17.041Z"
   },
   {
    "duration": 144,
    "start_time": "2022-05-25T12:40:17.175Z"
   },
   {
    "duration": 160,
    "start_time": "2022-05-25T12:40:17.321Z"
   },
   {
    "duration": 56,
    "start_time": "2022-05-25T12:40:17.484Z"
   },
   {
    "duration": 4,
    "start_time": "2022-05-25T12:40:17.543Z"
   },
   {
    "duration": 820,
    "start_time": "2022-05-25T12:40:17.549Z"
   },
   {
    "duration": 5,
    "start_time": "2022-05-25T12:41:11.010Z"
   },
   {
    "duration": 4,
    "start_time": "2022-05-25T12:42:41.856Z"
   },
   {
    "duration": 24,
    "start_time": "2022-05-25T12:49:15.128Z"
   },
   {
    "duration": 206,
    "start_time": "2022-05-25T12:50:32.675Z"
   },
   {
    "duration": 715,
    "start_time": "2022-05-25T12:52:25.537Z"
   },
   {
    "duration": 4,
    "start_time": "2022-05-25T12:52:36.412Z"
   },
   {
    "duration": 919,
    "start_time": "2022-05-25T12:52:36.418Z"
   },
   {
    "duration": 29,
    "start_time": "2022-05-25T12:52:37.340Z"
   },
   {
    "duration": 875,
    "start_time": "2022-05-25T12:52:37.383Z"
   },
   {
    "duration": 27,
    "start_time": "2022-05-25T12:52:38.260Z"
   },
   {
    "duration": 38,
    "start_time": "2022-05-25T12:52:38.289Z"
   },
   {
    "duration": 203,
    "start_time": "2022-05-25T12:52:38.330Z"
   },
   {
    "duration": 10,
    "start_time": "2022-05-25T12:52:38.535Z"
   },
   {
    "duration": 50,
    "start_time": "2022-05-25T12:52:38.548Z"
   },
   {
    "duration": 17,
    "start_time": "2022-05-25T12:52:38.600Z"
   },
   {
    "duration": 29,
    "start_time": "2022-05-25T12:52:38.618Z"
   },
   {
    "duration": 8,
    "start_time": "2022-05-25T12:52:38.649Z"
   },
   {
    "duration": 91,
    "start_time": "2022-05-25T12:52:38.659Z"
   },
   {
    "duration": 102,
    "start_time": "2022-05-25T12:52:38.751Z"
   },
   {
    "duration": 139,
    "start_time": "2022-05-25T12:52:38.855Z"
   },
   {
    "duration": 140,
    "start_time": "2022-05-25T12:52:38.996Z"
   },
   {
    "duration": 131,
    "start_time": "2022-05-25T12:52:39.138Z"
   },
   {
    "duration": 49,
    "start_time": "2022-05-25T12:52:39.270Z"
   },
   {
    "duration": 867,
    "start_time": "2022-05-25T12:52:39.321Z"
   },
   {
    "duration": 5,
    "start_time": "2022-05-25T12:52:40.190Z"
   },
   {
    "duration": 741,
    "start_time": "2022-05-25T12:52:40.197Z"
   },
   {
    "duration": 337,
    "start_time": "2022-05-25T13:10:45.024Z"
   },
   {
    "duration": 61,
    "start_time": "2022-05-25T13:52:14.143Z"
   },
   {
    "duration": 4,
    "start_time": "2022-05-25T13:56:13.721Z"
   },
   {
    "duration": 269,
    "start_time": "2022-05-25T14:13:24.811Z"
   },
   {
    "duration": 866,
    "start_time": "2022-05-25T14:13:25.082Z"
   },
   {
    "duration": 22,
    "start_time": "2022-05-25T14:13:25.950Z"
   },
   {
    "duration": 768,
    "start_time": "2022-05-25T14:13:25.985Z"
   },
   {
    "duration": 29,
    "start_time": "2022-05-25T14:13:26.755Z"
   },
   {
    "duration": 19,
    "start_time": "2022-05-25T14:13:26.786Z"
   },
   {
    "duration": 213,
    "start_time": "2022-05-25T14:13:26.807Z"
   },
   {
    "duration": 10,
    "start_time": "2022-05-25T14:13:27.022Z"
   },
   {
    "duration": 39,
    "start_time": "2022-05-25T14:13:27.034Z"
   },
   {
    "duration": 16,
    "start_time": "2022-05-25T14:13:27.086Z"
   },
   {
    "duration": 24,
    "start_time": "2022-05-25T14:13:27.104Z"
   },
   {
    "duration": 14,
    "start_time": "2022-05-25T14:13:27.133Z"
   },
   {
    "duration": 77,
    "start_time": "2022-05-25T14:13:27.150Z"
   },
   {
    "duration": 111,
    "start_time": "2022-05-25T14:13:27.229Z"
   },
   {
    "duration": 165,
    "start_time": "2022-05-25T14:13:27.342Z"
   },
   {
    "duration": 165,
    "start_time": "2022-05-25T14:13:27.509Z"
   },
   {
    "duration": 149,
    "start_time": "2022-05-25T14:13:27.676Z"
   },
   {
    "duration": 56,
    "start_time": "2022-05-25T14:13:27.828Z"
   },
   {
    "duration": 851,
    "start_time": "2022-05-25T14:13:27.885Z"
   },
   {
    "duration": 4,
    "start_time": "2022-05-25T14:13:28.738Z"
   },
   {
    "duration": 765,
    "start_time": "2022-05-25T14:13:28.744Z"
   },
   {
    "duration": 23,
    "start_time": "2022-05-25T14:13:29.511Z"
   },
   {
    "duration": 12,
    "start_time": "2022-05-25T14:13:29.536Z"
   },
   {
    "duration": 45,
    "start_time": "2022-05-25T14:13:29.550Z"
   },
   {
    "duration": 17,
    "start_time": "2022-05-25T14:13:29.597Z"
   },
   {
    "duration": 5,
    "start_time": "2022-05-25T14:14:17.838Z"
   },
   {
    "duration": 878,
    "start_time": "2022-05-25T14:14:17.845Z"
   },
   {
    "duration": 24,
    "start_time": "2022-05-25T14:14:18.726Z"
   },
   {
    "duration": 875,
    "start_time": "2022-05-25T14:14:18.753Z"
   },
   {
    "duration": 29,
    "start_time": "2022-05-25T14:14:19.631Z"
   },
   {
    "duration": 66,
    "start_time": "2022-05-25T14:14:19.662Z"
   },
   {
    "duration": 216,
    "start_time": "2022-05-25T14:14:19.731Z"
   },
   {
    "duration": 13,
    "start_time": "2022-05-25T14:14:19.948Z"
   },
   {
    "duration": 59,
    "start_time": "2022-05-25T14:14:19.963Z"
   },
   {
    "duration": 31,
    "start_time": "2022-05-25T14:14:20.025Z"
   },
   {
    "duration": 33,
    "start_time": "2022-05-25T14:14:20.060Z"
   },
   {
    "duration": 20,
    "start_time": "2022-05-25T14:14:20.095Z"
   },
   {
    "duration": 53,
    "start_time": "2022-05-25T14:14:20.116Z"
   },
   {
    "duration": 100,
    "start_time": "2022-05-25T14:14:20.170Z"
   },
   {
    "duration": 169,
    "start_time": "2022-05-25T14:14:20.272Z"
   },
   {
    "duration": 147,
    "start_time": "2022-05-25T14:14:20.444Z"
   },
   {
    "duration": 166,
    "start_time": "2022-05-25T14:14:20.593Z"
   },
   {
    "duration": 53,
    "start_time": "2022-05-25T14:14:20.761Z"
   },
   {
    "duration": 749,
    "start_time": "2022-05-25T14:14:20.816Z"
   },
   {
    "duration": 6,
    "start_time": "2022-05-25T14:14:21.568Z"
   },
   {
    "duration": 766,
    "start_time": "2022-05-25T14:14:21.576Z"
   },
   {
    "duration": 15,
    "start_time": "2022-05-25T14:14:22.344Z"
   },
   {
    "duration": 33,
    "start_time": "2022-05-25T14:14:22.361Z"
   },
   {
    "duration": 16,
    "start_time": "2022-05-25T14:14:22.396Z"
   },
   {
    "duration": 12,
    "start_time": "2022-05-25T14:14:22.414Z"
   },
   {
    "duration": 4,
    "start_time": "2022-05-25T14:15:00.120Z"
   },
   {
    "duration": 918,
    "start_time": "2022-05-25T14:15:00.126Z"
   },
   {
    "duration": 39,
    "start_time": "2022-05-25T14:15:01.046Z"
   },
   {
    "duration": 840,
    "start_time": "2022-05-25T14:15:01.088Z"
   },
   {
    "duration": 19,
    "start_time": "2022-05-25T14:15:01.930Z"
   },
   {
    "duration": 73,
    "start_time": "2022-05-25T14:15:01.951Z"
   },
   {
    "duration": 199,
    "start_time": "2022-05-25T14:15:02.026Z"
   },
   {
    "duration": 10,
    "start_time": "2022-05-25T14:15:02.228Z"
   },
   {
    "duration": 52,
    "start_time": "2022-05-25T14:15:02.241Z"
   },
   {
    "duration": 24,
    "start_time": "2022-05-25T14:15:02.295Z"
   },
   {
    "duration": 34,
    "start_time": "2022-05-25T14:15:02.321Z"
   },
   {
    "duration": 8,
    "start_time": "2022-05-25T14:15:02.358Z"
   },
   {
    "duration": 64,
    "start_time": "2022-05-25T14:15:02.367Z"
   },
   {
    "duration": 119,
    "start_time": "2022-05-25T14:15:02.433Z"
   },
   {
    "duration": 140,
    "start_time": "2022-05-25T14:15:02.554Z"
   },
   {
    "duration": 136,
    "start_time": "2022-05-25T14:15:02.696Z"
   },
   {
    "duration": 140,
    "start_time": "2022-05-25T14:15:02.834Z"
   },
   {
    "duration": 157,
    "start_time": "2022-05-25T14:15:02.976Z"
   },
   {
    "duration": 764,
    "start_time": "2022-05-25T14:15:03.135Z"
   },
   {
    "duration": 4,
    "start_time": "2022-05-25T14:15:03.901Z"
   },
   {
    "duration": 780,
    "start_time": "2022-05-25T14:15:03.906Z"
   },
   {
    "duration": 1462,
    "start_time": "2022-05-25T14:33:11.880Z"
   },
   {
    "duration": 906,
    "start_time": "2022-05-25T14:33:13.344Z"
   },
   {
    "duration": 22,
    "start_time": "2022-05-25T14:33:14.251Z"
   },
   {
    "duration": 910,
    "start_time": "2022-05-25T14:33:14.284Z"
   },
   {
    "duration": 19,
    "start_time": "2022-05-25T14:33:15.197Z"
   },
   {
    "duration": 40,
    "start_time": "2022-05-25T14:33:15.218Z"
   },
   {
    "duration": 221,
    "start_time": "2022-05-25T14:33:15.260Z"
   },
   {
    "duration": 12,
    "start_time": "2022-05-25T14:33:15.483Z"
   },
   {
    "duration": 33,
    "start_time": "2022-05-25T14:33:15.497Z"
   },
   {
    "duration": 17,
    "start_time": "2022-05-25T14:33:15.532Z"
   },
   {
    "duration": 49,
    "start_time": "2022-05-25T14:33:15.551Z"
   },
   {
    "duration": 8,
    "start_time": "2022-05-25T14:33:15.602Z"
   },
   {
    "duration": 76,
    "start_time": "2022-05-25T14:33:15.612Z"
   },
   {
    "duration": 115,
    "start_time": "2022-05-25T14:33:15.692Z"
   },
   {
    "duration": 131,
    "start_time": "2022-05-25T14:33:15.809Z"
   },
   {
    "duration": 137,
    "start_time": "2022-05-25T14:33:15.941Z"
   },
   {
    "duration": 144,
    "start_time": "2022-05-25T14:33:16.084Z"
   },
   {
    "duration": 59,
    "start_time": "2022-05-25T14:33:16.230Z"
   },
   {
    "duration": 747,
    "start_time": "2022-05-25T14:33:16.291Z"
   },
   {
    "duration": 4,
    "start_time": "2022-05-25T14:33:17.040Z"
   },
   {
    "duration": 773,
    "start_time": "2022-05-25T14:33:17.046Z"
   },
   {
    "duration": 1352,
    "start_time": "2022-05-25T14:38:06.012Z"
   },
   {
    "duration": 1009,
    "start_time": "2022-05-25T14:38:07.368Z"
   },
   {
    "duration": 26,
    "start_time": "2022-05-25T14:38:08.379Z"
   },
   {
    "duration": 859,
    "start_time": "2022-05-25T14:38:08.407Z"
   },
   {
    "duration": 27,
    "start_time": "2022-05-25T14:38:09.268Z"
   },
   {
    "duration": 28,
    "start_time": "2022-05-25T14:38:09.297Z"
   },
   {
    "duration": 208,
    "start_time": "2022-05-25T14:38:09.327Z"
   },
   {
    "duration": 11,
    "start_time": "2022-05-25T14:38:09.537Z"
   },
   {
    "duration": 50,
    "start_time": "2022-05-25T14:38:09.549Z"
   },
   {
    "duration": 16,
    "start_time": "2022-05-25T14:38:09.601Z"
   },
   {
    "duration": 22,
    "start_time": "2022-05-25T14:38:09.619Z"
   },
   {
    "duration": 6,
    "start_time": "2022-05-25T14:38:09.643Z"
   },
   {
    "duration": 85,
    "start_time": "2022-05-25T14:38:09.651Z"
   },
   {
    "duration": 98,
    "start_time": "2022-05-25T14:38:09.739Z"
   },
   {
    "duration": 132,
    "start_time": "2022-05-25T14:38:09.839Z"
   },
   {
    "duration": 142,
    "start_time": "2022-05-25T14:38:09.973Z"
   },
   {
    "duration": 147,
    "start_time": "2022-05-25T14:38:10.118Z"
   },
   {
    "duration": 66,
    "start_time": "2022-05-25T14:38:10.268Z"
   },
   {
    "duration": 667,
    "start_time": "2022-05-25T14:38:10.337Z"
   },
   {
    "duration": 5,
    "start_time": "2022-05-25T14:38:11.006Z"
   },
   {
    "duration": 736,
    "start_time": "2022-05-25T14:38:11.012Z"
   },
   {
    "duration": 1478,
    "start_time": "2022-05-25T14:41:59.977Z"
   },
   {
    "duration": 963,
    "start_time": "2022-05-25T14:42:01.458Z"
   },
   {
    "duration": 24,
    "start_time": "2022-05-25T14:42:02.423Z"
   },
   {
    "duration": 976,
    "start_time": "2022-05-25T14:42:02.449Z"
   },
   {
    "duration": 73,
    "start_time": "2022-05-25T14:42:03.427Z"
   },
   {
    "duration": 33,
    "start_time": "2022-05-25T14:42:03.502Z"
   },
   {
    "duration": 213,
    "start_time": "2022-05-25T14:42:03.536Z"
   },
   {
    "duration": 12,
    "start_time": "2022-05-25T14:42:03.752Z"
   },
   {
    "duration": 53,
    "start_time": "2022-05-25T14:42:03.766Z"
   },
   {
    "duration": 18,
    "start_time": "2022-05-25T14:42:03.821Z"
   },
   {
    "duration": 43,
    "start_time": "2022-05-25T14:42:03.842Z"
   },
   {
    "duration": 7,
    "start_time": "2022-05-25T14:42:03.886Z"
   },
   {
    "duration": 54,
    "start_time": "2022-05-25T14:42:03.894Z"
   },
   {
    "duration": 112,
    "start_time": "2022-05-25T14:42:03.950Z"
   },
   {
    "duration": 132,
    "start_time": "2022-05-25T14:42:04.064Z"
   },
   {
    "duration": 139,
    "start_time": "2022-05-25T14:42:04.198Z"
   },
   {
    "duration": 140,
    "start_time": "2022-05-25T14:42:04.339Z"
   },
   {
    "duration": 48,
    "start_time": "2022-05-25T14:42:04.484Z"
   },
   {
    "duration": 729,
    "start_time": "2022-05-25T14:42:04.535Z"
   },
   {
    "duration": 5,
    "start_time": "2022-05-25T14:42:05.266Z"
   },
   {
    "duration": 723,
    "start_time": "2022-05-25T14:42:05.272Z"
   },
   {
    "duration": 16,
    "start_time": "2022-05-25T14:42:05.997Z"
   },
   {
    "duration": 0,
    "start_time": "2022-05-25T14:42:06.015Z"
   },
   {
    "duration": 0,
    "start_time": "2022-05-25T14:42:06.016Z"
   },
   {
    "duration": 0,
    "start_time": "2022-05-25T14:42:06.017Z"
   },
   {
    "duration": 4,
    "start_time": "2022-05-25T14:42:20.040Z"
   },
   {
    "duration": 888,
    "start_time": "2022-05-25T14:42:20.047Z"
   },
   {
    "duration": 24,
    "start_time": "2022-05-25T14:42:20.937Z"
   },
   {
    "duration": 792,
    "start_time": "2022-05-25T14:42:20.964Z"
   },
   {
    "duration": 28,
    "start_time": "2022-05-25T14:42:21.758Z"
   },
   {
    "duration": 20,
    "start_time": "2022-05-25T14:42:21.788Z"
   },
   {
    "duration": 195,
    "start_time": "2022-05-25T14:42:21.810Z"
   },
   {
    "duration": 11,
    "start_time": "2022-05-25T14:42:22.007Z"
   },
   {
    "duration": 32,
    "start_time": "2022-05-25T14:42:22.019Z"
   },
   {
    "duration": 35,
    "start_time": "2022-05-25T14:42:22.054Z"
   },
   {
    "duration": 26,
    "start_time": "2022-05-25T14:42:22.091Z"
   },
   {
    "duration": 7,
    "start_time": "2022-05-25T14:42:22.119Z"
   },
   {
    "duration": 75,
    "start_time": "2022-05-25T14:42:22.127Z"
   },
   {
    "duration": 110,
    "start_time": "2022-05-25T14:42:22.203Z"
   },
   {
    "duration": 143,
    "start_time": "2022-05-25T14:42:22.314Z"
   },
   {
    "duration": 153,
    "start_time": "2022-05-25T14:42:22.459Z"
   },
   {
    "duration": 131,
    "start_time": "2022-05-25T14:42:22.615Z"
   },
   {
    "duration": 71,
    "start_time": "2022-05-25T14:42:22.748Z"
   },
   {
    "duration": 777,
    "start_time": "2022-05-25T14:42:22.822Z"
   },
   {
    "duration": 5,
    "start_time": "2022-05-25T14:42:23.601Z"
   },
   {
    "duration": 779,
    "start_time": "2022-05-25T14:42:23.608Z"
   },
   {
    "duration": 1317,
    "start_time": "2022-05-25T14:43:48.927Z"
   },
   {
    "duration": 898,
    "start_time": "2022-05-25T14:43:50.246Z"
   },
   {
    "duration": 38,
    "start_time": "2022-05-25T14:43:51.146Z"
   },
   {
    "duration": 913,
    "start_time": "2022-05-25T14:43:51.186Z"
   },
   {
    "duration": 30,
    "start_time": "2022-05-25T14:43:52.100Z"
   },
   {
    "duration": 37,
    "start_time": "2022-05-25T14:43:52.132Z"
   },
   {
    "duration": 213,
    "start_time": "2022-05-25T14:43:52.184Z"
   },
   {
    "duration": 12,
    "start_time": "2022-05-25T14:43:52.399Z"
   },
   {
    "duration": 41,
    "start_time": "2022-05-25T14:43:52.413Z"
   },
   {
    "duration": 36,
    "start_time": "2022-05-25T14:43:52.457Z"
   },
   {
    "duration": 36,
    "start_time": "2022-05-25T14:43:52.495Z"
   },
   {
    "duration": 9,
    "start_time": "2022-05-25T14:43:52.534Z"
   },
   {
    "duration": 85,
    "start_time": "2022-05-25T14:43:52.545Z"
   },
   {
    "duration": 109,
    "start_time": "2022-05-25T14:43:52.632Z"
   },
   {
    "duration": 162,
    "start_time": "2022-05-25T14:43:52.743Z"
   },
   {
    "duration": 134,
    "start_time": "2022-05-25T14:43:52.907Z"
   },
   {
    "duration": 144,
    "start_time": "2022-05-25T14:43:53.043Z"
   },
   {
    "duration": 47,
    "start_time": "2022-05-25T14:43:53.188Z"
   },
   {
    "duration": 747,
    "start_time": "2022-05-25T14:43:53.237Z"
   },
   {
    "duration": 5,
    "start_time": "2022-05-25T14:43:53.986Z"
   },
   {
    "duration": 795,
    "start_time": "2022-05-25T14:43:53.993Z"
   },
   {
    "duration": 1330,
    "start_time": "2022-05-25T15:35:34.599Z"
   },
   {
    "duration": 926,
    "start_time": "2022-05-25T15:35:35.931Z"
   },
   {
    "duration": 28,
    "start_time": "2022-05-25T15:35:36.859Z"
   },
   {
    "duration": 862,
    "start_time": "2022-05-25T15:35:36.890Z"
   },
   {
    "duration": 36,
    "start_time": "2022-05-25T15:35:37.753Z"
   },
   {
    "duration": 32,
    "start_time": "2022-05-25T15:35:37.791Z"
   },
   {
    "duration": 210,
    "start_time": "2022-05-25T15:35:37.825Z"
   },
   {
    "duration": 11,
    "start_time": "2022-05-25T15:35:38.037Z"
   },
   {
    "duration": 53,
    "start_time": "2022-05-25T15:35:38.050Z"
   },
   {
    "duration": 22,
    "start_time": "2022-05-25T15:35:38.106Z"
   },
   {
    "duration": 36,
    "start_time": "2022-05-25T15:35:38.130Z"
   },
   {
    "duration": 22,
    "start_time": "2022-05-25T15:35:38.169Z"
   },
   {
    "duration": 63,
    "start_time": "2022-05-25T15:35:38.194Z"
   },
   {
    "duration": 162,
    "start_time": "2022-05-25T15:35:38.260Z"
   },
   {
    "duration": 132,
    "start_time": "2022-05-25T15:35:38.423Z"
   },
   {
    "duration": 130,
    "start_time": "2022-05-25T15:35:38.557Z"
   },
   {
    "duration": 131,
    "start_time": "2022-05-25T15:35:38.689Z"
   },
   {
    "duration": 62,
    "start_time": "2022-05-25T15:35:38.822Z"
   },
   {
    "duration": 680,
    "start_time": "2022-05-25T15:35:38.886Z"
   },
   {
    "duration": 3,
    "start_time": "2022-05-25T15:35:39.568Z"
   },
   {
    "duration": 758,
    "start_time": "2022-05-25T15:35:39.573Z"
   },
   {
    "duration": 1505,
    "start_time": "2022-05-25T20:18:49.789Z"
   },
   {
    "duration": 1046,
    "start_time": "2022-05-25T20:18:51.296Z"
   },
   {
    "duration": 19,
    "start_time": "2022-05-25T20:18:52.343Z"
   },
   {
    "duration": 758,
    "start_time": "2022-05-25T20:18:52.364Z"
   },
   {
    "duration": 23,
    "start_time": "2022-05-25T20:18:53.125Z"
   },
   {
    "duration": 45,
    "start_time": "2022-05-25T20:18:53.149Z"
   },
   {
    "duration": 193,
    "start_time": "2022-05-25T20:18:53.196Z"
   },
   {
    "duration": 11,
    "start_time": "2022-05-25T20:18:53.393Z"
   },
   {
    "duration": 40,
    "start_time": "2022-05-25T20:18:53.406Z"
   },
   {
    "duration": 14,
    "start_time": "2022-05-25T20:18:53.448Z"
   },
   {
    "duration": 44,
    "start_time": "2022-05-25T20:18:53.464Z"
   },
   {
    "duration": 6,
    "start_time": "2022-05-25T20:18:53.510Z"
   },
   {
    "duration": 77,
    "start_time": "2022-05-25T20:18:53.517Z"
   },
   {
    "duration": 85,
    "start_time": "2022-05-25T20:18:53.597Z"
   },
   {
    "duration": 119,
    "start_time": "2022-05-25T20:18:53.684Z"
   },
   {
    "duration": 119,
    "start_time": "2022-05-25T20:18:53.805Z"
   },
   {
    "duration": 129,
    "start_time": "2022-05-25T20:18:53.925Z"
   },
   {
    "duration": 55,
    "start_time": "2022-05-25T20:18:54.056Z"
   },
   {
    "duration": 599,
    "start_time": "2022-05-25T20:18:54.113Z"
   },
   {
    "duration": 3,
    "start_time": "2022-05-25T20:18:54.714Z"
   },
   {
    "duration": 719,
    "start_time": "2022-05-25T20:18:54.719Z"
   },
   {
    "duration": 1231,
    "start_time": "2022-05-25T20:21:19.814Z"
   },
   {
    "duration": 809,
    "start_time": "2022-05-25T20:21:21.047Z"
   },
   {
    "duration": 19,
    "start_time": "2022-05-25T20:21:21.857Z"
   },
   {
    "duration": 807,
    "start_time": "2022-05-25T20:21:21.878Z"
   },
   {
    "duration": 26,
    "start_time": "2022-05-25T20:21:22.686Z"
   },
   {
    "duration": 54,
    "start_time": "2022-05-25T20:21:22.713Z"
   },
   {
    "duration": 171,
    "start_time": "2022-05-25T20:21:22.769Z"
   },
   {
    "duration": 11,
    "start_time": "2022-05-25T20:21:22.941Z"
   },
   {
    "duration": 45,
    "start_time": "2022-05-25T20:21:22.953Z"
   },
   {
    "duration": 15,
    "start_time": "2022-05-25T20:21:23.001Z"
   },
   {
    "duration": 21,
    "start_time": "2022-05-25T20:21:23.017Z"
   },
   {
    "duration": 6,
    "start_time": "2022-05-25T20:21:23.039Z"
   },
   {
    "duration": 76,
    "start_time": "2022-05-25T20:21:23.047Z"
   },
   {
    "duration": 93,
    "start_time": "2022-05-25T20:21:23.125Z"
   },
   {
    "duration": 117,
    "start_time": "2022-05-25T20:21:23.219Z"
   },
   {
    "duration": 119,
    "start_time": "2022-05-25T20:21:23.338Z"
   },
   {
    "duration": 113,
    "start_time": "2022-05-25T20:21:23.458Z"
   },
   {
    "duration": 51,
    "start_time": "2022-05-25T20:21:23.573Z"
   },
   {
    "duration": 648,
    "start_time": "2022-05-25T20:21:23.626Z"
   },
   {
    "duration": 3,
    "start_time": "2022-05-25T20:21:24.276Z"
   },
   {
    "duration": 704,
    "start_time": "2022-05-25T20:21:24.281Z"
   },
   {
    "duration": 4826504,
    "start_time": "2022-05-25T20:21:24.994Z"
   },
   {
    "duration": 136,
    "start_time": "2022-05-25T21:41:51.499Z"
   },
   {
    "duration": 26,
    "start_time": "2022-05-25T21:41:51.636Z"
   },
   {
    "duration": 28,
    "start_time": "2022-05-25T21:41:51.664Z"
   },
   {
    "duration": 4,
    "start_time": "2022-05-26T03:44:56.942Z"
   },
   {
    "duration": 728,
    "start_time": "2022-05-26T03:44:56.947Z"
   },
   {
    "duration": 23,
    "start_time": "2022-05-26T03:44:57.677Z"
   },
   {
    "duration": 701,
    "start_time": "2022-05-26T03:44:57.702Z"
   },
   {
    "duration": 16,
    "start_time": "2022-05-26T03:44:58.405Z"
   },
   {
    "duration": 19,
    "start_time": "2022-05-26T03:44:58.423Z"
   },
   {
    "duration": 171,
    "start_time": "2022-05-26T03:44:58.444Z"
   },
   {
    "duration": 9,
    "start_time": "2022-05-26T03:44:58.616Z"
   },
   {
    "duration": 30,
    "start_time": "2022-05-26T03:44:58.626Z"
   },
   {
    "duration": 15,
    "start_time": "2022-05-26T03:44:58.657Z"
   },
   {
    "duration": 19,
    "start_time": "2022-05-26T03:44:58.693Z"
   },
   {
    "duration": 6,
    "start_time": "2022-05-26T03:44:58.714Z"
   },
   {
    "duration": 48,
    "start_time": "2022-05-26T03:44:58.722Z"
   },
   {
    "duration": 108,
    "start_time": "2022-05-26T03:44:58.772Z"
   },
   {
    "duration": 128,
    "start_time": "2022-05-26T03:44:58.882Z"
   },
   {
    "duration": 122,
    "start_time": "2022-05-26T03:44:59.012Z"
   },
   {
    "duration": 115,
    "start_time": "2022-05-26T03:44:59.135Z"
   },
   {
    "duration": 51,
    "start_time": "2022-05-26T03:44:59.251Z"
   },
   {
    "duration": 578,
    "start_time": "2022-05-26T03:44:59.304Z"
   },
   {
    "duration": 4,
    "start_time": "2022-05-26T03:44:59.884Z"
   },
   {
    "duration": 686,
    "start_time": "2022-05-26T03:44:59.894Z"
   },
   {
    "duration": 108512,
    "start_time": "2022-05-26T03:45:14.240Z"
   },
   {
    "duration": 1549,
    "start_time": "2022-05-26T11:41:12.914Z"
   },
   {
    "duration": 1118,
    "start_time": "2022-05-26T11:41:14.465Z"
   },
   {
    "duration": 32,
    "start_time": "2022-05-26T11:41:15.585Z"
   },
   {
    "duration": 903,
    "start_time": "2022-05-26T11:41:15.619Z"
   },
   {
    "duration": 19,
    "start_time": "2022-05-26T11:41:16.525Z"
   },
   {
    "duration": 29,
    "start_time": "2022-05-26T11:41:16.545Z"
   },
   {
    "duration": 220,
    "start_time": "2022-05-26T11:41:16.576Z"
   },
   {
    "duration": 14,
    "start_time": "2022-05-26T11:41:16.800Z"
   },
   {
    "duration": 46,
    "start_time": "2022-05-26T11:41:16.815Z"
   },
   {
    "duration": 16,
    "start_time": "2022-05-26T11:41:16.863Z"
   },
   {
    "duration": 57,
    "start_time": "2022-05-26T11:41:16.881Z"
   },
   {
    "duration": 12,
    "start_time": "2022-05-26T11:41:16.940Z"
   },
   {
    "duration": 77,
    "start_time": "2022-05-26T11:41:16.954Z"
   },
   {
    "duration": 105,
    "start_time": "2022-05-26T11:41:17.034Z"
   },
   {
    "duration": 142,
    "start_time": "2022-05-26T11:41:17.141Z"
   },
   {
    "duration": 165,
    "start_time": "2022-05-26T11:41:17.285Z"
   },
   {
    "duration": 148,
    "start_time": "2022-05-26T11:41:17.452Z"
   },
   {
    "duration": 57,
    "start_time": "2022-05-26T11:41:17.605Z"
   },
   {
    "duration": 885,
    "start_time": "2022-05-26T11:41:17.665Z"
   },
   {
    "duration": 4,
    "start_time": "2022-05-26T11:41:18.552Z"
   },
   {
    "duration": 838,
    "start_time": "2022-05-26T11:41:18.558Z"
   },
   {
    "duration": 164,
    "start_time": "2022-05-26T11:41:38.419Z"
   },
   {
    "duration": 1447,
    "start_time": "2022-05-26T11:54:12.883Z"
   },
   {
    "duration": 940,
    "start_time": "2022-05-26T11:54:14.333Z"
   },
   {
    "duration": 35,
    "start_time": "2022-05-26T11:54:15.275Z"
   },
   {
    "duration": 920,
    "start_time": "2022-05-26T11:54:15.313Z"
   },
   {
    "duration": 30,
    "start_time": "2022-05-26T11:54:16.235Z"
   },
   {
    "duration": 54,
    "start_time": "2022-05-26T11:54:16.266Z"
   },
   {
    "duration": 192,
    "start_time": "2022-05-26T11:54:16.322Z"
   },
   {
    "duration": 11,
    "start_time": "2022-05-26T11:54:16.516Z"
   },
   {
    "duration": 37,
    "start_time": "2022-05-26T11:54:16.529Z"
   },
   {
    "duration": 42,
    "start_time": "2022-05-26T11:54:16.567Z"
   },
   {
    "duration": 25,
    "start_time": "2022-05-26T11:54:16.611Z"
   },
   {
    "duration": 9,
    "start_time": "2022-05-26T11:54:16.638Z"
   },
   {
    "duration": 72,
    "start_time": "2022-05-26T11:54:16.649Z"
   },
   {
    "duration": 105,
    "start_time": "2022-05-26T11:54:16.724Z"
   },
   {
    "duration": 126,
    "start_time": "2022-05-26T11:54:16.831Z"
   },
   {
    "duration": 142,
    "start_time": "2022-05-26T11:54:16.959Z"
   },
   {
    "duration": 139,
    "start_time": "2022-05-26T11:54:17.103Z"
   },
   {
    "duration": 61,
    "start_time": "2022-05-26T11:54:17.244Z"
   },
   {
    "duration": 841,
    "start_time": "2022-05-26T11:54:17.309Z"
   },
   {
    "duration": 3,
    "start_time": "2022-05-26T11:54:18.152Z"
   },
   {
    "duration": 778,
    "start_time": "2022-05-26T11:54:18.157Z"
   },
   {
    "duration": 4191906,
    "start_time": "2022-05-26T11:54:28.578Z"
   },
   {
    "duration": 1470,
    "start_time": "2022-05-26T17:17:12.451Z"
   },
   {
    "duration": 1034,
    "start_time": "2022-05-26T17:17:13.931Z"
   },
   {
    "duration": 44,
    "start_time": "2022-05-26T17:17:14.967Z"
   },
   {
    "duration": 1035,
    "start_time": "2022-05-26T17:17:15.014Z"
   },
   {
    "duration": 28,
    "start_time": "2022-05-26T17:17:16.052Z"
   },
   {
    "duration": 101,
    "start_time": "2022-05-26T17:17:16.082Z"
   },
   {
    "duration": 255,
    "start_time": "2022-05-26T17:17:16.185Z"
   },
   {
    "duration": 12,
    "start_time": "2022-05-26T17:17:16.444Z"
   },
   {
    "duration": 67,
    "start_time": "2022-05-26T17:17:16.458Z"
   },
   {
    "duration": 20,
    "start_time": "2022-05-26T17:17:16.528Z"
   },
   {
    "duration": 21,
    "start_time": "2022-05-26T17:17:16.550Z"
   },
   {
    "duration": 6,
    "start_time": "2022-05-26T17:17:16.574Z"
   },
   {
    "duration": 78,
    "start_time": "2022-05-26T17:17:16.581Z"
   },
   {
    "duration": 113,
    "start_time": "2022-05-26T17:17:16.661Z"
   },
   {
    "duration": 169,
    "start_time": "2022-05-26T17:17:16.776Z"
   },
   {
    "duration": 141,
    "start_time": "2022-05-26T17:17:16.947Z"
   },
   {
    "duration": 167,
    "start_time": "2022-05-26T17:17:17.090Z"
   },
   {
    "duration": 76,
    "start_time": "2022-05-26T17:17:17.259Z"
   },
   {
    "duration": 1038,
    "start_time": "2022-05-26T17:17:17.338Z"
   },
   {
    "duration": 4,
    "start_time": "2022-05-26T17:17:18.378Z"
   },
   {
    "duration": 950,
    "start_time": "2022-05-26T17:17:18.384Z"
   },
   {
    "duration": 181,
    "start_time": "2022-05-26T17:17:39.593Z"
   },
   {
    "duration": 1567,
    "start_time": "2022-05-26T17:18:56.983Z"
   },
   {
    "duration": 1122,
    "start_time": "2022-05-26T17:18:58.552Z"
   },
   {
    "duration": 51,
    "start_time": "2022-05-26T17:18:59.676Z"
   },
   {
    "duration": 1011,
    "start_time": "2022-05-26T17:18:59.730Z"
   },
   {
    "duration": 24,
    "start_time": "2022-05-26T17:19:00.743Z"
   },
   {
    "duration": 67,
    "start_time": "2022-05-26T17:19:00.769Z"
   },
   {
    "duration": 240,
    "start_time": "2022-05-26T17:19:00.838Z"
   },
   {
    "duration": 12,
    "start_time": "2022-05-26T17:19:01.080Z"
   },
   {
    "duration": 81,
    "start_time": "2022-05-26T17:19:01.094Z"
   },
   {
    "duration": 18,
    "start_time": "2022-05-26T17:19:01.177Z"
   },
   {
    "duration": 67,
    "start_time": "2022-05-26T17:19:01.207Z"
   },
   {
    "duration": 8,
    "start_time": "2022-05-26T17:19:01.277Z"
   },
   {
    "duration": 98,
    "start_time": "2022-05-26T17:19:01.286Z"
   },
   {
    "duration": 123,
    "start_time": "2022-05-26T17:19:01.387Z"
   },
   {
    "duration": 145,
    "start_time": "2022-05-26T17:19:01.512Z"
   },
   {
    "duration": 163,
    "start_time": "2022-05-26T17:19:01.658Z"
   },
   {
    "duration": 143,
    "start_time": "2022-05-26T17:19:01.823Z"
   },
   {
    "duration": 67,
    "start_time": "2022-05-26T17:19:01.968Z"
   },
   {
    "duration": 1303,
    "start_time": "2022-05-26T17:19:02.042Z"
   },
   {
    "duration": 4,
    "start_time": "2022-05-26T17:19:03.347Z"
   },
   {
    "duration": 856,
    "start_time": "2022-05-26T17:19:03.352Z"
   },
   {
    "duration": 44131,
    "start_time": "2022-05-26T17:19:19.764Z"
   },
   {
    "duration": 1419,
    "start_time": "2022-05-26T18:15:46.265Z"
   },
   {
    "duration": 983,
    "start_time": "2022-05-26T18:15:47.686Z"
   },
   {
    "duration": 36,
    "start_time": "2022-05-26T18:15:48.671Z"
   },
   {
    "duration": 1026,
    "start_time": "2022-05-26T18:15:48.713Z"
   },
   {
    "duration": 29,
    "start_time": "2022-05-26T18:15:49.741Z"
   },
   {
    "duration": 56,
    "start_time": "2022-05-26T18:15:49.772Z"
   },
   {
    "duration": 231,
    "start_time": "2022-05-26T18:15:49.830Z"
   },
   {
    "duration": 12,
    "start_time": "2022-05-26T18:15:50.063Z"
   },
   {
    "duration": 60,
    "start_time": "2022-05-26T18:15:50.076Z"
   },
   {
    "duration": 24,
    "start_time": "2022-05-26T18:15:50.139Z"
   },
   {
    "duration": 24,
    "start_time": "2022-05-26T18:15:50.165Z"
   },
   {
    "duration": 39,
    "start_time": "2022-05-26T18:15:50.191Z"
   },
   {
    "duration": 83,
    "start_time": "2022-05-26T18:15:50.232Z"
   },
   {
    "duration": 109,
    "start_time": "2022-05-26T18:15:50.320Z"
   },
   {
    "duration": 139,
    "start_time": "2022-05-26T18:15:50.431Z"
   },
   {
    "duration": 154,
    "start_time": "2022-05-26T18:15:50.571Z"
   },
   {
    "duration": 148,
    "start_time": "2022-05-26T18:15:50.727Z"
   },
   {
    "duration": 66,
    "start_time": "2022-05-26T18:15:50.877Z"
   },
   {
    "duration": 920,
    "start_time": "2022-05-26T18:15:50.945Z"
   },
   {
    "duration": 4,
    "start_time": "2022-05-26T18:15:51.867Z"
   },
   {
    "duration": 832,
    "start_time": "2022-05-26T18:15:51.873Z"
   },
   {
    "duration": 36264,
    "start_time": "2022-05-26T18:16:27.040Z"
   },
   {
    "duration": 48,
    "start_time": "2022-05-27T12:06:03.912Z"
   },
   {
    "duration": 1636,
    "start_time": "2022-05-27T12:45:10.698Z"
   },
   {
    "duration": 2741,
    "start_time": "2022-05-27T12:45:12.336Z"
   },
   {
    "duration": 23,
    "start_time": "2022-05-27T12:45:16.031Z"
   },
   {
    "duration": 794,
    "start_time": "2022-05-27T12:45:16.338Z"
   },
   {
    "duration": 19,
    "start_time": "2022-05-27T12:45:18.151Z"
   },
   {
    "duration": 25,
    "start_time": "2022-05-27T12:45:18.778Z"
   },
   {
    "duration": 197,
    "start_time": "2022-05-27T12:45:20.448Z"
   },
   {
    "duration": 10,
    "start_time": "2022-05-27T12:45:20.993Z"
   },
   {
    "duration": 33,
    "start_time": "2022-05-27T12:45:21.980Z"
   },
   {
    "duration": 16,
    "start_time": "2022-05-27T12:45:22.585Z"
   },
   {
    "duration": 19,
    "start_time": "2022-05-27T12:45:22.806Z"
   },
   {
    "duration": 6,
    "start_time": "2022-05-27T12:45:24.014Z"
   },
   {
    "duration": 54,
    "start_time": "2022-05-27T12:45:24.888Z"
   },
   {
    "duration": 90,
    "start_time": "2022-05-27T12:45:25.679Z"
   },
   {
    "duration": 110,
    "start_time": "2022-05-27T12:45:25.989Z"
   },
   {
    "duration": 115,
    "start_time": "2022-05-27T12:45:26.429Z"
   },
   {
    "duration": 134,
    "start_time": "2022-05-27T12:45:26.991Z"
   },
   {
    "duration": 44,
    "start_time": "2022-05-27T12:45:28.028Z"
   },
   {
    "duration": 113,
    "start_time": "2022-05-27T12:45:29.382Z"
   },
   {
    "duration": 60,
    "start_time": "2022-05-27T12:45:36.033Z"
   },
   {
    "duration": 51,
    "start_time": "2022-05-29T08:15:52.347Z"
   },
   {
    "duration": 57,
    "start_time": "2022-05-30T10:47:57.566Z"
   },
   {
    "duration": 1814,
    "start_time": "2022-05-30T10:48:11.423Z"
   },
   {
    "duration": 1125,
    "start_time": "2022-05-30T10:48:13.238Z"
   },
   {
    "duration": 22,
    "start_time": "2022-05-30T10:48:14.365Z"
   },
   {
    "duration": 823,
    "start_time": "2022-05-30T10:48:14.395Z"
   },
   {
    "duration": 26,
    "start_time": "2022-05-30T10:48:15.219Z"
   },
   {
    "duration": 31,
    "start_time": "2022-05-30T10:48:15.247Z"
   },
   {
    "duration": 215,
    "start_time": "2022-05-30T10:48:15.280Z"
   },
   {
    "duration": 24,
    "start_time": "2022-05-30T10:48:15.497Z"
   },
   {
    "duration": 5,
    "start_time": "2022-05-30T10:49:55.542Z"
   },
   {
    "duration": 882,
    "start_time": "2022-05-30T10:49:55.549Z"
   },
   {
    "duration": 22,
    "start_time": "2022-05-30T10:49:56.433Z"
   },
   {
    "duration": 776,
    "start_time": "2022-05-30T10:49:56.457Z"
   },
   {
    "duration": 18,
    "start_time": "2022-05-30T10:49:57.236Z"
   },
   {
    "duration": 40,
    "start_time": "2022-05-30T10:49:57.256Z"
   },
   {
    "duration": 183,
    "start_time": "2022-05-30T10:49:57.298Z"
   },
   {
    "duration": 32,
    "start_time": "2022-05-30T10:49:57.482Z"
   },
   {
    "duration": 60,
    "start_time": "2022-05-30T10:49:57.516Z"
   },
   {
    "duration": 23,
    "start_time": "2022-05-30T10:49:57.578Z"
   },
   {
    "duration": 16,
    "start_time": "2022-05-30T10:49:57.604Z"
   },
   {
    "duration": 5,
    "start_time": "2022-05-30T10:49:57.622Z"
   },
   {
    "duration": 27,
    "start_time": "2022-05-30T10:49:57.629Z"
   },
   {
    "duration": 61,
    "start_time": "2022-05-30T10:49:57.658Z"
   },
   {
    "duration": 49,
    "start_time": "2022-05-30T10:49:57.721Z"
   },
   {
    "duration": 67,
    "start_time": "2022-05-30T10:49:57.772Z"
   },
   {
    "duration": 56,
    "start_time": "2022-05-30T10:49:57.841Z"
   },
   {
    "duration": 24,
    "start_time": "2022-05-30T10:49:57.899Z"
   },
   {
    "duration": 41,
    "start_time": "2022-05-30T10:49:57.925Z"
   },
   {
    "duration": 244,
    "start_time": "2022-05-30T10:49:57.968Z"
   },
   {
    "duration": 4,
    "start_time": "2022-05-30T10:49:58.214Z"
   },
   {
    "duration": 7,
    "start_time": "2022-05-30T11:07:22.957Z"
   },
   {
    "duration": 921,
    "start_time": "2022-05-30T11:07:22.967Z"
   },
   {
    "duration": 33,
    "start_time": "2022-05-30T11:07:23.889Z"
   },
   {
    "duration": 835,
    "start_time": "2022-05-30T11:07:23.925Z"
   },
   {
    "duration": 18,
    "start_time": "2022-05-30T11:07:24.762Z"
   },
   {
    "duration": 37,
    "start_time": "2022-05-30T11:07:24.782Z"
   },
   {
    "duration": 220,
    "start_time": "2022-05-30T11:07:24.821Z"
   },
   {
    "duration": 23,
    "start_time": "2022-05-30T11:07:25.043Z"
   },
   {
    "duration": 75,
    "start_time": "2022-05-30T11:07:25.071Z"
   },
   {
    "duration": 10,
    "start_time": "2022-05-30T11:07:25.149Z"
   },
   {
    "duration": 34,
    "start_time": "2022-05-30T11:07:25.162Z"
   },
   {
    "duration": 5,
    "start_time": "2022-05-30T11:07:25.198Z"
   },
   {
    "duration": 37,
    "start_time": "2022-05-30T11:07:25.205Z"
   },
   {
    "duration": 56,
    "start_time": "2022-05-30T11:07:25.244Z"
   },
   {
    "duration": 56,
    "start_time": "2022-05-30T11:07:25.302Z"
   },
   {
    "duration": 78,
    "start_time": "2022-05-30T11:07:25.360Z"
   },
   {
    "duration": 99,
    "start_time": "2022-05-30T11:07:25.440Z"
   },
   {
    "duration": 25,
    "start_time": "2022-05-30T11:07:25.541Z"
   },
   {
    "duration": 61,
    "start_time": "2022-05-30T11:07:25.568Z"
   },
   {
    "duration": 230,
    "start_time": "2022-05-30T11:07:25.631Z"
   },
   {
    "duration": 4,
    "start_time": "2022-05-30T11:07:25.863Z"
   },
   {
    "duration": 277,
    "start_time": "2022-05-30T11:07:25.869Z"
   },
   {
    "duration": 4,
    "start_time": "2022-05-30T11:16:03.316Z"
   },
   {
    "duration": 809,
    "start_time": "2022-05-30T11:16:03.322Z"
   },
   {
    "duration": 21,
    "start_time": "2022-05-30T11:16:04.132Z"
   },
   {
    "duration": 817,
    "start_time": "2022-05-30T11:16:04.155Z"
   },
   {
    "duration": 267,
    "start_time": "2022-05-30T11:16:04.974Z"
   },
   {
    "duration": 427,
    "start_time": "2022-05-30T11:16:16.158Z"
   },
   {
    "duration": 5,
    "start_time": "2022-05-30T11:18:22.399Z"
   },
   {
    "duration": 791,
    "start_time": "2022-05-30T11:18:22.414Z"
   },
   {
    "duration": 26,
    "start_time": "2022-05-30T11:18:23.207Z"
   },
   {
    "duration": 749,
    "start_time": "2022-05-30T11:18:23.235Z"
   },
   {
    "duration": 445,
    "start_time": "2022-05-30T11:18:23.986Z"
   },
   {
    "duration": 18,
    "start_time": "2022-05-30T11:18:24.433Z"
   },
   {
    "duration": 48,
    "start_time": "2022-05-30T11:18:24.453Z"
   },
   {
    "duration": 176,
    "start_time": "2022-05-30T11:18:24.502Z"
   },
   {
    "duration": 30,
    "start_time": "2022-05-30T11:18:24.680Z"
   },
   {
    "duration": 59,
    "start_time": "2022-05-30T11:18:24.712Z"
   },
   {
    "duration": 31,
    "start_time": "2022-05-30T11:18:24.773Z"
   },
   {
    "duration": 15,
    "start_time": "2022-05-30T11:18:24.806Z"
   },
   {
    "duration": 22,
    "start_time": "2022-05-30T11:18:24.823Z"
   },
   {
    "duration": 37,
    "start_time": "2022-05-30T11:18:24.846Z"
   },
   {
    "duration": 38,
    "start_time": "2022-05-30T11:18:24.885Z"
   },
   {
    "duration": 49,
    "start_time": "2022-05-30T11:18:24.925Z"
   },
   {
    "duration": 55,
    "start_time": "2022-05-30T11:18:24.976Z"
   },
   {
    "duration": 62,
    "start_time": "2022-05-30T11:18:25.033Z"
   },
   {
    "duration": 23,
    "start_time": "2022-05-30T11:18:25.097Z"
   },
   {
    "duration": 42,
    "start_time": "2022-05-30T11:18:25.122Z"
   },
   {
    "duration": 260,
    "start_time": "2022-05-30T11:18:25.166Z"
   },
   {
    "duration": 4,
    "start_time": "2022-05-30T11:18:25.427Z"
   },
   {
    "duration": 369,
    "start_time": "2022-05-30T11:18:25.434Z"
   },
   {
    "duration": 5,
    "start_time": "2022-05-30T11:21:37.539Z"
   },
   {
    "duration": 776,
    "start_time": "2022-05-30T11:21:37.546Z"
   },
   {
    "duration": 22,
    "start_time": "2022-05-30T11:21:38.323Z"
   },
   {
    "duration": 937,
    "start_time": "2022-05-30T11:21:38.348Z"
   },
   {
    "duration": 421,
    "start_time": "2022-05-30T11:21:39.287Z"
   },
   {
    "duration": 18,
    "start_time": "2022-05-30T11:21:39.710Z"
   },
   {
    "duration": 29,
    "start_time": "2022-05-30T11:21:39.729Z"
   },
   {
    "duration": 199,
    "start_time": "2022-05-30T11:21:39.760Z"
   },
   {
    "duration": 22,
    "start_time": "2022-05-30T11:21:39.961Z"
   },
   {
    "duration": 66,
    "start_time": "2022-05-30T11:21:39.996Z"
   },
   {
    "duration": 12,
    "start_time": "2022-05-30T11:21:40.064Z"
   },
   {
    "duration": 10,
    "start_time": "2022-05-30T11:21:40.094Z"
   },
   {
    "duration": 8,
    "start_time": "2022-05-30T11:21:40.106Z"
   },
   {
    "duration": 28,
    "start_time": "2022-05-30T11:21:40.115Z"
   },
   {
    "duration": 57,
    "start_time": "2022-05-30T11:21:40.145Z"
   },
   {
    "duration": 52,
    "start_time": "2022-05-30T11:21:40.204Z"
   },
   {
    "duration": 70,
    "start_time": "2022-05-30T11:21:40.258Z"
   },
   {
    "duration": 49,
    "start_time": "2022-05-30T11:21:40.329Z"
   },
   {
    "duration": 24,
    "start_time": "2022-05-30T11:21:40.394Z"
   },
   {
    "duration": 39,
    "start_time": "2022-05-30T11:21:40.420Z"
   },
   {
    "duration": 239,
    "start_time": "2022-05-30T11:21:40.460Z"
   },
   {
    "duration": 4,
    "start_time": "2022-05-30T11:21:40.700Z"
   },
   {
    "duration": 301,
    "start_time": "2022-05-30T11:21:40.706Z"
   },
   {
    "duration": 240,
    "start_time": "2022-05-30T11:21:41.008Z"
   },
   {
    "duration": 41573,
    "start_time": "2022-05-30T11:23:17.604Z"
   },
   {
    "duration": 49,
    "start_time": "2022-05-30T11:24:16.604Z"
   },
   {
    "duration": 5,
    "start_time": "2022-05-30T12:11:02.347Z"
   },
   {
    "duration": 872,
    "start_time": "2022-05-30T12:11:02.355Z"
   },
   {
    "duration": 36,
    "start_time": "2022-05-30T12:11:03.229Z"
   },
   {
    "duration": 853,
    "start_time": "2022-05-30T12:11:03.267Z"
   },
   {
    "duration": 453,
    "start_time": "2022-05-30T12:11:04.123Z"
   },
   {
    "duration": 24,
    "start_time": "2022-05-30T12:11:04.577Z"
   },
   {
    "duration": 20,
    "start_time": "2022-05-30T12:11:04.603Z"
   },
   {
    "duration": 190,
    "start_time": "2022-05-30T12:11:04.625Z"
   },
   {
    "duration": 20,
    "start_time": "2022-05-30T12:11:04.817Z"
   },
   {
    "duration": 76,
    "start_time": "2022-05-30T12:11:04.839Z"
   },
   {
    "duration": 9,
    "start_time": "2022-05-30T12:11:04.917Z"
   },
   {
    "duration": 12,
    "start_time": "2022-05-30T12:11:04.928Z"
   },
   {
    "duration": 6,
    "start_time": "2022-05-30T12:11:04.942Z"
   },
   {
    "duration": 46,
    "start_time": "2022-05-30T12:11:04.951Z"
   },
   {
    "duration": 38,
    "start_time": "2022-05-30T12:11:04.999Z"
   },
   {
    "duration": 63,
    "start_time": "2022-05-30T12:11:05.039Z"
   },
   {
    "duration": 51,
    "start_time": "2022-05-30T12:11:05.103Z"
   },
   {
    "duration": 67,
    "start_time": "2022-05-30T12:11:05.156Z"
   },
   {
    "duration": 25,
    "start_time": "2022-05-30T12:11:05.225Z"
   },
   {
    "duration": 64,
    "start_time": "2022-05-30T12:11:05.252Z"
   },
   {
    "duration": 227,
    "start_time": "2022-05-30T12:11:05.318Z"
   },
   {
    "duration": 3,
    "start_time": "2022-05-30T12:11:05.547Z"
   },
   {
    "duration": 343,
    "start_time": "2022-05-30T12:11:05.552Z"
   },
   {
    "duration": 261,
    "start_time": "2022-05-30T12:11:05.896Z"
   },
   {
    "duration": 1687242,
    "start_time": "2022-05-30T12:11:06.159Z"
   },
   {
    "duration": 390,
    "start_time": "2022-05-30T12:39:13.404Z"
   },
   {
    "duration": 38451,
    "start_time": "2022-05-30T12:39:13.796Z"
   },
   {
    "duration": 52,
    "start_time": "2022-05-30T12:39:52.249Z"
   },
   {
    "duration": 3,
    "start_time": "2022-05-30T12:39:52.303Z"
   },
   {
    "duration": 2524513,
    "start_time": "2022-05-30T12:39:52.307Z"
   },
   {
    "duration": 44,
    "start_time": "2022-05-30T13:21:56.822Z"
   },
   {
    "duration": 6729,
    "start_time": "2022-05-30T13:21:56.867Z"
   },
   {
    "duration": 199,
    "start_time": "2022-05-30T13:22:03.600Z"
   },
   {
    "duration": 19,
    "start_time": "2022-05-30T17:52:30.444Z"
   },
   {
    "duration": 9,
    "start_time": "2022-05-30T17:52:41.866Z"
   },
   {
    "duration": 5,
    "start_time": "2022-05-30T18:04:11.074Z"
   },
   {
    "duration": 747,
    "start_time": "2022-05-30T18:04:11.081Z"
   },
   {
    "duration": 21,
    "start_time": "2022-05-30T18:04:11.830Z"
   },
   {
    "duration": 733,
    "start_time": "2022-05-30T18:04:11.853Z"
   },
   {
    "duration": 503,
    "start_time": "2022-05-30T18:04:12.588Z"
   },
   {
    "duration": 17,
    "start_time": "2022-05-30T18:04:13.093Z"
   },
   {
    "duration": 19,
    "start_time": "2022-05-30T18:04:13.111Z"
   },
   {
    "duration": 183,
    "start_time": "2022-05-30T18:04:13.132Z"
   },
   {
    "duration": 19,
    "start_time": "2022-05-30T18:04:13.317Z"
   },
   {
    "duration": 75,
    "start_time": "2022-05-30T18:04:13.337Z"
   },
   {
    "duration": 8,
    "start_time": "2022-05-30T18:04:13.414Z"
   },
   {
    "duration": 16,
    "start_time": "2022-05-30T18:04:13.424Z"
   },
   {
    "duration": 7,
    "start_time": "2022-05-30T18:04:13.442Z"
   },
   {
    "duration": 23,
    "start_time": "2022-05-30T18:04:13.451Z"
   },
   {
    "duration": 37,
    "start_time": "2022-05-30T18:04:13.495Z"
   },
   {
    "duration": 63,
    "start_time": "2022-05-30T18:04:13.534Z"
   },
   {
    "duration": 48,
    "start_time": "2022-05-30T18:04:13.600Z"
   },
   {
    "duration": 71,
    "start_time": "2022-05-30T18:04:13.650Z"
   },
   {
    "duration": 23,
    "start_time": "2022-05-30T18:04:13.723Z"
   },
   {
    "duration": 59,
    "start_time": "2022-05-30T18:04:13.747Z"
   },
   {
    "duration": 201,
    "start_time": "2022-05-30T18:04:13.808Z"
   },
   {
    "duration": 4,
    "start_time": "2022-05-30T18:04:14.011Z"
   },
   {
    "duration": 298,
    "start_time": "2022-05-30T18:04:14.016Z"
   },
   {
    "duration": 261,
    "start_time": "2022-05-30T18:04:14.316Z"
   },
   {
    "duration": 994657,
    "start_time": "2022-05-30T18:06:07.946Z"
   },
   {
    "duration": 397,
    "start_time": "2022-05-30T18:22:42.605Z"
   },
   {
    "duration": 37236,
    "start_time": "2022-05-30T18:22:43.004Z"
   },
   {
    "duration": 54,
    "start_time": "2022-05-30T18:23:20.242Z"
   },
   {
    "duration": 2,
    "start_time": "2022-05-30T18:23:20.298Z"
   },
   {
    "duration": 2514261,
    "start_time": "2022-05-30T18:23:20.302Z"
   },
   {
    "duration": 55,
    "start_time": "2022-05-30T19:05:14.564Z"
   },
   {
    "duration": 6475,
    "start_time": "2022-05-30T19:05:14.621Z"
   },
   {
    "duration": 197,
    "start_time": "2022-05-30T19:05:21.100Z"
   },
   {
    "duration": 99,
    "start_time": "2022-05-30T19:05:21.299Z"
   },
   {
    "duration": 11,
    "start_time": "2022-05-30T20:08:39.030Z"
   },
   {
    "duration": 72,
    "start_time": "2022-05-31T07:07:48.079Z"
   }
  ],
  "kernelspec": {
   "display_name": "Python 3 (ipykernel)",
   "language": "python",
   "name": "python3"
  },
  "language_info": {
   "codemirror_mode": {
    "name": "ipython",
    "version": 3
   },
   "file_extension": ".py",
   "mimetype": "text/x-python",
   "name": "python",
   "nbconvert_exporter": "python",
   "pygments_lexer": "ipython3",
   "version": "3.9.5"
  },
  "toc": {
   "base_numbering": 1,
   "nav_menu": {},
   "number_sections": true,
   "sideBar": true,
   "skip_h1_title": true,
   "title_cell": "Table of Contents",
   "title_sidebar": "Contents",
   "toc_cell": false,
   "toc_position": {},
   "toc_section_display": true,
   "toc_window_display": false
  }
 },
 "nbformat": 4,
 "nbformat_minor": 2
}
