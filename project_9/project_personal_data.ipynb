{
 "cells": [
  {
   "cell_type": "markdown",
   "metadata": {},
   "source": [
    "# Защита персональных данных клиентов"
   ]
  },
  {
   "cell_type": "markdown",
   "metadata": {},
   "source": [
    "## Загрузка данных"
   ]
  },
  {
   "cell_type": "code",
   "execution_count": 53,
   "metadata": {},
   "outputs": [],
   "source": [
    "import pandas as pd \n",
    "import numpy as np\n",
    "import seaborn as sns\n",
    "import matplotlib.pyplot as plt\n",
    "from sklearn.model_selection import train_test_split\n",
    "from sklearn.linear_model import LinearRegression\n",
    "from sklearn.metrics import r2_score"
   ]
  },
  {
   "cell_type": "code",
   "execution_count": 54,
   "metadata": {},
   "outputs": [
    {
     "data": {
      "text/html": [
       "<div>\n",
       "<style scoped>\n",
       "    .dataframe tbody tr th:only-of-type {\n",
       "        vertical-align: middle;\n",
       "    }\n",
       "\n",
       "    .dataframe tbody tr th {\n",
       "        vertical-align: top;\n",
       "    }\n",
       "\n",
       "    .dataframe thead th {\n",
       "        text-align: right;\n",
       "    }\n",
       "</style>\n",
       "<table border=\"1\" class=\"dataframe\">\n",
       "  <thead>\n",
       "    <tr style=\"text-align: right;\">\n",
       "      <th></th>\n",
       "      <th>Пол</th>\n",
       "      <th>Возраст</th>\n",
       "      <th>Зарплата</th>\n",
       "      <th>Члены семьи</th>\n",
       "      <th>Страховые выплаты</th>\n",
       "    </tr>\n",
       "  </thead>\n",
       "  <tbody>\n",
       "    <tr>\n",
       "      <th>0</th>\n",
       "      <td>1</td>\n",
       "      <td>41.0</td>\n",
       "      <td>49600.0</td>\n",
       "      <td>1</td>\n",
       "      <td>0</td>\n",
       "    </tr>\n",
       "    <tr>\n",
       "      <th>1</th>\n",
       "      <td>0</td>\n",
       "      <td>46.0</td>\n",
       "      <td>38000.0</td>\n",
       "      <td>1</td>\n",
       "      <td>1</td>\n",
       "    </tr>\n",
       "    <tr>\n",
       "      <th>2</th>\n",
       "      <td>0</td>\n",
       "      <td>29.0</td>\n",
       "      <td>21000.0</td>\n",
       "      <td>0</td>\n",
       "      <td>0</td>\n",
       "    </tr>\n",
       "    <tr>\n",
       "      <th>3</th>\n",
       "      <td>0</td>\n",
       "      <td>21.0</td>\n",
       "      <td>41700.0</td>\n",
       "      <td>2</td>\n",
       "      <td>0</td>\n",
       "    </tr>\n",
       "    <tr>\n",
       "      <th>4</th>\n",
       "      <td>1</td>\n",
       "      <td>28.0</td>\n",
       "      <td>26100.0</td>\n",
       "      <td>0</td>\n",
       "      <td>0</td>\n",
       "    </tr>\n",
       "    <tr>\n",
       "      <th>...</th>\n",
       "      <td>...</td>\n",
       "      <td>...</td>\n",
       "      <td>...</td>\n",
       "      <td>...</td>\n",
       "      <td>...</td>\n",
       "    </tr>\n",
       "    <tr>\n",
       "      <th>4995</th>\n",
       "      <td>0</td>\n",
       "      <td>28.0</td>\n",
       "      <td>35700.0</td>\n",
       "      <td>2</td>\n",
       "      <td>0</td>\n",
       "    </tr>\n",
       "    <tr>\n",
       "      <th>4996</th>\n",
       "      <td>0</td>\n",
       "      <td>34.0</td>\n",
       "      <td>52400.0</td>\n",
       "      <td>1</td>\n",
       "      <td>0</td>\n",
       "    </tr>\n",
       "    <tr>\n",
       "      <th>4997</th>\n",
       "      <td>0</td>\n",
       "      <td>20.0</td>\n",
       "      <td>33900.0</td>\n",
       "      <td>2</td>\n",
       "      <td>0</td>\n",
       "    </tr>\n",
       "    <tr>\n",
       "      <th>4998</th>\n",
       "      <td>1</td>\n",
       "      <td>22.0</td>\n",
       "      <td>32700.0</td>\n",
       "      <td>3</td>\n",
       "      <td>0</td>\n",
       "    </tr>\n",
       "    <tr>\n",
       "      <th>4999</th>\n",
       "      <td>1</td>\n",
       "      <td>28.0</td>\n",
       "      <td>40600.0</td>\n",
       "      <td>1</td>\n",
       "      <td>0</td>\n",
       "    </tr>\n",
       "  </tbody>\n",
       "</table>\n",
       "<p>5000 rows × 5 columns</p>\n",
       "</div>"
      ],
      "text/plain": [
       "      Пол  Возраст  Зарплата  Члены семьи  Страховые выплаты\n",
       "0       1     41.0   49600.0            1                  0\n",
       "1       0     46.0   38000.0            1                  1\n",
       "2       0     29.0   21000.0            0                  0\n",
       "3       0     21.0   41700.0            2                  0\n",
       "4       1     28.0   26100.0            0                  0\n",
       "...   ...      ...       ...          ...                ...\n",
       "4995    0     28.0   35700.0            2                  0\n",
       "4996    0     34.0   52400.0            1                  0\n",
       "4997    0     20.0   33900.0            2                  0\n",
       "4998    1     22.0   32700.0            3                  0\n",
       "4999    1     28.0   40600.0            1                  0\n",
       "\n",
       "[5000 rows x 5 columns]"
      ]
     },
     "execution_count": 54,
     "metadata": {},
     "output_type": "execute_result"
    }
   ],
   "source": [
    "data = pd.read_csv('/datasets/insurance.csv')\n",
    "data"
   ]
  },
  {
   "cell_type": "code",
   "execution_count": 55,
   "metadata": {},
   "outputs": [
    {
     "name": "stdout",
     "output_type": "stream",
     "text": [
      "<class 'pandas.core.frame.DataFrame'>\n",
      "RangeIndex: 5000 entries, 0 to 4999\n",
      "Data columns (total 5 columns):\n",
      " #   Column             Non-Null Count  Dtype  \n",
      "---  ------             --------------  -----  \n",
      " 0   Пол                5000 non-null   int64  \n",
      " 1   Возраст            5000 non-null   float64\n",
      " 2   Зарплата           5000 non-null   float64\n",
      " 3   Члены семьи        5000 non-null   int64  \n",
      " 4   Страховые выплаты  5000 non-null   int64  \n",
      "dtypes: float64(2), int64(3)\n",
      "memory usage: 195.4 KB\n"
     ]
    }
   ],
   "source": [
    "data.info()"
   ]
  },
  {
   "cell_type": "code",
   "execution_count": 56,
   "metadata": {},
   "outputs": [
    {
     "data": {
      "text/html": [
       "<div>\n",
       "<style scoped>\n",
       "    .dataframe tbody tr th:only-of-type {\n",
       "        vertical-align: middle;\n",
       "    }\n",
       "\n",
       "    .dataframe tbody tr th {\n",
       "        vertical-align: top;\n",
       "    }\n",
       "\n",
       "    .dataframe thead th {\n",
       "        text-align: right;\n",
       "    }\n",
       "</style>\n",
       "<table border=\"1\" class=\"dataframe\">\n",
       "  <thead>\n",
       "    <tr style=\"text-align: right;\">\n",
       "      <th></th>\n",
       "      <th>Пол</th>\n",
       "      <th>Возраст</th>\n",
       "      <th>Зарплата</th>\n",
       "      <th>Члены семьи</th>\n",
       "      <th>Страховые выплаты</th>\n",
       "    </tr>\n",
       "  </thead>\n",
       "  <tbody>\n",
       "    <tr>\n",
       "      <th>count</th>\n",
       "      <td>5000.000000</td>\n",
       "      <td>5000.000000</td>\n",
       "      <td>5000.000000</td>\n",
       "      <td>5000.000000</td>\n",
       "      <td>5000.000000</td>\n",
       "    </tr>\n",
       "    <tr>\n",
       "      <th>mean</th>\n",
       "      <td>0.499000</td>\n",
       "      <td>30.952800</td>\n",
       "      <td>39916.360000</td>\n",
       "      <td>1.194200</td>\n",
       "      <td>0.148000</td>\n",
       "    </tr>\n",
       "    <tr>\n",
       "      <th>std</th>\n",
       "      <td>0.500049</td>\n",
       "      <td>8.440807</td>\n",
       "      <td>9900.083569</td>\n",
       "      <td>1.091387</td>\n",
       "      <td>0.463183</td>\n",
       "    </tr>\n",
       "    <tr>\n",
       "      <th>min</th>\n",
       "      <td>0.000000</td>\n",
       "      <td>18.000000</td>\n",
       "      <td>5300.000000</td>\n",
       "      <td>0.000000</td>\n",
       "      <td>0.000000</td>\n",
       "    </tr>\n",
       "    <tr>\n",
       "      <th>25%</th>\n",
       "      <td>0.000000</td>\n",
       "      <td>24.000000</td>\n",
       "      <td>33300.000000</td>\n",
       "      <td>0.000000</td>\n",
       "      <td>0.000000</td>\n",
       "    </tr>\n",
       "    <tr>\n",
       "      <th>50%</th>\n",
       "      <td>0.000000</td>\n",
       "      <td>30.000000</td>\n",
       "      <td>40200.000000</td>\n",
       "      <td>1.000000</td>\n",
       "      <td>0.000000</td>\n",
       "    </tr>\n",
       "    <tr>\n",
       "      <th>75%</th>\n",
       "      <td>1.000000</td>\n",
       "      <td>37.000000</td>\n",
       "      <td>46600.000000</td>\n",
       "      <td>2.000000</td>\n",
       "      <td>0.000000</td>\n",
       "    </tr>\n",
       "    <tr>\n",
       "      <th>max</th>\n",
       "      <td>1.000000</td>\n",
       "      <td>65.000000</td>\n",
       "      <td>79000.000000</td>\n",
       "      <td>6.000000</td>\n",
       "      <td>5.000000</td>\n",
       "    </tr>\n",
       "  </tbody>\n",
       "</table>\n",
       "</div>"
      ],
      "text/plain": [
       "               Пол      Возраст      Зарплата  Члены семьи  Страховые выплаты\n",
       "count  5000.000000  5000.000000   5000.000000  5000.000000        5000.000000\n",
       "mean      0.499000    30.952800  39916.360000     1.194200           0.148000\n",
       "std       0.500049     8.440807   9900.083569     1.091387           0.463183\n",
       "min       0.000000    18.000000   5300.000000     0.000000           0.000000\n",
       "25%       0.000000    24.000000  33300.000000     0.000000           0.000000\n",
       "50%       0.000000    30.000000  40200.000000     1.000000           0.000000\n",
       "75%       1.000000    37.000000  46600.000000     2.000000           0.000000\n",
       "max       1.000000    65.000000  79000.000000     6.000000           5.000000"
      ]
     },
     "execution_count": 56,
     "metadata": {},
     "output_type": "execute_result"
    }
   ],
   "source": [
    "data.describe()"
   ]
  },
  {
   "cell_type": "markdown",
   "metadata": {},
   "source": [
    "### Вывод:\n",
    "\n",
    "- Информация о структуре данных - двумерная(DataFrame);\n",
    "- таблица имеет 5000 строк и 5 столбцов;\n",
    "- присутствуют названия столбцов и количество ненулевых значений;\n",
    "- в таблице присутствуют значения типов float(2 столбца), int(3 столбца);\n",
    "- использование памяти."
   ]
  },
  {
   "cell_type": "markdown",
   "metadata": {},
   "source": [
    "## Умножение матриц"
   ]
  },
  {
   "cell_type": "markdown",
   "metadata": {},
   "source": [
    "В этом задании вы можете записывать формулы в *Jupyter Notebook.*\n",
    "\n",
    "Чтобы записать формулу внутри текста, окружите её символами доллара \\\\$; если снаружи —  двойными символами \\\\$\\\\$. Эти формулы записываются на языке вёрстки *LaTeX.* \n",
    "\n",
    "Для примера мы записали формулы линейной регрессии. Можете их скопировать и отредактировать, чтобы решить задачу.\n",
    "\n",
    "Работать в *LaTeX* необязательно."
   ]
  },
  {
   "cell_type": "markdown",
   "metadata": {},
   "source": [
    "Обозначения:\n",
    "\n",
    "- $X$ — матрица признаков (нулевой столбец состоит из единиц)\n",
    "\n",
    "- $y$ — вектор целевого признака\n",
    "\n",
    "- $P$ — матрица, на которую умножаются признаки\n",
    "\n",
    "- $w$ — вектор весов линейной регрессии (нулевой элемент равен сдвигу)"
   ]
  },
  {
   "cell_type": "markdown",
   "metadata": {},
   "source": [
    "Предсказания:\n",
    "\n",
    "$$\n",
    "a = Xw\n",
    "$$\n",
    "\n",
    "Задача обучения:\n",
    "\n",
    "$$\n",
    "w = \\arg\\min_w MSE(Xw, y)\n",
    "$$\n",
    "\n",
    "Формула обучения:\n",
    "\n",
    "$$\n",
    "w = (X^T X)^{-1} X^T y\n",
    "$$"
   ]
  },
  {
   "cell_type": "markdown",
   "metadata": {},
   "source": [
    "**Обоснование:** \n",
    "\n",
    "Возьмем новую матрицу признаков X1 она будет равна произведению матрицы X на матрицу P(обратимую):\n",
    "\n",
    "$$\n",
    "X1 = X * P\n",
    "$$\n",
    "\n",
    "Подставим новое значение X1 в формулу w1:\n",
    "\n",
    "$$\n",
    "w1 = ((XP)^T XP)^{-1} (XP)^T y\n",
    "$$\n",
    "\n",
    "Раскроем первое произведение (XP)^T:\n",
    "\n",
    "$$\n",
    "w1 = (X^T P^T XP)^{-1} X^T P^T y\n",
    "$$\n",
    "\n",
    "Cгруппируем множители в скобках:\n",
    "\n",
    "$$\n",
    "w1 = (P^T(X^TX)P)^{-1} X^T P^T y\n",
    "$$\n",
    "\n",
    "Расскроем скобки:\n",
    "\n",
    "$$\n",
    "w1 = (P^T)^{-1}(X^TX)^{-1}P^{-1} X^T P^T y\n",
    "$$\n",
    "\n",
    "Видим, что у нас образовалась обратная матрица (P^T)^{-1}P^T, а она равна Е(единичная матрица), преобразуем формулу:\n",
    "\n",
    "$$\n",
    "w1 = P^{-1}(X^TX)^{-1}E X^T y\n",
    "$$\n",
    "\n",
    "Так как Е - единичная матрица, то можно убрать ее из формулы и увидим , что образовалась формула w:\n",
    "\n",
    "$$\n",
    "w1 = P^{-1}w\n",
    "$$\n",
    "\n",
    "Предсказания рассчитываются по формуле выше a = Xw, чтобы вычислить предсказания модели а1, подставим в формулу Х1 и w1:\n",
    "\n",
    "$$\n",
    "a1 = X1w1\n",
    "$$\n",
    "\n",
    "Так как Х1=ХР, а w1 = P^{-1}w, выражение получится следующим:\n",
    "\n",
    "$$\n",
    "a1 = XPP^{-1}w\n",
    "$$\n",
    "\n",
    "Cнова образовлась единичная матрица:\n",
    "\n",
    "$$\n",
    "a1 = EXw\n",
    "$$\n",
    "\n",
    "Видно, что:\n",
    "\n",
    "$$\n",
    "a1 = Xw = a\n",
    "$$"
   ]
  },
  {
   "cell_type": "markdown",
   "metadata": {},
   "source": [
    "### Вывод:\n",
    "\n",
    "Отвечая на вопрос изменится ли качество линейной регрессии при умножении признаков на обратимую матрицу - нет, не изменится."
   ]
  },
  {
   "cell_type": "markdown",
   "metadata": {},
   "source": [
    "## Алгоритм преобразования"
   ]
  },
  {
   "cell_type": "markdown",
   "metadata": {},
   "source": [
    "**Алгоритм:**\n",
    "В качестве алгоритма преобразования предложим матрицу с рандомными величинами, у которой существует обратная к ней матрица."
   ]
  },
  {
   "cell_type": "markdown",
   "metadata": {},
   "source": [
    "**Обоснование:**"
   ]
  },
  {
   "cell_type": "code",
   "execution_count": 57,
   "metadata": {},
   "outputs": [],
   "source": [
    "features = data.drop(['Страховые выплаты'], axis=1) #признаки\n",
    "target = data['Страховые выплаты'] #целевой признак"
   ]
  },
  {
   "cell_type": "markdown",
   "metadata": {},
   "source": [
    "Разделим признаки на обучающую и тестовую выборки:"
   ]
  },
  {
   "cell_type": "code",
   "execution_count": 58,
   "metadata": {},
   "outputs": [],
   "source": [
    "features_train, features_test, target_train, target_test = train_test_split(features, target, test_size=0.25, random_state=12345)"
   ]
  },
  {
   "cell_type": "markdown",
   "metadata": {},
   "source": [
    "Мы будем работать с матрицами, поэтому преобразуем наши выборки в матрицы:"
   ]
  },
  {
   "cell_type": "code",
   "execution_count": 59,
   "metadata": {},
   "outputs": [],
   "source": [
    "matrix_features_train = features_train.values\n",
    "matrix_features_test = features_test.values"
   ]
  },
  {
   "cell_type": "markdown",
   "metadata": {},
   "source": [
    "Проверим размер полученных матриц:"
   ]
  },
  {
   "cell_type": "code",
   "execution_count": 60,
   "metadata": {},
   "outputs": [
    {
     "name": "stdout",
     "output_type": "stream",
     "text": [
      "(3750, 4)\n",
      "(1250, 4)\n"
     ]
    }
   ],
   "source": [
    "print(matrix_features_train.shape)\n",
    "print(matrix_features_test.shape)"
   ]
  },
  {
   "cell_type": "markdown",
   "metadata": {},
   "source": [
    "Чтобы сделать рандомную матрицу 4х4 можно воспользоваться функцией из библиотеки numpy - np.random.randn:"
   ]
  },
  {
   "cell_type": "code",
   "execution_count": 61,
   "metadata": {},
   "outputs": [
    {
     "data": {
      "text/plain": [
       "array([[-0.85927937,  0.1908611 ,  1.59106281,  1.58688391],\n",
       "       [ 0.75421354,  0.65902367, -2.03429892, -0.34384228],\n",
       "       [ 1.43719853,  0.39287154,  1.04374992,  0.78005563],\n",
       "       [-0.29024048, -0.62723663,  1.58410833, -1.28889225]])"
      ]
     },
     "execution_count": 61,
     "metadata": {},
     "output_type": "execute_result"
    }
   ],
   "source": [
    "rand_matrix = np.random.randn(4, 4)\n",
    "rand_matrix"
   ]
  },
  {
   "cell_type": "markdown",
   "metadata": {},
   "source": [
    "Проверим матрицу на обратимость. Для этого умножим её на обратную ей матрицу функцией "
   ]
  },
  {
   "cell_type": "code",
   "execution_count": 62,
   "metadata": {},
   "outputs": [
    {
     "data": {
      "text/plain": [
       "array([[ 1., -0., -0., -0.],\n",
       "       [ 0.,  1., -0.,  0.],\n",
       "       [ 0., -0.,  1.,  0.],\n",
       "       [-0.,  0.,  0.,  1.]])"
      ]
     },
     "execution_count": 62,
     "metadata": {},
     "output_type": "execute_result"
    }
   ],
   "source": [
    "np.round(rand_matrix @ np.linalg.inv(rand_matrix))"
   ]
  },
  {
   "cell_type": "markdown",
   "metadata": {},
   "source": [
    "Матрица получилась единичная, значит наша рандомная матрица является обратимой."
   ]
  },
  {
   "cell_type": "markdown",
   "metadata": {},
   "source": [
    "Для дальнейшего исследования перемножим тренировочную и тестовую матрицы на нашу рандомную обратимую матрицу:"
   ]
  },
  {
   "cell_type": "code",
   "execution_count": 63,
   "metadata": {},
   "outputs": [],
   "source": [
    "rand_dot_matrix_features_train = matrix_features_train.dot(rand_matrix)\n",
    "rand_dot_matrix_features_test = matrix_features_test.dot(rand_matrix)"
   ]
  },
  {
   "cell_type": "markdown",
   "metadata": {},
   "source": [
    "## Проверка алгоритма"
   ]
  },
  {
   "cell_type": "code",
   "execution_count": 64,
   "metadata": {},
   "outputs": [],
   "source": [
    "model = LinearRegression()\n",
    "model.fit(matrix_features_train, target_train)\n",
    "predicted_usual = model.predict(matrix_features_test)\n",
    "r2_usual = model.score(matrix_features_test, target_test)"
   ]
  },
  {
   "cell_type": "code",
   "execution_count": 65,
   "metadata": {},
   "outputs": [],
   "source": [
    "model.fit(rand_dot_matrix_features_train, target_train)\n",
    "predicted_multiplied = model.predict(rand_dot_matrix_features_test)\n",
    "r2_multiplied = model.score(rand_dot_matrix_features_test, target_test)"
   ]
  },
  {
   "cell_type": "code",
   "execution_count": 66,
   "metadata": {},
   "outputs": [
    {
     "name": "stdout",
     "output_type": "stream",
     "text": [
      "0.435227571270266\n",
      "0.43522757127073264\n"
     ]
    }
   ],
   "source": [
    "print(r2_usual)\n",
    "print(r2_multiplied)"
   ]
  },
  {
   "cell_type": "markdown",
   "metadata": {},
   "source": [
    "### Вывод: \n",
    "\n",
    "Проверили качество модели (Линейная регрессия) с помощью метрики R2. Показатели метрик одинаковы, делаем вывод, что алгоритм работает."
   ]
  }
 ],
 "metadata": {
  "ExecuteTimeLog": [
   {
    "duration": 1693,
    "start_time": "2022-05-14T05:43:34.421Z"
   },
   {
    "duration": 31,
    "start_time": "2022-05-14T05:44:42.375Z"
   },
   {
    "duration": 13,
    "start_time": "2022-05-14T05:45:13.088Z"
   },
   {
    "duration": 23,
    "start_time": "2022-05-14T05:45:31.228Z"
   },
   {
    "duration": 3,
    "start_time": "2022-05-14T05:54:43.301Z"
   },
   {
    "duration": 50,
    "start_time": "2022-05-14T05:54:43.306Z"
   },
   {
    "duration": 12,
    "start_time": "2022-05-14T05:54:43.358Z"
   },
   {
    "duration": 73,
    "start_time": "2022-05-14T05:54:43.372Z"
   },
   {
    "duration": 3,
    "start_time": "2022-05-14T07:00:27.263Z"
   },
   {
    "duration": 31,
    "start_time": "2022-05-14T07:00:27.269Z"
   },
   {
    "duration": 10,
    "start_time": "2022-05-14T07:00:27.302Z"
   },
   {
    "duration": 25,
    "start_time": "2022-05-14T07:00:27.314Z"
   },
   {
    "duration": 112,
    "start_time": "2022-05-14T07:18:04.576Z"
   },
   {
    "duration": 5,
    "start_time": "2022-05-14T07:22:32.881Z"
   },
   {
    "duration": 6,
    "start_time": "2022-05-14T07:22:34.080Z"
   },
   {
    "duration": 3,
    "start_time": "2022-05-14T07:22:39.515Z"
   },
   {
    "duration": 23,
    "start_time": "2022-05-14T07:22:39.520Z"
   },
   {
    "duration": 11,
    "start_time": "2022-05-14T07:22:39.544Z"
   },
   {
    "duration": 31,
    "start_time": "2022-05-14T07:22:39.557Z"
   },
   {
    "duration": 4,
    "start_time": "2022-05-14T07:22:39.590Z"
   },
   {
    "duration": 7,
    "start_time": "2022-05-14T07:22:39.596Z"
   },
   {
    "duration": 3,
    "start_time": "2022-05-14T07:24:53.241Z"
   },
   {
    "duration": 3,
    "start_time": "2022-05-14T07:27:58.934Z"
   },
   {
    "duration": 1748,
    "start_time": "2022-05-16T10:42:18.145Z"
   },
   {
    "duration": 30,
    "start_time": "2022-05-16T10:42:19.896Z"
   },
   {
    "duration": 11,
    "start_time": "2022-05-16T10:42:19.928Z"
   },
   {
    "duration": 36,
    "start_time": "2022-05-16T10:42:19.940Z"
   },
   {
    "duration": 5,
    "start_time": "2022-05-16T10:42:19.978Z"
   },
   {
    "duration": 22,
    "start_time": "2022-05-16T10:42:19.985Z"
   },
   {
    "duration": 5,
    "start_time": "2022-05-16T10:42:20.008Z"
   },
   {
    "duration": 5,
    "start_time": "2022-05-16T10:42:20.015Z"
   },
   {
    "duration": 7,
    "start_time": "2022-05-16T10:42:20.022Z"
   },
   {
    "duration": 4,
    "start_time": "2022-05-16T10:42:46.287Z"
   },
   {
    "duration": 11,
    "start_time": "2022-05-16T10:47:06.237Z"
   },
   {
    "duration": 6,
    "start_time": "2022-05-16T10:48:09.381Z"
   },
   {
    "duration": 5,
    "start_time": "2022-05-16T10:48:40.720Z"
   },
   {
    "duration": 101,
    "start_time": "2022-05-16T11:02:32.257Z"
   },
   {
    "duration": 3,
    "start_time": "2022-05-16T11:02:39.312Z"
   },
   {
    "duration": 11,
    "start_time": "2022-05-16T11:05:09.598Z"
   },
   {
    "duration": 6,
    "start_time": "2022-05-16T11:08:03.290Z"
   },
   {
    "duration": 2,
    "start_time": "2022-05-16T11:09:19.264Z"
   },
   {
    "duration": 5,
    "start_time": "2022-05-16T11:09:33.520Z"
   },
   {
    "duration": 4,
    "start_time": "2022-05-16T11:09:34.038Z"
   },
   {
    "duration": 4,
    "start_time": "2022-05-16T11:09:34.511Z"
   },
   {
    "duration": 10,
    "start_time": "2022-05-16T11:10:16.938Z"
   },
   {
    "duration": 5,
    "start_time": "2022-05-16T11:10:24.116Z"
   },
   {
    "duration": 4,
    "start_time": "2022-05-16T11:10:24.663Z"
   },
   {
    "duration": 3,
    "start_time": "2022-05-16T11:13:44.486Z"
   },
   {
    "duration": 23,
    "start_time": "2022-05-16T11:13:44.491Z"
   },
   {
    "duration": 10,
    "start_time": "2022-05-16T11:13:44.516Z"
   },
   {
    "duration": 21,
    "start_time": "2022-05-16T11:13:44.527Z"
   },
   {
    "duration": 3,
    "start_time": "2022-05-16T11:13:44.550Z"
   },
   {
    "duration": 26,
    "start_time": "2022-05-16T11:13:44.555Z"
   },
   {
    "duration": 4,
    "start_time": "2022-05-16T11:13:44.583Z"
   },
   {
    "duration": 6,
    "start_time": "2022-05-16T11:13:44.588Z"
   },
   {
    "duration": 6,
    "start_time": "2022-05-16T11:13:44.596Z"
   },
   {
    "duration": 8,
    "start_time": "2022-05-16T11:13:44.603Z"
   },
   {
    "duration": 59,
    "start_time": "2022-05-16T11:13:44.613Z"
   },
   {
    "duration": 19,
    "start_time": "2022-05-16T11:13:44.674Z"
   },
   {
    "duration": 5,
    "start_time": "2022-05-16T11:13:44.695Z"
   },
   {
    "duration": 15,
    "start_time": "2022-05-16T11:13:44.772Z"
   },
   {
    "duration": 4,
    "start_time": "2022-05-16T11:14:38.689Z"
   },
   {
    "duration": 21,
    "start_time": "2022-05-16T11:14:38.695Z"
   },
   {
    "duration": 10,
    "start_time": "2022-05-16T11:14:38.718Z"
   },
   {
    "duration": 21,
    "start_time": "2022-05-16T11:14:38.730Z"
   },
   {
    "duration": 3,
    "start_time": "2022-05-16T11:14:38.753Z"
   },
   {
    "duration": 22,
    "start_time": "2022-05-16T11:14:38.758Z"
   },
   {
    "duration": 8,
    "start_time": "2022-05-16T11:14:38.782Z"
   },
   {
    "duration": 5,
    "start_time": "2022-05-16T11:14:38.791Z"
   },
   {
    "duration": 6,
    "start_time": "2022-05-16T11:14:38.797Z"
   },
   {
    "duration": 5,
    "start_time": "2022-05-16T11:14:38.805Z"
   },
   {
    "duration": 4,
    "start_time": "2022-05-16T11:14:38.813Z"
   },
   {
    "duration": 10,
    "start_time": "2022-05-16T11:14:38.871Z"
   },
   {
    "duration": 13,
    "start_time": "2022-05-16T11:14:38.883Z"
   },
   {
    "duration": 87,
    "start_time": "2022-05-16T11:14:38.898Z"
   },
   {
    "duration": 3,
    "start_time": "2022-05-16T11:17:14.985Z"
   },
   {
    "duration": 22,
    "start_time": "2022-05-16T11:17:14.990Z"
   },
   {
    "duration": 11,
    "start_time": "2022-05-16T11:17:15.014Z"
   },
   {
    "duration": 23,
    "start_time": "2022-05-16T11:17:15.027Z"
   },
   {
    "duration": 4,
    "start_time": "2022-05-16T11:17:15.052Z"
   },
   {
    "duration": 21,
    "start_time": "2022-05-16T11:17:15.058Z"
   },
   {
    "duration": 7,
    "start_time": "2022-05-16T11:17:15.081Z"
   },
   {
    "duration": 5,
    "start_time": "2022-05-16T11:17:15.090Z"
   },
   {
    "duration": 7,
    "start_time": "2022-05-16T11:17:15.096Z"
   },
   {
    "duration": 9,
    "start_time": "2022-05-16T11:17:15.104Z"
   },
   {
    "duration": 4,
    "start_time": "2022-05-16T11:17:15.115Z"
   },
   {
    "duration": 61,
    "start_time": "2022-05-16T11:17:15.121Z"
   },
   {
    "duration": 6,
    "start_time": "2022-05-16T11:17:15.184Z"
   },
   {
    "duration": 90,
    "start_time": "2022-05-16T11:17:15.193Z"
   }
  ],
  "kernelspec": {
   "display_name": "Python 3 (ipykernel)",
   "language": "python",
   "name": "python3"
  },
  "language_info": {
   "codemirror_mode": {
    "name": "ipython",
    "version": 3
   },
   "file_extension": ".py",
   "mimetype": "text/x-python",
   "name": "python",
   "nbconvert_exporter": "python",
   "pygments_lexer": "ipython3",
   "version": "3.9.5"
  },
  "toc": {
   "base_numbering": 1,
   "nav_menu": {},
   "number_sections": true,
   "sideBar": true,
   "skip_h1_title": true,
   "title_cell": "Содержание",
   "title_sidebar": "Contents",
   "toc_cell": true,
   "toc_position": {},
   "toc_section_display": true,
   "toc_window_display": true
  }
 },
 "nbformat": 4,
 "nbformat_minor": 2
}
