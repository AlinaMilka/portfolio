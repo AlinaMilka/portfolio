{
 "cells": [
  {
   "cell_type": "markdown",
   "metadata": {},
   "source": [
    "# Сборный проект"
   ]
  },
  {
   "cell_type": "markdown",
   "metadata": {},
   "source": [
    "## Изучение данных из файла"
   ]
  },
  {
   "cell_type": "code",
   "execution_count": 1,
   "metadata": {},
   "outputs": [],
   "source": [
    "import pandas as pd\n",
    "import numpy as np\n",
    "import matplotlib.pyplot as plt\n",
    "from scipy import stats as st\n",
    "import seaborn as sns\n",
    "import warnings\n",
    "warnings.filterwarnings(\"ignore\", category=DeprecationWarning)"
   ]
  },
  {
   "cell_type": "code",
   "execution_count": 2,
   "metadata": {
    "scrolled": true
   },
   "outputs": [
    {
     "name": "stdout",
     "output_type": "stream",
     "text": [
      "<class 'pandas.core.frame.DataFrame'>\n",
      "RangeIndex: 16715 entries, 0 to 16714\n",
      "Data columns (total 11 columns):\n",
      " #   Column           Non-Null Count  Dtype  \n",
      "---  ------           --------------  -----  \n",
      " 0   Name             16713 non-null  object \n",
      " 1   Platform         16715 non-null  object \n",
      " 2   Year_of_Release  16446 non-null  float64\n",
      " 3   Genre            16713 non-null  object \n",
      " 4   NA_sales         16715 non-null  float64\n",
      " 5   EU_sales         16715 non-null  float64\n",
      " 6   JP_sales         16715 non-null  float64\n",
      " 7   Other_sales      16715 non-null  float64\n",
      " 8   Critic_Score     8137 non-null   float64\n",
      " 9   User_Score       10014 non-null  object \n",
      " 10  Rating           9949 non-null   object \n",
      "dtypes: float64(6), object(5)\n",
      "memory usage: 1.4+ MB\n"
     ]
    }
   ],
   "source": [
    "data = pd.read_csv('/datasets/games.csv')\n",
    "data.info()"
   ]
  },
  {
   "cell_type": "code",
   "execution_count": 3,
   "metadata": {},
   "outputs": [
    {
     "data": {
      "text/html": [
       "<div>\n",
       "<style scoped>\n",
       "    .dataframe tbody tr th:only-of-type {\n",
       "        vertical-align: middle;\n",
       "    }\n",
       "\n",
       "    .dataframe tbody tr th {\n",
       "        vertical-align: top;\n",
       "    }\n",
       "\n",
       "    .dataframe thead th {\n",
       "        text-align: right;\n",
       "    }\n",
       "</style>\n",
       "<table border=\"1\" class=\"dataframe\">\n",
       "  <thead>\n",
       "    <tr style=\"text-align: right;\">\n",
       "      <th></th>\n",
       "      <th>Year_of_Release</th>\n",
       "      <th>NA_sales</th>\n",
       "      <th>EU_sales</th>\n",
       "      <th>JP_sales</th>\n",
       "      <th>Other_sales</th>\n",
       "      <th>Critic_Score</th>\n",
       "    </tr>\n",
       "  </thead>\n",
       "  <tbody>\n",
       "    <tr>\n",
       "      <th>count</th>\n",
       "      <td>16446.000000</td>\n",
       "      <td>16715.000000</td>\n",
       "      <td>16715.000000</td>\n",
       "      <td>16715.000000</td>\n",
       "      <td>16715.000000</td>\n",
       "      <td>8137.000000</td>\n",
       "    </tr>\n",
       "    <tr>\n",
       "      <th>mean</th>\n",
       "      <td>2006.484616</td>\n",
       "      <td>0.263377</td>\n",
       "      <td>0.145060</td>\n",
       "      <td>0.077617</td>\n",
       "      <td>0.047342</td>\n",
       "      <td>68.967679</td>\n",
       "    </tr>\n",
       "    <tr>\n",
       "      <th>std</th>\n",
       "      <td>5.877050</td>\n",
       "      <td>0.813604</td>\n",
       "      <td>0.503339</td>\n",
       "      <td>0.308853</td>\n",
       "      <td>0.186731</td>\n",
       "      <td>13.938165</td>\n",
       "    </tr>\n",
       "    <tr>\n",
       "      <th>min</th>\n",
       "      <td>1980.000000</td>\n",
       "      <td>0.000000</td>\n",
       "      <td>0.000000</td>\n",
       "      <td>0.000000</td>\n",
       "      <td>0.000000</td>\n",
       "      <td>13.000000</td>\n",
       "    </tr>\n",
       "    <tr>\n",
       "      <th>25%</th>\n",
       "      <td>2003.000000</td>\n",
       "      <td>0.000000</td>\n",
       "      <td>0.000000</td>\n",
       "      <td>0.000000</td>\n",
       "      <td>0.000000</td>\n",
       "      <td>60.000000</td>\n",
       "    </tr>\n",
       "    <tr>\n",
       "      <th>50%</th>\n",
       "      <td>2007.000000</td>\n",
       "      <td>0.080000</td>\n",
       "      <td>0.020000</td>\n",
       "      <td>0.000000</td>\n",
       "      <td>0.010000</td>\n",
       "      <td>71.000000</td>\n",
       "    </tr>\n",
       "    <tr>\n",
       "      <th>75%</th>\n",
       "      <td>2010.000000</td>\n",
       "      <td>0.240000</td>\n",
       "      <td>0.110000</td>\n",
       "      <td>0.040000</td>\n",
       "      <td>0.030000</td>\n",
       "      <td>79.000000</td>\n",
       "    </tr>\n",
       "    <tr>\n",
       "      <th>max</th>\n",
       "      <td>2016.000000</td>\n",
       "      <td>41.360000</td>\n",
       "      <td>28.960000</td>\n",
       "      <td>10.220000</td>\n",
       "      <td>10.570000</td>\n",
       "      <td>98.000000</td>\n",
       "    </tr>\n",
       "  </tbody>\n",
       "</table>\n",
       "</div>"
      ],
      "text/plain": [
       "       Year_of_Release      NA_sales      EU_sales      JP_sales  \\\n",
       "count     16446.000000  16715.000000  16715.000000  16715.000000   \n",
       "mean       2006.484616      0.263377      0.145060      0.077617   \n",
       "std           5.877050      0.813604      0.503339      0.308853   \n",
       "min        1980.000000      0.000000      0.000000      0.000000   \n",
       "25%        2003.000000      0.000000      0.000000      0.000000   \n",
       "50%        2007.000000      0.080000      0.020000      0.000000   \n",
       "75%        2010.000000      0.240000      0.110000      0.040000   \n",
       "max        2016.000000     41.360000     28.960000     10.220000   \n",
       "\n",
       "        Other_sales  Critic_Score  \n",
       "count  16715.000000   8137.000000  \n",
       "mean       0.047342     68.967679  \n",
       "std        0.186731     13.938165  \n",
       "min        0.000000     13.000000  \n",
       "25%        0.000000     60.000000  \n",
       "50%        0.010000     71.000000  \n",
       "75%        0.030000     79.000000  \n",
       "max       10.570000     98.000000  "
      ]
     },
     "execution_count": 3,
     "metadata": {},
     "output_type": "execute_result"
    }
   ],
   "source": [
    "data.describe()"
   ]
  },
  {
   "cell_type": "code",
   "execution_count": 4,
   "metadata": {},
   "outputs": [
    {
     "data": {
      "text/plain": [
       "Name                  2\n",
       "Platform              0\n",
       "Year_of_Release     269\n",
       "Genre                 2\n",
       "NA_sales              0\n",
       "EU_sales              0\n",
       "JP_sales              0\n",
       "Other_sales           0\n",
       "Critic_Score       8578\n",
       "User_Score         6701\n",
       "Rating             6766\n",
       "dtype: int64"
      ]
     },
     "execution_count": 4,
     "metadata": {},
     "output_type": "execute_result"
    }
   ],
   "source": [
    "data.isna().sum()"
   ]
  },
  {
   "cell_type": "markdown",
   "metadata": {},
   "source": [
    "### Вывод\n",
    "\n",
    "- Информация о структуре данных - двумерная(DataFrame);\n",
    "- таблица имеет 16715 строк и 11 столбцов; \n",
    "- присутствуют названия столбцов и количество ненулевых значений;\n",
    "- в таблице присутствуют значения типов object(5 столбцов), float(6 столбцов);\n",
    "- использование памяти.\n",
    "\n",
    "Пропуски наблюдаются в 6-ти столбцах, далее в предобработке данных будем заполнять пропуски по мере необходимости."
   ]
  },
  {
   "cell_type": "markdown",
   "metadata": {},
   "source": [
    "## Предобработка данных"
   ]
  },
  {
   "cell_type": "markdown",
   "metadata": {},
   "source": [
    "### Приведем названия столбцов к нижнему регистру"
   ]
  },
  {
   "cell_type": "code",
   "execution_count": 5,
   "metadata": {
    "scrolled": false
   },
   "outputs": [
    {
     "data": {
      "text/html": [
       "<div>\n",
       "<style scoped>\n",
       "    .dataframe tbody tr th:only-of-type {\n",
       "        vertical-align: middle;\n",
       "    }\n",
       "\n",
       "    .dataframe tbody tr th {\n",
       "        vertical-align: top;\n",
       "    }\n",
       "\n",
       "    .dataframe thead th {\n",
       "        text-align: right;\n",
       "    }\n",
       "</style>\n",
       "<table border=\"1\" class=\"dataframe\">\n",
       "  <thead>\n",
       "    <tr style=\"text-align: right;\">\n",
       "      <th></th>\n",
       "      <th>name</th>\n",
       "      <th>platform</th>\n",
       "      <th>year_of_release</th>\n",
       "      <th>genre</th>\n",
       "      <th>na_sales</th>\n",
       "      <th>eu_sales</th>\n",
       "      <th>jp_sales</th>\n",
       "      <th>other_sales</th>\n",
       "      <th>critic_score</th>\n",
       "      <th>user_score</th>\n",
       "      <th>rating</th>\n",
       "    </tr>\n",
       "  </thead>\n",
       "  <tbody>\n",
       "    <tr>\n",
       "      <th>0</th>\n",
       "      <td>Wii Sports</td>\n",
       "      <td>Wii</td>\n",
       "      <td>2006.0</td>\n",
       "      <td>Sports</td>\n",
       "      <td>41.36</td>\n",
       "      <td>28.96</td>\n",
       "      <td>3.77</td>\n",
       "      <td>8.45</td>\n",
       "      <td>76.0</td>\n",
       "      <td>8</td>\n",
       "      <td>E</td>\n",
       "    </tr>\n",
       "    <tr>\n",
       "      <th>1</th>\n",
       "      <td>Super Mario Bros.</td>\n",
       "      <td>NES</td>\n",
       "      <td>1985.0</td>\n",
       "      <td>Platform</td>\n",
       "      <td>29.08</td>\n",
       "      <td>3.58</td>\n",
       "      <td>6.81</td>\n",
       "      <td>0.77</td>\n",
       "      <td>NaN</td>\n",
       "      <td>NaN</td>\n",
       "      <td>NaN</td>\n",
       "    </tr>\n",
       "    <tr>\n",
       "      <th>2</th>\n",
       "      <td>Mario Kart Wii</td>\n",
       "      <td>Wii</td>\n",
       "      <td>2008.0</td>\n",
       "      <td>Racing</td>\n",
       "      <td>15.68</td>\n",
       "      <td>12.76</td>\n",
       "      <td>3.79</td>\n",
       "      <td>3.29</td>\n",
       "      <td>82.0</td>\n",
       "      <td>8.3</td>\n",
       "      <td>E</td>\n",
       "    </tr>\n",
       "    <tr>\n",
       "      <th>3</th>\n",
       "      <td>Wii Sports Resort</td>\n",
       "      <td>Wii</td>\n",
       "      <td>2009.0</td>\n",
       "      <td>Sports</td>\n",
       "      <td>15.61</td>\n",
       "      <td>10.93</td>\n",
       "      <td>3.28</td>\n",
       "      <td>2.95</td>\n",
       "      <td>80.0</td>\n",
       "      <td>8</td>\n",
       "      <td>E</td>\n",
       "    </tr>\n",
       "    <tr>\n",
       "      <th>4</th>\n",
       "      <td>Pokemon Red/Pokemon Blue</td>\n",
       "      <td>GB</td>\n",
       "      <td>1996.0</td>\n",
       "      <td>Role-Playing</td>\n",
       "      <td>11.27</td>\n",
       "      <td>8.89</td>\n",
       "      <td>10.22</td>\n",
       "      <td>1.00</td>\n",
       "      <td>NaN</td>\n",
       "      <td>NaN</td>\n",
       "      <td>NaN</td>\n",
       "    </tr>\n",
       "    <tr>\n",
       "      <th>...</th>\n",
       "      <td>...</td>\n",
       "      <td>...</td>\n",
       "      <td>...</td>\n",
       "      <td>...</td>\n",
       "      <td>...</td>\n",
       "      <td>...</td>\n",
       "      <td>...</td>\n",
       "      <td>...</td>\n",
       "      <td>...</td>\n",
       "      <td>...</td>\n",
       "      <td>...</td>\n",
       "    </tr>\n",
       "    <tr>\n",
       "      <th>16710</th>\n",
       "      <td>Samurai Warriors: Sanada Maru</td>\n",
       "      <td>PS3</td>\n",
       "      <td>2016.0</td>\n",
       "      <td>Action</td>\n",
       "      <td>0.00</td>\n",
       "      <td>0.00</td>\n",
       "      <td>0.01</td>\n",
       "      <td>0.00</td>\n",
       "      <td>NaN</td>\n",
       "      <td>NaN</td>\n",
       "      <td>NaN</td>\n",
       "    </tr>\n",
       "    <tr>\n",
       "      <th>16711</th>\n",
       "      <td>LMA Manager 2007</td>\n",
       "      <td>X360</td>\n",
       "      <td>2006.0</td>\n",
       "      <td>Sports</td>\n",
       "      <td>0.00</td>\n",
       "      <td>0.01</td>\n",
       "      <td>0.00</td>\n",
       "      <td>0.00</td>\n",
       "      <td>NaN</td>\n",
       "      <td>NaN</td>\n",
       "      <td>NaN</td>\n",
       "    </tr>\n",
       "    <tr>\n",
       "      <th>16712</th>\n",
       "      <td>Haitaka no Psychedelica</td>\n",
       "      <td>PSV</td>\n",
       "      <td>2016.0</td>\n",
       "      <td>Adventure</td>\n",
       "      <td>0.00</td>\n",
       "      <td>0.00</td>\n",
       "      <td>0.01</td>\n",
       "      <td>0.00</td>\n",
       "      <td>NaN</td>\n",
       "      <td>NaN</td>\n",
       "      <td>NaN</td>\n",
       "    </tr>\n",
       "    <tr>\n",
       "      <th>16713</th>\n",
       "      <td>Spirits &amp; Spells</td>\n",
       "      <td>GBA</td>\n",
       "      <td>2003.0</td>\n",
       "      <td>Platform</td>\n",
       "      <td>0.01</td>\n",
       "      <td>0.00</td>\n",
       "      <td>0.00</td>\n",
       "      <td>0.00</td>\n",
       "      <td>NaN</td>\n",
       "      <td>NaN</td>\n",
       "      <td>NaN</td>\n",
       "    </tr>\n",
       "    <tr>\n",
       "      <th>16714</th>\n",
       "      <td>Winning Post 8 2016</td>\n",
       "      <td>PSV</td>\n",
       "      <td>2016.0</td>\n",
       "      <td>Simulation</td>\n",
       "      <td>0.00</td>\n",
       "      <td>0.00</td>\n",
       "      <td>0.01</td>\n",
       "      <td>0.00</td>\n",
       "      <td>NaN</td>\n",
       "      <td>NaN</td>\n",
       "      <td>NaN</td>\n",
       "    </tr>\n",
       "  </tbody>\n",
       "</table>\n",
       "<p>16715 rows × 11 columns</p>\n",
       "</div>"
      ],
      "text/plain": [
       "                                name platform  year_of_release         genre  \\\n",
       "0                         Wii Sports      Wii           2006.0        Sports   \n",
       "1                  Super Mario Bros.      NES           1985.0      Platform   \n",
       "2                     Mario Kart Wii      Wii           2008.0        Racing   \n",
       "3                  Wii Sports Resort      Wii           2009.0        Sports   \n",
       "4           Pokemon Red/Pokemon Blue       GB           1996.0  Role-Playing   \n",
       "...                              ...      ...              ...           ...   \n",
       "16710  Samurai Warriors: Sanada Maru      PS3           2016.0        Action   \n",
       "16711               LMA Manager 2007     X360           2006.0        Sports   \n",
       "16712        Haitaka no Psychedelica      PSV           2016.0     Adventure   \n",
       "16713               Spirits & Spells      GBA           2003.0      Platform   \n",
       "16714            Winning Post 8 2016      PSV           2016.0    Simulation   \n",
       "\n",
       "       na_sales  eu_sales  jp_sales  other_sales  critic_score user_score  \\\n",
       "0         41.36     28.96      3.77         8.45          76.0          8   \n",
       "1         29.08      3.58      6.81         0.77           NaN        NaN   \n",
       "2         15.68     12.76      3.79         3.29          82.0        8.3   \n",
       "3         15.61     10.93      3.28         2.95          80.0          8   \n",
       "4         11.27      8.89     10.22         1.00           NaN        NaN   \n",
       "...         ...       ...       ...          ...           ...        ...   \n",
       "16710      0.00      0.00      0.01         0.00           NaN        NaN   \n",
       "16711      0.00      0.01      0.00         0.00           NaN        NaN   \n",
       "16712      0.00      0.00      0.01         0.00           NaN        NaN   \n",
       "16713      0.01      0.00      0.00         0.00           NaN        NaN   \n",
       "16714      0.00      0.00      0.01         0.00           NaN        NaN   \n",
       "\n",
       "      rating  \n",
       "0          E  \n",
       "1        NaN  \n",
       "2          E  \n",
       "3          E  \n",
       "4        NaN  \n",
       "...      ...  \n",
       "16710    NaN  \n",
       "16711    NaN  \n",
       "16712    NaN  \n",
       "16713    NaN  \n",
       "16714    NaN  \n",
       "\n",
       "[16715 rows x 11 columns]"
      ]
     },
     "execution_count": 5,
     "metadata": {},
     "output_type": "execute_result"
    }
   ],
   "source": [
    "data.columns = map(str.lower, data.columns)\n",
    "data"
   ]
  },
  {
   "cell_type": "markdown",
   "metadata": {},
   "source": [
    "### Преобразование данных в нужные типы и обработка пропусков"
   ]
  },
  {
   "cell_type": "code",
   "execution_count": 6,
   "metadata": {},
   "outputs": [],
   "source": [
    "data['year_of_release'] = data['year_of_release'].fillna(0)\n",
    "data['year_of_release'] = data['year_of_release'].astype('int')\n",
    "\n",
    "data['critic_score'] = data['critic_score'].fillna(0)\n",
    "data['critic_score'] = data['critic_score'].astype('int')"
   ]
  },
  {
   "cell_type": "markdown",
   "metadata": {},
   "source": [
    "Заменила пропуски на 0, затем заменила тип данных на нужный, в столбце \"year_of_release\" было необходимо заменить на int, в столбце \"critic_score\" посмотрела по уникальным значениям, что нет значений типа float, поэтому для удобства заменила на тип int."
   ]
  },
  {
   "cell_type": "code",
   "execution_count": 7,
   "metadata": {},
   "outputs": [],
   "source": [
    "data['user_score'] = data['user_score'].fillna('tbd')\n",
    "\n",
    "data['rating'] = data['rating'].fillna('RP')"
   ]
  },
  {
   "cell_type": "markdown",
   "metadata": {},
   "source": [
    "Здесь в столбце \"user_score\" заменила пропуски на аббревиатуру 'tbd' так как она значит, что оценка пользователя еще не определена, то есть пользователь еще ее не поставил, игра ожидает оценки. В столбце \"rating\" пропуски заменила на 'RP', так как 'RP' означает, что рейтинг ожидается."
   ]
  },
  {
   "cell_type": "code",
   "execution_count": 8,
   "metadata": {},
   "outputs": [
    {
     "data": {
      "text/html": [
       "<div>\n",
       "<style scoped>\n",
       "    .dataframe tbody tr th:only-of-type {\n",
       "        vertical-align: middle;\n",
       "    }\n",
       "\n",
       "    .dataframe tbody tr th {\n",
       "        vertical-align: top;\n",
       "    }\n",
       "\n",
       "    .dataframe thead th {\n",
       "        text-align: right;\n",
       "    }\n",
       "</style>\n",
       "<table border=\"1\" class=\"dataframe\">\n",
       "  <thead>\n",
       "    <tr style=\"text-align: right;\">\n",
       "      <th></th>\n",
       "      <th>name</th>\n",
       "      <th>platform</th>\n",
       "      <th>year_of_release</th>\n",
       "      <th>genre</th>\n",
       "      <th>na_sales</th>\n",
       "      <th>eu_sales</th>\n",
       "      <th>jp_sales</th>\n",
       "      <th>other_sales</th>\n",
       "      <th>critic_score</th>\n",
       "      <th>user_score</th>\n",
       "      <th>rating</th>\n",
       "    </tr>\n",
       "  </thead>\n",
       "  <tbody>\n",
       "    <tr>\n",
       "      <th>659</th>\n",
       "      <td>NaN</td>\n",
       "      <td>GEN</td>\n",
       "      <td>1993</td>\n",
       "      <td>NaN</td>\n",
       "      <td>1.78</td>\n",
       "      <td>0.53</td>\n",
       "      <td>0.00</td>\n",
       "      <td>0.08</td>\n",
       "      <td>0</td>\n",
       "      <td>tbd</td>\n",
       "      <td>RP</td>\n",
       "    </tr>\n",
       "    <tr>\n",
       "      <th>14244</th>\n",
       "      <td>NaN</td>\n",
       "      <td>GEN</td>\n",
       "      <td>1993</td>\n",
       "      <td>NaN</td>\n",
       "      <td>0.00</td>\n",
       "      <td>0.00</td>\n",
       "      <td>0.03</td>\n",
       "      <td>0.00</td>\n",
       "      <td>0</td>\n",
       "      <td>tbd</td>\n",
       "      <td>RP</td>\n",
       "    </tr>\n",
       "  </tbody>\n",
       "</table>\n",
       "</div>"
      ],
      "text/plain": [
       "      name platform  year_of_release genre  na_sales  eu_sales  jp_sales  \\\n",
       "659    NaN      GEN             1993   NaN      1.78      0.53      0.00   \n",
       "14244  NaN      GEN             1993   NaN      0.00      0.00      0.03   \n",
       "\n",
       "       other_sales  critic_score user_score rating  \n",
       "659           0.08             0        tbd     RP  \n",
       "14244         0.00             0        tbd     RP  "
      ]
     },
     "execution_count": 8,
     "metadata": {},
     "output_type": "execute_result"
    }
   ],
   "source": [
    "data[data.name.isna()]"
   ]
  },
  {
   "cell_type": "markdown",
   "metadata": {},
   "source": [
    "Пропуски остались только в двух столбцах это \"name\" и \"genre\" по 2 пропуска, строки совпадают, поэтому просто удалим две строки, данные которые указаны в столбцах, связанные с продажами минимальны или вообще равны нулю, не повлияют на наш анализ."
   ]
  },
  {
   "cell_type": "code",
   "execution_count": 9,
   "metadata": {},
   "outputs": [],
   "source": [
    "data = data.dropna().reset_index(drop=True)"
   ]
  },
  {
   "cell_type": "markdown",
   "metadata": {},
   "source": [
    "Посчитаем суммарные продажи во всех регионах и запишем их в отдельный столбец."
   ]
  },
  {
   "cell_type": "code",
   "execution_count": 10,
   "metadata": {},
   "outputs": [],
   "source": [
    "data['sales_sum'] = data['na_sales'] + data['eu_sales'] + data['jp_sales'] + data['other_sales']"
   ]
  },
  {
   "cell_type": "markdown",
   "metadata": {},
   "source": [
    "## Исследовательский анализ данных"
   ]
  },
  {
   "cell_type": "markdown",
   "metadata": {},
   "source": [
    "Посмотрим, сколько игр выпускалось в разные годы. Важны ли данные за все периоды, я думаю, что нет, но дальнейший анализ покажет точнее."
   ]
  },
  {
   "cell_type": "code",
   "execution_count": 11,
   "metadata": {},
   "outputs": [
    {
     "data": {
      "text/html": [
       "<div>\n",
       "<style scoped>\n",
       "    .dataframe tbody tr th:only-of-type {\n",
       "        vertical-align: middle;\n",
       "    }\n",
       "\n",
       "    .dataframe tbody tr th {\n",
       "        vertical-align: top;\n",
       "    }\n",
       "\n",
       "    .dataframe thead th {\n",
       "        text-align: right;\n",
       "    }\n",
       "</style>\n",
       "<table border=\"1\" class=\"dataframe\">\n",
       "  <thead>\n",
       "    <tr style=\"text-align: right;\">\n",
       "      <th></th>\n",
       "      <th>name</th>\n",
       "    </tr>\n",
       "    <tr>\n",
       "      <th>year_of_release</th>\n",
       "      <th></th>\n",
       "    </tr>\n",
       "  </thead>\n",
       "  <tbody>\n",
       "    <tr>\n",
       "      <th>0</th>\n",
       "      <td>269</td>\n",
       "    </tr>\n",
       "    <tr>\n",
       "      <th>1980</th>\n",
       "      <td>9</td>\n",
       "    </tr>\n",
       "    <tr>\n",
       "      <th>1981</th>\n",
       "      <td>46</td>\n",
       "    </tr>\n",
       "    <tr>\n",
       "      <th>1982</th>\n",
       "      <td>36</td>\n",
       "    </tr>\n",
       "    <tr>\n",
       "      <th>1983</th>\n",
       "      <td>17</td>\n",
       "    </tr>\n",
       "    <tr>\n",
       "      <th>1984</th>\n",
       "      <td>14</td>\n",
       "    </tr>\n",
       "    <tr>\n",
       "      <th>1985</th>\n",
       "      <td>14</td>\n",
       "    </tr>\n",
       "    <tr>\n",
       "      <th>1986</th>\n",
       "      <td>21</td>\n",
       "    </tr>\n",
       "    <tr>\n",
       "      <th>1987</th>\n",
       "      <td>16</td>\n",
       "    </tr>\n",
       "    <tr>\n",
       "      <th>1988</th>\n",
       "      <td>15</td>\n",
       "    </tr>\n",
       "    <tr>\n",
       "      <th>1989</th>\n",
       "      <td>17</td>\n",
       "    </tr>\n",
       "    <tr>\n",
       "      <th>1990</th>\n",
       "      <td>16</td>\n",
       "    </tr>\n",
       "    <tr>\n",
       "      <th>1991</th>\n",
       "      <td>41</td>\n",
       "    </tr>\n",
       "    <tr>\n",
       "      <th>1992</th>\n",
       "      <td>43</td>\n",
       "    </tr>\n",
       "    <tr>\n",
       "      <th>1993</th>\n",
       "      <td>60</td>\n",
       "    </tr>\n",
       "    <tr>\n",
       "      <th>1994</th>\n",
       "      <td>121</td>\n",
       "    </tr>\n",
       "    <tr>\n",
       "      <th>1995</th>\n",
       "      <td>219</td>\n",
       "    </tr>\n",
       "    <tr>\n",
       "      <th>1996</th>\n",
       "      <td>263</td>\n",
       "    </tr>\n",
       "    <tr>\n",
       "      <th>1997</th>\n",
       "      <td>289</td>\n",
       "    </tr>\n",
       "    <tr>\n",
       "      <th>1998</th>\n",
       "      <td>379</td>\n",
       "    </tr>\n",
       "    <tr>\n",
       "      <th>1999</th>\n",
       "      <td>338</td>\n",
       "    </tr>\n",
       "    <tr>\n",
       "      <th>2000</th>\n",
       "      <td>350</td>\n",
       "    </tr>\n",
       "    <tr>\n",
       "      <th>2001</th>\n",
       "      <td>482</td>\n",
       "    </tr>\n",
       "    <tr>\n",
       "      <th>2002</th>\n",
       "      <td>829</td>\n",
       "    </tr>\n",
       "    <tr>\n",
       "      <th>2003</th>\n",
       "      <td>775</td>\n",
       "    </tr>\n",
       "    <tr>\n",
       "      <th>2004</th>\n",
       "      <td>762</td>\n",
       "    </tr>\n",
       "    <tr>\n",
       "      <th>2005</th>\n",
       "      <td>939</td>\n",
       "    </tr>\n",
       "    <tr>\n",
       "      <th>2006</th>\n",
       "      <td>1006</td>\n",
       "    </tr>\n",
       "    <tr>\n",
       "      <th>2007</th>\n",
       "      <td>1197</td>\n",
       "    </tr>\n",
       "    <tr>\n",
       "      <th>2008</th>\n",
       "      <td>1427</td>\n",
       "    </tr>\n",
       "    <tr>\n",
       "      <th>2009</th>\n",
       "      <td>1426</td>\n",
       "    </tr>\n",
       "    <tr>\n",
       "      <th>2010</th>\n",
       "      <td>1255</td>\n",
       "    </tr>\n",
       "    <tr>\n",
       "      <th>2011</th>\n",
       "      <td>1136</td>\n",
       "    </tr>\n",
       "    <tr>\n",
       "      <th>2012</th>\n",
       "      <td>653</td>\n",
       "    </tr>\n",
       "    <tr>\n",
       "      <th>2013</th>\n",
       "      <td>544</td>\n",
       "    </tr>\n",
       "    <tr>\n",
       "      <th>2014</th>\n",
       "      <td>581</td>\n",
       "    </tr>\n",
       "    <tr>\n",
       "      <th>2015</th>\n",
       "      <td>606</td>\n",
       "    </tr>\n",
       "    <tr>\n",
       "      <th>2016</th>\n",
       "      <td>502</td>\n",
       "    </tr>\n",
       "  </tbody>\n",
       "</table>\n",
       "</div>"
      ],
      "text/plain": [
       "                 name\n",
       "year_of_release      \n",
       "0                 269\n",
       "1980                9\n",
       "1981               46\n",
       "1982               36\n",
       "1983               17\n",
       "1984               14\n",
       "1985               14\n",
       "1986               21\n",
       "1987               16\n",
       "1988               15\n",
       "1989               17\n",
       "1990               16\n",
       "1991               41\n",
       "1992               43\n",
       "1993               60\n",
       "1994              121\n",
       "1995              219\n",
       "1996              263\n",
       "1997              289\n",
       "1998              379\n",
       "1999              338\n",
       "2000              350\n",
       "2001              482\n",
       "2002              829\n",
       "2003              775\n",
       "2004              762\n",
       "2005              939\n",
       "2006             1006\n",
       "2007             1197\n",
       "2008             1427\n",
       "2009             1426\n",
       "2010             1255\n",
       "2011             1136\n",
       "2012              653\n",
       "2013              544\n",
       "2014              581\n",
       "2015              606\n",
       "2016              502"
      ]
     },
     "execution_count": 11,
     "metadata": {},
     "output_type": "execute_result"
    }
   ],
   "source": [
    "data_year = data.groupby(by = ['year_of_release'])[['name']].count()\n",
    "data_year"
   ]
  },
  {
   "cell_type": "code",
   "execution_count": 12,
   "metadata": {},
   "outputs": [
    {
     "data": {
      "text/plain": [
       "<AxesSubplot:xlabel='None,year_of_release'>"
      ]
     },
     "execution_count": 12,
     "metadata": {},
     "output_type": "execute_result"
    },
    {
     "data": {
      "image/png": "[encoded data removed]",
      "text/plain": [
       "<Figure size 720x360 with 1 Axes>"
      ]
     },
     "metadata": {
      "needs_background": "light"
     },
     "output_type": "display_data"
    }
   ],
   "source": [
    "data_year.unstack().plot(figsize = (10, 5))"
   ]
  },
  {
   "cell_type": "markdown",
   "metadata": {},
   "source": [
    "Посмотрим, как менялись продажи по платформам. Выберем платформы с наибольшими суммарными продажами и построим распределение по годам:"
   ]
  },
  {
   "cell_type": "code",
   "execution_count": 13,
   "metadata": {},
   "outputs": [
    {
     "data": {
      "text/html": [
       "<div>\n",
       "<style scoped>\n",
       "    .dataframe tbody tr th:only-of-type {\n",
       "        vertical-align: middle;\n",
       "    }\n",
       "\n",
       "    .dataframe tbody tr th {\n",
       "        vertical-align: top;\n",
       "    }\n",
       "\n",
       "    .dataframe thead th {\n",
       "        text-align: right;\n",
       "    }\n",
       "</style>\n",
       "<table border=\"1\" class=\"dataframe\">\n",
       "  <thead>\n",
       "    <tr style=\"text-align: right;\">\n",
       "      <th></th>\n",
       "      <th>platform</th>\n",
       "      <th>sales_sum</th>\n",
       "    </tr>\n",
       "  </thead>\n",
       "  <tbody>\n",
       "    <tr>\n",
       "      <th>16</th>\n",
       "      <td>PS2</td>\n",
       "      <td>1255.77</td>\n",
       "    </tr>\n",
       "    <tr>\n",
       "      <th>28</th>\n",
       "      <td>X360</td>\n",
       "      <td>971.42</td>\n",
       "    </tr>\n",
       "    <tr>\n",
       "      <th>17</th>\n",
       "      <td>PS3</td>\n",
       "      <td>939.65</td>\n",
       "    </tr>\n",
       "    <tr>\n",
       "      <th>26</th>\n",
       "      <td>Wii</td>\n",
       "      <td>907.51</td>\n",
       "    </tr>\n",
       "    <tr>\n",
       "      <th>4</th>\n",
       "      <td>DS</td>\n",
       "      <td>806.12</td>\n",
       "    </tr>\n",
       "    <tr>\n",
       "      <th>15</th>\n",
       "      <td>PS</td>\n",
       "      <td>730.86</td>\n",
       "    </tr>\n",
       "    <tr>\n",
       "      <th>6</th>\n",
       "      <td>GBA</td>\n",
       "      <td>317.85</td>\n",
       "    </tr>\n",
       "    <tr>\n",
       "      <th>18</th>\n",
       "      <td>PS4</td>\n",
       "      <td>314.14</td>\n",
       "    </tr>\n",
       "    <tr>\n",
       "      <th>19</th>\n",
       "      <td>PSP</td>\n",
       "      <td>294.05</td>\n",
       "    </tr>\n",
       "    <tr>\n",
       "      <th>13</th>\n",
       "      <td>PC</td>\n",
       "      <td>259.52</td>\n",
       "    </tr>\n",
       "    <tr>\n",
       "      <th>2</th>\n",
       "      <td>3DS</td>\n",
       "      <td>259.00</td>\n",
       "    </tr>\n",
       "    <tr>\n",
       "      <th>29</th>\n",
       "      <td>XB</td>\n",
       "      <td>257.74</td>\n",
       "    </tr>\n",
       "    <tr>\n",
       "      <th>5</th>\n",
       "      <td>GB</td>\n",
       "      <td>255.46</td>\n",
       "    </tr>\n",
       "    <tr>\n",
       "      <th>11</th>\n",
       "      <td>NES</td>\n",
       "      <td>251.05</td>\n",
       "    </tr>\n",
       "    <tr>\n",
       "      <th>10</th>\n",
       "      <td>N64</td>\n",
       "      <td>218.68</td>\n",
       "    </tr>\n",
       "    <tr>\n",
       "      <th>23</th>\n",
       "      <td>SNES</td>\n",
       "      <td>200.04</td>\n",
       "    </tr>\n",
       "    <tr>\n",
       "      <th>7</th>\n",
       "      <td>GC</td>\n",
       "      <td>198.93</td>\n",
       "    </tr>\n",
       "    <tr>\n",
       "      <th>30</th>\n",
       "      <td>XOne</td>\n",
       "      <td>159.32</td>\n",
       "    </tr>\n",
       "    <tr>\n",
       "      <th>0</th>\n",
       "      <td>2600</td>\n",
       "      <td>96.98</td>\n",
       "    </tr>\n",
       "    <tr>\n",
       "      <th>27</th>\n",
       "      <td>WiiU</td>\n",
       "      <td>82.19</td>\n",
       "    </tr>\n",
       "    <tr>\n",
       "      <th>20</th>\n",
       "      <td>PSV</td>\n",
       "      <td>54.07</td>\n",
       "    </tr>\n",
       "    <tr>\n",
       "      <th>21</th>\n",
       "      <td>SAT</td>\n",
       "      <td>33.59</td>\n",
       "    </tr>\n",
       "    <tr>\n",
       "      <th>8</th>\n",
       "      <td>GEN</td>\n",
       "      <td>28.35</td>\n",
       "    </tr>\n",
       "    <tr>\n",
       "      <th>3</th>\n",
       "      <td>DC</td>\n",
       "      <td>15.95</td>\n",
       "    </tr>\n",
       "    <tr>\n",
       "      <th>22</th>\n",
       "      <td>SCD</td>\n",
       "      <td>1.86</td>\n",
       "    </tr>\n",
       "    <tr>\n",
       "      <th>12</th>\n",
       "      <td>NG</td>\n",
       "      <td>1.44</td>\n",
       "    </tr>\n",
       "    <tr>\n",
       "      <th>25</th>\n",
       "      <td>WS</td>\n",
       "      <td>1.42</td>\n",
       "    </tr>\n",
       "    <tr>\n",
       "      <th>24</th>\n",
       "      <td>TG16</td>\n",
       "      <td>0.16</td>\n",
       "    </tr>\n",
       "    <tr>\n",
       "      <th>1</th>\n",
       "      <td>3DO</td>\n",
       "      <td>0.10</td>\n",
       "    </tr>\n",
       "    <tr>\n",
       "      <th>9</th>\n",
       "      <td>GG</td>\n",
       "      <td>0.04</td>\n",
       "    </tr>\n",
       "    <tr>\n",
       "      <th>14</th>\n",
       "      <td>PCFX</td>\n",
       "      <td>0.03</td>\n",
       "    </tr>\n",
       "  </tbody>\n",
       "</table>\n",
       "</div>"
      ],
      "text/plain": [
       "   platform  sales_sum\n",
       "16      PS2    1255.77\n",
       "28     X360     971.42\n",
       "17      PS3     939.65\n",
       "26      Wii     907.51\n",
       "4        DS     806.12\n",
       "15       PS     730.86\n",
       "6       GBA     317.85\n",
       "18      PS4     314.14\n",
       "19      PSP     294.05\n",
       "13       PC     259.52\n",
       "2       3DS     259.00\n",
       "29       XB     257.74\n",
       "5        GB     255.46\n",
       "11      NES     251.05\n",
       "10      N64     218.68\n",
       "23     SNES     200.04\n",
       "7        GC     198.93\n",
       "30     XOne     159.32\n",
       "0      2600      96.98\n",
       "27     WiiU      82.19\n",
       "20      PSV      54.07\n",
       "21      SAT      33.59\n",
       "8       GEN      28.35\n",
       "3        DC      15.95\n",
       "22      SCD       1.86\n",
       "12       NG       1.44\n",
       "25       WS       1.42\n",
       "24     TG16       0.16\n",
       "1       3DO       0.10\n",
       "9        GG       0.04\n",
       "14     PCFX       0.03"
      ]
     },
     "execution_count": 13,
     "metadata": {},
     "output_type": "execute_result"
    }
   ],
   "source": [
    "data_platform_sales_sum = data.groupby(by = ['platform'], as_index=False)['sales_sum'].sum()\n",
    "data_platform_sales_sum = data_platform_sales_sum.sort_values(by = 'sales_sum', ascending=False)\n",
    "data_platform_sales_sum"
   ]
  },
  {
   "cell_type": "code",
   "execution_count": 14,
   "metadata": {},
   "outputs": [
    {
     "data": {
      "image/png": "[encoded data removed]",
      "text/plain": [
       "<Figure size 432x288 with 1 Axes>"
      ]
     },
     "metadata": {
      "needs_background": "light"
     },
     "output_type": "display_data"
    }
   ],
   "source": [
    "data_sales_sum_platform = sns.barplot(x='platform', y='sales_sum', data = data_platform_sales_sum)\n",
    "plt.xlabel('Название платформы')\n",
    "plt.ylabel('Суммарные продажи(млн шт.)')\n",
    "plt.title('Суммарные продажи игр по платформам')\n",
    "plt.xticks(rotation = 90)\n",
    "plt.show()"
   ]
  },
  {
   "cell_type": "code",
   "execution_count": 15,
   "metadata": {},
   "outputs": [],
   "source": [
    "top_platform = ['PS2', 'X360', 'PS3', 'Wii', 'DS', 'PS']"
   ]
  },
  {
   "cell_type": "code",
   "execution_count": 16,
   "metadata": {},
   "outputs": [
    {
     "data": {
      "text/html": [
       "<div>\n",
       "<style scoped>\n",
       "    .dataframe tbody tr th:only-of-type {\n",
       "        vertical-align: middle;\n",
       "    }\n",
       "\n",
       "    .dataframe tbody tr th {\n",
       "        vertical-align: top;\n",
       "    }\n",
       "\n",
       "    .dataframe thead th {\n",
       "        text-align: right;\n",
       "    }\n",
       "</style>\n",
       "<table border=\"1\" class=\"dataframe\">\n",
       "  <thead>\n",
       "    <tr style=\"text-align: right;\">\n",
       "      <th></th>\n",
       "      <th>year_of_release</th>\n",
       "      <th>sales_sum</th>\n",
       "    </tr>\n",
       "  </thead>\n",
       "  <tbody>\n",
       "    <tr>\n",
       "      <th>0</th>\n",
       "      <td>0</td>\n",
       "      <td>98.92</td>\n",
       "    </tr>\n",
       "    <tr>\n",
       "      <th>1</th>\n",
       "      <td>1980</td>\n",
       "      <td>11.38</td>\n",
       "    </tr>\n",
       "    <tr>\n",
       "      <th>2</th>\n",
       "      <td>1981</td>\n",
       "      <td>35.68</td>\n",
       "    </tr>\n",
       "    <tr>\n",
       "      <th>3</th>\n",
       "      <td>1982</td>\n",
       "      <td>28.88</td>\n",
       "    </tr>\n",
       "    <tr>\n",
       "      <th>4</th>\n",
       "      <td>1983</td>\n",
       "      <td>16.80</td>\n",
       "    </tr>\n",
       "    <tr>\n",
       "      <th>5</th>\n",
       "      <td>1984</td>\n",
       "      <td>50.35</td>\n",
       "    </tr>\n",
       "    <tr>\n",
       "      <th>6</th>\n",
       "      <td>1985</td>\n",
       "      <td>53.95</td>\n",
       "    </tr>\n",
       "    <tr>\n",
       "      <th>7</th>\n",
       "      <td>1986</td>\n",
       "      <td>37.08</td>\n",
       "    </tr>\n",
       "    <tr>\n",
       "      <th>8</th>\n",
       "      <td>1987</td>\n",
       "      <td>21.70</td>\n",
       "    </tr>\n",
       "    <tr>\n",
       "      <th>9</th>\n",
       "      <td>1988</td>\n",
       "      <td>47.21</td>\n",
       "    </tr>\n",
       "    <tr>\n",
       "      <th>10</th>\n",
       "      <td>1989</td>\n",
       "      <td>73.45</td>\n",
       "    </tr>\n",
       "    <tr>\n",
       "      <th>11</th>\n",
       "      <td>1990</td>\n",
       "      <td>49.37</td>\n",
       "    </tr>\n",
       "    <tr>\n",
       "      <th>12</th>\n",
       "      <td>1991</td>\n",
       "      <td>32.23</td>\n",
       "    </tr>\n",
       "    <tr>\n",
       "      <th>13</th>\n",
       "      <td>1992</td>\n",
       "      <td>76.16</td>\n",
       "    </tr>\n",
       "    <tr>\n",
       "      <th>14</th>\n",
       "      <td>1993</td>\n",
       "      <td>45.99</td>\n",
       "    </tr>\n",
       "    <tr>\n",
       "      <th>15</th>\n",
       "      <td>1994</td>\n",
       "      <td>79.23</td>\n",
       "    </tr>\n",
       "    <tr>\n",
       "      <th>16</th>\n",
       "      <td>1995</td>\n",
       "      <td>88.12</td>\n",
       "    </tr>\n",
       "    <tr>\n",
       "      <th>17</th>\n",
       "      <td>1996</td>\n",
       "      <td>199.15</td>\n",
       "    </tr>\n",
       "    <tr>\n",
       "      <th>18</th>\n",
       "      <td>1997</td>\n",
       "      <td>201.07</td>\n",
       "    </tr>\n",
       "    <tr>\n",
       "      <th>19</th>\n",
       "      <td>1998</td>\n",
       "      <td>256.31</td>\n",
       "    </tr>\n",
       "    <tr>\n",
       "      <th>20</th>\n",
       "      <td>1999</td>\n",
       "      <td>251.11</td>\n",
       "    </tr>\n",
       "    <tr>\n",
       "      <th>21</th>\n",
       "      <td>2000</td>\n",
       "      <td>201.66</td>\n",
       "    </tr>\n",
       "    <tr>\n",
       "      <th>22</th>\n",
       "      <td>2001</td>\n",
       "      <td>331.46</td>\n",
       "    </tr>\n",
       "    <tr>\n",
       "      <th>23</th>\n",
       "      <td>2002</td>\n",
       "      <td>394.97</td>\n",
       "    </tr>\n",
       "    <tr>\n",
       "      <th>24</th>\n",
       "      <td>2003</td>\n",
       "      <td>357.54</td>\n",
       "    </tr>\n",
       "    <tr>\n",
       "      <th>25</th>\n",
       "      <td>2004</td>\n",
       "      <td>418.68</td>\n",
       "    </tr>\n",
       "    <tr>\n",
       "      <th>26</th>\n",
       "      <td>2005</td>\n",
       "      <td>457.82</td>\n",
       "    </tr>\n",
       "    <tr>\n",
       "      <th>27</th>\n",
       "      <td>2006</td>\n",
       "      <td>517.71</td>\n",
       "    </tr>\n",
       "    <tr>\n",
       "      <th>28</th>\n",
       "      <td>2007</td>\n",
       "      <td>604.75</td>\n",
       "    </tr>\n",
       "    <tr>\n",
       "      <th>29</th>\n",
       "      <td>2008</td>\n",
       "      <td>671.50</td>\n",
       "    </tr>\n",
       "    <tr>\n",
       "      <th>30</th>\n",
       "      <td>2009</td>\n",
       "      <td>658.82</td>\n",
       "    </tr>\n",
       "    <tr>\n",
       "      <th>31</th>\n",
       "      <td>2010</td>\n",
       "      <td>590.13</td>\n",
       "    </tr>\n",
       "    <tr>\n",
       "      <th>32</th>\n",
       "      <td>2011</td>\n",
       "      <td>507.58</td>\n",
       "    </tr>\n",
       "    <tr>\n",
       "      <th>33</th>\n",
       "      <td>2012</td>\n",
       "      <td>355.84</td>\n",
       "    </tr>\n",
       "    <tr>\n",
       "      <th>34</th>\n",
       "      <td>2013</td>\n",
       "      <td>361.24</td>\n",
       "    </tr>\n",
       "    <tr>\n",
       "      <th>35</th>\n",
       "      <td>2014</td>\n",
       "      <td>331.53</td>\n",
       "    </tr>\n",
       "    <tr>\n",
       "      <th>36</th>\n",
       "      <td>2015</td>\n",
       "      <td>267.98</td>\n",
       "    </tr>\n",
       "    <tr>\n",
       "      <th>37</th>\n",
       "      <td>2016</td>\n",
       "      <td>129.94</td>\n",
       "    </tr>\n",
       "  </tbody>\n",
       "</table>\n",
       "</div>"
      ],
      "text/plain": [
       "    year_of_release  sales_sum\n",
       "0                 0      98.92\n",
       "1              1980      11.38\n",
       "2              1981      35.68\n",
       "3              1982      28.88\n",
       "4              1983      16.80\n",
       "5              1984      50.35\n",
       "6              1985      53.95\n",
       "7              1986      37.08\n",
       "8              1987      21.70\n",
       "9              1988      47.21\n",
       "10             1989      73.45\n",
       "11             1990      49.37\n",
       "12             1991      32.23\n",
       "13             1992      76.16\n",
       "14             1993      45.99\n",
       "15             1994      79.23\n",
       "16             1995      88.12\n",
       "17             1996     199.15\n",
       "18             1997     201.07\n",
       "19             1998     256.31\n",
       "20             1999     251.11\n",
       "21             2000     201.66\n",
       "22             2001     331.46\n",
       "23             2002     394.97\n",
       "24             2003     357.54\n",
       "25             2004     418.68\n",
       "26             2005     457.82\n",
       "27             2006     517.71\n",
       "28             2007     604.75\n",
       "29             2008     671.50\n",
       "30             2009     658.82\n",
       "31             2010     590.13\n",
       "32             2011     507.58\n",
       "33             2012     355.84\n",
       "34             2013     361.24\n",
       "35             2014     331.53\n",
       "36             2015     267.98\n",
       "37             2016     129.94"
      ]
     },
     "execution_count": 16,
     "metadata": {},
     "output_type": "execute_result"
    }
   ],
   "source": [
    "data_year_sales_sum = data.groupby(by = ['year_of_release'], as_index=False)['sales_sum'].sum()\n",
    "data_year_sales_sum"
   ]
  },
  {
   "cell_type": "code",
   "execution_count": 17,
   "metadata": {},
   "outputs": [
    {
     "data": {
      "image/png": "[encoded data removed]",
      "text/plain": [
       "<Figure size 432x288 with 1 Axes>"
      ]
     },
     "metadata": {
      "needs_background": "light"
     },
     "output_type": "display_data"
    }
   ],
   "source": [
    "data_sales_sum_year = sns.barplot(x='year_of_release', y='sales_sum', data = data_year_sales_sum)\n",
    "plt.xlabel('Год выпуска')\n",
    "plt.ylabel('Суммарные продажи(млн шт.)')\n",
    "plt.title('Суммарные продажи игр по годам')\n",
    "plt.xticks(rotation = 90)\n",
    "plt.show()"
   ]
  },
  {
   "cell_type": "code",
   "execution_count": 18,
   "metadata": {},
   "outputs": [],
   "source": [
    "current_period = [2013, 2014, 2015, 2016]"
   ]
  },
  {
   "cell_type": "markdown",
   "metadata": {},
   "source": [
    "Сделаем срез данных по платформам, которые наиболее прибыльны и по актуальному периоду, я взяла последние 4 года, так как за 2016 год данные неполные."
   ]
  },
  {
   "cell_type": "code",
   "execution_count": 19,
   "metadata": {
    "scrolled": false
   },
   "outputs": [
    {
     "data": {
      "text/plain": [
       "array(['PS3', 'X360', 'Wii', 'DS'], dtype=object)"
      ]
     },
     "execution_count": 19,
     "metadata": {},
     "output_type": "execute_result"
    }
   ],
   "source": [
    "data_query = data.query('platform == @top_platform')\n",
    "data_query = data_query.query('year_of_release == @current_period')\n",
    "data_query['platform'].unique()"
   ]
  },
  {
   "cell_type": "markdown",
   "metadata": {},
   "source": [
    "<div class=\"alert alert-info\">\n",
    "Здесь можно добавить строчку с уникальными значениями после среза данных и увидим, что топовых платформ было 6, а после среза данных осталось 4. </div>"
   ]
  },
  {
   "cell_type": "markdown",
   "metadata": {},
   "source": [
    "Посмотрим какие платформы лидируют по продажам, растут или падают? Выберем несколько потенциально прибыльных платформ:"
   ]
  },
  {
   "cell_type": "code",
   "execution_count": 20,
   "metadata": {},
   "outputs": [
    {
     "data": {
      "text/html": [
       "<div>\n",
       "<style scoped>\n",
       "    .dataframe tbody tr th:only-of-type {\n",
       "        vertical-align: middle;\n",
       "    }\n",
       "\n",
       "    .dataframe tbody tr th {\n",
       "        vertical-align: top;\n",
       "    }\n",
       "\n",
       "    .dataframe thead th {\n",
       "        text-align: right;\n",
       "    }\n",
       "</style>\n",
       "<table border=\"1\" class=\"dataframe\">\n",
       "  <thead>\n",
       "    <tr style=\"text-align: right;\">\n",
       "      <th></th>\n",
       "      <th>DS</th>\n",
       "      <th>PS3</th>\n",
       "      <th>Wii</th>\n",
       "      <th>X360</th>\n",
       "    </tr>\n",
       "    <tr>\n",
       "      <th>year_of_release</th>\n",
       "      <th></th>\n",
       "      <th></th>\n",
       "      <th></th>\n",
       "      <th></th>\n",
       "    </tr>\n",
       "  </thead>\n",
       "  <tbody>\n",
       "    <tr>\n",
       "      <th>2013</th>\n",
       "      <td>1.54</td>\n",
       "      <td>113.25</td>\n",
       "      <td>8.59</td>\n",
       "      <td>88.58</td>\n",
       "    </tr>\n",
       "    <tr>\n",
       "      <th>2014</th>\n",
       "      <td>NaN</td>\n",
       "      <td>47.76</td>\n",
       "      <td>3.75</td>\n",
       "      <td>34.74</td>\n",
       "    </tr>\n",
       "    <tr>\n",
       "      <th>2015</th>\n",
       "      <td>NaN</td>\n",
       "      <td>16.82</td>\n",
       "      <td>1.14</td>\n",
       "      <td>11.96</td>\n",
       "    </tr>\n",
       "    <tr>\n",
       "      <th>2016</th>\n",
       "      <td>NaN</td>\n",
       "      <td>3.60</td>\n",
       "      <td>0.18</td>\n",
       "      <td>1.52</td>\n",
       "    </tr>\n",
       "  </tbody>\n",
       "</table>\n",
       "</div>"
      ],
      "text/plain": [
       "                   DS     PS3   Wii   X360\n",
       "year_of_release                           \n",
       "2013             1.54  113.25  8.59  88.58\n",
       "2014              NaN   47.76  3.75  34.74\n",
       "2015              NaN   16.82  1.14  11.96\n",
       "2016              NaN    3.60  0.18   1.52"
      ]
     },
     "execution_count": 20,
     "metadata": {},
     "output_type": "execute_result"
    }
   ],
   "source": [
    "data_top = data_query.pivot_table(index='year_of_release', columns='platform', values='sales_sum', aggfunc='sum')\n",
    "data_top.columns = ['DS', 'PS3', 'Wii', 'X360']\n",
    "data_top"
   ]
  },
  {
   "cell_type": "code",
   "execution_count": 21,
   "metadata": {},
   "outputs": [
    {
     "data": {
      "image/png": "[encoded data removed]",
      "text/plain": [
       "<Figure size 1080x720 with 1 Axes>"
      ]
     },
     "metadata": {
      "needs_background": "light"
     },
     "output_type": "display_data"
    }
   ],
   "source": [
    "data_top.plot(y=['DS', 'PS3', 'Wii', 'X360'], kind='bar', figsize=(15,10))\n",
    "plt.xlabel('Год выпуска')\n",
    "plt.ylabel('Суммарные продажи(млн шт.)')\n",
    "plt.title('Суммарные продажи игр по годам топовых платформ')\n",
    "plt.xticks(rotation = 90)\n",
    "plt.show()"
   ]
  },
  {
   "cell_type": "markdown",
   "metadata": {},
   "source": [
    "Для начала выбрали лидирующие платформы(их было 6 штук), далее выбрали актуальный период(я выбраза за 4 года с 2013 по 2016), далее сделала срез нашего первоисходного датафрейма по лидирующим платформам и по актуальному периоду, в конечном итоге осталось 4 лидирующие платформы, платформа 'PS' и 'PS2' отпали, так как не входили в актуальный период, затем посчитали для них суммарные продажи и построили столбчатый график для того, чтобы оценить как продажи по платформам ведут себя по годам. \n",
    "На графике видим, что платформа 'DS' наблюдается только в 2013 году и продажи очень низки. Платформа 'PS3' наблюдается весь период, в каждом последующем году видим спад продаж. Платформа 'Wii', не считая 'DS' в актуальном периоде имеет самые низкие продажи, в 2016 году не наблюдаем данную платформу(наверняка данные за 2016 год были неполными). И наконец, платформа 'X360' в актуальном периоде вторая по количеству продаж, в каждом последующем году видим спад продаж, платформа наблюдалась весть актуальный период."
   ]
  },
  {
   "cell_type": "markdown",
   "metadata": {},
   "source": [
    "Построим графики по глобальным продажам игр в разбивке по платформам:"
   ]
  },
  {
   "cell_type": "markdown",
   "metadata": {},
   "source": [
    "Найдем максимум, минимум, 1 и 3 квартили и медиану:"
   ]
  },
  {
   "cell_type": "code",
   "execution_count": 22,
   "metadata": {},
   "outputs": [
    {
     "data": {
      "text/html": [
       "<div>\n",
       "<style scoped>\n",
       "    .dataframe tbody tr th:only-of-type {\n",
       "        vertical-align: middle;\n",
       "    }\n",
       "\n",
       "    .dataframe tbody tr th {\n",
       "        vertical-align: top;\n",
       "    }\n",
       "\n",
       "    .dataframe thead th {\n",
       "        text-align: right;\n",
       "    }\n",
       "</style>\n",
       "<table border=\"1\" class=\"dataframe\">\n",
       "  <thead>\n",
       "    <tr style=\"text-align: right;\">\n",
       "      <th>platform</th>\n",
       "      <th>DS</th>\n",
       "      <th>PS3</th>\n",
       "      <th>Wii</th>\n",
       "      <th>X360</th>\n",
       "    </tr>\n",
       "    <tr>\n",
       "      <th>name</th>\n",
       "      <th></th>\n",
       "      <th></th>\n",
       "      <th></th>\n",
       "      <th></th>\n",
       "    </tr>\n",
       "  </thead>\n",
       "  <tbody>\n",
       "    <tr>\n",
       "      <th>Frozen: Olaf's Quest</th>\n",
       "      <td>0.51</td>\n",
       "      <td>NaN</td>\n",
       "      <td>NaN</td>\n",
       "      <td>NaN</td>\n",
       "    </tr>\n",
       "    <tr>\n",
       "      <th>2 in 1 Combo Pack: Sonic Heroes / Super Monkey Ball Deluxe</th>\n",
       "      <td>NaN</td>\n",
       "      <td>NaN</td>\n",
       "      <td>NaN</td>\n",
       "      <td>0.11</td>\n",
       "    </tr>\n",
       "    <tr>\n",
       "      <th>2014 FIFA World Cup Brazil</th>\n",
       "      <td>NaN</td>\n",
       "      <td>0.61</td>\n",
       "      <td>NaN</td>\n",
       "      <td>0.43</td>\n",
       "    </tr>\n",
       "    <tr>\n",
       "      <th>3rd Super Robot Wars Z Jigoku Hen</th>\n",
       "      <td>NaN</td>\n",
       "      <td>0.23</td>\n",
       "      <td>NaN</td>\n",
       "      <td>NaN</td>\n",
       "    </tr>\n",
       "    <tr>\n",
       "      <th>3rd Super Robot Wars Z: Tengoku-Hen</th>\n",
       "      <td>NaN</td>\n",
       "      <td>0.15</td>\n",
       "      <td>NaN</td>\n",
       "      <td>NaN</td>\n",
       "    </tr>\n",
       "    <tr>\n",
       "      <th>...</th>\n",
       "      <td>...</td>\n",
       "      <td>...</td>\n",
       "      <td>...</td>\n",
       "      <td>...</td>\n",
       "    </tr>\n",
       "    <tr>\n",
       "      <th>Yoru no Nai Kuni</th>\n",
       "      <td>NaN</td>\n",
       "      <td>0.05</td>\n",
       "      <td>NaN</td>\n",
       "      <td>NaN</td>\n",
       "    </tr>\n",
       "    <tr>\n",
       "      <th>Young Justice: Legacy</th>\n",
       "      <td>NaN</td>\n",
       "      <td>0.09</td>\n",
       "      <td>0.03</td>\n",
       "      <td>0.01</td>\n",
       "    </tr>\n",
       "    <tr>\n",
       "      <th>Zillions of Enemy X: Zetsukai no Crusade</th>\n",
       "      <td>NaN</td>\n",
       "      <td>0.02</td>\n",
       "      <td>NaN</td>\n",
       "      <td>NaN</td>\n",
       "    </tr>\n",
       "    <tr>\n",
       "      <th>Zoo Tycoon (2013)</th>\n",
       "      <td>NaN</td>\n",
       "      <td>NaN</td>\n",
       "      <td>NaN</td>\n",
       "      <td>0.09</td>\n",
       "    </tr>\n",
       "    <tr>\n",
       "      <th>Zumba Fitness: World Party</th>\n",
       "      <td>NaN</td>\n",
       "      <td>NaN</td>\n",
       "      <td>0.23</td>\n",
       "      <td>NaN</td>\n",
       "    </tr>\n",
       "  </tbody>\n",
       "</table>\n",
       "<p>375 rows × 4 columns</p>\n",
       "</div>"
      ],
      "text/plain": [
       "platform                                              DS   PS3   Wii  X360\n",
       "name                                                                      \n",
       " Frozen: Olaf's Quest                               0.51   NaN   NaN   NaN\n",
       "2 in 1 Combo Pack: Sonic Heroes / Super Monkey ...   NaN   NaN   NaN  0.11\n",
       "2014 FIFA World Cup Brazil                           NaN  0.61   NaN  0.43\n",
       "3rd Super Robot Wars Z Jigoku Hen                    NaN  0.23   NaN   NaN\n",
       "3rd Super Robot Wars Z: Tengoku-Hen                  NaN  0.15   NaN   NaN\n",
       "...                                                  ...   ...   ...   ...\n",
       "Yoru no Nai Kuni                                     NaN  0.05   NaN   NaN\n",
       "Young Justice: Legacy                                NaN  0.09  0.03  0.01\n",
       "Zillions of Enemy X: Zetsukai no Crusade             NaN  0.02   NaN   NaN\n",
       "Zoo Tycoon (2013)                                    NaN   NaN   NaN  0.09\n",
       "Zumba Fitness: World Party                           NaN   NaN  0.23   NaN\n",
       "\n",
       "[375 rows x 4 columns]"
      ]
     },
     "metadata": {},
     "output_type": "display_data"
    },
    {
     "data": {
      "text/plain": [
       "platform\n",
       "DS       0.51\n",
       "PS3     21.05\n",
       "Wii      3.58\n",
       "X360    16.27\n",
       "dtype: float64"
      ]
     },
     "metadata": {},
     "output_type": "display_data"
    },
    {
     "data": {
      "text/plain": [
       "platform\n",
       "DS      0.03\n",
       "PS3     0.01\n",
       "Wii     0.01\n",
       "X360    0.01\n",
       "dtype: float64"
      ]
     },
     "metadata": {},
     "output_type": "display_data"
    },
    {
     "data": {
      "text/html": [
       "<div>\n",
       "<style scoped>\n",
       "    .dataframe tbody tr th:only-of-type {\n",
       "        vertical-align: middle;\n",
       "    }\n",
       "\n",
       "    .dataframe tbody tr th {\n",
       "        vertical-align: top;\n",
       "    }\n",
       "\n",
       "    .dataframe thead th {\n",
       "        text-align: right;\n",
       "    }\n",
       "</style>\n",
       "<table border=\"1\" class=\"dataframe\">\n",
       "  <thead>\n",
       "    <tr style=\"text-align: right;\">\n",
       "      <th>platform</th>\n",
       "      <th>DS</th>\n",
       "      <th>PS3</th>\n",
       "      <th>Wii</th>\n",
       "      <th>X360</th>\n",
       "    </tr>\n",
       "  </thead>\n",
       "  <tbody>\n",
       "    <tr>\n",
       "      <th>0.25</th>\n",
       "      <td>0.0675</td>\n",
       "      <td>0.04</td>\n",
       "      <td>0.045</td>\n",
       "      <td>0.080</td>\n",
       "    </tr>\n",
       "    <tr>\n",
       "      <th>0.50</th>\n",
       "      <td>0.1500</td>\n",
       "      <td>0.15</td>\n",
       "      <td>0.180</td>\n",
       "      <td>0.265</td>\n",
       "    </tr>\n",
       "    <tr>\n",
       "      <th>0.75</th>\n",
       "      <td>0.2525</td>\n",
       "      <td>0.51</td>\n",
       "      <td>0.755</td>\n",
       "      <td>0.795</td>\n",
       "    </tr>\n",
       "  </tbody>\n",
       "</table>\n",
       "</div>"
      ],
      "text/plain": [
       "platform      DS   PS3    Wii   X360\n",
       "0.25      0.0675  0.04  0.045  0.080\n",
       "0.50      0.1500  0.15  0.180  0.265\n",
       "0.75      0.2525  0.51  0.755  0.795"
      ]
     },
     "execution_count": 22,
     "metadata": {},
     "output_type": "execute_result"
    }
   ],
   "source": [
    "data_top_platform = data_query.pivot_table(index='name', columns='platform', values='sales_sum', aggfunc='sum')\n",
    "\n",
    "max_value = data_top_platform.max()\n",
    "min_value = data_top_platform.min()\n",
    "\n",
    "display(data_top_platform)\n",
    "display(max_value)\n",
    "display(min_value)\n",
    "\n",
    "data_top_platform.quantile([0.25,0.5,0.75])"
   ]
  },
  {
   "cell_type": "code",
   "execution_count": 23,
   "metadata": {},
   "outputs": [
    {
     "data": {
      "image/png": "[encoded data removed]",
      "text/plain": [
       "<Figure size 432x288 with 1 Axes>"
      ]
     },
     "metadata": {
      "needs_background": "light"
     },
     "output_type": "display_data"
    },
    {
     "data": {
      "image/png": "[encoded data removed]",
      "text/plain": [
       "<Figure size 432x288 with 1 Axes>"
      ]
     },
     "metadata": {
      "needs_background": "light"
     },
     "output_type": "display_data"
    },
    {
     "data": {
      "image/png": "[encoded data removed]",
      "text/plain": [
       "<Figure size 432x288 with 1 Axes>"
      ]
     },
     "metadata": {
      "needs_background": "light"
     },
     "output_type": "display_data"
    },
    {
     "data": {
      "image/png": "[encoded data removed]",
      "text/plain": [
       "<Figure size 432x288 with 1 Axes>"
      ]
     },
     "metadata": {
      "needs_background": "light"
     },
     "output_type": "display_data"
    }
   ],
   "source": [
    "top_platform = ['X360', 'PS3', 'Wii', 'DS']\n",
    "\n",
    "for platform in top_platform:\n",
    "    sns.boxplot(x=data_top_platform[platform],\n",
    "                color = 'red',\n",
    "                orient='h'\n",
    "               )\n",
    "    plt.xlim(0, 2)\n",
    "    #plt.ylim(,)\n",
    "    plt.show()\n",
    "    \n",
    "#title = f'Продажи игр(млн шт) по платформе {platform}',\n",
    "#grid = True,\n",
    "#color = 'red',\n",
    "#figsize = (20,2)\n",
    "#set_title(\"Продажи игр(млн шт) по платформе {platform}\", fontsize=16),\n",
    "#set_xlabel(\"Conditions\", fontsize=14),\n",
    "#set_ylabel(\"Values\", fontsize=14)"
   ]
  },
  {
   "cell_type": "markdown",
   "metadata": {},
   "source": [
    "Опишу график по первой платформе, остальные по аналогии. Платформа 'X360': Минимальное значение - 0.01, 50% продаж находятся между 0.08 и 0.795, 25% меньше 0.08 и 25% больше 0.795. Данные, которые сильно отличаются от основных данных совокупности, называют выбросами. Выбросы можно определить относительно верхнего и нижнего квартиля. Выбросом считается, значение в 1,5 раза больше или меньше разности 3 и 1 квартиля. Для данной платформы разность квартилей = 0.795 - 0.08 = 0.715, значит 0.08 - 1.5 * 0.715 = -0.9925 и 0.795 + 1.5 * 0.715 = 1.8675 считаются граничными значениями. Все значения, которые больше 1.8675 и меньше -0.9925, называются выбросами. Значения между внутренним и внешним ограждениями называют умеренными выбросами."
   ]
  },
  {
   "cell_type": "markdown",
   "metadata": {},
   "source": [
    "Посмотрим, как влияют на продажи внутри одной популярной платформы отзывы пользователей и критиков. Построим диаграмму рассеяния и посчитаем корреляцию между отзывами и продажами:"
   ]
  },
  {
   "cell_type": "markdown",
   "metadata": {},
   "source": [
    "Возьмем из датафрейма нужные для анализа столбцы и сделаем срез данных по одной популярной платформе, я выбрала \"Wii\":"
   ]
  },
  {
   "cell_type": "code",
   "execution_count": 24,
   "metadata": {
    "scrolled": false
   },
   "outputs": [
    {
     "data": {
      "text/html": [
       "<div>\n",
       "<style scoped>\n",
       "    .dataframe tbody tr th:only-of-type {\n",
       "        vertical-align: middle;\n",
       "    }\n",
       "\n",
       "    .dataframe tbody tr th {\n",
       "        vertical-align: top;\n",
       "    }\n",
       "\n",
       "    .dataframe thead th {\n",
       "        text-align: right;\n",
       "    }\n",
       "</style>\n",
       "<table border=\"1\" class=\"dataframe\">\n",
       "  <thead>\n",
       "    <tr style=\"text-align: right;\">\n",
       "      <th></th>\n",
       "      <th>platform</th>\n",
       "      <th>sales_sum</th>\n",
       "      <th>critic_score</th>\n",
       "      <th>user_score</th>\n",
       "    </tr>\n",
       "  </thead>\n",
       "  <tbody>\n",
       "    <tr>\n",
       "      <th>23</th>\n",
       "      <td>X360</td>\n",
       "      <td>16.27</td>\n",
       "      <td>97</td>\n",
       "      <td>8.1</td>\n",
       "    </tr>\n",
       "    <tr>\n",
       "      <th>60</th>\n",
       "      <td>X360</td>\n",
       "      <td>10.24</td>\n",
       "      <td>73</td>\n",
       "      <td>2.6</td>\n",
       "    </tr>\n",
       "    <tr>\n",
       "      <th>72</th>\n",
       "      <td>X360</td>\n",
       "      <td>9.18</td>\n",
       "      <td>0</td>\n",
       "      <td>tbd</td>\n",
       "    </tr>\n",
       "    <tr>\n",
       "      <th>263</th>\n",
       "      <td>X360</td>\n",
       "      <td>4.28</td>\n",
       "      <td>0</td>\n",
       "      <td>4.9</td>\n",
       "    </tr>\n",
       "    <tr>\n",
       "      <th>271</th>\n",
       "      <td>X360</td>\n",
       "      <td>4.22</td>\n",
       "      <td>84</td>\n",
       "      <td>4.2</td>\n",
       "    </tr>\n",
       "    <tr>\n",
       "      <th>...</th>\n",
       "      <td>...</td>\n",
       "      <td>...</td>\n",
       "      <td>...</td>\n",
       "      <td>...</td>\n",
       "    </tr>\n",
       "    <tr>\n",
       "      <th>16299</th>\n",
       "      <td>X360</td>\n",
       "      <td>0.01</td>\n",
       "      <td>0</td>\n",
       "      <td>tbd</td>\n",
       "    </tr>\n",
       "    <tr>\n",
       "      <th>16448</th>\n",
       "      <td>X360</td>\n",
       "      <td>0.01</td>\n",
       "      <td>0</td>\n",
       "      <td>4.5</td>\n",
       "    </tr>\n",
       "    <tr>\n",
       "      <th>16458</th>\n",
       "      <td>X360</td>\n",
       "      <td>0.01</td>\n",
       "      <td>0</td>\n",
       "      <td>6.2</td>\n",
       "    </tr>\n",
       "    <tr>\n",
       "      <th>16489</th>\n",
       "      <td>X360</td>\n",
       "      <td>0.01</td>\n",
       "      <td>0</td>\n",
       "      <td>tbd</td>\n",
       "    </tr>\n",
       "    <tr>\n",
       "      <th>16652</th>\n",
       "      <td>X360</td>\n",
       "      <td>0.01</td>\n",
       "      <td>0</td>\n",
       "      <td>5.1</td>\n",
       "    </tr>\n",
       "  </tbody>\n",
       "</table>\n",
       "<p>186 rows × 4 columns</p>\n",
       "</div>"
      ],
      "text/plain": [
       "      platform  sales_sum  critic_score user_score\n",
       "23        X360      16.27            97        8.1\n",
       "60        X360      10.24            73        2.6\n",
       "72        X360       9.18             0        tbd\n",
       "263       X360       4.28             0        4.9\n",
       "271       X360       4.22            84        4.2\n",
       "...        ...        ...           ...        ...\n",
       "16299     X360       0.01             0        tbd\n",
       "16448     X360       0.01             0        4.5\n",
       "16458     X360       0.01             0        6.2\n",
       "16489     X360       0.01             0        tbd\n",
       "16652     X360       0.01             0        5.1\n",
       "\n",
       "[186 rows x 4 columns]"
      ]
     },
     "execution_count": 24,
     "metadata": {},
     "output_type": "execute_result"
    }
   ],
   "source": [
    "data_sales_score = data_query[['platform', 'sales_sum', 'critic_score', 'user_score']]\n",
    "data_x360 = data_sales_score.query('platform == \"X360\"')\n",
    "data_x360"
   ]
  },
  {
   "cell_type": "markdown",
   "metadata": {},
   "source": [
    "Найдем корреляцию и построим диаграммы рассеяния:"
   ]
  },
  {
   "cell_type": "markdown",
   "metadata": {},
   "source": [
    "Для начала найдем корреляцию между продажами и оценкой критиков:"
   ]
  },
  {
   "cell_type": "code",
   "execution_count": 25,
   "metadata": {},
   "outputs": [
    {
     "data": {
      "text/plain": [
       "0.2465727670167554"
      ]
     },
     "execution_count": 25,
     "metadata": {},
     "output_type": "execute_result"
    }
   ],
   "source": [
    "data_x360['sales_sum'].corr(data_x360['critic_score'])"
   ]
  },
  {
   "cell_type": "markdown",
   "metadata": {},
   "source": [
    "Далее построим диаграмму рассеяния:"
   ]
  },
  {
   "cell_type": "code",
   "execution_count": 26,
   "metadata": {},
   "outputs": [
    {
     "data": {
      "image/png": "[encoded data removed]",
      "text/plain": [
       "<Figure size 432x288 with 1 Axes>"
      ]
     },
     "metadata": {
      "needs_background": "light"
     },
     "output_type": "display_data"
    }
   ],
   "source": [
    "data_x360.plot(y='sales_sum', x='critic_score', kind='scatter')\n",
    "plt.show()"
   ]
  },
  {
   "cell_type": "markdown",
   "metadata": {},
   "source": [
    "Теперь найдем корреляцию между продажами и оценкой пользователей:"
   ]
  },
  {
   "cell_type": "markdown",
   "metadata": {},
   "source": [
    "Для подсчета корреляции в данном случае нужно отбросить все оценки пользователей равные \"tbd\": "
   ]
  },
  {
   "cell_type": "code",
   "execution_count": null,
   "metadata": {},
   "outputs": [],
   "source": [
    "data_without_tbd = data_x360.query('user_score != \"tbd\"')\n",
    "data_without_tbd['user_score'] = data_without_tbd['user_score'].astype('float')"
   ]
  },
  {
   "cell_type": "code",
   "execution_count": null,
   "metadata": {},
   "outputs": [],
   "source": [
    "import warnings warnings.filterwarnings(\"ignore\", category=DeprecationWarning)"
   ]
  },
  {
   "cell_type": "code",
   "execution_count": 657,
   "metadata": {},
   "outputs": [
    {
     "data": {
      "text/plain": [
       "-0.011742185147181342"
      ]
     },
     "execution_count": 657,
     "metadata": {},
     "output_type": "execute_result"
    }
   ],
   "source": [
    "data_x360['sales_sum'].corr(data_without_tbd['user_score'])"
   ]
  },
  {
   "cell_type": "markdown",
   "metadata": {},
   "source": [
    "Наблюдаем отрицательную корреляционную связь, что означает обратную взаимосвязь."
   ]
  },
  {
   "cell_type": "code",
   "execution_count": 658,
   "metadata": {},
   "outputs": [
    {
     "data": {
      "image/png": "[encoded data removed]",
      "text/plain": [
       "<Figure size 432x288 with 1 Axes>"
      ]
     },
     "metadata": {
      "needs_background": "light"
     },
     "output_type": "display_data"
    }
   ],
   "source": [
    "data_without_tbd.plot(x='sales_sum', y='user_score', kind='scatter')\n",
    "plt.show()"
   ]
  },
  {
   "cell_type": "markdown",
   "metadata": {},
   "source": [
    "В обоих случаях наблюдается слабая корреляционная связь, это означает, что значения между собой никак не связаны."
   ]
  },
  {
   "cell_type": "markdown",
   "metadata": {},
   "source": [
    "Проверим другие платформы:"
   ]
  },
  {
   "cell_type": "code",
   "execution_count": 659,
   "metadata": {},
   "outputs": [
    {
     "data": {
      "text/plain": [
       "0.27927436323247207"
      ]
     },
     "execution_count": 659,
     "metadata": {},
     "output_type": "execute_result"
    }
   ],
   "source": [
    "data_ps3 = data_sales_score.query('platform == \"PS3\"')\n",
    "\n",
    "data_ps3['sales_sum'].corr(data_ps3['critic_score'])"
   ]
  },
  {
   "cell_type": "code",
   "execution_count": 660,
   "metadata": {},
   "outputs": [
    {
     "data": {
      "image/png": "[encoded data removed]",
      "text/plain": [
       "<Figure size 432x288 with 1 Axes>"
      ]
     },
     "metadata": {
      "needs_background": "light"
     },
     "output_type": "display_data"
    }
   ],
   "source": [
    "data_ps3.plot(x='sales_sum', y='critic_score', kind='scatter')\n",
    "plt.show()"
   ]
  },
  {
   "cell_type": "code",
   "execution_count": 661,
   "metadata": {},
   "outputs": [
    {
     "name": "stderr",
     "output_type": "stream",
     "text": [
      "/tmp/ipykernel_36/2493203614.py:2: SettingWithCopyWarning: \n",
      "A value is trying to be set on a copy of a slice from a DataFrame.\n",
      "Try using .loc[row_indexer,col_indexer] = value instead\n",
      "\n",
      "See the caveats in the documentation: https://pandas.pydata.org/pandas-docs/stable/user_guide/indexing.html#returning-a-view-versus-a-copy\n",
      "  data_ps3_without_tbd['user_score'] = data_ps3_without_tbd['user_score'].astype('float')\n"
     ]
    },
    {
     "data": {
      "text/plain": [
       "0.0023944027357566925"
      ]
     },
     "execution_count": 661,
     "metadata": {},
     "output_type": "execute_result"
    }
   ],
   "source": [
    "data_ps3_without_tbd = data_ps3.query('user_score != \"tbd\"')\n",
    "data_ps3_without_tbd['user_score'] = data_ps3_without_tbd['user_score'].astype('float')\n",
    "\n",
    "data_ps3['sales_sum'].corr(data_ps3_without_tbd['user_score'])"
   ]
  },
  {
   "cell_type": "markdown",
   "metadata": {},
   "source": [
    "В данном случае, проверили платформу \"PS3\" и корреляционная связь между продажами и оценкой критиков по этой платформе также очень слабая, это означает, что значения между собой никак не связаны."
   ]
  },
  {
   "cell_type": "markdown",
   "metadata": {},
   "source": [
    "Посмотрим на общее распределение игр по жанрам:"
   ]
  },
  {
   "cell_type": "code",
   "execution_count": 662,
   "metadata": {},
   "outputs": [
    {
     "data": {
      "text/html": [
       "<div>\n",
       "<style scoped>\n",
       "    .dataframe tbody tr th:only-of-type {\n",
       "        vertical-align: middle;\n",
       "    }\n",
       "\n",
       "    .dataframe tbody tr th {\n",
       "        vertical-align: top;\n",
       "    }\n",
       "\n",
       "    .dataframe thead tr th {\n",
       "        text-align: left;\n",
       "    }\n",
       "</style>\n",
       "<table border=\"1\" class=\"dataframe\">\n",
       "  <thead>\n",
       "    <tr>\n",
       "      <th></th>\n",
       "      <th>genre</th>\n",
       "      <th colspan=\"2\" halign=\"left\">sales_sum</th>\n",
       "    </tr>\n",
       "    <tr>\n",
       "      <th></th>\n",
       "      <th></th>\n",
       "      <th>mean</th>\n",
       "      <th>median</th>\n",
       "    </tr>\n",
       "  </thead>\n",
       "  <tbody>\n",
       "    <tr>\n",
       "      <th>4</th>\n",
       "      <td>Platform</td>\n",
       "      <td>0.932173</td>\n",
       "      <td>0.27</td>\n",
       "    </tr>\n",
       "    <tr>\n",
       "      <th>8</th>\n",
       "      <td>Shooter</td>\n",
       "      <td>0.795503</td>\n",
       "      <td>0.24</td>\n",
       "    </tr>\n",
       "    <tr>\n",
       "      <th>7</th>\n",
       "      <td>Role-Playing</td>\n",
       "      <td>0.623872</td>\n",
       "      <td>0.18</td>\n",
       "    </tr>\n",
       "    <tr>\n",
       "      <th>6</th>\n",
       "      <td>Racing</td>\n",
       "      <td>0.583403</td>\n",
       "      <td>0.19</td>\n",
       "    </tr>\n",
       "    <tr>\n",
       "      <th>10</th>\n",
       "      <td>Sports</td>\n",
       "      <td>0.566980</td>\n",
       "      <td>0.22</td>\n",
       "    </tr>\n",
       "    <tr>\n",
       "      <th>2</th>\n",
       "      <td>Fighting</td>\n",
       "      <td>0.527126</td>\n",
       "      <td>0.21</td>\n",
       "    </tr>\n",
       "    <tr>\n",
       "      <th>0</th>\n",
       "      <td>Action</td>\n",
       "      <td>0.517711</td>\n",
       "      <td>0.19</td>\n",
       "    </tr>\n",
       "    <tr>\n",
       "      <th>3</th>\n",
       "      <td>Misc</td>\n",
       "      <td>0.458577</td>\n",
       "      <td>0.16</td>\n",
       "    </tr>\n",
       "    <tr>\n",
       "      <th>9</th>\n",
       "      <td>Simulation</td>\n",
       "      <td>0.446701</td>\n",
       "      <td>0.15</td>\n",
       "    </tr>\n",
       "    <tr>\n",
       "      <th>5</th>\n",
       "      <td>Puzzle</td>\n",
       "      <td>0.418224</td>\n",
       "      <td>0.11</td>\n",
       "    </tr>\n",
       "    <tr>\n",
       "      <th>11</th>\n",
       "      <td>Strategy</td>\n",
       "      <td>0.255095</td>\n",
       "      <td>0.10</td>\n",
       "    </tr>\n",
       "    <tr>\n",
       "      <th>1</th>\n",
       "      <td>Adventure</td>\n",
       "      <td>0.182341</td>\n",
       "      <td>0.05</td>\n",
       "    </tr>\n",
       "  </tbody>\n",
       "</table>\n",
       "</div>"
      ],
      "text/plain": [
       "           genre sales_sum       \n",
       "                      mean median\n",
       "4       Platform  0.932173   0.27\n",
       "8        Shooter  0.795503   0.24\n",
       "7   Role-Playing  0.623872   0.18\n",
       "6         Racing  0.583403   0.19\n",
       "10        Sports  0.566980   0.22\n",
       "2       Fighting  0.527126   0.21\n",
       "0         Action  0.517711   0.19\n",
       "3           Misc  0.458577   0.16\n",
       "9     Simulation  0.446701   0.15\n",
       "5         Puzzle  0.418224   0.11\n",
       "11      Strategy  0.255095   0.10\n",
       "1      Adventure  0.182341   0.05"
      ]
     },
     "metadata": {},
     "output_type": "display_data"
    },
    {
     "data": {
      "text/html": [
       "<div>\n",
       "<style scoped>\n",
       "    .dataframe tbody tr th:only-of-type {\n",
       "        vertical-align: middle;\n",
       "    }\n",
       "\n",
       "    .dataframe tbody tr th {\n",
       "        vertical-align: top;\n",
       "    }\n",
       "\n",
       "    .dataframe thead tr th {\n",
       "        text-align: left;\n",
       "    }\n",
       "</style>\n",
       "<table border=\"1\" class=\"dataframe\">\n",
       "  <thead>\n",
       "    <tr>\n",
       "      <th></th>\n",
       "      <th>genre</th>\n",
       "      <th colspan=\"2\" halign=\"left\">sales_sum</th>\n",
       "    </tr>\n",
       "    <tr>\n",
       "      <th></th>\n",
       "      <th></th>\n",
       "      <th>mean</th>\n",
       "      <th>median</th>\n",
       "    </tr>\n",
       "  </thead>\n",
       "  <tbody>\n",
       "    <tr>\n",
       "      <th>4</th>\n",
       "      <td>Platform</td>\n",
       "      <td>0.932173</td>\n",
       "      <td>0.27</td>\n",
       "    </tr>\n",
       "    <tr>\n",
       "      <th>8</th>\n",
       "      <td>Shooter</td>\n",
       "      <td>0.795503</td>\n",
       "      <td>0.24</td>\n",
       "    </tr>\n",
       "    <tr>\n",
       "      <th>10</th>\n",
       "      <td>Sports</td>\n",
       "      <td>0.566980</td>\n",
       "      <td>0.22</td>\n",
       "    </tr>\n",
       "    <tr>\n",
       "      <th>2</th>\n",
       "      <td>Fighting</td>\n",
       "      <td>0.527126</td>\n",
       "      <td>0.21</td>\n",
       "    </tr>\n",
       "    <tr>\n",
       "      <th>0</th>\n",
       "      <td>Action</td>\n",
       "      <td>0.517711</td>\n",
       "      <td>0.19</td>\n",
       "    </tr>\n",
       "    <tr>\n",
       "      <th>6</th>\n",
       "      <td>Racing</td>\n",
       "      <td>0.583403</td>\n",
       "      <td>0.19</td>\n",
       "    </tr>\n",
       "    <tr>\n",
       "      <th>7</th>\n",
       "      <td>Role-Playing</td>\n",
       "      <td>0.623872</td>\n",
       "      <td>0.18</td>\n",
       "    </tr>\n",
       "    <tr>\n",
       "      <th>3</th>\n",
       "      <td>Misc</td>\n",
       "      <td>0.458577</td>\n",
       "      <td>0.16</td>\n",
       "    </tr>\n",
       "    <tr>\n",
       "      <th>9</th>\n",
       "      <td>Simulation</td>\n",
       "      <td>0.446701</td>\n",
       "      <td>0.15</td>\n",
       "    </tr>\n",
       "    <tr>\n",
       "      <th>5</th>\n",
       "      <td>Puzzle</td>\n",
       "      <td>0.418224</td>\n",
       "      <td>0.11</td>\n",
       "    </tr>\n",
       "    <tr>\n",
       "      <th>11</th>\n",
       "      <td>Strategy</td>\n",
       "      <td>0.255095</td>\n",
       "      <td>0.10</td>\n",
       "    </tr>\n",
       "    <tr>\n",
       "      <th>1</th>\n",
       "      <td>Adventure</td>\n",
       "      <td>0.182341</td>\n",
       "      <td>0.05</td>\n",
       "    </tr>\n",
       "  </tbody>\n",
       "</table>\n",
       "</div>"
      ],
      "text/plain": [
       "           genre sales_sum       \n",
       "                      mean median\n",
       "4       Platform  0.932173   0.27\n",
       "8        Shooter  0.795503   0.24\n",
       "10        Sports  0.566980   0.22\n",
       "2       Fighting  0.527126   0.21\n",
       "0         Action  0.517711   0.19\n",
       "6         Racing  0.583403   0.19\n",
       "7   Role-Playing  0.623872   0.18\n",
       "3           Misc  0.458577   0.16\n",
       "9     Simulation  0.446701   0.15\n",
       "5         Puzzle  0.418224   0.11\n",
       "11      Strategy  0.255095   0.10\n",
       "1      Adventure  0.182341   0.05"
      ]
     },
     "metadata": {},
     "output_type": "display_data"
    }
   ],
   "source": [
    "data_genre_sales_sum = data.groupby(by = ['genre'], as_index=False).agg({'sales_sum':['mean', 'median']})\n",
    "data_sort_mean = data_genre_sales_sum.sort_values(by = ('sales_sum',   'mean'), ascending=False)\n",
    "data_sort_median = data_genre_sales_sum.sort_values(by = ('sales_sum', 'median'), ascending=False)\n",
    "display(data_sort_mean)\n",
    "display(data_sort_median)"
   ]
  },
  {
   "cell_type": "code",
   "execution_count": 663,
   "metadata": {},
   "outputs": [
    {
     "data": {
      "image/png": "[encoded data removed]",
      "text/plain": [
       "<Figure size 432x288 with 1 Axes>"
      ]
     },
     "metadata": {
      "needs_background": "light"
     },
     "output_type": "display_data"
    }
   ],
   "source": [
    "data_sales_sum_genre = sns.barplot(x='genre', y=('sales_sum',   'mean'), data = data_sort_mean)\n",
    "plt.xlabel('Название жанра')\n",
    "plt.ylabel('Средние суммарные продажи(млн шт.)')\n",
    "plt.title('Средние суммарные продажи игр по жанрам')\n",
    "plt.xticks(rotation = 90)\n",
    "plt.show()"
   ]
  },
  {
   "cell_type": "code",
   "execution_count": 664,
   "metadata": {},
   "outputs": [
    {
     "data": {
      "image/png": "[encoded data removed]",
      "text/plain": [
       "<Figure size 432x288 with 1 Axes>"
      ]
     },
     "metadata": {
      "needs_background": "light"
     },
     "output_type": "display_data"
    }
   ],
   "source": [
    "data_sales_sum_genre = sns.barplot(x='genre', y=('sales_sum', 'median'), data = data_sort_median)\n",
    "plt.xlabel('Название жанра')\n",
    "plt.ylabel('Медианные суммарные продажи(млн шт.)')\n",
    "plt.title('Медианные суммарные продажи игр по жанрам')\n",
    "plt.xticks(rotation = 90)\n",
    "plt.show()"
   ]
  },
  {
   "cell_type": "markdown",
   "metadata": {},
   "source": [
    "По жанрам можно сказать следующее: жанр \"Platform\" и \"Shooter\" выделяются среди других жанров, по ним самые высокие продажи как средние так и медианные. Последние 5 жанров также совпадают, находятся на одном месте. Самые низкие продажи у жанра \"Adventure\", по сравнению в самыми высокими продажами ниже в 5,5 раз."
   ]
  },
  {
   "cell_type": "markdown",
   "metadata": {},
   "source": [
    "## Портрет пользователя каждого региона"
   ]
  },
  {
   "cell_type": "markdown",
   "metadata": {},
   "source": [
    "Самые популярные платформы (топ-5):"
   ]
  },
  {
   "cell_type": "code",
   "execution_count": 665,
   "metadata": {},
   "outputs": [
    {
     "data": {
      "text/html": [
       "<div>\n",
       "<style scoped>\n",
       "    .dataframe tbody tr th:only-of-type {\n",
       "        vertical-align: middle;\n",
       "    }\n",
       "\n",
       "    .dataframe tbody tr th {\n",
       "        vertical-align: top;\n",
       "    }\n",
       "\n",
       "    .dataframe thead th {\n",
       "        text-align: right;\n",
       "    }\n",
       "</style>\n",
       "<table border=\"1\" class=\"dataframe\">\n",
       "  <thead>\n",
       "    <tr style=\"text-align: right;\">\n",
       "      <th></th>\n",
       "      <th>platform</th>\n",
       "      <th>genre</th>\n",
       "      <th>na_sales</th>\n",
       "      <th>eu_sales</th>\n",
       "      <th>jp_sales</th>\n",
       "      <th>rating</th>\n",
       "    </tr>\n",
       "  </thead>\n",
       "  <tbody>\n",
       "    <tr>\n",
       "      <th>16</th>\n",
       "      <td>PS3</td>\n",
       "      <td>Action</td>\n",
       "      <td>7.02</td>\n",
       "      <td>9.09</td>\n",
       "      <td>0.98</td>\n",
       "      <td>M</td>\n",
       "    </tr>\n",
       "    <tr>\n",
       "      <th>23</th>\n",
       "      <td>X360</td>\n",
       "      <td>Action</td>\n",
       "      <td>9.66</td>\n",
       "      <td>5.14</td>\n",
       "      <td>0.06</td>\n",
       "      <td>M</td>\n",
       "    </tr>\n",
       "    <tr>\n",
       "      <th>31</th>\n",
       "      <td>PS4</td>\n",
       "      <td>Shooter</td>\n",
       "      <td>6.03</td>\n",
       "      <td>5.86</td>\n",
       "      <td>0.36</td>\n",
       "      <td>RP</td>\n",
       "    </tr>\n",
       "    <tr>\n",
       "      <th>33</th>\n",
       "      <td>3DS</td>\n",
       "      <td>Role-Playing</td>\n",
       "      <td>5.28</td>\n",
       "      <td>4.19</td>\n",
       "      <td>4.35</td>\n",
       "      <td>RP</td>\n",
       "    </tr>\n",
       "    <tr>\n",
       "      <th>42</th>\n",
       "      <td>PS4</td>\n",
       "      <td>Action</td>\n",
       "      <td>3.96</td>\n",
       "      <td>6.31</td>\n",
       "      <td>0.38</td>\n",
       "      <td>M</td>\n",
       "    </tr>\n",
       "    <tr>\n",
       "      <th>...</th>\n",
       "      <td>...</td>\n",
       "      <td>...</td>\n",
       "      <td>...</td>\n",
       "      <td>...</td>\n",
       "      <td>...</td>\n",
       "      <td>...</td>\n",
       "    </tr>\n",
       "    <tr>\n",
       "      <th>16701</th>\n",
       "      <td>PSV</td>\n",
       "      <td>Adventure</td>\n",
       "      <td>0.00</td>\n",
       "      <td>0.00</td>\n",
       "      <td>0.01</td>\n",
       "      <td>RP</td>\n",
       "    </tr>\n",
       "    <tr>\n",
       "      <th>16705</th>\n",
       "      <td>PSV</td>\n",
       "      <td>Misc</td>\n",
       "      <td>0.00</td>\n",
       "      <td>0.00</td>\n",
       "      <td>0.01</td>\n",
       "      <td>RP</td>\n",
       "    </tr>\n",
       "    <tr>\n",
       "      <th>16708</th>\n",
       "      <td>PS3</td>\n",
       "      <td>Action</td>\n",
       "      <td>0.00</td>\n",
       "      <td>0.00</td>\n",
       "      <td>0.01</td>\n",
       "      <td>RP</td>\n",
       "    </tr>\n",
       "    <tr>\n",
       "      <th>16710</th>\n",
       "      <td>PSV</td>\n",
       "      <td>Adventure</td>\n",
       "      <td>0.00</td>\n",
       "      <td>0.00</td>\n",
       "      <td>0.01</td>\n",
       "      <td>RP</td>\n",
       "    </tr>\n",
       "    <tr>\n",
       "      <th>16712</th>\n",
       "      <td>PSV</td>\n",
       "      <td>Simulation</td>\n",
       "      <td>0.00</td>\n",
       "      <td>0.00</td>\n",
       "      <td>0.01</td>\n",
       "      <td>RP</td>\n",
       "    </tr>\n",
       "  </tbody>\n",
       "</table>\n",
       "<p>2233 rows × 6 columns</p>\n",
       "</div>"
      ],
      "text/plain": [
       "      platform         genre  na_sales  eu_sales  jp_sales rating\n",
       "16         PS3        Action      7.02      9.09      0.98      M\n",
       "23        X360        Action      9.66      5.14      0.06      M\n",
       "31         PS4       Shooter      6.03      5.86      0.36     RP\n",
       "33         3DS  Role-Playing      5.28      4.19      4.35     RP\n",
       "42         PS4        Action      3.96      6.31      0.38      M\n",
       "...        ...           ...       ...       ...       ...    ...\n",
       "16701      PSV     Adventure      0.00      0.00      0.01     RP\n",
       "16705      PSV          Misc      0.00      0.00      0.01     RP\n",
       "16708      PS3        Action      0.00      0.00      0.01     RP\n",
       "16710      PSV     Adventure      0.00      0.00      0.01     RP\n",
       "16712      PSV    Simulation      0.00      0.00      0.01     RP\n",
       "\n",
       "[2233 rows x 6 columns]"
      ]
     },
     "execution_count": 665,
     "metadata": {},
     "output_type": "execute_result"
    }
   ],
   "source": [
    "data_actual_period = data.query('year_of_release == @current_period')\n",
    "data_rating = data_actual_period[['platform', 'genre', 'na_sales', 'eu_sales', 'jp_sales', 'rating']]\n",
    "data_rating"
   ]
  },
  {
   "cell_type": "markdown",
   "metadata": {},
   "source": [
    "Начнем с Северной Америки:"
   ]
  },
  {
   "cell_type": "code",
   "execution_count": 666,
   "metadata": {},
   "outputs": [
    {
     "data": {
      "text/html": [
       "<div>\n",
       "<style scoped>\n",
       "    .dataframe tbody tr th:only-of-type {\n",
       "        vertical-align: middle;\n",
       "    }\n",
       "\n",
       "    .dataframe tbody tr th {\n",
       "        vertical-align: top;\n",
       "    }\n",
       "\n",
       "    .dataframe thead th {\n",
       "        text-align: right;\n",
       "    }\n",
       "</style>\n",
       "<table border=\"1\" class=\"dataframe\">\n",
       "  <thead>\n",
       "    <tr style=\"text-align: right;\">\n",
       "      <th></th>\n",
       "      <th>platform</th>\n",
       "      <th>na_sales</th>\n",
       "      <th>share_of_sales</th>\n",
       "    </tr>\n",
       "  </thead>\n",
       "  <tbody>\n",
       "    <tr>\n",
       "      <th>4</th>\n",
       "      <td>PS4</td>\n",
       "      <td>108.74</td>\n",
       "      <td>9.885455</td>\n",
       "    </tr>\n",
       "    <tr>\n",
       "      <th>10</th>\n",
       "      <td>XOne</td>\n",
       "      <td>93.12</td>\n",
       "      <td>8.465455</td>\n",
       "    </tr>\n",
       "    <tr>\n",
       "      <th>9</th>\n",
       "      <td>X360</td>\n",
       "      <td>81.66</td>\n",
       "      <td>7.423636</td>\n",
       "    </tr>\n",
       "    <tr>\n",
       "      <th>3</th>\n",
       "      <td>PS3</td>\n",
       "      <td>63.50</td>\n",
       "      <td>5.772727</td>\n",
       "    </tr>\n",
       "    <tr>\n",
       "      <th>0</th>\n",
       "      <td>3DS</td>\n",
       "      <td>38.20</td>\n",
       "      <td>3.472727</td>\n",
       "    </tr>\n",
       "    <tr>\n",
       "      <th>8</th>\n",
       "      <td>WiiU</td>\n",
       "      <td>29.21</td>\n",
       "      <td>2.655455</td>\n",
       "    </tr>\n",
       "    <tr>\n",
       "      <th>2</th>\n",
       "      <td>PC</td>\n",
       "      <td>11.11</td>\n",
       "      <td>1.010000</td>\n",
       "    </tr>\n",
       "    <tr>\n",
       "      <th>7</th>\n",
       "      <td>Wii</td>\n",
       "      <td>6.56</td>\n",
       "      <td>0.596364</td>\n",
       "    </tr>\n",
       "    <tr>\n",
       "      <th>6</th>\n",
       "      <td>PSV</td>\n",
       "      <td>5.04</td>\n",
       "      <td>0.458182</td>\n",
       "    </tr>\n",
       "    <tr>\n",
       "      <th>1</th>\n",
       "      <td>DS</td>\n",
       "      <td>0.57</td>\n",
       "      <td>0.051818</td>\n",
       "    </tr>\n",
       "    <tr>\n",
       "      <th>5</th>\n",
       "      <td>PSP</td>\n",
       "      <td>0.00</td>\n",
       "      <td>0.000000</td>\n",
       "    </tr>\n",
       "  </tbody>\n",
       "</table>\n",
       "</div>"
      ],
      "text/plain": [
       "   platform  na_sales  share_of_sales\n",
       "4       PS4    108.74        9.885455\n",
       "10     XOne     93.12        8.465455\n",
       "9      X360     81.66        7.423636\n",
       "3       PS3     63.50        5.772727\n",
       "0       3DS     38.20        3.472727\n",
       "8      WiiU     29.21        2.655455\n",
       "2        PC     11.11        1.010000\n",
       "7       Wii      6.56        0.596364\n",
       "6       PSV      5.04        0.458182\n",
       "1        DS      0.57        0.051818\n",
       "5       PSP      0.00        0.000000"
      ]
     },
     "execution_count": 666,
     "metadata": {},
     "output_type": "execute_result"
    }
   ],
   "source": [
    "data_platform_na = data_rating.groupby(by = ['platform'], as_index=False)['na_sales'].sum()\n",
    "data_platform_na = data_platform_na.sort_values(by = 'na_sales', ascending=False)\n",
    "data_platform_na['share_of_sales'] = data_platform_na['na_sales'] / len(data_platform_na)\n",
    "data_platform_na"
   ]
  },
  {
   "cell_type": "code",
   "execution_count": 667,
   "metadata": {},
   "outputs": [
    {
     "data": {
      "text/plain": [
       "<AxesSubplot:xlabel='platform', ylabel='share_of_sales'>"
      ]
     },
     "execution_count": 667,
     "metadata": {},
     "output_type": "execute_result"
    },
    {
     "data": {
      "image/png": "[encoded data removed]",
      "text/plain": [
       "<Figure size 432x288 with 1 Axes>"
      ]
     },
     "metadata": {
      "needs_background": "light"
     },
     "output_type": "display_data"
    }
   ],
   "source": [
    "sns.barplot(x = 'platform', y = 'share_of_sales', data = data_platform_na)"
   ]
  },
  {
   "cell_type": "markdown",
   "metadata": {},
   "source": [
    "Я бы даже выбрала топ-4 платформы именно по продажам в Северной Америке, это видно по доле продаж в таблице. Потому что уже с 5-ой позиции процент меньше больше чем в 2 раза."
   ]
  },
  {
   "cell_type": "markdown",
   "metadata": {},
   "source": [
    "Далее рассмотрим Европу:"
   ]
  },
  {
   "cell_type": "code",
   "execution_count": 668,
   "metadata": {},
   "outputs": [
    {
     "data": {
      "text/html": [
       "<div>\n",
       "<style scoped>\n",
       "    .dataframe tbody tr th:only-of-type {\n",
       "        vertical-align: middle;\n",
       "    }\n",
       "\n",
       "    .dataframe tbody tr th {\n",
       "        vertical-align: top;\n",
       "    }\n",
       "\n",
       "    .dataframe thead th {\n",
       "        text-align: right;\n",
       "    }\n",
       "</style>\n",
       "<table border=\"1\" class=\"dataframe\">\n",
       "  <thead>\n",
       "    <tr style=\"text-align: right;\">\n",
       "      <th></th>\n",
       "      <th>platform</th>\n",
       "      <th>eu_sales</th>\n",
       "      <th>share_of_sales</th>\n",
       "    </tr>\n",
       "  </thead>\n",
       "  <tbody>\n",
       "    <tr>\n",
       "      <th>4</th>\n",
       "      <td>PS4</td>\n",
       "      <td>141.09</td>\n",
       "      <td>12.826364</td>\n",
       "    </tr>\n",
       "    <tr>\n",
       "      <th>3</th>\n",
       "      <td>PS3</td>\n",
       "      <td>67.81</td>\n",
       "      <td>6.164545</td>\n",
       "    </tr>\n",
       "    <tr>\n",
       "      <th>10</th>\n",
       "      <td>XOne</td>\n",
       "      <td>51.59</td>\n",
       "      <td>4.690000</td>\n",
       "    </tr>\n",
       "    <tr>\n",
       "      <th>9</th>\n",
       "      <td>X360</td>\n",
       "      <td>42.52</td>\n",
       "      <td>3.865455</td>\n",
       "    </tr>\n",
       "    <tr>\n",
       "      <th>0</th>\n",
       "      <td>3DS</td>\n",
       "      <td>30.96</td>\n",
       "      <td>2.814545</td>\n",
       "    </tr>\n",
       "    <tr>\n",
       "      <th>2</th>\n",
       "      <td>PC</td>\n",
       "      <td>25.36</td>\n",
       "      <td>2.305455</td>\n",
       "    </tr>\n",
       "    <tr>\n",
       "      <th>8</th>\n",
       "      <td>WiiU</td>\n",
       "      <td>19.85</td>\n",
       "      <td>1.804545</td>\n",
       "    </tr>\n",
       "    <tr>\n",
       "      <th>6</th>\n",
       "      <td>PSV</td>\n",
       "      <td>6.10</td>\n",
       "      <td>0.554545</td>\n",
       "    </tr>\n",
       "    <tr>\n",
       "      <th>7</th>\n",
       "      <td>Wii</td>\n",
       "      <td>5.93</td>\n",
       "      <td>0.539091</td>\n",
       "    </tr>\n",
       "    <tr>\n",
       "      <th>1</th>\n",
       "      <td>DS</td>\n",
       "      <td>0.85</td>\n",
       "      <td>0.077273</td>\n",
       "    </tr>\n",
       "    <tr>\n",
       "      <th>5</th>\n",
       "      <td>PSP</td>\n",
       "      <td>0.17</td>\n",
       "      <td>0.015455</td>\n",
       "    </tr>\n",
       "  </tbody>\n",
       "</table>\n",
       "</div>"
      ],
      "text/plain": [
       "   platform  eu_sales  share_of_sales\n",
       "4       PS4    141.09       12.826364\n",
       "3       PS3     67.81        6.164545\n",
       "10     XOne     51.59        4.690000\n",
       "9      X360     42.52        3.865455\n",
       "0       3DS     30.96        2.814545\n",
       "2        PC     25.36        2.305455\n",
       "8      WiiU     19.85        1.804545\n",
       "6       PSV      6.10        0.554545\n",
       "7       Wii      5.93        0.539091\n",
       "1        DS      0.85        0.077273\n",
       "5       PSP      0.17        0.015455"
      ]
     },
     "execution_count": 668,
     "metadata": {},
     "output_type": "execute_result"
    }
   ],
   "source": [
    "data_platform_eu = data_rating.groupby(by = ['platform'], as_index=False)['eu_sales'].sum()\n",
    "data_platform_eu = data_platform_eu.sort_values(by = 'eu_sales', ascending=False)\n",
    "data_platform_eu['share_of_sales'] = data_platform_eu['eu_sales'] / len(data_platform_eu)\n",
    "data_platform_eu"
   ]
  },
  {
   "cell_type": "code",
   "execution_count": 669,
   "metadata": {},
   "outputs": [
    {
     "data": {
      "text/plain": [
       "<AxesSubplot:xlabel='platform', ylabel='share_of_sales'>"
      ]
     },
     "execution_count": 669,
     "metadata": {},
     "output_type": "execute_result"
    },
    {
     "data": {
      "image/png": "[encoded data removed]",
      "text/plain": [
       "<Figure size 432x288 with 1 Axes>"
      ]
     },
     "metadata": {
      "needs_background": "light"
     },
     "output_type": "display_data"
    }
   ],
   "source": [
    "sns.barplot(x = 'platform', y = 'share_of_sales', data = data_platform_eu)"
   ]
  },
  {
   "cell_type": "markdown",
   "metadata": {},
   "source": [
    "По продажам в Европе видно, что первые позиция явно лидирует, следующая позиция сокращается уже в 2 раза. Но в таблице видно топ-5."
   ]
  },
  {
   "cell_type": "markdown",
   "metadata": {},
   "source": [
    "И наконец Япония:"
   ]
  },
  {
   "cell_type": "code",
   "execution_count": 670,
   "metadata": {},
   "outputs": [
    {
     "data": {
      "text/html": [
       "<div>\n",
       "<style scoped>\n",
       "    .dataframe tbody tr th:only-of-type {\n",
       "        vertical-align: middle;\n",
       "    }\n",
       "\n",
       "    .dataframe tbody tr th {\n",
       "        vertical-align: top;\n",
       "    }\n",
       "\n",
       "    .dataframe thead th {\n",
       "        text-align: right;\n",
       "    }\n",
       "</style>\n",
       "<table border=\"1\" class=\"dataframe\">\n",
       "  <thead>\n",
       "    <tr style=\"text-align: right;\">\n",
       "      <th></th>\n",
       "      <th>platform</th>\n",
       "      <th>jp_sales</th>\n",
       "      <th>share_of_sales</th>\n",
       "    </tr>\n",
       "  </thead>\n",
       "  <tbody>\n",
       "    <tr>\n",
       "      <th>0</th>\n",
       "      <td>3DS</td>\n",
       "      <td>67.81</td>\n",
       "      <td>6.164545</td>\n",
       "    </tr>\n",
       "    <tr>\n",
       "      <th>3</th>\n",
       "      <td>PS3</td>\n",
       "      <td>23.35</td>\n",
       "      <td>2.122727</td>\n",
       "    </tr>\n",
       "    <tr>\n",
       "      <th>6</th>\n",
       "      <td>PSV</td>\n",
       "      <td>18.59</td>\n",
       "      <td>1.690000</td>\n",
       "    </tr>\n",
       "    <tr>\n",
       "      <th>4</th>\n",
       "      <td>PS4</td>\n",
       "      <td>15.96</td>\n",
       "      <td>1.450909</td>\n",
       "    </tr>\n",
       "    <tr>\n",
       "      <th>8</th>\n",
       "      <td>WiiU</td>\n",
       "      <td>10.88</td>\n",
       "      <td>0.989091</td>\n",
       "    </tr>\n",
       "    <tr>\n",
       "      <th>5</th>\n",
       "      <td>PSP</td>\n",
       "      <td>3.29</td>\n",
       "      <td>0.299091</td>\n",
       "    </tr>\n",
       "    <tr>\n",
       "      <th>9</th>\n",
       "      <td>X360</td>\n",
       "      <td>0.51</td>\n",
       "      <td>0.046364</td>\n",
       "    </tr>\n",
       "    <tr>\n",
       "      <th>10</th>\n",
       "      <td>XOne</td>\n",
       "      <td>0.34</td>\n",
       "      <td>0.030909</td>\n",
       "    </tr>\n",
       "    <tr>\n",
       "      <th>7</th>\n",
       "      <td>Wii</td>\n",
       "      <td>0.05</td>\n",
       "      <td>0.004545</td>\n",
       "    </tr>\n",
       "    <tr>\n",
       "      <th>1</th>\n",
       "      <td>DS</td>\n",
       "      <td>0.00</td>\n",
       "      <td>0.000000</td>\n",
       "    </tr>\n",
       "    <tr>\n",
       "      <th>2</th>\n",
       "      <td>PC</td>\n",
       "      <td>0.00</td>\n",
       "      <td>0.000000</td>\n",
       "    </tr>\n",
       "  </tbody>\n",
       "</table>\n",
       "</div>"
      ],
      "text/plain": [
       "   platform  jp_sales  share_of_sales\n",
       "0       3DS     67.81        6.164545\n",
       "3       PS3     23.35        2.122727\n",
       "6       PSV     18.59        1.690000\n",
       "4       PS4     15.96        1.450909\n",
       "8      WiiU     10.88        0.989091\n",
       "5       PSP      3.29        0.299091\n",
       "9      X360      0.51        0.046364\n",
       "10     XOne      0.34        0.030909\n",
       "7       Wii      0.05        0.004545\n",
       "1        DS      0.00        0.000000\n",
       "2        PC      0.00        0.000000"
      ]
     },
     "execution_count": 670,
     "metadata": {},
     "output_type": "execute_result"
    }
   ],
   "source": [
    "data_platform_jp = data_rating.groupby(by = ['platform'], as_index=False)['jp_sales'].sum()\n",
    "data_platform_jp = data_platform_jp.sort_values(by = 'jp_sales', ascending=False)\n",
    "data_platform_jp['share_of_sales'] = data_platform_jp['jp_sales'] / len(data_platform_jp)\n",
    "data_platform_jp"
   ]
  },
  {
   "cell_type": "code",
   "execution_count": 671,
   "metadata": {},
   "outputs": [
    {
     "data": {
      "text/plain": [
       "<AxesSubplot:xlabel='platform', ylabel='share_of_sales'>"
      ]
     },
     "execution_count": 671,
     "metadata": {},
     "output_type": "execute_result"
    },
    {
     "data": {
      "image/png": "[encoded data removed]",
      "text/plain": [
       "<Figure size 432x288 with 1 Axes>"
      ]
     },
     "metadata": {
      "needs_background": "light"
     },
     "output_type": "display_data"
    }
   ],
   "source": [
    "sns.barplot(x = 'platform', y = 'share_of_sales', data = data_platform_jp)"
   ]
  },
  {
   "cell_type": "markdown",
   "metadata": {},
   "source": [
    "В Японии заметно, что первая позиция лидирует, следующая уже в 3 раза меньше, далее почти все платформы находяться на одном уровне по продажам. Некоторых платформ вообще не наблюдается."
   ]
  },
  {
   "cell_type": "markdown",
   "metadata": {},
   "source": [
    "Общий вывод можно сделать такой, что во всех трех регионах на лидирующих позициях стоят такие платформы как \"PS3\" и \"PS4\"."
   ]
  },
  {
   "cell_type": "markdown",
   "metadata": {},
   "source": [
    "Самые популярные жанры (топ-5):"
   ]
  },
  {
   "cell_type": "markdown",
   "metadata": {},
   "source": [
    "Начнем с Северной Америки:"
   ]
  },
  {
   "cell_type": "code",
   "execution_count": 672,
   "metadata": {},
   "outputs": [
    {
     "data": {
      "text/html": [
       "<div>\n",
       "<style scoped>\n",
       "    .dataframe tbody tr th:only-of-type {\n",
       "        vertical-align: middle;\n",
       "    }\n",
       "\n",
       "    .dataframe tbody tr th {\n",
       "        vertical-align: top;\n",
       "    }\n",
       "\n",
       "    .dataframe thead th {\n",
       "        text-align: right;\n",
       "    }\n",
       "</style>\n",
       "<table border=\"1\" class=\"dataframe\">\n",
       "  <thead>\n",
       "    <tr style=\"text-align: right;\">\n",
       "      <th></th>\n",
       "      <th>genre</th>\n",
       "      <th>na_sales</th>\n",
       "      <th>share_of_sales</th>\n",
       "    </tr>\n",
       "  </thead>\n",
       "  <tbody>\n",
       "    <tr>\n",
       "      <th>0</th>\n",
       "      <td>Action</td>\n",
       "      <td>126.05</td>\n",
       "      <td>10.504167</td>\n",
       "    </tr>\n",
       "    <tr>\n",
       "      <th>8</th>\n",
       "      <td>Shooter</td>\n",
       "      <td>109.74</td>\n",
       "      <td>9.145000</td>\n",
       "    </tr>\n",
       "    <tr>\n",
       "      <th>10</th>\n",
       "      <td>Sports</td>\n",
       "      <td>65.27</td>\n",
       "      <td>5.439167</td>\n",
       "    </tr>\n",
       "    <tr>\n",
       "      <th>7</th>\n",
       "      <td>Role-Playing</td>\n",
       "      <td>46.40</td>\n",
       "      <td>3.866667</td>\n",
       "    </tr>\n",
       "    <tr>\n",
       "      <th>3</th>\n",
       "      <td>Misc</td>\n",
       "      <td>27.49</td>\n",
       "      <td>2.290833</td>\n",
       "    </tr>\n",
       "    <tr>\n",
       "      <th>4</th>\n",
       "      <td>Platform</td>\n",
       "      <td>18.14</td>\n",
       "      <td>1.511667</td>\n",
       "    </tr>\n",
       "    <tr>\n",
       "      <th>2</th>\n",
       "      <td>Fighting</td>\n",
       "      <td>15.55</td>\n",
       "      <td>1.295833</td>\n",
       "    </tr>\n",
       "    <tr>\n",
       "      <th>6</th>\n",
       "      <td>Racing</td>\n",
       "      <td>12.96</td>\n",
       "      <td>1.080000</td>\n",
       "    </tr>\n",
       "    <tr>\n",
       "      <th>1</th>\n",
       "      <td>Adventure</td>\n",
       "      <td>7.14</td>\n",
       "      <td>0.595000</td>\n",
       "    </tr>\n",
       "    <tr>\n",
       "      <th>9</th>\n",
       "      <td>Simulation</td>\n",
       "      <td>4.86</td>\n",
       "      <td>0.405000</td>\n",
       "    </tr>\n",
       "    <tr>\n",
       "      <th>11</th>\n",
       "      <td>Strategy</td>\n",
       "      <td>3.28</td>\n",
       "      <td>0.273333</td>\n",
       "    </tr>\n",
       "    <tr>\n",
       "      <th>5</th>\n",
       "      <td>Puzzle</td>\n",
       "      <td>0.83</td>\n",
       "      <td>0.069167</td>\n",
       "    </tr>\n",
       "  </tbody>\n",
       "</table>\n",
       "</div>"
      ],
      "text/plain": [
       "           genre  na_sales  share_of_sales\n",
       "0         Action    126.05       10.504167\n",
       "8        Shooter    109.74        9.145000\n",
       "10        Sports     65.27        5.439167\n",
       "7   Role-Playing     46.40        3.866667\n",
       "3           Misc     27.49        2.290833\n",
       "4       Platform     18.14        1.511667\n",
       "2       Fighting     15.55        1.295833\n",
       "6         Racing     12.96        1.080000\n",
       "1      Adventure      7.14        0.595000\n",
       "9     Simulation      4.86        0.405000\n",
       "11      Strategy      3.28        0.273333\n",
       "5         Puzzle      0.83        0.069167"
      ]
     },
     "execution_count": 672,
     "metadata": {},
     "output_type": "execute_result"
    }
   ],
   "source": [
    "data_genre_na = data_rating.groupby(by = ['genre'], as_index=False)['na_sales'].sum()\n",
    "data_genre_na = data_genre_na.sort_values(by = 'na_sales', ascending=False)\n",
    "data_genre_na['share_of_sales'] = data_genre_na['na_sales'] / len(data_genre_na)\n",
    "data_genre_na"
   ]
  },
  {
   "cell_type": "code",
   "execution_count": 673,
   "metadata": {},
   "outputs": [
    {
     "data": {
      "image/png": "[encoded data removed]",
      "text/plain": [
       "<Figure size 432x288 with 1 Axes>"
      ]
     },
     "metadata": {
      "needs_background": "light"
     },
     "output_type": "display_data"
    }
   ],
   "source": [
    "sns.barplot(x = 'genre', y = 'share_of_sales', data = data_genre_na)\n",
    "plt.xticks(rotation = 90)\n",
    "plt.show()"
   ]
  },
  {
   "cell_type": "markdown",
   "metadata": {},
   "source": [
    "Здесь видим, что первые две позиции лидируют, 3-я позиция уже в 2 раза меньше, а 5-я позиция почти в 5 раз меньше первой, но в общем резких изменений нет."
   ]
  },
  {
   "cell_type": "markdown",
   "metadata": {},
   "source": [
    "Далее рассмотрим Европу:"
   ]
  },
  {
   "cell_type": "code",
   "execution_count": 674,
   "metadata": {},
   "outputs": [
    {
     "data": {
      "text/html": [
       "<div>\n",
       "<style scoped>\n",
       "    .dataframe tbody tr th:only-of-type {\n",
       "        vertical-align: middle;\n",
       "    }\n",
       "\n",
       "    .dataframe tbody tr th {\n",
       "        vertical-align: top;\n",
       "    }\n",
       "\n",
       "    .dataframe thead th {\n",
       "        text-align: right;\n",
       "    }\n",
       "</style>\n",
       "<table border=\"1\" class=\"dataframe\">\n",
       "  <thead>\n",
       "    <tr style=\"text-align: right;\">\n",
       "      <th></th>\n",
       "      <th>genre</th>\n",
       "      <th>eu_sales</th>\n",
       "      <th>share_of_sales</th>\n",
       "    </tr>\n",
       "  </thead>\n",
       "  <tbody>\n",
       "    <tr>\n",
       "      <th>0</th>\n",
       "      <td>Action</td>\n",
       "      <td>118.13</td>\n",
       "      <td>9.844167</td>\n",
       "    </tr>\n",
       "    <tr>\n",
       "      <th>8</th>\n",
       "      <td>Shooter</td>\n",
       "      <td>87.86</td>\n",
       "      <td>7.321667</td>\n",
       "    </tr>\n",
       "    <tr>\n",
       "      <th>10</th>\n",
       "      <td>Sports</td>\n",
       "      <td>60.52</td>\n",
       "      <td>5.043333</td>\n",
       "    </tr>\n",
       "    <tr>\n",
       "      <th>7</th>\n",
       "      <td>Role-Playing</td>\n",
       "      <td>36.97</td>\n",
       "      <td>3.080833</td>\n",
       "    </tr>\n",
       "    <tr>\n",
       "      <th>6</th>\n",
       "      <td>Racing</td>\n",
       "      <td>20.19</td>\n",
       "      <td>1.682500</td>\n",
       "    </tr>\n",
       "    <tr>\n",
       "      <th>3</th>\n",
       "      <td>Misc</td>\n",
       "      <td>20.04</td>\n",
       "      <td>1.670000</td>\n",
       "    </tr>\n",
       "    <tr>\n",
       "      <th>4</th>\n",
       "      <td>Platform</td>\n",
       "      <td>15.58</td>\n",
       "      <td>1.298333</td>\n",
       "    </tr>\n",
       "    <tr>\n",
       "      <th>9</th>\n",
       "      <td>Simulation</td>\n",
       "      <td>10.92</td>\n",
       "      <td>0.910000</td>\n",
       "    </tr>\n",
       "    <tr>\n",
       "      <th>2</th>\n",
       "      <td>Fighting</td>\n",
       "      <td>8.55</td>\n",
       "      <td>0.712500</td>\n",
       "    </tr>\n",
       "    <tr>\n",
       "      <th>1</th>\n",
       "      <td>Adventure</td>\n",
       "      <td>8.25</td>\n",
       "      <td>0.687500</td>\n",
       "    </tr>\n",
       "    <tr>\n",
       "      <th>11</th>\n",
       "      <td>Strategy</td>\n",
       "      <td>4.22</td>\n",
       "      <td>0.351667</td>\n",
       "    </tr>\n",
       "    <tr>\n",
       "      <th>5</th>\n",
       "      <td>Puzzle</td>\n",
       "      <td>1.00</td>\n",
       "      <td>0.083333</td>\n",
       "    </tr>\n",
       "  </tbody>\n",
       "</table>\n",
       "</div>"
      ],
      "text/plain": [
       "           genre  eu_sales  share_of_sales\n",
       "0         Action    118.13        9.844167\n",
       "8        Shooter     87.86        7.321667\n",
       "10        Sports     60.52        5.043333\n",
       "7   Role-Playing     36.97        3.080833\n",
       "6         Racing     20.19        1.682500\n",
       "3           Misc     20.04        1.670000\n",
       "4       Platform     15.58        1.298333\n",
       "9     Simulation     10.92        0.910000\n",
       "2       Fighting      8.55        0.712500\n",
       "1      Adventure      8.25        0.687500\n",
       "11      Strategy      4.22        0.351667\n",
       "5         Puzzle      1.00        0.083333"
      ]
     },
     "execution_count": 674,
     "metadata": {},
     "output_type": "execute_result"
    }
   ],
   "source": [
    "data_genre_eu = data_rating.groupby(by = ['genre'], as_index=False)['eu_sales'].sum()\n",
    "data_genre_eu = data_genre_eu.sort_values(by = 'eu_sales', ascending=False)\n",
    "data_genre_eu['share_of_sales'] = data_genre_eu['eu_sales'] / len(data_genre_eu)\n",
    "data_genre_eu"
   ]
  },
  {
   "cell_type": "code",
   "execution_count": 675,
   "metadata": {},
   "outputs": [
    {
     "data": {
      "image/png": "[encoded data removed]",
      "text/plain": [
       "<Figure size 432x288 with 1 Axes>"
      ]
     },
     "metadata": {
      "needs_background": "light"
     },
     "output_type": "display_data"
    }
   ],
   "source": [
    "sns.barplot(x = 'genre', y = 'share_of_sales', data = data_genre_eu)\n",
    "plt.xticks(rotation = 90)\n",
    "plt.show()"
   ]
  },
  {
   "cell_type": "markdown",
   "metadata": {},
   "source": [
    "Здесь такая же ситуация как и в СА видим, что 5-я позиция почти в 5 раз меньше первой, но в общем резких изменений нет."
   ]
  },
  {
   "cell_type": "markdown",
   "metadata": {},
   "source": [
    "И наконец Япония:"
   ]
  },
  {
   "cell_type": "code",
   "execution_count": 676,
   "metadata": {},
   "outputs": [
    {
     "data": {
      "text/html": [
       "<div>\n",
       "<style scoped>\n",
       "    .dataframe tbody tr th:only-of-type {\n",
       "        vertical-align: middle;\n",
       "    }\n",
       "\n",
       "    .dataframe tbody tr th {\n",
       "        vertical-align: top;\n",
       "    }\n",
       "\n",
       "    .dataframe thead th {\n",
       "        text-align: right;\n",
       "    }\n",
       "</style>\n",
       "<table border=\"1\" class=\"dataframe\">\n",
       "  <thead>\n",
       "    <tr style=\"text-align: right;\">\n",
       "      <th></th>\n",
       "      <th>genre</th>\n",
       "      <th>jp_sales</th>\n",
       "      <th>share_of_sales</th>\n",
       "    </tr>\n",
       "  </thead>\n",
       "  <tbody>\n",
       "    <tr>\n",
       "      <th>7</th>\n",
       "      <td>Role-Playing</td>\n",
       "      <td>51.04</td>\n",
       "      <td>4.253333</td>\n",
       "    </tr>\n",
       "    <tr>\n",
       "      <th>0</th>\n",
       "      <td>Action</td>\n",
       "      <td>40.49</td>\n",
       "      <td>3.374167</td>\n",
       "    </tr>\n",
       "    <tr>\n",
       "      <th>3</th>\n",
       "      <td>Misc</td>\n",
       "      <td>9.20</td>\n",
       "      <td>0.766667</td>\n",
       "    </tr>\n",
       "    <tr>\n",
       "      <th>2</th>\n",
       "      <td>Fighting</td>\n",
       "      <td>7.65</td>\n",
       "      <td>0.637500</td>\n",
       "    </tr>\n",
       "    <tr>\n",
       "      <th>8</th>\n",
       "      <td>Shooter</td>\n",
       "      <td>6.61</td>\n",
       "      <td>0.550833</td>\n",
       "    </tr>\n",
       "    <tr>\n",
       "      <th>1</th>\n",
       "      <td>Adventure</td>\n",
       "      <td>5.82</td>\n",
       "      <td>0.485000</td>\n",
       "    </tr>\n",
       "    <tr>\n",
       "      <th>10</th>\n",
       "      <td>Sports</td>\n",
       "      <td>5.41</td>\n",
       "      <td>0.450833</td>\n",
       "    </tr>\n",
       "    <tr>\n",
       "      <th>4</th>\n",
       "      <td>Platform</td>\n",
       "      <td>4.79</td>\n",
       "      <td>0.399167</td>\n",
       "    </tr>\n",
       "    <tr>\n",
       "      <th>9</th>\n",
       "      <td>Simulation</td>\n",
       "      <td>4.52</td>\n",
       "      <td>0.376667</td>\n",
       "    </tr>\n",
       "    <tr>\n",
       "      <th>6</th>\n",
       "      <td>Racing</td>\n",
       "      <td>2.30</td>\n",
       "      <td>0.191667</td>\n",
       "    </tr>\n",
       "    <tr>\n",
       "      <th>11</th>\n",
       "      <td>Strategy</td>\n",
       "      <td>1.77</td>\n",
       "      <td>0.147500</td>\n",
       "    </tr>\n",
       "    <tr>\n",
       "      <th>5</th>\n",
       "      <td>Puzzle</td>\n",
       "      <td>1.18</td>\n",
       "      <td>0.098333</td>\n",
       "    </tr>\n",
       "  </tbody>\n",
       "</table>\n",
       "</div>"
      ],
      "text/plain": [
       "           genre  jp_sales  share_of_sales\n",
       "7   Role-Playing     51.04        4.253333\n",
       "0         Action     40.49        3.374167\n",
       "3           Misc      9.20        0.766667\n",
       "2       Fighting      7.65        0.637500\n",
       "8        Shooter      6.61        0.550833\n",
       "1      Adventure      5.82        0.485000\n",
       "10        Sports      5.41        0.450833\n",
       "4       Platform      4.79        0.399167\n",
       "9     Simulation      4.52        0.376667\n",
       "6         Racing      2.30        0.191667\n",
       "11      Strategy      1.77        0.147500\n",
       "5         Puzzle      1.18        0.098333"
      ]
     },
     "execution_count": 676,
     "metadata": {},
     "output_type": "execute_result"
    }
   ],
   "source": [
    "data_genre_jp = data_rating.groupby(by = ['genre'], as_index=False)['jp_sales'].sum()\n",
    "data_genre_jp = data_genre_jp.sort_values(by = 'jp_sales', ascending=False)\n",
    "data_genre_jp['share_of_sales'] = data_genre_jp['jp_sales'] / len(data_genre_jp)\n",
    "data_genre_jp"
   ]
  },
  {
   "cell_type": "code",
   "execution_count": 677,
   "metadata": {},
   "outputs": [
    {
     "data": {
      "image/png": "[encoded data removed]",
      "text/plain": [
       "<Figure size 432x288 with 1 Axes>"
      ]
     },
     "metadata": {
      "needs_background": "light"
     },
     "output_type": "display_data"
    }
   ],
   "source": [
    "sns.barplot(x = 'genre', y = 'share_of_sales', data = data_genre_jp)\n",
    "plt.xticks(rotation = 90)\n",
    "plt.show()"
   ]
  },
  {
   "cell_type": "markdown",
   "metadata": {},
   "source": [
    "Выделился жанр \"Role-Playing\" и \"Role-Action\", заметно, что в других регионах она находится на 5 и 7 позициях, в Японии на 1. Также видим, что между 1 и 2 позициями разницы почти нет. Остальные позиции почти все на одном уровне."
   ]
  },
  {
   "cell_type": "markdown",
   "metadata": {},
   "source": [
    "Общий вывод: во всех трех регионах на одной из лидирующих позиций стоит такая платформа как \"Action\". Также заметила, что в Северной Америке и в Европе первые 4 лидирующие позиции одинаковые."
   ]
  },
  {
   "cell_type": "markdown",
   "metadata": {},
   "source": [
    "Посмотрим влияет ли рейтинг ESRB на продажи в отдельном регионе:"
   ]
  },
  {
   "cell_type": "markdown",
   "metadata": {},
   "source": [
    "Северная Америка:"
   ]
  },
  {
   "cell_type": "code",
   "execution_count": 678,
   "metadata": {},
   "outputs": [],
   "source": [
    "data_rating_na = data_rating[['na_sales', 'rating']]\n",
    "data_rating_na = data_rating_na.groupby(by = ['rating'], as_index=False)['na_sales'].sum()\n",
    "data_rating_na = data_rating_na.sort_values(by = 'na_sales', ascending=False)"
   ]
  },
  {
   "cell_type": "code",
   "execution_count": 679,
   "metadata": {},
   "outputs": [
    {
     "data": {
      "text/plain": [
       "<AxesSubplot:xlabel='rating', ylabel='na_sales'>"
      ]
     },
     "execution_count": 679,
     "metadata": {},
     "output_type": "execute_result"
    },
    {
     "data": {
      "image/png": "[encoded data removed]",
      "text/plain": [
       "<Figure size 432x288 with 1 Axes>"
      ]
     },
     "metadata": {
      "needs_background": "light"
     },
     "output_type": "display_data"
    }
   ],
   "source": [
    "sns.barplot(x = 'rating', y = 'na_sales', data = data_rating_na)"
   ]
  },
  {
   "cell_type": "markdown",
   "metadata": {},
   "source": [
    "В Северной Америке больше всего продаж приходится на игры с рейтингом М - игры для людей от 17 лет."
   ]
  },
  {
   "cell_type": "markdown",
   "metadata": {},
   "source": [
    "Европа:"
   ]
  },
  {
   "cell_type": "code",
   "execution_count": 680,
   "metadata": {},
   "outputs": [],
   "source": [
    "data_rating_eu = data_rating[['eu_sales', 'rating']]\n",
    "data_rating_eu = data_rating_eu.groupby(by = ['rating'], as_index=False)['eu_sales'].sum()\n",
    "data_rating_eu = data_rating_eu.sort_values(by = 'eu_sales', ascending=False)"
   ]
  },
  {
   "cell_type": "code",
   "execution_count": 681,
   "metadata": {},
   "outputs": [
    {
     "data": {
      "text/plain": [
       "<AxesSubplot:xlabel='rating', ylabel='eu_sales'>"
      ]
     },
     "execution_count": 681,
     "metadata": {},
     "output_type": "execute_result"
    },
    {
     "data": {
      "image/png": "[encoded data removed]",
      "text/plain": [
       "<Figure size 432x288 with 1 Axes>"
      ]
     },
     "metadata": {
      "needs_background": "light"
     },
     "output_type": "display_data"
    }
   ],
   "source": [
    "sns.barplot(x = 'rating', y = 'eu_sales', data = data_rating_eu)"
   ]
  },
  {
   "cell_type": "markdown",
   "metadata": {},
   "source": [
    "В Европе также по продажам лидируют игры с рейтингом М. "
   ]
  },
  {
   "cell_type": "markdown",
   "metadata": {},
   "source": [
    "Япония:"
   ]
  },
  {
   "cell_type": "code",
   "execution_count": 682,
   "metadata": {},
   "outputs": [],
   "source": [
    "data_rating_jp = data_rating[['jp_sales', 'rating']]\n",
    "data_rating_jp = data_rating_jp.groupby(by = ['rating'], as_index=False)['jp_sales'].sum()\n",
    "data_rating_jp = data_rating_jp.sort_values(by = 'jp_sales', ascending=False)"
   ]
  },
  {
   "cell_type": "code",
   "execution_count": 683,
   "metadata": {},
   "outputs": [
    {
     "data": {
      "text/plain": [
       "<AxesSubplot:xlabel='rating', ylabel='jp_sales'>"
      ]
     },
     "execution_count": 683,
     "metadata": {},
     "output_type": "execute_result"
    },
    {
     "data": {
      "image/png": "[encoded data removed]",
      "text/plain": [
       "<Figure size 432x288 with 1 Axes>"
      ]
     },
     "metadata": {
      "needs_background": "light"
     },
     "output_type": "display_data"
    }
   ],
   "source": [
    "sns.barplot(x = 'rating', y = 'jp_sales', data = data_rating_jp)"
   ]
  },
  {
   "cell_type": "markdown",
   "metadata": {},
   "source": [
    "В Японии все совсем иначе, по продажам лидируют игры которые еще ожидают рейтинга - RP. Далее игры с рейтингом Т - подросткам 13-19 лет, затем Е. В других регионах рейтинг М - от 17 лет, был на 1-ой позиции, а тут на 4-ой, в рейтинг Е10+ - для всех старше 10-ти лет, во всех регионах не входил в топ 3."
   ]
  },
  {
   "cell_type": "markdown",
   "metadata": {},
   "source": [
    "## Проверка гипотез"
   ]
  },
  {
   "cell_type": "markdown",
   "metadata": {},
   "source": [
    "Для начала сформируем таблицу с нужными для нас данными:"
   ]
  },
  {
   "cell_type": "code",
   "execution_count": 684,
   "metadata": {},
   "outputs": [
    {
     "data": {
      "text/html": [
       "<div>\n",
       "<style scoped>\n",
       "    .dataframe tbody tr th:only-of-type {\n",
       "        vertical-align: middle;\n",
       "    }\n",
       "\n",
       "    .dataframe tbody tr th {\n",
       "        vertical-align: top;\n",
       "    }\n",
       "\n",
       "    .dataframe thead th {\n",
       "        text-align: right;\n",
       "    }\n",
       "</style>\n",
       "<table border=\"1\" class=\"dataframe\">\n",
       "  <thead>\n",
       "    <tr style=\"text-align: right;\">\n",
       "      <th></th>\n",
       "      <th>platform</th>\n",
       "      <th>genre</th>\n",
       "      <th>user_score</th>\n",
       "    </tr>\n",
       "  </thead>\n",
       "  <tbody>\n",
       "    <tr>\n",
       "      <th>16</th>\n",
       "      <td>PS3</td>\n",
       "      <td>Action</td>\n",
       "      <td>8.2</td>\n",
       "    </tr>\n",
       "    <tr>\n",
       "      <th>23</th>\n",
       "      <td>X360</td>\n",
       "      <td>Action</td>\n",
       "      <td>8.1</td>\n",
       "    </tr>\n",
       "    <tr>\n",
       "      <th>42</th>\n",
       "      <td>PS4</td>\n",
       "      <td>Action</td>\n",
       "      <td>8.3</td>\n",
       "    </tr>\n",
       "    <tr>\n",
       "      <th>60</th>\n",
       "      <td>X360</td>\n",
       "      <td>Shooter</td>\n",
       "      <td>2.6</td>\n",
       "    </tr>\n",
       "    <tr>\n",
       "      <th>69</th>\n",
       "      <td>PS3</td>\n",
       "      <td>Shooter</td>\n",
       "      <td>2.6</td>\n",
       "    </tr>\n",
       "    <tr>\n",
       "      <th>...</th>\n",
       "      <td>...</td>\n",
       "      <td>...</td>\n",
       "      <td>...</td>\n",
       "    </tr>\n",
       "    <tr>\n",
       "      <th>16641</th>\n",
       "      <td>XOne</td>\n",
       "      <td>Sports</td>\n",
       "      <td>6.6</td>\n",
       "    </tr>\n",
       "    <tr>\n",
       "      <th>16650</th>\n",
       "      <td>WiiU</td>\n",
       "      <td>Action</td>\n",
       "      <td>8.5</td>\n",
       "    </tr>\n",
       "    <tr>\n",
       "      <th>16652</th>\n",
       "      <td>X360</td>\n",
       "      <td>Action</td>\n",
       "      <td>5.1</td>\n",
       "    </tr>\n",
       "    <tr>\n",
       "      <th>16658</th>\n",
       "      <td>XOne</td>\n",
       "      <td>Action</td>\n",
       "      <td>6.7</td>\n",
       "    </tr>\n",
       "    <tr>\n",
       "      <th>16690</th>\n",
       "      <td>PC</td>\n",
       "      <td>Action</td>\n",
       "      <td>7.6</td>\n",
       "    </tr>\n",
       "  </tbody>\n",
       "</table>\n",
       "<p>1192 rows × 3 columns</p>\n",
       "</div>"
      ],
      "text/plain": [
       "      platform    genre  user_score\n",
       "16         PS3   Action         8.2\n",
       "23        X360   Action         8.1\n",
       "42         PS4   Action         8.3\n",
       "60        X360  Shooter         2.6\n",
       "69         PS3  Shooter         2.6\n",
       "...        ...      ...         ...\n",
       "16641     XOne   Sports         6.6\n",
       "16650     WiiU   Action         8.5\n",
       "16652     X360   Action         5.1\n",
       "16658     XOne   Action         6.7\n",
       "16690       PC   Action         7.6\n",
       "\n",
       "[1192 rows x 3 columns]"
      ]
     },
     "metadata": {},
     "output_type": "display_data"
    },
    {
     "data": {
      "text/plain": [
       "platform          XOne\n",
       "genre         Strategy\n",
       "user_score         9.3\n",
       "dtype: object"
      ]
     },
     "metadata": {},
     "output_type": "display_data"
    },
    {
     "data": {
      "text/plain": [
       "platform         3DS\n",
       "genre         Action\n",
       "user_score       0.2\n",
       "dtype: object"
      ]
     },
     "metadata": {},
     "output_type": "display_data"
    },
    {
     "data": {
      "text/plain": [
       "user_score    6.584564\n",
       "dtype: float64"
      ]
     },
     "metadata": {},
     "output_type": "display_data"
    }
   ],
   "source": [
    "data_for_hypothesis = data_actual_period[['platform', 'genre', 'user_score']]\n",
    "data_for_hypothesis = data_for_hypothesis.query('user_score != \"tbd\"')\n",
    "data_for_hypothesis['user_score'] = data_for_hypothesis['user_score'].astype('float')\n",
    "display(data_for_hypothesis)\n",
    "data_for_hypothesis_max = data_for_hypothesis.max()\n",
    "data_for_hypothesis_min = data_for_hypothesis.min()\n",
    "data_for_hypothesis_mean = data_for_hypothesis.mean()\n",
    "display(data_for_hypothesis_max)\n",
    "display(data_for_hypothesis_min)\n",
    "display(data_for_hypothesis_mean)"
   ]
  },
  {
   "cell_type": "markdown",
   "metadata": {},
   "source": [
    "Далее сформулируем гипотезы:"
   ]
  },
  {
   "cell_type": "markdown",
   "metadata": {},
   "source": [
    "Нулевая гипотеза H₀: Средние пользовательские рейтинги платформ Xbox One и PC одинаковые.\n",
    "\n",
    "Альтернативная гипотеза H₁: Средние пользовательские рейтинги платформ Xbox One и PC разные."
   ]
  },
  {
   "cell_type": "code",
   "execution_count": 685,
   "metadata": {},
   "outputs": [
    {
     "data": {
      "text/plain": [
       "'p-значение:'"
      ]
     },
     "metadata": {},
     "output_type": "display_data"
    },
    {
     "data": {
      "text/plain": [
       "0.14012658403611647"
      ]
     },
     "metadata": {},
     "output_type": "display_data"
    },
    {
     "data": {
      "text/plain": [
       "'Не получилось отвергнуть нулевую гипотезу'"
      ]
     },
     "metadata": {},
     "output_type": "display_data"
    }
   ],
   "source": [
    "array_xbox_one = data_for_hypothesis[data_for_hypothesis['platform'] == 'XOne']['user_score'].to_numpy()\n",
    "array_pc = data_for_hypothesis[data_for_hypothesis['platform'] == 'PC']['user_score'].to_numpy()\n",
    "alpha = 0.05\n",
    "results = st.ttest_ind(array_xbox_one, array_pc)\n",
    "display('p-значение:', results.pvalue)\n",
    "\n",
    "if results.pvalue < alpha:\n",
    "    display(\"Отвергаем нулевую гипотезу\")\n",
    "else:\n",
    "    display(\"Не получилось отвергнуть нулевую гипотезу\")"
   ]
  },
  {
   "cell_type": "markdown",
   "metadata": {},
   "source": [
    "Для проверки гипотез использовала гипотезу о равенстве средних двух генеральных совокупностей по взятым из них выборкам - метод st.ttest_ind(). Использовала именно данный метод, потому что берем 2 совокупности одна по платформе \"XOne\" другая по \"PC\"."
   ]
  },
  {
   "cell_type": "markdown",
   "metadata": {},
   "source": [
    "Нулевая гипотеза H₀: Средние пользовательские рейтинги жанров Action (англ. «действие», экшен-\n",
    "игры) и Sports (англ. «спортивные соревнования») разные.\n",
    "\n",
    "Альтернативная гипотеза H₁: Средние пользовательские рейтинги жанров Action (англ. «действие», экшен-\n",
    "игры) и Sports (англ. «спортивные соревнования») одинаковые."
   ]
  },
  {
   "cell_type": "code",
   "execution_count": 686,
   "metadata": {},
   "outputs": [
    {
     "data": {
      "text/plain": [
       "'p-значение:'"
      ]
     },
     "metadata": {},
     "output_type": "display_data"
    },
    {
     "data": {
      "text/plain": [
       "1.0517832389140023e-27"
      ]
     },
     "metadata": {},
     "output_type": "display_data"
    },
    {
     "data": {
      "text/plain": [
       "'Отвергаем нулевую гипотезу'"
      ]
     },
     "metadata": {},
     "output_type": "display_data"
    }
   ],
   "source": [
    "array_action = data_for_hypothesis[data_for_hypothesis['genre'] == 'Action']['user_score'].to_numpy()\n",
    "array_sports = data_for_hypothesis[data_for_hypothesis['genre'] == 'Sports']['user_score'].to_numpy()\n",
    "alpha = 0.05\n",
    "results = st.ttest_ind(array_action, array_sports)\n",
    "display('p-значение:', results.pvalue)\n",
    "\n",
    "if results.pvalue < alpha:\n",
    "    display(\"Отвергаем нулевую гипотезу\")\n",
    "else:\n",
    "    display(\"Не получилось отвергнуть нулевую гипотезу\")"
   ]
  },
  {
   "cell_type": "markdown",
   "metadata": {},
   "source": [
    "Для проверки гипотез использовала гипотезу о равенстве средних двух генеральных совокупностей по взятым из них выборкам - метод st.ttest_ind(). Использовала именно данный метод, потому что берем 2 совокупности одна по жанру \"Action\" другая по \"Sports\". Наше 'p-значение:' = 1.0517832389140023e-27 это значит , что 1.0517832389140023*10 в -27 степени = 0.000000...000010517832389140023 соответственно оно меньше чем alpha поэтому отвергаем нулевую гипотезу."
   ]
  },
  {
   "cell_type": "markdown",
   "metadata": {},
   "source": [
    "## Общий вывод"
   ]
  },
  {
   "cell_type": "markdown",
   "metadata": {},
   "source": [
    "Проведя анализ можно сделать такой вывод: в топовые платформы вошли три платформы PlayStation, две платформы Nintendo и всего одна платформа Xbox. После проверки гипотез выявилось, что оценки пользователей по платформам одинаковые. По жанрам лидировали Action и Sports. После проверки гипотез было выявлено, что оценки пользователей по жанрам одинаковые, то есть нужно больше обращать внимание на каких платформах играют пользователи при прогнозе на 2017 год. Если рассматривать каждый регион в отдельности, то я выявила, что в Северной Америке лидирует платформа PS4, в Европе также платформа - PS4, а вот в Японии самые большие продажи игр на платформах Nintendo и PlayStation, а вот Xbox занимает 7 позицию и ниже. А в общем по суммарным продажам лидирует платформа PlayStation и является более популярной платформой для игр."
   ]
  }
 ],
 "metadata": {
  "ExecuteTimeLog": [
   {
    "duration": 1096,
    "start_time": "2022-03-03T15:30:05.837Z"
   },
   {
    "duration": 42,
    "start_time": "2022-03-03T15:30:06.934Z"
   },
   {
    "duration": 26,
    "start_time": "2022-03-03T15:30:06.978Z"
   },
   {
    "duration": 8,
    "start_time": "2022-03-03T15:30:07.006Z"
   },
   {
    "duration": 16,
    "start_time": "2022-03-03T15:30:07.015Z"
   },
   {
    "duration": 6,
    "start_time": "2022-03-03T15:30:07.032Z"
   },
   {
    "duration": 5,
    "start_time": "2022-03-03T15:30:07.039Z"
   },
   {
    "duration": 11,
    "start_time": "2022-03-03T15:30:07.046Z"
   },
   {
    "duration": 8,
    "start_time": "2022-03-03T15:30:07.059Z"
   },
   {
    "duration": 35,
    "start_time": "2022-03-03T15:30:07.069Z"
   },
   {
    "duration": 6,
    "start_time": "2022-03-03T15:30:07.105Z"
   },
   {
    "duration": 11,
    "start_time": "2022-03-03T15:30:07.113Z"
   },
   {
    "duration": 322,
    "start_time": "2022-03-03T15:30:07.125Z"
   },
   {
    "duration": 2,
    "start_time": "2022-03-03T15:30:07.449Z"
   },
   {
    "duration": 11,
    "start_time": "2022-03-03T15:30:07.453Z"
   },
   {
    "duration": 476,
    "start_time": "2022-03-03T15:30:07.466Z"
   },
   {
    "duration": 3,
    "start_time": "2022-03-03T15:30:07.944Z"
   },
   {
    "duration": 26,
    "start_time": "2022-03-03T15:30:07.948Z"
   },
   {
    "duration": 34,
    "start_time": "2022-03-03T15:30:07.976Z"
   },
   {
    "duration": -59,
    "start_time": "2022-03-03T16:03:18.882Z"
   },
   {
    "duration": -61,
    "start_time": "2022-03-03T16:03:18.885Z"
   },
   {
    "duration": -62,
    "start_time": "2022-03-03T16:03:18.887Z"
   },
   {
    "duration": -63,
    "start_time": "2022-03-03T16:03:18.889Z"
   },
   {
    "duration": -64,
    "start_time": "2022-03-03T16:03:18.891Z"
   },
   {
    "duration": -65,
    "start_time": "2022-03-03T16:03:18.893Z"
   },
   {
    "duration": -67,
    "start_time": "2022-03-03T16:03:18.896Z"
   },
   {
    "duration": -68,
    "start_time": "2022-03-03T16:03:18.898Z"
   },
   {
    "duration": -68,
    "start_time": "2022-03-03T16:03:18.899Z"
   },
   {
    "duration": -69,
    "start_time": "2022-03-03T16:03:18.901Z"
   },
   {
    "duration": -69,
    "start_time": "2022-03-03T16:03:18.902Z"
   },
   {
    "duration": -70,
    "start_time": "2022-03-03T16:03:18.904Z"
   },
   {
    "duration": -71,
    "start_time": "2022-03-03T16:03:18.905Z"
   },
   {
    "duration": -72,
    "start_time": "2022-03-03T16:03:18.907Z"
   },
   {
    "duration": -72,
    "start_time": "2022-03-03T16:03:18.908Z"
   },
   {
    "duration": -78,
    "start_time": "2022-03-03T16:03:18.915Z"
   },
   {
    "duration": -79,
    "start_time": "2022-03-03T16:03:18.917Z"
   },
   {
    "duration": -80,
    "start_time": "2022-03-03T16:03:18.919Z"
   },
   {
    "duration": -81,
    "start_time": "2022-03-03T16:03:18.920Z"
   },
   {
    "duration": -81,
    "start_time": "2022-03-03T16:03:18.921Z"
   },
   {
    "duration": 7205,
    "start_time": "2022-03-03T16:04:23.960Z"
   },
   {
    "duration": 28,
    "start_time": "2022-03-03T16:05:01.269Z"
   },
   {
    "duration": 27,
    "start_time": "2022-03-03T16:05:01.271Z"
   },
   {
    "duration": 24,
    "start_time": "2022-03-03T16:05:01.275Z"
   },
   {
    "duration": 23,
    "start_time": "2022-03-03T16:05:01.277Z"
   },
   {
    "duration": 22,
    "start_time": "2022-03-03T16:05:01.279Z"
   },
   {
    "duration": 21,
    "start_time": "2022-03-03T16:05:01.280Z"
   },
   {
    "duration": 21,
    "start_time": "2022-03-03T16:05:01.281Z"
   },
   {
    "duration": 20,
    "start_time": "2022-03-03T16:05:01.283Z"
   },
   {
    "duration": 19,
    "start_time": "2022-03-03T16:05:01.284Z"
   },
   {
    "duration": 18,
    "start_time": "2022-03-03T16:05:01.286Z"
   },
   {
    "duration": 18,
    "start_time": "2022-03-03T16:05:01.287Z"
   },
   {
    "duration": 13,
    "start_time": "2022-03-03T16:05:01.293Z"
   },
   {
    "duration": 11,
    "start_time": "2022-03-03T16:05:01.295Z"
   },
   {
    "duration": 9,
    "start_time": "2022-03-03T16:05:01.298Z"
   },
   {
    "duration": 9,
    "start_time": "2022-03-03T16:05:01.299Z"
   },
   {
    "duration": 8,
    "start_time": "2022-03-03T16:05:01.301Z"
   },
   {
    "duration": 7,
    "start_time": "2022-03-03T16:05:01.302Z"
   },
   {
    "duration": 7,
    "start_time": "2022-03-03T16:05:01.303Z"
   },
   {
    "duration": 7,
    "start_time": "2022-03-03T16:05:01.304Z"
   },
   {
    "duration": 7,
    "start_time": "2022-03-03T16:05:01.305Z"
   },
   {
    "duration": 3,
    "start_time": "2022-03-03T16:05:18.033Z"
   },
   {
    "duration": 42,
    "start_time": "2022-03-03T16:05:18.038Z"
   },
   {
    "duration": 24,
    "start_time": "2022-03-03T16:05:18.082Z"
   },
   {
    "duration": 7,
    "start_time": "2022-03-03T16:05:18.108Z"
   },
   {
    "duration": 16,
    "start_time": "2022-03-03T16:05:18.116Z"
   },
   {
    "duration": 5,
    "start_time": "2022-03-03T16:05:18.133Z"
   },
   {
    "duration": 4,
    "start_time": "2022-03-03T16:05:18.140Z"
   },
   {
    "duration": 10,
    "start_time": "2022-03-03T16:05:18.146Z"
   },
   {
    "duration": 9,
    "start_time": "2022-03-03T16:05:18.158Z"
   },
   {
    "duration": 4,
    "start_time": "2022-03-03T16:05:18.168Z"
   },
   {
    "duration": 8,
    "start_time": "2022-03-03T16:05:18.201Z"
   },
   {
    "duration": 12,
    "start_time": "2022-03-03T16:05:18.210Z"
   },
   {
    "duration": 320,
    "start_time": "2022-03-03T16:05:18.224Z"
   },
   {
    "duration": 3,
    "start_time": "2022-03-03T16:05:18.545Z"
   },
   {
    "duration": 21,
    "start_time": "2022-03-03T16:05:18.549Z"
   },
   {
    "duration": 419,
    "start_time": "2022-03-03T16:05:18.571Z"
   },
   {
    "duration": 2,
    "start_time": "2022-03-03T16:05:18.991Z"
   },
   {
    "duration": 26,
    "start_time": "2022-03-03T16:05:18.995Z"
   },
   {
    "duration": 16,
    "start_time": "2022-03-03T16:05:19.022Z"
   },
   {
    "duration": 7241,
    "start_time": "2022-03-03T16:05:19.040Z"
   },
   {
    "duration": 294,
    "start_time": "2022-03-03T16:05:50.466Z"
   },
   {
    "duration": 383,
    "start_time": "2022-03-03T16:06:27.071Z"
   },
   {
    "duration": 420,
    "start_time": "2022-03-03T16:06:55.249Z"
   },
   {
    "duration": 4764,
    "start_time": "2022-03-03T16:07:20.677Z"
   },
   {
    "duration": 688,
    "start_time": "2022-03-03T16:07:25.672Z"
   },
   {
    "duration": 2959,
    "start_time": "2022-03-03T16:07:42.088Z"
   },
   {
    "duration": 1004,
    "start_time": "2022-03-03T16:08:04.576Z"
   },
   {
    "duration": 478,
    "start_time": "2022-03-03T16:08:16.600Z"
   },
   {
    "duration": 443,
    "start_time": "2022-03-03T16:08:26.204Z"
   },
   {
    "duration": 518,
    "start_time": "2022-03-03T16:08:35.065Z"
   },
   {
    "duration": 518,
    "start_time": "2022-03-03T16:08:45.265Z"
   },
   {
    "duration": 464,
    "start_time": "2022-03-03T16:08:54.450Z"
   },
   {
    "duration": 3,
    "start_time": "2022-03-03T16:09:48.305Z"
   },
   {
    "duration": 41,
    "start_time": "2022-03-03T16:09:48.309Z"
   },
   {
    "duration": 24,
    "start_time": "2022-03-03T16:09:48.352Z"
   },
   {
    "duration": 8,
    "start_time": "2022-03-03T16:09:48.378Z"
   },
   {
    "duration": 30,
    "start_time": "2022-03-03T16:09:48.388Z"
   },
   {
    "duration": 6,
    "start_time": "2022-03-03T16:09:48.419Z"
   },
   {
    "duration": 5,
    "start_time": "2022-03-03T16:09:48.427Z"
   },
   {
    "duration": 12,
    "start_time": "2022-03-03T16:09:48.433Z"
   },
   {
    "duration": 9,
    "start_time": "2022-03-03T16:09:48.447Z"
   },
   {
    "duration": 3,
    "start_time": "2022-03-03T16:09:48.458Z"
   },
   {
    "duration": 38,
    "start_time": "2022-03-03T16:09:48.463Z"
   },
   {
    "duration": 11,
    "start_time": "2022-03-03T16:09:48.503Z"
   },
   {
    "duration": 306,
    "start_time": "2022-03-03T16:09:48.515Z"
   },
   {
    "duration": 2,
    "start_time": "2022-03-03T16:09:48.823Z"
   },
   {
    "duration": 13,
    "start_time": "2022-03-03T16:09:48.827Z"
   },
   {
    "duration": 374,
    "start_time": "2022-03-03T16:09:48.842Z"
   },
   {
    "duration": 4,
    "start_time": "2022-03-03T16:09:49.218Z"
   },
   {
    "duration": 38,
    "start_time": "2022-03-03T16:09:49.223Z"
   },
   {
    "duration": 50,
    "start_time": "2022-03-03T16:09:49.263Z"
   },
   {
    "duration": 637,
    "start_time": "2022-03-03T16:09:49.315Z"
   },
   {
    "duration": 211,
    "start_time": "2022-03-03T16:48:05.505Z"
   },
   {
    "duration": 193,
    "start_time": "2022-03-03T16:48:47.272Z"
   },
   {
    "duration": 208,
    "start_time": "2022-03-03T16:49:28.093Z"
   },
   {
    "duration": 712,
    "start_time": "2022-03-03T16:49:40.080Z"
   },
   {
    "duration": 600,
    "start_time": "2022-03-03T16:50:11.324Z"
   },
   {
    "duration": 699,
    "start_time": "2022-03-03T16:50:16.764Z"
   },
   {
    "duration": 724,
    "start_time": "2022-03-03T16:51:30.902Z"
   },
   {
    "duration": 27,
    "start_time": "2022-03-03T16:56:35.898Z"
   },
   {
    "duration": 609,
    "start_time": "2022-03-03T16:56:54.764Z"
   },
   {
    "duration": 3,
    "start_time": "2022-03-03T16:58:31.956Z"
   },
   {
    "duration": 42,
    "start_time": "2022-03-03T16:58:31.961Z"
   },
   {
    "duration": 25,
    "start_time": "2022-03-03T16:58:32.005Z"
   },
   {
    "duration": 8,
    "start_time": "2022-03-03T16:58:32.031Z"
   },
   {
    "duration": 17,
    "start_time": "2022-03-03T16:58:32.041Z"
   },
   {
    "duration": 5,
    "start_time": "2022-03-03T16:58:32.059Z"
   },
   {
    "duration": 7,
    "start_time": "2022-03-03T16:58:32.065Z"
   },
   {
    "duration": 32,
    "start_time": "2022-03-03T16:58:32.073Z"
   },
   {
    "duration": 8,
    "start_time": "2022-03-03T16:58:32.107Z"
   },
   {
    "duration": 4,
    "start_time": "2022-03-03T16:58:32.117Z"
   },
   {
    "duration": 8,
    "start_time": "2022-03-03T16:58:32.122Z"
   },
   {
    "duration": 11,
    "start_time": "2022-03-03T16:58:32.131Z"
   },
   {
    "duration": 320,
    "start_time": "2022-03-03T16:58:32.143Z"
   },
   {
    "duration": 2,
    "start_time": "2022-03-03T16:58:32.465Z"
   },
   {
    "duration": 11,
    "start_time": "2022-03-03T16:58:32.469Z"
   },
   {
    "duration": 456,
    "start_time": "2022-03-03T16:58:32.481Z"
   },
   {
    "duration": 2,
    "start_time": "2022-03-03T16:58:32.938Z"
   },
   {
    "duration": 24,
    "start_time": "2022-03-03T16:58:32.942Z"
   },
   {
    "duration": 36,
    "start_time": "2022-03-03T16:58:32.967Z"
   },
   {
    "duration": 399,
    "start_time": "2022-03-03T16:58:33.004Z"
   },
   {
    "duration": 29,
    "start_time": "2022-03-03T16:58:33.404Z"
   },
   {
    "duration": 641,
    "start_time": "2022-03-03T16:58:33.435Z"
   },
   {
    "duration": 2,
    "start_time": "2022-03-03T17:05:20.630Z"
   },
   {
    "duration": 54,
    "start_time": "2022-03-03T17:05:20.634Z"
   },
   {
    "duration": 24,
    "start_time": "2022-03-03T17:05:20.690Z"
   },
   {
    "duration": 8,
    "start_time": "2022-03-03T17:05:20.716Z"
   },
   {
    "duration": 24,
    "start_time": "2022-03-03T17:05:20.725Z"
   },
   {
    "duration": 9,
    "start_time": "2022-03-03T17:05:20.750Z"
   },
   {
    "duration": 9,
    "start_time": "2022-03-03T17:05:20.761Z"
   },
   {
    "duration": 18,
    "start_time": "2022-03-03T17:05:20.772Z"
   },
   {
    "duration": 9,
    "start_time": "2022-03-03T17:05:20.792Z"
   },
   {
    "duration": 9,
    "start_time": "2022-03-03T17:05:20.802Z"
   },
   {
    "duration": 9,
    "start_time": "2022-03-03T17:05:20.812Z"
   },
   {
    "duration": 21,
    "start_time": "2022-03-03T17:05:20.823Z"
   },
   {
    "duration": 301,
    "start_time": "2022-03-03T17:05:20.846Z"
   },
   {
    "duration": 3,
    "start_time": "2022-03-03T17:05:21.148Z"
   },
   {
    "duration": 24,
    "start_time": "2022-03-03T17:05:21.152Z"
   },
   {
    "duration": 417,
    "start_time": "2022-03-03T17:05:21.177Z"
   },
   {
    "duration": 5,
    "start_time": "2022-03-03T17:05:21.596Z"
   },
   {
    "duration": 24,
    "start_time": "2022-03-03T17:05:21.602Z"
   },
   {
    "duration": 18,
    "start_time": "2022-03-03T17:05:21.627Z"
   },
   {
    "duration": 389,
    "start_time": "2022-03-03T17:05:21.647Z"
   },
   {
    "duration": 28,
    "start_time": "2022-03-03T17:05:22.038Z"
   },
   {
    "duration": 637,
    "start_time": "2022-03-03T17:05:22.068Z"
   },
   {
    "duration": 13,
    "start_time": "2022-03-03T17:25:02.250Z"
   },
   {
    "duration": 220,
    "start_time": "2022-03-04T13:01:23.528Z"
   },
   {
    "duration": 1137,
    "start_time": "2022-03-04T13:01:29.566Z"
   },
   {
    "duration": 45,
    "start_time": "2022-03-04T13:01:30.705Z"
   },
   {
    "duration": 32,
    "start_time": "2022-03-04T13:01:30.752Z"
   },
   {
    "duration": 9,
    "start_time": "2022-03-04T13:01:30.786Z"
   },
   {
    "duration": 24,
    "start_time": "2022-03-04T13:01:30.797Z"
   },
   {
    "duration": 23,
    "start_time": "2022-03-04T13:01:30.823Z"
   },
   {
    "duration": 24,
    "start_time": "2022-03-04T13:01:30.848Z"
   },
   {
    "duration": 24,
    "start_time": "2022-03-04T13:01:30.874Z"
   },
   {
    "duration": 13,
    "start_time": "2022-03-04T13:01:30.901Z"
   },
   {
    "duration": 11,
    "start_time": "2022-03-04T13:01:30.916Z"
   },
   {
    "duration": 18,
    "start_time": "2022-03-04T13:01:30.930Z"
   },
   {
    "duration": 16,
    "start_time": "2022-03-04T13:01:30.950Z"
   },
   {
    "duration": 394,
    "start_time": "2022-03-04T13:01:30.968Z"
   },
   {
    "duration": 2,
    "start_time": "2022-03-04T13:01:31.365Z"
   },
   {
    "duration": 20,
    "start_time": "2022-03-04T13:01:31.369Z"
   },
   {
    "duration": 470,
    "start_time": "2022-03-04T13:01:31.392Z"
   },
   {
    "duration": 3,
    "start_time": "2022-03-04T13:01:31.865Z"
   },
   {
    "duration": 34,
    "start_time": "2022-03-04T13:01:31.870Z"
   },
   {
    "duration": 44,
    "start_time": "2022-03-04T13:01:31.906Z"
   },
   {
    "duration": 487,
    "start_time": "2022-03-04T13:01:31.953Z"
   },
   {
    "duration": 32,
    "start_time": "2022-03-04T13:01:32.442Z"
   },
   {
    "duration": 894,
    "start_time": "2022-03-04T13:01:32.477Z"
   },
   {
    "duration": 12,
    "start_time": "2022-03-04T13:01:33.373Z"
   },
   {
    "duration": 807,
    "start_time": "2022-03-04T13:16:25.749Z"
   },
   {
    "duration": 916,
    "start_time": "2022-03-04T13:16:46.503Z"
   },
   {
    "duration": 1319,
    "start_time": "2022-03-04T13:17:05.251Z"
   },
   {
    "duration": 913,
    "start_time": "2022-03-04T13:17:30.688Z"
   },
   {
    "duration": 904,
    "start_time": "2022-03-04T13:18:32.371Z"
   },
   {
    "duration": 782,
    "start_time": "2022-03-04T13:26:29.304Z"
   },
   {
    "duration": 34,
    "start_time": "2022-03-04T13:32:23.636Z"
   },
   {
    "duration": 34,
    "start_time": "2022-03-04T13:33:56.592Z"
   },
   {
    "duration": 36,
    "start_time": "2022-03-04T13:34:16.421Z"
   },
   {
    "duration": 45,
    "start_time": "2022-03-04T13:53:59.696Z"
   },
   {
    "duration": 42,
    "start_time": "2022-03-04T13:54:41.237Z"
   },
   {
    "duration": 3,
    "start_time": "2022-03-04T14:17:39.536Z"
   },
   {
    "duration": 41,
    "start_time": "2022-03-04T14:17:39.541Z"
   },
   {
    "duration": 28,
    "start_time": "2022-03-04T14:17:39.584Z"
   },
   {
    "duration": 25,
    "start_time": "2022-03-04T14:17:39.614Z"
   },
   {
    "duration": 20,
    "start_time": "2022-03-04T14:17:39.641Z"
   },
   {
    "duration": 8,
    "start_time": "2022-03-04T14:17:39.663Z"
   },
   {
    "duration": 8,
    "start_time": "2022-03-04T14:17:39.673Z"
   },
   {
    "duration": 18,
    "start_time": "2022-03-04T14:17:39.683Z"
   },
   {
    "duration": 37,
    "start_time": "2022-03-04T14:17:39.704Z"
   },
   {
    "duration": 5,
    "start_time": "2022-03-04T14:17:39.744Z"
   },
   {
    "duration": 27,
    "start_time": "2022-03-04T14:17:39.751Z"
   },
   {
    "duration": 16,
    "start_time": "2022-03-04T14:17:39.780Z"
   },
   {
    "duration": 368,
    "start_time": "2022-03-04T14:17:39.798Z"
   },
   {
    "duration": 3,
    "start_time": "2022-03-04T14:17:40.168Z"
   },
   {
    "duration": 15,
    "start_time": "2022-03-04T14:17:40.173Z"
   },
   {
    "duration": 418,
    "start_time": "2022-03-04T14:17:40.190Z"
   },
   {
    "duration": 4,
    "start_time": "2022-03-04T14:17:40.610Z"
   },
   {
    "duration": 38,
    "start_time": "2022-03-04T14:17:40.616Z"
   },
   {
    "duration": 19,
    "start_time": "2022-03-04T14:17:40.656Z"
   },
   {
    "duration": 461,
    "start_time": "2022-03-04T14:17:40.677Z"
   },
   {
    "duration": 42,
    "start_time": "2022-03-04T14:17:41.139Z"
   },
   {
    "duration": 916,
    "start_time": "2022-03-04T14:17:41.183Z"
   },
   {
    "duration": 13,
    "start_time": "2022-03-04T14:17:42.101Z"
   },
   {
    "duration": 294,
    "start_time": "2022-03-04T14:20:08.132Z"
   },
   {
    "duration": 3,
    "start_time": "2022-03-04T14:20:29.644Z"
   },
   {
    "duration": 40,
    "start_time": "2022-03-04T14:20:29.649Z"
   },
   {
    "duration": 30,
    "start_time": "2022-03-04T14:20:29.691Z"
   },
   {
    "duration": 22,
    "start_time": "2022-03-04T14:20:29.723Z"
   },
   {
    "duration": 19,
    "start_time": "2022-03-04T14:20:29.747Z"
   },
   {
    "duration": 6,
    "start_time": "2022-03-04T14:20:29.767Z"
   },
   {
    "duration": 6,
    "start_time": "2022-03-04T14:20:29.775Z"
   },
   {
    "duration": 15,
    "start_time": "2022-03-04T14:20:29.782Z"
   },
   {
    "duration": 40,
    "start_time": "2022-03-04T14:20:29.799Z"
   },
   {
    "duration": 4,
    "start_time": "2022-03-04T14:20:29.841Z"
   },
   {
    "duration": 10,
    "start_time": "2022-03-04T14:20:29.847Z"
   },
   {
    "duration": 11,
    "start_time": "2022-03-04T14:20:29.859Z"
   },
   {
    "duration": 409,
    "start_time": "2022-03-04T14:20:29.872Z"
   },
   {
    "duration": 2,
    "start_time": "2022-03-04T14:20:30.283Z"
   },
   {
    "duration": 15,
    "start_time": "2022-03-04T14:20:30.287Z"
   },
   {
    "duration": 437,
    "start_time": "2022-03-04T14:20:30.304Z"
   },
   {
    "duration": 3,
    "start_time": "2022-03-04T14:20:30.744Z"
   },
   {
    "duration": 57,
    "start_time": "2022-03-04T14:20:30.749Z"
   },
   {
    "duration": 21,
    "start_time": "2022-03-04T14:20:30.809Z"
   },
   {
    "duration": 453,
    "start_time": "2022-03-04T14:20:30.833Z"
   },
   {
    "duration": 61,
    "start_time": "2022-03-04T14:20:31.288Z"
   },
   {
    "duration": 948,
    "start_time": "2022-03-04T14:20:31.351Z"
   },
   {
    "duration": 199,
    "start_time": "2022-03-04T14:20:32.302Z"
   },
   {
    "duration": 15,
    "start_time": "2022-03-04T14:21:34.823Z"
   },
   {
    "duration": 16,
    "start_time": "2022-03-04T14:25:12.762Z"
   },
   {
    "duration": 16,
    "start_time": "2022-03-04T14:26:01.695Z"
   },
   {
    "duration": 2,
    "start_time": "2022-03-04T14:26:04.831Z"
   },
   {
    "duration": 41,
    "start_time": "2022-03-04T14:26:04.835Z"
   },
   {
    "duration": 29,
    "start_time": "2022-03-04T14:26:04.878Z"
   },
   {
    "duration": 10,
    "start_time": "2022-03-04T14:26:04.909Z"
   },
   {
    "duration": 19,
    "start_time": "2022-03-04T14:26:04.938Z"
   },
   {
    "duration": 8,
    "start_time": "2022-03-04T14:26:04.958Z"
   },
   {
    "duration": 5,
    "start_time": "2022-03-04T14:26:04.968Z"
   },
   {
    "duration": 18,
    "start_time": "2022-03-04T14:26:04.976Z"
   },
   {
    "duration": 13,
    "start_time": "2022-03-04T14:26:04.996Z"
   },
   {
    "duration": 29,
    "start_time": "2022-03-04T14:26:05.011Z"
   },
   {
    "duration": 9,
    "start_time": "2022-03-04T14:26:05.042Z"
   },
   {
    "duration": 15,
    "start_time": "2022-03-04T14:26:05.052Z"
   },
   {
    "duration": 370,
    "start_time": "2022-03-04T14:26:05.069Z"
   },
   {
    "duration": 3,
    "start_time": "2022-03-04T14:26:05.441Z"
   },
   {
    "duration": 19,
    "start_time": "2022-03-04T14:26:05.445Z"
   },
   {
    "duration": 437,
    "start_time": "2022-03-04T14:26:05.466Z"
   },
   {
    "duration": 3,
    "start_time": "2022-03-04T14:26:05.905Z"
   },
   {
    "duration": 40,
    "start_time": "2022-03-04T14:26:05.910Z"
   },
   {
    "duration": 21,
    "start_time": "2022-03-04T14:26:05.951Z"
   },
   {
    "duration": 458,
    "start_time": "2022-03-04T14:26:05.973Z"
   },
   {
    "duration": 43,
    "start_time": "2022-03-04T14:26:06.433Z"
   },
   {
    "duration": 946,
    "start_time": "2022-03-04T14:26:06.478Z"
   },
   {
    "duration": 22,
    "start_time": "2022-03-04T14:26:07.428Z"
   },
   {
    "duration": 5,
    "start_time": "2022-03-04T14:34:19.399Z"
   },
   {
    "duration": 300,
    "start_time": "2022-03-04T14:35:30.542Z"
   },
   {
    "duration": 269,
    "start_time": "2022-03-04T14:36:28.572Z"
   },
   {
    "duration": 1285,
    "start_time": "2022-03-04T14:36:49.097Z"
   },
   {
    "duration": 5,
    "start_time": "2022-03-04T14:53:37.110Z"
   },
   {
    "duration": 865,
    "start_time": "2022-03-04T14:53:41.449Z"
   },
   {
    "duration": 14,
    "start_time": "2022-03-04T14:53:54.166Z"
   },
   {
    "duration": 7,
    "start_time": "2022-03-04T14:54:10.466Z"
   },
   {
    "duration": 2557,
    "start_time": "2022-03-04T14:54:15.932Z"
   },
   {
    "duration": 544,
    "start_time": "2022-03-04T14:54:31.748Z"
   },
   {
    "duration": 3,
    "start_time": "2022-03-04T14:54:34.645Z"
   },
   {
    "duration": 44,
    "start_time": "2022-03-04T14:54:34.651Z"
   },
   {
    "duration": 29,
    "start_time": "2022-03-04T14:54:34.697Z"
   },
   {
    "duration": 8,
    "start_time": "2022-03-04T14:54:34.739Z"
   },
   {
    "duration": 23,
    "start_time": "2022-03-04T14:54:34.749Z"
   },
   {
    "duration": 15,
    "start_time": "2022-03-04T14:54:34.773Z"
   },
   {
    "duration": 12,
    "start_time": "2022-03-04T14:54:34.789Z"
   },
   {
    "duration": 18,
    "start_time": "2022-03-04T14:54:34.803Z"
   },
   {
    "duration": 19,
    "start_time": "2022-03-04T14:54:34.824Z"
   },
   {
    "duration": 7,
    "start_time": "2022-03-04T14:54:34.845Z"
   },
   {
    "duration": 14,
    "start_time": "2022-03-04T14:54:34.853Z"
   },
   {
    "duration": 28,
    "start_time": "2022-03-04T14:54:34.868Z"
   },
   {
    "duration": 372,
    "start_time": "2022-03-04T14:54:34.898Z"
   },
   {
    "duration": 3,
    "start_time": "2022-03-04T14:54:35.271Z"
   },
   {
    "duration": 14,
    "start_time": "2022-03-04T14:54:35.276Z"
   },
   {
    "duration": 439,
    "start_time": "2022-03-04T14:54:35.292Z"
   },
   {
    "duration": 4,
    "start_time": "2022-03-04T14:54:35.733Z"
   },
   {
    "duration": 29,
    "start_time": "2022-03-04T14:54:35.739Z"
   },
   {
    "duration": 20,
    "start_time": "2022-03-04T14:54:35.770Z"
   },
   {
    "duration": 477,
    "start_time": "2022-03-04T14:54:35.792Z"
   },
   {
    "duration": 44,
    "start_time": "2022-03-04T14:54:36.270Z"
   },
   {
    "duration": 974,
    "start_time": "2022-03-04T14:54:36.316Z"
   },
   {
    "duration": 16,
    "start_time": "2022-03-04T14:54:37.292Z"
   },
   {
    "duration": 5,
    "start_time": "2022-03-04T14:54:37.309Z"
   },
   {
    "duration": 349,
    "start_time": "2022-03-04T14:54:37.315Z"
   },
   {
    "duration": 5,
    "start_time": "2022-03-04T14:54:37.665Z"
   },
   {
    "duration": 585,
    "start_time": "2022-03-04T14:54:37.673Z"
   },
   {
    "duration": 698,
    "start_time": "2022-03-04T14:55:47.958Z"
   },
   {
    "duration": 7,
    "start_time": "2022-03-04T14:56:33.391Z"
   },
   {
    "duration": 3,
    "start_time": "2022-03-04T14:56:37.735Z"
   },
   {
    "duration": 61,
    "start_time": "2022-03-04T14:56:37.740Z"
   },
   {
    "duration": 37,
    "start_time": "2022-03-04T14:56:37.805Z"
   },
   {
    "duration": 11,
    "start_time": "2022-03-04T14:56:37.845Z"
   },
   {
    "duration": 26,
    "start_time": "2022-03-04T14:56:37.858Z"
   },
   {
    "duration": 9,
    "start_time": "2022-03-04T14:56:37.886Z"
   },
   {
    "duration": 7,
    "start_time": "2022-03-04T14:56:37.897Z"
   },
   {
    "duration": 42,
    "start_time": "2022-03-04T14:56:37.905Z"
   },
   {
    "duration": 12,
    "start_time": "2022-03-04T14:56:37.951Z"
   },
   {
    "duration": 12,
    "start_time": "2022-03-04T14:56:37.966Z"
   },
   {
    "duration": 16,
    "start_time": "2022-03-04T14:56:37.979Z"
   },
   {
    "duration": 26,
    "start_time": "2022-03-04T14:56:37.997Z"
   },
   {
    "duration": 392,
    "start_time": "2022-03-04T14:56:38.025Z"
   },
   {
    "duration": 3,
    "start_time": "2022-03-04T14:56:38.420Z"
   },
   {
    "duration": 23,
    "start_time": "2022-03-04T14:56:38.425Z"
   },
   {
    "duration": 437,
    "start_time": "2022-03-04T14:56:38.449Z"
   },
   {
    "duration": 3,
    "start_time": "2022-03-04T14:56:38.888Z"
   },
   {
    "duration": 29,
    "start_time": "2022-03-04T14:56:38.892Z"
   },
   {
    "duration": 34,
    "start_time": "2022-03-04T14:56:38.922Z"
   },
   {
    "duration": 460,
    "start_time": "2022-03-04T14:56:38.958Z"
   },
   {
    "duration": 48,
    "start_time": "2022-03-04T14:56:39.419Z"
   },
   {
    "duration": 965,
    "start_time": "2022-03-04T14:56:39.469Z"
   },
   {
    "duration": 16,
    "start_time": "2022-03-04T14:56:40.435Z"
   },
   {
    "duration": 5,
    "start_time": "2022-03-04T14:56:40.453Z"
   },
   {
    "duration": 289,
    "start_time": "2022-03-04T14:56:40.460Z"
   },
   {
    "duration": 7,
    "start_time": "2022-03-04T14:56:40.751Z"
   },
   {
    "duration": 6,
    "start_time": "2022-03-04T14:56:40.761Z"
   },
   {
    "duration": 5,
    "start_time": "2022-03-04T14:56:51.153Z"
   },
   {
    "duration": 6,
    "start_time": "2022-03-04T14:56:57.978Z"
   },
   {
    "duration": 5,
    "start_time": "2022-03-04T14:57:02.318Z"
   },
   {
    "duration": 3,
    "start_time": "2022-03-04T14:57:07.516Z"
   },
   {
    "duration": 43,
    "start_time": "2022-03-04T14:57:07.521Z"
   },
   {
    "duration": 30,
    "start_time": "2022-03-04T14:57:07.566Z"
   },
   {
    "duration": 10,
    "start_time": "2022-03-04T14:57:07.598Z"
   },
   {
    "duration": 43,
    "start_time": "2022-03-04T14:57:07.610Z"
   },
   {
    "duration": 6,
    "start_time": "2022-03-04T14:57:07.655Z"
   },
   {
    "duration": 11,
    "start_time": "2022-03-04T14:57:07.663Z"
   },
   {
    "duration": 16,
    "start_time": "2022-03-04T14:57:07.676Z"
   },
   {
    "duration": 10,
    "start_time": "2022-03-04T14:57:07.695Z"
   },
   {
    "duration": 5,
    "start_time": "2022-03-04T14:57:07.708Z"
   },
   {
    "duration": 9,
    "start_time": "2022-03-04T14:57:07.738Z"
   },
   {
    "duration": 15,
    "start_time": "2022-03-04T14:57:07.749Z"
   },
   {
    "duration": 395,
    "start_time": "2022-03-04T14:57:07.766Z"
   },
   {
    "duration": 2,
    "start_time": "2022-03-04T14:57:08.163Z"
   },
   {
    "duration": 15,
    "start_time": "2022-03-04T14:57:08.167Z"
   },
   {
    "duration": 456,
    "start_time": "2022-03-04T14:57:08.184Z"
   },
   {
    "duration": 3,
    "start_time": "2022-03-04T14:57:08.641Z"
   },
   {
    "duration": 32,
    "start_time": "2022-03-04T14:57:08.646Z"
   },
   {
    "duration": 22,
    "start_time": "2022-03-04T14:57:08.679Z"
   },
   {
    "duration": 498,
    "start_time": "2022-03-04T14:57:08.702Z"
   },
   {
    "duration": 55,
    "start_time": "2022-03-04T14:57:09.203Z"
   },
   {
    "duration": 969,
    "start_time": "2022-03-04T14:57:09.259Z"
   },
   {
    "duration": 17,
    "start_time": "2022-03-04T14:57:10.238Z"
   },
   {
    "duration": 4,
    "start_time": "2022-03-04T14:57:10.257Z"
   },
   {
    "duration": 288,
    "start_time": "2022-03-04T14:57:10.263Z"
   },
   {
    "duration": 8,
    "start_time": "2022-03-04T14:57:10.553Z"
   },
   {
    "duration": 17,
    "start_time": "2022-03-04T14:57:10.564Z"
   },
   {
    "duration": 243,
    "start_time": "2022-03-04T14:57:50.586Z"
   },
   {
    "duration": 304,
    "start_time": "2022-03-05T12:19:53.281Z"
   },
   {
    "duration": 1118,
    "start_time": "2022-03-05T12:19:59.912Z"
   },
   {
    "duration": 47,
    "start_time": "2022-03-05T12:20:01.032Z"
   },
   {
    "duration": 33,
    "start_time": "2022-03-05T12:20:01.081Z"
   },
   {
    "duration": 9,
    "start_time": "2022-03-05T12:20:01.116Z"
   },
   {
    "duration": 44,
    "start_time": "2022-03-05T12:20:01.127Z"
   },
   {
    "duration": 16,
    "start_time": "2022-03-05T12:20:01.173Z"
   },
   {
    "duration": 21,
    "start_time": "2022-03-05T12:20:01.191Z"
   },
   {
    "duration": 18,
    "start_time": "2022-03-05T12:20:01.214Z"
   },
   {
    "duration": 27,
    "start_time": "2022-03-05T12:20:01.235Z"
   },
   {
    "duration": 23,
    "start_time": "2022-03-05T12:20:01.264Z"
   },
   {
    "duration": 27,
    "start_time": "2022-03-05T12:20:01.288Z"
   },
   {
    "duration": 14,
    "start_time": "2022-03-05T12:20:01.316Z"
   },
   {
    "duration": 338,
    "start_time": "2022-03-05T12:20:01.332Z"
   },
   {
    "duration": 2,
    "start_time": "2022-03-05T12:20:01.672Z"
   },
   {
    "duration": 53,
    "start_time": "2022-03-05T12:20:01.676Z"
   },
   {
    "duration": 416,
    "start_time": "2022-03-05T12:20:01.731Z"
   },
   {
    "duration": 3,
    "start_time": "2022-03-05T12:20:02.149Z"
   },
   {
    "duration": 39,
    "start_time": "2022-03-05T12:20:02.153Z"
   },
   {
    "duration": 21,
    "start_time": "2022-03-05T12:20:02.193Z"
   },
   {
    "duration": 435,
    "start_time": "2022-03-05T12:20:02.215Z"
   },
   {
    "duration": 50,
    "start_time": "2022-03-05T12:20:02.652Z"
   },
   {
    "duration": 842,
    "start_time": "2022-03-05T12:20:02.704Z"
   },
   {
    "duration": 20,
    "start_time": "2022-03-05T12:20:03.548Z"
   },
   {
    "duration": 12,
    "start_time": "2022-03-05T12:20:03.570Z"
   },
   {
    "duration": 269,
    "start_time": "2022-03-05T12:20:03.584Z"
   },
   {
    "duration": 6,
    "start_time": "2022-03-05T12:20:03.863Z"
   },
   {
    "duration": 33,
    "start_time": "2022-03-05T12:20:03.873Z"
   },
   {
    "duration": 263,
    "start_time": "2022-03-05T12:20:03.907Z"
   },
   {
    "duration": 13,
    "start_time": "2022-03-05T12:20:04.172Z"
   },
   {
    "duration": 8,
    "start_time": "2022-03-05T12:21:32.523Z"
   },
   {
    "duration": 7,
    "start_time": "2022-03-05T12:23:59.788Z"
   },
   {
    "duration": 11,
    "start_time": "2022-03-05T12:24:31.630Z"
   },
   {
    "duration": 268,
    "start_time": "2022-03-05T12:34:42.271Z"
   },
   {
    "duration": 3,
    "start_time": "2022-03-05T12:35:04.185Z"
   },
   {
    "duration": 46,
    "start_time": "2022-03-05T12:35:04.190Z"
   },
   {
    "duration": 27,
    "start_time": "2022-03-05T12:35:04.239Z"
   },
   {
    "duration": 10,
    "start_time": "2022-03-05T12:35:04.268Z"
   },
   {
    "duration": 18,
    "start_time": "2022-03-05T12:35:04.279Z"
   },
   {
    "duration": 13,
    "start_time": "2022-03-05T12:35:04.299Z"
   },
   {
    "duration": 8,
    "start_time": "2022-03-05T12:35:04.313Z"
   },
   {
    "duration": 14,
    "start_time": "2022-03-05T12:35:04.323Z"
   },
   {
    "duration": 29,
    "start_time": "2022-03-05T12:35:04.340Z"
   },
   {
    "duration": 4,
    "start_time": "2022-03-05T12:35:04.371Z"
   },
   {
    "duration": 18,
    "start_time": "2022-03-05T12:35:04.377Z"
   },
   {
    "duration": 23,
    "start_time": "2022-03-05T12:35:04.397Z"
   },
   {
    "duration": 319,
    "start_time": "2022-03-05T12:35:04.422Z"
   },
   {
    "duration": 2,
    "start_time": "2022-03-05T12:35:04.743Z"
   },
   {
    "duration": 40,
    "start_time": "2022-03-05T12:35:04.747Z"
   },
   {
    "duration": 397,
    "start_time": "2022-03-05T12:35:04.789Z"
   },
   {
    "duration": 3,
    "start_time": "2022-03-05T12:35:05.187Z"
   },
   {
    "duration": 47,
    "start_time": "2022-03-05T12:35:05.191Z"
   },
   {
    "duration": 23,
    "start_time": "2022-03-05T12:35:05.240Z"
   },
   {
    "duration": 499,
    "start_time": "2022-03-05T12:35:05.264Z"
   },
   {
    "duration": 42,
    "start_time": "2022-03-05T12:35:05.764Z"
   },
   {
    "duration": 871,
    "start_time": "2022-03-05T12:35:05.807Z"
   },
   {
    "duration": 15,
    "start_time": "2022-03-05T12:35:06.680Z"
   },
   {
    "duration": 5,
    "start_time": "2022-03-05T12:35:06.696Z"
   },
   {
    "duration": 261,
    "start_time": "2022-03-05T12:35:06.702Z"
   },
   {
    "duration": 7,
    "start_time": "2022-03-05T12:35:06.964Z"
   },
   {
    "duration": 9,
    "start_time": "2022-03-05T12:35:06.973Z"
   },
   {
    "duration": 264,
    "start_time": "2022-03-05T12:35:06.984Z"
   },
   {
    "duration": 16,
    "start_time": "2022-03-05T12:35:07.250Z"
   },
   {
    "duration": 275,
    "start_time": "2022-03-05T12:35:07.267Z"
   },
   {
    "duration": 20,
    "start_time": "2022-03-05T12:35:07.544Z"
   },
   {
    "duration": 13,
    "start_time": "2022-03-05T13:00:18.577Z"
   },
   {
    "duration": 211,
    "start_time": "2022-03-05T13:01:44.226Z"
   },
   {
    "duration": 3,
    "start_time": "2022-03-05T13:02:05.064Z"
   },
   {
    "duration": 46,
    "start_time": "2022-03-05T13:02:05.069Z"
   },
   {
    "duration": 25,
    "start_time": "2022-03-05T13:02:05.117Z"
   },
   {
    "duration": 25,
    "start_time": "2022-03-05T13:02:05.144Z"
   },
   {
    "duration": 18,
    "start_time": "2022-03-05T13:02:05.170Z"
   },
   {
    "duration": 6,
    "start_time": "2022-03-05T13:02:05.190Z"
   },
   {
    "duration": 9,
    "start_time": "2022-03-05T13:02:05.197Z"
   },
   {
    "duration": 37,
    "start_time": "2022-03-05T13:02:05.207Z"
   },
   {
    "duration": 40,
    "start_time": "2022-03-05T13:02:05.246Z"
   },
   {
    "duration": 17,
    "start_time": "2022-03-05T13:02:05.288Z"
   },
   {
    "duration": 16,
    "start_time": "2022-03-05T13:02:05.307Z"
   },
   {
    "duration": 15,
    "start_time": "2022-03-05T13:02:05.324Z"
   },
   {
    "duration": 411,
    "start_time": "2022-03-05T13:02:05.341Z"
   },
   {
    "duration": 2,
    "start_time": "2022-03-05T13:02:05.754Z"
   },
   {
    "duration": 20,
    "start_time": "2022-03-05T13:02:05.763Z"
   },
   {
    "duration": 383,
    "start_time": "2022-03-05T13:02:05.785Z"
   },
   {
    "duration": 2,
    "start_time": "2022-03-05T13:02:06.170Z"
   },
   {
    "duration": 34,
    "start_time": "2022-03-05T13:02:06.174Z"
   },
   {
    "duration": 19,
    "start_time": "2022-03-05T13:02:06.210Z"
   },
   {
    "duration": 432,
    "start_time": "2022-03-05T13:02:06.230Z"
   },
   {
    "duration": 40,
    "start_time": "2022-03-05T13:02:06.664Z"
   },
   {
    "duration": 764,
    "start_time": "2022-03-05T13:02:06.706Z"
   },
   {
    "duration": 14,
    "start_time": "2022-03-05T13:02:07.472Z"
   },
   {
    "duration": 4,
    "start_time": "2022-03-05T13:02:07.487Z"
   },
   {
    "duration": 252,
    "start_time": "2022-03-05T13:02:07.492Z"
   },
   {
    "duration": 6,
    "start_time": "2022-03-05T13:02:07.746Z"
   },
   {
    "duration": 5,
    "start_time": "2022-03-05T13:02:07.765Z"
   },
   {
    "duration": 262,
    "start_time": "2022-03-05T13:02:07.771Z"
   },
   {
    "duration": 7,
    "start_time": "2022-03-05T13:02:08.035Z"
   },
   {
    "duration": 399,
    "start_time": "2022-03-05T13:02:08.043Z"
   },
   {
    "duration": 20,
    "start_time": "2022-03-05T13:02:08.443Z"
   },
   {
    "duration": 11,
    "start_time": "2022-03-05T13:02:08.464Z"
   },
   {
    "duration": 222,
    "start_time": "2022-03-05T13:02:08.477Z"
   },
   {
    "duration": 3,
    "start_time": "2022-03-05T13:07:08.417Z"
   },
   {
    "duration": 46,
    "start_time": "2022-03-05T13:07:08.423Z"
   },
   {
    "duration": 32,
    "start_time": "2022-03-05T13:07:08.471Z"
   },
   {
    "duration": 10,
    "start_time": "2022-03-05T13:07:08.505Z"
   },
   {
    "duration": 51,
    "start_time": "2022-03-05T13:07:08.517Z"
   },
   {
    "duration": 7,
    "start_time": "2022-03-05T13:07:08.570Z"
   },
   {
    "duration": 7,
    "start_time": "2022-03-05T13:07:08.578Z"
   },
   {
    "duration": 12,
    "start_time": "2022-03-05T13:07:08.587Z"
   },
   {
    "duration": 11,
    "start_time": "2022-03-05T13:07:08.602Z"
   },
   {
    "duration": 4,
    "start_time": "2022-03-05T13:07:08.615Z"
   },
   {
    "duration": 44,
    "start_time": "2022-03-05T13:07:08.620Z"
   },
   {
    "duration": 12,
    "start_time": "2022-03-05T13:07:08.665Z"
   },
   {
    "duration": 335,
    "start_time": "2022-03-05T13:07:08.678Z"
   },
   {
    "duration": 2,
    "start_time": "2022-03-05T13:07:09.015Z"
   },
   {
    "duration": 19,
    "start_time": "2022-03-05T13:07:09.019Z"
   },
   {
    "duration": 385,
    "start_time": "2022-03-05T13:07:09.040Z"
   },
   {
    "duration": 3,
    "start_time": "2022-03-05T13:07:09.427Z"
   },
   {
    "duration": 38,
    "start_time": "2022-03-05T13:07:09.432Z"
   },
   {
    "duration": 885,
    "start_time": "2022-03-05T13:07:09.472Z"
   },
   {
    "duration": -100,
    "start_time": "2022-03-05T13:07:10.459Z"
   },
   {
    "duration": -99,
    "start_time": "2022-03-05T13:07:10.460Z"
   },
   {
    "duration": -100,
    "start_time": "2022-03-05T13:07:10.462Z"
   },
   {
    "duration": -100,
    "start_time": "2022-03-05T13:07:10.463Z"
   },
   {
    "duration": -99,
    "start_time": "2022-03-05T13:07:10.464Z"
   },
   {
    "duration": -99,
    "start_time": "2022-03-05T13:07:10.466Z"
   },
   {
    "duration": -99,
    "start_time": "2022-03-05T13:07:10.467Z"
   },
   {
    "duration": -99,
    "start_time": "2022-03-05T13:07:10.468Z"
   },
   {
    "duration": -98,
    "start_time": "2022-03-05T13:07:10.469Z"
   },
   {
    "duration": -98,
    "start_time": "2022-03-05T13:07:10.470Z"
   },
   {
    "duration": -98,
    "start_time": "2022-03-05T13:07:10.471Z"
   },
   {
    "duration": -98,
    "start_time": "2022-03-05T13:07:10.472Z"
   },
   {
    "duration": -97,
    "start_time": "2022-03-05T13:07:10.473Z"
   },
   {
    "duration": -97,
    "start_time": "2022-03-05T13:07:10.474Z"
   },
   {
    "duration": 26,
    "start_time": "2022-03-05T13:09:04.423Z"
   },
   {
    "duration": 20,
    "start_time": "2022-03-05T13:09:10.259Z"
   },
   {
    "duration": 3,
    "start_time": "2022-03-05T13:09:13.938Z"
   },
   {
    "duration": 57,
    "start_time": "2022-03-05T13:09:13.943Z"
   },
   {
    "duration": 27,
    "start_time": "2022-03-05T13:09:14.002Z"
   },
   {
    "duration": 9,
    "start_time": "2022-03-05T13:09:14.031Z"
   },
   {
    "duration": 35,
    "start_time": "2022-03-05T13:09:14.042Z"
   },
   {
    "duration": 15,
    "start_time": "2022-03-05T13:09:14.078Z"
   },
   {
    "duration": 22,
    "start_time": "2022-03-05T13:09:14.095Z"
   },
   {
    "duration": 16,
    "start_time": "2022-03-05T13:09:14.119Z"
   },
   {
    "duration": 9,
    "start_time": "2022-03-05T13:09:14.137Z"
   },
   {
    "duration": 4,
    "start_time": "2022-03-05T13:09:14.147Z"
   },
   {
    "duration": 11,
    "start_time": "2022-03-05T13:09:14.153Z"
   },
   {
    "duration": 13,
    "start_time": "2022-03-05T13:09:14.166Z"
   },
   {
    "duration": 331,
    "start_time": "2022-03-05T13:09:14.181Z"
   },
   {
    "duration": 2,
    "start_time": "2022-03-05T13:09:14.514Z"
   },
   {
    "duration": 19,
    "start_time": "2022-03-05T13:09:14.517Z"
   },
   {
    "duration": 387,
    "start_time": "2022-03-05T13:09:14.537Z"
   },
   {
    "duration": 3,
    "start_time": "2022-03-05T13:09:14.926Z"
   },
   {
    "duration": 41,
    "start_time": "2022-03-05T13:09:14.931Z"
   },
   {
    "duration": 21,
    "start_time": "2022-03-05T13:09:14.974Z"
   },
   {
    "duration": 533,
    "start_time": "2022-03-05T13:09:14.997Z"
   },
   {
    "duration": 53,
    "start_time": "2022-03-05T13:09:15.532Z"
   },
   {
    "duration": 790,
    "start_time": "2022-03-05T13:09:15.587Z"
   },
   {
    "duration": 16,
    "start_time": "2022-03-05T13:09:16.381Z"
   },
   {
    "duration": 4,
    "start_time": "2022-03-05T13:09:16.399Z"
   },
   {
    "duration": 273,
    "start_time": "2022-03-05T13:09:16.405Z"
   },
   {
    "duration": 8,
    "start_time": "2022-03-05T13:09:16.680Z"
   },
   {
    "duration": 7,
    "start_time": "2022-03-05T13:09:16.690Z"
   },
   {
    "duration": 274,
    "start_time": "2022-03-05T13:09:16.699Z"
   },
   {
    "duration": 9,
    "start_time": "2022-03-05T13:09:16.975Z"
   },
   {
    "duration": 289,
    "start_time": "2022-03-05T13:09:16.986Z"
   },
   {
    "duration": 9,
    "start_time": "2022-03-05T13:09:17.277Z"
   },
   {
    "duration": 12,
    "start_time": "2022-03-05T13:09:17.288Z"
   },
   {
    "duration": 228,
    "start_time": "2022-03-05T13:09:17.302Z"
   },
   {
    "duration": 3,
    "start_time": "2022-03-05T13:25:21.009Z"
   },
   {
    "duration": 40,
    "start_time": "2022-03-05T13:25:21.014Z"
   },
   {
    "duration": 26,
    "start_time": "2022-03-05T13:25:21.055Z"
   },
   {
    "duration": 8,
    "start_time": "2022-03-05T13:25:21.083Z"
   },
   {
    "duration": 23,
    "start_time": "2022-03-05T13:25:21.093Z"
   },
   {
    "duration": 7,
    "start_time": "2022-03-05T13:25:21.117Z"
   },
   {
    "duration": 7,
    "start_time": "2022-03-05T13:25:21.126Z"
   },
   {
    "duration": 35,
    "start_time": "2022-03-05T13:25:21.135Z"
   },
   {
    "duration": 10,
    "start_time": "2022-03-05T13:25:21.172Z"
   },
   {
    "duration": 6,
    "start_time": "2022-03-05T13:25:21.184Z"
   },
   {
    "duration": 14,
    "start_time": "2022-03-05T13:25:21.191Z"
   },
   {
    "duration": 16,
    "start_time": "2022-03-05T13:25:21.206Z"
   },
   {
    "duration": 330,
    "start_time": "2022-03-05T13:25:21.224Z"
   },
   {
    "duration": 8,
    "start_time": "2022-03-05T13:25:21.555Z"
   },
   {
    "duration": 12,
    "start_time": "2022-03-05T13:25:21.564Z"
   },
   {
    "duration": 469,
    "start_time": "2022-03-05T13:25:21.578Z"
   },
   {
    "duration": 14,
    "start_time": "2022-03-05T13:25:22.049Z"
   },
   {
    "duration": 27,
    "start_time": "2022-03-05T13:25:22.064Z"
   },
   {
    "duration": 21,
    "start_time": "2022-03-05T13:25:22.093Z"
   },
   {
    "duration": 430,
    "start_time": "2022-03-05T13:25:22.115Z"
   },
   {
    "duration": 48,
    "start_time": "2022-03-05T13:25:22.547Z"
   },
   {
    "duration": 759,
    "start_time": "2022-03-05T13:25:22.597Z"
   },
   {
    "duration": 16,
    "start_time": "2022-03-05T13:25:23.359Z"
   },
   {
    "duration": 9,
    "start_time": "2022-03-05T13:25:23.377Z"
   },
   {
    "duration": 266,
    "start_time": "2022-03-05T13:25:23.388Z"
   },
   {
    "duration": 7,
    "start_time": "2022-03-05T13:25:23.662Z"
   },
   {
    "duration": 6,
    "start_time": "2022-03-05T13:25:23.671Z"
   },
   {
    "duration": 262,
    "start_time": "2022-03-05T13:25:23.679Z"
   },
   {
    "duration": 21,
    "start_time": "2022-03-05T13:25:23.943Z"
   },
   {
    "duration": 301,
    "start_time": "2022-03-05T13:25:23.966Z"
   },
   {
    "duration": 8,
    "start_time": "2022-03-05T13:25:24.269Z"
   },
   {
    "duration": 13,
    "start_time": "2022-03-05T13:25:24.279Z"
   },
   {
    "duration": 229,
    "start_time": "2022-03-05T13:25:24.294Z"
   },
   {
    "duration": 412,
    "start_time": "2022-03-05T13:25:46.010Z"
   },
   {
    "duration": 3,
    "start_time": "2022-03-05T13:26:44.115Z"
   },
   {
    "duration": 46,
    "start_time": "2022-03-05T13:26:44.120Z"
   },
   {
    "duration": 26,
    "start_time": "2022-03-05T13:26:44.168Z"
   },
   {
    "duration": 8,
    "start_time": "2022-03-05T13:26:44.196Z"
   },
   {
    "duration": 21,
    "start_time": "2022-03-05T13:26:44.205Z"
   },
   {
    "duration": 35,
    "start_time": "2022-03-05T13:26:44.228Z"
   },
   {
    "duration": 6,
    "start_time": "2022-03-05T13:26:44.265Z"
   },
   {
    "duration": 13,
    "start_time": "2022-03-05T13:26:44.273Z"
   },
   {
    "duration": 10,
    "start_time": "2022-03-05T13:26:44.288Z"
   },
   {
    "duration": 123,
    "start_time": "2022-03-05T13:26:44.300Z"
   },
   {
    "duration": 11,
    "start_time": "2022-03-05T13:26:44.424Z"
   },
   {
    "duration": 28,
    "start_time": "2022-03-05T13:26:44.436Z"
   },
   {
    "duration": 338,
    "start_time": "2022-03-05T13:26:44.465Z"
   },
   {
    "duration": 2,
    "start_time": "2022-03-05T13:26:44.805Z"
   },
   {
    "duration": 13,
    "start_time": "2022-03-05T13:26:44.809Z"
   },
   {
    "duration": 502,
    "start_time": "2022-03-05T13:26:44.824Z"
   },
   {
    "duration": 2,
    "start_time": "2022-03-05T13:26:45.328Z"
   },
   {
    "duration": 39,
    "start_time": "2022-03-05T13:26:45.332Z"
   },
   {
    "duration": 21,
    "start_time": "2022-03-05T13:26:45.372Z"
   },
   {
    "duration": 450,
    "start_time": "2022-03-05T13:26:45.395Z"
   },
   {
    "duration": 48,
    "start_time": "2022-03-05T13:26:45.847Z"
   },
   {
    "duration": 777,
    "start_time": "2022-03-05T13:26:45.897Z"
   },
   {
    "duration": 17,
    "start_time": "2022-03-05T13:26:46.679Z"
   },
   {
    "duration": 16,
    "start_time": "2022-03-05T13:26:46.699Z"
   },
   {
    "duration": 388,
    "start_time": "2022-03-05T13:26:46.717Z"
   },
   {
    "duration": 8,
    "start_time": "2022-03-05T13:26:47.107Z"
   },
   {
    "duration": 17,
    "start_time": "2022-03-05T13:26:47.117Z"
   },
   {
    "duration": 304,
    "start_time": "2022-03-05T13:26:47.136Z"
   },
   {
    "duration": 8,
    "start_time": "2022-03-05T13:26:47.441Z"
   },
   {
    "duration": 282,
    "start_time": "2022-03-05T13:26:47.463Z"
   },
   {
    "duration": 17,
    "start_time": "2022-03-05T13:26:47.747Z"
   },
   {
    "duration": 20,
    "start_time": "2022-03-05T13:26:47.765Z"
   },
   {
    "duration": 223,
    "start_time": "2022-03-05T13:26:47.787Z"
   },
   {
    "duration": 21,
    "start_time": "2022-03-05T13:44:17.949Z"
   },
   {
    "duration": 7,
    "start_time": "2022-03-05T13:46:54.722Z"
   },
   {
    "duration": 17,
    "start_time": "2022-03-05T13:47:03.516Z"
   },
   {
    "duration": 18,
    "start_time": "2022-03-05T13:49:34.669Z"
   },
   {
    "duration": 11,
    "start_time": "2022-03-05T13:50:13.289Z"
   },
   {
    "duration": 7,
    "start_time": "2022-03-05T13:58:19.776Z"
   },
   {
    "duration": 13,
    "start_time": "2022-03-05T13:58:30.520Z"
   },
   {
    "duration": 9,
    "start_time": "2022-03-05T14:00:01.011Z"
   },
   {
    "duration": 15,
    "start_time": "2022-03-05T14:05:32.189Z"
   },
   {
    "duration": 15,
    "start_time": "2022-03-05T14:09:10.060Z"
   },
   {
    "duration": 4,
    "start_time": "2022-03-05T14:15:04.085Z"
   },
   {
    "duration": 41,
    "start_time": "2022-03-05T14:15:04.091Z"
   },
   {
    "duration": 25,
    "start_time": "2022-03-05T14:15:04.135Z"
   },
   {
    "duration": 10,
    "start_time": "2022-03-05T14:15:04.163Z"
   },
   {
    "duration": 17,
    "start_time": "2022-03-05T14:15:04.174Z"
   },
   {
    "duration": 9,
    "start_time": "2022-03-05T14:15:04.193Z"
   },
   {
    "duration": 6,
    "start_time": "2022-03-05T14:15:04.203Z"
   },
   {
    "duration": 26,
    "start_time": "2022-03-05T14:15:04.211Z"
   },
   {
    "duration": 27,
    "start_time": "2022-03-05T14:15:04.239Z"
   },
   {
    "duration": 5,
    "start_time": "2022-03-05T14:15:04.268Z"
   },
   {
    "duration": 12,
    "start_time": "2022-03-05T14:15:04.275Z"
   },
   {
    "duration": 13,
    "start_time": "2022-03-05T14:15:04.289Z"
   },
   {
    "duration": 332,
    "start_time": "2022-03-05T14:15:04.303Z"
   },
   {
    "duration": 2,
    "start_time": "2022-03-05T14:15:04.637Z"
   },
   {
    "duration": 23,
    "start_time": "2022-03-05T14:15:04.641Z"
   },
   {
    "duration": 400,
    "start_time": "2022-03-05T14:15:04.665Z"
   },
   {
    "duration": 2,
    "start_time": "2022-03-05T14:15:05.067Z"
   },
   {
    "duration": 30,
    "start_time": "2022-03-05T14:15:05.071Z"
   },
   {
    "duration": 20,
    "start_time": "2022-03-05T14:15:05.102Z"
   },
   {
    "duration": 418,
    "start_time": "2022-03-05T14:15:05.123Z"
   },
   {
    "duration": 50,
    "start_time": "2022-03-05T14:15:05.542Z"
   },
   {
    "duration": 837,
    "start_time": "2022-03-05T14:15:05.593Z"
   },
   {
    "duration": 14,
    "start_time": "2022-03-05T14:15:06.432Z"
   },
   {
    "duration": 15,
    "start_time": "2022-03-05T14:15:06.448Z"
   },
   {
    "duration": 278,
    "start_time": "2022-03-05T14:15:06.465Z"
   },
   {
    "duration": 18,
    "start_time": "2022-03-05T14:15:06.745Z"
   },
   {
    "duration": 12,
    "start_time": "2022-03-05T14:15:06.766Z"
   },
   {
    "duration": 257,
    "start_time": "2022-03-05T14:15:06.779Z"
   },
   {
    "duration": 25,
    "start_time": "2022-03-05T14:15:07.038Z"
   },
   {
    "duration": 285,
    "start_time": "2022-03-05T14:15:07.064Z"
   },
   {
    "duration": 18,
    "start_time": "2022-03-05T14:15:07.351Z"
   },
   {
    "duration": 11,
    "start_time": "2022-03-05T14:15:07.371Z"
   },
   {
    "duration": 219,
    "start_time": "2022-03-05T14:15:07.384Z"
   },
   {
    "duration": 8,
    "start_time": "2022-03-05T14:15:07.605Z"
   },
   {
    "duration": 13,
    "start_time": "2022-03-05T14:15:07.615Z"
   },
   {
    "duration": 38,
    "start_time": "2022-03-05T14:15:07.630Z"
   },
   {
    "duration": 13,
    "start_time": "2022-03-05T14:15:07.669Z"
   },
   {
    "duration": 13,
    "start_time": "2022-03-05T14:17:17.307Z"
   },
   {
    "duration": 13,
    "start_time": "2022-03-05T14:20:56.154Z"
   },
   {
    "duration": 13,
    "start_time": "2022-03-05T14:23:19.335Z"
   },
   {
    "duration": 3,
    "start_time": "2022-03-05T14:28:43.883Z"
   },
   {
    "duration": 40,
    "start_time": "2022-03-05T14:28:43.888Z"
   },
   {
    "duration": 27,
    "start_time": "2022-03-05T14:28:43.930Z"
   },
   {
    "duration": 9,
    "start_time": "2022-03-05T14:28:43.963Z"
   },
   {
    "duration": 20,
    "start_time": "2022-03-05T14:28:43.973Z"
   },
   {
    "duration": 8,
    "start_time": "2022-03-05T14:28:43.994Z"
   },
   {
    "duration": 6,
    "start_time": "2022-03-05T14:28:44.003Z"
   },
   {
    "duration": 15,
    "start_time": "2022-03-05T14:28:44.011Z"
   },
   {
    "duration": 35,
    "start_time": "2022-03-05T14:28:44.028Z"
   },
   {
    "duration": 6,
    "start_time": "2022-03-05T14:28:44.065Z"
   },
   {
    "duration": 9,
    "start_time": "2022-03-05T14:28:44.073Z"
   },
   {
    "duration": 11,
    "start_time": "2022-03-05T14:28:44.084Z"
   },
   {
    "duration": 343,
    "start_time": "2022-03-05T14:28:44.097Z"
   },
   {
    "duration": 3,
    "start_time": "2022-03-05T14:28:44.441Z"
   },
   {
    "duration": 24,
    "start_time": "2022-03-05T14:28:44.445Z"
   },
   {
    "duration": 488,
    "start_time": "2022-03-05T14:28:44.470Z"
   },
   {
    "duration": 4,
    "start_time": "2022-03-05T14:28:44.959Z"
   },
   {
    "duration": 28,
    "start_time": "2022-03-05T14:28:44.965Z"
   },
   {
    "duration": 20,
    "start_time": "2022-03-05T14:28:44.995Z"
   },
   {
    "duration": 431,
    "start_time": "2022-03-05T14:28:45.017Z"
   },
   {
    "duration": 48,
    "start_time": "2022-03-05T14:28:45.450Z"
   },
   {
    "duration": 762,
    "start_time": "2022-03-05T14:28:45.500Z"
   },
   {
    "duration": 14,
    "start_time": "2022-03-05T14:28:46.266Z"
   },
   {
    "duration": 4,
    "start_time": "2022-03-05T14:28:46.282Z"
   },
   {
    "duration": 262,
    "start_time": "2022-03-05T14:28:46.287Z"
   },
   {
    "duration": 15,
    "start_time": "2022-03-05T14:28:46.551Z"
   },
   {
    "duration": 6,
    "start_time": "2022-03-05T14:28:46.568Z"
   },
   {
    "duration": 261,
    "start_time": "2022-03-05T14:28:46.576Z"
   },
   {
    "duration": 7,
    "start_time": "2022-03-05T14:28:46.839Z"
   },
   {
    "duration": 308,
    "start_time": "2022-03-05T14:28:46.848Z"
   },
   {
    "duration": 10,
    "start_time": "2022-03-05T14:28:47.163Z"
   },
   {
    "duration": 16,
    "start_time": "2022-03-05T14:28:47.174Z"
   },
   {
    "duration": 223,
    "start_time": "2022-03-05T14:28:47.192Z"
   },
   {
    "duration": 7,
    "start_time": "2022-03-05T14:28:47.417Z"
   },
   {
    "duration": 23,
    "start_time": "2022-03-05T14:28:47.426Z"
   },
   {
    "duration": 20,
    "start_time": "2022-03-05T14:28:47.451Z"
   },
   {
    "duration": 14,
    "start_time": "2022-03-05T14:28:47.472Z"
   },
   {
    "duration": 10,
    "start_time": "2022-03-05T14:28:47.488Z"
   },
   {
    "duration": 11,
    "start_time": "2022-03-05T14:28:47.500Z"
   },
   {
    "duration": 32,
    "start_time": "2022-03-05T14:28:47.512Z"
   },
   {
    "duration": 18,
    "start_time": "2022-03-05T14:32:29.449Z"
   },
   {
    "duration": 11,
    "start_time": "2022-03-05T14:39:19.737Z"
   },
   {
    "duration": 7,
    "start_time": "2022-03-05T14:41:31.326Z"
   },
   {
    "duration": 230,
    "start_time": "2022-03-05T14:47:02.948Z"
   },
   {
    "duration": 219,
    "start_time": "2022-03-05T14:47:52.231Z"
   },
   {
    "duration": 219,
    "start_time": "2022-03-05T14:48:32.075Z"
   },
   {
    "duration": 223,
    "start_time": "2022-03-05T14:50:17.788Z"
   },
   {
    "duration": 3,
    "start_time": "2022-03-05T14:50:24.943Z"
   },
   {
    "duration": 43,
    "start_time": "2022-03-05T14:50:24.948Z"
   },
   {
    "duration": 31,
    "start_time": "2022-03-05T14:50:24.994Z"
   },
   {
    "duration": 40,
    "start_time": "2022-03-05T14:50:25.027Z"
   },
   {
    "duration": 19,
    "start_time": "2022-03-05T14:50:25.069Z"
   },
   {
    "duration": 7,
    "start_time": "2022-03-05T14:50:25.090Z"
   },
   {
    "duration": 6,
    "start_time": "2022-03-05T14:50:25.098Z"
   },
   {
    "duration": 13,
    "start_time": "2022-03-05T14:50:25.106Z"
   },
   {
    "duration": 47,
    "start_time": "2022-03-05T14:50:25.123Z"
   },
   {
    "duration": 5,
    "start_time": "2022-03-05T14:50:25.173Z"
   },
   {
    "duration": 10,
    "start_time": "2022-03-05T14:50:25.179Z"
   },
   {
    "duration": 14,
    "start_time": "2022-03-05T14:50:25.190Z"
   },
   {
    "duration": 456,
    "start_time": "2022-03-05T14:50:25.206Z"
   },
   {
    "duration": 3,
    "start_time": "2022-03-05T14:50:25.664Z"
   },
   {
    "duration": 18,
    "start_time": "2022-03-05T14:50:25.668Z"
   },
   {
    "duration": 388,
    "start_time": "2022-03-05T14:50:25.687Z"
   },
   {
    "duration": 2,
    "start_time": "2022-03-05T14:50:26.077Z"
   },
   {
    "duration": 28,
    "start_time": "2022-03-05T14:50:26.081Z"
   },
   {
    "duration": 22,
    "start_time": "2022-03-05T14:50:26.111Z"
   },
   {
    "duration": 436,
    "start_time": "2022-03-05T14:50:26.135Z"
   },
   {
    "duration": 44,
    "start_time": "2022-03-05T14:50:26.573Z"
   },
   {
    "duration": 768,
    "start_time": "2022-03-05T14:50:26.619Z"
   },
   {
    "duration": 15,
    "start_time": "2022-03-05T14:50:27.388Z"
   },
   {
    "duration": 11,
    "start_time": "2022-03-05T14:50:27.404Z"
   },
   {
    "duration": 264,
    "start_time": "2022-03-05T14:50:27.416Z"
   },
   {
    "duration": 6,
    "start_time": "2022-03-05T14:50:27.681Z"
   },
   {
    "duration": 13,
    "start_time": "2022-03-05T14:50:27.690Z"
   },
   {
    "duration": 241,
    "start_time": "2022-03-05T14:50:27.705Z"
   },
   {
    "duration": 19,
    "start_time": "2022-03-05T14:50:27.948Z"
   },
   {
    "duration": 378,
    "start_time": "2022-03-05T14:50:27.968Z"
   },
   {
    "duration": 19,
    "start_time": "2022-03-05T14:50:28.347Z"
   },
   {
    "duration": 12,
    "start_time": "2022-03-05T14:50:28.368Z"
   },
   {
    "duration": 230,
    "start_time": "2022-03-05T14:50:28.382Z"
   },
   {
    "duration": 17,
    "start_time": "2022-03-05T14:50:28.614Z"
   },
   {
    "duration": 31,
    "start_time": "2022-03-05T14:50:28.633Z"
   },
   {
    "duration": 14,
    "start_time": "2022-03-05T14:50:28.665Z"
   },
   {
    "duration": 13,
    "start_time": "2022-03-05T14:50:28.680Z"
   },
   {
    "duration": 12,
    "start_time": "2022-03-05T14:50:28.694Z"
   },
   {
    "duration": 12,
    "start_time": "2022-03-05T14:50:28.707Z"
   },
   {
    "duration": 44,
    "start_time": "2022-03-05T14:50:28.720Z"
   },
   {
    "duration": 6,
    "start_time": "2022-03-05T14:50:28.766Z"
   },
   {
    "duration": 209,
    "start_time": "2022-03-05T14:50:28.774Z"
   },
   {
    "duration": 409,
    "start_time": "2022-03-05T14:51:07.270Z"
   },
   {
    "duration": 402,
    "start_time": "2022-03-05T14:51:11.674Z"
   },
   {
    "duration": 5,
    "start_time": "2022-03-05T14:51:53.516Z"
   },
   {
    "duration": 8,
    "start_time": "2022-03-05T14:53:54.024Z"
   },
   {
    "duration": 151,
    "start_time": "2022-03-05T14:53:55.620Z"
   },
   {
    "duration": 215,
    "start_time": "2022-03-05T14:57:58.571Z"
   },
   {
    "duration": 3,
    "start_time": "2022-03-05T14:58:05.749Z"
   },
   {
    "duration": 47,
    "start_time": "2022-03-05T14:58:05.754Z"
   },
   {
    "duration": 28,
    "start_time": "2022-03-05T14:58:05.802Z"
   },
   {
    "duration": 35,
    "start_time": "2022-03-05T14:58:05.832Z"
   },
   {
    "duration": 19,
    "start_time": "2022-03-05T14:58:05.868Z"
   },
   {
    "duration": 6,
    "start_time": "2022-03-05T14:58:05.889Z"
   },
   {
    "duration": 6,
    "start_time": "2022-03-05T14:58:05.897Z"
   },
   {
    "duration": 14,
    "start_time": "2022-03-05T14:58:05.905Z"
   },
   {
    "duration": 11,
    "start_time": "2022-03-05T14:58:05.920Z"
   },
   {
    "duration": 5,
    "start_time": "2022-03-05T14:58:05.964Z"
   },
   {
    "duration": 14,
    "start_time": "2022-03-05T14:58:05.970Z"
   },
   {
    "duration": 17,
    "start_time": "2022-03-05T14:58:05.986Z"
   },
   {
    "duration": 346,
    "start_time": "2022-03-05T14:58:06.005Z"
   },
   {
    "duration": 2,
    "start_time": "2022-03-05T14:58:06.353Z"
   },
   {
    "duration": 26,
    "start_time": "2022-03-05T14:58:06.357Z"
   },
   {
    "duration": 380,
    "start_time": "2022-03-05T14:58:06.385Z"
   },
   {
    "duration": 3,
    "start_time": "2022-03-05T14:58:06.767Z"
   },
   {
    "duration": 37,
    "start_time": "2022-03-05T14:58:06.771Z"
   },
   {
    "duration": 22,
    "start_time": "2022-03-05T14:58:06.811Z"
   },
   {
    "duration": 408,
    "start_time": "2022-03-05T14:58:06.835Z"
   },
   {
    "duration": 47,
    "start_time": "2022-03-05T14:58:07.245Z"
   },
   {
    "duration": 850,
    "start_time": "2022-03-05T14:58:07.294Z"
   },
   {
    "duration": 21,
    "start_time": "2022-03-05T14:58:08.146Z"
   },
   {
    "duration": 4,
    "start_time": "2022-03-05T14:58:08.168Z"
   },
   {
    "duration": 276,
    "start_time": "2022-03-05T14:58:08.174Z"
   },
   {
    "duration": 15,
    "start_time": "2022-03-05T14:58:08.452Z"
   },
   {
    "duration": 9,
    "start_time": "2022-03-05T14:58:08.469Z"
   },
   {
    "duration": 285,
    "start_time": "2022-03-05T14:58:08.479Z"
   },
   {
    "duration": 7,
    "start_time": "2022-03-05T14:58:08.766Z"
   },
   {
    "duration": 280,
    "start_time": "2022-03-05T14:58:08.775Z"
   },
   {
    "duration": 15,
    "start_time": "2022-03-05T14:58:09.057Z"
   },
   {
    "duration": 16,
    "start_time": "2022-03-05T14:58:09.074Z"
   },
   {
    "duration": 235,
    "start_time": "2022-03-05T14:58:09.092Z"
   },
   {
    "duration": 16,
    "start_time": "2022-03-05T14:58:09.328Z"
   },
   {
    "duration": 26,
    "start_time": "2022-03-05T14:58:09.346Z"
   },
   {
    "duration": 14,
    "start_time": "2022-03-05T14:58:09.373Z"
   },
   {
    "duration": 12,
    "start_time": "2022-03-05T14:58:09.389Z"
   },
   {
    "duration": 11,
    "start_time": "2022-03-05T14:58:09.403Z"
   },
   {
    "duration": 11,
    "start_time": "2022-03-05T14:58:09.416Z"
   },
   {
    "duration": 41,
    "start_time": "2022-03-05T14:58:09.429Z"
   },
   {
    "duration": 8,
    "start_time": "2022-03-05T14:58:09.471Z"
   },
   {
    "duration": 172,
    "start_time": "2022-03-05T14:58:09.481Z"
   },
   {
    "duration": 13,
    "start_time": "2022-03-05T14:58:09.655Z"
   },
   {
    "duration": 8,
    "start_time": "2022-03-05T14:58:54.199Z"
   },
   {
    "duration": 142,
    "start_time": "2022-03-05T14:59:12.978Z"
   },
   {
    "duration": 9,
    "start_time": "2022-03-05T15:03:34.464Z"
   },
   {
    "duration": 145,
    "start_time": "2022-03-05T15:03:52.305Z"
   },
   {
    "duration": 4,
    "start_time": "2022-03-05T15:08:59.017Z"
   },
   {
    "duration": 57,
    "start_time": "2022-03-05T15:08:59.023Z"
   },
   {
    "duration": 39,
    "start_time": "2022-03-05T15:08:59.082Z"
   },
   {
    "duration": 11,
    "start_time": "2022-03-05T15:08:59.124Z"
   },
   {
    "duration": 50,
    "start_time": "2022-03-05T15:08:59.137Z"
   },
   {
    "duration": 9,
    "start_time": "2022-03-05T15:08:59.189Z"
   },
   {
    "duration": 8,
    "start_time": "2022-03-05T15:08:59.200Z"
   },
   {
    "duration": 13,
    "start_time": "2022-03-05T15:08:59.211Z"
   },
   {
    "duration": 12,
    "start_time": "2022-03-05T15:08:59.226Z"
   },
   {
    "duration": 5,
    "start_time": "2022-03-05T15:08:59.264Z"
   },
   {
    "duration": 10,
    "start_time": "2022-03-05T15:08:59.271Z"
   },
   {
    "duration": 15,
    "start_time": "2022-03-05T15:08:59.283Z"
   },
   {
    "duration": 450,
    "start_time": "2022-03-05T15:08:59.299Z"
   },
   {
    "duration": 3,
    "start_time": "2022-03-05T15:08:59.751Z"
   },
   {
    "duration": 17,
    "start_time": "2022-03-05T15:08:59.755Z"
   },
   {
    "duration": 423,
    "start_time": "2022-03-05T15:08:59.773Z"
   },
   {
    "duration": 5,
    "start_time": "2022-03-05T15:09:00.198Z"
   },
   {
    "duration": 40,
    "start_time": "2022-03-05T15:09:00.205Z"
   },
   {
    "duration": 36,
    "start_time": "2022-03-05T15:09:00.247Z"
   },
   {
    "duration": 752,
    "start_time": "2022-03-05T15:09:00.286Z"
   },
   {
    "duration": 62,
    "start_time": "2022-03-05T15:09:01.040Z"
   },
   {
    "duration": 787,
    "start_time": "2022-03-05T15:09:01.104Z"
   },
   {
    "duration": 16,
    "start_time": "2022-03-05T15:09:01.894Z"
   },
   {
    "duration": 12,
    "start_time": "2022-03-05T15:09:01.912Z"
   },
   {
    "duration": 323,
    "start_time": "2022-03-05T15:09:01.925Z"
   },
   {
    "duration": 7,
    "start_time": "2022-03-05T15:09:02.249Z"
   },
   {
    "duration": 9,
    "start_time": "2022-03-05T15:09:02.264Z"
   },
   {
    "duration": 291,
    "start_time": "2022-03-05T15:09:02.274Z"
   },
   {
    "duration": 8,
    "start_time": "2022-03-05T15:09:02.567Z"
   },
   {
    "duration": 287,
    "start_time": "2022-03-05T15:09:02.576Z"
   },
   {
    "duration": 10,
    "start_time": "2022-03-05T15:09:02.865Z"
   },
   {
    "duration": 12,
    "start_time": "2022-03-05T15:09:02.876Z"
   },
   {
    "duration": 231,
    "start_time": "2022-03-05T15:09:02.890Z"
   },
   {
    "duration": 18,
    "start_time": "2022-03-05T15:09:03.122Z"
   },
   {
    "duration": 31,
    "start_time": "2022-03-05T15:09:03.142Z"
   },
   {
    "duration": 14,
    "start_time": "2022-03-05T15:09:03.174Z"
   },
   {
    "duration": 13,
    "start_time": "2022-03-05T15:09:03.189Z"
   },
   {
    "duration": 160,
    "start_time": "2022-03-05T15:09:03.204Z"
   },
   {
    "duration": 12,
    "start_time": "2022-03-05T15:09:03.366Z"
   },
   {
    "duration": 14,
    "start_time": "2022-03-05T15:09:03.380Z"
   },
   {
    "duration": 9,
    "start_time": "2022-03-05T15:09:03.396Z"
   },
   {
    "duration": 196,
    "start_time": "2022-03-05T15:09:03.407Z"
   },
   {
    "duration": 9,
    "start_time": "2022-03-05T15:09:03.604Z"
   },
   {
    "duration": 171,
    "start_time": "2022-03-05T15:09:03.615Z"
   },
   {
    "duration": 9,
    "start_time": "2022-03-05T15:09:03.788Z"
   },
   {
    "duration": 170,
    "start_time": "2022-03-05T15:09:03.799Z"
   },
   {
    "duration": 301,
    "start_time": "2022-03-07T14:37:16.231Z"
   },
   {
    "duration": 1498,
    "start_time": "2022-03-07T14:38:10.886Z"
   },
   {
    "duration": 51,
    "start_time": "2022-03-07T14:38:12.387Z"
   },
   {
    "duration": 58,
    "start_time": "2022-03-07T14:38:12.441Z"
   },
   {
    "duration": 11,
    "start_time": "2022-03-07T14:38:12.502Z"
   },
   {
    "duration": 35,
    "start_time": "2022-03-07T14:38:12.515Z"
   },
   {
    "duration": 29,
    "start_time": "2022-03-07T14:38:12.553Z"
   },
   {
    "duration": 8,
    "start_time": "2022-03-07T14:38:12.585Z"
   },
   {
    "duration": 28,
    "start_time": "2022-03-07T14:38:12.596Z"
   },
   {
    "duration": 16,
    "start_time": "2022-03-07T14:38:12.629Z"
   },
   {
    "duration": 33,
    "start_time": "2022-03-07T14:38:12.649Z"
   },
   {
    "duration": 10,
    "start_time": "2022-03-07T14:38:12.685Z"
   },
   {
    "duration": 23,
    "start_time": "2022-03-07T14:38:12.698Z"
   },
   {
    "duration": 582,
    "start_time": "2022-03-07T14:38:12.723Z"
   },
   {
    "duration": 3,
    "start_time": "2022-03-07T14:38:13.308Z"
   },
   {
    "duration": 39,
    "start_time": "2022-03-07T14:38:13.314Z"
   },
   {
    "duration": 734,
    "start_time": "2022-03-07T14:38:13.356Z"
   },
   {
    "duration": 4,
    "start_time": "2022-03-07T14:38:14.094Z"
   },
   {
    "duration": 47,
    "start_time": "2022-03-07T14:38:14.101Z"
   },
   {
    "duration": 63,
    "start_time": "2022-03-07T14:38:14.152Z"
   },
   {
    "duration": 750,
    "start_time": "2022-03-07T14:38:14.218Z"
   },
   {
    "duration": 74,
    "start_time": "2022-03-07T14:38:14.970Z"
   },
   {
    "duration": 1552,
    "start_time": "2022-03-07T14:38:15.047Z"
   },
   {
    "duration": 24,
    "start_time": "2022-03-07T14:38:16.601Z"
   },
   {
    "duration": 9,
    "start_time": "2022-03-07T14:38:16.627Z"
   },
   {
    "duration": 411,
    "start_time": "2022-03-07T14:38:16.639Z"
   },
   {
    "duration": 14,
    "start_time": "2022-03-07T14:38:17.053Z"
   },
   {
    "duration": 7,
    "start_time": "2022-03-07T14:38:17.082Z"
   },
   {
    "duration": 362,
    "start_time": "2022-03-07T14:38:17.093Z"
   },
   {
    "duration": 9,
    "start_time": "2022-03-07T14:38:17.458Z"
   },
   {
    "duration": 438,
    "start_time": "2022-03-07T14:38:17.470Z"
   },
   {
    "duration": 14,
    "start_time": "2022-03-07T14:38:17.911Z"
   },
   {
    "duration": 21,
    "start_time": "2022-03-07T14:38:17.927Z"
   },
   {
    "duration": 399,
    "start_time": "2022-03-07T14:38:17.951Z"
   },
   {
    "duration": 50,
    "start_time": "2022-03-07T14:38:18.353Z"
   },
   {
    "duration": 25,
    "start_time": "2022-03-07T14:38:18.407Z"
   },
   {
    "duration": 49,
    "start_time": "2022-03-07T14:38:18.435Z"
   },
   {
    "duration": 20,
    "start_time": "2022-03-07T14:38:18.487Z"
   },
   {
    "duration": 24,
    "start_time": "2022-03-07T14:38:18.510Z"
   },
   {
    "duration": 56,
    "start_time": "2022-03-07T14:38:18.536Z"
   },
   {
    "duration": 19,
    "start_time": "2022-03-07T14:38:18.595Z"
   },
   {
    "duration": 13,
    "start_time": "2022-03-07T14:38:18.617Z"
   },
   {
    "duration": 389,
    "start_time": "2022-03-07T14:38:18.634Z"
   },
   {
    "duration": 15,
    "start_time": "2022-03-07T14:38:19.026Z"
   },
   {
    "duration": 266,
    "start_time": "2022-03-07T14:38:19.044Z"
   },
   {
    "duration": 13,
    "start_time": "2022-03-07T14:38:19.312Z"
   },
   {
    "duration": 273,
    "start_time": "2022-03-07T14:38:19.328Z"
   },
   {
    "duration": 336,
    "start_time": "2022-03-07T14:38:19.603Z"
   },
   {
    "duration": 17,
    "start_time": "2022-03-07T14:43:00.273Z"
   },
   {
    "duration": 14,
    "start_time": "2022-03-07T14:44:41.786Z"
   },
   {
    "duration": 437,
    "start_time": "2022-03-07T14:55:03.943Z"
   },
   {
    "duration": 23,
    "start_time": "2022-03-07T15:03:02.111Z"
   },
   {
    "duration": 4,
    "start_time": "2022-03-07T15:03:26.726Z"
   },
   {
    "duration": 75,
    "start_time": "2022-03-07T15:03:26.733Z"
   },
   {
    "duration": 79,
    "start_time": "2022-03-07T15:03:26.811Z"
   },
   {
    "duration": 12,
    "start_time": "2022-03-07T15:03:26.893Z"
   },
   {
    "duration": 33,
    "start_time": "2022-03-07T15:03:26.908Z"
   },
   {
    "duration": 24,
    "start_time": "2022-03-07T15:03:26.944Z"
   },
   {
    "duration": 17,
    "start_time": "2022-03-07T15:03:26.970Z"
   },
   {
    "duration": 28,
    "start_time": "2022-03-07T15:03:26.990Z"
   },
   {
    "duration": 19,
    "start_time": "2022-03-07T15:03:27.022Z"
   },
   {
    "duration": 7,
    "start_time": "2022-03-07T15:03:27.044Z"
   },
   {
    "duration": 32,
    "start_time": "2022-03-07T15:03:27.053Z"
   },
   {
    "duration": 17,
    "start_time": "2022-03-07T15:03:27.088Z"
   },
   {
    "duration": 654,
    "start_time": "2022-03-07T15:03:27.107Z"
   },
   {
    "duration": 4,
    "start_time": "2022-03-07T15:03:27.765Z"
   },
   {
    "duration": 19,
    "start_time": "2022-03-07T15:03:27.784Z"
   },
   {
    "duration": 668,
    "start_time": "2022-03-07T15:03:27.806Z"
   },
   {
    "duration": 8,
    "start_time": "2022-03-07T15:03:28.476Z"
   },
   {
    "duration": 43,
    "start_time": "2022-03-07T15:03:28.486Z"
   },
   {
    "duration": 51,
    "start_time": "2022-03-07T15:03:28.531Z"
   },
   {
    "duration": 724,
    "start_time": "2022-03-07T15:03:28.584Z"
   },
   {
    "duration": 81,
    "start_time": "2022-03-07T15:03:29.310Z"
   },
   {
    "duration": 1275,
    "start_time": "2022-03-07T15:03:29.393Z"
   },
   {
    "duration": 32,
    "start_time": "2022-03-07T15:03:30.671Z"
   },
   {
    "duration": 22,
    "start_time": "2022-03-07T15:03:30.706Z"
   },
   {
    "duration": 378,
    "start_time": "2022-03-07T15:03:30.731Z"
   },
   {
    "duration": 8,
    "start_time": "2022-03-07T15:03:31.112Z"
   },
   {
    "duration": 7,
    "start_time": "2022-03-07T15:03:31.126Z"
   },
   {
    "duration": 405,
    "start_time": "2022-03-07T15:03:31.136Z"
   },
   {
    "duration": 10,
    "start_time": "2022-03-07T15:03:31.544Z"
   },
   {
    "duration": 517,
    "start_time": "2022-03-07T15:03:31.557Z"
   },
   {
    "duration": 16,
    "start_time": "2022-03-07T15:03:32.077Z"
   },
   {
    "duration": 19,
    "start_time": "2022-03-07T15:03:32.096Z"
   },
   {
    "duration": 387,
    "start_time": "2022-03-07T15:03:32.117Z"
   },
   {
    "duration": 24,
    "start_time": "2022-03-07T15:03:32.506Z"
   },
   {
    "duration": 19,
    "start_time": "2022-03-07T15:03:32.532Z"
   },
   {
    "duration": 20,
    "start_time": "2022-03-07T15:03:32.581Z"
   },
   {
    "duration": 21,
    "start_time": "2022-03-07T15:03:32.604Z"
   },
   {
    "duration": 57,
    "start_time": "2022-03-07T15:03:32.628Z"
   },
   {
    "duration": 18,
    "start_time": "2022-03-07T15:03:32.688Z"
   },
   {
    "duration": 21,
    "start_time": "2022-03-07T15:03:32.709Z"
   },
   {
    "duration": 17,
    "start_time": "2022-03-07T15:03:32.733Z"
   },
   {
    "duration": 281,
    "start_time": "2022-03-07T15:03:32.752Z"
   },
   {
    "duration": 12,
    "start_time": "2022-03-07T15:03:33.036Z"
   },
   {
    "duration": 250,
    "start_time": "2022-03-07T15:03:33.050Z"
   },
   {
    "duration": 14,
    "start_time": "2022-03-07T15:03:33.304Z"
   },
   {
    "duration": 268,
    "start_time": "2022-03-07T15:03:33.320Z"
   },
   {
    "duration": 23,
    "start_time": "2022-03-07T15:03:33.591Z"
   },
   {
    "duration": 14,
    "start_time": "2022-03-07T15:03:33.616Z"
   },
   {
    "duration": 52,
    "start_time": "2022-03-07T15:03:33.633Z"
   },
   {
    "duration": 23,
    "start_time": "2022-03-07T15:05:11.861Z"
   },
   {
    "duration": 20,
    "start_time": "2022-03-07T15:05:54.744Z"
   },
   {
    "duration": 19,
    "start_time": "2022-03-07T15:06:17.642Z"
   },
   {
    "duration": 4,
    "start_time": "2022-03-07T15:08:09.120Z"
   },
   {
    "duration": 72,
    "start_time": "2022-03-07T15:08:09.128Z"
   },
   {
    "duration": 40,
    "start_time": "2022-03-07T15:08:09.203Z"
   },
   {
    "duration": 38,
    "start_time": "2022-03-07T15:08:09.246Z"
   },
   {
    "duration": 31,
    "start_time": "2022-03-07T15:08:09.286Z"
   },
   {
    "duration": 38,
    "start_time": "2022-03-07T15:08:09.320Z"
   },
   {
    "duration": 53,
    "start_time": "2022-03-07T15:08:09.360Z"
   },
   {
    "duration": 32,
    "start_time": "2022-03-07T15:08:09.416Z"
   },
   {
    "duration": 24,
    "start_time": "2022-03-07T15:08:09.452Z"
   },
   {
    "duration": 35,
    "start_time": "2022-03-07T15:08:09.479Z"
   },
   {
    "duration": 39,
    "start_time": "2022-03-07T15:08:09.517Z"
   },
   {
    "duration": 38,
    "start_time": "2022-03-07T15:08:09.558Z"
   },
   {
    "duration": 551,
    "start_time": "2022-03-07T15:08:09.598Z"
   },
   {
    "duration": 4,
    "start_time": "2022-03-07T15:08:10.151Z"
   },
   {
    "duration": 41,
    "start_time": "2022-03-07T15:08:10.157Z"
   },
   {
    "duration": 650,
    "start_time": "2022-03-07T15:08:10.201Z"
   },
   {
    "duration": 4,
    "start_time": "2022-03-07T15:08:10.854Z"
   },
   {
    "duration": 54,
    "start_time": "2022-03-07T15:08:10.860Z"
   },
   {
    "duration": 30,
    "start_time": "2022-03-07T15:08:10.917Z"
   },
   {
    "duration": 709,
    "start_time": "2022-03-07T15:08:10.949Z"
   },
   {
    "duration": 70,
    "start_time": "2022-03-07T15:08:11.661Z"
   },
   {
    "duration": 1375,
    "start_time": "2022-03-07T15:08:11.734Z"
   },
   {
    "duration": 25,
    "start_time": "2022-03-07T15:08:13.111Z"
   },
   {
    "duration": 15,
    "start_time": "2022-03-07T15:08:13.139Z"
   },
   {
    "duration": 397,
    "start_time": "2022-03-07T15:08:13.156Z"
   },
   {
    "duration": 9,
    "start_time": "2022-03-07T15:08:13.555Z"
   },
   {
    "duration": 20,
    "start_time": "2022-03-07T15:08:13.586Z"
   },
   {
    "duration": 389,
    "start_time": "2022-03-07T15:08:13.608Z"
   },
   {
    "duration": 13,
    "start_time": "2022-03-07T15:08:14.000Z"
   },
   {
    "duration": 397,
    "start_time": "2022-03-07T15:08:14.016Z"
   },
   {
    "duration": 14,
    "start_time": "2022-03-07T15:08:14.416Z"
   },
   {
    "duration": 22,
    "start_time": "2022-03-07T15:08:14.432Z"
   },
   {
    "duration": 384,
    "start_time": "2022-03-07T15:08:14.456Z"
   },
   {
    "duration": 40,
    "start_time": "2022-03-07T15:08:14.842Z"
   },
   {
    "duration": 20,
    "start_time": "2022-03-07T15:08:14.884Z"
   },
   {
    "duration": 19,
    "start_time": "2022-03-07T15:08:14.906Z"
   },
   {
    "duration": 18,
    "start_time": "2022-03-07T15:08:14.927Z"
   },
   {
    "duration": 21,
    "start_time": "2022-03-07T15:08:14.983Z"
   },
   {
    "duration": 19,
    "start_time": "2022-03-07T15:08:15.007Z"
   },
   {
    "duration": 56,
    "start_time": "2022-03-07T15:08:15.028Z"
   },
   {
    "duration": 11,
    "start_time": "2022-03-07T15:08:15.087Z"
   },
   {
    "duration": 281,
    "start_time": "2022-03-07T15:08:15.100Z"
   },
   {
    "duration": 12,
    "start_time": "2022-03-07T15:08:15.383Z"
   },
   {
    "duration": 264,
    "start_time": "2022-03-07T15:08:15.397Z"
   },
   {
    "duration": 18,
    "start_time": "2022-03-07T15:08:15.664Z"
   },
   {
    "duration": 264,
    "start_time": "2022-03-07T15:08:15.684Z"
   },
   {
    "duration": 20,
    "start_time": "2022-03-07T15:08:15.950Z"
   },
   {
    "duration": 15,
    "start_time": "2022-03-07T15:08:15.983Z"
   },
   {
    "duration": 19,
    "start_time": "2022-03-07T15:08:16.000Z"
   },
   {
    "duration": 23,
    "start_time": "2022-03-07T15:09:30.961Z"
   },
   {
    "duration": 16,
    "start_time": "2022-03-07T15:10:24.956Z"
   },
   {
    "duration": 4,
    "start_time": "2022-03-07T15:10:31.971Z"
   },
   {
    "duration": 74,
    "start_time": "2022-03-07T15:10:31.978Z"
   },
   {
    "duration": 61,
    "start_time": "2022-03-07T15:10:32.055Z"
   },
   {
    "duration": 12,
    "start_time": "2022-03-07T15:10:32.120Z"
   },
   {
    "duration": 56,
    "start_time": "2022-03-07T15:10:32.134Z"
   },
   {
    "duration": 10,
    "start_time": "2022-03-07T15:10:32.193Z"
   },
   {
    "duration": 13,
    "start_time": "2022-03-07T15:10:32.206Z"
   },
   {
    "duration": 25,
    "start_time": "2022-03-07T15:10:32.221Z"
   },
   {
    "duration": 33,
    "start_time": "2022-03-07T15:10:32.250Z"
   },
   {
    "duration": 7,
    "start_time": "2022-03-07T15:10:32.286Z"
   },
   {
    "duration": 35,
    "start_time": "2022-03-07T15:10:32.296Z"
   },
   {
    "duration": 18,
    "start_time": "2022-03-07T15:10:32.334Z"
   },
   {
    "duration": 665,
    "start_time": "2022-03-07T15:10:32.355Z"
   },
   {
    "duration": 3,
    "start_time": "2022-03-07T15:10:33.023Z"
   },
   {
    "duration": 25,
    "start_time": "2022-03-07T15:10:33.028Z"
   },
   {
    "duration": 673,
    "start_time": "2022-03-07T15:10:33.055Z"
   },
   {
    "duration": 4,
    "start_time": "2022-03-07T15:10:33.731Z"
   },
   {
    "duration": 62,
    "start_time": "2022-03-07T15:10:33.738Z"
   },
   {
    "duration": 32,
    "start_time": "2022-03-07T15:10:33.804Z"
   },
   {
    "duration": 703,
    "start_time": "2022-03-07T15:10:33.839Z"
   },
   {
    "duration": 76,
    "start_time": "2022-03-07T15:10:34.545Z"
   },
   {
    "duration": 1281,
    "start_time": "2022-03-07T15:10:34.623Z"
   },
   {
    "duration": 24,
    "start_time": "2022-03-07T15:10:35.907Z"
   },
   {
    "duration": 9,
    "start_time": "2022-03-07T15:10:35.933Z"
   },
   {
    "duration": 431,
    "start_time": "2022-03-07T15:10:35.944Z"
   },
   {
    "duration": 9,
    "start_time": "2022-03-07T15:10:36.378Z"
   },
   {
    "duration": 7,
    "start_time": "2022-03-07T15:10:36.394Z"
   },
   {
    "duration": 378,
    "start_time": "2022-03-07T15:10:36.404Z"
   },
   {
    "duration": 10,
    "start_time": "2022-03-07T15:10:36.784Z"
   },
   {
    "duration": 366,
    "start_time": "2022-03-07T15:10:36.797Z"
   },
   {
    "duration": 20,
    "start_time": "2022-03-07T15:10:37.166Z"
   },
   {
    "duration": 17,
    "start_time": "2022-03-07T15:10:37.189Z"
   },
   {
    "duration": 377,
    "start_time": "2022-03-07T15:10:37.208Z"
   },
   {
    "duration": 33,
    "start_time": "2022-03-07T15:10:37.588Z"
   },
   {
    "duration": 20,
    "start_time": "2022-03-07T15:10:37.624Z"
   },
   {
    "duration": 49,
    "start_time": "2022-03-07T15:10:37.647Z"
   },
   {
    "duration": 19,
    "start_time": "2022-03-07T15:10:37.698Z"
   },
   {
    "duration": 24,
    "start_time": "2022-03-07T15:10:37.719Z"
   },
   {
    "duration": 173,
    "start_time": "2022-03-07T15:10:37.745Z"
   },
   {
    "duration": 17,
    "start_time": "2022-03-07T15:10:37.920Z"
   },
   {
    "duration": 10,
    "start_time": "2022-03-07T15:10:37.940Z"
   },
   {
    "duration": 297,
    "start_time": "2022-03-07T15:10:37.952Z"
   },
   {
    "duration": 12,
    "start_time": "2022-03-07T15:10:38.251Z"
   },
   {
    "duration": 259,
    "start_time": "2022-03-07T15:10:38.266Z"
   },
   {
    "duration": 13,
    "start_time": "2022-03-07T15:10:38.528Z"
   },
   {
    "duration": 270,
    "start_time": "2022-03-07T15:10:38.543Z"
   },
   {
    "duration": 20,
    "start_time": "2022-03-07T15:10:38.815Z"
   },
   {
    "duration": 14,
    "start_time": "2022-03-07T15:10:38.837Z"
   },
   {
    "duration": 42,
    "start_time": "2022-03-07T15:10:38.854Z"
   },
   {
    "duration": 772,
    "start_time": "2022-03-07T15:13:54.069Z"
   },
   {
    "duration": 4,
    "start_time": "2022-03-07T15:14:03.902Z"
   },
   {
    "duration": 79,
    "start_time": "2022-03-07T15:14:03.908Z"
   },
   {
    "duration": 43,
    "start_time": "2022-03-07T15:14:03.991Z"
   },
   {
    "duration": 45,
    "start_time": "2022-03-07T15:14:04.037Z"
   },
   {
    "duration": 30,
    "start_time": "2022-03-07T15:14:04.084Z"
   },
   {
    "duration": 10,
    "start_time": "2022-03-07T15:14:04.117Z"
   },
   {
    "duration": 12,
    "start_time": "2022-03-07T15:14:04.129Z"
   },
   {
    "duration": 48,
    "start_time": "2022-03-07T15:14:04.143Z"
   },
   {
    "duration": 14,
    "start_time": "2022-03-07T15:14:04.197Z"
   },
   {
    "duration": 6,
    "start_time": "2022-03-07T15:14:04.214Z"
   },
   {
    "duration": 18,
    "start_time": "2022-03-07T15:14:04.223Z"
   },
   {
    "duration": 50,
    "start_time": "2022-03-07T15:14:04.243Z"
   },
   {
    "duration": 557,
    "start_time": "2022-03-07T15:14:04.295Z"
   },
   {
    "duration": 3,
    "start_time": "2022-03-07T15:14:04.855Z"
   },
   {
    "duration": 34,
    "start_time": "2022-03-07T15:14:04.861Z"
   },
   {
    "duration": 708,
    "start_time": "2022-03-07T15:14:04.897Z"
   },
   {
    "duration": 3,
    "start_time": "2022-03-07T15:14:05.608Z"
   },
   {
    "duration": 51,
    "start_time": "2022-03-07T15:14:05.614Z"
   },
   {
    "duration": 43,
    "start_time": "2022-03-07T15:14:05.668Z"
   },
   {
    "duration": 762,
    "start_time": "2022-03-07T15:14:05.714Z"
   },
   {
    "duration": 68,
    "start_time": "2022-03-07T15:14:06.482Z"
   },
   {
    "duration": 1414,
    "start_time": "2022-03-07T15:14:06.553Z"
   },
   {
    "duration": 30,
    "start_time": "2022-03-07T15:14:07.970Z"
   },
   {
    "duration": 11,
    "start_time": "2022-03-07T15:14:08.002Z"
   },
   {
    "duration": 400,
    "start_time": "2022-03-07T15:14:08.015Z"
   },
   {
    "duration": 10,
    "start_time": "2022-03-07T15:14:08.417Z"
   },
   {
    "duration": 9,
    "start_time": "2022-03-07T15:14:08.432Z"
   },
   {
    "duration": 417,
    "start_time": "2022-03-07T15:14:08.445Z"
   },
   {
    "duration": 18,
    "start_time": "2022-03-07T15:14:08.864Z"
   },
   {
    "duration": 391,
    "start_time": "2022-03-07T15:14:08.885Z"
   },
   {
    "duration": 14,
    "start_time": "2022-03-07T15:14:09.278Z"
   },
   {
    "duration": 20,
    "start_time": "2022-03-07T15:14:09.294Z"
   },
   {
    "duration": 372,
    "start_time": "2022-03-07T15:14:09.316Z"
   },
   {
    "duration": 27,
    "start_time": "2022-03-07T15:14:09.691Z"
   },
   {
    "duration": 21,
    "start_time": "2022-03-07T15:14:09.720Z"
   },
   {
    "duration": 47,
    "start_time": "2022-03-07T15:14:09.743Z"
   },
   {
    "duration": 18,
    "start_time": "2022-03-07T15:14:09.792Z"
   },
   {
    "duration": 19,
    "start_time": "2022-03-07T15:14:09.812Z"
   },
   {
    "duration": 50,
    "start_time": "2022-03-07T15:14:09.833Z"
   },
   {
    "duration": 17,
    "start_time": "2022-03-07T15:14:09.886Z"
   },
   {
    "duration": 10,
    "start_time": "2022-03-07T15:14:09.906Z"
   },
   {
    "duration": 315,
    "start_time": "2022-03-07T15:14:09.919Z"
   },
   {
    "duration": 10,
    "start_time": "2022-03-07T15:14:10.237Z"
   },
   {
    "duration": 263,
    "start_time": "2022-03-07T15:14:10.250Z"
   },
   {
    "duration": 13,
    "start_time": "2022-03-07T15:14:10.516Z"
   },
   {
    "duration": 255,
    "start_time": "2022-03-07T15:14:10.531Z"
   },
   {
    "duration": 20,
    "start_time": "2022-03-07T15:14:10.788Z"
   },
   {
    "duration": 13,
    "start_time": "2022-03-07T15:14:10.811Z"
   },
   {
    "duration": 55,
    "start_time": "2022-03-07T15:14:10.827Z"
   },
   {
    "duration": 4,
    "start_time": "2022-03-07T15:22:33.645Z"
   },
   {
    "duration": 62,
    "start_time": "2022-03-07T15:22:33.652Z"
   },
   {
    "duration": 76,
    "start_time": "2022-03-07T15:22:33.717Z"
   },
   {
    "duration": 14,
    "start_time": "2022-03-07T15:22:33.797Z"
   },
   {
    "duration": 29,
    "start_time": "2022-03-07T15:22:33.814Z"
   },
   {
    "duration": 44,
    "start_time": "2022-03-07T15:22:33.846Z"
   },
   {
    "duration": 9,
    "start_time": "2022-03-07T15:22:33.893Z"
   },
   {
    "duration": 23,
    "start_time": "2022-03-07T15:22:33.905Z"
   },
   {
    "duration": 51,
    "start_time": "2022-03-07T15:22:33.934Z"
   },
   {
    "duration": 7,
    "start_time": "2022-03-07T15:22:33.989Z"
   },
   {
    "duration": 13,
    "start_time": "2022-03-07T15:22:33.999Z"
   },
   {
    "duration": 18,
    "start_time": "2022-03-07T15:22:34.015Z"
   },
   {
    "duration": 601,
    "start_time": "2022-03-07T15:22:34.036Z"
   },
   {
    "duration": 4,
    "start_time": "2022-03-07T15:22:34.639Z"
   },
   {
    "duration": 19,
    "start_time": "2022-03-07T15:22:34.645Z"
   },
   {
    "duration": 799,
    "start_time": "2022-03-07T15:22:34.683Z"
   },
   {
    "duration": 4,
    "start_time": "2022-03-07T15:22:35.484Z"
   },
   {
    "duration": 55,
    "start_time": "2022-03-07T15:22:35.491Z"
   },
   {
    "duration": 47,
    "start_time": "2022-03-07T15:22:35.549Z"
   },
   {
    "duration": 753,
    "start_time": "2022-03-07T15:22:35.599Z"
   },
   {
    "duration": 77,
    "start_time": "2022-03-07T15:22:36.354Z"
   },
   {
    "duration": 1286,
    "start_time": "2022-03-07T15:22:36.434Z"
   },
   {
    "duration": 21,
    "start_time": "2022-03-07T15:22:37.723Z"
   },
   {
    "duration": 8,
    "start_time": "2022-03-07T15:22:37.746Z"
   },
   {
    "duration": 395,
    "start_time": "2022-03-07T15:22:37.756Z"
   },
   {
    "duration": 9,
    "start_time": "2022-03-07T15:22:38.153Z"
   },
   {
    "duration": 17,
    "start_time": "2022-03-07T15:22:38.167Z"
   },
   {
    "duration": 365,
    "start_time": "2022-03-07T15:22:38.187Z"
   },
   {
    "duration": 10,
    "start_time": "2022-03-07T15:22:38.554Z"
   },
   {
    "duration": 383,
    "start_time": "2022-03-07T15:22:38.566Z"
   },
   {
    "duration": 16,
    "start_time": "2022-03-07T15:22:38.951Z"
   },
   {
    "duration": 26,
    "start_time": "2022-03-07T15:22:38.970Z"
   },
   {
    "duration": 361,
    "start_time": "2022-03-07T15:22:38.999Z"
   },
   {
    "duration": 40,
    "start_time": "2022-03-07T15:22:39.363Z"
   },
   {
    "duration": 19,
    "start_time": "2022-03-07T15:22:39.406Z"
   },
   {
    "duration": 21,
    "start_time": "2022-03-07T15:22:39.429Z"
   },
   {
    "duration": 45,
    "start_time": "2022-03-07T15:22:39.452Z"
   },
   {
    "duration": 18,
    "start_time": "2022-03-07T15:22:39.500Z"
   },
   {
    "duration": 18,
    "start_time": "2022-03-07T15:22:39.520Z"
   },
   {
    "duration": 56,
    "start_time": "2022-03-07T15:22:39.540Z"
   },
   {
    "duration": 11,
    "start_time": "2022-03-07T15:22:39.598Z"
   },
   {
    "duration": 277,
    "start_time": "2022-03-07T15:22:39.612Z"
   },
   {
    "duration": 12,
    "start_time": "2022-03-07T15:22:39.891Z"
   },
   {
    "duration": 419,
    "start_time": "2022-03-07T15:22:39.905Z"
   },
   {
    "duration": 12,
    "start_time": "2022-03-07T15:22:40.326Z"
   },
   {
    "duration": 280,
    "start_time": "2022-03-07T15:22:40.340Z"
   },
   {
    "duration": 22,
    "start_time": "2022-03-07T15:22:40.623Z"
   },
   {
    "duration": 42,
    "start_time": "2022-03-07T15:22:40.648Z"
   },
   {
    "duration": 16,
    "start_time": "2022-03-07T15:22:40.693Z"
   },
   {
    "duration": 24,
    "start_time": "2022-03-07T15:26:31.028Z"
   },
   {
    "duration": 21,
    "start_time": "2022-03-07T15:28:37.873Z"
   },
   {
    "duration": 23,
    "start_time": "2022-03-07T15:29:10.687Z"
   },
   {
    "duration": 66,
    "start_time": "2022-03-07T15:31:20.224Z"
   },
   {
    "duration": 80,
    "start_time": "2022-03-07T15:33:36.879Z"
   },
   {
    "duration": 4,
    "start_time": "2022-03-07T16:06:07.465Z"
   },
   {
    "duration": 58,
    "start_time": "2022-03-07T16:06:07.472Z"
   },
   {
    "duration": 79,
    "start_time": "2022-03-07T16:06:07.533Z"
   },
   {
    "duration": 11,
    "start_time": "2022-03-07T16:06:07.616Z"
   },
   {
    "duration": 57,
    "start_time": "2022-03-07T16:06:07.630Z"
   },
   {
    "duration": 16,
    "start_time": "2022-03-07T16:06:07.690Z"
   },
   {
    "duration": 23,
    "start_time": "2022-03-07T16:06:07.709Z"
   },
   {
    "duration": 25,
    "start_time": "2022-03-07T16:06:07.735Z"
   },
   {
    "duration": 33,
    "start_time": "2022-03-07T16:06:07.765Z"
   },
   {
    "duration": 6,
    "start_time": "2022-03-07T16:06:07.802Z"
   },
   {
    "duration": 20,
    "start_time": "2022-03-07T16:06:07.811Z"
   },
   {
    "duration": 22,
    "start_time": "2022-03-07T16:06:07.834Z"
   },
   {
    "duration": 586,
    "start_time": "2022-03-07T16:06:07.859Z"
   },
   {
    "duration": 3,
    "start_time": "2022-03-07T16:06:08.448Z"
   },
   {
    "duration": 35,
    "start_time": "2022-03-07T16:06:08.454Z"
   },
   {
    "duration": 646,
    "start_time": "2022-03-07T16:06:08.491Z"
   },
   {
    "duration": 6,
    "start_time": "2022-03-07T16:06:09.140Z"
   },
   {
    "duration": 63,
    "start_time": "2022-03-07T16:06:09.148Z"
   },
   {
    "duration": 32,
    "start_time": "2022-03-07T16:06:09.214Z"
   },
   {
    "duration": 783,
    "start_time": "2022-03-07T16:06:09.250Z"
   },
   {
    "duration": 79,
    "start_time": "2022-03-07T16:06:10.035Z"
   },
   {
    "duration": 1323,
    "start_time": "2022-03-07T16:06:10.116Z"
   },
   {
    "duration": 23,
    "start_time": "2022-03-07T16:06:11.441Z"
   },
   {
    "duration": 25,
    "start_time": "2022-03-07T16:06:11.466Z"
   },
   {
    "duration": 368,
    "start_time": "2022-03-07T16:06:11.494Z"
   },
   {
    "duration": 18,
    "start_time": "2022-03-07T16:06:11.865Z"
   },
   {
    "duration": 9,
    "start_time": "2022-03-07T16:06:11.889Z"
   },
   {
    "duration": 545,
    "start_time": "2022-03-07T16:06:11.901Z"
   },
   {
    "duration": 11,
    "start_time": "2022-03-07T16:06:12.449Z"
   },
   {
    "duration": 399,
    "start_time": "2022-03-07T16:06:12.463Z"
   },
   {
    "duration": 21,
    "start_time": "2022-03-07T16:06:12.865Z"
   },
   {
    "duration": 17,
    "start_time": "2022-03-07T16:06:12.888Z"
   },
   {
    "duration": 480,
    "start_time": "2022-03-07T16:06:12.908Z"
   },
   {
    "duration": 35,
    "start_time": "2022-03-07T16:06:13.392Z"
   },
   {
    "duration": 51,
    "start_time": "2022-03-07T16:06:13.431Z"
   },
   {
    "duration": 20,
    "start_time": "2022-03-07T16:06:13.485Z"
   },
   {
    "duration": 20,
    "start_time": "2022-03-07T16:06:13.508Z"
   },
   {
    "duration": 60,
    "start_time": "2022-03-07T16:06:13.531Z"
   },
   {
    "duration": 21,
    "start_time": "2022-03-07T16:06:13.594Z"
   },
   {
    "duration": 22,
    "start_time": "2022-03-07T16:06:13.617Z"
   },
   {
    "duration": 47,
    "start_time": "2022-03-07T16:06:13.642Z"
   },
   {
    "duration": 326,
    "start_time": "2022-03-07T16:06:13.692Z"
   },
   {
    "duration": 12,
    "start_time": "2022-03-07T16:06:14.021Z"
   },
   {
    "duration": 259,
    "start_time": "2022-03-07T16:06:14.036Z"
   },
   {
    "duration": 12,
    "start_time": "2022-03-07T16:06:14.298Z"
   },
   {
    "duration": 261,
    "start_time": "2022-03-07T16:06:14.313Z"
   },
   {
    "duration": 77,
    "start_time": "2022-03-07T16:06:14.581Z"
   },
   {
    "duration": 14,
    "start_time": "2022-03-07T16:06:14.682Z"
   },
   {
    "duration": 13,
    "start_time": "2022-03-07T16:06:14.699Z"
   },
   {
    "duration": 4,
    "start_time": "2022-03-07T16:11:52.959Z"
   },
   {
    "duration": 65,
    "start_time": "2022-03-07T16:11:52.966Z"
   },
   {
    "duration": 74,
    "start_time": "2022-03-07T16:11:53.034Z"
   },
   {
    "duration": 13,
    "start_time": "2022-03-07T16:11:53.111Z"
   },
   {
    "duration": 30,
    "start_time": "2022-03-07T16:11:53.126Z"
   },
   {
    "duration": 10,
    "start_time": "2022-03-07T16:11:53.183Z"
   },
   {
    "duration": 10,
    "start_time": "2022-03-07T16:11:53.196Z"
   },
   {
    "duration": 19,
    "start_time": "2022-03-07T16:11:53.208Z"
   },
   {
    "duration": 50,
    "start_time": "2022-03-07T16:11:53.232Z"
   },
   {
    "duration": 7,
    "start_time": "2022-03-07T16:11:53.285Z"
   },
   {
    "duration": 15,
    "start_time": "2022-03-07T16:11:53.294Z"
   },
   {
    "duration": 17,
    "start_time": "2022-03-07T16:11:53.312Z"
   },
   {
    "duration": 563,
    "start_time": "2022-03-07T16:11:53.331Z"
   },
   {
    "duration": 4,
    "start_time": "2022-03-07T16:11:53.896Z"
   },
   {
    "duration": 19,
    "start_time": "2022-03-07T16:11:53.903Z"
   },
   {
    "duration": 662,
    "start_time": "2022-03-07T16:11:53.924Z"
   },
   {
    "duration": 3,
    "start_time": "2022-03-07T16:11:54.588Z"
   },
   {
    "duration": 43,
    "start_time": "2022-03-07T16:11:54.594Z"
   },
   {
    "duration": 62,
    "start_time": "2022-03-07T16:11:54.640Z"
   },
   {
    "duration": 696,
    "start_time": "2022-03-07T16:11:54.713Z"
   },
   {
    "duration": 86,
    "start_time": "2022-03-07T16:11:55.411Z"
   },
   {
    "duration": 1509,
    "start_time": "2022-03-07T16:11:55.500Z"
   },
   {
    "duration": 24,
    "start_time": "2022-03-07T16:11:57.012Z"
   },
   {
    "duration": 9,
    "start_time": "2022-03-07T16:11:57.038Z"
   },
   {
    "duration": 410,
    "start_time": "2022-03-07T16:11:57.050Z"
   },
   {
    "duration": 9,
    "start_time": "2022-03-07T16:11:57.462Z"
   },
   {
    "duration": 12,
    "start_time": "2022-03-07T16:11:57.477Z"
   },
   {
    "duration": 358,
    "start_time": "2022-03-07T16:11:57.492Z"
   },
   {
    "duration": 10,
    "start_time": "2022-03-07T16:11:57.852Z"
   },
   {
    "duration": 392,
    "start_time": "2022-03-07T16:11:57.864Z"
   },
   {
    "duration": 25,
    "start_time": "2022-03-07T16:11:58.258Z"
   },
   {
    "duration": 21,
    "start_time": "2022-03-07T16:11:58.286Z"
   },
   {
    "duration": 366,
    "start_time": "2022-03-07T16:11:58.309Z"
   },
   {
    "duration": 27,
    "start_time": "2022-03-07T16:11:58.678Z"
   },
   {
    "duration": 20,
    "start_time": "2022-03-07T16:11:58.707Z"
   },
   {
    "duration": 17,
    "start_time": "2022-03-07T16:11:58.729Z"
   },
   {
    "duration": 26,
    "start_time": "2022-03-07T16:11:58.783Z"
   },
   {
    "duration": 22,
    "start_time": "2022-03-07T16:11:58.819Z"
   },
   {
    "duration": 50,
    "start_time": "2022-03-07T16:11:58.843Z"
   },
   {
    "duration": 19,
    "start_time": "2022-03-07T16:11:58.896Z"
   },
   {
    "duration": 11,
    "start_time": "2022-03-07T16:11:58.918Z"
   },
   {
    "duration": 298,
    "start_time": "2022-03-07T16:11:58.931Z"
   },
   {
    "duration": 13,
    "start_time": "2022-03-07T16:11:59.232Z"
   },
   {
    "duration": 261,
    "start_time": "2022-03-07T16:11:59.248Z"
   },
   {
    "duration": 11,
    "start_time": "2022-03-07T16:11:59.512Z"
   },
   {
    "duration": 263,
    "start_time": "2022-03-07T16:11:59.525Z"
   },
   {
    "duration": 91,
    "start_time": "2022-03-07T16:11:59.791Z"
   },
   {
    "duration": 14,
    "start_time": "2022-03-07T16:11:59.885Z"
   },
   {
    "duration": 14,
    "start_time": "2022-03-07T16:11:59.902Z"
   },
   {
    "duration": 5,
    "start_time": "2022-03-07T16:19:08.961Z"
   },
   {
    "duration": 64,
    "start_time": "2022-03-07T16:19:08.968Z"
   },
   {
    "duration": 69,
    "start_time": "2022-03-07T16:19:09.035Z"
   },
   {
    "duration": 11,
    "start_time": "2022-03-07T16:19:09.107Z"
   },
   {
    "duration": 41,
    "start_time": "2022-03-07T16:19:09.120Z"
   },
   {
    "duration": 26,
    "start_time": "2022-03-07T16:19:09.163Z"
   },
   {
    "duration": 30,
    "start_time": "2022-03-07T16:19:09.192Z"
   },
   {
    "duration": 29,
    "start_time": "2022-03-07T16:19:09.225Z"
   },
   {
    "duration": 15,
    "start_time": "2022-03-07T16:19:09.260Z"
   },
   {
    "duration": 17,
    "start_time": "2022-03-07T16:19:09.278Z"
   },
   {
    "duration": 14,
    "start_time": "2022-03-07T16:19:09.298Z"
   },
   {
    "duration": 33,
    "start_time": "2022-03-07T16:19:09.315Z"
   },
   {
    "duration": 554,
    "start_time": "2022-03-07T16:19:09.351Z"
   },
   {
    "duration": 4,
    "start_time": "2022-03-07T16:19:09.908Z"
   },
   {
    "duration": 26,
    "start_time": "2022-03-07T16:19:09.915Z"
   },
   {
    "duration": 669,
    "start_time": "2022-03-07T16:19:09.944Z"
   },
   {
    "duration": 6,
    "start_time": "2022-03-07T16:19:10.616Z"
   },
   {
    "duration": 63,
    "start_time": "2022-03-07T16:19:10.625Z"
   },
   {
    "duration": 33,
    "start_time": "2022-03-07T16:19:10.691Z"
   },
   {
    "duration": 887,
    "start_time": "2022-03-07T16:19:10.727Z"
   },
   {
    "duration": 84,
    "start_time": "2022-03-07T16:19:11.618Z"
   },
   {
    "duration": 1286,
    "start_time": "2022-03-07T16:19:11.706Z"
   },
   {
    "duration": 24,
    "start_time": "2022-03-07T16:19:12.994Z"
   },
   {
    "duration": 13,
    "start_time": "2022-03-07T16:19:13.020Z"
   },
   {
    "duration": 409,
    "start_time": "2022-03-07T16:19:13.036Z"
   },
   {
    "duration": 9,
    "start_time": "2022-03-07T16:19:13.448Z"
   },
   {
    "duration": 20,
    "start_time": "2022-03-07T16:19:13.463Z"
   },
   {
    "duration": 384,
    "start_time": "2022-03-07T16:19:13.486Z"
   },
   {
    "duration": 16,
    "start_time": "2022-03-07T16:19:13.873Z"
   },
   {
    "duration": 400,
    "start_time": "2022-03-07T16:19:13.892Z"
   },
   {
    "duration": 13,
    "start_time": "2022-03-07T16:19:14.295Z"
   },
   {
    "duration": 17,
    "start_time": "2022-03-07T16:19:14.311Z"
   },
   {
    "duration": 394,
    "start_time": "2022-03-07T16:19:14.331Z"
   },
   {
    "duration": 26,
    "start_time": "2022-03-07T16:19:14.728Z"
   },
   {
    "duration": 40,
    "start_time": "2022-03-07T16:19:14.757Z"
   },
   {
    "duration": 19,
    "start_time": "2022-03-07T16:19:14.799Z"
   },
   {
    "duration": 18,
    "start_time": "2022-03-07T16:19:14.821Z"
   },
   {
    "duration": 50,
    "start_time": "2022-03-07T16:19:14.842Z"
   },
   {
    "duration": 19,
    "start_time": "2022-03-07T16:19:14.894Z"
   },
   {
    "duration": 20,
    "start_time": "2022-03-07T16:19:14.916Z"
   },
   {
    "duration": 44,
    "start_time": "2022-03-07T16:19:14.938Z"
   },
   {
    "duration": 288,
    "start_time": "2022-03-07T16:19:14.985Z"
   },
   {
    "duration": 14,
    "start_time": "2022-03-07T16:19:15.284Z"
   },
   {
    "duration": 287,
    "start_time": "2022-03-07T16:19:15.301Z"
   },
   {
    "duration": 14,
    "start_time": "2022-03-07T16:19:15.591Z"
   },
   {
    "duration": 285,
    "start_time": "2022-03-07T16:19:15.608Z"
   },
   {
    "duration": 90,
    "start_time": "2022-03-07T16:19:15.896Z"
   },
   {
    "duration": 15,
    "start_time": "2022-03-07T16:19:15.989Z"
   },
   {
    "duration": 14,
    "start_time": "2022-03-07T16:19:16.006Z"
   },
   {
    "duration": 273,
    "start_time": "2022-03-16T12:00:24.018Z"
   },
   {
    "duration": 1271,
    "start_time": "2022-03-16T12:00:28.299Z"
   },
   {
    "duration": 52,
    "start_time": "2022-03-16T12:00:29.573Z"
   },
   {
    "duration": 45,
    "start_time": "2022-03-16T12:00:29.627Z"
   },
   {
    "duration": 7,
    "start_time": "2022-03-16T12:00:29.674Z"
   },
   {
    "duration": 26,
    "start_time": "2022-03-16T12:00:29.683Z"
   },
   {
    "duration": 23,
    "start_time": "2022-03-16T12:00:29.710Z"
   },
   {
    "duration": 8,
    "start_time": "2022-03-16T12:00:29.735Z"
   },
   {
    "duration": 24,
    "start_time": "2022-03-16T12:00:29.746Z"
   },
   {
    "duration": 10,
    "start_time": "2022-03-16T12:00:29.772Z"
   },
   {
    "duration": 5,
    "start_time": "2022-03-16T12:00:29.784Z"
   },
   {
    "duration": 8,
    "start_time": "2022-03-16T12:00:29.790Z"
   },
   {
    "duration": 247,
    "start_time": "2022-03-16T12:00:29.799Z"
   },
   {
    "duration": 134,
    "start_time": "2022-03-16T12:00:29.916Z"
   },
   {
    "duration": 133,
    "start_time": "2022-03-16T12:00:29.918Z"
   },
   {
    "duration": 132,
    "start_time": "2022-03-16T12:00:29.920Z"
   },
   {
    "duration": 132,
    "start_time": "2022-03-16T12:00:29.921Z"
   },
   {
    "duration": 132,
    "start_time": "2022-03-16T12:00:29.922Z"
   },
   {
    "duration": 131,
    "start_time": "2022-03-16T12:00:29.924Z"
   },
   {
    "duration": 131,
    "start_time": "2022-03-16T12:00:29.925Z"
   },
   {
    "duration": 131,
    "start_time": "2022-03-16T12:00:29.926Z"
   },
   {
    "duration": 130,
    "start_time": "2022-03-16T12:00:29.928Z"
   },
   {
    "duration": 130,
    "start_time": "2022-03-16T12:00:29.929Z"
   },
   {
    "duration": 126,
    "start_time": "2022-03-16T12:00:29.935Z"
   },
   {
    "duration": 125,
    "start_time": "2022-03-16T12:00:29.937Z"
   },
   {
    "duration": 126,
    "start_time": "2022-03-16T12:00:29.938Z"
   },
   {
    "duration": 125,
    "start_time": "2022-03-16T12:00:29.940Z"
   },
   {
    "duration": 124,
    "start_time": "2022-03-16T12:00:29.942Z"
   },
   {
    "duration": 124,
    "start_time": "2022-03-16T12:00:29.943Z"
   },
   {
    "duration": 123,
    "start_time": "2022-03-16T12:00:29.945Z"
   },
   {
    "duration": 123,
    "start_time": "2022-03-16T12:00:29.946Z"
   },
   {
    "duration": 123,
    "start_time": "2022-03-16T12:00:29.948Z"
   },
   {
    "duration": 123,
    "start_time": "2022-03-16T12:00:29.949Z"
   },
   {
    "duration": 122,
    "start_time": "2022-03-16T12:00:29.951Z"
   },
   {
    "duration": 123,
    "start_time": "2022-03-16T12:00:29.952Z"
   },
   {
    "duration": 123,
    "start_time": "2022-03-16T12:00:29.953Z"
   },
   {
    "duration": 122,
    "start_time": "2022-03-16T12:00:29.955Z"
   },
   {
    "duration": 122,
    "start_time": "2022-03-16T12:00:29.956Z"
   },
   {
    "duration": 124,
    "start_time": "2022-03-16T12:00:29.958Z"
   },
   {
    "duration": 124,
    "start_time": "2022-03-16T12:00:29.959Z"
   },
   {
    "duration": 124,
    "start_time": "2022-03-16T12:00:29.960Z"
   },
   {
    "duration": 123,
    "start_time": "2022-03-16T12:00:29.962Z"
   },
   {
    "duration": 53,
    "start_time": "2022-03-16T12:00:30.033Z"
   },
   {
    "duration": 44,
    "start_time": "2022-03-16T12:00:30.043Z"
   },
   {
    "duration": 43,
    "start_time": "2022-03-16T12:00:30.045Z"
   },
   {
    "duration": 43,
    "start_time": "2022-03-16T12:00:30.046Z"
   },
   {
    "duration": 42,
    "start_time": "2022-03-16T12:00:30.048Z"
   },
   {
    "duration": 42,
    "start_time": "2022-03-16T12:00:30.049Z"
   },
   {
    "duration": 82,
    "start_time": "2022-03-16T12:00:30.051Z"
   },
   {
    "duration": 82,
    "start_time": "2022-03-16T12:00:30.052Z"
   },
   {
    "duration": 84,
    "start_time": "2022-03-16T12:00:30.054Z"
   },
   {
    "duration": 7,
    "start_time": "2022-03-16T12:01:08.352Z"
   },
   {
    "duration": 195,
    "start_time": "2022-03-16T12:01:58.755Z"
   },
   {
    "duration": 3,
    "start_time": "2022-03-16T12:02:25.018Z"
   },
   {
    "duration": 69,
    "start_time": "2022-03-16T12:02:25.023Z"
   },
   {
    "duration": 50,
    "start_time": "2022-03-16T12:02:25.094Z"
   },
   {
    "duration": 11,
    "start_time": "2022-03-16T12:02:25.147Z"
   },
   {
    "duration": 26,
    "start_time": "2022-03-16T12:02:25.160Z"
   },
   {
    "duration": 7,
    "start_time": "2022-03-16T12:02:25.188Z"
   },
   {
    "duration": 7,
    "start_time": "2022-03-16T12:02:25.197Z"
   },
   {
    "duration": 40,
    "start_time": "2022-03-16T12:02:25.206Z"
   },
   {
    "duration": 13,
    "start_time": "2022-03-16T12:02:25.249Z"
   },
   {
    "duration": 5,
    "start_time": "2022-03-16T12:02:25.264Z"
   },
   {
    "duration": 11,
    "start_time": "2022-03-16T12:02:25.271Z"
   },
   {
    "duration": 183,
    "start_time": "2022-03-16T12:02:25.283Z"
   },
   {
    "duration": 18,
    "start_time": "2022-03-16T12:02:25.451Z"
   },
   {
    "duration": 17,
    "start_time": "2022-03-16T12:02:25.453Z"
   },
   {
    "duration": 16,
    "start_time": "2022-03-16T12:02:25.455Z"
   },
   {
    "duration": 16,
    "start_time": "2022-03-16T12:02:25.456Z"
   },
   {
    "duration": 16,
    "start_time": "2022-03-16T12:02:25.457Z"
   },
   {
    "duration": 15,
    "start_time": "2022-03-16T12:02:25.459Z"
   },
   {
    "duration": -62,
    "start_time": "2022-03-16T12:02:25.537Z"
   },
   {
    "duration": -63,
    "start_time": "2022-03-16T12:02:25.539Z"
   },
   {
    "duration": -64,
    "start_time": "2022-03-16T12:02:25.541Z"
   },
   {
    "duration": -64,
    "start_time": "2022-03-16T12:02:25.542Z"
   },
   {
    "duration": -66,
    "start_time": "2022-03-16T12:02:25.544Z"
   },
   {
    "duration": -66,
    "start_time": "2022-03-16T12:02:25.546Z"
   },
   {
    "duration": -66,
    "start_time": "2022-03-16T12:02:25.547Z"
   },
   {
    "duration": -67,
    "start_time": "2022-03-16T12:02:25.549Z"
   },
   {
    "duration": -67,
    "start_time": "2022-03-16T12:02:25.550Z"
   },
   {
    "duration": -68,
    "start_time": "2022-03-16T12:02:25.552Z"
   },
   {
    "duration": -73,
    "start_time": "2022-03-16T12:02:25.558Z"
   },
   {
    "duration": -74,
    "start_time": "2022-03-16T12:02:25.560Z"
   },
   {
    "duration": -73,
    "start_time": "2022-03-16T12:02:25.561Z"
   },
   {
    "duration": -74,
    "start_time": "2022-03-16T12:02:25.563Z"
   },
   {
    "duration": -74,
    "start_time": "2022-03-16T12:02:25.564Z"
   },
   {
    "duration": -125,
    "start_time": "2022-03-16T12:02:25.617Z"
   },
   {
    "duration": -125,
    "start_time": "2022-03-16T12:02:25.618Z"
   },
   {
    "duration": -126,
    "start_time": "2022-03-16T12:02:25.620Z"
   },
   {
    "duration": -126,
    "start_time": "2022-03-16T12:02:25.621Z"
   },
   {
    "duration": -128,
    "start_time": "2022-03-16T12:02:25.623Z"
   },
   {
    "duration": -128,
    "start_time": "2022-03-16T12:02:25.624Z"
   },
   {
    "duration": -129,
    "start_time": "2022-03-16T12:02:25.626Z"
   },
   {
    "duration": -129,
    "start_time": "2022-03-16T12:02:25.627Z"
   },
   {
    "duration": -130,
    "start_time": "2022-03-16T12:02:25.629Z"
   },
   {
    "duration": -130,
    "start_time": "2022-03-16T12:02:25.630Z"
   },
   {
    "duration": -130,
    "start_time": "2022-03-16T12:02:25.631Z"
   },
   {
    "duration": -129,
    "start_time": "2022-03-16T12:02:25.632Z"
   },
   {
    "duration": -130,
    "start_time": "2022-03-16T12:02:25.634Z"
   },
   {
    "duration": -130,
    "start_time": "2022-03-16T12:02:25.635Z"
   },
   {
    "duration": -104,
    "start_time": "2022-03-16T12:02:25.636Z"
   },
   {
    "duration": -165,
    "start_time": "2022-03-16T12:02:25.698Z"
   },
   {
    "duration": -167,
    "start_time": "2022-03-16T12:02:25.701Z"
   },
   {
    "duration": 160,
    "start_time": "2022-03-16T12:07:05.337Z"
   },
   {
    "duration": 157,
    "start_time": "2022-03-16T12:07:55.126Z"
   },
   {
    "duration": 254,
    "start_time": "2022-03-16T12:08:56.234Z"
   },
   {
    "duration": 173,
    "start_time": "2022-03-16T12:11:11.503Z"
   },
   {
    "duration": 181,
    "start_time": "2022-03-16T12:11:22.079Z"
   },
   {
    "duration": 7,
    "start_time": "2022-03-16T12:12:44.974Z"
   },
   {
    "duration": 178,
    "start_time": "2022-03-16T12:12:51.952Z"
   },
   {
    "duration": 7,
    "start_time": "2022-03-16T12:13:01.245Z"
   },
   {
    "duration": 11,
    "start_time": "2022-03-16T12:13:22.061Z"
   },
   {
    "duration": 3,
    "start_time": "2022-03-16T12:15:46.084Z"
   },
   {
    "duration": 52,
    "start_time": "2022-03-16T12:15:46.089Z"
   },
   {
    "duration": 36,
    "start_time": "2022-03-16T12:15:46.148Z"
   },
   {
    "duration": 12,
    "start_time": "2022-03-16T12:15:46.186Z"
   },
   {
    "duration": 23,
    "start_time": "2022-03-16T12:15:46.219Z"
   },
   {
    "duration": 25,
    "start_time": "2022-03-16T12:15:46.245Z"
   },
   {
    "duration": 7,
    "start_time": "2022-03-16T12:15:46.272Z"
   },
   {
    "duration": 15,
    "start_time": "2022-03-16T12:15:46.281Z"
   },
   {
    "duration": 12,
    "start_time": "2022-03-16T12:15:46.298Z"
   },
   {
    "duration": 5,
    "start_time": "2022-03-16T12:15:46.312Z"
   },
   {
    "duration": 12,
    "start_time": "2022-03-16T12:15:46.334Z"
   },
   {
    "duration": 21,
    "start_time": "2022-03-16T12:15:46.349Z"
   },
   {
    "duration": 18,
    "start_time": "2022-03-16T12:15:46.372Z"
   },
   {
    "duration": 396,
    "start_time": "2022-03-16T12:15:46.391Z"
   },
   {
    "duration": 3,
    "start_time": "2022-03-16T12:15:46.789Z"
   },
   {
    "duration": 21,
    "start_time": "2022-03-16T12:15:46.794Z"
   },
   {
    "duration": 545,
    "start_time": "2022-03-16T12:15:46.817Z"
   },
   {
    "duration": 3,
    "start_time": "2022-03-16T12:15:47.364Z"
   },
   {
    "duration": 36,
    "start_time": "2022-03-16T12:15:47.371Z"
   },
   {
    "duration": 38,
    "start_time": "2022-03-16T12:15:47.410Z"
   },
   {
    "duration": 505,
    "start_time": "2022-03-16T12:15:47.450Z"
   },
   {
    "duration": 42,
    "start_time": "2022-03-16T12:15:47.958Z"
   },
   {
    "duration": 1050,
    "start_time": "2022-03-16T12:15:48.001Z"
   },
   {
    "duration": 22,
    "start_time": "2022-03-16T12:15:49.054Z"
   },
   {
    "duration": 26,
    "start_time": "2022-03-16T12:15:49.079Z"
   },
   {
    "duration": 369,
    "start_time": "2022-03-16T12:15:49.107Z"
   },
   {
    "duration": 7,
    "start_time": "2022-03-16T12:15:49.478Z"
   },
   {
    "duration": 16,
    "start_time": "2022-03-16T12:15:49.487Z"
   },
   {
    "duration": 373,
    "start_time": "2022-03-16T12:15:49.506Z"
   },
   {
    "duration": 10,
    "start_time": "2022-03-16T12:15:49.880Z"
   },
   {
    "duration": 411,
    "start_time": "2022-03-16T12:15:49.892Z"
   },
   {
    "duration": 11,
    "start_time": "2022-03-16T12:15:50.305Z"
   },
   {
    "duration": 31,
    "start_time": "2022-03-16T12:15:50.318Z"
   },
   {
    "duration": 326,
    "start_time": "2022-03-16T12:15:50.352Z"
   },
   {
    "duration": 23,
    "start_time": "2022-03-16T12:15:50.680Z"
   },
   {
    "duration": 41,
    "start_time": "2022-03-16T12:15:50.705Z"
   },
   {
    "duration": 24,
    "start_time": "2022-03-16T12:15:50.748Z"
   },
   {
    "duration": 19,
    "start_time": "2022-03-16T12:15:50.774Z"
   },
   {
    "duration": 37,
    "start_time": "2022-03-16T12:15:50.797Z"
   },
   {
    "duration": 19,
    "start_time": "2022-03-16T12:15:50.839Z"
   },
   {
    "duration": 36,
    "start_time": "2022-03-16T12:15:50.861Z"
   },
   {
    "duration": 19,
    "start_time": "2022-03-16T12:15:50.899Z"
   },
   {
    "duration": 189,
    "start_time": "2022-03-16T12:15:50.920Z"
   },
   {
    "duration": 20,
    "start_time": "2022-03-16T12:15:51.112Z"
   },
   {
    "duration": 221,
    "start_time": "2022-03-16T12:15:51.134Z"
   },
   {
    "duration": 11,
    "start_time": "2022-03-16T12:15:51.358Z"
   },
   {
    "duration": 168,
    "start_time": "2022-03-16T12:15:51.370Z"
   },
   {
    "duration": 52,
    "start_time": "2022-03-16T12:15:51.539Z"
   },
   {
    "duration": 41,
    "start_time": "2022-03-16T12:15:51.592Z"
   },
   {
    "duration": 14,
    "start_time": "2022-03-16T12:15:51.636Z"
   },
   {
    "duration": 822,
    "start_time": "2022-03-16T12:18:00.612Z"
   },
   {
    "duration": 11,
    "start_time": "2022-03-16T12:18:08.288Z"
   },
   {
    "duration": 4,
    "start_time": "2022-03-16T12:19:29.046Z"
   },
   {
    "duration": 3,
    "start_time": "2022-03-16T12:19:46.232Z"
   },
   {
    "duration": 52,
    "start_time": "2022-03-16T12:19:46.237Z"
   },
   {
    "duration": 67,
    "start_time": "2022-03-16T12:19:46.292Z"
   },
   {
    "duration": 13,
    "start_time": "2022-03-16T12:19:46.362Z"
   },
   {
    "duration": 28,
    "start_time": "2022-03-16T12:19:46.378Z"
   },
   {
    "duration": 30,
    "start_time": "2022-03-16T12:19:46.408Z"
   },
   {
    "duration": 9,
    "start_time": "2022-03-16T12:19:46.440Z"
   },
   {
    "duration": 39,
    "start_time": "2022-03-16T12:19:46.453Z"
   },
   {
    "duration": 14,
    "start_time": "2022-03-16T12:19:46.495Z"
   },
   {
    "duration": 24,
    "start_time": "2022-03-16T12:19:46.511Z"
   },
   {
    "duration": 18,
    "start_time": "2022-03-16T12:19:46.537Z"
   },
   {
    "duration": 20,
    "start_time": "2022-03-16T12:19:46.558Z"
   },
   {
    "duration": 22,
    "start_time": "2022-03-16T12:19:46.580Z"
   },
   {
    "duration": 515,
    "start_time": "2022-03-16T12:19:46.604Z"
   },
   {
    "duration": 11,
    "start_time": "2022-03-16T12:19:47.122Z"
   },
   {
    "duration": 36,
    "start_time": "2022-03-16T12:19:47.134Z"
   },
   {
    "duration": 594,
    "start_time": "2022-03-16T12:19:47.172Z"
   },
   {
    "duration": 3,
    "start_time": "2022-03-16T12:19:47.768Z"
   },
   {
    "duration": 37,
    "start_time": "2022-03-16T12:19:47.773Z"
   },
   {
    "duration": 44,
    "start_time": "2022-03-16T12:19:47.812Z"
   },
   {
    "duration": 681,
    "start_time": "2022-03-16T12:19:47.858Z"
   },
   {
    "duration": 60,
    "start_time": "2022-03-16T12:19:48.541Z"
   },
   {
    "duration": 998,
    "start_time": "2022-03-16T12:19:48.606Z"
   },
   {
    "duration": 28,
    "start_time": "2022-03-16T12:19:49.607Z"
   },
   {
    "duration": 8,
    "start_time": "2022-03-16T12:19:49.637Z"
   },
   {
    "duration": 292,
    "start_time": "2022-03-16T12:19:49.647Z"
   },
   {
    "duration": 7,
    "start_time": "2022-03-16T12:19:49.940Z"
   },
   {
    "duration": 33,
    "start_time": "2022-03-16T12:19:49.948Z"
   },
   {
    "duration": 303,
    "start_time": "2022-03-16T12:19:49.982Z"
   },
   {
    "duration": 12,
    "start_time": "2022-03-16T12:19:50.287Z"
   },
   {
    "duration": 405,
    "start_time": "2022-03-16T12:19:50.302Z"
   },
   {
    "duration": 13,
    "start_time": "2022-03-16T12:19:50.709Z"
   },
   {
    "duration": 20,
    "start_time": "2022-03-16T12:19:50.733Z"
   },
   {
    "duration": 330,
    "start_time": "2022-03-16T12:19:50.758Z"
   },
   {
    "duration": 24,
    "start_time": "2022-03-16T12:19:51.091Z"
   },
   {
    "duration": 31,
    "start_time": "2022-03-16T12:19:51.117Z"
   },
   {
    "duration": 35,
    "start_time": "2022-03-16T12:19:51.150Z"
   },
   {
    "duration": 13,
    "start_time": "2022-03-16T12:19:51.187Z"
   },
   {
    "duration": 15,
    "start_time": "2022-03-16T12:19:51.202Z"
   },
   {
    "duration": 20,
    "start_time": "2022-03-16T12:19:51.233Z"
   },
   {
    "duration": 21,
    "start_time": "2022-03-16T12:19:51.255Z"
   },
   {
    "duration": 8,
    "start_time": "2022-03-16T12:19:51.279Z"
   },
   {
    "duration": 213,
    "start_time": "2022-03-16T12:19:51.290Z"
   },
   {
    "duration": 14,
    "start_time": "2022-03-16T12:19:51.505Z"
   },
   {
    "duration": 223,
    "start_time": "2022-03-16T12:19:51.521Z"
   },
   {
    "duration": 10,
    "start_time": "2022-03-16T12:19:51.746Z"
   },
   {
    "duration": 227,
    "start_time": "2022-03-16T12:19:51.758Z"
   },
   {
    "duration": 77,
    "start_time": "2022-03-16T12:19:51.987Z"
   },
   {
    "duration": 12,
    "start_time": "2022-03-16T12:19:52.066Z"
   },
   {
    "duration": 14,
    "start_time": "2022-03-16T12:19:52.080Z"
   },
   {
    "duration": 7,
    "start_time": "2022-03-16T12:20:10.355Z"
   },
   {
    "duration": 247,
    "start_time": "2022-03-16T12:20:20.815Z"
   },
   {
    "duration": 301,
    "start_time": "2022-03-16T12:23:35.532Z"
   },
   {
    "duration": 181,
    "start_time": "2022-03-16T12:23:52.781Z"
   },
   {
    "duration": 216,
    "start_time": "2022-03-16T12:24:14.831Z"
   },
   {
    "duration": 3,
    "start_time": "2022-03-16T12:24:44.585Z"
   },
   {
    "duration": 54,
    "start_time": "2022-03-16T12:24:44.590Z"
   },
   {
    "duration": 37,
    "start_time": "2022-03-16T12:24:44.647Z"
   },
   {
    "duration": 13,
    "start_time": "2022-03-16T12:24:44.687Z"
   },
   {
    "duration": 42,
    "start_time": "2022-03-16T12:24:44.701Z"
   },
   {
    "duration": 36,
    "start_time": "2022-03-16T12:24:44.747Z"
   },
   {
    "duration": 8,
    "start_time": "2022-03-16T12:24:44.786Z"
   },
   {
    "duration": 25,
    "start_time": "2022-03-16T12:24:44.798Z"
   },
   {
    "duration": 20,
    "start_time": "2022-03-16T12:24:44.826Z"
   },
   {
    "duration": 33,
    "start_time": "2022-03-16T12:24:44.849Z"
   },
   {
    "duration": 23,
    "start_time": "2022-03-16T12:24:44.885Z"
   },
   {
    "duration": 223,
    "start_time": "2022-03-16T12:24:44.909Z"
   },
   {
    "duration": 24,
    "start_time": "2022-03-16T12:24:45.134Z"
   },
   {
    "duration": 649,
    "start_time": "2022-03-16T12:24:45.161Z"
   },
   {
    "duration": 4,
    "start_time": "2022-03-16T12:24:45.813Z"
   },
   {
    "duration": 31,
    "start_time": "2022-03-16T12:24:45.820Z"
   },
   {
    "duration": 457,
    "start_time": "2022-03-16T12:24:45.862Z"
   },
   {
    "duration": 13,
    "start_time": "2022-03-16T12:24:46.321Z"
   },
   {
    "duration": 49,
    "start_time": "2022-03-16T12:24:46.337Z"
   },
   {
    "duration": 19,
    "start_time": "2022-03-16T12:24:46.389Z"
   },
   {
    "duration": 505,
    "start_time": "2022-03-16T12:24:46.410Z"
   },
   {
    "duration": 67,
    "start_time": "2022-03-16T12:24:46.917Z"
   },
   {
    "duration": 1037,
    "start_time": "2022-03-16T12:24:46.988Z"
   },
   {
    "duration": 26,
    "start_time": "2022-03-16T12:24:48.027Z"
   },
   {
    "duration": 17,
    "start_time": "2022-03-16T12:24:48.057Z"
   },
   {
    "duration": 288,
    "start_time": "2022-03-16T12:24:48.077Z"
   },
   {
    "duration": 10,
    "start_time": "2022-03-16T12:24:48.367Z"
   },
   {
    "duration": 15,
    "start_time": "2022-03-16T12:24:48.379Z"
   },
   {
    "duration": 278,
    "start_time": "2022-03-16T12:24:48.395Z"
   },
   {
    "duration": 9,
    "start_time": "2022-03-16T12:24:48.675Z"
   },
   {
    "duration": 303,
    "start_time": "2022-03-16T12:24:48.686Z"
   },
   {
    "duration": 9,
    "start_time": "2022-03-16T12:24:48.991Z"
   },
   {
    "duration": 36,
    "start_time": "2022-03-16T12:24:49.002Z"
   },
   {
    "duration": 329,
    "start_time": "2022-03-16T12:24:49.043Z"
   },
   {
    "duration": 20,
    "start_time": "2022-03-16T12:24:49.374Z"
   },
   {
    "duration": 44,
    "start_time": "2022-03-16T12:24:49.396Z"
   },
   {
    "duration": 19,
    "start_time": "2022-03-16T12:24:49.442Z"
   },
   {
    "duration": 23,
    "start_time": "2022-03-16T12:24:49.464Z"
   },
   {
    "duration": 12,
    "start_time": "2022-03-16T12:24:49.489Z"
   },
   {
    "duration": 12,
    "start_time": "2022-03-16T12:24:49.502Z"
   },
   {
    "duration": 26,
    "start_time": "2022-03-16T12:24:49.535Z"
   },
   {
    "duration": 12,
    "start_time": "2022-03-16T12:24:49.564Z"
   },
   {
    "duration": 205,
    "start_time": "2022-03-16T12:24:49.578Z"
   },
   {
    "duration": 8,
    "start_time": "2022-03-16T12:24:49.785Z"
   },
   {
    "duration": 184,
    "start_time": "2022-03-16T12:24:49.794Z"
   },
   {
    "duration": 11,
    "start_time": "2022-03-16T12:24:49.981Z"
   },
   {
    "duration": 204,
    "start_time": "2022-03-16T12:24:49.994Z"
   },
   {
    "duration": 91,
    "start_time": "2022-03-16T12:24:50.200Z"
   },
   {
    "duration": 14,
    "start_time": "2022-03-16T12:24:50.294Z"
   },
   {
    "duration": 42,
    "start_time": "2022-03-16T12:24:50.310Z"
   },
   {
    "duration": 1282,
    "start_time": "2022-03-16T14:26:49.094Z"
   },
   {
    "duration": 43,
    "start_time": "2022-03-16T14:26:50.378Z"
   },
   {
    "duration": 36,
    "start_time": "2022-03-16T14:26:50.423Z"
   },
   {
    "duration": 10,
    "start_time": "2022-03-16T14:26:50.461Z"
   },
   {
    "duration": 44,
    "start_time": "2022-03-16T14:26:50.472Z"
   },
   {
    "duration": 11,
    "start_time": "2022-03-16T14:26:50.519Z"
   },
   {
    "duration": 10,
    "start_time": "2022-03-16T14:26:50.532Z"
   },
   {
    "duration": 21,
    "start_time": "2022-03-16T14:26:50.544Z"
   },
   {
    "duration": 11,
    "start_time": "2022-03-16T14:26:50.569Z"
   },
   {
    "duration": 6,
    "start_time": "2022-03-16T14:26:50.601Z"
   },
   {
    "duration": 15,
    "start_time": "2022-03-16T14:26:50.609Z"
   },
   {
    "duration": 218,
    "start_time": "2022-03-16T14:26:50.626Z"
   },
   {
    "duration": 14,
    "start_time": "2022-03-16T14:26:50.846Z"
   },
   {
    "duration": 374,
    "start_time": "2022-03-16T14:26:50.862Z"
   },
   {
    "duration": 3,
    "start_time": "2022-03-16T14:26:51.238Z"
   },
   {
    "duration": 16,
    "start_time": "2022-03-16T14:26:51.243Z"
   },
   {
    "duration": 447,
    "start_time": "2022-03-16T14:26:51.261Z"
   },
   {
    "duration": 3,
    "start_time": "2022-03-16T14:26:51.710Z"
   },
   {
    "duration": 31,
    "start_time": "2022-03-16T14:26:51.715Z"
   },
   {
    "duration": 1096,
    "start_time": "2022-03-16T14:26:51.748Z"
   },
   {
    "duration": -129,
    "start_time": "2022-03-16T14:26:52.976Z"
   },
   {
    "duration": -131,
    "start_time": "2022-03-16T14:26:52.979Z"
   },
   {
    "duration": -133,
    "start_time": "2022-03-16T14:26:52.982Z"
   },
   {
    "duration": -134,
    "start_time": "2022-03-16T14:26:52.984Z"
   },
   {
    "duration": -136,
    "start_time": "2022-03-16T14:26:52.987Z"
   },
   {
    "duration": -137,
    "start_time": "2022-03-16T14:26:52.989Z"
   },
   {
    "duration": -138,
    "start_time": "2022-03-16T14:26:52.991Z"
   },
   {
    "duration": -139,
    "start_time": "2022-03-16T14:26:52.993Z"
   },
   {
    "duration": -140,
    "start_time": "2022-03-16T14:26:52.995Z"
   },
   {
    "duration": -141,
    "start_time": "2022-03-16T14:26:52.997Z"
   },
   {
    "duration": -142,
    "start_time": "2022-03-16T14:26:52.999Z"
   },
   {
    "duration": -143,
    "start_time": "2022-03-16T14:26:53.001Z"
   },
   {
    "duration": -144,
    "start_time": "2022-03-16T14:26:53.003Z"
   },
   {
    "duration": -145,
    "start_time": "2022-03-16T14:26:53.005Z"
   },
   {
    "duration": -146,
    "start_time": "2022-03-16T14:26:53.007Z"
   },
   {
    "duration": -146,
    "start_time": "2022-03-16T14:26:53.008Z"
   },
   {
    "duration": -147,
    "start_time": "2022-03-16T14:26:53.010Z"
   },
   {
    "duration": -148,
    "start_time": "2022-03-16T14:26:53.012Z"
   },
   {
    "duration": -148,
    "start_time": "2022-03-16T14:26:53.013Z"
   },
   {
    "duration": -149,
    "start_time": "2022-03-16T14:26:53.015Z"
   },
   {
    "duration": -149,
    "start_time": "2022-03-16T14:26:53.016Z"
   },
   {
    "duration": -150,
    "start_time": "2022-03-16T14:26:53.018Z"
   },
   {
    "duration": -150,
    "start_time": "2022-03-16T14:26:53.019Z"
   },
   {
    "duration": -151,
    "start_time": "2022-03-16T14:26:53.021Z"
   },
   {
    "duration": -153,
    "start_time": "2022-03-16T14:26:53.023Z"
   },
   {
    "duration": -153,
    "start_time": "2022-03-16T14:26:53.024Z"
   },
   {
    "duration": -154,
    "start_time": "2022-03-16T14:26:53.026Z"
   },
   {
    "duration": -154,
    "start_time": "2022-03-16T14:26:53.027Z"
   },
   {
    "duration": -154,
    "start_time": "2022-03-16T14:26:53.028Z"
   },
   {
    "duration": -155,
    "start_time": "2022-03-16T14:26:53.030Z"
   },
   {
    "duration": 14,
    "start_time": "2022-03-16T14:31:54.009Z"
   },
   {
    "duration": 28,
    "start_time": "2022-03-16T14:32:07.244Z"
   },
   {
    "duration": 12,
    "start_time": "2022-03-16T14:32:38.187Z"
   },
   {
    "duration": 23,
    "start_time": "2022-03-16T14:33:26.588Z"
   },
   {
    "duration": 30,
    "start_time": "2022-03-16T14:33:42.692Z"
   },
   {
    "duration": 13,
    "start_time": "2022-03-16T14:34:10.614Z"
   },
   {
    "duration": 381,
    "start_time": "2022-03-16T14:36:01.778Z"
   },
   {
    "duration": 4,
    "start_time": "2022-03-16T14:49:08.189Z"
   },
   {
    "duration": 744,
    "start_time": "2022-03-16T14:49:08.195Z"
   },
   {
    "duration": 393,
    "start_time": "2022-03-16T14:49:08.942Z"
   },
   {
    "duration": 234,
    "start_time": "2022-03-16T14:49:09.338Z"
   },
   {
    "duration": 464,
    "start_time": "2022-03-16T14:49:09.575Z"
   },
   {
    "duration": 326,
    "start_time": "2022-03-16T14:49:10.042Z"
   },
   {
    "duration": 377,
    "start_time": "2022-03-16T14:49:10.371Z"
   },
   {
    "duration": 273,
    "start_time": "2022-03-16T14:49:10.750Z"
   },
   {
    "duration": 290,
    "start_time": "2022-03-16T14:49:11.027Z"
   },
   {
    "duration": 324,
    "start_time": "2022-03-16T14:49:11.320Z"
   },
   {
    "duration": 272,
    "start_time": "2022-03-16T14:49:11.646Z"
   },
   {
    "duration": 524,
    "start_time": "2022-03-16T14:49:11.919Z"
   },
   {
    "duration": 147,
    "start_time": "2022-03-16T14:49:12.445Z"
   },
   {
    "duration": 744,
    "start_time": "2022-03-16T14:49:12.594Z"
   },
   {
    "duration": 3,
    "start_time": "2022-03-16T14:49:13.340Z"
   },
   {
    "duration": 304,
    "start_time": "2022-03-16T14:49:13.345Z"
   },
   {
    "duration": 687,
    "start_time": "2022-03-16T14:49:13.650Z"
   },
   {
    "duration": 100,
    "start_time": "2022-03-16T14:49:14.339Z"
   },
   {
    "duration": 369,
    "start_time": "2022-03-16T14:49:14.441Z"
   },
   {
    "duration": 469,
    "start_time": "2022-03-16T14:49:14.812Z"
   },
   {
    "duration": 847,
    "start_time": "2022-03-16T14:49:15.283Z"
   },
   {
    "duration": 46,
    "start_time": "2022-03-16T14:49:16.133Z"
   },
   {
    "duration": 6581,
    "start_time": "2022-03-16T14:49:16.202Z"
   },
   {
    "duration": -55,
    "start_time": "2022-03-16T14:49:22.841Z"
   },
   {
    "duration": -57,
    "start_time": "2022-03-16T14:49:22.844Z"
   },
   {
    "duration": -58,
    "start_time": "2022-03-16T14:49:22.846Z"
   },
   {
    "duration": -59,
    "start_time": "2022-03-16T14:49:22.848Z"
   },
   {
    "duration": -61,
    "start_time": "2022-03-16T14:49:22.851Z"
   },
   {
    "duration": -61,
    "start_time": "2022-03-16T14:49:22.852Z"
   },
   {
    "duration": -62,
    "start_time": "2022-03-16T14:49:22.854Z"
   },
   {
    "duration": -62,
    "start_time": "2022-03-16T14:49:22.855Z"
   },
   {
    "duration": -64,
    "start_time": "2022-03-16T14:49:22.858Z"
   },
   {
    "duration": -64,
    "start_time": "2022-03-16T14:49:22.859Z"
   },
   {
    "duration": -64,
    "start_time": "2022-03-16T14:49:22.861Z"
   },
   {
    "duration": -64,
    "start_time": "2022-03-16T14:49:22.862Z"
   },
   {
    "duration": -75,
    "start_time": "2022-03-16T14:49:22.874Z"
   },
   {
    "duration": -76,
    "start_time": "2022-03-16T14:49:22.877Z"
   },
   {
    "duration": -76,
    "start_time": "2022-03-16T14:49:22.878Z"
   },
   {
    "duration": -76,
    "start_time": "2022-03-16T14:49:22.880Z"
   },
   {
    "duration": -77,
    "start_time": "2022-03-16T14:49:22.882Z"
   },
   {
    "duration": -83,
    "start_time": "2022-03-16T14:49:22.890Z"
   },
   {
    "duration": -86,
    "start_time": "2022-03-16T14:49:22.894Z"
   },
   {
    "duration": -86,
    "start_time": "2022-03-16T14:49:22.895Z"
   },
   {
    "duration": -86,
    "start_time": "2022-03-16T14:49:22.896Z"
   },
   {
    "duration": -87,
    "start_time": "2022-03-16T14:49:22.898Z"
   },
   {
    "duration": -87,
    "start_time": "2022-03-16T14:49:22.899Z"
   },
   {
    "duration": -88,
    "start_time": "2022-03-16T14:49:22.901Z"
   },
   {
    "duration": -88,
    "start_time": "2022-03-16T14:49:22.902Z"
   },
   {
    "duration": -88,
    "start_time": "2022-03-16T14:49:22.903Z"
   },
   {
    "duration": -96,
    "start_time": "2022-03-16T14:49:22.912Z"
   },
   {
    "duration": 728,
    "start_time": "2022-03-16T14:49:49.382Z"
   },
   {
    "duration": 776,
    "start_time": "2022-03-16T14:53:20.062Z"
   },
   {
    "duration": 702,
    "start_time": "2022-03-16T14:59:12.769Z"
   },
   {
    "duration": 10078,
    "start_time": "2022-03-16T15:10:25.070Z"
   },
   {
    "duration": 4670,
    "start_time": "2022-03-16T15:10:35.150Z"
   },
   {
    "duration": 5123,
    "start_time": "2022-03-16T15:10:39.822Z"
   },
   {
    "duration": 7177,
    "start_time": "2022-03-16T15:10:44.947Z"
   },
   {
    "duration": 7944,
    "start_time": "2022-03-16T15:10:52.126Z"
   },
   {
    "duration": 6533,
    "start_time": "2022-03-16T15:11:00.072Z"
   },
   {
    "duration": 10021,
    "start_time": "2022-03-16T15:11:06.608Z"
   },
   {
    "duration": 7431,
    "start_time": "2022-03-16T15:11:16.632Z"
   },
   {
    "duration": 7521,
    "start_time": "2022-03-16T15:11:24.065Z"
   },
   {
    "duration": 18404,
    "start_time": "2022-03-16T15:11:31.588Z"
   },
   {
    "duration": 5508,
    "start_time": "2022-03-16T15:11:49.994Z"
   },
   {
    "duration": 4,
    "start_time": "2022-03-16T15:13:44.717Z"
   },
   {
    "duration": 4374,
    "start_time": "2022-03-16T15:13:44.722Z"
   },
   {
    "duration": 760,
    "start_time": "2022-03-16T15:13:49.098Z"
   },
   {
    "duration": 1631,
    "start_time": "2022-03-16T15:13:49.860Z"
   },
   {
    "duration": 3140,
    "start_time": "2022-03-16T15:13:51.493Z"
   },
   {
    "duration": 3042,
    "start_time": "2022-03-16T15:13:54.635Z"
   },
   {
    "duration": 3624,
    "start_time": "2022-03-16T15:13:57.678Z"
   },
   {
    "duration": 1688,
    "start_time": "2022-03-16T15:14:01.304Z"
   },
   {
    "duration": 1866,
    "start_time": "2022-03-16T16:08:54.790Z"
   },
   {
    "duration": 230,
    "start_time": "2022-03-16T16:08:56.659Z"
   },
   {
    "duration": 61,
    "start_time": "2022-03-16T16:08:56.892Z"
   },
   {
    "duration": 15,
    "start_time": "2022-03-16T16:08:56.957Z"
   },
   {
    "duration": 29,
    "start_time": "2022-03-16T16:08:56.975Z"
   },
   {
    "duration": 40,
    "start_time": "2022-03-16T16:08:57.007Z"
   },
   {
    "duration": 10,
    "start_time": "2022-03-16T16:08:57.050Z"
   },
   {
    "duration": 19,
    "start_time": "2022-03-16T16:08:57.065Z"
   },
   {
    "duration": 17,
    "start_time": "2022-03-16T16:08:57.087Z"
   },
   {
    "duration": 44,
    "start_time": "2022-03-16T16:08:57.107Z"
   },
   {
    "duration": 17,
    "start_time": "2022-03-16T16:08:57.153Z"
   },
   {
    "duration": 348,
    "start_time": "2022-03-16T16:08:57.173Z"
   },
   {
    "duration": 31,
    "start_time": "2022-03-16T16:08:57.524Z"
   },
   {
    "duration": 597,
    "start_time": "2022-03-16T16:08:57.557Z"
   },
   {
    "duration": 5,
    "start_time": "2022-03-16T16:08:58.157Z"
   },
   {
    "duration": 23,
    "start_time": "2022-03-16T16:08:58.164Z"
   },
   {
    "duration": 702,
    "start_time": "2022-03-16T16:08:58.190Z"
   },
   {
    "duration": 3,
    "start_time": "2022-03-16T16:08:58.895Z"
   },
   {
    "duration": 22,
    "start_time": "2022-03-16T16:08:58.901Z"
   },
   {
    "duration": 32,
    "start_time": "2022-03-16T16:08:58.942Z"
   },
   {
    "duration": 578,
    "start_time": "2022-03-16T16:08:58.977Z"
   },
   {
    "duration": 48,
    "start_time": "2022-03-16T16:08:59.557Z"
   },
   {
    "duration": 995,
    "start_time": "2022-03-16T16:08:59.610Z"
   },
   {
    "duration": 21,
    "start_time": "2022-03-16T16:09:00.609Z"
   },
   {
    "duration": 16,
    "start_time": "2022-03-16T16:09:00.645Z"
   },
   {
    "duration": 473,
    "start_time": "2022-03-16T16:09:00.664Z"
   },
   {
    "duration": 12,
    "start_time": "2022-03-16T16:09:01.144Z"
   },
   {
    "duration": 23,
    "start_time": "2022-03-16T16:09:01.159Z"
   },
   {
    "duration": 380,
    "start_time": "2022-03-16T16:09:01.185Z"
   },
   {
    "duration": 11,
    "start_time": "2022-03-16T16:09:01.568Z"
   },
   {
    "duration": 377,
    "start_time": "2022-03-16T16:09:01.581Z"
   },
   {
    "duration": 14,
    "start_time": "2022-03-16T16:09:01.961Z"
   },
   {
    "duration": 19,
    "start_time": "2022-03-16T16:09:01.978Z"
   },
   {
    "duration": 399,
    "start_time": "2022-03-16T16:09:01.999Z"
   },
   {
    "duration": 42,
    "start_time": "2022-03-16T16:09:02.400Z"
   },
   {
    "duration": 19,
    "start_time": "2022-03-16T16:09:02.445Z"
   },
   {
    "duration": 24,
    "start_time": "2022-03-16T16:09:02.466Z"
   },
   {
    "duration": 57,
    "start_time": "2022-03-16T16:09:02.492Z"
   },
   {
    "duration": 25,
    "start_time": "2022-03-16T16:09:02.552Z"
   },
   {
    "duration": 20,
    "start_time": "2022-03-16T16:09:02.579Z"
   },
   {
    "duration": 51,
    "start_time": "2022-03-16T16:09:02.602Z"
   },
   {
    "duration": 13,
    "start_time": "2022-03-16T16:09:02.656Z"
   },
   {
    "duration": 380,
    "start_time": "2022-03-16T16:09:02.672Z"
   },
   {
    "duration": 14,
    "start_time": "2022-03-16T16:09:03.055Z"
   },
   {
    "duration": 375,
    "start_time": "2022-03-16T16:09:03.072Z"
   },
   {
    "duration": 11,
    "start_time": "2022-03-16T16:09:03.450Z"
   },
   {
    "duration": 274,
    "start_time": "2022-03-16T16:09:03.463Z"
   },
   {
    "duration": 43,
    "start_time": "2022-03-16T16:09:03.743Z"
   },
   {
    "duration": 15,
    "start_time": "2022-03-16T16:09:03.788Z"
   },
   {
    "duration": 50,
    "start_time": "2022-03-16T16:09:03.806Z"
   },
   {
    "duration": 112,
    "start_time": "2022-03-16T16:13:30.312Z"
   },
   {
    "duration": 1313,
    "start_time": "2022-03-16T16:13:36.854Z"
   },
   {
    "duration": 103,
    "start_time": "2022-03-16T16:17:24.592Z"
   },
   {
    "duration": 821,
    "start_time": "2022-03-16T16:17:30.622Z"
   },
   {
    "duration": 602,
    "start_time": "2022-03-16T16:18:04.551Z"
   },
   {
    "duration": 605,
    "start_time": "2022-03-16T16:18:10.001Z"
   },
   {
    "duration": 605,
    "start_time": "2022-03-16T16:18:15.740Z"
   },
   {
    "duration": 1017,
    "start_time": "2022-03-16T16:19:26.354Z"
   },
   {
    "duration": 562,
    "start_time": "2022-03-16T16:34:35.266Z"
   },
   {
    "duration": 666,
    "start_time": "2022-03-16T16:34:50.240Z"
   },
   {
    "duration": 1606,
    "start_time": "2022-03-16T16:35:38.085Z"
   },
   {
    "duration": 859,
    "start_time": "2022-03-16T16:35:49.203Z"
   },
   {
    "duration": 951,
    "start_time": "2022-03-16T16:36:01.347Z"
   },
   {
    "duration": 69,
    "start_time": "2022-03-17T07:32:22.762Z"
   },
   {
    "duration": 8,
    "start_time": "2022-03-17T07:32:30.408Z"
   },
   {
    "duration": 1292,
    "start_time": "2022-03-17T07:32:33.577Z"
   },
   {
    "duration": 57,
    "start_time": "2022-03-17T07:32:34.871Z"
   },
   {
    "duration": 25,
    "start_time": "2022-03-17T07:32:34.930Z"
   },
   {
    "duration": 9,
    "start_time": "2022-03-17T07:32:34.957Z"
   },
   {
    "duration": 46,
    "start_time": "2022-03-17T07:32:34.968Z"
   },
   {
    "duration": 7,
    "start_time": "2022-03-17T07:32:35.015Z"
   },
   {
    "duration": 5,
    "start_time": "2022-03-17T07:32:35.024Z"
   },
   {
    "duration": 22,
    "start_time": "2022-03-17T07:32:35.030Z"
   },
   {
    "duration": 11,
    "start_time": "2022-03-17T07:32:35.054Z"
   },
   {
    "duration": 5,
    "start_time": "2022-03-17T07:32:35.066Z"
   },
   {
    "duration": 35,
    "start_time": "2022-03-17T07:32:35.073Z"
   },
   {
    "duration": 152,
    "start_time": "2022-03-17T07:32:35.110Z"
   },
   {
    "duration": 13,
    "start_time": "2022-03-17T07:32:35.263Z"
   },
   {
    "duration": 290,
    "start_time": "2022-03-17T07:32:35.278Z"
   },
   {
    "duration": 3,
    "start_time": "2022-03-17T07:32:35.569Z"
   },
   {
    "duration": 23,
    "start_time": "2022-03-17T07:32:35.574Z"
   },
   {
    "duration": 455,
    "start_time": "2022-03-17T07:32:35.604Z"
   },
   {
    "duration": 2,
    "start_time": "2022-03-17T07:32:36.061Z"
   },
   {
    "duration": 14,
    "start_time": "2022-03-17T07:32:36.065Z"
   },
   {
    "duration": 1136,
    "start_time": "2022-03-17T07:32:36.081Z"
   },
   {
    "duration": 0,
    "start_time": "2022-03-17T07:32:37.219Z"
   },
   {
    "duration": 0,
    "start_time": "2022-03-17T07:32:37.221Z"
   },
   {
    "duration": 0,
    "start_time": "2022-03-17T07:32:37.222Z"
   },
   {
    "duration": 0,
    "start_time": "2022-03-17T07:32:37.224Z"
   },
   {
    "duration": 0,
    "start_time": "2022-03-17T07:32:37.225Z"
   },
   {
    "duration": 0,
    "start_time": "2022-03-17T07:32:37.226Z"
   },
   {
    "duration": 0,
    "start_time": "2022-03-17T07:32:37.228Z"
   },
   {
    "duration": 0,
    "start_time": "2022-03-17T07:32:37.229Z"
   },
   {
    "duration": 0,
    "start_time": "2022-03-17T07:32:37.230Z"
   },
   {
    "duration": 0,
    "start_time": "2022-03-17T07:32:37.231Z"
   },
   {
    "duration": 0,
    "start_time": "2022-03-17T07:32:37.232Z"
   },
   {
    "duration": 0,
    "start_time": "2022-03-17T07:32:37.233Z"
   },
   {
    "duration": 0,
    "start_time": "2022-03-17T07:32:37.234Z"
   },
   {
    "duration": 0,
    "start_time": "2022-03-17T07:32:37.235Z"
   },
   {
    "duration": 0,
    "start_time": "2022-03-17T07:32:37.236Z"
   },
   {
    "duration": 0,
    "start_time": "2022-03-17T07:32:37.237Z"
   },
   {
    "duration": 0,
    "start_time": "2022-03-17T07:32:37.238Z"
   },
   {
    "duration": 0,
    "start_time": "2022-03-17T07:32:37.239Z"
   },
   {
    "duration": 0,
    "start_time": "2022-03-17T07:32:37.240Z"
   },
   {
    "duration": 0,
    "start_time": "2022-03-17T07:32:37.240Z"
   },
   {
    "duration": 0,
    "start_time": "2022-03-17T07:32:37.241Z"
   },
   {
    "duration": 0,
    "start_time": "2022-03-17T07:32:37.242Z"
   },
   {
    "duration": 0,
    "start_time": "2022-03-17T07:32:37.243Z"
   },
   {
    "duration": 0,
    "start_time": "2022-03-17T07:32:37.244Z"
   },
   {
    "duration": 0,
    "start_time": "2022-03-17T07:32:37.245Z"
   },
   {
    "duration": 0,
    "start_time": "2022-03-17T07:32:37.246Z"
   },
   {
    "duration": 0,
    "start_time": "2022-03-17T07:32:37.247Z"
   },
   {
    "duration": 0,
    "start_time": "2022-03-17T07:32:37.248Z"
   },
   {
    "duration": 0,
    "start_time": "2022-03-17T07:32:37.249Z"
   },
   {
    "duration": 0,
    "start_time": "2022-03-17T07:32:37.250Z"
   },
   {
    "duration": 11,
    "start_time": "2022-03-17T07:33:19.400Z"
   },
   {
    "duration": 11,
    "start_time": "2022-03-17T07:34:25.627Z"
   },
   {
    "duration": 16,
    "start_time": "2022-03-17T07:35:01.462Z"
   },
   {
    "duration": 11,
    "start_time": "2022-03-17T07:39:52.392Z"
   },
   {
    "duration": 20,
    "start_time": "2022-03-17T07:43:07.818Z"
   },
   {
    "duration": 19,
    "start_time": "2022-03-17T07:43:37.423Z"
   },
   {
    "duration": 33,
    "start_time": "2022-03-17T07:44:09.118Z"
   },
   {
    "duration": 20,
    "start_time": "2022-03-17T07:44:57.230Z"
   },
   {
    "duration": 3,
    "start_time": "2022-03-17T07:47:28.650Z"
   },
   {
    "duration": 14,
    "start_time": "2022-03-17T07:47:53.302Z"
   },
   {
    "duration": 3,
    "start_time": "2022-03-17T07:48:02.624Z"
   },
   {
    "duration": 56,
    "start_time": "2022-03-17T07:48:02.628Z"
   },
   {
    "duration": 32,
    "start_time": "2022-03-17T07:48:02.685Z"
   },
   {
    "duration": 10,
    "start_time": "2022-03-17T07:48:02.718Z"
   },
   {
    "duration": 18,
    "start_time": "2022-03-17T07:48:02.731Z"
   },
   {
    "duration": 10,
    "start_time": "2022-03-17T07:48:02.750Z"
   },
   {
    "duration": 6,
    "start_time": "2022-03-17T07:48:02.761Z"
   },
   {
    "duration": 39,
    "start_time": "2022-03-17T07:48:02.768Z"
   },
   {
    "duration": 13,
    "start_time": "2022-03-17T07:48:02.809Z"
   },
   {
    "duration": 4,
    "start_time": "2022-03-17T07:48:02.824Z"
   },
   {
    "duration": 11,
    "start_time": "2022-03-17T07:48:02.830Z"
   },
   {
    "duration": 152,
    "start_time": "2022-03-17T07:48:02.842Z"
   },
   {
    "duration": 17,
    "start_time": "2022-03-17T07:48:02.996Z"
   },
   {
    "duration": 294,
    "start_time": "2022-03-17T07:48:03.017Z"
   },
   {
    "duration": 3,
    "start_time": "2022-03-17T07:48:03.313Z"
   },
   {
    "duration": 14,
    "start_time": "2022-03-17T07:48:03.318Z"
   },
   {
    "duration": 395,
    "start_time": "2022-03-17T07:48:03.334Z"
   },
   {
    "duration": 3,
    "start_time": "2022-03-17T07:48:03.730Z"
   },
   {
    "duration": 15,
    "start_time": "2022-03-17T07:48:03.734Z"
   },
   {
    "duration": 17,
    "start_time": "2022-03-17T07:48:03.750Z"
   },
   {
    "duration": 218,
    "start_time": "2022-03-17T07:48:03.768Z"
   },
   {
    "duration": 46,
    "start_time": "2022-03-17T07:48:03.988Z"
   },
   {
    "duration": 122,
    "start_time": "2022-03-17T07:48:04.036Z"
   },
   {
    "duration": 13,
    "start_time": "2022-03-17T07:48:04.160Z"
   },
   {
    "duration": 6,
    "start_time": "2022-03-17T07:48:04.175Z"
   },
   {
    "duration": 129,
    "start_time": "2022-03-17T07:48:04.182Z"
   },
   {
    "duration": 8,
    "start_time": "2022-03-17T07:48:04.313Z"
   },
   {
    "duration": 6,
    "start_time": "2022-03-17T07:48:04.325Z"
   },
   {
    "duration": 132,
    "start_time": "2022-03-17T07:48:04.332Z"
   },
   {
    "duration": 7,
    "start_time": "2022-03-17T07:48:04.465Z"
   },
   {
    "duration": 135,
    "start_time": "2022-03-17T07:48:04.473Z"
   },
   {
    "duration": 9,
    "start_time": "2022-03-17T07:48:04.610Z"
   },
   {
    "duration": 11,
    "start_time": "2022-03-17T07:48:04.620Z"
   },
   {
    "duration": 185,
    "start_time": "2022-03-17T07:48:04.632Z"
   },
   {
    "duration": 16,
    "start_time": "2022-03-17T07:48:04.820Z"
   },
   {
    "duration": 12,
    "start_time": "2022-03-17T07:48:04.838Z"
   },
   {
    "duration": 15,
    "start_time": "2022-03-17T07:48:04.851Z"
   },
   {
    "duration": 11,
    "start_time": "2022-03-17T07:48:04.868Z"
   },
   {
    "duration": 17,
    "start_time": "2022-03-17T07:48:04.901Z"
   },
   {
    "duration": 18,
    "start_time": "2022-03-17T07:48:04.919Z"
   },
   {
    "duration": 14,
    "start_time": "2022-03-17T07:48:04.940Z"
   },
   {
    "duration": 6,
    "start_time": "2022-03-17T07:48:04.956Z"
   },
   {
    "duration": 138,
    "start_time": "2022-03-17T07:48:04.963Z"
   },
   {
    "duration": 10,
    "start_time": "2022-03-17T07:48:05.103Z"
   },
   {
    "duration": 125,
    "start_time": "2022-03-17T07:48:05.116Z"
   },
   {
    "duration": 7,
    "start_time": "2022-03-17T07:48:05.243Z"
   },
   {
    "duration": 125,
    "start_time": "2022-03-17T07:48:05.252Z"
   },
   {
    "duration": 36,
    "start_time": "2022-03-17T07:48:05.379Z"
   },
   {
    "duration": 9,
    "start_time": "2022-03-17T07:48:05.417Z"
   },
   {
    "duration": 19,
    "start_time": "2022-03-17T07:48:05.428Z"
   },
   {
    "duration": 394,
    "start_time": "2022-03-17T07:51:21.874Z"
   },
   {
    "duration": 106,
    "start_time": "2022-03-17T07:53:44.944Z"
   },
   {
    "duration": 96,
    "start_time": "2022-03-17T07:56:36.890Z"
   },
   {
    "duration": 96,
    "start_time": "2022-03-17T07:56:55.161Z"
   },
   {
    "duration": 209,
    "start_time": "2022-03-17T07:58:26.510Z"
   },
   {
    "duration": 106,
    "start_time": "2022-03-17T07:58:34.989Z"
   },
   {
    "duration": 224,
    "start_time": "2022-03-17T08:09:25.643Z"
   },
   {
    "duration": 206,
    "start_time": "2022-03-17T08:10:25.126Z"
   },
   {
    "duration": 96,
    "start_time": "2022-03-17T08:10:42.793Z"
   },
   {
    "duration": 95,
    "start_time": "2022-03-17T08:11:03.341Z"
   },
   {
    "duration": 317,
    "start_time": "2022-03-17T08:18:37.530Z"
   },
   {
    "duration": 426,
    "start_time": "2022-03-17T08:20:37.062Z"
   },
   {
    "duration": 327,
    "start_time": "2022-03-17T08:20:48.302Z"
   },
   {
    "duration": 346,
    "start_time": "2022-03-17T08:25:51.842Z"
   },
   {
    "duration": 350,
    "start_time": "2022-03-17T08:28:38.061Z"
   },
   {
    "duration": 464,
    "start_time": "2022-03-17T08:28:56.176Z"
   },
   {
    "duration": 356,
    "start_time": "2022-03-17T08:29:14.151Z"
   },
   {
    "duration": 3,
    "start_time": "2022-03-17T08:41:10.761Z"
   },
   {
    "duration": 67,
    "start_time": "2022-03-17T08:41:10.766Z"
   },
   {
    "duration": 24,
    "start_time": "2022-03-17T08:41:10.835Z"
   },
   {
    "duration": 44,
    "start_time": "2022-03-17T08:41:10.861Z"
   },
   {
    "duration": 18,
    "start_time": "2022-03-17T08:41:10.908Z"
   },
   {
    "duration": 6,
    "start_time": "2022-03-17T08:41:10.928Z"
   },
   {
    "duration": 6,
    "start_time": "2022-03-17T08:41:10.936Z"
   },
   {
    "duration": 16,
    "start_time": "2022-03-17T08:41:10.944Z"
   },
   {
    "duration": 45,
    "start_time": "2022-03-17T08:41:10.961Z"
   },
   {
    "duration": 5,
    "start_time": "2022-03-17T08:41:11.008Z"
   },
   {
    "duration": 12,
    "start_time": "2022-03-17T08:41:11.015Z"
   },
   {
    "duration": 146,
    "start_time": "2022-03-17T08:41:11.028Z"
   },
   {
    "duration": 12,
    "start_time": "2022-03-17T08:41:11.176Z"
   },
   {
    "duration": 272,
    "start_time": "2022-03-17T08:41:11.202Z"
   },
   {
    "duration": 3,
    "start_time": "2022-03-17T08:41:11.476Z"
   },
   {
    "duration": 21,
    "start_time": "2022-03-17T08:41:11.480Z"
   },
   {
    "duration": 314,
    "start_time": "2022-03-17T08:41:11.503Z"
   },
   {
    "duration": 2,
    "start_time": "2022-03-17T08:41:11.819Z"
   },
   {
    "duration": 13,
    "start_time": "2022-03-17T08:41:11.823Z"
   },
   {
    "duration": 18,
    "start_time": "2022-03-17T08:41:11.837Z"
   },
   {
    "duration": 218,
    "start_time": "2022-03-17T08:41:11.857Z"
   },
   {
    "duration": 40,
    "start_time": "2022-03-17T08:41:12.076Z"
   },
   {
    "duration": 456,
    "start_time": "2022-03-17T08:41:12.120Z"
   },
   {
    "duration": 12,
    "start_time": "2022-03-17T08:41:12.577Z"
   },
   {
    "duration": 12,
    "start_time": "2022-03-17T08:41:12.601Z"
   },
   {
    "duration": 119,
    "start_time": "2022-03-17T08:41:12.614Z"
   },
   {
    "duration": 6,
    "start_time": "2022-03-17T08:41:12.735Z"
   },
   {
    "duration": 6,
    "start_time": "2022-03-17T08:41:12.743Z"
   },
   {
    "duration": 134,
    "start_time": "2022-03-17T08:41:12.751Z"
   },
   {
    "duration": 7,
    "start_time": "2022-03-17T08:41:12.886Z"
   },
   {
    "duration": 130,
    "start_time": "2022-03-17T08:41:12.900Z"
   },
   {
    "duration": 9,
    "start_time": "2022-03-17T08:41:13.032Z"
   },
   {
    "duration": 14,
    "start_time": "2022-03-17T08:41:13.043Z"
   },
   {
    "duration": 186,
    "start_time": "2022-03-17T08:41:13.059Z"
   },
   {
    "duration": 15,
    "start_time": "2022-03-17T08:41:13.246Z"
   },
   {
    "duration": 11,
    "start_time": "2022-03-17T08:41:13.262Z"
   },
   {
    "duration": 32,
    "start_time": "2022-03-17T08:41:13.275Z"
   },
   {
    "duration": 17,
    "start_time": "2022-03-17T08:41:13.308Z"
   },
   {
    "duration": 11,
    "start_time": "2022-03-17T08:41:13.327Z"
   },
   {
    "duration": 13,
    "start_time": "2022-03-17T08:41:13.340Z"
   },
   {
    "duration": 12,
    "start_time": "2022-03-17T08:41:13.357Z"
   },
   {
    "duration": 7,
    "start_time": "2022-03-17T08:41:13.371Z"
   },
   {
    "duration": 125,
    "start_time": "2022-03-17T08:41:13.400Z"
   },
   {
    "duration": 7,
    "start_time": "2022-03-17T08:41:13.527Z"
   },
   {
    "duration": 117,
    "start_time": "2022-03-17T08:41:13.535Z"
   },
   {
    "duration": 7,
    "start_time": "2022-03-17T08:41:13.654Z"
   },
   {
    "duration": 123,
    "start_time": "2022-03-17T08:41:13.662Z"
   },
   {
    "duration": 32,
    "start_time": "2022-03-17T08:41:13.786Z"
   },
   {
    "duration": 7,
    "start_time": "2022-03-17T08:41:13.820Z"
   },
   {
    "duration": 9,
    "start_time": "2022-03-17T08:41:13.829Z"
   },
   {
    "duration": 19,
    "start_time": "2022-03-17T08:47:07.225Z"
   },
   {
    "duration": 14,
    "start_time": "2022-03-17T08:47:45.952Z"
   },
   {
    "duration": 5,
    "start_time": "2022-03-17T08:47:59.159Z"
   },
   {
    "duration": 124,
    "start_time": "2022-03-17T08:48:06.146Z"
   },
   {
    "duration": 170,
    "start_time": "2022-03-17T08:48:30.607Z"
   },
   {
    "duration": 6,
    "start_time": "2022-03-17T08:50:16.092Z"
   },
   {
    "duration": 13,
    "start_time": "2022-03-17T08:50:27.378Z"
   },
   {
    "duration": 3,
    "start_time": "2022-03-17T08:51:19.731Z"
   },
   {
    "duration": 76,
    "start_time": "2022-03-17T08:51:19.735Z"
   },
   {
    "duration": 26,
    "start_time": "2022-03-17T08:51:19.812Z"
   },
   {
    "duration": 11,
    "start_time": "2022-03-17T08:51:19.839Z"
   },
   {
    "duration": 18,
    "start_time": "2022-03-17T08:51:19.852Z"
   },
   {
    "duration": 30,
    "start_time": "2022-03-17T08:51:19.871Z"
   },
   {
    "duration": 13,
    "start_time": "2022-03-17T08:51:19.902Z"
   },
   {
    "duration": 15,
    "start_time": "2022-03-17T08:51:19.917Z"
   },
   {
    "duration": 9,
    "start_time": "2022-03-17T08:51:19.934Z"
   },
   {
    "duration": 4,
    "start_time": "2022-03-17T08:51:19.945Z"
   },
   {
    "duration": 13,
    "start_time": "2022-03-17T08:51:19.950Z"
   },
   {
    "duration": 162,
    "start_time": "2022-03-17T08:51:19.965Z"
   },
   {
    "duration": 13,
    "start_time": "2022-03-17T08:51:20.130Z"
   },
   {
    "duration": 389,
    "start_time": "2022-03-17T08:51:20.145Z"
   },
   {
    "duration": 3,
    "start_time": "2022-03-17T08:51:20.536Z"
   },
   {
    "duration": 13,
    "start_time": "2022-03-17T08:51:20.540Z"
   },
   {
    "duration": 337,
    "start_time": "2022-03-17T08:51:20.554Z"
   },
   {
    "duration": 2,
    "start_time": "2022-03-17T08:51:20.893Z"
   },
   {
    "duration": 16,
    "start_time": "2022-03-17T08:51:20.902Z"
   },
   {
    "duration": 17,
    "start_time": "2022-03-17T08:51:20.921Z"
   },
   {
    "duration": 286,
    "start_time": "2022-03-17T08:51:20.940Z"
   },
   {
    "duration": 39,
    "start_time": "2022-03-17T08:51:21.228Z"
   },
   {
    "duration": 472,
    "start_time": "2022-03-17T08:51:21.268Z"
   },
   {
    "duration": 18,
    "start_time": "2022-03-17T08:51:21.742Z"
   },
   {
    "duration": 6,
    "start_time": "2022-03-17T08:51:21.761Z"
   },
   {
    "duration": 151,
    "start_time": "2022-03-17T08:51:21.769Z"
   },
   {
    "duration": 7,
    "start_time": "2022-03-17T08:51:21.922Z"
   },
   {
    "duration": 9,
    "start_time": "2022-03-17T08:51:21.930Z"
   },
   {
    "duration": 134,
    "start_time": "2022-03-17T08:51:21.941Z"
   },
   {
    "duration": 7,
    "start_time": "2022-03-17T08:51:22.077Z"
   },
   {
    "duration": 136,
    "start_time": "2022-03-17T08:51:22.085Z"
   },
   {
    "duration": 8,
    "start_time": "2022-03-17T08:51:22.223Z"
   },
   {
    "duration": 11,
    "start_time": "2022-03-17T08:51:22.232Z"
   },
   {
    "duration": 292,
    "start_time": "2022-03-17T08:51:22.245Z"
   },
   {
    "duration": 15,
    "start_time": "2022-03-17T08:51:22.539Z"
   },
   {
    "duration": 11,
    "start_time": "2022-03-17T08:51:22.555Z"
   },
   {
    "duration": 14,
    "start_time": "2022-03-17T08:51:22.569Z"
   },
   {
    "duration": 13,
    "start_time": "2022-03-17T08:51:22.606Z"
   },
   {
    "duration": 11,
    "start_time": "2022-03-17T08:51:22.621Z"
   },
   {
    "duration": 34,
    "start_time": "2022-03-17T08:51:22.633Z"
   },
   {
    "duration": 23,
    "start_time": "2022-03-17T08:51:22.669Z"
   },
   {
    "duration": 18,
    "start_time": "2022-03-17T08:51:22.694Z"
   },
   {
    "duration": 124,
    "start_time": "2022-03-17T08:51:22.714Z"
   },
   {
    "duration": 9,
    "start_time": "2022-03-17T08:51:22.839Z"
   },
   {
    "duration": 124,
    "start_time": "2022-03-17T08:51:22.849Z"
   },
   {
    "duration": 7,
    "start_time": "2022-03-17T08:51:22.974Z"
   },
   {
    "duration": 139,
    "start_time": "2022-03-17T08:51:22.982Z"
   },
   {
    "duration": 25,
    "start_time": "2022-03-17T08:51:23.123Z"
   },
   {
    "duration": 25,
    "start_time": "2022-03-17T08:51:23.149Z"
   },
   {
    "duration": 31,
    "start_time": "2022-03-17T08:51:23.176Z"
   },
   {
    "duration": 7,
    "start_time": "2022-03-17T08:51:54.370Z"
   },
   {
    "duration": 6,
    "start_time": "2022-03-17T08:52:04.055Z"
   },
   {
    "duration": 4,
    "start_time": "2022-03-17T08:53:34.659Z"
   },
   {
    "duration": 3,
    "start_time": "2022-03-17T08:53:38.095Z"
   },
   {
    "duration": 54,
    "start_time": "2022-03-17T08:53:38.099Z"
   },
   {
    "duration": 24,
    "start_time": "2022-03-17T08:53:38.155Z"
   },
   {
    "duration": 28,
    "start_time": "2022-03-17T08:53:38.181Z"
   },
   {
    "duration": 18,
    "start_time": "2022-03-17T08:53:38.218Z"
   },
   {
    "duration": 5,
    "start_time": "2022-03-17T08:53:38.237Z"
   },
   {
    "duration": 6,
    "start_time": "2022-03-17T08:53:38.244Z"
   },
   {
    "duration": 12,
    "start_time": "2022-03-17T08:53:38.251Z"
   },
   {
    "duration": 41,
    "start_time": "2022-03-17T08:53:38.264Z"
   },
   {
    "duration": 5,
    "start_time": "2022-03-17T08:53:38.309Z"
   },
   {
    "duration": 13,
    "start_time": "2022-03-17T08:53:38.316Z"
   },
   {
    "duration": 144,
    "start_time": "2022-03-17T08:53:38.330Z"
   },
   {
    "duration": 13,
    "start_time": "2022-03-17T08:53:38.476Z"
   },
   {
    "duration": 273,
    "start_time": "2022-03-17T08:53:38.502Z"
   },
   {
    "duration": 2,
    "start_time": "2022-03-17T08:53:38.777Z"
   },
   {
    "duration": 21,
    "start_time": "2022-03-17T08:53:38.781Z"
   },
   {
    "duration": 329,
    "start_time": "2022-03-17T08:53:38.803Z"
   },
   {
    "duration": 2,
    "start_time": "2022-03-17T08:53:39.134Z"
   },
   {
    "duration": 14,
    "start_time": "2022-03-17T08:53:39.137Z"
   },
   {
    "duration": 17,
    "start_time": "2022-03-17T08:53:39.152Z"
   },
   {
    "duration": 217,
    "start_time": "2022-03-17T08:53:39.170Z"
   },
   {
    "duration": 36,
    "start_time": "2022-03-17T08:53:39.389Z"
   },
   {
    "duration": 468,
    "start_time": "2022-03-17T08:53:39.427Z"
   },
   {
    "duration": 17,
    "start_time": "2022-03-17T08:53:39.901Z"
   },
   {
    "duration": 5,
    "start_time": "2022-03-17T08:53:39.919Z"
   },
   {
    "duration": 136,
    "start_time": "2022-03-17T08:53:39.925Z"
   },
   {
    "duration": 7,
    "start_time": "2022-03-17T08:53:40.062Z"
   },
   {
    "duration": 7,
    "start_time": "2022-03-17T08:53:40.070Z"
   },
   {
    "duration": 146,
    "start_time": "2022-03-17T08:53:40.079Z"
   },
   {
    "duration": 7,
    "start_time": "2022-03-17T08:53:40.226Z"
   },
   {
    "duration": 143,
    "start_time": "2022-03-17T08:53:40.234Z"
   },
   {
    "duration": 9,
    "start_time": "2022-03-17T08:53:40.378Z"
   },
   {
    "duration": 23,
    "start_time": "2022-03-17T08:53:40.389Z"
   },
   {
    "duration": 181,
    "start_time": "2022-03-17T08:53:40.414Z"
   },
   {
    "duration": 24,
    "start_time": "2022-03-17T08:53:40.600Z"
   },
   {
    "duration": 12,
    "start_time": "2022-03-17T08:53:40.625Z"
   },
   {
    "duration": 11,
    "start_time": "2022-03-17T08:53:40.639Z"
   },
   {
    "duration": 11,
    "start_time": "2022-03-17T08:53:40.651Z"
   },
   {
    "duration": 12,
    "start_time": "2022-03-17T08:53:40.663Z"
   },
   {
    "duration": 13,
    "start_time": "2022-03-17T08:53:40.701Z"
   },
   {
    "duration": 15,
    "start_time": "2022-03-17T08:53:40.719Z"
   },
   {
    "duration": 9,
    "start_time": "2022-03-17T08:53:40.736Z"
   },
   {
    "duration": 129,
    "start_time": "2022-03-17T08:53:40.746Z"
   },
   {
    "duration": 8,
    "start_time": "2022-03-17T08:53:40.877Z"
   },
   {
    "duration": 126,
    "start_time": "2022-03-17T08:53:40.887Z"
   },
   {
    "duration": 11,
    "start_time": "2022-03-17T08:53:41.014Z"
   },
   {
    "duration": 130,
    "start_time": "2022-03-17T08:53:41.027Z"
   },
   {
    "duration": 24,
    "start_time": "2022-03-17T08:53:41.158Z"
   },
   {
    "duration": 22,
    "start_time": "2022-03-17T08:53:41.184Z"
   },
   {
    "duration": 14,
    "start_time": "2022-03-17T08:53:41.209Z"
   },
   {
    "duration": 6,
    "start_time": "2022-03-17T08:55:02.550Z"
   },
   {
    "duration": 6,
    "start_time": "2022-03-17T08:55:08.818Z"
   },
   {
    "duration": 146,
    "start_time": "2022-03-17T08:58:01.175Z"
   },
   {
    "duration": 7,
    "start_time": "2022-03-17T09:00:06.274Z"
   },
   {
    "duration": 7,
    "start_time": "2022-03-17T09:00:36.342Z"
   },
   {
    "duration": 8,
    "start_time": "2022-03-17T09:01:01.698Z"
   },
   {
    "duration": 121,
    "start_time": "2022-03-17T09:01:05.400Z"
   },
   {
    "duration": 9,
    "start_time": "2022-03-17T09:02:20.929Z"
   },
   {
    "duration": 3,
    "start_time": "2022-03-17T09:03:58.601Z"
   },
   {
    "duration": 72,
    "start_time": "2022-03-17T09:03:58.606Z"
   },
   {
    "duration": 36,
    "start_time": "2022-03-17T09:03:58.680Z"
   },
   {
    "duration": 10,
    "start_time": "2022-03-17T09:03:58.718Z"
   },
   {
    "duration": 24,
    "start_time": "2022-03-17T09:03:58.731Z"
   },
   {
    "duration": 7,
    "start_time": "2022-03-17T09:03:58.757Z"
   },
   {
    "duration": 7,
    "start_time": "2022-03-17T09:03:58.765Z"
   },
   {
    "duration": 39,
    "start_time": "2022-03-17T09:03:58.774Z"
   },
   {
    "duration": 10,
    "start_time": "2022-03-17T09:03:58.815Z"
   },
   {
    "duration": 5,
    "start_time": "2022-03-17T09:03:58.826Z"
   },
   {
    "duration": 10,
    "start_time": "2022-03-17T09:03:58.832Z"
   },
   {
    "duration": 149,
    "start_time": "2022-03-17T09:03:58.844Z"
   },
   {
    "duration": 21,
    "start_time": "2022-03-17T09:03:58.994Z"
   },
   {
    "duration": 498,
    "start_time": "2022-03-17T09:03:59.019Z"
   },
   {
    "duration": 3,
    "start_time": "2022-03-17T09:03:59.519Z"
   },
   {
    "duration": 13,
    "start_time": "2022-03-17T09:03:59.524Z"
   },
   {
    "duration": 324,
    "start_time": "2022-03-17T09:03:59.538Z"
   },
   {
    "duration": 3,
    "start_time": "2022-03-17T09:03:59.864Z"
   },
   {
    "duration": 18,
    "start_time": "2022-03-17T09:03:59.868Z"
   },
   {
    "duration": 29,
    "start_time": "2022-03-17T09:03:59.888Z"
   },
   {
    "duration": 206,
    "start_time": "2022-03-17T09:03:59.918Z"
   },
   {
    "duration": 31,
    "start_time": "2022-03-17T09:04:00.125Z"
   },
   {
    "duration": 371,
    "start_time": "2022-03-17T09:04:00.158Z"
   },
   {
    "duration": 15,
    "start_time": "2022-03-17T09:04:00.531Z"
   },
   {
    "duration": 25,
    "start_time": "2022-03-17T09:04:00.547Z"
   },
   {
    "duration": 146,
    "start_time": "2022-03-17T09:04:00.574Z"
   },
   {
    "duration": 8,
    "start_time": "2022-03-17T09:04:00.721Z"
   },
   {
    "duration": 17,
    "start_time": "2022-03-17T09:04:00.730Z"
   },
   {
    "duration": 153,
    "start_time": "2022-03-17T09:04:00.749Z"
   },
   {
    "duration": 9,
    "start_time": "2022-03-17T09:04:00.904Z"
   },
   {
    "duration": 122,
    "start_time": "2022-03-17T09:04:00.917Z"
   },
   {
    "duration": 10,
    "start_time": "2022-03-17T09:04:01.042Z"
   },
   {
    "duration": 27,
    "start_time": "2022-03-17T09:04:01.054Z"
   },
   {
    "duration": 252,
    "start_time": "2022-03-17T09:04:01.083Z"
   },
   {
    "duration": 20,
    "start_time": "2022-03-17T09:04:01.337Z"
   },
   {
    "duration": 15,
    "start_time": "2022-03-17T09:04:01.359Z"
   },
   {
    "duration": 36,
    "start_time": "2022-03-17T09:04:01.375Z"
   },
   {
    "duration": 12,
    "start_time": "2022-03-17T09:04:01.413Z"
   },
   {
    "duration": 12,
    "start_time": "2022-03-17T09:04:01.427Z"
   },
   {
    "duration": 22,
    "start_time": "2022-03-17T09:04:01.441Z"
   },
   {
    "duration": 15,
    "start_time": "2022-03-17T09:04:01.468Z"
   },
   {
    "duration": 28,
    "start_time": "2022-03-17T09:04:01.484Z"
   },
   {
    "duration": 133,
    "start_time": "2022-03-17T09:04:01.514Z"
   },
   {
    "duration": 9,
    "start_time": "2022-03-17T09:04:01.648Z"
   },
   {
    "duration": 162,
    "start_time": "2022-03-17T09:04:01.658Z"
   },
   {
    "duration": 9,
    "start_time": "2022-03-17T09:04:01.822Z"
   },
   {
    "duration": 140,
    "start_time": "2022-03-17T09:04:01.832Z"
   },
   {
    "duration": 44,
    "start_time": "2022-03-17T09:04:01.974Z"
   },
   {
    "duration": 9,
    "start_time": "2022-03-17T09:04:02.019Z"
   },
   {
    "duration": 10,
    "start_time": "2022-03-17T09:04:02.029Z"
   },
   {
    "duration": 15,
    "start_time": "2022-03-17T09:08:27.791Z"
   },
   {
    "duration": 21,
    "start_time": "2022-03-17T09:08:52.406Z"
   },
   {
    "duration": 0,
    "start_time": "2022-03-17T09:09:23.203Z"
   },
   {
    "duration": 17,
    "start_time": "2022-03-17T09:09:40.818Z"
   },
   {
    "duration": 11,
    "start_time": "2022-03-17T09:10:10.182Z"
   },
   {
    "duration": 3,
    "start_time": "2022-03-17T09:10:17.244Z"
   },
   {
    "duration": 54,
    "start_time": "2022-03-17T09:10:17.249Z"
   },
   {
    "duration": 167,
    "start_time": "2022-03-17T09:10:17.305Z"
   },
   {
    "duration": 12,
    "start_time": "2022-03-17T09:10:17.474Z"
   },
   {
    "duration": 39,
    "start_time": "2022-03-17T09:10:17.488Z"
   },
   {
    "duration": 7,
    "start_time": "2022-03-17T09:10:17.529Z"
   },
   {
    "duration": 8,
    "start_time": "2022-03-17T09:10:17.538Z"
   },
   {
    "duration": 13,
    "start_time": "2022-03-17T09:10:17.547Z"
   },
   {
    "duration": 10,
    "start_time": "2022-03-17T09:10:17.562Z"
   },
   {
    "duration": 36,
    "start_time": "2022-03-17T09:10:17.574Z"
   },
   {
    "duration": 15,
    "start_time": "2022-03-17T09:10:17.611Z"
   },
   {
    "duration": 148,
    "start_time": "2022-03-17T09:10:17.627Z"
   },
   {
    "duration": 13,
    "start_time": "2022-03-17T09:10:17.777Z"
   },
   {
    "duration": 324,
    "start_time": "2022-03-17T09:10:17.809Z"
   },
   {
    "duration": 3,
    "start_time": "2022-03-17T09:10:18.135Z"
   },
   {
    "duration": 11,
    "start_time": "2022-03-17T09:10:18.141Z"
   },
   {
    "duration": 352,
    "start_time": "2022-03-17T09:10:18.153Z"
   },
   {
    "duration": 2,
    "start_time": "2022-03-17T09:10:18.507Z"
   },
   {
    "duration": 14,
    "start_time": "2022-03-17T09:10:18.511Z"
   },
   {
    "duration": 17,
    "start_time": "2022-03-17T09:10:18.527Z"
   },
   {
    "duration": 209,
    "start_time": "2022-03-17T09:10:18.546Z"
   },
   {
    "duration": 45,
    "start_time": "2022-03-17T09:10:18.757Z"
   },
   {
    "duration": 341,
    "start_time": "2022-03-17T09:10:18.803Z"
   },
   {
    "duration": 15,
    "start_time": "2022-03-17T09:10:19.145Z"
   },
   {
    "duration": 9,
    "start_time": "2022-03-17T09:10:19.161Z"
   },
   {
    "duration": 136,
    "start_time": "2022-03-17T09:10:19.172Z"
   },
   {
    "duration": 7,
    "start_time": "2022-03-17T09:10:19.310Z"
   },
   {
    "duration": 7,
    "start_time": "2022-03-17T09:10:19.319Z"
   },
   {
    "duration": 142,
    "start_time": "2022-03-17T09:10:19.327Z"
   },
   {
    "duration": 6,
    "start_time": "2022-03-17T09:10:19.471Z"
   },
   {
    "duration": 114,
    "start_time": "2022-03-17T09:10:19.479Z"
   },
   {
    "duration": 14,
    "start_time": "2022-03-17T09:10:19.594Z"
   },
   {
    "duration": 13,
    "start_time": "2022-03-17T09:10:19.609Z"
   },
   {
    "duration": 173,
    "start_time": "2022-03-17T09:10:19.624Z"
   },
   {
    "duration": 19,
    "start_time": "2022-03-17T09:10:19.799Z"
   },
   {
    "duration": 11,
    "start_time": "2022-03-17T09:10:19.820Z"
   },
   {
    "duration": 14,
    "start_time": "2022-03-17T09:10:19.833Z"
   },
   {
    "duration": 13,
    "start_time": "2022-03-17T09:10:19.848Z"
   },
   {
    "duration": 43,
    "start_time": "2022-03-17T09:10:19.862Z"
   },
   {
    "duration": 124,
    "start_time": "2022-03-17T09:10:19.907Z"
   },
   {
    "duration": 11,
    "start_time": "2022-03-17T09:10:20.034Z"
   },
   {
    "duration": 8,
    "start_time": "2022-03-17T09:10:20.046Z"
   },
   {
    "duration": 128,
    "start_time": "2022-03-17T09:10:20.055Z"
   },
   {
    "duration": 7,
    "start_time": "2022-03-17T09:10:20.184Z"
   },
   {
    "duration": 120,
    "start_time": "2022-03-17T09:10:20.201Z"
   },
   {
    "duration": 7,
    "start_time": "2022-03-17T09:10:20.323Z"
   },
   {
    "duration": 126,
    "start_time": "2022-03-17T09:10:20.332Z"
   },
   {
    "duration": 23,
    "start_time": "2022-03-17T09:10:20.459Z"
   },
   {
    "duration": 30,
    "start_time": "2022-03-17T09:10:20.484Z"
   },
   {
    "duration": 10,
    "start_time": "2022-03-17T09:10:20.515Z"
   },
   {
    "duration": 12,
    "start_time": "2022-03-17T09:17:50.590Z"
   },
   {
    "duration": 0,
    "start_time": "2022-03-17T09:21:10.199Z"
   },
   {
    "duration": 15,
    "start_time": "2022-03-17T09:21:28.973Z"
   },
   {
    "duration": 15,
    "start_time": "2022-03-17T09:25:44.250Z"
   },
   {
    "duration": 17,
    "start_time": "2022-03-17T09:26:18.750Z"
   },
   {
    "duration": 16,
    "start_time": "2022-03-17T09:26:49.850Z"
   },
   {
    "duration": 18,
    "start_time": "2022-03-17T09:29:56.088Z"
   },
   {
    "duration": 17,
    "start_time": "2022-03-17T09:30:01.656Z"
   },
   {
    "duration": 18,
    "start_time": "2022-03-17T09:30:14.837Z"
   },
   {
    "duration": 14,
    "start_time": "2022-03-17T09:30:21.226Z"
   },
   {
    "duration": 14,
    "start_time": "2022-03-17T09:30:38.146Z"
   },
   {
    "duration": 13,
    "start_time": "2022-03-17T09:34:11.530Z"
   },
   {
    "duration": 8,
    "start_time": "2022-03-17T09:34:14.878Z"
   },
   {
    "duration": 16,
    "start_time": "2022-03-17T09:35:12.179Z"
   },
   {
    "duration": 10,
    "start_time": "2022-03-17T09:50:01.052Z"
   },
   {
    "duration": 18,
    "start_time": "2022-03-17T09:50:17.482Z"
   },
   {
    "duration": 28,
    "start_time": "2022-03-17T09:51:12.409Z"
   },
   {
    "duration": 183,
    "start_time": "2022-03-17T09:53:31.001Z"
   },
   {
    "duration": 164,
    "start_time": "2022-03-17T09:53:45.796Z"
   },
   {
    "duration": 190,
    "start_time": "2022-03-17T09:55:02.180Z"
   },
   {
    "duration": 211,
    "start_time": "2022-03-17T09:55:40.528Z"
   },
   {
    "duration": 170,
    "start_time": "2022-03-17T09:56:17.394Z"
   },
   {
    "duration": 233,
    "start_time": "2022-03-17T09:56:56.359Z"
   },
   {
    "duration": 180,
    "start_time": "2022-03-17T09:57:07.440Z"
   },
   {
    "duration": 4,
    "start_time": "2022-03-17T10:01:51.853Z"
   },
   {
    "duration": 70,
    "start_time": "2022-03-17T10:01:51.859Z"
   },
   {
    "duration": 25,
    "start_time": "2022-03-17T10:01:51.931Z"
   },
   {
    "duration": 7,
    "start_time": "2022-03-17T10:01:51.958Z"
   },
   {
    "duration": 50,
    "start_time": "2022-03-17T10:01:51.967Z"
   },
   {
    "duration": 7,
    "start_time": "2022-03-17T10:01:52.019Z"
   },
   {
    "duration": 6,
    "start_time": "2022-03-17T10:01:52.027Z"
   },
   {
    "duration": 12,
    "start_time": "2022-03-17T10:01:52.035Z"
   },
   {
    "duration": 9,
    "start_time": "2022-03-17T10:01:52.049Z"
   },
   {
    "duration": 4,
    "start_time": "2022-03-17T10:01:52.060Z"
   },
   {
    "duration": 46,
    "start_time": "2022-03-17T10:01:52.066Z"
   },
   {
    "duration": 137,
    "start_time": "2022-03-17T10:01:52.114Z"
   },
   {
    "duration": 12,
    "start_time": "2022-03-17T10:01:52.253Z"
   },
   {
    "duration": 406,
    "start_time": "2022-03-17T10:01:52.268Z"
   },
   {
    "duration": 3,
    "start_time": "2022-03-17T10:01:52.675Z"
   },
   {
    "duration": 30,
    "start_time": "2022-03-17T10:01:52.679Z"
   },
   {
    "duration": 331,
    "start_time": "2022-03-17T10:01:52.711Z"
   },
   {
    "duration": 2,
    "start_time": "2022-03-17T10:01:53.044Z"
   },
   {
    "duration": 14,
    "start_time": "2022-03-17T10:01:53.048Z"
   },
   {
    "duration": 15,
    "start_time": "2022-03-17T10:01:53.064Z"
   },
   {
    "duration": 217,
    "start_time": "2022-03-17T10:01:53.081Z"
   },
   {
    "duration": 37,
    "start_time": "2022-03-17T10:01:53.301Z"
   },
   {
    "duration": 366,
    "start_time": "2022-03-17T10:01:53.340Z"
   },
   {
    "duration": 18,
    "start_time": "2022-03-17T10:01:53.708Z"
   },
   {
    "duration": 5,
    "start_time": "2022-03-17T10:01:53.728Z"
   },
   {
    "duration": 141,
    "start_time": "2022-03-17T10:01:53.734Z"
   },
   {
    "duration": 6,
    "start_time": "2022-03-17T10:01:53.877Z"
   },
   {
    "duration": 17,
    "start_time": "2022-03-17T10:01:53.885Z"
   },
   {
    "duration": 180,
    "start_time": "2022-03-17T10:01:53.908Z"
   },
   {
    "duration": 16,
    "start_time": "2022-03-17T10:01:54.090Z"
   },
   {
    "duration": 120,
    "start_time": "2022-03-17T10:01:54.107Z"
   },
   {
    "duration": 11,
    "start_time": "2022-03-17T10:01:54.228Z"
   },
   {
    "duration": 22,
    "start_time": "2022-03-17T10:01:54.241Z"
   },
   {
    "duration": 219,
    "start_time": "2022-03-17T10:01:54.265Z"
   },
   {
    "duration": 234,
    "start_time": "2022-03-17T10:01:54.486Z"
   },
   {
    "duration": 18,
    "start_time": "2022-03-17T10:01:54.721Z"
   },
   {
    "duration": 11,
    "start_time": "2022-03-17T10:01:54.740Z"
   },
   {
    "duration": 14,
    "start_time": "2022-03-17T10:01:54.753Z"
   },
   {
    "duration": 35,
    "start_time": "2022-03-17T10:01:54.768Z"
   },
   {
    "duration": 20,
    "start_time": "2022-03-17T10:01:54.804Z"
   },
   {
    "duration": 14,
    "start_time": "2022-03-17T10:01:54.828Z"
   },
   {
    "duration": 13,
    "start_time": "2022-03-17T10:01:54.843Z"
   },
   {
    "duration": 7,
    "start_time": "2022-03-17T10:01:54.858Z"
   },
   {
    "duration": 159,
    "start_time": "2022-03-17T10:01:54.867Z"
   },
   {
    "duration": 8,
    "start_time": "2022-03-17T10:01:55.027Z"
   },
   {
    "duration": 131,
    "start_time": "2022-03-17T10:01:55.036Z"
   },
   {
    "duration": 8,
    "start_time": "2022-03-17T10:01:55.168Z"
   },
   {
    "duration": 134,
    "start_time": "2022-03-17T10:01:55.178Z"
   },
   {
    "duration": 26,
    "start_time": "2022-03-17T10:01:55.315Z"
   },
   {
    "duration": 8,
    "start_time": "2022-03-17T10:01:55.342Z"
   },
   {
    "duration": 7,
    "start_time": "2022-03-17T10:01:55.352Z"
   },
   {
    "duration": 280,
    "start_time": "2022-03-17T11:38:16.444Z"
   },
   {
    "duration": 205,
    "start_time": "2022-03-17T11:45:53.482Z"
   },
   {
    "duration": 153,
    "start_time": "2022-03-17T11:48:34.394Z"
   },
   {
    "duration": 152,
    "start_time": "2022-03-17T11:51:33.708Z"
   },
   {
    "duration": 217,
    "start_time": "2022-03-17T11:52:20.393Z"
   },
   {
    "duration": 147,
    "start_time": "2022-03-17T11:53:04.145Z"
   },
   {
    "duration": 155,
    "start_time": "2022-03-17T11:58:41.814Z"
   },
   {
    "duration": 154,
    "start_time": "2022-03-17T11:59:25.052Z"
   },
   {
    "duration": 154,
    "start_time": "2022-03-17T12:00:10.205Z"
   },
   {
    "duration": 157,
    "start_time": "2022-03-17T12:02:05.503Z"
   },
   {
    "duration": 175,
    "start_time": "2022-03-17T12:03:41.258Z"
   },
   {
    "duration": 3,
    "start_time": "2022-03-17T12:09:23.865Z"
   },
   {
    "duration": 64,
    "start_time": "2022-03-17T12:09:23.871Z"
   },
   {
    "duration": 23,
    "start_time": "2022-03-17T12:09:23.937Z"
   },
   {
    "duration": 10,
    "start_time": "2022-03-17T12:09:23.961Z"
   },
   {
    "duration": 51,
    "start_time": "2022-03-17T12:09:23.973Z"
   },
   {
    "duration": 8,
    "start_time": "2022-03-17T12:09:24.025Z"
   },
   {
    "duration": 7,
    "start_time": "2022-03-17T12:09:24.035Z"
   },
   {
    "duration": 17,
    "start_time": "2022-03-17T12:09:24.044Z"
   },
   {
    "duration": 10,
    "start_time": "2022-03-17T12:09:24.062Z"
   },
   {
    "duration": 42,
    "start_time": "2022-03-17T12:09:24.073Z"
   },
   {
    "duration": 13,
    "start_time": "2022-03-17T12:09:24.117Z"
   },
   {
    "duration": 154,
    "start_time": "2022-03-17T12:09:24.131Z"
   },
   {
    "duration": 23,
    "start_time": "2022-03-17T12:09:24.287Z"
   },
   {
    "duration": 415,
    "start_time": "2022-03-17T12:09:24.316Z"
   },
   {
    "duration": 3,
    "start_time": "2022-03-17T12:09:24.733Z"
   },
   {
    "duration": 18,
    "start_time": "2022-03-17T12:09:24.738Z"
   },
   {
    "duration": 353,
    "start_time": "2022-03-17T12:09:24.758Z"
   },
   {
    "duration": 8,
    "start_time": "2022-03-17T12:09:25.113Z"
   },
   {
    "duration": 12,
    "start_time": "2022-03-17T12:09:25.123Z"
   },
   {
    "duration": 15,
    "start_time": "2022-03-17T12:09:25.136Z"
   },
   {
    "duration": 219,
    "start_time": "2022-03-17T12:09:25.153Z"
   },
   {
    "duration": 43,
    "start_time": "2022-03-17T12:09:25.374Z"
   },
   {
    "duration": 349,
    "start_time": "2022-03-17T12:09:25.418Z"
   },
   {
    "duration": 15,
    "start_time": "2022-03-17T12:09:25.770Z"
   },
   {
    "duration": 19,
    "start_time": "2022-03-17T12:09:25.787Z"
   },
   {
    "duration": 130,
    "start_time": "2022-03-17T12:09:25.808Z"
   },
   {
    "duration": 6,
    "start_time": "2022-03-17T12:09:25.940Z"
   },
   {
    "duration": 17,
    "start_time": "2022-03-17T12:09:25.947Z"
   },
   {
    "duration": 159,
    "start_time": "2022-03-17T12:09:25.965Z"
   },
   {
    "duration": 6,
    "start_time": "2022-03-17T12:09:26.126Z"
   },
   {
    "duration": 125,
    "start_time": "2022-03-17T12:09:26.134Z"
   },
   {
    "duration": 9,
    "start_time": "2022-03-17T12:09:26.261Z"
   },
   {
    "duration": 33,
    "start_time": "2022-03-17T12:09:26.271Z"
   },
   {
    "duration": 177,
    "start_time": "2022-03-17T12:09:26.306Z"
   },
   {
    "duration": 172,
    "start_time": "2022-03-17T12:09:26.485Z"
   },
   {
    "duration": 16,
    "start_time": "2022-03-17T12:09:26.658Z"
   },
   {
    "duration": 28,
    "start_time": "2022-03-17T12:09:26.675Z"
   },
   {
    "duration": 154,
    "start_time": "2022-03-17T12:09:26.704Z"
   },
   {
    "duration": 13,
    "start_time": "2022-03-17T12:09:26.860Z"
   },
   {
    "duration": 158,
    "start_time": "2022-03-17T12:09:26.874Z"
   },
   {
    "duration": 12,
    "start_time": "2022-03-17T12:09:27.036Z"
   },
   {
    "duration": 168,
    "start_time": "2022-03-17T12:09:27.049Z"
   },
   {
    "duration": 14,
    "start_time": "2022-03-17T12:09:27.219Z"
   },
   {
    "duration": 161,
    "start_time": "2022-03-17T12:09:27.234Z"
   },
   {
    "duration": 14,
    "start_time": "2022-03-17T12:09:27.400Z"
   },
   {
    "duration": 162,
    "start_time": "2022-03-17T12:09:27.418Z"
   },
   {
    "duration": 11,
    "start_time": "2022-03-17T12:09:27.582Z"
   },
   {
    "duration": 330,
    "start_time": "2022-03-17T12:09:27.607Z"
   },
   {
    "duration": 8,
    "start_time": "2022-03-17T12:09:27.939Z"
   },
   {
    "duration": 130,
    "start_time": "2022-03-17T12:09:27.949Z"
   },
   {
    "duration": 8,
    "start_time": "2022-03-17T12:09:28.080Z"
   },
   {
    "duration": 139,
    "start_time": "2022-03-17T12:09:28.089Z"
   },
   {
    "duration": 7,
    "start_time": "2022-03-17T12:09:28.230Z"
   },
   {
    "duration": 129,
    "start_time": "2022-03-17T12:09:28.239Z"
   },
   {
    "duration": 37,
    "start_time": "2022-03-17T12:09:28.370Z"
   },
   {
    "duration": 10,
    "start_time": "2022-03-17T12:09:28.408Z"
   },
   {
    "duration": 10,
    "start_time": "2022-03-17T12:09:28.420Z"
   },
   {
    "duration": 3,
    "start_time": "2022-03-17T12:18:53.636Z"
   },
   {
    "duration": 56,
    "start_time": "2022-03-17T12:18:53.641Z"
   },
   {
    "duration": 30,
    "start_time": "2022-03-17T12:18:53.699Z"
   },
   {
    "duration": 13,
    "start_time": "2022-03-17T12:18:53.730Z"
   },
   {
    "duration": 24,
    "start_time": "2022-03-17T12:18:53.746Z"
   },
   {
    "duration": 34,
    "start_time": "2022-03-17T12:18:53.772Z"
   },
   {
    "duration": 7,
    "start_time": "2022-03-17T12:18:53.809Z"
   },
   {
    "duration": 18,
    "start_time": "2022-03-17T12:18:53.817Z"
   },
   {
    "duration": 11,
    "start_time": "2022-03-17T12:18:53.836Z"
   },
   {
    "duration": 4,
    "start_time": "2022-03-17T12:18:53.849Z"
   },
   {
    "duration": 12,
    "start_time": "2022-03-17T12:18:53.855Z"
   },
   {
    "duration": 218,
    "start_time": "2022-03-17T12:18:53.869Z"
   },
   {
    "duration": 26,
    "start_time": "2022-03-17T12:18:54.089Z"
   },
   {
    "duration": 282,
    "start_time": "2022-03-17T12:18:54.119Z"
   },
   {
    "duration": 5,
    "start_time": "2022-03-17T12:18:54.403Z"
   },
   {
    "duration": 17,
    "start_time": "2022-03-17T12:18:54.413Z"
   },
   {
    "duration": 457,
    "start_time": "2022-03-17T12:18:54.431Z"
   },
   {
    "duration": 11,
    "start_time": "2022-03-17T12:18:54.890Z"
   },
   {
    "duration": 20,
    "start_time": "2022-03-17T12:18:54.904Z"
   },
   {
    "duration": 18,
    "start_time": "2022-03-17T12:18:54.926Z"
   },
   {
    "duration": 245,
    "start_time": "2022-03-17T12:18:54.946Z"
   },
   {
    "duration": 42,
    "start_time": "2022-03-17T12:18:55.193Z"
   },
   {
    "duration": 391,
    "start_time": "2022-03-17T12:18:55.236Z"
   },
   {
    "duration": 15,
    "start_time": "2022-03-17T12:18:55.629Z"
   },
   {
    "duration": 6,
    "start_time": "2022-03-17T12:18:55.646Z"
   },
   {
    "duration": 145,
    "start_time": "2022-03-17T12:18:55.653Z"
   },
   {
    "duration": 10,
    "start_time": "2022-03-17T12:18:55.800Z"
   },
   {
    "duration": 24,
    "start_time": "2022-03-17T12:18:55.812Z"
   },
   {
    "duration": 187,
    "start_time": "2022-03-17T12:18:55.838Z"
   },
   {
    "duration": 8,
    "start_time": "2022-03-17T12:18:56.027Z"
   },
   {
    "duration": 165,
    "start_time": "2022-03-17T12:18:56.037Z"
   },
   {
    "duration": 10,
    "start_time": "2022-03-17T12:18:56.204Z"
   },
   {
    "duration": 36,
    "start_time": "2022-03-17T12:18:56.216Z"
   },
   {
    "duration": 191,
    "start_time": "2022-03-17T12:18:56.254Z"
   },
   {
    "duration": 186,
    "start_time": "2022-03-17T12:18:56.447Z"
   },
   {
    "duration": 21,
    "start_time": "2022-03-17T12:18:56.635Z"
   },
   {
    "duration": 21,
    "start_time": "2022-03-17T12:18:56.657Z"
   },
   {
    "duration": 413,
    "start_time": "2022-03-17T12:18:56.680Z"
   },
   {
    "duration": 23,
    "start_time": "2022-03-17T12:18:57.095Z"
   },
   {
    "duration": 216,
    "start_time": "2022-03-17T12:18:57.120Z"
   },
   {
    "duration": 14,
    "start_time": "2022-03-17T12:18:57.341Z"
   },
   {
    "duration": 175,
    "start_time": "2022-03-17T12:18:57.357Z"
   },
   {
    "duration": 14,
    "start_time": "2022-03-17T12:18:57.534Z"
   },
   {
    "duration": 275,
    "start_time": "2022-03-17T12:18:57.551Z"
   },
   {
    "duration": 20,
    "start_time": "2022-03-17T12:18:57.828Z"
   },
   {
    "duration": 177,
    "start_time": "2022-03-17T12:18:57.849Z"
   },
   {
    "duration": 16,
    "start_time": "2022-03-17T12:18:58.028Z"
   },
   {
    "duration": 272,
    "start_time": "2022-03-17T12:18:58.046Z"
   },
   {
    "duration": 10,
    "start_time": "2022-03-17T12:18:58.321Z"
   },
   {
    "duration": 151,
    "start_time": "2022-03-17T12:18:58.332Z"
   },
   {
    "duration": 18,
    "start_time": "2022-03-17T12:18:58.485Z"
   },
   {
    "duration": 127,
    "start_time": "2022-03-17T12:18:58.507Z"
   },
   {
    "duration": 8,
    "start_time": "2022-03-17T12:18:58.636Z"
   },
   {
    "duration": 174,
    "start_time": "2022-03-17T12:18:58.646Z"
   },
   {
    "duration": 32,
    "start_time": "2022-03-17T12:18:58.822Z"
   },
   {
    "duration": 16,
    "start_time": "2022-03-17T12:18:58.856Z"
   },
   {
    "duration": 44,
    "start_time": "2022-03-17T12:18:58.874Z"
   },
   {
    "duration": 4,
    "start_time": "2022-03-17T12:23:48.732Z"
   },
   {
    "duration": 80,
    "start_time": "2022-03-17T12:23:48.738Z"
   },
   {
    "duration": 26,
    "start_time": "2022-03-17T12:23:48.820Z"
   },
   {
    "duration": 9,
    "start_time": "2022-03-17T12:23:48.847Z"
   },
   {
    "duration": 23,
    "start_time": "2022-03-17T12:23:48.858Z"
   },
   {
    "duration": 29,
    "start_time": "2022-03-17T12:23:48.883Z"
   },
   {
    "duration": 12,
    "start_time": "2022-03-17T12:23:48.914Z"
   },
   {
    "duration": 25,
    "start_time": "2022-03-17T12:23:48.928Z"
   },
   {
    "duration": 21,
    "start_time": "2022-03-17T12:23:48.955Z"
   },
   {
    "duration": 16,
    "start_time": "2022-03-17T12:23:48.978Z"
   },
   {
    "duration": 22,
    "start_time": "2022-03-17T12:23:48.995Z"
   },
   {
    "duration": 195,
    "start_time": "2022-03-17T12:23:49.019Z"
   },
   {
    "duration": 16,
    "start_time": "2022-03-17T12:23:49.216Z"
   },
   {
    "duration": 297,
    "start_time": "2022-03-17T12:23:49.234Z"
   },
   {
    "duration": 3,
    "start_time": "2022-03-17T12:23:49.533Z"
   },
   {
    "duration": 19,
    "start_time": "2022-03-17T12:23:49.538Z"
   },
   {
    "duration": 460,
    "start_time": "2022-03-17T12:23:49.559Z"
   },
   {
    "duration": 4,
    "start_time": "2022-03-17T12:23:50.021Z"
   },
   {
    "duration": 21,
    "start_time": "2022-03-17T12:23:50.027Z"
   },
   {
    "duration": 22,
    "start_time": "2022-03-17T12:23:50.049Z"
   },
   {
    "duration": 220,
    "start_time": "2022-03-17T12:23:50.073Z"
   },
   {
    "duration": 45,
    "start_time": "2022-03-17T12:23:50.294Z"
   },
   {
    "duration": 673,
    "start_time": "2022-03-17T12:23:50.340Z"
   },
   {
    "duration": 18,
    "start_time": "2022-03-17T12:23:51.017Z"
   },
   {
    "duration": 5,
    "start_time": "2022-03-17T12:23:51.037Z"
   },
   {
    "duration": 138,
    "start_time": "2022-03-17T12:23:51.044Z"
   },
   {
    "duration": 6,
    "start_time": "2022-03-17T12:23:51.184Z"
   },
   {
    "duration": 17,
    "start_time": "2022-03-17T12:23:51.192Z"
   },
   {
    "duration": 134,
    "start_time": "2022-03-17T12:23:51.210Z"
   },
   {
    "duration": 7,
    "start_time": "2022-03-17T12:23:51.345Z"
   },
   {
    "duration": 127,
    "start_time": "2022-03-17T12:23:51.353Z"
   },
   {
    "duration": 10,
    "start_time": "2022-03-17T12:23:51.481Z"
   },
   {
    "duration": 32,
    "start_time": "2022-03-17T12:23:51.492Z"
   },
   {
    "duration": 238,
    "start_time": "2022-03-17T12:23:51.527Z"
   },
   {
    "duration": 245,
    "start_time": "2022-03-17T12:23:51.767Z"
   },
   {
    "duration": 20,
    "start_time": "2022-03-17T12:23:52.014Z"
   },
   {
    "duration": 13,
    "start_time": "2022-03-17T12:23:52.035Z"
   },
   {
    "duration": 214,
    "start_time": "2022-03-17T12:23:52.049Z"
   },
   {
    "duration": 16,
    "start_time": "2022-03-17T12:23:52.265Z"
   },
   {
    "duration": 215,
    "start_time": "2022-03-17T12:23:52.283Z"
   },
   {
    "duration": 15,
    "start_time": "2022-03-17T12:23:52.501Z"
   },
   {
    "duration": 161,
    "start_time": "2022-03-17T12:23:52.518Z"
   },
   {
    "duration": 12,
    "start_time": "2022-03-17T12:23:52.681Z"
   },
   {
    "duration": 186,
    "start_time": "2022-03-17T12:23:52.700Z"
   },
   {
    "duration": 22,
    "start_time": "2022-03-17T12:23:52.888Z"
   },
   {
    "duration": 166,
    "start_time": "2022-03-17T12:23:52.912Z"
   },
   {
    "duration": 22,
    "start_time": "2022-03-17T12:23:53.080Z"
   },
   {
    "duration": 224,
    "start_time": "2022-03-17T12:23:53.104Z"
   },
   {
    "duration": 9,
    "start_time": "2022-03-17T12:23:53.329Z"
   },
   {
    "duration": 127,
    "start_time": "2022-03-17T12:23:53.339Z"
   },
   {
    "duration": 8,
    "start_time": "2022-03-17T12:23:53.468Z"
   },
   {
    "duration": 130,
    "start_time": "2022-03-17T12:23:53.478Z"
   },
   {
    "duration": 9,
    "start_time": "2022-03-17T12:23:53.610Z"
   },
   {
    "duration": 129,
    "start_time": "2022-03-17T12:23:53.621Z"
   },
   {
    "duration": 23,
    "start_time": "2022-03-17T12:23:53.752Z"
   },
   {
    "duration": 32,
    "start_time": "2022-03-17T12:23:53.777Z"
   },
   {
    "duration": 17,
    "start_time": "2022-03-17T12:23:53.811Z"
   },
   {
    "duration": 4,
    "start_time": "2022-03-17T12:27:35.203Z"
   },
   {
    "duration": 85,
    "start_time": "2022-03-17T12:27:35.209Z"
   },
   {
    "duration": 33,
    "start_time": "2022-03-17T12:27:35.308Z"
   },
   {
    "duration": 12,
    "start_time": "2022-03-17T12:27:35.343Z"
   },
   {
    "duration": 25,
    "start_time": "2022-03-17T12:27:35.358Z"
   },
   {
    "duration": 11,
    "start_time": "2022-03-17T12:27:35.401Z"
   },
   {
    "duration": 7,
    "start_time": "2022-03-17T12:27:35.414Z"
   },
   {
    "duration": 16,
    "start_time": "2022-03-17T12:27:35.423Z"
   },
   {
    "duration": 16,
    "start_time": "2022-03-17T12:27:35.441Z"
   },
   {
    "duration": 5,
    "start_time": "2022-03-17T12:27:35.459Z"
   },
   {
    "duration": 47,
    "start_time": "2022-03-17T12:27:35.466Z"
   },
   {
    "duration": 188,
    "start_time": "2022-03-17T12:27:35.515Z"
   },
   {
    "duration": 20,
    "start_time": "2022-03-17T12:27:35.705Z"
   },
   {
    "duration": 358,
    "start_time": "2022-03-17T12:27:35.729Z"
   },
   {
    "duration": 12,
    "start_time": "2022-03-17T12:27:36.089Z"
   },
   {
    "duration": 22,
    "start_time": "2022-03-17T12:27:36.103Z"
   },
   {
    "duration": 336,
    "start_time": "2022-03-17T12:27:36.128Z"
   },
   {
    "duration": 3,
    "start_time": "2022-03-17T12:27:36.466Z"
   },
   {
    "duration": 24,
    "start_time": "2022-03-17T12:27:36.471Z"
   },
   {
    "duration": 25,
    "start_time": "2022-03-17T12:27:36.503Z"
   },
   {
    "duration": 477,
    "start_time": "2022-03-17T12:27:36.530Z"
   },
   {
    "duration": 43,
    "start_time": "2022-03-17T12:27:37.009Z"
   },
   {
    "duration": 477,
    "start_time": "2022-03-17T12:27:37.057Z"
   },
   {
    "duration": 18,
    "start_time": "2022-03-17T12:27:37.535Z"
   },
   {
    "duration": 15,
    "start_time": "2022-03-17T12:27:37.555Z"
   },
   {
    "duration": 137,
    "start_time": "2022-03-17T12:27:37.571Z"
   },
   {
    "duration": 11,
    "start_time": "2022-03-17T12:27:37.710Z"
   },
   {
    "duration": 5,
    "start_time": "2022-03-17T12:27:37.725Z"
   },
   {
    "duration": 157,
    "start_time": "2022-03-17T12:27:37.732Z"
   },
   {
    "duration": 17,
    "start_time": "2022-03-17T12:27:37.891Z"
   },
   {
    "duration": 123,
    "start_time": "2022-03-17T12:27:37.910Z"
   },
   {
    "duration": 15,
    "start_time": "2022-03-17T12:27:38.035Z"
   },
   {
    "duration": 31,
    "start_time": "2022-03-17T12:27:38.052Z"
   },
   {
    "duration": 235,
    "start_time": "2022-03-17T12:27:38.085Z"
   },
   {
    "duration": 185,
    "start_time": "2022-03-17T12:27:38.322Z"
   },
   {
    "duration": 19,
    "start_time": "2022-03-17T12:27:38.509Z"
   },
   {
    "duration": 27,
    "start_time": "2022-03-17T12:27:38.531Z"
   },
   {
    "duration": 162,
    "start_time": "2022-03-17T12:27:38.560Z"
   },
   {
    "duration": 15,
    "start_time": "2022-03-17T12:27:38.723Z"
   },
   {
    "duration": 215,
    "start_time": "2022-03-17T12:27:38.739Z"
   },
   {
    "duration": 15,
    "start_time": "2022-03-17T12:27:38.959Z"
   },
   {
    "duration": 169,
    "start_time": "2022-03-17T12:27:38.976Z"
   },
   {
    "duration": 14,
    "start_time": "2022-03-17T12:27:39.147Z"
   },
   {
    "duration": 174,
    "start_time": "2022-03-17T12:27:39.163Z"
   },
   {
    "duration": 13,
    "start_time": "2022-03-17T12:27:39.339Z"
   },
   {
    "duration": 160,
    "start_time": "2022-03-17T12:27:39.353Z"
   },
   {
    "duration": 14,
    "start_time": "2022-03-17T12:27:39.515Z"
   },
   {
    "duration": 187,
    "start_time": "2022-03-17T12:27:39.531Z"
   },
   {
    "duration": 11,
    "start_time": "2022-03-17T12:27:39.720Z"
   },
   {
    "duration": 138,
    "start_time": "2022-03-17T12:27:39.733Z"
   },
   {
    "duration": 7,
    "start_time": "2022-03-17T12:27:39.873Z"
   },
   {
    "duration": 132,
    "start_time": "2022-03-17T12:27:39.882Z"
   },
   {
    "duration": 12,
    "start_time": "2022-03-17T12:27:40.016Z"
   },
   {
    "duration": 131,
    "start_time": "2022-03-17T12:27:40.030Z"
   },
   {
    "duration": 42,
    "start_time": "2022-03-17T12:27:40.163Z"
   },
   {
    "duration": 18,
    "start_time": "2022-03-17T12:27:40.206Z"
   },
   {
    "duration": 11,
    "start_time": "2022-03-17T12:27:40.226Z"
   },
   {
    "duration": 1472,
    "start_time": "2022-03-17T18:46:58.662Z"
   },
   {
    "duration": 55,
    "start_time": "2022-03-17T18:47:00.136Z"
   },
   {
    "duration": 41,
    "start_time": "2022-03-17T18:47:00.201Z"
   },
   {
    "duration": 11,
    "start_time": "2022-03-17T18:47:00.244Z"
   },
   {
    "duration": 24,
    "start_time": "2022-03-17T18:47:00.257Z"
   },
   {
    "duration": 11,
    "start_time": "2022-03-17T18:47:00.305Z"
   },
   {
    "duration": 11,
    "start_time": "2022-03-17T18:47:00.319Z"
   },
   {
    "duration": 18,
    "start_time": "2022-03-17T18:47:00.332Z"
   },
   {
    "duration": 18,
    "start_time": "2022-03-17T18:47:00.352Z"
   },
   {
    "duration": 29,
    "start_time": "2022-03-17T18:47:00.374Z"
   },
   {
    "duration": 21,
    "start_time": "2022-03-17T18:47:00.406Z"
   },
   {
    "duration": 221,
    "start_time": "2022-03-17T18:47:00.429Z"
   },
   {
    "duration": 18,
    "start_time": "2022-03-17T18:47:00.652Z"
   },
   {
    "duration": 370,
    "start_time": "2022-03-17T18:47:00.672Z"
   },
   {
    "duration": 3,
    "start_time": "2022-03-17T18:47:01.044Z"
   },
   {
    "duration": 26,
    "start_time": "2022-03-17T18:47:01.049Z"
   },
   {
    "duration": 417,
    "start_time": "2022-03-17T18:47:01.076Z"
   },
   {
    "duration": 5,
    "start_time": "2022-03-17T18:47:01.501Z"
   },
   {
    "duration": 29,
    "start_time": "2022-03-17T18:47:01.509Z"
   },
   {
    "duration": 24,
    "start_time": "2022-03-17T18:47:01.540Z"
   },
   {
    "duration": 275,
    "start_time": "2022-03-17T18:47:01.566Z"
   },
   {
    "duration": 64,
    "start_time": "2022-03-17T18:47:01.843Z"
   },
   {
    "duration": 541,
    "start_time": "2022-03-17T18:47:01.911Z"
   },
   {
    "duration": 16,
    "start_time": "2022-03-17T18:47:02.454Z"
   },
   {
    "duration": 46,
    "start_time": "2022-03-17T18:47:02.472Z"
   },
   {
    "duration": 165,
    "start_time": "2022-03-17T18:47:02.520Z"
   },
   {
    "duration": 7,
    "start_time": "2022-03-17T18:47:02.687Z"
   },
   {
    "duration": 7,
    "start_time": "2022-03-17T18:47:04.356Z"
   },
   {
    "duration": 3,
    "start_time": "2022-03-17T18:47:05.220Z"
   },
   {
    "duration": 7,
    "start_time": "2022-03-17T18:47:06.986Z"
   },
   {
    "duration": 10,
    "start_time": "2022-03-17T18:47:08.999Z"
   },
   {
    "duration": 7,
    "start_time": "2022-03-17T18:47:16.170Z"
   },
   {
    "duration": 3,
    "start_time": "2022-03-17T18:47:26.574Z"
   },
   {
    "duration": 6,
    "start_time": "2022-03-17T18:47:28.272Z"
   }
  ],
  "kernelspec": {
   "display_name": "Python 3 (ipykernel)",
   "language": "python",
   "name": "python3"
  },
  "language_info": {
   "codemirror_mode": {
    "name": "ipython",
    "version": 3
   },
   "file_extension": ".py",
   "mimetype": "text/x-python",
   "name": "python",
   "nbconvert_exporter": "python",
   "pygments_lexer": "ipython3",
   "version": "3.9.5"
  },
  "toc": {
   "base_numbering": 1,
   "nav_menu": {},
   "number_sections": true,
   "sideBar": true,
   "skip_h1_title": true,
   "title_cell": "Table of Contents",
   "title_sidebar": "Contents",
   "toc_cell": false,
   "toc_position": {},
   "toc_section_display": true,
   "toc_window_display": false
  }
 },
 "nbformat": 4,
 "nbformat_minor": 2
}
